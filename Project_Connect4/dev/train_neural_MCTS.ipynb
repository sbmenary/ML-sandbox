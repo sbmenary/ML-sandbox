{
 "cells": [
  {
   "cell_type": "markdown",
   "id": "d69d1a5f",
   "metadata": {},
   "source": [
    "# Connect 4\n",
    "\n",
    "---\n",
    "\n",
    "Author: S. Menary [sbmenary@gmail.com]\n",
    "\n",
    "Date  : 2023-01-15, last edit 2023-01-18\n",
    "\n",
    "Brief : Develop a bot using a neural network bot with Monte Carlo Tree Search (MCTS)\n",
    "\n",
    "---\n",
    "\n",
    "## Notes\n",
    "\n",
    "- apply random reflections to exploit parity symmetry\n",
    "- represent all inputs from perspective of current player, so +1 for self and -1 for other"
   ]
  },
  {
   "cell_type": "markdown",
   "id": "ef54ef68",
   "metadata": {},
   "source": [
    "## Imports"
   ]
  },
  {
   "cell_type": "code",
   "execution_count": 1,
   "id": "ff93cc0a",
   "metadata": {},
   "outputs": [],
   "source": [
    "###\n",
    "###  Required imports\n",
    "###  - all imports should be placed here\n",
    "###\n",
    "\n",
    "\n",
    "##  Python core libs\n",
    "import pickle, sys, time\n",
    "\n",
    "##  PyPI libs\n",
    "import numpy as np\n",
    "from matplotlib import pyplot as plt\n",
    "\n",
    "##  Local packages\n",
    "from connect4.utils    import DebugLevel\n",
    "from connect4.game     import BinaryPlayer, GameBoard, GameResult\n",
    "from connect4.MCTS     import Node_NeuralMCTS\n",
    "from connect4.bot      import Bot_NeuralMCTS, Bot_VanillaMCTS\n",
    "from connect4.parallel import generate_from_processes\n"
   ]
  },
  {
   "cell_type": "code",
   "execution_count": 2,
   "id": "f7e7c892",
   "metadata": {},
   "outputs": [
    {
     "name": "stdout",
     "output_type": "stream",
     "text": [
      "      Python version is 3.10.8 | packaged by conda-forge | (main, Nov 22 2022, 08:25:29) [Clang 14.0.6 ]\n",
      "       Numpy version is 1.23.2\n"
     ]
    }
   ],
   "source": [
    "###\n",
    "###  Print version for reproducibility\n",
    "###\n",
    "\n",
    "print(f\"{'Python'    .rjust(12)} version is {sys.version}\")\n",
    "print(f\"{'Numpy'     .rjust(12)} version is {np.__version__}\")\n"
   ]
  },
  {
   "cell_type": "code",
   "execution_count": 3,
   "id": "094a5692",
   "metadata": {},
   "outputs": [
    {
     "name": "stdout",
     "output_type": "stream",
     "text": [
      "Using old model: ../models/.neural_model_v4.h5\n",
      "Using new model: ../models/.neural_model_v5.h5\n"
     ]
    }
   ],
   "source": [
    "###\n",
    "###  Global config\n",
    "###\n",
    "\n",
    "model_idx = 5\n",
    "old_model_name = f\"../models/.neural_model_v{model_idx-1}.h5\"\n",
    "new_model_name = f\"../models/.neural_model_v{model_idx}.h5\"\n",
    "\n",
    "print(f\"Using old model: {old_model_name}\")\n",
    "print(f\"Using new model: {new_model_name}\")\n"
   ]
  },
  {
   "cell_type": "code",
   "execution_count": 4,
   "id": "1a900a46",
   "metadata": {
    "scrolled": true
   },
   "outputs": [],
   "source": [
    "\n",
    "def get_training_data_from_bot_game(model, duration:int=1, discount=1., debug_lvl:DebugLevel=DebugLevel.MUTE) :\n",
    "    ##  Create game and bot\n",
    "    game_board = GameBoard()\n",
    "    bot        = Bot_NeuralMCTS(model) if model else Bot_VanillaMCTS()\n",
    "    debug_lvl.message(DebugLevel.LOW, f\"Using bot {bot}\")\n",
    "    debug_lvl.message(DebugLevel.LOW, game_board)\n",
    "\n",
    "    ##  Create containers for model input and output\n",
    "    model_inputs, posteriors, values = [], [], []\n",
    "\n",
    "    ##  Take moves until end of game, storing model in and target out at each turn\n",
    "    ##  - values currently equal to +1 if the move is player X and -1 for player O\n",
    "    ##  -  N.B. we do not invert sign of model_input because this already done by root_node\n",
    "    result = game_board.get_result()\n",
    "    while not result :\n",
    "        bot.take_move(game_board, duration=duration, discount=discount, debug_lvl=debug_lvl)\n",
    "        debug_lvl.message(DebugLevel.LOW, game_board)\n",
    "        if model : \n",
    "            model_input = bot.root_node.model_input\n",
    "        else : \n",
    "            model_input = bot.root_node.game_board.board.reshape((game_board.horizontal_size, game_board.vertical_size, 1))\n",
    "            if bot.root_node.player == BinaryPlayer.O : model_input = -model_input\n",
    "        model_inputs.append(model_input)\n",
    "        posteriors  .append(bot.root_node.get_posterior_policy())\n",
    "        values      .append(bot.root_node.player.value)\n",
    "        result = game_board.get_result()\n",
    "        \n",
    "    ##  Resolve values\n",
    "    backprop_value = result.get_game_score_for_player(BinaryPlayer.X)\n",
    "    for idx in range(len(values)) :\n",
    "        values[-1-idx] *= backprop_value\n",
    "        backprop_value *= discount\n",
    "\n",
    "    ##  Return containers as np arrays\n",
    "    return np.array(model_inputs), np.array(posteriors), np.array(values).reshape((len(values),1))\n"
   ]
  },
  {
   "cell_type": "markdown",
   "id": "a929b157",
   "metadata": {},
   "source": [
    "##  Test neural model MCTS\n",
    "\n",
    "- Test that we can propagate values and make decisions correctly with neural MCTS\n",
    "- Find a good value for the duration parameter, (smallest value that allows us to make stable posteriors)\n",
    "- Cannot run these cells when doing regular run, since tf cannot be used in main process before spawning children\n"
   ]
  },
  {
   "cell_type": "code",
   "execution_count": 5,
   "id": "e83b333f",
   "metadata": {
    "scrolled": true
   },
   "outputs": [
    {
     "data": {
      "text/plain": [
       "'from connect4.neural import load_model\\n\\n##  Create game board\\ngame_board = GameBoard()\\nprint(f\"\\nInitial game board:\\n{game_board}\")\\n\\n##  Create a root node at the current game state\\nmodel      = load_model(old_model_name)\\nroot_node  = Node_NeuralMCTS(game_board, params=[model, 1.], label=\"ROOT\")\\n\\n##  Print the initial value tree (should be a ROOT node with no children)\\nprint(\"Initial tree:\")\\nprint(root_node.tree_summary())\\nprint()\\n\\n##  Perform several MCTS steps with a HIGH debug level\\nroot_node.multi_step_MCTS(num_steps=10, max_sim_steps=-1, discount=0.99, debug_lvl=DebugLevel.MEDIUM)\\n\\n##  Print the updated value tree \\nprint(\"Updated tree:\")\\nprint(root_node.tree_summary())\\nprint()'"
      ]
     },
     "execution_count": 5,
     "metadata": {},
     "output_type": "execute_result"
    }
   ],
   "source": [
    "###\n",
    "###  Perform a few MCTS steps\n",
    "###\n",
    "\n",
    "'''from connect4.neural import load_model\n",
    "\n",
    "##  Create game board\n",
    "game_board = GameBoard()\n",
    "print(f\"\\nInitial game board:\\n{game_board}\")\n",
    "\n",
    "##  Create a root node at the current game state\n",
    "model      = load_model(old_model_name)\n",
    "root_node  = Node_NeuralMCTS(game_board, params=[model, 1.], label=\"ROOT\")\n",
    "\n",
    "##  Print the initial value tree (should be a ROOT node with no children)\n",
    "print(\"Initial tree:\")\n",
    "print(root_node.tree_summary())\n",
    "print()\n",
    "\n",
    "##  Perform several MCTS steps with a HIGH debug level\n",
    "root_node.multi_step_MCTS(num_steps=10, max_sim_steps=-1, discount=0.99, debug_lvl=DebugLevel.MEDIUM)\n",
    "\n",
    "##  Print the updated value tree \n",
    "print(\"Updated tree:\")\n",
    "print(root_node.tree_summary())\n",
    "print()'''\n"
   ]
  },
  {
   "cell_type": "code",
   "execution_count": 6,
   "id": "3af26ebf",
   "metadata": {},
   "outputs": [
    {
     "data": {
      "text/plain": [
       "'\\nmodel_inputs, posteriors, values = get_training_data_from_bot_game(model, duration=0.1, discount=0.99)\\n\\nfor inp, pos, val in zip(model_inputs, posteriors, values) :\\n    print(inp[:,:,0], \",  posterior=\"+\"  \".join([f\"{x:.2f}\" for x in pos]), f\",  value = {val[0]:.3f}\")\\n    '"
      ]
     },
     "execution_count": 6,
     "metadata": {},
     "output_type": "execute_result"
    }
   ],
   "source": [
    "###\n",
    "###  Check that a game looks sensible\n",
    "###\n",
    "\n",
    "'''\n",
    "model_inputs, posteriors, values = get_training_data_from_bot_game(model, duration=0.1, discount=0.99)\n",
    "\n",
    "for inp, pos, val in zip(model_inputs, posteriors, values) :\n",
    "    print(inp[:,:,0], \",  posterior=\"+\"  \".join([f\"{x:.2f}\" for x in pos]), f\",  value = {val[0]:.3f}\")\n",
    "    '''"
   ]
  },
  {
   "cell_type": "code",
   "execution_count": 7,
   "id": "3a3dcbdb",
   "metadata": {
    "scrolled": true
   },
   "outputs": [
    {
     "data": {
      "text/plain": [
       "'\\ngame_board = GameBoard()\\nbot = Bot_NeuralMCTS(model)\\n\\nwhile not game_board.get_result() :\\n    action = bot.choose_action(game_board, duration=3, discount=0.99, debug_lvl=DebugLevel.LOW)\\n    print(\"Prior policy:  \" + \"  \".join([f\"{c:.2f}\" for c in bot.root_node.child_priors]))\\n    print(\"Prior values:  \" + \"  \".join([f\"{c.prior_value:.2f}\" for c in bot.root_node.children]))\\n    game_board.apply_action(action)\\n    print(game_board)\\n'"
      ]
     },
     "execution_count": 7,
     "metadata": {},
     "output_type": "execute_result"
    }
   ],
   "source": [
    "###\n",
    "###  Use MCTS to search for an optimal action\n",
    "###\n",
    "\n",
    "'''\n",
    "game_board = GameBoard()\n",
    "bot = Bot_NeuralMCTS(model)\n",
    "\n",
    "while not game_board.get_result() :\n",
    "    action = bot.choose_action(game_board, duration=3, discount=0.99, debug_lvl=DebugLevel.LOW)\n",
    "    print(\"Prior policy:  \" + \"  \".join([f\"{c:.2f}\" for c in bot.root_node.child_priors]))\n",
    "    print(\"Prior values:  \" + \"  \".join([f\"{c.prior_value:.2f}\" for c in bot.root_node.children]))\n",
    "    game_board.apply_action(action)\n",
    "    print(game_board)\n",
    "'''"
   ]
  },
  {
   "cell_type": "markdown",
   "id": "ccad4ef1",
   "metadata": {},
   "source": [
    "## Multiprocess datapoint generation"
   ]
  },
  {
   "cell_type": "code",
   "execution_count": 8,
   "id": "e50c3b49",
   "metadata": {},
   "outputs": [],
   "source": [
    "\n",
    "def generate_datapoints_process(proc_idx, num_games, out_queue, argv) :\n",
    "    from connect4.neural import load_model\n",
    "    model_name, duration, discount, base_seed = argv\n",
    "    np.random.seed(base_seed+proc_idx)\n",
    "    model = load_model(model_name) if len(model_name) > 0 else None\n",
    "    for game_idx in range(num_games) :\n",
    "        _ = get_training_data_from_bot_game(model, duration, discount)\n",
    "        out_queue.put(_)\n"
   ]
  },
  {
   "cell_type": "code",
   "execution_count": 9,
   "id": "dc26dd5c",
   "metadata": {},
   "outputs": [
    {
     "name": "stdout",
     "output_type": "stream",
     "text": [
      "Generated 21 / 21 results [t=45.06s]\n",
      "Generation complete [t=45.06s] [n=21]\n"
     ]
    }
   ],
   "source": [
    "###\n",
    "###  Generate training data\n",
    "###\n",
    "\n",
    "num_processes      = 7\n",
    "num_games_per_proc = 3\n",
    "base_seed          = 10\n",
    "duration           = .5\n",
    "discount           = 0.99\n",
    "monitor_frequency  = 3\n",
    "\n",
    "results = generate_from_processes(\n",
    "    func                 = generate_datapoints_process, \n",
    "    func_args            = [old_model_name, duration, discount, base_seed],\n",
    "    num_proc             = num_processes, \n",
    "    num_results_per_proc = num_games_per_proc, \n",
    "    mon_freq             = monitor_frequency)\n",
    "                              \n",
    "##  Retrieve training data from worker thread\n",
    "\n",
    "model_in = np.concatenate([r[0] for r in results])\n",
    "model_p  = np.concatenate([r[1] for r in results])\n",
    "model_v  = np.concatenate([r[2] for r in results])\n"
   ]
  },
  {
   "cell_type": "code",
   "execution_count": 10,
   "id": "6a7cdc87",
   "metadata": {},
   "outputs": [
    {
     "data": {
      "text/plain": [
       "'\\ndata_fname = f\"../data/.training_data_v{model_idx}.pickle\"\\nloaded     = pickle.load(open(data_fname, \"wb\"))\\nprint(f\"Generated data loaded from file: {data_fname}\")\\n'"
      ]
     },
     "execution_count": 10,
     "metadata": {},
     "output_type": "execute_result"
    }
   ],
   "source": [
    "###\n",
    "###  Load expensive generated data\n",
    "###\n",
    "'''\n",
    "data_fname = f\"../data/.training_data_v{model_idx}.pickle\"\n",
    "loaded     = pickle.load(open(data_fname, \"wb\"))\n",
    "print(f\"Generated data loaded from file: {data_fname}\")\n",
    "'''"
   ]
  },
  {
   "cell_type": "code",
   "execution_count": 11,
   "id": "41f81921",
   "metadata": {
    "scrolled": true
   },
   "outputs": [
    {
     "name": "stdout",
     "output_type": "stream",
     "text": [
      "[[0 0 0 0 0 0]\n",
      " [0 0 0 0 0 0]\n",
      " [0 0 0 0 0 0]\n",
      " [0 0 0 0 0 0]\n",
      " [0 0 0 0 0 0]\n",
      " [0 0 0 0 0 0]\n",
      " [0 0 0 0 0 0]] ,  posterior=0.03  0.06  0.03  0.76  0.03  0.06  0.03 ,  value = -0.895\n",
      "[[ 0  0  0  0  0  0]\n",
      " [-1  0  0  0  0  0]\n",
      " [ 0  0  0  0  0  0]\n",
      " [ 0  0  0  0  0  0]\n",
      " [ 0  0  0  0  0  0]\n",
      " [ 0  0  0  0  0  0]\n",
      " [ 0  0  0  0  0  0]] ,  posterior=0.03  0.03  0.03  0.83  0.03  0.03  0.03 ,  value = 0.904\n",
      "[[-1  0  0  0  0  0]\n",
      " [ 1  0  0  0  0  0]\n",
      " [ 0  0  0  0  0  0]\n",
      " [ 0  0  0  0  0  0]\n",
      " [ 0  0  0  0  0  0]\n",
      " [ 0  0  0  0  0  0]\n",
      " [ 0  0  0  0  0  0]] ,  posterior=0.02  0.02  0.02  0.86  0.02  0.02  0.02 ,  value = -0.914\n",
      "[[ 1  0  0  0  0  0]\n",
      " [-1  0  0  0  0  0]\n",
      " [ 0  0  0  0  0  0]\n",
      " [-1  0  0  0  0  0]\n",
      " [ 0  0  0  0  0  0]\n",
      " [ 0  0  0  0  0  0]\n",
      " [ 0  0  0  0  0  0]] ,  posterior=0.04  0.11  0.04  0.13  0.63  0.02  0.02 ,  value = 0.923\n",
      "[[-1  0  0  0  0  0]\n",
      " [ 1  0  0  0  0  0]\n",
      " [-1  0  0  0  0  0]\n",
      " [ 1  0  0  0  0  0]\n",
      " [ 0  0  0  0  0  0]\n",
      " [ 0  0  0  0  0  0]\n",
      " [ 0  0  0  0  0  0]] ,  posterior=0.02  0.07  0.20  0.53  0.07  0.04  0.07 ,  value = -0.932\n",
      "[[ 1  0  0  0  0  0]\n",
      " [-1  0  0  0  0  0]\n",
      " [ 1 -1  0  0  0  0]\n",
      " [-1  0  0  0  0  0]\n",
      " [ 0  0  0  0  0  0]\n",
      " [ 0  0  0  0  0  0]\n",
      " [ 0  0  0  0  0  0]] ,  posterior=0.02  0.09  0.09  0.63  0.12  0.02  0.02 ,  value = 0.941\n",
      "[[-1  0  0  0  0  0]\n",
      " [ 1  0  0  0  0  0]\n",
      " [-1  1  0  0  0  0]\n",
      " [ 1 -1  0  0  0  0]\n",
      " [ 0  0  0  0  0  0]\n",
      " [ 0  0  0  0  0  0]\n",
      " [ 0  0  0  0  0  0]] ,  posterior=0.02  0.02  0.09  0.79  0.02  0.02  0.02 ,  value = -0.951\n",
      "[[ 1  0  0  0  0  0]\n",
      " [-1  0  0  0  0  0]\n",
      " [ 1 -1  0  0  0  0]\n",
      " [-1  1 -1  0  0  0]\n",
      " [ 0  0  0  0  0  0]\n",
      " [ 0  0  0  0  0  0]\n",
      " [ 0  0  0  0  0  0]] ,  posterior=0.02  0.04  0.12  0.73  0.04  0.02  0.02 ,  value = 0.961\n",
      "[[-1  0  0  0  0  0]\n",
      " [ 1  0  0  0  0  0]\n",
      " [-1  1  0  0  0  0]\n",
      " [ 1 -1  1 -1  0  0]\n",
      " [ 0  0  0  0  0  0]\n",
      " [ 0  0  0  0  0  0]\n",
      " [ 0  0  0  0  0  0]] ,  posterior=0.02  0.02  0.70  0.02  0.02  0.20  0.02 ,  value = -0.970\n",
      "[[ 1  0  0  0  0  0]\n",
      " [-1  0  0  0  0  0]\n",
      " [ 1 -1  0  0  0  0]\n",
      " [-1  1 -1  1  0  0]\n",
      " [-1  0  0  0  0  0]\n",
      " [ 0  0  0  0  0  0]\n",
      " [ 0  0  0  0  0  0]] ,  posterior=0.03  0.03  0.84  0.03  0.03  0.03  0.03 ,  value = 0.980\n",
      "[[-1  0  0  0  0  0]\n",
      " [ 1  0  0  0  0  0]\n",
      " [-1  1 -1  0  0  0]\n",
      " [ 1 -1  1 -1  0  0]\n",
      " [ 1  0  0  0  0  0]\n",
      " [ 0  0  0  0  0  0]\n",
      " [ 0  0  0  0  0  0]] ,  posterior=0.05  0.03  0.33  0.22  0.13  0.23  0.01 ,  value = -0.990\n",
      "[[ 1  0  0  0  0  0]\n",
      " [-1  0  0  0  0  0]\n",
      " [ 1 -1  1 -1  0  0]\n",
      " [-1  1 -1  1  0  0]\n",
      " [-1  0  0  0  0  0]\n",
      " [ 0  0  0  0  0  0]\n",
      " [ 0  0  0  0  0  0]] ,  posterior=0.00  0.95  0.02  0.01  0.01  0.00  0.00 ,  value = 1.000\n"
     ]
    }
   ],
   "source": [
    "###\n",
    "###  Sanity-check a game\n",
    "###\n",
    "\n",
    "test_model_inputs, test_posteriors, test_values = results[0]\n",
    "\n",
    "for inp, pos, val in zip(test_model_inputs, test_posteriors, test_values) :\n",
    "    print(inp[:,:,0], \",  posterior=\"+\"  \".join([f\"{x:.2f}\" for x in pos]), f\",  value = {val[0]:.3f}\")\n"
   ]
  },
  {
   "cell_type": "code",
   "execution_count": 12,
   "id": "1666a9a5",
   "metadata": {},
   "outputs": [
    {
     "name": "stdout",
     "output_type": "stream",
     "text": [
      "Generated data saved to file: ../data/.training_data_v5.pickle\n"
     ]
    }
   ],
   "source": [
    "###\n",
    "###  Save expensive generated data\n",
    "###\n",
    "\n",
    "data_fname = f\"../data/.training_data_v{model_idx}.pickle\"\n",
    "to_save    = {\"model_in\":model_in, \"model_p\":model_p, \"model_v\":model_v}\n",
    "pickle.dump(to_save, open(data_fname, \"wb\"))\n",
    "print(f\"Generated data saved to file: {data_fname}\")\n"
   ]
  },
  {
   "cell_type": "code",
   "execution_count": 13,
   "id": "4bc238c9",
   "metadata": {},
   "outputs": [
    {
     "name": "stdout",
     "output_type": "stream",
     "text": [
      "model_in with shape: (431, 7, 6, 1)\n",
      "model_p  with shape: (431, 7)\n",
      "model_v  with shape: (431, 1)\n"
     ]
    }
   ],
   "source": [
    "###\n",
    "###  Report on the data generated\n",
    "###\n",
    "\n",
    "print(f\"model_in with shape: {model_in.shape}\")\n",
    "print(f\"model_p  with shape: {model_p .shape}\")\n",
    "print(f\"model_v  with shape: {model_v .shape}\")"
   ]
  },
  {
   "cell_type": "code",
   "execution_count": 14,
   "id": "63144cc0",
   "metadata": {},
   "outputs": [
    {
     "name": "stdout",
     "output_type": "stream",
     "text": [
      "Print first few inputs:\n",
      "[[0 0 0 0 0 0]\n",
      " [0 0 0 0 0 0]\n",
      " [0 0 0 0 0 0]\n",
      " [0 0 0 0 0 0]\n",
      " [0 0 0 0 0 0]\n",
      " [0 0 0 0 0 0]\n",
      " [0 0 0 0 0 0]]\n",
      "[[ 0  0  0  0  0  0]\n",
      " [-1  0  0  0  0  0]\n",
      " [ 0  0  0  0  0  0]\n",
      " [ 0  0  0  0  0  0]\n",
      " [ 0  0  0  0  0  0]\n",
      " [ 0  0  0  0  0  0]\n",
      " [ 0  0  0  0  0  0]]\n",
      "[[-1  0  0  0  0  0]\n",
      " [ 1  0  0  0  0  0]\n",
      " [ 0  0  0  0  0  0]\n",
      " [ 0  0  0  0  0  0]\n",
      " [ 0  0  0  0  0  0]\n",
      " [ 0  0  0  0  0  0]\n",
      " [ 0  0  0  0  0  0]]\n",
      "\n",
      "Print first few policies\n",
      "0.03,  0.06,  0.03,  0.76,  0.03,  0.06,  0.03\n",
      "0.03,  0.03,  0.03,  0.83,  0.03,  0.03,  0.03\n",
      "0.02,  0.02,  0.02,  0.86,  0.02,  0.02,  0.02\n",
      "\n",
      "Print first few values\n",
      "-0.90\n",
      "0.90\n",
      "-0.91\n"
     ]
    }
   ],
   "source": [
    "###\n",
    "###  Sanity-check a few datapoints\n",
    "###\n",
    "\n",
    "test_indices = np.arange(3) \n",
    "\n",
    "print(\"Print first few inputs:\")\n",
    "for i in test_indices : print(model_in[i,:,:,0])\n",
    "\n",
    "print(\"\\nPrint first few policies\")\n",
    "for i in test_indices : print(\",  \".join([f\"{p:.2f}\" for p in model_p[i]]))\n",
    "\n",
    "print(\"\\nPrint first few values\")\n",
    "for i in test_indices : print(\",  \".join([f\"{v:.2f}\" for v in model_v[i]]))\n"
   ]
  },
  {
   "cell_type": "code",
   "execution_count": 15,
   "id": "82ef1d16",
   "metadata": {},
   "outputs": [
    {
     "name": "stdout",
     "output_type": "stream",
     "text": [
      "Created training set of size 301\n",
      "Created validation set of size 130\n"
     ]
    }
   ],
   "source": [
    "###\n",
    "###  Data Augmentation and splitting\n",
    "###\n",
    "\n",
    "#  Randomly flip board and posterior in x-direction to created augmented dataset reflecting game symmetry\n",
    "for idx in range(len(model_in)) :\n",
    "    if np.random.choice([True, False]) : continue\n",
    "    model_in[idx] = np.flip(model_in[idx], axis=0)\n",
    "    model_p [idx] = np.flip(model_p [idx], axis=0)\n",
    "\n",
    "##  Shuffle data\n",
    "indices = np.arange(len(model_in))\n",
    "np.random.shuffle(indices)\n",
    "model_in, model_p, model_v = model_in[indices], model_p [indices], model_v [indices]\n",
    "\n",
    "##  Split data into train and val sets\n",
    "num_datapoints = len(model_in)\n",
    "split_idx = int(0.7*num_datapoints)\n",
    "\n",
    "train_model_in = model_in[:split_idx]\n",
    "train_model_p  = model_p [:split_idx]\n",
    "train_model_v  = model_v [:split_idx]\n",
    "\n",
    "val_model_in = model_in[split_idx:]\n",
    "val_model_p  = model_p [split_idx:]\n",
    "val_model_v  = model_v [split_idx:]\n",
    "\n",
    "print(f\"Created training set of size {len(train_model_v)}\")\n",
    "print(f\"Created validation set of size {len(val_model_v)}\")\n"
   ]
  },
  {
   "cell_type": "code",
   "execution_count": 16,
   "id": "ea6c950d",
   "metadata": {
    "scrolled": true
   },
   "outputs": [
    {
     "name": "stdout",
     "output_type": "stream",
     "text": [
      "Model: \"../models/.neural_model_v2.h5\"\n",
      "__________________________________________________________________________________________________\n",
      " Layer (type)                   Output Shape         Param #     Connected to                     \n",
      "==================================================================================================\n",
      " game_board_input (InputLayer)  [(None, 7, 6, 1)]    0           []                               \n",
      "                                                                                                  \n",
      " conv0_conv2d (Conv2D)          (None, 7, 6, 40)     400         ['game_board_input[0][0]']       \n",
      "                                                                                                  \n",
      " conv0_skipconnect (Concatenate  (None, 7, 6, 41)    0           ['conv0_conv2d[0][0]',           \n",
      " )                                                                'game_board_input[0][0]']       \n",
      "                                                                                                  \n",
      " conv0_dropout (Dropout)        (None, 7, 6, 41)     0           ['conv0_skipconnect[0][0]']      \n",
      "                                                                                                  \n",
      " conv1_conv2d (Conv2D)          (None, 7, 6, 40)     14800       ['conv0_dropout[0][0]']          \n",
      "                                                                                                  \n",
      " conv1_skipconnect (Concatenate  (None, 7, 6, 81)    0           ['conv1_conv2d[0][0]',           \n",
      " )                                                                'conv0_dropout[0][0]']          \n",
      "                                                                                                  \n",
      " conv1_dropout (Dropout)        (None, 7, 6, 81)     0           ['conv1_skipconnect[0][0]']      \n",
      "                                                                                                  \n",
      " conv2_conv2d (Conv2D)          (None, 7, 6, 40)     29200       ['conv1_dropout[0][0]']          \n",
      "                                                                                                  \n",
      " conv2_skipconnect (Concatenate  (None, 7, 6, 121)   0           ['conv2_conv2d[0][0]',           \n",
      " )                                                                'conv1_dropout[0][0]']          \n",
      "                                                                                                  \n",
      " conv2_dropout (Dropout)        (None, 7, 6, 121)    0           ['conv2_skipconnect[0][0]']      \n",
      "                                                                                                  \n",
      " conv3_conv2d (Conv2D)          (None, 7, 6, 40)     43600       ['conv2_dropout[0][0]']          \n",
      "                                                                                                  \n",
      " conv3_skipconnect (Concatenate  (None, 7, 6, 161)   0           ['conv3_conv2d[0][0]',           \n",
      " )                                                                'conv2_dropout[0][0]']          \n",
      "                                                                                                  \n",
      " conv3_dropout (Dropout)        (None, 7, 6, 161)    0           ['conv3_skipconnect[0][0]']      \n",
      "                                                                                                  \n",
      " flatten (Flatten)              (None, 6762)         0           ['conv3_dropout[0][0]']          \n",
      "                                                                                                  \n",
      " dense0_feedforward (Dense)     (None, 400)          2705200     ['flatten[0][0]']                \n",
      "                                                                                                  \n",
      " dense0_dropout (Dropout)       (None, 400)          0           ['dense0_feedforward[0][0]']     \n",
      "                                                                                                  \n",
      " dense1_feedforward (Dense)     (None, 400)          160400      ['dense0_dropout[0][0]']         \n",
      "                                                                                                  \n",
      " dense1_dropout (Dropout)       (None, 400)          0           ['dense1_feedforward[0][0]']     \n",
      "                                                                                                  \n",
      " dense2_feedforward (Dense)     (None, 400)          160400      ['dense1_dropout[0][0]']         \n",
      "                                                                                                  \n",
      " dense2_dropout (Dropout)       (None, 400)          0           ['dense2_feedforward[0][0]']     \n",
      "                                                                                                  \n",
      " policy_process (Dense)         (None, 400)          160400      ['dense2_dropout[0][0]']         \n",
      "                                                                                                  \n",
      " policy_logit (Dense)           (None, 7)            2807        ['policy_process[0][0]']         \n",
      "                                                                                                  \n",
      " value_process (Dense)          (None, 400)          160400      ['dense2_dropout[0][0]']         \n",
      "                                                                                                  \n",
      " policy (Softmax)               (None, 7)            0           ['policy_logit[0][0]']           \n",
      "                                                                                                  \n",
      " value (Dense)                  (None, 1)            401         ['value_process[0][0]']          \n",
      "                                                                                                  \n",
      "==================================================================================================\n",
      "Total params: 3,438,008\n",
      "Trainable params: 3,438,008\n",
      "Non-trainable params: 0\n",
      "__________________________________________________________________________________________________\n"
     ]
    }
   ],
   "source": [
    "###\n",
    "###  Create or load a model\n",
    "###\n",
    "\n",
    "from connect4.neural import create_model, load_model\n",
    "\n",
    "'''new_model = create_model(name=new_model_name, num_conv_blocks=4, num_filters=40, num_dense=5, \n",
    "                         dense_width=200, batch_norm=True)'''\n",
    "\n",
    "new_model = load_model(old_model_name)\n",
    "\n",
    "new_model.summary()\n"
   ]
  },
  {
   "cell_type": "code",
   "execution_count": 17,
   "id": "94af7016",
   "metadata": {},
   "outputs": [
    {
     "name": "stdout",
     "output_type": "stream",
     "text": [
      "Policy cross-check\n",
      "0.02,  0.02,  0.76,  0.04,  0.11,  0.02,  0.02  -->  0.20,  0.14,  0.24,  0.05,  0.31,  0.03,  0.03\n",
      "0.02,  0.02,  0.02,  0.85,  0.02,  0.02,  0.02  -->  0.00,  0.00,  0.01,  0.97,  0.01,  0.00,  0.00\n",
      "0.02,  0.52,  0.02,  0.31,  0.02,  0.10,  0.02  -->  0.00,  0.01,  0.00,  0.00,  0.95,  0.03,  0.01\n",
      "0.02,  0.02,  0.02,  0.02,  0.88,  0.02,  0.02  -->  0.00,  0.00,  0.01,  0.01,  0.88,  0.08,  0.00\n",
      "0.02,  0.02,  0.63,  0.13,  0.04,  0.11,  0.04  -->  0.01,  0.04,  0.39,  0.09,  0.39,  0.07,  0.01\n",
      "0.02,  0.02,  0.02,  0.90,  0.02,  0.02,  0.02  -->  0.00,  0.00,  0.01,  0.97,  0.01,  0.00,  0.00\n",
      "0.07,  0.04,  0.02,  0.02,  0.76,  0.07,  0.02  -->  0.05,  0.06,  0.03,  0.18,  0.40,  0.09,  0.19\n",
      "0.02,  0.53,  0.02,  0.38,  0.02,  0.02,  0.02  -->  0.02,  0.77,  0.07,  0.07,  0.03,  0.03,  0.01\n",
      "0.02,  0.05,  0.52,  0.14,  0.20,  0.05,  0.02  -->  0.04,  0.10,  0.29,  0.07,  0.34,  0.11,  0.04\n",
      "0.03,  0.05,  0.61,  0.16,  0.08,  0.05,  0.03  -->  0.00,  0.00,  0.01,  0.55,  0.16,  0.27,  0.01\n",
      "\n",
      "Value cross-check\n",
      "-0.84  -->  -0.23\n",
      "-0.90  -->  0.05\n",
      "0.94  -->  1.00\n",
      "0.94  -->  -0.07\n",
      "0.92  -->  0.16\n",
      "-0.86  -->  0.05\n",
      "0.90  -->  0.77\n",
      "0.92  -->  0.00\n",
      "-0.83  -->  -0.06\n",
      "0.89  -->  0.00\n"
     ]
    }
   ],
   "source": [
    "###\n",
    "###  View a few predictions of this model\n",
    "###\n",
    "\n",
    "test_model_p, test_model_v = new_model(val_model_in)\n",
    "test_model_p, test_model_v = test_model_p.numpy(), test_model_v.numpy()\n",
    "\n",
    "test_indices = np.arange(10) \n",
    "\n",
    "print(\"Policy cross-check\")\n",
    "for i in test_indices :\n",
    "    print(\",  \".join([f\"{p:.2f}\" for p in val_model_p[i]]) + \"  -->  \" + \",  \".join([f\"{p:.2f}\" for p in test_model_p[i]]))\n",
    "\n",
    "print(\"\\nValue cross-check\")\n",
    "for i in test_indices :\n",
    "    print(\",  \".join([f\"{v:.2f}\" for v in val_model_v[i]]) + \"  -->  \" + \",  \".join([f\"{v:.2f}\" for v in test_model_v[i]]))\n"
   ]
  },
  {
   "cell_type": "code",
   "execution_count": 18,
   "id": "75e95745",
   "metadata": {
    "scrolled": true
   },
   "outputs": [
    {
     "name": "stdout",
     "output_type": "stream",
     "text": [
      "Epoch 1/1000\n"
     ]
    },
    {
     "name": "stderr",
     "output_type": "stream",
     "text": [
      "2023-01-19 10:08:54.956894: W tensorflow/tsl/platform/profile_utils/cpu_utils.cc:128] Failed to get CPU frequency: 0 Hz\n"
     ]
    },
    {
     "name": "stdout",
     "output_type": "stream",
     "text": [
      "5/5 [==============================] - 1s 96ms/step - loss: 2.5561 - policy_loss: 1.7310 - value_loss: 0.8252 - val_loss: 2.1684 - val_policy_loss: 1.4933 - val_value_loss: 0.6751\n",
      "Epoch 2/1000\n",
      "5/5 [==============================] - 0s 59ms/step - loss: 2.2170 - policy_loss: 1.5563 - value_loss: 0.6606 - val_loss: 2.0149 - val_policy_loss: 1.4224 - val_value_loss: 0.5925\n",
      "Epoch 3/1000\n",
      "5/5 [==============================] - 0s 64ms/step - loss: 2.0940 - policy_loss: 1.5210 - value_loss: 0.5730 - val_loss: 1.8854 - val_policy_loss: 1.3755 - val_value_loss: 0.5098\n",
      "Epoch 4/1000\n",
      "5/5 [==============================] - 0s 72ms/step - loss: 1.9673 - policy_loss: 1.4588 - value_loss: 0.5085 - val_loss: 1.8195 - val_policy_loss: 1.3385 - val_value_loss: 0.4810\n",
      "Epoch 5/1000\n",
      "5/5 [==============================] - 0s 76ms/step - loss: 1.8867 - policy_loss: 1.4369 - value_loss: 0.4499 - val_loss: 1.7407 - val_policy_loss: 1.3204 - val_value_loss: 0.4204\n",
      "Epoch 6/1000\n",
      "5/5 [==============================] - 0s 74ms/step - loss: 1.8123 - policy_loss: 1.4043 - value_loss: 0.4079 - val_loss: 1.6951 - val_policy_loss: 1.3066 - val_value_loss: 0.3885\n",
      "Epoch 7/1000\n",
      "5/5 [==============================] - 0s 83ms/step - loss: 1.7383 - policy_loss: 1.3808 - value_loss: 0.3575 - val_loss: 1.6323 - val_policy_loss: 1.2779 - val_value_loss: 0.3544\n",
      "Epoch 8/1000\n",
      "5/5 [==============================] - 0s 73ms/step - loss: 1.6929 - policy_loss: 1.3622 - value_loss: 0.3306 - val_loss: 1.5814 - val_policy_loss: 1.2512 - val_value_loss: 0.3302\n",
      "Epoch 9/1000\n",
      "5/5 [==============================] - 0s 69ms/step - loss: 1.6543 - policy_loss: 1.3500 - value_loss: 0.3043 - val_loss: 1.5537 - val_policy_loss: 1.2383 - val_value_loss: 0.3154\n",
      "Epoch 10/1000\n",
      "5/5 [==============================] - 0s 68ms/step - loss: 1.6156 - policy_loss: 1.3282 - value_loss: 0.2873 - val_loss: 1.5345 - val_policy_loss: 1.2294 - val_value_loss: 0.3050\n",
      "Epoch 11/1000\n",
      "5/5 [==============================] - 0s 75ms/step - loss: 1.5863 - policy_loss: 1.3242 - value_loss: 0.2620 - val_loss: 1.5078 - val_policy_loss: 1.2135 - val_value_loss: 0.2942\n",
      "Epoch 12/1000\n",
      "5/5 [==============================] - 0s 76ms/step - loss: 1.5620 - policy_loss: 1.3008 - value_loss: 0.2611 - val_loss: 1.4894 - val_policy_loss: 1.2094 - val_value_loss: 0.2801\n",
      "Epoch 13/1000\n",
      "5/5 [==============================] - 0s 77ms/step - loss: 1.5586 - policy_loss: 1.3080 - value_loss: 0.2506 - val_loss: 1.4615 - val_policy_loss: 1.1933 - val_value_loss: 0.2681\n",
      "Epoch 14/1000\n",
      "5/5 [==============================] - 1s 105ms/step - loss: 1.5330 - policy_loss: 1.2870 - value_loss: 0.2460 - val_loss: 1.4463 - val_policy_loss: 1.1845 - val_value_loss: 0.2618\n",
      "Epoch 15/1000\n",
      "5/5 [==============================] - 0s 89ms/step - loss: 1.5182 - policy_loss: 1.2784 - value_loss: 0.2397 - val_loss: 1.4351 - val_policy_loss: 1.1761 - val_value_loss: 0.2590\n",
      "Epoch 16/1000\n",
      "5/5 [==============================] - 0s 100ms/step - loss: 1.5058 - policy_loss: 1.2627 - value_loss: 0.2431 - val_loss: 1.4211 - val_policy_loss: 1.1753 - val_value_loss: 0.2458\n",
      "Epoch 17/1000\n",
      "5/5 [==============================] - 0s 86ms/step - loss: 1.4865 - policy_loss: 1.2606 - value_loss: 0.2258 - val_loss: 1.4246 - val_policy_loss: 1.1729 - val_value_loss: 0.2517\n",
      "Epoch 18/1000\n",
      "5/5 [==============================] - 0s 86ms/step - loss: 1.4685 - policy_loss: 1.2617 - value_loss: 0.2068 - val_loss: 1.4197 - val_policy_loss: 1.1675 - val_value_loss: 0.2522\n",
      "Epoch 19/1000\n",
      "5/5 [==============================] - 0s 80ms/step - loss: 1.4796 - policy_loss: 1.2630 - value_loss: 0.2167 - val_loss: 1.4123 - val_policy_loss: 1.1588 - val_value_loss: 0.2535\n",
      "Epoch 20/1000\n",
      "5/5 [==============================] - 1s 135ms/step - loss: 1.4615 - policy_loss: 1.2552 - value_loss: 0.2063 - val_loss: 1.3950 - val_policy_loss: 1.1573 - val_value_loss: 0.2377\n",
      "Epoch 21/1000\n",
      "5/5 [==============================] - 0s 102ms/step - loss: 1.4414 - policy_loss: 1.2430 - value_loss: 0.1984 - val_loss: 1.3833 - val_policy_loss: 1.1528 - val_value_loss: 0.2305\n",
      "Epoch 22/1000\n",
      "5/5 [==============================] - 0s 88ms/step - loss: 1.4332 - policy_loss: 1.2467 - value_loss: 0.1866 - val_loss: 1.3854 - val_policy_loss: 1.1495 - val_value_loss: 0.2359\n",
      "Epoch 23/1000\n",
      "5/5 [==============================] - 1s 116ms/step - loss: 1.4244 - policy_loss: 1.2354 - value_loss: 0.1891 - val_loss: 1.3890 - val_policy_loss: 1.1432 - val_value_loss: 0.2458\n",
      "Epoch 24/1000\n",
      "5/5 [==============================] - 1s 137ms/step - loss: 1.4459 - policy_loss: 1.2378 - value_loss: 0.2081 - val_loss: 1.3710 - val_policy_loss: 1.1408 - val_value_loss: 0.2302\n",
      "Epoch 25/1000\n",
      "5/5 [==============================] - 1s 107ms/step - loss: 1.4131 - policy_loss: 1.2192 - value_loss: 0.1939 - val_loss: 1.3534 - val_policy_loss: 1.1352 - val_value_loss: 0.2181\n",
      "Epoch 26/1000\n",
      "5/5 [==============================] - 0s 85ms/step - loss: 1.4147 - policy_loss: 1.2287 - value_loss: 0.1861 - val_loss: 1.3479 - val_policy_loss: 1.1299 - val_value_loss: 0.2180\n",
      "Epoch 27/1000\n",
      "5/5 [==============================] - 0s 82ms/step - loss: 1.4144 - policy_loss: 1.2250 - value_loss: 0.1895 - val_loss: 1.3388 - val_policy_loss: 1.1242 - val_value_loss: 0.2146\n",
      "Epoch 28/1000\n",
      "5/5 [==============================] - 0s 86ms/step - loss: 1.3984 - policy_loss: 1.2226 - value_loss: 0.1758 - val_loss: 1.3246 - val_policy_loss: 1.1248 - val_value_loss: 0.1998\n",
      "Epoch 29/1000\n",
      "5/5 [==============================] - 0s 84ms/step - loss: 1.3863 - policy_loss: 1.2172 - value_loss: 0.1691 - val_loss: 1.3107 - val_policy_loss: 1.1209 - val_value_loss: 0.1898\n",
      "Epoch 30/1000\n",
      "5/5 [==============================] - 0s 67ms/step - loss: 1.3565 - policy_loss: 1.2033 - value_loss: 0.1532 - val_loss: 1.3024 - val_policy_loss: 1.1149 - val_value_loss: 0.1874\n",
      "Epoch 31/1000\n",
      "5/5 [==============================] - 0s 82ms/step - loss: 1.3807 - policy_loss: 1.2103 - value_loss: 0.1704 - val_loss: 1.2980 - val_policy_loss: 1.1080 - val_value_loss: 0.1900\n",
      "Epoch 32/1000\n",
      "5/5 [==============================] - 0s 75ms/step - loss: 1.3399 - policy_loss: 1.1894 - value_loss: 0.1505 - val_loss: 1.3073 - val_policy_loss: 1.1110 - val_value_loss: 0.1964\n",
      "Epoch 33/1000\n",
      "5/5 [==============================] - 0s 91ms/step - loss: 1.3516 - policy_loss: 1.1993 - value_loss: 0.1522 - val_loss: 1.3059 - val_policy_loss: 1.1137 - val_value_loss: 0.1921\n",
      "Epoch 34/1000\n",
      "5/5 [==============================] - 0s 85ms/step - loss: 1.3483 - policy_loss: 1.1975 - value_loss: 0.1507 - val_loss: 1.3001 - val_policy_loss: 1.1105 - val_value_loss: 0.1897\n",
      "Epoch 35/1000\n",
      "5/5 [==============================] - 0s 98ms/step - loss: 1.3590 - policy_loss: 1.1938 - value_loss: 0.1652 - val_loss: 1.2867 - val_policy_loss: 1.1057 - val_value_loss: 0.1810\n",
      "Epoch 36/1000\n",
      "5/5 [==============================] - 0s 86ms/step - loss: 1.3502 - policy_loss: 1.1943 - value_loss: 0.1558 - val_loss: 1.2962 - val_policy_loss: 1.1075 - val_value_loss: 0.1887\n",
      "Epoch 37/1000\n",
      "5/5 [==============================] - 0s 96ms/step - loss: 1.3582 - policy_loss: 1.1956 - value_loss: 0.1626 - val_loss: 1.2912 - val_policy_loss: 1.1067 - val_value_loss: 0.1845\n",
      "Epoch 38/1000\n",
      "5/5 [==============================] - 0s 99ms/step - loss: 1.3527 - policy_loss: 1.1873 - value_loss: 0.1654 - val_loss: 1.2837 - val_policy_loss: 1.1036 - val_value_loss: 0.1801\n",
      "Epoch 39/1000\n",
      "5/5 [==============================] - 0s 87ms/step - loss: 1.3244 - policy_loss: 1.1816 - value_loss: 0.1428 - val_loss: 1.2798 - val_policy_loss: 1.1026 - val_value_loss: 0.1771\n",
      "Epoch 40/1000\n",
      "5/5 [==============================] - 0s 86ms/step - loss: 1.3373 - policy_loss: 1.1879 - value_loss: 0.1495 - val_loss: 1.2815 - val_policy_loss: 1.1018 - val_value_loss: 0.1796\n",
      "Epoch 41/1000\n",
      "5/5 [==============================] - 0s 75ms/step - loss: 1.3220 - policy_loss: 1.1728 - value_loss: 0.1492 - val_loss: 1.2816 - val_policy_loss: 1.1005 - val_value_loss: 0.1811\n",
      "Epoch 42/1000\n",
      "5/5 [==============================] - 0s 71ms/step - loss: 1.3379 - policy_loss: 1.1802 - value_loss: 0.1577 - val_loss: 1.2795 - val_policy_loss: 1.1001 - val_value_loss: 0.1794\n",
      "Epoch 43/1000\n"
     ]
    },
    {
     "name": "stdout",
     "output_type": "stream",
     "text": [
      "5/5 [==============================] - 0s 77ms/step - loss: 1.3234 - policy_loss: 1.1866 - value_loss: 0.1368 - val_loss: 1.2766 - val_policy_loss: 1.0979 - val_value_loss: 0.1787\n",
      "Epoch 44/1000\n",
      "5/5 [==============================] - 0s 76ms/step - loss: 1.3382 - policy_loss: 1.1887 - value_loss: 0.1495 - val_loss: 1.2807 - val_policy_loss: 1.0993 - val_value_loss: 0.1814\n",
      "Epoch 45/1000\n",
      "5/5 [==============================] - 0s 81ms/step - loss: 1.3313 - policy_loss: 1.1901 - value_loss: 0.1411 - val_loss: 1.2785 - val_policy_loss: 1.0971 - val_value_loss: 0.1814\n",
      "Epoch 46/1000\n",
      "5/5 [==============================] - 0s 75ms/step - loss: 1.3235 - policy_loss: 1.1777 - value_loss: 0.1458 - val_loss: 1.2726 - val_policy_loss: 1.0963 - val_value_loss: 0.1763\n",
      "Epoch 47/1000\n",
      "5/5 [==============================] - 0s 80ms/step - loss: 1.3313 - policy_loss: 1.1783 - value_loss: 0.1531 - val_loss: 1.2747 - val_policy_loss: 1.0999 - val_value_loss: 0.1749\n",
      "Epoch 48/1000\n",
      "5/5 [==============================] - 0s 77ms/step - loss: 1.3369 - policy_loss: 1.1758 - value_loss: 0.1611 - val_loss: 1.2686 - val_policy_loss: 1.0991 - val_value_loss: 0.1695\n",
      "Epoch 49/1000\n",
      "5/5 [==============================] - 0s 78ms/step - loss: 1.3194 - policy_loss: 1.1708 - value_loss: 0.1486 - val_loss: 1.2599 - val_policy_loss: 1.0920 - val_value_loss: 0.1679\n",
      "Epoch 50/1000\n",
      "5/5 [==============================] - 0s 76ms/step - loss: 1.3153 - policy_loss: 1.1725 - value_loss: 0.1428 - val_loss: 1.2611 - val_policy_loss: 1.0913 - val_value_loss: 0.1698\n",
      "Epoch 51/1000\n",
      "5/5 [==============================] - 0s 70ms/step - loss: 1.3387 - policy_loss: 1.1844 - value_loss: 0.1543 - val_loss: 1.2612 - val_policy_loss: 1.0901 - val_value_loss: 0.1710\n",
      "Epoch 52/1000\n",
      "5/5 [==============================] - 0s 73ms/step - loss: 1.3010 - policy_loss: 1.1593 - value_loss: 0.1417 - val_loss: 1.2598 - val_policy_loss: 1.0890 - val_value_loss: 0.1707\n",
      "Epoch 53/1000\n",
      "5/5 [==============================] - 0s 80ms/step - loss: 1.3060 - policy_loss: 1.1640 - value_loss: 0.1420 - val_loss: 1.2608 - val_policy_loss: 1.0890 - val_value_loss: 0.1718\n",
      "Epoch 54/1000\n",
      "5/5 [==============================] - 0s 74ms/step - loss: 1.3036 - policy_loss: 1.1599 - value_loss: 0.1437 - val_loss: 1.2595 - val_policy_loss: 1.0873 - val_value_loss: 0.1722\n",
      "Epoch 55/1000\n",
      "5/5 [==============================] - 0s 85ms/step - loss: 1.3030 - policy_loss: 1.1647 - value_loss: 0.1383 - val_loss: 1.2554 - val_policy_loss: 1.0847 - val_value_loss: 0.1707\n",
      "Epoch 56/1000\n",
      "5/5 [==============================] - 0s 95ms/step - loss: 1.3095 - policy_loss: 1.1723 - value_loss: 0.1372 - val_loss: 1.2537 - val_policy_loss: 1.0867 - val_value_loss: 0.1670\n",
      "Epoch 57/1000\n",
      "5/5 [==============================] - 0s 82ms/step - loss: 1.2841 - policy_loss: 1.1600 - value_loss: 0.1241 - val_loss: 1.2506 - val_policy_loss: 1.0879 - val_value_loss: 0.1628\n",
      "Epoch 58/1000\n",
      "5/5 [==============================] - 0s 80ms/step - loss: 1.3017 - policy_loss: 1.1518 - value_loss: 0.1499 - val_loss: 1.2446 - val_policy_loss: 1.0826 - val_value_loss: 0.1620\n",
      "Epoch 59/1000\n",
      "5/5 [==============================] - 0s 92ms/step - loss: 1.2919 - policy_loss: 1.1615 - value_loss: 0.1304 - val_loss: 1.2468 - val_policy_loss: 1.0808 - val_value_loss: 0.1660\n",
      "Epoch 60/1000\n",
      "5/5 [==============================] - 0s 98ms/step - loss: 1.2917 - policy_loss: 1.1619 - value_loss: 0.1298 - val_loss: 1.2482 - val_policy_loss: 1.0797 - val_value_loss: 0.1685\n",
      "Epoch 61/1000\n",
      "5/5 [==============================] - 0s 93ms/step - loss: 1.3028 - policy_loss: 1.1561 - value_loss: 0.1467 - val_loss: 1.2568 - val_policy_loss: 1.0840 - val_value_loss: 0.1728\n",
      "Epoch 62/1000\n",
      "5/5 [==============================] - 1s 122ms/step - loss: 1.2792 - policy_loss: 1.1513 - value_loss: 0.1279 - val_loss: 1.2614 - val_policy_loss: 1.0850 - val_value_loss: 0.1764\n",
      "Epoch 63/1000\n",
      "5/5 [==============================] - 0s 90ms/step - loss: 1.3071 - policy_loss: 1.1660 - value_loss: 0.1410 - val_loss: 1.2654 - val_policy_loss: 1.0849 - val_value_loss: 0.1805\n",
      "Epoch 64/1000\n",
      "5/5 [==============================] - 0s 84ms/step - loss: 1.3136 - policy_loss: 1.1683 - value_loss: 0.1453 - val_loss: 1.2550 - val_policy_loss: 1.0821 - val_value_loss: 0.1729\n",
      "Epoch 65/1000\n",
      "5/5 [==============================] - 0s 74ms/step - loss: 1.2984 - policy_loss: 1.1606 - value_loss: 0.1378 - val_loss: 1.2491 - val_policy_loss: 1.0802 - val_value_loss: 0.1688\n",
      "Epoch 66/1000\n",
      "5/5 [==============================] - 0s 73ms/step - loss: 1.2929 - policy_loss: 1.1565 - value_loss: 0.1364 - val_loss: 1.2480 - val_policy_loss: 1.0799 - val_value_loss: 0.1681\n",
      "Epoch 67/1000\n",
      "5/5 [==============================] - 0s 80ms/step - loss: 1.3007 - policy_loss: 1.1599 - value_loss: 0.1408 - val_loss: 1.2596 - val_policy_loss: 1.0823 - val_value_loss: 0.1773\n",
      "Epoch 68/1000\n",
      "5/5 [==============================] - 0s 95ms/step - loss: 1.3092 - policy_loss: 1.1608 - value_loss: 0.1484 - val_loss: 1.2581 - val_policy_loss: 1.0787 - val_value_loss: 0.1794\n",
      "Epoch 69/1000\n",
      "5/5 [==============================] - 1s 102ms/step - loss: 1.2906 - policy_loss: 1.1480 - value_loss: 0.1427 - val_loss: 1.2474 - val_policy_loss: 1.0795 - val_value_loss: 0.1679\n",
      "Epoch 70/1000\n",
      "5/5 [==============================] - 0s 83ms/step - loss: 1.2886 - policy_loss: 1.1536 - value_loss: 0.1350 - val_loss: 1.2473 - val_policy_loss: 1.0782 - val_value_loss: 0.1691\n",
      "Epoch 71/1000\n",
      "5/5 [==============================] - 1s 111ms/step - loss: 1.2712 - policy_loss: 1.1460 - value_loss: 0.1252 - val_loss: 1.2466 - val_policy_loss: 1.0765 - val_value_loss: 0.1700\n",
      "Epoch 72/1000\n",
      "5/5 [==============================] - 0s 95ms/step - loss: 1.2619 - policy_loss: 1.1415 - value_loss: 0.1204 - val_loss: 1.2488 - val_policy_loss: 1.0754 - val_value_loss: 0.1734\n",
      "Epoch 73/1000\n",
      "5/5 [==============================] - 0s 95ms/step - loss: 1.2835 - policy_loss: 1.1462 - value_loss: 0.1373 - val_loss: 1.2601 - val_policy_loss: 1.0751 - val_value_loss: 0.1850\n",
      "Epoch 74/1000\n",
      "5/5 [==============================] - 0s 97ms/step - loss: 1.2685 - policy_loss: 1.1375 - value_loss: 0.1310 - val_loss: 1.2511 - val_policy_loss: 1.0764 - val_value_loss: 0.1747\n",
      "Epoch 75/1000\n"
     ]
    },
    {
     "ename": "KeyboardInterrupt",
     "evalue": "",
     "output_type": "error",
     "traceback": [
      "\u001b[0;31m---------------------------------------------------------------------------\u001b[0m",
      "\u001b[0;31mKeyboardInterrupt\u001b[0m                         Traceback (most recent call last)",
      "Cell \u001b[0;32mIn[18], line 7\u001b[0m\n\u001b[1;32m      1\u001b[0m \u001b[38;5;66;03m###\u001b[39;00m\n\u001b[1;32m      2\u001b[0m \u001b[38;5;66;03m###  Fit and save our model!\u001b[39;00m\n\u001b[1;32m      3\u001b[0m \u001b[38;5;66;03m###\u001b[39;00m\n\u001b[1;32m      5\u001b[0m \u001b[38;5;28;01mfrom\u001b[39;00m \u001b[38;5;21;01mtensorflow\u001b[39;00m\u001b[38;5;21;01m.\u001b[39;00m\u001b[38;5;21;01mkeras\u001b[39;00m\u001b[38;5;21;01m.\u001b[39;00m\u001b[38;5;21;01mcallbacks\u001b[39;00m \u001b[38;5;28;01mimport\u001b[39;00m EarlyStopping\n\u001b[0;32m----> 7\u001b[0m history \u001b[38;5;241m=\u001b[39m \u001b[43mnew_model\u001b[49m\u001b[38;5;241;43m.\u001b[39;49m\u001b[43mfit\u001b[49m\u001b[43m(\u001b[49m\n\u001b[1;32m      8\u001b[0m \u001b[43m            \u001b[49m\u001b[43mmodel_in\u001b[49m\u001b[43m,\u001b[49m\u001b[43m \u001b[49m\u001b[43m[\u001b[49m\u001b[43mmodel_p\u001b[49m\u001b[43m,\u001b[49m\u001b[43m \u001b[49m\u001b[43mmodel_v\u001b[49m\u001b[43m]\u001b[49m\u001b[43m,\u001b[49m\u001b[43m \u001b[49m\u001b[43mepochs\u001b[49m\u001b[38;5;241;43m=\u001b[39;49m\u001b[38;5;241;43m1000\u001b[39;49m\u001b[43m,\u001b[49m\u001b[43m \u001b[49m\u001b[43mbatch_size\u001b[49m\u001b[38;5;241;43m=\u001b[39;49m\u001b[38;5;241;43m100\u001b[39;49m\u001b[43m,\u001b[49m\n\u001b[1;32m      9\u001b[0m \u001b[43m            \u001b[49m\u001b[43mvalidation_data\u001b[49m\u001b[38;5;241;43m=\u001b[39;49m\u001b[43m(\u001b[49m\u001b[43mval_model_in\u001b[49m\u001b[43m,\u001b[49m\u001b[43m \u001b[49m\u001b[43m[\u001b[49m\u001b[43mval_model_p\u001b[49m\u001b[43m,\u001b[49m\u001b[43m \u001b[49m\u001b[43mval_model_v\u001b[49m\u001b[43m]\u001b[49m\u001b[43m)\u001b[49m\u001b[43m,\u001b[49m\n\u001b[1;32m     10\u001b[0m \u001b[43m            \u001b[49m\u001b[43mcallbacks\u001b[49m\u001b[38;5;241;43m=\u001b[39;49m\u001b[43m[\u001b[49m\u001b[43mEarlyStopping\u001b[49m\u001b[43m(\u001b[49m\u001b[43mmonitor\u001b[49m\u001b[38;5;241;43m=\u001b[39;49m\u001b[38;5;124;43m'\u001b[39;49m\u001b[38;5;124;43mval_loss\u001b[39;49m\u001b[38;5;124;43m'\u001b[39;49m\u001b[43m,\u001b[49m\u001b[43m \u001b[49m\u001b[43mpatience\u001b[49m\u001b[38;5;241;43m=\u001b[39;49m\u001b[38;5;241;43m20\u001b[39;49m\u001b[43m,\u001b[49m\u001b[43m \u001b[49m\u001b[43mrestore_best_weights\u001b[49m\u001b[38;5;241;43m=\u001b[39;49m\u001b[38;5;28;43;01mTrue\u001b[39;49;00m\u001b[43m)\u001b[49m\u001b[43m]\u001b[49m\u001b[43m)\u001b[49m\n\u001b[1;32m     12\u001b[0m new_model\u001b[38;5;241m.\u001b[39msave(new_model_name)\n",
      "File \u001b[0;32m~/miniforge3/envs/py3p10_221222/lib/python3.10/site-packages/keras/utils/traceback_utils.py:65\u001b[0m, in \u001b[0;36mfilter_traceback.<locals>.error_handler\u001b[0;34m(*args, **kwargs)\u001b[0m\n\u001b[1;32m     63\u001b[0m filtered_tb \u001b[38;5;241m=\u001b[39m \u001b[38;5;28;01mNone\u001b[39;00m\n\u001b[1;32m     64\u001b[0m \u001b[38;5;28;01mtry\u001b[39;00m:\n\u001b[0;32m---> 65\u001b[0m     \u001b[38;5;28;01mreturn\u001b[39;00m \u001b[43mfn\u001b[49m\u001b[43m(\u001b[49m\u001b[38;5;241;43m*\u001b[39;49m\u001b[43margs\u001b[49m\u001b[43m,\u001b[49m\u001b[43m \u001b[49m\u001b[38;5;241;43m*\u001b[39;49m\u001b[38;5;241;43m*\u001b[39;49m\u001b[43mkwargs\u001b[49m\u001b[43m)\u001b[49m\n\u001b[1;32m     66\u001b[0m \u001b[38;5;28;01mexcept\u001b[39;00m \u001b[38;5;167;01mException\u001b[39;00m \u001b[38;5;28;01mas\u001b[39;00m e:\n\u001b[1;32m     67\u001b[0m     filtered_tb \u001b[38;5;241m=\u001b[39m _process_traceback_frames(e\u001b[38;5;241m.\u001b[39m__traceback__)\n",
      "File \u001b[0;32m~/miniforge3/envs/py3p10_221222/lib/python3.10/site-packages/keras/engine/training.py:1650\u001b[0m, in \u001b[0;36mModel.fit\u001b[0;34m(self, x, y, batch_size, epochs, verbose, callbacks, validation_split, validation_data, shuffle, class_weight, sample_weight, initial_epoch, steps_per_epoch, validation_steps, validation_batch_size, validation_freq, max_queue_size, workers, use_multiprocessing)\u001b[0m\n\u001b[1;32m   1642\u001b[0m \u001b[38;5;28;01mwith\u001b[39;00m tf\u001b[38;5;241m.\u001b[39mprofiler\u001b[38;5;241m.\u001b[39mexperimental\u001b[38;5;241m.\u001b[39mTrace(\n\u001b[1;32m   1643\u001b[0m     \u001b[38;5;124m\"\u001b[39m\u001b[38;5;124mtrain\u001b[39m\u001b[38;5;124m\"\u001b[39m,\n\u001b[1;32m   1644\u001b[0m     epoch_num\u001b[38;5;241m=\u001b[39mepoch,\n\u001b[0;32m   (...)\u001b[0m\n\u001b[1;32m   1647\u001b[0m     _r\u001b[38;5;241m=\u001b[39m\u001b[38;5;241m1\u001b[39m,\n\u001b[1;32m   1648\u001b[0m ):\n\u001b[1;32m   1649\u001b[0m     callbacks\u001b[38;5;241m.\u001b[39mon_train_batch_begin(step)\n\u001b[0;32m-> 1650\u001b[0m     tmp_logs \u001b[38;5;241m=\u001b[39m \u001b[38;5;28;43mself\u001b[39;49m\u001b[38;5;241;43m.\u001b[39;49m\u001b[43mtrain_function\u001b[49m\u001b[43m(\u001b[49m\u001b[43miterator\u001b[49m\u001b[43m)\u001b[49m\n\u001b[1;32m   1651\u001b[0m     \u001b[38;5;28;01mif\u001b[39;00m data_handler\u001b[38;5;241m.\u001b[39mshould_sync:\n\u001b[1;32m   1652\u001b[0m         context\u001b[38;5;241m.\u001b[39masync_wait()\n",
      "File \u001b[0;32m~/miniforge3/envs/py3p10_221222/lib/python3.10/site-packages/tensorflow/python/util/traceback_utils.py:150\u001b[0m, in \u001b[0;36mfilter_traceback.<locals>.error_handler\u001b[0;34m(*args, **kwargs)\u001b[0m\n\u001b[1;32m    148\u001b[0m filtered_tb \u001b[38;5;241m=\u001b[39m \u001b[38;5;28;01mNone\u001b[39;00m\n\u001b[1;32m    149\u001b[0m \u001b[38;5;28;01mtry\u001b[39;00m:\n\u001b[0;32m--> 150\u001b[0m   \u001b[38;5;28;01mreturn\u001b[39;00m \u001b[43mfn\u001b[49m\u001b[43m(\u001b[49m\u001b[38;5;241;43m*\u001b[39;49m\u001b[43margs\u001b[49m\u001b[43m,\u001b[49m\u001b[43m \u001b[49m\u001b[38;5;241;43m*\u001b[39;49m\u001b[38;5;241;43m*\u001b[39;49m\u001b[43mkwargs\u001b[49m\u001b[43m)\u001b[49m\n\u001b[1;32m    151\u001b[0m \u001b[38;5;28;01mexcept\u001b[39;00m \u001b[38;5;167;01mException\u001b[39;00m \u001b[38;5;28;01mas\u001b[39;00m e:\n\u001b[1;32m    152\u001b[0m   filtered_tb \u001b[38;5;241m=\u001b[39m _process_traceback_frames(e\u001b[38;5;241m.\u001b[39m__traceback__)\n",
      "File \u001b[0;32m~/miniforge3/envs/py3p10_221222/lib/python3.10/site-packages/tensorflow/python/eager/polymorphic_function/polymorphic_function.py:880\u001b[0m, in \u001b[0;36mFunction.__call__\u001b[0;34m(self, *args, **kwds)\u001b[0m\n\u001b[1;32m    877\u001b[0m compiler \u001b[38;5;241m=\u001b[39m \u001b[38;5;124m\"\u001b[39m\u001b[38;5;124mxla\u001b[39m\u001b[38;5;124m\"\u001b[39m \u001b[38;5;28;01mif\u001b[39;00m \u001b[38;5;28mself\u001b[39m\u001b[38;5;241m.\u001b[39m_jit_compile \u001b[38;5;28;01melse\u001b[39;00m \u001b[38;5;124m\"\u001b[39m\u001b[38;5;124mnonXla\u001b[39m\u001b[38;5;124m\"\u001b[39m\n\u001b[1;32m    879\u001b[0m \u001b[38;5;28;01mwith\u001b[39;00m OptionalXlaContext(\u001b[38;5;28mself\u001b[39m\u001b[38;5;241m.\u001b[39m_jit_compile):\n\u001b[0;32m--> 880\u001b[0m   result \u001b[38;5;241m=\u001b[39m \u001b[38;5;28;43mself\u001b[39;49m\u001b[38;5;241;43m.\u001b[39;49m\u001b[43m_call\u001b[49m\u001b[43m(\u001b[49m\u001b[38;5;241;43m*\u001b[39;49m\u001b[43margs\u001b[49m\u001b[43m,\u001b[49m\u001b[43m \u001b[49m\u001b[38;5;241;43m*\u001b[39;49m\u001b[38;5;241;43m*\u001b[39;49m\u001b[43mkwds\u001b[49m\u001b[43m)\u001b[49m\n\u001b[1;32m    882\u001b[0m new_tracing_count \u001b[38;5;241m=\u001b[39m \u001b[38;5;28mself\u001b[39m\u001b[38;5;241m.\u001b[39mexperimental_get_tracing_count()\n\u001b[1;32m    883\u001b[0m without_tracing \u001b[38;5;241m=\u001b[39m (tracing_count \u001b[38;5;241m==\u001b[39m new_tracing_count)\n",
      "File \u001b[0;32m~/miniforge3/envs/py3p10_221222/lib/python3.10/site-packages/tensorflow/python/eager/polymorphic_function/polymorphic_function.py:919\u001b[0m, in \u001b[0;36mFunction._call\u001b[0;34m(self, *args, **kwds)\u001b[0m\n\u001b[1;32m    916\u001b[0m \u001b[38;5;28mself\u001b[39m\u001b[38;5;241m.\u001b[39m_lock\u001b[38;5;241m.\u001b[39mrelease()\n\u001b[1;32m    917\u001b[0m \u001b[38;5;66;03m# In this case we have not created variables on the first call. So we can\u001b[39;00m\n\u001b[1;32m    918\u001b[0m \u001b[38;5;66;03m# run the first trace but we should fail if variables are created.\u001b[39;00m\n\u001b[0;32m--> 919\u001b[0m results \u001b[38;5;241m=\u001b[39m \u001b[38;5;28;43mself\u001b[39;49m\u001b[38;5;241;43m.\u001b[39;49m\u001b[43m_variable_creation_fn\u001b[49m\u001b[43m(\u001b[49m\u001b[38;5;241;43m*\u001b[39;49m\u001b[43margs\u001b[49m\u001b[43m,\u001b[49m\u001b[43m \u001b[49m\u001b[38;5;241;43m*\u001b[39;49m\u001b[38;5;241;43m*\u001b[39;49m\u001b[43mkwds\u001b[49m\u001b[43m)\u001b[49m\n\u001b[1;32m    920\u001b[0m \u001b[38;5;28;01mif\u001b[39;00m \u001b[38;5;28mself\u001b[39m\u001b[38;5;241m.\u001b[39m_created_variables \u001b[38;5;129;01mand\u001b[39;00m \u001b[38;5;129;01mnot\u001b[39;00m ALLOW_DYNAMIC_VARIABLE_CREATION:\n\u001b[1;32m    921\u001b[0m   \u001b[38;5;28;01mraise\u001b[39;00m \u001b[38;5;167;01mValueError\u001b[39;00m(\u001b[38;5;124m\"\u001b[39m\u001b[38;5;124mCreating variables on a non-first call to a function\u001b[39m\u001b[38;5;124m\"\u001b[39m\n\u001b[1;32m    922\u001b[0m                    \u001b[38;5;124m\"\u001b[39m\u001b[38;5;124m decorated with tf.function.\u001b[39m\u001b[38;5;124m\"\u001b[39m)\n",
      "File \u001b[0;32m~/miniforge3/envs/py3p10_221222/lib/python3.10/site-packages/tensorflow/python/eager/polymorphic_function/tracing_compiler.py:134\u001b[0m, in \u001b[0;36mTracingCompiler.__call__\u001b[0;34m(self, *args, **kwargs)\u001b[0m\n\u001b[1;32m    131\u001b[0m \u001b[38;5;28;01mwith\u001b[39;00m \u001b[38;5;28mself\u001b[39m\u001b[38;5;241m.\u001b[39m_lock:\n\u001b[1;32m    132\u001b[0m   (concrete_function,\n\u001b[1;32m    133\u001b[0m    filtered_flat_args) \u001b[38;5;241m=\u001b[39m \u001b[38;5;28mself\u001b[39m\u001b[38;5;241m.\u001b[39m_maybe_define_function(args, kwargs)\n\u001b[0;32m--> 134\u001b[0m \u001b[38;5;28;01mreturn\u001b[39;00m \u001b[43mconcrete_function\u001b[49m\u001b[38;5;241;43m.\u001b[39;49m\u001b[43m_call_flat\u001b[49m\u001b[43m(\u001b[49m\n\u001b[1;32m    135\u001b[0m \u001b[43m    \u001b[49m\u001b[43mfiltered_flat_args\u001b[49m\u001b[43m,\u001b[49m\u001b[43m \u001b[49m\u001b[43mcaptured_inputs\u001b[49m\u001b[38;5;241;43m=\u001b[39;49m\u001b[43mconcrete_function\u001b[49m\u001b[38;5;241;43m.\u001b[39;49m\u001b[43mcaptured_inputs\u001b[49m\u001b[43m)\u001b[49m\n",
      "File \u001b[0;32m~/miniforge3/envs/py3p10_221222/lib/python3.10/site-packages/tensorflow/python/eager/polymorphic_function/monomorphic_function.py:1745\u001b[0m, in \u001b[0;36mConcreteFunction._call_flat\u001b[0;34m(self, args, captured_inputs, cancellation_manager)\u001b[0m\n\u001b[1;32m   1741\u001b[0m possible_gradient_type \u001b[38;5;241m=\u001b[39m gradients_util\u001b[38;5;241m.\u001b[39mPossibleTapeGradientTypes(args)\n\u001b[1;32m   1742\u001b[0m \u001b[38;5;28;01mif\u001b[39;00m (possible_gradient_type \u001b[38;5;241m==\u001b[39m gradients_util\u001b[38;5;241m.\u001b[39mPOSSIBLE_GRADIENT_TYPES_NONE\n\u001b[1;32m   1743\u001b[0m     \u001b[38;5;129;01mand\u001b[39;00m executing_eagerly):\n\u001b[1;32m   1744\u001b[0m   \u001b[38;5;66;03m# No tape is watching; skip to running the function.\u001b[39;00m\n\u001b[0;32m-> 1745\u001b[0m   \u001b[38;5;28;01mreturn\u001b[39;00m \u001b[38;5;28mself\u001b[39m\u001b[38;5;241m.\u001b[39m_build_call_outputs(\u001b[38;5;28;43mself\u001b[39;49m\u001b[38;5;241;43m.\u001b[39;49m\u001b[43m_inference_function\u001b[49m\u001b[38;5;241;43m.\u001b[39;49m\u001b[43mcall\u001b[49m\u001b[43m(\u001b[49m\n\u001b[1;32m   1746\u001b[0m \u001b[43m      \u001b[49m\u001b[43mctx\u001b[49m\u001b[43m,\u001b[49m\u001b[43m \u001b[49m\u001b[43margs\u001b[49m\u001b[43m,\u001b[49m\u001b[43m \u001b[49m\u001b[43mcancellation_manager\u001b[49m\u001b[38;5;241;43m=\u001b[39;49m\u001b[43mcancellation_manager\u001b[49m\u001b[43m)\u001b[49m)\n\u001b[1;32m   1747\u001b[0m forward_backward \u001b[38;5;241m=\u001b[39m \u001b[38;5;28mself\u001b[39m\u001b[38;5;241m.\u001b[39m_select_forward_and_backward_functions(\n\u001b[1;32m   1748\u001b[0m     args,\n\u001b[1;32m   1749\u001b[0m     possible_gradient_type,\n\u001b[1;32m   1750\u001b[0m     executing_eagerly)\n\u001b[1;32m   1751\u001b[0m forward_function, args_with_tangents \u001b[38;5;241m=\u001b[39m forward_backward\u001b[38;5;241m.\u001b[39mforward()\n",
      "File \u001b[0;32m~/miniforge3/envs/py3p10_221222/lib/python3.10/site-packages/tensorflow/python/eager/polymorphic_function/monomorphic_function.py:378\u001b[0m, in \u001b[0;36m_EagerDefinedFunction.call\u001b[0;34m(self, ctx, args, cancellation_manager)\u001b[0m\n\u001b[1;32m    376\u001b[0m \u001b[38;5;28;01mwith\u001b[39;00m _InterpolateFunctionError(\u001b[38;5;28mself\u001b[39m):\n\u001b[1;32m    377\u001b[0m   \u001b[38;5;28;01mif\u001b[39;00m cancellation_manager \u001b[38;5;129;01mis\u001b[39;00m \u001b[38;5;28;01mNone\u001b[39;00m:\n\u001b[0;32m--> 378\u001b[0m     outputs \u001b[38;5;241m=\u001b[39m \u001b[43mexecute\u001b[49m\u001b[38;5;241;43m.\u001b[39;49m\u001b[43mexecute\u001b[49m\u001b[43m(\u001b[49m\n\u001b[1;32m    379\u001b[0m \u001b[43m        \u001b[49m\u001b[38;5;28;43mstr\u001b[39;49m\u001b[43m(\u001b[49m\u001b[38;5;28;43mself\u001b[39;49m\u001b[38;5;241;43m.\u001b[39;49m\u001b[43msignature\u001b[49m\u001b[38;5;241;43m.\u001b[39;49m\u001b[43mname\u001b[49m\u001b[43m)\u001b[49m\u001b[43m,\u001b[49m\n\u001b[1;32m    380\u001b[0m \u001b[43m        \u001b[49m\u001b[43mnum_outputs\u001b[49m\u001b[38;5;241;43m=\u001b[39;49m\u001b[38;5;28;43mself\u001b[39;49m\u001b[38;5;241;43m.\u001b[39;49m\u001b[43m_num_outputs\u001b[49m\u001b[43m,\u001b[49m\n\u001b[1;32m    381\u001b[0m \u001b[43m        \u001b[49m\u001b[43minputs\u001b[49m\u001b[38;5;241;43m=\u001b[39;49m\u001b[43margs\u001b[49m\u001b[43m,\u001b[49m\n\u001b[1;32m    382\u001b[0m \u001b[43m        \u001b[49m\u001b[43mattrs\u001b[49m\u001b[38;5;241;43m=\u001b[39;49m\u001b[43mattrs\u001b[49m\u001b[43m,\u001b[49m\n\u001b[1;32m    383\u001b[0m \u001b[43m        \u001b[49m\u001b[43mctx\u001b[49m\u001b[38;5;241;43m=\u001b[39;49m\u001b[43mctx\u001b[49m\u001b[43m)\u001b[49m\n\u001b[1;32m    384\u001b[0m   \u001b[38;5;28;01melse\u001b[39;00m:\n\u001b[1;32m    385\u001b[0m     outputs \u001b[38;5;241m=\u001b[39m execute\u001b[38;5;241m.\u001b[39mexecute_with_cancellation(\n\u001b[1;32m    386\u001b[0m         \u001b[38;5;28mstr\u001b[39m(\u001b[38;5;28mself\u001b[39m\u001b[38;5;241m.\u001b[39msignature\u001b[38;5;241m.\u001b[39mname),\n\u001b[1;32m    387\u001b[0m         num_outputs\u001b[38;5;241m=\u001b[39m\u001b[38;5;28mself\u001b[39m\u001b[38;5;241m.\u001b[39m_num_outputs,\n\u001b[0;32m   (...)\u001b[0m\n\u001b[1;32m    390\u001b[0m         ctx\u001b[38;5;241m=\u001b[39mctx,\n\u001b[1;32m    391\u001b[0m         cancellation_manager\u001b[38;5;241m=\u001b[39mcancellation_manager)\n",
      "File \u001b[0;32m~/miniforge3/envs/py3p10_221222/lib/python3.10/site-packages/tensorflow/python/eager/execute.py:52\u001b[0m, in \u001b[0;36mquick_execute\u001b[0;34m(op_name, num_outputs, inputs, attrs, ctx, name)\u001b[0m\n\u001b[1;32m     50\u001b[0m \u001b[38;5;28;01mtry\u001b[39;00m:\n\u001b[1;32m     51\u001b[0m   ctx\u001b[38;5;241m.\u001b[39mensure_initialized()\n\u001b[0;32m---> 52\u001b[0m   tensors \u001b[38;5;241m=\u001b[39m \u001b[43mpywrap_tfe\u001b[49m\u001b[38;5;241;43m.\u001b[39;49m\u001b[43mTFE_Py_Execute\u001b[49m\u001b[43m(\u001b[49m\u001b[43mctx\u001b[49m\u001b[38;5;241;43m.\u001b[39;49m\u001b[43m_handle\u001b[49m\u001b[43m,\u001b[49m\u001b[43m \u001b[49m\u001b[43mdevice_name\u001b[49m\u001b[43m,\u001b[49m\u001b[43m \u001b[49m\u001b[43mop_name\u001b[49m\u001b[43m,\u001b[49m\n\u001b[1;32m     53\u001b[0m \u001b[43m                                      \u001b[49m\u001b[43minputs\u001b[49m\u001b[43m,\u001b[49m\u001b[43m \u001b[49m\u001b[43mattrs\u001b[49m\u001b[43m,\u001b[49m\u001b[43m \u001b[49m\u001b[43mnum_outputs\u001b[49m\u001b[43m)\u001b[49m\n\u001b[1;32m     54\u001b[0m \u001b[38;5;28;01mexcept\u001b[39;00m core\u001b[38;5;241m.\u001b[39m_NotOkStatusException \u001b[38;5;28;01mas\u001b[39;00m e:\n\u001b[1;32m     55\u001b[0m   \u001b[38;5;28;01mif\u001b[39;00m name \u001b[38;5;129;01mis\u001b[39;00m \u001b[38;5;129;01mnot\u001b[39;00m \u001b[38;5;28;01mNone\u001b[39;00m:\n",
      "\u001b[0;31mKeyboardInterrupt\u001b[0m: "
     ]
    }
   ],
   "source": [
    "###\n",
    "###  Fit and save our model!\n",
    "###\n",
    "\n",
    "from tensorflow.keras.callbacks import EarlyStopping\n",
    "\n",
    "history = new_model.fit(\n",
    "            model_in, [model_p, model_v], epochs=1000, batch_size=100,\n",
    "            validation_data=(val_model_in, [val_model_p, val_model_v]),\n",
    "            callbacks=[EarlyStopping(monitor='val_loss', patience=20, restore_best_weights=True)])\n",
    "\n",
    "new_model.save(new_model_name)\n"
   ]
  },
  {
   "cell_type": "code",
   "execution_count": null,
   "id": "9fac025f",
   "metadata": {},
   "outputs": [],
   "source": [
    "###\n",
    "###  View a few predictions of this model\n",
    "###\n",
    "\n",
    "test_model_p, test_model_v = new_model(val_model_in)\n",
    "test_model_p, test_model_v = test_model_p.numpy(), test_model_v.numpy()\n",
    "\n",
    "test_indices = np.arange(10) \n",
    "\n",
    "print(\"Policy cross-check\")\n",
    "for i in test_indices :\n",
    "    print(\",  \".join([f\"{p:.2f}\" for p in val_model_p[i]]) + \"  -->  \" + \",  \".join([f\"{p:.2f}\" for p in test_model_p[i]]))\n",
    "\n",
    "print(\"\\nValue cross-check\")\n",
    "for i in test_indices :\n",
    "    print(\",  \".join([f\"{v:.2f}\" for v in val_model_v[i]]) + \"  -->  \" + \",  \".join([f\"{v:.2f}\" for v in test_model_v[i]]))\n"
   ]
  },
  {
   "cell_type": "code",
   "execution_count": null,
   "id": "145c3b16",
   "metadata": {},
   "outputs": [],
   "source": [
    "###\n",
    "###  Visualise our training curves\n",
    "###\n",
    "\n",
    "monitor_pairs = [[\"loss\"       , \"val_loss\"],\n",
    "                 [\"policy_loss\", \"val_policy_loss\"],\n",
    "                 [\"value_loss\" , \"val_value_loss\"]]\n",
    "\n",
    "for do_log in [False, True] :\n",
    "    \n",
    "    num_axes = len(monitor_pairs)\n",
    "    fig      = plt.figure(figsize=(4*num_axes, 3))\n",
    "    for ax_idx, monitor_pair in enumerate(monitor_pairs) :\n",
    "        ax  = fig.add_subplot(1, num_axes, 1+ax_idx)\n",
    "        ax.plot(history.history[monitor_pair[0]], \"-\", lw=3, c=\"r\", alpha=0.5, label=monitor_pair[0])\n",
    "        ax.plot(history.history[monitor_pair[1]], \"-\", lw=3, c=\"b\", alpha=0.5, label=monitor_pair[1])\n",
    "        ax.legend(loc=\"upper right\", frameon=False, fontsize=10)\n",
    "        ax.set_xlabel(\"Epoch\", labelpad=15, fontsize=11, ha=\"center\", va=\"top\")\n",
    "        if do_log : ax.set_yscale(\"log\")\n",
    "    plt.show(fig)\n",
    "    plt.close(fig)\n",
    "    "
   ]
  },
  {
   "cell_type": "code",
   "execution_count": null,
   "id": "ad1af509",
   "metadata": {},
   "outputs": [],
   "source": []
  }
 ],
 "metadata": {
  "kernelspec": {
   "display_name": "Python 3 (ipykernel)",
   "language": "python",
   "name": "python3"
  },
  "language_info": {
   "codemirror_mode": {
    "name": "ipython",
    "version": 3
   },
   "file_extension": ".py",
   "mimetype": "text/x-python",
   "name": "python",
   "nbconvert_exporter": "python",
   "pygments_lexer": "ipython3",
   "version": "3.10.8"
  }
 },
 "nbformat": 4,
 "nbformat_minor": 5
}
