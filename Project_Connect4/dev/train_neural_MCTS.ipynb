{
 "cells": [
  {
   "cell_type": "markdown",
   "id": "d69d1a5f",
   "metadata": {},
   "source": [
    "# Train neural MCTS\n",
    "\n",
    "---\n",
    "\n",
    "Author: S. Menary [sbmenary@gmail.com]\n",
    "\n",
    "Date  : 2023-01-15, last edit 2023-01-19\n",
    "\n",
    "Brief : Train a bot neural network by playing games using a previous bot generation (vanilla MCTS if this is the first iteration)\n",
    "\n",
    "---"
   ]
  },
  {
   "cell_type": "markdown",
   "id": "ef54ef68",
   "metadata": {},
   "source": [
    "## Imports\n",
    "\n",
    "---"
   ]
  },
  {
   "cell_type": "code",
   "execution_count": 1,
   "id": "ff93cc0a",
   "metadata": {},
   "outputs": [],
   "source": [
    "##=====================================##\n",
    "##  All imports should be placed here  ##\n",
    "##=====================================##\n",
    "\n",
    "##  Python core libs\n",
    "import pickle, sys, time\n",
    "\n",
    "##  PyPI libs\n",
    "import numpy as np\n",
    "from matplotlib import pyplot as plt\n",
    "\n",
    "##  Local packages\n",
    "from connect4.utils    import DebugLevel\n",
    "from connect4.game     import BinaryPlayer, GameBoard, GameResult\n",
    "from connect4.MCTS     import Node_NeuralMCTS, PolicyStrategy\n",
    "from connect4.bot      import Bot_NeuralMCTS, Bot_VanillaMCTS\n",
    "from connect4.parallel import generate_from_processes\n",
    "from connect4.methods  import get_training_data_from_bot_game\n"
   ]
  },
  {
   "cell_type": "code",
   "execution_count": 2,
   "id": "f7e7c892",
   "metadata": {},
   "outputs": [
    {
     "name": "stdout",
     "output_type": "stream",
     "text": [
      "      Python version is 3.10.8 | packaged by conda-forge | (main, Nov 22 2022, 08:25:29) [Clang 14.0.6 ]\n",
      "       Numpy version is 1.23.2\n"
     ]
    }
   ],
   "source": [
    "##=====================================##\n",
    "##  Print version for reproducibility  ##\n",
    "##=====================================##\n",
    "\n",
    "print(f\"{'Python'    .rjust(12)} version is {sys.version}\")\n",
    "print(f\"{'Numpy'     .rjust(12)} version is {np.__version__}\")\n"
   ]
  },
  {
   "cell_type": "markdown",
   "id": "cf249c2f",
   "metadata": {},
   "source": [
    "---\n",
    "\n",
    "##  Configure run\n",
    "\n",
    "---"
   ]
  },
  {
   "cell_type": "code",
   "execution_count": 3,
   "id": "094a5692",
   "metadata": {},
   "outputs": [
    {
     "name": "stdout",
     "output_type": "stream",
     "text": [
      "Using old model: ../models/.neural_model_v4.h5\n",
      "Using new model: ../models/.neural_model_v5.h5\n",
      "Using data file: ../data/.training_data_v5.pickle\n"
     ]
    }
   ],
   "source": [
    "##============================##\n",
    "##  Set global config values  ##\n",
    "##============================##\n",
    "\n",
    "model_idx      = 5\n",
    "old_model_name = f\"../models/.neural_model_v{model_idx-1}.h5\"\n",
    "new_model_name = f\"../models/.neural_model_v{model_idx}.h5\"\n",
    "\n",
    "load_data  = False\n",
    "save_data  = not load_data\n",
    "data_fname = f\"../data/.training_data_v{model_idx}.pickle\"\n",
    "\n",
    "tune_previous_model = True       ## whether to load+tune previous model or create+train new one\n",
    "\n",
    "num_processes      = 7\n",
    "num_games_per_proc = 50\n",
    "base_seed          = int(time.time())\n",
    "duration           = 5\n",
    "discount           = 0.99\n",
    "monitor_frequency  = 3\n",
    "\n",
    "print(f\"Using old model: {old_model_name}\")\n",
    "print(f\"Using new model: {new_model_name}\")\n",
    "print(f\"Using data file: {data_fname}\")\n"
   ]
  },
  {
   "cell_type": "markdown",
   "id": "ccad4ef1",
   "metadata": {},
   "source": [
    "---\n",
    "\n",
    "## Data generation and preprocessing\n",
    "\n",
    "---"
   ]
  },
  {
   "cell_type": "code",
   "execution_count": 4,
   "id": "e50c3b49",
   "metadata": {},
   "outputs": [],
   "source": [
    "##========================================================================##\n",
    "##  Define method allowing data to be generated in parallel subprocesses  ##\n",
    "##========================================================================##\n",
    "\n",
    "##  N.B. connect4.neural import must be performed inside the method executed inside each child process\n",
    "##  to avoid a deadlock caused when a tf session has already been created in __main__\n",
    "\n",
    "def generate_datapoints_process(proc_idx, num_games, out_queue, argv) :\n",
    "    from connect4.neural import load_model\n",
    "    model_name, duration, discount, base_seed = argv\n",
    "    np.random.seed(base_seed+proc_idx)\n",
    "    model = load_model(model_name) if len(model_name) > 0 else None\n",
    "    for game_idx in range(num_games) :\n",
    "        _ = get_training_data_from_bot_game(model, duration, discount)\n",
    "        out_queue.put(_)\n"
   ]
  },
  {
   "cell_type": "code",
   "execution_count": 5,
   "id": "dc26dd5c",
   "metadata": {},
   "outputs": [
    {
     "name": "stdout",
     "output_type": "stream",
     "text": [
      "Generating 350 datapoints with base seed 1674140935\n",
      "Using duration = 5.000\n",
      "Using discount = 0.990\n",
      "Generated 350 / 350 results [t=7203.46s]\n",
      "Generation complete [t=7203.46s] [n=350]\n"
     ]
    }
   ],
   "source": [
    "##======================##\n",
    "##  Generate/load data  ##\n",
    "##======================##\n",
    "\n",
    "if load_data :\n",
    "    ##  Load data from pickle file\n",
    "    print(f\"Loading data from file: {data_fname}\")\n",
    "    loaded   = pickle.load(open(data_fname, \"rb\"))\n",
    "    model_in = loaded[\"model_in\"]\n",
    "    model_p  = loaded[\"model_p\" ]\n",
    "    model_v  = loaded[\"model_v\" ]\n",
    "else :\n",
    "    ##  Run subprocesses to generate new data\n",
    "    print(f\"Generating {num_processes*num_games_per_proc} datapoints with base seed {base_seed}\")\n",
    "    print(f\"Using duration = {duration:.3f}\\nUsing discount = {discount:.3f}\")\n",
    "    results = generate_from_processes(\n",
    "        func                 = generate_datapoints_process, \n",
    "        func_args            = [old_model_name, duration, discount, base_seed],\n",
    "        num_proc             = num_processes, \n",
    "        num_results_per_proc = num_games_per_proc, \n",
    "        mon_freq             = monitor_frequency)\n",
    "                              \n",
    "    ##  Retrieve training data from worker thread\n",
    "    model_in = np.concatenate([r[0] for r in results])\n",
    "    model_p  = np.concatenate([r[1] for r in results])\n",
    "    model_v  = np.concatenate([r[2] for r in results])\n",
    "    "
   ]
  },
  {
   "cell_type": "code",
   "execution_count": 6,
   "id": "de515dff",
   "metadata": {},
   "outputs": [
    {
     "name": "stdout",
     "output_type": "stream",
     "text": [
      "Saving data to file: ../data/.training_data_v5.pickle\n"
     ]
    }
   ],
   "source": [
    "##=============##\n",
    "##  Save data  ##\n",
    "##=============##\n",
    "\n",
    "if save_data :\n",
    "    print(f\"Saving data to file: {data_fname}\")\n",
    "    to_save = {\"model_in\":model_in, \"model_p\":model_p, \"model_v\":model_v, \n",
    "               \"base_seed\":base_seed, \"duration\":duration, \"discount\":discount}\n",
    "    pickle.dump(to_save, open(data_fname, \"wb\"))\n",
    "else :\n",
    "    print(\"Not saving data because it was loaded from file\")\n",
    "    "
   ]
  },
  {
   "cell_type": "code",
   "execution_count": 7,
   "id": "4bc238c9",
   "metadata": {},
   "outputs": [
    {
     "name": "stdout",
     "output_type": "stream",
     "text": [
      "model_in with shape: (9771, 7, 6, 1)\n",
      "model_p  with shape: (9771, 7)\n",
      "model_v  with shape: (9771, 1)\n"
     ]
    }
   ],
   "source": [
    "##================================##\n",
    "##  Report on the data generated  ##\n",
    "##================================##\n",
    "\n",
    "print(f\"model_in with shape: {model_in.shape}\")\n",
    "print(f\"model_p  with shape: {model_p .shape}\")\n",
    "print(f\"model_v  with shape: {model_v .shape}\")"
   ]
  },
  {
   "cell_type": "code",
   "execution_count": 8,
   "id": "82ef1d16",
   "metadata": {},
   "outputs": [
    {
     "name": "stdout",
     "output_type": "stream",
     "text": [
      "Created training set of size 6839\n",
      "Created validation set of size 2932\n"
     ]
    }
   ],
   "source": [
    "##===================================##\n",
    "##  Data Augmentation and splitting  ##\n",
    "##===================================##\n",
    "\n",
    "##  Randomly flip board and posterior in x-direction to created augmented dataset reflecting game symmetry\n",
    "for idx in range(len(model_in)) :\n",
    "    if np.random.choice([True, False]) : continue\n",
    "    model_in[idx] = np.flip(model_in[idx], axis=0)\n",
    "    model_p [idx] = np.flip(model_p [idx], axis=0)\n",
    "\n",
    "##  Shuffle data\n",
    "indices = np.arange(len(model_in))\n",
    "np.random.shuffle(indices)\n",
    "model_in, model_p, model_v = model_in[indices], model_p [indices], model_v [indices]\n",
    "\n",
    "##  Split data into train and val sets\n",
    "num_datapoints = len(model_in)\n",
    "split_idx = int(0.7*num_datapoints)\n",
    "\n",
    "train_model_in = model_in[:split_idx]\n",
    "train_model_p  = model_p [:split_idx]\n",
    "train_model_v  = model_v [:split_idx]\n",
    "\n",
    "val_model_in = model_in[split_idx:]\n",
    "val_model_p  = model_p [split_idx:]\n",
    "val_model_v  = model_v [split_idx:]\n",
    "\n",
    "print(f\"Created training set of size {len(train_model_v)}\")\n",
    "print(f\"Created validation set of size {len(val_model_v)}\")\n"
   ]
  },
  {
   "cell_type": "markdown",
   "id": "46afdac1",
   "metadata": {},
   "source": [
    "---\n",
    "\n",
    "## Model training\n",
    "\n",
    "---"
   ]
  },
  {
   "cell_type": "code",
   "execution_count": 9,
   "id": "ea6c950d",
   "metadata": {
    "scrolled": true
   },
   "outputs": [
    {
     "name": "stdout",
     "output_type": "stream",
     "text": [
      "Loading model from previous iteration\n",
      "Model: \"../models/.neural_model_v2.h5\"\n",
      "__________________________________________________________________________________________________\n",
      " Layer (type)                   Output Shape         Param #     Connected to                     \n",
      "==================================================================================================\n",
      " game_board_input (InputLayer)  [(None, 7, 6, 1)]    0           []                               \n",
      "                                                                                                  \n",
      " conv0_conv2d (Conv2D)          (None, 7, 6, 40)     400         ['game_board_input[0][0]']       \n",
      "                                                                                                  \n",
      " conv0_skipconnect (Concatenate  (None, 7, 6, 41)    0           ['conv0_conv2d[0][0]',           \n",
      " )                                                                'game_board_input[0][0]']       \n",
      "                                                                                                  \n",
      " conv0_dropout (Dropout)        (None, 7, 6, 41)     0           ['conv0_skipconnect[0][0]']      \n",
      "                                                                                                  \n",
      " conv1_conv2d (Conv2D)          (None, 7, 6, 40)     14800       ['conv0_dropout[0][0]']          \n",
      "                                                                                                  \n",
      " conv1_skipconnect (Concatenate  (None, 7, 6, 81)    0           ['conv1_conv2d[0][0]',           \n",
      " )                                                                'conv0_dropout[0][0]']          \n",
      "                                                                                                  \n",
      " conv1_dropout (Dropout)        (None, 7, 6, 81)     0           ['conv1_skipconnect[0][0]']      \n",
      "                                                                                                  \n",
      " conv2_conv2d (Conv2D)          (None, 7, 6, 40)     29200       ['conv1_dropout[0][0]']          \n",
      "                                                                                                  \n",
      " conv2_skipconnect (Concatenate  (None, 7, 6, 121)   0           ['conv2_conv2d[0][0]',           \n",
      " )                                                                'conv1_dropout[0][0]']          \n",
      "                                                                                                  \n",
      " conv2_dropout (Dropout)        (None, 7, 6, 121)    0           ['conv2_skipconnect[0][0]']      \n",
      "                                                                                                  \n",
      " conv3_conv2d (Conv2D)          (None, 7, 6, 40)     43600       ['conv2_dropout[0][0]']          \n",
      "                                                                                                  \n",
      " conv3_skipconnect (Concatenate  (None, 7, 6, 161)   0           ['conv3_conv2d[0][0]',           \n",
      " )                                                                'conv2_dropout[0][0]']          \n",
      "                                                                                                  \n",
      " conv3_dropout (Dropout)        (None, 7, 6, 161)    0           ['conv3_skipconnect[0][0]']      \n",
      "                                                                                                  \n",
      " flatten (Flatten)              (None, 6762)         0           ['conv3_dropout[0][0]']          \n",
      "                                                                                                  \n",
      " dense0_feedforward (Dense)     (None, 400)          2705200     ['flatten[0][0]']                \n",
      "                                                                                                  \n",
      " dense0_dropout (Dropout)       (None, 400)          0           ['dense0_feedforward[0][0]']     \n",
      "                                                                                                  \n",
      " dense1_feedforward (Dense)     (None, 400)          160400      ['dense0_dropout[0][0]']         \n",
      "                                                                                                  \n",
      " dense1_dropout (Dropout)       (None, 400)          0           ['dense1_feedforward[0][0]']     \n",
      "                                                                                                  \n",
      " dense2_feedforward (Dense)     (None, 400)          160400      ['dense1_dropout[0][0]']         \n",
      "                                                                                                  \n",
      " dense2_dropout (Dropout)       (None, 400)          0           ['dense2_feedforward[0][0]']     \n",
      "                                                                                                  \n",
      " policy_process (Dense)         (None, 400)          160400      ['dense2_dropout[0][0]']         \n",
      "                                                                                                  \n",
      " policy_logit (Dense)           (None, 7)            2807        ['policy_process[0][0]']         \n",
      "                                                                                                  \n",
      " value_process (Dense)          (None, 400)          160400      ['dense2_dropout[0][0]']         \n",
      "                                                                                                  \n",
      " policy (Softmax)               (None, 7)            0           ['policy_logit[0][0]']           \n",
      "                                                                                                  \n",
      " value (Dense)                  (None, 1)            401         ['value_process[0][0]']          \n",
      "                                                                                                  \n",
      "==================================================================================================\n",
      "Total params: 3,438,008\n",
      "Trainable params: 3,438,008\n",
      "Non-trainable params: 0\n",
      "__________________________________________________________________________________________________\n"
     ]
    }
   ],
   "source": [
    "##=========================##\n",
    "##  Create/load the model  ##\n",
    "##=========================##\n",
    "\n",
    "##  Must import neural module here because it uses tensorflow, which breaks the subprocessing if done above\n",
    "from connect4.neural import create_model, load_model\n",
    "\n",
    "##  Load or create model\n",
    "if tune_previous_model :\n",
    "    print(\"Loading model from previous iteration\")\n",
    "    new_model = load_model(old_model_name)\n",
    "else :\n",
    "    print(\"Creating new model\")\n",
    "    new_model = create_model(name=new_model_name, num_conv_blocks=4, num_filters=40, num_dense=5, \n",
    "                         dense_width=200, batch_norm=True)\n",
    "\n",
    "##  Print model summary\n",
    "new_model.summary()\n"
   ]
  },
  {
   "cell_type": "code",
   "execution_count": 10,
   "id": "75e95745",
   "metadata": {
    "scrolled": true
   },
   "outputs": [
    {
     "name": "stdout",
     "output_type": "stream",
     "text": [
      "Epoch 1/1000\n"
     ]
    },
    {
     "name": "stderr",
     "output_type": "stream",
     "text": [
      "2023-01-19 17:09:01.257215: W tensorflow/tsl/platform/profile_utils/cpu_utils.cc:128] Failed to get CPU frequency: 0 Hz\n"
     ]
    },
    {
     "name": "stdout",
     "output_type": "stream",
     "text": [
      "98/98 [==============================] - 4s 33ms/step - loss: 2.0386 - policy_loss: 1.4163 - value_loss: 0.6223 - val_loss: 1.8003 - val_policy_loss: 1.2549 - val_value_loss: 0.5454\n",
      "Epoch 2/1000\n",
      "98/98 [==============================] - 3s 34ms/step - loss: 1.8449 - policy_loss: 1.3067 - value_loss: 0.5383 - val_loss: 1.6432 - val_policy_loss: 1.1722 - val_value_loss: 0.4710\n",
      "Epoch 3/1000\n",
      "98/98 [==============================] - 3s 35ms/step - loss: 1.7430 - policy_loss: 1.2533 - value_loss: 0.4896 - val_loss: 1.5243 - val_policy_loss: 1.1179 - val_value_loss: 0.4063\n",
      "Epoch 4/1000\n",
      "98/98 [==============================] - 3s 35ms/step - loss: 1.6597 - policy_loss: 1.2076 - value_loss: 0.4522 - val_loss: 1.4429 - val_policy_loss: 1.0694 - val_value_loss: 0.3735\n",
      "Epoch 5/1000\n",
      "98/98 [==============================] - 3s 34ms/step - loss: 1.5979 - policy_loss: 1.1775 - value_loss: 0.4204 - val_loss: 1.3812 - val_policy_loss: 1.0435 - val_value_loss: 0.3377\n",
      "Epoch 6/1000\n",
      "98/98 [==============================] - 3s 34ms/step - loss: 1.5526 - policy_loss: 1.1542 - value_loss: 0.3983 - val_loss: 1.3355 - val_policy_loss: 1.0177 - val_value_loss: 0.3178\n",
      "Epoch 7/1000\n",
      "98/98 [==============================] - 3s 34ms/step - loss: 1.5015 - policy_loss: 1.1241 - value_loss: 0.3773 - val_loss: 1.2842 - val_policy_loss: 0.9827 - val_value_loss: 0.3015\n",
      "Epoch 8/1000\n",
      "98/98 [==============================] - 3s 34ms/step - loss: 1.4432 - policy_loss: 1.0955 - value_loss: 0.3477 - val_loss: 1.2331 - val_policy_loss: 0.9514 - val_value_loss: 0.2818\n",
      "Epoch 9/1000\n",
      "98/98 [==============================] - 3s 35ms/step - loss: 1.4302 - policy_loss: 1.0859 - value_loss: 0.3443 - val_loss: 1.1971 - val_policy_loss: 0.9270 - val_value_loss: 0.2701\n",
      "Epoch 10/1000\n",
      "98/98 [==============================] - 3s 34ms/step - loss: 1.3762 - policy_loss: 1.0529 - value_loss: 0.3234 - val_loss: 1.1616 - val_policy_loss: 0.9056 - val_value_loss: 0.2559\n",
      "Epoch 11/1000\n",
      "98/98 [==============================] - 3s 35ms/step - loss: 1.3709 - policy_loss: 1.0477 - value_loss: 0.3232 - val_loss: 1.1496 - val_policy_loss: 0.8972 - val_value_loss: 0.2523\n",
      "Epoch 12/1000\n",
      "98/98 [==============================] - 3s 36ms/step - loss: 1.3417 - policy_loss: 1.0339 - value_loss: 0.3078 - val_loss: 1.1238 - val_policy_loss: 0.8867 - val_value_loss: 0.2371\n",
      "Epoch 13/1000\n",
      "98/98 [==============================] - 3s 35ms/step - loss: 1.3131 - policy_loss: 1.0133 - value_loss: 0.2998 - val_loss: 1.0918 - val_policy_loss: 0.8635 - val_value_loss: 0.2283\n",
      "Epoch 14/1000\n",
      "98/98 [==============================] - 4s 36ms/step - loss: 1.2933 - policy_loss: 1.0050 - value_loss: 0.2883 - val_loss: 1.0749 - val_policy_loss: 0.8545 - val_value_loss: 0.2204\n",
      "Epoch 15/1000\n",
      "98/98 [==============================] - 3s 35ms/step - loss: 1.2770 - policy_loss: 0.9920 - value_loss: 0.2850 - val_loss: 1.0552 - val_policy_loss: 0.8395 - val_value_loss: 0.2157\n",
      "Epoch 16/1000\n",
      "98/98 [==============================] - 3s 36ms/step - loss: 1.2564 - policy_loss: 0.9766 - value_loss: 0.2799 - val_loss: 1.0461 - val_policy_loss: 0.8354 - val_value_loss: 0.2107\n",
      "Epoch 17/1000\n",
      "98/98 [==============================] - 3s 36ms/step - loss: 1.2482 - policy_loss: 0.9721 - value_loss: 0.2761 - val_loss: 1.0402 - val_policy_loss: 0.8304 - val_value_loss: 0.2098\n",
      "Epoch 18/1000\n",
      "98/98 [==============================] - 4s 36ms/step - loss: 1.2250 - policy_loss: 0.9582 - value_loss: 0.2669 - val_loss: 1.0186 - val_policy_loss: 0.8094 - val_value_loss: 0.2093\n",
      "Epoch 19/1000\n",
      "98/98 [==============================] - 4s 37ms/step - loss: 1.2107 - policy_loss: 0.9446 - value_loss: 0.2661 - val_loss: 1.0043 - val_policy_loss: 0.8046 - val_value_loss: 0.1998\n",
      "Epoch 20/1000\n",
      "98/98 [==============================] - 4s 36ms/step - loss: 1.1953 - policy_loss: 0.9357 - value_loss: 0.2596 - val_loss: 1.0025 - val_policy_loss: 0.8048 - val_value_loss: 0.1977\n",
      "Epoch 21/1000\n",
      "98/98 [==============================] - 4s 36ms/step - loss: 1.1912 - policy_loss: 0.9332 - value_loss: 0.2580 - val_loss: 0.9814 - val_policy_loss: 0.7863 - val_value_loss: 0.1951\n",
      "Epoch 22/1000\n",
      "98/98 [==============================] - 4s 37ms/step - loss: 1.1703 - policy_loss: 0.9225 - value_loss: 0.2478 - val_loss: 0.9778 - val_policy_loss: 0.7874 - val_value_loss: 0.1905\n",
      "Epoch 23/1000\n",
      "98/98 [==============================] - 4s 36ms/step - loss: 1.1607 - policy_loss: 0.9121 - value_loss: 0.2487 - val_loss: 0.9727 - val_policy_loss: 0.7818 - val_value_loss: 0.1909\n",
      "Epoch 24/1000\n",
      "98/98 [==============================] - 4s 36ms/step - loss: 1.1592 - policy_loss: 0.9143 - value_loss: 0.2450 - val_loss: 0.9691 - val_policy_loss: 0.7812 - val_value_loss: 0.1879\n",
      "Epoch 25/1000\n",
      "98/98 [==============================] - 4s 36ms/step - loss: 1.1490 - policy_loss: 0.9073 - value_loss: 0.2417 - val_loss: 0.9508 - val_policy_loss: 0.7669 - val_value_loss: 0.1839\n",
      "Epoch 26/1000\n",
      "98/98 [==============================] - 3s 36ms/step - loss: 1.1395 - policy_loss: 0.9015 - value_loss: 0.2380 - val_loss: 0.9485 - val_policy_loss: 0.7640 - val_value_loss: 0.1845\n",
      "Epoch 27/1000\n",
      "98/98 [==============================] - 4s 36ms/step - loss: 1.1319 - policy_loss: 0.8949 - value_loss: 0.2370 - val_loss: 0.9417 - val_policy_loss: 0.7583 - val_value_loss: 0.1833\n",
      "Epoch 28/1000\n",
      "98/98 [==============================] - 4s 36ms/step - loss: 1.1201 - policy_loss: 0.8852 - value_loss: 0.2349 - val_loss: 0.9389 - val_policy_loss: 0.7562 - val_value_loss: 0.1827\n",
      "Epoch 29/1000\n",
      "98/98 [==============================] - 4s 37ms/step - loss: 1.1148 - policy_loss: 0.8803 - value_loss: 0.2345 - val_loss: 0.9329 - val_policy_loss: 0.7530 - val_value_loss: 0.1798\n",
      "Epoch 30/1000\n",
      "98/98 [==============================] - 4s 37ms/step - loss: 1.1192 - policy_loss: 0.8839 - value_loss: 0.2353 - val_loss: 0.9333 - val_policy_loss: 0.7506 - val_value_loss: 0.1827\n",
      "Epoch 31/1000\n",
      "98/98 [==============================] - 4s 37ms/step - loss: 1.0965 - policy_loss: 0.8690 - value_loss: 0.2275 - val_loss: 0.9192 - val_policy_loss: 0.7428 - val_value_loss: 0.1764\n",
      "Epoch 32/1000\n",
      "98/98 [==============================] - 4s 37ms/step - loss: 1.0877 - policy_loss: 0.8639 - value_loss: 0.2238 - val_loss: 0.9190 - val_policy_loss: 0.7424 - val_value_loss: 0.1766\n",
      "Epoch 33/1000\n",
      "98/98 [==============================] - 4s 37ms/step - loss: 1.0971 - policy_loss: 0.8670 - value_loss: 0.2300 - val_loss: 0.9155 - val_policy_loss: 0.7397 - val_value_loss: 0.1758\n",
      "Epoch 34/1000\n",
      "98/98 [==============================] - 4s 37ms/step - loss: 1.0833 - policy_loss: 0.8615 - value_loss: 0.2218 - val_loss: 0.9181 - val_policy_loss: 0.7404 - val_value_loss: 0.1778\n",
      "Epoch 35/1000\n",
      "98/98 [==============================] - 4s 38ms/step - loss: 1.0744 - policy_loss: 0.8555 - value_loss: 0.2189 - val_loss: 0.9127 - val_policy_loss: 0.7397 - val_value_loss: 0.1730\n",
      "Epoch 36/1000\n",
      "98/98 [==============================] - 4s 38ms/step - loss: 1.0719 - policy_loss: 0.8526 - value_loss: 0.2194 - val_loss: 0.9064 - val_policy_loss: 0.7319 - val_value_loss: 0.1744\n",
      "Epoch 37/1000\n",
      "98/98 [==============================] - 4s 39ms/step - loss: 1.0735 - policy_loss: 0.8543 - value_loss: 0.2192 - val_loss: 0.9054 - val_policy_loss: 0.7331 - val_value_loss: 0.1723\n",
      "Epoch 38/1000\n",
      "98/98 [==============================] - 4s 40ms/step - loss: 1.0616 - policy_loss: 0.8452 - value_loss: 0.2165 - val_loss: 0.8958 - val_policy_loss: 0.7260 - val_value_loss: 0.1698\n",
      "Epoch 39/1000\n",
      "98/98 [==============================] - 4s 40ms/step - loss: 1.0506 - policy_loss: 0.8351 - value_loss: 0.2155 - val_loss: 0.8952 - val_policy_loss: 0.7252 - val_value_loss: 0.1700\n",
      "Epoch 40/1000\n",
      "98/98 [==============================] - 4s 41ms/step - loss: 1.0620 - policy_loss: 0.8413 - value_loss: 0.2208 - val_loss: 0.8938 - val_policy_loss: 0.7253 - val_value_loss: 0.1685\n",
      "Epoch 41/1000\n",
      "98/98 [==============================] - 4s 39ms/step - loss: 1.0620 - policy_loss: 0.8429 - value_loss: 0.2191 - val_loss: 0.8934 - val_policy_loss: 0.7257 - val_value_loss: 0.1677\n",
      "Epoch 42/1000\n",
      "98/98 [==============================] - 4s 41ms/step - loss: 1.0463 - policy_loss: 0.8355 - value_loss: 0.2108 - val_loss: 0.8909 - val_policy_loss: 0.7231 - val_value_loss: 0.1679\n"
     ]
    },
    {
     "name": "stdout",
     "output_type": "stream",
     "text": [
      "Epoch 43/1000\n",
      "98/98 [==============================] - 4s 41ms/step - loss: 1.0427 - policy_loss: 0.8325 - value_loss: 0.2101 - val_loss: 0.8925 - val_policy_loss: 0.7236 - val_value_loss: 0.1689\n",
      "Epoch 44/1000\n",
      "98/98 [==============================] - 4s 42ms/step - loss: 1.0430 - policy_loss: 0.8326 - value_loss: 0.2104 - val_loss: 0.8894 - val_policy_loss: 0.7213 - val_value_loss: 0.1682\n",
      "Epoch 45/1000\n",
      "98/98 [==============================] - 4s 42ms/step - loss: 1.0412 - policy_loss: 0.8337 - value_loss: 0.2075 - val_loss: 0.8849 - val_policy_loss: 0.7204 - val_value_loss: 0.1644\n",
      "Epoch 46/1000\n",
      "98/98 [==============================] - 4s 43ms/step - loss: 1.0407 - policy_loss: 0.8298 - value_loss: 0.2109 - val_loss: 0.8823 - val_policy_loss: 0.7161 - val_value_loss: 0.1662\n",
      "Epoch 47/1000\n",
      "98/98 [==============================] - 4s 44ms/step - loss: 1.0380 - policy_loss: 0.8262 - value_loss: 0.2117 - val_loss: 0.8800 - val_policy_loss: 0.7136 - val_value_loss: 0.1664\n",
      "Epoch 48/1000\n",
      "98/98 [==============================] - 4s 44ms/step - loss: 1.0301 - policy_loss: 0.8206 - value_loss: 0.2096 - val_loss: 0.8794 - val_policy_loss: 0.7152 - val_value_loss: 0.1642\n",
      "Epoch 49/1000\n",
      "98/98 [==============================] - 4s 43ms/step - loss: 1.0296 - policy_loss: 0.8217 - value_loss: 0.2079 - val_loss: 0.8854 - val_policy_loss: 0.7168 - val_value_loss: 0.1686\n",
      "Epoch 50/1000\n",
      "98/98 [==============================] - 4s 44ms/step - loss: 1.0301 - policy_loss: 0.8225 - value_loss: 0.2076 - val_loss: 0.8793 - val_policy_loss: 0.7160 - val_value_loss: 0.1633\n",
      "Epoch 51/1000\n",
      "98/98 [==============================] - 4s 42ms/step - loss: 1.0238 - policy_loss: 0.8190 - value_loss: 0.2048 - val_loss: 0.8751 - val_policy_loss: 0.7138 - val_value_loss: 0.1613\n",
      "Epoch 52/1000\n",
      "98/98 [==============================] - 4s 43ms/step - loss: 1.0199 - policy_loss: 0.8163 - value_loss: 0.2036 - val_loss: 0.8722 - val_policy_loss: 0.7092 - val_value_loss: 0.1629\n",
      "Epoch 53/1000\n",
      "98/98 [==============================] - 4s 42ms/step - loss: 1.0128 - policy_loss: 0.8092 - value_loss: 0.2036 - val_loss: 0.8678 - val_policy_loss: 0.7064 - val_value_loss: 0.1614\n",
      "Epoch 54/1000\n",
      "98/98 [==============================] - 4s 41ms/step - loss: 1.0119 - policy_loss: 0.8093 - value_loss: 0.2026 - val_loss: 0.8757 - val_policy_loss: 0.7124 - val_value_loss: 0.1632\n",
      "Epoch 55/1000\n",
      "98/98 [==============================] - 4s 43ms/step - loss: 1.0131 - policy_loss: 0.8096 - value_loss: 0.2035 - val_loss: 0.8716 - val_policy_loss: 0.7082 - val_value_loss: 0.1634\n",
      "Epoch 56/1000\n",
      "98/98 [==============================] - 4s 43ms/step - loss: 1.0111 - policy_loss: 0.8084 - value_loss: 0.2027 - val_loss: 0.8675 - val_policy_loss: 0.7044 - val_value_loss: 0.1630\n",
      "Epoch 57/1000\n",
      "98/98 [==============================] - 4s 44ms/step - loss: 1.0016 - policy_loss: 0.8049 - value_loss: 0.1967 - val_loss: 0.8667 - val_policy_loss: 0.7044 - val_value_loss: 0.1623\n",
      "Epoch 58/1000\n",
      "98/98 [==============================] - 4s 44ms/step - loss: 1.0084 - policy_loss: 0.8083 - value_loss: 0.2001 - val_loss: 0.8659 - val_policy_loss: 0.7034 - val_value_loss: 0.1625\n",
      "Epoch 59/1000\n",
      "98/98 [==============================] - 4s 43ms/step - loss: 1.0087 - policy_loss: 0.8074 - value_loss: 0.2013 - val_loss: 0.8651 - val_policy_loss: 0.7035 - val_value_loss: 0.1616\n",
      "Epoch 60/1000\n",
      "98/98 [==============================] - 4s 44ms/step - loss: 1.0059 - policy_loss: 0.8028 - value_loss: 0.2031 - val_loss: 0.8684 - val_policy_loss: 0.7065 - val_value_loss: 0.1619\n",
      "Epoch 61/1000\n",
      "98/98 [==============================] - 4s 44ms/step - loss: 1.0035 - policy_loss: 0.8023 - value_loss: 0.2012 - val_loss: 0.8611 - val_policy_loss: 0.7008 - val_value_loss: 0.1603\n",
      "Epoch 62/1000\n",
      "98/98 [==============================] - 4s 44ms/step - loss: 0.9946 - policy_loss: 0.7994 - value_loss: 0.1952 - val_loss: 0.8606 - val_policy_loss: 0.7006 - val_value_loss: 0.1600\n",
      "Epoch 63/1000\n",
      "98/98 [==============================] - 4s 43ms/step - loss: 0.9957 - policy_loss: 0.7975 - value_loss: 0.1982 - val_loss: 0.8612 - val_policy_loss: 0.7007 - val_value_loss: 0.1605\n",
      "Epoch 64/1000\n",
      "98/98 [==============================] - 4s 44ms/step - loss: 0.9931 - policy_loss: 0.7973 - value_loss: 0.1958 - val_loss: 0.8583 - val_policy_loss: 0.6966 - val_value_loss: 0.1617\n",
      "Epoch 65/1000\n",
      "98/98 [==============================] - 4s 45ms/step - loss: 0.9905 - policy_loss: 0.7941 - value_loss: 0.1964 - val_loss: 0.8550 - val_policy_loss: 0.6956 - val_value_loss: 0.1593\n",
      "Epoch 66/1000\n",
      "98/98 [==============================] - 4s 45ms/step - loss: 0.9929 - policy_loss: 0.7948 - value_loss: 0.1981 - val_loss: 0.8578 - val_policy_loss: 0.6984 - val_value_loss: 0.1594\n",
      "Epoch 67/1000\n",
      "98/98 [==============================] - 4s 43ms/step - loss: 0.9849 - policy_loss: 0.7897 - value_loss: 0.1952 - val_loss: 0.8510 - val_policy_loss: 0.6922 - val_value_loss: 0.1588\n",
      "Epoch 68/1000\n",
      "98/98 [==============================] - 4s 44ms/step - loss: 0.9922 - policy_loss: 0.7964 - value_loss: 0.1958 - val_loss: 0.8522 - val_policy_loss: 0.6955 - val_value_loss: 0.1567\n",
      "Epoch 69/1000\n",
      "98/98 [==============================] - 4s 45ms/step - loss: 0.9815 - policy_loss: 0.7884 - value_loss: 0.1931 - val_loss: 0.8542 - val_policy_loss: 0.6951 - val_value_loss: 0.1590\n",
      "Epoch 70/1000\n",
      "98/98 [==============================] - 4s 44ms/step - loss: 0.9822 - policy_loss: 0.7899 - value_loss: 0.1923 - val_loss: 0.8602 - val_policy_loss: 0.7003 - val_value_loss: 0.1599\n",
      "Epoch 71/1000\n",
      "98/98 [==============================] - 4s 44ms/step - loss: 0.9866 - policy_loss: 0.7917 - value_loss: 0.1949 - val_loss: 0.8576 - val_policy_loss: 0.6986 - val_value_loss: 0.1590\n",
      "Epoch 72/1000\n",
      "98/98 [==============================] - 4s 44ms/step - loss: 0.9926 - policy_loss: 0.7947 - value_loss: 0.1979 - val_loss: 0.8592 - val_policy_loss: 0.6992 - val_value_loss: 0.1600\n",
      "Epoch 73/1000\n",
      "98/98 [==============================] - 4s 45ms/step - loss: 0.9806 - policy_loss: 0.7867 - value_loss: 0.1939 - val_loss: 0.8539 - val_policy_loss: 0.6949 - val_value_loss: 0.1591\n",
      "Epoch 74/1000\n",
      "98/98 [==============================] - 5s 46ms/step - loss: 0.9800 - policy_loss: 0.7836 - value_loss: 0.1964 - val_loss: 0.8531 - val_policy_loss: 0.6951 - val_value_loss: 0.1580\n",
      "Epoch 75/1000\n",
      "98/98 [==============================] - 4s 45ms/step - loss: 0.9745 - policy_loss: 0.7816 - value_loss: 0.1929 - val_loss: 0.8513 - val_policy_loss: 0.6940 - val_value_loss: 0.1572\n"
     ]
    }
   ],
   "source": [
    "##==================##\n",
    "##  Model training  ##\n",
    "##==================##\n",
    "\n",
    "##  Must import tensorflow modules here, because it breaks the subprocessing if done above\n",
    "from tensorflow.keras.callbacks import EarlyStopping\n",
    "\n",
    "##  Train the model\n",
    "history = new_model.fit(\n",
    "            model_in, [model_p, model_v], epochs=1000, batch_size=100,\n",
    "            validation_data=(val_model_in, [val_model_p, val_model_v]),\n",
    "            callbacks=[EarlyStopping(monitor='val_loss', patience=8, restore_best_weights=True)])\n",
    "\n",
    "##  Save the new model\n",
    "new_model.save(new_model_name)\n"
   ]
  },
  {
   "cell_type": "code",
   "execution_count": 11,
   "id": "145c3b16",
   "metadata": {},
   "outputs": [
    {
     "data": {
      "image/png": "[encoded data removed]",
      "text/plain": [
       "<Figure size 1200x300 with 3 Axes>"
      ]
     },
     "metadata": {},
     "output_type": "display_data"
    },
    {
     "data": {
      "image/png": "[encoded data removed]",
      "text/plain": [
       "<Figure size 1200x300 with 3 Axes>"
      ]
     },
     "metadata": {},
     "output_type": "display_data"
    }
   ],
   "source": [
    "##=================================##\n",
    "##  Visualise the training curves  ##\n",
    "##=================================##\n",
    "\n",
    "##  Define metrics to track\n",
    "metrics     = [\"loss\", \"policy_loss\", \"value_loss\"]\n",
    "num_metrics = len(metrics)\n",
    "\n",
    "##  Plot metrics on both linear and log scales\n",
    "for do_log in [False, True] :\n",
    "    \n",
    "    ##  Create, show and close figure showing training curves (one axis per metric)\n",
    "    fig      = plt.figure(figsize=(4*num_metrics, 3))\n",
    "    for ax_idx, metric in enumerate(metrics) :\n",
    "        val_metric = f\"val_{metric}\"\n",
    "        ax  = fig.add_subplot(1, num_metrics, 1+ax_idx)\n",
    "        ax.plot(history.history[metric], \"-\", lw=3, c=\"r\", alpha=0.5, label=metric)\n",
    "        if val_metric in history.history :\n",
    "            ax.plot(history.history[val_metric], \"-\", lw=3, c=\"b\", alpha=0.5, label=val_metric)\n",
    "        ax.legend(loc=\"upper right\", frameon=False, fontsize=10)\n",
    "        ax.set_xlabel(\"Epoch\", labelpad=15, fontsize=11, ha=\"center\", va=\"top\")\n",
    "        if do_log : ax.set_yscale(\"log\")\n",
    "    plt.show(fig)\n",
    "    plt.close(fig)\n",
    "    "
   ]
  },
  {
   "cell_type": "markdown",
   "id": "81d1cf41",
   "metadata": {},
   "source": [
    "- Note that we consistently observe val_loss < loss due to either (i) the fact that we are using dropout which affect train but not val metrics, or (ii) train metrics being summed over an epoch but val metrics being calculated only at the end. Suspect (i) because the lag appears to be longer than one epoch."
   ]
  },
  {
   "cell_type": "code",
   "execution_count": null,
   "id": "5e7dd2ff",
   "metadata": {},
   "outputs": [],
   "source": []
  }
 ],
 "metadata": {
  "kernelspec": {
   "display_name": "Python 3 (ipykernel)",
   "language": "python",
   "name": "python3"
  },
  "language_info": {
   "codemirror_mode": {
    "name": "ipython",
    "version": 3
   },
   "file_extension": ".py",
   "mimetype": "text/x-python",
   "name": "python",
   "nbconvert_exporter": "python",
   "pygments_lexer": "ipython3",
   "version": "3.10.8"
  }
 },
 "nbformat": 4,
 "nbformat_minor": 5
}
