{
 "cells": [
  {
   "cell_type": "markdown",
   "id": "d69d1a5f",
   "metadata": {},
   "source": [
    "# Play bot tournament\n",
    "\n",
    "---\n",
    "\n",
    "Author: S. Menary [sbmenary@gmail.com]\n",
    "\n",
    "Date  : 2023-01-18, last edit 2023-01-23\n",
    "\n",
    "Brief : Play a tournment between two bots to determine which is stronger\n",
    "\n",
    "---"
   ]
  },
  {
   "cell_type": "markdown",
   "id": "ef54ef68",
   "metadata": {},
   "source": [
    "## Imports\n",
    "\n",
    "---"
   ]
  },
  {
   "cell_type": "code",
   "execution_count": 1,
   "id": "ff93cc0a",
   "metadata": {},
   "outputs": [],
   "source": [
    "##=====================================##\n",
    "##  All imports should be placed here  ##\n",
    "##=====================================##\n",
    "\n",
    "##  Python core libs\n",
    "import pickle, sys, time\n",
    "\n",
    "##  PyPI libs\n",
    "import numpy as np\n",
    "\n",
    "##  Local packages\n",
    "from connect4.utils    import DebugLevel\n",
    "from connect4.game     import BinaryPlayer, GameBoard, GameResult\n",
    "from connect4.MCTS     import PolicyStrategy\n",
    "from connect4.bot      import Bot_NeuralMCTS, Bot_VanillaMCTS\n",
    "from connect4.parallel import generate_from_processes\n",
    "from connect4.methods  import play_bot_game\n"
   ]
  },
  {
   "cell_type": "code",
   "execution_count": 2,
   "id": "f7e7c892",
   "metadata": {},
   "outputs": [
    {
     "name": "stdout",
     "output_type": "stream",
     "text": [
      "Python version is 3.10.8 | packaged by conda-forge | (main, Nov 22 2022, 08:25:29) [Clang 14.0.6 ]\n",
      "Numpy  version is 1.23.2\n"
     ]
    }
   ],
   "source": [
    "##=====================================##\n",
    "##  Print version for reproducibility  ##\n",
    "##=====================================##\n",
    "\n",
    "print(f\"Python version is {sys.version}\")\n",
    "print(f\"Numpy  version is {np.__version__}\")\n"
   ]
  },
  {
   "cell_type": "markdown",
   "id": "752564a9",
   "metadata": {},
   "source": [
    "---\n",
    "\n",
    "##  Play tournament or load past results\n",
    "\n",
    "---"
   ]
  },
  {
   "cell_type": "code",
   "execution_count": 3,
   "id": "7f68fc69",
   "metadata": {},
   "outputs": [
    {
     "name": "stdout",
     "output_type": "stream",
     "text": [
      "Model1: v0: GREEDY_POSTERIOR_POLICY at file ''\n",
      "Model2: v7: GREEDY_POSTERIOR_POLICY at file '../models/.neural_model_v7.h5'\n",
      "Results file: ../data/bot_tournament_v0_GREEDY_POSTERIOR_POLICY_vs_v7_GREEDY_POSTERIOR_POLICY_duration1p00_n350.pickle\n"
     ]
    }
   ],
   "source": [
    "##=================##\n",
    "##  Global config  ##\n",
    "##=================##\n",
    "\n",
    "load_from_file = False\n",
    "\n",
    "idx_bot1 = 0\n",
    "idx_bot2 = 7\n",
    "\n",
    "bot1_policy = PolicyStrategy.GREEDY_POSTERIOR_POLICY\n",
    "bot2_policy = PolicyStrategy.GREEDY_POSTERIOR_POLICY\n",
    "\n",
    "if idx_bot1 == idx_bot2 :\n",
    "    bot1_policy, bot2_policy = sorted([bot1_policy, bot2_policy])\n",
    "\n",
    "num_proc           = 7\n",
    "num_games_per_proc = 50\n",
    "base_seed          = int(time.time())\n",
    "mon_freq           = 3\n",
    "duration           = .2\n",
    "discount           = .99\n",
    "num_data           = num_proc*num_games_per_proc\n",
    "\n",
    "model1_name   = f\"v{idx_bot1}: {bot1_policy.name}\"\n",
    "model2_name   = f\"v{idx_bot2}: {bot2_policy.name}\"\n",
    "model1_fname  = f\"../models/.neural_model_v{idx_bot1}.h5\" if idx_bot1 else \"\"\n",
    "model2_fname  = f\"../models/.neural_model_v{idx_bot2}.h5\" if idx_bot2 else \"\"\n",
    "results_fname = f\"../data/\" + f\"bot_tournament_v{idx_bot1}_{bot1_policy.name}_vs_v{idx_bot2}_{bot2_policy.name}_duration{duration:.2f}_n{num_data}\".replace(\".\",\"p\") +\".pickle\"\n",
    "\n",
    "print(f\"Model1: {model1_name} at file '{model1_fname}'\")\n",
    "print(f\"Model2: {model2_name} at file '{model2_fname}'\")\n",
    "print(f\"Results file: {results_fname}\")\n"
   ]
  },
  {
   "cell_type": "code",
   "execution_count": 4,
   "id": "2fd1e192",
   "metadata": {},
   "outputs": [],
   "source": [
    "##======================================================================##\n",
    "##  Define method allowing games to be played in parallel subprocesses  ##\n",
    "##======================================================================##\n",
    "\n",
    "##  N.B. connect4.neural import must be performed inside the method executed inside each child process\n",
    "##  to avoid a deadlock caused when a tf session has already been created in __main__\n",
    "\n",
    "def bot_tournament_process(proc_idx, num_games, out_queue, argv) :\n",
    "    from connect4.neural import load_model\n",
    "    model1_fname, model2_fname, bot1_policy, bot2_policy, duration, discount, base_seed = argv\n",
    "    model1 = load_model(model1_fname) if len(model1_fname) > 0 else None\n",
    "    model2 = load_model(model2_fname) if len(model2_fname) > 0 else None\n",
    "    np.random.seed(base_seed+proc_idx)\n",
    "    for game_idx in range(num_games) :\n",
    "        _ = play_bot_game(model1, model2, duration, discount, bot1_policy=bot1_policy, bot2_policy=bot2_policy)\n",
    "        out_queue.put(_)\n"
   ]
  },
  {
   "cell_type": "code",
   "execution_count": 5,
   "id": "64ead5e1",
   "metadata": {},
   "outputs": [
    {
     "name": "stdout",
     "output_type": "stream",
     "text": [
      "Generating 350 results with base seed 1674550572\n",
      "Using duration = 1.000\n",
      "Using discount = 0.990\n",
      "Generated 350 / 350 results [t=2078.41s]\n",
      "Generation complete [t=2078.41s] [n=350]\n"
     ]
    }
   ],
   "source": [
    "##=====================================================================##\n",
    "##  Load old results, or run parallel subprocesses to obtain new ones  ##\n",
    "##=====================================================================##\n",
    "\n",
    "if load_from_file :\n",
    "    print(f\"Loading past results from file {results_fname}\")\n",
    "    loaded  = pickle.load(open(results_fname, \"rb\"))\n",
    "    results = loaded[\"results\"]\n",
    "    for key, val in loaded.items() :\n",
    "        if key == \"results\" : continue\n",
    "        print(f\"  Found saved config value {key} = {val}\")\n",
    "else :\n",
    "    print(f\"Generating {num_proc*num_games_per_proc} results with base seed {base_seed}\")\n",
    "    print(f\"Using duration = {duration:.3f}\\nUsing discount = {discount:.3f}\")\n",
    "    results = generate_from_processes(\n",
    "        func      = bot_tournament_process,\n",
    "        func_args = [model1_fname, model2_fname, bot1_policy, bot2_policy, duration, discount, base_seed],\n",
    "        num_proc  = num_proc, \n",
    "        num_results_per_proc = num_games_per_proc, \n",
    "        mon_freq  = mon_freq)\n",
    " "
   ]
  },
  {
   "cell_type": "code",
   "execution_count": 6,
   "id": "fbbdb1b4",
   "metadata": {},
   "outputs": [
    {
     "name": "stdout",
     "output_type": "stream",
     "text": [
      "Saving results to file ../data/bot_tournament_v0_GREEDY_POSTERIOR_POLICY_vs_v7_GREEDY_POSTERIOR_POLICY_duration1p00_n350.pickle\n"
     ]
    }
   ],
   "source": [
    "##====================================##\n",
    "##  Save results for later reference  ##\n",
    "##====================================##\n",
    "\n",
    "if load_from_file :\n",
    "    print(\"Nothing to save because we loaded results from file\")\n",
    "else :\n",
    "    print(f\"Saving results to file {results_fname}\")\n",
    "    to_save = {\"results\"     : results,\n",
    "               \"num_results\" : len(results),\n",
    "               \"base_seed\"   : base_seed,\n",
    "               \"duration\"    : duration,\n",
    "               \"discount\"    : discount}\n",
    "    pickle.dump(to_save, open(results_fname, \"wb\"))\n"
   ]
  },
  {
   "cell_type": "markdown",
   "id": "a6e27bb7",
   "metadata": {},
   "source": [
    "---\n",
    "\n",
    "##  Report on the scores\n",
    "\n",
    "---"
   ]
  },
  {
   "cell_type": "code",
   "execution_count": 7,
   "id": "25cfc632",
   "metadata": {},
   "outputs": [
    {
     "name": "stdout",
     "output_type": "stream",
     "text": [
      "Results (LHS player goes first):\n",
      "                [v0: GREEDY_POSTERIOR_POLICY]  66 - 12 - 96  [v7: GREEDY_POSTERIOR_POLICY]\n",
      "                [v7: GREEDY_POSTERIOR_POLICY]  112 - 7 - 57  [v0: GREEDY_POSTERIOR_POLICY]\n"
     ]
    }
   ],
   "source": [
    "##========================##\n",
    "##  Report on the scores  ##\n",
    "##========================##\n",
    "\n",
    "score = [[0, 0, 0, 0], [0, 0, 0, 0]]\n",
    "\n",
    "for result in results :\n",
    "    score_idx = 0 if result[\"model1\"] == BinaryPlayer.X else 1\n",
    "    result_idx = 0\n",
    "    if result[\"result\"] == GameResult.X    : result_idx = 1\n",
    "    if result[\"result\"] == GameResult.DRAW : result_idx = 2\n",
    "    if result[\"result\"] == GameResult.O    : result_idx = 3\n",
    "    score[score_idx][result_idx] += 1\n",
    "    \n",
    "print(\"Results (LHS player goes first):\")\n",
    "print(f\"[{model1_name}]\".rjust(45)+f\"  {score[0][1]} - {score[0][2]} - {score[0][3]}  [{model2_name}]\")\n",
    "print(f\"[{model2_name}]\".rjust(45)+f\"  {score[1][1]} - {score[1][2]} - {score[1][3]}  [{model1_name}]\")\n",
    "    "
   ]
  },
  {
   "cell_type": "code",
   "execution_count": null,
   "id": "985ed315",
   "metadata": {},
   "outputs": [],
   "source": []
  }
 ],
 "metadata": {
  "kernelspec": {
   "display_name": "Python 3 (ipykernel)",
   "language": "python",
   "name": "python3"
  },
  "language_info": {
   "codemirror_mode": {
    "name": "ipython",
    "version": 3
   },
   "file_extension": ".py",
   "mimetype": "text/x-python",
   "name": "python",
   "nbconvert_exporter": "python",
   "pygments_lexer": "ipython3",
   "version": "3.10.8"
  }
 },
 "nbformat": 4,
 "nbformat_minor": 5
}
