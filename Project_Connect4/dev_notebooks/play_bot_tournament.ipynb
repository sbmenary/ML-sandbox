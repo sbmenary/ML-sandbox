{
 "cells": [
  {
   "cell_type": "markdown",
   "id": "d69d1a5f",
   "metadata": {},
   "source": [
    "# Connect 4\n",
    "\n",
    "---\n",
    "\n",
    "Author: S. Menary [sbmenary@gmail.com]\n",
    "\n",
    "Date  : 2023-01-18, last edit 2023-01-18\n",
    "\n",
    "Brief : Play a tournment between two bots to determine which is stronger\n",
    "\n",
    "---"
   ]
  },
  {
   "cell_type": "markdown",
   "id": "ef54ef68",
   "metadata": {},
   "source": [
    "## Imports"
   ]
  },
  {
   "cell_type": "code",
   "execution_count": 1,
   "id": "ff93cc0a",
   "metadata": {},
   "outputs": [],
   "source": [
    "##=====================================##\n",
    "##  All imports should be placed here  ##\n",
    "##=====================================##\n",
    "\n",
    "##  Python core libs\n",
    "import sys, time\n",
    "\n",
    "##  PyPI libs\n",
    "import numpy as np\n",
    "\n",
    "##  Local packages\n",
    "from connect4.utils    import DebugLevel\n",
    "from connect4.game     import BinaryPlayer, GameBoard, GameResult\n",
    "from connect4.MCTS     import PolicyStrategy\n",
    "from connect4.bot      import Bot_NeuralMCTS, Bot_VanillaMCTS\n",
    "from connect4.parallel import MonitorThread, WorkerThread, kill_threads\n"
   ]
  },
  {
   "cell_type": "code",
   "execution_count": 2,
   "id": "f7e7c892",
   "metadata": {},
   "outputs": [
    {
     "name": "stdout",
     "output_type": "stream",
     "text": [
      "Python version is 3.10.8 | packaged by conda-forge | (main, Nov 22 2022, 08:25:29) [Clang 14.0.6 ]\n",
      "Numpy  version is 1.23.2\n"
     ]
    }
   ],
   "source": [
    "##=====================================##\n",
    "##  Print version for reproducibility  ##\n",
    "##=====================================##\n",
    "\n",
    "print(f\"Python version is {sys.version}\")\n",
    "print(f\"Numpy  version is {np.__version__}\")\n"
   ]
  },
  {
   "cell_type": "markdown",
   "id": "752564a9",
   "metadata": {},
   "source": [
    "##  MCTS\n",
    "\n",
    "The `Bot_NeuralMCTS` object is used to apply bot actions using MCTS with a loaded model."
   ]
  },
  {
   "cell_type": "code",
   "execution_count": 3,
   "id": "2fd1e192",
   "metadata": {},
   "outputs": [],
   "source": [
    "##=========================================##\n",
    "##  Define methods for playing tournament  ##\n",
    "##=========================================##\n",
    "\n",
    "\n",
    "def play_bot_game(model1, model2, duration:int=1, discount=1., debug_lvl:DebugLevel=DebugLevel.MUTE) :\n",
    "    ##  Create game and bots\n",
    "    policy_strategy = PolicyStrategy.SAMPLE_POSTERIOR_POLICY\n",
    "    game_board = GameBoard()\n",
    "    bot1       = Bot_NeuralMCTS(model1, policy_strategy=policy_strategy) if model1 else Bot_VanillaMCTS(policy_strategy=policy_strategy)\n",
    "    bot2       = Bot_NeuralMCTS(model2, policy_strategy=policy_strategy) if model2 else Bot_VanillaMCTS(policy_strategy=policy_strategy)\n",
    "    debug_lvl.message(DebugLevel.LOW, f\"Using bot1 {bot1}\")\n",
    "    debug_lvl.message(DebugLevel.LOW, f\"Using bot2 {bot2}\")\n",
    "    debug_lvl.message(DebugLevel.LOW, game_board)\n",
    "    \n",
    "    ##  Shuffle bots\n",
    "    ret = {\"model1\":BinaryPlayer.X, \"model2\":BinaryPlayer.O}\n",
    "    if np.random.choice([True, False]) :\n",
    "        bot1, bot2 = bot2, bot1\n",
    "        ret = {\"model1\":BinaryPlayer.O, \"model2\":BinaryPlayer.X}\n",
    "\n",
    "    ##  Take moves until end of game\n",
    "    result = game_board.get_result()\n",
    "    while not result :\n",
    "        bot = bot1 if game_board.to_play == BinaryPlayer.X else bot2\n",
    "        bot.take_move(game_board, duration=duration, discount=discount, debug_lvl=debug_lvl)\n",
    "        result = game_board.get_result()\n",
    "        \n",
    "    ##  Return\n",
    "    ret[\"result\"] = result\n",
    "    return ret\n",
    "\n",
    "\n",
    "def bot_tournament_process(proc_idx, num_games, out_queue, base_seed, model1_name, model2_name, duration, discount) :\n",
    "    from connect4.neural import load_model\n",
    "    np.random.seed(base_seed+proc_idx)\n",
    "    model1 = load_model(model1_name) if len(model1_name) > 0 else None\n",
    "    model2 = load_model(model2_name) if len(model2_name) > 0 else None\n",
    "    for game_idx in range(num_games) :\n",
    "        _ = play_bot_game(model1, model2, duration, discount)\n",
    "        out_queue.put(_)\n",
    "    \n",
    "    \n",
    "def generate_datapoints(num_processes, num_games_per_proc, base_seed, model1_name, model2_name, \n",
    "                        duration, discount, mon_freq=3) :\n",
    "    worker  = WorkerThread(bot_tournament_process, num_processes, num_games_per_proc, \n",
    "                       func_args=[base_seed, model1_name, model2_name, duration, discount])\n",
    "    monitor = MonitorThread(worker, frequency=mon_freq)\n",
    "\n",
    "    monitor.start()\n",
    "    worker .start()\n",
    "\n",
    "    worker .join()\n",
    "    monitor.join()\n",
    "    \n",
    "    return worker.results\n"
   ]
  },
  {
   "cell_type": "code",
   "execution_count": 4,
   "id": "09906380",
   "metadata": {},
   "outputs": [],
   "source": [
    "##================##\n",
    "##  Load a model  ##\n",
    "##================##\n",
    "\n",
    "model_name_old = \"../models/.neural_model_v2.h5\"\n",
    "model_name_new = \"../models/.neural_model_v3.h5\"\n"
   ]
  },
  {
   "cell_type": "code",
   "execution_count": 5,
   "id": "64ead5e1",
   "metadata": {},
   "outputs": [
    {
     "name": "stdout",
     "output_type": "stream",
     "text": [
      "Generated 70 / 70 results [t=953.35s]\n",
      "Generation complete [t=953.36s] [n=70]\n"
     ]
    }
   ],
   "source": [
    "##===================================##\n",
    "##  Run processes to obtain results  ##\n",
    "##===================================##\n",
    "\n",
    "results = generate_datapoints(7, 10, 10, model_name_old, model_name_new, 3, .99, mon_freq=3)\n"
   ]
  },
  {
   "cell_type": "code",
   "execution_count": 8,
   "id": "25cfc632",
   "metadata": {},
   "outputs": [
    {
     "name": "stdout",
     "output_type": "stream",
     "text": [
      "Results (LHS player goes first): Old Model 9 - 29 New Model\n",
      "Results (LHS player goes first): New Model 21 - 8 Old Model\n"
     ]
    }
   ],
   "source": [
    "##========================##\n",
    "##  Report on the scores  ##\n",
    "##========================##\n",
    "\n",
    "score = [[0, 0, 0, 0], [0, 0, 0, 0]]\n",
    "\n",
    "for result in results :\n",
    "    score_idx = 0\n",
    "    score_idx = 0 if result[\"model1\"] == BinaryPlayer.X else 1\n",
    "    result_idx = 0\n",
    "    if result[\"result\"] == GameResult.X    : result_idx = 1\n",
    "    if result[\"result\"] == GameResult.O    : result_idx = 2\n",
    "    if result[\"result\"] == GameResult.DRAW : result_idx = 3\n",
    "    score[score_idx][result_idx] += 1\n",
    "    \n",
    "print(f\"Results (LHS player goes first): Old Model {score[0][1]} - {score[0][2]} New Model\")\n",
    "print(f\"Results (LHS player goes first): New Model {score[1][1]} - {score[1][2]} Old Model\")\n",
    "    "
   ]
  },
  {
   "cell_type": "code",
   "execution_count": null,
   "id": "7fd59bed",
   "metadata": {},
   "outputs": [],
   "source": []
  }
 ],
 "metadata": {
  "kernelspec": {
   "display_name": "Python 3 (ipykernel)",
   "language": "python",
   "name": "python3"
  },
  "language_info": {
   "codemirror_mode": {
    "name": "ipython",
    "version": 3
   },
   "file_extension": ".py",
   "mimetype": "text/x-python",
   "name": "python",
   "nbconvert_exporter": "python",
   "pygments_lexer": "ipython3",
   "version": "3.10.8"
  }
 },
 "nbformat": 4,
 "nbformat_minor": 5
}
