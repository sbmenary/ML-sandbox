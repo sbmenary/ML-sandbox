{
 "cells": [
  {
   "cell_type": "markdown",
   "id": "d69d1a5f",
   "metadata": {},
   "source": [
    "# Connect 4\n",
    "\n",
    "---\n",
    "\n",
    "Author: S. Menary [sbmenary@gmail.com]\n",
    "\n",
    "Date  : 2023-01-03, last edit 2023-01-15\n",
    "\n",
    "Brief : Develop a simple Connect 4 game environment and implement a bot using Monte Carlo Tree Search (MCTS)\n",
    "\n",
    "---\n",
    "\n",
    "### Summary\n",
    "\n",
    "- Connect 4 is a two-player, fully-observable, zero-sum game. \n",
    "- The game states may be represented as a tree sturcture, We can therefore implement a bot using tree-search algorithms. We choose Connect 4 because it is simple, and therefore provides a launch-pad for more complex games such as checkers or chess.\n",
    "- Initially we implement vanilla MCTS with no machine learning. We expect this to be limited by (i) the stochastic rollout of the tree and (ii) the simplicity of the simulation policy.\n",
    "- To introduce ML, we would perform alternate steps of MCTS evaluation and simulation policy improvement. In this way, the simulated games will _hopefully_ begin to approach \"good play\", and the final MCTS values will reflect the behaviour of good players.\n",
    "- MCTS configuration:\n",
    "    + Tree-traversal policy is:\n",
    "        1. From the current node, uniformly-randomly select a non-expanded child if one is available\n",
    "        2. Otherwise select child with highest UCB-1 score, traverse to this node and repeat\n",
    "    + Resulting node is expanded by adding all possible children and selecting one by performing a uniformly-random action\n",
    "    + Simulation policy is to select a uniformly-random action\n",
    "- The UCB-1 score is designed to optimally balance exploration/exploitation for static multi-arm bandits. Strictly speaking, we are applying this in a non-stationary environment because the reward-distribution for each action changes according to the evolution of the down-stream tree. This makes UCB-1 theoretically sub-optimal. However, it is often used nonetheless.\n",
    "- When playing an actual move (i.e. inference time), greedily select the action with the max average score from its MCTS visits (do not use UCB-1 since we are no longer exploring).\n",
    "\n",
    "Observations:\n",
    "- Strength of decision-making depends on how many iterations of MCTS we perform:\n",
    "    1. When tree is shallow, we effectively assume that future play is random, which means we will choose options with the greatest number of permutations of winning. We therefore may neglect to defend against an imminent loss, favouring a different move with many win permutations (bad behaviour).\n",
    "    2. When tree is deep and UCB1 score converges towards true means, at least for the best moves, then we effectively assume that future play is optimal. As play-count goes to infinity, our scores become unbiased.\n",
    "    3. For finite but sufficient run-time, we assume optimal play, but using mean scores that are biased by the fact that our early simulations used random play instead of optimal play.\n",
    "- This explains why even random simulation MCTS is pretty good - we end up doing most of our simulations with pretty effective play, at least for the next few moves where our tree is sufficiently grown.\n"
   ]
  },
  {
   "cell_type": "markdown",
   "id": "ef54ef68",
   "metadata": {},
   "source": [
    "## Imports"
   ]
  },
  {
   "cell_type": "code",
   "execution_count": 1,
   "id": "ff93cc0a",
   "metadata": {},
   "outputs": [],
   "source": [
    "###\n",
    "###  Required imports\n",
    "###  - all imports should be placed here\n",
    "###\n",
    "\n",
    "\n",
    "##  Python core libs\n",
    "import sys, time\n",
    "from enum import IntEnum\n",
    "from abc  import ABC, abstractmethod, abstractstaticmethod\n",
    "from __future__ import annotations\n",
    "\n",
    "##  PyPI libs\n",
    "import numpy as np\n",
    "\n",
    "##  Local packages\n",
    "from connect4.utils import DebugLevel\n",
    "from connect4.game  import GameBoard\n",
    "from connect4.MCTS  import Node_VanillaMCTS, PolicyStrategy\n",
    "from connect4.bot   import Bot_VanillaMCTS\n"
   ]
  },
  {
   "cell_type": "code",
   "execution_count": 2,
   "id": "f7e7c892",
   "metadata": {},
   "outputs": [
    {
     "name": "stdout",
     "output_type": "stream",
     "text": [
      "Python version is 3.10.8 | packaged by conda-forge | (main, Nov 22 2022, 08:25:29) [Clang 14.0.6 ]\n",
      "Numpy  version is 1.23.2\n"
     ]
    }
   ],
   "source": [
    "###\n",
    "###  Print version for reproducibility\n",
    "###\n",
    "\n",
    "print(f\"Python version is {sys.version}\")\n",
    "print(f\"Numpy  version is {np.__version__}\")"
   ]
  },
  {
   "cell_type": "markdown",
   "id": "0df8c24e",
   "metadata": {},
   "source": [
    "##  GameBoard\n",
    "\n",
    "The `GameBoard` object is used to interact with a game of Connect 4."
   ]
  },
  {
   "cell_type": "code",
   "execution_count": 3,
   "id": "4d455c3d",
   "metadata": {},
   "outputs": [
    {
     "name": "stdout",
     "output_type": "stream",
     "text": [
      "Initial game board:\n",
      "+---+---+---+---+\n",
      "| . | . | . | . |\n",
      "| . | . | . | . |\n",
      "| . | . | . | . |\n",
      "| . | . | . | . |\n",
      "+---+---+---+---+\n",
      "| 0 | 1 | 2 | 3 |\n",
      "+---+---+---+---+\n",
      "Game result is: NONE\n",
      "\n",
      "After a few moves:\n",
      "+---+---+---+---+\n",
      "| . | . | . | . |\n",
      "| . | . | . | . |\n",
      "| . | \u001b[31mX\u001b[0m | . | . |\n",
      "| . | \u001b[31mX\u001b[0m | \u001b[34mO\u001b[0m | . |\n",
      "+---+---+---+---+\n",
      "| 0 | 1 | 2 | 3 |\n",
      "+---+---+---+---+\n",
      "Game result is: NONE\n"
     ]
    }
   ],
   "source": [
    "###\n",
    "###  Setup a small game\n",
    "###  - 4x4 grid\n",
    "###  - line of 3 needed to win\n",
    "###\n",
    "\n",
    "##  Create game board\n",
    "game_board = GameBoard(4, 4, 3)\n",
    "\n",
    "##  Show initial game board\n",
    "print(f\"Initial game board:\\n{game_board}\")\n",
    "\n",
    "##  Play a few moves\n",
    "game_board.apply_action(1)\n",
    "game_board.apply_action(2)\n",
    "game_board.apply_action(1)\n",
    "\n",
    "##  Show updated game state\n",
    "print(f\"\\nAfter a few moves:\\n{game_board}\")\n"
   ]
  },
  {
   "cell_type": "markdown",
   "id": "1e64267f",
   "metadata": {},
   "source": [
    "##  MCTS\n",
    "\n",
    "The `Node_VanillaMCTS` object is used to perform vanilla MCTS searches."
   ]
  },
  {
   "cell_type": "code",
   "execution_count": 4,
   "id": "4d80faa0",
   "metadata": {
    "scrolled": true
   },
   "outputs": [
    {
     "name": "stdout",
     "output_type": "stream",
     "text": [
      "Initial tree:\n",
      "> [0: ROOT] N=0, T=0.000, E=inf, Q=-inf\n",
      "     > None\n",
      "     > None\n",
      "     > None\n",
      "     > None\n",
      "\n",
      "Running MCTS step 0\n",
      "Select unvisited action O:1\n",
      "Simulation ended with result X with compound_discount=1.000\n",
      "Simulated trajectory was: X:0 O:0 X:3 O:0 X:2 O:1 X:2\n",
      "Node O:1 with parent=O, N=0, T=0.00 receiving score -1.00\n",
      "Node ROOT with parent=NONE, N=0, T=0.00 receiving score 0.00\n",
      "\n",
      "Running MCTS step 1\n",
      "Select unvisited action O:2\n",
      "Simulation ended with result X with compound_discount=1.000\n",
      "Simulated trajectory was: X:2 O:0 X:3 O:2 X:0 O:3 X:3 O:0 X:1\n",
      "Node O:2 with parent=O, N=0, T=0.00 receiving score -1.00\n",
      "Node ROOT with parent=NONE, N=1, T=0.00 receiving score 0.00\n",
      "\n",
      "Running MCTS step 2\n",
      "Select unvisited action O:3\n",
      "Simulation ended with result X with compound_discount=1.000\n",
      "Simulated trajectory was: X:2 O:0 X:3\n",
      "Node O:3 with parent=O, N=0, T=0.00 receiving score -1.00\n",
      "Node ROOT with parent=NONE, N=2, T=0.00 receiving score 0.00\n",
      "\n",
      "Running MCTS step 3\n",
      "Select unvisited action O:0\n",
      "Simulation ended with result X with compound_discount=1.000\n",
      "Simulated trajectory was: X:0 O:3 X:2\n",
      "Node O:0 with parent=O, N=0, T=0.00 receiving score -1.00\n",
      "Node ROOT with parent=NONE, N=3, T=0.00 receiving score 0.00\n",
      "\n",
      "Running MCTS step 4\n",
      "Select known action O:0\n",
      "... iterating to next level ...\n",
      "Select unvisited action X:1\n",
      "Leaf node found with result X\n",
      "Node X:1 with parent=X, N=0, T=0.00 receiving score 1.00\n",
      "Node O:0 with parent=O, N=1, T=-1.00 receiving score -1.00\n",
      "Node ROOT with parent=NONE, N=4, T=0.00 receiving score 0.00\n",
      "\n",
      "Running MCTS step 5\n",
      "Select known action O:1\n",
      "... iterating to next level ...\n",
      "Select unvisited action X:1\n",
      "Simulation ended with result X with compound_discount=1.000\n",
      "Simulated trajectory was: O:0 X:3 O:2 X:2 O:3 X:0 O:3 X:2 O:0 X:0\n",
      "Node X:1 with parent=X, N=0, T=0.00 receiving score 1.00\n",
      "Node O:1 with parent=O, N=1, T=-1.00 receiving score -1.00\n",
      "Node ROOT with parent=NONE, N=5, T=0.00 receiving score 0.00\n",
      "\n",
      "Running MCTS step 6\n",
      "Select known action O:2\n",
      "... iterating to next level ...\n",
      "Select unvisited action X:0\n",
      "Simulation ended with result O with compound_discount=1.000\n",
      "Simulated trajectory was: O:0 X:0 O:2\n",
      "Node X:0 with parent=X, N=0, T=0.00 receiving score -1.00\n",
      "Node O:2 with parent=O, N=1, T=-1.00 receiving score 1.00\n",
      "Node ROOT with parent=NONE, N=6, T=0.00 receiving score 0.00\n",
      "\n",
      "Running MCTS step 7\n",
      "Select known action O:2\n",
      "... iterating to next level ...\n",
      "Select unvisited action X:2\n",
      "Simulation ended with result X with compound_discount=1.000\n",
      "Simulated trajectory was: O:0 X:2 O:0 X:1\n",
      "Node X:2 with parent=X, N=0, T=0.00 receiving score 1.00\n",
      "Node O:2 with parent=O, N=2, T=0.00 receiving score -1.00\n",
      "Node ROOT with parent=NONE, N=7, T=0.00 receiving score 0.00\n",
      "\n",
      "Running MCTS step 8\n",
      "Select known action O:3\n",
      "... iterating to next level ...\n",
      "Select unvisited action X:0\n",
      "Simulation ended with result X with compound_discount=1.000\n",
      "Simulated trajectory was: O:3 X:3 O:3 X:1\n",
      "Node X:0 with parent=X, N=0, T=0.00 receiving score 1.00\n",
      "Node O:3 with parent=O, N=1, T=-1.00 receiving score -1.00\n",
      "Node ROOT with parent=NONE, N=8, T=0.00 receiving score 0.00\n",
      "\n",
      "Running MCTS step 9\n",
      "Select known action O:2\n",
      "... iterating to next level ...\n",
      "Select unvisited action X:3\n",
      "Simulation ended with result X with compound_discount=1.000\n",
      "Simulated trajectory was: O:3 X:1\n",
      "Node X:3 with parent=X, N=0, T=0.00 receiving score 1.00\n",
      "Node O:2 with parent=O, N=3, T=-1.00 receiving score -1.00\n",
      "Node ROOT with parent=NONE, N=9, T=0.00 receiving score 0.00\n",
      "\n",
      "Updated tree:\n",
      "> [0: ROOT] N=10, T=0.000, E=nan, Q=0.000\n",
      "     > [1: O:0] N=2, T=-2.000, E=1.146, Q=-1.000\n",
      "          > None\n",
      "          > [2: X:1] N=1, T=1.000, E=2.665, Q=1.000\n",
      "          > None\n",
      "          > None\n",
      "     > [1: O:1] N=2, T=-2.000, E=1.146, Q=-1.000\n",
      "          > None\n",
      "          > [2: X:1] N=1, T=1.000, E=2.665, Q=1.000\n",
      "               > None\n",
      "               > None\n",
      "               > None\n",
      "          > None\n",
      "          > None\n",
      "     > [1: O:2] N=4, T=-2.000, E=1.017, Q=-0.500\n",
      "          > [2: X:0] N=1, T=-1.000, E=1.355, Q=-1.000\n",
      "               > None\n",
      "               > None\n",
      "               > None\n",
      "               > None\n",
      "          > None\n",
      "          > [2: X:2] N=1, T=1.000, E=3.355, Q=1.000\n",
      "               > None\n",
      "               > None\n",
      "               > None\n",
      "               > None\n",
      "          > [2: X:3] N=1, T=1.000, E=3.355, Q=1.000\n",
      "               > None\n",
      "               > None\n",
      "               > None\n",
      "               > None\n",
      "     > [1: O:3] N=2, T=-2.000, E=1.146, Q=-1.000\n",
      "          > [2: X:0] N=1, T=1.000, E=2.665, Q=1.000\n",
      "               > None\n",
      "               > None\n",
      "               > None\n",
      "               > None\n",
      "          > None\n",
      "          > None\n",
      "          > None\n",
      "\n"
     ]
    }
   ],
   "source": [
    "###\n",
    "###  Perform a few MCTS steps\n",
    "###  - transitions into a ciritical state where O player needs to be careful not to \n",
    "###    blunder a win for X\n",
    "###\n",
    "\n",
    "##  Create a root node at the current game state\n",
    "root_node = Node_VanillaMCTS(game_board, label=\"ROOT\")\n",
    "\n",
    "##  Print the initial value tree (should be a ROOT node with no children)\n",
    "print(\"Initial tree:\")\n",
    "print(root_node.tree_summary())\n",
    "print()\n",
    "\n",
    "##  Perform several MCTS steps with a HIGH debug level\n",
    "root_node.multi_step_MCTS(num_steps=10, max_sim_steps=-1, debug_lvl=DebugLevel.MEDIUM)\n",
    "\n",
    "##  Print the updated value tree \n",
    "print(\"Updated tree:\")\n",
    "print(root_node.tree_summary())\n",
    "print()\n"
   ]
  },
  {
   "cell_type": "markdown",
   "id": "752564a9",
   "metadata": {},
   "source": [
    "##  MCTS\n",
    "\n",
    "The `Bot_VanillaMCTS` object is used to apply bot actions using vanilla MCTS."
   ]
  },
  {
   "cell_type": "code",
   "execution_count": 9,
   "id": "016132ce",
   "metadata": {},
   "outputs": [
    {
     "name": "stdout",
     "output_type": "stream",
     "text": [
      "Selecting greedy action from posterior values\n",
      "Action values are:  0.191   -0.174  0.791   -0.130\n",
      "Visit counts are:   47      23      804     23    \n",
      "Selecting action 2\n",
      "+---+---+---+---+\n",
      "| . | . | . | . |\n",
      "| . | \u001b[34mO\u001b[0m | . | . |\n",
      "| . | \u001b[31mX\u001b[0m | \u001b[31mX\u001b[0m | . |\n",
      "| . | \u001b[31mX\u001b[0m | \u001b[34mO\u001b[0m | . |\n",
      "+---+---+---+---+\n",
      "| 0 | 1 | 2 | 3 |\n",
      "+---+---+---+---+\n",
      "Game result is: NONE\n"
     ]
    }
   ],
   "source": [
    "###\n",
    "###  Use MCTS to play a move\n",
    "###\n",
    "\n",
    "##  Use MCTS to search for an optimal action\n",
    "bot    = Bot_VanillaMCTS()\n",
    "action = bot.choose_action(game_board, duration=1, debug_lvl=DebugLevel.LOW)\n",
    "\n",
    "##  Play bot move\n",
    "game_board.apply_action(action)\n",
    "\n",
    "##  Show updated game state\n",
    "print(game_board)\n"
   ]
  },
  {
   "cell_type": "markdown",
   "id": "27992527",
   "metadata": {},
   "source": [
    "## Play a game\n",
    "\n",
    "Play a game of connect 4 against our bot!\n",
    "\n",
    "Just add new calls to `game_board.apply_action(column_index)` to play a move in column `column_index`, and `bot.take_move(game_board, duration)` to play a bot move in response. Turning up the `duration` parameter will improve the bot by allowing it to search for longer."
   ]
  },
  {
   "cell_type": "code",
   "execution_count": null,
   "id": "4802ca4c",
   "metadata": {},
   "outputs": [],
   "source": [
    "##  Create a new game\n",
    "\n",
    "game_board = GameBoard()\n",
    "bot        = Bot_VanillaMCTS(greedy=True)\n",
    "print(game_board)\n"
   ]
  },
  {
   "cell_type": "code",
   "execution_count": null,
   "id": "e8a0f122",
   "metadata": {
    "scrolled": false
   },
   "outputs": [],
   "source": [
    "##  Play a move in column index 3\n",
    "\n",
    "game_board.apply_action(3)\n",
    "print(game_board)\n",
    "\n",
    "if not game_board.get_result() :\n",
    "    bot.take_move(game_board, duration=10, debug_lvl=DebugLevel.LOW)\n",
    "    print(game_board)\n"
   ]
  },
  {
   "cell_type": "markdown",
   "id": "92f7a7a7",
   "metadata": {},
   "source": [
    "\n",
    "... and so on until the game is complete!\n"
   ]
  },
  {
   "cell_type": "markdown",
   "id": "1385f901",
   "metadata": {},
   "source": [
    "## Bot-only game\n",
    "\n",
    "Let's watch the bot play itself!"
   ]
  },
  {
   "cell_type": "code",
   "execution_count": null,
   "id": "b1109740",
   "metadata": {
    "scrolled": false
   },
   "outputs": [],
   "source": [
    "#  Play a bot game!\n",
    "\n",
    "game_board = GameBoard()\n",
    "bot        = Bot_VanillaMCTS()\n",
    "print(game_board)\n",
    "\n",
    "result = game_board.get_result()\n",
    "while not result :\n",
    "    bot.take_move(game_board, duration=10, debug_lvl=DebugLevel.LOW)\n",
    "    result = game_board.get_result()\n",
    "    print(game_board)\n"
   ]
  },
  {
   "cell_type": "code",
   "execution_count": null,
   "id": "19438a65",
   "metadata": {},
   "outputs": [],
   "source": []
  }
 ],
 "metadata": {
  "kernelspec": {
   "display_name": "Python 3 (ipykernel)",
   "language": "python",
   "name": "python3"
  },
  "language_info": {
   "codemirror_mode": {
    "name": "ipython",
    "version": 3
   },
   "file_extension": ".py",
   "mimetype": "text/x-python",
   "name": "python",
   "nbconvert_exporter": "python",
   "pygments_lexer": "ipython3",
   "version": "3.10.8"
  }
 },
 "nbformat": 4,
 "nbformat_minor": 5
}
