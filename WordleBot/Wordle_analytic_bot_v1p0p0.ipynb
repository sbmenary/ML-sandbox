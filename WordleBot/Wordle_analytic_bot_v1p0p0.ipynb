{
 "cells": [
  {
   "cell_type": "code",
   "execution_count": 301,
   "metadata": {},
   "outputs": [],
   "source": []
  },
  {
   "cell_type": "code",
   "execution_count": 23,
   "metadata": {},
   "outputs": [
    {
     "name": "stdout",
     "output_type": "stream",
     "text": [
      "-----   Word found: QUERY   -----\n",
      "-----   Word found: QUERN   -----\n",
      "-----   Word found: EUCRE   -----\n",
      "-----   Word found: LUCRE   -----\n"
     ]
    }
   ],
   "source": []
  },
  {
   "cell_type": "code",
   "execution_count": 20,
   "metadata": {
    "scrolled": false
   },
   "outputs": [],
   "source": [
    "for word in all_words :\n",
    "    print(word)"
   ]
  },
  {
   "cell_type": "code",
   "execution_count": null,
   "metadata": {},
   "outputs": [],
   "source": []
  },
  {
   "cell_type": "code",
   "execution_count": 46,
   "metadata": {},
   "outputs": [
    {
     "name": "stdout",
     "output_type": "stream",
     "text": [
      "3194 five letter words found\n"
     ]
    }
   ],
   "source": [
    "alphabet = [\"a\", \"b\", \"c\", \"d\", \"e\", \"f\", \"g\", \"h\", \"i\", \"j\", \"k\", \"l\", \"m\", \"n\" \\\n",
    "           , \"o\", \"p\", \"q\", \"r\", \"s\", \"t\", \"u\", \"v\", \"w\", \"x\", \"y\", \"z\"]\n",
    "\n",
    "is_valid_word = lambda word : True if np.sum([(letter in alphabet) for letter in word.lower()]) == 5 else False\n",
    "\n",
    "five_word_set = [w.lower() for w in english_words_set if len(w) == 5 and is_valid_word(w)]\n",
    "print(f\"{len(five_word_set)} five letter words found\")"
   ]
  },
  {
   "cell_type": "code",
   "execution_count": 92,
   "metadata": {},
   "outputs": [
    {
     "data": {
      "text/plain": [
       "[('eerie', 1.9574201628052599),\n",
       " ('reese', 1.948340638697558),\n",
       " ('aerie', 1.9467752035065748),\n",
       " ('erase', 1.9376956793988729),\n",
       " ('eater', 1.9329993738259237)]"
      ]
     },
     "execution_count": 92,
     "metadata": {},
     "output_type": "execute_result"
    }
   ],
   "source": [
    "\n",
    "word_scores = {}\n",
    "\n",
    "def eval_letter_score_noconstraint(target_letter, num_word_set=five_word_set, den_word_set=five_word_set) :\n",
    "    num, den = 0, len(den_word_set)\n",
    "    for word in num_word_set :\n",
    "        if target_letter not in word : continue\n",
    "        num += 1\n",
    "    return num/den\n",
    "\n",
    "def get_ordered_word_scores() :\n",
    "    ordered_words = [(key,val) for (key,val) in word_scores.items()]\n",
    "    ordered_words.sort(key=lambda w : w[1], reverse=True)\n",
    "    return ordered_words\n",
    "\n",
    "def populate_word_scores_v1() :\n",
    "    word_scores.clear()\n",
    "    letter_scores = {}\n",
    "    for letter in alphabet : \n",
    "        letter_scores[letter] = eval_letter_score(letter)\n",
    "    eval_word_score = lambda word : np.sum([letter_scores[letter] for letter in word])\n",
    "    best_word, best_word_score = \"\", 0\n",
    "    for word in five_word_set :\n",
    "        word_scores[word] = eval_word_score(word)\n",
    "\n",
    "populate_word_scores_v1()\n",
    "get_ordered_word_scores()[:5]\n"
   ]
  },
  {
   "cell_type": "code",
   "execution_count": 109,
   "metadata": {},
   "outputs": [
    {
     "name": "stdout",
     "output_type": "stream",
     "text": [
      "Processing word 3194/3194\n"
     ]
    },
    {
     "data": {
      "text/plain": [
       "[('arose', 1.7861615529117094),\n",
       " ('orate', 1.7814652473387602),\n",
       " ('erato', 1.78146524733876),\n",
       " ('aires', 1.7745773324984346),\n",
       " ('raise', 1.7745773324984346)]"
      ]
     },
     "execution_count": 109,
     "metadata": {},
     "output_type": "execute_result"
    }
   ],
   "source": [
    "def count_instances_of_letter_in_word(word, letter) :\n",
    "    return np.sum([l==letter for l in word])   \n",
    "\n",
    "def eval_letter_score_constraining_repeated_letters(target_letter, previous_letters=[], num_word_set=five_word_set, den_word_set=five_word_set) :\n",
    "    if target_letter not in previous_letters :\n",
    "        return eval_letter_score_noconstraint(target_letter, num_word_set=num_word_set, den_word_set=den_word_set)\n",
    "    previous_letter_count = len([True for l in previous_letters if l == target_letter])\n",
    "    num = len([w for w in num_word_set if count_instances_of_letter_in_word(w, target_letter) > previous_letter_count])\n",
    "    den = len(den_word_set)\n",
    "    return num / den\n",
    "\n",
    "def populate_word_scores_v2() :\n",
    "    word_scores.clear()\n",
    "    for word_idx, word in enumerate(five_word_set) :\n",
    "        sys.stdout.write(f\"\\rProcessing word {word_idx+1}/{len(five_word_set)}\")\n",
    "        word_score = 0\n",
    "        for l_idx in range(len(word)) :\n",
    "            word_score += eval_letter_score_constraining_repeated_letters(word[l_idx], [l for l in word[:l_idx]])\n",
    "        word_scores[word] = word_score\n",
    "    sys.stdout.write(\"\\n\")\n",
    "            \n",
    "populate_word_scores_v2()\n",
    "get_ordered_word_scores()[:5]\n"
   ]
  },
  {
   "cell_type": "code",
   "execution_count": 256,
   "metadata": {},
   "outputs": [],
   "source": [
    "possible_guesses = []\n",
    "\n",
    "def reset_possible_guesses() :\n",
    "    global possible_guesses\n",
    "    possible_guesses = sorted([w for w in five_word_set])\n",
    "\n",
    "def guess(true_word, guess_word) :\n",
    "    global possible_guesses\n",
    "    correct_spaces, incorrect_spaces, correct_letters, absent_letters = [], [], [], []\n",
    "    remove_incs_from_word, reduced_guess_letters = [], []\n",
    "    for l_idx, (tl, gl) in enumerate(zip(true_word, guess_word)) :\n",
    "        if tl != gl :\n",
    "            reduced_guess_letters.append(gl)\n",
    "            incorrect_spaces.append((l_idx, gl))\n",
    "            continue\n",
    "        correct_spaces.append((l_idx, gl))\n",
    "        remove_incs_from_word.append(l_idx)\n",
    "    reduced_true_word = true_word\n",
    "    for l_idx in remove_incs_from_word[::-1] :\n",
    "        reduced_true_word = reduced_true_word[:l_idx] + reduced_true_word[1+l_idx:]\n",
    "    for guess_letter in reduced_guess_letters :\n",
    "        guess_letter_idx = reduced_true_word.find(guess_letter)\n",
    "        if guess_letter_idx >= 0 :\n",
    "            correct_letters.append(guess_letter)\n",
    "            reduced_true_word = reduced_true_word[:guess_letter_idx] + reduced_true_word[1+guess_letter_idx:]\n",
    "        else :\n",
    "            absent_letters.append(guess_letter)\n",
    "    absent_letters = set(absent_letters)\n",
    "    if guess_word in possible_guesses :\n",
    "        del possible_guesses[possible_guesses.index(guess_word)]\n",
    "    return correct_spaces, incorrect_spaces, correct_letters, absent_letters"
   ]
  },
  {
   "cell_type": "code",
   "execution_count": 257,
   "metadata": {},
   "outputs": [
    {
     "name": "stdout",
     "output_type": "stream",
     "text": [
      "GUESS      arhat\n",
      "GREEN      []\n",
      "NOT GREEN  [(0, 'a'), (1, 'r'), (2, 'h'), (3, 'a'), (4, 't')]\n",
      "YELLOW     ['r']\n",
      "BLACK      {'t', 'a', 'h'}\n"
     ]
    }
   ],
   "source": [
    "true_word  = \"query\"\n",
    "\n",
    "possible_words = five_word_set\n",
    "\n",
    "assert len(true_word ) == 5\n",
    "assert len(guess_word) == 5\n",
    "\n",
    "correct_spaces, incorrect_spaces, correct_letters, absent_letters = guess(true_word, guess_word)\n",
    "\n",
    "print(f\"GUESS      {guess_word}\")\n",
    "print(f\"GREEN      {correct_spaces}\")\n",
    "print(f\"NOT GREEN  {incorrect_spaces}\")\n",
    "print(f\"YELLOW     {correct_letters}\")\n",
    "print(f\"BLACK      {absent_letters}\")\n"
   ]
  },
  {
   "cell_type": "code",
   "execution_count": 284,
   "metadata": {},
   "outputs": [],
   "source": [
    "possible_answers = []\n",
    "\n",
    "def populate_word_scores_v3() :\n",
    "    word_scores.clear()\n",
    "    for word_idx, word in enumerate(possible_guesses) :\n",
    "        #sys.stdout.write(f\"\\rCalculating score for guess word {word_idx+1}/{len(five_word_set)}\")\n",
    "        word_score = 0\n",
    "        for l_idx in range(len(word)) :\n",
    "            word_score += eval_letter_score_constraining_repeated_letters(word[l_idx], \n",
    "                                                                          [l for l in word[:l_idx]],\n",
    "                                                                          num_word_set=possible_answers,\n",
    "                                                                          den_word_set=possible_answers)\n",
    "        word_scores[word] = word_score\n",
    "    #sys.stdout.write(\"\\n\")\n",
    "    \n",
    "def reset_possible_answers() :\n",
    "    global possible_answers\n",
    "    possible_answers = sorted([w for w in five_word_set])\n",
    "    \n",
    "def update_possible_answers(correct_spaces=[], incorrect_spaces=[], correct_letters=[], absent_letters=[]) :\n",
    "    tmp_possible_answers = []\n",
    "    global possible_answers\n",
    "    for possible_answer in possible_answers :\n",
    "        is_possible = True\n",
    "        #\n",
    "        #print(f\"Correct spaces: {correct_spaces}\")\n",
    "        for (idx, letter) in correct_spaces :\n",
    "            if possible_answer[idx] != letter :\n",
    "                #if turn_count>1 and is_possible : print(f\"{possible_answer.upper()} because it doesn't have an {letter.upper()} at index {idx}\")\n",
    "                is_possible = False\n",
    "        if not is_possible : continue\n",
    "        #\n",
    "        #print(f\"Incorrect spaces: {incorrect_spaces}\")\n",
    "        for (idx, letter) in incorrect_spaces :\n",
    "            if possible_answer[idx] == letter :\n",
    "                #if turn_count>1 and is_possible : print(f\"{possible_answer.upper()} because it has an {letter.upper()} at index {idx}\")\n",
    "                is_possible = False\n",
    "        if not is_possible : continue\n",
    "        #\n",
    "        remove_idcs_from_word = sorted([idx for (idx,letter) in correct_spaces])\n",
    "        reduced_possible_answer = possible_answer\n",
    "        for l_idx in remove_idcs_from_word[::-1] :\n",
    "            reduced_possible_answer = reduced_possible_answer[:l_idx] + reduced_possible_answer[1+l_idx:]\n",
    "        #if len(correct_spaces) > 0 :\n",
    "        #    print(correct_spaces)\n",
    "        #    print(f\"{possible_answer} reduced to {reduced_possible_answer}\")\n",
    "        #\n",
    "        #print(f\"Correct letters: {correct_letters}\")\n",
    "        for correct_letter in correct_letters : \n",
    "            l_idx = reduced_possible_answer.find(correct_letter)\n",
    "            if l_idx < 0 :\n",
    "                #if turn_count>1 and is_possible : print(f\"{possible_answer.upper()} ({reduced_possible_answer}) because it doesn't have an {correct_letter.upper()}\")\n",
    "                is_possible = False\n",
    "            else :\n",
    "                reduced_possible_answer = reduced_possible_answer[:l_idx] + reduced_possible_answer[1+l_idx:]\n",
    "        if not is_possible : continue\n",
    "        #\n",
    "        #print(f\"Incorrect letters: {correct_letters}\")\n",
    "        for absent_letter in absent_letters :\n",
    "            if absent_letter in reduced_possible_answer :\n",
    "                #if turn_count>1 and is_possible : print(f\"{possible_answer.upper()} ({reduced_possible_answer}) because it has an {absent_letter.upper()}\")\n",
    "                is_possible = False\n",
    "        if not is_possible : continue\n",
    "        #\n",
    "        tmp_possible_answers.append(possible_answer)\n",
    "    possible_answers = tmp_possible_answers\n"
   ]
  },
  {
   "cell_type": "code",
   "execution_count": 287,
   "metadata": {},
   "outputs": [],
   "source": [
    "def update_constraints(new_correct_spaces, new_incorrect_spaces, new_correct_letters, new_absent_letters) :\n",
    "    global correct_spaces, incorrect_spaces, correct_letters, absent_letters\n",
    "    tmp_correct_spaces, tmp_incorrect_spaces, tmp_correct_letters, tmp_absent_letters = [], [], [], []\n",
    "            \n",
    "    tmp_incorrect_spaces = [item for item in incorrect_spaces]\n",
    "    for (idx, letter) in new_incorrect_spaces :\n",
    "        if (idx, letter) in incorrect_spaces : continue\n",
    "        tmp_incorrect_spaces.append((idx, letter))\n",
    "        \n",
    "    tmp_correct_spaces   = [item for item in correct_spaces  ]\n",
    "    tmp_correct_letters  = [item for item in correct_letters ]\n",
    "    \n",
    "    for (idx, letter) in new_correct_spaces :\n",
    "        if (idx, letter) in correct_spaces : continue\n",
    "        tmp_correct_spaces.append((idx, letter))\n",
    "        \n",
    "    tmp_correct_letters  = []\n",
    "    for letter in set(new_correct_letters + correct_letters) :\n",
    "        num_times_in_new_answer  = len([True for l in new_correct_letters if l==letter]) + len([True for (i,l) in new_correct_spaces if l==letter])\n",
    "        num_times_in_old_answer  = len([True for l in     correct_letters if l==letter]) + len([True for (i,l) in     correct_spaces if l==letter])\n",
    "        num_times_in_corr_spaces = len([True for (i,l) in tmp_correct_spaces if l==letter])\n",
    "        num_times_expected       = np.max([num_times_in_new_answer, num_times_in_old_answer]) - num_times_in_corr_spaces\n",
    "        for i in range(num_times_expected) : tmp_correct_letters.append(letter)\n",
    "            \n",
    "    tmp_absent_letters   = [item for item in absent_letters  ]\n",
    "    for letter in new_absent_letters :\n",
    "        if letter not in tmp_absent_letters : tmp_absent_letters.append(letter)\n",
    "                \n",
    "    correct_spaces, incorrect_spaces, correct_letters, absent_letters = tmp_correct_spaces, tmp_incorrect_spaces, tmp_correct_letters, tmp_absent_letters\n",
    "            "
   ]
  },
  {
   "cell_type": "code",
   "execution_count": 431,
   "metadata": {
    "scrolled": false
   },
   "outputs": [],
   "source": [
    "correct_spaces, incorrect_spaces, correct_letters, absent_letters = [], [], [], []\n",
    "turn_count = 0\n",
    "\n",
    "def play_game(game_label=\"\", true_word=None, verbose=True) :\n",
    "    global correct_spaces, incorrect_spaces, correct_letters, absent_letters, turn_count\n",
    "    \n",
    "    if type(true_word) != str :\n",
    "        true_word = np.random.choice(five_word_set, size=(1,))[0].lower()\n",
    "    else :\n",
    "        true_word = true_word.lower()\n",
    "        assert len(true_word) == 5\n",
    "        \n",
    "    if verbose :\n",
    "        print_line = f\"---  BEGIN GAME {game_label}: WORD IS '{true_word.upper()}' ---\"\n",
    "        print(\"-\"*len(print_line))\n",
    "        print(print_line)\n",
    "        print(\"-\"*len(print_line))\n",
    "    \n",
    "    start_time = time.time()\n",
    "\n",
    "    reset_possible_guesses()\n",
    "    reset_possible_answers()\n",
    "\n",
    "    guess_word = \"\"\n",
    "    turn_count = 0\n",
    "    correct_spaces, incorrect_spaces, correct_letters, absent_letters = [], [], [], []\n",
    "    while guess_word != true_word :\n",
    "        turn_count += 1\n",
    "        if verbose : print(f\"\\nTurn {turn_count}\")\n",
    "        if turn_count == 1 :\n",
    "            guess_word = \"arose\"\n",
    "        elif len(possible_answers) == 1 :\n",
    "            guess_word = possible_answers[0]\n",
    "        else :\n",
    "            populate_word_scores_v3()\n",
    "            guess_word = get_ordered_word_scores()[0][0]\n",
    "        if verbose : print(f\"Guessing word {guess_word.upper()}\")\n",
    "        new_correct_spaces, new_incorrect_spaces, new_correct_letters, new_absent_letters = guess(true_word, guess_word)\n",
    "        if guess_word == true_word :\n",
    "            end_time = time.time()\n",
    "            if verbose : print(f\"SUCCESS IN {turn_count} TURNS and {end_time-start_time:.2f}s\\n\")\n",
    "        else : \n",
    "            update_constraints(new_correct_spaces, new_incorrect_spaces, new_correct_letters, new_absent_letters)\n",
    "            update_possible_answers(correct_spaces, incorrect_spaces, correct_letters, absent_letters)\n",
    "            if verbose : print(f\"{len(possible_answers)} possible answers remain\")\n",
    "        #\n",
    "        \n",
    "    return turn_count, end_time-start_time\n",
    "    "
   ]
  },
  {
   "cell_type": "code",
   "execution_count": 432,
   "metadata": {},
   "outputs": [
    {
     "name": "stdout",
     "output_type": "stream",
     "text": [
      "-------------------------------------\n",
      "---  BEGIN GAME : WORD IS 'RAZOR' ---\n",
      "-------------------------------------\n",
      "\n",
      "Turn 1\n",
      "Guessing word AROSE\n",
      "43 possible answers remain\n",
      "\n",
      "Turn 2\n",
      "Guessing word ARMCO\n",
      "19 possible answers remain\n",
      "\n",
      "Turn 3\n",
      "Guessing word BOARD\n",
      "3 possible answers remain\n",
      "\n",
      "Turn 4\n",
      "Guessing word ARGOT\n",
      "2 possible answers remain\n",
      "\n",
      "Turn 5\n",
      "Guessing word KAROL\n",
      "1 possible answers remain\n",
      "\n",
      "Turn 6\n",
      "Guessing word RAZOR\n",
      "SUCCESS IN 6 TURNS and 0.86s\n",
      "\n"
     ]
    },
    {
     "data": {
      "text/plain": [
       "(6, 0.8630177974700928)"
      ]
     },
     "execution_count": 432,
     "metadata": {},
     "output_type": "execute_result"
    }
   ],
   "source": [
    "\n",
    "play_game(true_word=\"razor\")\n"
   ]
  },
  {
   "cell_type": "code",
   "execution_count": 413,
   "metadata": {
    "scrolled": true
   },
   "outputs": [
    {
     "name": "stdout",
     "output_type": "stream",
     "text": [
      "Running toy 2000 / 2000"
     ]
    }
   ],
   "source": [
    "num_games = 2000\n",
    "win_indices_and_times = []\n",
    "\n",
    "for game_idx in range(num_games) :\n",
    "    sys.stdout.write(f\"\\rRunning toy {1+game_idx} / {num_games}\")\n",
    "    win_indices_and_times.append(play_game(1+game_idx, verbose=False))\n",
    "    \n",
    "win_indices_and_times = np.array(win_indices_and_times)\n",
    "\n",
    "win_indices = win_indices_and_times[:,0]\n",
    "game_times  = win_indices_and_times[:,1]\n"
   ]
  },
  {
   "cell_type": "code",
   "execution_count": 426,
   "metadata": {},
   "outputs": [
    {
     "name": "stdout",
     "output_type": "stream",
     "text": [
      "Mean number of turns is 3.92 +/- 0.02\n",
      "Std  number of turns is 0.94\n"
     ]
    }
   ],
   "source": [
    "\n",
    "num_turns_mean = np.mean(win_indices_and_times[:,0])\n",
    "num_turns_std  = np.std (win_indices_and_times[:,0])\n",
    "num_turns_SEM  = num_turns_std / np.sqrt(len(win_indices_and_times))\n",
    "    \n",
    "print(f\"Mean number of turns is {num_turns_mean:.2f} +/- {num_turns_SEM:.2f}\")\n",
    "print(f\"Std  number of turns is {num_turns_std:.2f}\")\n"
   ]
  },
  {
   "cell_type": "code",
   "execution_count": 414,
   "metadata": {},
   "outputs": [],
   "source": [
    "def histo_line(bins, hvals) :\n",
    "    x = [bins[0]]\n",
    "    for b in bins[1:-1] :\n",
    "        x.append(b)\n",
    "        x.append(b)\n",
    "    x.append(bins[-1])\n",
    "    y = []\n",
    "    for v in hvals :\n",
    "        y.append(v)\n",
    "        y.append(v)\n",
    "    return np.array(x), np.array(y)\n",
    "\n",
    "def safe_divide(num, den) :\n",
    "    return np.array([n/d if np.fabs(d)>0 else np.nan for n,d in zip(num, den)])\n"
   ]
  },
  {
   "cell_type": "code",
   "execution_count": 428,
   "metadata": {},
   "outputs": [
    {
     "data": {
      "image/png": "[encoded data removed]",
      "text/plain": [
       "<Figure size 504x396 with 1 Axes>"
      ]
     },
     "metadata": {
      "needs_background": "light"
     },
     "output_type": "display_data"
    }
   ],
   "source": [
    "\n",
    "fig = plt.figure(figsize=(7, 5.5))\n",
    "ax  = fig.add_subplot(1, 1, 1)\n",
    "\n",
    "bin_min, bin_max = 1, int(np.max([6, np.max(win_indices)])) + 1\n",
    "bins          = np.linspace(bin_min-0.5, bin_max+0.5, 2+bin_max-bin_min)\n",
    "overflow_bins = np.linspace(6.5, np.max([bin_max,7])+0.5, 2+np.max([bin_max,7])-7)\n",
    "\n",
    "h_absvals, _ = np.histogram(win_indices, bins=bins)\n",
    "h_relvals    = h_absvals / len(win_indices)\n",
    "h_abserrs    = np.sqrt(h_absvals)\n",
    "h_relerrs    = h_abserrs / len(win_indices)\n",
    "\n",
    "hval_max = np.max(h_relvals+h_relerrs)\n",
    "\n",
    "h_split_idx = list(bins).index(6.5)\n",
    "\n",
    "x_blue, y_blue    = histo_line(bins[:h_split_idx+1], h_relvals[:h_split_idx])\n",
    "x_blue, y_blue_hi = histo_line(bins[:h_split_idx+1], h_relvals[:h_split_idx] + h_relerrs[:h_split_idx])\n",
    "x_blue, y_blue_lo = histo_line(bins[:h_split_idx+1], h_relvals[:h_split_idx] - h_relerrs[:h_split_idx])\n",
    "\n",
    "ax.fill_between(x_blue, 0*y_blue , y_blue   , color=\"darkblue\", alpha=0.3, label=f\"Games won ({np.sum(win_indices<7)})\")\n",
    "ax.plot(x_blue, y_blue, color=\"darkblue\", lw=2)\n",
    "ax.fill_between(x_blue, y_blue_lo, y_blue_hi, lw=0.5, color=\"none\", ec=\"darkblue\", hatch='//')\n",
    "\n",
    "x_red , y_red     = histo_line(bins[h_split_idx:], h_relvals[h_split_idx:])\n",
    "x_red , y_red_hi  = histo_line(bins[h_split_idx:], h_relvals[h_split_idx:] + h_relerrs[h_split_idx:])\n",
    "x_red , y_red_lo  = histo_line(bins[h_split_idx:], h_relvals[h_split_idx:] - h_relerrs[h_split_idx:])\n",
    "\n",
    "ax.fill_between(x_red, 0*y_red , y_red   , color=\"darkred\", alpha=0.3, label=f\"Games lost ({np.sum(win_indices>6)})\")\n",
    "ax.plot(x_red, y_red, color=\"darkred\", lw=2)\n",
    "ax.fill_between(x_red, y_red_lo, y_red_hi, lw=0.5, color=\"none\", ec=\"darkred\", hatch='//')\n",
    "\n",
    "ax.plot([6.5, 6.5], [0, hval_max], lw=2, ls=\"--\", c=\"k\", label=\"Win boundary\")\n",
    "\n",
    "ax.set_xlabel(\"Turns taken to complete Wordle\", rotation=0, fontsize=16, labelpad=20)\n",
    "ax.set_ylabel(\"Prob.\\ndensity\", rotation=0, fontsize=16, labelpad=40)\n",
    "ax.tick_params(axis=\"both\", direction=\"in\", top=True, right=True, labelsize=14)\n",
    "ax.set_xlim([bins[0], bins[-1]])\n",
    "ax.set_ylim([0, 1.55*hval_max])\n",
    "ax.legend(loc=\"upper right\", frameon=False, fontsize=13)\n",
    "\n",
    "ax.text(0.03, 0.96, r\"$<t_{game}> = \"+f\"{np.mean(game_times):.2f} \\pm {np.std(game_times)/np.sqrt(num_games):.2f}$ s\", ha=\"left\", va=\"top\", transform=ax.transAxes, fontsize=12)\n",
    "ax.text(0.03, 0.89, r\"$N_{games}\"+f\"={num_games}$\", ha=\"left\", va=\"top\", transform=ax.transAxes, fontsize=12)\n",
    "ax.text(0.03, 0.82, r\"$N_{words}\"+f\"={len(five_word_set)}$ (uniform prob)\", ha=\"left\", va=\"top\", transform=ax.transAxes, fontsize=12)\n",
    "ax.text(0.03, 0.75, f\"mean = ${num_turns_mean:.2f} \\pm {num_turns_SEM:.2f}$, std = ${num_turns_std:.2f}$\", ha=\"left\", va=\"top\", transform=ax.transAxes, fontsize=12)\n",
    "ax.text(0.02, 1.02, \"WORDLE BOT v.1.0.0  [10/01/2022]\", style=\"italic\", fontsize=8, ha=\"left\", va=\"bottom\", transform=ax.transAxes)\n",
    "\n",
    "plt.savefig(\"Wordle_bot_v1p0p0_220110.jpg\", dpi=200, bbox_inches=\"tight\")\n",
    "plt.show()\n"
   ]
  }
 ],
 "metadata": {
  "kernelspec": {
   "display_name": "Python 3",
   "language": "python",
   "name": "python3"
  },
  "language_info": {
   "codemirror_mode": {
    "name": "ipython",
    "version": 3
   },
   "file_extension": ".py",
   "mimetype": "text/x-python",
   "name": "python",
   "nbconvert_exporter": "python",
   "pygments_lexer": "ipython3",
   "version": "3.7.3"
  }
 },
 "nbformat": 4,
 "nbformat_minor": 2
}
