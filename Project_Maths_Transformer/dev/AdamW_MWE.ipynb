{
 "cells": [
  {
   "cell_type": "code",
   "execution_count": 1,
   "id": "e0c0033c",
   "metadata": {},
   "outputs": [],
   "source": [
    "##===========##\n",
    "##  Imports  ##\n",
    "##===========##\n",
    "\n",
    "import sys\n",
    "\n",
    "import tensorflow as tf\n",
    "\n",
    "import numpy as np\n",
    "\n",
    "from tensorflow.keras.models     import Model\n",
    "from tensorflow.keras.layers     import Input, Dense\n",
    "from tensorflow.keras.optimizers import AdamW"
   ]
  },
  {
   "cell_type": "code",
   "execution_count": 2,
   "id": "76224c49",
   "metadata": {},
   "outputs": [
    {
     "name": "stdout",
     "output_type": "stream",
     "text": [
      "Python version is: 3.10.11 | packaged by conda-forge | (main, May 10 2023, 19:01:19) [Clang 14.0.6 ]\n",
      "TF version is: 2.14.0-dev20230523\n",
      "Numpy version is: 1.23.2\n"
     ]
    }
   ],
   "source": [
    "##===================##\n",
    "##  Report versions  ##\n",
    "##===================##\n",
    "#\n",
    "# Expected outputs:\n",
    "# Python version is: 3.10.11 | packaged by conda-forge | (main, May 10 2023, 19:01:19) [Clang 14.0.6 ]\n",
    "# TF version is: 2.14.0-dev20230523\n",
    "# Numpy version is: 1.23.2\n",
    "#\n",
    "\n",
    "print(f\"Python version is: {sys.version}\")\n",
    "print(f\"TF version is: {tf.__version__}\")\n",
    "print(f\"Numpy version is: {np.__version__}\")\n"
   ]
  },
  {
   "cell_type": "code",
   "execution_count": 3,
   "id": "ed38fded",
   "metadata": {},
   "outputs": [
    {
     "name": "stdout",
     "output_type": "stream",
     "text": [
      "Model: \"model\"\n",
      "_________________________________________________________________\n",
      " Layer (type)                Output Shape              Param #   \n",
      "=================================================================\n",
      " Layer_in (InputLayer)       [(None, 2)]               0         \n",
      "                                                                 \n",
      " Layer_hidden (Dense)        (None, 10)                30        \n",
      "                                                                 \n",
      " Layer_out (Dense)           (None, 2)                 22        \n",
      "                                                                 \n",
      "=================================================================\n",
      "Total params: 52 (208.00 Byte)\n",
      "Trainable params: 52 (208.00 Byte)\n",
      "Non-trainable params: 0 (0.00 Byte)\n",
      "_________________________________________________________________\n"
     ]
    }
   ],
   "source": [
    "##==============================##\n",
    "##  Create a very simple model  ##\n",
    "##==============================##\n",
    "#\n",
    "# Expected outputs:\n",
    "# Model: \"model_1\"\n",
    "# _________________________________________________________________\n",
    "#  Layer (type)                Output Shape              Param #   \n",
    "# =================================================================\n",
    "#  Layer_in (InputLayer)       [(None, 2)]               0         \n",
    "                                                                 \n",
    "#  Layer_hidden (Dense)        (None, 10)                30        \n",
    "                                                                 \n",
    "#  Layer_out (Dense)           (None, 2)                 22        \n",
    "                                                                 \n",
    "# =================================================================\n",
    "# Total params: 52 (208.00 Byte)\n",
    "# Trainable params: 52 (208.00 Byte)\n",
    "# Non-trainable params: 0 (0.00 Byte)\n",
    "# _________________________________________________________________\n",
    "#\n",
    "\n",
    "x_in  = Input(2 , dtype=tf.float32, name=\"Layer_in\"    )\n",
    "x     = x_in\n",
    "x     = Dense(10, dtype=tf.float32, name=\"Layer_hidden\", activation=\"relu\"  )(x)\n",
    "x     = Dense(2 , dtype=tf.float32, name=\"Layer_out\"   , activation=\"linear\")(x)\n",
    "model = Model(x_in, x)\n",
    "model.summary()\n"
   ]
  },
  {
   "cell_type": "code",
   "execution_count": 4,
   "id": "6e056467",
   "metadata": {},
   "outputs": [
    {
     "name": "stderr",
     "output_type": "stream",
     "text": [
      "WARNING:absl:At this time, the v2.11+ optimizer `tf.keras.optimizers.AdamW` runs slowly on M1/M2 Macs, please use the legacy Keras optimizer instead, located at `tf.keras.optimizers.legacy.AdamW`.\n",
      "WARNING:absl:There is a known slowdown when using v2.11+ Keras optimizers on M1/M2 Macs. Falling back to the legacy Keras optimizer, i.e., `tf.keras.optimizers.legacy.AdamW`.\n"
     ]
    }
   ],
   "source": [
    "##===================================================##\n",
    "##  Compile model with MSE loss and AdamW optimizer  ##\n",
    "##===================================================##\n",
    "#\n",
    "# Expected outputs:\n",
    "# WARNING:absl:At this time, the v2.11+ optimizer `tf.keras.optimizers.AdamW` runs slowly on M1/M2 Macs, please use the legacy Keras optimizer instead, located at `tf.keras.optimizers.legacy.AdamW`.\n",
    "# WARNING:absl:There is a known slowdown when using v2.11+ Keras optimizers on M1/M2 Macs. Falling back to the legacy Keras optimizer, i.e., `tf.keras.optimizers.legacy.AdamW`.\n",
    "#\n",
    "\n",
    "model.compile(\n",
    "    loss      = \"mse\", \n",
    "    optimizer = AdamW(learning_rate=1e-3, weight_decay=1e-2)\n",
    ")\n"
   ]
  },
  {
   "cell_type": "code",
   "execution_count": 5,
   "id": "1708e29c",
   "metadata": {},
   "outputs": [
    {
     "name": "stdout",
     "output_type": "stream",
     "text": [
      "X shape is (100, 2), Y shape is (100, 2)\n"
     ]
    }
   ],
   "source": [
    "##===========================##\n",
    "##  Generate some fake data  ##\n",
    "##===========================##\n",
    "#\n",
    "# Expected outputs:\n",
    "# X shape is (100, 2), Y shape is (100, 2)\n",
    "#\n",
    "\n",
    "dataset_size = 100\n",
    "X = np.random.normal(size=(dataset_size, 2))\n",
    "X = tf.constant(X, dtype=tf.float32)\n",
    "Y = np.random.normal(size=(dataset_size, 2))\n",
    "Y = tf.constant(Y, dtype=tf.float32)\n",
    "\n",
    "print(f\"X shape is {X.shape}, Y shape is {Y.shape}\")\n"
   ]
  },
  {
   "cell_type": "code",
   "execution_count": 6,
   "id": "a32f3bd2",
   "metadata": {},
   "outputs": [
    {
     "ename": "AttributeError",
     "evalue": "in user code:\n\n    File \"/Users/Ste/miniforge3/envs/tf_macos_nightly_230523/lib/python3.10/site-packages/keras/src/engine/training.py\", line 1338, in train_function  *\n        return step_function(self, iterator)\n    File \"/Users/Ste/miniforge3/envs/tf_macos_nightly_230523/lib/python3.10/site-packages/keras/src/engine/training.py\", line 1322, in step_function  **\n        outputs = model.distribute_strategy.run(run_step, args=(data,))\n    File \"/Users/Ste/miniforge3/envs/tf_macos_nightly_230523/lib/python3.10/site-packages/keras/src/engine/training.py\", line 1303, in run_step  **\n        outputs = model.train_step(data)\n    File \"/Users/Ste/miniforge3/envs/tf_macos_nightly_230523/lib/python3.10/site-packages/keras/src/engine/training.py\", line 1084, in train_step\n        self.optimizer.minimize(loss, self.trainable_variables, tape=tape)\n\n    AttributeError: 'str' object has no attribute 'minimize'\n",
     "output_type": "error",
     "traceback": [
      "\u001b[0;31m---------------------------------------------------------------------------\u001b[0m",
      "\u001b[0;31mAttributeError\u001b[0m                            Traceback (most recent call last)",
      "Cell \u001b[0;32mIn[6], line 45\u001b[0m\n\u001b[1;32m      1\u001b[0m \u001b[38;5;66;03m##===================================##\u001b[39;00m\n\u001b[1;32m      2\u001b[0m \u001b[38;5;66;03m##  Fit model to data for one epoch  ##\u001b[39;00m\n\u001b[1;32m      3\u001b[0m \u001b[38;5;66;03m##===================================##\u001b[39;00m\n\u001b[0;32m   (...)\u001b[0m\n\u001b[1;32m     42\u001b[0m \n\u001b[1;32m     43\u001b[0m \u001b[38;5;66;03m#     AttributeError: 'str' object has no attribute 'minimize'\u001b[39;00m\n\u001b[0;32m---> 45\u001b[0m \u001b[43mmodel\u001b[49m\u001b[38;5;241;43m.\u001b[39;49m\u001b[43mfit\u001b[49m\u001b[43m(\u001b[49m\u001b[43mX\u001b[49m\u001b[43m,\u001b[49m\u001b[43m \u001b[49m\u001b[43mY\u001b[49m\u001b[43m,\u001b[49m\u001b[43m \u001b[49m\u001b[43mepochs\u001b[49m\u001b[38;5;241;43m=\u001b[39;49m\u001b[38;5;241;43m1\u001b[39;49m\u001b[43m)\u001b[49m\n",
      "File \u001b[0;32m~/miniforge3/envs/tf_macos_nightly_230523/lib/python3.10/site-packages/keras/src/utils/traceback_utils.py:70\u001b[0m, in \u001b[0;36mfilter_traceback.<locals>.error_handler\u001b[0;34m(*args, **kwargs)\u001b[0m\n\u001b[1;32m     67\u001b[0m     filtered_tb \u001b[38;5;241m=\u001b[39m _process_traceback_frames(e\u001b[38;5;241m.\u001b[39m__traceback__)\n\u001b[1;32m     68\u001b[0m     \u001b[38;5;66;03m# To get the full stack trace, call:\u001b[39;00m\n\u001b[1;32m     69\u001b[0m     \u001b[38;5;66;03m# `tf.debugging.disable_traceback_filtering()`\u001b[39;00m\n\u001b[0;32m---> 70\u001b[0m     \u001b[38;5;28;01mraise\u001b[39;00m e\u001b[38;5;241m.\u001b[39mwith_traceback(filtered_tb) \u001b[38;5;28;01mfrom\u001b[39;00m \u001b[38;5;28;01mNone\u001b[39;00m\n\u001b[1;32m     71\u001b[0m \u001b[38;5;28;01mfinally\u001b[39;00m:\n\u001b[1;32m     72\u001b[0m     \u001b[38;5;28;01mdel\u001b[39;00m filtered_tb\n",
      "File \u001b[0;32m/var/folders/6_/gprzxt797d5098h8dtk22nch0000gn/T/__autograph_generated_file5m4eo8bw.py:15\u001b[0m, in \u001b[0;36mouter_factory.<locals>.inner_factory.<locals>.tf__train_function\u001b[0;34m(iterator)\u001b[0m\n\u001b[1;32m     13\u001b[0m \u001b[38;5;28;01mtry\u001b[39;00m:\n\u001b[1;32m     14\u001b[0m     do_return \u001b[38;5;241m=\u001b[39m \u001b[38;5;28;01mTrue\u001b[39;00m\n\u001b[0;32m---> 15\u001b[0m     retval_ \u001b[38;5;241m=\u001b[39m ag__\u001b[38;5;241m.\u001b[39mconverted_call(ag__\u001b[38;5;241m.\u001b[39mld(step_function), (ag__\u001b[38;5;241m.\u001b[39mld(\u001b[38;5;28mself\u001b[39m), ag__\u001b[38;5;241m.\u001b[39mld(iterator)), \u001b[38;5;28;01mNone\u001b[39;00m, fscope)\n\u001b[1;32m     16\u001b[0m \u001b[38;5;28;01mexcept\u001b[39;00m:\n\u001b[1;32m     17\u001b[0m     do_return \u001b[38;5;241m=\u001b[39m \u001b[38;5;28;01mFalse\u001b[39;00m\n",
      "\u001b[0;31mAttributeError\u001b[0m: in user code:\n\n    File \"/Users/Ste/miniforge3/envs/tf_macos_nightly_230523/lib/python3.10/site-packages/keras/src/engine/training.py\", line 1338, in train_function  *\n        return step_function(self, iterator)\n    File \"/Users/Ste/miniforge3/envs/tf_macos_nightly_230523/lib/python3.10/site-packages/keras/src/engine/training.py\", line 1322, in step_function  **\n        outputs = model.distribute_strategy.run(run_step, args=(data,))\n    File \"/Users/Ste/miniforge3/envs/tf_macos_nightly_230523/lib/python3.10/site-packages/keras/src/engine/training.py\", line 1303, in run_step  **\n        outputs = model.train_step(data)\n    File \"/Users/Ste/miniforge3/envs/tf_macos_nightly_230523/lib/python3.10/site-packages/keras/src/engine/training.py\", line 1084, in train_step\n        self.optimizer.minimize(loss, self.trainable_variables, tape=tape)\n\n    AttributeError: 'str' object has no attribute 'minimize'\n"
     ]
    }
   ],
   "source": [
    "##===================================##\n",
    "##  Fit model to data for one epoch  ##\n",
    "##===================================##\n",
    "#\n",
    "# Expected outputs:\n",
    "# ---------------------------------------------------------------------------\n",
    "# AttributeError                            Traceback (most recent call last)\n",
    "# Cell In[9], line 51\n",
    "#       1 ##===================================##\n",
    "#       2 ##  Fit model to data for one epoch  ##\n",
    "#       3 ##===================================##\n",
    "#    (...)\n",
    "#      48 #       • mask=None\n",
    "#      49 #\n",
    "# ---> 51 model.fit(X, Y, epochs=1)\n",
    "\n",
    "# File ~/miniforge3/envs/tf_macos_nightly_230523/lib/python3.10/site-packages/keras/src/utils/traceback_utils.py:70, in filter_traceback.<locals>.error_handler(*args, **kwargs)\n",
    "#      67     filtered_tb = _process_traceback_frames(e.__traceback__)\n",
    "#      68     # To get the full stack trace, call:\n",
    "#      69     # `tf.debugging.disable_traceback_filtering()`\n",
    "# ---> 70     raise e.with_traceback(filtered_tb) from None\n",
    "#      71 finally:\n",
    "#      72     del filtered_tb\n",
    "\n",
    "# File /var/folders/6_/gprzxt797d5098h8dtk22nch0000gn/T/__autograph_generated_filezzqv9k36.py:15, in outer_factory.<locals>.inner_factory.<locals>.tf__train_function(iterator)\n",
    "#      13 try:\n",
    "#      14     do_return = True\n",
    "# ---> 15     retval_ = ag__.converted_call(ag__.ld(step_function), (ag__.ld(self), ag__.ld(iterator)), None, fscope)\n",
    "#      16 except:\n",
    "#      17     do_return = False\n",
    "\n",
    "# AttributeError: in user code:\n",
    "\n",
    "#     File \"/Users/Ste/miniforge3/envs/tf_macos_nightly_230523/lib/python3.10/site-packages/keras/src/engine/training.py\", line 1338, in train_function  *\n",
    "#         return step_function(self, iterator)\n",
    "#     File \"/Users/Ste/miniforge3/envs/tf_macos_nightly_230523/lib/python3.10/site-packages/keras/src/engine/training.py\", line 1322, in step_function  **\n",
    "#         outputs = model.distribute_strategy.run(run_step, args=(data,))\n",
    "#     File \"/Users/Ste/miniforge3/envs/tf_macos_nightly_230523/lib/python3.10/site-packages/keras/src/engine/training.py\", line 1303, in run_step  **\n",
    "#         outputs = model.train_step(data)\n",
    "#     File \"/Users/Ste/miniforge3/envs/tf_macos_nightly_230523/lib/python3.10/site-packages/keras/src/engine/training.py\", line 1084, in train_step\n",
    "#         self.optimizer.minimize(loss, self.trainable_variables, tape=tape)\n",
    "\n",
    "#     AttributeError: 'str' object has no attribute 'minimize'\n",
    "\n",
    "model.fit(X, Y, epochs=1)\n"
   ]
  },
  {
   "cell_type": "code",
   "execution_count": 7,
   "id": "ae8cb6e0",
   "metadata": {},
   "outputs": [
    {
     "ename": "AttributeError",
     "evalue": "module 'keras.api._v2.keras.optimizers.legacy' has no attribute 'AdamW'",
     "output_type": "error",
     "traceback": [
      "\u001b[0;31m---------------------------------------------------------------------------\u001b[0m",
      "\u001b[0;31mAttributeError\u001b[0m                            Traceback (most recent call last)",
      "Cell \u001b[0;32mIn[7], line 1\u001b[0m\n\u001b[0;32m----> 1\u001b[0m \u001b[43mtf\u001b[49m\u001b[38;5;241;43m.\u001b[39;49m\u001b[43mkeras\u001b[49m\u001b[38;5;241;43m.\u001b[39;49m\u001b[43moptimizers\u001b[49m\u001b[38;5;241;43m.\u001b[39;49m\u001b[43mlegacy\u001b[49m\u001b[38;5;241;43m.\u001b[39;49m\u001b[43mAdamW\u001b[49m\n",
      "\u001b[0;31mAttributeError\u001b[0m: module 'keras.api._v2.keras.optimizers.legacy' has no attribute 'AdamW'"
     ]
    }
   ],
   "source": [
    "tf.keras.optimizers.legacy.AdamW"
   ]
  },
  {
   "cell_type": "code",
   "execution_count": null,
   "id": "2a51ee37",
   "metadata": {},
   "outputs": [],
   "source": []
  }
 ],
 "metadata": {
  "kernelspec": {
   "display_name": "Python 3 (ipykernel)",
   "language": "python",
   "name": "python3"
  },
  "language_info": {
   "codemirror_mode": {
    "name": "ipython",
    "version": 3
   },
   "file_extension": ".py",
   "mimetype": "text/x-python",
   "name": "python",
   "nbconvert_exporter": "python",
   "pygments_lexer": "ipython3",
   "version": "3.10.11"
  }
 },
 "nbformat": 4,
 "nbformat_minor": 5
}
