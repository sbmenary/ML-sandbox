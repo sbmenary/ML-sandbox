{
 "cells": [
  {
   "cell_type": "code",
   "execution_count": 1,
   "id": "e275a942",
   "metadata": {},
   "outputs": [],
   "source": [
    "\n",
    "import configparser, os, sys\n",
    "\n",
    "sys.path.append(\"/\".join(os.getcwd().split(\"/\")[:-1]))\n",
    "\n",
    "from mathsformer.config import Config\n"
   ]
  },
  {
   "cell_type": "code",
   "execution_count": 2,
   "id": "10de310f",
   "metadata": {},
   "outputs": [],
   "source": [
    "##===================##\n",
    "##   Global config   ##\n",
    "##===================##\n",
    "\n",
    "##  Create dictionary of config values\n",
    "##  -  config values to be set here and never changed!\n",
    "##  -  use nested dictionary as a proxy for namespacing\n",
    "global_config_dict = {\n",
    "    \"global\" : {\n",
    "        \"problem_tag\"       : \"int123_num124\",\n",
    "        \"model_tag\"         : \"baseline\",\n",
    "    },\n",
    "    \"data\" : {\n",
    "        \"train_data\" : {\n",
    "            \"int_lengths\"      : [1, 2, 3],\n",
    "            \"num_ints\"         : [1, 2, 4],\n",
    "            \"batch_size\"       : 32,\n",
    "        },\n",
    "        \"mask_char\"            : 'M',\n",
    "    },\n",
    "    \"model\" : {\n",
    "        \"name\"                  : \"mathsformer_LLM\",\n",
    "        \"learning_rate\"         : 1e-3,\n",
    "        \"pre_encoder\"           : {\n",
    "            \"num_layers\"        : -1,\n",
    "        },\n",
    "    },\n",
    "    \"evaluate\" : {\n",
    "        \"num_print\" : 20,\n",
    "    },\n",
    "}\n"
   ]
  },
  {
   "cell_type": "code",
   "execution_count": 3,
   "id": "943b2274",
   "metadata": {
    "scrolled": true
   },
   "outputs": [
    {
     "name": "stdout",
     "output_type": "stream",
     "text": [
      "global > problem_tag: int123_num124\n",
      "global > model_tag: baseline\n",
      "data > train_data > int_lengths: [1, 2, 3]\n",
      "data > train_data > num_ints: [1, 2, 4]\n",
      "data > train_data > batch_size: 32\n",
      "data > mask_char: M\n",
      "model > name: mathsformer_LLM\n",
      "model > learning_rate: 0.001\n",
      "model > pre_encoder > num_layers: -1\n",
      "evaluate > num_print: 20\n"
     ]
    }
   ],
   "source": [
    "global_config1 = Config(**global_config_dict)\n",
    "global_config1.summary(lvl_separator=' > ')\n",
    "    "
   ]
  },
  {
   "cell_type": "code",
   "execution_count": 4,
   "id": "8703dd73",
   "metadata": {
    "scrolled": true
   },
   "outputs": [
    {
     "name": "stdout",
     "output_type": "stream",
     "text": [
      "global > problem_tag: int123_num124\n",
      "global > model_tag: baseline\n",
      "data > train_data > int_lengths: [1, 2, 3]\n",
      "data > train_data > num_ints: [1, 2, 4]\n",
      "data > train_data > batch_size: 32\n",
      "data > mask_char: M\n",
      "model > name: mathsformer_LLM\n",
      "model > learning_rate: 0.001\n",
      "model > pre_encoder > num_layers: -1\n",
      "evaluate > num_print: 20\n"
     ]
    }
   ],
   "source": [
    "global_config2 = Config(global_config_dict)\n",
    "global_config2.summary(lvl_separator=' > ')\n"
   ]
  },
  {
   "cell_type": "code",
   "execution_count": 5,
   "id": "535e1b70",
   "metadata": {
    "scrolled": true
   },
   "outputs": [
    {
     "name": "stdout",
     "output_type": "stream",
     "text": [
      "global > problem_tag: int123_num124\n",
      "global > model_tag: baseline\n",
      "data > train_data > int_lengths: [1, 2, 3]\n",
      "data > train_data > num_ints: [1, 2, 4]\n",
      "data > train_data > batch_size: 32\n",
      "data > mask_char: M\n",
      "model > name: mathsformer_LLM\n",
      "model > learning_rate: 0.001\n",
      "model > pre_encoder > num_layers: -1\n",
      "evaluate > num_print: 20\n"
     ]
    }
   ],
   "source": [
    "global_config3 = Config()\n",
    "global_config3.load(global_config_dict)\n",
    "global_config3.summary(lvl_separator=' > ')\n"
   ]
  },
  {
   "cell_type": "code",
   "execution_count": 6,
   "id": "67435486",
   "metadata": {},
   "outputs": [
    {
     "name": "stdout",
     "output_type": "stream",
     "text": [
      "\n",
      "[global]\n",
      "problem_tag = 'int123456_num123456'\n",
      "model_tag   = 'pre_encoder_1'\n",
      "\n",
      "[data]\n",
      "train_data>int_lengths = [1, 2, 3, 4, 5, 6]\n",
      "train_data>num_ints    = [1, 2, 4, 6]\n",
      "val_data  >int_lengths = [1, 2, 3, 4, 5, 6]\n",
      "val_data  >num_ints    = [3]\n",
      "\n",
      "[model]\n",
      "pre_encoder>num_layers = 1\n",
      "\n",
      "global problem_tag 'int123456_num123456'\n",
      "global model_tag 'pre_encoder_1'\n",
      "data train_data>int_lengths [1, 2, 3, 4, 5, 6]\n",
      "data train_data>num_ints [1, 2, 4, 6]\n",
      "data val_data  >int_lengths [1, 2, 3, 4, 5, 6]\n",
      "data val_data  >num_ints [3]\n",
      "model pre_encoder>num_layers 1\n"
     ]
    }
   ],
   "source": [
    "cfg_problem = \"\"\"\n",
    "[global]\n",
    "problem_tag = 'int123456_num123456'\n",
    "model_tag   = 'pre_encoder_1'\n",
    "\n",
    "[data]\n",
    "train_data>int_lengths = [1, 2, 3, 4, 5, 6]\n",
    "train_data>num_ints    = [1, 2, 4, 6]\n",
    "val_data  >int_lengths = [1, 2, 3, 4, 5, 6]\n",
    "val_data  >num_ints    = [3]\n",
    "\n",
    "[model]\n",
    "pre_encoder>num_layers = 1\n",
    "\"\"\"\n",
    "\n",
    "print(cfg_problem)\n",
    "\n",
    "config = configparser.ConfigParser()\n",
    "config.read_string(cfg_problem)\n",
    "\n",
    "for sec_name in config.sections() :\n",
    "    section = config[sec_name]\n",
    "    for key, val in section.items() :\n",
    "        print(sec_name, key, val)\n"
   ]
  },
  {
   "cell_type": "code",
   "execution_count": 7,
   "id": "3c668fa8",
   "metadata": {},
   "outputs": [
    {
     "name": "stdout",
     "output_type": "stream",
     "text": [
      "global > problem_tag: int123456_num123456\n",
      "global > model_tag: pre_encoder_1\n",
      "data > train_data > int_lengths: [1, 2, 3, 4, 5, 6]\n",
      "data > train_data > num_ints: [1, 2, 4, 6]\n",
      "data > train_data > batch_size: 32\n",
      "data > mask_char: M\n",
      "data > val_data > int_lengths: [1, 2, 3, 4, 5, 6]\n",
      "data > val_data > num_ints: [3]\n",
      "model > name: mathsformer_LLM\n",
      "model > learning_rate: 0.001\n",
      "model > pre_encoder > num_layers: 1\n",
      "evaluate > num_print: 20\n"
     ]
    }
   ],
   "source": [
    "global_config1.load(cfg_problem)\n",
    "global_config1.summary(lvl_separator=' > ')\n"
   ]
  },
  {
   "cell_type": "code",
   "execution_count": null,
   "id": "de290616",
   "metadata": {},
   "outputs": [],
   "source": []
  }
 ],
 "metadata": {
  "kernelspec": {
   "display_name": "Python 3 (ipykernel)",
   "language": "python",
   "name": "python3"
  },
  "language_info": {
   "codemirror_mode": {
    "name": "ipython",
    "version": 3
   },
   "file_extension": ".py",
   "mimetype": "text/x-python",
   "name": "python",
   "nbconvert_exporter": "python",
   "pygments_lexer": "ipython3",
   "version": "3.10.8"
  }
 },
 "nbformat": 4,
 "nbformat_minor": 5
}
