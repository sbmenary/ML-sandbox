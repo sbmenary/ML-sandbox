{
 "cells": [
  {
   "cell_type": "code",
   "execution_count": 1,
   "id": "a40dbf07",
   "metadata": {},
   "outputs": [],
   "source": [
    "import os, sys\n",
    "\n",
    "import numpy as np\n",
    "import tensorflow as tf\n",
    "\n",
    "from tensorflow.keras.layers  import Embedding, Input, Softmax\n",
    "from tensorflow.keras.losses  import sparse_categorical_crossentropy, SparseCategoricalCrossentropy\n",
    "from tensorflow.keras.metrics import SparseCategoricalAccuracy\n",
    "from tensorflow.keras.models  import Model\n",
    "\n",
    "sys.path.append(\"/\".join(os.getcwd().split(\"/\")[:-1]))\n",
    "\n",
    "from mathsformer.tf_objects import EncoderBlock, FeedForwardBlock"
   ]
  },
  {
   "cell_type": "code",
   "execution_count": 2,
   "id": "160ef9c5",
   "metadata": {},
   "outputs": [],
   "source": [
    "sparse_categorical_crossentropy_loss = SparseCategoricalCrossentropy(from_logits=True, reduction='none')\n",
    "\n",
    "sparse_accuracy_metric = SparseCategoricalAccuracy()\n",
    "\n",
    "def masked_accuracy(y, y_pred, mask_value=0) :\n",
    "    \"\"\"\n",
    "    \"\"\"\n",
    "    ##  Create the mask wherever the label is zero\n",
    "    mask = y != mask_value\n",
    "    \n",
    "    ##  Get the predicted token-id using an argmax along the final axis\n",
    "    y_pred  = tf.argmax(y_pred, axis=-1)\n",
    "    \n",
    "    ##  Determine whether the predicted token matches the label\n",
    "    y_pred = tf.cast(y_pred, y.dtype)\n",
    "    match  = y == y_pred\n",
    "    \n",
    "    ##  Mask the matches\n",
    "    match = match & mask\n",
    "    \n",
    "    ##  Cast matches and mask to float, and compute masked average\n",
    "    match = tf.cast(match, dtype=tf.float32)\n",
    "    mask  = tf.cast(mask , dtype=tf.float32)\n",
    "    acc   = tf.reduce_sum(match) / tf.reduce_sum(mask)\n",
    "    \n",
    "    ##  Return accuracy\n",
    "    return acc\n",
    "\n",
    "def masked_sparse_categorical_crossentropy(y, y_pred, mask_value:int=0, weight_seq_by_length:bool=False) :\n",
    "    \"\"\"\n",
    "    \"\"\"\n",
    "    ##  Create the mask wherever the label is zero\n",
    "    mask = y != mask_value\n",
    "    \n",
    "    ##  Calculate the loss for every token, including masked tokens\n",
    "    loss = sparse_categorical_crossentropy_loss(y, y_pred)\n",
    "    \n",
    "    ##  Cast the mask to the same dtype as the loss values\n",
    "    mask = tf.cast(mask, dtype=loss.dtype)\n",
    "    \n",
    "    ##  Calculate sum loss over sequence, excluding the masked values\n",
    "    loss *= mask\n",
    "    loss = tf.reduce_sum(loss)\n",
    "    \n",
    "    ##  Calculate average loss over the unmasked values if configured\n",
    "    if not weight_seq_by_length :\n",
    "        loss /= tf.reduce_sum(mask)\n",
    "    \n",
    "    ##  Return loss value\n",
    "    return loss\n"
   ]
  },
  {
   "cell_type": "code",
   "execution_count": 3,
   "id": "ce0c2964",
   "metadata": {},
   "outputs": [],
   "source": [
    "def create_model(vocab_size, name, loss=sparse_categorical_crossentropy_loss, acc=sparse_accuracy_metric) :\n",
    "    x_in = Input((None,))\n",
    "    x    = Embedding(vocab_size, 16)(x_in)\n",
    "    x    = FeedForwardBlock(16, num_hidden_layers=1, ndim_hidden=32, skip_connect=True, layer_norm=True, batch_norm=False)(x)\n",
    "    x    = EncoderBlock(16, num_heads=4, ndim_hidden_mha=16, ndim_hidden_ff=16)(x)\n",
    "    x    = FeedForwardBlock(vocab_size, num_hidden_layers=1, ndim_hidden=32, skip_connect=False, layer_norm=False, batch_norm=False)(x)\n",
    "    model = Model(x_in, x, name=name)\n",
    "    model.compile(loss=loss, \n",
    "                  optimizer=\"adam\",\n",
    "                  metrics=[acc])\n",
    "    return model\n",
    "    "
   ]
  },
  {
   "cell_type": "code",
   "execution_count": 4,
   "id": "87838c76",
   "metadata": {},
   "outputs": [
    {
     "name": "stdout",
     "output_type": "stream",
     "text": [
      "(2, 5)\n",
      "(2, 5)\n"
     ]
    }
   ],
   "source": [
    "x = tf.constant([[1, 2, 3, 0, 0],\n",
    "                 [3, 3, 3, 3, 0],], dtype=tf.int32)\n",
    "print(x.shape)\n",
    "\n",
    "y = tf.constant([[2, 3, 4, 0, 0],\n",
    "                 [3, 3, 3, 3, 0]], dtype=tf.int32)\n",
    "print(y.shape)\n"
   ]
  },
  {
   "cell_type": "code",
   "execution_count": 5,
   "id": "056e11de",
   "metadata": {},
   "outputs": [
    {
     "name": "stdout",
     "output_type": "stream",
     "text": [
      "Model: \"test_model_1\"\n",
      "_________________________________________________________________\n",
      " Layer (type)                Output Shape              Param #   \n",
      "=================================================================\n",
      " input_1 (InputLayer)        [(None, None)]            0         \n",
      "                                                                 \n",
      " embedding (Embedding)       (None, None, 16)          80        \n",
      "                                                                 \n",
      " feed_forward_block (FeedFor  (None, None, 16)         1104      \n",
      " wardBlock)                                                      \n",
      "                                                                 \n",
      " encoder_block (EncoderBlock  (None, None, 16)         4912      \n",
      " )                                                               \n",
      "                                                                 \n",
      " feed_forward_block_1 (FeedF  (None, None, 5)          709       \n",
      " orwardBlock)                                                    \n",
      "                                                                 \n",
      "=================================================================\n",
      "Total params: 6,805\n",
      "Trainable params: 6,805\n",
      "Non-trainable params: 0\n",
      "_________________________________________________________________\n",
      "Model: \"test_model_2\"\n",
      "_________________________________________________________________\n",
      " Layer (type)                Output Shape              Param #   \n",
      "=================================================================\n",
      " input_2 (InputLayer)        [(None, None)]            0         \n",
      "                                                                 \n",
      " embedding_1 (Embedding)     (None, None, 16)          80        \n",
      "                                                                 \n",
      " feed_forward_block_2 (FeedF  (None, None, 16)         1104      \n",
      " orwardBlock)                                                    \n",
      "                                                                 \n",
      " encoder_block_1 (EncoderBlo  (None, None, 16)         4912      \n",
      " ck)                                                             \n",
      "                                                                 \n",
      " feed_forward_block_3 (FeedF  (None, None, 5)          709       \n",
      " orwardBlock)                                                    \n",
      "                                                                 \n",
      "=================================================================\n",
      "Total params: 6,805\n",
      "Trainable params: 6,805\n",
      "Non-trainable params: 0\n",
      "_________________________________________________________________\n"
     ]
    }
   ],
   "source": [
    "model1 = create_model(5, \"test_model_1\")\n",
    "model1.summary()\n",
    "\n",
    "model2 = create_model(5, \"test_model_2\", loss=masked_sparse_categorical_crossentropy, acc=masked_accuracy)\n",
    "model2.summary()"
   ]
  },
  {
   "cell_type": "code",
   "execution_count": 6,
   "id": "b32d4741",
   "metadata": {},
   "outputs": [
    {
     "name": "stderr",
     "output_type": "stream",
     "text": [
      "2023-04-08 12:53:13.394963: W tensorflow/tsl/platform/profile_utils/cpu_utils.cc:128] Failed to get CPU frequency: 0 Hz\n"
     ]
    },
    {
     "name": "stdout",
     "output_type": "stream",
     "text": [
      "1/1 [==============================] - 1s 921ms/step - loss: 1.8886 - sparse_categorical_accuracy: 0.0000e+00 - val_loss: 1.5519 - val_sparse_categorical_accuracy: 0.5000\n",
      "1/1 [==============================] - 1s 1s/step - loss: 1.2515 - masked_accuracy: 0.5714 - val_loss: 1.1605 - val_masked_accuracy: 0.5714\n"
     ]
    },
    {
     "data": {
      "text/plain": [
       "<keras.callbacks.History at 0x15743ef80>"
      ]
     },
     "execution_count": 6,
     "metadata": {},
     "output_type": "execute_result"
    }
   ],
   "source": [
    "model1.fit(x, y, epochs=1, validation_data=(x, y))\n",
    "model2.fit(x, y, epochs=1, validation_data=(x, y))"
   ]
  },
  {
   "cell_type": "code",
   "execution_count": 7,
   "id": "09f74179",
   "metadata": {},
   "outputs": [],
   "source": [
    "def get_loss(y, y_pred) :\n",
    "    loss   = sparse_categorical_crossentropy(y, y_pred, from_logits=True).numpy()\n",
    "    y      = y.numpy()\n",
    "    y_pred = y_pred.numpy()\n",
    "    mask   = y != 0\n",
    "    y_unmasked  = loss.flatten().sum() / np.prod(y.shape)\n",
    "    y_masked    = np.where(mask, loss, 0).flatten().sum() / mask.flatten().sum()\n",
    "    return y_unmasked, y_masked\n",
    "\n",
    "def get_acc(y, y_pred) :\n",
    "    y           = y.numpy()\n",
    "    y_pred      = y_pred.numpy().argmax(axis=-1)\n",
    "    match, mask = y == y_pred, y != 0\n",
    "    y_unmasked  = match.flatten().sum() / np.prod(y.shape)\n",
    "    y_masked    = np.where(mask, match, 0).flatten().sum() / mask.flatten().sum()\n",
    "    return y_unmasked, y_masked"
   ]
  },
  {
   "cell_type": "code",
   "execution_count": 8,
   "id": "9a200d4a",
   "metadata": {},
   "outputs": [
    {
     "name": "stdout",
     "output_type": "stream",
     "text": [
      "[[1.9450715 1.3341032 2.0708637 2.0139081 2.0139081]\n",
      " [1.0918609 1.0918609 1.0918609 1.0918608 1.77385  ]]\n",
      "[[1.9450715 1.3341032 2.0708637 2.0139081 2.0139081]\n",
      " [1.0918609 1.0918609 1.0918609 1.0918608 1.77385  ]]\n",
      "loss 1.5519147\n",
      "sparse_categorical_accuracy 0.5\n",
      "(1.5519147872924806, 1.388211795261928)\n",
      "(0.5, 0.7142857142857143)\n"
     ]
    }
   ],
   "source": [
    "\n",
    "y_pred = model1(x)\n",
    "\n",
    "sample_weight = tf.ones_like(x)\n",
    "\n",
    "print(model1.compute_loss(y=y, y_pred=y_pred).numpy())\n",
    "print(model1.compute_loss(y=y, y_pred=y_pred, sample_weight=sample_weight).numpy())\n",
    "\n",
    "for name, val in model1.compute_metrics(x=x, y=y, y_pred=y_pred, sample_weight=sample_weight).items() :\n",
    "    print(name, val.numpy())\n",
    "\n",
    "print(get_loss(y, y_pred))\n",
    "print(get_acc(y, y_pred))"
   ]
  },
  {
   "cell_type": "code",
   "execution_count": 9,
   "id": "a998d09c",
   "metadata": {},
   "outputs": [
    {
     "name": "stdout",
     "output_type": "stream",
     "text": [
      "1.1604853\n",
      "1.1604853\n",
      "loss 1.1604853\n",
      "masked_accuracy 0.5714286\n",
      "(1.331087303161621, 1.1604852676391602)\n",
      "(0.4, 0.5714285714285714)\n"
     ]
    }
   ],
   "source": [
    "\n",
    "y_pred = model2(x)\n",
    "\n",
    "sample_weight = tf.ones_like(x)\n",
    "\n",
    "print(model2.compute_loss(y=y, y_pred=y_pred).numpy())\n",
    "print(model2.compute_loss(y=y, y_pred=y_pred, sample_weight=sample_weight).numpy())\n",
    "\n",
    "for name, val in model2.compute_metrics(x=x, y=y, y_pred=y_pred, sample_weight=sample_weight).items() :\n",
    "    print(name, val.numpy())\n",
    "\n",
    "print(get_loss(y, y_pred))\n",
    "print(get_acc(y, y_pred))"
   ]
  },
  {
   "cell_type": "code",
   "execution_count": null,
   "id": "5bef2c29",
   "metadata": {},
   "outputs": [],
   "source": []
  },
  {
   "cell_type": "code",
   "execution_count": 10,
   "id": "c0961b7b",
   "metadata": {},
   "outputs": [
    {
     "name": "stdout",
     "output_type": "stream",
     "text": [
      "tf.Tensor(\n",
      "[[3 3 3 3 0]\n",
      " [2 3 4 0 0]], shape=(2, 5), dtype=int32)\n",
      "tf.Tensor(\n",
      "[[3 3 3 3 0]\n",
      " [2 3 4 0 0]], shape=(2, 5), dtype=int32)\n",
      "tf.Tensor(\n",
      "[[2 3 4 0 0]\n",
      " [2 3 4 0 0]], shape=(2, 5), dtype=int32)\n",
      "tf.Tensor(\n",
      "[[3 3 3 3 0]\n",
      " [3 3 3 3 0]], shape=(2, 5), dtype=int32)\n",
      "tf.Tensor(\n",
      "[[3 3 3 3 0]\n",
      " [3 3 3 3 0]], shape=(2, 5), dtype=int32)\n"
     ]
    }
   ],
   "source": [
    "bs_indices = np.random.choice(2, size=(5,2))\n",
    "\n",
    "for indcs in bs_indices :\n",
    "    print(tf.gather(y, indcs))"
   ]
  },
  {
   "cell_type": "code",
   "execution_count": null,
   "id": "de99b018",
   "metadata": {},
   "outputs": [],
   "source": []
  }
 ],
 "metadata": {
  "kernelspec": {
   "display_name": "Python 3 (ipykernel)",
   "language": "python",
   "name": "python3"
  },
  "language_info": {
   "codemirror_mode": {
    "name": "ipython",
    "version": 3
   },
   "file_extension": ".py",
   "mimetype": "text/x-python",
   "name": "python",
   "nbconvert_exporter": "python",
   "pygments_lexer": "ipython3",
   "version": "3.10.8"
  }
 },
 "nbformat": 4,
 "nbformat_minor": 5
}
