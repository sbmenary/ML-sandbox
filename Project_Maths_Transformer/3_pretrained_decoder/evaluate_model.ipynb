{
 "cells": [
  {
   "cell_type": "code",
   "execution_count": 1,
   "id": "08378093",
   "metadata": {},
   "outputs": [],
   "source": [
    "##=========================##\n",
    "##   All imports go here   ##\n",
    "##=========================##\n",
    "\n",
    "##  Import entire python stdlib packages\n",
    "import logging, os, sys\n",
    "\n",
    "##  Import entire pypi packages\n",
    "import tensorflow as tf\n",
    "import numpy      as np\n",
    "\n",
    "##  Remove tensorflow INFO messages\n",
    "tf.get_logger().setLevel('WARNING')\n",
    "\n",
    "##  Add directory above this to system path to expose mathsformer package location\n",
    "sys.path.append(\"/\".join(os.getcwd().split(\"/\")[:-1]))\n",
    "\n",
    "##  Import individual modules/objects from packages\n",
    "from matplotlib  import patches, pyplot as plt\n",
    "from mathsformer import config, data, transformers, utils\n",
    "from mathsformer import selfsupervised_learning_addition_model_backend as backend\n"
   ]
  },
  {
   "cell_type": "code",
   "execution_count": 2,
   "id": "b1b771f1",
   "metadata": {},
   "outputs": [],
   "source": [
    "##==============================##\n",
    "##   Set custom config values   ##\n",
    "##==============================##\n",
    "\n",
    "custom_config = {\n",
    "    \"global\" : {\n",
    "        \"model_tag\"        : \"ladder\",\n",
    "        \"base_seed\"        : -1,\n",
    "        \"working_dir\"      : \"evaluate_model_[date]\",\n",
    "        \"log_lvl_iostream\" : logging.INFO,\n",
    "        \"log_lvl_fstream\"  : logging.DEBUG,\n",
    "    },\n",
    "    \"data\" : {\n",
    "        \"train_data\" : {\n",
    "            \"int_lengths\"      : [1, 2, 3, 4],\n",
    "            \"num_ints\"         : [1, 2, 3, 5],\n",
    "        },\n",
    "        \"test_data\" : {\n",
    "            \"int_lengths\"      : [1, 2, 3, 4, 5, 6],\n",
    "            \"num_ints\"         : [1, 2, 3, 4, 5, 6, 7, 8],\n",
    "            \"batch_size\"       : 32,\n",
    "            \"num_batches\"      : 5,\n",
    "            \"gen_base_seed\"    : 200,\n",
    "            \"gen_reproducible\" : True,\n",
    "        },\n",
    "        \"characters\"              : ['M', 'B', 'E', 'N', '0', '1', '2', '3', '4', '5', '6', '7', '8', '9', '+', '-'],\n",
    "        \"mask_char\"               : 'M',\n",
    "        \"seq_start_char\"          : 'B',\n",
    "        \"seq_end_char\"            : 'E',\n",
    "        \"negative_char\"           : 'N',\n",
    "        \"dtype\"                   : \"int32\",\n",
    "    },\n",
    "    \"models\" : {\n",
    "        \"ladder\" : \"../2_unsupervised_learning/save/SSL_loopy_enc_dec_notebook_int1234_num1235_embed128_enc_2blocks_5loops_width512_dec_2blocks_1loops_width512_post3_width512_idem2_2023_06_29/final_model.keras\",\n",
    "        \"baseline\"   : \"save/SSL_loopy_enc_dec_notebook_int1234_num1245_embed128_enc_10blocks_1loops_width512_dec_2blocks_1loops_width512_post3_width512_idemm1_2023_06_26/final_model.keras\",\n",
    "        \"loop_idem0\" : \"save/SSL_loopy_enc_dec_notebook_int1234_num1245_embed128_enc_2blocks_5loops_width512_dec_2blocks_1loops_width512_post3_width512_idemm1_2023_06_25_v2/final_model.keras\",\n",
    "        \"base_idem1\" : \"save/SSL_loopy_enc_dec_notebook_int1234_num1245_embed128_enc_10blocks_1loops_width512_dec_2blocks_1loops_width512_post3_width512_idem1_2023_06_27_v2/model_checkpoint_epoch3_val_loss_0.077007.keras\",\n",
    "        \"loop_idem2\" : \"SSL_loopy_enc_dec_notebook_int1234_num1245_embed128_enc_2blocks_5loops_width512_dec_2blocks_1loops_width512_post3_width512_idem2_2023_06_27/model_checkpoint_epoch101_val_loss_0.012904.keras\"\n",
    "    },\n",
    "    \"evaluate\" : {\n",
    "        \"num_print\" : 50,\n",
    "    },\n",
    "}\n"
   ]
  },
  {
   "cell_type": "code",
   "execution_count": 3,
   "id": "12d31d9d",
   "metadata": {},
   "outputs": [
    {
     "name": "stdout",
     "output_type": "stream",
     "text": [
      "==========================\n",
      "===   Config created   ===\n",
      "==========================\n"
     ]
    }
   ],
   "source": [
    "##===================================##\n",
    "##   Load and validate full config   ##\n",
    "##===================================##\n",
    "\n",
    "##  Create config object containing default values\n",
    "cfg = config.Config(backend.DEFAULT_CONFIG)\n",
    "\n",
    "##  Override with custom values\n",
    "cfg.load_dict(custom_config)\n",
    "\n",
    "##  Validate config\n",
    "backend.validate_config(cfg)\n",
    "\n",
    "##  Print success\n",
    "print(utils.fancy_message(f\"Config created\"))\n",
    "\n",
    "##  For convenience, split configs for different sections\n",
    "cfg_global   = cfg[\"global\"  ]\n",
    "cfg_data     = cfg[\"data\"    ]\n",
    "cfg_model    = cfg[\"models\"  ]\n",
    "cfg_training = cfg[\"training\"]\n",
    "cfg_evaluate = cfg[\"evaluate\"]\n"
   ]
  },
  {
   "cell_type": "code",
   "execution_count": 4,
   "id": "a14c2fe1",
   "metadata": {},
   "outputs": [
    {
     "name": "stdout",
     "output_type": "stream",
     "text": [
      "=====================================================================\n",
      "===   Working directory created at evaluate_model_2023_06_30_v4   ===\n",
      "=====================================================================\n",
      "   INFO initialise_logging: Begin logging on 2023-06-30 at 08:10:37\n",
      "   INFO initialise_program: Program description: evaluate_model (notebook)\n",
      "   INFO initialise_program: Working directory: evaluate_model_2023_06_30_v4\n",
      "   INFO log_versions: ------------------------------------------------------+------------------------------------------------------\n",
      "   INFO log_versions:                                              PACKAGE  |  VERSION\n",
      "   INFO log_versions: ------------------------------------------------------+------------------------------------------------------\n",
      "   INFO log_versions:                                               Python  |  3.11.3 (main, May 15 2023, 18:01:31) [Clang 14.0.6 ]\n",
      "   INFO log_versions:                                              IPython  |  8.14.0\n",
      "   INFO log_versions:                                 IPython.core.release  |  8.14.0\n",
      "   INFO log_versions:                                                  PIL  |  9.5.0\n",
      "   INFO log_versions:                                            PIL.Image  |  9.5.0\n",
      "   INFO log_versions:                                       PIL._deprecate  |  9.5.0\n",
      "   INFO log_versions:                                         PIL._version  |  9.5.0\n",
      "   INFO log_versions:                                                 _csv  |  1.0\n",
      "   INFO log_versions:                                              _ctypes  |  1.1.0\n",
      "   INFO log_versions:                                              _curses  |  b'2.2'\n",
      "   INFO log_versions:                                              decimal  |  1.70\n",
      "   INFO log_versions:                               _pydev_bundle.fsnotify  |  0.1.5\n",
      "   INFO log_versions:                 _pydevd_frame_eval.vendored.bytecode  |  0.13.0.dev\n",
      "   INFO log_versions:                                              appnope  |  0.1.3\n",
      "   INFO log_versions:                                             argparse  |  1.1\n",
      "   INFO log_versions:                                           astunparse  |  1.6.3\n",
      "   INFO log_versions:                                             backcall  |  0.2.0\n",
      "   INFO log_versions:                                              certifi  |  2023.05.07\n",
      "   INFO log_versions:                                                 cffi  |  1.15.1\n",
      "   INFO log_versions:                                   charset_normalizer  |  3.1.0\n",
      "   INFO log_versions:                           charset_normalizer.version  |  3.1.0\n",
      "   INFO log_versions:                                                 comm  |  0.1.3\n",
      "   INFO log_versions:                                                  csv  |  1.0\n",
      "   INFO log_versions:                                               ctypes  |  1.1.0\n",
      "   INFO log_versions:                                      ctypes.macholib  |  1.0\n",
      "   INFO log_versions:                                               cycler  |  0.10.0\n",
      "   INFO log_versions:                                             dateutil  |  2.8.2\n",
      "   INFO log_versions:                                              debugpy  |  1.6.7\n",
      "   INFO log_versions:                                   debugpy.public_api  |  1.6.7\n",
      "   INFO log_versions:                                              decimal  |  1.70\n",
      "   INFO log_versions:                                            decorator  |  5.1.1\n",
      "   INFO log_versions:                                           defusedxml  |  0.7.1\n",
      "   INFO log_versions:                                            distutils  |  3.11.3\n",
      "   INFO log_versions:                                            executing  |  1.2.0\n",
      "   INFO log_versions:                                    executing.version  |  1.2.0\n",
      "   INFO log_versions:                                          flatbuffers  |  23.5.26\n",
      "   INFO log_versions:                                 flatbuffers._version  |  23.5.26\n",
      "   INFO log_versions:                                      google.protobuf  |  4.23.3\n",
      "   INFO log_versions:                                                 h5py  |  3.9.0\n",
      "   INFO log_versions:                                          http.server  |  0.6\n",
      "   INFO log_versions:                                                 idna  |  3.4\n",
      "   INFO log_versions:                                        idna.idnadata  |  15.0.0\n",
      "   INFO log_versions:                                    idna.package_data  |  3.4\n",
      "   INFO log_versions:                                            ipaddress  |  1.0\n",
      "   INFO log_versions:                                            ipykernel  |  6.23.3\n",
      "   INFO log_versions:                                   ipykernel._version  |  6.23.3\n",
      "   INFO log_versions:                                                 jedi  |  0.18.2\n",
      "   INFO log_versions:                                                 json  |  2.0.9\n",
      "   INFO log_versions:                                       jupyter_client  |  8.3.0\n",
      "   INFO log_versions:                              jupyter_client._version  |  8.3.0\n",
      "   INFO log_versions:                                         jupyter_core  |  5.3.1\n",
      "   INFO log_versions:                                 jupyter_core.version  |  5.3.1\n",
      "   INFO log_versions:                                                keras  |  2.12.0\n",
      "   INFO log_versions:                                  keras.api._v2.keras  |  2.12.0\n",
      "   INFO log_versions:                                      keras.api.keras  |  2.12.0\n",
      "   INFO log_versions:                                           kiwisolver  |  1.4.4\n",
      "   INFO log_versions:                                     kiwisolver._cext  |  1.4.4\n",
      "   INFO log_versions:                                              logging  |  0.5.1.2\n",
      "   INFO log_versions:                                           matplotlib  |  3.7.1\n",
      "   INFO log_versions:                                  matplotlib._version  |  3.7.1\n",
      "   INFO log_versions:                                                numpy  |  1.23.5\n",
      "   INFO log_versions:                                           numpy.core  |  1.23.5\n",
      "   INFO log_versions:                         numpy.core._multiarray_umath  |  3.1\n",
      "   INFO log_versions:                                            numpy.lib  |  1.23.5\n",
      "   INFO log_versions:                           numpy.linalg._umath_linalg  |  0.1.5\n",
      "   INFO log_versions:                                        numpy.version  |  1.23.5\n",
      "   INFO log_versions:                                           opt_einsum  |  v3.3.0\n",
      "   INFO log_versions:                                            packaging  |  23.1\n",
      "   INFO log_versions:                                                parso  |  0.8.3\n",
      "   INFO log_versions:                                              pexpect  |  4.8.0\n",
      "   INFO log_versions:                                          pickleshare  |  0.7.5\n",
      "   INFO log_versions:                 pkg_resources._vendor.more_itertools  |  9.0.0\n",
      "   INFO log_versions:                      pkg_resources._vendor.packaging  |  23.0\n",
      "   INFO log_versions:                   pkg_resources._vendor.platformdirs  |  2.6.2\n",
      "   INFO log_versions:           pkg_resources._vendor.platformdirs.version  |  2.6.2\n",
      "   INFO log_versions:                 pkg_resources._vendor.more_itertools  |  9.0.0\n",
      "   INFO log_versions:                      pkg_resources._vendor.packaging  |  23.0\n",
      "   INFO log_versions:                   pkg_resources._vendor.platformdirs  |  2.6.2\n",
      "   INFO log_versions:                                             platform  |  1.0.8\n",
      "   INFO log_versions:                                         platformdirs  |  3.8.0\n",
      "   INFO log_versions:                                 platformdirs.version  |  3.8.0\n",
      "   INFO log_versions:                                       prompt_toolkit  |  3.0.38\n",
      "   INFO log_versions:                                               psutil  |  5.9.5\n",
      "   INFO log_versions:                                           ptyprocess  |  0.7.0\n",
      "   INFO log_versions:                                            pure_eval  |  0.2.2\n",
      "   INFO log_versions:                                    pure_eval.version  |  0.2.2\n",
      "   INFO log_versions:                                               pydevd  |  2.9.5\n"
     ]
    },
    {
     "name": "stdout",
     "output_type": "stream",
     "text": [
      "   INFO log_versions:                                             pygments  |  2.15.1\n",
      "   INFO log_versions:                                            pyparsing  |  3.1.0\n",
      "   INFO log_versions:                                                   re  |  2.2.1\n",
      "   INFO log_versions:                                             requests  |  2.31.0\n",
      "   INFO log_versions:                                 requests.__version__  |  2.31.0\n",
      "   INFO log_versions:                                                 idna  |  3.4\n",
      "   INFO log_versions:                                        idna.idnadata  |  15.0.0\n",
      "   INFO log_versions:                                    idna.package_data  |  3.4\n",
      "   INFO log_versions:                                              urllib3  |  1.26.16\n",
      "   INFO log_versions:                                     urllib3._version  |  1.26.16\n",
      "   INFO log_versions:                                   urllib3.connection  |  1.26.16\n",
      "   INFO log_versions:                                 urllib3.packages.six  |  1.16.0\n",
      "   INFO log_versions:                      urllib3.util.ssl_match_hostname  |  3.5.0.1\n",
      "   INFO log_versions:                                       requests.utils  |  2.31.0\n",
      "   INFO log_versions:                                                scipy  |  1.11.0\n",
      "   INFO log_versions:                                 scipy._lib.decorator  |  4.0.5\n",
      "   INFO log_versions:                                  scipy.linalg._fblas  |  1.23.2\n",
      "   INFO log_versions:                                scipy.linalg._flapack  |  1.23.2\n",
      "   INFO log_versions:                                scipy.linalg._flinalg  |  1.23.2\n",
      "   INFO log_versions:            scipy.sparse.linalg._eigen.arpack._arpack  |  1.23.2\n",
      "   INFO log_versions:               scipy.sparse.linalg._isolve._iterative  |  1.23.2\n",
      "   INFO log_versions:                               scipy.special._specfun  |  1.23.2\n",
      "   INFO log_versions:                                           setuptools  |  67.8.0\n",
      "   INFO log_versions:                                            distutils  |  3.11.3\n",
      "   INFO log_versions:                    setuptools._vendor.more_itertools  |  8.8.0\n",
      "   INFO log_versions:                       setuptools._vendor.ordered_set  |  3.1\n",
      "   INFO log_versions:                         setuptools._vendor.packaging  |  23.0\n",
      "   INFO log_versions:                    setuptools._vendor.more_itertools  |  8.8.0\n",
      "   INFO log_versions:                       setuptools._vendor.ordered_set  |  3.1\n",
      "   INFO log_versions:                         setuptools._vendor.packaging  |  23.0\n",
      "   INFO log_versions:                                   setuptools.version  |  67.8.0\n",
      "   INFO log_versions:                                                  six  |  1.16.0\n",
      "   INFO log_versions:                                         socketserver  |  0.4\n",
      "   INFO log_versions:                                           stack_data  |  0.6.2\n",
      "   INFO log_versions:                                   stack_data.version  |  0.6.2\n",
      "   INFO log_versions:                                          tensorboard  |  2.12.3\n",
      "   INFO log_versions:                   tensorboard.compat.tensorflow_stub  |  stub\n",
      "   INFO log_versions: tensorboard.compat.tensorflow_stub.pywrap_tensorflow  |  0\n",
      "   INFO log_versions:                                           tensorflow  |  2.12.0\n",
      "   INFO log_versions:                         tensorflow._api.v2.compat.v1  |  2.12.0\n",
      "   INFO log_versions:               tensorflow._api.v2.compat.v1.compat.v1  |  2.12.0\n",
      "   INFO log_versions:               tensorflow._api.v2.compat.v1.compat.v2  |  2.12.0\n",
      "   INFO log_versions:                         tensorflow._api.v2.compat.v2  |  2.12.0\n",
      "   INFO log_versions:               tensorflow._api.v2.compat.v2.compat.v1  |  2.12.0\n",
      "   INFO log_versions:               tensorflow._api.v2.compat.v2.compat.v2  |  2.12.0\n",
      "   INFO log_versions:                                 tensorflow.compat.v1  |  2.12.0\n",
      "   INFO log_versions:                       tensorflow.compat.v1.compat.v1  |  2.12.0\n",
      "   INFO log_versions:                       tensorflow.compat.v1.compat.v2  |  2.12.0\n",
      "   INFO log_versions:                                 tensorflow.compat.v2  |  2.12.0\n",
      "   INFO log_versions:                       tensorflow.compat.v2.compat.v1  |  2.12.0\n",
      "   INFO log_versions:                       tensorflow.compat.v2.compat.v2  |  2.12.0\n",
      "   INFO log_versions:                                     tensorflow.keras  |  2.12.0\n",
      "   INFO log_versions:           tensorflow.python.client.pywrap_tf_session  |  2.12.0\n",
      "   INFO log_versions:                 tensorflow.python.framework.versions  |  2.12.0\n",
      "   INFO log_versions:                              tensorflow.python.keras  |  2.6.0\n",
      "   INFO log_versions:                                            traitlets  |  5.9.0\n",
      "   INFO log_versions:                                   traitlets._version  |  5.9.0\n",
      "   INFO log_versions:                                       urllib.request  |  3.11\n",
      "   INFO log_versions:                                              urllib3  |  1.26.16\n",
      "   INFO log_versions:                                     urllib3._version  |  1.26.16\n",
      "   INFO log_versions:                                   urllib3.connection  |  1.26.16\n",
      "   INFO log_versions:                                 urllib3.packages.six  |  1.16.0\n",
      "   INFO log_versions:                      urllib3.util.ssl_match_hostname  |  3.5.0.1\n",
      "   INFO log_versions:                                              wcwidth  |  0.2.6\n",
      "   INFO log_versions:                                                wrapt  |  1.14.1\n",
      "   INFO log_versions:                                        xmlrpc.client  |  3.11\n",
      "   INFO log_versions:                                                 zlib  |  1.0\n",
      "   INFO log_versions:                                                  zmq  |  25.1.0\n",
      "   INFO log_versions:                                            zmq.sugar  |  25.1.0\n",
      "   INFO log_versions:                                    zmq.sugar.version  |  25.1.0\n",
      "   INFO log_versions: ------------------------------------------------------+------------------------------------------------------\n",
      "   INFO initialise_program: Registered config value global > base_seed: -1\n",
      "   INFO initialise_program: Registered config value global > working_dir: evaluate_model_[date]\n",
      "   INFO initialise_program: Registered config value global > problem_tag: int1234_num1245\n",
      "   INFO initialise_program: Registered config value global > log_lvl_iostream: 20\n",
      "   INFO initialise_program: Registered config value global > log_lvl_fstream: 10\n",
      "   INFO initialise_program: Registered config value global > model_tag: ladder\n",
      "   INFO initialise_program: Registered config value data > train_data > int_lengths: [1, 2, 3, 4]\n",
      "   INFO initialise_program: Registered config value data > train_data > num_ints: [1, 2, 3, 5]\n",
      "   INFO initialise_program: Registered config value data > train_data > batch_size: 32\n",
      "   INFO initialise_program: Registered config value data > train_data > num_batches: 2000\n",
      "   INFO initialise_program: Registered config value data > train_data > gen_base_seed: 104\n",
      "   INFO initialise_program: Registered config value data > train_data > gen_reproducible: False\n",
      "   INFO initialise_program: Registered config value data > val_data > int_lengths: [1, 2, 3, 4]\n",
      "   INFO initialise_program: Registered config value data > val_data > num_ints: [3]\n",
      "   INFO initialise_program: Registered config value data > val_data > batch_size: 32\n",
      "   INFO initialise_program: Registered config value data > val_data > num_batches: 50\n",
      "   INFO initialise_program: Registered config value data > val_data > gen_base_seed: 105\n",
      "   INFO initialise_program: Registered config value data > val_data > gen_reproducible: True\n",
      "   INFO initialise_program: Registered config value data > test_data > int_lengths: [1, 2, 3, 4, 5, 6]\n",
      "   INFO initialise_program: Registered config value data > test_data > num_ints: [1, 2, 3, 4, 5, 6, 7, 8]\n",
      "   INFO initialise_program: Registered config value data > test_data > batch_size: 32\n",
      "   INFO initialise_program: Registered config value data > test_data > num_batches: 5\n",
      "   INFO initialise_program: Registered config value data > test_data > gen_base_seed: 200\n",
      "   INFO initialise_program: Registered config value data > test_data > gen_reproducible: True\n"
     ]
    },
    {
     "name": "stdout",
     "output_type": "stream",
     "text": [
      "   INFO initialise_program: Registered config value data > characters: ['M', 'B', 'E', 'N', '0', '1', '2', '3', '4', '5', '6', '7', '8', '9', '+', '-']\n",
      "   INFO initialise_program: Registered config value data > mask_char: M\n",
      "   INFO initialise_program: Registered config value data > seq_start_char: B\n",
      "   INFO initialise_program: Registered config value data > seq_end_char: E\n",
      "   INFO initialise_program: Registered config value data > negative_char: N\n",
      "   INFO initialise_program: Registered config value data > dtype: int32\n",
      "   INFO initialise_program: Registered config value model > load_pretrained_model: None\n",
      "   INFO initialise_program: Registered config value model > name: mathsformer_LLM\n",
      "   INFO initialise_program: Registered config value model > dtype: float32\n",
      "   INFO initialise_program: Registered config value model > dropout: 0.1\n",
      "   INFO initialise_program: Registered config value model > jit_compile: False\n",
      "   INFO initialise_program: Registered config value model > use_old_loss: True\n",
      "   INFO initialise_program: Registered config value model > optimizer: <class 'keras.optimizers.adamw.AdamW'>\n",
      "   INFO initialise_program: Registered config value model > optimizer_args > learning_rate: 0.0001\n",
      "   INFO initialise_program: Registered config value model > optimizer_args > weight_decay: 0.02\n",
      "   INFO initialise_program: Registered config value model > idempotent_size: 2\n",
      "   INFO initialise_program: Registered config value model > positional_encoding > num_freqs: 64\n",
      "   INFO initialise_program: Registered config value model > positional_encoding > min_period: 4\n",
      "   INFO initialise_program: Registered config value model > positional_encoding > max_period: 1000\n",
      "   INFO initialise_program: Registered config value model > positional_encoding > learnable: True\n",
      "   INFO initialise_program: Registered config value model > ndim_embedding: 128\n",
      "   INFO initialise_program: Registered config value model > comb_type: mixture\n",
      "   INFO initialise_program: Registered config value model > pre_encoder > num_blocks: -1\n",
      "   INFO initialise_program: Registered config value model > pre_encoder > num_loops: 1\n",
      "   INFO initialise_program: Registered config value model > pre_encoder > num_heads: 8\n",
      "   INFO initialise_program: Registered config value model > pre_encoder > ndim: 128\n",
      "   INFO initialise_program: Registered config value model > pre_encoder > ndim_att_hidden: 128\n",
      "   INFO initialise_program: Registered config value model > pre_encoder > ndim_ff_hidden: 512\n",
      "   INFO initialise_program: Registered config value model > pre_encoder > skip_connect: True\n",
      "   INFO initialise_program: Registered config value model > pre_encoder > mixture_skip_connect: True\n",
      "   INFO initialise_program: Registered config value model > encoder > num_blocks: 2\n",
      "   INFO initialise_program: Registered config value model > encoder > num_loops: 4\n",
      "   INFO initialise_program: Registered config value model > encoder > num_heads: 8\n",
      "   INFO initialise_program: Registered config value model > encoder > ndim: 128\n",
      "   INFO initialise_program: Registered config value model > encoder > ndim_att_hidden: 128\n",
      "   INFO initialise_program: Registered config value model > encoder > ndim_ff_hidden: 512\n",
      "   INFO initialise_program: Registered config value model > encoder > skip_connect: True\n",
      "   INFO initialise_program: Registered config value model > encoder > mixture_skip_connect: True\n",
      "   INFO initialise_program: Registered config value model > decoder > num_blocks: 3\n",
      "   INFO initialise_program: Registered config value model > decoder > num_loops: 1\n",
      "   INFO initialise_program: Registered config value model > decoder > num_heads: 8\n",
      "   INFO initialise_program: Registered config value model > decoder > ndim: 128\n",
      "   INFO initialise_program: Registered config value model > decoder > ndim_att_hidden: 128\n",
      "   INFO initialise_program: Registered config value model > decoder > ndim_ff_hidden: 512\n",
      "   INFO initialise_program: Registered config value model > decoder > skip_connect: True\n",
      "   INFO initialise_program: Registered config value model > decoder > mixture_skip_connect: True\n",
      "   INFO initialise_program: Registered config value model > post_decoder > num_layers: 3\n",
      "   INFO initialise_program: Registered config value model > post_decoder > ndim: 512\n",
      "   INFO initialise_program: Registered config value training > train: True\n",
      "   INFO initialise_program: Registered config value training > max_epochs: 100000\n",
      "   INFO initialise_program: Registered config value training > log_after_epoch > do: True\n",
      "   INFO initialise_program: Registered config value training > log_after_epoch > log_lvl: 10\n",
      "   INFO initialise_program: Registered config value training > early_stopping > do: True\n",
      "   INFO initialise_program: Registered config value training > early_stopping > patience: 6\n",
      "   INFO initialise_program: Registered config value training > early_stopping > monitor: loss\n",
      "   INFO initialise_program: Registered config value training > early_stopping > mode: min\n",
      "   INFO initialise_program: Registered config value training > early_stopping > restore_best_weights: True\n",
      "   INFO initialise_program: Registered config value training > model_checkpoint > do: True\n",
      "   INFO initialise_program: Registered config value training > model_checkpoint > filename: model_checkpoint_epoch{epoch}_val_loss_{val_loss:.5}.keras\n",
      "   INFO initialise_program: Registered config value training > layer_weights_record > do: False\n",
      "   INFO initialise_program: Registered config value training > layer_weights_record > batch_frequency: 2000\n",
      "   INFO initialise_program: Registered config value training > layer_weights_record > recursive: True\n",
      "   INFO initialise_program: Registered config value training > adaptive_learning_rate > do: True\n",
      "   INFO initialise_program: Registered config value training > adaptive_learning_rate > decay_factor: 0.2\n",
      "   INFO initialise_program: Registered config value training > adaptive_learning_rate > monitor: loss\n",
      "   INFO initialise_program: Registered config value training > adaptive_learning_rate > mode: min\n",
      "   INFO initialise_program: Registered config value training > adaptive_learning_rate > patience: 2\n",
      "   INFO initialise_program: Registered config value training > adaptive_learning_rate > log_lvl: 10\n",
      "   INFO initialise_program: Registered config value training > print_tables_during_training > do: True\n",
      "   INFO initialise_program: Registered config value training > print_tables_during_training > num_print: 10\n",
      "   INFO initialise_program: Registered config value evaluate > num_print: 50\n",
      "   INFO initialise_program: Registered config value evaluate > save_model: True\n",
      "   INFO initialise_program: Registered config value evaluate > plot_weights: False\n",
      "   INFO initialise_program: Registered config value evaluate > plot_training_curves: True\n",
      "   INFO initialise_program: Registered config value models > ladder: ../2_unsupervised_learning/save/SSL_loopy_enc_dec_notebook_int1234_num1235_embed128_enc_2blocks_5loops_width512_dec_2blocks_1loops_width512_post3_width512_idem2_2023_06_29/final_model.keras\n",
      "   INFO initialise_program: Registered config value models > baseline: save/SSL_loopy_enc_dec_notebook_int1234_num1245_embed128_enc_10blocks_1loops_width512_dec_2blocks_1loops_width512_post3_width512_idemm1_2023_06_26/final_model.keras\n",
      "   INFO initialise_program: Registered config value models > loop_idem0: save/SSL_loopy_enc_dec_notebook_int1234_num1245_embed128_enc_2blocks_5loops_width512_dec_2blocks_1loops_width512_post3_width512_idemm1_2023_06_25_v2/final_model.keras\n",
      "   INFO initialise_program: Registered config value models > base_idem1: save/SSL_loopy_enc_dec_notebook_int1234_num1245_embed128_enc_10blocks_1loops_width512_dec_2blocks_1loops_width512_post3_width512_idem1_2023_06_27_v2/model_checkpoint_epoch3_val_loss_0.077007.keras\n",
      "   INFO initialise_program: Registered config value models > loop_idem2: SSL_loopy_enc_dec_notebook_int1234_num1245_embed128_enc_2blocks_5loops_width512_dec_2blocks_1loops_width512_post3_width512_idem2_2023_06_27/model_checkpoint_epoch101_val_loss_0.012904.keras\n",
      "   INFO initialise_program: Python random seed set: 1688109037\n",
      "   INFO initialise_program: Numpy random seed set: 1688109038\n",
      "   INFO initialise_program: TensorFlow random seed set: 1688109039\n"
     ]
    }
   ],
   "source": [
    "##==============================##\n",
    "##   Create working directory   ##\n",
    "##==============================##\n",
    "\n",
    "##  Report success\n",
    "working_dir, logger, base_seed, np_seed, tf_seed = utils.initialise_program(\n",
    "    \"evaluate_model (notebook)\", \n",
    "    working_dir       = cfg_global[\"working_dir\"], \n",
    "    cfg               = cfg,\n",
    "    base_seed         = cfg_global[\"base_seed\"],\n",
    "    log_lvl_iostream  = cfg_global[\"log_lvl_iostream\"],\n",
    "    log_lvl_fstream   = cfg_global[\"log_lvl_fstream\" ],\n",
    ")\n"
   ]
  },
  {
   "cell_type": "code",
   "execution_count": 5,
   "id": "8065893d",
   "metadata": {},
   "outputs": [
    {
     "name": "stderr",
     "output_type": "stream",
     "text": [
      "WARNING:absl:At this time, the v2.11+ optimizer `tf.keras.optimizers.AdamW` runs slowly on M1/M2 Macs, please use the legacy Keras optimizer instead, located at `tf.keras.optimizers.legacy.AdamW`.\n"
     ]
    }
   ],
   "source": [
    "##======================##\n",
    "##   Create model   ##\n",
    "##======================##\n",
    "\n",
    "model_tag   = cfg_global[\"model_tag\"]\n",
    "model_fname = cfg_model[model_tag]\n",
    "\n",
    "model = backend.load_text_to_text_model(model_fname)\n"
   ]
  },
  {
   "cell_type": "code",
   "execution_count": 6,
   "id": "8c93f625",
   "metadata": {},
   "outputs": [
    {
     "name": "stdout",
     "output_type": "stream",
     "text": [
      "   INFO summary: TokenTransform of dtype int32 with 16 characters: ['M', 'B', 'E', 'N', '0', '1', '2', '3', '4', '5', '6', '7', '8', '9', '+', '-']\n"
     ]
    },
    {
     "name": "stderr",
     "output_type": "stream",
     "text": [
      "INFO:mathsformer:TokenTransform of dtype int32 with 16 characters: ['M', 'B', 'E', 'N', '0', '1', '2', '3', '4', '5', '6', '7', '8', '9', '+', '-']\n"
     ]
    },
    {
     "name": "stdout",
     "output_type": "stream",
     "text": [
      "   INFO summary: Special characters are seq_start_char (B), seq_end_char (E), mask_char (M)\n"
     ]
    },
    {
     "name": "stderr",
     "output_type": "stream",
     "text": [
      "INFO:mathsformer:Special characters are seq_start_char (B), seq_end_char (E), mask_char (M)\n"
     ]
    },
    {
     "name": "stdout",
     "output_type": "stream",
     "text": [
      "   INFO summary: Tokeniser dictionary is {'M': 0, 'B': 1, 'E': 2, 'N': 3, '0': 4, '1': 5, '2': 6, '3': 7, '4': 8, '5': 9, '6': 10, '7': 11, '8': 12, '9': 13, '+': 14, '-': 15}\n"
     ]
    },
    {
     "name": "stderr",
     "output_type": "stream",
     "text": [
      "INFO:mathsformer:Tokeniser dictionary is {'M': 0, 'B': 1, 'E': 2, 'N': 3, '0': 4, '1': 5, '2': 6, '3': 7, '4': 8, '5': 9, '6': 10, '7': 11, '8': 12, '9': 13, '+': 14, '-': 15}\n"
     ]
    },
    {
     "name": "stdout",
     "output_type": "stream",
     "text": [
      "   INFO summary: Detokeniser dictionary is {0: 'M', 1: 'B', 2: 'E', 3: 'N', 4: '0', 5: '1', 6: '2', 7: '3', 8: '4', 9: '5', 10: '6', 11: '7', 12: '8', 13: '9', 14: '+', 15: '-'}\n"
     ]
    },
    {
     "name": "stderr",
     "output_type": "stream",
     "text": [
      "INFO:mathsformer:Detokeniser dictionary is {0: 'M', 1: 'B', 2: 'E', 3: 'N', 4: '0', 5: '1', 6: '2', 7: '3', 8: '4', 9: '5', 10: '6', 11: '7', 12: '8', 13: '9', 14: '+', 15: '-'}\n"
     ]
    }
   ],
   "source": [
    "##======================##\n",
    "##   Create tokeniser   ##\n",
    "##======================##\n",
    "\n",
    "token_transform = data.TokenTransform.from_dictionary(cfg_data)\n",
    "token_transform.summary(print_fn=logger.info)\n"
   ]
  },
  {
   "cell_type": "code",
   "execution_count": 7,
   "id": "8d45aac8",
   "metadata": {},
   "outputs": [],
   "source": [
    "##============================================================##\n",
    "##   Define method for retrieving token accuracy from model   ##\n",
    "##============================================================##\n",
    "\n",
    "def get_token_accuracy(model, token_transform, N, L, verbose=0) :\n",
    "    data_gen = data.RandomDataGenerator_Addition(\n",
    "                                        token_transform = token_transform, \n",
    "                                        int_lengths     = [L],\n",
    "                                        num_ints        = [N],\n",
    "                                        batch_size      = cfg_data[\"test_data\"][\"batch_size\"],\n",
    "                                        num_batches     = cfg_data[\"test_data\"][\"num_batches\"],\n",
    "                                        base_seed       = cfg_data[\"test_data\"][\"gen_base_seed\"],\n",
    "                                        reproducible    = cfg_data[\"test_data\"][\"gen_reproducible\"],\n",
    "                                        negative_char   = cfg_data[\"negative_char\"],\n",
    "    )\n",
    "    \n",
    "    evals = model.evaluate(data_gen, verbose=verbose)\n",
    "    if \"masked_categorical_accuracy\" in model.metrics_names :\n",
    "        metric_idx = model.metrics_names.index(\"masked_categorical_accuracy\")\n",
    "    else : \n",
    "        metric_idx = model.metrics_names.index(\"mathsformer_LLM_output_masked_categorical_accuracy\")\n",
    "    return evals[metric_idx]\n",
    "    "
   ]
  },
  {
   "cell_type": "code",
   "execution_count": 8,
   "id": "c109e35a",
   "metadata": {},
   "outputs": [],
   "source": [
    "##=============================================================##\n",
    "##   Define method for retrieving answer accuracy from model   ##\n",
    "##=============================================================##\n",
    "\n",
    "def get_answer_accuracy(model, token_transform, N, L, verbose=0) :\n",
    "    data_gen = data.RandomDataGenerator_Addition(\n",
    "                                        token_transform = token_transform, \n",
    "                                        int_lengths     = [L],\n",
    "                                        num_ints        = [N],\n",
    "                                        batch_size      = cfg_data[\"test_data\"][\"batch_size\"],\n",
    "                                        num_batches     = cfg_data[\"test_data\"][\"num_batches\"],\n",
    "                                        base_seed       = cfg_data[\"test_data\"][\"gen_base_seed\"],\n",
    "                                        reproducible    = cfg_data[\"test_data\"][\"gen_reproducible\"],\n",
    "                                        negative_char   = cfg_data[\"negative_char\"],\n",
    "    )\n",
    "    \n",
    "    Nt, Nf = 0, 0\n",
    "    for X, Y_true in data_gen :\n",
    "        Y_true = Y_true.numpy()\n",
    "        Y_pred = model.predict(X, verbose=0)\n",
    "        if type(Y_pred) is list :\n",
    "            Y_pred = Y_pred[-1]\n",
    "        Y_pred = np.argmax(Y_pred, axis=-1)\n",
    "        for y_true, y_pred in zip(Y_true, Y_pred) :\n",
    "            y_true, y_pred = y_true[y_true != 0], y_pred[y_true != 0]\n",
    "            if (y_true == y_pred).all() : Nt += 1\n",
    "            else : Nf += 1\n",
    "                            \n",
    "    acc = Nt / (Nt + Nf)\n",
    "    return acc\n"
   ]
  },
  {
   "cell_type": "code",
   "execution_count": 9,
   "id": "c5f82644",
   "metadata": {},
   "outputs": [],
   "source": [
    "##======================================================##\n",
    "##   Define method for creating answer accuracy table   ##\n",
    "##======================================================##\n",
    "\n",
    "def get_answer_accuracy_table(model, token_transform, num_ints, int_lengths, verbose=0, log=True) :\n",
    "    result_accs = []\n",
    "    for N in num_ints :\n",
    "        result_accs.append([])\n",
    "        for L in int_lengths :\n",
    "            result_acc  = get_answer_accuracy(model, token_transform, N, L)\n",
    "            result_accs[-1].append(result_acc)\n",
    "            if log :\n",
    "                logger.info(f\"N={N}, L={L} with result accuracy {100.*result_acc:.2f}%\")\n",
    "    return np.array(result_accs)\n"
   ]
  },
  {
   "cell_type": "code",
   "execution_count": 10,
   "id": "318a5f5b",
   "metadata": {},
   "outputs": [
    {
     "name": "stderr",
     "output_type": "stream",
     "text": [
      "2023-06-30 08:10:39.397560: W tensorflow/tsl/platform/profile_utils/cpu_utils.cc:128] Failed to get CPU frequency: 0 Hz\n"
     ]
    },
    {
     "name": "stdout",
     "output_type": "stream",
     "text": [
      "   INFO get_answer_accuracy_table: N=1, L=1 with result accuracy 100.00%\n"
     ]
    },
    {
     "name": "stderr",
     "output_type": "stream",
     "text": [
      "INFO:mathsformer:N=1, L=1 with result accuracy 100.00%\n"
     ]
    },
    {
     "name": "stdout",
     "output_type": "stream",
     "text": [
      "   INFO get_answer_accuracy_table: N=1, L=2 with result accuracy 100.00%\n"
     ]
    },
    {
     "name": "stderr",
     "output_type": "stream",
     "text": [
      "INFO:mathsformer:N=1, L=2 with result accuracy 100.00%\n"
     ]
    },
    {
     "name": "stdout",
     "output_type": "stream",
     "text": [
      "   INFO get_answer_accuracy_table: N=1, L=3 with result accuracy 100.00%\n"
     ]
    },
    {
     "name": "stderr",
     "output_type": "stream",
     "text": [
      "INFO:mathsformer:N=1, L=3 with result accuracy 100.00%\n"
     ]
    },
    {
     "name": "stdout",
     "output_type": "stream",
     "text": [
      "   INFO get_answer_accuracy_table: N=1, L=4 with result accuracy 100.00%\n"
     ]
    },
    {
     "name": "stderr",
     "output_type": "stream",
     "text": [
      "INFO:mathsformer:N=1, L=4 with result accuracy 100.00%\n"
     ]
    },
    {
     "name": "stdout",
     "output_type": "stream",
     "text": [
      "   INFO get_answer_accuracy_table: N=1, L=5 with result accuracy 0.00%\n"
     ]
    },
    {
     "name": "stderr",
     "output_type": "stream",
     "text": [
      "INFO:mathsformer:N=1, L=5 with result accuracy 0.00%\n"
     ]
    },
    {
     "name": "stdout",
     "output_type": "stream",
     "text": [
      "   INFO get_answer_accuracy_table: N=1, L=6 with result accuracy 0.00%\n"
     ]
    },
    {
     "name": "stderr",
     "output_type": "stream",
     "text": [
      "INFO:mathsformer:N=1, L=6 with result accuracy 0.00%\n"
     ]
    },
    {
     "name": "stdout",
     "output_type": "stream",
     "text": [
      "   INFO get_answer_accuracy_table: N=2, L=1 with result accuracy 100.00%\n"
     ]
    },
    {
     "name": "stderr",
     "output_type": "stream",
     "text": [
      "INFO:mathsformer:N=2, L=1 with result accuracy 100.00%\n"
     ]
    },
    {
     "name": "stdout",
     "output_type": "stream",
     "text": [
      "   INFO get_answer_accuracy_table: N=2, L=2 with result accuracy 100.00%\n"
     ]
    },
    {
     "name": "stderr",
     "output_type": "stream",
     "text": [
      "INFO:mathsformer:N=2, L=2 with result accuracy 100.00%\n"
     ]
    },
    {
     "name": "stdout",
     "output_type": "stream",
     "text": [
      "   INFO get_answer_accuracy_table: N=2, L=3 with result accuracy 99.38%\n"
     ]
    },
    {
     "name": "stderr",
     "output_type": "stream",
     "text": [
      "INFO:mathsformer:N=2, L=3 with result accuracy 99.38%\n"
     ]
    },
    {
     "name": "stdout",
     "output_type": "stream",
     "text": [
      "   INFO get_answer_accuracy_table: N=2, L=4 with result accuracy 95.62%\n"
     ]
    },
    {
     "name": "stderr",
     "output_type": "stream",
     "text": [
      "INFO:mathsformer:N=2, L=4 with result accuracy 95.62%\n"
     ]
    },
    {
     "name": "stdout",
     "output_type": "stream",
     "text": [
      "   INFO get_answer_accuracy_table: N=2, L=5 with result accuracy 3.12%\n"
     ]
    },
    {
     "name": "stderr",
     "output_type": "stream",
     "text": [
      "INFO:mathsformer:N=2, L=5 with result accuracy 3.12%\n"
     ]
    },
    {
     "name": "stdout",
     "output_type": "stream",
     "text": [
      "   INFO get_answer_accuracy_table: N=2, L=6 with result accuracy 0.00%\n"
     ]
    },
    {
     "name": "stderr",
     "output_type": "stream",
     "text": [
      "INFO:mathsformer:N=2, L=6 with result accuracy 0.00%\n"
     ]
    },
    {
     "name": "stdout",
     "output_type": "stream",
     "text": [
      "   INFO get_answer_accuracy_table: N=3, L=1 with result accuracy 98.12%\n"
     ]
    },
    {
     "name": "stderr",
     "output_type": "stream",
     "text": [
      "INFO:mathsformer:N=3, L=1 with result accuracy 98.12%\n"
     ]
    },
    {
     "name": "stdout",
     "output_type": "stream",
     "text": [
      "   INFO get_answer_accuracy_table: N=3, L=2 with result accuracy 94.38%\n"
     ]
    },
    {
     "name": "stderr",
     "output_type": "stream",
     "text": [
      "INFO:mathsformer:N=3, L=2 with result accuracy 94.38%\n"
     ]
    },
    {
     "name": "stdout",
     "output_type": "stream",
     "text": [
      "   INFO get_answer_accuracy_table: N=3, L=3 with result accuracy 81.25%\n"
     ]
    },
    {
     "name": "stderr",
     "output_type": "stream",
     "text": [
      "INFO:mathsformer:N=3, L=3 with result accuracy 81.25%\n"
     ]
    },
    {
     "name": "stdout",
     "output_type": "stream",
     "text": [
      "   INFO get_answer_accuracy_table: N=3, L=4 with result accuracy 66.25%\n"
     ]
    },
    {
     "name": "stderr",
     "output_type": "stream",
     "text": [
      "INFO:mathsformer:N=3, L=4 with result accuracy 66.25%\n"
     ]
    },
    {
     "name": "stdout",
     "output_type": "stream",
     "text": [
      "   INFO get_answer_accuracy_table: N=3, L=5 with result accuracy 1.88%\n"
     ]
    },
    {
     "name": "stderr",
     "output_type": "stream",
     "text": [
      "INFO:mathsformer:N=3, L=5 with result accuracy 1.88%\n"
     ]
    },
    {
     "name": "stdout",
     "output_type": "stream",
     "text": [
      "   INFO get_answer_accuracy_table: N=3, L=6 with result accuracy 0.00%\n"
     ]
    },
    {
     "name": "stderr",
     "output_type": "stream",
     "text": [
      "INFO:mathsformer:N=3, L=6 with result accuracy 0.00%\n"
     ]
    },
    {
     "name": "stdout",
     "output_type": "stream",
     "text": [
      "   INFO get_answer_accuracy_table: N=4, L=1 with result accuracy 83.12%\n"
     ]
    },
    {
     "name": "stderr",
     "output_type": "stream",
     "text": [
      "INFO:mathsformer:N=4, L=1 with result accuracy 83.12%\n"
     ]
    },
    {
     "name": "stdout",
     "output_type": "stream",
     "text": [
      "   INFO get_answer_accuracy_table: N=4, L=2 with result accuracy 65.62%\n"
     ]
    },
    {
     "name": "stderr",
     "output_type": "stream",
     "text": [
      "INFO:mathsformer:N=4, L=2 with result accuracy 65.62%\n"
     ]
    },
    {
     "name": "stdout",
     "output_type": "stream",
     "text": [
      "   INFO get_answer_accuracy_table: N=4, L=3 with result accuracy 50.00%\n"
     ]
    },
    {
     "name": "stderr",
     "output_type": "stream",
     "text": [
      "INFO:mathsformer:N=4, L=3 with result accuracy 50.00%\n"
     ]
    },
    {
     "name": "stdout",
     "output_type": "stream",
     "text": [
      "   INFO get_answer_accuracy_table: N=4, L=4 with result accuracy 21.88%\n"
     ]
    },
    {
     "name": "stderr",
     "output_type": "stream",
     "text": [
      "INFO:mathsformer:N=4, L=4 with result accuracy 21.88%\n"
     ]
    },
    {
     "name": "stdout",
     "output_type": "stream",
     "text": [
      "   INFO get_answer_accuracy_table: N=4, L=5 with result accuracy 0.00%\n"
     ]
    },
    {
     "name": "stderr",
     "output_type": "stream",
     "text": [
      "INFO:mathsformer:N=4, L=5 with result accuracy 0.00%\n"
     ]
    },
    {
     "name": "stdout",
     "output_type": "stream",
     "text": [
      "   INFO get_answer_accuracy_table: N=4, L=6 with result accuracy 0.00%\n"
     ]
    },
    {
     "name": "stderr",
     "output_type": "stream",
     "text": [
      "INFO:mathsformer:N=4, L=6 with result accuracy 0.00%\n"
     ]
    },
    {
     "name": "stdout",
     "output_type": "stream",
     "text": [
      "   INFO get_answer_accuracy_table: N=5, L=1 with result accuracy 60.00%\n"
     ]
    },
    {
     "name": "stderr",
     "output_type": "stream",
     "text": [
      "INFO:mathsformer:N=5, L=1 with result accuracy 60.00%\n"
     ]
    },
    {
     "name": "stdout",
     "output_type": "stream",
     "text": [
      "   INFO get_answer_accuracy_table: N=5, L=2 with result accuracy 48.75%\n"
     ]
    },
    {
     "name": "stderr",
     "output_type": "stream",
     "text": [
      "INFO:mathsformer:N=5, L=2 with result accuracy 48.75%\n"
     ]
    },
    {
     "name": "stdout",
     "output_type": "stream",
     "text": [
      "   INFO get_answer_accuracy_table: N=5, L=3 with result accuracy 21.25%\n"
     ]
    },
    {
     "name": "stderr",
     "output_type": "stream",
     "text": [
      "INFO:mathsformer:N=5, L=3 with result accuracy 21.25%\n"
     ]
    },
    {
     "name": "stdout",
     "output_type": "stream",
     "text": [
      "   INFO get_answer_accuracy_table: N=5, L=4 with result accuracy 2.50%\n"
     ]
    },
    {
     "name": "stderr",
     "output_type": "stream",
     "text": [
      "INFO:mathsformer:N=5, L=4 with result accuracy 2.50%\n"
     ]
    },
    {
     "name": "stdout",
     "output_type": "stream",
     "text": [
      "   INFO get_answer_accuracy_table: N=5, L=5 with result accuracy 0.00%\n"
     ]
    },
    {
     "name": "stderr",
     "output_type": "stream",
     "text": [
      "INFO:mathsformer:N=5, L=5 with result accuracy 0.00%\n"
     ]
    },
    {
     "name": "stdout",
     "output_type": "stream",
     "text": [
      "   INFO get_answer_accuracy_table: N=5, L=6 with result accuracy 0.00%\n"
     ]
    },
    {
     "name": "stderr",
     "output_type": "stream",
     "text": [
      "INFO:mathsformer:N=5, L=6 with result accuracy 0.00%\n"
     ]
    },
    {
     "name": "stdout",
     "output_type": "stream",
     "text": [
      "   INFO get_answer_accuracy_table: N=6, L=1 with result accuracy 43.75%\n"
     ]
    },
    {
     "name": "stderr",
     "output_type": "stream",
     "text": [
      "INFO:mathsformer:N=6, L=1 with result accuracy 43.75%\n"
     ]
    },
    {
     "name": "stdout",
     "output_type": "stream",
     "text": [
      "   INFO get_answer_accuracy_table: N=6, L=2 with result accuracy 26.25%\n"
     ]
    },
    {
     "name": "stderr",
     "output_type": "stream",
     "text": [
      "INFO:mathsformer:N=6, L=2 with result accuracy 26.25%\n"
     ]
    },
    {
     "name": "stdout",
     "output_type": "stream",
     "text": [
      "   INFO get_answer_accuracy_table: N=6, L=3 with result accuracy 5.00%\n"
     ]
    },
    {
     "name": "stderr",
     "output_type": "stream",
     "text": [
      "INFO:mathsformer:N=6, L=3 with result accuracy 5.00%\n"
     ]
    },
    {
     "name": "stdout",
     "output_type": "stream",
     "text": [
      "   INFO get_answer_accuracy_table: N=6, L=4 with result accuracy 0.00%\n"
     ]
    },
    {
     "name": "stderr",
     "output_type": "stream",
     "text": [
      "INFO:mathsformer:N=6, L=4 with result accuracy 0.00%\n"
     ]
    },
    {
     "name": "stdout",
     "output_type": "stream",
     "text": [
      "   INFO get_answer_accuracy_table: N=6, L=5 with result accuracy 0.00%\n"
     ]
    },
    {
     "name": "stderr",
     "output_type": "stream",
     "text": [
      "INFO:mathsformer:N=6, L=5 with result accuracy 0.00%\n"
     ]
    },
    {
     "name": "stdout",
     "output_type": "stream",
     "text": [
      "   INFO get_answer_accuracy_table: N=6, L=6 with result accuracy 0.00%\n"
     ]
    },
    {
     "name": "stderr",
     "output_type": "stream",
     "text": [
      "INFO:mathsformer:N=6, L=6 with result accuracy 0.00%\n"
     ]
    },
    {
     "name": "stdout",
     "output_type": "stream",
     "text": [
      "   INFO get_answer_accuracy_table: N=7, L=1 with result accuracy 21.25%\n"
     ]
    },
    {
     "name": "stderr",
     "output_type": "stream",
     "text": [
      "INFO:mathsformer:N=7, L=1 with result accuracy 21.25%\n"
     ]
    },
    {
     "name": "stdout",
     "output_type": "stream",
     "text": [
      "   INFO get_answer_accuracy_table: N=7, L=2 with result accuracy 8.12%\n"
     ]
    },
    {
     "name": "stderr",
     "output_type": "stream",
     "text": [
      "INFO:mathsformer:N=7, L=2 with result accuracy 8.12%\n"
     ]
    },
    {
     "name": "stdout",
     "output_type": "stream",
     "text": [
      "   INFO get_answer_accuracy_table: N=7, L=3 with result accuracy 0.00%\n"
     ]
    },
    {
     "name": "stderr",
     "output_type": "stream",
     "text": [
      "INFO:mathsformer:N=7, L=3 with result accuracy 0.00%\n"
     ]
    },
    {
     "name": "stdout",
     "output_type": "stream",
     "text": [
      "   INFO get_answer_accuracy_table: N=7, L=4 with result accuracy 0.00%\n"
     ]
    },
    {
     "name": "stderr",
     "output_type": "stream",
     "text": [
      "INFO:mathsformer:N=7, L=4 with result accuracy 0.00%\n"
     ]
    },
    {
     "name": "stdout",
     "output_type": "stream",
     "text": [
      "   INFO get_answer_accuracy_table: N=7, L=5 with result accuracy 0.00%\n"
     ]
    },
    {
     "name": "stderr",
     "output_type": "stream",
     "text": [
      "INFO:mathsformer:N=7, L=5 with result accuracy 0.00%\n"
     ]
    },
    {
     "name": "stdout",
     "output_type": "stream",
     "text": [
      "   INFO get_answer_accuracy_table: N=7, L=6 with result accuracy 0.00%\n"
     ]
    },
    {
     "name": "stderr",
     "output_type": "stream",
     "text": [
      "INFO:mathsformer:N=7, L=6 with result accuracy 0.00%\n"
     ]
    },
    {
     "name": "stdout",
     "output_type": "stream",
     "text": [
      "   INFO get_answer_accuracy_table: N=8, L=1 with result accuracy 3.75%\n"
     ]
    },
    {
     "name": "stderr",
     "output_type": "stream",
     "text": [
      "INFO:mathsformer:N=8, L=1 with result accuracy 3.75%\n"
     ]
    },
    {
     "name": "stdout",
     "output_type": "stream",
     "text": [
      "   INFO get_answer_accuracy_table: N=8, L=2 with result accuracy 0.62%\n"
     ]
    },
    {
     "name": "stderr",
     "output_type": "stream",
     "text": [
      "INFO:mathsformer:N=8, L=2 with result accuracy 0.62%\n"
     ]
    },
    {
     "name": "stdout",
     "output_type": "stream",
     "text": [
      "   INFO get_answer_accuracy_table: N=8, L=3 with result accuracy 0.00%\n"
     ]
    },
    {
     "name": "stderr",
     "output_type": "stream",
     "text": [
      "INFO:mathsformer:N=8, L=3 with result accuracy 0.00%\n"
     ]
    },
    {
     "name": "stdout",
     "output_type": "stream",
     "text": [
      "   INFO get_answer_accuracy_table: N=8, L=4 with result accuracy 0.00%\n"
     ]
    },
    {
     "name": "stderr",
     "output_type": "stream",
     "text": [
      "INFO:mathsformer:N=8, L=4 with result accuracy 0.00%\n"
     ]
    },
    {
     "name": "stdout",
     "output_type": "stream",
     "text": [
      "   INFO get_answer_accuracy_table: N=8, L=5 with result accuracy 0.00%\n"
     ]
    },
    {
     "name": "stderr",
     "output_type": "stream",
     "text": [
      "INFO:mathsformer:N=8, L=5 with result accuracy 0.00%\n"
     ]
    },
    {
     "name": "stdout",
     "output_type": "stream",
     "text": [
      "   INFO get_answer_accuracy_table: N=8, L=6 with result accuracy 0.00%\n"
     ]
    },
    {
     "name": "stderr",
     "output_type": "stream",
     "text": [
      "INFO:mathsformer:N=8, L=6 with result accuracy 0.00%\n"
     ]
    }
   ],
   "source": [
    "##==================================##\n",
    "##   Create answer accuracy table   ##\n",
    "##==================================##\n",
    "\n",
    "num_ints    = np.array(cfg_data[\"test_data\"][\"num_ints\"])\n",
    "int_lengths = np.array(cfg_data[\"test_data\"][\"int_lengths\"])\n",
    "\n",
    "result_accs = get_answer_accuracy_table(model, token_transform, num_ints, int_lengths)\n"
   ]
  },
  {
   "cell_type": "code",
   "execution_count": 11,
   "id": "8c8927c4",
   "metadata": {},
   "outputs": [],
   "source": [
    "##=====================================##\n",
    "##   Define method for creating plot   ##\n",
    "##=====================================##\n",
    "\n",
    "def make_plot(X, Y, Z, epoch_num=-1, model_tag=\"unknown\", savefig=None, show=True, close=True, dpi=150) :\n",
    "    \n",
    "    fig = plt.figure(figsize=(0.55*len(X), 0.55*len(Y)))\n",
    "    ax  = fig.add_axes([0, 0, 1, 1])\n",
    "    ax.tick_params(axis=\"both\", which=\"both\", direction=\"in\", right=True, top=True, labelsize=12)\n",
    "\n",
    "    ax.set_xticks(np.arange(len(X)))\n",
    "    ax.xaxis.set_ticklabels(X)\n",
    "\n",
    "    ax.set_yticks(np.arange(len(Y)))\n",
    "    ax.yaxis.set_ticklabels(Y)\n",
    "\n",
    "    ax.set_xlabel(\"Num. integers.\", va=\"top\", labelpad=20, fontsize=14)\n",
    "    ax.set_ylabel(\"Integer\\nlength\", va=\"bottom\", ha=\"right\", rotation=0, labelpad=20, fontsize=14)\n",
    "\n",
    "    cbar = ax.imshow(Z, cmap=\"Blues\", vmin=0, vmax=1)\n",
    "\n",
    "    cax = fig.add_axes([1.06, 0, 0.05, 1])\n",
    "    cax.tick_params(axis=\"both\", which=\"both\", direction=\"in\", right=True, top=True, labelsize=12)\n",
    "    plt.colorbar(cbar, cax=cax)\n",
    "\n",
    "    cax.set_ylabel(\"Accuracy\\nper-answer\", ha=\"left\", va=\"bottom\", labelpad=15, rotation=0, fontsize=14)\n",
    "\n",
    "    if epoch_num >= 0 :\n",
    "        ax.text(0, 1.19, f\"Epoch {epoch_num}\", ha=\"left\", va=\"bottom\", fontsize=8, transform=ax.transAxes,\n",
    "               bbox={\"fc\":\"palegreen\", \"ec\":\"darkgreen\", \"lw\":0.6})\n",
    "    \n",
    "    ax.text(0, 1.05, f\"Model tag: {model_tag}\", ha=\"left\", va=\"bottom\", style=\"italic\", fontsize=10,\n",
    "           transform=ax.transAxes)\n",
    "\n",
    "    first_patch = True\n",
    "    for L in cfg_data[\"train_data\"].get(\"int_lengths\", []) :\n",
    "        for N in cfg_data[\"train_data\"].get(\"num_ints\", []) :\n",
    "            rect = patches.Rectangle((N-1.475, L-1.475), 0.95, 0.95, lw=1.5, ls=\"-\", ec=\"r\", fc='none', alpha=1,\n",
    "                                    label=\"= inside training region\" if first_patch else \"\")\n",
    "            ax.add_patch(rect)            \n",
    "            first_patch = False\n",
    "\n",
    "    ax.legend(loc=(0.57, 1.03), frameon=False, fontsize=10, handlelength=1, handletextpad=0.4)\n",
    "\n",
    "    if savefig is not None :\n",
    "        fig.savefig(savefig, bbox_inches=\"tight\", dpi=dpi)\n",
    "\n",
    "    if show :\n",
    "        plt.show(fig)\n",
    "\n",
    "    if close :\n",
    "        plt.close(fig)\n",
    "        "
   ]
  },
  {
   "cell_type": "code",
   "execution_count": 12,
   "id": "d3259b61",
   "metadata": {},
   "outputs": [
    {
     "data": {
      "image/png": "[encoded data removed]",
      "text/plain": [
       "<Figure size 440x330 with 2 Axes>"
      ]
     },
     "metadata": {},
     "output_type": "display_data"
    }
   ],
   "source": [
    "##===============##\n",
    "##   Make plot   ##\n",
    "##===============##\n",
    "\n",
    "\n",
    "figs_dir = f\"figures/evaluate_model\"\n",
    "if not os.path.exists(figs_dir) :\n",
    "    os.mkdir(figs_dir)\n",
    "\n",
    "make_plot(num_ints, \n",
    "          int_lengths, \n",
    "          np.transpose(result_accs), \n",
    "          model_tag = model_tag, \n",
    "          savefig   = f\"{figs_dir}/evaluate_model_{model_tag}.pdf\"\n",
    ")\n"
   ]
  },
  {
   "cell_type": "code",
   "execution_count": 13,
   "id": "3f15af0e",
   "metadata": {},
   "outputs": [
    {
     "name": "stdout",
     "output_type": "stream",
     "text": [
      "   INFO <module>: Per-answer accuracies are:\n"
     ]
    },
    {
     "name": "stderr",
     "output_type": "stream",
     "text": [
      "INFO:mathsformer:Per-answer accuracies are:\n"
     ]
    },
    {
     "name": "stdout",
     "output_type": "stream",
     "text": [
      "   INFO print_accuracy_table: +--------+--------------------------------------------------------------\n"
     ]
    },
    {
     "name": "stderr",
     "output_type": "stream",
     "text": [
      "INFO:mathsformer:+--------+--------------------------------------------------------------\n"
     ]
    },
    {
     "name": "stdout",
     "output_type": "stream",
     "text": [
      "   INFO print_accuracy_table: |  Acc   |                            N\n"
     ]
    },
    {
     "name": "stderr",
     "output_type": "stream",
     "text": [
      "INFO:mathsformer:|  Acc   |                            N\n"
     ]
    },
    {
     "name": "stdout",
     "output_type": "stream",
     "text": [
      "   INFO print_accuracy_table: |  [%]   | 1     | 2     | 3     | 4     | 5     | 6     | 7     | 8    \n"
     ]
    },
    {
     "name": "stderr",
     "output_type": "stream",
     "text": [
      "INFO:mathsformer:|  [%]   | 1     | 2     | 3     | 4     | 5     | 6     | 7     | 8    \n"
     ]
    },
    {
     "name": "stdout",
     "output_type": "stream",
     "text": [
      "   INFO print_accuracy_table: +--------+-------+-------+-------+-------+-------+-------+-------+------\n"
     ]
    },
    {
     "name": "stderr",
     "output_type": "stream",
     "text": [
      "INFO:mathsformer:+--------+-------+-------+-------+-------+-------+-------+-------+------\n"
     ]
    },
    {
     "name": "stdout",
     "output_type": "stream",
     "text": [
      "   INFO print_accuracy_table: |     1 | 100.0 | 100.0 | 98.1  | 83.1  | 60.0  | 43.8  | 21.2  | 3.8  \n"
     ]
    },
    {
     "name": "stderr",
     "output_type": "stream",
     "text": [
      "INFO:mathsformer:|     1 | 100.0 | 100.0 | 98.1  | 83.1  | 60.0  | 43.8  | 21.2  | 3.8  \n"
     ]
    },
    {
     "name": "stdout",
     "output_type": "stream",
     "text": [
      "   INFO print_accuracy_table: | L  ----+-------+-------+-------+-------+-------+-------+-------+------\n"
     ]
    },
    {
     "name": "stderr",
     "output_type": "stream",
     "text": [
      "INFO:mathsformer:| L  ----+-------+-------+-------+-------+-------+-------+-------+------\n"
     ]
    },
    {
     "name": "stdout",
     "output_type": "stream",
     "text": [
      "   INFO print_accuracy_table: |     2 | 100.0 | 100.0 | 94.4  | 65.6  | 48.8  | 26.2  | 8.1   | 0.6  \n"
     ]
    },
    {
     "name": "stderr",
     "output_type": "stream",
     "text": [
      "INFO:mathsformer:|     2 | 100.0 | 100.0 | 94.4  | 65.6  | 48.8  | 26.2  | 8.1   | 0.6  \n"
     ]
    },
    {
     "name": "stdout",
     "output_type": "stream",
     "text": [
      "   INFO print_accuracy_table: |    ----+-------+-------+-------+-------+-------+-------+-------+------\n"
     ]
    },
    {
     "name": "stderr",
     "output_type": "stream",
     "text": [
      "INFO:mathsformer:|    ----+-------+-------+-------+-------+-------+-------+-------+------\n"
     ]
    },
    {
     "name": "stdout",
     "output_type": "stream",
     "text": [
      "   INFO print_accuracy_table: |     3 | 100.0 | 99.4  | 81.2  | 50.0  | 21.2  | 5.0   | 0.0   | 0.0  \n"
     ]
    },
    {
     "name": "stderr",
     "output_type": "stream",
     "text": [
      "INFO:mathsformer:|     3 | 100.0 | 99.4  | 81.2  | 50.0  | 21.2  | 5.0   | 0.0   | 0.0  \n"
     ]
    },
    {
     "name": "stdout",
     "output_type": "stream",
     "text": [
      "   INFO print_accuracy_table: |    ----+-------+-------+-------+-------+-------+-------+-------+------\n"
     ]
    },
    {
     "name": "stderr",
     "output_type": "stream",
     "text": [
      "INFO:mathsformer:|    ----+-------+-------+-------+-------+-------+-------+-------+------\n"
     ]
    },
    {
     "name": "stdout",
     "output_type": "stream",
     "text": [
      "   INFO print_accuracy_table: |     4 | 100.0 | 95.6  | 66.2  | 21.9  | 2.5   | 0.0   | 0.0   | 0.0  \n"
     ]
    },
    {
     "name": "stderr",
     "output_type": "stream",
     "text": [
      "INFO:mathsformer:|     4 | 100.0 | 95.6  | 66.2  | 21.9  | 2.5   | 0.0   | 0.0   | 0.0  \n"
     ]
    },
    {
     "name": "stdout",
     "output_type": "stream",
     "text": [
      "   INFO print_accuracy_table: |    ----+-------+-------+-------+-------+-------+-------+-------+------\n"
     ]
    },
    {
     "name": "stderr",
     "output_type": "stream",
     "text": [
      "INFO:mathsformer:|    ----+-------+-------+-------+-------+-------+-------+-------+------\n"
     ]
    },
    {
     "name": "stdout",
     "output_type": "stream",
     "text": [
      "   INFO print_accuracy_table: |     5 | 0.0   | 3.1   | 1.9   | 0.0   | 0.0   | 0.0   | 0.0   | 0.0  \n"
     ]
    },
    {
     "name": "stderr",
     "output_type": "stream",
     "text": [
      "INFO:mathsformer:|     5 | 0.0   | 3.1   | 1.9   | 0.0   | 0.0   | 0.0   | 0.0   | 0.0  \n"
     ]
    },
    {
     "name": "stdout",
     "output_type": "stream",
     "text": [
      "   INFO print_accuracy_table: |    ----+-------+-------+-------+-------+-------+-------+-------+------\n"
     ]
    },
    {
     "name": "stderr",
     "output_type": "stream",
     "text": [
      "INFO:mathsformer:|    ----+-------+-------+-------+-------+-------+-------+-------+------\n"
     ]
    },
    {
     "name": "stdout",
     "output_type": "stream",
     "text": [
      "   INFO print_accuracy_table: |     6 | 0.0   | 0.0   | 0.0   | 0.0   | 0.0   | 0.0   | 0.0   | 0.0  \n"
     ]
    },
    {
     "name": "stderr",
     "output_type": "stream",
     "text": [
      "INFO:mathsformer:|     6 | 0.0   | 0.0   | 0.0   | 0.0   | 0.0   | 0.0   | 0.0   | 0.0  \n"
     ]
    },
    {
     "name": "stdout",
     "output_type": "stream",
     "text": [
      "   INFO print_accuracy_table: |    ----+-------+-------+-------+-------+-------+-------+-------+------\n"
     ]
    },
    {
     "name": "stderr",
     "output_type": "stream",
     "text": [
      "INFO:mathsformer:|    ----+-------+-------+-------+-------+-------+-------+-------+------\n"
     ]
    }
   ],
   "source": [
    "##==========================##\n",
    "##   Inspect table values   ##\n",
    "##==========================##\n",
    "\n",
    "def print_accuracy_table(num_ints, int_lengths, result_accs, print_fn=None) :\n",
    "    \"\"\"\n",
    "    \"\"\"\n",
    "    \n",
    "    ##  Resolve print_fn argument\n",
    "    if print_fn is None :\n",
    "        print_fn = print\n",
    "        \n",
    "    ##  Print table\n",
    "    print_fn(\"+--------+-\" + \"---\".join([\"-----\" for N in num_ints]))\n",
    "    print_fn(\"|  Acc   |\" + \"       \"*int(len(num_ints)/2) + \"N\")\n",
    "    print_fn(\"|  [%]   | \" + \" | \".join([f\"{N}\".ljust(5) for N in num_ints]))\n",
    "    print_fn(\"+--------+-\" + \"-+-\".join([\"-----\" for N in num_ints]))\n",
    "    for y, L in enumerate(int_lengths) :\n",
    "        print_fn(f\"|     {L} | \".rjust(9) + \" | \".join([f\"{100.*result_accs[x][y]:.1f}\".ljust(5) for x in range(len(num_ints))]))\n",
    "        print_fn(f\"| {'L' if y == 0 else ' '}  ----+-\" + \"-+-\".join([\"-----\" for N in num_ints]))\n",
    "    \n",
    "    \n",
    "logger.info(\"Per-answer accuracies are:\")\n",
    "print_accuracy_table(num_ints, int_lengths, result_accs, print_fn=logger.info)\n"
   ]
  },
  {
   "cell_type": "markdown",
   "id": "a38e4bb4",
   "metadata": {},
   "source": [
    "## Notes\n",
    "\n",
    "- Potential representational problem: we don't start off with multi-digit numbers in a good representation, and it's hard for our two simple repeated layers to simultaneously balance the transition between representations and the compositional logic within a representation\n",
    "- Factor methods into functions, loop over all models in training trajectory"
   ]
  },
  {
   "cell_type": "code",
   "execution_count": null,
   "id": "bc56d5c1",
   "metadata": {},
   "outputs": [],
   "source": []
  }
 ],
 "metadata": {
  "kernelspec": {
   "display_name": "Python 3 (ipykernel)",
   "language": "python",
   "name": "python3"
  },
  "language_info": {
   "codemirror_mode": {
    "name": "ipython",
    "version": 3
   },
   "file_extension": ".py",
   "mimetype": "text/x-python",
   "name": "python",
   "nbconvert_exporter": "python",
   "pygments_lexer": "ipython3",
   "version": "3.11.3"
  }
 },
 "nbformat": 4,
 "nbformat_minor": 5
}
