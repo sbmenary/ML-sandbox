{
 "cells": [
  {
   "cell_type": "markdown",
   "id": "884dc59d",
   "metadata": {},
   "source": [
    "#  Unsupervised learning addition model with generator  -  using loopy encoder and decoder method\n",
    "\n",
    "Author: S. Menary [sbmenary@gmail.com]\n",
    "\n",
    "Date: 15/6/2023  (last update: 15/6/2023)\n",
    "\n",
    "Overview: Train a `sequence -> sequence` model where the input sequence is a text representation of a simple sum $\\sum_{i=1}^N A_i$ for a configurable number $N$ of integers $A_i\\in\\mathbb{Z}$, and the output is a set of logits representing the probability of each token in the output sequence. Integers may have a configurable number of digits. At inference time, chains of text are generated auto-regressively until the terminate-sequence token is reached. The loss function is a sparse categorical entropy.\n",
    "\n",
    "---\n",
    "\n",
    "## 1. Set up program\n",
    "\n",
    "###  Import\n",
    "\n",
    "All imports go here at the top of the notebook"
   ]
  },
  {
   "cell_type": "code",
   "execution_count": 1,
   "id": "d48f1e68",
   "metadata": {},
   "outputs": [],
   "source": [
    "##=========================##\n",
    "##   All imports go here   ##\n",
    "##=========================##\n",
    "\n",
    "##  Import entire python stdlib packages\n",
    "import logging, os, sys\n",
    "\n",
    "##  Import entire pypi packages\n",
    "import tensorflow as tf\n",
    "\n",
    "##  Remove tensorflow INFO messages\n",
    "tf.get_logger().setLevel('WARNING')\n",
    "\n",
    "##  Add directory above this to system path to expose mathsformer package location\n",
    "sys.path.append(\"/\".join(os.getcwd().split(\"/\")[:-1]))\n",
    "\n",
    "##  Import individual modules/objects from local packages\n",
    "from tensorflow.keras.optimizers.legacy import Adam, SGD\n",
    "from tensorflow.keras.optimizers import AdamW\n",
    "from mathsformer import config, data, transformers, utils\n",
    "from mathsformer import selfsupervised_learning_addition_model_backend as backend\n"
   ]
  },
  {
   "cell_type": "markdown",
   "id": "320886f9",
   "metadata": {},
   "source": [
    "## 1. Configure run\n",
    "\n",
    "Set configuration variables for entire program"
   ]
  },
  {
   "cell_type": "code",
   "execution_count": 2,
   "id": "701cef8b",
   "metadata": {},
   "outputs": [],
   "source": [
    "##==============================##\n",
    "##   Set custom config values   ##\n",
    "##==============================##\n",
    "\n",
    "custom_config = {\n",
    "    \"global\" : {\n",
    "        \"base_seed\"        : -1,\n",
    "        \"working_dir\"      : \"SSL_loopy_enc_dec_notebook_[global>problem_tag]_embed[model>ndim_embedding]_enc_[model>encoder>num_blocks]blocks_[model>encoder>num_loops]loops_width[model>encoder>ndim_ff_hidden]_dec_[model>decoder>num_blocks]blocks_[model>decoder>num_loops]loops_width[model>decoder>ndim_ff_hidden]_post[model>post_decoder>num_layers]_width[model>post_decoder>ndim]_idem[model>idempotent_size]_[date]\",\n",
    "        \"problem_tag\"      : \"int1234_num1245\",\n",
    "        \"log_lvl_iostream\" : logging.INFO,\n",
    "        \"log_lvl_fstream\"  : logging.DEBUG,\n",
    "    },\n",
    "    \"data\" : {\n",
    "        \"train_data\" : {\n",
    "            \"int_lengths\"      : [1, 2, 3, 4],\n",
    "            \"num_ints\"         : [1, 2, 4, 5],\n",
    "            \"batch_size\"       : 32,\n",
    "            \"num_batches\"      : 2000,\n",
    "            \"gen_base_seed\"    : 104,\n",
    "            \"gen_reproducible\" : False, \n",
    "        },\n",
    "        \"val_data\" : {\n",
    "            \"int_lengths\"      : [1, 2, 3, 4],\n",
    "            \"num_ints\"         : [3],\n",
    "            \"batch_size\"       : 32,\n",
    "            \"num_batches\"      : 50,\n",
    "            \"gen_base_seed\"    : 105,\n",
    "            \"gen_reproducible\" : True,\n",
    "        },\n",
    "        \"test_data\" : {\n",
    "            \"int_lengths\"      : [1, 2, 3, 4],\n",
    "            \"num_ints\"         : [6],\n",
    "            \"batch_size\"       : 32,\n",
    "            \"num_batches\"      : 100,\n",
    "            \"gen_base_seed\"    : 106,\n",
    "            \"gen_reproducible\" : True,\n",
    "        },\n",
    "        \"characters\"              : ['M', 'B', 'E', 'N', '0', '1', '2', '3', '4', '5', '6', '7', '8', '9', '+', '-'],\n",
    "        \"mask_char\"               : 'M',\n",
    "        \"seq_start_char\"          : 'B',\n",
    "        \"seq_end_char\"            : 'E',\n",
    "        \"negative_char\"           : 'N',\n",
    "        \"dtype\"                   : \"int32\",\n",
    "    },\n",
    "    \"model\" : {\n",
    "        \"load_pretrained_model\" : None,\n",
    "        \"name\"                  : \"mathsformer_LLM\",\n",
    "        \"dtype\"                 : \"float32\",\n",
    "        \"dropout\"               : 0.1,\n",
    "        \"jit_compile\"           : False,\n",
    "        \"use_old_loss\"          : True,\n",
    "        \"optimizer\"             : AdamW,\n",
    "        \"optimizer_args\"        : {\"learning_rate\":1e-4, \"weight_decay\":2e-2},\n",
    "        \"idempotent_size\"       : 2,\n",
    "        \"positional_encoding\" : {\n",
    "            \"num_freqs\"         : 64,\n",
    "            \"min_period\"        : 4,\n",
    "            \"max_period\"        : 1000,\n",
    "            \"learnable\"         : True,\n",
    "        },\n",
    "        \"ndim_embedding\"        : 128,\n",
    "        \"comb_type\"             : 'average',\n",
    "        \"pre_encoder\"           : {\n",
    "            \"num_layers\"        : -1,\n",
    "            \"ndim\"              : 256,\n",
    "            \"skip_connect\"      : True,\n",
    "        },\n",
    "        \"pre_decoder\" : {\n",
    "            \"num_layers\"        : -1,\n",
    "            \"ndim\"              : 256,\n",
    "            \"skip_connect\"      : True,\n",
    "        },\n",
    "        \"encoder\" : {\n",
    "            \"num_blocks\"        : 2,\n",
    "            \"num_loops\"         : 5,\n",
    "            \"num_heads\"         : 8,\n",
    "            \"ndim\"              : 128,\n",
    "            \"ndim_att_hidden\"   : 128,\n",
    "            \"ndim_ff_hidden\"    : 512,\n",
    "            \"skip_connect\"      : True,\n",
    "        },\n",
    "        \"decoder\" : {\n",
    "            \"num_blocks\"        : 2,\n",
    "            \"num_loops\"         : 1,\n",
    "            \"num_heads\"         : 8,\n",
    "            \"ndim\"              : 128,\n",
    "            \"ndim_att_hidden\"   : 128,\n",
    "            \"ndim_ff_hidden\"    : 512,\n",
    "            \"skip_connect\"      : True,\n",
    "        },\n",
    "        \"post_decoder\" : {\n",
    "            \"num_layers\"        : 3,\n",
    "            \"ndim\"              : 512,\n",
    "        },\n",
    "    },\n",
    "    \"training\" : {\n",
    "        \"train\"          : True,\n",
    "        \"max_epochs\"     : 100000,\n",
    "        \"log_after_epoch\" : {\n",
    "            \"do\"          : True,\n",
    "            \"log_lvl\"     : logging.DEBUG,\n",
    "        },\n",
    "        \"early_stopping\" : {\n",
    "            \"do\"                   : True,\n",
    "            \"patience\"             : 6,\n",
    "            \"monitor\"              : \"loss\",\n",
    "            \"mode\"                 : \"min\",\n",
    "            \"restore_best_weights\" : True,\n",
    "        },\n",
    "        \"model_checkpoint\" : {\n",
    "            \"do\"       : True,\n",
    "            \"filename\" : \"model_checkpoint_epoch{epoch}_val_loss_{val_loss:.5}.keras\",\n",
    "        },\n",
    "        \"layer_weights_record\" : {\n",
    "            \"do\"               : True,\n",
    "            \"batch_frequency\"  : 2000,\n",
    "            \"recursive\"        : True,\n",
    "        },\n",
    "        \"adaptive_learning_rate\" : {\n",
    "            \"do\"                 : True,\n",
    "            \"decay_factor\"       : 0.2,\n",
    "            \"monitor\"            : \"loss\",\n",
    "            \"mode\"               : \"min\",\n",
    "            \"patience\"           : 2,\n",
    "            \"log_lvl\"            : logging.DEBUG,\n",
    "        },\n",
    "        \"print_tables_during_training\" : {\n",
    "            \"do\"        : True,\n",
    "            \"num_print\" : 10,\n",
    "        },\n",
    "    },\n",
    "    \"evaluate\" : {\n",
    "        \"num_print\"            : 50,\n",
    "        \"save_model\"           : True,\n",
    "        \"plot_weights\"         : False,\n",
    "        \"plot_training_curves\" : True,\n",
    "    },\n",
    "}\n"
   ]
  },
  {
   "cell_type": "code",
   "execution_count": 3,
   "id": "d4e15977",
   "metadata": {},
   "outputs": [
    {
     "name": "stdout",
     "output_type": "stream",
     "text": [
      "==========================\n",
      "===   Config created   ===\n",
      "==========================\n"
     ]
    }
   ],
   "source": [
    "##===================================##\n",
    "##   Load and validate full config   ##\n",
    "##===================================##\n",
    "\n",
    "##  Create config object containing default values\n",
    "cfg = config.Config(backend.DEFAULT_CONFIG)\n",
    "\n",
    "##  Override with custom values\n",
    "cfg.load_dict(custom_config)\n",
    "\n",
    "##  Validate config\n",
    "backend.validate_config(cfg)\n",
    "\n",
    "##  Print success\n",
    "print(utils.fancy_message(f\"Config created\"))\n",
    "\n",
    "##  For convenience, split configs for different sections\n",
    "cfg_global   = cfg[\"global\"  ]\n",
    "cfg_data     = cfg[\"data\"    ]\n",
    "cfg_model    = cfg[\"model\"   ]\n",
    "cfg_training = cfg[\"training\"]\n",
    "cfg_evaluate = cfg[\"evaluate\"]\n"
   ]
  },
  {
   "cell_type": "markdown",
   "id": "8af05439",
   "metadata": {},
   "source": [
    "##  2. Set up environment\n",
    "\n",
    "- Create working directory\n",
    "- Create logger\n",
    "- Log package versions for reproducibility\n",
    "- Log config values for reproducibility\n",
    "- Set random seeds for reproducibility\n"
   ]
  },
  {
   "cell_type": "code",
   "execution_count": 4,
   "id": "2f7cc532",
   "metadata": {
    "scrolled": true
   },
   "outputs": [
    {
     "name": "stdout",
     "output_type": "stream",
     "text": [
      "====================================================================================================================================================================================\n",
      "===   Working directory created at SSL_loopy_enc_dec_notebook_int1234_num1245_embed128_enc_2blocks_5loops_width512_dec_2blocks_1loops_width512_post3_width512_idem2_2023_06_27   ===\n",
      "====================================================================================================================================================================================\n",
      "   INFO initialise_logging: Begin logging on 2023-06-27 at 16:57:45\n",
      "   INFO initialise_program: Program description: unsupervised_learning_addition_model_generator (notebook)\n",
      "   INFO initialise_program: Working directory: SSL_loopy_enc_dec_notebook_int1234_num1245_embed128_enc_2blocks_5loops_width512_dec_2blocks_1loops_width512_post3_width512_idem2_2023_06_27\n",
      "   INFO log_versions: ------------------------------------------------------+------------------------------------------------------\n",
      "   INFO log_versions:                                              PACKAGE  |  VERSION\n",
      "   INFO log_versions: ------------------------------------------------------+------------------------------------------------------\n",
      "   INFO log_versions:                                               Python  |  3.11.3 (main, May 15 2023, 18:01:31) [Clang 14.0.6 ]\n",
      "   INFO log_versions:                                              IPython  |  8.14.0\n",
      "   INFO log_versions:                                 IPython.core.release  |  8.14.0\n",
      "   INFO log_versions:                                                  PIL  |  9.5.0\n",
      "   INFO log_versions:                                            PIL.Image  |  9.5.0\n",
      "   INFO log_versions:                                       PIL._deprecate  |  9.5.0\n",
      "   INFO log_versions:                                         PIL._version  |  9.5.0\n",
      "   INFO log_versions:                                                 _csv  |  1.0\n",
      "   INFO log_versions:                                              _ctypes  |  1.1.0\n",
      "   INFO log_versions:                                              _curses  |  b'2.2'\n",
      "   INFO log_versions:                                              decimal  |  1.70\n",
      "   INFO log_versions:                               _pydev_bundle.fsnotify  |  0.1.5\n",
      "   INFO log_versions:                 _pydevd_frame_eval.vendored.bytecode  |  0.13.0.dev\n",
      "   INFO log_versions:                                              appnope  |  0.1.3\n",
      "   INFO log_versions:                                             argparse  |  1.1\n",
      "   INFO log_versions:                                           astunparse  |  1.6.3\n",
      "   INFO log_versions:                                             backcall  |  0.2.0\n",
      "   INFO log_versions:                                              certifi  |  2023.05.07\n",
      "   INFO log_versions:                                                 cffi  |  1.15.1\n",
      "   INFO log_versions:                                   charset_normalizer  |  3.1.0\n",
      "   INFO log_versions:                           charset_normalizer.version  |  3.1.0\n",
      "   INFO log_versions:                                                 comm  |  0.1.3\n",
      "   INFO log_versions:                                                  csv  |  1.0\n",
      "   INFO log_versions:                                               ctypes  |  1.1.0\n",
      "   INFO log_versions:                                      ctypes.macholib  |  1.0\n",
      "   INFO log_versions:                                               cycler  |  0.10.0\n",
      "   INFO log_versions:                                             dateutil  |  2.8.2\n",
      "   INFO log_versions:                                              debugpy  |  1.6.7\n",
      "   INFO log_versions:                                   debugpy.public_api  |  1.6.7\n",
      "   INFO log_versions:                                              decimal  |  1.70\n",
      "   INFO log_versions:                                            decorator  |  5.1.1\n",
      "   INFO log_versions:                                           defusedxml  |  0.7.1\n",
      "   INFO log_versions:                                            distutils  |  3.11.3\n",
      "   INFO log_versions:                                            executing  |  1.2.0\n",
      "   INFO log_versions:                                    executing.version  |  1.2.0\n",
      "   INFO log_versions:                                          flatbuffers  |  23.5.26\n",
      "   INFO log_versions:                                 flatbuffers._version  |  23.5.26\n",
      "   INFO log_versions:                                      google.protobuf  |  4.23.3\n",
      "   INFO log_versions:                                                 h5py  |  3.9.0\n",
      "   INFO log_versions:                                          http.server  |  0.6\n",
      "   INFO log_versions:                                                 idna  |  3.4\n",
      "   INFO log_versions:                                        idna.idnadata  |  15.0.0\n",
      "   INFO log_versions:                                    idna.package_data  |  3.4\n",
      "   INFO log_versions:                                            ipaddress  |  1.0\n",
      "   INFO log_versions:                                            ipykernel  |  6.23.3\n",
      "   INFO log_versions:                                   ipykernel._version  |  6.23.3\n",
      "   INFO log_versions:                                                 jedi  |  0.18.2\n",
      "   INFO log_versions:                                                 json  |  2.0.9\n",
      "   INFO log_versions:                                       jupyter_client  |  8.3.0\n",
      "   INFO log_versions:                              jupyter_client._version  |  8.3.0\n",
      "   INFO log_versions:                                         jupyter_core  |  5.3.1\n",
      "   INFO log_versions:                                 jupyter_core.version  |  5.3.1\n",
      "   INFO log_versions:                                                keras  |  2.12.0\n",
      "   INFO log_versions:                                  keras.api._v2.keras  |  2.12.0\n",
      "   INFO log_versions:                                      keras.api.keras  |  2.12.0\n",
      "   INFO log_versions:                                           kiwisolver  |  1.4.4\n",
      "   INFO log_versions:                                     kiwisolver._cext  |  1.4.4\n",
      "   INFO log_versions:                                              logging  |  0.5.1.2\n",
      "   INFO log_versions:                                           matplotlib  |  3.7.1\n",
      "   INFO log_versions:                                  matplotlib._version  |  3.7.1\n",
      "   INFO log_versions:                                                numpy  |  1.23.5\n",
      "   INFO log_versions:                                           numpy.core  |  1.23.5\n",
      "   INFO log_versions:                         numpy.core._multiarray_umath  |  3.1\n",
      "   INFO log_versions:                                            numpy.lib  |  1.23.5\n",
      "   INFO log_versions:                           numpy.linalg._umath_linalg  |  0.1.5\n",
      "   INFO log_versions:                                        numpy.version  |  1.23.5\n",
      "   INFO log_versions:                                           opt_einsum  |  v3.3.0\n",
      "   INFO log_versions:                                            packaging  |  23.1\n",
      "   INFO log_versions:                                                parso  |  0.8.3\n",
      "   INFO log_versions:                                              pexpect  |  4.8.0\n",
      "   INFO log_versions:                                          pickleshare  |  0.7.5\n",
      "   INFO log_versions:                 pkg_resources._vendor.more_itertools  |  9.0.0\n",
      "   INFO log_versions:                      pkg_resources._vendor.packaging  |  23.0\n",
      "   INFO log_versions:                   pkg_resources._vendor.platformdirs  |  2.6.2\n",
      "   INFO log_versions:           pkg_resources._vendor.platformdirs.version  |  2.6.2\n",
      "   INFO log_versions:                 pkg_resources._vendor.more_itertools  |  9.0.0\n",
      "   INFO log_versions:                      pkg_resources._vendor.packaging  |  23.0\n",
      "   INFO log_versions:                   pkg_resources._vendor.platformdirs  |  2.6.2\n",
      "   INFO log_versions:                                             platform  |  1.0.8\n",
      "   INFO log_versions:                                         platformdirs  |  3.8.0\n",
      "   INFO log_versions:                                 platformdirs.version  |  3.8.0\n"
     ]
    },
    {
     "name": "stdout",
     "output_type": "stream",
     "text": [
      "   INFO log_versions:                                       prompt_toolkit  |  3.0.38\n",
      "   INFO log_versions:                                               psutil  |  5.9.5\n",
      "   INFO log_versions:                                           ptyprocess  |  0.7.0\n",
      "   INFO log_versions:                                            pure_eval  |  0.2.2\n",
      "   INFO log_versions:                                    pure_eval.version  |  0.2.2\n",
      "   INFO log_versions:                                               pydevd  |  2.9.5\n",
      "   INFO log_versions:                                             pygments  |  2.15.1\n",
      "   INFO log_versions:                                            pyparsing  |  3.1.0\n",
      "   INFO log_versions:                                                   re  |  2.2.1\n",
      "   INFO log_versions:                                             requests  |  2.31.0\n",
      "   INFO log_versions:                                 requests.__version__  |  2.31.0\n",
      "   INFO log_versions:                                                 idna  |  3.4\n",
      "   INFO log_versions:                                        idna.idnadata  |  15.0.0\n",
      "   INFO log_versions:                                    idna.package_data  |  3.4\n",
      "   INFO log_versions:                                              urllib3  |  1.26.16\n",
      "   INFO log_versions:                                     urllib3._version  |  1.26.16\n",
      "   INFO log_versions:                                   urllib3.connection  |  1.26.16\n",
      "   INFO log_versions:                                 urllib3.packages.six  |  1.16.0\n",
      "   INFO log_versions:                      urllib3.util.ssl_match_hostname  |  3.5.0.1\n",
      "   INFO log_versions:                                       requests.utils  |  2.31.0\n",
      "   INFO log_versions:                                                scipy  |  1.11.0\n",
      "   INFO log_versions:                                 scipy._lib.decorator  |  4.0.5\n",
      "   INFO log_versions:                                  scipy.linalg._fblas  |  1.23.2\n",
      "   INFO log_versions:                                scipy.linalg._flapack  |  1.23.2\n",
      "   INFO log_versions:                                scipy.linalg._flinalg  |  1.23.2\n",
      "   INFO log_versions:            scipy.sparse.linalg._eigen.arpack._arpack  |  1.23.2\n",
      "   INFO log_versions:               scipy.sparse.linalg._isolve._iterative  |  1.23.2\n",
      "   INFO log_versions:                               scipy.special._specfun  |  1.23.2\n",
      "   INFO log_versions:                                           setuptools  |  67.8.0\n",
      "   INFO log_versions:                                            distutils  |  3.11.3\n",
      "   INFO log_versions:                    setuptools._vendor.more_itertools  |  8.8.0\n",
      "   INFO log_versions:                       setuptools._vendor.ordered_set  |  3.1\n",
      "   INFO log_versions:                         setuptools._vendor.packaging  |  23.0\n",
      "   INFO log_versions:                    setuptools._vendor.more_itertools  |  8.8.0\n",
      "   INFO log_versions:                       setuptools._vendor.ordered_set  |  3.1\n",
      "   INFO log_versions:                         setuptools._vendor.packaging  |  23.0\n",
      "   INFO log_versions:                                   setuptools.version  |  67.8.0\n",
      "   INFO log_versions:                                                  six  |  1.16.0\n",
      "   INFO log_versions:                                         socketserver  |  0.4\n",
      "   INFO log_versions:                                           stack_data  |  0.6.2\n",
      "   INFO log_versions:                                   stack_data.version  |  0.6.2\n",
      "   INFO log_versions:                                          tensorboard  |  2.12.3\n",
      "   INFO log_versions:                   tensorboard.compat.tensorflow_stub  |  stub\n",
      "   INFO log_versions: tensorboard.compat.tensorflow_stub.pywrap_tensorflow  |  0\n",
      "   INFO log_versions:                                           tensorflow  |  2.12.0\n",
      "   INFO log_versions:                         tensorflow._api.v2.compat.v1  |  2.12.0\n",
      "   INFO log_versions:               tensorflow._api.v2.compat.v1.compat.v1  |  2.12.0\n",
      "   INFO log_versions:               tensorflow._api.v2.compat.v1.compat.v2  |  2.12.0\n",
      "   INFO log_versions:                         tensorflow._api.v2.compat.v2  |  2.12.0\n",
      "   INFO log_versions:               tensorflow._api.v2.compat.v2.compat.v1  |  2.12.0\n",
      "   INFO log_versions:               tensorflow._api.v2.compat.v2.compat.v2  |  2.12.0\n",
      "   INFO log_versions:                                 tensorflow.compat.v1  |  2.12.0\n",
      "   INFO log_versions:                       tensorflow.compat.v1.compat.v1  |  2.12.0\n",
      "   INFO log_versions:                       tensorflow.compat.v1.compat.v2  |  2.12.0\n",
      "   INFO log_versions:                                 tensorflow.compat.v2  |  2.12.0\n",
      "   INFO log_versions:                       tensorflow.compat.v2.compat.v1  |  2.12.0\n",
      "   INFO log_versions:                       tensorflow.compat.v2.compat.v2  |  2.12.0\n",
      "   INFO log_versions:                                     tensorflow.keras  |  2.12.0\n",
      "   INFO log_versions:           tensorflow.python.client.pywrap_tf_session  |  2.12.0\n",
      "   INFO log_versions:                 tensorflow.python.framework.versions  |  2.12.0\n",
      "   INFO log_versions:                              tensorflow.python.keras  |  2.6.0\n",
      "   INFO log_versions:                                            traitlets  |  5.9.0\n",
      "   INFO log_versions:                                   traitlets._version  |  5.9.0\n",
      "   INFO log_versions:                                       urllib.request  |  3.11\n",
      "   INFO log_versions:                                              urllib3  |  1.26.16\n",
      "   INFO log_versions:                                     urllib3._version  |  1.26.16\n",
      "   INFO log_versions:                                   urllib3.connection  |  1.26.16\n",
      "   INFO log_versions:                                 urllib3.packages.six  |  1.16.0\n",
      "   INFO log_versions:                      urllib3.util.ssl_match_hostname  |  3.5.0.1\n",
      "   INFO log_versions:                                              wcwidth  |  0.2.6\n",
      "   INFO log_versions:                                                wrapt  |  1.14.1\n",
      "   INFO log_versions:                                        xmlrpc.client  |  3.11\n",
      "   INFO log_versions:                                                 zlib  |  1.0\n",
      "   INFO log_versions:                                                  zmq  |  25.1.0\n",
      "   INFO log_versions:                                            zmq.sugar  |  25.1.0\n",
      "   INFO log_versions:                                    zmq.sugar.version  |  25.1.0\n",
      "   INFO log_versions: ------------------------------------------------------+------------------------------------------------------\n",
      "   INFO initialise_program: Registered config value global > base_seed: -1\n",
      "   INFO initialise_program: Registered config value global > working_dir: SSL_loopy_enc_dec_notebook_[global>problem_tag]_embed[model>ndim_embedding]_enc_[model>encoder>num_blocks]blocks_[model>encoder>num_loops]loops_width[model>encoder>ndim_ff_hidden]_dec_[model>decoder>num_blocks]blocks_[model>decoder>num_loops]loops_width[model>decoder>ndim_ff_hidden]_post[model>post_decoder>num_layers]_width[model>post_decoder>ndim]_idem[model>idempotent_size]_[date]\n",
      "   INFO initialise_program: Registered config value global > problem_tag: int1234_num1245\n",
      "   INFO initialise_program: Registered config value global > model_tag: baseline\n",
      "   INFO initialise_program: Registered config value global > log_lvl_iostream: 20\n",
      "   INFO initialise_program: Registered config value global > log_lvl_fstream: 10\n",
      "   INFO initialise_program: Registered config value data > train_data > int_lengths: [1, 2, 3, 4]\n",
      "   INFO initialise_program: Registered config value data > train_data > num_ints: [1, 2, 4, 5]\n",
      "   INFO initialise_program: Registered config value data > train_data > batch_size: 32\n",
      "   INFO initialise_program: Registered config value data > train_data > num_batches: 2000\n",
      "   INFO initialise_program: Registered config value data > train_data > gen_base_seed: 104\n",
      "   INFO initialise_program: Registered config value data > train_data > gen_reproducible: False\n",
      "   INFO initialise_program: Registered config value data > val_data > int_lengths: [1, 2, 3, 4]\n",
      "   INFO initialise_program: Registered config value data > val_data > num_ints: [3]\n"
     ]
    },
    {
     "name": "stdout",
     "output_type": "stream",
     "text": [
      "   INFO initialise_program: Registered config value data > val_data > batch_size: 32\n",
      "   INFO initialise_program: Registered config value data > val_data > num_batches: 50\n",
      "   INFO initialise_program: Registered config value data > val_data > gen_base_seed: 105\n",
      "   INFO initialise_program: Registered config value data > val_data > gen_reproducible: True\n",
      "   INFO initialise_program: Registered config value data > test_data > int_lengths: [1, 2, 3, 4]\n",
      "   INFO initialise_program: Registered config value data > test_data > num_ints: [6]\n",
      "   INFO initialise_program: Registered config value data > test_data > batch_size: 32\n",
      "   INFO initialise_program: Registered config value data > test_data > num_batches: 100\n",
      "   INFO initialise_program: Registered config value data > test_data > gen_base_seed: 106\n",
      "   INFO initialise_program: Registered config value data > test_data > gen_reproducible: True\n",
      "   INFO initialise_program: Registered config value data > characters: ['M', 'B', 'E', 'N', '0', '1', '2', '3', '4', '5', '6', '7', '8', '9', '+', '-']\n",
      "   INFO initialise_program: Registered config value data > mask_char: M\n",
      "   INFO initialise_program: Registered config value data > seq_start_char: B\n",
      "   INFO initialise_program: Registered config value data > seq_end_char: E\n",
      "   INFO initialise_program: Registered config value data > negative_char: N\n",
      "   INFO initialise_program: Registered config value data > dtype: int32\n",
      "   INFO initialise_program: Registered config value model > load_pretrained_model: None\n",
      "   INFO initialise_program: Registered config value model > name: mathsformer_LLM\n",
      "   INFO initialise_program: Registered config value model > dtype: float32\n",
      "   INFO initialise_program: Registered config value model > dropout: 0.1\n",
      "   INFO initialise_program: Registered config value model > learning_rate: 0.001\n",
      "   INFO initialise_program: Registered config value model > jit_compile: False\n",
      "   INFO initialise_program: Registered config value model > positional_encoding > num_freqs: 64\n",
      "   INFO initialise_program: Registered config value model > positional_encoding > min_period: 4\n",
      "   INFO initialise_program: Registered config value model > positional_encoding > max_period: 1000\n",
      "   INFO initialise_program: Registered config value model > positional_encoding > learnable: True\n",
      "   INFO initialise_program: Registered config value model > ndim_embedding: 128\n",
      "   INFO initialise_program: Registered config value model > comb_type: average\n",
      "   INFO initialise_program: Registered config value model > pre_encoder > num_layers: -1\n",
      "   INFO initialise_program: Registered config value model > pre_encoder > ndim: 256\n",
      "   INFO initialise_program: Registered config value model > pre_encoder > skip_connect: True\n",
      "   INFO initialise_program: Registered config value model > pre_decoder > num_layers: -1\n",
      "   INFO initialise_program: Registered config value model > pre_decoder > ndim: 256\n",
      "   INFO initialise_program: Registered config value model > pre_decoder > skip_connect: True\n",
      "   INFO initialise_program: Registered config value model > encoder > num_blocks: 2\n",
      "   INFO initialise_program: Registered config value model > encoder > num_heads: 8\n",
      "   INFO initialise_program: Registered config value model > encoder > ndim: 128\n",
      "   INFO initialise_program: Registered config value model > encoder > ndim_att_hidden: 128\n",
      "   INFO initialise_program: Registered config value model > encoder > ndim_ff_hidden: 512\n",
      "   INFO initialise_program: Registered config value model > encoder > skip_connect: True\n",
      "   INFO initialise_program: Registered config value model > encoder > num_loops: 5\n",
      "   INFO initialise_program: Registered config value model > decoder > num_blocks: 2\n",
      "   INFO initialise_program: Registered config value model > decoder > num_heads: 8\n",
      "   INFO initialise_program: Registered config value model > decoder > ndim: 128\n",
      "   INFO initialise_program: Registered config value model > decoder > ndim_att_hidden: 128\n",
      "   INFO initialise_program: Registered config value model > decoder > ndim_ff_hidden: 512\n",
      "   INFO initialise_program: Registered config value model > decoder > skip_connect: True\n",
      "   INFO initialise_program: Registered config value model > decoder > num_loops: 1\n",
      "   INFO initialise_program: Registered config value model > post_decoder > num_layers: 3\n",
      "   INFO initialise_program: Registered config value model > post_decoder > ndim: 512\n",
      "   INFO initialise_program: Registered config value model > use_old_loss: True\n",
      "   INFO initialise_program: Registered config value model > optimizer: <class 'keras.optimizers.adamw.AdamW'>\n",
      "   INFO initialise_program: Registered config value model > optimizer_args > learning_rate: 0.0001\n",
      "   INFO initialise_program: Registered config value model > optimizer_args > weight_decay: 0.02\n",
      "   INFO initialise_program: Registered config value model > idempotent_size: 2\n",
      "   INFO initialise_program: Registered config value training > train: True\n",
      "   INFO initialise_program: Registered config value training > max_epochs: 100000\n",
      "   INFO initialise_program: Registered config value training > log_after_epoch > do: True\n",
      "   INFO initialise_program: Registered config value training > log_after_epoch > log_lvl: 10\n",
      "   INFO initialise_program: Registered config value training > early_stopping > do: False\n",
      "   INFO initialise_program: Registered config value training > early_stopping > patience: 6\n",
      "   INFO initialise_program: Registered config value training > early_stopping > monitor: loss\n",
      "   INFO initialise_program: Registered config value training > early_stopping > mode: min\n",
      "   INFO initialise_program: Registered config value training > early_stopping > restore_best_weights: True\n",
      "   INFO initialise_program: Registered config value training > model_checkpoint > do: True\n",
      "   INFO initialise_program: Registered config value training > model_checkpoint > filename: model_checkpoint_epoch{epoch}_val_loss_{val_loss:.5}.keras\n",
      "   INFO initialise_program: Registered config value training > layer_weights_record > do: True\n",
      "   INFO initialise_program: Registered config value training > layer_weights_record > batch_frequency: 2000\n",
      "   INFO initialise_program: Registered config value training > layer_weights_record > recursive: True\n",
      "   INFO initialise_program: Registered config value training > adaptive_learning_rate > do: True\n",
      "   INFO initialise_program: Registered config value training > adaptive_learning_rate > decay_factor: 0.2\n",
      "   INFO initialise_program: Registered config value training > adaptive_learning_rate > monitor: loss\n",
      "   INFO initialise_program: Registered config value training > adaptive_learning_rate > mode: min\n",
      "   INFO initialise_program: Registered config value training > adaptive_learning_rate > patience: 2\n",
      "   INFO initialise_program: Registered config value training > adaptive_learning_rate > log_lvl: 10\n",
      "   INFO initialise_program: Registered config value training > print_tables_during_training > do: True\n",
      "   INFO initialise_program: Registered config value training > print_tables_during_training > num_print: 10\n",
      "   INFO initialise_program: Registered config value evaluate > num_print: 50\n",
      "   INFO initialise_program: Registered config value evaluate > save_model: True\n",
      "   INFO initialise_program: Registered config value evaluate > plot_weights: False\n",
      "   INFO initialise_program: Registered config value evaluate > plot_training_curves: True\n",
      "   INFO initialise_program: Python random seed set: 1687881465\n",
      "   INFO initialise_program: Numpy random seed set: 1687881466\n",
      "   INFO initialise_program: TensorFlow random seed set: 1687881467\n"
     ]
    }
   ],
   "source": [
    "##==============================##\n",
    "##   Create working directory   ##\n",
    "##==============================##\n",
    "\n",
    "##  Report success\n",
    "working_dir, logger, base_seed, np_seed, tf_seed = utils.initialise_program(\n",
    "    \"unsupervised_learning_addition_model_generator (notebook)\", \n",
    "    working_dir       = cfg_global[\"working_dir\"], \n",
    "    cfg               = cfg,\n",
    "    base_seed         = cfg_global[\"base_seed\"],\n",
    "    log_lvl_iostream  = cfg_global[\"log_lvl_iostream\"],\n",
    "    log_lvl_fstream   = cfg_global[\"log_lvl_fstream\" ],\n",
    ")\n"
   ]
  },
  {
   "cell_type": "markdown",
   "id": "2960860d",
   "metadata": {},
   "source": [
    "##  3. Create training data\n",
    "\n",
    "###  Create tokeniser\n",
    "\n",
    "Tokeniser object handles the transformation from strings to tensors and back again"
   ]
  },
  {
   "cell_type": "code",
   "execution_count": 5,
   "id": "db11d6cd",
   "metadata": {},
   "outputs": [
    {
     "name": "stdout",
     "output_type": "stream",
     "text": [
      "   INFO summary: TokenTransform of dtype int32 with 16 characters: ['M', 'B', 'E', 'N', '0', '1', '2', '3', '4', '5', '6', '7', '8', '9', '+', '-']\n",
      "   INFO summary: Special characters are seq_start_char (B), seq_end_char (E), mask_char (M)\n",
      "   INFO summary: Tokeniser dictionary is {'M': 0, 'B': 1, 'E': 2, 'N': 3, '0': 4, '1': 5, '2': 6, '3': 7, '4': 8, '5': 9, '6': 10, '7': 11, '8': 12, '9': 13, '+': 14, '-': 15}\n",
      "   INFO summary: Detokeniser dictionary is {0: 'M', 1: 'B', 2: 'E', 3: 'N', 4: '0', 5: '1', 6: '2', 7: '3', 8: '4', 9: '5', 10: '6', 11: '7', 12: '8', 13: '9', 14: '+', 15: '-'}\n"
     ]
    }
   ],
   "source": [
    "##======================##\n",
    "##   Create tokeniser   ##\n",
    "##======================##\n",
    "\n",
    "token_transform = data.TokenTransform.from_dictionary(cfg_data)\n",
    "token_transform.summary(print_fn=logger.info)\n"
   ]
  },
  {
   "cell_type": "markdown",
   "id": "5367bdd7",
   "metadata": {},
   "source": [
    "###  Create data generators for train/val/test sets\n",
    "\n",
    "Data generators create tensor inputs/outputs for the model on-the-fly\n"
   ]
  },
  {
   "cell_type": "code",
   "execution_count": 6,
   "id": "d87b308d",
   "metadata": {},
   "outputs": [
    {
     "name": "stdout",
     "output_type": "stream",
     "text": [
      "   INFO get_data_generators: Training data generator created with the following config: Generator of [1, 2, 4, 5] integers of length [1, 2, 3, 4] in 2000 batches of size 32 (base_seed=104, reproducible=False)\n",
      "   INFO get_data_generators: Output shapes for a test batch are ((32, 25), (32, 6)), (32, 6)\n",
      "   INFO get_data_generators: Validation data generator created with the following config: Generator of [3] integers of length [1, 2, 3, 4] in 50 batches of size 32 (base_seed=105, reproducible=True)\n",
      "   INFO get_data_generators: Output shapes for a test batch are ((32, 17), (32, 6)), (32, 6)\n",
      "   INFO get_data_generators: Test data generator created with the following config: Generator of [6] integers of length [1, 2, 3, 4] in 100 batches of size 32 (base_seed=106, reproducible=True)\n",
      "   INFO get_data_generators: Output shapes for a test batch are ((32, 30), (32, 7)), (32, 7)\n"
     ]
    }
   ],
   "source": [
    "##============================##\n",
    "##   Create data generators   ##\n",
    "##============================##\n",
    "\n",
    "negative_char = cfg_data.get(\"negative_char\")\n",
    "train_gen, train_gen_reproducible, val_gen, test_gen = backend.get_data_generators(cfg_data, token_transform)\n"
   ]
  },
  {
   "cell_type": "code",
   "execution_count": 7,
   "id": "aa78cf7f",
   "metadata": {},
   "outputs": [
    {
     "name": "stdout",
     "output_type": "stream",
     "text": [
      "   INFO <module>: Saving distribution of token frequencies to file SSL_loopy_enc_dec_notebook_int1234_num1245_embed128_enc_2blocks_5loops_width512_dec_2blocks_1loops_width512_post3_width512_idem2_2023_06_27/token_distribution.pdf\n"
     ]
    },
    {
     "data": {
      "image/png": "[encoded data removed]",
      "text/plain": [
       "<Figure size 600x400 with 1 Axes>"
      ]
     },
     "metadata": {},
     "output_type": "display_data"
    }
   ],
   "source": [
    "##=========================================================##\n",
    "##   Quickly visualise distribution of token frequencies   ##\n",
    "##=========================================================##\n",
    "\n",
    "##  Imports\n",
    "import numpy as np\n",
    "from matplotlib import pyplot as plt\n",
    "\n",
    "##  Get sample of train data labels\n",
    "train_data_sample = np.concatenate([train_gen[i][1].numpy().flatten() for i in range(1000)])\n",
    "\n",
    "##  Ignore masked tokens\n",
    "train_data_sample = train_data_sample[train_data_sample != 0]\n",
    "\n",
    "##  Count number for each token\n",
    "chars, freqs = [], []\n",
    "for token, char in train_gen.token_transform.detokeniser_dict.items() :\n",
    "    chars.append(char)\n",
    "    freqs.append(len(train_data_sample[train_data_sample==token]))\n",
    "    \n",
    "##  Normalise counts to frequency\n",
    "freqs     = np.array(freqs).astype(np.float32)\n",
    "freqs_err = np.sqrt(freqs)\n",
    "freqs_tot = np.sum(freqs)\n",
    "freqs     /= freqs_tot\n",
    "freqs_err /= freqs_tot\n",
    "\n",
    "##  Log token frequencies\n",
    "for char, freq, freq_err in zip(chars, freqs, freqs_err) :\n",
    "    logger.debug(f\"Token '{char}' in training data with frequency {100.*freq:.1f} +- {100.*freq_err:.1f} % (masked)\")\n",
    "\n",
    "##  Plot quick bar chart of frequencies\n",
    "fig = plt.figure(figsize=(6, 4))\n",
    "ax  = fig.add_subplot(1, 1, 1)\n",
    "ax.tick_params(which=\"both\", axis=\"both\", right=True, top=True, labelsize=10, direction=\"in\")\n",
    "ax.grid()\n",
    "ax.set_xlabel(\"Character\", fontsize=14, va=\"top\"  , labelpad=15)\n",
    "ax.set_ylabel(\"Frequency in\\ntrain data\", fontsize=14, ha=\"right\", rotation=0, labelpad=20)\n",
    "\n",
    "ax.bar(chars, freqs, yerr=freqs_err)\n",
    "\n",
    "fig_fname = f\"{working_dir}/token_distribution.pdf\"\n",
    "logger.info(f\"Saving distribution of token frequencies to file {fig_fname}\")\n",
    "\n",
    "plt.savefig(fig_fname, bbox_inches=\"tight\")\n",
    "plt.show(fig)\n",
    "plt.close(fig)\n"
   ]
  },
  {
   "cell_type": "markdown",
   "id": "f39db1bb",
   "metadata": {},
   "source": [
    "##  4.  Create model\n",
    "\n",
    "Create the keras model object that handles sequence-sequence transformations from alread-tokenised data"
   ]
  },
  {
   "cell_type": "code",
   "execution_count": 8,
   "id": "fae1868e",
   "metadata": {},
   "outputs": [],
   "source": [
    "\n",
    "from tensorflow.keras.layers     import Add, Average, Concatenate, Embedding, Input, LayerNormalization\n",
    "from tensorflow.keras.models     import Model\n",
    "from tensorflow.keras.optimizers import Adam\n",
    "\n",
    "from mathsformer.tf_objects import (DecoderBlock, EncoderBlock, Enumerate, FeedForwardBlock, LearnableMixture, MaskedCategoricalAccuracy,\n",
    "                                    MaskedSparseCategoricalCrossentropy, PositionalEncoding)\n",
    "from mathsformer.tf_objects import scalar_masked_sparse_categorical_crossentropy, scalar_masked_categorical_accuracy\n"
   ]
  },
  {
   "cell_type": "code",
   "execution_count": 9,
   "id": "98368f85",
   "metadata": {},
   "outputs": [],
   "source": [
    "\n",
    "def create_text_to_text_model(vocab_length:int, \n",
    "                              name:str, \n",
    "                              do_compile:bool       = True,\n",
    "                              use_old_loss:bool     = False,\n",
    "                              dtype_in              = tf.int32, \n",
    "                              dtype                 = tf.float32, \n",
    "                              dropout:float         = 0.1, \n",
    "                              jit_compile:bool      = None,\n",
    "                              optimizer             = Adam,\n",
    "                              optimizer_args:dict   = None,\n",
    "                              idempotent_size:int   = 1,\n",
    "                              pos_enc_num_freqs:int = 32, pos_enc_min_period:float = 4, pos_enc_max_period:float = 500 , pos_enc_learnable:bool = False,\n",
    "                              ndim_embedding:int          = 64, comb_type:str                = \"average\",\n",
    "                              num_encoder_blocks:int      = 5 , ndim_encoder:int             = 64 , skip_connect_encoder:bool  = True,\n",
    "                              num_decoder_blocks:int      = 5 , ndim_decoder:int             = 64 , skip_connect_decoder:bool  = True,\n",
    "                              num_heads_encoder:int       = 8 , ndim_att_hidden_encoder:int  = 128, ndim_ff_hidden_encoder:int = 128, \n",
    "                              num_heads_decoder:int       = 8 , ndim_att_hidden_decoder:int  = 128, ndim_ff_hidden_decoder:int = 128, \n",
    "                              num_encoder_loops:int       = 1 , num_decoder_loops:int        = 1  ,\n",
    "                              num_post_layers_decoder:int = 3 , ndim_post_layers_decoder:int = 512, \n",
    "                             ) :\n",
    "    \"\"\"\n",
    "    \"\"\"\n",
    "    ##  Resolve mutable default args\n",
    "    if optimizer_args is None :\n",
    "        optimizer_args = {'learning_rate': 1e-3}\n",
    "    \n",
    "    ##=============================================##\n",
    "    ##===   Input layer - Output shape [B, S]   ===##\n",
    "    ##=============================================##\n",
    "    x_in_enc = Input((None,), dtype=dtype_in, name=f\"{name}_encoder_input_layer\")\n",
    "    x_in_dec = Input((None,), dtype=dtype_in, name=f\"{name}_decoder_input_layer\")\n",
    "            \n",
    "    ##===========================================================================##\n",
    "    ##===  Token embedding, masking 0s - Output shape [B, S, ndim_embedding]  ===##\n",
    "    ##===========================================================================##\n",
    "    x_embed_enc = Embedding(vocab_length, \n",
    "                            ndim_embedding, \n",
    "                            mask_zero=True, \n",
    "                            dtype=dtype, \n",
    "                            name=f\"{name}_encoder_embedding\")(x_in_enc)\n",
    "    x_embed_dec = Embedding(vocab_length, \n",
    "                            ndim_embedding, \n",
    "                            mask_zero=True, \n",
    "                            dtype=dtype, \n",
    "                            name=f\"{name}_decoder_embedding\")(x_in_dec)\n",
    "    \n",
    "    ##=========================================================================##\n",
    "    ##===  Enumerate indices for positional encoding - Output shape [B, S]  ===##\n",
    "    ##=========================================================================##\n",
    "    x_pos_enc = Enumerate(name=f\"{name}_encoder_enumerate\", dtype=dtype)(x_in_enc, minimal_dims=False)\n",
    "    x_pos_dec = Enumerate(name=f\"{name}_decoder_enumerate\", dtype=dtype)(x_in_dec, minimal_dims=False)\n",
    "    \n",
    "    ##========================================================================##\n",
    "    ##===  Positional encoding - Output shape [B, S, 2*pos_enc_num_freqs]  ===##\n",
    "    ##========================================================================##\n",
    "    x_pos_enc = PositionalEncoding(num_freqs  = pos_enc_num_freqs, \n",
    "                                   min_period = pos_enc_min_period, \n",
    "                                   max_period = pos_enc_max_period, \n",
    "                                   learnable  = pos_enc_learnable,\n",
    "                                   dtype      = dtype, \n",
    "                                   name       = f\"{name}_encoder_position_encoding\")(x_pos_enc)\n",
    "    x_pos_dec = PositionalEncoding(num_freqs  = pos_enc_num_freqs, \n",
    "                                   min_period = pos_enc_min_period, \n",
    "                                   max_period = pos_enc_max_period, \n",
    "                                   learnable  = pos_enc_learnable,\n",
    "                                   dtype      = dtype, \n",
    "                                   name       = f\"{name}_decoder_position_encoding\")(x_pos_dec)\n",
    "\n",
    "    ##==============================================================================================##\n",
    "    ##===  Combine embeddings end pos enc - Output shape [B, S, N] where N depends on comb_type  ===##\n",
    "    ##==============================================================================================##\n",
    "    allowed_comb_types = [\"add\", \"sum\", \"average\", \"mean\", \"concat\", \"concatenate\", \"mixture\"]\n",
    "    match comb_type.lower() :\n",
    "        case \"add\" | \"sum\" :\n",
    "            x_enc = Add(name=f\"{name}_encoder_emb_and_pos\", dtype=dtype)([x_embed_enc, x_pos_enc])\n",
    "            x_dec = Add(name=f\"{name}_decoder_emb_and_pos\", dtype=dtype)([x_embed_dec, x_pos_dec])\n",
    "        case \"average\" | \"mean\" :\n",
    "            x_enc = Average(name=f\"{name}_encoder_emb_and_pos\", dtype=dtype)([x_embed_enc, x_pos_enc])\n",
    "            x_dec = Average(name=f\"{name}_decoder_emb_and_pos\", dtype=dtype)([x_embed_dec, x_pos_dec])\n",
    "        case \"concat\" | \"concatenate\" :\n",
    "            x_enc = Concatenate(name=f\"{name}_encoder_emb_and_pos\", dtype=dtype)([x_embed_enc, x_pos_enc])\n",
    "            x_dec = Concatenate(name=f\"{name}_decoder_emb_and_pos\", dtype=dtype)([x_embed_dec, x_pos_dec])\n",
    "        case \"mixture\" :\n",
    "            x_enc = LearnableMixture(name=f\"{name}_encoder_emb_and_pos\", dtype=dtype)([x_embed_enc, x_pos_enc])\n",
    "            x_dec = LearnableMixture(name=f\"{name}_decoder_emb_and_pos\", dtype=dtype)([x_embed_dec, x_pos_dec])\n",
    "        case _ :\n",
    "            raise RuntimeError(f\"comb_type '{comb_type}' not recognised, recognised keywords are {allowed_comb_types}\")\n",
    "    \n",
    "    ##============================================================##\n",
    "    ##===  Encoder blocks - Output shape [B, S, ndim_encoder]  ===##\n",
    "    ##============================================================##\n",
    "    encoder_blocks = []\n",
    "    for layer_idx in range(num_encoder_blocks) :\n",
    "        encoder_blocks.append(EncoderBlock(\n",
    "                                 ndim_encoder, \n",
    "                                 num_heads_encoder, \n",
    "                                 ndim_att_hidden_encoder, \n",
    "                                 ndim_ff_hidden_encoder, \n",
    "                                 dropout_mha     = dropout, \n",
    "                                 dtype           = dtype, \n",
    "                                 pre_layer_norm  = True, \n",
    "                                 post_layer_norm = False, \n",
    "                                 skip_connect    = skip_connect_encoder, \n",
    "                                 name            = f\"{name}_encoder_block_{layer_idx+1}\"))\n",
    "        \n",
    "    for loop_idx in range(num_encoder_loops) :\n",
    "        for encoder_block in encoder_blocks :\n",
    "            x_enc = encoder_block(x_enc)\n",
    "    x_enc_list = [LayerNormalization(name=f\"{name}_encoder_output_norm\")(x_enc)]\n",
    "           \n",
    "    for loop_idx in range(idempotent_size) :\n",
    "        for encoder_block in encoder_blocks :\n",
    "            x_enc = encoder_block(x_enc)\n",
    "        x_enc_list.append(LayerNormalization(name=f\"{name}_encoder_output_norm_idem{loop_idx}\")(x_enc))\n",
    "    \n",
    "    ##============================================================##\n",
    "    ##===  Decoder blocks - Output shape [B, S, ndim_decoder]  ===##\n",
    "    ##============================================================##\n",
    "    decoder_blocks = []\n",
    "    for layer_idx in range(num_decoder_blocks) :\n",
    "        decoder_blocks.append(DecoderBlock(\n",
    "                                 ndim_decoder, \n",
    "                                 num_heads_decoder, \n",
    "                                 ndim_att_hidden_decoder, \n",
    "                                 ndim_ff_hidden_decoder, \n",
    "                                 dropout_mha     = dropout, \n",
    "                                 dtype           = dtype, \n",
    "                                 pre_layer_norm  = True, \n",
    "                                 post_layer_norm = False, \n",
    "                                 skip_connect    = skip_connect_decoder, \n",
    "                                 name            = f\"{name}_decoder_block_{layer_idx+1}\"))\n",
    "        \n",
    "    x_dec_list = []\n",
    "    for x_enc_this in x_enc_list :\n",
    "        x_dec_this = x_dec\n",
    "        for loop_idx in range(num_decoder_loops) :\n",
    "            for decoder_block in decoder_blocks :\n",
    "                x_dec_this = decoder_block([x_dec_this, x_enc_this])\n",
    "        x_dec_list.append(x_dec_this)\n",
    "        \n",
    "    ##==================================================================================================##\n",
    "    ##===  Predict logit probabilities using feed-forward block - Output shape [B, S, vocab_length]  ===##\n",
    "    ##==================================================================================================##\n",
    "    ##  - use layer_norm instead of batch_norm because elements in sequence are not independent\n",
    "    ff_block = FeedForwardBlock(vocab_length, \n",
    "                         ndim_hidden       = ndim_post_layers_decoder, \n",
    "                         num_hidden_layers = num_post_layers_decoder, \n",
    "                         skip_connect      = False, \n",
    "                         pre_layer_norm    = True, \n",
    "                         post_layer_norm   = False, \n",
    "                         batch_norm        = False, \n",
    "                         dtype             = dtype, \n",
    "                         name              = f\"{name}_output\")\n",
    "    x_out = [ff_block(x) for x in x_dec_list]\n",
    "    \n",
    "    ##  Create model\n",
    "    model = Model([x_in_enc, x_in_dec], x_out if len(x_out)>1 else x_out[0], name=name)\n",
    "    \n",
    "    ##  Compile model with sparse categorical crossentropy loss and accuracy metric\n",
    "    if do_compile :\n",
    "        acc  = MaskedCategoricalAccuracy(scalar_output=True, equal_token_weight=True, use_keras_mask=False, mask_value=0)\n",
    "        loss = MaskedSparseCategoricalCrossentropy(scalar_output=True, equal_token_weight=True, use_keras_mask=False, mask_value=0, from_logits=True)\n",
    "        model.compile(loss        = loss, \n",
    "                      optimizer   = optimizer(**optimizer_args), \n",
    "                      metrics     = [acc],\n",
    "                      jit_compile = jit_compile)\n",
    "    \n",
    "    ##  Return model\n",
    "    return model\n"
   ]
  },
  {
   "cell_type": "code",
   "execution_count": 10,
   "id": "942355eb",
   "metadata": {},
   "outputs": [],
   "source": [
    "def create_text_to_text_model_from_config(cfg_model, token_transform) :\n",
    "    \"\"\"\n",
    "    Create a text-to-text transformer model\n",
    "    \n",
    "    Inputs:\n",
    "    \n",
    "        >  cfg_model, Config\n",
    "           Model configuration\n",
    "           \n",
    "        >  token_transform, TokenTransform\n",
    "           Tokeniser\n",
    "    \"\"\"\n",
    "    return create_text_to_text_model(\n",
    "                          vocab_length                = token_transform.vocab_length, \n",
    "                          name                        = cfg_model[\"name\"],\n",
    "                          do_compile                  = True,\n",
    "                          use_old_loss                = cfg_model[\"use_old_loss\"],\n",
    "                          dtype_in                    = token_transform.dtype,\n",
    "                          dtype                       = cfg_model[\"dtype\"],\n",
    "                          dropout                     = cfg_model[\"dropout\"],\n",
    "                          jit_compile                 = cfg_model[\"jit_compile\"],\n",
    "                          optimizer                   = cfg_model.get(\"optimizer\", Adam),\n",
    "                          optimizer_args              = cfg_model.get(\"optimizer_args\", {}),\n",
    "                          idempotent_size             = cfg_model[\"idempotent_size\"],\n",
    "                          pos_enc_num_freqs           = cfg_model[\"positional_encoding\"][\"num_freqs\"],\n",
    "                          pos_enc_min_period          = cfg_model[\"positional_encoding\"][\"min_period\"],\n",
    "                          pos_enc_max_period          = cfg_model[\"positional_encoding\"][\"max_period\"],\n",
    "                          pos_enc_learnable           = cfg_model[\"positional_encoding\"][\"learnable\"],\n",
    "                          ndim_embedding              = cfg_model[\"ndim_embedding\"],\n",
    "                          num_encoder_blocks          = cfg_model[\"encoder\"][\"num_blocks\"],\n",
    "                          num_encoder_loops           = cfg_model[\"encoder\"][\"num_loops\"],\n",
    "                          ndim_encoder                = cfg_model[\"encoder\"][\"ndim\"],\n",
    "                          num_heads_encoder           = cfg_model[\"encoder\"][\"num_heads\"],\n",
    "                          ndim_att_hidden_encoder     = cfg_model[\"encoder\"][\"ndim_att_hidden\"],\n",
    "                          ndim_ff_hidden_encoder      = cfg_model[\"encoder\"][\"ndim_ff_hidden\"],\n",
    "                          skip_connect_encoder        = cfg_model[\"encoder\"][\"skip_connect\"],\n",
    "                          num_decoder_blocks          = cfg_model[\"decoder\"][\"num_blocks\"],\n",
    "                          num_decoder_loops           = cfg_model[\"decoder\"][\"num_loops\"],\n",
    "                          ndim_decoder                = cfg_model[\"decoder\"][\"ndim\"],\n",
    "                          num_heads_decoder           = cfg_model[\"decoder\"][\"num_heads\"],\n",
    "                          ndim_att_hidden_decoder     = cfg_model[\"decoder\"][\"ndim_att_hidden\"],\n",
    "                          ndim_ff_hidden_decoder      = cfg_model[\"decoder\"][\"ndim_ff_hidden\"],\n",
    "                          skip_connect_decoder        = cfg_model[\"decoder\"][\"skip_connect\"],\n",
    "                          num_post_layers_decoder     = cfg_model[\"post_decoder\"][\"num_layers\"],\n",
    "                          ndim_post_layers_decoder    = cfg_model[\"post_decoder\"][\"ndim\"],)"
   ]
  },
  {
   "cell_type": "code",
   "execution_count": 11,
   "id": "2bb6a53e",
   "metadata": {
    "scrolled": true
   },
   "outputs": [
    {
     "name": "stdout",
     "output_type": "stream",
     "text": [
      "   INFO <module>: Creating new text-to-text model\n"
     ]
    },
    {
     "name": "stderr",
     "output_type": "stream",
     "text": [
      "WARNING:absl:At this time, the v2.11+ optimizer `tf.keras.optimizers.AdamW` runs slowly on M1/M2 Macs, please use the legacy Keras optimizer instead, located at `tf.keras.optimizers.legacy.AdamW`.\n"
     ]
    },
    {
     "name": "stdout",
     "output_type": "stream",
     "text": [
      "   INFO <module>: Model created with summary:\n"
     ]
    },
    {
     "name": "stderr",
     "output_type": "stream",
     "text": [
      "INFO:mathsformer:Model created with summary:\n"
     ]
    },
    {
     "name": "stdout",
     "output_type": "stream",
     "text": [
      "   INFO <module>: Model: \"mathsformer_LLM\"\n"
     ]
    },
    {
     "name": "stderr",
     "output_type": "stream",
     "text": [
      "INFO:mathsformer:Model: \"mathsformer_LLM\"\n"
     ]
    },
    {
     "name": "stdout",
     "output_type": "stream",
     "text": [
      "   INFO <module>: __________________________________________________________________________________________________\n"
     ]
    },
    {
     "name": "stderr",
     "output_type": "stream",
     "text": [
      "INFO:mathsformer:__________________________________________________________________________________________________\n"
     ]
    },
    {
     "name": "stdout",
     "output_type": "stream",
     "text": [
      "   INFO <module>:  Layer (type)                   Output Shape         Param #     Connected to                     \n"
     ]
    },
    {
     "name": "stderr",
     "output_type": "stream",
     "text": [
      "INFO:mathsformer: Layer (type)                   Output Shape         Param #     Connected to                     \n"
     ]
    },
    {
     "name": "stdout",
     "output_type": "stream",
     "text": [
      "   INFO <module>: ==================================================================================================\n"
     ]
    },
    {
     "name": "stderr",
     "output_type": "stream",
     "text": [
      "INFO:mathsformer:==================================================================================================\n"
     ]
    },
    {
     "name": "stdout",
     "output_type": "stream",
     "text": [
      "   INFO <module>:  mathsformer_LLM_encoder_input_  [(None, None)]      0           []                               \n"
     ]
    },
    {
     "name": "stderr",
     "output_type": "stream",
     "text": [
      "INFO:mathsformer: mathsformer_LLM_encoder_input_  [(None, None)]      0           []                               \n"
     ]
    },
    {
     "name": "stdout",
     "output_type": "stream",
     "text": [
      "   INFO <module>:  layer (InputLayer)                                                                               \n"
     ]
    },
    {
     "name": "stderr",
     "output_type": "stream",
     "text": [
      "INFO:mathsformer: layer (InputLayer)                                                                               \n"
     ]
    },
    {
     "name": "stdout",
     "output_type": "stream",
     "text": [
      "   INFO <module>:                                                                                                   \n"
     ]
    },
    {
     "name": "stderr",
     "output_type": "stream",
     "text": [
      "INFO:mathsformer:                                                                                                  \n"
     ]
    },
    {
     "name": "stdout",
     "output_type": "stream",
     "text": [
      "   INFO <module>:  mathsformer_LLM_encoder_enumer  (None, None)        0           ['mathsformer_LLM_encoder_input_l\n"
     ]
    },
    {
     "name": "stderr",
     "output_type": "stream",
     "text": [
      "INFO:mathsformer: mathsformer_LLM_encoder_enumer  (None, None)        0           ['mathsformer_LLM_encoder_input_l\n"
     ]
    },
    {
     "name": "stdout",
     "output_type": "stream",
     "text": [
      "   INFO <module>:  ate (Enumerate)                                                 ayer[0][0]']                     \n"
     ]
    },
    {
     "name": "stderr",
     "output_type": "stream",
     "text": [
      "INFO:mathsformer: ate (Enumerate)                                                 ayer[0][0]']                     \n"
     ]
    },
    {
     "name": "stdout",
     "output_type": "stream",
     "text": [
      "   INFO <module>:                                                                                                   \n"
     ]
    },
    {
     "name": "stderr",
     "output_type": "stream",
     "text": [
      "INFO:mathsformer:                                                                                                  \n"
     ]
    },
    {
     "name": "stdout",
     "output_type": "stream",
     "text": [
      "   INFO <module>:  mathsformer_LLM_encoder_embedd  (None, None, 128)   2048        ['mathsformer_LLM_encoder_input_l\n"
     ]
    },
    {
     "name": "stderr",
     "output_type": "stream",
     "text": [
      "INFO:mathsformer: mathsformer_LLM_encoder_embedd  (None, None, 128)   2048        ['mathsformer_LLM_encoder_input_l\n"
     ]
    },
    {
     "name": "stdout",
     "output_type": "stream",
     "text": [
      "   INFO <module>:  ing (Embedding)                                                 ayer[0][0]']                     \n"
     ]
    },
    {
     "name": "stderr",
     "output_type": "stream",
     "text": [
      "INFO:mathsformer: ing (Embedding)                                                 ayer[0][0]']                     \n"
     ]
    },
    {
     "name": "stdout",
     "output_type": "stream",
     "text": [
      "   INFO <module>:                                                                                                   \n"
     ]
    },
    {
     "name": "stderr",
     "output_type": "stream",
     "text": [
      "INFO:mathsformer:                                                                                                  \n"
     ]
    },
    {
     "name": "stdout",
     "output_type": "stream",
     "text": [
      "   INFO <module>:  mathsformer_LLM_encoder_positi  (None, None, 128)   64          ['mathsformer_LLM_encoder_enumera\n"
     ]
    },
    {
     "name": "stderr",
     "output_type": "stream",
     "text": [
      "INFO:mathsformer: mathsformer_LLM_encoder_positi  (None, None, 128)   64          ['mathsformer_LLM_encoder_enumera\n"
     ]
    },
    {
     "name": "stdout",
     "output_type": "stream",
     "text": [
      "   INFO <module>:  on_encoding (PositionalEncodin                                  te[0][0]']                       \n"
     ]
    },
    {
     "name": "stderr",
     "output_type": "stream",
     "text": [
      "INFO:mathsformer: on_encoding (PositionalEncodin                                  te[0][0]']                       \n"
     ]
    },
    {
     "name": "stdout",
     "output_type": "stream",
     "text": [
      "   INFO <module>:  g)                                                                                               \n"
     ]
    },
    {
     "name": "stderr",
     "output_type": "stream",
     "text": [
      "INFO:mathsformer: g)                                                                                               \n"
     ]
    },
    {
     "name": "stdout",
     "output_type": "stream",
     "text": [
      "   INFO <module>:                                                                                                   \n"
     ]
    },
    {
     "name": "stderr",
     "output_type": "stream",
     "text": [
      "INFO:mathsformer:                                                                                                  \n"
     ]
    },
    {
     "name": "stdout",
     "output_type": "stream",
     "text": [
      "   INFO <module>:  mathsformer_LLM_encoder_emb_an  (None, None, 128)   0           ['mathsformer_LLM_encoder_embeddi\n"
     ]
    },
    {
     "name": "stderr",
     "output_type": "stream",
     "text": [
      "INFO:mathsformer: mathsformer_LLM_encoder_emb_an  (None, None, 128)   0           ['mathsformer_LLM_encoder_embeddi\n"
     ]
    },
    {
     "name": "stdout",
     "output_type": "stream",
     "text": [
      "   INFO <module>:  d_pos (Average)                                                 ng[0][0]',                       \n"
     ]
    },
    {
     "name": "stderr",
     "output_type": "stream",
     "text": [
      "INFO:mathsformer: d_pos (Average)                                                 ng[0][0]',                       \n"
     ]
    },
    {
     "name": "stdout",
     "output_type": "stream",
     "text": [
      "   INFO <module>:                                                                   'mathsformer_LLM_encoder_positio\n"
     ]
    },
    {
     "name": "stderr",
     "output_type": "stream",
     "text": [
      "INFO:mathsformer:                                                                  'mathsformer_LLM_encoder_positio\n"
     ]
    },
    {
     "name": "stdout",
     "output_type": "stream",
     "text": [
      "   INFO <module>:                                                                  n_encoding[0][0]']               \n"
     ]
    },
    {
     "name": "stderr",
     "output_type": "stream",
     "text": [
      "INFO:mathsformer:                                                                 n_encoding[0][0]']               \n"
     ]
    },
    {
     "name": "stdout",
     "output_type": "stream",
     "text": [
      "   INFO <module>:                                                                                                   \n"
     ]
    },
    {
     "name": "stderr",
     "output_type": "stream",
     "text": [
      "INFO:mathsformer:                                                                                                  \n"
     ]
    },
    {
     "name": "stdout",
     "output_type": "stream",
     "text": [
      "   INFO <module>:  mathsformer_LLM_encoder_block_  (None, None, 128)   659712      ['mathsformer_LLM_encoder_emb_and\n"
     ]
    },
    {
     "name": "stderr",
     "output_type": "stream",
     "text": [
      "INFO:mathsformer: mathsformer_LLM_encoder_block_  (None, None, 128)   659712      ['mathsformer_LLM_encoder_emb_and\n"
     ]
    },
    {
     "name": "stdout",
     "output_type": "stream",
     "text": [
      "   INFO <module>:  1 (EncoderBlock)                                                _pos[0][0]',                     \n"
     ]
    },
    {
     "name": "stderr",
     "output_type": "stream",
     "text": [
      "INFO:mathsformer: 1 (EncoderBlock)                                                _pos[0][0]',                     \n"
     ]
    },
    {
     "name": "stdout",
     "output_type": "stream",
     "text": [
      "   INFO <module>:                                                                   'mathsformer_LLM_encoder_block_2\n"
     ]
    },
    {
     "name": "stderr",
     "output_type": "stream",
     "text": [
      "INFO:mathsformer:                                                                  'mathsformer_LLM_encoder_block_2\n"
     ]
    },
    {
     "name": "stdout",
     "output_type": "stream",
     "text": [
      "   INFO <module>:                                                                  [0][0]',                         \n"
     ]
    },
    {
     "name": "stderr",
     "output_type": "stream",
     "text": [
      "INFO:mathsformer:                                                                 [0][0]',                         \n"
     ]
    },
    {
     "name": "stdout",
     "output_type": "stream",
     "text": [
      "   INFO <module>:                                                                   'mathsformer_LLM_encoder_block_2\n"
     ]
    },
    {
     "name": "stderr",
     "output_type": "stream",
     "text": [
      "INFO:mathsformer:                                                                  'mathsformer_LLM_encoder_block_2\n"
     ]
    },
    {
     "name": "stdout",
     "output_type": "stream",
     "text": [
      "   INFO <module>:                                                                  [1][0]',                         \n"
     ]
    },
    {
     "name": "stderr",
     "output_type": "stream",
     "text": [
      "INFO:mathsformer:                                                                 [1][0]',                         \n"
     ]
    },
    {
     "name": "stdout",
     "output_type": "stream",
     "text": [
      "   INFO <module>:                                                                   'mathsformer_LLM_encoder_block_2\n"
     ]
    },
    {
     "name": "stderr",
     "output_type": "stream",
     "text": [
      "INFO:mathsformer:                                                                  'mathsformer_LLM_encoder_block_2\n"
     ]
    },
    {
     "name": "stdout",
     "output_type": "stream",
     "text": [
      "   INFO <module>:                                                                  [2][0]',                         \n"
     ]
    },
    {
     "name": "stderr",
     "output_type": "stream",
     "text": [
      "INFO:mathsformer:                                                                 [2][0]',                         \n"
     ]
    },
    {
     "name": "stdout",
     "output_type": "stream",
     "text": [
      "   INFO <module>:                                                                   'mathsformer_LLM_encoder_block_2\n"
     ]
    },
    {
     "name": "stderr",
     "output_type": "stream",
     "text": [
      "INFO:mathsformer:                                                                  'mathsformer_LLM_encoder_block_2\n"
     ]
    },
    {
     "name": "stdout",
     "output_type": "stream",
     "text": [
      "   INFO <module>:                                                                  [3][0]',                         \n"
     ]
    },
    {
     "name": "stderr",
     "output_type": "stream",
     "text": [
      "INFO:mathsformer:                                                                 [3][0]',                         \n"
     ]
    },
    {
     "name": "stdout",
     "output_type": "stream",
     "text": [
      "   INFO <module>:                                                                   'mathsformer_LLM_encoder_block_2\n"
     ]
    },
    {
     "name": "stderr",
     "output_type": "stream",
     "text": [
      "INFO:mathsformer:                                                                  'mathsformer_LLM_encoder_block_2\n"
     ]
    },
    {
     "name": "stdout",
     "output_type": "stream",
     "text": [
      "   INFO <module>:                                                                  [4][0]',                         \n"
     ]
    },
    {
     "name": "stderr",
     "output_type": "stream",
     "text": [
      "INFO:mathsformer:                                                                 [4][0]',                         \n"
     ]
    },
    {
     "name": "stdout",
     "output_type": "stream",
     "text": [
      "   INFO <module>:                                                                   'mathsformer_LLM_encoder_block_2\n"
     ]
    },
    {
     "name": "stderr",
     "output_type": "stream",
     "text": [
      "INFO:mathsformer:                                                                  'mathsformer_LLM_encoder_block_2\n"
     ]
    },
    {
     "name": "stdout",
     "output_type": "stream",
     "text": [
      "   INFO <module>:                                                                  [5][0]']                         \n"
     ]
    },
    {
     "name": "stderr",
     "output_type": "stream",
     "text": [
      "INFO:mathsformer:                                                                 [5][0]']                         \n"
     ]
    },
    {
     "name": "stdout",
     "output_type": "stream",
     "text": [
      "   INFO <module>:                                                                                                   \n"
     ]
    },
    {
     "name": "stderr",
     "output_type": "stream",
     "text": [
      "INFO:mathsformer:                                                                                                  \n"
     ]
    },
    {
     "name": "stdout",
     "output_type": "stream",
     "text": [
      "   INFO <module>:  mathsformer_LLM_encoder_block_  (None, None, 128)   659712      ['mathsformer_LLM_encoder_block_1\n"
     ]
    },
    {
     "name": "stderr",
     "output_type": "stream",
     "text": [
      "INFO:mathsformer: mathsformer_LLM_encoder_block_  (None, None, 128)   659712      ['mathsformer_LLM_encoder_block_1\n"
     ]
    },
    {
     "name": "stdout",
     "output_type": "stream",
     "text": [
      "   INFO <module>:  2 (EncoderBlock)                                                [0][0]',                         \n"
     ]
    },
    {
     "name": "stderr",
     "output_type": "stream",
     "text": [
      "INFO:mathsformer: 2 (EncoderBlock)                                                [0][0]',                         \n"
     ]
    },
    {
     "name": "stdout",
     "output_type": "stream",
     "text": [
      "   INFO <module>:                                                                   'mathsformer_LLM_encoder_block_1\n"
     ]
    },
    {
     "name": "stderr",
     "output_type": "stream",
     "text": [
      "INFO:mathsformer:                                                                  'mathsformer_LLM_encoder_block_1\n"
     ]
    },
    {
     "name": "stdout",
     "output_type": "stream",
     "text": [
      "   INFO <module>:                                                                  [1][0]',                         \n"
     ]
    },
    {
     "name": "stderr",
     "output_type": "stream",
     "text": [
      "INFO:mathsformer:                                                                 [1][0]',                         \n"
     ]
    },
    {
     "name": "stdout",
     "output_type": "stream",
     "text": [
      "   INFO <module>:                                                                   'mathsformer_LLM_encoder_block_1\n"
     ]
    },
    {
     "name": "stderr",
     "output_type": "stream",
     "text": [
      "INFO:mathsformer:                                                                  'mathsformer_LLM_encoder_block_1\n"
     ]
    },
    {
     "name": "stdout",
     "output_type": "stream",
     "text": [
      "   INFO <module>:                                                                  [2][0]',                         \n"
     ]
    },
    {
     "name": "stderr",
     "output_type": "stream",
     "text": [
      "INFO:mathsformer:                                                                 [2][0]',                         \n"
     ]
    },
    {
     "name": "stdout",
     "output_type": "stream",
     "text": [
      "   INFO <module>:                                                                   'mathsformer_LLM_encoder_block_1\n"
     ]
    },
    {
     "name": "stderr",
     "output_type": "stream",
     "text": [
      "INFO:mathsformer:                                                                  'mathsformer_LLM_encoder_block_1\n"
     ]
    },
    {
     "name": "stdout",
     "output_type": "stream",
     "text": [
      "   INFO <module>:                                                                  [3][0]',                         \n"
     ]
    },
    {
     "name": "stderr",
     "output_type": "stream",
     "text": [
      "INFO:mathsformer:                                                                 [3][0]',                         \n"
     ]
    },
    {
     "name": "stdout",
     "output_type": "stream",
     "text": [
      "   INFO <module>:                                                                   'mathsformer_LLM_encoder_block_1\n"
     ]
    },
    {
     "name": "stderr",
     "output_type": "stream",
     "text": [
      "INFO:mathsformer:                                                                  'mathsformer_LLM_encoder_block_1\n"
     ]
    },
    {
     "name": "stdout",
     "output_type": "stream",
     "text": [
      "   INFO <module>:                                                                  [4][0]',                         \n"
     ]
    },
    {
     "name": "stderr",
     "output_type": "stream",
     "text": [
      "INFO:mathsformer:                                                                 [4][0]',                         \n"
     ]
    },
    {
     "name": "stdout",
     "output_type": "stream",
     "text": [
      "   INFO <module>:                                                                   'mathsformer_LLM_encoder_block_1\n"
     ]
    },
    {
     "name": "stderr",
     "output_type": "stream",
     "text": [
      "INFO:mathsformer:                                                                  'mathsformer_LLM_encoder_block_1\n"
     ]
    },
    {
     "name": "stdout",
     "output_type": "stream",
     "text": [
      "   INFO <module>:                                                                  [5][0]',                         \n"
     ]
    },
    {
     "name": "stderr",
     "output_type": "stream",
     "text": [
      "INFO:mathsformer:                                                                 [5][0]',                         \n"
     ]
    },
    {
     "name": "stdout",
     "output_type": "stream",
     "text": [
      "   INFO <module>:                                                                   'mathsformer_LLM_encoder_block_1\n"
     ]
    },
    {
     "name": "stderr",
     "output_type": "stream",
     "text": [
      "INFO:mathsformer:                                                                  'mathsformer_LLM_encoder_block_1\n"
     ]
    },
    {
     "name": "stdout",
     "output_type": "stream",
     "text": [
      "   INFO <module>:                                                                  [6][0]']                         \n"
     ]
    },
    {
     "name": "stderr",
     "output_type": "stream",
     "text": [
      "INFO:mathsformer:                                                                 [6][0]']                         \n"
     ]
    },
    {
     "name": "stdout",
     "output_type": "stream",
     "text": [
      "   INFO <module>:                                                                                                   \n"
     ]
    },
    {
     "name": "stderr",
     "output_type": "stream",
     "text": [
      "INFO:mathsformer:                                                                                                  \n"
     ]
    },
    {
     "name": "stdout",
     "output_type": "stream",
     "text": [
      "   INFO <module>:  mathsformer_LLM_decoder_input_  [(None, None)]      0           []                               \n"
     ]
    },
    {
     "name": "stderr",
     "output_type": "stream",
     "text": [
      "INFO:mathsformer: mathsformer_LLM_decoder_input_  [(None, None)]      0           []                               \n"
     ]
    },
    {
     "name": "stdout",
     "output_type": "stream",
     "text": [
      "   INFO <module>:  layer (InputLayer)                                                                               \n"
     ]
    },
    {
     "name": "stderr",
     "output_type": "stream",
     "text": [
      "INFO:mathsformer: layer (InputLayer)                                                                               \n"
     ]
    },
    {
     "name": "stdout",
     "output_type": "stream",
     "text": [
      "   INFO <module>:                                                                                                   \n"
     ]
    },
    {
     "name": "stderr",
     "output_type": "stream",
     "text": [
      "INFO:mathsformer:                                                                                                  \n"
     ]
    },
    {
     "name": "stdout",
     "output_type": "stream",
     "text": [
      "   INFO <module>:  mathsformer_LLM_decoder_enumer  (None, None)        0           ['mathsformer_LLM_decoder_input_l\n"
     ]
    },
    {
     "name": "stderr",
     "output_type": "stream",
     "text": [
      "INFO:mathsformer: mathsformer_LLM_decoder_enumer  (None, None)        0           ['mathsformer_LLM_decoder_input_l\n"
     ]
    },
    {
     "name": "stdout",
     "output_type": "stream",
     "text": [
      "   INFO <module>:  ate (Enumerate)                                                 ayer[0][0]']                     \n"
     ]
    },
    {
     "name": "stderr",
     "output_type": "stream",
     "text": [
      "INFO:mathsformer: ate (Enumerate)                                                 ayer[0][0]']                     \n"
     ]
    },
    {
     "name": "stdout",
     "output_type": "stream",
     "text": [
      "   INFO <module>:                                                                                                   \n"
     ]
    },
    {
     "name": "stderr",
     "output_type": "stream",
     "text": [
      "INFO:mathsformer:                                                                                                  \n"
     ]
    },
    {
     "name": "stdout",
     "output_type": "stream",
     "text": [
      "   INFO <module>:  mathsformer_LLM_decoder_embedd  (None, None, 128)   2048        ['mathsformer_LLM_decoder_input_l\n"
     ]
    },
    {
     "name": "stderr",
     "output_type": "stream",
     "text": [
      "INFO:mathsformer: mathsformer_LLM_decoder_embedd  (None, None, 128)   2048        ['mathsformer_LLM_decoder_input_l\n"
     ]
    },
    {
     "name": "stdout",
     "output_type": "stream",
     "text": [
      "   INFO <module>:  ing (Embedding)                                                 ayer[0][0]']                     \n"
     ]
    },
    {
     "name": "stderr",
     "output_type": "stream",
     "text": [
      "INFO:mathsformer: ing (Embedding)                                                 ayer[0][0]']                     \n"
     ]
    },
    {
     "name": "stdout",
     "output_type": "stream",
     "text": [
      "   INFO <module>:                                                                                                   \n"
     ]
    },
    {
     "name": "stderr",
     "output_type": "stream",
     "text": [
      "INFO:mathsformer:                                                                                                  \n"
     ]
    },
    {
     "name": "stdout",
     "output_type": "stream",
     "text": [
      "   INFO <module>:  mathsformer_LLM_decoder_positi  (None, None, 128)   64          ['mathsformer_LLM_decoder_enumera\n"
     ]
    },
    {
     "name": "stderr",
     "output_type": "stream",
     "text": [
      "INFO:mathsformer: mathsformer_LLM_decoder_positi  (None, None, 128)   64          ['mathsformer_LLM_decoder_enumera\n"
     ]
    },
    {
     "name": "stdout",
     "output_type": "stream",
     "text": [
      "   INFO <module>:  on_encoding (PositionalEncodin                                  te[0][0]']                       \n"
     ]
    },
    {
     "name": "stderr",
     "output_type": "stream",
     "text": [
      "INFO:mathsformer: on_encoding (PositionalEncodin                                  te[0][0]']                       \n"
     ]
    },
    {
     "name": "stdout",
     "output_type": "stream",
     "text": [
      "   INFO <module>:  g)                                                                                               \n"
     ]
    },
    {
     "name": "stderr",
     "output_type": "stream",
     "text": [
      "INFO:mathsformer: g)                                                                                               \n"
     ]
    },
    {
     "name": "stdout",
     "output_type": "stream",
     "text": [
      "   INFO <module>:                                                                                                   \n"
     ]
    },
    {
     "name": "stderr",
     "output_type": "stream",
     "text": [
      "INFO:mathsformer:                                                                                                  \n"
     ]
    },
    {
     "name": "stdout",
     "output_type": "stream",
     "text": [
      "   INFO <module>:  mathsformer_LLM_decoder_emb_an  (None, None, 128)   0           ['mathsformer_LLM_decoder_embeddi\n"
     ]
    },
    {
     "name": "stderr",
     "output_type": "stream",
     "text": [
      "INFO:mathsformer: mathsformer_LLM_decoder_emb_an  (None, None, 128)   0           ['mathsformer_LLM_decoder_embeddi\n"
     ]
    },
    {
     "name": "stdout",
     "output_type": "stream",
     "text": [
      "   INFO <module>:  d_pos (Average)                                                 ng[0][0]',                       \n"
     ]
    },
    {
     "name": "stderr",
     "output_type": "stream",
     "text": [
      "INFO:mathsformer: d_pos (Average)                                                 ng[0][0]',                       \n"
     ]
    },
    {
     "name": "stdout",
     "output_type": "stream",
     "text": [
      "   INFO <module>:                                                                   'mathsformer_LLM_decoder_positio\n"
     ]
    },
    {
     "name": "stderr",
     "output_type": "stream",
     "text": [
      "INFO:mathsformer:                                                                  'mathsformer_LLM_decoder_positio\n"
     ]
    },
    {
     "name": "stdout",
     "output_type": "stream",
     "text": [
      "   INFO <module>:                                                                  n_encoding[0][0]']               \n"
     ]
    },
    {
     "name": "stderr",
     "output_type": "stream",
     "text": [
      "INFO:mathsformer:                                                                 n_encoding[0][0]']               \n"
     ]
    },
    {
     "name": "stdout",
     "output_type": "stream",
     "text": [
      "   INFO <module>:                                                                                                   \n"
     ]
    },
    {
     "name": "stderr",
     "output_type": "stream",
     "text": [
      "INFO:mathsformer:                                                                                                  \n"
     ]
    },
    {
     "name": "stdout",
     "output_type": "stream",
     "text": [
      "   INFO <module>:  mathsformer_LLM_encoder_output  (None, None, 128)   256         ['mathsformer_LLM_encoder_block_2\n"
     ]
    },
    {
     "name": "stderr",
     "output_type": "stream",
     "text": [
      "INFO:mathsformer: mathsformer_LLM_encoder_output  (None, None, 128)   256         ['mathsformer_LLM_encoder_block_2\n"
     ]
    },
    {
     "name": "stdout",
     "output_type": "stream",
     "text": [
      "   INFO <module>:  _norm (LayerNormalization)                                      [4][0]']                         \n"
     ]
    },
    {
     "name": "stderr",
     "output_type": "stream",
     "text": [
      "INFO:mathsformer: _norm (LayerNormalization)                                      [4][0]']                         \n"
     ]
    },
    {
     "name": "stdout",
     "output_type": "stream",
     "text": [
      "   INFO <module>:                                                                                                   \n"
     ]
    },
    {
     "name": "stderr",
     "output_type": "stream",
     "text": [
      "INFO:mathsformer:                                                                                                  \n"
     ]
    },
    {
     "name": "stdout",
     "output_type": "stream",
     "text": [
      "   INFO <module>:  mathsformer_LLM_encoder_output  (None, None, 128)   256         ['mathsformer_LLM_encoder_block_2\n"
     ]
    },
    {
     "name": "stderr",
     "output_type": "stream",
     "text": [
      "INFO:mathsformer: mathsformer_LLM_encoder_output  (None, None, 128)   256         ['mathsformer_LLM_encoder_block_2\n"
     ]
    },
    {
     "name": "stdout",
     "output_type": "stream",
     "text": [
      "   INFO <module>:  _norm_idem0 (LayerNormalizatio                                  [5][0]']                         \n"
     ]
    },
    {
     "name": "stderr",
     "output_type": "stream",
     "text": [
      "INFO:mathsformer: _norm_idem0 (LayerNormalizatio                                  [5][0]']                         \n"
     ]
    },
    {
     "name": "stdout",
     "output_type": "stream",
     "text": [
      "   INFO <module>:  n)                                                                                               \n"
     ]
    },
    {
     "name": "stderr",
     "output_type": "stream",
     "text": [
      "INFO:mathsformer: n)                                                                                               \n"
     ]
    },
    {
     "name": "stdout",
     "output_type": "stream",
     "text": [
      "   INFO <module>:                                                                                                   \n"
     ]
    },
    {
     "name": "stderr",
     "output_type": "stream",
     "text": [
      "INFO:mathsformer:                                                                                                  \n"
     ]
    },
    {
     "name": "stdout",
     "output_type": "stream",
     "text": [
      "   INFO <module>:  mathsformer_LLM_encoder_output  (None, None, 128)   256         ['mathsformer_LLM_encoder_block_2\n"
     ]
    },
    {
     "name": "stderr",
     "output_type": "stream",
     "text": [
      "INFO:mathsformer: mathsformer_LLM_encoder_output  (None, None, 128)   256         ['mathsformer_LLM_encoder_block_2\n"
     ]
    },
    {
     "name": "stdout",
     "output_type": "stream",
     "text": [
      "   INFO <module>:  _norm_idem1 (LayerNormalizatio                                  [6][0]']                         \n"
     ]
    },
    {
     "name": "stderr",
     "output_type": "stream",
     "text": [
      "INFO:mathsformer: _norm_idem1 (LayerNormalizatio                                  [6][0]']                         \n"
     ]
    },
    {
     "name": "stdout",
     "output_type": "stream",
     "text": [
      "   INFO <module>:  n)                                                                                               \n"
     ]
    },
    {
     "name": "stderr",
     "output_type": "stream",
     "text": [
      "INFO:mathsformer: n)                                                                                               \n"
     ]
    },
    {
     "name": "stdout",
     "output_type": "stream",
     "text": [
      "   INFO <module>:                                                                                                   \n"
     ]
    },
    {
     "name": "stderr",
     "output_type": "stream",
     "text": [
      "INFO:mathsformer:                                                                                                  \n"
     ]
    },
    {
     "name": "stdout",
     "output_type": "stream",
     "text": [
      "   INFO <module>:  mathsformer_LLM_decoder_block_  (None, None, 128)   1187456     ['mathsformer_LLM_decoder_emb_and\n"
     ]
    },
    {
     "name": "stderr",
     "output_type": "stream",
     "text": [
      "INFO:mathsformer: mathsformer_LLM_decoder_block_  (None, None, 128)   1187456     ['mathsformer_LLM_decoder_emb_and\n"
     ]
    },
    {
     "name": "stdout",
     "output_type": "stream",
     "text": [
      "   INFO <module>:  1 (DecoderBlock)                                                _pos[0][0]',                     \n"
     ]
    },
    {
     "name": "stderr",
     "output_type": "stream",
     "text": [
      "INFO:mathsformer: 1 (DecoderBlock)                                                _pos[0][0]',                     \n"
     ]
    },
    {
     "name": "stdout",
     "output_type": "stream",
     "text": [
      "   INFO <module>:                                                                   'mathsformer_LLM_encoder_output_\n"
     ]
    },
    {
     "name": "stderr",
     "output_type": "stream",
     "text": [
      "INFO:mathsformer:                                                                  'mathsformer_LLM_encoder_output_\n"
     ]
    },
    {
     "name": "stdout",
     "output_type": "stream",
     "text": [
      "   INFO <module>:                                                                  norm[0][0]',                     \n"
     ]
    },
    {
     "name": "stderr",
     "output_type": "stream",
     "text": [
      "INFO:mathsformer:                                                                 norm[0][0]',                     \n"
     ]
    },
    {
     "name": "stdout",
     "output_type": "stream",
     "text": [
      "   INFO <module>:                                                                   'mathsformer_LLM_decoder_emb_and\n"
     ]
    },
    {
     "name": "stderr",
     "output_type": "stream",
     "text": [
      "INFO:mathsformer:                                                                  'mathsformer_LLM_decoder_emb_and\n"
     ]
    },
    {
     "name": "stdout",
     "output_type": "stream",
     "text": [
      "   INFO <module>:                                                                  _pos[0][0]',                     \n"
     ]
    },
    {
     "name": "stderr",
     "output_type": "stream",
     "text": [
      "INFO:mathsformer:                                                                 _pos[0][0]',                     \n"
     ]
    },
    {
     "name": "stdout",
     "output_type": "stream",
     "text": [
      "   INFO <module>:                                                                   'mathsformer_LLM_encoder_output_\n"
     ]
    },
    {
     "name": "stderr",
     "output_type": "stream",
     "text": [
      "INFO:mathsformer:                                                                  'mathsformer_LLM_encoder_output_\n"
     ]
    },
    {
     "name": "stdout",
     "output_type": "stream",
     "text": [
      "   INFO <module>:                                                                  norm_idem0[0][0]',               \n"
     ]
    },
    {
     "name": "stderr",
     "output_type": "stream",
     "text": [
      "INFO:mathsformer:                                                                 norm_idem0[0][0]',               \n"
     ]
    },
    {
     "name": "stdout",
     "output_type": "stream",
     "text": [
      "   INFO <module>:                                                                   'mathsformer_LLM_decoder_emb_and\n"
     ]
    },
    {
     "name": "stderr",
     "output_type": "stream",
     "text": [
      "INFO:mathsformer:                                                                  'mathsformer_LLM_decoder_emb_and\n"
     ]
    },
    {
     "name": "stdout",
     "output_type": "stream",
     "text": [
      "   INFO <module>:                                                                  _pos[0][0]',                     \n"
     ]
    },
    {
     "name": "stderr",
     "output_type": "stream",
     "text": [
      "INFO:mathsformer:                                                                 _pos[0][0]',                     \n"
     ]
    },
    {
     "name": "stdout",
     "output_type": "stream",
     "text": [
      "   INFO <module>:                                                                   'mathsformer_LLM_encoder_output_\n"
     ]
    },
    {
     "name": "stderr",
     "output_type": "stream",
     "text": [
      "INFO:mathsformer:                                                                  'mathsformer_LLM_encoder_output_\n"
     ]
    },
    {
     "name": "stdout",
     "output_type": "stream",
     "text": [
      "   INFO <module>:                                                                  norm_idem1[0][0]']               \n"
     ]
    },
    {
     "name": "stderr",
     "output_type": "stream",
     "text": [
      "INFO:mathsformer:                                                                 norm_idem1[0][0]']               \n"
     ]
    },
    {
     "name": "stdout",
     "output_type": "stream",
     "text": [
      "   INFO <module>:                                                                                                   \n"
     ]
    },
    {
     "name": "stderr",
     "output_type": "stream",
     "text": [
      "INFO:mathsformer:                                                                                                  \n"
     ]
    },
    {
     "name": "stdout",
     "output_type": "stream",
     "text": [
      "   INFO <module>:  mathsformer_LLM_decoder_block_  (None, None, 128)   1187456     ['mathsformer_LLM_decoder_block_1\n"
     ]
    },
    {
     "name": "stderr",
     "output_type": "stream",
     "text": [
      "INFO:mathsformer: mathsformer_LLM_decoder_block_  (None, None, 128)   1187456     ['mathsformer_LLM_decoder_block_1\n"
     ]
    },
    {
     "name": "stdout",
     "output_type": "stream",
     "text": [
      "   INFO <module>:  2 (DecoderBlock)                                                [0][0]',                         \n"
     ]
    },
    {
     "name": "stderr",
     "output_type": "stream",
     "text": [
      "INFO:mathsformer: 2 (DecoderBlock)                                                [0][0]',                         \n"
     ]
    },
    {
     "name": "stdout",
     "output_type": "stream",
     "text": [
      "   INFO <module>:                                                                   'mathsformer_LLM_encoder_output_\n"
     ]
    },
    {
     "name": "stderr",
     "output_type": "stream",
     "text": [
      "INFO:mathsformer:                                                                  'mathsformer_LLM_encoder_output_\n"
     ]
    },
    {
     "name": "stdout",
     "output_type": "stream",
     "text": [
      "   INFO <module>:                                                                  norm[0][0]',                     \n"
     ]
    },
    {
     "name": "stderr",
     "output_type": "stream",
     "text": [
      "INFO:mathsformer:                                                                 norm[0][0]',                     \n"
     ]
    },
    {
     "name": "stdout",
     "output_type": "stream",
     "text": [
      "   INFO <module>:                                                                   'mathsformer_LLM_decoder_block_1\n"
     ]
    },
    {
     "name": "stderr",
     "output_type": "stream",
     "text": [
      "INFO:mathsformer:                                                                  'mathsformer_LLM_decoder_block_1\n"
     ]
    },
    {
     "name": "stdout",
     "output_type": "stream",
     "text": [
      "   INFO <module>:                                                                  [1][0]',                         \n"
     ]
    },
    {
     "name": "stderr",
     "output_type": "stream",
     "text": [
      "INFO:mathsformer:                                                                 [1][0]',                         \n"
     ]
    },
    {
     "name": "stdout",
     "output_type": "stream",
     "text": [
      "   INFO <module>:                                                                   'mathsformer_LLM_encoder_output_\n"
     ]
    },
    {
     "name": "stderr",
     "output_type": "stream",
     "text": [
      "INFO:mathsformer:                                                                  'mathsformer_LLM_encoder_output_\n"
     ]
    },
    {
     "name": "stdout",
     "output_type": "stream",
     "text": [
      "   INFO <module>:                                                                  norm_idem0[0][0]',               \n"
     ]
    },
    {
     "name": "stderr",
     "output_type": "stream",
     "text": [
      "INFO:mathsformer:                                                                 norm_idem0[0][0]',               \n"
     ]
    },
    {
     "name": "stdout",
     "output_type": "stream",
     "text": [
      "   INFO <module>:                                                                   'mathsformer_LLM_decoder_block_1\n"
     ]
    },
    {
     "name": "stderr",
     "output_type": "stream",
     "text": [
      "INFO:mathsformer:                                                                  'mathsformer_LLM_decoder_block_1\n"
     ]
    },
    {
     "name": "stdout",
     "output_type": "stream",
     "text": [
      "   INFO <module>:                                                                  [2][0]',                         \n"
     ]
    },
    {
     "name": "stderr",
     "output_type": "stream",
     "text": [
      "INFO:mathsformer:                                                                 [2][0]',                         \n"
     ]
    },
    {
     "name": "stdout",
     "output_type": "stream",
     "text": [
      "   INFO <module>:                                                                   'mathsformer_LLM_encoder_output_\n"
     ]
    },
    {
     "name": "stderr",
     "output_type": "stream",
     "text": [
      "INFO:mathsformer:                                                                  'mathsformer_LLM_encoder_output_\n"
     ]
    },
    {
     "name": "stdout",
     "output_type": "stream",
     "text": [
      "   INFO <module>:                                                                  norm_idem1[0][0]']               \n"
     ]
    },
    {
     "name": "stderr",
     "output_type": "stream",
     "text": [
      "INFO:mathsformer:                                                                 norm_idem1[0][0]']               \n"
     ]
    },
    {
     "name": "stdout",
     "output_type": "stream",
     "text": [
      "   INFO <module>:                                                                                                   \n"
     ]
    },
    {
     "name": "stderr",
     "output_type": "stream",
     "text": [
      "INFO:mathsformer:                                                                                                  \n"
     ]
    },
    {
     "name": "stdout",
     "output_type": "stream",
     "text": [
      "   INFO <module>:  mathsformer_LLM_output (FeedFo  (None, None, 16)    599824      ['mathsformer_LLM_decoder_block_2\n"
     ]
    },
    {
     "name": "stderr",
     "output_type": "stream",
     "text": [
      "INFO:mathsformer: mathsformer_LLM_output (FeedFo  (None, None, 16)    599824      ['mathsformer_LLM_decoder_block_2\n"
     ]
    },
    {
     "name": "stdout",
     "output_type": "stream",
     "text": [
      "   INFO <module>:  rwardBlock)                                                     [0][0]',                         \n"
     ]
    },
    {
     "name": "stderr",
     "output_type": "stream",
     "text": [
      "INFO:mathsformer: rwardBlock)                                                     [0][0]',                         \n"
     ]
    },
    {
     "name": "stdout",
     "output_type": "stream",
     "text": [
      "   INFO <module>:                                                                   'mathsformer_LLM_decoder_block_2\n"
     ]
    },
    {
     "name": "stderr",
     "output_type": "stream",
     "text": [
      "INFO:mathsformer:                                                                  'mathsformer_LLM_decoder_block_2\n"
     ]
    },
    {
     "name": "stdout",
     "output_type": "stream",
     "text": [
      "   INFO <module>:                                                                  [1][0]',                         \n"
     ]
    },
    {
     "name": "stderr",
     "output_type": "stream",
     "text": [
      "INFO:mathsformer:                                                                 [1][0]',                         \n"
     ]
    },
    {
     "name": "stdout",
     "output_type": "stream",
     "text": [
      "   INFO <module>:                                                                   'mathsformer_LLM_decoder_block_2\n"
     ]
    },
    {
     "name": "stderr",
     "output_type": "stream",
     "text": [
      "INFO:mathsformer:                                                                  'mathsformer_LLM_decoder_block_2\n"
     ]
    },
    {
     "name": "stdout",
     "output_type": "stream",
     "text": [
      "   INFO <module>:                                                                  [2][0]']                         \n"
     ]
    },
    {
     "name": "stderr",
     "output_type": "stream",
     "text": [
      "INFO:mathsformer:                                                                 [2][0]']                         \n"
     ]
    },
    {
     "name": "stdout",
     "output_type": "stream",
     "text": [
      "   INFO <module>:                                                                                                   \n"
     ]
    },
    {
     "name": "stderr",
     "output_type": "stream",
     "text": [
      "INFO:mathsformer:                                                                                                  \n"
     ]
    },
    {
     "name": "stdout",
     "output_type": "stream",
     "text": [
      "   INFO <module>: ==================================================================================================\n"
     ]
    },
    {
     "name": "stderr",
     "output_type": "stream",
     "text": [
      "INFO:mathsformer:==================================================================================================\n"
     ]
    },
    {
     "name": "stdout",
     "output_type": "stream",
     "text": [
      "   INFO <module>: Total params: 4,299,152\n"
     ]
    },
    {
     "name": "stderr",
     "output_type": "stream",
     "text": [
      "INFO:mathsformer:Total params: 4,299,152\n"
     ]
    },
    {
     "name": "stdout",
     "output_type": "stream",
     "text": [
      "   INFO <module>: Trainable params: 4,299,152\n"
     ]
    },
    {
     "name": "stderr",
     "output_type": "stream",
     "text": [
      "INFO:mathsformer:Trainable params: 4,299,152\n"
     ]
    },
    {
     "name": "stdout",
     "output_type": "stream",
     "text": [
      "   INFO <module>: Non-trainable params: 0\n"
     ]
    },
    {
     "name": "stderr",
     "output_type": "stream",
     "text": [
      "INFO:mathsformer:Non-trainable params: 0\n"
     ]
    },
    {
     "name": "stdout",
     "output_type": "stream",
     "text": [
      "   INFO <module>: __________________________________________________________________________________________________\n"
     ]
    },
    {
     "name": "stderr",
     "output_type": "stream",
     "text": [
      "INFO:mathsformer:__________________________________________________________________________________________________\n"
     ]
    },
    {
     "name": "stdout",
     "output_type": "stream",
     "text": [
      "   INFO <module>: Optimizer is <keras.optimizers.adamw.AdamW object at 0x288484550>\n"
     ]
    },
    {
     "name": "stderr",
     "output_type": "stream",
     "text": [
      "INFO:mathsformer:Optimizer is <keras.optimizers.adamw.AdamW object at 0x288484550>\n"
     ]
    },
    {
     "name": "stdout",
     "output_type": "stream",
     "text": [
      "   INFO <module>: Learning rate is <tf.Variable 'learning_rate:0' shape=() dtype=float32, numpy=1e-04>\n"
     ]
    },
    {
     "name": "stderr",
     "output_type": "stream",
     "text": [
      "INFO:mathsformer:Learning rate is <tf.Variable 'learning_rate:0' shape=() dtype=float32, numpy=1e-04>\n"
     ]
    },
    {
     "name": "stdout",
     "output_type": "stream",
     "text": [
      "   INFO <module>: Weight decay is 0.02\n"
     ]
    },
    {
     "name": "stderr",
     "output_type": "stream",
     "text": [
      "INFO:mathsformer:Weight decay is 0.02\n"
     ]
    }
   ],
   "source": [
    "##===================================================##\n",
    "##   Load or create self-supervised learning model   ##\n",
    "##===================================================##\n",
    "\n",
    "##  Get filename for load model\n",
    "fname = cfg_model.get(\"load_pretrained_model\", None)\n",
    "\n",
    "##  Load model if fname is not None, otherwise create from scratch\n",
    "if fname is not None :\n",
    "    logger.info   (f\"Loading model from: {fname}\")\n",
    "    logger.warning(\"Loading a pretrained model will disregard model config!\")\n",
    "    model = backend.load_text_to_text_model(fname)\n",
    "    model.optimizer.learning_rate.assign(cfg_model[\"optimizer_args\"][\"learning_rate\"])  ## Reset LR to config value\n",
    "else :\n",
    "    logger.info(f\"Creating new text-to-text model\")\n",
    "    model = create_text_to_text_model_from_config(cfg_model, token_transform)\n",
    "\n",
    "##  Create hack to catch model summary\n",
    "model_summary = []\n",
    "model.summary(print_fn = lambda s : model_summary.append(s))\n",
    "\n",
    "##  Print model summary\n",
    "logger.info(\"Model created with summary:\")\n",
    "for s in model_summary : logger.info(s)\n",
    "    \n",
    "##  Print optimizer summary\n",
    "logger.info(f\"Optimizer is {model.optimizer}\")\n",
    "if hasattr(model.optimizer, \"learning_rate\") : logger.info(f\"Learning rate is {model.optimizer.learning_rate}\")\n",
    "if hasattr(model.optimizer, \"weight_decay\" ) : logger.info(f\"Weight decay is {model.optimizer.weight_decay}\")\n"
   ]
  },
  {
   "cell_type": "code",
   "execution_count": 12,
   "id": "793493a0",
   "metadata": {},
   "outputs": [],
   "source": [
    "##==============================================================##\n",
    "##   Create transformer wrapper for model and token_transform   ##\n",
    "##==============================================================##\n",
    "\n",
    "transformer = transformers.Transformer_Text_to_Text(model, token_transform)\n"
   ]
  },
  {
   "cell_type": "code",
   "execution_count": 13,
   "id": "956e30a6",
   "metadata": {
    "scrolled": true
   },
   "outputs": [
    {
     "name": "stdout",
     "output_type": "stream",
     "text": [
      "   INFO test_transformer: Running text --> text mathsformer inference on some training data:\n"
     ]
    },
    {
     "name": "stderr",
     "output_type": "stream",
     "text": [
      "INFO:mathsformer.selfsupervised_learning_addition_model_backend:Running text --> text mathsformer inference on some training data:\n"
     ]
    },
    {
     "name": "stdout",
     "output_type": "stream",
     "text": [
      "   INFO print_predictions_table: ----------------------------------------------------------------------------------------\n"
     ]
    },
    {
     "name": "stderr",
     "output_type": "stream",
     "text": [
      "INFO:mathsformer.selfsupervised_learning_addition_model_backend:----------------------------------------------------------------------------------------\n"
     ]
    },
    {
     "name": "stdout",
     "output_type": "stream",
     "text": [
      "   INFO print_predictions_table:                 INPUT         TRUE   PRED(MASK)      PRED(GEN)      CORRECT     RESIDUAL\n"
     ]
    },
    {
     "name": "stderr",
     "output_type": "stream",
     "text": [
      "INFO:mathsformer.selfsupervised_learning_addition_model_backend:                INPUT         TRUE   PRED(MASK)      PRED(GEN)      CORRECT     RESIDUAL\n"
     ]
    },
    {
     "name": "stdout",
     "output_type": "stream",
     "text": [
      "   INFO print_predictions_table: ----------------------------------------------------------------------------------------\n"
     ]
    },
    {
     "name": "stderr",
     "output_type": "stream",
     "text": [
      "INFO:mathsformer.selfsupervised_learning_addition_model_backend:----------------------------------------------------------------------------------------\n"
     ]
    },
    {
     "name": "stdout",
     "output_type": "stream",
     "text": [
      "   INFO print_predictions_table:  N7724-8+N615-687-678        N9712      N--3333 N--333333333++                      ?   \n"
     ]
    },
    {
     "name": "stderr",
     "output_type": "stream",
     "text": [
      "INFO:mathsformer.selfsupervised_learning_addition_model_backend: N7724-8+N615-687-678        N9712      N--3333 N--333333333++                      ?   \n"
     ]
    },
    {
     "name": "stdout",
     "output_type": "stream",
     "text": [
      "   INFO print_predictions_table:            N557+N3170        N3727      N-33333 N--333333333++                      ?   \n"
     ]
    },
    {
     "name": "stderr",
     "output_type": "stream",
     "text": [
      "INFO:mathsformer.selfsupervised_learning_addition_model_backend:           N557+N3170        N3727      N-33333 N--333333333++                      ?   \n"
     ]
    },
    {
     "name": "stdout",
     "output_type": "stream",
     "text": [
      "   INFO print_predictions_table:                     7            7      3--3333 3--33333333M++                      ?   \n"
     ]
    },
    {
     "name": "stderr",
     "output_type": "stream",
     "text": [
      "INFO:mathsformer.selfsupervised_learning_addition_model_backend:                    7            7      3--3333 3--33333333M++                      ?   \n"
     ]
    },
    {
     "name": "stdout",
     "output_type": "stream",
     "text": [
      "   INFO print_predictions_table:      N3+6+9469+N9+475         9938      N--3333 N--333333333++                      ?   \n"
     ]
    },
    {
     "name": "stderr",
     "output_type": "stream",
     "text": [
      "INFO:mathsformer.selfsupervised_learning_addition_model_backend:     N3+6+9469+N9+475         9938      N--3333 N--333333333++                      ?   \n"
     ]
    },
    {
     "name": "stdout",
     "output_type": "stream",
     "text": [
      "   INFO print_predictions_table:                 N7403        N7403      3--3333 3--333333333++                      ?   \n"
     ]
    },
    {
     "name": "stderr",
     "output_type": "stream",
     "text": [
      "INFO:mathsformer.selfsupervised_learning_addition_model_backend:                N7403        N7403      3--3333 3--333333333++                      ?   \n"
     ]
    },
    {
     "name": "stdout",
     "output_type": "stream",
     "text": [
      "   INFO print_predictions_table:   N2336-N15-700+N6219        N9240      N--3333 N--333333333++                      ?   \n"
     ]
    },
    {
     "name": "stderr",
     "output_type": "stream",
     "text": [
      "INFO:mathsformer.selfsupervised_learning_addition_model_backend:  N2336-N15-700+N6219        N9240      N--3333 N--333333333++                      ?   \n"
     ]
    },
    {
     "name": "stdout",
     "output_type": "stream",
     "text": [
      "   INFO print_predictions_table:   629+N815+308+N2-763         N643      N--3333 N--333333333++                      ?   \n"
     ]
    },
    {
     "name": "stderr",
     "output_type": "stream",
     "text": [
      "INFO:mathsformer.selfsupervised_learning_addition_model_backend:  629+N815+308+N2-763         N643      N--3333 N--333333333++                      ?   \n"
     ]
    },
    {
     "name": "stdout",
     "output_type": "stream",
     "text": [
      "   INFO print_predictions_table:         9+34-N65+N223         N115      N--3333 N--333333333++                      ?   \n"
     ]
    },
    {
     "name": "stderr",
     "output_type": "stream",
     "text": [
      "INFO:mathsformer.selfsupervised_learning_addition_model_backend:        9+34-N65+N223         N115      N--3333 N--333333333++                      ?   \n"
     ]
    },
    {
     "name": "stdout",
     "output_type": "stream",
     "text": [
      "   INFO print_predictions_table:   N3517-6312+N4-N2561        N7272      N--3333 N--333333333++                      ?   \n"
     ]
    },
    {
     "name": "stderr",
     "output_type": "stream",
     "text": [
      "INFO:mathsformer.selfsupervised_learning_addition_model_backend:  N3517-6312+N4-N2561        N7272      N--3333 N--333333333++                      ?   \n"
     ]
    },
    {
     "name": "stdout",
     "output_type": "stream",
     "text": [
      "   INFO print_predictions_table:           4-N2+6413+7         6426      N-33333 N--333333333++                      ?   \n"
     ]
    },
    {
     "name": "stderr",
     "output_type": "stream",
     "text": [
      "INFO:mathsformer.selfsupervised_learning_addition_model_backend:          4-N2+6413+7         6426      N-33333 N--333333333++                      ?   \n"
     ]
    },
    {
     "name": "stdout",
     "output_type": "stream",
     "text": [
      "   INFO test_transformer: Running text --> text mathsformer inference on some validation data:\n"
     ]
    },
    {
     "name": "stderr",
     "output_type": "stream",
     "text": [
      "INFO:mathsformer.selfsupervised_learning_addition_model_backend:Running text --> text mathsformer inference on some validation data:\n"
     ]
    },
    {
     "name": "stdout",
     "output_type": "stream",
     "text": [
      "   INFO print_predictions_table: ----------------------------------------------------------------------------------\n"
     ]
    },
    {
     "name": "stderr",
     "output_type": "stream",
     "text": [
      "INFO:mathsformer.selfsupervised_learning_addition_model_backend:----------------------------------------------------------------------------------\n"
     ]
    },
    {
     "name": "stdout",
     "output_type": "stream",
     "text": [
      "   INFO print_predictions_table:           INPUT         TRUE   PRED(MASK)      PRED(GEN)      CORRECT     RESIDUAL\n"
     ]
    },
    {
     "name": "stderr",
     "output_type": "stream",
     "text": [
      "INFO:mathsformer.selfsupervised_learning_addition_model_backend:          INPUT         TRUE   PRED(MASK)      PRED(GEN)      CORRECT     RESIDUAL\n"
     ]
    },
    {
     "name": "stdout",
     "output_type": "stream",
     "text": [
      "   INFO print_predictions_table: ----------------------------------------------------------------------------------\n"
     ]
    },
    {
     "name": "stderr",
     "output_type": "stream",
     "text": [
      "INFO:mathsformer.selfsupervised_learning_addition_model_backend:----------------------------------------------------------------------------------\n"
     ]
    },
    {
     "name": "stdout",
     "output_type": "stream",
     "text": [
      "   INFO print_predictions_table:       N5-14-516         N535       N-3333 N--333333333++                      ?   \n"
     ]
    },
    {
     "name": "stderr",
     "output_type": "stream",
     "text": [
      "INFO:mathsformer.selfsupervised_learning_addition_model_backend:      N5-14-516         N535       N-3333 N--333333333++                      ?   \n"
     ]
    },
    {
     "name": "stdout",
     "output_type": "stream",
     "text": [
      "   INFO print_predictions_table:    566-N52-5117        N4499       N--333 N--333333333++                      ?   \n"
     ]
    },
    {
     "name": "stderr",
     "output_type": "stream",
     "text": [
      "INFO:mathsformer.selfsupervised_learning_addition_model_backend:   566-N52-5117        N4499       N--333 N--333333333++                      ?   \n"
     ]
    },
    {
     "name": "stdout",
     "output_type": "stream",
     "text": [
      "   INFO print_predictions_table:     N7+N3567-36        N3610       N-3333 N--333333333++                      ?   \n"
     ]
    },
    {
     "name": "stderr",
     "output_type": "stream",
     "text": [
      "INFO:mathsformer.selfsupervised_learning_addition_model_backend:    N7+N3567-36        N3610       N-3333 N--333333333++                      ?   \n"
     ]
    },
    {
     "name": "stdout",
     "output_type": "stream",
     "text": [
      "   INFO print_predictions_table:        414+N2-2          410       N-3333 N--3333333333+                      ?   \n"
     ]
    },
    {
     "name": "stderr",
     "output_type": "stream",
     "text": [
      "INFO:mathsformer.selfsupervised_learning_addition_model_backend:       414+N2-2          410       N-3333 N--3333333333+                      ?   \n"
     ]
    },
    {
     "name": "stdout",
     "output_type": "stream",
     "text": [
      "   INFO print_predictions_table:      N16-36+N31          N83       N-3333 N--333333333++                      ?   \n"
     ]
    },
    {
     "name": "stderr",
     "output_type": "stream",
     "text": [
      "INFO:mathsformer.selfsupervised_learning_addition_model_backend:     N16-36+N31          N83       N-3333 N--333333333++                      ?   \n"
     ]
    },
    {
     "name": "stdout",
     "output_type": "stream",
     "text": [
      "   INFO print_predictions_table:      2988+N54-6         2928       N-3333 N--333333333++                      ?   \n"
     ]
    },
    {
     "name": "stderr",
     "output_type": "stream",
     "text": [
      "INFO:mathsformer.selfsupervised_learning_addition_model_backend:     2988+N54-6         2928       N-3333 N--333333333++                      ?   \n"
     ]
    },
    {
     "name": "stdout",
     "output_type": "stream",
     "text": [
      "   INFO print_predictions_table:     N4036+N8+93        N3951       N-3333 N--333333333++                      ?   \n"
     ]
    },
    {
     "name": "stderr",
     "output_type": "stream",
     "text": [
      "INFO:mathsformer.selfsupervised_learning_addition_model_backend:    N4036+N8+93        N3951       N-3333 N--333333333++                      ?   \n"
     ]
    },
    {
     "name": "stdout",
     "output_type": "stream",
     "text": [
      "   INFO print_predictions_table:  N302+N4928+N86        N5316       N-3333 N--333333333++                      ?   \n"
     ]
    },
    {
     "name": "stderr",
     "output_type": "stream",
     "text": [
      "INFO:mathsformer.selfsupervised_learning_addition_model_backend: N302+N4928+N86        N5316       N-3333 N--333333333++                      ?   \n"
     ]
    },
    {
     "name": "stdout",
     "output_type": "stream",
     "text": [
      "   INFO print_predictions_table:  7339+N771+N948         5620       N-3333 N--333333333++                      ?   \n"
     ]
    },
    {
     "name": "stderr",
     "output_type": "stream",
     "text": [
      "INFO:mathsformer.selfsupervised_learning_addition_model_backend: 7339+N771+N948         5620       N-3333 N--333333333++                      ?   \n"
     ]
    },
    {
     "name": "stdout",
     "output_type": "stream",
     "text": [
      "   INFO print_predictions_table:   N1012+N47+N85        N1144       N--333 N--333333333++                      ?   \n"
     ]
    },
    {
     "name": "stderr",
     "output_type": "stream",
     "text": [
      "INFO:mathsformer.selfsupervised_learning_addition_model_backend:  N1012+N47+N85        N1144       N--333 N--333333333++                      ?   \n"
     ]
    },
    {
     "name": "stdout",
     "output_type": "stream",
     "text": [
      "   INFO test_transformer: Running text --> text mathsformer inference on some test data:\n"
     ]
    },
    {
     "name": "stderr",
     "output_type": "stream",
     "text": [
      "INFO:mathsformer.selfsupervised_learning_addition_model_backend:Running text --> text mathsformer inference on some test data:\n"
     ]
    },
    {
     "name": "stdout",
     "output_type": "stream",
     "text": [
      "   INFO print_predictions_table: ------------------------------------------------------------------------------------------------\n"
     ]
    },
    {
     "name": "stderr",
     "output_type": "stream",
     "text": [
      "INFO:mathsformer.selfsupervised_learning_addition_model_backend:------------------------------------------------------------------------------------------------\n"
     ]
    },
    {
     "name": "stdout",
     "output_type": "stream",
     "text": [
      "   INFO print_predictions_table:                         INPUT         TRUE   PRED(MASK)      PRED(GEN)      CORRECT     RESIDUAL\n"
     ]
    },
    {
     "name": "stderr",
     "output_type": "stream",
     "text": [
      "INFO:mathsformer.selfsupervised_learning_addition_model_backend:                        INPUT         TRUE   PRED(MASK)      PRED(GEN)      CORRECT     RESIDUAL\n"
     ]
    },
    {
     "name": "stdout",
     "output_type": "stream",
     "text": [
      "   INFO print_predictions_table: ------------------------------------------------------------------------------------------------\n"
     ]
    },
    {
     "name": "stderr",
     "output_type": "stream",
     "text": [
      "INFO:mathsformer.selfsupervised_learning_addition_model_backend:------------------------------------------------------------------------------------------------\n"
     ]
    },
    {
     "name": "stdout",
     "output_type": "stream",
     "text": [
      "   INFO print_predictions_table:        435+350-4152-79+8258+4         4816      N--3333 N--333333333++                      ?   \n"
     ]
    },
    {
     "name": "stderr",
     "output_type": "stream",
     "text": [
      "INFO:mathsformer.selfsupervised_learning_addition_model_backend:       435+350-4152-79+8258+4         4816      N--3333 N--333333333++                      ?   \n"
     ]
    },
    {
     "name": "stdout",
     "output_type": "stream",
     "text": [
      "   INFO print_predictions_table:             78+1-N399+N6+2+N2          472      N--3333 N--333333333++                      ?   \n"
     ]
    },
    {
     "name": "stderr",
     "output_type": "stream",
     "text": [
      "INFO:mathsformer.selfsupervised_learning_addition_model_backend:            78+1-N399+N6+2+N2          472      N--3333 N--333333333++                      ?   \n"
     ]
    },
    {
     "name": "stdout",
     "output_type": "stream",
     "text": [
      "   INFO print_predictions_table:   N583+727+N6502-N9+N5762-N52       N12059      N--3333 N--333333333++                      ?   \n"
     ]
    },
    {
     "name": "stderr",
     "output_type": "stream",
     "text": [
      "INFO:mathsformer.selfsupervised_learning_addition_model_backend:  N583+727+N6502-N9+N5762-N52       N12059      N--3333 N--333333333++                      ?   \n"
     ]
    },
    {
     "name": "stdout",
     "output_type": "stream",
     "text": [
      "   INFO print_predictions_table:        N76+N7+N73+N306+985-75          448      N--3333 N--333333333++                      ?   \n"
     ]
    },
    {
     "name": "stderr",
     "output_type": "stream",
     "text": [
      "INFO:mathsformer.selfsupervised_learning_addition_model_backend:       N76+N7+N73+N306+985-75          448      N--3333 N--333333333++                      ?   \n"
     ]
    },
    {
     "name": "stdout",
     "output_type": "stream",
     "text": [
      "   INFO print_predictions_table:       328-N7-N6-3614-N51+N818        N4040      N--3333 N--333333333++                      ?   \n"
     ]
    },
    {
     "name": "stderr",
     "output_type": "stream",
     "text": [
      "INFO:mathsformer.selfsupervised_learning_addition_model_backend:      328-N7-N6-3614-N51+N818        N4040      N--3333 N--333333333++                      ?   \n"
     ]
    },
    {
     "name": "stdout",
     "output_type": "stream",
     "text": [
      "   INFO print_predictions_table:        N8547+N6-874-N3-9+N676       N10109      N--3333 N--333333333++                      ?   \n"
     ]
    },
    {
     "name": "stderr",
     "output_type": "stream",
     "text": [
      "INFO:mathsformer.selfsupervised_learning_addition_model_backend:       N8547+N6-874-N3-9+N676       N10109      N--3333 N--333333333++                      ?   \n"
     ]
    },
    {
     "name": "stdout",
     "output_type": "stream",
     "text": [
      "   INFO print_predictions_table:        509+655+37-4307+N1-656        N3763      N--3333 N--333333333++                      ?   \n"
     ]
    },
    {
     "name": "stderr",
     "output_type": "stream",
     "text": [
      "INFO:mathsformer.selfsupervised_learning_addition_model_backend:       509+655+37-4307+N1-656        N3763      N--3333 N--333333333++                      ?   \n"
     ]
    },
    {
     "name": "stdout",
     "output_type": "stream",
     "text": [
      "   INFO print_predictions_table:  55-N2842+N76-2347+N3438+2463         N501      N-33333 N--333333333++                      ?   \n"
     ]
    },
    {
     "name": "stderr",
     "output_type": "stream",
     "text": [
      "INFO:mathsformer.selfsupervised_learning_addition_model_backend: 55-N2842+N76-2347+N3438+2463         N501      N-33333 N--333333333++                      ?   \n"
     ]
    },
    {
     "name": "stdout",
     "output_type": "stream",
     "text": [
      "   INFO print_predictions_table:           84+N8-70-N428+46+58          538      N--3333 N--333333333++                      ?   \n"
     ]
    },
    {
     "name": "stderr",
     "output_type": "stream",
     "text": [
      "INFO:mathsformer.selfsupervised_learning_addition_model_backend:          84+N8-70-N428+46+58          538      N--3333 N--333333333++                      ?   \n"
     ]
    },
    {
     "name": "stdout",
     "output_type": "stream",
     "text": [
      "   INFO print_predictions_table:     8947-N3-N6+7963-735-N6226        22410      N-33333 N--333333333++                      ?   \n"
     ]
    },
    {
     "name": "stderr",
     "output_type": "stream",
     "text": [
      "INFO:mathsformer.selfsupervised_learning_addition_model_backend:    8947-N3-N6+7963-735-N6226        22410      N-33333 N--333333333++                      ?   \n"
     ]
    }
   ],
   "source": [
    "##=========================================##\n",
    "##   Test transformer on data generators   ##\n",
    "##=========================================##\n",
    "\n",
    "backend.test_transformer(transformer, train_gen, val_gen, test_gen, negative_char=negative_char)\n"
   ]
  },
  {
   "cell_type": "markdown",
   "id": "467f7a52",
   "metadata": {},
   "source": [
    "##  5.  Train model"
   ]
  },
  {
   "cell_type": "code",
   "execution_count": 14,
   "id": "aea411fe",
   "metadata": {},
   "outputs": [
    {
     "name": "stdout",
     "output_type": "stream",
     "text": [
      "   INFO get_callbacks: Registered training callback: LoggerCallback with loglvl=10\n"
     ]
    },
    {
     "name": "stderr",
     "output_type": "stream",
     "text": [
      "INFO:mathsformer.selfsupervised_learning_addition_model_backend:Registered training callback: LoggerCallback with loglvl=10\n"
     ]
    },
    {
     "name": "stdout",
     "output_type": "stream",
     "text": [
      "   INFO get_callbacks: Registered training callback: AdaptiveLearningRate with decay_factor=0.2, patience=2, monitor=loss, mode=min, log_lvl=10\n"
     ]
    },
    {
     "name": "stderr",
     "output_type": "stream",
     "text": [
      "INFO:mathsformer.selfsupervised_learning_addition_model_backend:Registered training callback: AdaptiveLearningRate with decay_factor=0.2, patience=2, monitor=loss, mode=min, log_lvl=10\n"
     ]
    },
    {
     "name": "stdout",
     "output_type": "stream",
     "text": [
      "   INFO get_callbacks: Registered training callback: ModelCheckpoint with filepath=SSL_loopy_enc_dec_notebook_int1234_num1245_embed128_enc_2blocks_5loops_width512_dec_2blocks_1loops_width512_post3_width512_idem2_2023_06_27/model_checkpoint_epoch{epoch}_val_loss_{val_loss:.5}.keras\n"
     ]
    },
    {
     "name": "stderr",
     "output_type": "stream",
     "text": [
      "INFO:mathsformer.selfsupervised_learning_addition_model_backend:Registered training callback: ModelCheckpoint with filepath=SSL_loopy_enc_dec_notebook_int1234_num1245_embed128_enc_2blocks_5loops_width512_dec_2blocks_1loops_width512_post3_width512_idem2_2023_06_27/model_checkpoint_epoch{epoch}_val_loss_{val_loss:.5}.keras\n"
     ]
    },
    {
     "name": "stdout",
     "output_type": "stream",
     "text": [
      "   INFO get_callbacks: Registered training callback: LayerWeightsRecord with batch_frequency=2000, recursive=True\n"
     ]
    },
    {
     "name": "stderr",
     "output_type": "stream",
     "text": [
      "INFO:mathsformer.selfsupervised_learning_addition_model_backend:Registered training callback: LayerWeightsRecord with batch_frequency=2000, recursive=True\n"
     ]
    },
    {
     "name": "stdout",
     "output_type": "stream",
     "text": [
      "   INFO get_callbacks: Registered training callback: LambdaCallback for test_transformer with num_print=10, negative_char='N'\n"
     ]
    },
    {
     "name": "stderr",
     "output_type": "stream",
     "text": [
      "INFO:mathsformer.selfsupervised_learning_addition_model_backend:Registered training callback: LambdaCallback for test_transformer with num_print=10, negative_char='N'\n"
     ]
    }
   ],
   "source": [
    "##===================================##\n",
    "##   Create callbacks for training   ##\n",
    "##===================================##\n",
    "\n",
    "callbacks = backend.get_callbacks(cfg_training, working_dir, transformer=transformer, train_gen=train_gen_reproducible, \n",
    "                                  val_gen=val_gen, negative_char=negative_char)\n"
   ]
  },
  {
   "cell_type": "code",
   "execution_count": null,
   "id": "21d1736d",
   "metadata": {
    "scrolled": true
   },
   "outputs": [
    {
     "name": "stdout",
     "output_type": "stream",
     "text": [
      "   INFO <module>: Begin model training with max_epochs=100000\n"
     ]
    },
    {
     "name": "stderr",
     "output_type": "stream",
     "text": [
      "INFO:mathsformer:Begin model training with max_epochs=100000\n",
      "DEBUG:mathsformer.selfsupervised_learning_addition_model_backend:Setting variable to learning_rate:0\n"
     ]
    },
    {
     "name": "stdout",
     "output_type": "stream",
     "text": [
      "Epoch 1/100000\n"
     ]
    },
    {
     "name": "stderr",
     "output_type": "stream",
     "text": [
      "2023-06-27 16:58:46.661165: W tensorflow/tsl/platform/profile_utils/cpu_utils.cc:128] Failed to get CPU frequency: 0 Hz\n"
     ]
    },
    {
     "name": "stdout",
     "output_type": "stream",
     "text": [
      "2000/2000 [==============================] - ETA: 0s - loss: 5.5735 - mathsformer_LLM_output_loss: 1.8574 - mathsformer_LLM_output_1_loss: 1.8571 - mathsformer_LLM_output_2_loss: 1.8590 - mathsformer_LLM_output_masked_categorical_accuracy: 0.3600 - mathsformer_LLM_output_1_masked_categorical_accuracy: 0.3600 - mathsformer_LLM_output_2_masked_categorical_accuracy: 0.3597"
     ]
    },
    {
     "name": "stderr",
     "output_type": "stream",
     "text": [
      "DEBUG:mathsformer.selfsupervised_learning_addition_model_backend:Training reached the end of epoch at index 0\n",
      "DEBUG:mathsformer.selfsupervised_learning_addition_model_backend:    with metric loss: 5.5735\n",
      "DEBUG:mathsformer.selfsupervised_learning_addition_model_backend:    with metric mathsformer_LLM_output_loss: 1.8574\n",
      "DEBUG:mathsformer.selfsupervised_learning_addition_model_backend:    with metric mathsformer_LLM_output_1_loss: 1.8571\n",
      "DEBUG:mathsformer.selfsupervised_learning_addition_model_backend:    with metric mathsformer_LLM_output_2_loss: 1.859\n",
      "DEBUG:mathsformer.selfsupervised_learning_addition_model_backend:    with metric mathsformer_LLM_output_masked_categorical_accuracy: 0.35998\n",
      "DEBUG:mathsformer.selfsupervised_learning_addition_model_backend:    with metric mathsformer_LLM_output_1_masked_categorical_accuracy: 0.36003\n",
      "DEBUG:mathsformer.selfsupervised_learning_addition_model_backend:    with metric mathsformer_LLM_output_2_masked_categorical_accuracy: 0.35975\n",
      "DEBUG:mathsformer.selfsupervised_learning_addition_model_backend:    with metric val_loss: 5.9077\n",
      "DEBUG:mathsformer.selfsupervised_learning_addition_model_backend:    with metric val_mathsformer_LLM_output_loss: 1.9736\n",
      "DEBUG:mathsformer.selfsupervised_learning_addition_model_backend:    with metric val_mathsformer_LLM_output_1_loss: 1.9685\n",
      "DEBUG:mathsformer.selfsupervised_learning_addition_model_backend:    with metric val_mathsformer_LLM_output_2_loss: 1.9657\n",
      "DEBUG:mathsformer.selfsupervised_learning_addition_model_backend:    with metric val_mathsformer_LLM_output_masked_categorical_accuracy: 0.34349\n",
      "DEBUG:mathsformer.selfsupervised_learning_addition_model_backend:    with metric val_mathsformer_LLM_output_1_masked_categorical_accuracy: 0.34437\n",
      "DEBUG:mathsformer.selfsupervised_learning_addition_model_backend:    with metric val_mathsformer_LLM_output_2_masked_categorical_accuracy: 0.34651\n",
      "DEBUG:mathsformer.selfsupervised_learning_addition_model_backend:Running text --> text mathsformer inference on some training data:\n",
      "DEBUG:mathsformer.selfsupervised_learning_addition_model_backend:------------------------------------------------------------------------------------\n",
      "DEBUG:mathsformer.selfsupervised_learning_addition_model_backend:              INPUT         TRUE   PRED(MASK)    PRED(GEN)      CORRECT     RESIDUAL\n",
      "DEBUG:mathsformer.selfsupervised_learning_addition_model_backend:------------------------------------------------------------------------------------\n",
      "DEBUG:mathsformer.selfsupervised_learning_addition_model_backend:            76-N292          368        N0EEE          N10                      -378\n",
      "DEBUG:mathsformer.selfsupervised_learning_addition_model_backend:            N4+N799         N803        N10EE          N10                       793\n",
      "DEBUG:mathsformer.selfsupervised_learning_addition_model_backend:              333+7          340        N8EEE          N40                      -380\n",
      "DEBUG:mathsformer.selfsupervised_learning_addition_model_backend: N58+N2-N615-51+678         1182        N00EE         N100                     -1282\n",
      "DEBUG:mathsformer.selfsupervised_learning_addition_model_backend:      N1-148-N5+N30         N174        N10EE          N10                       164\n",
      "DEBUG:mathsformer.selfsupervised_learning_addition_model_backend:   8-N118+434+N1647        N1087        N100E         N100                       987\n",
      "DEBUG:mathsformer.selfsupervised_learning_addition_model_backend:   N510+8-N69+65-N8         N360        N100E         N100                       260\n",
      "DEBUG:mathsformer.selfsupervised_learning_addition_model_backend:                N12          N12        N10EE          N10                         2\n",
      "DEBUG:mathsformer.selfsupervised_learning_addition_model_backend:                  9            9        6EE8E            6                        -3\n",
      "DEBUG:mathsformer.selfsupervised_learning_addition_model_backend:               3930         3930        1888E         1000                     -2930\n",
      "DEBUG:mathsformer.selfsupervised_learning_addition_model_backend:Running text --> text mathsformer inference on some validation data:\n",
      "DEBUG:mathsformer.selfsupervised_learning_addition_model_backend:--------------------------------------------------------------------------------\n",
      "DEBUG:mathsformer.selfsupervised_learning_addition_model_backend:          INPUT         TRUE   PRED(MASK)    PRED(GEN)      CORRECT     RESIDUAL\n",
      "DEBUG:mathsformer.selfsupervised_learning_addition_model_backend:--------------------------------------------------------------------------------\n",
      "DEBUG:mathsformer.selfsupervised_learning_addition_model_backend:      N5-14-516         N535        N100E         N100                       435\n",
      "DEBUG:mathsformer.selfsupervised_learning_addition_model_backend:   566-N52-5117        N4499        N10EE          N10                      4489\n",
      "DEBUG:mathsformer.selfsupervised_learning_addition_model_backend:    N7+N3567-36        N3610        N10EE          N10                      3600\n",
      "DEBUG:mathsformer.selfsupervised_learning_addition_model_backend:       414+N2-2          410        N5EEE          N10                      -420\n",
      "DEBUG:mathsformer.selfsupervised_learning_addition_model_backend:     N16-36+N31          N83        N10EE          N10                        73\n",
      "DEBUG:mathsformer.selfsupervised_learning_addition_model_backend:     2988+N54-6         2928        N05EE         N100                     -3028\n",
      "DEBUG:mathsformer.selfsupervised_learning_addition_model_backend:    N4036+N8+93        N3951        N100E         N100                      3851\n",
      "DEBUG:mathsformer.selfsupervised_learning_addition_model_backend: N302+N4928+N86        N5316        N100E         N100                      5216\n",
      "DEBUG:mathsformer.selfsupervised_learning_addition_model_backend: 7339+N771+N948         5620        N55EE         N100                     -5720\n",
      "DEBUG:mathsformer.selfsupervised_learning_addition_model_backend:  N1012+N47+N85        N1144        N100E         N100                      1044\n"
     ]
    },
    {
     "name": "stdout",
     "output_type": "stream",
     "text": [
      "2000/2000 [==============================] - 842s 417ms/step - loss: 5.5735 - mathsformer_LLM_output_loss: 1.8574 - mathsformer_LLM_output_1_loss: 1.8571 - mathsformer_LLM_output_2_loss: 1.8590 - mathsformer_LLM_output_masked_categorical_accuracy: 0.3600 - mathsformer_LLM_output_1_masked_categorical_accuracy: 0.3600 - mathsformer_LLM_output_2_masked_categorical_accuracy: 0.3597 - val_loss: 5.9077 - val_mathsformer_LLM_output_loss: 1.9736 - val_mathsformer_LLM_output_1_loss: 1.9685 - val_mathsformer_LLM_output_2_loss: 1.9657 - val_mathsformer_LLM_output_masked_categorical_accuracy: 0.3435 - val_mathsformer_LLM_output_1_masked_categorical_accuracy: 0.3444 - val_mathsformer_LLM_output_2_masked_categorical_accuracy: 0.3465\n",
      "Epoch 2/100000\n",
      "2000/2000 [==============================] - ETA: 0s - loss: 4.7770 - mathsformer_LLM_output_loss: 1.5897 - mathsformer_LLM_output_1_loss: 1.5899 - mathsformer_LLM_output_2_loss: 1.5974 - mathsformer_LLM_output_masked_categorical_accuracy: 0.4288 - mathsformer_LLM_output_1_masked_categorical_accuracy: 0.4282 - mathsformer_LLM_output_2_masked_categorical_accuracy: 0.4256"
     ]
    },
    {
     "name": "stderr",
     "output_type": "stream",
     "text": [
      "DEBUG:mathsformer.selfsupervised_learning_addition_model_backend:Training reached the end of epoch at index 1\n",
      "DEBUG:mathsformer.selfsupervised_learning_addition_model_backend:    with metric loss: 4.777\n",
      "DEBUG:mathsformer.selfsupervised_learning_addition_model_backend:    with metric mathsformer_LLM_output_loss: 1.5897\n",
      "DEBUG:mathsformer.selfsupervised_learning_addition_model_backend:    with metric mathsformer_LLM_output_1_loss: 1.5899\n",
      "DEBUG:mathsformer.selfsupervised_learning_addition_model_backend:    with metric mathsformer_LLM_output_2_loss: 1.5974\n",
      "DEBUG:mathsformer.selfsupervised_learning_addition_model_backend:    with metric mathsformer_LLM_output_masked_categorical_accuracy: 0.42883\n",
      "DEBUG:mathsformer.selfsupervised_learning_addition_model_backend:    with metric mathsformer_LLM_output_1_masked_categorical_accuracy: 0.42816\n",
      "DEBUG:mathsformer.selfsupervised_learning_addition_model_backend:    with metric mathsformer_LLM_output_2_masked_categorical_accuracy: 0.42564\n",
      "DEBUG:mathsformer.selfsupervised_learning_addition_model_backend:    with metric val_loss: 5.5721\n",
      "DEBUG:mathsformer.selfsupervised_learning_addition_model_backend:    with metric val_mathsformer_LLM_output_loss: 1.8674\n",
      "DEBUG:mathsformer.selfsupervised_learning_addition_model_backend:    with metric val_mathsformer_LLM_output_1_loss: 1.8549\n",
      "DEBUG:mathsformer.selfsupervised_learning_addition_model_backend:    with metric val_mathsformer_LLM_output_2_loss: 1.8498\n",
      "DEBUG:mathsformer.selfsupervised_learning_addition_model_backend:    with metric val_mathsformer_LLM_output_masked_categorical_accuracy: 0.36745\n",
      "DEBUG:mathsformer.selfsupervised_learning_addition_model_backend:    with metric val_mathsformer_LLM_output_1_masked_categorical_accuracy: 0.36983\n",
      "DEBUG:mathsformer.selfsupervised_learning_addition_model_backend:    with metric val_mathsformer_LLM_output_2_masked_categorical_accuracy: 0.37019\n",
      "DEBUG:mathsformer.selfsupervised_learning_addition_model_backend:Running text --> text mathsformer inference on some training data:\n",
      "DEBUG:mathsformer.selfsupervised_learning_addition_model_backend:------------------------------------------------------------------------------------\n",
      "DEBUG:mathsformer.selfsupervised_learning_addition_model_backend:              INPUT         TRUE   PRED(MASK)    PRED(GEN)      CORRECT     RESIDUAL\n",
      "DEBUG:mathsformer.selfsupervised_learning_addition_model_backend:------------------------------------------------------------------------------------\n",
      "DEBUG:mathsformer.selfsupervised_learning_addition_model_backend:            76-N292          368        N04EE         N104                      -472\n",
      "DEBUG:mathsformer.selfsupervised_learning_addition_model_backend:            N4+N799         N803        N144E         N104                       699\n",
      "DEBUG:mathsformer.selfsupervised_learning_addition_model_backend:              333+7          340        322EE          322                       -18\n",
      "DEBUG:mathsformer.selfsupervised_learning_addition_model_backend: N58+N2-N615-51+678         1182        N00EE         N100                     -1282\n",
      "DEBUG:mathsformer.selfsupervised_learning_addition_model_backend:      N1-148-N5+N30         N174        N10EE          N10                       164\n",
      "DEBUG:mathsformer.selfsupervised_learning_addition_model_backend:   8-N118+434+N1647        N1087        N104E         N104                       983\n",
      "DEBUG:mathsformer.selfsupervised_learning_addition_model_backend:   N510+8-N69+65-N8         N360        N144E         N100                       260\n",
      "DEBUG:mathsformer.selfsupervised_learning_addition_model_backend:                N12          N12        N12EE          N12          X              0\n",
      "DEBUG:mathsformer.selfsupervised_learning_addition_model_backend:                  9            9        9EE4E            9          X              0\n",
      "DEBUG:mathsformer.selfsupervised_learning_addition_model_backend:               3930         3930        3930E         3930          X              0\n",
      "DEBUG:mathsformer.selfsupervised_learning_addition_model_backend:Running text --> text mathsformer inference on some validation data:\n",
      "DEBUG:mathsformer.selfsupervised_learning_addition_model_backend:--------------------------------------------------------------------------------\n",
      "DEBUG:mathsformer.selfsupervised_learning_addition_model_backend:          INPUT         TRUE   PRED(MASK)    PRED(GEN)      CORRECT     RESIDUAL\n",
      "DEBUG:mathsformer.selfsupervised_learning_addition_model_backend:--------------------------------------------------------------------------------\n",
      "DEBUG:mathsformer.selfsupervised_learning_addition_model_backend:      N5-14-516         N535        N32EE         N321                       214\n",
      "DEBUG:mathsformer.selfsupervised_learning_addition_model_backend:   566-N52-5117        N4499        N14EE         N100                      4399\n",
      "DEBUG:mathsformer.selfsupervised_learning_addition_model_backend:    N7+N3567-36        N3610        N144E         N100                      3510\n",
      "DEBUG:mathsformer.selfsupervised_learning_addition_model_backend:       414+N2-2          410        52EEE           51                      -359\n",
      "DEBUG:mathsformer.selfsupervised_learning_addition_model_backend:     N16-36+N31          N83        N1EEE          N10                        73\n",
      "DEBUG:mathsformer.selfsupervised_learning_addition_model_backend:     2988+N54-6         2928        2944E         2944                        16\n",
      "DEBUG:mathsformer.selfsupervised_learning_addition_model_backend:    N4036+N8+93        N3951        N5644        N5644                     -1693\n",
      "DEBUG:mathsformer.selfsupervised_learning_addition_model_backend: N302+N4928+N86        N5316        N144E         N104                      5212\n",
      "DEBUG:mathsformer.selfsupervised_learning_addition_model_backend: 7339+N771+N948         5620        7444E         7444                      1824\n",
      "DEBUG:mathsformer.selfsupervised_learning_addition_model_backend:  N1012+N47+N85        N1144        N1042        N1042                       102\n"
     ]
    },
    {
     "name": "stdout",
     "output_type": "stream",
     "text": [
      "2000/2000 [==============================] - 868s 434ms/step - loss: 4.7770 - mathsformer_LLM_output_loss: 1.5897 - mathsformer_LLM_output_1_loss: 1.5899 - mathsformer_LLM_output_2_loss: 1.5974 - mathsformer_LLM_output_masked_categorical_accuracy: 0.4288 - mathsformer_LLM_output_1_masked_categorical_accuracy: 0.4282 - mathsformer_LLM_output_2_masked_categorical_accuracy: 0.4256 - val_loss: 5.5721 - val_mathsformer_LLM_output_loss: 1.8674 - val_mathsformer_LLM_output_1_loss: 1.8549 - val_mathsformer_LLM_output_2_loss: 1.8498 - val_mathsformer_LLM_output_masked_categorical_accuracy: 0.3674 - val_mathsformer_LLM_output_1_masked_categorical_accuracy: 0.3698 - val_mathsformer_LLM_output_2_masked_categorical_accuracy: 0.3702\n",
      "Epoch 3/100000\n",
      "2000/2000 [==============================] - ETA: 0s - loss: 4.2006 - mathsformer_LLM_output_loss: 1.3979 - mathsformer_LLM_output_1_loss: 1.3977 - mathsformer_LLM_output_2_loss: 1.4051 - mathsformer_LLM_output_masked_categorical_accuracy: 0.5042 - mathsformer_LLM_output_1_masked_categorical_accuracy: 0.5042 - mathsformer_LLM_output_2_masked_categorical_accuracy: 0.5013"
     ]
    },
    {
     "name": "stderr",
     "output_type": "stream",
     "text": [
      "DEBUG:mathsformer.selfsupervised_learning_addition_model_backend:Training reached the end of epoch at index 2\n",
      "DEBUG:mathsformer.selfsupervised_learning_addition_model_backend:    with metric loss: 4.2006\n",
      "DEBUG:mathsformer.selfsupervised_learning_addition_model_backend:    with metric mathsformer_LLM_output_loss: 1.3979\n",
      "DEBUG:mathsformer.selfsupervised_learning_addition_model_backend:    with metric mathsformer_LLM_output_1_loss: 1.3977\n",
      "DEBUG:mathsformer.selfsupervised_learning_addition_model_backend:    with metric mathsformer_LLM_output_2_loss: 1.4051\n",
      "DEBUG:mathsformer.selfsupervised_learning_addition_model_backend:    with metric mathsformer_LLM_output_masked_categorical_accuracy: 0.50425\n",
      "DEBUG:mathsformer.selfsupervised_learning_addition_model_backend:    with metric mathsformer_LLM_output_1_masked_categorical_accuracy: 0.50416\n",
      "DEBUG:mathsformer.selfsupervised_learning_addition_model_backend:    with metric mathsformer_LLM_output_2_masked_categorical_accuracy: 0.50125\n",
      "DEBUG:mathsformer.selfsupervised_learning_addition_model_backend:    with metric val_loss: 5.2633\n",
      "DEBUG:mathsformer.selfsupervised_learning_addition_model_backend:    with metric val_mathsformer_LLM_output_loss: 1.7684\n",
      "DEBUG:mathsformer.selfsupervised_learning_addition_model_backend:    with metric val_mathsformer_LLM_output_1_loss: 1.7519\n",
      "DEBUG:mathsformer.selfsupervised_learning_addition_model_backend:    with metric val_mathsformer_LLM_output_2_loss: 1.743\n",
      "DEBUG:mathsformer.selfsupervised_learning_addition_model_backend:    with metric val_mathsformer_LLM_output_masked_categorical_accuracy: 0.38097\n",
      "DEBUG:mathsformer.selfsupervised_learning_addition_model_backend:    with metric val_mathsformer_LLM_output_1_masked_categorical_accuracy: 0.3796\n",
      "DEBUG:mathsformer.selfsupervised_learning_addition_model_backend:    with metric val_mathsformer_LLM_output_2_masked_categorical_accuracy: 0.38259\n",
      "DEBUG:mathsformer.selfsupervised_learning_addition_model_backend:Running text --> text mathsformer inference on some training data:\n",
      "DEBUG:mathsformer.selfsupervised_learning_addition_model_backend:------------------------------------------------------------------------------------\n",
      "DEBUG:mathsformer.selfsupervised_learning_addition_model_backend:              INPUT         TRUE   PRED(MASK)    PRED(GEN)      CORRECT     RESIDUAL\n",
      "DEBUG:mathsformer.selfsupervised_learning_addition_model_backend:------------------------------------------------------------------------------------\n",
      "DEBUG:mathsformer.selfsupervised_learning_addition_model_backend:            76-N292          368        N61EE         N100                      -468\n",
      "DEBUG:mathsformer.selfsupervised_learning_addition_model_backend:            N4+N799         N803        N899E         N899                       -96\n",
      "DEBUG:mathsformer.selfsupervised_learning_addition_model_backend:              333+7          340        332EE          332                        -8\n",
      "DEBUG:mathsformer.selfsupervised_learning_addition_model_backend: N58+N2-N615-51+678         1182        N006E        N1000                     -2182\n",
      "DEBUG:mathsformer.selfsupervised_learning_addition_model_backend:      N1-148-N5+N30         N174        N10EE         N100                        74\n",
      "DEBUG:mathsformer.selfsupervised_learning_addition_model_backend:   8-N118+434+N1647        N1087        N1019        N1012                        75\n",
      "DEBUG:mathsformer.selfsupervised_learning_addition_model_backend:   N510+8-N69+65-N8         N360        N116E         N100                       260\n",
      "DEBUG:mathsformer.selfsupervised_learning_addition_model_backend:                N12          N12        N12EE          N12          X              0\n",
      "DEBUG:mathsformer.selfsupervised_learning_addition_model_backend:                  9            9        9EE9E            9          X              0\n",
      "DEBUG:mathsformer.selfsupervised_learning_addition_model_backend:               3930         3930        3930E         3930          X              0\n",
      "DEBUG:mathsformer.selfsupervised_learning_addition_model_backend:Running text --> text mathsformer inference on some validation data:\n",
      "DEBUG:mathsformer.selfsupervised_learning_addition_model_backend:--------------------------------------------------------------------------------\n",
      "DEBUG:mathsformer.selfsupervised_learning_addition_model_backend:          INPUT         TRUE   PRED(MASK)    PRED(GEN)      CORRECT     RESIDUAL\n",
      "DEBUG:mathsformer.selfsupervised_learning_addition_model_backend:--------------------------------------------------------------------------------\n",
      "DEBUG:mathsformer.selfsupervised_learning_addition_model_backend:      N5-14-516         N535        N111E        N1010                      -475\n",
      "DEBUG:mathsformer.selfsupervised_learning_addition_model_backend:   566-N52-5117        N4499        N131E         N101                      4398\n",
      "DEBUG:mathsformer.selfsupervised_learning_addition_model_backend:    N7+N3567-36        N3610        N1339        N1039                      2571\n",
      "DEBUG:mathsformer.selfsupervised_learning_addition_model_backend:       414+N2-2          410        410EE          410          X              0\n",
      "DEBUG:mathsformer.selfsupervised_learning_addition_model_backend:     N16-36+N31          N83        N11EE         N100                       -17\n",
      "DEBUG:mathsformer.selfsupervised_learning_addition_model_backend:     2988+N54-6         2928        2996E         2996                        68\n",
      "DEBUG:mathsformer.selfsupervised_learning_addition_model_backend:    N4036+N8+93        N3951        N6799        N6799                     -2848\n",
      "DEBUG:mathsformer.selfsupervised_learning_addition_model_backend: N302+N4928+N86        N5316        N136E        N1039                      4277\n",
      "DEBUG:mathsformer.selfsupervised_learning_addition_model_backend: 7339+N771+N948         5620        1336E        11039                      5419\n",
      "DEBUG:mathsformer.selfsupervised_learning_addition_model_backend:  N1012+N47+N85        N1144        N1629        N1629                      -485\n"
     ]
    },
    {
     "name": "stdout",
     "output_type": "stream",
     "text": [
      "2000/2000 [==============================] - 849s 424ms/step - loss: 4.2006 - mathsformer_LLM_output_loss: 1.3979 - mathsformer_LLM_output_1_loss: 1.3977 - mathsformer_LLM_output_2_loss: 1.4051 - mathsformer_LLM_output_masked_categorical_accuracy: 0.5042 - mathsformer_LLM_output_1_masked_categorical_accuracy: 0.5042 - mathsformer_LLM_output_2_masked_categorical_accuracy: 0.5013 - val_loss: 5.2633 - val_mathsformer_LLM_output_loss: 1.7684 - val_mathsformer_LLM_output_1_loss: 1.7519 - val_mathsformer_LLM_output_2_loss: 1.7430 - val_mathsformer_LLM_output_masked_categorical_accuracy: 0.3810 - val_mathsformer_LLM_output_1_masked_categorical_accuracy: 0.3796 - val_mathsformer_LLM_output_2_masked_categorical_accuracy: 0.3826\n",
      "Epoch 4/100000\n",
      "2000/2000 [==============================] - ETA: 0s - loss: 4.0520 - mathsformer_LLM_output_loss: 1.3490 - mathsformer_LLM_output_1_loss: 1.3481 - mathsformer_LLM_output_2_loss: 1.3549 - mathsformer_LLM_output_masked_categorical_accuracy: 0.5155 - mathsformer_LLM_output_1_masked_categorical_accuracy: 0.5150 - mathsformer_LLM_output_2_masked_categorical_accuracy: 0.5130"
     ]
    },
    {
     "name": "stderr",
     "output_type": "stream",
     "text": [
      "DEBUG:mathsformer.selfsupervised_learning_addition_model_backend:Training reached the end of epoch at index 3\n",
      "DEBUG:mathsformer.selfsupervised_learning_addition_model_backend:    with metric loss: 4.052\n",
      "DEBUG:mathsformer.selfsupervised_learning_addition_model_backend:    with metric mathsformer_LLM_output_loss: 1.349\n",
      "DEBUG:mathsformer.selfsupervised_learning_addition_model_backend:    with metric mathsformer_LLM_output_1_loss: 1.3481\n",
      "DEBUG:mathsformer.selfsupervised_learning_addition_model_backend:    with metric mathsformer_LLM_output_2_loss: 1.3549\n",
      "DEBUG:mathsformer.selfsupervised_learning_addition_model_backend:    with metric mathsformer_LLM_output_masked_categorical_accuracy: 0.51546\n",
      "DEBUG:mathsformer.selfsupervised_learning_addition_model_backend:    with metric mathsformer_LLM_output_1_masked_categorical_accuracy: 0.51501\n",
      "DEBUG:mathsformer.selfsupervised_learning_addition_model_backend:    with metric mathsformer_LLM_output_2_masked_categorical_accuracy: 0.51295\n",
      "DEBUG:mathsformer.selfsupervised_learning_addition_model_backend:    with metric val_loss: 5.0235\n",
      "DEBUG:mathsformer.selfsupervised_learning_addition_model_backend:    with metric val_mathsformer_LLM_output_loss: 1.6784\n",
      "DEBUG:mathsformer.selfsupervised_learning_addition_model_backend:    with metric val_mathsformer_LLM_output_1_loss: 1.6687\n",
      "DEBUG:mathsformer.selfsupervised_learning_addition_model_backend:    with metric val_mathsformer_LLM_output_2_loss: 1.6764\n",
      "DEBUG:mathsformer.selfsupervised_learning_addition_model_backend:    with metric val_mathsformer_LLM_output_masked_categorical_accuracy: 0.3978\n",
      "DEBUG:mathsformer.selfsupervised_learning_addition_model_backend:    with metric val_mathsformer_LLM_output_1_masked_categorical_accuracy: 0.40118\n",
      "DEBUG:mathsformer.selfsupervised_learning_addition_model_backend:    with metric val_mathsformer_LLM_output_2_masked_categorical_accuracy: 0.39998\n",
      "DEBUG:mathsformer.selfsupervised_learning_addition_model_backend:Running text --> text mathsformer inference on some training data:\n",
      "DEBUG:mathsformer.selfsupervised_learning_addition_model_backend:------------------------------------------------------------------------------------\n",
      "DEBUG:mathsformer.selfsupervised_learning_addition_model_backend:              INPUT         TRUE   PRED(MASK)    PRED(GEN)      CORRECT     RESIDUAL\n",
      "DEBUG:mathsformer.selfsupervised_learning_addition_model_backend:------------------------------------------------------------------------------------\n",
      "DEBUG:mathsformer.selfsupervised_learning_addition_model_backend:            76-N292          368        N33EE         N230                      -598\n",
      "DEBUG:mathsformer.selfsupervised_learning_addition_model_backend:            N4+N799         N803        N790E         N790                        13\n",
      "DEBUG:mathsformer.selfsupervised_learning_addition_model_backend:              333+7          340        333EE          333                        -7\n",
      "DEBUG:mathsformer.selfsupervised_learning_addition_model_backend: N58+N2-N615-51+678         1182        N007E        N1007                     -2189\n",
      "DEBUG:mathsformer.selfsupervised_learning_addition_model_backend:      N1-148-N5+N30         N174        N10EE          N10                       164\n",
      "DEBUG:mathsformer.selfsupervised_learning_addition_model_backend:   8-N118+434+N1647        N1087        N100E         N100                       987\n",
      "DEBUG:mathsformer.selfsupervised_learning_addition_model_backend:   N510+8-N69+65-N8         N360        N100E        N1000                      -640\n",
      "DEBUG:mathsformer.selfsupervised_learning_addition_model_backend:                N12          N12        N12EE          N12          X              0\n",
      "DEBUG:mathsformer.selfsupervised_learning_addition_model_backend:                  9            9        9EE3E            9          X              0\n",
      "DEBUG:mathsformer.selfsupervised_learning_addition_model_backend:               3930         3930        3930E         3930          X              0\n",
      "DEBUG:mathsformer.selfsupervised_learning_addition_model_backend:Running text --> text mathsformer inference on some validation data:\n",
      "DEBUG:mathsformer.selfsupervised_learning_addition_model_backend:--------------------------------------------------------------------------------\n",
      "DEBUG:mathsformer.selfsupervised_learning_addition_model_backend:          INPUT         TRUE   PRED(MASK)    PRED(GEN)      CORRECT     RESIDUAL\n",
      "DEBUG:mathsformer.selfsupervised_learning_addition_model_backend:--------------------------------------------------------------------------------\n",
      "DEBUG:mathsformer.selfsupervised_learning_addition_model_backend:      N5-14-516         N535        N11EE         N101                       434\n",
      "DEBUG:mathsformer.selfsupervised_learning_addition_model_backend:   566-N52-5117        N4499        113EE          100                      4599\n",
      "DEBUG:mathsformer.selfsupervised_learning_addition_model_backend:    N7+N3567-36        N3610        N2337        N2337                      1273\n",
      "DEBUG:mathsformer.selfsupervised_learning_addition_model_backend:       414+N2-2          410        400EE           40                      -370\n",
      "DEBUG:mathsformer.selfsupervised_learning_addition_model_backend:     N16-36+N31          N83        N10EE          N10                        73\n",
      "DEBUG:mathsformer.selfsupervised_learning_addition_model_backend:     2988+N54-6         2928        2993E         2993                        65\n",
      "DEBUG:mathsformer.selfsupervised_learning_addition_model_backend:    N4036+N8+93        N3951        N4633        N4633                      -682\n",
      "DEBUG:mathsformer.selfsupervised_learning_addition_model_backend: N302+N4928+N86        N5316        N433E         N433                      4883\n",
      "DEBUG:mathsformer.selfsupervised_learning_addition_model_backend: 7339+N771+N948         5620        7333E         7333                      1713\n",
      "DEBUG:mathsformer.selfsupervised_learning_addition_model_backend:  N1012+N47+N85        N1144        N1600        N1600                      -456\n"
     ]
    },
    {
     "name": "stdout",
     "output_type": "stream",
     "text": [
      "2000/2000 [==============================] - 849s 425ms/step - loss: 4.0520 - mathsformer_LLM_output_loss: 1.3490 - mathsformer_LLM_output_1_loss: 1.3481 - mathsformer_LLM_output_2_loss: 1.3549 - mathsformer_LLM_output_masked_categorical_accuracy: 0.5155 - mathsformer_LLM_output_1_masked_categorical_accuracy: 0.5150 - mathsformer_LLM_output_2_masked_categorical_accuracy: 0.5130 - val_loss: 5.0235 - val_mathsformer_LLM_output_loss: 1.6784 - val_mathsformer_LLM_output_1_loss: 1.6687 - val_mathsformer_LLM_output_2_loss: 1.6764 - val_mathsformer_LLM_output_masked_categorical_accuracy: 0.3978 - val_mathsformer_LLM_output_1_masked_categorical_accuracy: 0.4012 - val_mathsformer_LLM_output_2_masked_categorical_accuracy: 0.4000\n",
      "Epoch 5/100000\n",
      "2000/2000 [==============================] - ETA: 0s - loss: 3.9144 - mathsformer_LLM_output_loss: 1.3024 - mathsformer_LLM_output_1_loss: 1.3023 - mathsformer_LLM_output_2_loss: 1.3096 - mathsformer_LLM_output_masked_categorical_accuracy: 0.5268 - mathsformer_LLM_output_1_masked_categorical_accuracy: 0.5268 - mathsformer_LLM_output_2_masked_categorical_accuracy: 0.5245"
     ]
    },
    {
     "name": "stderr",
     "output_type": "stream",
     "text": [
      "DEBUG:mathsformer.selfsupervised_learning_addition_model_backend:Training reached the end of epoch at index 4\n",
      "DEBUG:mathsformer.selfsupervised_learning_addition_model_backend:    with metric loss: 3.9144\n",
      "DEBUG:mathsformer.selfsupervised_learning_addition_model_backend:    with metric mathsformer_LLM_output_loss: 1.3024\n",
      "DEBUG:mathsformer.selfsupervised_learning_addition_model_backend:    with metric mathsformer_LLM_output_1_loss: 1.3023\n",
      "DEBUG:mathsformer.selfsupervised_learning_addition_model_backend:    with metric mathsformer_LLM_output_2_loss: 1.3096\n",
      "DEBUG:mathsformer.selfsupervised_learning_addition_model_backend:    with metric mathsformer_LLM_output_masked_categorical_accuracy: 0.52684\n",
      "DEBUG:mathsformer.selfsupervised_learning_addition_model_backend:    with metric mathsformer_LLM_output_1_masked_categorical_accuracy: 0.52681\n",
      "DEBUG:mathsformer.selfsupervised_learning_addition_model_backend:    with metric mathsformer_LLM_output_2_masked_categorical_accuracy: 0.52453\n",
      "DEBUG:mathsformer.selfsupervised_learning_addition_model_backend:    with metric val_loss: 4.8408\n",
      "DEBUG:mathsformer.selfsupervised_learning_addition_model_backend:    with metric val_mathsformer_LLM_output_loss: 1.6131\n",
      "DEBUG:mathsformer.selfsupervised_learning_addition_model_backend:    with metric val_mathsformer_LLM_output_1_loss: 1.6074\n",
      "DEBUG:mathsformer.selfsupervised_learning_addition_model_backend:    with metric val_mathsformer_LLM_output_2_loss: 1.6203\n",
      "DEBUG:mathsformer.selfsupervised_learning_addition_model_backend:    with metric val_mathsformer_LLM_output_masked_categorical_accuracy: 0.4133\n",
      "DEBUG:mathsformer.selfsupervised_learning_addition_model_backend:    with metric val_mathsformer_LLM_output_1_masked_categorical_accuracy: 0.4138\n",
      "DEBUG:mathsformer.selfsupervised_learning_addition_model_backend:    with metric val_mathsformer_LLM_output_2_masked_categorical_accuracy: 0.40964\n",
      "DEBUG:mathsformer.selfsupervised_learning_addition_model_backend:Running text --> text mathsformer inference on some training data:\n",
      "DEBUG:mathsformer.selfsupervised_learning_addition_model_backend:------------------------------------------------------------------------------------\n",
      "DEBUG:mathsformer.selfsupervised_learning_addition_model_backend:              INPUT         TRUE   PRED(MASK)    PRED(GEN)      CORRECT     RESIDUAL\n",
      "DEBUG:mathsformer.selfsupervised_learning_addition_model_backend:------------------------------------------------------------------------------------\n",
      "DEBUG:mathsformer.selfsupervised_learning_addition_model_backend:            76-N292          368        N55EE         N207                      -575\n",
      "DEBUG:mathsformer.selfsupervised_learning_addition_model_backend:            N4+N799         N803        N795E         N795                         8\n",
      "DEBUG:mathsformer.selfsupervised_learning_addition_model_backend:              333+7          340        338EE          338                        -2\n",
      "DEBUG:mathsformer.selfsupervised_learning_addition_model_backend: N58+N2-N615-51+678         1182        N00EE         N101                     -1283\n",
      "DEBUG:mathsformer.selfsupervised_learning_addition_model_backend:      N1-148-N5+N30         N174        N105E         N101                        73\n",
      "DEBUG:mathsformer.selfsupervised_learning_addition_model_backend:   8-N118+434+N1647        N1087        N101E        N1011                        76\n",
      "DEBUG:mathsformer.selfsupervised_learning_addition_model_backend:   N510+8-N69+65-N8         N360        N155E        N1057                      -697\n",
      "DEBUG:mathsformer.selfsupervised_learning_addition_model_backend:                N12          N12        N12EE          N12          X              0\n",
      "DEBUG:mathsformer.selfsupervised_learning_addition_model_backend:                  9            9        9EE1E            9          X              0\n",
      "DEBUG:mathsformer.selfsupervised_learning_addition_model_backend:               3930         3930        3930E         3930          X              0\n",
      "DEBUG:mathsformer.selfsupervised_learning_addition_model_backend:Running text --> text mathsformer inference on some validation data:\n",
      "DEBUG:mathsformer.selfsupervised_learning_addition_model_backend:--------------------------------------------------------------------------------\n",
      "DEBUG:mathsformer.selfsupervised_learning_addition_model_backend:          INPUT         TRUE   PRED(MASK)    PRED(GEN)      CORRECT     RESIDUAL\n",
      "DEBUG:mathsformer.selfsupervised_learning_addition_model_backend:--------------------------------------------------------------------------------\n",
      "DEBUG:mathsformer.selfsupervised_learning_addition_model_backend:      N5-14-516         N535        N555E         N555                       -20\n",
      "DEBUG:mathsformer.selfsupervised_learning_addition_model_backend:   566-N52-5117        N4499        N3556        N3556                       943\n",
      "DEBUG:mathsformer.selfsupervised_learning_addition_model_backend:    N7+N3567-36        N3610        N3457        N3457                       153\n",
      "DEBUG:mathsformer.selfsupervised_learning_addition_model_backend:       414+N2-2          410        418EE          418                         8\n",
      "DEBUG:mathsformer.selfsupervised_learning_addition_model_backend:     N16-36+N31          N83        N11EE          N11                        72\n",
      "DEBUG:mathsformer.selfsupervised_learning_addition_model_backend:     2988+N54-6         2928        2975E         2975                        47\n",
      "DEBUG:mathsformer.selfsupervised_learning_addition_model_backend:    N4036+N8+93        N3951        N4758        N4758                      -807\n",
      "DEBUG:mathsformer.selfsupervised_learning_addition_model_backend: N302+N4928+N86        N5316        N4557        N4555                       761\n",
      "DEBUG:mathsformer.selfsupervised_learning_addition_model_backend: 7339+N771+N948         5620        7255E         7255                      1635\n",
      "DEBUG:mathsformer.selfsupervised_learning_addition_model_backend:  N1012+N47+N85        N1144        N1706        N1766                      -622\n"
     ]
    },
    {
     "name": "stdout",
     "output_type": "stream",
     "text": [
      "2000/2000 [==============================] - 862s 431ms/step - loss: 3.9144 - mathsformer_LLM_output_loss: 1.3024 - mathsformer_LLM_output_1_loss: 1.3023 - mathsformer_LLM_output_2_loss: 1.3096 - mathsformer_LLM_output_masked_categorical_accuracy: 0.5268 - mathsformer_LLM_output_1_masked_categorical_accuracy: 0.5268 - mathsformer_LLM_output_2_masked_categorical_accuracy: 0.5245 - val_loss: 4.8408 - val_mathsformer_LLM_output_loss: 1.6131 - val_mathsformer_LLM_output_1_loss: 1.6074 - val_mathsformer_LLM_output_2_loss: 1.6203 - val_mathsformer_LLM_output_masked_categorical_accuracy: 0.4133 - val_mathsformer_LLM_output_1_masked_categorical_accuracy: 0.4138 - val_mathsformer_LLM_output_2_masked_categorical_accuracy: 0.4096\n",
      "Epoch 6/100000\n",
      "2000/2000 [==============================] - ETA: 0s - loss: 3.8090 - mathsformer_LLM_output_loss: 1.2689 - mathsformer_LLM_output_1_loss: 1.2669 - mathsformer_LLM_output_2_loss: 1.2732 - mathsformer_LLM_output_masked_categorical_accuracy: 0.5341 - mathsformer_LLM_output_1_masked_categorical_accuracy: 0.5344 - mathsformer_LLM_output_2_masked_categorical_accuracy: 0.5327"
     ]
    },
    {
     "name": "stderr",
     "output_type": "stream",
     "text": [
      "DEBUG:mathsformer.selfsupervised_learning_addition_model_backend:Training reached the end of epoch at index 5\n",
      "DEBUG:mathsformer.selfsupervised_learning_addition_model_backend:    with metric loss: 3.809\n",
      "DEBUG:mathsformer.selfsupervised_learning_addition_model_backend:    with metric mathsformer_LLM_output_loss: 1.2689\n",
      "DEBUG:mathsformer.selfsupervised_learning_addition_model_backend:    with metric mathsformer_LLM_output_1_loss: 1.2669\n",
      "DEBUG:mathsformer.selfsupervised_learning_addition_model_backend:    with metric mathsformer_LLM_output_2_loss: 1.2732\n",
      "DEBUG:mathsformer.selfsupervised_learning_addition_model_backend:    with metric mathsformer_LLM_output_masked_categorical_accuracy: 0.53408\n",
      "DEBUG:mathsformer.selfsupervised_learning_addition_model_backend:    with metric mathsformer_LLM_output_1_masked_categorical_accuracy: 0.53441\n",
      "DEBUG:mathsformer.selfsupervised_learning_addition_model_backend:    with metric mathsformer_LLM_output_2_masked_categorical_accuracy: 0.53266\n",
      "DEBUG:mathsformer.selfsupervised_learning_addition_model_backend:    with metric val_loss: 4.6087\n",
      "DEBUG:mathsformer.selfsupervised_learning_addition_model_backend:    with metric val_mathsformer_LLM_output_loss: 1.5403\n",
      "DEBUG:mathsformer.selfsupervised_learning_addition_model_backend:    with metric val_mathsformer_LLM_output_1_loss: 1.5318\n",
      "DEBUG:mathsformer.selfsupervised_learning_addition_model_backend:    with metric val_mathsformer_LLM_output_2_loss: 1.5366\n",
      "DEBUG:mathsformer.selfsupervised_learning_addition_model_backend:    with metric val_mathsformer_LLM_output_masked_categorical_accuracy: 0.42288\n",
      "DEBUG:mathsformer.selfsupervised_learning_addition_model_backend:    with metric val_mathsformer_LLM_output_1_masked_categorical_accuracy: 0.42458\n",
      "DEBUG:mathsformer.selfsupervised_learning_addition_model_backend:    with metric val_mathsformer_LLM_output_2_masked_categorical_accuracy: 0.42512\n",
      "DEBUG:mathsformer.selfsupervised_learning_addition_model_backend:Running text --> text mathsformer inference on some training data:\n",
      "DEBUG:mathsformer.selfsupervised_learning_addition_model_backend:------------------------------------------------------------------------------------\n",
      "DEBUG:mathsformer.selfsupervised_learning_addition_model_backend:              INPUT         TRUE   PRED(MASK)    PRED(GEN)      CORRECT     RESIDUAL\n",
      "DEBUG:mathsformer.selfsupervised_learning_addition_model_backend:------------------------------------------------------------------------------------\n",
      "DEBUG:mathsformer.selfsupervised_learning_addition_model_backend:            76-N292          368        N44EE         N246                      -614\n",
      "DEBUG:mathsformer.selfsupervised_learning_addition_model_backend:            N4+N799         N803        N794E         N794                         9\n",
      "DEBUG:mathsformer.selfsupervised_learning_addition_model_backend:              333+7          340        349EE          349                         9\n",
      "DEBUG:mathsformer.selfsupervised_learning_addition_model_backend: N58+N2-N615-51+678         1182        N001E        N1006                     -2188\n",
      "DEBUG:mathsformer.selfsupervised_learning_addition_model_backend:      N1-148-N5+N30         N174        N111E         N111                        63\n",
      "DEBUG:mathsformer.selfsupervised_learning_addition_model_backend:   8-N118+434+N1647        N1087        N1001        N1001                        86\n",
      "DEBUG:mathsformer.selfsupervised_learning_addition_model_backend:   N510+8-N69+65-N8         N360        N146E        N1011                      -651\n",
      "DEBUG:mathsformer.selfsupervised_learning_addition_model_backend:                N12          N12        N12EE          N12          X              0\n",
      "DEBUG:mathsformer.selfsupervised_learning_addition_model_backend:                  9            9        9EE1E            9          X              0\n",
      "DEBUG:mathsformer.selfsupervised_learning_addition_model_backend:               3930         3930        3930E         3930          X              0\n",
      "DEBUG:mathsformer.selfsupervised_learning_addition_model_backend:Running text --> text mathsformer inference on some validation data:\n",
      "DEBUG:mathsformer.selfsupervised_learning_addition_model_backend:--------------------------------------------------------------------------------\n",
      "DEBUG:mathsformer.selfsupervised_learning_addition_model_backend:          INPUT         TRUE   PRED(MASK)    PRED(GEN)      CORRECT     RESIDUAL\n",
      "DEBUG:mathsformer.selfsupervised_learning_addition_model_backend:--------------------------------------------------------------------------------\n",
      "DEBUG:mathsformer.selfsupervised_learning_addition_model_backend:      N5-14-516         N535        N541E         N541                        -6\n",
      "DEBUG:mathsformer.selfsupervised_learning_addition_model_backend:   566-N52-5117        N4499        N4009        N4009                       490\n",
      "DEBUG:mathsformer.selfsupervised_learning_addition_model_backend:    N7+N3567-36        N3610        33474         3441                      7051\n",
      "DEBUG:mathsformer.selfsupervised_learning_addition_model_backend:       414+N2-2          410        429EE          429                        19\n",
      "DEBUG:mathsformer.selfsupervised_learning_addition_model_backend:     N16-36+N31          N83        N1EEE          N11                        72\n",
      "DEBUG:mathsformer.selfsupervised_learning_addition_model_backend:     2988+N54-6         2928        2944E         2944                        16\n",
      "DEBUG:mathsformer.selfsupervised_learning_addition_model_backend:    N4036+N8+93        N3951        N4744        N4744                      -793\n",
      "DEBUG:mathsformer.selfsupervised_learning_addition_model_backend: N302+N4928+N86        N5316        N5409        N5409                       -93\n",
      "DEBUG:mathsformer.selfsupervised_learning_addition_model_backend: 7339+N771+N948         5620        7449E         7441                      1821\n",
      "DEBUG:mathsformer.selfsupervised_learning_addition_model_backend:  N1012+N47+N85        N1144        N1744        N1744                      -600\n"
     ]
    },
    {
     "name": "stdout",
     "output_type": "stream",
     "text": [
      "2000/2000 [==============================] - 1842s 921ms/step - loss: 3.8090 - mathsformer_LLM_output_loss: 1.2689 - mathsformer_LLM_output_1_loss: 1.2669 - mathsformer_LLM_output_2_loss: 1.2732 - mathsformer_LLM_output_masked_categorical_accuracy: 0.5341 - mathsformer_LLM_output_1_masked_categorical_accuracy: 0.5344 - mathsformer_LLM_output_2_masked_categorical_accuracy: 0.5327 - val_loss: 4.6087 - val_mathsformer_LLM_output_loss: 1.5403 - val_mathsformer_LLM_output_1_loss: 1.5318 - val_mathsformer_LLM_output_2_loss: 1.5366 - val_mathsformer_LLM_output_masked_categorical_accuracy: 0.4229 - val_mathsformer_LLM_output_1_masked_categorical_accuracy: 0.4246 - val_mathsformer_LLM_output_2_masked_categorical_accuracy: 0.4251\n",
      "Epoch 7/100000\n",
      "2000/2000 [==============================] - ETA: 0s - loss: 3.7074 - mathsformer_LLM_output_loss: 1.2351 - mathsformer_LLM_output_1_loss: 1.2335 - mathsformer_LLM_output_2_loss: 1.2388 - mathsformer_LLM_output_masked_categorical_accuracy: 0.5401 - mathsformer_LLM_output_1_masked_categorical_accuracy: 0.5406 - mathsformer_LLM_output_2_masked_categorical_accuracy: 0.5390"
     ]
    },
    {
     "name": "stderr",
     "output_type": "stream",
     "text": [
      "DEBUG:mathsformer.selfsupervised_learning_addition_model_backend:Training reached the end of epoch at index 6\n",
      "DEBUG:mathsformer.selfsupervised_learning_addition_model_backend:    with metric loss: 3.7074\n",
      "DEBUG:mathsformer.selfsupervised_learning_addition_model_backend:    with metric mathsformer_LLM_output_loss: 1.2351\n",
      "DEBUG:mathsformer.selfsupervised_learning_addition_model_backend:    with metric mathsformer_LLM_output_1_loss: 1.2335\n",
      "DEBUG:mathsformer.selfsupervised_learning_addition_model_backend:    with metric mathsformer_LLM_output_2_loss: 1.2388\n",
      "DEBUG:mathsformer.selfsupervised_learning_addition_model_backend:    with metric mathsformer_LLM_output_masked_categorical_accuracy: 0.54013\n",
      "DEBUG:mathsformer.selfsupervised_learning_addition_model_backend:    with metric mathsformer_LLM_output_1_masked_categorical_accuracy: 0.54061\n",
      "DEBUG:mathsformer.selfsupervised_learning_addition_model_backend:    with metric mathsformer_LLM_output_2_masked_categorical_accuracy: 0.53904\n",
      "DEBUG:mathsformer.selfsupervised_learning_addition_model_backend:    with metric val_loss: 4.5436\n",
      "DEBUG:mathsformer.selfsupervised_learning_addition_model_backend:    with metric val_mathsformer_LLM_output_loss: 1.5153\n",
      "DEBUG:mathsformer.selfsupervised_learning_addition_model_backend:    with metric val_mathsformer_LLM_output_1_loss: 1.5116\n",
      "DEBUG:mathsformer.selfsupervised_learning_addition_model_backend:    with metric val_mathsformer_LLM_output_2_loss: 1.5167\n",
      "DEBUG:mathsformer.selfsupervised_learning_addition_model_backend:    with metric val_mathsformer_LLM_output_masked_categorical_accuracy: 0.43069\n",
      "DEBUG:mathsformer.selfsupervised_learning_addition_model_backend:    with metric val_mathsformer_LLM_output_1_masked_categorical_accuracy: 0.43108\n",
      "DEBUG:mathsformer.selfsupervised_learning_addition_model_backend:    with metric val_mathsformer_LLM_output_2_masked_categorical_accuracy: 0.42952\n",
      "DEBUG:mathsformer.selfsupervised_learning_addition_model_backend:Running text --> text mathsformer inference on some training data:\n",
      "DEBUG:mathsformer.selfsupervised_learning_addition_model_backend:------------------------------------------------------------------------------------\n",
      "DEBUG:mathsformer.selfsupervised_learning_addition_model_backend:              INPUT         TRUE   PRED(MASK)    PRED(GEN)      CORRECT     RESIDUAL\n",
      "DEBUG:mathsformer.selfsupervised_learning_addition_model_backend:------------------------------------------------------------------------------------\n",
      "DEBUG:mathsformer.selfsupervised_learning_addition_model_backend:            76-N292          368        N44EE         N246                      -614\n",
      "DEBUG:mathsformer.selfsupervised_learning_addition_model_backend:            N4+N799         N803        N794E         N794                         9\n",
      "DEBUG:mathsformer.selfsupervised_learning_addition_model_backend:              333+7          340        348EE          348                         8\n",
      "DEBUG:mathsformer.selfsupervised_learning_addition_model_backend: N58+N2-N615-51+678         1182        N01EE         N101                     -1283\n",
      "DEBUG:mathsformer.selfsupervised_learning_addition_model_backend:      N1-148-N5+N30         N174        N101E         N101                        73\n",
      "DEBUG:mathsformer.selfsupervised_learning_addition_model_backend:   8-N118+434+N1647        N1087        N1074        N1074                        13\n",
      "DEBUG:mathsformer.selfsupervised_learning_addition_model_backend:   N510+8-N69+65-N8         N360        N466E         N466                      -106\n",
      "DEBUG:mathsformer.selfsupervised_learning_addition_model_backend:                N12          N12        N12EE          N12          X              0\n",
      "DEBUG:mathsformer.selfsupervised_learning_addition_model_backend:                  9            9        9EE8E            9          X              0\n",
      "DEBUG:mathsformer.selfsupervised_learning_addition_model_backend:               3930         3930        3930E         3930          X              0\n",
      "DEBUG:mathsformer.selfsupervised_learning_addition_model_backend:Running text --> text mathsformer inference on some validation data:\n",
      "DEBUG:mathsformer.selfsupervised_learning_addition_model_backend:--------------------------------------------------------------------------------\n",
      "DEBUG:mathsformer.selfsupervised_learning_addition_model_backend:          INPUT         TRUE   PRED(MASK)    PRED(GEN)      CORRECT     RESIDUAL\n",
      "DEBUG:mathsformer.selfsupervised_learning_addition_model_backend:--------------------------------------------------------------------------------\n",
      "DEBUG:mathsformer.selfsupervised_learning_addition_model_backend:      N5-14-516         N535        N471E         N471                        64\n",
      "DEBUG:mathsformer.selfsupervised_learning_addition_model_backend:   566-N52-5117        N4499        N264E         N264                      4235\n",
      "DEBUG:mathsformer.selfsupervised_learning_addition_model_backend:    N7+N3567-36        N3610        33555         3555                      7165\n",
      "DEBUG:mathsformer.selfsupervised_learning_addition_model_backend:       414+N2-2          410        408EE          408                        -2\n",
      "DEBUG:mathsformer.selfsupervised_learning_addition_model_backend:     N16-36+N31          N83        N1EEE          N11                        72\n",
      "DEBUG:mathsformer.selfsupervised_learning_addition_model_backend:     2988+N54-6         2928        2974E         2974                        46\n",
      "DEBUG:mathsformer.selfsupervised_learning_addition_model_backend:    N4036+N8+93        N3951        N4078        N4078                      -127\n",
      "DEBUG:mathsformer.selfsupervised_learning_addition_model_backend: N302+N4928+N86        N5316        N5875        N5875                      -559\n",
      "DEBUG:mathsformer.selfsupervised_learning_addition_model_backend: 7339+N771+N948         5620        8354E         8354                      2734\n",
      "DEBUG:mathsformer.selfsupervised_learning_addition_model_backend:  N1012+N47+N85        N1144        N1078        N1078                        66\n"
     ]
    },
    {
     "name": "stdout",
     "output_type": "stream",
     "text": [
      "2000/2000 [==============================] - 931s 465ms/step - loss: 3.7074 - mathsformer_LLM_output_loss: 1.2351 - mathsformer_LLM_output_1_loss: 1.2335 - mathsformer_LLM_output_2_loss: 1.2388 - mathsformer_LLM_output_masked_categorical_accuracy: 0.5401 - mathsformer_LLM_output_1_masked_categorical_accuracy: 0.5406 - mathsformer_LLM_output_2_masked_categorical_accuracy: 0.5390 - val_loss: 4.5436 - val_mathsformer_LLM_output_loss: 1.5153 - val_mathsformer_LLM_output_1_loss: 1.5116 - val_mathsformer_LLM_output_2_loss: 1.5167 - val_mathsformer_LLM_output_masked_categorical_accuracy: 0.4307 - val_mathsformer_LLM_output_1_masked_categorical_accuracy: 0.4311 - val_mathsformer_LLM_output_2_masked_categorical_accuracy: 0.4295\n",
      "Epoch 8/100000\n",
      "2000/2000 [==============================] - ETA: 0s - loss: 3.6209 - mathsformer_LLM_output_loss: 1.2065 - mathsformer_LLM_output_1_loss: 1.2045 - mathsformer_LLM_output_2_loss: 1.2100 - mathsformer_LLM_output_masked_categorical_accuracy: 0.5471 - mathsformer_LLM_output_1_masked_categorical_accuracy: 0.5474 - mathsformer_LLM_output_2_masked_categorical_accuracy: 0.5456"
     ]
    },
    {
     "name": "stderr",
     "output_type": "stream",
     "text": [
      "DEBUG:mathsformer.selfsupervised_learning_addition_model_backend:Training reached the end of epoch at index 7\n",
      "DEBUG:mathsformer.selfsupervised_learning_addition_model_backend:    with metric loss: 3.6209\n",
      "DEBUG:mathsformer.selfsupervised_learning_addition_model_backend:    with metric mathsformer_LLM_output_loss: 1.2065\n",
      "DEBUG:mathsformer.selfsupervised_learning_addition_model_backend:    with metric mathsformer_LLM_output_1_loss: 1.2045\n",
      "DEBUG:mathsformer.selfsupervised_learning_addition_model_backend:    with metric mathsformer_LLM_output_2_loss: 1.21\n",
      "DEBUG:mathsformer.selfsupervised_learning_addition_model_backend:    with metric mathsformer_LLM_output_masked_categorical_accuracy: 0.54709\n",
      "DEBUG:mathsformer.selfsupervised_learning_addition_model_backend:    with metric mathsformer_LLM_output_1_masked_categorical_accuracy: 0.54737\n",
      "DEBUG:mathsformer.selfsupervised_learning_addition_model_backend:    with metric mathsformer_LLM_output_2_masked_categorical_accuracy: 0.54561\n",
      "DEBUG:mathsformer.selfsupervised_learning_addition_model_backend:    with metric val_loss: 4.468\n",
      "DEBUG:mathsformer.selfsupervised_learning_addition_model_backend:    with metric val_mathsformer_LLM_output_loss: 1.486\n",
      "DEBUG:mathsformer.selfsupervised_learning_addition_model_backend:    with metric val_mathsformer_LLM_output_1_loss: 1.4846\n",
      "DEBUG:mathsformer.selfsupervised_learning_addition_model_backend:    with metric val_mathsformer_LLM_output_2_loss: 1.4974\n",
      "DEBUG:mathsformer.selfsupervised_learning_addition_model_backend:    with metric val_mathsformer_LLM_output_masked_categorical_accuracy: 0.44004\n",
      "DEBUG:mathsformer.selfsupervised_learning_addition_model_backend:    with metric val_mathsformer_LLM_output_1_masked_categorical_accuracy: 0.44002\n",
      "DEBUG:mathsformer.selfsupervised_learning_addition_model_backend:    with metric val_mathsformer_LLM_output_2_masked_categorical_accuracy: 0.43714\n",
      "DEBUG:mathsformer.selfsupervised_learning_addition_model_backend:Running text --> text mathsformer inference on some training data:\n",
      "DEBUG:mathsformer.selfsupervised_learning_addition_model_backend:------------------------------------------------------------------------------------\n",
      "DEBUG:mathsformer.selfsupervised_learning_addition_model_backend:              INPUT         TRUE   PRED(MASK)    PRED(GEN)      CORRECT     RESIDUAL\n",
      "DEBUG:mathsformer.selfsupervised_learning_addition_model_backend:------------------------------------------------------------------------------------\n",
      "DEBUG:mathsformer.selfsupervised_learning_addition_model_backend:            76-N292          368        N29EE         N260                      -628\n",
      "DEBUG:mathsformer.selfsupervised_learning_addition_model_backend:            N4+N799         N803        N790E         N790                        13\n",
      "DEBUG:mathsformer.selfsupervised_learning_addition_model_backend:              333+7          340        328EE          328                       -12\n",
      "DEBUG:mathsformer.selfsupervised_learning_addition_model_backend: N58+N2-N615-51+678         1182        N02EE         N102                     -1284\n",
      "DEBUG:mathsformer.selfsupervised_learning_addition_model_backend:      N1-148-N5+N30         N174        N202E          N20                       154\n",
      "DEBUG:mathsformer.selfsupervised_learning_addition_model_backend:   8-N118+434+N1647        N1087        N1029        N1029                        58\n",
      "DEBUG:mathsformer.selfsupervised_learning_addition_model_backend:   N510+8-N69+65-N8         N360        N19EE         N109                       251\n",
      "DEBUG:mathsformer.selfsupervised_learning_addition_model_backend:                N12          N12        N12EE          N12          X              0\n",
      "DEBUG:mathsformer.selfsupervised_learning_addition_model_backend:                  9            9        9EE8E            9          X              0\n",
      "DEBUG:mathsformer.selfsupervised_learning_addition_model_backend:               3930         3930        3930E         3930          X              0\n",
      "DEBUG:mathsformer.selfsupervised_learning_addition_model_backend:Running text --> text mathsformer inference on some validation data:\n",
      "DEBUG:mathsformer.selfsupervised_learning_addition_model_backend:--------------------------------------------------------------------------------\n",
      "DEBUG:mathsformer.selfsupervised_learning_addition_model_backend:          INPUT         TRUE   PRED(MASK)    PRED(GEN)      CORRECT     RESIDUAL\n",
      "DEBUG:mathsformer.selfsupervised_learning_addition_model_backend:--------------------------------------------------------------------------------\n",
      "DEBUG:mathsformer.selfsupervised_learning_addition_model_backend:      N5-14-516         N535        N500E         N500                        35\n",
      "DEBUG:mathsformer.selfsupervised_learning_addition_model_backend:   566-N52-5117        N4499        N4900        N4900                      -401\n",
      "DEBUG:mathsformer.selfsupervised_learning_addition_model_backend:    N7+N3567-36        N3610        33572         3572                      7182\n",
      "DEBUG:mathsformer.selfsupervised_learning_addition_model_backend:       414+N2-2          410        408EE          408                        -2\n",
      "DEBUG:mathsformer.selfsupervised_learning_addition_model_backend:     N16-36+N31          N83        N1EEE          N10                        73\n",
      "DEBUG:mathsformer.selfsupervised_learning_addition_model_backend:     2988+N54-6         2928        2922E         2922                        -6\n",
      "DEBUG:mathsformer.selfsupervised_learning_addition_model_backend:    N4036+N8+93        N3951        N4088        N4088                      -137\n",
      "DEBUG:mathsformer.selfsupervised_learning_addition_model_backend: N302+N4928+N86        N5316        N4290        N4290                      1026\n",
      "DEBUG:mathsformer.selfsupervised_learning_addition_model_backend: 7339+N771+N948         5620        1899E         1299                     -4321\n",
      "DEBUG:mathsformer.selfsupervised_learning_addition_model_backend:  N1012+N47+N85        N1144        N1978        N1968                      -824\n"
     ]
    },
    {
     "name": "stdout",
     "output_type": "stream",
     "text": [
      "2000/2000 [==============================] - 873s 437ms/step - loss: 3.6209 - mathsformer_LLM_output_loss: 1.2065 - mathsformer_LLM_output_1_loss: 1.2045 - mathsformer_LLM_output_2_loss: 1.2100 - mathsformer_LLM_output_masked_categorical_accuracy: 0.5471 - mathsformer_LLM_output_1_masked_categorical_accuracy: 0.5474 - mathsformer_LLM_output_2_masked_categorical_accuracy: 0.5456 - val_loss: 4.4680 - val_mathsformer_LLM_output_loss: 1.4860 - val_mathsformer_LLM_output_1_loss: 1.4846 - val_mathsformer_LLM_output_2_loss: 1.4974 - val_mathsformer_LLM_output_masked_categorical_accuracy: 0.4400 - val_mathsformer_LLM_output_1_masked_categorical_accuracy: 0.4400 - val_mathsformer_LLM_output_2_masked_categorical_accuracy: 0.4371\n",
      "Epoch 9/100000\n",
      "2000/2000 [==============================] - ETA: 0s - loss: 3.5742 - mathsformer_LLM_output_loss: 1.1911 - mathsformer_LLM_output_1_loss: 1.1892 - mathsformer_LLM_output_2_loss: 1.1939 - mathsformer_LLM_output_masked_categorical_accuracy: 0.5491 - mathsformer_LLM_output_1_masked_categorical_accuracy: 0.5491 - mathsformer_LLM_output_2_masked_categorical_accuracy: 0.5479"
     ]
    },
    {
     "name": "stderr",
     "output_type": "stream",
     "text": [
      "DEBUG:mathsformer.selfsupervised_learning_addition_model_backend:Training reached the end of epoch at index 8\n",
      "DEBUG:mathsformer.selfsupervised_learning_addition_model_backend:    with metric loss: 3.5742\n",
      "DEBUG:mathsformer.selfsupervised_learning_addition_model_backend:    with metric mathsformer_LLM_output_loss: 1.1911\n",
      "DEBUG:mathsformer.selfsupervised_learning_addition_model_backend:    with metric mathsformer_LLM_output_1_loss: 1.1892\n",
      "DEBUG:mathsformer.selfsupervised_learning_addition_model_backend:    with metric mathsformer_LLM_output_2_loss: 1.1939\n",
      "DEBUG:mathsformer.selfsupervised_learning_addition_model_backend:    with metric mathsformer_LLM_output_masked_categorical_accuracy: 0.54907\n",
      "DEBUG:mathsformer.selfsupervised_learning_addition_model_backend:    with metric mathsformer_LLM_output_1_masked_categorical_accuracy: 0.54905\n",
      "DEBUG:mathsformer.selfsupervised_learning_addition_model_backend:    with metric mathsformer_LLM_output_2_masked_categorical_accuracy: 0.5479\n",
      "DEBUG:mathsformer.selfsupervised_learning_addition_model_backend:    with metric val_loss: 4.3771\n",
      "DEBUG:mathsformer.selfsupervised_learning_addition_model_backend:    with metric val_mathsformer_LLM_output_loss: 1.4574\n",
      "DEBUG:mathsformer.selfsupervised_learning_addition_model_backend:    with metric val_mathsformer_LLM_output_1_loss: 1.4564\n",
      "DEBUG:mathsformer.selfsupervised_learning_addition_model_backend:    with metric val_mathsformer_LLM_output_2_loss: 1.4632\n",
      "DEBUG:mathsformer.selfsupervised_learning_addition_model_backend:    with metric val_mathsformer_LLM_output_masked_categorical_accuracy: 0.43928\n",
      "DEBUG:mathsformer.selfsupervised_learning_addition_model_backend:    with metric val_mathsformer_LLM_output_1_masked_categorical_accuracy: 0.44007\n",
      "DEBUG:mathsformer.selfsupervised_learning_addition_model_backend:    with metric val_mathsformer_LLM_output_2_masked_categorical_accuracy: 0.43992\n",
      "DEBUG:mathsformer.selfsupervised_learning_addition_model_backend:Running text --> text mathsformer inference on some training data:\n",
      "DEBUG:mathsformer.selfsupervised_learning_addition_model_backend:------------------------------------------------------------------------------------\n",
      "DEBUG:mathsformer.selfsupervised_learning_addition_model_backend:              INPUT         TRUE   PRED(MASK)    PRED(GEN)      CORRECT     RESIDUAL\n",
      "DEBUG:mathsformer.selfsupervised_learning_addition_model_backend:------------------------------------------------------------------------------------\n",
      "DEBUG:mathsformer.selfsupervised_learning_addition_model_backend:            76-N292          368        N99EE         N229                      -597\n",
      "DEBUG:mathsformer.selfsupervised_learning_addition_model_backend:            N4+N799         N803        7701E          793                      1596\n",
      "DEBUG:mathsformer.selfsupervised_learning_addition_model_backend:              333+7          340        329EE          329                       -11\n",
      "DEBUG:mathsformer.selfsupervised_learning_addition_model_backend: N58+N2-N615-51+678         1182        N02EE         N102                     -1284\n",
      "DEBUG:mathsformer.selfsupervised_learning_addition_model_backend:      N1-148-N5+N30         N174        N102E         N102                        72\n",
      "DEBUG:mathsformer.selfsupervised_learning_addition_model_backend:   8-N118+434+N1647        N1087        N1799        N1799                      -712\n",
      "DEBUG:mathsformer.selfsupervised_learning_addition_model_backend:   N510+8-N69+65-N8         N360        N69EE          N69                       291\n",
      "DEBUG:mathsformer.selfsupervised_learning_addition_model_backend:                N12          N12        N12EE          N12          X              0\n",
      "DEBUG:mathsformer.selfsupervised_learning_addition_model_backend:                  9            9        9EE8E            9          X              0\n",
      "DEBUG:mathsformer.selfsupervised_learning_addition_model_backend:               3930         3930        3930E         3930          X              0\n",
      "DEBUG:mathsformer.selfsupervised_learning_addition_model_backend:Running text --> text mathsformer inference on some validation data:\n",
      "DEBUG:mathsformer.selfsupervised_learning_addition_model_backend:--------------------------------------------------------------------------------\n",
      "DEBUG:mathsformer.selfsupervised_learning_addition_model_backend:          INPUT         TRUE   PRED(MASK)    PRED(GEN)      CORRECT     RESIDUAL\n",
      "DEBUG:mathsformer.selfsupervised_learning_addition_model_backend:--------------------------------------------------------------------------------\n",
      "DEBUG:mathsformer.selfsupervised_learning_addition_model_backend:      N5-14-516         N535        N599E         N599                       -64\n",
      "DEBUG:mathsformer.selfsupervised_learning_addition_model_backend:   566-N52-5117        N4499        N299E        N2999                      1500\n",
      "DEBUG:mathsformer.selfsupervised_learning_addition_model_backend:    N7+N3567-36        N3610        33511         3511                      7121\n",
      "DEBUG:mathsformer.selfsupervised_learning_addition_model_backend:       414+N2-2          410        419EE          419                         9\n",
      "DEBUG:mathsformer.selfsupervised_learning_addition_model_backend:     N16-36+N31          N83        N1EEE          N10                        73\n",
      "DEBUG:mathsformer.selfsupervised_learning_addition_model_backend:     2988+N54-6         2928        2933E         2933                         5\n",
      "DEBUG:mathsformer.selfsupervised_learning_addition_model_backend:    N4036+N8+93        N3951        N4099        N4099                      -148\n",
      "DEBUG:mathsformer.selfsupervised_learning_addition_model_backend: N302+N4928+N86        N5316        N6191        N6191                      -875\n",
      "DEBUG:mathsformer.selfsupervised_learning_addition_model_backend: 7339+N771+N948         5620        6999E         6999                      1379\n",
      "DEBUG:mathsformer.selfsupervised_learning_addition_model_backend:  N1012+N47+N85        N1144        N1999        N1999                      -855\n"
     ]
    },
    {
     "name": "stdout",
     "output_type": "stream",
     "text": [
      "2000/2000 [==============================] - 911s 455ms/step - loss: 3.5742 - mathsformer_LLM_output_loss: 1.1911 - mathsformer_LLM_output_1_loss: 1.1892 - mathsformer_LLM_output_2_loss: 1.1939 - mathsformer_LLM_output_masked_categorical_accuracy: 0.5491 - mathsformer_LLM_output_1_masked_categorical_accuracy: 0.5491 - mathsformer_LLM_output_2_masked_categorical_accuracy: 0.5479 - val_loss: 4.3771 - val_mathsformer_LLM_output_loss: 1.4574 - val_mathsformer_LLM_output_1_loss: 1.4564 - val_mathsformer_LLM_output_2_loss: 1.4632 - val_mathsformer_LLM_output_masked_categorical_accuracy: 0.4393 - val_mathsformer_LLM_output_1_masked_categorical_accuracy: 0.4401 - val_mathsformer_LLM_output_2_masked_categorical_accuracy: 0.4399\n",
      "Epoch 10/100000\n",
      "2000/2000 [==============================] - ETA: 0s - loss: 3.5179 - mathsformer_LLM_output_loss: 1.1715 - mathsformer_LLM_output_1_loss: 1.1703 - mathsformer_LLM_output_2_loss: 1.1761 - mathsformer_LLM_output_masked_categorical_accuracy: 0.5552 - mathsformer_LLM_output_1_masked_categorical_accuracy: 0.5556 - mathsformer_LLM_output_2_masked_categorical_accuracy: 0.5544"
     ]
    },
    {
     "name": "stderr",
     "output_type": "stream",
     "text": [
      "DEBUG:mathsformer.selfsupervised_learning_addition_model_backend:Training reached the end of epoch at index 9\n",
      "DEBUG:mathsformer.selfsupervised_learning_addition_model_backend:    with metric loss: 3.5179\n",
      "DEBUG:mathsformer.selfsupervised_learning_addition_model_backend:    with metric mathsformer_LLM_output_loss: 1.1715\n",
      "DEBUG:mathsformer.selfsupervised_learning_addition_model_backend:    with metric mathsformer_LLM_output_1_loss: 1.1703\n",
      "DEBUG:mathsformer.selfsupervised_learning_addition_model_backend:    with metric mathsformer_LLM_output_2_loss: 1.1761\n",
      "DEBUG:mathsformer.selfsupervised_learning_addition_model_backend:    with metric mathsformer_LLM_output_masked_categorical_accuracy: 0.55522\n",
      "DEBUG:mathsformer.selfsupervised_learning_addition_model_backend:    with metric mathsformer_LLM_output_1_masked_categorical_accuracy: 0.55563\n",
      "DEBUG:mathsformer.selfsupervised_learning_addition_model_backend:    with metric mathsformer_LLM_output_2_masked_categorical_accuracy: 0.5544\n",
      "DEBUG:mathsformer.selfsupervised_learning_addition_model_backend:    with metric val_loss: 4.2609\n",
      "DEBUG:mathsformer.selfsupervised_learning_addition_model_backend:    with metric val_mathsformer_LLM_output_loss: 1.4199\n",
      "DEBUG:mathsformer.selfsupervised_learning_addition_model_backend:    with metric val_mathsformer_LLM_output_1_loss: 1.4184\n",
      "DEBUG:mathsformer.selfsupervised_learning_addition_model_backend:    with metric val_mathsformer_LLM_output_2_loss: 1.4225\n",
      "DEBUG:mathsformer.selfsupervised_learning_addition_model_backend:    with metric val_mathsformer_LLM_output_masked_categorical_accuracy: 0.45744\n",
      "DEBUG:mathsformer.selfsupervised_learning_addition_model_backend:    with metric val_mathsformer_LLM_output_1_masked_categorical_accuracy: 0.45679\n",
      "DEBUG:mathsformer.selfsupervised_learning_addition_model_backend:    with metric val_mathsformer_LLM_output_2_masked_categorical_accuracy: 0.45891\n",
      "DEBUG:mathsformer.selfsupervised_learning_addition_model_backend:Running text --> text mathsformer inference on some training data:\n",
      "DEBUG:mathsformer.selfsupervised_learning_addition_model_backend:------------------------------------------------------------------------------------\n",
      "DEBUG:mathsformer.selfsupervised_learning_addition_model_backend:              INPUT         TRUE   PRED(MASK)    PRED(GEN)      CORRECT     RESIDUAL\n",
      "DEBUG:mathsformer.selfsupervised_learning_addition_model_backend:------------------------------------------------------------------------------------\n",
      "DEBUG:mathsformer.selfsupervised_learning_addition_model_backend:            76-N292          368        N24EE         N244                      -612\n",
      "DEBUG:mathsformer.selfsupervised_learning_addition_model_backend:            N4+N799         N803        N790E         N792                        11\n",
      "DEBUG:mathsformer.selfsupervised_learning_addition_model_backend:              333+7          340        328EE          328                       -12\n",
      "DEBUG:mathsformer.selfsupervised_learning_addition_model_backend: N58+N2-N615-51+678         1182        N22EE         N122                     -1304\n",
      "DEBUG:mathsformer.selfsupervised_learning_addition_model_backend:      N1-148-N5+N30         N174        N122E         N122                        52\n",
      "DEBUG:mathsformer.selfsupervised_learning_addition_model_backend:   8-N118+434+N1647        N1087        N1224        N1224                      -137\n",
      "DEBUG:mathsformer.selfsupervised_learning_addition_model_backend:   N510+8-N69+65-N8         N360        N444E         N444                       -84\n",
      "DEBUG:mathsformer.selfsupervised_learning_addition_model_backend:                N12          N12        N12EE          N12          X              0\n",
      "DEBUG:mathsformer.selfsupervised_learning_addition_model_backend:                  9            9        9EE4E            9          X              0\n",
      "DEBUG:mathsformer.selfsupervised_learning_addition_model_backend:               3930         3930        3930E         3930          X              0\n",
      "DEBUG:mathsformer.selfsupervised_learning_addition_model_backend:Running text --> text mathsformer inference on some validation data:\n",
      "DEBUG:mathsformer.selfsupervised_learning_addition_model_backend:--------------------------------------------------------------------------------\n",
      "DEBUG:mathsformer.selfsupervised_learning_addition_model_backend:          INPUT         TRUE   PRED(MASK)    PRED(GEN)      CORRECT     RESIDUAL\n",
      "DEBUG:mathsformer.selfsupervised_learning_addition_model_backend:--------------------------------------------------------------------------------\n",
      "DEBUG:mathsformer.selfsupervised_learning_addition_model_backend:      N5-14-516         N535        N538E         N538                        -3\n",
      "DEBUG:mathsformer.selfsupervised_learning_addition_model_backend:   566-N52-5117        N4499        N4845        N4845                      -346\n",
      "DEBUG:mathsformer.selfsupervised_learning_addition_model_backend:    N7+N3567-36        N3610        N3584        N3584                        26\n",
      "DEBUG:mathsformer.selfsupervised_learning_addition_model_backend:       414+N2-2          410        412EE          412                         2\n",
      "DEBUG:mathsformer.selfsupervised_learning_addition_model_backend:     N16-36+N31          N83        N1EEE          N10                        73\n",
      "DEBUG:mathsformer.selfsupervised_learning_addition_model_backend:     2988+N54-6         2928        2944E         2944                        16\n",
      "DEBUG:mathsformer.selfsupervised_learning_addition_model_backend:    N4036+N8+93        N3951        N4988        N4988                     -1037\n",
      "DEBUG:mathsformer.selfsupervised_learning_addition_model_backend: N302+N4928+N86        N5316        N5244        N5244                        72\n",
      "DEBUG:mathsformer.selfsupervised_learning_addition_model_backend: 7339+N771+N948         5620        144EE        11244                      5624\n",
      "DEBUG:mathsformer.selfsupervised_learning_addition_model_backend:  N1012+N47+N85        N1144        N1988        N1985                      -841\n"
     ]
    },
    {
     "name": "stdout",
     "output_type": "stream",
     "text": [
      "2000/2000 [==============================] - 980s 490ms/step - loss: 3.5179 - mathsformer_LLM_output_loss: 1.1715 - mathsformer_LLM_output_1_loss: 1.1703 - mathsformer_LLM_output_2_loss: 1.1761 - mathsformer_LLM_output_masked_categorical_accuracy: 0.5552 - mathsformer_LLM_output_1_masked_categorical_accuracy: 0.5556 - mathsformer_LLM_output_2_masked_categorical_accuracy: 0.5544 - val_loss: 4.2609 - val_mathsformer_LLM_output_loss: 1.4199 - val_mathsformer_LLM_output_1_loss: 1.4184 - val_mathsformer_LLM_output_2_loss: 1.4225 - val_mathsformer_LLM_output_masked_categorical_accuracy: 0.4574 - val_mathsformer_LLM_output_1_masked_categorical_accuracy: 0.4568 - val_mathsformer_LLM_output_2_masked_categorical_accuracy: 0.4589\n",
      "Epoch 11/100000\n",
      "2000/2000 [==============================] - ETA: 0s - loss: 3.4561 - mathsformer_LLM_output_loss: 1.1520 - mathsformer_LLM_output_1_loss: 1.1498 - mathsformer_LLM_output_2_loss: 1.1543 - mathsformer_LLM_output_masked_categorical_accuracy: 0.5595 - mathsformer_LLM_output_1_masked_categorical_accuracy: 0.5600 - mathsformer_LLM_output_2_masked_categorical_accuracy: 0.5592"
     ]
    },
    {
     "name": "stderr",
     "output_type": "stream",
     "text": [
      "DEBUG:mathsformer.selfsupervised_learning_addition_model_backend:Training reached the end of epoch at index 10\n",
      "DEBUG:mathsformer.selfsupervised_learning_addition_model_backend:    with metric loss: 3.4561\n",
      "DEBUG:mathsformer.selfsupervised_learning_addition_model_backend:    with metric mathsformer_LLM_output_loss: 1.152\n",
      "DEBUG:mathsformer.selfsupervised_learning_addition_model_backend:    with metric mathsformer_LLM_output_1_loss: 1.1498\n",
      "DEBUG:mathsformer.selfsupervised_learning_addition_model_backend:    with metric mathsformer_LLM_output_2_loss: 1.1543\n",
      "DEBUG:mathsformer.selfsupervised_learning_addition_model_backend:    with metric mathsformer_LLM_output_masked_categorical_accuracy: 0.55947\n",
      "DEBUG:mathsformer.selfsupervised_learning_addition_model_backend:    with metric mathsformer_LLM_output_1_masked_categorical_accuracy: 0.56\n",
      "DEBUG:mathsformer.selfsupervised_learning_addition_model_backend:    with metric mathsformer_LLM_output_2_masked_categorical_accuracy: 0.55916\n",
      "DEBUG:mathsformer.selfsupervised_learning_addition_model_backend:    with metric val_loss: 4.2246\n",
      "DEBUG:mathsformer.selfsupervised_learning_addition_model_backend:    with metric val_mathsformer_LLM_output_loss: 1.4103\n",
      "DEBUG:mathsformer.selfsupervised_learning_addition_model_backend:    with metric val_mathsformer_LLM_output_1_loss: 1.406\n",
      "DEBUG:mathsformer.selfsupervised_learning_addition_model_backend:    with metric val_mathsformer_LLM_output_2_loss: 1.4083\n",
      "DEBUG:mathsformer.selfsupervised_learning_addition_model_backend:    with metric val_mathsformer_LLM_output_masked_categorical_accuracy: 0.4595\n",
      "DEBUG:mathsformer.selfsupervised_learning_addition_model_backend:    with metric val_mathsformer_LLM_output_1_masked_categorical_accuracy: 0.45767\n",
      "DEBUG:mathsformer.selfsupervised_learning_addition_model_backend:    with metric val_mathsformer_LLM_output_2_masked_categorical_accuracy: 0.4547\n",
      "DEBUG:mathsformer.selfsupervised_learning_addition_model_backend:Running text --> text mathsformer inference on some training data:\n",
      "DEBUG:mathsformer.selfsupervised_learning_addition_model_backend:------------------------------------------------------------------------------------\n",
      "DEBUG:mathsformer.selfsupervised_learning_addition_model_backend:              INPUT         TRUE   PRED(MASK)    PRED(GEN)      CORRECT     RESIDUAL\n",
      "DEBUG:mathsformer.selfsupervised_learning_addition_model_backend:------------------------------------------------------------------------------------\n",
      "DEBUG:mathsformer.selfsupervised_learning_addition_model_backend:            76-N292          368        N65EE         N255                      -623\n",
      "DEBUG:mathsformer.selfsupervised_learning_addition_model_backend:            N4+N799         N803        7706E          796                      1599\n",
      "DEBUG:mathsformer.selfsupervised_learning_addition_model_backend:              333+7          340        328EE          328                       -12\n",
      "DEBUG:mathsformer.selfsupervised_learning_addition_model_backend: N58+N2-N615-51+678         1182        N22EE         N122                     -1304\n",
      "DEBUG:mathsformer.selfsupervised_learning_addition_model_backend:      N1-148-N5+N30         N174        N106E         N102                        72\n",
      "DEBUG:mathsformer.selfsupervised_learning_addition_model_backend:   8-N118+434+N1647        N1087        N1056        N1056                        31\n",
      "DEBUG:mathsformer.selfsupervised_learning_addition_model_backend:   N510+8-N69+65-N8         N360        N455E         N445                       -85\n",
      "DEBUG:mathsformer.selfsupervised_learning_addition_model_backend:                N12          N12        N12EE          N12          X              0\n",
      "DEBUG:mathsformer.selfsupervised_learning_addition_model_backend:                  9            9        9EE8E            9          X              0\n",
      "DEBUG:mathsformer.selfsupervised_learning_addition_model_backend:               3930         3930        3930E         3930          X              0\n",
      "DEBUG:mathsformer.selfsupervised_learning_addition_model_backend:Running text --> text mathsformer inference on some validation data:\n",
      "DEBUG:mathsformer.selfsupervised_learning_addition_model_backend:--------------------------------------------------------------------------------\n",
      "DEBUG:mathsformer.selfsupervised_learning_addition_model_backend:          INPUT         TRUE   PRED(MASK)    PRED(GEN)      CORRECT     RESIDUAL\n",
      "DEBUG:mathsformer.selfsupervised_learning_addition_model_backend:--------------------------------------------------------------------------------\n",
      "DEBUG:mathsformer.selfsupervised_learning_addition_model_backend:      N5-14-516         N535        N458E         N458                        77\n",
      "DEBUG:mathsformer.selfsupervised_learning_addition_model_backend:   566-N52-5117        N4499        N4558        N4558                       -59\n",
      "DEBUG:mathsformer.selfsupervised_learning_addition_model_backend:    N7+N3567-36        N3610        N3518        N3518                        92\n",
      "DEBUG:mathsformer.selfsupervised_learning_addition_model_backend:       414+N2-2          410        419EE          419                         9\n",
      "DEBUG:mathsformer.selfsupervised_learning_addition_model_backend:     N16-36+N31          N83        N1EEE          N10                        73\n",
      "DEBUG:mathsformer.selfsupervised_learning_addition_model_backend:     2988+N54-6         2928        2954E         2954                        26\n",
      "DEBUG:mathsformer.selfsupervised_learning_addition_model_backend:    N4036+N8+93        N3951        N4098        N4098                      -147\n",
      "DEBUG:mathsformer.selfsupervised_learning_addition_model_backend: N302+N4928+N86        N5316        N5598        N5598                      -282\n",
      "DEBUG:mathsformer.selfsupervised_learning_addition_model_backend: 7339+N771+N948         5620        6558E         6558                       938\n",
      "DEBUG:mathsformer.selfsupervised_learning_addition_model_backend:  N1012+N47+N85        N1144        N1055        N1055                        89\n"
     ]
    },
    {
     "name": "stdout",
     "output_type": "stream",
     "text": [
      "2000/2000 [==============================] - 3390s 2s/step - loss: 3.4561 - mathsformer_LLM_output_loss: 1.1520 - mathsformer_LLM_output_1_loss: 1.1498 - mathsformer_LLM_output_2_loss: 1.1543 - mathsformer_LLM_output_masked_categorical_accuracy: 0.5595 - mathsformer_LLM_output_1_masked_categorical_accuracy: 0.5600 - mathsformer_LLM_output_2_masked_categorical_accuracy: 0.5592 - val_loss: 4.2246 - val_mathsformer_LLM_output_loss: 1.4103 - val_mathsformer_LLM_output_1_loss: 1.4060 - val_mathsformer_LLM_output_2_loss: 1.4083 - val_mathsformer_LLM_output_masked_categorical_accuracy: 0.4595 - val_mathsformer_LLM_output_1_masked_categorical_accuracy: 0.4577 - val_mathsformer_LLM_output_2_masked_categorical_accuracy: 0.4547\n",
      "Epoch 12/100000\n",
      "2000/2000 [==============================] - ETA: 0s - loss: 3.3971 - mathsformer_LLM_output_loss: 1.1326 - mathsformer_LLM_output_1_loss: 1.1298 - mathsformer_LLM_output_2_loss: 1.1347 - mathsformer_LLM_output_masked_categorical_accuracy: 0.5662 - mathsformer_LLM_output_1_masked_categorical_accuracy: 0.5666 - mathsformer_LLM_output_2_masked_categorical_accuracy: 0.5659"
     ]
    },
    {
     "name": "stderr",
     "output_type": "stream",
     "text": [
      "DEBUG:mathsformer.selfsupervised_learning_addition_model_backend:Training reached the end of epoch at index 11\n",
      "DEBUG:mathsformer.selfsupervised_learning_addition_model_backend:    with metric loss: 3.3971\n",
      "DEBUG:mathsformer.selfsupervised_learning_addition_model_backend:    with metric mathsformer_LLM_output_loss: 1.1326\n",
      "DEBUG:mathsformer.selfsupervised_learning_addition_model_backend:    with metric mathsformer_LLM_output_1_loss: 1.1298\n",
      "DEBUG:mathsformer.selfsupervised_learning_addition_model_backend:    with metric mathsformer_LLM_output_2_loss: 1.1347\n",
      "DEBUG:mathsformer.selfsupervised_learning_addition_model_backend:    with metric mathsformer_LLM_output_masked_categorical_accuracy: 0.56616\n",
      "DEBUG:mathsformer.selfsupervised_learning_addition_model_backend:    with metric mathsformer_LLM_output_1_masked_categorical_accuracy: 0.56662\n",
      "DEBUG:mathsformer.selfsupervised_learning_addition_model_backend:    with metric mathsformer_LLM_output_2_masked_categorical_accuracy: 0.56594\n",
      "DEBUG:mathsformer.selfsupervised_learning_addition_model_backend:    with metric val_loss: 4.1789\n",
      "DEBUG:mathsformer.selfsupervised_learning_addition_model_backend:    with metric val_mathsformer_LLM_output_loss: 1.3923\n",
      "DEBUG:mathsformer.selfsupervised_learning_addition_model_backend:    with metric val_mathsformer_LLM_output_1_loss: 1.3893\n",
      "DEBUG:mathsformer.selfsupervised_learning_addition_model_backend:    with metric val_mathsformer_LLM_output_2_loss: 1.3973\n",
      "DEBUG:mathsformer.selfsupervised_learning_addition_model_backend:    with metric val_mathsformer_LLM_output_masked_categorical_accuracy: 0.46611\n",
      "DEBUG:mathsformer.selfsupervised_learning_addition_model_backend:    with metric val_mathsformer_LLM_output_1_masked_categorical_accuracy: 0.46627\n",
      "DEBUG:mathsformer.selfsupervised_learning_addition_model_backend:    with metric val_mathsformer_LLM_output_2_masked_categorical_accuracy: 0.46813\n",
      "DEBUG:mathsformer.selfsupervised_learning_addition_model_backend:Running text --> text mathsformer inference on some training data:\n",
      "DEBUG:mathsformer.selfsupervised_learning_addition_model_backend:------------------------------------------------------------------------------------\n",
      "DEBUG:mathsformer.selfsupervised_learning_addition_model_backend:              INPUT         TRUE   PRED(MASK)    PRED(GEN)      CORRECT     RESIDUAL\n",
      "DEBUG:mathsformer.selfsupervised_learning_addition_model_backend:------------------------------------------------------------------------------------\n",
      "DEBUG:mathsformer.selfsupervised_learning_addition_model_backend:            76-N292          368        N66EE         N226                      -594\n",
      "DEBUG:mathsformer.selfsupervised_learning_addition_model_backend:            N4+N799         N803        N703E         N703                       100\n",
      "DEBUG:mathsformer.selfsupervised_learning_addition_model_backend:              333+7          340        328EE          328                       -12\n",
      "DEBUG:mathsformer.selfsupervised_learning_addition_model_backend: N58+N2-N615-51+678         1182        N30EE         N130                     -1312\n",
      "DEBUG:mathsformer.selfsupervised_learning_addition_model_backend:      N1-148-N5+N30         N174        N186E         N186                       -12\n",
      "DEBUG:mathsformer.selfsupervised_learning_addition_model_backend:   8-N118+434+N1647        N1087        N1016        N1016                        71\n",
      "DEBUG:mathsformer.selfsupervised_learning_addition_model_backend:   N510+8-N69+65-N8         N360        N436E         N436                       -76\n",
      "DEBUG:mathsformer.selfsupervised_learning_addition_model_backend:                N12          N12        N12EE          N12          X              0\n",
      "DEBUG:mathsformer.selfsupervised_learning_addition_model_backend:                  9            9        9EE6E            9          X              0\n",
      "DEBUG:mathsformer.selfsupervised_learning_addition_model_backend:               3930         3930        3930E         3930          X              0\n",
      "DEBUG:mathsformer.selfsupervised_learning_addition_model_backend:Running text --> text mathsformer inference on some validation data:\n",
      "DEBUG:mathsformer.selfsupervised_learning_addition_model_backend:--------------------------------------------------------------------------------\n",
      "DEBUG:mathsformer.selfsupervised_learning_addition_model_backend:          INPUT         TRUE   PRED(MASK)    PRED(GEN)      CORRECT     RESIDUAL\n",
      "DEBUG:mathsformer.selfsupervised_learning_addition_model_backend:--------------------------------------------------------------------------------\n",
      "DEBUG:mathsformer.selfsupervised_learning_addition_model_backend:      N5-14-516         N535        N534E         N534                         1\n",
      "DEBUG:mathsformer.selfsupervised_learning_addition_model_backend:   566-N52-5117        N4499        N4466        N4466                        33\n",
      "DEBUG:mathsformer.selfsupervised_learning_addition_model_backend:    N7+N3567-36        N3610        33526         3526                      7136\n",
      "DEBUG:mathsformer.selfsupervised_learning_addition_model_backend:       414+N2-2          410        412EE          412                         2\n",
      "DEBUG:mathsformer.selfsupervised_learning_addition_model_backend:     N16-36+N31          N83        N1EEE          N10                        73\n",
      "DEBUG:mathsformer.selfsupervised_learning_addition_model_backend:     2988+N54-6         2928        2934E         2934                         6\n",
      "DEBUG:mathsformer.selfsupervised_learning_addition_model_backend:    N4036+N8+93        N3951        N4062        N4062                      -111\n",
      "DEBUG:mathsformer.selfsupervised_learning_addition_model_backend: N302+N4928+N86        N5316        N5266        N5266                        50\n",
      "DEBUG:mathsformer.selfsupervised_learning_addition_model_backend: 7339+N771+N948         5620        6206E         6206                       586\n",
      "DEBUG:mathsformer.selfsupervised_learning_addition_model_backend:  N1012+N47+N85        N1144        N1046        N1046                        98\n"
     ]
    },
    {
     "name": "stdout",
     "output_type": "stream",
     "text": [
      "2000/2000 [==============================] - 1013s 507ms/step - loss: 3.3971 - mathsformer_LLM_output_loss: 1.1326 - mathsformer_LLM_output_1_loss: 1.1298 - mathsformer_LLM_output_2_loss: 1.1347 - mathsformer_LLM_output_masked_categorical_accuracy: 0.5662 - mathsformer_LLM_output_1_masked_categorical_accuracy: 0.5666 - mathsformer_LLM_output_2_masked_categorical_accuracy: 0.5659 - val_loss: 4.1789 - val_mathsformer_LLM_output_loss: 1.3923 - val_mathsformer_LLM_output_1_loss: 1.3893 - val_mathsformer_LLM_output_2_loss: 1.3973 - val_mathsformer_LLM_output_masked_categorical_accuracy: 0.4661 - val_mathsformer_LLM_output_1_masked_categorical_accuracy: 0.4663 - val_mathsformer_LLM_output_2_masked_categorical_accuracy: 0.4681\n",
      "Epoch 13/100000\n",
      "2000/2000 [==============================] - ETA: 0s - loss: 3.3410 - mathsformer_LLM_output_loss: 1.1138 - mathsformer_LLM_output_1_loss: 1.1112 - mathsformer_LLM_output_2_loss: 1.1160 - mathsformer_LLM_output_masked_categorical_accuracy: 0.5702 - mathsformer_LLM_output_1_masked_categorical_accuracy: 0.5712 - mathsformer_LLM_output_2_masked_categorical_accuracy: 0.5705"
     ]
    },
    {
     "name": "stderr",
     "output_type": "stream",
     "text": [
      "DEBUG:mathsformer.selfsupervised_learning_addition_model_backend:Training reached the end of epoch at index 12\n",
      "DEBUG:mathsformer.selfsupervised_learning_addition_model_backend:    with metric loss: 3.341\n",
      "DEBUG:mathsformer.selfsupervised_learning_addition_model_backend:    with metric mathsformer_LLM_output_loss: 1.1138\n",
      "DEBUG:mathsformer.selfsupervised_learning_addition_model_backend:    with metric mathsformer_LLM_output_1_loss: 1.1112\n",
      "DEBUG:mathsformer.selfsupervised_learning_addition_model_backend:    with metric mathsformer_LLM_output_2_loss: 1.116\n",
      "DEBUG:mathsformer.selfsupervised_learning_addition_model_backend:    with metric mathsformer_LLM_output_masked_categorical_accuracy: 0.57016\n",
      "DEBUG:mathsformer.selfsupervised_learning_addition_model_backend:    with metric mathsformer_LLM_output_1_masked_categorical_accuracy: 0.57116\n",
      "DEBUG:mathsformer.selfsupervised_learning_addition_model_backend:    with metric mathsformer_LLM_output_2_masked_categorical_accuracy: 0.5705\n",
      "DEBUG:mathsformer.selfsupervised_learning_addition_model_backend:    with metric val_loss: 4.1085\n",
      "DEBUG:mathsformer.selfsupervised_learning_addition_model_backend:    with metric val_mathsformer_LLM_output_loss: 1.373\n",
      "DEBUG:mathsformer.selfsupervised_learning_addition_model_backend:    with metric val_mathsformer_LLM_output_1_loss: 1.3664\n",
      "DEBUG:mathsformer.selfsupervised_learning_addition_model_backend:    with metric val_mathsformer_LLM_output_2_loss: 1.3691\n",
      "DEBUG:mathsformer.selfsupervised_learning_addition_model_backend:    with metric val_mathsformer_LLM_output_masked_categorical_accuracy: 0.46767\n",
      "DEBUG:mathsformer.selfsupervised_learning_addition_model_backend:    with metric val_mathsformer_LLM_output_1_masked_categorical_accuracy: 0.46958\n",
      "DEBUG:mathsformer.selfsupervised_learning_addition_model_backend:    with metric val_mathsformer_LLM_output_2_masked_categorical_accuracy: 0.46956\n",
      "DEBUG:mathsformer.selfsupervised_learning_addition_model_backend:Running text --> text mathsformer inference on some training data:\n",
      "DEBUG:mathsformer.selfsupervised_learning_addition_model_backend:------------------------------------------------------------------------------------\n",
      "DEBUG:mathsformer.selfsupervised_learning_addition_model_backend:              INPUT         TRUE   PRED(MASK)    PRED(GEN)      CORRECT     RESIDUAL\n",
      "DEBUG:mathsformer.selfsupervised_learning_addition_model_backend:------------------------------------------------------------------------------------\n",
      "DEBUG:mathsformer.selfsupervised_learning_addition_model_backend:            76-N292          368        355EE          355                       -13\n",
      "DEBUG:mathsformer.selfsupervised_learning_addition_model_backend:            N4+N799         N803        7713E          794                      1597\n",
      "DEBUG:mathsformer.selfsupervised_learning_addition_model_backend:              333+7          340        335EE          335                        -5\n",
      "DEBUG:mathsformer.selfsupervised_learning_addition_model_backend: N58+N2-N615-51+678         1182        N14EE         N124                     -1306\n",
      "DEBUG:mathsformer.selfsupervised_learning_addition_model_backend:      N1-148-N5+N30         N174        N173E         N173                         1\n",
      "DEBUG:mathsformer.selfsupervised_learning_addition_model_backend:   8-N118+434+N1647        N1087        N1353        N1353                      -266\n",
      "DEBUG:mathsformer.selfsupervised_learning_addition_model_backend:   N510+8-N69+65-N8         N360        N533E         N533                      -173\n",
      "DEBUG:mathsformer.selfsupervised_learning_addition_model_backend:                N12          N12        N12EE          N12          X              0\n",
      "DEBUG:mathsformer.selfsupervised_learning_addition_model_backend:                  9            9        9EE1E            9          X              0\n",
      "DEBUG:mathsformer.selfsupervised_learning_addition_model_backend:               3930         3930        3930E         3930          X              0\n",
      "DEBUG:mathsformer.selfsupervised_learning_addition_model_backend:Running text --> text mathsformer inference on some validation data:\n",
      "DEBUG:mathsformer.selfsupervised_learning_addition_model_backend:--------------------------------------------------------------------------------\n",
      "DEBUG:mathsformer.selfsupervised_learning_addition_model_backend:          INPUT         TRUE   PRED(MASK)    PRED(GEN)      CORRECT     RESIDUAL\n",
      "DEBUG:mathsformer.selfsupervised_learning_addition_model_backend:--------------------------------------------------------------------------------\n",
      "DEBUG:mathsformer.selfsupervised_learning_addition_model_backend:      N5-14-516         N535        5533E          538                      1073\n",
      "DEBUG:mathsformer.selfsupervised_learning_addition_model_backend:   566-N52-5117        N4499        54543         5633                     10132\n",
      "DEBUG:mathsformer.selfsupervised_learning_addition_model_backend:    N7+N3567-36        N3610        33633         3598                      7208\n",
      "DEBUG:mathsformer.selfsupervised_learning_addition_model_backend:       414+N2-2          410        413EE          413                         3\n",
      "DEBUG:mathsformer.selfsupervised_learning_addition_model_backend:     N16-36+N31          N83        N3EEE           N3                        80\n",
      "DEBUG:mathsformer.selfsupervised_learning_addition_model_backend:     2988+N54-6         2928        2913E         2913                       -15\n",
      "DEBUG:mathsformer.selfsupervised_learning_addition_model_backend:    N4036+N8+93        N3951        N4143        N4143                      -192\n",
      "DEBUG:mathsformer.selfsupervised_learning_addition_model_backend: N302+N4928+N86        N5316        45233         4633                      9949\n",
      "DEBUG:mathsformer.selfsupervised_learning_addition_model_backend: 7339+N771+N948         5620        6339E         6335                       715\n",
      "DEBUG:mathsformer.selfsupervised_learning_addition_model_backend:  N1012+N47+N85        N1144        N1133        N1133                        11\n"
     ]
    },
    {
     "name": "stdout",
     "output_type": "stream",
     "text": [
      "2000/2000 [==============================] - 999s 500ms/step - loss: 3.3410 - mathsformer_LLM_output_loss: 1.1138 - mathsformer_LLM_output_1_loss: 1.1112 - mathsformer_LLM_output_2_loss: 1.1160 - mathsformer_LLM_output_masked_categorical_accuracy: 0.5702 - mathsformer_LLM_output_1_masked_categorical_accuracy: 0.5712 - mathsformer_LLM_output_2_masked_categorical_accuracy: 0.5705 - val_loss: 4.1085 - val_mathsformer_LLM_output_loss: 1.3730 - val_mathsformer_LLM_output_1_loss: 1.3664 - val_mathsformer_LLM_output_2_loss: 1.3691 - val_mathsformer_LLM_output_masked_categorical_accuracy: 0.4677 - val_mathsformer_LLM_output_1_masked_categorical_accuracy: 0.4696 - val_mathsformer_LLM_output_2_masked_categorical_accuracy: 0.4696\n",
      "Epoch 14/100000\n",
      "2000/2000 [==============================] - ETA: 0s - loss: 3.2713 - mathsformer_LLM_output_loss: 1.0906 - mathsformer_LLM_output_1_loss: 1.0874 - mathsformer_LLM_output_2_loss: 1.0933 - mathsformer_LLM_output_masked_categorical_accuracy: 0.5767 - mathsformer_LLM_output_1_masked_categorical_accuracy: 0.5784 - mathsformer_LLM_output_2_masked_categorical_accuracy: 0.5769"
     ]
    },
    {
     "name": "stderr",
     "output_type": "stream",
     "text": [
      "DEBUG:mathsformer.selfsupervised_learning_addition_model_backend:Training reached the end of epoch at index 13\n",
      "DEBUG:mathsformer.selfsupervised_learning_addition_model_backend:    with metric loss: 3.2713\n",
      "DEBUG:mathsformer.selfsupervised_learning_addition_model_backend:    with metric mathsformer_LLM_output_loss: 1.0906\n",
      "DEBUG:mathsformer.selfsupervised_learning_addition_model_backend:    with metric mathsformer_LLM_output_1_loss: 1.0874\n",
      "DEBUG:mathsformer.selfsupervised_learning_addition_model_backend:    with metric mathsformer_LLM_output_2_loss: 1.0933\n",
      "DEBUG:mathsformer.selfsupervised_learning_addition_model_backend:    with metric mathsformer_LLM_output_masked_categorical_accuracy: 0.57667\n",
      "DEBUG:mathsformer.selfsupervised_learning_addition_model_backend:    with metric mathsformer_LLM_output_1_masked_categorical_accuracy: 0.57839\n",
      "DEBUG:mathsformer.selfsupervised_learning_addition_model_backend:    with metric mathsformer_LLM_output_2_masked_categorical_accuracy: 0.57692\n",
      "DEBUG:mathsformer.selfsupervised_learning_addition_model_backend:    with metric val_loss: 4.0541\n",
      "DEBUG:mathsformer.selfsupervised_learning_addition_model_backend:    with metric val_mathsformer_LLM_output_loss: 1.3489\n",
      "DEBUG:mathsformer.selfsupervised_learning_addition_model_backend:    with metric val_mathsformer_LLM_output_1_loss: 1.3481\n",
      "DEBUG:mathsformer.selfsupervised_learning_addition_model_backend:    with metric val_mathsformer_LLM_output_2_loss: 1.3571\n",
      "DEBUG:mathsformer.selfsupervised_learning_addition_model_backend:    with metric val_mathsformer_LLM_output_masked_categorical_accuracy: 0.47318\n",
      "DEBUG:mathsformer.selfsupervised_learning_addition_model_backend:    with metric val_mathsformer_LLM_output_1_masked_categorical_accuracy: 0.47191\n",
      "DEBUG:mathsformer.selfsupervised_learning_addition_model_backend:    with metric val_mathsformer_LLM_output_2_masked_categorical_accuracy: 0.4717\n",
      "DEBUG:mathsformer.selfsupervised_learning_addition_model_backend:Running text --> text mathsformer inference on some training data:\n",
      "DEBUG:mathsformer.selfsupervised_learning_addition_model_backend:------------------------------------------------------------------------------------\n",
      "DEBUG:mathsformer.selfsupervised_learning_addition_model_backend:              INPUT         TRUE   PRED(MASK)    PRED(GEN)      CORRECT     RESIDUAL\n",
      "DEBUG:mathsformer.selfsupervised_learning_addition_model_backend:------------------------------------------------------------------------------------\n",
      "DEBUG:mathsformer.selfsupervised_learning_addition_model_backend:            76-N292          368        359EE          359                        -9\n",
      "DEBUG:mathsformer.selfsupervised_learning_addition_model_backend:            N4+N799         N803        N702E         N702                       101\n",
      "DEBUG:mathsformer.selfsupervised_learning_addition_model_backend:              333+7          340        326EE          326                       -14\n",
      "DEBUG:mathsformer.selfsupervised_learning_addition_model_backend: N58+N2-N615-51+678         1182        N20EE         N120                     -1302\n",
      "DEBUG:mathsformer.selfsupervised_learning_addition_model_backend:      N1-148-N5+N30         N174        N196E         N196                       -22\n",
      "DEBUG:mathsformer.selfsupervised_learning_addition_model_backend:   8-N118+434+N1647        N1087        N1969        N1920                      -833\n",
      "DEBUG:mathsformer.selfsupervised_learning_addition_model_backend:   N510+8-N69+65-N8         N360        N449E         N449                       -89\n",
      "DEBUG:mathsformer.selfsupervised_learning_addition_model_backend:                N12          N12        N12EE          N12          X              0\n",
      "DEBUG:mathsformer.selfsupervised_learning_addition_model_backend:                  9            9        9EE1E            9          X              0\n",
      "DEBUG:mathsformer.selfsupervised_learning_addition_model_backend:               3930         3930        3930E         3930          X              0\n",
      "DEBUG:mathsformer.selfsupervised_learning_addition_model_backend:Running text --> text mathsformer inference on some validation data:\n",
      "DEBUG:mathsformer.selfsupervised_learning_addition_model_backend:--------------------------------------------------------------------------------\n",
      "DEBUG:mathsformer.selfsupervised_learning_addition_model_backend:          INPUT         TRUE   PRED(MASK)    PRED(GEN)      CORRECT     RESIDUAL\n",
      "DEBUG:mathsformer.selfsupervised_learning_addition_model_backend:--------------------------------------------------------------------------------\n",
      "DEBUG:mathsformer.selfsupervised_learning_addition_model_backend:      N5-14-516         N535        N538E         N538                        -3\n",
      "DEBUG:mathsformer.selfsupervised_learning_addition_model_backend:   566-N52-5117        N4499        N4432        N4438                        61\n",
      "DEBUG:mathsformer.selfsupervised_learning_addition_model_backend:    N7+N3567-36        N3610        33519         3599                      7209\n",
      "DEBUG:mathsformer.selfsupervised_learning_addition_model_backend:       414+N2-2          410        403EE          403                        -7\n",
      "DEBUG:mathsformer.selfsupervised_learning_addition_model_backend:     N16-36+N31          N83        N1EEE          N10                        73\n",
      "DEBUG:mathsformer.selfsupervised_learning_addition_model_backend:     2988+N54-6         2928        2944E         2944                        16\n",
      "DEBUG:mathsformer.selfsupervised_learning_addition_model_backend:    N4036+N8+93        N3951        N3949        N3949                         2\n",
      "DEBUG:mathsformer.selfsupervised_learning_addition_model_backend: N302+N4928+N86        N5316        N5329        N5329                       -13\n",
      "DEBUG:mathsformer.selfsupervised_learning_addition_model_backend: 7339+N771+N948         5620        6429E         6429                       809\n",
      "DEBUG:mathsformer.selfsupervised_learning_addition_model_backend:  N1012+N47+N85        N1144        N1993        N1933                      -789\n"
     ]
    },
    {
     "name": "stdout",
     "output_type": "stream",
     "text": [
      "2000/2000 [==============================] - 944s 472ms/step - loss: 3.2713 - mathsformer_LLM_output_loss: 1.0906 - mathsformer_LLM_output_1_loss: 1.0874 - mathsformer_LLM_output_2_loss: 1.0933 - mathsformer_LLM_output_masked_categorical_accuracy: 0.5767 - mathsformer_LLM_output_1_masked_categorical_accuracy: 0.5784 - mathsformer_LLM_output_2_masked_categorical_accuracy: 0.5769 - val_loss: 4.0541 - val_mathsformer_LLM_output_loss: 1.3489 - val_mathsformer_LLM_output_1_loss: 1.3481 - val_mathsformer_LLM_output_2_loss: 1.3571 - val_mathsformer_LLM_output_masked_categorical_accuracy: 0.4732 - val_mathsformer_LLM_output_1_masked_categorical_accuracy: 0.4719 - val_mathsformer_LLM_output_2_masked_categorical_accuracy: 0.4717\n",
      "Epoch 15/100000\n",
      "2000/2000 [==============================] - ETA: 0s - loss: 3.1349 - mathsformer_LLM_output_loss: 1.0466 - mathsformer_LLM_output_1_loss: 1.0408 - mathsformer_LLM_output_2_loss: 1.0475 - mathsformer_LLM_output_masked_categorical_accuracy: 0.5965 - mathsformer_LLM_output_1_masked_categorical_accuracy: 0.5985 - mathsformer_LLM_output_2_masked_categorical_accuracy: 0.5967"
     ]
    },
    {
     "name": "stderr",
     "output_type": "stream",
     "text": [
      "DEBUG:mathsformer.selfsupervised_learning_addition_model_backend:Training reached the end of epoch at index 14\n",
      "DEBUG:mathsformer.selfsupervised_learning_addition_model_backend:    with metric loss: 3.1349\n",
      "DEBUG:mathsformer.selfsupervised_learning_addition_model_backend:    with metric mathsformer_LLM_output_loss: 1.0466\n",
      "DEBUG:mathsformer.selfsupervised_learning_addition_model_backend:    with metric mathsformer_LLM_output_1_loss: 1.0408\n",
      "DEBUG:mathsformer.selfsupervised_learning_addition_model_backend:    with metric mathsformer_LLM_output_2_loss: 1.0475\n",
      "DEBUG:mathsformer.selfsupervised_learning_addition_model_backend:    with metric mathsformer_LLM_output_masked_categorical_accuracy: 0.59647\n",
      "DEBUG:mathsformer.selfsupervised_learning_addition_model_backend:    with metric mathsformer_LLM_output_1_masked_categorical_accuracy: 0.59851\n",
      "DEBUG:mathsformer.selfsupervised_learning_addition_model_backend:    with metric mathsformer_LLM_output_2_masked_categorical_accuracy: 0.59673\n",
      "DEBUG:mathsformer.selfsupervised_learning_addition_model_backend:    with metric val_loss: 3.8434\n",
      "DEBUG:mathsformer.selfsupervised_learning_addition_model_backend:    with metric val_mathsformer_LLM_output_loss: 1.2753\n",
      "DEBUG:mathsformer.selfsupervised_learning_addition_model_backend:    with metric val_mathsformer_LLM_output_1_loss: 1.2752\n",
      "DEBUG:mathsformer.selfsupervised_learning_addition_model_backend:    with metric val_mathsformer_LLM_output_2_loss: 1.2928\n",
      "DEBUG:mathsformer.selfsupervised_learning_addition_model_backend:    with metric val_mathsformer_LLM_output_masked_categorical_accuracy: 0.52336\n",
      "DEBUG:mathsformer.selfsupervised_learning_addition_model_backend:    with metric val_mathsformer_LLM_output_1_masked_categorical_accuracy: 0.52765\n",
      "DEBUG:mathsformer.selfsupervised_learning_addition_model_backend:    with metric val_mathsformer_LLM_output_2_masked_categorical_accuracy: 0.52264\n",
      "DEBUG:mathsformer.selfsupervised_learning_addition_model_backend:Running text --> text mathsformer inference on some training data:\n",
      "DEBUG:mathsformer.selfsupervised_learning_addition_model_backend:------------------------------------------------------------------------------------\n",
      "DEBUG:mathsformer.selfsupervised_learning_addition_model_backend:              INPUT         TRUE   PRED(MASK)    PRED(GEN)      CORRECT     RESIDUAL\n",
      "DEBUG:mathsformer.selfsupervised_learning_addition_model_backend:------------------------------------------------------------------------------------\n",
      "DEBUG:mathsformer.selfsupervised_learning_addition_model_backend:            76-N292          368        369EE          369                         1\n",
      "DEBUG:mathsformer.selfsupervised_learning_addition_model_backend:            N4+N799         N803        N703E         N703                       100\n",
      "DEBUG:mathsformer.selfsupervised_learning_addition_model_backend:              333+7          340        326EE          326                       -14\n",
      "DEBUG:mathsformer.selfsupervised_learning_addition_model_backend: N58+N2-N615-51+678         1182        110EE          110                     -1072\n",
      "DEBUG:mathsformer.selfsupervised_learning_addition_model_backend:      N1-148-N5+N30         N174        N176E         N176                        -2\n",
      "DEBUG:mathsformer.selfsupervised_learning_addition_model_backend:   8-N118+434+N1647        N1087        N116E        N1166                       -79\n",
      "DEBUG:mathsformer.selfsupervised_learning_addition_model_backend:   N510+8-N69+65-N8         N360        N477E         N457                       -97\n",
      "DEBUG:mathsformer.selfsupervised_learning_addition_model_backend:                N12          N12        N12EE          N12          X              0\n",
      "DEBUG:mathsformer.selfsupervised_learning_addition_model_backend:                  9            9        9EE4E            9          X              0\n",
      "DEBUG:mathsformer.selfsupervised_learning_addition_model_backend:               3930         3930        3930E         3930          X              0\n",
      "DEBUG:mathsformer.selfsupervised_learning_addition_model_backend:Running text --> text mathsformer inference on some validation data:\n",
      "DEBUG:mathsformer.selfsupervised_learning_addition_model_backend:--------------------------------------------------------------------------------\n",
      "DEBUG:mathsformer.selfsupervised_learning_addition_model_backend:          INPUT         TRUE   PRED(MASK)    PRED(GEN)      CORRECT     RESIDUAL\n",
      "DEBUG:mathsformer.selfsupervised_learning_addition_model_backend:--------------------------------------------------------------------------------\n",
      "DEBUG:mathsformer.selfsupervised_learning_addition_model_backend:      N5-14-516         N535        N539E         N539                        -4\n",
      "DEBUG:mathsformer.selfsupervised_learning_addition_model_backend:   566-N52-5117        N4499        N3556        N3556                       943\n",
      "DEBUG:mathsformer.selfsupervised_learning_addition_model_backend:    N7+N3567-36        N3610        N3597        N3597                        13\n",
      "DEBUG:mathsformer.selfsupervised_learning_addition_model_backend:       414+N2-2          410        416EE          416                         6\n",
      "DEBUG:mathsformer.selfsupervised_learning_addition_model_backend:     N16-36+N31          N83        N6EEE           N6                        77\n",
      "DEBUG:mathsformer.selfsupervised_learning_addition_model_backend:     2988+N54-6         2928        2046E         2046                      -882\n",
      "DEBUG:mathsformer.selfsupervised_learning_addition_model_backend:    N4036+N8+93        N3951        N4958        N4958                     -1007\n",
      "DEBUG:mathsformer.selfsupervised_learning_addition_model_backend: N302+N4928+N86        N5316        N5240        N5248                        68\n",
      "DEBUG:mathsformer.selfsupervised_learning_addition_model_backend: 7339+N771+N948         5620        6577E         6577                       957\n",
      "DEBUG:mathsformer.selfsupervised_learning_addition_model_backend:  N1012+N47+N85        N1144        N1090        N1090                        54\n"
     ]
    },
    {
     "name": "stdout",
     "output_type": "stream",
     "text": [
      "2000/2000 [==============================] - 859s 430ms/step - loss: 3.1349 - mathsformer_LLM_output_loss: 1.0466 - mathsformer_LLM_output_1_loss: 1.0408 - mathsformer_LLM_output_2_loss: 1.0475 - mathsformer_LLM_output_masked_categorical_accuracy: 0.5965 - mathsformer_LLM_output_1_masked_categorical_accuracy: 0.5985 - mathsformer_LLM_output_2_masked_categorical_accuracy: 0.5967 - val_loss: 3.8434 - val_mathsformer_LLM_output_loss: 1.2753 - val_mathsformer_LLM_output_1_loss: 1.2752 - val_mathsformer_LLM_output_2_loss: 1.2928 - val_mathsformer_LLM_output_masked_categorical_accuracy: 0.5234 - val_mathsformer_LLM_output_1_masked_categorical_accuracy: 0.5276 - val_mathsformer_LLM_output_2_masked_categorical_accuracy: 0.5226\n",
      "Epoch 16/100000\n",
      "2000/2000 [==============================] - ETA: 0s - loss: 2.6641 - mathsformer_LLM_output_loss: 0.8917 - mathsformer_LLM_output_1_loss: 0.8822 - mathsformer_LLM_output_2_loss: 0.8901 - mathsformer_LLM_output_masked_categorical_accuracy: 0.6597 - mathsformer_LLM_output_1_masked_categorical_accuracy: 0.6624 - mathsformer_LLM_output_2_masked_categorical_accuracy: 0.6594"
     ]
    },
    {
     "name": "stderr",
     "output_type": "stream",
     "text": [
      "DEBUG:mathsformer.selfsupervised_learning_addition_model_backend:Training reached the end of epoch at index 15\n",
      "DEBUG:mathsformer.selfsupervised_learning_addition_model_backend:    with metric loss: 2.6641\n",
      "DEBUG:mathsformer.selfsupervised_learning_addition_model_backend:    with metric mathsformer_LLM_output_loss: 0.89174\n",
      "DEBUG:mathsformer.selfsupervised_learning_addition_model_backend:    with metric mathsformer_LLM_output_1_loss: 0.88223\n",
      "DEBUG:mathsformer.selfsupervised_learning_addition_model_backend:    with metric mathsformer_LLM_output_2_loss: 0.89013\n",
      "DEBUG:mathsformer.selfsupervised_learning_addition_model_backend:    with metric mathsformer_LLM_output_masked_categorical_accuracy: 0.65971\n",
      "DEBUG:mathsformer.selfsupervised_learning_addition_model_backend:    with metric mathsformer_LLM_output_1_masked_categorical_accuracy: 0.66243\n",
      "DEBUG:mathsformer.selfsupervised_learning_addition_model_backend:    with metric mathsformer_LLM_output_2_masked_categorical_accuracy: 0.65941\n",
      "DEBUG:mathsformer.selfsupervised_learning_addition_model_backend:    with metric val_loss: 3.3933\n",
      "DEBUG:mathsformer.selfsupervised_learning_addition_model_backend:    with metric val_mathsformer_LLM_output_loss: 1.1292\n",
      "DEBUG:mathsformer.selfsupervised_learning_addition_model_backend:    with metric val_mathsformer_LLM_output_1_loss: 1.1249\n",
      "DEBUG:mathsformer.selfsupervised_learning_addition_model_backend:    with metric val_mathsformer_LLM_output_2_loss: 1.1392\n",
      "DEBUG:mathsformer.selfsupervised_learning_addition_model_backend:    with metric val_mathsformer_LLM_output_masked_categorical_accuracy: 0.58418\n",
      "DEBUG:mathsformer.selfsupervised_learning_addition_model_backend:    with metric val_mathsformer_LLM_output_1_masked_categorical_accuracy: 0.58764\n",
      "DEBUG:mathsformer.selfsupervised_learning_addition_model_backend:    with metric val_mathsformer_LLM_output_2_masked_categorical_accuracy: 0.58444\n",
      "DEBUG:mathsformer.selfsupervised_learning_addition_model_backend:Running text --> text mathsformer inference on some training data:\n",
      "DEBUG:mathsformer.selfsupervised_learning_addition_model_backend:------------------------------------------------------------------------------------\n",
      "DEBUG:mathsformer.selfsupervised_learning_addition_model_backend:              INPUT         TRUE   PRED(MASK)    PRED(GEN)      CORRECT     RESIDUAL\n",
      "DEBUG:mathsformer.selfsupervised_learning_addition_model_backend:------------------------------------------------------------------------------------\n",
      "DEBUG:mathsformer.selfsupervised_learning_addition_model_backend:            76-N292          368        368EE          368          X              0\n",
      "DEBUG:mathsformer.selfsupervised_learning_addition_model_backend:            N4+N799         N803        N803E         N803          X              0\n",
      "DEBUG:mathsformer.selfsupervised_learning_addition_model_backend:              333+7          340        340EE          340          X              0\n",
      "DEBUG:mathsformer.selfsupervised_learning_addition_model_backend: N58+N2-N615-51+678         1182        1211E         1211                        29\n",
      "DEBUG:mathsformer.selfsupervised_learning_addition_model_backend:      N1-148-N5+N30         N174        N161E         N161                        13\n",
      "DEBUG:mathsformer.selfsupervised_learning_addition_model_backend:   8-N118+434+N1647        N1087        N1110        N1110                       -23\n",
      "DEBUG:mathsformer.selfsupervised_learning_addition_model_backend:   N510+8-N69+65-N8         N360        N411E         N431                       -71\n",
      "DEBUG:mathsformer.selfsupervised_learning_addition_model_backend:                N12          N12        N12EE          N12          X              0\n",
      "DEBUG:mathsformer.selfsupervised_learning_addition_model_backend:                  9            9        9EE3E            9          X              0\n",
      "DEBUG:mathsformer.selfsupervised_learning_addition_model_backend:               3930         3930        3930E         3930          X              0\n",
      "DEBUG:mathsformer.selfsupervised_learning_addition_model_backend:Running text --> text mathsformer inference on some validation data:\n",
      "DEBUG:mathsformer.selfsupervised_learning_addition_model_backend:--------------------------------------------------------------------------------\n",
      "DEBUG:mathsformer.selfsupervised_learning_addition_model_backend:          INPUT         TRUE   PRED(MASK)    PRED(GEN)      CORRECT     RESIDUAL\n",
      "DEBUG:mathsformer.selfsupervised_learning_addition_model_backend:--------------------------------------------------------------------------------\n",
      "DEBUG:mathsformer.selfsupervised_learning_addition_model_backend:      N5-14-516         N535        N530E         N530                         5\n",
      "DEBUG:mathsformer.selfsupervised_learning_addition_model_backend:   566-N52-5117        N4499        N4640        N4640                      -141\n",
      "DEBUG:mathsformer.selfsupervised_learning_addition_model_backend:    N7+N3567-36        N3610        N3504        N3504                       106\n",
      "DEBUG:mathsformer.selfsupervised_learning_addition_model_backend:       414+N2-2          410        411EE          411                         1\n",
      "DEBUG:mathsformer.selfsupervised_learning_addition_model_backend:     N16-36+N31          N83        N61EE          N61                        22\n",
      "DEBUG:mathsformer.selfsupervised_learning_addition_model_backend:     2988+N54-6         2928        2922E         2922                        -6\n",
      "DEBUG:mathsformer.selfsupervised_learning_addition_model_backend:    N4036+N8+93        N3951        N3942        N3942                         9\n",
      "DEBUG:mathsformer.selfsupervised_learning_addition_model_backend: N302+N4928+N86        N5316        N5221        N5221                        95\n",
      "DEBUG:mathsformer.selfsupervised_learning_addition_model_backend: 7339+N771+N948         5620        6411E         6511                       891\n",
      "DEBUG:mathsformer.selfsupervised_learning_addition_model_backend:  N1012+N47+N85        N1144        N1141        N1141                         3\n"
     ]
    },
    {
     "name": "stdout",
     "output_type": "stream",
     "text": [
      "2000/2000 [==============================] - 864s 432ms/step - loss: 2.6641 - mathsformer_LLM_output_loss: 0.8917 - mathsformer_LLM_output_1_loss: 0.8822 - mathsformer_LLM_output_2_loss: 0.8901 - mathsformer_LLM_output_masked_categorical_accuracy: 0.6597 - mathsformer_LLM_output_1_masked_categorical_accuracy: 0.6624 - mathsformer_LLM_output_2_masked_categorical_accuracy: 0.6594 - val_loss: 3.3933 - val_mathsformer_LLM_output_loss: 1.1292 - val_mathsformer_LLM_output_1_loss: 1.1249 - val_mathsformer_LLM_output_2_loss: 1.1392 - val_mathsformer_LLM_output_masked_categorical_accuracy: 0.5842 - val_mathsformer_LLM_output_1_masked_categorical_accuracy: 0.5876 - val_mathsformer_LLM_output_2_masked_categorical_accuracy: 0.5844\n",
      "Epoch 17/100000\n",
      "2000/2000 [==============================] - ETA: 0s - loss: 2.4228 - mathsformer_LLM_output_loss: 0.8106 - mathsformer_LLM_output_1_loss: 0.8023 - mathsformer_LLM_output_2_loss: 0.8099 - mathsformer_LLM_output_masked_categorical_accuracy: 0.6895 - mathsformer_LLM_output_1_masked_categorical_accuracy: 0.6921 - mathsformer_LLM_output_2_masked_categorical_accuracy: 0.6899"
     ]
    },
    {
     "name": "stderr",
     "output_type": "stream",
     "text": [
      "DEBUG:mathsformer.selfsupervised_learning_addition_model_backend:Training reached the end of epoch at index 16\n",
      "DEBUG:mathsformer.selfsupervised_learning_addition_model_backend:    with metric loss: 2.4228\n",
      "DEBUG:mathsformer.selfsupervised_learning_addition_model_backend:    with metric mathsformer_LLM_output_loss: 0.8106\n",
      "DEBUG:mathsformer.selfsupervised_learning_addition_model_backend:    with metric mathsformer_LLM_output_1_loss: 0.80228\n",
      "DEBUG:mathsformer.selfsupervised_learning_addition_model_backend:    with metric mathsformer_LLM_output_2_loss: 0.80993\n",
      "DEBUG:mathsformer.selfsupervised_learning_addition_model_backend:    with metric mathsformer_LLM_output_masked_categorical_accuracy: 0.68953\n",
      "DEBUG:mathsformer.selfsupervised_learning_addition_model_backend:    with metric mathsformer_LLM_output_1_masked_categorical_accuracy: 0.6921\n",
      "DEBUG:mathsformer.selfsupervised_learning_addition_model_backend:    with metric mathsformer_LLM_output_2_masked_categorical_accuracy: 0.68991\n",
      "DEBUG:mathsformer.selfsupervised_learning_addition_model_backend:    with metric val_loss: 3.5846\n",
      "DEBUG:mathsformer.selfsupervised_learning_addition_model_backend:    with metric val_mathsformer_LLM_output_loss: 1.1804\n",
      "DEBUG:mathsformer.selfsupervised_learning_addition_model_backend:    with metric val_mathsformer_LLM_output_1_loss: 1.1914\n",
      "DEBUG:mathsformer.selfsupervised_learning_addition_model_backend:    with metric val_mathsformer_LLM_output_2_loss: 1.2128\n",
      "DEBUG:mathsformer.selfsupervised_learning_addition_model_backend:    with metric val_mathsformer_LLM_output_masked_categorical_accuracy: 0.59468\n",
      "DEBUG:mathsformer.selfsupervised_learning_addition_model_backend:    with metric val_mathsformer_LLM_output_1_masked_categorical_accuracy: 0.59657\n",
      "DEBUG:mathsformer.selfsupervised_learning_addition_model_backend:    with metric val_mathsformer_LLM_output_2_masked_categorical_accuracy: 0.59622\n",
      "DEBUG:mathsformer.selfsupervised_learning_addition_model_backend:Running text --> text mathsformer inference on some training data:\n",
      "DEBUG:mathsformer.selfsupervised_learning_addition_model_backend:------------------------------------------------------------------------------------\n",
      "DEBUG:mathsformer.selfsupervised_learning_addition_model_backend:              INPUT         TRUE   PRED(MASK)    PRED(GEN)      CORRECT     RESIDUAL\n",
      "DEBUG:mathsformer.selfsupervised_learning_addition_model_backend:------------------------------------------------------------------------------------\n",
      "DEBUG:mathsformer.selfsupervised_learning_addition_model_backend:            76-N292          368        368EE          368          X              0\n",
      "DEBUG:mathsformer.selfsupervised_learning_addition_model_backend:            N4+N799         N803        N803E         N803          X              0\n",
      "DEBUG:mathsformer.selfsupervised_learning_addition_model_backend:              333+7          340        340EE          340          X              0\n",
      "DEBUG:mathsformer.selfsupervised_learning_addition_model_backend: N58+N2-N615-51+678         1182        1226E         1236                        54\n",
      "DEBUG:mathsformer.selfsupervised_learning_addition_model_backend:      N1-148-N5+N30         N174        N173E         N173                         1\n",
      "DEBUG:mathsformer.selfsupervised_learning_addition_model_backend:   8-N118+434+N1647        N1087        N1366        N1366                      -279\n",
      "DEBUG:mathsformer.selfsupervised_learning_addition_model_backend:   N510+8-N69+65-N8         N360        N333E         N333                        27\n",
      "DEBUG:mathsformer.selfsupervised_learning_addition_model_backend:                N12          N12        N12EE          N12          X              0\n",
      "DEBUG:mathsformer.selfsupervised_learning_addition_model_backend:                  9            9        9EE3E            9          X              0\n",
      "DEBUG:mathsformer.selfsupervised_learning_addition_model_backend:               3930         3930        3930E         3930          X              0\n",
      "DEBUG:mathsformer.selfsupervised_learning_addition_model_backend:Running text --> text mathsformer inference on some validation data:\n",
      "DEBUG:mathsformer.selfsupervised_learning_addition_model_backend:--------------------------------------------------------------------------------\n",
      "DEBUG:mathsformer.selfsupervised_learning_addition_model_backend:          INPUT         TRUE   PRED(MASK)    PRED(GEN)      CORRECT     RESIDUAL\n",
      "DEBUG:mathsformer.selfsupervised_learning_addition_model_backend:--------------------------------------------------------------------------------\n",
      "DEBUG:mathsformer.selfsupervised_learning_addition_model_backend:      N5-14-516         N535        N530E         N530                         5\n",
      "DEBUG:mathsformer.selfsupervised_learning_addition_model_backend:   566-N52-5117        N4499        N4553        N4553                       -54\n",
      "DEBUG:mathsformer.selfsupervised_learning_addition_model_backend:    N7+N3567-36        N3610        N3693        N3693                       -83\n",
      "DEBUG:mathsformer.selfsupervised_learning_addition_model_backend:       414+N2-2          410        412EE          412                         2\n",
      "DEBUG:mathsformer.selfsupervised_learning_addition_model_backend:     N16-36+N31          N83        N63EE          N63                        20\n",
      "DEBUG:mathsformer.selfsupervised_learning_addition_model_backend:     2988+N54-6         2928        2934E         2934                         6\n",
      "DEBUG:mathsformer.selfsupervised_learning_addition_model_backend:    N4036+N8+93        N3951        N3943        N3943                         8\n",
      "DEBUG:mathsformer.selfsupervised_learning_addition_model_backend: N302+N4928+N86        N5316        N5233        N5233                        83\n",
      "DEBUG:mathsformer.selfsupervised_learning_addition_model_backend: 7339+N771+N948         5620        6366E         6366                       746\n",
      "DEBUG:mathsformer.selfsupervised_learning_addition_model_backend:  N1012+N47+N85        N1144        N1251        N1251                      -107\n"
     ]
    },
    {
     "name": "stdout",
     "output_type": "stream",
     "text": [
      "2000/2000 [==============================] - 863s 431ms/step - loss: 2.4228 - mathsformer_LLM_output_loss: 0.8106 - mathsformer_LLM_output_1_loss: 0.8023 - mathsformer_LLM_output_2_loss: 0.8099 - mathsformer_LLM_output_masked_categorical_accuracy: 0.6895 - mathsformer_LLM_output_1_masked_categorical_accuracy: 0.6921 - mathsformer_LLM_output_2_masked_categorical_accuracy: 0.6899 - val_loss: 3.5846 - val_mathsformer_LLM_output_loss: 1.1804 - val_mathsformer_LLM_output_1_loss: 1.1914 - val_mathsformer_LLM_output_2_loss: 1.2128 - val_mathsformer_LLM_output_masked_categorical_accuracy: 0.5947 - val_mathsformer_LLM_output_1_masked_categorical_accuracy: 0.5966 - val_mathsformer_LLM_output_2_masked_categorical_accuracy: 0.5962\n",
      "Epoch 18/100000\n",
      "2000/2000 [==============================] - ETA: 0s - loss: 2.3139 - mathsformer_LLM_output_loss: 0.7744 - mathsformer_LLM_output_1_loss: 0.7665 - mathsformer_LLM_output_2_loss: 0.7729 - mathsformer_LLM_output_masked_categorical_accuracy: 0.7028 - mathsformer_LLM_output_1_masked_categorical_accuracy: 0.7053 - mathsformer_LLM_output_2_masked_categorical_accuracy: 0.7023"
     ]
    },
    {
     "name": "stderr",
     "output_type": "stream",
     "text": [
      "DEBUG:mathsformer.selfsupervised_learning_addition_model_backend:Training reached the end of epoch at index 17\n",
      "DEBUG:mathsformer.selfsupervised_learning_addition_model_backend:    with metric loss: 2.3139\n",
      "DEBUG:mathsformer.selfsupervised_learning_addition_model_backend:    with metric mathsformer_LLM_output_loss: 0.77444\n",
      "DEBUG:mathsformer.selfsupervised_learning_addition_model_backend:    with metric mathsformer_LLM_output_1_loss: 0.76654\n",
      "DEBUG:mathsformer.selfsupervised_learning_addition_model_backend:    with metric mathsformer_LLM_output_2_loss: 0.7729\n",
      "DEBUG:mathsformer.selfsupervised_learning_addition_model_backend:    with metric mathsformer_LLM_output_masked_categorical_accuracy: 0.7028\n",
      "DEBUG:mathsformer.selfsupervised_learning_addition_model_backend:    with metric mathsformer_LLM_output_1_masked_categorical_accuracy: 0.70527\n",
      "DEBUG:mathsformer.selfsupervised_learning_addition_model_backend:    with metric mathsformer_LLM_output_2_masked_categorical_accuracy: 0.70234\n",
      "DEBUG:mathsformer.selfsupervised_learning_addition_model_backend:    with metric val_loss: 3.4753\n",
      "DEBUG:mathsformer.selfsupervised_learning_addition_model_backend:    with metric val_mathsformer_LLM_output_loss: 1.1285\n",
      "DEBUG:mathsformer.selfsupervised_learning_addition_model_backend:    with metric val_mathsformer_LLM_output_1_loss: 1.1557\n",
      "DEBUG:mathsformer.selfsupervised_learning_addition_model_backend:    with metric val_mathsformer_LLM_output_2_loss: 1.1912\n",
      "DEBUG:mathsformer.selfsupervised_learning_addition_model_backend:    with metric val_mathsformer_LLM_output_masked_categorical_accuracy: 0.61493\n",
      "DEBUG:mathsformer.selfsupervised_learning_addition_model_backend:    with metric val_mathsformer_LLM_output_1_masked_categorical_accuracy: 0.61641\n",
      "DEBUG:mathsformer.selfsupervised_learning_addition_model_backend:    with metric val_mathsformer_LLM_output_2_masked_categorical_accuracy: 0.61179\n",
      "DEBUG:mathsformer.selfsupervised_learning_addition_model_backend:Running text --> text mathsformer inference on some training data:\n",
      "DEBUG:mathsformer.selfsupervised_learning_addition_model_backend:------------------------------------------------------------------------------------\n",
      "DEBUG:mathsformer.selfsupervised_learning_addition_model_backend:              INPUT         TRUE   PRED(MASK)    PRED(GEN)      CORRECT     RESIDUAL\n",
      "DEBUG:mathsformer.selfsupervised_learning_addition_model_backend:------------------------------------------------------------------------------------\n",
      "DEBUG:mathsformer.selfsupervised_learning_addition_model_backend:            76-N292          368        368EE          368          X              0\n",
      "DEBUG:mathsformer.selfsupervised_learning_addition_model_backend:            N4+N799         N803        N803E         N803          X              0\n",
      "DEBUG:mathsformer.selfsupervised_learning_addition_model_backend:              333+7          340        340EE          340          X              0\n",
      "DEBUG:mathsformer.selfsupervised_learning_addition_model_backend: N58+N2-N615-51+678         1182        1200E         1200                        18\n",
      "DEBUG:mathsformer.selfsupervised_learning_addition_model_backend:      N1-148-N5+N30         N174        N170E         N170                         4\n",
      "DEBUG:mathsformer.selfsupervised_learning_addition_model_backend:   8-N118+434+N1647        N1087        N1100        N1102                       -15\n",
      "DEBUG:mathsformer.selfsupervised_learning_addition_model_backend:   N510+8-N69+65-N8         N360        N450E         N450                       -90\n",
      "DEBUG:mathsformer.selfsupervised_learning_addition_model_backend:                N12          N12        N12EE          N12          X              0\n",
      "DEBUG:mathsformer.selfsupervised_learning_addition_model_backend:                  9            9        9EE0E            9          X              0\n",
      "DEBUG:mathsformer.selfsupervised_learning_addition_model_backend:               3930         3930        3930E         3930          X              0\n",
      "DEBUG:mathsformer.selfsupervised_learning_addition_model_backend:Running text --> text mathsformer inference on some validation data:\n",
      "DEBUG:mathsformer.selfsupervised_learning_addition_model_backend:--------------------------------------------------------------------------------\n",
      "DEBUG:mathsformer.selfsupervised_learning_addition_model_backend:          INPUT         TRUE   PRED(MASK)    PRED(GEN)      CORRECT     RESIDUAL\n",
      "DEBUG:mathsformer.selfsupervised_learning_addition_model_backend:--------------------------------------------------------------------------------\n",
      "DEBUG:mathsformer.selfsupervised_learning_addition_model_backend:      N5-14-516         N535        N530E         N530                         5\n",
      "DEBUG:mathsformer.selfsupervised_learning_addition_model_backend:   566-N52-5117        N4499        N4562        N4562                       -63\n",
      "DEBUG:mathsformer.selfsupervised_learning_addition_model_backend:    N7+N3567-36        N3610        N3603        N3603                         7\n",
      "DEBUG:mathsformer.selfsupervised_learning_addition_model_backend:       414+N2-2          410        412EE          412                         2\n",
      "DEBUG:mathsformer.selfsupervised_learning_addition_model_backend:     N16-36+N31          N83        N60EE          N60                        23\n",
      "DEBUG:mathsformer.selfsupervised_learning_addition_model_backend:     2988+N54-6         2928        2933E         2933                         5\n",
      "DEBUG:mathsformer.selfsupervised_learning_addition_model_backend:    N4036+N8+93        N3951        N3942        N3942                         9\n",
      "DEBUG:mathsformer.selfsupervised_learning_addition_model_backend: N302+N4928+N86        N5316        N5230        N5230                        86\n",
      "DEBUG:mathsformer.selfsupervised_learning_addition_model_backend: 7339+N771+N948         5620        6562E         6562                       942\n",
      "DEBUG:mathsformer.selfsupervised_learning_addition_model_backend:  N1012+N47+N85        N1144        N1069        N1069                        75\n"
     ]
    },
    {
     "name": "stdout",
     "output_type": "stream",
     "text": [
      "2000/2000 [==============================] - 927s 463ms/step - loss: 2.3139 - mathsformer_LLM_output_loss: 0.7744 - mathsformer_LLM_output_1_loss: 0.7665 - mathsformer_LLM_output_2_loss: 0.7729 - mathsformer_LLM_output_masked_categorical_accuracy: 0.7028 - mathsformer_LLM_output_1_masked_categorical_accuracy: 0.7053 - mathsformer_LLM_output_2_masked_categorical_accuracy: 0.7023 - val_loss: 3.4753 - val_mathsformer_LLM_output_loss: 1.1285 - val_mathsformer_LLM_output_1_loss: 1.1557 - val_mathsformer_LLM_output_2_loss: 1.1912 - val_mathsformer_LLM_output_masked_categorical_accuracy: 0.6149 - val_mathsformer_LLM_output_1_masked_categorical_accuracy: 0.6164 - val_mathsformer_LLM_output_2_masked_categorical_accuracy: 0.6118\n",
      "Epoch 19/100000\n",
      "2000/2000 [==============================] - ETA: 0s - loss: 2.2362 - mathsformer_LLM_output_loss: 0.7478 - mathsformer_LLM_output_1_loss: 0.7409 - mathsformer_LLM_output_2_loss: 0.7475 - mathsformer_LLM_output_masked_categorical_accuracy: 0.7127 - mathsformer_LLM_output_1_masked_categorical_accuracy: 0.7152 - mathsformer_LLM_output_2_masked_categorical_accuracy: 0.7131"
     ]
    },
    {
     "name": "stderr",
     "output_type": "stream",
     "text": [
      "DEBUG:mathsformer.selfsupervised_learning_addition_model_backend:Training reached the end of epoch at index 18\n",
      "DEBUG:mathsformer.selfsupervised_learning_addition_model_backend:    with metric loss: 2.2362\n",
      "DEBUG:mathsformer.selfsupervised_learning_addition_model_backend:    with metric mathsformer_LLM_output_loss: 0.74781\n",
      "DEBUG:mathsformer.selfsupervised_learning_addition_model_backend:    with metric mathsformer_LLM_output_1_loss: 0.74088\n",
      "DEBUG:mathsformer.selfsupervised_learning_addition_model_backend:    with metric mathsformer_LLM_output_2_loss: 0.74747\n",
      "DEBUG:mathsformer.selfsupervised_learning_addition_model_backend:    with metric mathsformer_LLM_output_masked_categorical_accuracy: 0.71268\n",
      "DEBUG:mathsformer.selfsupervised_learning_addition_model_backend:    with metric mathsformer_LLM_output_1_masked_categorical_accuracy: 0.71525\n",
      "DEBUG:mathsformer.selfsupervised_learning_addition_model_backend:    with metric mathsformer_LLM_output_2_masked_categorical_accuracy: 0.71311\n",
      "DEBUG:mathsformer.selfsupervised_learning_addition_model_backend:    with metric val_loss: 3.3568\n",
      "DEBUG:mathsformer.selfsupervised_learning_addition_model_backend:    with metric val_mathsformer_LLM_output_loss: 1.115\n",
      "DEBUG:mathsformer.selfsupervised_learning_addition_model_backend:    with metric val_mathsformer_LLM_output_1_loss: 1.1147\n",
      "DEBUG:mathsformer.selfsupervised_learning_addition_model_backend:    with metric val_mathsformer_LLM_output_2_loss: 1.1272\n",
      "DEBUG:mathsformer.selfsupervised_learning_addition_model_backend:    with metric val_mathsformer_LLM_output_masked_categorical_accuracy: 0.61797\n",
      "DEBUG:mathsformer.selfsupervised_learning_addition_model_backend:    with metric val_mathsformer_LLM_output_1_masked_categorical_accuracy: 0.62203\n",
      "DEBUG:mathsformer.selfsupervised_learning_addition_model_backend:    with metric val_mathsformer_LLM_output_2_masked_categorical_accuracy: 0.61649\n",
      "DEBUG:mathsformer.selfsupervised_learning_addition_model_backend:Running text --> text mathsformer inference on some training data:\n",
      "DEBUG:mathsformer.selfsupervised_learning_addition_model_backend:------------------------------------------------------------------------------------\n",
      "DEBUG:mathsformer.selfsupervised_learning_addition_model_backend:              INPUT         TRUE   PRED(MASK)    PRED(GEN)      CORRECT     RESIDUAL\n",
      "DEBUG:mathsformer.selfsupervised_learning_addition_model_backend:------------------------------------------------------------------------------------\n",
      "DEBUG:mathsformer.selfsupervised_learning_addition_model_backend:            76-N292          368        368EE          368          X              0\n",
      "DEBUG:mathsformer.selfsupervised_learning_addition_model_backend:            N4+N799         N803        N803E         N803          X              0\n",
      "DEBUG:mathsformer.selfsupervised_learning_addition_model_backend:              333+7          340        340EE          340          X              0\n",
      "DEBUG:mathsformer.selfsupervised_learning_addition_model_backend: N58+N2-N615-51+678         1182        1316E         1312                       130\n",
      "DEBUG:mathsformer.selfsupervised_learning_addition_model_backend:      N1-148-N5+N30         N174        N181E         N181                        -7\n",
      "DEBUG:mathsformer.selfsupervised_learning_addition_model_backend:   8-N118+434+N1647        N1087        N111E         N111                       976\n",
      "DEBUG:mathsformer.selfsupervised_learning_addition_model_backend:   N510+8-N69+65-N8         N360        N443E         N443                       -83\n",
      "DEBUG:mathsformer.selfsupervised_learning_addition_model_backend:                N12          N12        N12EE          N12          X              0\n",
      "DEBUG:mathsformer.selfsupervised_learning_addition_model_backend:                  9            9        9EE9E            9          X              0\n",
      "DEBUG:mathsformer.selfsupervised_learning_addition_model_backend:               3930         3930        3930E         3930          X              0\n",
      "DEBUG:mathsformer.selfsupervised_learning_addition_model_backend:Running text --> text mathsformer inference on some validation data:\n",
      "DEBUG:mathsformer.selfsupervised_learning_addition_model_backend:--------------------------------------------------------------------------------\n",
      "DEBUG:mathsformer.selfsupervised_learning_addition_model_backend:          INPUT         TRUE   PRED(MASK)    PRED(GEN)      CORRECT     RESIDUAL\n",
      "DEBUG:mathsformer.selfsupervised_learning_addition_model_backend:--------------------------------------------------------------------------------\n",
      "DEBUG:mathsformer.selfsupervised_learning_addition_model_backend:      N5-14-516         N535        N531E         N531                         4\n",
      "DEBUG:mathsformer.selfsupervised_learning_addition_model_backend:   566-N52-5117        N4499        N4561        N4561                       -62\n",
      "DEBUG:mathsformer.selfsupervised_learning_addition_model_backend:    N7+N3567-36        N3610        N3614        N3614                        -4\n",
      "DEBUG:mathsformer.selfsupervised_learning_addition_model_backend:       414+N2-2          410        412EE          412                         2\n",
      "DEBUG:mathsformer.selfsupervised_learning_addition_model_backend:     N16-36+N31          N83        N81EE          N81                         2\n",
      "DEBUG:mathsformer.selfsupervised_learning_addition_model_backend:     2988+N54-6         2928        2933E         2933                         5\n",
      "DEBUG:mathsformer.selfsupervised_learning_addition_model_backend:    N4036+N8+93        N3951        N3943        N3943                         8\n",
      "DEBUG:mathsformer.selfsupervised_learning_addition_model_backend: N302+N4928+N86        N5316        N5226        N5226                        90\n",
      "DEBUG:mathsformer.selfsupervised_learning_addition_model_backend: 7339+N771+N948         5620        6577E         6577                       957\n",
      "DEBUG:mathsformer.selfsupervised_learning_addition_model_backend:  N1012+N47+N85        N1144        N1161        N1161                       -17\n"
     ]
    },
    {
     "name": "stdout",
     "output_type": "stream",
     "text": [
      "2000/2000 [==============================] - 1070s 535ms/step - loss: 2.2362 - mathsformer_LLM_output_loss: 0.7478 - mathsformer_LLM_output_1_loss: 0.7409 - mathsformer_LLM_output_2_loss: 0.7475 - mathsformer_LLM_output_masked_categorical_accuracy: 0.7127 - mathsformer_LLM_output_1_masked_categorical_accuracy: 0.7152 - mathsformer_LLM_output_2_masked_categorical_accuracy: 0.7131 - val_loss: 3.3568 - val_mathsformer_LLM_output_loss: 1.1150 - val_mathsformer_LLM_output_1_loss: 1.1147 - val_mathsformer_LLM_output_2_loss: 1.1272 - val_mathsformer_LLM_output_masked_categorical_accuracy: 0.6180 - val_mathsformer_LLM_output_1_masked_categorical_accuracy: 0.6220 - val_mathsformer_LLM_output_2_masked_categorical_accuracy: 0.6165\n",
      "Epoch 20/100000\n",
      "2000/2000 [==============================] - ETA: 0s - loss: 2.2001 - mathsformer_LLM_output_loss: 0.7351 - mathsformer_LLM_output_1_loss: 0.7283 - mathsformer_LLM_output_2_loss: 0.7366 - mathsformer_LLM_output_masked_categorical_accuracy: 0.7178 - mathsformer_LLM_output_1_masked_categorical_accuracy: 0.7201 - mathsformer_LLM_output_2_masked_categorical_accuracy: 0.7179"
     ]
    },
    {
     "name": "stderr",
     "output_type": "stream",
     "text": [
      "DEBUG:mathsformer.selfsupervised_learning_addition_model_backend:Training reached the end of epoch at index 19\n",
      "DEBUG:mathsformer.selfsupervised_learning_addition_model_backend:    with metric loss: 2.2001\n",
      "DEBUG:mathsformer.selfsupervised_learning_addition_model_backend:    with metric mathsformer_LLM_output_loss: 0.73514\n",
      "DEBUG:mathsformer.selfsupervised_learning_addition_model_backend:    with metric mathsformer_LLM_output_1_loss: 0.72831\n",
      "DEBUG:mathsformer.selfsupervised_learning_addition_model_backend:    with metric mathsformer_LLM_output_2_loss: 0.73665\n",
      "DEBUG:mathsformer.selfsupervised_learning_addition_model_backend:    with metric mathsformer_LLM_output_masked_categorical_accuracy: 0.71781\n",
      "DEBUG:mathsformer.selfsupervised_learning_addition_model_backend:    with metric mathsformer_LLM_output_1_masked_categorical_accuracy: 0.72005\n",
      "DEBUG:mathsformer.selfsupervised_learning_addition_model_backend:    with metric mathsformer_LLM_output_2_masked_categorical_accuracy: 0.71794\n",
      "DEBUG:mathsformer.selfsupervised_learning_addition_model_backend:    with metric val_loss: 3.127\n",
      "DEBUG:mathsformer.selfsupervised_learning_addition_model_backend:    with metric val_mathsformer_LLM_output_loss: 1.0453\n",
      "DEBUG:mathsformer.selfsupervised_learning_addition_model_backend:    with metric val_mathsformer_LLM_output_1_loss: 1.0372\n",
      "DEBUG:mathsformer.selfsupervised_learning_addition_model_backend:    with metric val_mathsformer_LLM_output_2_loss: 1.0446\n",
      "DEBUG:mathsformer.selfsupervised_learning_addition_model_backend:    with metric val_mathsformer_LLM_output_masked_categorical_accuracy: 0.62385\n",
      "DEBUG:mathsformer.selfsupervised_learning_addition_model_backend:    with metric val_mathsformer_LLM_output_1_masked_categorical_accuracy: 0.62612\n",
      "DEBUG:mathsformer.selfsupervised_learning_addition_model_backend:    with metric val_mathsformer_LLM_output_2_masked_categorical_accuracy: 0.62415\n",
      "DEBUG:mathsformer.selfsupervised_learning_addition_model_backend:Running text --> text mathsformer inference on some training data:\n",
      "DEBUG:mathsformer.selfsupervised_learning_addition_model_backend:------------------------------------------------------------------------------------\n",
      "DEBUG:mathsformer.selfsupervised_learning_addition_model_backend:              INPUT         TRUE   PRED(MASK)    PRED(GEN)      CORRECT     RESIDUAL\n",
      "DEBUG:mathsformer.selfsupervised_learning_addition_model_backend:------------------------------------------------------------------------------------\n",
      "DEBUG:mathsformer.selfsupervised_learning_addition_model_backend:            76-N292          368        368EE          368          X              0\n",
      "DEBUG:mathsformer.selfsupervised_learning_addition_model_backend:            N4+N799         N803        N803E         N803          X              0\n",
      "DEBUG:mathsformer.selfsupervised_learning_addition_model_backend:              333+7          340        330EE          330                       -10\n",
      "DEBUG:mathsformer.selfsupervised_learning_addition_model_backend: N58+N2-N615-51+678         1182        1230E         1220                        38\n",
      "DEBUG:mathsformer.selfsupervised_learning_addition_model_backend:      N1-148-N5+N30         N174        N180E         N180                        -6\n",
      "DEBUG:mathsformer.selfsupervised_learning_addition_model_backend:   8-N118+434+N1647        N1087        N1100        N1100                       -13\n",
      "DEBUG:mathsformer.selfsupervised_learning_addition_model_backend:   N510+8-N69+65-N8         N360        N430E         N430                       -70\n",
      "DEBUG:mathsformer.selfsupervised_learning_addition_model_backend:                N12          N12        N12EE          N12          X              0\n",
      "DEBUG:mathsformer.selfsupervised_learning_addition_model_backend:                  9            9        9EE0E            9          X              0\n",
      "DEBUG:mathsformer.selfsupervised_learning_addition_model_backend:               3930         3930        3930E         3930          X              0\n",
      "DEBUG:mathsformer.selfsupervised_learning_addition_model_backend:Running text --> text mathsformer inference on some validation data:\n",
      "DEBUG:mathsformer.selfsupervised_learning_addition_model_backend:--------------------------------------------------------------------------------\n",
      "DEBUG:mathsformer.selfsupervised_learning_addition_model_backend:          INPUT         TRUE   PRED(MASK)    PRED(GEN)      CORRECT     RESIDUAL\n",
      "DEBUG:mathsformer.selfsupervised_learning_addition_model_backend:--------------------------------------------------------------------------------\n",
      "DEBUG:mathsformer.selfsupervised_learning_addition_model_backend:      N5-14-516         N535        N530E         N530                         5\n",
      "DEBUG:mathsformer.selfsupervised_learning_addition_model_backend:   566-N52-5117        N4499        N4566        N4506                        -7\n",
      "DEBUG:mathsformer.selfsupervised_learning_addition_model_backend:    N7+N3567-36        N3610        N3605        N3605                         5\n",
      "DEBUG:mathsformer.selfsupervised_learning_addition_model_backend:       414+N2-2          410        412EE          412                         2\n",
      "DEBUG:mathsformer.selfsupervised_learning_addition_model_backend:     N16-36+N31          N83        N10EE         N100                       -17\n",
      "DEBUG:mathsformer.selfsupervised_learning_addition_model_backend:     2988+N54-6         2928        2932E         2932                         4\n",
      "DEBUG:mathsformer.selfsupervised_learning_addition_model_backend:    N4036+N8+93        N3951        N3943        N3943                         8\n",
      "DEBUG:mathsformer.selfsupervised_learning_addition_model_backend: N302+N4928+N86        N5316        N5320        N5320                        -4\n",
      "DEBUG:mathsformer.selfsupervised_learning_addition_model_backend: 7339+N771+N948         5620        6551E         6551                       931\n",
      "DEBUG:mathsformer.selfsupervised_learning_addition_model_backend:  N1012+N47+N85        N1144        N1189        N1189                       -45\n"
     ]
    },
    {
     "name": "stdout",
     "output_type": "stream",
     "text": [
      "2000/2000 [==============================] - 929s 464ms/step - loss: 2.2001 - mathsformer_LLM_output_loss: 0.7351 - mathsformer_LLM_output_1_loss: 0.7283 - mathsformer_LLM_output_2_loss: 0.7366 - mathsformer_LLM_output_masked_categorical_accuracy: 0.7178 - mathsformer_LLM_output_1_masked_categorical_accuracy: 0.7201 - mathsformer_LLM_output_2_masked_categorical_accuracy: 0.7179 - val_loss: 3.1270 - val_mathsformer_LLM_output_loss: 1.0453 - val_mathsformer_LLM_output_1_loss: 1.0372 - val_mathsformer_LLM_output_2_loss: 1.0446 - val_mathsformer_LLM_output_masked_categorical_accuracy: 0.6239 - val_mathsformer_LLM_output_1_masked_categorical_accuracy: 0.6261 - val_mathsformer_LLM_output_2_masked_categorical_accuracy: 0.6242\n",
      "Epoch 21/100000\n",
      "2000/2000 [==============================] - ETA: 0s - loss: 2.1134 - mathsformer_LLM_output_loss: 0.7069 - mathsformer_LLM_output_1_loss: 0.7002 - mathsformer_LLM_output_2_loss: 0.7062 - mathsformer_LLM_output_masked_categorical_accuracy: 0.7279 - mathsformer_LLM_output_1_masked_categorical_accuracy: 0.7301 - mathsformer_LLM_output_2_masked_categorical_accuracy: 0.7276"
     ]
    },
    {
     "name": "stderr",
     "output_type": "stream",
     "text": [
      "DEBUG:mathsformer.selfsupervised_learning_addition_model_backend:Training reached the end of epoch at index 20\n",
      "DEBUG:mathsformer.selfsupervised_learning_addition_model_backend:    with metric loss: 2.1134\n",
      "DEBUG:mathsformer.selfsupervised_learning_addition_model_backend:    with metric mathsformer_LLM_output_loss: 0.70692\n",
      "DEBUG:mathsformer.selfsupervised_learning_addition_model_backend:    with metric mathsformer_LLM_output_1_loss: 0.70021\n",
      "DEBUG:mathsformer.selfsupervised_learning_addition_model_backend:    with metric mathsformer_LLM_output_2_loss: 0.70623\n",
      "DEBUG:mathsformer.selfsupervised_learning_addition_model_backend:    with metric mathsformer_LLM_output_masked_categorical_accuracy: 0.72786\n",
      "DEBUG:mathsformer.selfsupervised_learning_addition_model_backend:    with metric mathsformer_LLM_output_1_masked_categorical_accuracy: 0.73008\n",
      "DEBUG:mathsformer.selfsupervised_learning_addition_model_backend:    with metric mathsformer_LLM_output_2_masked_categorical_accuracy: 0.72763\n",
      "DEBUG:mathsformer.selfsupervised_learning_addition_model_backend:    with metric val_loss: 3.0593\n",
      "DEBUG:mathsformer.selfsupervised_learning_addition_model_backend:    with metric val_mathsformer_LLM_output_loss: 1.0313\n",
      "DEBUG:mathsformer.selfsupervised_learning_addition_model_backend:    with metric val_mathsformer_LLM_output_1_loss: 1.0102\n",
      "DEBUG:mathsformer.selfsupervised_learning_addition_model_backend:    with metric val_mathsformer_LLM_output_2_loss: 1.0177\n",
      "DEBUG:mathsformer.selfsupervised_learning_addition_model_backend:    with metric val_mathsformer_LLM_output_masked_categorical_accuracy: 0.63693\n",
      "DEBUG:mathsformer.selfsupervised_learning_addition_model_backend:    with metric val_mathsformer_LLM_output_1_masked_categorical_accuracy: 0.64149\n",
      "DEBUG:mathsformer.selfsupervised_learning_addition_model_backend:    with metric val_mathsformer_LLM_output_2_masked_categorical_accuracy: 0.63981\n",
      "DEBUG:mathsformer.selfsupervised_learning_addition_model_backend:Running text --> text mathsformer inference on some training data:\n",
      "DEBUG:mathsformer.selfsupervised_learning_addition_model_backend:------------------------------------------------------------------------------------\n",
      "DEBUG:mathsformer.selfsupervised_learning_addition_model_backend:              INPUT         TRUE   PRED(MASK)    PRED(GEN)      CORRECT     RESIDUAL\n",
      "DEBUG:mathsformer.selfsupervised_learning_addition_model_backend:------------------------------------------------------------------------------------\n",
      "DEBUG:mathsformer.selfsupervised_learning_addition_model_backend:            76-N292          368        368EE          368          X              0\n",
      "DEBUG:mathsformer.selfsupervised_learning_addition_model_backend:            N4+N799         N803        N803E         N803          X              0\n",
      "DEBUG:mathsformer.selfsupervised_learning_addition_model_backend:              333+7          340        340EE          340          X              0\n",
      "DEBUG:mathsformer.selfsupervised_learning_addition_model_backend: N58+N2-N615-51+678         1182        1256E         1256                        74\n",
      "DEBUG:mathsformer.selfsupervised_learning_addition_model_backend:      N1-148-N5+N30         N174        N176E         N176                        -2\n",
      "DEBUG:mathsformer.selfsupervised_learning_addition_model_backend:   8-N118+434+N1647        N1087        N111E         N111                       976\n",
      "DEBUG:mathsformer.selfsupervised_learning_addition_model_backend:   N510+8-N69+65-N8         N360        N35EE          N35                       325\n",
      "DEBUG:mathsformer.selfsupervised_learning_addition_model_backend:                N12          N12        N12EE          N12          X              0\n",
      "DEBUG:mathsformer.selfsupervised_learning_addition_model_backend:                  9            9        9EE6E            9          X              0\n",
      "DEBUG:mathsformer.selfsupervised_learning_addition_model_backend:               3930         3930        3930E         3930          X              0\n",
      "DEBUG:mathsformer.selfsupervised_learning_addition_model_backend:Running text --> text mathsformer inference on some validation data:\n",
      "DEBUG:mathsformer.selfsupervised_learning_addition_model_backend:--------------------------------------------------------------------------------\n",
      "DEBUG:mathsformer.selfsupervised_learning_addition_model_backend:          INPUT         TRUE   PRED(MASK)    PRED(GEN)      CORRECT     RESIDUAL\n",
      "DEBUG:mathsformer.selfsupervised_learning_addition_model_backend:--------------------------------------------------------------------------------\n",
      "DEBUG:mathsformer.selfsupervised_learning_addition_model_backend:      N5-14-516         N535        N531E         N531                         4\n",
      "DEBUG:mathsformer.selfsupervised_learning_addition_model_backend:   566-N52-5117        N4499        N4562        N4562                       -63\n",
      "DEBUG:mathsformer.selfsupervised_learning_addition_model_backend:    N7+N3567-36        N3610        N3514        N3514                        96\n",
      "DEBUG:mathsformer.selfsupervised_learning_addition_model_backend:       414+N2-2          410        411EE          411                         1\n",
      "DEBUG:mathsformer.selfsupervised_learning_addition_model_backend:     N16-36+N31          N83        N71EE          N71                        12\n",
      "DEBUG:mathsformer.selfsupervised_learning_addition_model_backend:     2988+N54-6         2928        2923E         2923                        -5\n",
      "DEBUG:mathsformer.selfsupervised_learning_addition_model_backend:    N4036+N8+93        N3951        N3943        N3943                         8\n",
      "DEBUG:mathsformer.selfsupervised_learning_addition_model_backend: N302+N4928+N86        N5316        N5325        N5325                        -9\n",
      "DEBUG:mathsformer.selfsupervised_learning_addition_model_backend: 7339+N771+N948         5620        5566E         5566                       -54\n",
      "DEBUG:mathsformer.selfsupervised_learning_addition_model_backend:  N1012+N47+N85        N1144        N1179        N1179                       -35\n"
     ]
    },
    {
     "name": "stdout",
     "output_type": "stream",
     "text": [
      "2000/2000 [==============================] - 938s 469ms/step - loss: 2.1134 - mathsformer_LLM_output_loss: 0.7069 - mathsformer_LLM_output_1_loss: 0.7002 - mathsformer_LLM_output_2_loss: 0.7062 - mathsformer_LLM_output_masked_categorical_accuracy: 0.7279 - mathsformer_LLM_output_1_masked_categorical_accuracy: 0.7301 - mathsformer_LLM_output_2_masked_categorical_accuracy: 0.7276 - val_loss: 3.0593 - val_mathsformer_LLM_output_loss: 1.0313 - val_mathsformer_LLM_output_1_loss: 1.0102 - val_mathsformer_LLM_output_2_loss: 1.0177 - val_mathsformer_LLM_output_masked_categorical_accuracy: 0.6369 - val_mathsformer_LLM_output_1_masked_categorical_accuracy: 0.6415 - val_mathsformer_LLM_output_2_masked_categorical_accuracy: 0.6398\n",
      "Epoch 22/100000\n",
      "2000/2000 [==============================] - ETA: 0s - loss: 2.0791 - mathsformer_LLM_output_loss: 0.6950 - mathsformer_LLM_output_1_loss: 0.6892 - mathsformer_LLM_output_2_loss: 0.6949 - mathsformer_LLM_output_masked_categorical_accuracy: 0.7321 - mathsformer_LLM_output_1_masked_categorical_accuracy: 0.7341 - mathsformer_LLM_output_2_masked_categorical_accuracy: 0.7319"
     ]
    },
    {
     "name": "stderr",
     "output_type": "stream",
     "text": [
      "DEBUG:mathsformer.selfsupervised_learning_addition_model_backend:Training reached the end of epoch at index 21\n",
      "DEBUG:mathsformer.selfsupervised_learning_addition_model_backend:    with metric loss: 2.0791\n",
      "DEBUG:mathsformer.selfsupervised_learning_addition_model_backend:    with metric mathsformer_LLM_output_loss: 0.69501\n",
      "DEBUG:mathsformer.selfsupervised_learning_addition_model_backend:    with metric mathsformer_LLM_output_1_loss: 0.68925\n",
      "DEBUG:mathsformer.selfsupervised_learning_addition_model_backend:    with metric mathsformer_LLM_output_2_loss: 0.69487\n",
      "DEBUG:mathsformer.selfsupervised_learning_addition_model_backend:    with metric mathsformer_LLM_output_masked_categorical_accuracy: 0.73211\n",
      "DEBUG:mathsformer.selfsupervised_learning_addition_model_backend:    with metric mathsformer_LLM_output_1_masked_categorical_accuracy: 0.73411\n",
      "DEBUG:mathsformer.selfsupervised_learning_addition_model_backend:    with metric mathsformer_LLM_output_2_masked_categorical_accuracy: 0.73194\n",
      "DEBUG:mathsformer.selfsupervised_learning_addition_model_backend:    with metric val_loss: 2.8971\n",
      "DEBUG:mathsformer.selfsupervised_learning_addition_model_backend:    with metric val_mathsformer_LLM_output_loss: 0.96991\n",
      "DEBUG:mathsformer.selfsupervised_learning_addition_model_backend:    with metric val_mathsformer_LLM_output_1_loss: 0.96026\n",
      "DEBUG:mathsformer.selfsupervised_learning_addition_model_backend:    with metric val_mathsformer_LLM_output_2_loss: 0.96689\n",
      "DEBUG:mathsformer.selfsupervised_learning_addition_model_backend:    with metric val_mathsformer_LLM_output_masked_categorical_accuracy: 0.63903\n",
      "DEBUG:mathsformer.selfsupervised_learning_addition_model_backend:    with metric val_mathsformer_LLM_output_1_masked_categorical_accuracy: 0.64078\n",
      "DEBUG:mathsformer.selfsupervised_learning_addition_model_backend:    with metric val_mathsformer_LLM_output_2_masked_categorical_accuracy: 0.63912\n",
      "DEBUG:mathsformer.selfsupervised_learning_addition_model_backend:Running text --> text mathsformer inference on some training data:\n",
      "DEBUG:mathsformer.selfsupervised_learning_addition_model_backend:------------------------------------------------------------------------------------\n",
      "DEBUG:mathsformer.selfsupervised_learning_addition_model_backend:              INPUT         TRUE   PRED(MASK)    PRED(GEN)      CORRECT     RESIDUAL\n",
      "DEBUG:mathsformer.selfsupervised_learning_addition_model_backend:------------------------------------------------------------------------------------\n",
      "DEBUG:mathsformer.selfsupervised_learning_addition_model_backend:            76-N292          368        368EE          368          X              0\n",
      "DEBUG:mathsformer.selfsupervised_learning_addition_model_backend:            N4+N799         N803        N803E         N803          X              0\n",
      "DEBUG:mathsformer.selfsupervised_learning_addition_model_backend:              333+7          340        340EE          340          X              0\n",
      "DEBUG:mathsformer.selfsupervised_learning_addition_model_backend: N58+N2-N615-51+678         1182        1144E         1144                       -38\n",
      "DEBUG:mathsformer.selfsupervised_learning_addition_model_backend:      N1-148-N5+N30         N174        N174E         N174          X              0\n",
      "DEBUG:mathsformer.selfsupervised_learning_addition_model_backend:   8-N118+434+N1647        N1087        N1118        N1118                       -31\n",
      "DEBUG:mathsformer.selfsupervised_learning_addition_model_backend:   N510+8-N69+65-N8         N360        N455E         N455                       -95\n",
      "DEBUG:mathsformer.selfsupervised_learning_addition_model_backend:                N12          N12        N12EE          N12          X              0\n",
      "DEBUG:mathsformer.selfsupervised_learning_addition_model_backend:                  9            9        9EE8E            9          X              0\n",
      "DEBUG:mathsformer.selfsupervised_learning_addition_model_backend:               3930         3930        3930E         3930          X              0\n",
      "DEBUG:mathsformer.selfsupervised_learning_addition_model_backend:Running text --> text mathsformer inference on some validation data:\n",
      "DEBUG:mathsformer.selfsupervised_learning_addition_model_backend:--------------------------------------------------------------------------------\n",
      "DEBUG:mathsformer.selfsupervised_learning_addition_model_backend:          INPUT         TRUE   PRED(MASK)    PRED(GEN)      CORRECT     RESIDUAL\n",
      "DEBUG:mathsformer.selfsupervised_learning_addition_model_backend:--------------------------------------------------------------------------------\n",
      "DEBUG:mathsformer.selfsupervised_learning_addition_model_backend:      N5-14-516         N535        N531E         N531                         4\n",
      "DEBUG:mathsformer.selfsupervised_learning_addition_model_backend:   566-N52-5117        N4499        N4554        N4554                       -55\n",
      "DEBUG:mathsformer.selfsupervised_learning_addition_model_backend:    N7+N3567-36        N3610        N3504        N3504                       106\n",
      "DEBUG:mathsformer.selfsupervised_learning_addition_model_backend:       414+N2-2          410        411EE          411                         1\n",
      "DEBUG:mathsformer.selfsupervised_learning_addition_model_backend:     N16-36+N31          N83        N79EE          N79                         4\n",
      "DEBUG:mathsformer.selfsupervised_learning_addition_model_backend:     2988+N54-6         2928        2933E         2933                         5\n",
      "DEBUG:mathsformer.selfsupervised_learning_addition_model_backend:    N4036+N8+93        N3951        N3942        N3942                         9\n",
      "DEBUG:mathsformer.selfsupervised_learning_addition_model_backend: N302+N4928+N86        N5316        N5334        N5334                       -18\n",
      "DEBUG:mathsformer.selfsupervised_learning_addition_model_backend: 7339+N771+N948         5620        5455E         5455                      -165\n",
      "DEBUG:mathsformer.selfsupervised_learning_addition_model_backend:  N1012+N47+N85        N1144        N1179        N1179                       -35\n"
     ]
    },
    {
     "name": "stdout",
     "output_type": "stream",
     "text": [
      "2000/2000 [==============================] - 868s 434ms/step - loss: 2.0791 - mathsformer_LLM_output_loss: 0.6950 - mathsformer_LLM_output_1_loss: 0.6892 - mathsformer_LLM_output_2_loss: 0.6949 - mathsformer_LLM_output_masked_categorical_accuracy: 0.7321 - mathsformer_LLM_output_1_masked_categorical_accuracy: 0.7341 - mathsformer_LLM_output_2_masked_categorical_accuracy: 0.7319 - val_loss: 2.8971 - val_mathsformer_LLM_output_loss: 0.9699 - val_mathsformer_LLM_output_1_loss: 0.9603 - val_mathsformer_LLM_output_2_loss: 0.9669 - val_mathsformer_LLM_output_masked_categorical_accuracy: 0.6390 - val_mathsformer_LLM_output_1_masked_categorical_accuracy: 0.6408 - val_mathsformer_LLM_output_2_masked_categorical_accuracy: 0.6391\n",
      "Epoch 23/100000\n",
      "2000/2000 [==============================] - ETA: 0s - loss: 2.0663 - mathsformer_LLM_output_loss: 0.6908 - mathsformer_LLM_output_1_loss: 0.6847 - mathsformer_LLM_output_2_loss: 0.6909 - mathsformer_LLM_output_masked_categorical_accuracy: 0.7349 - mathsformer_LLM_output_1_masked_categorical_accuracy: 0.7372 - mathsformer_LLM_output_2_masked_categorical_accuracy: 0.7350"
     ]
    },
    {
     "name": "stderr",
     "output_type": "stream",
     "text": [
      "DEBUG:mathsformer.selfsupervised_learning_addition_model_backend:Training reached the end of epoch at index 22\n",
      "DEBUG:mathsformer.selfsupervised_learning_addition_model_backend:    with metric loss: 2.0663\n",
      "DEBUG:mathsformer.selfsupervised_learning_addition_model_backend:    with metric mathsformer_LLM_output_loss: 0.69077\n",
      "DEBUG:mathsformer.selfsupervised_learning_addition_model_backend:    with metric mathsformer_LLM_output_1_loss: 0.68468\n",
      "DEBUG:mathsformer.selfsupervised_learning_addition_model_backend:    with metric mathsformer_LLM_output_2_loss: 0.69088\n",
      "DEBUG:mathsformer.selfsupervised_learning_addition_model_backend:    with metric mathsformer_LLM_output_masked_categorical_accuracy: 0.73494\n",
      "DEBUG:mathsformer.selfsupervised_learning_addition_model_backend:    with metric mathsformer_LLM_output_1_masked_categorical_accuracy: 0.73723\n",
      "DEBUG:mathsformer.selfsupervised_learning_addition_model_backend:    with metric mathsformer_LLM_output_2_masked_categorical_accuracy: 0.73496\n",
      "DEBUG:mathsformer.selfsupervised_learning_addition_model_backend:    with metric val_loss: 2.9205\n",
      "DEBUG:mathsformer.selfsupervised_learning_addition_model_backend:    with metric val_mathsformer_LLM_output_loss: 0.95321\n",
      "DEBUG:mathsformer.selfsupervised_learning_addition_model_backend:    with metric val_mathsformer_LLM_output_1_loss: 0.97052\n",
      "DEBUG:mathsformer.selfsupervised_learning_addition_model_backend:    with metric val_mathsformer_LLM_output_2_loss: 0.99675\n",
      "DEBUG:mathsformer.selfsupervised_learning_addition_model_backend:    with metric val_mathsformer_LLM_output_masked_categorical_accuracy: 0.65881\n",
      "DEBUG:mathsformer.selfsupervised_learning_addition_model_backend:    with metric val_mathsformer_LLM_output_1_masked_categorical_accuracy: 0.65893\n",
      "DEBUG:mathsformer.selfsupervised_learning_addition_model_backend:    with metric val_mathsformer_LLM_output_2_masked_categorical_accuracy: 0.65802\n",
      "DEBUG:mathsformer.selfsupervised_learning_addition_model_backend:Running text --> text mathsformer inference on some training data:\n",
      "DEBUG:mathsformer.selfsupervised_learning_addition_model_backend:------------------------------------------------------------------------------------\n",
      "DEBUG:mathsformer.selfsupervised_learning_addition_model_backend:              INPUT         TRUE   PRED(MASK)    PRED(GEN)      CORRECT     RESIDUAL\n",
      "DEBUG:mathsformer.selfsupervised_learning_addition_model_backend:------------------------------------------------------------------------------------\n",
      "DEBUG:mathsformer.selfsupervised_learning_addition_model_backend:            76-N292          368        368EE          368          X              0\n",
      "DEBUG:mathsformer.selfsupervised_learning_addition_model_backend:            N4+N799         N803        N703E         N703                       100\n",
      "DEBUG:mathsformer.selfsupervised_learning_addition_model_backend:              333+7          340        330EE          330                       -10\n",
      "DEBUG:mathsformer.selfsupervised_learning_addition_model_backend: N58+N2-N615-51+678         1182        1109E         1109                       -73\n",
      "DEBUG:mathsformer.selfsupervised_learning_addition_model_backend:      N1-148-N5+N30         N174        N179E         N179                        -5\n",
      "DEBUG:mathsformer.selfsupervised_learning_addition_model_backend:   8-N118+434+N1647        N1087        N1199        N1199                      -112\n",
      "DEBUG:mathsformer.selfsupervised_learning_addition_model_backend:   N510+8-N69+65-N8         N360        N209E         N209                       151\n",
      "DEBUG:mathsformer.selfsupervised_learning_addition_model_backend:                N12          N12        N12EE          N12          X              0\n",
      "DEBUG:mathsformer.selfsupervised_learning_addition_model_backend:                  9            9        9EE9E            9          X              0\n",
      "DEBUG:mathsformer.selfsupervised_learning_addition_model_backend:               3930         3930        3930E         3930          X              0\n",
      "DEBUG:mathsformer.selfsupervised_learning_addition_model_backend:Running text --> text mathsformer inference on some validation data:\n",
      "DEBUG:mathsformer.selfsupervised_learning_addition_model_backend:--------------------------------------------------------------------------------\n",
      "DEBUG:mathsformer.selfsupervised_learning_addition_model_backend:          INPUT         TRUE   PRED(MASK)    PRED(GEN)      CORRECT     RESIDUAL\n",
      "DEBUG:mathsformer.selfsupervised_learning_addition_model_backend:--------------------------------------------------------------------------------\n",
      "DEBUG:mathsformer.selfsupervised_learning_addition_model_backend:      N5-14-516         N535        N531E         N531                         4\n",
      "DEBUG:mathsformer.selfsupervised_learning_addition_model_backend:   566-N52-5117        N4499        N4599        N4599                      -100\n",
      "DEBUG:mathsformer.selfsupervised_learning_addition_model_backend:    N7+N3567-36        N3610        N3609        N3608                         2\n",
      "DEBUG:mathsformer.selfsupervised_learning_addition_model_backend:       414+N2-2          410        411EE          411                         1\n",
      "DEBUG:mathsformer.selfsupervised_learning_addition_model_backend:     N16-36+N31          N83        N89EE          N89                        -6\n",
      "DEBUG:mathsformer.selfsupervised_learning_addition_model_backend:     2988+N54-6         2928        2923E         2923                        -5\n",
      "DEBUG:mathsformer.selfsupervised_learning_addition_model_backend:    N4036+N8+93        N3951        N3942        N3942                         9\n",
      "DEBUG:mathsformer.selfsupervised_learning_addition_model_backend: N302+N4928+N86        N5316        N5329        N5329                       -13\n",
      "DEBUG:mathsformer.selfsupervised_learning_addition_model_backend: 7339+N771+N948         5620        5303E         5399                      -221\n",
      "DEBUG:mathsformer.selfsupervised_learning_addition_model_backend:  N1012+N47+N85        N1144        N1199        N1199                       -55\n"
     ]
    },
    {
     "name": "stdout",
     "output_type": "stream",
     "text": [
      "2000/2000 [==============================] - 868s 434ms/step - loss: 2.0663 - mathsformer_LLM_output_loss: 0.6908 - mathsformer_LLM_output_1_loss: 0.6847 - mathsformer_LLM_output_2_loss: 0.6909 - mathsformer_LLM_output_masked_categorical_accuracy: 0.7349 - mathsformer_LLM_output_1_masked_categorical_accuracy: 0.7372 - mathsformer_LLM_output_2_masked_categorical_accuracy: 0.7350 - val_loss: 2.9205 - val_mathsformer_LLM_output_loss: 0.9532 - val_mathsformer_LLM_output_1_loss: 0.9705 - val_mathsformer_LLM_output_2_loss: 0.9967 - val_mathsformer_LLM_output_masked_categorical_accuracy: 0.6588 - val_mathsformer_LLM_output_1_masked_categorical_accuracy: 0.6589 - val_mathsformer_LLM_output_2_masked_categorical_accuracy: 0.6580\n",
      "Epoch 24/100000\n",
      "2000/2000 [==============================] - ETA: 0s - loss: 1.9874 - mathsformer_LLM_output_loss: 0.6647 - mathsformer_LLM_output_1_loss: 0.6586 - mathsformer_LLM_output_2_loss: 0.6641 - mathsformer_LLM_output_masked_categorical_accuracy: 0.7443 - mathsformer_LLM_output_1_masked_categorical_accuracy: 0.7465 - mathsformer_LLM_output_2_masked_categorical_accuracy: 0.7445"
     ]
    },
    {
     "name": "stderr",
     "output_type": "stream",
     "text": [
      "DEBUG:mathsformer.selfsupervised_learning_addition_model_backend:Training reached the end of epoch at index 23\n",
      "DEBUG:mathsformer.selfsupervised_learning_addition_model_backend:    with metric loss: 1.9874\n",
      "DEBUG:mathsformer.selfsupervised_learning_addition_model_backend:    with metric mathsformer_LLM_output_loss: 0.6647\n",
      "DEBUG:mathsformer.selfsupervised_learning_addition_model_backend:    with metric mathsformer_LLM_output_1_loss: 0.6586\n",
      "DEBUG:mathsformer.selfsupervised_learning_addition_model_backend:    with metric mathsformer_LLM_output_2_loss: 0.66409\n",
      "DEBUG:mathsformer.selfsupervised_learning_addition_model_backend:    with metric mathsformer_LLM_output_masked_categorical_accuracy: 0.74434\n",
      "DEBUG:mathsformer.selfsupervised_learning_addition_model_backend:    with metric mathsformer_LLM_output_1_masked_categorical_accuracy: 0.74653\n",
      "DEBUG:mathsformer.selfsupervised_learning_addition_model_backend:    with metric mathsformer_LLM_output_2_masked_categorical_accuracy: 0.74451\n",
      "DEBUG:mathsformer.selfsupervised_learning_addition_model_backend:    with metric val_loss: 3.0437\n",
      "DEBUG:mathsformer.selfsupervised_learning_addition_model_backend:    with metric val_mathsformer_LLM_output_loss: 1.0061\n",
      "DEBUG:mathsformer.selfsupervised_learning_addition_model_backend:    with metric val_mathsformer_LLM_output_1_loss: 1.005\n",
      "DEBUG:mathsformer.selfsupervised_learning_addition_model_backend:    with metric val_mathsformer_LLM_output_2_loss: 1.0326\n",
      "DEBUG:mathsformer.selfsupervised_learning_addition_model_backend:    with metric val_mathsformer_LLM_output_masked_categorical_accuracy: 0.64243\n",
      "DEBUG:mathsformer.selfsupervised_learning_addition_model_backend:    with metric val_mathsformer_LLM_output_1_masked_categorical_accuracy: 0.64284\n",
      "DEBUG:mathsformer.selfsupervised_learning_addition_model_backend:    with metric val_mathsformer_LLM_output_2_masked_categorical_accuracy: 0.63551\n",
      "DEBUG:mathsformer.selfsupervised_learning_addition_model_backend:Running text --> text mathsformer inference on some training data:\n",
      "DEBUG:mathsformer.selfsupervised_learning_addition_model_backend:------------------------------------------------------------------------------------\n",
      "DEBUG:mathsformer.selfsupervised_learning_addition_model_backend:              INPUT         TRUE   PRED(MASK)    PRED(GEN)      CORRECT     RESIDUAL\n",
      "DEBUG:mathsformer.selfsupervised_learning_addition_model_backend:------------------------------------------------------------------------------------\n",
      "DEBUG:mathsformer.selfsupervised_learning_addition_model_backend:            76-N292          368        368EE          368          X              0\n",
      "DEBUG:mathsformer.selfsupervised_learning_addition_model_backend:            N4+N799         N803        N803E         N803          X              0\n",
      "DEBUG:mathsformer.selfsupervised_learning_addition_model_backend:              333+7          340        340EE          340          X              0\n",
      "DEBUG:mathsformer.selfsupervised_learning_addition_model_backend: N58+N2-N615-51+678         1182        1193E         1193                        11\n",
      "DEBUG:mathsformer.selfsupervised_learning_addition_model_backend:      N1-148-N5+N30         N174        N181E         N181                        -7\n",
      "DEBUG:mathsformer.selfsupervised_learning_addition_model_backend:   8-N118+434+N1647        N1087        N1113        N1113                       -26\n",
      "DEBUG:mathsformer.selfsupervised_learning_addition_model_backend:   N510+8-N69+65-N8         N360        N312E         N312                        48\n",
      "DEBUG:mathsformer.selfsupervised_learning_addition_model_backend:                N12          N12        N12EE          N12          X              0\n",
      "DEBUG:mathsformer.selfsupervised_learning_addition_model_backend:                  9            9        9EE0E            9          X              0\n",
      "DEBUG:mathsformer.selfsupervised_learning_addition_model_backend:               3930         3930        3930E         3930          X              0\n",
      "DEBUG:mathsformer.selfsupervised_learning_addition_model_backend:Running text --> text mathsformer inference on some validation data:\n",
      "DEBUG:mathsformer.selfsupervised_learning_addition_model_backend:--------------------------------------------------------------------------------\n",
      "DEBUG:mathsformer.selfsupervised_learning_addition_model_backend:          INPUT         TRUE   PRED(MASK)    PRED(GEN)      CORRECT     RESIDUAL\n",
      "DEBUG:mathsformer.selfsupervised_learning_addition_model_backend:--------------------------------------------------------------------------------\n",
      "DEBUG:mathsformer.selfsupervised_learning_addition_model_backend:      N5-14-516         N535        N542E         N542                        -7\n",
      "DEBUG:mathsformer.selfsupervised_learning_addition_model_backend:   566-N52-5117        N4499        N4553        N4553                       -54\n",
      "DEBUG:mathsformer.selfsupervised_learning_addition_model_backend:    N7+N3567-36        N3610        N3601        N3603                         7\n",
      "DEBUG:mathsformer.selfsupervised_learning_addition_model_backend:       414+N2-2          410        411EE          411                         1\n",
      "DEBUG:mathsformer.selfsupervised_learning_addition_model_backend:     N16-36+N31          N83        N19EE         N119                       -36\n",
      "DEBUG:mathsformer.selfsupervised_learning_addition_model_backend:     2988+N54-6         2928        2931E         2931                         3\n",
      "DEBUG:mathsformer.selfsupervised_learning_addition_model_backend:    N4036+N8+93        N3951        N4948        N4948                      -997\n",
      "DEBUG:mathsformer.selfsupervised_learning_addition_model_backend: N302+N4928+N86        N5316        N5313        N5313                         3\n",
      "DEBUG:mathsformer.selfsupervised_learning_addition_model_backend: 7339+N771+N948         5620        6111E         6103                       483\n",
      "DEBUG:mathsformer.selfsupervised_learning_addition_model_backend:  N1012+N47+N85        N1144        N1190        N1190                       -46\n"
     ]
    },
    {
     "name": "stdout",
     "output_type": "stream",
     "text": [
      "2000/2000 [==============================] - 862s 431ms/step - loss: 1.9874 - mathsformer_LLM_output_loss: 0.6647 - mathsformer_LLM_output_1_loss: 0.6586 - mathsformer_LLM_output_2_loss: 0.6641 - mathsformer_LLM_output_masked_categorical_accuracy: 0.7443 - mathsformer_LLM_output_1_masked_categorical_accuracy: 0.7465 - mathsformer_LLM_output_2_masked_categorical_accuracy: 0.7445 - val_loss: 3.0437 - val_mathsformer_LLM_output_loss: 1.0061 - val_mathsformer_LLM_output_1_loss: 1.0050 - val_mathsformer_LLM_output_2_loss: 1.0326 - val_mathsformer_LLM_output_masked_categorical_accuracy: 0.6424 - val_mathsformer_LLM_output_1_masked_categorical_accuracy: 0.6428 - val_mathsformer_LLM_output_2_masked_categorical_accuracy: 0.6355\n",
      "Epoch 25/100000\n",
      "2000/2000 [==============================] - ETA: 0s - loss: 1.9643 - mathsformer_LLM_output_loss: 0.6572 - mathsformer_LLM_output_1_loss: 0.6506 - mathsformer_LLM_output_2_loss: 0.6565 - mathsformer_LLM_output_masked_categorical_accuracy: 0.7468 - mathsformer_LLM_output_1_masked_categorical_accuracy: 0.7489 - mathsformer_LLM_output_2_masked_categorical_accuracy: 0.7473"
     ]
    },
    {
     "name": "stderr",
     "output_type": "stream",
     "text": [
      "DEBUG:mathsformer.selfsupervised_learning_addition_model_backend:Training reached the end of epoch at index 24\n",
      "DEBUG:mathsformer.selfsupervised_learning_addition_model_backend:    with metric loss: 1.9643\n",
      "DEBUG:mathsformer.selfsupervised_learning_addition_model_backend:    with metric mathsformer_LLM_output_loss: 0.65718\n",
      "DEBUG:mathsformer.selfsupervised_learning_addition_model_backend:    with metric mathsformer_LLM_output_1_loss: 0.65058\n",
      "DEBUG:mathsformer.selfsupervised_learning_addition_model_backend:    with metric mathsformer_LLM_output_2_loss: 0.65653\n",
      "DEBUG:mathsformer.selfsupervised_learning_addition_model_backend:    with metric mathsformer_LLM_output_masked_categorical_accuracy: 0.74677\n",
      "DEBUG:mathsformer.selfsupervised_learning_addition_model_backend:    with metric mathsformer_LLM_output_1_masked_categorical_accuracy: 0.74888\n",
      "DEBUG:mathsformer.selfsupervised_learning_addition_model_backend:    with metric mathsformer_LLM_output_2_masked_categorical_accuracy: 0.74732\n",
      "DEBUG:mathsformer.selfsupervised_learning_addition_model_backend:    with metric val_loss: 2.8549\n",
      "DEBUG:mathsformer.selfsupervised_learning_addition_model_backend:    with metric val_mathsformer_LLM_output_loss: 0.9388\n",
      "DEBUG:mathsformer.selfsupervised_learning_addition_model_backend:    with metric val_mathsformer_LLM_output_1_loss: 0.94581\n",
      "DEBUG:mathsformer.selfsupervised_learning_addition_model_backend:    with metric val_mathsformer_LLM_output_2_loss: 0.97032\n",
      "DEBUG:mathsformer.selfsupervised_learning_addition_model_backend:    with metric val_mathsformer_LLM_output_masked_categorical_accuracy: 0.67244\n",
      "DEBUG:mathsformer.selfsupervised_learning_addition_model_backend:    with metric val_mathsformer_LLM_output_1_masked_categorical_accuracy: 0.67401\n",
      "DEBUG:mathsformer.selfsupervised_learning_addition_model_backend:    with metric val_mathsformer_LLM_output_2_masked_categorical_accuracy: 0.67067\n",
      "DEBUG:mathsformer.selfsupervised_learning_addition_model_backend:Running text --> text mathsformer inference on some training data:\n",
      "DEBUG:mathsformer.selfsupervised_learning_addition_model_backend:------------------------------------------------------------------------------------\n",
      "DEBUG:mathsformer.selfsupervised_learning_addition_model_backend:              INPUT         TRUE   PRED(MASK)    PRED(GEN)      CORRECT     RESIDUAL\n",
      "DEBUG:mathsformer.selfsupervised_learning_addition_model_backend:------------------------------------------------------------------------------------\n",
      "DEBUG:mathsformer.selfsupervised_learning_addition_model_backend:            76-N292          368        368EE          368          X              0\n",
      "DEBUG:mathsformer.selfsupervised_learning_addition_model_backend:            N4+N799         N803        N803E         N803          X              0\n",
      "DEBUG:mathsformer.selfsupervised_learning_addition_model_backend:              333+7          340        340EE          340          X              0\n",
      "DEBUG:mathsformer.selfsupervised_learning_addition_model_backend: N58+N2-N615-51+678         1182        1123E         1123                       -59\n",
      "DEBUG:mathsformer.selfsupervised_learning_addition_model_backend:      N1-148-N5+N30         N174        N170E         N170                         4\n",
      "DEBUG:mathsformer.selfsupervised_learning_addition_model_backend:   8-N118+434+N1647        N1087        N1190        N1190                      -103\n",
      "DEBUG:mathsformer.selfsupervised_learning_addition_model_backend:   N510+8-N69+65-N8         N360        N309E         N309                        51\n",
      "DEBUG:mathsformer.selfsupervised_learning_addition_model_backend:                N12          N12        N12EE          N12          X              0\n",
      "DEBUG:mathsformer.selfsupervised_learning_addition_model_backend:                  9            9        9EEEE            9          X              0\n",
      "DEBUG:mathsformer.selfsupervised_learning_addition_model_backend:               3930         3930        3930E         3930          X              0\n",
      "DEBUG:mathsformer.selfsupervised_learning_addition_model_backend:Running text --> text mathsformer inference on some validation data:\n",
      "DEBUG:mathsformer.selfsupervised_learning_addition_model_backend:--------------------------------------------------------------------------------\n",
      "DEBUG:mathsformer.selfsupervised_learning_addition_model_backend:          INPUT         TRUE   PRED(MASK)    PRED(GEN)      CORRECT     RESIDUAL\n",
      "DEBUG:mathsformer.selfsupervised_learning_addition_model_backend:--------------------------------------------------------------------------------\n",
      "DEBUG:mathsformer.selfsupervised_learning_addition_model_backend:      N5-14-516         N535        N532E         N532                         3\n",
      "DEBUG:mathsformer.selfsupervised_learning_addition_model_backend:   566-N52-5117        N4499        N4402        N4402                        97\n",
      "DEBUG:mathsformer.selfsupervised_learning_addition_model_backend:    N7+N3567-36        N3610        N3504        N3504                       106\n",
      "DEBUG:mathsformer.selfsupervised_learning_addition_model_backend:       414+N2-2          410        412EE          412                         2\n",
      "DEBUG:mathsformer.selfsupervised_learning_addition_model_backend:     N16-36+N31          N83        N70EE          N70                        13\n",
      "DEBUG:mathsformer.selfsupervised_learning_addition_model_backend:     2988+N54-6         2928        2932E         2932                         4\n",
      "DEBUG:mathsformer.selfsupervised_learning_addition_model_backend:    N4036+N8+93        N3951        N3952        N3952                        -1\n",
      "DEBUG:mathsformer.selfsupervised_learning_addition_model_backend: N302+N4928+N86        N5316        N5320        N5320                        -4\n",
      "DEBUG:mathsformer.selfsupervised_learning_addition_model_backend: 7339+N771+N948         5620        5000E         5080                      -540\n",
      "DEBUG:mathsformer.selfsupervised_learning_addition_model_backend:  N1012+N47+N85        N1144        N1120        N1120                        24\n"
     ]
    },
    {
     "name": "stdout",
     "output_type": "stream",
     "text": [
      "2000/2000 [==============================] - 867s 433ms/step - loss: 1.9643 - mathsformer_LLM_output_loss: 0.6572 - mathsformer_LLM_output_1_loss: 0.6506 - mathsformer_LLM_output_2_loss: 0.6565 - mathsformer_LLM_output_masked_categorical_accuracy: 0.7468 - mathsformer_LLM_output_1_masked_categorical_accuracy: 0.7489 - mathsformer_LLM_output_2_masked_categorical_accuracy: 0.7473 - val_loss: 2.8549 - val_mathsformer_LLM_output_loss: 0.9388 - val_mathsformer_LLM_output_1_loss: 0.9458 - val_mathsformer_LLM_output_2_loss: 0.9703 - val_mathsformer_LLM_output_masked_categorical_accuracy: 0.6724 - val_mathsformer_LLM_output_1_masked_categorical_accuracy: 0.6740 - val_mathsformer_LLM_output_2_masked_categorical_accuracy: 0.6707\n",
      "Epoch 26/100000\n",
      "2000/2000 [==============================] - ETA: 0s - loss: 1.9506 - mathsformer_LLM_output_loss: 0.6529 - mathsformer_LLM_output_1_loss: 0.6463 - mathsformer_LLM_output_2_loss: 0.6514 - mathsformer_LLM_output_masked_categorical_accuracy: 0.7490 - mathsformer_LLM_output_1_masked_categorical_accuracy: 0.7512 - mathsformer_LLM_output_2_masked_categorical_accuracy: 0.7495"
     ]
    },
    {
     "name": "stderr",
     "output_type": "stream",
     "text": [
      "DEBUG:mathsformer.selfsupervised_learning_addition_model_backend:Training reached the end of epoch at index 25\n",
      "DEBUG:mathsformer.selfsupervised_learning_addition_model_backend:    with metric loss: 1.9506\n",
      "DEBUG:mathsformer.selfsupervised_learning_addition_model_backend:    with metric mathsformer_LLM_output_loss: 0.65295\n",
      "DEBUG:mathsformer.selfsupervised_learning_addition_model_backend:    with metric mathsformer_LLM_output_1_loss: 0.64625\n",
      "DEBUG:mathsformer.selfsupervised_learning_addition_model_backend:    with metric mathsformer_LLM_output_2_loss: 0.65138\n",
      "DEBUG:mathsformer.selfsupervised_learning_addition_model_backend:    with metric mathsformer_LLM_output_masked_categorical_accuracy: 0.74895\n",
      "DEBUG:mathsformer.selfsupervised_learning_addition_model_backend:    with metric mathsformer_LLM_output_1_masked_categorical_accuracy: 0.75115\n",
      "DEBUG:mathsformer.selfsupervised_learning_addition_model_backend:    with metric mathsformer_LLM_output_2_masked_categorical_accuracy: 0.74954\n",
      "DEBUG:mathsformer.selfsupervised_learning_addition_model_backend:    with metric val_loss: 2.944\n",
      "DEBUG:mathsformer.selfsupervised_learning_addition_model_backend:    with metric val_mathsformer_LLM_output_loss: 0.95942\n",
      "DEBUG:mathsformer.selfsupervised_learning_addition_model_backend:    with metric val_mathsformer_LLM_output_1_loss: 0.97664\n",
      "DEBUG:mathsformer.selfsupervised_learning_addition_model_backend:    with metric val_mathsformer_LLM_output_2_loss: 1.0079\n",
      "DEBUG:mathsformer.selfsupervised_learning_addition_model_backend:    with metric val_mathsformer_LLM_output_masked_categorical_accuracy: 0.67013\n",
      "DEBUG:mathsformer.selfsupervised_learning_addition_model_backend:    with metric val_mathsformer_LLM_output_1_masked_categorical_accuracy: 0.67031\n",
      "DEBUG:mathsformer.selfsupervised_learning_addition_model_backend:    with metric val_mathsformer_LLM_output_2_masked_categorical_accuracy: 0.66829\n",
      "DEBUG:mathsformer.selfsupervised_learning_addition_model_backend:Running text --> text mathsformer inference on some training data:\n",
      "DEBUG:mathsformer.selfsupervised_learning_addition_model_backend:------------------------------------------------------------------------------------\n",
      "DEBUG:mathsformer.selfsupervised_learning_addition_model_backend:              INPUT         TRUE   PRED(MASK)    PRED(GEN)      CORRECT     RESIDUAL\n",
      "DEBUG:mathsformer.selfsupervised_learning_addition_model_backend:------------------------------------------------------------------------------------\n",
      "DEBUG:mathsformer.selfsupervised_learning_addition_model_backend:            76-N292          368        368EE          368          X              0\n",
      "DEBUG:mathsformer.selfsupervised_learning_addition_model_backend:            N4+N799         N803        N803E         N803          X              0\n",
      "DEBUG:mathsformer.selfsupervised_learning_addition_model_backend:              333+7          340        340EE          340          X              0\n",
      "DEBUG:mathsformer.selfsupervised_learning_addition_model_backend: N58+N2-N615-51+678         1182        1288E         1288                       106\n",
      "DEBUG:mathsformer.selfsupervised_learning_addition_model_backend:      N1-148-N5+N30         N174        N178E         N178                        -4\n",
      "DEBUG:mathsformer.selfsupervised_learning_addition_model_backend:   8-N118+434+N1647        N1087        N1008        N1008                        79\n",
      "DEBUG:mathsformer.selfsupervised_learning_addition_model_backend:   N510+8-N69+65-N8         N360        N306E         N306                        54\n",
      "DEBUG:mathsformer.selfsupervised_learning_addition_model_backend:                N12          N12        N12EE          N12          X              0\n",
      "DEBUG:mathsformer.selfsupervised_learning_addition_model_backend:                  9            9        9EE4E            9          X              0\n",
      "DEBUG:mathsformer.selfsupervised_learning_addition_model_backend:               3930         3930        3930E         3930          X              0\n",
      "DEBUG:mathsformer.selfsupervised_learning_addition_model_backend:Running text --> text mathsformer inference on some validation data:\n",
      "DEBUG:mathsformer.selfsupervised_learning_addition_model_backend:--------------------------------------------------------------------------------\n",
      "DEBUG:mathsformer.selfsupervised_learning_addition_model_backend:          INPUT         TRUE   PRED(MASK)    PRED(GEN)      CORRECT     RESIDUAL\n",
      "DEBUG:mathsformer.selfsupervised_learning_addition_model_backend:--------------------------------------------------------------------------------\n",
      "DEBUG:mathsformer.selfsupervised_learning_addition_model_backend:      N5-14-516         N535        N532E         N532                         3\n",
      "DEBUG:mathsformer.selfsupervised_learning_addition_model_backend:   566-N52-5117        N4499        N4458        N4458                        41\n",
      "DEBUG:mathsformer.selfsupervised_learning_addition_model_backend:    N7+N3567-36        N3610        N3604        N3604                         6\n",
      "DEBUG:mathsformer.selfsupervised_learning_addition_model_backend:       414+N2-2          410        412EE          412                         2\n",
      "DEBUG:mathsformer.selfsupervised_learning_addition_model_backend:     N16-36+N31          N83        N74EE          N74                         9\n",
      "DEBUG:mathsformer.selfsupervised_learning_addition_model_backend:     2988+N54-6         2928        2934E         2934                         6\n",
      "DEBUG:mathsformer.selfsupervised_learning_addition_model_backend:    N4036+N8+93        N3951        N3954        N3954                        -3\n",
      "DEBUG:mathsformer.selfsupervised_learning_addition_model_backend: N302+N4928+N86        N5316        N5224        N5224                        92\n",
      "DEBUG:mathsformer.selfsupervised_learning_addition_model_backend: 7339+N771+N948         5620        5148E         5148                      -472\n",
      "DEBUG:mathsformer.selfsupervised_learning_addition_model_backend:  N1012+N47+N85        N1144        N1124        N1124                        20\n"
     ]
    },
    {
     "name": "stdout",
     "output_type": "stream",
     "text": [
      "2000/2000 [==============================] - 864s 432ms/step - loss: 1.9506 - mathsformer_LLM_output_loss: 0.6529 - mathsformer_LLM_output_1_loss: 0.6463 - mathsformer_LLM_output_2_loss: 0.6514 - mathsformer_LLM_output_masked_categorical_accuracy: 0.7490 - mathsformer_LLM_output_1_masked_categorical_accuracy: 0.7512 - mathsformer_LLM_output_2_masked_categorical_accuracy: 0.7495 - val_loss: 2.9440 - val_mathsformer_LLM_output_loss: 0.9594 - val_mathsformer_LLM_output_1_loss: 0.9766 - val_mathsformer_LLM_output_2_loss: 1.0079 - val_mathsformer_LLM_output_masked_categorical_accuracy: 0.6701 - val_mathsformer_LLM_output_1_masked_categorical_accuracy: 0.6703 - val_mathsformer_LLM_output_2_masked_categorical_accuracy: 0.6683\n",
      "Epoch 27/100000\n",
      "2000/2000 [==============================] - ETA: 0s - loss: 1.9054 - mathsformer_LLM_output_loss: 0.6379 - mathsformer_LLM_output_1_loss: 0.6319 - mathsformer_LLM_output_2_loss: 0.6356 - mathsformer_LLM_output_masked_categorical_accuracy: 0.7539 - mathsformer_LLM_output_1_masked_categorical_accuracy: 0.7560 - mathsformer_LLM_output_2_masked_categorical_accuracy: 0.7547"
     ]
    },
    {
     "name": "stderr",
     "output_type": "stream",
     "text": [
      "DEBUG:mathsformer.selfsupervised_learning_addition_model_backend:Training reached the end of epoch at index 26\n",
      "DEBUG:mathsformer.selfsupervised_learning_addition_model_backend:    with metric loss: 1.9054\n",
      "DEBUG:mathsformer.selfsupervised_learning_addition_model_backend:    with metric mathsformer_LLM_output_loss: 0.63788\n",
      "DEBUG:mathsformer.selfsupervised_learning_addition_model_backend:    with metric mathsformer_LLM_output_1_loss: 0.63191\n",
      "DEBUG:mathsformer.selfsupervised_learning_addition_model_backend:    with metric mathsformer_LLM_output_2_loss: 0.63564\n",
      "DEBUG:mathsformer.selfsupervised_learning_addition_model_backend:    with metric mathsformer_LLM_output_masked_categorical_accuracy: 0.75391\n",
      "DEBUG:mathsformer.selfsupervised_learning_addition_model_backend:    with metric mathsformer_LLM_output_1_masked_categorical_accuracy: 0.75596\n",
      "DEBUG:mathsformer.selfsupervised_learning_addition_model_backend:    with metric mathsformer_LLM_output_2_masked_categorical_accuracy: 0.75467\n",
      "DEBUG:mathsformer.selfsupervised_learning_addition_model_backend:    with metric val_loss: 2.6798\n",
      "DEBUG:mathsformer.selfsupervised_learning_addition_model_backend:    with metric val_mathsformer_LLM_output_loss: 0.89258\n",
      "DEBUG:mathsformer.selfsupervised_learning_addition_model_backend:    with metric val_mathsformer_LLM_output_1_loss: 0.8917\n",
      "DEBUG:mathsformer.selfsupervised_learning_addition_model_backend:    with metric val_mathsformer_LLM_output_2_loss: 0.8955\n",
      "DEBUG:mathsformer.selfsupervised_learning_addition_model_backend:    with metric val_mathsformer_LLM_output_masked_categorical_accuracy: 0.68687\n",
      "DEBUG:mathsformer.selfsupervised_learning_addition_model_backend:    with metric val_mathsformer_LLM_output_1_masked_categorical_accuracy: 0.68741\n",
      "DEBUG:mathsformer.selfsupervised_learning_addition_model_backend:    with metric val_mathsformer_LLM_output_2_masked_categorical_accuracy: 0.68381\n",
      "DEBUG:mathsformer.selfsupervised_learning_addition_model_backend:Running text --> text mathsformer inference on some training data:\n",
      "DEBUG:mathsformer.selfsupervised_learning_addition_model_backend:------------------------------------------------------------------------------------\n",
      "DEBUG:mathsformer.selfsupervised_learning_addition_model_backend:              INPUT         TRUE   PRED(MASK)    PRED(GEN)      CORRECT     RESIDUAL\n",
      "DEBUG:mathsformer.selfsupervised_learning_addition_model_backend:------------------------------------------------------------------------------------\n",
      "DEBUG:mathsformer.selfsupervised_learning_addition_model_backend:            76-N292          368        368EE          368          X              0\n",
      "DEBUG:mathsformer.selfsupervised_learning_addition_model_backend:            N4+N799         N803        N803E         N803          X              0\n",
      "DEBUG:mathsformer.selfsupervised_learning_addition_model_backend:              333+7          340        340EE          340          X              0\n",
      "DEBUG:mathsformer.selfsupervised_learning_addition_model_backend: N58+N2-N615-51+678         1182        1210E         1210                        28\n",
      "DEBUG:mathsformer.selfsupervised_learning_addition_model_backend:      N1-148-N5+N30         N174        N161E         N161                        13\n",
      "DEBUG:mathsformer.selfsupervised_learning_addition_model_backend:   8-N118+434+N1647        N1087        N1191        N1191                      -104\n",
      "DEBUG:mathsformer.selfsupervised_learning_addition_model_backend:   N510+8-N69+65-N8         N360        N404E         N404                       -44\n",
      "DEBUG:mathsformer.selfsupervised_learning_addition_model_backend:                N12          N12        N12EE          N12          X              0\n",
      "DEBUG:mathsformer.selfsupervised_learning_addition_model_backend:                  9            9        9EEEE            9          X              0\n",
      "DEBUG:mathsformer.selfsupervised_learning_addition_model_backend:               3930         3930        3930E         3930          X              0\n",
      "DEBUG:mathsformer.selfsupervised_learning_addition_model_backend:Running text --> text mathsformer inference on some validation data:\n",
      "DEBUG:mathsformer.selfsupervised_learning_addition_model_backend:--------------------------------------------------------------------------------\n",
      "DEBUG:mathsformer.selfsupervised_learning_addition_model_backend:          INPUT         TRUE   PRED(MASK)    PRED(GEN)      CORRECT     RESIDUAL\n",
      "DEBUG:mathsformer.selfsupervised_learning_addition_model_backend:--------------------------------------------------------------------------------\n",
      "DEBUG:mathsformer.selfsupervised_learning_addition_model_backend:      N5-14-516         N535        N532E         N532                         3\n",
      "DEBUG:mathsformer.selfsupervised_learning_addition_model_backend:   566-N52-5117        N4499        N4531        N4531                       -32\n",
      "DEBUG:mathsformer.selfsupervised_learning_addition_model_backend:    N7+N3567-36        N3610        N3610        N3610          X              0\n",
      "DEBUG:mathsformer.selfsupervised_learning_addition_model_backend:       414+N2-2          410        412EE          412                         2\n",
      "DEBUG:mathsformer.selfsupervised_learning_addition_model_backend:     N16-36+N31          N83        N80EE          N80                         3\n",
      "DEBUG:mathsformer.selfsupervised_learning_addition_model_backend:     2988+N54-6         2928        2931E         2931                         3\n",
      "DEBUG:mathsformer.selfsupervised_learning_addition_model_backend:    N4036+N8+93        N3951        N3954        N3954                        -3\n",
      "DEBUG:mathsformer.selfsupervised_learning_addition_model_backend: N302+N4928+N86        N5316        N5320        N5320                        -4\n",
      "DEBUG:mathsformer.selfsupervised_learning_addition_model_backend: 7339+N771+N948         5620        5555E         5550                       -70\n",
      "DEBUG:mathsformer.selfsupervised_learning_addition_model_backend:  N1012+N47+N85        N1144        N1120        N1120                        24\n"
     ]
    },
    {
     "name": "stdout",
     "output_type": "stream",
     "text": [
      "2000/2000 [==============================] - 863s 431ms/step - loss: 1.9054 - mathsformer_LLM_output_loss: 0.6379 - mathsformer_LLM_output_1_loss: 0.6319 - mathsformer_LLM_output_2_loss: 0.6356 - mathsformer_LLM_output_masked_categorical_accuracy: 0.7539 - mathsformer_LLM_output_1_masked_categorical_accuracy: 0.7560 - mathsformer_LLM_output_2_masked_categorical_accuracy: 0.7547 - val_loss: 2.6798 - val_mathsformer_LLM_output_loss: 0.8926 - val_mathsformer_LLM_output_1_loss: 0.8917 - val_mathsformer_LLM_output_2_loss: 0.8955 - val_mathsformer_LLM_output_masked_categorical_accuracy: 0.6869 - val_mathsformer_LLM_output_1_masked_categorical_accuracy: 0.6874 - val_mathsformer_LLM_output_2_masked_categorical_accuracy: 0.6838\n",
      "Epoch 28/100000\n",
      "2000/2000 [==============================] - ETA: 0s - loss: 1.9021 - mathsformer_LLM_output_loss: 0.6369 - mathsformer_LLM_output_1_loss: 0.6302 - mathsformer_LLM_output_2_loss: 0.6350 - mathsformer_LLM_output_masked_categorical_accuracy: 0.7558 - mathsformer_LLM_output_1_masked_categorical_accuracy: 0.7578 - mathsformer_LLM_output_2_masked_categorical_accuracy: 0.7564"
     ]
    },
    {
     "name": "stderr",
     "output_type": "stream",
     "text": [
      "DEBUG:mathsformer.selfsupervised_learning_addition_model_backend:Training reached the end of epoch at index 27\n",
      "DEBUG:mathsformer.selfsupervised_learning_addition_model_backend:    with metric loss: 1.9021\n",
      "DEBUG:mathsformer.selfsupervised_learning_addition_model_backend:    with metric mathsformer_LLM_output_loss: 0.63694\n",
      "DEBUG:mathsformer.selfsupervised_learning_addition_model_backend:    with metric mathsformer_LLM_output_1_loss: 0.63016\n",
      "DEBUG:mathsformer.selfsupervised_learning_addition_model_backend:    with metric mathsformer_LLM_output_2_loss: 0.63503\n",
      "DEBUG:mathsformer.selfsupervised_learning_addition_model_backend:    with metric mathsformer_LLM_output_masked_categorical_accuracy: 0.75577\n",
      "DEBUG:mathsformer.selfsupervised_learning_addition_model_backend:    with metric mathsformer_LLM_output_1_masked_categorical_accuracy: 0.75778\n",
      "DEBUG:mathsformer.selfsupervised_learning_addition_model_backend:    with metric mathsformer_LLM_output_2_masked_categorical_accuracy: 0.75639\n",
      "DEBUG:mathsformer.selfsupervised_learning_addition_model_backend:    with metric val_loss: 2.4402\n",
      "DEBUG:mathsformer.selfsupervised_learning_addition_model_backend:    with metric val_mathsformer_LLM_output_loss: 0.81111\n",
      "DEBUG:mathsformer.selfsupervised_learning_addition_model_backend:    with metric val_mathsformer_LLM_output_1_loss: 0.80766\n",
      "DEBUG:mathsformer.selfsupervised_learning_addition_model_backend:    with metric val_mathsformer_LLM_output_2_loss: 0.82143\n",
      "DEBUG:mathsformer.selfsupervised_learning_addition_model_backend:    with metric val_mathsformer_LLM_output_masked_categorical_accuracy: 0.69706\n",
      "DEBUG:mathsformer.selfsupervised_learning_addition_model_backend:    with metric val_mathsformer_LLM_output_1_masked_categorical_accuracy: 0.69675\n",
      "DEBUG:mathsformer.selfsupervised_learning_addition_model_backend:    with metric val_mathsformer_LLM_output_2_masked_categorical_accuracy: 0.69213\n",
      "DEBUG:mathsformer.selfsupervised_learning_addition_model_backend:Running text --> text mathsformer inference on some training data:\n",
      "DEBUG:mathsformer.selfsupervised_learning_addition_model_backend:------------------------------------------------------------------------------------\n",
      "DEBUG:mathsformer.selfsupervised_learning_addition_model_backend:              INPUT         TRUE   PRED(MASK)    PRED(GEN)      CORRECT     RESIDUAL\n",
      "DEBUG:mathsformer.selfsupervised_learning_addition_model_backend:------------------------------------------------------------------------------------\n",
      "DEBUG:mathsformer.selfsupervised_learning_addition_model_backend:            76-N292          368        368EE          368          X              0\n",
      "DEBUG:mathsformer.selfsupervised_learning_addition_model_backend:            N4+N799         N803        N803E         N803          X              0\n",
      "DEBUG:mathsformer.selfsupervised_learning_addition_model_backend:              333+7          340        340EE          340          X              0\n",
      "DEBUG:mathsformer.selfsupervised_learning_addition_model_backend: N58+N2-N615-51+678         1182        1100E         1100                       -82\n",
      "DEBUG:mathsformer.selfsupervised_learning_addition_model_backend:      N1-148-N5+N30         N174        N170E         N170                         4\n",
      "DEBUG:mathsformer.selfsupervised_learning_addition_model_backend:   8-N118+434+N1647        N1087        N1100        N1100                       -13\n",
      "DEBUG:mathsformer.selfsupervised_learning_addition_model_backend:   N510+8-N69+65-N8         N360        N300E         N300                        60\n",
      "DEBUG:mathsformer.selfsupervised_learning_addition_model_backend:                N12          N12        N12EE          N12          X              0\n",
      "DEBUG:mathsformer.selfsupervised_learning_addition_model_backend:                  9            9        9EE8E            9          X              0\n",
      "DEBUG:mathsformer.selfsupervised_learning_addition_model_backend:               3930         3930        3930E         3930          X              0\n",
      "DEBUG:mathsformer.selfsupervised_learning_addition_model_backend:Running text --> text mathsformer inference on some validation data:\n",
      "DEBUG:mathsformer.selfsupervised_learning_addition_model_backend:--------------------------------------------------------------------------------\n",
      "DEBUG:mathsformer.selfsupervised_learning_addition_model_backend:          INPUT         TRUE   PRED(MASK)    PRED(GEN)      CORRECT     RESIDUAL\n",
      "DEBUG:mathsformer.selfsupervised_learning_addition_model_backend:--------------------------------------------------------------------------------\n",
      "DEBUG:mathsformer.selfsupervised_learning_addition_model_backend:      N5-14-516         N535        N533E         N533                         2\n",
      "DEBUG:mathsformer.selfsupervised_learning_addition_model_backend:   566-N52-5117        N4499        N4400        N4400                        99\n",
      "DEBUG:mathsformer.selfsupervised_learning_addition_model_backend:    N7+N3567-36        N3610        N3611        N3611                        -1\n",
      "DEBUG:mathsformer.selfsupervised_learning_addition_model_backend:       414+N2-2          410        412EE          412                         2\n",
      "DEBUG:mathsformer.selfsupervised_learning_addition_model_backend:     N16-36+N31          N83        N80EE          N80                         3\n",
      "DEBUG:mathsformer.selfsupervised_learning_addition_model_backend:     2988+N54-6         2928        2930E         2930                         2\n",
      "DEBUG:mathsformer.selfsupervised_learning_addition_model_backend:    N4036+N8+93        N3951        N3950        N3950                         1\n",
      "DEBUG:mathsformer.selfsupervised_learning_addition_model_backend: N302+N4928+N86        N5316        N5330        N5330                       -14\n",
      "DEBUG:mathsformer.selfsupervised_learning_addition_model_backend: 7339+N771+N948         5620        6000E         6000                       380\n",
      "DEBUG:mathsformer.selfsupervised_learning_addition_model_backend:  N1012+N47+N85        N1144        N1140        N1140                         4\n"
     ]
    },
    {
     "name": "stdout",
     "output_type": "stream",
     "text": [
      "2000/2000 [==============================] - 868s 434ms/step - loss: 1.9021 - mathsformer_LLM_output_loss: 0.6369 - mathsformer_LLM_output_1_loss: 0.6302 - mathsformer_LLM_output_2_loss: 0.6350 - mathsformer_LLM_output_masked_categorical_accuracy: 0.7558 - mathsformer_LLM_output_1_masked_categorical_accuracy: 0.7578 - mathsformer_LLM_output_2_masked_categorical_accuracy: 0.7564 - val_loss: 2.4402 - val_mathsformer_LLM_output_loss: 0.8111 - val_mathsformer_LLM_output_1_loss: 0.8077 - val_mathsformer_LLM_output_2_loss: 0.8214 - val_mathsformer_LLM_output_masked_categorical_accuracy: 0.6971 - val_mathsformer_LLM_output_1_masked_categorical_accuracy: 0.6968 - val_mathsformer_LLM_output_2_masked_categorical_accuracy: 0.6921\n",
      "Epoch 29/100000\n",
      "2000/2000 [==============================] - ETA: 0s - loss: 1.8575 - mathsformer_LLM_output_loss: 0.6219 - mathsformer_LLM_output_1_loss: 0.6152 - mathsformer_LLM_output_2_loss: 0.6204 - mathsformer_LLM_output_masked_categorical_accuracy: 0.7601 - mathsformer_LLM_output_1_masked_categorical_accuracy: 0.7628 - mathsformer_LLM_output_2_masked_categorical_accuracy: 0.7614"
     ]
    },
    {
     "name": "stderr",
     "output_type": "stream",
     "text": [
      "DEBUG:mathsformer.selfsupervised_learning_addition_model_backend:Training reached the end of epoch at index 28\n",
      "DEBUG:mathsformer.selfsupervised_learning_addition_model_backend:    with metric loss: 1.8575\n",
      "DEBUG:mathsformer.selfsupervised_learning_addition_model_backend:    with metric mathsformer_LLM_output_loss: 0.62193\n",
      "DEBUG:mathsformer.selfsupervised_learning_addition_model_backend:    with metric mathsformer_LLM_output_1_loss: 0.61516\n",
      "DEBUG:mathsformer.selfsupervised_learning_addition_model_backend:    with metric mathsformer_LLM_output_2_loss: 0.62038\n",
      "DEBUG:mathsformer.selfsupervised_learning_addition_model_backend:    with metric mathsformer_LLM_output_masked_categorical_accuracy: 0.76014\n",
      "DEBUG:mathsformer.selfsupervised_learning_addition_model_backend:    with metric mathsformer_LLM_output_1_masked_categorical_accuracy: 0.76284\n",
      "DEBUG:mathsformer.selfsupervised_learning_addition_model_backend:    with metric mathsformer_LLM_output_2_masked_categorical_accuracy: 0.76136\n",
      "DEBUG:mathsformer.selfsupervised_learning_addition_model_backend:    with metric val_loss: 2.4375\n",
      "DEBUG:mathsformer.selfsupervised_learning_addition_model_backend:    with metric val_mathsformer_LLM_output_loss: 0.79685\n",
      "DEBUG:mathsformer.selfsupervised_learning_addition_model_backend:    with metric val_mathsformer_LLM_output_1_loss: 0.80558\n",
      "DEBUG:mathsformer.selfsupervised_learning_addition_model_backend:    with metric val_mathsformer_LLM_output_2_loss: 0.83502\n",
      "DEBUG:mathsformer.selfsupervised_learning_addition_model_backend:    with metric val_mathsformer_LLM_output_masked_categorical_accuracy: 0.70279\n",
      "DEBUG:mathsformer.selfsupervised_learning_addition_model_backend:    with metric val_mathsformer_LLM_output_1_masked_categorical_accuracy: 0.70347\n",
      "DEBUG:mathsformer.selfsupervised_learning_addition_model_backend:    with metric val_mathsformer_LLM_output_2_masked_categorical_accuracy: 0.69891\n",
      "DEBUG:mathsformer.selfsupervised_learning_addition_model_backend:Running text --> text mathsformer inference on some training data:\n",
      "DEBUG:mathsformer.selfsupervised_learning_addition_model_backend:------------------------------------------------------------------------------------\n",
      "DEBUG:mathsformer.selfsupervised_learning_addition_model_backend:              INPUT         TRUE   PRED(MASK)    PRED(GEN)      CORRECT     RESIDUAL\n",
      "DEBUG:mathsformer.selfsupervised_learning_addition_model_backend:------------------------------------------------------------------------------------\n",
      "DEBUG:mathsformer.selfsupervised_learning_addition_model_backend:            76-N292          368        368EE          368          X              0\n",
      "DEBUG:mathsformer.selfsupervised_learning_addition_model_backend:            N4+N799         N803        N803E         N803          X              0\n",
      "DEBUG:mathsformer.selfsupervised_learning_addition_model_backend:              333+7          340        340EE          340          X              0\n",
      "DEBUG:mathsformer.selfsupervised_learning_addition_model_backend: N58+N2-N615-51+678         1182        1266E         1266                        84\n",
      "DEBUG:mathsformer.selfsupervised_learning_addition_model_backend:      N1-148-N5+N30         N174        N176E         N176                        -2\n",
      "DEBUG:mathsformer.selfsupervised_learning_addition_model_backend:   8-N118+434+N1647        N1087        N1090        N1090                        -3\n",
      "DEBUG:mathsformer.selfsupervised_learning_addition_model_backend:   N510+8-N69+65-N8         N360        N300E         N300                        60\n",
      "DEBUG:mathsformer.selfsupervised_learning_addition_model_backend:                N12          N12        N12EE          N12          X              0\n",
      "DEBUG:mathsformer.selfsupervised_learning_addition_model_backend:                  9            9        9EEEE            9          X              0\n",
      "DEBUG:mathsformer.selfsupervised_learning_addition_model_backend:               3930         3930        3930E         3930          X              0\n",
      "DEBUG:mathsformer.selfsupervised_learning_addition_model_backend:Running text --> text mathsformer inference on some validation data:\n",
      "DEBUG:mathsformer.selfsupervised_learning_addition_model_backend:--------------------------------------------------------------------------------\n",
      "DEBUG:mathsformer.selfsupervised_learning_addition_model_backend:          INPUT         TRUE   PRED(MASK)    PRED(GEN)      CORRECT     RESIDUAL\n",
      "DEBUG:mathsformer.selfsupervised_learning_addition_model_backend:--------------------------------------------------------------------------------\n",
      "DEBUG:mathsformer.selfsupervised_learning_addition_model_backend:      N5-14-516         N535        N535E         N535          X              0\n",
      "DEBUG:mathsformer.selfsupervised_learning_addition_model_backend:   566-N52-5117        N4499        N4501        N4501                        -2\n",
      "DEBUG:mathsformer.selfsupervised_learning_addition_model_backend:    N7+N3567-36        N3610        N3619        N3619                        -9\n",
      "DEBUG:mathsformer.selfsupervised_learning_addition_model_backend:       414+N2-2          410        411EE          411                         1\n",
      "DEBUG:mathsformer.selfsupervised_learning_addition_model_backend:     N16-36+N31          N83        N86EE          N86                        -3\n",
      "DEBUG:mathsformer.selfsupervised_learning_addition_model_backend:     2988+N54-6         2928        2935E         2935                         7\n",
      "DEBUG:mathsformer.selfsupervised_learning_addition_model_backend:    N4036+N8+93        N3951        N3956        N3956                        -5\n",
      "DEBUG:mathsformer.selfsupervised_learning_addition_model_backend: N302+N4928+N86        N5316        N5316        N5316          X              0\n",
      "DEBUG:mathsformer.selfsupervised_learning_addition_model_backend: 7339+N771+N948         5620        5009E         5009                      -611\n",
      "DEBUG:mathsformer.selfsupervised_learning_addition_model_backend:  N1012+N47+N85        N1144        N1146        N1146                        -2\n"
     ]
    },
    {
     "name": "stdout",
     "output_type": "stream",
     "text": [
      "2000/2000 [==============================] - 865s 432ms/step - loss: 1.8575 - mathsformer_LLM_output_loss: 0.6219 - mathsformer_LLM_output_1_loss: 0.6152 - mathsformer_LLM_output_2_loss: 0.6204 - mathsformer_LLM_output_masked_categorical_accuracy: 0.7601 - mathsformer_LLM_output_1_masked_categorical_accuracy: 0.7628 - mathsformer_LLM_output_2_masked_categorical_accuracy: 0.7614 - val_loss: 2.4375 - val_mathsformer_LLM_output_loss: 0.7968 - val_mathsformer_LLM_output_1_loss: 0.8056 - val_mathsformer_LLM_output_2_loss: 0.8350 - val_mathsformer_LLM_output_masked_categorical_accuracy: 0.7028 - val_mathsformer_LLM_output_1_masked_categorical_accuracy: 0.7035 - val_mathsformer_LLM_output_2_masked_categorical_accuracy: 0.6989\n",
      "Epoch 30/100000\n",
      "2000/2000 [==============================] - ETA: 0s - loss: 1.8120 - mathsformer_LLM_output_loss: 0.6085 - mathsformer_LLM_output_1_loss: 0.5999 - mathsformer_LLM_output_2_loss: 0.6036 - mathsformer_LLM_output_masked_categorical_accuracy: 0.7653 - mathsformer_LLM_output_1_masked_categorical_accuracy: 0.7681 - mathsformer_LLM_output_2_masked_categorical_accuracy: 0.7676"
     ]
    },
    {
     "name": "stderr",
     "output_type": "stream",
     "text": [
      "DEBUG:mathsformer.selfsupervised_learning_addition_model_backend:Training reached the end of epoch at index 29\n",
      "DEBUG:mathsformer.selfsupervised_learning_addition_model_backend:    with metric loss: 1.812\n",
      "DEBUG:mathsformer.selfsupervised_learning_addition_model_backend:    with metric mathsformer_LLM_output_loss: 0.60849\n",
      "DEBUG:mathsformer.selfsupervised_learning_addition_model_backend:    with metric mathsformer_LLM_output_1_loss: 0.59993\n",
      "DEBUG:mathsformer.selfsupervised_learning_addition_model_backend:    with metric mathsformer_LLM_output_2_loss: 0.60355\n",
      "DEBUG:mathsformer.selfsupervised_learning_addition_model_backend:    with metric mathsformer_LLM_output_masked_categorical_accuracy: 0.7653\n",
      "DEBUG:mathsformer.selfsupervised_learning_addition_model_backend:    with metric mathsformer_LLM_output_1_masked_categorical_accuracy: 0.76811\n",
      "DEBUG:mathsformer.selfsupervised_learning_addition_model_backend:    with metric mathsformer_LLM_output_2_masked_categorical_accuracy: 0.76756\n",
      "DEBUG:mathsformer.selfsupervised_learning_addition_model_backend:    with metric val_loss: 2.3228\n",
      "DEBUG:mathsformer.selfsupervised_learning_addition_model_backend:    with metric val_mathsformer_LLM_output_loss: 0.75866\n",
      "DEBUG:mathsformer.selfsupervised_learning_addition_model_backend:    with metric val_mathsformer_LLM_output_1_loss: 0.77033\n",
      "DEBUG:mathsformer.selfsupervised_learning_addition_model_backend:    with metric val_mathsformer_LLM_output_2_loss: 0.7938\n",
      "DEBUG:mathsformer.selfsupervised_learning_addition_model_backend:    with metric val_mathsformer_LLM_output_masked_categorical_accuracy: 0.7219\n",
      "DEBUG:mathsformer.selfsupervised_learning_addition_model_backend:    with metric val_mathsformer_LLM_output_1_masked_categorical_accuracy: 0.72232\n",
      "DEBUG:mathsformer.selfsupervised_learning_addition_model_backend:    with metric val_mathsformer_LLM_output_2_masked_categorical_accuracy: 0.71834\n",
      "DEBUG:mathsformer.selfsupervised_learning_addition_model_backend:Running text --> text mathsformer inference on some training data:\n",
      "DEBUG:mathsformer.selfsupervised_learning_addition_model_backend:------------------------------------------------------------------------------------\n",
      "DEBUG:mathsformer.selfsupervised_learning_addition_model_backend:              INPUT         TRUE   PRED(MASK)    PRED(GEN)      CORRECT     RESIDUAL\n",
      "DEBUG:mathsformer.selfsupervised_learning_addition_model_backend:------------------------------------------------------------------------------------\n",
      "DEBUG:mathsformer.selfsupervised_learning_addition_model_backend:            76-N292          368        368EE          368          X              0\n",
      "DEBUG:mathsformer.selfsupervised_learning_addition_model_backend:            N4+N799         N803        N803E         N803          X              0\n",
      "DEBUG:mathsformer.selfsupervised_learning_addition_model_backend:              333+7          340        340EE          340          X              0\n",
      "DEBUG:mathsformer.selfsupervised_learning_addition_model_backend: N58+N2-N615-51+678         1182        1100E         1100                       -82\n",
      "DEBUG:mathsformer.selfsupervised_learning_addition_model_backend:      N1-148-N5+N30         N174        N174E         N174          X              0\n",
      "DEBUG:mathsformer.selfsupervised_learning_addition_model_backend:   8-N118+434+N1647        N1087        N1190        N1190                      -103\n",
      "DEBUG:mathsformer.selfsupervised_learning_addition_model_backend:   N510+8-N69+65-N8         N360        N300E         N300                        60\n",
      "DEBUG:mathsformer.selfsupervised_learning_addition_model_backend:                N12          N12        N12EE          N12          X              0\n",
      "DEBUG:mathsformer.selfsupervised_learning_addition_model_backend:                  9            9        9EEEE            9          X              0\n",
      "DEBUG:mathsformer.selfsupervised_learning_addition_model_backend:               3930         3930        3930E         3930          X              0\n",
      "DEBUG:mathsformer.selfsupervised_learning_addition_model_backend:Running text --> text mathsformer inference on some validation data:\n",
      "DEBUG:mathsformer.selfsupervised_learning_addition_model_backend:--------------------------------------------------------------------------------\n",
      "DEBUG:mathsformer.selfsupervised_learning_addition_model_backend:          INPUT         TRUE   PRED(MASK)    PRED(GEN)      CORRECT     RESIDUAL\n",
      "DEBUG:mathsformer.selfsupervised_learning_addition_model_backend:--------------------------------------------------------------------------------\n",
      "DEBUG:mathsformer.selfsupervised_learning_addition_model_backend:      N5-14-516         N535        N536E         N536                        -1\n",
      "DEBUG:mathsformer.selfsupervised_learning_addition_model_backend:   566-N52-5117        N4499        N4502        N4502                        -3\n",
      "DEBUG:mathsformer.selfsupervised_learning_addition_model_backend:    N7+N3567-36        N3610        N3610        N3610          X              0\n",
      "DEBUG:mathsformer.selfsupervised_learning_addition_model_backend:       414+N2-2          410        412EE          412                         2\n",
      "DEBUG:mathsformer.selfsupervised_learning_addition_model_backend:     N16-36+N31          N83        N79EE          N79                         4\n",
      "DEBUG:mathsformer.selfsupervised_learning_addition_model_backend:     2988+N54-6         2928        2930E         2930                         2\n",
      "DEBUG:mathsformer.selfsupervised_learning_addition_model_backend:    N4036+N8+93        N3951        N3940        N3940                        11\n",
      "DEBUG:mathsformer.selfsupervised_learning_addition_model_backend: N302+N4928+N86        N5316        N5322        N5322                        -6\n",
      "DEBUG:mathsformer.selfsupervised_learning_addition_model_backend: 7339+N771+N948         5620        5020E         5020                      -600\n",
      "DEBUG:mathsformer.selfsupervised_learning_addition_model_backend:  N1012+N47+N85        N1144        N1137        N1137                         7\n"
     ]
    },
    {
     "name": "stdout",
     "output_type": "stream",
     "text": [
      "2000/2000 [==============================] - 869s 434ms/step - loss: 1.8120 - mathsformer_LLM_output_loss: 0.6085 - mathsformer_LLM_output_1_loss: 0.5999 - mathsformer_LLM_output_2_loss: 0.6036 - mathsformer_LLM_output_masked_categorical_accuracy: 0.7653 - mathsformer_LLM_output_1_masked_categorical_accuracy: 0.7681 - mathsformer_LLM_output_2_masked_categorical_accuracy: 0.7676 - val_loss: 2.3228 - val_mathsformer_LLM_output_loss: 0.7587 - val_mathsformer_LLM_output_1_loss: 0.7703 - val_mathsformer_LLM_output_2_loss: 0.7938 - val_mathsformer_LLM_output_masked_categorical_accuracy: 0.7219 - val_mathsformer_LLM_output_1_masked_categorical_accuracy: 0.7223 - val_mathsformer_LLM_output_2_masked_categorical_accuracy: 0.7183\n",
      "Epoch 31/100000\n",
      "2000/2000 [==============================] - ETA: 0s - loss: 1.7994 - mathsformer_LLM_output_loss: 0.6032 - mathsformer_LLM_output_1_loss: 0.5958 - mathsformer_LLM_output_2_loss: 0.6004 - mathsformer_LLM_output_masked_categorical_accuracy: 0.7685 - mathsformer_LLM_output_1_masked_categorical_accuracy: 0.7711 - mathsformer_LLM_output_2_masked_categorical_accuracy: 0.7699"
     ]
    },
    {
     "name": "stderr",
     "output_type": "stream",
     "text": [
      "DEBUG:mathsformer.selfsupervised_learning_addition_model_backend:Training reached the end of epoch at index 30\n",
      "DEBUG:mathsformer.selfsupervised_learning_addition_model_backend:    with metric loss: 1.7994\n",
      "DEBUG:mathsformer.selfsupervised_learning_addition_model_backend:    with metric mathsformer_LLM_output_loss: 0.6032\n",
      "DEBUG:mathsformer.selfsupervised_learning_addition_model_backend:    with metric mathsformer_LLM_output_1_loss: 0.5958\n",
      "DEBUG:mathsformer.selfsupervised_learning_addition_model_backend:    with metric mathsformer_LLM_output_2_loss: 0.60037\n",
      "DEBUG:mathsformer.selfsupervised_learning_addition_model_backend:    with metric mathsformer_LLM_output_masked_categorical_accuracy: 0.76851\n",
      "DEBUG:mathsformer.selfsupervised_learning_addition_model_backend:    with metric mathsformer_LLM_output_1_masked_categorical_accuracy: 0.77111\n",
      "DEBUG:mathsformer.selfsupervised_learning_addition_model_backend:    with metric mathsformer_LLM_output_2_masked_categorical_accuracy: 0.76988\n",
      "DEBUG:mathsformer.selfsupervised_learning_addition_model_backend:    with metric val_loss: 2.1814\n",
      "DEBUG:mathsformer.selfsupervised_learning_addition_model_backend:    with metric val_mathsformer_LLM_output_loss: 0.71142\n",
      "DEBUG:mathsformer.selfsupervised_learning_addition_model_backend:    with metric val_mathsformer_LLM_output_1_loss: 0.72124\n",
      "DEBUG:mathsformer.selfsupervised_learning_addition_model_backend:    with metric val_mathsformer_LLM_output_2_loss: 0.7487\n",
      "DEBUG:mathsformer.selfsupervised_learning_addition_model_backend:    with metric val_mathsformer_LLM_output_masked_categorical_accuracy: 0.73329\n",
      "DEBUG:mathsformer.selfsupervised_learning_addition_model_backend:    with metric val_mathsformer_LLM_output_1_masked_categorical_accuracy: 0.73267\n",
      "DEBUG:mathsformer.selfsupervised_learning_addition_model_backend:    with metric val_mathsformer_LLM_output_2_masked_categorical_accuracy: 0.72305\n",
      "DEBUG:mathsformer.selfsupervised_learning_addition_model_backend:Running text --> text mathsformer inference on some training data:\n",
      "DEBUG:mathsformer.selfsupervised_learning_addition_model_backend:------------------------------------------------------------------------------------\n",
      "DEBUG:mathsformer.selfsupervised_learning_addition_model_backend:              INPUT         TRUE   PRED(MASK)    PRED(GEN)      CORRECT     RESIDUAL\n",
      "DEBUG:mathsformer.selfsupervised_learning_addition_model_backend:------------------------------------------------------------------------------------\n",
      "DEBUG:mathsformer.selfsupervised_learning_addition_model_backend:            76-N292          368        368EE          368          X              0\n",
      "DEBUG:mathsformer.selfsupervised_learning_addition_model_backend:            N4+N799         N803        N803E         N803          X              0\n",
      "DEBUG:mathsformer.selfsupervised_learning_addition_model_backend:              333+7          340        340EE          340          X              0\n",
      "DEBUG:mathsformer.selfsupervised_learning_addition_model_backend: N58+N2-N615-51+678         1182        1124E         1124                       -58\n",
      "DEBUG:mathsformer.selfsupervised_learning_addition_model_backend:      N1-148-N5+N30         N174        N177E         N177                        -3\n",
      "DEBUG:mathsformer.selfsupervised_learning_addition_model_backend:   8-N118+434+N1647        N1087        N9085         N981                       106\n",
      "DEBUG:mathsformer.selfsupervised_learning_addition_model_backend:   N510+8-N69+65-N8         N360        N377E         N377                       -17\n",
      "DEBUG:mathsformer.selfsupervised_learning_addition_model_backend:                N12          N12        N12EE          N12          X              0\n",
      "DEBUG:mathsformer.selfsupervised_learning_addition_model_backend:                  9            9        9EEEE            9          X              0\n",
      "DEBUG:mathsformer.selfsupervised_learning_addition_model_backend:               3930         3930        3930E         3930          X              0\n",
      "DEBUG:mathsformer.selfsupervised_learning_addition_model_backend:Running text --> text mathsformer inference on some validation data:\n",
      "DEBUG:mathsformer.selfsupervised_learning_addition_model_backend:--------------------------------------------------------------------------------\n",
      "DEBUG:mathsformer.selfsupervised_learning_addition_model_backend:          INPUT         TRUE   PRED(MASK)    PRED(GEN)      CORRECT     RESIDUAL\n",
      "DEBUG:mathsformer.selfsupervised_learning_addition_model_backend:--------------------------------------------------------------------------------\n",
      "DEBUG:mathsformer.selfsupervised_learning_addition_model_backend:      N5-14-516         N535        N536E         N536                        -1\n",
      "DEBUG:mathsformer.selfsupervised_learning_addition_model_backend:   566-N52-5117        N4499        N4491        N4491                         8\n",
      "DEBUG:mathsformer.selfsupervised_learning_addition_model_backend:    N7+N3567-36        N3610        N3616        N3616                        -6\n",
      "DEBUG:mathsformer.selfsupervised_learning_addition_model_backend:       414+N2-2          410        412EE          412                         2\n",
      "DEBUG:mathsformer.selfsupervised_learning_addition_model_backend:     N16-36+N31          N83        N96EE          N96                       -13\n",
      "DEBUG:mathsformer.selfsupervised_learning_addition_model_backend:     2988+N54-6         2928        2921E         2921                        -7\n",
      "DEBUG:mathsformer.selfsupervised_learning_addition_model_backend:    N4036+N8+93        N3951        N3950        N3950                         1\n",
      "DEBUG:mathsformer.selfsupervised_learning_addition_model_backend: N302+N4928+N86        N5316        N5314        N5314                         2\n",
      "DEBUG:mathsformer.selfsupervised_learning_addition_model_backend: 7339+N771+N948         5620        5011E         5011                      -609\n",
      "DEBUG:mathsformer.selfsupervised_learning_addition_model_backend:  N1012+N47+N85        N1144        N1146        N1146                        -2\n"
     ]
    },
    {
     "name": "stdout",
     "output_type": "stream",
     "text": [
      "2000/2000 [==============================] - 855s 428ms/step - loss: 1.7994 - mathsformer_LLM_output_loss: 0.6032 - mathsformer_LLM_output_1_loss: 0.5958 - mathsformer_LLM_output_2_loss: 0.6004 - mathsformer_LLM_output_masked_categorical_accuracy: 0.7685 - mathsformer_LLM_output_1_masked_categorical_accuracy: 0.7711 - mathsformer_LLM_output_2_masked_categorical_accuracy: 0.7699 - val_loss: 2.1814 - val_mathsformer_LLM_output_loss: 0.7114 - val_mathsformer_LLM_output_1_loss: 0.7212 - val_mathsformer_LLM_output_2_loss: 0.7487 - val_mathsformer_LLM_output_masked_categorical_accuracy: 0.7333 - val_mathsformer_LLM_output_1_masked_categorical_accuracy: 0.7327 - val_mathsformer_LLM_output_2_masked_categorical_accuracy: 0.7231\n",
      "Epoch 32/100000\n",
      "2000/2000 [==============================] - ETA: 0s - loss: 1.7600 - mathsformer_LLM_output_loss: 0.5917 - mathsformer_LLM_output_1_loss: 0.5825 - mathsformer_LLM_output_2_loss: 0.5858 - mathsformer_LLM_output_masked_categorical_accuracy: 0.7726 - mathsformer_LLM_output_1_masked_categorical_accuracy: 0.7754 - mathsformer_LLM_output_2_masked_categorical_accuracy: 0.7746"
     ]
    },
    {
     "name": "stderr",
     "output_type": "stream",
     "text": [
      "DEBUG:mathsformer.selfsupervised_learning_addition_model_backend:Training reached the end of epoch at index 31\n",
      "DEBUG:mathsformer.selfsupervised_learning_addition_model_backend:    with metric loss: 1.76\n",
      "DEBUG:mathsformer.selfsupervised_learning_addition_model_backend:    with metric mathsformer_LLM_output_loss: 0.5917\n",
      "DEBUG:mathsformer.selfsupervised_learning_addition_model_backend:    with metric mathsformer_LLM_output_1_loss: 0.58247\n",
      "DEBUG:mathsformer.selfsupervised_learning_addition_model_backend:    with metric mathsformer_LLM_output_2_loss: 0.58584\n",
      "DEBUG:mathsformer.selfsupervised_learning_addition_model_backend:    with metric mathsformer_LLM_output_masked_categorical_accuracy: 0.7726\n",
      "DEBUG:mathsformer.selfsupervised_learning_addition_model_backend:    with metric mathsformer_LLM_output_1_masked_categorical_accuracy: 0.77537\n",
      "DEBUG:mathsformer.selfsupervised_learning_addition_model_backend:    with metric mathsformer_LLM_output_2_masked_categorical_accuracy: 0.77464\n",
      "DEBUG:mathsformer.selfsupervised_learning_addition_model_backend:    with metric val_loss: 2.3839\n",
      "DEBUG:mathsformer.selfsupervised_learning_addition_model_backend:    with metric val_mathsformer_LLM_output_loss: 0.76169\n",
      "DEBUG:mathsformer.selfsupervised_learning_addition_model_backend:    with metric val_mathsformer_LLM_output_1_loss: 0.78662\n",
      "DEBUG:mathsformer.selfsupervised_learning_addition_model_backend:    with metric val_mathsformer_LLM_output_2_loss: 0.83557\n",
      "DEBUG:mathsformer.selfsupervised_learning_addition_model_backend:    with metric val_mathsformer_LLM_output_masked_categorical_accuracy: 0.72451\n",
      "DEBUG:mathsformer.selfsupervised_learning_addition_model_backend:    with metric val_mathsformer_LLM_output_1_masked_categorical_accuracy: 0.72507\n",
      "DEBUG:mathsformer.selfsupervised_learning_addition_model_backend:    with metric val_mathsformer_LLM_output_2_masked_categorical_accuracy: 0.72144\n",
      "DEBUG:mathsformer.selfsupervised_learning_addition_model_backend:Running text --> text mathsformer inference on some training data:\n",
      "DEBUG:mathsformer.selfsupervised_learning_addition_model_backend:------------------------------------------------------------------------------------\n",
      "DEBUG:mathsformer.selfsupervised_learning_addition_model_backend:              INPUT         TRUE   PRED(MASK)    PRED(GEN)      CORRECT     RESIDUAL\n",
      "DEBUG:mathsformer.selfsupervised_learning_addition_model_backend:------------------------------------------------------------------------------------\n",
      "DEBUG:mathsformer.selfsupervised_learning_addition_model_backend:            76-N292          368        368EE          368          X              0\n",
      "DEBUG:mathsformer.selfsupervised_learning_addition_model_backend:            N4+N799         N803        N803E         N803          X              0\n",
      "DEBUG:mathsformer.selfsupervised_learning_addition_model_backend:              333+7          340        340EE          340          X              0\n",
      "DEBUG:mathsformer.selfsupervised_learning_addition_model_backend: N58+N2-N615-51+678         1182        1299E         1299                       117\n",
      "DEBUG:mathsformer.selfsupervised_learning_addition_model_backend:      N1-148-N5+N30         N174        N171E         N171                         3\n",
      "DEBUG:mathsformer.selfsupervised_learning_addition_model_backend:   8-N118+434+N1647        N1087        N7990         N790                       297\n",
      "DEBUG:mathsformer.selfsupervised_learning_addition_model_backend:   N510+8-N69+65-N8         N360        N374E         N374                       -14\n",
      "DEBUG:mathsformer.selfsupervised_learning_addition_model_backend:                N12          N12        N12EE          N12          X              0\n",
      "DEBUG:mathsformer.selfsupervised_learning_addition_model_backend:                  9            9        9EEEE            9          X              0\n",
      "DEBUG:mathsformer.selfsupervised_learning_addition_model_backend:               3930         3930        3930E         3930          X              0\n",
      "DEBUG:mathsformer.selfsupervised_learning_addition_model_backend:Running text --> text mathsformer inference on some validation data:\n",
      "DEBUG:mathsformer.selfsupervised_learning_addition_model_backend:--------------------------------------------------------------------------------\n",
      "DEBUG:mathsformer.selfsupervised_learning_addition_model_backend:          INPUT         TRUE   PRED(MASK)    PRED(GEN)      CORRECT     RESIDUAL\n",
      "DEBUG:mathsformer.selfsupervised_learning_addition_model_backend:--------------------------------------------------------------------------------\n",
      "DEBUG:mathsformer.selfsupervised_learning_addition_model_backend:      N5-14-516         N535        N539E         N539                        -4\n",
      "DEBUG:mathsformer.selfsupervised_learning_addition_model_backend:   566-N52-5117        N4499        N4481        N4481                        18\n",
      "DEBUG:mathsformer.selfsupervised_learning_addition_model_backend:    N7+N3567-36        N3610        N3610        N3610          X              0\n",
      "DEBUG:mathsformer.selfsupervised_learning_addition_model_backend:       414+N2-2          410        412EE          412                         2\n",
      "DEBUG:mathsformer.selfsupervised_learning_addition_model_backend:     N16-36+N31          N83        N97EE          N94                       -11\n",
      "DEBUG:mathsformer.selfsupervised_learning_addition_model_backend:     2988+N54-6         2928        2924E         2924                        -4\n",
      "DEBUG:mathsformer.selfsupervised_learning_addition_model_backend:    N4036+N8+93        N3951        N3954        N3954                        -3\n",
      "DEBUG:mathsformer.selfsupervised_learning_addition_model_backend: N302+N4928+N86        N5316        N5323        N5323                        -7\n",
      "DEBUG:mathsformer.selfsupervised_learning_addition_model_backend: 7339+N771+N948         5620        5019E         5019                      -601\n",
      "DEBUG:mathsformer.selfsupervised_learning_addition_model_backend:  N1012+N47+N85        N1144        N1147        N1147                        -3\n"
     ]
    },
    {
     "name": "stdout",
     "output_type": "stream",
     "text": [
      "2000/2000 [==============================] - 861s 431ms/step - loss: 1.7600 - mathsformer_LLM_output_loss: 0.5917 - mathsformer_LLM_output_1_loss: 0.5825 - mathsformer_LLM_output_2_loss: 0.5858 - mathsformer_LLM_output_masked_categorical_accuracy: 0.7726 - mathsformer_LLM_output_1_masked_categorical_accuracy: 0.7754 - mathsformer_LLM_output_2_masked_categorical_accuracy: 0.7746 - val_loss: 2.3839 - val_mathsformer_LLM_output_loss: 0.7617 - val_mathsformer_LLM_output_1_loss: 0.7866 - val_mathsformer_LLM_output_2_loss: 0.8356 - val_mathsformer_LLM_output_masked_categorical_accuracy: 0.7245 - val_mathsformer_LLM_output_1_masked_categorical_accuracy: 0.7251 - val_mathsformer_LLM_output_2_masked_categorical_accuracy: 0.7214\n",
      "Epoch 33/100000\n",
      "2000/2000 [==============================] - ETA: 0s - loss: 1.7069 - mathsformer_LLM_output_loss: 0.5746 - mathsformer_LLM_output_1_loss: 0.5649 - mathsformer_LLM_output_2_loss: 0.5674 - mathsformer_LLM_output_masked_categorical_accuracy: 0.7773 - mathsformer_LLM_output_1_masked_categorical_accuracy: 0.7808 - mathsformer_LLM_output_2_masked_categorical_accuracy: 0.7807"
     ]
    },
    {
     "name": "stderr",
     "output_type": "stream",
     "text": [
      "DEBUG:mathsformer.selfsupervised_learning_addition_model_backend:Training reached the end of epoch at index 32\n",
      "DEBUG:mathsformer.selfsupervised_learning_addition_model_backend:    with metric loss: 1.7069\n",
      "DEBUG:mathsformer.selfsupervised_learning_addition_model_backend:    with metric mathsformer_LLM_output_loss: 0.57462\n",
      "DEBUG:mathsformer.selfsupervised_learning_addition_model_backend:    with metric mathsformer_LLM_output_1_loss: 0.56488\n",
      "DEBUG:mathsformer.selfsupervised_learning_addition_model_backend:    with metric mathsformer_LLM_output_2_loss: 0.56736\n",
      "DEBUG:mathsformer.selfsupervised_learning_addition_model_backend:    with metric mathsformer_LLM_output_masked_categorical_accuracy: 0.77728\n",
      "DEBUG:mathsformer.selfsupervised_learning_addition_model_backend:    with metric mathsformer_LLM_output_1_masked_categorical_accuracy: 0.7808\n",
      "DEBUG:mathsformer.selfsupervised_learning_addition_model_backend:    with metric mathsformer_LLM_output_2_masked_categorical_accuracy: 0.78065\n",
      "DEBUG:mathsformer.selfsupervised_learning_addition_model_backend:    with metric val_loss: 2.1083\n",
      "DEBUG:mathsformer.selfsupervised_learning_addition_model_backend:    with metric val_mathsformer_LLM_output_loss: 0.68219\n",
      "DEBUG:mathsformer.selfsupervised_learning_addition_model_backend:    with metric val_mathsformer_LLM_output_1_loss: 0.6938\n",
      "DEBUG:mathsformer.selfsupervised_learning_addition_model_backend:    with metric val_mathsformer_LLM_output_2_loss: 0.73228\n",
      "DEBUG:mathsformer.selfsupervised_learning_addition_model_backend:    with metric val_mathsformer_LLM_output_masked_categorical_accuracy: 0.73961\n",
      "DEBUG:mathsformer.selfsupervised_learning_addition_model_backend:    with metric val_mathsformer_LLM_output_1_masked_categorical_accuracy: 0.73719\n",
      "DEBUG:mathsformer.selfsupervised_learning_addition_model_backend:    with metric val_mathsformer_LLM_output_2_masked_categorical_accuracy: 0.72767\n",
      "DEBUG:mathsformer.selfsupervised_learning_addition_model_backend:Running text --> text mathsformer inference on some training data:\n",
      "DEBUG:mathsformer.selfsupervised_learning_addition_model_backend:------------------------------------------------------------------------------------\n",
      "DEBUG:mathsformer.selfsupervised_learning_addition_model_backend:              INPUT         TRUE   PRED(MASK)    PRED(GEN)      CORRECT     RESIDUAL\n",
      "DEBUG:mathsformer.selfsupervised_learning_addition_model_backend:------------------------------------------------------------------------------------\n",
      "DEBUG:mathsformer.selfsupervised_learning_addition_model_backend:            76-N292          368        368EE          368          X              0\n",
      "DEBUG:mathsformer.selfsupervised_learning_addition_model_backend:            N4+N799         N803        N803E         N803          X              0\n",
      "DEBUG:mathsformer.selfsupervised_learning_addition_model_backend:              333+7          340        340EE          340          X              0\n",
      "DEBUG:mathsformer.selfsupervised_learning_addition_model_backend: N58+N2-N615-51+678         1182        1220E         1220                        38\n",
      "DEBUG:mathsformer.selfsupervised_learning_addition_model_backend:      N1-148-N5+N30         N174        N173E         N173                         1\n",
      "DEBUG:mathsformer.selfsupervised_learning_addition_model_backend:   8-N118+434+N1647        N1087        N1080        N1080                         7\n",
      "DEBUG:mathsformer.selfsupervised_learning_addition_model_backend:   N510+8-N69+65-N8         N360        N370E         N370                       -10\n",
      "DEBUG:mathsformer.selfsupervised_learning_addition_model_backend:                N12          N12        N12EE          N12          X              0\n",
      "DEBUG:mathsformer.selfsupervised_learning_addition_model_backend:                  9            9        9EEEE            9          X              0\n",
      "DEBUG:mathsformer.selfsupervised_learning_addition_model_backend:               3930         3930        3930E         3930          X              0\n",
      "DEBUG:mathsformer.selfsupervised_learning_addition_model_backend:Running text --> text mathsformer inference on some validation data:\n",
      "DEBUG:mathsformer.selfsupervised_learning_addition_model_backend:--------------------------------------------------------------------------------\n",
      "DEBUG:mathsformer.selfsupervised_learning_addition_model_backend:          INPUT         TRUE   PRED(MASK)    PRED(GEN)      CORRECT     RESIDUAL\n",
      "DEBUG:mathsformer.selfsupervised_learning_addition_model_backend:--------------------------------------------------------------------------------\n",
      "DEBUG:mathsformer.selfsupervised_learning_addition_model_backend:      N5-14-516         N535        N539E         N539                        -4\n",
      "DEBUG:mathsformer.selfsupervised_learning_addition_model_backend:   566-N52-5117        N4499        N4490        N4490                         9\n",
      "DEBUG:mathsformer.selfsupervised_learning_addition_model_backend:    N7+N3567-36        N3610        N3613        N3613                        -3\n",
      "DEBUG:mathsformer.selfsupervised_learning_addition_model_backend:       414+N2-2          410        411EE          411                         1\n",
      "DEBUG:mathsformer.selfsupervised_learning_addition_model_backend:     N16-36+N31          N83        N85EE          N85                        -2\n",
      "DEBUG:mathsformer.selfsupervised_learning_addition_model_backend:     2988+N54-6         2928        2920E         2920                        -8\n",
      "DEBUG:mathsformer.selfsupervised_learning_addition_model_backend:    N4036+N8+93        N3951        N3950        N3950                         1\n",
      "DEBUG:mathsformer.selfsupervised_learning_addition_model_backend: N302+N4928+N86        N5316        N5316        N5316          X              0\n",
      "DEBUG:mathsformer.selfsupervised_learning_addition_model_backend: 7339+N771+N948         5620        5810E         5810                       190\n",
      "DEBUG:mathsformer.selfsupervised_learning_addition_model_backend:  N1012+N47+N85        N1144        N1159        N1159                       -15\n"
     ]
    },
    {
     "name": "stdout",
     "output_type": "stream",
     "text": [
      "2000/2000 [==============================] - 862s 431ms/step - loss: 1.7069 - mathsformer_LLM_output_loss: 0.5746 - mathsformer_LLM_output_1_loss: 0.5649 - mathsformer_LLM_output_2_loss: 0.5674 - mathsformer_LLM_output_masked_categorical_accuracy: 0.7773 - mathsformer_LLM_output_1_masked_categorical_accuracy: 0.7808 - mathsformer_LLM_output_2_masked_categorical_accuracy: 0.7807 - val_loss: 2.1083 - val_mathsformer_LLM_output_loss: 0.6822 - val_mathsformer_LLM_output_1_loss: 0.6938 - val_mathsformer_LLM_output_2_loss: 0.7323 - val_mathsformer_LLM_output_masked_categorical_accuracy: 0.7396 - val_mathsformer_LLM_output_1_masked_categorical_accuracy: 0.7372 - val_mathsformer_LLM_output_2_masked_categorical_accuracy: 0.7277\n",
      "Epoch 34/100000\n",
      "2000/2000 [==============================] - ETA: 0s - loss: 1.6506 - mathsformer_LLM_output_loss: 0.5571 - mathsformer_LLM_output_1_loss: 0.5456 - mathsformer_LLM_output_2_loss: 0.5479 - mathsformer_LLM_output_masked_categorical_accuracy: 0.7847 - mathsformer_LLM_output_1_masked_categorical_accuracy: 0.7882 - mathsformer_LLM_output_2_masked_categorical_accuracy: 0.7877"
     ]
    },
    {
     "name": "stderr",
     "output_type": "stream",
     "text": [
      "DEBUG:mathsformer.selfsupervised_learning_addition_model_backend:Training reached the end of epoch at index 33\n",
      "DEBUG:mathsformer.selfsupervised_learning_addition_model_backend:    with metric loss: 1.6506\n",
      "DEBUG:mathsformer.selfsupervised_learning_addition_model_backend:    with metric mathsformer_LLM_output_loss: 0.5571\n",
      "DEBUG:mathsformer.selfsupervised_learning_addition_model_backend:    with metric mathsformer_LLM_output_1_loss: 0.54559\n",
      "DEBUG:mathsformer.selfsupervised_learning_addition_model_backend:    with metric mathsformer_LLM_output_2_loss: 0.54793\n",
      "DEBUG:mathsformer.selfsupervised_learning_addition_model_backend:    with metric mathsformer_LLM_output_masked_categorical_accuracy: 0.78468\n",
      "DEBUG:mathsformer.selfsupervised_learning_addition_model_backend:    with metric mathsformer_LLM_output_1_masked_categorical_accuracy: 0.78821\n",
      "DEBUG:mathsformer.selfsupervised_learning_addition_model_backend:    with metric mathsformer_LLM_output_2_masked_categorical_accuracy: 0.78771\n",
      "DEBUG:mathsformer.selfsupervised_learning_addition_model_backend:    with metric val_loss: 1.9227\n",
      "DEBUG:mathsformer.selfsupervised_learning_addition_model_backend:    with metric val_mathsformer_LLM_output_loss: 0.62792\n",
      "DEBUG:mathsformer.selfsupervised_learning_addition_model_backend:    with metric val_mathsformer_LLM_output_1_loss: 0.63252\n",
      "DEBUG:mathsformer.selfsupervised_learning_addition_model_backend:    with metric val_mathsformer_LLM_output_2_loss: 0.66227\n",
      "DEBUG:mathsformer.selfsupervised_learning_addition_model_backend:    with metric val_mathsformer_LLM_output_masked_categorical_accuracy: 0.76185\n",
      "DEBUG:mathsformer.selfsupervised_learning_addition_model_backend:    with metric val_mathsformer_LLM_output_1_masked_categorical_accuracy: 0.76618\n",
      "DEBUG:mathsformer.selfsupervised_learning_addition_model_backend:    with metric val_mathsformer_LLM_output_2_masked_categorical_accuracy: 0.75869\n",
      "DEBUG:mathsformer.selfsupervised_learning_addition_model_backend:Running text --> text mathsformer inference on some training data:\n",
      "DEBUG:mathsformer.selfsupervised_learning_addition_model_backend:------------------------------------------------------------------------------------\n",
      "DEBUG:mathsformer.selfsupervised_learning_addition_model_backend:              INPUT         TRUE   PRED(MASK)    PRED(GEN)      CORRECT     RESIDUAL\n",
      "DEBUG:mathsformer.selfsupervised_learning_addition_model_backend:------------------------------------------------------------------------------------\n",
      "DEBUG:mathsformer.selfsupervised_learning_addition_model_backend:            76-N292          368        368EE          368          X              0\n",
      "DEBUG:mathsformer.selfsupervised_learning_addition_model_backend:            N4+N799         N803        N803E         N803          X              0\n",
      "DEBUG:mathsformer.selfsupervised_learning_addition_model_backend:              333+7          340        340EE          340          X              0\n",
      "DEBUG:mathsformer.selfsupervised_learning_addition_model_backend: N58+N2-N615-51+678         1182        1222E         1222                        40\n",
      "DEBUG:mathsformer.selfsupervised_learning_addition_model_backend:      N1-148-N5+N30         N174        N175E         N175                        -1\n",
      "DEBUG:mathsformer.selfsupervised_learning_addition_model_backend:   8-N118+434+N1647        N1087        N1089        N1089                        -2\n",
      "DEBUG:mathsformer.selfsupervised_learning_addition_model_backend:   N510+8-N69+65-N8         N360        N376E         N376                       -16\n",
      "DEBUG:mathsformer.selfsupervised_learning_addition_model_backend:                N12          N12        N12EE          N12          X              0\n",
      "DEBUG:mathsformer.selfsupervised_learning_addition_model_backend:                  9            9        9EE2E            9          X              0\n",
      "DEBUG:mathsformer.selfsupervised_learning_addition_model_backend:               3930         3930        3930E         3930          X              0\n",
      "DEBUG:mathsformer.selfsupervised_learning_addition_model_backend:Running text --> text mathsformer inference on some validation data:\n",
      "DEBUG:mathsformer.selfsupervised_learning_addition_model_backend:--------------------------------------------------------------------------------\n",
      "DEBUG:mathsformer.selfsupervised_learning_addition_model_backend:          INPUT         TRUE   PRED(MASK)    PRED(GEN)      CORRECT     RESIDUAL\n",
      "DEBUG:mathsformer.selfsupervised_learning_addition_model_backend:--------------------------------------------------------------------------------\n",
      "DEBUG:mathsformer.selfsupervised_learning_addition_model_backend:      N5-14-516         N535        N535E         N535          X              0\n",
      "DEBUG:mathsformer.selfsupervised_learning_addition_model_backend:   566-N52-5117        N4499        N4490        N4490                         9\n",
      "DEBUG:mathsformer.selfsupervised_learning_addition_model_backend:    N7+N3567-36        N3610        N3612        N3612                        -2\n",
      "DEBUG:mathsformer.selfsupervised_learning_addition_model_backend:       414+N2-2          410        412EE          412                         2\n",
      "DEBUG:mathsformer.selfsupervised_learning_addition_model_backend:     N16-36+N31          N83        N87EE          N87                        -4\n",
      "DEBUG:mathsformer.selfsupervised_learning_addition_model_backend:     2988+N54-6         2928        2932E         2932                         4\n",
      "DEBUG:mathsformer.selfsupervised_learning_addition_model_backend:    N4036+N8+93        N3951        N3959        N3959                        -8\n",
      "DEBUG:mathsformer.selfsupervised_learning_addition_model_backend: N302+N4928+N86        N5316        N5326        N5326                       -10\n",
      "DEBUG:mathsformer.selfsupervised_learning_addition_model_backend: 7339+N771+N948         5620        5711E         5711                        91\n",
      "DEBUG:mathsformer.selfsupervised_learning_addition_model_backend:  N1012+N47+N85        N1144        N1157        N1157                       -13\n"
     ]
    },
    {
     "name": "stdout",
     "output_type": "stream",
     "text": [
      "2000/2000 [==============================] - 869s 434ms/step - loss: 1.6506 - mathsformer_LLM_output_loss: 0.5571 - mathsformer_LLM_output_1_loss: 0.5456 - mathsformer_LLM_output_2_loss: 0.5479 - mathsformer_LLM_output_masked_categorical_accuracy: 0.7847 - mathsformer_LLM_output_1_masked_categorical_accuracy: 0.7882 - mathsformer_LLM_output_2_masked_categorical_accuracy: 0.7877 - val_loss: 1.9227 - val_mathsformer_LLM_output_loss: 0.6279 - val_mathsformer_LLM_output_1_loss: 0.6325 - val_mathsformer_LLM_output_2_loss: 0.6623 - val_mathsformer_LLM_output_masked_categorical_accuracy: 0.7618 - val_mathsformer_LLM_output_1_masked_categorical_accuracy: 0.7662 - val_mathsformer_LLM_output_2_masked_categorical_accuracy: 0.7587\n",
      "Epoch 35/100000\n",
      "2000/2000 [==============================] - ETA: 0s - loss: 1.6311 - mathsformer_LLM_output_loss: 0.5517 - mathsformer_LLM_output_1_loss: 0.5382 - mathsformer_LLM_output_2_loss: 0.5412 - mathsformer_LLM_output_masked_categorical_accuracy: 0.7873 - mathsformer_LLM_output_1_masked_categorical_accuracy: 0.7925 - mathsformer_LLM_output_2_masked_categorical_accuracy: 0.7909"
     ]
    },
    {
     "name": "stderr",
     "output_type": "stream",
     "text": [
      "DEBUG:mathsformer.selfsupervised_learning_addition_model_backend:Training reached the end of epoch at index 34\n",
      "DEBUG:mathsformer.selfsupervised_learning_addition_model_backend:    with metric loss: 1.6311\n",
      "DEBUG:mathsformer.selfsupervised_learning_addition_model_backend:    with metric mathsformer_LLM_output_loss: 0.55167\n",
      "DEBUG:mathsformer.selfsupervised_learning_addition_model_backend:    with metric mathsformer_LLM_output_1_loss: 0.53824\n",
      "DEBUG:mathsformer.selfsupervised_learning_addition_model_backend:    with metric mathsformer_LLM_output_2_loss: 0.5412\n",
      "DEBUG:mathsformer.selfsupervised_learning_addition_model_backend:    with metric mathsformer_LLM_output_masked_categorical_accuracy: 0.78732\n",
      "DEBUG:mathsformer.selfsupervised_learning_addition_model_backend:    with metric mathsformer_LLM_output_1_masked_categorical_accuracy: 0.7925\n",
      "DEBUG:mathsformer.selfsupervised_learning_addition_model_backend:    with metric mathsformer_LLM_output_2_masked_categorical_accuracy: 0.79087\n",
      "DEBUG:mathsformer.selfsupervised_learning_addition_model_backend:    with metric val_loss: 1.6146\n",
      "DEBUG:mathsformer.selfsupervised_learning_addition_model_backend:    with metric val_mathsformer_LLM_output_loss: 0.53982\n",
      "DEBUG:mathsformer.selfsupervised_learning_addition_model_backend:    with metric val_mathsformer_LLM_output_1_loss: 0.53207\n",
      "DEBUG:mathsformer.selfsupervised_learning_addition_model_backend:    with metric val_mathsformer_LLM_output_2_loss: 0.5427\n",
      "DEBUG:mathsformer.selfsupervised_learning_addition_model_backend:    with metric val_mathsformer_LLM_output_masked_categorical_accuracy: 0.7886\n",
      "DEBUG:mathsformer.selfsupervised_learning_addition_model_backend:    with metric val_mathsformer_LLM_output_1_masked_categorical_accuracy: 0.79271\n",
      "DEBUG:mathsformer.selfsupervised_learning_addition_model_backend:    with metric val_mathsformer_LLM_output_2_masked_categorical_accuracy: 0.78462\n",
      "DEBUG:mathsformer.selfsupervised_learning_addition_model_backend:Running text --> text mathsformer inference on some training data:\n",
      "DEBUG:mathsformer.selfsupervised_learning_addition_model_backend:------------------------------------------------------------------------------------\n",
      "DEBUG:mathsformer.selfsupervised_learning_addition_model_backend:              INPUT         TRUE   PRED(MASK)    PRED(GEN)      CORRECT     RESIDUAL\n",
      "DEBUG:mathsformer.selfsupervised_learning_addition_model_backend:------------------------------------------------------------------------------------\n",
      "DEBUG:mathsformer.selfsupervised_learning_addition_model_backend:            76-N292          368        368EE          368          X              0\n",
      "DEBUG:mathsformer.selfsupervised_learning_addition_model_backend:            N4+N799         N803        N803E         N803          X              0\n",
      "DEBUG:mathsformer.selfsupervised_learning_addition_model_backend:              333+7          340        340EE          340          X              0\n",
      "DEBUG:mathsformer.selfsupervised_learning_addition_model_backend: N58+N2-N615-51+678         1182        1233E         1233                        51\n",
      "DEBUG:mathsformer.selfsupervised_learning_addition_model_backend:      N1-148-N5+N30         N174        N174E         N174          X              0\n",
      "DEBUG:mathsformer.selfsupervised_learning_addition_model_backend:   8-N118+434+N1647        N1087        N1183        N1183                       -96\n",
      "DEBUG:mathsformer.selfsupervised_learning_addition_model_backend:   N510+8-N69+65-N8         N360        N363E         N363                        -3\n",
      "DEBUG:mathsformer.selfsupervised_learning_addition_model_backend:                N12          N12        N12EE          N12          X              0\n",
      "DEBUG:mathsformer.selfsupervised_learning_addition_model_backend:                  9            9        9EEEE            9          X              0\n",
      "DEBUG:mathsformer.selfsupervised_learning_addition_model_backend:               3930         3930        3930E         3930          X              0\n",
      "DEBUG:mathsformer.selfsupervised_learning_addition_model_backend:Running text --> text mathsformer inference on some validation data:\n",
      "DEBUG:mathsformer.selfsupervised_learning_addition_model_backend:--------------------------------------------------------------------------------\n",
      "DEBUG:mathsformer.selfsupervised_learning_addition_model_backend:          INPUT         TRUE   PRED(MASK)    PRED(GEN)      CORRECT     RESIDUAL\n",
      "DEBUG:mathsformer.selfsupervised_learning_addition_model_backend:--------------------------------------------------------------------------------\n",
      "DEBUG:mathsformer.selfsupervised_learning_addition_model_backend:      N5-14-516         N535        N548E         N548                       -13\n",
      "DEBUG:mathsformer.selfsupervised_learning_addition_model_backend:   566-N52-5117        N4499        N4489        N4489                        10\n",
      "DEBUG:mathsformer.selfsupervised_learning_addition_model_backend:    N7+N3567-36        N3610        N3613        N3613                        -3\n",
      "DEBUG:mathsformer.selfsupervised_learning_addition_model_backend:       414+N2-2          410        412EE          412                         2\n",
      "DEBUG:mathsformer.selfsupervised_learning_addition_model_backend:     N16-36+N31          N83        N97EE          N97                       -14\n",
      "DEBUG:mathsformer.selfsupervised_learning_addition_model_backend:     2988+N54-6         2928        2926E         2926                        -2\n",
      "DEBUG:mathsformer.selfsupervised_learning_addition_model_backend:    N4036+N8+93        N3951        N3951        N3951          X              0\n",
      "DEBUG:mathsformer.selfsupervised_learning_addition_model_backend: N302+N4928+N86        N5316        N5317        N5317                        -1\n",
      "DEBUG:mathsformer.selfsupervised_learning_addition_model_backend: 7339+N771+N948         5620        5700E         5700                        80\n",
      "DEBUG:mathsformer.selfsupervised_learning_addition_model_backend:  N1012+N47+N85        N1144        N1157        N1157                       -13\n"
     ]
    },
    {
     "name": "stdout",
     "output_type": "stream",
     "text": [
      "2000/2000 [==============================] - 868s 434ms/step - loss: 1.6311 - mathsformer_LLM_output_loss: 0.5517 - mathsformer_LLM_output_1_loss: 0.5382 - mathsformer_LLM_output_2_loss: 0.5412 - mathsformer_LLM_output_masked_categorical_accuracy: 0.7873 - mathsformer_LLM_output_1_masked_categorical_accuracy: 0.7925 - mathsformer_LLM_output_2_masked_categorical_accuracy: 0.7909 - val_loss: 1.6146 - val_mathsformer_LLM_output_loss: 0.5398 - val_mathsformer_LLM_output_1_loss: 0.5321 - val_mathsformer_LLM_output_2_loss: 0.5427 - val_mathsformer_LLM_output_masked_categorical_accuracy: 0.7886 - val_mathsformer_LLM_output_1_masked_categorical_accuracy: 0.7927 - val_mathsformer_LLM_output_2_masked_categorical_accuracy: 0.7846\n",
      "Epoch 36/100000\n",
      "2000/2000 [==============================] - ETA: 0s - loss: 1.5352 - mathsformer_LLM_output_loss: 0.5226 - mathsformer_LLM_output_1_loss: 0.5060 - mathsformer_LLM_output_2_loss: 0.5066 - mathsformer_LLM_output_masked_categorical_accuracy: 0.7971 - mathsformer_LLM_output_1_masked_categorical_accuracy: 0.8025 - mathsformer_LLM_output_2_masked_categorical_accuracy: 0.8022"
     ]
    },
    {
     "name": "stderr",
     "output_type": "stream",
     "text": [
      "DEBUG:mathsformer.selfsupervised_learning_addition_model_backend:Training reached the end of epoch at index 35\n",
      "DEBUG:mathsformer.selfsupervised_learning_addition_model_backend:    with metric loss: 1.5352\n",
      "DEBUG:mathsformer.selfsupervised_learning_addition_model_backend:    with metric mathsformer_LLM_output_loss: 0.52261\n",
      "DEBUG:mathsformer.selfsupervised_learning_addition_model_backend:    with metric mathsformer_LLM_output_1_loss: 0.50597\n",
      "DEBUG:mathsformer.selfsupervised_learning_addition_model_backend:    with metric mathsformer_LLM_output_2_loss: 0.50665\n",
      "DEBUG:mathsformer.selfsupervised_learning_addition_model_backend:    with metric mathsformer_LLM_output_masked_categorical_accuracy: 0.79706\n",
      "DEBUG:mathsformer.selfsupervised_learning_addition_model_backend:    with metric mathsformer_LLM_output_1_masked_categorical_accuracy: 0.80249\n",
      "DEBUG:mathsformer.selfsupervised_learning_addition_model_backend:    with metric mathsformer_LLM_output_2_masked_categorical_accuracy: 0.80224\n",
      "DEBUG:mathsformer.selfsupervised_learning_addition_model_backend:    with metric val_loss: 1.4701\n",
      "DEBUG:mathsformer.selfsupervised_learning_addition_model_backend:    with metric val_mathsformer_LLM_output_loss: 0.48242\n",
      "DEBUG:mathsformer.selfsupervised_learning_addition_model_backend:    with metric val_mathsformer_LLM_output_1_loss: 0.48311\n",
      "DEBUG:mathsformer.selfsupervised_learning_addition_model_backend:    with metric val_mathsformer_LLM_output_2_loss: 0.50458\n",
      "DEBUG:mathsformer.selfsupervised_learning_addition_model_backend:    with metric val_mathsformer_LLM_output_masked_categorical_accuracy: 0.80564\n",
      "DEBUG:mathsformer.selfsupervised_learning_addition_model_backend:    with metric val_mathsformer_LLM_output_1_masked_categorical_accuracy: 0.80236\n",
      "DEBUG:mathsformer.selfsupervised_learning_addition_model_backend:    with metric val_mathsformer_LLM_output_2_masked_categorical_accuracy: 0.79275\n",
      "DEBUG:mathsformer.selfsupervised_learning_addition_model_backend:Running text --> text mathsformer inference on some training data:\n",
      "DEBUG:mathsformer.selfsupervised_learning_addition_model_backend:------------------------------------------------------------------------------------\n",
      "DEBUG:mathsformer.selfsupervised_learning_addition_model_backend:              INPUT         TRUE   PRED(MASK)    PRED(GEN)      CORRECT     RESIDUAL\n",
      "DEBUG:mathsformer.selfsupervised_learning_addition_model_backend:------------------------------------------------------------------------------------\n",
      "DEBUG:mathsformer.selfsupervised_learning_addition_model_backend:            76-N292          368        368EE          368          X              0\n",
      "DEBUG:mathsformer.selfsupervised_learning_addition_model_backend:            N4+N799         N803        N803E         N803          X              0\n",
      "DEBUG:mathsformer.selfsupervised_learning_addition_model_backend:              333+7          340        340EE          340          X              0\n",
      "DEBUG:mathsformer.selfsupervised_learning_addition_model_backend: N58+N2-N615-51+678         1182        1218E         1218                        36\n",
      "DEBUG:mathsformer.selfsupervised_learning_addition_model_backend:      N1-148-N5+N30         N174        N174E         N174          X              0\n",
      "DEBUG:mathsformer.selfsupervised_learning_addition_model_backend:   8-N118+434+N1647        N1087        N1080        N1080                         7\n",
      "DEBUG:mathsformer.selfsupervised_learning_addition_model_backend:   N510+8-N69+65-N8         N360        N360E         N360          X              0\n",
      "DEBUG:mathsformer.selfsupervised_learning_addition_model_backend:                N12          N12        N12EE          N12          X              0\n",
      "DEBUG:mathsformer.selfsupervised_learning_addition_model_backend:                  9            9        9EEEE            9          X              0\n",
      "DEBUG:mathsformer.selfsupervised_learning_addition_model_backend:               3930         3930        3930E         3930          X              0\n",
      "DEBUG:mathsformer.selfsupervised_learning_addition_model_backend:Running text --> text mathsformer inference on some validation data:\n",
      "DEBUG:mathsformer.selfsupervised_learning_addition_model_backend:--------------------------------------------------------------------------------\n",
      "DEBUG:mathsformer.selfsupervised_learning_addition_model_backend:          INPUT         TRUE   PRED(MASK)    PRED(GEN)      CORRECT     RESIDUAL\n",
      "DEBUG:mathsformer.selfsupervised_learning_addition_model_backend:--------------------------------------------------------------------------------\n",
      "DEBUG:mathsformer.selfsupervised_learning_addition_model_backend:      N5-14-516         N535        N547E         N547                       -12\n",
      "DEBUG:mathsformer.selfsupervised_learning_addition_model_backend:   566-N52-5117        N4499        N4589        N4589                       -90\n",
      "DEBUG:mathsformer.selfsupervised_learning_addition_model_backend:    N7+N3567-36        N3610        N3611        N3611                        -1\n",
      "DEBUG:mathsformer.selfsupervised_learning_addition_model_backend:       414+N2-2          410        411EE          411                         1\n",
      "DEBUG:mathsformer.selfsupervised_learning_addition_model_backend:     N16-36+N31          N83        N84EE          N84                        -1\n",
      "DEBUG:mathsformer.selfsupervised_learning_addition_model_backend:     2988+N54-6         2928        2937E         2937                         9\n",
      "DEBUG:mathsformer.selfsupervised_learning_addition_model_backend:    N4036+N8+93        N3951        N3942        N3942                         9\n",
      "DEBUG:mathsformer.selfsupervised_learning_addition_model_backend: N302+N4928+N86        N5316        N5316        N5316          X              0\n",
      "DEBUG:mathsformer.selfsupervised_learning_addition_model_backend: 7339+N771+N948         5620        5800E         5800                       180\n",
      "DEBUG:mathsformer.selfsupervised_learning_addition_model_backend:  N1012+N47+N85        N1144        N1144        N1144          X              0\n"
     ]
    },
    {
     "name": "stdout",
     "output_type": "stream",
     "text": [
      "2000/2000 [==============================] - 863s 431ms/step - loss: 1.5352 - mathsformer_LLM_output_loss: 0.5226 - mathsformer_LLM_output_1_loss: 0.5060 - mathsformer_LLM_output_2_loss: 0.5066 - mathsformer_LLM_output_masked_categorical_accuracy: 0.7971 - mathsformer_LLM_output_1_masked_categorical_accuracy: 0.8025 - mathsformer_LLM_output_2_masked_categorical_accuracy: 0.8022 - val_loss: 1.4701 - val_mathsformer_LLM_output_loss: 0.4824 - val_mathsformer_LLM_output_1_loss: 0.4831 - val_mathsformer_LLM_output_2_loss: 0.5046 - val_mathsformer_LLM_output_masked_categorical_accuracy: 0.8056 - val_mathsformer_LLM_output_1_masked_categorical_accuracy: 0.8024 - val_mathsformer_LLM_output_2_masked_categorical_accuracy: 0.7927\n",
      "Epoch 37/100000\n",
      "2000/2000 [==============================] - ETA: 0s - loss: 1.4736 - mathsformer_LLM_output_loss: 0.5057 - mathsformer_LLM_output_1_loss: 0.4835 - mathsformer_LLM_output_2_loss: 0.4843 - mathsformer_LLM_output_masked_categorical_accuracy: 0.8053 - mathsformer_LLM_output_1_masked_categorical_accuracy: 0.8131 - mathsformer_LLM_output_2_masked_categorical_accuracy: 0.8123"
     ]
    },
    {
     "name": "stderr",
     "output_type": "stream",
     "text": [
      "DEBUG:mathsformer.selfsupervised_learning_addition_model_backend:Training reached the end of epoch at index 36\n",
      "DEBUG:mathsformer.selfsupervised_learning_addition_model_backend:    with metric loss: 1.4736\n",
      "DEBUG:mathsformer.selfsupervised_learning_addition_model_backend:    with metric mathsformer_LLM_output_loss: 0.50573\n",
      "DEBUG:mathsformer.selfsupervised_learning_addition_model_backend:    with metric mathsformer_LLM_output_1_loss: 0.48354\n",
      "DEBUG:mathsformer.selfsupervised_learning_addition_model_backend:    with metric mathsformer_LLM_output_2_loss: 0.48435\n",
      "DEBUG:mathsformer.selfsupervised_learning_addition_model_backend:    with metric mathsformer_LLM_output_masked_categorical_accuracy: 0.80534\n",
      "DEBUG:mathsformer.selfsupervised_learning_addition_model_backend:    with metric mathsformer_LLM_output_1_masked_categorical_accuracy: 0.81309\n",
      "DEBUG:mathsformer.selfsupervised_learning_addition_model_backend:    with metric mathsformer_LLM_output_2_masked_categorical_accuracy: 0.81229\n",
      "DEBUG:mathsformer.selfsupervised_learning_addition_model_backend:    with metric val_loss: 1.1742\n",
      "DEBUG:mathsformer.selfsupervised_learning_addition_model_backend:    with metric val_mathsformer_LLM_output_loss: 0.38863\n",
      "DEBUG:mathsformer.selfsupervised_learning_addition_model_backend:    with metric val_mathsformer_LLM_output_1_loss: 0.38284\n",
      "DEBUG:mathsformer.selfsupervised_learning_addition_model_backend:    with metric val_mathsformer_LLM_output_2_loss: 0.4027\n",
      "DEBUG:mathsformer.selfsupervised_learning_addition_model_backend:    with metric val_mathsformer_LLM_output_masked_categorical_accuracy: 0.83927\n",
      "DEBUG:mathsformer.selfsupervised_learning_addition_model_backend:    with metric val_mathsformer_LLM_output_1_masked_categorical_accuracy: 0.84005\n",
      "DEBUG:mathsformer.selfsupervised_learning_addition_model_backend:    with metric val_mathsformer_LLM_output_2_masked_categorical_accuracy: 0.83023\n",
      "DEBUG:mathsformer.selfsupervised_learning_addition_model_backend:Running text --> text mathsformer inference on some training data:\n",
      "DEBUG:mathsformer.selfsupervised_learning_addition_model_backend:------------------------------------------------------------------------------------\n",
      "DEBUG:mathsformer.selfsupervised_learning_addition_model_backend:              INPUT         TRUE   PRED(MASK)    PRED(GEN)      CORRECT     RESIDUAL\n",
      "DEBUG:mathsformer.selfsupervised_learning_addition_model_backend:------------------------------------------------------------------------------------\n",
      "DEBUG:mathsformer.selfsupervised_learning_addition_model_backend:            76-N292          368        368EE          368          X              0\n",
      "DEBUG:mathsformer.selfsupervised_learning_addition_model_backend:            N4+N799         N803        N803E         N803          X              0\n",
      "DEBUG:mathsformer.selfsupervised_learning_addition_model_backend:              333+7          340        340EE          340          X              0\n",
      "DEBUG:mathsformer.selfsupervised_learning_addition_model_backend: N58+N2-N615-51+678         1182        1182E         1182          X              0\n",
      "DEBUG:mathsformer.selfsupervised_learning_addition_model_backend:      N1-148-N5+N30         N174        N174E         N174          X              0\n",
      "DEBUG:mathsformer.selfsupervised_learning_addition_model_backend:   8-N118+434+N1647        N1087        N1089        N1089                        -2\n",
      "DEBUG:mathsformer.selfsupervised_learning_addition_model_backend:   N510+8-N69+65-N8         N360        N373E         N373                       -13\n",
      "DEBUG:mathsformer.selfsupervised_learning_addition_model_backend:                N12          N12        N12EE          N12          X              0\n",
      "DEBUG:mathsformer.selfsupervised_learning_addition_model_backend:                  9            9        9EEEE            9          X              0\n",
      "DEBUG:mathsformer.selfsupervised_learning_addition_model_backend:               3930         3930        3930E         3930          X              0\n",
      "DEBUG:mathsformer.selfsupervised_learning_addition_model_backend:Running text --> text mathsformer inference on some validation data:\n",
      "DEBUG:mathsformer.selfsupervised_learning_addition_model_backend:--------------------------------------------------------------------------------\n",
      "DEBUG:mathsformer.selfsupervised_learning_addition_model_backend:          INPUT         TRUE   PRED(MASK)    PRED(GEN)      CORRECT     RESIDUAL\n",
      "DEBUG:mathsformer.selfsupervised_learning_addition_model_backend:--------------------------------------------------------------------------------\n",
      "DEBUG:mathsformer.selfsupervised_learning_addition_model_backend:      N5-14-516         N535        N536E         N536                        -1\n",
      "DEBUG:mathsformer.selfsupervised_learning_addition_model_backend:   566-N52-5117        N4499        N4509        N4509                       -10\n",
      "DEBUG:mathsformer.selfsupervised_learning_addition_model_backend:    N7+N3567-36        N3610        N3601        N3601                         9\n",
      "DEBUG:mathsformer.selfsupervised_learning_addition_model_backend:       414+N2-2          410        411EE          411                         1\n",
      "DEBUG:mathsformer.selfsupervised_learning_addition_model_backend:     N16-36+N31          N83        N82EE          N82                         1\n",
      "DEBUG:mathsformer.selfsupervised_learning_addition_model_backend:     2988+N54-6         2928        2927E         2927                        -1\n",
      "DEBUG:mathsformer.selfsupervised_learning_addition_model_backend:    N4036+N8+93        N3951        N3941        N3941                        10\n",
      "DEBUG:mathsformer.selfsupervised_learning_addition_model_backend: N302+N4928+N86        N5316        N5326        N5326                       -10\n",
      "DEBUG:mathsformer.selfsupervised_learning_addition_model_backend: 7339+N771+N948         5620        5610E         5610                       -10\n",
      "DEBUG:mathsformer.selfsupervised_learning_addition_model_backend:  N1012+N47+N85        N1144        N1144        N1144          X              0\n"
     ]
    },
    {
     "name": "stdout",
     "output_type": "stream",
     "text": [
      "2000/2000 [==============================] - 850s 425ms/step - loss: 1.4736 - mathsformer_LLM_output_loss: 0.5057 - mathsformer_LLM_output_1_loss: 0.4835 - mathsformer_LLM_output_2_loss: 0.4843 - mathsformer_LLM_output_masked_categorical_accuracy: 0.8053 - mathsformer_LLM_output_1_masked_categorical_accuracy: 0.8131 - mathsformer_LLM_output_2_masked_categorical_accuracy: 0.8123 - val_loss: 1.1742 - val_mathsformer_LLM_output_loss: 0.3886 - val_mathsformer_LLM_output_1_loss: 0.3828 - val_mathsformer_LLM_output_2_loss: 0.4027 - val_mathsformer_LLM_output_masked_categorical_accuracy: 0.8393 - val_mathsformer_LLM_output_1_masked_categorical_accuracy: 0.8401 - val_mathsformer_LLM_output_2_masked_categorical_accuracy: 0.8302\n",
      "Epoch 38/100000\n",
      "2000/2000 [==============================] - ETA: 0s - loss: 1.2935 - mathsformer_LLM_output_loss: 0.4502 - mathsformer_LLM_output_1_loss: 0.4216 - mathsformer_LLM_output_2_loss: 0.4217 - mathsformer_LLM_output_masked_categorical_accuracy: 0.8235 - mathsformer_LLM_output_1_masked_categorical_accuracy: 0.8328 - mathsformer_LLM_output_2_masked_categorical_accuracy: 0.8332"
     ]
    },
    {
     "name": "stderr",
     "output_type": "stream",
     "text": [
      "DEBUG:mathsformer.selfsupervised_learning_addition_model_backend:Training reached the end of epoch at index 37\n",
      "DEBUG:mathsformer.selfsupervised_learning_addition_model_backend:    with metric loss: 1.2935\n",
      "DEBUG:mathsformer.selfsupervised_learning_addition_model_backend:    with metric mathsformer_LLM_output_loss: 0.45022\n",
      "DEBUG:mathsformer.selfsupervised_learning_addition_model_backend:    with metric mathsformer_LLM_output_1_loss: 0.42163\n",
      "DEBUG:mathsformer.selfsupervised_learning_addition_model_backend:    with metric mathsformer_LLM_output_2_loss: 0.42166\n",
      "DEBUG:mathsformer.selfsupervised_learning_addition_model_backend:    with metric mathsformer_LLM_output_masked_categorical_accuracy: 0.82351\n",
      "DEBUG:mathsformer.selfsupervised_learning_addition_model_backend:    with metric mathsformer_LLM_output_1_masked_categorical_accuracy: 0.83282\n",
      "DEBUG:mathsformer.selfsupervised_learning_addition_model_backend:    with metric mathsformer_LLM_output_2_masked_categorical_accuracy: 0.83322\n",
      "DEBUG:mathsformer.selfsupervised_learning_addition_model_backend:    with metric val_loss: 1.1093\n",
      "DEBUG:mathsformer.selfsupervised_learning_addition_model_backend:    with metric val_mathsformer_LLM_output_loss: 0.36133\n",
      "DEBUG:mathsformer.selfsupervised_learning_addition_model_backend:    with metric val_mathsformer_LLM_output_1_loss: 0.36276\n",
      "DEBUG:mathsformer.selfsupervised_learning_addition_model_backend:    with metric val_mathsformer_LLM_output_2_loss: 0.38525\n",
      "DEBUG:mathsformer.selfsupervised_learning_addition_model_backend:    with metric val_mathsformer_LLM_output_masked_categorical_accuracy: 0.852\n",
      "DEBUG:mathsformer.selfsupervised_learning_addition_model_backend:    with metric val_mathsformer_LLM_output_1_masked_categorical_accuracy: 0.85015\n",
      "DEBUG:mathsformer.selfsupervised_learning_addition_model_backend:    with metric val_mathsformer_LLM_output_2_masked_categorical_accuracy: 0.84297\n",
      "DEBUG:mathsformer.selfsupervised_learning_addition_model_backend:Running text --> text mathsformer inference on some training data:\n",
      "DEBUG:mathsformer.selfsupervised_learning_addition_model_backend:------------------------------------------------------------------------------------\n",
      "DEBUG:mathsformer.selfsupervised_learning_addition_model_backend:              INPUT         TRUE   PRED(MASK)    PRED(GEN)      CORRECT     RESIDUAL\n",
      "DEBUG:mathsformer.selfsupervised_learning_addition_model_backend:------------------------------------------------------------------------------------\n",
      "DEBUG:mathsformer.selfsupervised_learning_addition_model_backend:            76-N292          368        368EE          368          X              0\n",
      "DEBUG:mathsformer.selfsupervised_learning_addition_model_backend:            N4+N799         N803        N803E         N803          X              0\n",
      "DEBUG:mathsformer.selfsupervised_learning_addition_model_backend:              333+7          340        340EE          340          X              0\n",
      "DEBUG:mathsformer.selfsupervised_learning_addition_model_backend: N58+N2-N615-51+678         1182        1192E         1192                        10\n",
      "DEBUG:mathsformer.selfsupervised_learning_addition_model_backend:      N1-148-N5+N30         N174        N174E         N174          X              0\n",
      "DEBUG:mathsformer.selfsupervised_learning_addition_model_backend:   8-N118+434+N1647        N1087        N1098        N1098                       -11\n",
      "DEBUG:mathsformer.selfsupervised_learning_addition_model_backend:   N510+8-N69+65-N8         N360        N363E         N363                        -3\n",
      "DEBUG:mathsformer.selfsupervised_learning_addition_model_backend:                N12          N12        N12EE          N12          X              0\n",
      "DEBUG:mathsformer.selfsupervised_learning_addition_model_backend:                  9            9        9EEEE            9          X              0\n",
      "DEBUG:mathsformer.selfsupervised_learning_addition_model_backend:               3930         3930        3930E         3930          X              0\n",
      "DEBUG:mathsformer.selfsupervised_learning_addition_model_backend:Running text --> text mathsformer inference on some validation data:\n",
      "DEBUG:mathsformer.selfsupervised_learning_addition_model_backend:--------------------------------------------------------------------------------\n",
      "DEBUG:mathsformer.selfsupervised_learning_addition_model_backend:          INPUT         TRUE   PRED(MASK)    PRED(GEN)      CORRECT     RESIDUAL\n",
      "DEBUG:mathsformer.selfsupervised_learning_addition_model_backend:--------------------------------------------------------------------------------\n",
      "DEBUG:mathsformer.selfsupervised_learning_addition_model_backend:      N5-14-516         N535        N536E         N536                        -1\n",
      "DEBUG:mathsformer.selfsupervised_learning_addition_model_backend:   566-N52-5117        N4499        N4500        N4500                        -1\n",
      "DEBUG:mathsformer.selfsupervised_learning_addition_model_backend:    N7+N3567-36        N3610        N3611        N3611                        -1\n",
      "DEBUG:mathsformer.selfsupervised_learning_addition_model_backend:       414+N2-2          410        411EE          411                         1\n",
      "DEBUG:mathsformer.selfsupervised_learning_addition_model_backend:     N16-36+N31          N83        N83EE          N83          X              0\n",
      "DEBUG:mathsformer.selfsupervised_learning_addition_model_backend:     2988+N54-6         2928        2928E         2928          X              0\n",
      "DEBUG:mathsformer.selfsupervised_learning_addition_model_backend:    N4036+N8+93        N3951        N3941        N3941                        10\n",
      "DEBUG:mathsformer.selfsupervised_learning_addition_model_backend: N302+N4928+N86        N5316        N5316        N5316          X              0\n",
      "DEBUG:mathsformer.selfsupervised_learning_addition_model_backend: 7339+N771+N948         5620        5520E         5520                      -100\n",
      "DEBUG:mathsformer.selfsupervised_learning_addition_model_backend:  N1012+N47+N85        N1144        N1144        N1144          X              0\n"
     ]
    },
    {
     "name": "stdout",
     "output_type": "stream",
     "text": [
      "2000/2000 [==============================] - 867s 433ms/step - loss: 1.2935 - mathsformer_LLM_output_loss: 0.4502 - mathsformer_LLM_output_1_loss: 0.4216 - mathsformer_LLM_output_2_loss: 0.4217 - mathsformer_LLM_output_masked_categorical_accuracy: 0.8235 - mathsformer_LLM_output_1_masked_categorical_accuracy: 0.8328 - mathsformer_LLM_output_2_masked_categorical_accuracy: 0.8332 - val_loss: 1.1093 - val_mathsformer_LLM_output_loss: 0.3613 - val_mathsformer_LLM_output_1_loss: 0.3628 - val_mathsformer_LLM_output_2_loss: 0.3852 - val_mathsformer_LLM_output_masked_categorical_accuracy: 0.8520 - val_mathsformer_LLM_output_1_masked_categorical_accuracy: 0.8501 - val_mathsformer_LLM_output_2_masked_categorical_accuracy: 0.8430\n",
      "Epoch 39/100000\n",
      "2000/2000 [==============================] - ETA: 0s - loss: 1.1725 - mathsformer_LLM_output_loss: 0.4106 - mathsformer_LLM_output_1_loss: 0.3817 - mathsformer_LLM_output_2_loss: 0.3802 - mathsformer_LLM_output_masked_categorical_accuracy: 0.8378 - mathsformer_LLM_output_1_masked_categorical_accuracy: 0.8472 - mathsformer_LLM_output_2_masked_categorical_accuracy: 0.8482"
     ]
    },
    {
     "name": "stderr",
     "output_type": "stream",
     "text": [
      "DEBUG:mathsformer.selfsupervised_learning_addition_model_backend:Training reached the end of epoch at index 38\n",
      "DEBUG:mathsformer.selfsupervised_learning_addition_model_backend:    with metric loss: 1.1725\n",
      "DEBUG:mathsformer.selfsupervised_learning_addition_model_backend:    with metric mathsformer_LLM_output_loss: 0.41058\n",
      "DEBUG:mathsformer.selfsupervised_learning_addition_model_backend:    with metric mathsformer_LLM_output_1_loss: 0.38174\n",
      "DEBUG:mathsformer.selfsupervised_learning_addition_model_backend:    with metric mathsformer_LLM_output_2_loss: 0.38018\n",
      "DEBUG:mathsformer.selfsupervised_learning_addition_model_backend:    with metric mathsformer_LLM_output_masked_categorical_accuracy: 0.83781\n",
      "DEBUG:mathsformer.selfsupervised_learning_addition_model_backend:    with metric mathsformer_LLM_output_1_masked_categorical_accuracy: 0.84723\n",
      "DEBUG:mathsformer.selfsupervised_learning_addition_model_backend:    with metric mathsformer_LLM_output_2_masked_categorical_accuracy: 0.84819\n",
      "DEBUG:mathsformer.selfsupervised_learning_addition_model_backend:    with metric val_loss: 0.89593\n",
      "DEBUG:mathsformer.selfsupervised_learning_addition_model_backend:    with metric val_mathsformer_LLM_output_loss: 0.30163\n",
      "DEBUG:mathsformer.selfsupervised_learning_addition_model_backend:    with metric val_mathsformer_LLM_output_1_loss: 0.29216\n",
      "DEBUG:mathsformer.selfsupervised_learning_addition_model_backend:    with metric val_mathsformer_LLM_output_2_loss: 0.30214\n",
      "DEBUG:mathsformer.selfsupervised_learning_addition_model_backend:    with metric val_mathsformer_LLM_output_masked_categorical_accuracy: 0.88232\n",
      "DEBUG:mathsformer.selfsupervised_learning_addition_model_backend:    with metric val_mathsformer_LLM_output_1_masked_categorical_accuracy: 0.88481\n",
      "DEBUG:mathsformer.selfsupervised_learning_addition_model_backend:    with metric val_mathsformer_LLM_output_2_masked_categorical_accuracy: 0.88167\n",
      "DEBUG:mathsformer.selfsupervised_learning_addition_model_backend:Running text --> text mathsformer inference on some training data:\n",
      "DEBUG:mathsformer.selfsupervised_learning_addition_model_backend:------------------------------------------------------------------------------------\n",
      "DEBUG:mathsformer.selfsupervised_learning_addition_model_backend:              INPUT         TRUE   PRED(MASK)    PRED(GEN)      CORRECT     RESIDUAL\n",
      "DEBUG:mathsformer.selfsupervised_learning_addition_model_backend:------------------------------------------------------------------------------------\n",
      "DEBUG:mathsformer.selfsupervised_learning_addition_model_backend:            76-N292          368        368EE          368          X              0\n",
      "DEBUG:mathsformer.selfsupervised_learning_addition_model_backend:            N4+N799         N803        N803E         N803          X              0\n",
      "DEBUG:mathsformer.selfsupervised_learning_addition_model_backend:              333+7          340        340EE          340          X              0\n",
      "DEBUG:mathsformer.selfsupervised_learning_addition_model_backend: N58+N2-N615-51+678         1182        1123E         1123                       -59\n",
      "DEBUG:mathsformer.selfsupervised_learning_addition_model_backend:      N1-148-N5+N30         N174        N174E         N174          X              0\n",
      "DEBUG:mathsformer.selfsupervised_learning_addition_model_backend:   8-N118+434+N1647        N1087        N1097        N1097                       -10\n",
      "DEBUG:mathsformer.selfsupervised_learning_addition_model_backend:   N510+8-N69+65-N8         N360        N360E         N360          X              0\n",
      "DEBUG:mathsformer.selfsupervised_learning_addition_model_backend:                N12          N12        N12EE          N12          X              0\n",
      "DEBUG:mathsformer.selfsupervised_learning_addition_model_backend:                  9            9        9EEEE            9          X              0\n",
      "DEBUG:mathsformer.selfsupervised_learning_addition_model_backend:               3930         3930        3930E         3930          X              0\n",
      "DEBUG:mathsformer.selfsupervised_learning_addition_model_backend:Running text --> text mathsformer inference on some validation data:\n",
      "DEBUG:mathsformer.selfsupervised_learning_addition_model_backend:--------------------------------------------------------------------------------\n",
      "DEBUG:mathsformer.selfsupervised_learning_addition_model_backend:          INPUT         TRUE   PRED(MASK)    PRED(GEN)      CORRECT     RESIDUAL\n",
      "DEBUG:mathsformer.selfsupervised_learning_addition_model_backend:--------------------------------------------------------------------------------\n",
      "DEBUG:mathsformer.selfsupervised_learning_addition_model_backend:      N5-14-516         N535        N536E         N536                        -1\n",
      "DEBUG:mathsformer.selfsupervised_learning_addition_model_backend:   566-N52-5117        N4499        N4590        N4590                       -91\n",
      "DEBUG:mathsformer.selfsupervised_learning_addition_model_backend:    N7+N3567-36        N3610        N3610        N3610          X              0\n",
      "DEBUG:mathsformer.selfsupervised_learning_addition_model_backend:       414+N2-2          410        411EE          411                         1\n",
      "DEBUG:mathsformer.selfsupervised_learning_addition_model_backend:     N16-36+N31          N83        N83EE          N83          X              0\n",
      "DEBUG:mathsformer.selfsupervised_learning_addition_model_backend:     2988+N54-6         2928        2928E         2928          X              0\n",
      "DEBUG:mathsformer.selfsupervised_learning_addition_model_backend:    N4036+N8+93        N3951        N3941        N3941                        10\n",
      "DEBUG:mathsformer.selfsupervised_learning_addition_model_backend: N302+N4928+N86        N5316        N5316        N5316          X              0\n",
      "DEBUG:mathsformer.selfsupervised_learning_addition_model_backend: 7339+N771+N948         5620        5510E         5510                      -110\n",
      "DEBUG:mathsformer.selfsupervised_learning_addition_model_backend:  N1012+N47+N85        N1144        N1144        N1144          X              0\n"
     ]
    },
    {
     "name": "stdout",
     "output_type": "stream",
     "text": [
      "2000/2000 [==============================] - 860s 430ms/step - loss: 1.1725 - mathsformer_LLM_output_loss: 0.4106 - mathsformer_LLM_output_1_loss: 0.3817 - mathsformer_LLM_output_2_loss: 0.3802 - mathsformer_LLM_output_masked_categorical_accuracy: 0.8378 - mathsformer_LLM_output_1_masked_categorical_accuracy: 0.8472 - mathsformer_LLM_output_2_masked_categorical_accuracy: 0.8482 - val_loss: 0.8959 - val_mathsformer_LLM_output_loss: 0.3016 - val_mathsformer_LLM_output_1_loss: 0.2922 - val_mathsformer_LLM_output_2_loss: 0.3021 - val_mathsformer_LLM_output_masked_categorical_accuracy: 0.8823 - val_mathsformer_LLM_output_1_masked_categorical_accuracy: 0.8848 - val_mathsformer_LLM_output_2_masked_categorical_accuracy: 0.8817\n",
      "Epoch 40/100000\n",
      "2000/2000 [==============================] - ETA: 0s - loss: 1.0819 - mathsformer_LLM_output_loss: 0.3819 - mathsformer_LLM_output_1_loss: 0.3506 - mathsformer_LLM_output_2_loss: 0.3494 - mathsformer_LLM_output_masked_categorical_accuracy: 0.8476 - mathsformer_LLM_output_1_masked_categorical_accuracy: 0.8587 - mathsformer_LLM_output_2_masked_categorical_accuracy: 0.8592"
     ]
    },
    {
     "name": "stderr",
     "output_type": "stream",
     "text": [
      "DEBUG:mathsformer.selfsupervised_learning_addition_model_backend:Training reached the end of epoch at index 39\n",
      "DEBUG:mathsformer.selfsupervised_learning_addition_model_backend:    with metric loss: 1.0819\n",
      "DEBUG:mathsformer.selfsupervised_learning_addition_model_backend:    with metric mathsformer_LLM_output_loss: 0.38191\n",
      "DEBUG:mathsformer.selfsupervised_learning_addition_model_backend:    with metric mathsformer_LLM_output_1_loss: 0.35063\n",
      "DEBUG:mathsformer.selfsupervised_learning_addition_model_backend:    with metric mathsformer_LLM_output_2_loss: 0.34939\n",
      "DEBUG:mathsformer.selfsupervised_learning_addition_model_backend:    with metric mathsformer_LLM_output_masked_categorical_accuracy: 0.8476\n",
      "DEBUG:mathsformer.selfsupervised_learning_addition_model_backend:    with metric mathsformer_LLM_output_1_masked_categorical_accuracy: 0.85872\n",
      "DEBUG:mathsformer.selfsupervised_learning_addition_model_backend:    with metric mathsformer_LLM_output_2_masked_categorical_accuracy: 0.85916\n",
      "DEBUG:mathsformer.selfsupervised_learning_addition_model_backend:    with metric val_loss: 0.84787\n",
      "DEBUG:mathsformer.selfsupervised_learning_addition_model_backend:    with metric val_mathsformer_LLM_output_loss: 0.27671\n",
      "DEBUG:mathsformer.selfsupervised_learning_addition_model_backend:    with metric val_mathsformer_LLM_output_1_loss: 0.27288\n",
      "DEBUG:mathsformer.selfsupervised_learning_addition_model_backend:    with metric val_mathsformer_LLM_output_2_loss: 0.29828\n",
      "DEBUG:mathsformer.selfsupervised_learning_addition_model_backend:    with metric val_mathsformer_LLM_output_masked_categorical_accuracy: 0.88726\n",
      "DEBUG:mathsformer.selfsupervised_learning_addition_model_backend:    with metric val_mathsformer_LLM_output_1_masked_categorical_accuracy: 0.89192\n",
      "DEBUG:mathsformer.selfsupervised_learning_addition_model_backend:    with metric val_mathsformer_LLM_output_2_masked_categorical_accuracy: 0.87566\n",
      "DEBUG:mathsformer.selfsupervised_learning_addition_model_backend:Running text --> text mathsformer inference on some training data:\n",
      "DEBUG:mathsformer.selfsupervised_learning_addition_model_backend:------------------------------------------------------------------------------------\n",
      "DEBUG:mathsformer.selfsupervised_learning_addition_model_backend:              INPUT         TRUE   PRED(MASK)    PRED(GEN)      CORRECT     RESIDUAL\n",
      "DEBUG:mathsformer.selfsupervised_learning_addition_model_backend:------------------------------------------------------------------------------------\n",
      "DEBUG:mathsformer.selfsupervised_learning_addition_model_backend:            76-N292          368        368EE          368          X              0\n",
      "DEBUG:mathsformer.selfsupervised_learning_addition_model_backend:            N4+N799         N803        N803E         N803          X              0\n",
      "DEBUG:mathsformer.selfsupervised_learning_addition_model_backend:              333+7          340        340EE          340          X              0\n",
      "DEBUG:mathsformer.selfsupervised_learning_addition_model_backend: N58+N2-N615-51+678         1182        1182E         1182          X              0\n",
      "DEBUG:mathsformer.selfsupervised_learning_addition_model_backend:      N1-148-N5+N30         N174        N174E         N174          X              0\n",
      "DEBUG:mathsformer.selfsupervised_learning_addition_model_backend:   8-N118+434+N1647        N1087        N1088        N1088                        -1\n",
      "DEBUG:mathsformer.selfsupervised_learning_addition_model_backend:   N510+8-N69+65-N8         N360        N340E         N340                        20\n",
      "DEBUG:mathsformer.selfsupervised_learning_addition_model_backend:                N12          N12        N12EE          N12          X              0\n",
      "DEBUG:mathsformer.selfsupervised_learning_addition_model_backend:                  9            9        9EEEE            9          X              0\n",
      "DEBUG:mathsformer.selfsupervised_learning_addition_model_backend:               3930         3930        3930E         3930          X              0\n",
      "DEBUG:mathsformer.selfsupervised_learning_addition_model_backend:Running text --> text mathsformer inference on some validation data:\n",
      "DEBUG:mathsformer.selfsupervised_learning_addition_model_backend:--------------------------------------------------------------------------------\n",
      "DEBUG:mathsformer.selfsupervised_learning_addition_model_backend:          INPUT         TRUE   PRED(MASK)    PRED(GEN)      CORRECT     RESIDUAL\n",
      "DEBUG:mathsformer.selfsupervised_learning_addition_model_backend:--------------------------------------------------------------------------------\n",
      "DEBUG:mathsformer.selfsupervised_learning_addition_model_backend:      N5-14-516         N535        N546E         N546                       -11\n",
      "DEBUG:mathsformer.selfsupervised_learning_addition_model_backend:   566-N52-5117        N4499        N4599        N4599                      -100\n",
      "DEBUG:mathsformer.selfsupervised_learning_addition_model_backend:    N7+N3567-36        N3610        N3611        N3611                        -1\n",
      "DEBUG:mathsformer.selfsupervised_learning_addition_model_backend:       414+N2-2          410        410EE          410          X              0\n",
      "DEBUG:mathsformer.selfsupervised_learning_addition_model_backend:     N16-36+N31          N83        N88EE          N88                        -5\n",
      "DEBUG:mathsformer.selfsupervised_learning_addition_model_backend:     2988+N54-6         2928        2928E         2928          X              0\n",
      "DEBUG:mathsformer.selfsupervised_learning_addition_model_backend:    N4036+N8+93        N3951        N3941        N3941                        10\n",
      "DEBUG:mathsformer.selfsupervised_learning_addition_model_backend: N302+N4928+N86        N5316        N5315        N5315                         1\n",
      "DEBUG:mathsformer.selfsupervised_learning_addition_model_backend: 7339+N771+N948         5620        5510E         5510                      -110\n",
      "DEBUG:mathsformer.selfsupervised_learning_addition_model_backend:  N1012+N47+N85        N1144        N1154        N1154                       -10\n"
     ]
    },
    {
     "name": "stdout",
     "output_type": "stream",
     "text": [
      "2000/2000 [==============================] - 865s 432ms/step - loss: 1.0819 - mathsformer_LLM_output_loss: 0.3819 - mathsformer_LLM_output_1_loss: 0.3506 - mathsformer_LLM_output_2_loss: 0.3494 - mathsformer_LLM_output_masked_categorical_accuracy: 0.8476 - mathsformer_LLM_output_1_masked_categorical_accuracy: 0.8587 - mathsformer_LLM_output_2_masked_categorical_accuracy: 0.8592 - val_loss: 0.8479 - val_mathsformer_LLM_output_loss: 0.2767 - val_mathsformer_LLM_output_1_loss: 0.2729 - val_mathsformer_LLM_output_2_loss: 0.2983 - val_mathsformer_LLM_output_masked_categorical_accuracy: 0.8873 - val_mathsformer_LLM_output_1_masked_categorical_accuracy: 0.8919 - val_mathsformer_LLM_output_2_masked_categorical_accuracy: 0.8757\n",
      "Epoch 41/100000\n",
      "2000/2000 [==============================] - ETA: 0s - loss: 1.0402 - mathsformer_LLM_output_loss: 0.3680 - mathsformer_LLM_output_1_loss: 0.3369 - mathsformer_LLM_output_2_loss: 0.3353 - mathsformer_LLM_output_masked_categorical_accuracy: 0.8540 - mathsformer_LLM_output_1_masked_categorical_accuracy: 0.8657 - mathsformer_LLM_output_2_masked_categorical_accuracy: 0.8662"
     ]
    },
    {
     "name": "stderr",
     "output_type": "stream",
     "text": [
      "DEBUG:mathsformer.selfsupervised_learning_addition_model_backend:Training reached the end of epoch at index 40\n",
      "DEBUG:mathsformer.selfsupervised_learning_addition_model_backend:    with metric loss: 1.0402\n",
      "DEBUG:mathsformer.selfsupervised_learning_addition_model_backend:    with metric mathsformer_LLM_output_loss: 0.36802\n",
      "DEBUG:mathsformer.selfsupervised_learning_addition_model_backend:    with metric mathsformer_LLM_output_1_loss: 0.33693\n",
      "DEBUG:mathsformer.selfsupervised_learning_addition_model_backend:    with metric mathsformer_LLM_output_2_loss: 0.33526\n",
      "DEBUG:mathsformer.selfsupervised_learning_addition_model_backend:    with metric mathsformer_LLM_output_masked_categorical_accuracy: 0.854\n",
      "DEBUG:mathsformer.selfsupervised_learning_addition_model_backend:    with metric mathsformer_LLM_output_1_masked_categorical_accuracy: 0.86566\n",
      "DEBUG:mathsformer.selfsupervised_learning_addition_model_backend:    with metric mathsformer_LLM_output_2_masked_categorical_accuracy: 0.86623\n",
      "DEBUG:mathsformer.selfsupervised_learning_addition_model_backend:    with metric val_loss: 0.7182\n",
      "DEBUG:mathsformer.selfsupervised_learning_addition_model_backend:    with metric val_mathsformer_LLM_output_loss: 0.24321\n",
      "DEBUG:mathsformer.selfsupervised_learning_addition_model_backend:    with metric val_mathsformer_LLM_output_1_loss: 0.23184\n",
      "DEBUG:mathsformer.selfsupervised_learning_addition_model_backend:    with metric val_mathsformer_LLM_output_2_loss: 0.24315\n",
      "DEBUG:mathsformer.selfsupervised_learning_addition_model_backend:    with metric val_mathsformer_LLM_output_masked_categorical_accuracy: 0.90506\n",
      "DEBUG:mathsformer.selfsupervised_learning_addition_model_backend:    with metric val_mathsformer_LLM_output_1_masked_categorical_accuracy: 0.90867\n",
      "DEBUG:mathsformer.selfsupervised_learning_addition_model_backend:    with metric val_mathsformer_LLM_output_2_masked_categorical_accuracy: 0.90358\n",
      "DEBUG:mathsformer.selfsupervised_learning_addition_model_backend:Running text --> text mathsformer inference on some training data:\n",
      "DEBUG:mathsformer.selfsupervised_learning_addition_model_backend:------------------------------------------------------------------------------------\n",
      "DEBUG:mathsformer.selfsupervised_learning_addition_model_backend:              INPUT         TRUE   PRED(MASK)    PRED(GEN)      CORRECT     RESIDUAL\n",
      "DEBUG:mathsformer.selfsupervised_learning_addition_model_backend:------------------------------------------------------------------------------------\n",
      "DEBUG:mathsformer.selfsupervised_learning_addition_model_backend:            76-N292          368        368EE          368          X              0\n",
      "DEBUG:mathsformer.selfsupervised_learning_addition_model_backend:            N4+N799         N803        N803E         N803          X              0\n",
      "DEBUG:mathsformer.selfsupervised_learning_addition_model_backend:              333+7          340        340EE          340          X              0\n",
      "DEBUG:mathsformer.selfsupervised_learning_addition_model_backend: N58+N2-N615-51+678         1182        1173E         1173                        -9\n",
      "DEBUG:mathsformer.selfsupervised_learning_addition_model_backend:      N1-148-N5+N30         N174        N174E         N174          X              0\n",
      "DEBUG:mathsformer.selfsupervised_learning_addition_model_backend:   8-N118+434+N1647        N1087        N1097        N1097                       -10\n",
      "DEBUG:mathsformer.selfsupervised_learning_addition_model_backend:   N510+8-N69+65-N8         N360        N360E         N360          X              0\n",
      "DEBUG:mathsformer.selfsupervised_learning_addition_model_backend:                N12          N12        N12EE          N12          X              0\n",
      "DEBUG:mathsformer.selfsupervised_learning_addition_model_backend:                  9            9        9EEEE            9          X              0\n",
      "DEBUG:mathsformer.selfsupervised_learning_addition_model_backend:               3930         3930        3930E         3930          X              0\n",
      "DEBUG:mathsformer.selfsupervised_learning_addition_model_backend:Running text --> text mathsformer inference on some validation data:\n",
      "DEBUG:mathsformer.selfsupervised_learning_addition_model_backend:--------------------------------------------------------------------------------\n",
      "DEBUG:mathsformer.selfsupervised_learning_addition_model_backend:          INPUT         TRUE   PRED(MASK)    PRED(GEN)      CORRECT     RESIDUAL\n",
      "DEBUG:mathsformer.selfsupervised_learning_addition_model_backend:--------------------------------------------------------------------------------\n",
      "DEBUG:mathsformer.selfsupervised_learning_addition_model_backend:      N5-14-516         N535        N536E         N536                        -1\n",
      "DEBUG:mathsformer.selfsupervised_learning_addition_model_backend:   566-N52-5117        N4499        N4599        N4599                      -100\n",
      "DEBUG:mathsformer.selfsupervised_learning_addition_model_backend:    N7+N3567-36        N3610        N3600        N3600                        10\n",
      "DEBUG:mathsformer.selfsupervised_learning_addition_model_backend:       414+N2-2          410        411EE          411                         1\n",
      "DEBUG:mathsformer.selfsupervised_learning_addition_model_backend:     N16-36+N31          N83        N72EE          N72                        11\n",
      "DEBUG:mathsformer.selfsupervised_learning_addition_model_backend:     2988+N54-6         2928        2938E         2938                        10\n",
      "DEBUG:mathsformer.selfsupervised_learning_addition_model_backend:    N4036+N8+93        N3951        N3941        N3941                        10\n",
      "DEBUG:mathsformer.selfsupervised_learning_addition_model_backend: N302+N4928+N86        N5316        N5316        N5316          X              0\n",
      "DEBUG:mathsformer.selfsupervised_learning_addition_model_backend: 7339+N771+N948         5620        5510E         5510                      -110\n",
      "DEBUG:mathsformer.selfsupervised_learning_addition_model_backend:  N1012+N47+N85        N1144        N1144        N1144          X              0\n"
     ]
    },
    {
     "name": "stdout",
     "output_type": "stream",
     "text": [
      "2000/2000 [==============================] - 863s 432ms/step - loss: 1.0402 - mathsformer_LLM_output_loss: 0.3680 - mathsformer_LLM_output_1_loss: 0.3369 - mathsformer_LLM_output_2_loss: 0.3353 - mathsformer_LLM_output_masked_categorical_accuracy: 0.8540 - mathsformer_LLM_output_1_masked_categorical_accuracy: 0.8657 - mathsformer_LLM_output_2_masked_categorical_accuracy: 0.8662 - val_loss: 0.7182 - val_mathsformer_LLM_output_loss: 0.2432 - val_mathsformer_LLM_output_1_loss: 0.2318 - val_mathsformer_LLM_output_2_loss: 0.2432 - val_mathsformer_LLM_output_masked_categorical_accuracy: 0.9051 - val_mathsformer_LLM_output_1_masked_categorical_accuracy: 0.9087 - val_mathsformer_LLM_output_2_masked_categorical_accuracy: 0.9036\n",
      "Epoch 42/100000\n",
      "2000/2000 [==============================] - ETA: 0s - loss: 0.9473 - mathsformer_LLM_output_loss: 0.3374 - mathsformer_LLM_output_1_loss: 0.3063 - mathsformer_LLM_output_2_loss: 0.3037 - mathsformer_LLM_output_masked_categorical_accuracy: 0.8647 - mathsformer_LLM_output_1_masked_categorical_accuracy: 0.8761 - mathsformer_LLM_output_2_masked_categorical_accuracy: 0.8779"
     ]
    },
    {
     "name": "stderr",
     "output_type": "stream",
     "text": [
      "DEBUG:mathsformer.selfsupervised_learning_addition_model_backend:Training reached the end of epoch at index 41\n",
      "DEBUG:mathsformer.selfsupervised_learning_addition_model_backend:    with metric loss: 0.94733\n",
      "DEBUG:mathsformer.selfsupervised_learning_addition_model_backend:    with metric mathsformer_LLM_output_loss: 0.33735\n",
      "DEBUG:mathsformer.selfsupervised_learning_addition_model_backend:    with metric mathsformer_LLM_output_1_loss: 0.30627\n",
      "DEBUG:mathsformer.selfsupervised_learning_addition_model_backend:    with metric mathsformer_LLM_output_2_loss: 0.30371\n",
      "DEBUG:mathsformer.selfsupervised_learning_addition_model_backend:    with metric mathsformer_LLM_output_masked_categorical_accuracy: 0.86474\n",
      "DEBUG:mathsformer.selfsupervised_learning_addition_model_backend:    with metric mathsformer_LLM_output_1_masked_categorical_accuracy: 0.87612\n",
      "DEBUG:mathsformer.selfsupervised_learning_addition_model_backend:    with metric mathsformer_LLM_output_2_masked_categorical_accuracy: 0.87792\n",
      "DEBUG:mathsformer.selfsupervised_learning_addition_model_backend:    with metric val_loss: 0.65951\n",
      "DEBUG:mathsformer.selfsupervised_learning_addition_model_backend:    with metric val_mathsformer_LLM_output_loss: 0.21874\n",
      "DEBUG:mathsformer.selfsupervised_learning_addition_model_backend:    with metric val_mathsformer_LLM_output_1_loss: 0.2132\n",
      "DEBUG:mathsformer.selfsupervised_learning_addition_model_backend:    with metric val_mathsformer_LLM_output_2_loss: 0.22756\n",
      "DEBUG:mathsformer.selfsupervised_learning_addition_model_backend:    with metric val_mathsformer_LLM_output_masked_categorical_accuracy: 0.91961\n",
      "DEBUG:mathsformer.selfsupervised_learning_addition_model_backend:    with metric val_mathsformer_LLM_output_1_masked_categorical_accuracy: 0.92093\n",
      "DEBUG:mathsformer.selfsupervised_learning_addition_model_backend:    with metric val_mathsformer_LLM_output_2_masked_categorical_accuracy: 0.91395\n",
      "DEBUG:mathsformer.selfsupervised_learning_addition_model_backend:Running text --> text mathsformer inference on some training data:\n",
      "DEBUG:mathsformer.selfsupervised_learning_addition_model_backend:------------------------------------------------------------------------------------\n",
      "DEBUG:mathsformer.selfsupervised_learning_addition_model_backend:              INPUT         TRUE   PRED(MASK)    PRED(GEN)      CORRECT     RESIDUAL\n",
      "DEBUG:mathsformer.selfsupervised_learning_addition_model_backend:------------------------------------------------------------------------------------\n",
      "DEBUG:mathsformer.selfsupervised_learning_addition_model_backend:            76-N292          368        368EE          368          X              0\n",
      "DEBUG:mathsformer.selfsupervised_learning_addition_model_backend:            N4+N799         N803        N803E         N803          X              0\n",
      "DEBUG:mathsformer.selfsupervised_learning_addition_model_backend:              333+7          340        340EE          340          X              0\n",
      "DEBUG:mathsformer.selfsupervised_learning_addition_model_backend: N58+N2-N615-51+678         1182        1282E         1282                       100\n",
      "DEBUG:mathsformer.selfsupervised_learning_addition_model_backend:      N1-148-N5+N30         N174        N174E         N174          X              0\n",
      "DEBUG:mathsformer.selfsupervised_learning_addition_model_backend:   8-N118+434+N1647        N1087        N1098        N1098                       -11\n",
      "DEBUG:mathsformer.selfsupervised_learning_addition_model_backend:   N510+8-N69+65-N8         N360        N360E         N360          X              0\n",
      "DEBUG:mathsformer.selfsupervised_learning_addition_model_backend:                N12          N12        N12EE          N12          X              0\n",
      "DEBUG:mathsformer.selfsupervised_learning_addition_model_backend:                  9            9        9EEEE            9          X              0\n",
      "DEBUG:mathsformer.selfsupervised_learning_addition_model_backend:               3930         3930        3930E         3930          X              0\n",
      "DEBUG:mathsformer.selfsupervised_learning_addition_model_backend:Running text --> text mathsformer inference on some validation data:\n",
      "DEBUG:mathsformer.selfsupervised_learning_addition_model_backend:--------------------------------------------------------------------------------\n",
      "DEBUG:mathsformer.selfsupervised_learning_addition_model_backend:          INPUT         TRUE   PRED(MASK)    PRED(GEN)      CORRECT     RESIDUAL\n",
      "DEBUG:mathsformer.selfsupervised_learning_addition_model_backend:--------------------------------------------------------------------------------\n",
      "DEBUG:mathsformer.selfsupervised_learning_addition_model_backend:      N5-14-516         N535        N536E         N536                        -1\n",
      "DEBUG:mathsformer.selfsupervised_learning_addition_model_backend:   566-N52-5117        N4499        N4499        N4499          X              0\n",
      "DEBUG:mathsformer.selfsupervised_learning_addition_model_backend:    N7+N3567-36        N3610        N3611        N3611                        -1\n",
      "DEBUG:mathsformer.selfsupervised_learning_addition_model_backend:       414+N2-2          410        411EE          411                         1\n",
      "DEBUG:mathsformer.selfsupervised_learning_addition_model_backend:     N16-36+N31          N83        N83EE          N83          X              0\n",
      "DEBUG:mathsformer.selfsupervised_learning_addition_model_backend:     2988+N54-6         2928        2928E         2928          X              0\n",
      "DEBUG:mathsformer.selfsupervised_learning_addition_model_backend:    N4036+N8+93        N3951        N3941        N3941                        10\n",
      "DEBUG:mathsformer.selfsupervised_learning_addition_model_backend: N302+N4928+N86        N5316        N5316        N5316          X              0\n",
      "DEBUG:mathsformer.selfsupervised_learning_addition_model_backend: 7339+N771+N948         5620        5510E         5510                      -110\n",
      "DEBUG:mathsformer.selfsupervised_learning_addition_model_backend:  N1012+N47+N85        N1144        N1144        N1144          X              0\n"
     ]
    },
    {
     "name": "stdout",
     "output_type": "stream",
     "text": [
      "2000/2000 [==============================] - 866s 433ms/step - loss: 0.9473 - mathsformer_LLM_output_loss: 0.3374 - mathsformer_LLM_output_1_loss: 0.3063 - mathsformer_LLM_output_2_loss: 0.3037 - mathsformer_LLM_output_masked_categorical_accuracy: 0.8647 - mathsformer_LLM_output_1_masked_categorical_accuracy: 0.8761 - mathsformer_LLM_output_2_masked_categorical_accuracy: 0.8779 - val_loss: 0.6595 - val_mathsformer_LLM_output_loss: 0.2187 - val_mathsformer_LLM_output_1_loss: 0.2132 - val_mathsformer_LLM_output_2_loss: 0.2276 - val_mathsformer_LLM_output_masked_categorical_accuracy: 0.9196 - val_mathsformer_LLM_output_1_masked_categorical_accuracy: 0.9209 - val_mathsformer_LLM_output_2_masked_categorical_accuracy: 0.9139\n",
      "Epoch 43/100000\n",
      "2000/2000 [==============================] - ETA: 0s - loss: 0.8867 - mathsformer_LLM_output_loss: 0.3159 - mathsformer_LLM_output_1_loss: 0.2854 - mathsformer_LLM_output_2_loss: 0.2854 - mathsformer_LLM_output_masked_categorical_accuracy: 0.8721 - mathsformer_LLM_output_1_masked_categorical_accuracy: 0.8839 - mathsformer_LLM_output_2_masked_categorical_accuracy: 0.8844"
     ]
    },
    {
     "name": "stderr",
     "output_type": "stream",
     "text": [
      "DEBUG:mathsformer.selfsupervised_learning_addition_model_backend:Training reached the end of epoch at index 42\n",
      "DEBUG:mathsformer.selfsupervised_learning_addition_model_backend:    with metric loss: 0.88668\n",
      "DEBUG:mathsformer.selfsupervised_learning_addition_model_backend:    with metric mathsformer_LLM_output_loss: 0.31588\n",
      "DEBUG:mathsformer.selfsupervised_learning_addition_model_backend:    with metric mathsformer_LLM_output_1_loss: 0.28535\n",
      "DEBUG:mathsformer.selfsupervised_learning_addition_model_backend:    with metric mathsformer_LLM_output_2_loss: 0.28544\n",
      "DEBUG:mathsformer.selfsupervised_learning_addition_model_backend:    with metric mathsformer_LLM_output_masked_categorical_accuracy: 0.87208\n",
      "DEBUG:mathsformer.selfsupervised_learning_addition_model_backend:    with metric mathsformer_LLM_output_1_masked_categorical_accuracy: 0.88389\n",
      "DEBUG:mathsformer.selfsupervised_learning_addition_model_backend:    with metric mathsformer_LLM_output_2_masked_categorical_accuracy: 0.88436\n",
      "DEBUG:mathsformer.selfsupervised_learning_addition_model_backend:    with metric val_loss: 0.64009\n",
      "DEBUG:mathsformer.selfsupervised_learning_addition_model_backend:    with metric val_mathsformer_LLM_output_loss: 0.2108\n",
      "DEBUG:mathsformer.selfsupervised_learning_addition_model_backend:    with metric val_mathsformer_LLM_output_1_loss: 0.20781\n",
      "DEBUG:mathsformer.selfsupervised_learning_addition_model_backend:    with metric val_mathsformer_LLM_output_2_loss: 0.22148\n",
      "DEBUG:mathsformer.selfsupervised_learning_addition_model_backend:    with metric val_mathsformer_LLM_output_masked_categorical_accuracy: 0.92281\n",
      "DEBUG:mathsformer.selfsupervised_learning_addition_model_backend:    with metric val_mathsformer_LLM_output_1_masked_categorical_accuracy: 0.92236\n",
      "DEBUG:mathsformer.selfsupervised_learning_addition_model_backend:    with metric val_mathsformer_LLM_output_2_masked_categorical_accuracy: 0.91507\n",
      "DEBUG:mathsformer.selfsupervised_learning_addition_model_backend:Running text --> text mathsformer inference on some training data:\n",
      "DEBUG:mathsformer.selfsupervised_learning_addition_model_backend:------------------------------------------------------------------------------------\n",
      "DEBUG:mathsformer.selfsupervised_learning_addition_model_backend:              INPUT         TRUE   PRED(MASK)    PRED(GEN)      CORRECT     RESIDUAL\n",
      "DEBUG:mathsformer.selfsupervised_learning_addition_model_backend:------------------------------------------------------------------------------------\n",
      "DEBUG:mathsformer.selfsupervised_learning_addition_model_backend:            76-N292          368        358EE          358                       -10\n",
      "DEBUG:mathsformer.selfsupervised_learning_addition_model_backend:            N4+N799         N803        N803E         N803          X              0\n",
      "DEBUG:mathsformer.selfsupervised_learning_addition_model_backend:              333+7          340        340EE          340          X              0\n",
      "DEBUG:mathsformer.selfsupervised_learning_addition_model_backend: N58+N2-N615-51+678         1182        1172E         1172                       -10\n",
      "DEBUG:mathsformer.selfsupervised_learning_addition_model_backend:      N1-148-N5+N30         N174        N174E         N174          X              0\n",
      "DEBUG:mathsformer.selfsupervised_learning_addition_model_backend:   8-N118+434+N1647        N1087        N1097        N1097                       -10\n",
      "DEBUG:mathsformer.selfsupervised_learning_addition_model_backend:   N510+8-N69+65-N8         N360        N360E         N360          X              0\n",
      "DEBUG:mathsformer.selfsupervised_learning_addition_model_backend:                N12          N12        N12EE          N12          X              0\n",
      "DEBUG:mathsformer.selfsupervised_learning_addition_model_backend:                  9            9        9EE2E            9          X              0\n",
      "DEBUG:mathsformer.selfsupervised_learning_addition_model_backend:               3930         3930        3930E         3930          X              0\n",
      "DEBUG:mathsformer.selfsupervised_learning_addition_model_backend:Running text --> text mathsformer inference on some validation data:\n",
      "DEBUG:mathsformer.selfsupervised_learning_addition_model_backend:--------------------------------------------------------------------------------\n",
      "DEBUG:mathsformer.selfsupervised_learning_addition_model_backend:          INPUT         TRUE   PRED(MASK)    PRED(GEN)      CORRECT     RESIDUAL\n",
      "DEBUG:mathsformer.selfsupervised_learning_addition_model_backend:--------------------------------------------------------------------------------\n",
      "DEBUG:mathsformer.selfsupervised_learning_addition_model_backend:      N5-14-516         N535        N535E         N535          X              0\n",
      "DEBUG:mathsformer.selfsupervised_learning_addition_model_backend:   566-N52-5117        N4499        N4500        N4500                        -1\n",
      "DEBUG:mathsformer.selfsupervised_learning_addition_model_backend:    N7+N3567-36        N3610        N3610        N3610          X              0\n",
      "DEBUG:mathsformer.selfsupervised_learning_addition_model_backend:       414+N2-2          410        410EE          410          X              0\n",
      "DEBUG:mathsformer.selfsupervised_learning_addition_model_backend:     N16-36+N31          N83        N82EE          N82                         1\n",
      "DEBUG:mathsformer.selfsupervised_learning_addition_model_backend:     2988+N54-6         2928        2928E         2928          X              0\n",
      "DEBUG:mathsformer.selfsupervised_learning_addition_model_backend:    N4036+N8+93        N3951        N3941        N3941                        10\n",
      "DEBUG:mathsformer.selfsupervised_learning_addition_model_backend: N302+N4928+N86        N5316        N5316        N5316          X              0\n",
      "DEBUG:mathsformer.selfsupervised_learning_addition_model_backend: 7339+N771+N948         5620        5610E         5610                       -10\n",
      "DEBUG:mathsformer.selfsupervised_learning_addition_model_backend:  N1012+N47+N85        N1144        N1144        N1144          X              0\n"
     ]
    },
    {
     "name": "stdout",
     "output_type": "stream",
     "text": [
      "2000/2000 [==============================] - 863s 432ms/step - loss: 0.8867 - mathsformer_LLM_output_loss: 0.3159 - mathsformer_LLM_output_1_loss: 0.2854 - mathsformer_LLM_output_2_loss: 0.2854 - mathsformer_LLM_output_masked_categorical_accuracy: 0.8721 - mathsformer_LLM_output_1_masked_categorical_accuracy: 0.8839 - mathsformer_LLM_output_2_masked_categorical_accuracy: 0.8844 - val_loss: 0.6401 - val_mathsformer_LLM_output_loss: 0.2108 - val_mathsformer_LLM_output_1_loss: 0.2078 - val_mathsformer_LLM_output_2_loss: 0.2215 - val_mathsformer_LLM_output_masked_categorical_accuracy: 0.9228 - val_mathsformer_LLM_output_1_masked_categorical_accuracy: 0.9224 - val_mathsformer_LLM_output_2_masked_categorical_accuracy: 0.9151\n",
      "Epoch 44/100000\n",
      "2000/2000 [==============================] - ETA: 0s - loss: 0.8560 - mathsformer_LLM_output_loss: 0.3068 - mathsformer_LLM_output_1_loss: 0.2755 - mathsformer_LLM_output_2_loss: 0.2737 - mathsformer_LLM_output_masked_categorical_accuracy: 0.8768 - mathsformer_LLM_output_1_masked_categorical_accuracy: 0.8899 - mathsformer_LLM_output_2_masked_categorical_accuracy: 0.8899"
     ]
    },
    {
     "name": "stderr",
     "output_type": "stream",
     "text": [
      "DEBUG:mathsformer.selfsupervised_learning_addition_model_backend:Training reached the end of epoch at index 43\n",
      "DEBUG:mathsformer.selfsupervised_learning_addition_model_backend:    with metric loss: 0.85604\n",
      "DEBUG:mathsformer.selfsupervised_learning_addition_model_backend:    with metric mathsformer_LLM_output_loss: 0.30682\n",
      "DEBUG:mathsformer.selfsupervised_learning_addition_model_backend:    with metric mathsformer_LLM_output_1_loss: 0.27555\n",
      "DEBUG:mathsformer.selfsupervised_learning_addition_model_backend:    with metric mathsformer_LLM_output_2_loss: 0.27368\n",
      "DEBUG:mathsformer.selfsupervised_learning_addition_model_backend:    with metric mathsformer_LLM_output_masked_categorical_accuracy: 0.87677\n",
      "DEBUG:mathsformer.selfsupervised_learning_addition_model_backend:    with metric mathsformer_LLM_output_1_masked_categorical_accuracy: 0.88987\n",
      "DEBUG:mathsformer.selfsupervised_learning_addition_model_backend:    with metric mathsformer_LLM_output_2_masked_categorical_accuracy: 0.88988\n",
      "DEBUG:mathsformer.selfsupervised_learning_addition_model_backend:    with metric val_loss: 0.47368\n",
      "DEBUG:mathsformer.selfsupervised_learning_addition_model_backend:    with metric val_mathsformer_LLM_output_loss: 0.16077\n",
      "DEBUG:mathsformer.selfsupervised_learning_addition_model_backend:    with metric val_mathsformer_LLM_output_1_loss: 0.1514\n",
      "DEBUG:mathsformer.selfsupervised_learning_addition_model_backend:    with metric val_mathsformer_LLM_output_2_loss: 0.16151\n",
      "DEBUG:mathsformer.selfsupervised_learning_addition_model_backend:    with metric val_mathsformer_LLM_output_masked_categorical_accuracy: 0.94639\n",
      "DEBUG:mathsformer.selfsupervised_learning_addition_model_backend:    with metric val_mathsformer_LLM_output_1_masked_categorical_accuracy: 0.94603\n",
      "DEBUG:mathsformer.selfsupervised_learning_addition_model_backend:    with metric val_mathsformer_LLM_output_2_masked_categorical_accuracy: 0.94105\n",
      "DEBUG:mathsformer.selfsupervised_learning_addition_model_backend:Running text --> text mathsformer inference on some training data:\n",
      "DEBUG:mathsformer.selfsupervised_learning_addition_model_backend:------------------------------------------------------------------------------------\n",
      "DEBUG:mathsformer.selfsupervised_learning_addition_model_backend:              INPUT         TRUE   PRED(MASK)    PRED(GEN)      CORRECT     RESIDUAL\n",
      "DEBUG:mathsformer.selfsupervised_learning_addition_model_backend:------------------------------------------------------------------------------------\n",
      "DEBUG:mathsformer.selfsupervised_learning_addition_model_backend:            76-N292          368        368EE          368          X              0\n",
      "DEBUG:mathsformer.selfsupervised_learning_addition_model_backend:            N4+N799         N803        N803E         N803          X              0\n",
      "DEBUG:mathsformer.selfsupervised_learning_addition_model_backend:              333+7          340        340EE          340          X              0\n",
      "DEBUG:mathsformer.selfsupervised_learning_addition_model_backend: N58+N2-N615-51+678         1182        1182E         1182          X              0\n",
      "DEBUG:mathsformer.selfsupervised_learning_addition_model_backend:      N1-148-N5+N30         N174        N174E         N174          X              0\n",
      "DEBUG:mathsformer.selfsupervised_learning_addition_model_backend:   8-N118+434+N1647        N1087        N1097        N1097                       -10\n",
      "DEBUG:mathsformer.selfsupervised_learning_addition_model_backend:   N510+8-N69+65-N8         N360        N360E         N360          X              0\n",
      "DEBUG:mathsformer.selfsupervised_learning_addition_model_backend:                N12          N12        N12EE          N12          X              0\n",
      "DEBUG:mathsformer.selfsupervised_learning_addition_model_backend:                  9            9        9EEEE            9          X              0\n",
      "DEBUG:mathsformer.selfsupervised_learning_addition_model_backend:               3930         3930        3930E         3930          X              0\n",
      "DEBUG:mathsformer.selfsupervised_learning_addition_model_backend:Running text --> text mathsformer inference on some validation data:\n",
      "DEBUG:mathsformer.selfsupervised_learning_addition_model_backend:--------------------------------------------------------------------------------\n",
      "DEBUG:mathsformer.selfsupervised_learning_addition_model_backend:          INPUT         TRUE   PRED(MASK)    PRED(GEN)      CORRECT     RESIDUAL\n",
      "DEBUG:mathsformer.selfsupervised_learning_addition_model_backend:--------------------------------------------------------------------------------\n",
      "DEBUG:mathsformer.selfsupervised_learning_addition_model_backend:      N5-14-516         N535        N535E         N535          X              0\n",
      "DEBUG:mathsformer.selfsupervised_learning_addition_model_backend:   566-N52-5117        N4499        N4599        N4599                      -100\n",
      "DEBUG:mathsformer.selfsupervised_learning_addition_model_backend:    N7+N3567-36        N3610        N3610        N3610          X              0\n",
      "DEBUG:mathsformer.selfsupervised_learning_addition_model_backend:       414+N2-2          410        410EE          410          X              0\n",
      "DEBUG:mathsformer.selfsupervised_learning_addition_model_backend:     N16-36+N31          N83        N83EE          N83          X              0\n",
      "DEBUG:mathsformer.selfsupervised_learning_addition_model_backend:     2988+N54-6         2928        2928E         2928          X              0\n",
      "DEBUG:mathsformer.selfsupervised_learning_addition_model_backend:    N4036+N8+93        N3951        N3951        N3951          X              0\n",
      "DEBUG:mathsformer.selfsupervised_learning_addition_model_backend: N302+N4928+N86        N5316        N5316        N5316          X              0\n",
      "DEBUG:mathsformer.selfsupervised_learning_addition_model_backend: 7339+N771+N948         5620        5620E         5620          X              0\n",
      "DEBUG:mathsformer.selfsupervised_learning_addition_model_backend:  N1012+N47+N85        N1144        N1144        N1144          X              0\n"
     ]
    },
    {
     "name": "stdout",
     "output_type": "stream",
     "text": [
      "2000/2000 [==============================] - 864s 432ms/step - loss: 0.8560 - mathsformer_LLM_output_loss: 0.3068 - mathsformer_LLM_output_1_loss: 0.2755 - mathsformer_LLM_output_2_loss: 0.2737 - mathsformer_LLM_output_masked_categorical_accuracy: 0.8768 - mathsformer_LLM_output_1_masked_categorical_accuracy: 0.8899 - mathsformer_LLM_output_2_masked_categorical_accuracy: 0.8899 - val_loss: 0.4737 - val_mathsformer_LLM_output_loss: 0.1608 - val_mathsformer_LLM_output_1_loss: 0.1514 - val_mathsformer_LLM_output_2_loss: 0.1615 - val_mathsformer_LLM_output_masked_categorical_accuracy: 0.9464 - val_mathsformer_LLM_output_1_masked_categorical_accuracy: 0.9460 - val_mathsformer_LLM_output_2_masked_categorical_accuracy: 0.9410\n",
      "Epoch 45/100000\n",
      "2000/2000 [==============================] - ETA: 0s - loss: 0.8686 - mathsformer_LLM_output_loss: 0.3112 - mathsformer_LLM_output_1_loss: 0.2797 - mathsformer_LLM_output_2_loss: 0.2777 - mathsformer_LLM_output_masked_categorical_accuracy: 0.8784 - mathsformer_LLM_output_1_masked_categorical_accuracy: 0.8908 - mathsformer_LLM_output_2_masked_categorical_accuracy: 0.8917"
     ]
    },
    {
     "name": "stderr",
     "output_type": "stream",
     "text": [
      "DEBUG:mathsformer.selfsupervised_learning_addition_model_backend:Training reached the end of epoch at index 44\n",
      "DEBUG:mathsformer.selfsupervised_learning_addition_model_backend:    with metric loss: 0.86858\n",
      "DEBUG:mathsformer.selfsupervised_learning_addition_model_backend:    with metric mathsformer_LLM_output_loss: 0.31123\n",
      "DEBUG:mathsformer.selfsupervised_learning_addition_model_backend:    with metric mathsformer_LLM_output_1_loss: 0.27969\n",
      "DEBUG:mathsformer.selfsupervised_learning_addition_model_backend:    with metric mathsformer_LLM_output_2_loss: 0.27766\n",
      "DEBUG:mathsformer.selfsupervised_learning_addition_model_backend:    with metric mathsformer_LLM_output_masked_categorical_accuracy: 0.87838\n",
      "DEBUG:mathsformer.selfsupervised_learning_addition_model_backend:    with metric mathsformer_LLM_output_1_masked_categorical_accuracy: 0.89078\n",
      "DEBUG:mathsformer.selfsupervised_learning_addition_model_backend:    with metric mathsformer_LLM_output_2_masked_categorical_accuracy: 0.89172\n",
      "DEBUG:mathsformer.selfsupervised_learning_addition_model_backend:    with metric val_loss: 0.61217\n",
      "DEBUG:mathsformer.selfsupervised_learning_addition_model_backend:    with metric val_mathsformer_LLM_output_loss: 0.20959\n",
      "DEBUG:mathsformer.selfsupervised_learning_addition_model_backend:    with metric val_mathsformer_LLM_output_1_loss: 0.19585\n",
      "DEBUG:mathsformer.selfsupervised_learning_addition_model_backend:    with metric val_mathsformer_LLM_output_2_loss: 0.20673\n",
      "DEBUG:mathsformer.selfsupervised_learning_addition_model_backend:    with metric val_mathsformer_LLM_output_masked_categorical_accuracy: 0.92301\n",
      "DEBUG:mathsformer.selfsupervised_learning_addition_model_backend:    with metric val_mathsformer_LLM_output_1_masked_categorical_accuracy: 0.92617\n",
      "DEBUG:mathsformer.selfsupervised_learning_addition_model_backend:    with metric val_mathsformer_LLM_output_2_masked_categorical_accuracy: 0.91821\n",
      "DEBUG:mathsformer.selfsupervised_learning_addition_model_backend:Running text --> text mathsformer inference on some training data:\n",
      "DEBUG:mathsformer.selfsupervised_learning_addition_model_backend:------------------------------------------------------------------------------------\n",
      "DEBUG:mathsformer.selfsupervised_learning_addition_model_backend:              INPUT         TRUE   PRED(MASK)    PRED(GEN)      CORRECT     RESIDUAL\n",
      "DEBUG:mathsformer.selfsupervised_learning_addition_model_backend:------------------------------------------------------------------------------------\n",
      "DEBUG:mathsformer.selfsupervised_learning_addition_model_backend:            76-N292          368        368EE          368          X              0\n",
      "DEBUG:mathsformer.selfsupervised_learning_addition_model_backend:            N4+N799         N803        N803E         N803          X              0\n",
      "DEBUG:mathsformer.selfsupervised_learning_addition_model_backend:              333+7          340        340EE          340          X              0\n",
      "DEBUG:mathsformer.selfsupervised_learning_addition_model_backend: N58+N2-N615-51+678         1182        1172E         1172                       -10\n",
      "DEBUG:mathsformer.selfsupervised_learning_addition_model_backend:      N1-148-N5+N30         N174        N174E         N174          X              0\n",
      "DEBUG:mathsformer.selfsupervised_learning_addition_model_backend:   8-N118+434+N1647        N1087        N1087        N1087          X              0\n",
      "DEBUG:mathsformer.selfsupervised_learning_addition_model_backend:   N510+8-N69+65-N8         N360        N369E         N369                        -9\n",
      "DEBUG:mathsformer.selfsupervised_learning_addition_model_backend:                N12          N12        N12EE          N12          X              0\n",
      "DEBUG:mathsformer.selfsupervised_learning_addition_model_backend:                  9            9        9EE5E            9          X              0\n",
      "DEBUG:mathsformer.selfsupervised_learning_addition_model_backend:               3930         3930        3930E         3930          X              0\n",
      "DEBUG:mathsformer.selfsupervised_learning_addition_model_backend:Running text --> text mathsformer inference on some validation data:\n",
      "DEBUG:mathsformer.selfsupervised_learning_addition_model_backend:--------------------------------------------------------------------------------\n",
      "DEBUG:mathsformer.selfsupervised_learning_addition_model_backend:          INPUT         TRUE   PRED(MASK)    PRED(GEN)      CORRECT     RESIDUAL\n",
      "DEBUG:mathsformer.selfsupervised_learning_addition_model_backend:--------------------------------------------------------------------------------\n",
      "DEBUG:mathsformer.selfsupervised_learning_addition_model_backend:      N5-14-516         N535        N535E         N535          X              0\n",
      "DEBUG:mathsformer.selfsupervised_learning_addition_model_backend:   566-N52-5117        N4499        N4499        N4499          X              0\n",
      "DEBUG:mathsformer.selfsupervised_learning_addition_model_backend:    N7+N3567-36        N3610        N3610        N3610          X              0\n",
      "DEBUG:mathsformer.selfsupervised_learning_addition_model_backend:       414+N2-2          410        410EE          410          X              0\n",
      "DEBUG:mathsformer.selfsupervised_learning_addition_model_backend:     N16-36+N31          N83        N93EE          N93                       -10\n",
      "DEBUG:mathsformer.selfsupervised_learning_addition_model_backend:     2988+N54-6         2928        2928E         2928          X              0\n",
      "DEBUG:mathsformer.selfsupervised_learning_addition_model_backend:    N4036+N8+93        N3951        N3951        N3951          X              0\n",
      "DEBUG:mathsformer.selfsupervised_learning_addition_model_backend: N302+N4928+N86        N5316        N5316        N5316          X              0\n",
      "DEBUG:mathsformer.selfsupervised_learning_addition_model_backend: 7339+N771+N948         5620        5620E         5620          X              0\n",
      "DEBUG:mathsformer.selfsupervised_learning_addition_model_backend:  N1012+N47+N85        N1144        N1144        N1144          X              0\n"
     ]
    },
    {
     "name": "stdout",
     "output_type": "stream",
     "text": [
      "2000/2000 [==============================] - 863s 432ms/step - loss: 0.8686 - mathsformer_LLM_output_loss: 0.3112 - mathsformer_LLM_output_1_loss: 0.2797 - mathsformer_LLM_output_2_loss: 0.2777 - mathsformer_LLM_output_masked_categorical_accuracy: 0.8784 - mathsformer_LLM_output_1_masked_categorical_accuracy: 0.8908 - mathsformer_LLM_output_2_masked_categorical_accuracy: 0.8917 - val_loss: 0.6122 - val_mathsformer_LLM_output_loss: 0.2096 - val_mathsformer_LLM_output_1_loss: 0.1959 - val_mathsformer_LLM_output_2_loss: 0.2067 - val_mathsformer_LLM_output_masked_categorical_accuracy: 0.9230 - val_mathsformer_LLM_output_1_masked_categorical_accuracy: 0.9262 - val_mathsformer_LLM_output_2_masked_categorical_accuracy: 0.9182\n",
      "Epoch 46/100000\n",
      "2000/2000 [==============================] - ETA: 0s - loss: 0.7546 - mathsformer_LLM_output_loss: 0.2724 - mathsformer_LLM_output_1_loss: 0.2417 - mathsformer_LLM_output_2_loss: 0.2404 - mathsformer_LLM_output_masked_categorical_accuracy: 0.8911 - mathsformer_LLM_output_1_masked_categorical_accuracy: 0.9032 - mathsformer_LLM_output_2_masked_categorical_accuracy: 0.9039"
     ]
    },
    {
     "name": "stderr",
     "output_type": "stream",
     "text": [
      "DEBUG:mathsformer.selfsupervised_learning_addition_model_backend:Training reached the end of epoch at index 45\n",
      "DEBUG:mathsformer.selfsupervised_learning_addition_model_backend:    with metric loss: 0.7546\n",
      "DEBUG:mathsformer.selfsupervised_learning_addition_model_backend:    with metric mathsformer_LLM_output_loss: 0.27244\n",
      "DEBUG:mathsformer.selfsupervised_learning_addition_model_backend:    with metric mathsformer_LLM_output_1_loss: 0.24173\n",
      "DEBUG:mathsformer.selfsupervised_learning_addition_model_backend:    with metric mathsformer_LLM_output_2_loss: 0.24043\n",
      "DEBUG:mathsformer.selfsupervised_learning_addition_model_backend:    with metric mathsformer_LLM_output_masked_categorical_accuracy: 0.89109\n",
      "DEBUG:mathsformer.selfsupervised_learning_addition_model_backend:    with metric mathsformer_LLM_output_1_masked_categorical_accuracy: 0.90318\n",
      "DEBUG:mathsformer.selfsupervised_learning_addition_model_backend:    with metric mathsformer_LLM_output_2_masked_categorical_accuracy: 0.9039\n",
      "DEBUG:mathsformer.selfsupervised_learning_addition_model_backend:    with metric val_loss: 0.46001\n",
      "DEBUG:mathsformer.selfsupervised_learning_addition_model_backend:    with metric val_mathsformer_LLM_output_loss: 0.16322\n",
      "DEBUG:mathsformer.selfsupervised_learning_addition_model_backend:    with metric val_mathsformer_LLM_output_1_loss: 0.14401\n",
      "DEBUG:mathsformer.selfsupervised_learning_addition_model_backend:    with metric val_mathsformer_LLM_output_2_loss: 0.15278\n",
      "DEBUG:mathsformer.selfsupervised_learning_addition_model_backend:    with metric val_mathsformer_LLM_output_masked_categorical_accuracy: 0.94188\n",
      "DEBUG:mathsformer.selfsupervised_learning_addition_model_backend:    with metric val_mathsformer_LLM_output_1_masked_categorical_accuracy: 0.9485\n",
      "DEBUG:mathsformer.selfsupervised_learning_addition_model_backend:    with metric val_mathsformer_LLM_output_2_masked_categorical_accuracy: 0.93996\n",
      "DEBUG:mathsformer.selfsupervised_learning_addition_model_backend:Running text --> text mathsformer inference on some training data:\n",
      "DEBUG:mathsformer.selfsupervised_learning_addition_model_backend:------------------------------------------------------------------------------------\n",
      "DEBUG:mathsformer.selfsupervised_learning_addition_model_backend:              INPUT         TRUE   PRED(MASK)    PRED(GEN)      CORRECT     RESIDUAL\n",
      "DEBUG:mathsformer.selfsupervised_learning_addition_model_backend:------------------------------------------------------------------------------------\n",
      "DEBUG:mathsformer.selfsupervised_learning_addition_model_backend:            76-N292          368        368EE          368          X              0\n",
      "DEBUG:mathsformer.selfsupervised_learning_addition_model_backend:            N4+N799         N803        N803E         N803          X              0\n",
      "DEBUG:mathsformer.selfsupervised_learning_addition_model_backend:              333+7          340        340EE          340          X              0\n",
      "DEBUG:mathsformer.selfsupervised_learning_addition_model_backend: N58+N2-N615-51+678         1182        1192E         1192                        10\n",
      "DEBUG:mathsformer.selfsupervised_learning_addition_model_backend:      N1-148-N5+N30         N174        N174E         N174          X              0\n",
      "DEBUG:mathsformer.selfsupervised_learning_addition_model_backend:   8-N118+434+N1647        N1087        N1097        N1097                       -10\n",
      "DEBUG:mathsformer.selfsupervised_learning_addition_model_backend:   N510+8-N69+65-N8         N360        N369E         N369                        -9\n",
      "DEBUG:mathsformer.selfsupervised_learning_addition_model_backend:                N12          N12        N12EE          N12          X              0\n",
      "DEBUG:mathsformer.selfsupervised_learning_addition_model_backend:                  9            9        9EEEE            9          X              0\n",
      "DEBUG:mathsformer.selfsupervised_learning_addition_model_backend:               3930         3930        3930E         3930          X              0\n",
      "DEBUG:mathsformer.selfsupervised_learning_addition_model_backend:Running text --> text mathsformer inference on some validation data:\n",
      "DEBUG:mathsformer.selfsupervised_learning_addition_model_backend:--------------------------------------------------------------------------------\n",
      "DEBUG:mathsformer.selfsupervised_learning_addition_model_backend:          INPUT         TRUE   PRED(MASK)    PRED(GEN)      CORRECT     RESIDUAL\n",
      "DEBUG:mathsformer.selfsupervised_learning_addition_model_backend:--------------------------------------------------------------------------------\n",
      "DEBUG:mathsformer.selfsupervised_learning_addition_model_backend:      N5-14-516         N535        N535E         N535          X              0\n",
      "DEBUG:mathsformer.selfsupervised_learning_addition_model_backend:   566-N52-5117        N4499        N4599        N4599                      -100\n",
      "DEBUG:mathsformer.selfsupervised_learning_addition_model_backend:    N7+N3567-36        N3610        N3610        N3610          X              0\n",
      "DEBUG:mathsformer.selfsupervised_learning_addition_model_backend:       414+N2-2          410        411EE          411                         1\n",
      "DEBUG:mathsformer.selfsupervised_learning_addition_model_backend:     N16-36+N31          N83        N83EE          N83          X              0\n",
      "DEBUG:mathsformer.selfsupervised_learning_addition_model_backend:     2988+N54-6         2928        2928E         2928          X              0\n",
      "DEBUG:mathsformer.selfsupervised_learning_addition_model_backend:    N4036+N8+93        N3951        N3941        N3941                        10\n",
      "DEBUG:mathsformer.selfsupervised_learning_addition_model_backend: N302+N4928+N86        N5316        N5316        N5316          X              0\n",
      "DEBUG:mathsformer.selfsupervised_learning_addition_model_backend: 7339+N771+N948         5620        5610E         5610                       -10\n",
      "DEBUG:mathsformer.selfsupervised_learning_addition_model_backend:  N1012+N47+N85        N1144        N1144        N1144          X              0\n"
     ]
    },
    {
     "name": "stdout",
     "output_type": "stream",
     "text": [
      "2000/2000 [==============================] - 866s 433ms/step - loss: 0.7546 - mathsformer_LLM_output_loss: 0.2724 - mathsformer_LLM_output_1_loss: 0.2417 - mathsformer_LLM_output_2_loss: 0.2404 - mathsformer_LLM_output_masked_categorical_accuracy: 0.8911 - mathsformer_LLM_output_1_masked_categorical_accuracy: 0.9032 - mathsformer_LLM_output_2_masked_categorical_accuracy: 0.9039 - val_loss: 0.4600 - val_mathsformer_LLM_output_loss: 0.1632 - val_mathsformer_LLM_output_1_loss: 0.1440 - val_mathsformer_LLM_output_2_loss: 0.1528 - val_mathsformer_LLM_output_masked_categorical_accuracy: 0.9419 - val_mathsformer_LLM_output_1_masked_categorical_accuracy: 0.9485 - val_mathsformer_LLM_output_2_masked_categorical_accuracy: 0.9400\n",
      "Epoch 47/100000\n",
      "2000/2000 [==============================] - ETA: 0s - loss: 0.7247 - mathsformer_LLM_output_loss: 0.2634 - mathsformer_LLM_output_1_loss: 0.2321 - mathsformer_LLM_output_2_loss: 0.2293 - mathsformer_LLM_output_masked_categorical_accuracy: 0.8946 - mathsformer_LLM_output_1_masked_categorical_accuracy: 0.9075 - mathsformer_LLM_output_2_masked_categorical_accuracy: 0.9085"
     ]
    },
    {
     "name": "stderr",
     "output_type": "stream",
     "text": [
      "DEBUG:mathsformer.selfsupervised_learning_addition_model_backend:Training reached the end of epoch at index 46\n",
      "DEBUG:mathsformer.selfsupervised_learning_addition_model_backend:    with metric loss: 0.72468\n",
      "DEBUG:mathsformer.selfsupervised_learning_addition_model_backend:    with metric mathsformer_LLM_output_loss: 0.26335\n",
      "DEBUG:mathsformer.selfsupervised_learning_addition_model_backend:    with metric mathsformer_LLM_output_1_loss: 0.23208\n",
      "DEBUG:mathsformer.selfsupervised_learning_addition_model_backend:    with metric mathsformer_LLM_output_2_loss: 0.22926\n",
      "DEBUG:mathsformer.selfsupervised_learning_addition_model_backend:    with metric mathsformer_LLM_output_masked_categorical_accuracy: 0.89455\n",
      "DEBUG:mathsformer.selfsupervised_learning_addition_model_backend:    with metric mathsformer_LLM_output_1_masked_categorical_accuracy: 0.90754\n",
      "DEBUG:mathsformer.selfsupervised_learning_addition_model_backend:    with metric mathsformer_LLM_output_2_masked_categorical_accuracy: 0.90853\n",
      "DEBUG:mathsformer.selfsupervised_learning_addition_model_backend:    with metric val_loss: 0.38132\n",
      "DEBUG:mathsformer.selfsupervised_learning_addition_model_backend:    with metric val_mathsformer_LLM_output_loss: 0.13724\n",
      "DEBUG:mathsformer.selfsupervised_learning_addition_model_backend:    with metric val_mathsformer_LLM_output_1_loss: 0.12177\n",
      "DEBUG:mathsformer.selfsupervised_learning_addition_model_backend:    with metric val_mathsformer_LLM_output_2_loss: 0.12231\n",
      "DEBUG:mathsformer.selfsupervised_learning_addition_model_backend:    with metric val_mathsformer_LLM_output_masked_categorical_accuracy: 0.95096\n",
      "DEBUG:mathsformer.selfsupervised_learning_addition_model_backend:    with metric val_mathsformer_LLM_output_1_masked_categorical_accuracy: 0.95437\n",
      "DEBUG:mathsformer.selfsupervised_learning_addition_model_backend:    with metric val_mathsformer_LLM_output_2_masked_categorical_accuracy: 0.95564\n",
      "DEBUG:mathsformer.selfsupervised_learning_addition_model_backend:Running text --> text mathsformer inference on some training data:\n",
      "DEBUG:mathsformer.selfsupervised_learning_addition_model_backend:------------------------------------------------------------------------------------\n",
      "DEBUG:mathsformer.selfsupervised_learning_addition_model_backend:              INPUT         TRUE   PRED(MASK)    PRED(GEN)      CORRECT     RESIDUAL\n",
      "DEBUG:mathsformer.selfsupervised_learning_addition_model_backend:------------------------------------------------------------------------------------\n",
      "DEBUG:mathsformer.selfsupervised_learning_addition_model_backend:            76-N292          368        368EE          368          X              0\n",
      "DEBUG:mathsformer.selfsupervised_learning_addition_model_backend:            N4+N799         N803        N803E         N803          X              0\n",
      "DEBUG:mathsformer.selfsupervised_learning_addition_model_backend:              333+7          340        340EE          340          X              0\n",
      "DEBUG:mathsformer.selfsupervised_learning_addition_model_backend: N58+N2-N615-51+678         1182        1182E         1182          X              0\n",
      "DEBUG:mathsformer.selfsupervised_learning_addition_model_backend:      N1-148-N5+N30         N174        N174E         N174          X              0\n",
      "DEBUG:mathsformer.selfsupervised_learning_addition_model_backend:   8-N118+434+N1647        N1087        N1087        N1087          X              0\n",
      "DEBUG:mathsformer.selfsupervised_learning_addition_model_backend:   N510+8-N69+65-N8         N360        N360E         N360          X              0\n",
      "DEBUG:mathsformer.selfsupervised_learning_addition_model_backend:                N12          N12        N12EE          N12          X              0\n",
      "DEBUG:mathsformer.selfsupervised_learning_addition_model_backend:                  9            9        9EEEE            9          X              0\n",
      "DEBUG:mathsformer.selfsupervised_learning_addition_model_backend:               3930         3930        3930E         3930          X              0\n",
      "DEBUG:mathsformer.selfsupervised_learning_addition_model_backend:Running text --> text mathsformer inference on some validation data:\n",
      "DEBUG:mathsformer.selfsupervised_learning_addition_model_backend:--------------------------------------------------------------------------------\n",
      "DEBUG:mathsformer.selfsupervised_learning_addition_model_backend:          INPUT         TRUE   PRED(MASK)    PRED(GEN)      CORRECT     RESIDUAL\n",
      "DEBUG:mathsformer.selfsupervised_learning_addition_model_backend:--------------------------------------------------------------------------------\n",
      "DEBUG:mathsformer.selfsupervised_learning_addition_model_backend:      N5-14-516         N535        N535E         N535          X              0\n",
      "DEBUG:mathsformer.selfsupervised_learning_addition_model_backend:   566-N52-5117        N4499        N4599        N4599                      -100\n",
      "DEBUG:mathsformer.selfsupervised_learning_addition_model_backend:    N7+N3567-36        N3610        N3610        N3610          X              0\n",
      "DEBUG:mathsformer.selfsupervised_learning_addition_model_backend:       414+N2-2          410        411EE          411                         1\n",
      "DEBUG:mathsformer.selfsupervised_learning_addition_model_backend:     N16-36+N31          N83        N83EE          N83          X              0\n",
      "DEBUG:mathsformer.selfsupervised_learning_addition_model_backend:     2988+N54-6         2928        2928E         2928          X              0\n",
      "DEBUG:mathsformer.selfsupervised_learning_addition_model_backend:    N4036+N8+93        N3951        N3951        N3951          X              0\n",
      "DEBUG:mathsformer.selfsupervised_learning_addition_model_backend: N302+N4928+N86        N5316        N5316        N5316          X              0\n",
      "DEBUG:mathsformer.selfsupervised_learning_addition_model_backend: 7339+N771+N948         5620        5610E         5610                       -10\n",
      "DEBUG:mathsformer.selfsupervised_learning_addition_model_backend:  N1012+N47+N85        N1144        N1144        N1144          X              0\n"
     ]
    },
    {
     "name": "stdout",
     "output_type": "stream",
     "text": [
      "2000/2000 [==============================] - 861s 430ms/step - loss: 0.7247 - mathsformer_LLM_output_loss: 0.2634 - mathsformer_LLM_output_1_loss: 0.2321 - mathsformer_LLM_output_2_loss: 0.2293 - mathsformer_LLM_output_masked_categorical_accuracy: 0.8946 - mathsformer_LLM_output_1_masked_categorical_accuracy: 0.9075 - mathsformer_LLM_output_2_masked_categorical_accuracy: 0.9085 - val_loss: 0.3813 - val_mathsformer_LLM_output_loss: 0.1372 - val_mathsformer_LLM_output_1_loss: 0.1218 - val_mathsformer_LLM_output_2_loss: 0.1223 - val_mathsformer_LLM_output_masked_categorical_accuracy: 0.9510 - val_mathsformer_LLM_output_1_masked_categorical_accuracy: 0.9544 - val_mathsformer_LLM_output_2_masked_categorical_accuracy: 0.9556\n",
      "Epoch 48/100000\n",
      "2000/2000 [==============================] - ETA: 0s - loss: 0.6907 - mathsformer_LLM_output_loss: 0.2505 - mathsformer_LLM_output_1_loss: 0.2213 - mathsformer_LLM_output_2_loss: 0.2190 - mathsformer_LLM_output_masked_categorical_accuracy: 0.9000 - mathsformer_LLM_output_1_masked_categorical_accuracy: 0.9123 - mathsformer_LLM_output_2_masked_categorical_accuracy: 0.9141"
     ]
    },
    {
     "name": "stderr",
     "output_type": "stream",
     "text": [
      "DEBUG:mathsformer.selfsupervised_learning_addition_model_backend:Training reached the end of epoch at index 47\n",
      "DEBUG:mathsformer.selfsupervised_learning_addition_model_backend:    with metric loss: 0.69073\n",
      "DEBUG:mathsformer.selfsupervised_learning_addition_model_backend:    with metric mathsformer_LLM_output_loss: 0.25047\n",
      "DEBUG:mathsformer.selfsupervised_learning_addition_model_backend:    with metric mathsformer_LLM_output_1_loss: 0.22129\n",
      "DEBUG:mathsformer.selfsupervised_learning_addition_model_backend:    with metric mathsformer_LLM_output_2_loss: 0.21898\n",
      "DEBUG:mathsformer.selfsupervised_learning_addition_model_backend:    with metric mathsformer_LLM_output_masked_categorical_accuracy: 0.89997\n",
      "DEBUG:mathsformer.selfsupervised_learning_addition_model_backend:    with metric mathsformer_LLM_output_1_masked_categorical_accuracy: 0.91233\n",
      "DEBUG:mathsformer.selfsupervised_learning_addition_model_backend:    with metric mathsformer_LLM_output_2_masked_categorical_accuracy: 0.91411\n",
      "DEBUG:mathsformer.selfsupervised_learning_addition_model_backend:    with metric val_loss: 0.44285\n",
      "DEBUG:mathsformer.selfsupervised_learning_addition_model_backend:    with metric val_mathsformer_LLM_output_loss: 0.16607\n",
      "DEBUG:mathsformer.selfsupervised_learning_addition_model_backend:    with metric val_mathsformer_LLM_output_1_loss: 0.14126\n",
      "DEBUG:mathsformer.selfsupervised_learning_addition_model_backend:    with metric val_mathsformer_LLM_output_2_loss: 0.13552\n",
      "DEBUG:mathsformer.selfsupervised_learning_addition_model_backend:    with metric val_mathsformer_LLM_output_masked_categorical_accuracy: 0.94445\n",
      "DEBUG:mathsformer.selfsupervised_learning_addition_model_backend:    with metric val_mathsformer_LLM_output_1_masked_categorical_accuracy: 0.95055\n",
      "DEBUG:mathsformer.selfsupervised_learning_addition_model_backend:    with metric val_mathsformer_LLM_output_2_masked_categorical_accuracy: 0.95375\n",
      "DEBUG:mathsformer.selfsupervised_learning_addition_model_backend:Running text --> text mathsformer inference on some training data:\n",
      "DEBUG:mathsformer.selfsupervised_learning_addition_model_backend:------------------------------------------------------------------------------------\n",
      "DEBUG:mathsformer.selfsupervised_learning_addition_model_backend:              INPUT         TRUE   PRED(MASK)    PRED(GEN)      CORRECT     RESIDUAL\n",
      "DEBUG:mathsformer.selfsupervised_learning_addition_model_backend:------------------------------------------------------------------------------------\n",
      "DEBUG:mathsformer.selfsupervised_learning_addition_model_backend:            76-N292          368        368EE          368          X              0\n",
      "DEBUG:mathsformer.selfsupervised_learning_addition_model_backend:            N4+N799         N803        N803E         N803          X              0\n",
      "DEBUG:mathsformer.selfsupervised_learning_addition_model_backend:              333+7          340        340EE          340          X              0\n",
      "DEBUG:mathsformer.selfsupervised_learning_addition_model_backend: N58+N2-N615-51+678         1182        1183E         1183                         1\n",
      "DEBUG:mathsformer.selfsupervised_learning_addition_model_backend:      N1-148-N5+N30         N174        N174E         N174          X              0\n",
      "DEBUG:mathsformer.selfsupervised_learning_addition_model_backend:   8-N118+434+N1647        N1087        N1087        N1087          X              0\n",
      "DEBUG:mathsformer.selfsupervised_learning_addition_model_backend:   N510+8-N69+65-N8         N360        N360E         N360          X              0\n",
      "DEBUG:mathsformer.selfsupervised_learning_addition_model_backend:                N12          N12        N12EE          N12          X              0\n",
      "DEBUG:mathsformer.selfsupervised_learning_addition_model_backend:                  9            9        9EE0E            9          X              0\n",
      "DEBUG:mathsformer.selfsupervised_learning_addition_model_backend:               3930         3930        3930E         3930          X              0\n",
      "DEBUG:mathsformer.selfsupervised_learning_addition_model_backend:Running text --> text mathsformer inference on some validation data:\n",
      "DEBUG:mathsformer.selfsupervised_learning_addition_model_backend:--------------------------------------------------------------------------------\n",
      "DEBUG:mathsformer.selfsupervised_learning_addition_model_backend:          INPUT         TRUE   PRED(MASK)    PRED(GEN)      CORRECT     RESIDUAL\n",
      "DEBUG:mathsformer.selfsupervised_learning_addition_model_backend:--------------------------------------------------------------------------------\n",
      "DEBUG:mathsformer.selfsupervised_learning_addition_model_backend:      N5-14-516         N535        N535E         N535          X              0\n",
      "DEBUG:mathsformer.selfsupervised_learning_addition_model_backend:   566-N52-5117        N4499        N4599        N4599                      -100\n",
      "DEBUG:mathsformer.selfsupervised_learning_addition_model_backend:    N7+N3567-36        N3610        N3610        N3610          X              0\n",
      "DEBUG:mathsformer.selfsupervised_learning_addition_model_backend:       414+N2-2          410        411EE          411                         1\n",
      "DEBUG:mathsformer.selfsupervised_learning_addition_model_backend:     N16-36+N31          N83        N82EE          N82                         1\n",
      "DEBUG:mathsformer.selfsupervised_learning_addition_model_backend:     2988+N54-6         2928        2928E         2928          X              0\n",
      "DEBUG:mathsformer.selfsupervised_learning_addition_model_backend:    N4036+N8+93        N3951        N3951        N3951          X              0\n",
      "DEBUG:mathsformer.selfsupervised_learning_addition_model_backend: N302+N4928+N86        N5316        N5316        N5316          X              0\n",
      "DEBUG:mathsformer.selfsupervised_learning_addition_model_backend: 7339+N771+N948         5620        5610E         5610                       -10\n",
      "DEBUG:mathsformer.selfsupervised_learning_addition_model_backend:  N1012+N47+N85        N1144        N1144        N1144          X              0\n"
     ]
    },
    {
     "name": "stdout",
     "output_type": "stream",
     "text": [
      "2000/2000 [==============================] - 861s 431ms/step - loss: 0.6907 - mathsformer_LLM_output_loss: 0.2505 - mathsformer_LLM_output_1_loss: 0.2213 - mathsformer_LLM_output_2_loss: 0.2190 - mathsformer_LLM_output_masked_categorical_accuracy: 0.9000 - mathsformer_LLM_output_1_masked_categorical_accuracy: 0.9123 - mathsformer_LLM_output_2_masked_categorical_accuracy: 0.9141 - val_loss: 0.4429 - val_mathsformer_LLM_output_loss: 0.1661 - val_mathsformer_LLM_output_1_loss: 0.1413 - val_mathsformer_LLM_output_2_loss: 0.1355 - val_mathsformer_LLM_output_masked_categorical_accuracy: 0.9444 - val_mathsformer_LLM_output_1_masked_categorical_accuracy: 0.9506 - val_mathsformer_LLM_output_2_masked_categorical_accuracy: 0.9538\n",
      "Epoch 49/100000\n",
      "2000/2000 [==============================] - ETA: 0s - loss: 0.6626 - mathsformer_LLM_output_loss: 0.2405 - mathsformer_LLM_output_1_loss: 0.2120 - mathsformer_LLM_output_2_loss: 0.2101 - mathsformer_LLM_output_masked_categorical_accuracy: 0.9040 - mathsformer_LLM_output_1_masked_categorical_accuracy: 0.9158 - mathsformer_LLM_output_2_masked_categorical_accuracy: 0.9171"
     ]
    },
    {
     "name": "stderr",
     "output_type": "stream",
     "text": [
      "DEBUG:mathsformer.selfsupervised_learning_addition_model_backend:Training reached the end of epoch at index 48\n",
      "DEBUG:mathsformer.selfsupervised_learning_addition_model_backend:    with metric loss: 0.66257\n",
      "DEBUG:mathsformer.selfsupervised_learning_addition_model_backend:    with metric mathsformer_LLM_output_loss: 0.24051\n",
      "DEBUG:mathsformer.selfsupervised_learning_addition_model_backend:    with metric mathsformer_LLM_output_1_loss: 0.21198\n",
      "DEBUG:mathsformer.selfsupervised_learning_addition_model_backend:    with metric mathsformer_LLM_output_2_loss: 0.21008\n",
      "DEBUG:mathsformer.selfsupervised_learning_addition_model_backend:    with metric mathsformer_LLM_output_masked_categorical_accuracy: 0.90397\n",
      "DEBUG:mathsformer.selfsupervised_learning_addition_model_backend:    with metric mathsformer_LLM_output_1_masked_categorical_accuracy: 0.91582\n",
      "DEBUG:mathsformer.selfsupervised_learning_addition_model_backend:    with metric mathsformer_LLM_output_2_masked_categorical_accuracy: 0.91712\n",
      "DEBUG:mathsformer.selfsupervised_learning_addition_model_backend:    with metric val_loss: 0.37631\n",
      "DEBUG:mathsformer.selfsupervised_learning_addition_model_backend:    with metric val_mathsformer_LLM_output_loss: 0.12303\n",
      "DEBUG:mathsformer.selfsupervised_learning_addition_model_backend:    with metric val_mathsformer_LLM_output_1_loss: 0.11836\n",
      "DEBUG:mathsformer.selfsupervised_learning_addition_model_backend:    with metric val_mathsformer_LLM_output_2_loss: 0.13491\n",
      "DEBUG:mathsformer.selfsupervised_learning_addition_model_backend:    with metric val_mathsformer_LLM_output_masked_categorical_accuracy: 0.95683\n",
      "DEBUG:mathsformer.selfsupervised_learning_addition_model_backend:    with metric val_mathsformer_LLM_output_1_masked_categorical_accuracy: 0.9561\n",
      "DEBUG:mathsformer.selfsupervised_learning_addition_model_backend:    with metric val_mathsformer_LLM_output_2_masked_categorical_accuracy: 0.94791\n",
      "DEBUG:mathsformer.selfsupervised_learning_addition_model_backend:Running text --> text mathsformer inference on some training data:\n",
      "DEBUG:mathsformer.selfsupervised_learning_addition_model_backend:------------------------------------------------------------------------------------\n",
      "DEBUG:mathsformer.selfsupervised_learning_addition_model_backend:              INPUT         TRUE   PRED(MASK)    PRED(GEN)      CORRECT     RESIDUAL\n",
      "DEBUG:mathsformer.selfsupervised_learning_addition_model_backend:------------------------------------------------------------------------------------\n",
      "DEBUG:mathsformer.selfsupervised_learning_addition_model_backend:            76-N292          368        368EE          368          X              0\n",
      "DEBUG:mathsformer.selfsupervised_learning_addition_model_backend:            N4+N799         N803        N803E         N803          X              0\n",
      "DEBUG:mathsformer.selfsupervised_learning_addition_model_backend:              333+7          340        340EE          340          X              0\n",
      "DEBUG:mathsformer.selfsupervised_learning_addition_model_backend: N58+N2-N615-51+678         1182        1172E         1172                       -10\n",
      "DEBUG:mathsformer.selfsupervised_learning_addition_model_backend:      N1-148-N5+N30         N174        N174E         N174          X              0\n",
      "DEBUG:mathsformer.selfsupervised_learning_addition_model_backend:   8-N118+434+N1647        N1087        N1087        N1087          X              0\n",
      "DEBUG:mathsformer.selfsupervised_learning_addition_model_backend:   N510+8-N69+65-N8         N360        N360E         N360          X              0\n",
      "DEBUG:mathsformer.selfsupervised_learning_addition_model_backend:                N12          N12        N12EE          N12          X              0\n",
      "DEBUG:mathsformer.selfsupervised_learning_addition_model_backend:                  9            9        9EEEE            9          X              0\n",
      "DEBUG:mathsformer.selfsupervised_learning_addition_model_backend:               3930         3930        3930E         3930          X              0\n",
      "DEBUG:mathsformer.selfsupervised_learning_addition_model_backend:Running text --> text mathsformer inference on some validation data:\n",
      "DEBUG:mathsformer.selfsupervised_learning_addition_model_backend:--------------------------------------------------------------------------------\n",
      "DEBUG:mathsformer.selfsupervised_learning_addition_model_backend:          INPUT         TRUE   PRED(MASK)    PRED(GEN)      CORRECT     RESIDUAL\n",
      "DEBUG:mathsformer.selfsupervised_learning_addition_model_backend:--------------------------------------------------------------------------------\n",
      "DEBUG:mathsformer.selfsupervised_learning_addition_model_backend:      N5-14-516         N535        N536E         N536                        -1\n",
      "DEBUG:mathsformer.selfsupervised_learning_addition_model_backend:   566-N52-5117        N4499        N4599        N4599                      -100\n",
      "DEBUG:mathsformer.selfsupervised_learning_addition_model_backend:    N7+N3567-36        N3610        N3610        N3610          X              0\n",
      "DEBUG:mathsformer.selfsupervised_learning_addition_model_backend:       414+N2-2          410        410EE          410          X              0\n",
      "DEBUG:mathsformer.selfsupervised_learning_addition_model_backend:     N16-36+N31          N83        N83EE          N83          X              0\n",
      "DEBUG:mathsformer.selfsupervised_learning_addition_model_backend:     2988+N54-6         2928        2928E         2928          X              0\n",
      "DEBUG:mathsformer.selfsupervised_learning_addition_model_backend:    N4036+N8+93        N3951        N3951        N3951          X              0\n",
      "DEBUG:mathsformer.selfsupervised_learning_addition_model_backend: N302+N4928+N86        N5316        N5316        N5316          X              0\n",
      "DEBUG:mathsformer.selfsupervised_learning_addition_model_backend: 7339+N771+N948         5620        5610E         5610                       -10\n",
      "DEBUG:mathsformer.selfsupervised_learning_addition_model_backend:  N1012+N47+N85        N1144        N1144        N1144          X              0\n"
     ]
    },
    {
     "name": "stdout",
     "output_type": "stream",
     "text": [
      "2000/2000 [==============================] - 859s 430ms/step - loss: 0.6626 - mathsformer_LLM_output_loss: 0.2405 - mathsformer_LLM_output_1_loss: 0.2120 - mathsformer_LLM_output_2_loss: 0.2101 - mathsformer_LLM_output_masked_categorical_accuracy: 0.9040 - mathsformer_LLM_output_1_masked_categorical_accuracy: 0.9158 - mathsformer_LLM_output_2_masked_categorical_accuracy: 0.9171 - val_loss: 0.3763 - val_mathsformer_LLM_output_loss: 0.1230 - val_mathsformer_LLM_output_1_loss: 0.1184 - val_mathsformer_LLM_output_2_loss: 0.1349 - val_mathsformer_LLM_output_masked_categorical_accuracy: 0.9568 - val_mathsformer_LLM_output_1_masked_categorical_accuracy: 0.9561 - val_mathsformer_LLM_output_2_masked_categorical_accuracy: 0.9479\n",
      "Epoch 50/100000\n",
      "2000/2000 [==============================] - ETA: 0s - loss: 0.6362 - mathsformer_LLM_output_loss: 0.2325 - mathsformer_LLM_output_1_loss: 0.2030 - mathsformer_LLM_output_2_loss: 0.2007 - mathsformer_LLM_output_masked_categorical_accuracy: 0.9086 - mathsformer_LLM_output_1_masked_categorical_accuracy: 0.9206 - mathsformer_LLM_output_2_masked_categorical_accuracy: 0.9224"
     ]
    },
    {
     "name": "stderr",
     "output_type": "stream",
     "text": [
      "DEBUG:mathsformer.selfsupervised_learning_addition_model_backend:Training reached the end of epoch at index 49\n",
      "DEBUG:mathsformer.selfsupervised_learning_addition_model_backend:    with metric loss: 0.63619\n",
      "DEBUG:mathsformer.selfsupervised_learning_addition_model_backend:    with metric mathsformer_LLM_output_loss: 0.23247\n",
      "DEBUG:mathsformer.selfsupervised_learning_addition_model_backend:    with metric mathsformer_LLM_output_1_loss: 0.20301\n",
      "DEBUG:mathsformer.selfsupervised_learning_addition_model_backend:    with metric mathsformer_LLM_output_2_loss: 0.20071\n",
      "DEBUG:mathsformer.selfsupervised_learning_addition_model_backend:    with metric mathsformer_LLM_output_masked_categorical_accuracy: 0.90855\n",
      "DEBUG:mathsformer.selfsupervised_learning_addition_model_backend:    with metric mathsformer_LLM_output_1_masked_categorical_accuracy: 0.92063\n",
      "DEBUG:mathsformer.selfsupervised_learning_addition_model_backend:    with metric mathsformer_LLM_output_2_masked_categorical_accuracy: 0.92238\n",
      "DEBUG:mathsformer.selfsupervised_learning_addition_model_backend:    with metric val_loss: 0.29058\n",
      "DEBUG:mathsformer.selfsupervised_learning_addition_model_backend:    with metric val_mathsformer_LLM_output_loss: 0.10246\n",
      "DEBUG:mathsformer.selfsupervised_learning_addition_model_backend:    with metric val_mathsformer_LLM_output_1_loss: 0.091114\n",
      "DEBUG:mathsformer.selfsupervised_learning_addition_model_backend:    with metric val_mathsformer_LLM_output_2_loss: 0.097004\n",
      "DEBUG:mathsformer.selfsupervised_learning_addition_model_backend:    with metric val_mathsformer_LLM_output_masked_categorical_accuracy: 0.96528\n",
      "DEBUG:mathsformer.selfsupervised_learning_addition_model_backend:    with metric val_mathsformer_LLM_output_1_masked_categorical_accuracy: 0.96965\n",
      "DEBUG:mathsformer.selfsupervised_learning_addition_model_backend:    with metric val_mathsformer_LLM_output_2_masked_categorical_accuracy: 0.96667\n",
      "DEBUG:mathsformer.selfsupervised_learning_addition_model_backend:Running text --> text mathsformer inference on some training data:\n",
      "DEBUG:mathsformer.selfsupervised_learning_addition_model_backend:------------------------------------------------------------------------------------\n",
      "DEBUG:mathsformer.selfsupervised_learning_addition_model_backend:              INPUT         TRUE   PRED(MASK)    PRED(GEN)      CORRECT     RESIDUAL\n",
      "DEBUG:mathsformer.selfsupervised_learning_addition_model_backend:------------------------------------------------------------------------------------\n",
      "DEBUG:mathsformer.selfsupervised_learning_addition_model_backend:            76-N292          368        368EE          368          X              0\n",
      "DEBUG:mathsformer.selfsupervised_learning_addition_model_backend:            N4+N799         N803        N803E         N803          X              0\n",
      "DEBUG:mathsformer.selfsupervised_learning_addition_model_backend:              333+7          340        340EE          340          X              0\n",
      "DEBUG:mathsformer.selfsupervised_learning_addition_model_backend: N58+N2-N615-51+678         1182        1182E         1182          X              0\n",
      "DEBUG:mathsformer.selfsupervised_learning_addition_model_backend:      N1-148-N5+N30         N174        N174E         N174          X              0\n",
      "DEBUG:mathsformer.selfsupervised_learning_addition_model_backend:   8-N118+434+N1647        N1087        N1087        N1087          X              0\n",
      "DEBUG:mathsformer.selfsupervised_learning_addition_model_backend:   N510+8-N69+65-N8         N360        N351E         N351                         9\n",
      "DEBUG:mathsformer.selfsupervised_learning_addition_model_backend:                N12          N12        N12EE          N12          X              0\n",
      "DEBUG:mathsformer.selfsupervised_learning_addition_model_backend:                  9            9        9EEEE            9          X              0\n",
      "DEBUG:mathsformer.selfsupervised_learning_addition_model_backend:               3930         3930        3930E         3930          X              0\n",
      "DEBUG:mathsformer.selfsupervised_learning_addition_model_backend:Running text --> text mathsformer inference on some validation data:\n",
      "DEBUG:mathsformer.selfsupervised_learning_addition_model_backend:--------------------------------------------------------------------------------\n",
      "DEBUG:mathsformer.selfsupervised_learning_addition_model_backend:          INPUT         TRUE   PRED(MASK)    PRED(GEN)      CORRECT     RESIDUAL\n",
      "DEBUG:mathsformer.selfsupervised_learning_addition_model_backend:--------------------------------------------------------------------------------\n",
      "DEBUG:mathsformer.selfsupervised_learning_addition_model_backend:      N5-14-516         N535        N535E         N535          X              0\n",
      "DEBUG:mathsformer.selfsupervised_learning_addition_model_backend:   566-N52-5117        N4499        N4499        N4499          X              0\n",
      "DEBUG:mathsformer.selfsupervised_learning_addition_model_backend:    N7+N3567-36        N3610        N3610        N3610          X              0\n",
      "DEBUG:mathsformer.selfsupervised_learning_addition_model_backend:       414+N2-2          410        411EE          411                         1\n",
      "DEBUG:mathsformer.selfsupervised_learning_addition_model_backend:     N16-36+N31          N83        N83EE          N83          X              0\n",
      "DEBUG:mathsformer.selfsupervised_learning_addition_model_backend:     2988+N54-6         2928        2928E         2928          X              0\n",
      "DEBUG:mathsformer.selfsupervised_learning_addition_model_backend:    N4036+N8+93        N3951        N3951        N3951          X              0\n",
      "DEBUG:mathsformer.selfsupervised_learning_addition_model_backend: N302+N4928+N86        N5316        N5316        N5316          X              0\n",
      "DEBUG:mathsformer.selfsupervised_learning_addition_model_backend: 7339+N771+N948         5620        5620E         5620          X              0\n",
      "DEBUG:mathsformer.selfsupervised_learning_addition_model_backend:  N1012+N47+N85        N1144        N1144        N1144          X              0\n"
     ]
    },
    {
     "name": "stdout",
     "output_type": "stream",
     "text": [
      "2000/2000 [==============================] - 862s 431ms/step - loss: 0.6362 - mathsformer_LLM_output_loss: 0.2325 - mathsformer_LLM_output_1_loss: 0.2030 - mathsformer_LLM_output_2_loss: 0.2007 - mathsformer_LLM_output_masked_categorical_accuracy: 0.9086 - mathsformer_LLM_output_1_masked_categorical_accuracy: 0.9206 - mathsformer_LLM_output_2_masked_categorical_accuracy: 0.9224 - val_loss: 0.2906 - val_mathsformer_LLM_output_loss: 0.1025 - val_mathsformer_LLM_output_1_loss: 0.0911 - val_mathsformer_LLM_output_2_loss: 0.0970 - val_mathsformer_LLM_output_masked_categorical_accuracy: 0.9653 - val_mathsformer_LLM_output_1_masked_categorical_accuracy: 0.9697 - val_mathsformer_LLM_output_2_masked_categorical_accuracy: 0.9667\n",
      "Epoch 51/100000\n",
      "2000/2000 [==============================] - ETA: 0s - loss: 0.6465 - mathsformer_LLM_output_loss: 0.2359 - mathsformer_LLM_output_1_loss: 0.2057 - mathsformer_LLM_output_2_loss: 0.2048 - mathsformer_LLM_output_masked_categorical_accuracy: 0.9091 - mathsformer_LLM_output_1_masked_categorical_accuracy: 0.9216 - mathsformer_LLM_output_2_masked_categorical_accuracy: 0.9222"
     ]
    },
    {
     "name": "stderr",
     "output_type": "stream",
     "text": [
      "DEBUG:mathsformer.selfsupervised_learning_addition_model_backend:Training reached the end of epoch at index 50\n",
      "DEBUG:mathsformer.selfsupervised_learning_addition_model_backend:    with metric loss: 0.64648\n",
      "DEBUG:mathsformer.selfsupervised_learning_addition_model_backend:    with metric mathsformer_LLM_output_loss: 0.23591\n",
      "DEBUG:mathsformer.selfsupervised_learning_addition_model_backend:    with metric mathsformer_LLM_output_1_loss: 0.20574\n",
      "DEBUG:mathsformer.selfsupervised_learning_addition_model_backend:    with metric mathsformer_LLM_output_2_loss: 0.20483\n",
      "DEBUG:mathsformer.selfsupervised_learning_addition_model_backend:    with metric mathsformer_LLM_output_masked_categorical_accuracy: 0.90913\n",
      "DEBUG:mathsformer.selfsupervised_learning_addition_model_backend:    with metric mathsformer_LLM_output_1_masked_categorical_accuracy: 0.92158\n",
      "DEBUG:mathsformer.selfsupervised_learning_addition_model_backend:    with metric mathsformer_LLM_output_2_masked_categorical_accuracy: 0.92222\n",
      "DEBUG:mathsformer.selfsupervised_learning_addition_model_backend:    with metric val_loss: 0.37088\n",
      "DEBUG:mathsformer.selfsupervised_learning_addition_model_backend:    with metric val_mathsformer_LLM_output_loss: 0.13216\n",
      "DEBUG:mathsformer.selfsupervised_learning_addition_model_backend:    with metric val_mathsformer_LLM_output_1_loss: 0.11654\n",
      "DEBUG:mathsformer.selfsupervised_learning_addition_model_backend:    with metric val_mathsformer_LLM_output_2_loss: 0.12218\n",
      "DEBUG:mathsformer.selfsupervised_learning_addition_model_backend:    with metric val_mathsformer_LLM_output_masked_categorical_accuracy: 0.95603\n",
      "DEBUG:mathsformer.selfsupervised_learning_addition_model_backend:    with metric val_mathsformer_LLM_output_1_masked_categorical_accuracy: 0.96133\n",
      "DEBUG:mathsformer.selfsupervised_learning_addition_model_backend:    with metric val_mathsformer_LLM_output_2_masked_categorical_accuracy: 0.95626\n",
      "DEBUG:mathsformer.selfsupervised_learning_addition_model_backend:Running text --> text mathsformer inference on some training data:\n",
      "DEBUG:mathsformer.selfsupervised_learning_addition_model_backend:------------------------------------------------------------------------------------\n",
      "DEBUG:mathsformer.selfsupervised_learning_addition_model_backend:              INPUT         TRUE   PRED(MASK)    PRED(GEN)      CORRECT     RESIDUAL\n",
      "DEBUG:mathsformer.selfsupervised_learning_addition_model_backend:------------------------------------------------------------------------------------\n",
      "DEBUG:mathsformer.selfsupervised_learning_addition_model_backend:            76-N292          368        368EE          368          X              0\n",
      "DEBUG:mathsformer.selfsupervised_learning_addition_model_backend:            N4+N799         N803        N803E         N803          X              0\n",
      "DEBUG:mathsformer.selfsupervised_learning_addition_model_backend:              333+7          340        340EE          340          X              0\n",
      "DEBUG:mathsformer.selfsupervised_learning_addition_model_backend: N58+N2-N615-51+678         1182        1182E         1182          X              0\n",
      "DEBUG:mathsformer.selfsupervised_learning_addition_model_backend:      N1-148-N5+N30         N174        N174E         N174          X              0\n",
      "DEBUG:mathsformer.selfsupervised_learning_addition_model_backend:   8-N118+434+N1647        N1087        N1087        N1087          X              0\n",
      "DEBUG:mathsformer.selfsupervised_learning_addition_model_backend:   N510+8-N69+65-N8         N360        N360E         N360          X              0\n",
      "DEBUG:mathsformer.selfsupervised_learning_addition_model_backend:                N12          N12        N12EE          N12          X              0\n",
      "DEBUG:mathsformer.selfsupervised_learning_addition_model_backend:                  9            9        9EEEE            9          X              0\n",
      "DEBUG:mathsformer.selfsupervised_learning_addition_model_backend:               3930         3930        3930E         3930          X              0\n",
      "DEBUG:mathsformer.selfsupervised_learning_addition_model_backend:Running text --> text mathsformer inference on some validation data:\n",
      "DEBUG:mathsformer.selfsupervised_learning_addition_model_backend:--------------------------------------------------------------------------------\n",
      "DEBUG:mathsformer.selfsupervised_learning_addition_model_backend:          INPUT         TRUE   PRED(MASK)    PRED(GEN)      CORRECT     RESIDUAL\n",
      "DEBUG:mathsformer.selfsupervised_learning_addition_model_backend:--------------------------------------------------------------------------------\n",
      "DEBUG:mathsformer.selfsupervised_learning_addition_model_backend:      N5-14-516         N535        N535E         N535          X              0\n",
      "DEBUG:mathsformer.selfsupervised_learning_addition_model_backend:   566-N52-5117        N4499        N4599        N4599                      -100\n",
      "DEBUG:mathsformer.selfsupervised_learning_addition_model_backend:    N7+N3567-36        N3610        N3610        N3610          X              0\n",
      "DEBUG:mathsformer.selfsupervised_learning_addition_model_backend:       414+N2-2          410        411EE          411                         1\n",
      "DEBUG:mathsformer.selfsupervised_learning_addition_model_backend:     N16-36+N31          N83        N82EE          N82                         1\n",
      "DEBUG:mathsformer.selfsupervised_learning_addition_model_backend:     2988+N54-6         2928        2928E         2928          X              0\n",
      "DEBUG:mathsformer.selfsupervised_learning_addition_model_backend:    N4036+N8+93        N3951        N3951        N3951          X              0\n",
      "DEBUG:mathsformer.selfsupervised_learning_addition_model_backend: N302+N4928+N86        N5316        N5316        N5316          X              0\n",
      "DEBUG:mathsformer.selfsupervised_learning_addition_model_backend: 7339+N771+N948         5620        5610E         5610                       -10\n",
      "DEBUG:mathsformer.selfsupervised_learning_addition_model_backend:  N1012+N47+N85        N1144        N1144        N1144          X              0\n"
     ]
    },
    {
     "name": "stdout",
     "output_type": "stream",
     "text": [
      "2000/2000 [==============================] - 858s 429ms/step - loss: 0.6465 - mathsformer_LLM_output_loss: 0.2359 - mathsformer_LLM_output_1_loss: 0.2057 - mathsformer_LLM_output_2_loss: 0.2048 - mathsformer_LLM_output_masked_categorical_accuracy: 0.9091 - mathsformer_LLM_output_1_masked_categorical_accuracy: 0.9216 - mathsformer_LLM_output_2_masked_categorical_accuracy: 0.9222 - val_loss: 0.3709 - val_mathsformer_LLM_output_loss: 0.1322 - val_mathsformer_LLM_output_1_loss: 0.1165 - val_mathsformer_LLM_output_2_loss: 0.1222 - val_mathsformer_LLM_output_masked_categorical_accuracy: 0.9560 - val_mathsformer_LLM_output_1_masked_categorical_accuracy: 0.9613 - val_mathsformer_LLM_output_2_masked_categorical_accuracy: 0.9563\n",
      "Epoch 52/100000\n",
      "2000/2000 [==============================] - ETA: 0s - loss: 0.5736 - mathsformer_LLM_output_loss: 0.2114 - mathsformer_LLM_output_1_loss: 0.1823 - mathsformer_LLM_output_2_loss: 0.1799 - mathsformer_LLM_output_masked_categorical_accuracy: 0.9165 - mathsformer_LLM_output_1_masked_categorical_accuracy: 0.9283 - mathsformer_LLM_output_2_masked_categorical_accuracy: 0.9297"
     ]
    },
    {
     "name": "stderr",
     "output_type": "stream",
     "text": [
      "DEBUG:mathsformer.selfsupervised_learning_addition_model_backend:Training reached the end of epoch at index 51\n",
      "DEBUG:mathsformer.selfsupervised_learning_addition_model_backend:    with metric loss: 0.57358\n",
      "DEBUG:mathsformer.selfsupervised_learning_addition_model_backend:    with metric mathsformer_LLM_output_loss: 0.21142\n",
      "DEBUG:mathsformer.selfsupervised_learning_addition_model_backend:    with metric mathsformer_LLM_output_1_loss: 0.18226\n",
      "DEBUG:mathsformer.selfsupervised_learning_addition_model_backend:    with metric mathsformer_LLM_output_2_loss: 0.1799\n",
      "DEBUG:mathsformer.selfsupervised_learning_addition_model_backend:    with metric mathsformer_LLM_output_masked_categorical_accuracy: 0.91649\n",
      "DEBUG:mathsformer.selfsupervised_learning_addition_model_backend:    with metric mathsformer_LLM_output_1_masked_categorical_accuracy: 0.92829\n",
      "DEBUG:mathsformer.selfsupervised_learning_addition_model_backend:    with metric mathsformer_LLM_output_2_masked_categorical_accuracy: 0.92967\n",
      "DEBUG:mathsformer.selfsupervised_learning_addition_model_backend:    with metric val_loss: 0.38169\n",
      "DEBUG:mathsformer.selfsupervised_learning_addition_model_backend:    with metric val_mathsformer_LLM_output_loss: 0.13212\n",
      "DEBUG:mathsformer.selfsupervised_learning_addition_model_backend:    with metric val_mathsformer_LLM_output_1_loss: 0.12075\n",
      "DEBUG:mathsformer.selfsupervised_learning_addition_model_backend:    with metric val_mathsformer_LLM_output_2_loss: 0.12883\n",
      "DEBUG:mathsformer.selfsupervised_learning_addition_model_backend:    with metric val_mathsformer_LLM_output_masked_categorical_accuracy: 0.94821\n",
      "DEBUG:mathsformer.selfsupervised_learning_addition_model_backend:    with metric val_mathsformer_LLM_output_1_masked_categorical_accuracy: 0.95276\n",
      "DEBUG:mathsformer.selfsupervised_learning_addition_model_backend:    with metric val_mathsformer_LLM_output_2_masked_categorical_accuracy: 0.94685\n",
      "DEBUG:mathsformer.selfsupervised_learning_addition_model_backend:Running text --> text mathsformer inference on some training data:\n",
      "DEBUG:mathsformer.selfsupervised_learning_addition_model_backend:------------------------------------------------------------------------------------\n",
      "DEBUG:mathsformer.selfsupervised_learning_addition_model_backend:              INPUT         TRUE   PRED(MASK)    PRED(GEN)      CORRECT     RESIDUAL\n",
      "DEBUG:mathsformer.selfsupervised_learning_addition_model_backend:------------------------------------------------------------------------------------\n",
      "DEBUG:mathsformer.selfsupervised_learning_addition_model_backend:            76-N292          368        368EE          368          X              0\n",
      "DEBUG:mathsformer.selfsupervised_learning_addition_model_backend:            N4+N799         N803        N803E         N803          X              0\n",
      "DEBUG:mathsformer.selfsupervised_learning_addition_model_backend:              333+7          340        340EE          340          X              0\n",
      "DEBUG:mathsformer.selfsupervised_learning_addition_model_backend: N58+N2-N615-51+678         1182        1182E         1182          X              0\n",
      "DEBUG:mathsformer.selfsupervised_learning_addition_model_backend:      N1-148-N5+N30         N174        N174E         N174          X              0\n",
      "DEBUG:mathsformer.selfsupervised_learning_addition_model_backend:   8-N118+434+N1647        N1087        N1086        N1086                         1\n",
      "DEBUG:mathsformer.selfsupervised_learning_addition_model_backend:   N510+8-N69+65-N8         N360        N360E         N360          X              0\n",
      "DEBUG:mathsformer.selfsupervised_learning_addition_model_backend:                N12          N12        N12EE          N12          X              0\n",
      "DEBUG:mathsformer.selfsupervised_learning_addition_model_backend:                  9            9        9EEEE            9          X              0\n",
      "DEBUG:mathsformer.selfsupervised_learning_addition_model_backend:               3930         3930        3930E         3930          X              0\n",
      "DEBUG:mathsformer.selfsupervised_learning_addition_model_backend:Running text --> text mathsformer inference on some validation data:\n",
      "DEBUG:mathsformer.selfsupervised_learning_addition_model_backend:--------------------------------------------------------------------------------\n",
      "DEBUG:mathsformer.selfsupervised_learning_addition_model_backend:          INPUT         TRUE   PRED(MASK)    PRED(GEN)      CORRECT     RESIDUAL\n",
      "DEBUG:mathsformer.selfsupervised_learning_addition_model_backend:--------------------------------------------------------------------------------\n",
      "DEBUG:mathsformer.selfsupervised_learning_addition_model_backend:      N5-14-516         N535        N535E         N535          X              0\n",
      "DEBUG:mathsformer.selfsupervised_learning_addition_model_backend:   566-N52-5117        N4499        N4499        N4499          X              0\n",
      "DEBUG:mathsformer.selfsupervised_learning_addition_model_backend:    N7+N3567-36        N3610        N3611        N3611                        -1\n",
      "DEBUG:mathsformer.selfsupervised_learning_addition_model_backend:       414+N2-2          410        411EE          411                         1\n",
      "DEBUG:mathsformer.selfsupervised_learning_addition_model_backend:     N16-36+N31          N83        N83EE          N83          X              0\n",
      "DEBUG:mathsformer.selfsupervised_learning_addition_model_backend:     2988+N54-6         2928        2928E         2928          X              0\n",
      "DEBUG:mathsformer.selfsupervised_learning_addition_model_backend:    N4036+N8+93        N3951        N3951        N3951          X              0\n",
      "DEBUG:mathsformer.selfsupervised_learning_addition_model_backend: N302+N4928+N86        N5316        N5316        N5316          X              0\n",
      "DEBUG:mathsformer.selfsupervised_learning_addition_model_backend: 7339+N771+N948         5620        5510E         5510                      -110\n",
      "DEBUG:mathsformer.selfsupervised_learning_addition_model_backend:  N1012+N47+N85        N1144        N1144        N1144          X              0\n"
     ]
    },
    {
     "name": "stdout",
     "output_type": "stream",
     "text": [
      "2000/2000 [==============================] - 861s 430ms/step - loss: 0.5736 - mathsformer_LLM_output_loss: 0.2114 - mathsformer_LLM_output_1_loss: 0.1823 - mathsformer_LLM_output_2_loss: 0.1799 - mathsformer_LLM_output_masked_categorical_accuracy: 0.9165 - mathsformer_LLM_output_1_masked_categorical_accuracy: 0.9283 - mathsformer_LLM_output_2_masked_categorical_accuracy: 0.9297 - val_loss: 0.3817 - val_mathsformer_LLM_output_loss: 0.1321 - val_mathsformer_LLM_output_1_loss: 0.1207 - val_mathsformer_LLM_output_2_loss: 0.1288 - val_mathsformer_LLM_output_masked_categorical_accuracy: 0.9482 - val_mathsformer_LLM_output_1_masked_categorical_accuracy: 0.9528 - val_mathsformer_LLM_output_2_masked_categorical_accuracy: 0.9468\n",
      "Epoch 53/100000\n",
      "2000/2000 [==============================] - ETA: 0s - loss: 0.5962 - mathsformer_LLM_output_loss: 0.2184 - mathsformer_LLM_output_1_loss: 0.1898 - mathsformer_LLM_output_2_loss: 0.1881 - mathsformer_LLM_output_masked_categorical_accuracy: 0.9153 - mathsformer_LLM_output_1_masked_categorical_accuracy: 0.9279 - mathsformer_LLM_output_2_masked_categorical_accuracy: 0.9294"
     ]
    },
    {
     "name": "stderr",
     "output_type": "stream",
     "text": [
      "DEBUG:mathsformer.selfsupervised_learning_addition_model_backend:Training reached the end of epoch at index 52\n",
      "DEBUG:mathsformer.selfsupervised_learning_addition_model_backend:    with metric loss: 0.59624\n",
      "DEBUG:mathsformer.selfsupervised_learning_addition_model_backend:    with metric mathsformer_LLM_output_loss: 0.21836\n",
      "DEBUG:mathsformer.selfsupervised_learning_addition_model_backend:    with metric mathsformer_LLM_output_1_loss: 0.18978\n",
      "DEBUG:mathsformer.selfsupervised_learning_addition_model_backend:    with metric mathsformer_LLM_output_2_loss: 0.18809\n",
      "DEBUG:mathsformer.selfsupervised_learning_addition_model_backend:    with metric mathsformer_LLM_output_masked_categorical_accuracy: 0.91533\n",
      "DEBUG:mathsformer.selfsupervised_learning_addition_model_backend:    with metric mathsformer_LLM_output_1_masked_categorical_accuracy: 0.92791\n",
      "DEBUG:mathsformer.selfsupervised_learning_addition_model_backend:    with metric mathsformer_LLM_output_2_masked_categorical_accuracy: 0.92943\n",
      "DEBUG:mathsformer.selfsupervised_learning_addition_model_backend:    with metric val_loss: 0.22714\n",
      "DEBUG:mathsformer.selfsupervised_learning_addition_model_backend:    with metric val_mathsformer_LLM_output_loss: 0.085814\n",
      "DEBUG:mathsformer.selfsupervised_learning_addition_model_backend:    with metric val_mathsformer_LLM_output_1_loss: 0.071408\n",
      "DEBUG:mathsformer.selfsupervised_learning_addition_model_backend:    with metric val_mathsformer_LLM_output_2_loss: 0.069915\n",
      "DEBUG:mathsformer.selfsupervised_learning_addition_model_backend:    with metric val_mathsformer_LLM_output_masked_categorical_accuracy: 0.97131\n",
      "DEBUG:mathsformer.selfsupervised_learning_addition_model_backend:    with metric val_mathsformer_LLM_output_1_masked_categorical_accuracy: 0.97646\n",
      "DEBUG:mathsformer.selfsupervised_learning_addition_model_backend:    with metric val_mathsformer_LLM_output_2_masked_categorical_accuracy: 0.97777\n",
      "DEBUG:mathsformer.selfsupervised_learning_addition_model_backend:Running text --> text mathsformer inference on some training data:\n",
      "DEBUG:mathsformer.selfsupervised_learning_addition_model_backend:------------------------------------------------------------------------------------\n",
      "DEBUG:mathsformer.selfsupervised_learning_addition_model_backend:              INPUT         TRUE   PRED(MASK)    PRED(GEN)      CORRECT     RESIDUAL\n",
      "DEBUG:mathsformer.selfsupervised_learning_addition_model_backend:------------------------------------------------------------------------------------\n",
      "DEBUG:mathsformer.selfsupervised_learning_addition_model_backend:            76-N292          368        368EE          368          X              0\n",
      "DEBUG:mathsformer.selfsupervised_learning_addition_model_backend:            N4+N799         N803        N803E         N803          X              0\n",
      "DEBUG:mathsformer.selfsupervised_learning_addition_model_backend:              333+7          340        340EE          340          X              0\n",
      "DEBUG:mathsformer.selfsupervised_learning_addition_model_backend: N58+N2-N615-51+678         1182        1172E         1172                       -10\n",
      "DEBUG:mathsformer.selfsupervised_learning_addition_model_backend:      N1-148-N5+N30         N174        N174E         N174          X              0\n",
      "DEBUG:mathsformer.selfsupervised_learning_addition_model_backend:   8-N118+434+N1647        N1087        N1087        N1087          X              0\n",
      "DEBUG:mathsformer.selfsupervised_learning_addition_model_backend:   N510+8-N69+65-N8         N360        N369E         N369                        -9\n",
      "DEBUG:mathsformer.selfsupervised_learning_addition_model_backend:                N12          N12        N12EE          N12          X              0\n",
      "DEBUG:mathsformer.selfsupervised_learning_addition_model_backend:                  9            9        9EEEE            9          X              0\n",
      "DEBUG:mathsformer.selfsupervised_learning_addition_model_backend:               3930         3930        3930E         3930          X              0\n",
      "DEBUG:mathsformer.selfsupervised_learning_addition_model_backend:Running text --> text mathsformer inference on some validation data:\n",
      "DEBUG:mathsformer.selfsupervised_learning_addition_model_backend:--------------------------------------------------------------------------------\n",
      "DEBUG:mathsformer.selfsupervised_learning_addition_model_backend:          INPUT         TRUE   PRED(MASK)    PRED(GEN)      CORRECT     RESIDUAL\n",
      "DEBUG:mathsformer.selfsupervised_learning_addition_model_backend:--------------------------------------------------------------------------------\n",
      "DEBUG:mathsformer.selfsupervised_learning_addition_model_backend:      N5-14-516         N535        N535E         N535          X              0\n",
      "DEBUG:mathsformer.selfsupervised_learning_addition_model_backend:   566-N52-5117        N4499        N4599        N4599                      -100\n",
      "DEBUG:mathsformer.selfsupervised_learning_addition_model_backend:    N7+N3567-36        N3610        N3610        N3610          X              0\n",
      "DEBUG:mathsformer.selfsupervised_learning_addition_model_backend:       414+N2-2          410        410EE          410          X              0\n",
      "DEBUG:mathsformer.selfsupervised_learning_addition_model_backend:     N16-36+N31          N83        N84EE          N84                        -1\n",
      "DEBUG:mathsformer.selfsupervised_learning_addition_model_backend:     2988+N54-6         2928        2928E         2928          X              0\n",
      "DEBUG:mathsformer.selfsupervised_learning_addition_model_backend:    N4036+N8+93        N3951        N3951        N3951          X              0\n",
      "DEBUG:mathsformer.selfsupervised_learning_addition_model_backend: N302+N4928+N86        N5316        N5316        N5316          X              0\n",
      "DEBUG:mathsformer.selfsupervised_learning_addition_model_backend: 7339+N771+N948         5620        5620E         5620          X              0\n",
      "DEBUG:mathsformer.selfsupervised_learning_addition_model_backend:  N1012+N47+N85        N1144        N1144        N1144          X              0\n"
     ]
    },
    {
     "name": "stdout",
     "output_type": "stream",
     "text": [
      "2000/2000 [==============================] - 861s 430ms/step - loss: 0.5962 - mathsformer_LLM_output_loss: 0.2184 - mathsformer_LLM_output_1_loss: 0.1898 - mathsformer_LLM_output_2_loss: 0.1881 - mathsformer_LLM_output_masked_categorical_accuracy: 0.9153 - mathsformer_LLM_output_1_masked_categorical_accuracy: 0.9279 - mathsformer_LLM_output_2_masked_categorical_accuracy: 0.9294 - val_loss: 0.2271 - val_mathsformer_LLM_output_loss: 0.0858 - val_mathsformer_LLM_output_1_loss: 0.0714 - val_mathsformer_LLM_output_2_loss: 0.0699 - val_mathsformer_LLM_output_masked_categorical_accuracy: 0.9713 - val_mathsformer_LLM_output_1_masked_categorical_accuracy: 0.9765 - val_mathsformer_LLM_output_2_masked_categorical_accuracy: 0.9778\n",
      "Epoch 54/100000\n",
      "2000/2000 [==============================] - ETA: 0s - loss: 0.5221 - mathsformer_LLM_output_loss: 0.1944 - mathsformer_LLM_output_1_loss: 0.1648 - mathsformer_LLM_output_2_loss: 0.1629 - mathsformer_LLM_output_masked_categorical_accuracy: 0.9234 - mathsformer_LLM_output_1_masked_categorical_accuracy: 0.9361 - mathsformer_LLM_output_2_masked_categorical_accuracy: 0.9373"
     ]
    },
    {
     "name": "stderr",
     "output_type": "stream",
     "text": [
      "DEBUG:mathsformer.selfsupervised_learning_addition_model_backend:Training reached the end of epoch at index 53\n",
      "DEBUG:mathsformer.selfsupervised_learning_addition_model_backend:    with metric loss: 0.52212\n",
      "DEBUG:mathsformer.selfsupervised_learning_addition_model_backend:    with metric mathsformer_LLM_output_loss: 0.19438\n",
      "DEBUG:mathsformer.selfsupervised_learning_addition_model_backend:    with metric mathsformer_LLM_output_1_loss: 0.16481\n",
      "DEBUG:mathsformer.selfsupervised_learning_addition_model_backend:    with metric mathsformer_LLM_output_2_loss: 0.16292\n",
      "DEBUG:mathsformer.selfsupervised_learning_addition_model_backend:    with metric mathsformer_LLM_output_masked_categorical_accuracy: 0.92337\n",
      "DEBUG:mathsformer.selfsupervised_learning_addition_model_backend:    with metric mathsformer_LLM_output_1_masked_categorical_accuracy: 0.93614\n",
      "DEBUG:mathsformer.selfsupervised_learning_addition_model_backend:    with metric mathsformer_LLM_output_2_masked_categorical_accuracy: 0.93732\n",
      "DEBUG:mathsformer.selfsupervised_learning_addition_model_backend:    with metric val_loss: 0.22771\n",
      "DEBUG:mathsformer.selfsupervised_learning_addition_model_backend:    with metric val_mathsformer_LLM_output_loss: 0.080024\n",
      "DEBUG:mathsformer.selfsupervised_learning_addition_model_backend:    with metric val_mathsformer_LLM_output_1_loss: 0.070971\n",
      "DEBUG:mathsformer.selfsupervised_learning_addition_model_backend:    with metric val_mathsformer_LLM_output_2_loss: 0.076717\n",
      "DEBUG:mathsformer.selfsupervised_learning_addition_model_backend:    with metric val_mathsformer_LLM_output_masked_categorical_accuracy: 0.97242\n",
      "DEBUG:mathsformer.selfsupervised_learning_addition_model_backend:    with metric val_mathsformer_LLM_output_1_masked_categorical_accuracy: 0.97646\n",
      "DEBUG:mathsformer.selfsupervised_learning_addition_model_backend:    with metric val_mathsformer_LLM_output_2_masked_categorical_accuracy: 0.97291\n",
      "DEBUG:mathsformer.selfsupervised_learning_addition_model_backend:Running text --> text mathsformer inference on some training data:\n",
      "DEBUG:mathsformer.selfsupervised_learning_addition_model_backend:------------------------------------------------------------------------------------\n",
      "DEBUG:mathsformer.selfsupervised_learning_addition_model_backend:              INPUT         TRUE   PRED(MASK)    PRED(GEN)      CORRECT     RESIDUAL\n",
      "DEBUG:mathsformer.selfsupervised_learning_addition_model_backend:------------------------------------------------------------------------------------\n",
      "DEBUG:mathsformer.selfsupervised_learning_addition_model_backend:            76-N292          368        368EE          368          X              0\n",
      "DEBUG:mathsformer.selfsupervised_learning_addition_model_backend:            N4+N799         N803        N803E         N803          X              0\n",
      "DEBUG:mathsformer.selfsupervised_learning_addition_model_backend:              333+7          340        340EE          340          X              0\n",
      "DEBUG:mathsformer.selfsupervised_learning_addition_model_backend: N58+N2-N615-51+678         1182        1282E         1282                       100\n",
      "DEBUG:mathsformer.selfsupervised_learning_addition_model_backend:      N1-148-N5+N30         N174        N174E         N174          X              0\n",
      "DEBUG:mathsformer.selfsupervised_learning_addition_model_backend:   8-N118+434+N1647        N1087        N1087        N1087          X              0\n",
      "DEBUG:mathsformer.selfsupervised_learning_addition_model_backend:   N510+8-N69+65-N8         N360        N369E         N369                        -9\n",
      "DEBUG:mathsformer.selfsupervised_learning_addition_model_backend:                N12          N12        N12EE          N12          X              0\n",
      "DEBUG:mathsformer.selfsupervised_learning_addition_model_backend:                  9            9        9EEEE            9          X              0\n",
      "DEBUG:mathsformer.selfsupervised_learning_addition_model_backend:               3930         3930        3930E         3930          X              0\n",
      "DEBUG:mathsformer.selfsupervised_learning_addition_model_backend:Running text --> text mathsformer inference on some validation data:\n",
      "DEBUG:mathsformer.selfsupervised_learning_addition_model_backend:--------------------------------------------------------------------------------\n",
      "DEBUG:mathsformer.selfsupervised_learning_addition_model_backend:          INPUT         TRUE   PRED(MASK)    PRED(GEN)      CORRECT     RESIDUAL\n",
      "DEBUG:mathsformer.selfsupervised_learning_addition_model_backend:--------------------------------------------------------------------------------\n",
      "DEBUG:mathsformer.selfsupervised_learning_addition_model_backend:      N5-14-516         N535        N535E         N535          X              0\n",
      "DEBUG:mathsformer.selfsupervised_learning_addition_model_backend:   566-N52-5117        N4499        N4499        N4499          X              0\n",
      "DEBUG:mathsformer.selfsupervised_learning_addition_model_backend:    N7+N3567-36        N3610        N3610        N3610          X              0\n",
      "DEBUG:mathsformer.selfsupervised_learning_addition_model_backend:       414+N2-2          410        410EE          410          X              0\n",
      "DEBUG:mathsformer.selfsupervised_learning_addition_model_backend:     N16-36+N31          N83        N83EE          N83          X              0\n",
      "DEBUG:mathsformer.selfsupervised_learning_addition_model_backend:     2988+N54-6         2928        2928E         2928          X              0\n",
      "DEBUG:mathsformer.selfsupervised_learning_addition_model_backend:    N4036+N8+93        N3951        N3951        N3951          X              0\n",
      "DEBUG:mathsformer.selfsupervised_learning_addition_model_backend: N302+N4928+N86        N5316        N5316        N5316          X              0\n",
      "DEBUG:mathsformer.selfsupervised_learning_addition_model_backend: 7339+N771+N948         5620        5620E         5620          X              0\n",
      "DEBUG:mathsformer.selfsupervised_learning_addition_model_backend:  N1012+N47+N85        N1144        N1144        N1144          X              0\n"
     ]
    },
    {
     "name": "stdout",
     "output_type": "stream",
     "text": [
      "2000/2000 [==============================] - 861s 431ms/step - loss: 0.5221 - mathsformer_LLM_output_loss: 0.1944 - mathsformer_LLM_output_1_loss: 0.1648 - mathsformer_LLM_output_2_loss: 0.1629 - mathsformer_LLM_output_masked_categorical_accuracy: 0.9234 - mathsformer_LLM_output_1_masked_categorical_accuracy: 0.9361 - mathsformer_LLM_output_2_masked_categorical_accuracy: 0.9373 - val_loss: 0.2277 - val_mathsformer_LLM_output_loss: 0.0800 - val_mathsformer_LLM_output_1_loss: 0.0710 - val_mathsformer_LLM_output_2_loss: 0.0767 - val_mathsformer_LLM_output_masked_categorical_accuracy: 0.9724 - val_mathsformer_LLM_output_1_masked_categorical_accuracy: 0.9765 - val_mathsformer_LLM_output_2_masked_categorical_accuracy: 0.9729\n",
      "Epoch 55/100000\n",
      "2000/2000 [==============================] - ETA: 0s - loss: 0.5451 - mathsformer_LLM_output_loss: 0.2024 - mathsformer_LLM_output_1_loss: 0.1721 - mathsformer_LLM_output_2_loss: 0.1706 - mathsformer_LLM_output_masked_categorical_accuracy: 0.9217 - mathsformer_LLM_output_1_masked_categorical_accuracy: 0.9348 - mathsformer_LLM_output_2_masked_categorical_accuracy: 0.9359"
     ]
    },
    {
     "name": "stderr",
     "output_type": "stream",
     "text": [
      "DEBUG:mathsformer.selfsupervised_learning_addition_model_backend:Training reached the end of epoch at index 54\n",
      "DEBUG:mathsformer.selfsupervised_learning_addition_model_backend:    with metric loss: 0.54508\n",
      "DEBUG:mathsformer.selfsupervised_learning_addition_model_backend:    with metric mathsformer_LLM_output_loss: 0.20239\n",
      "DEBUG:mathsformer.selfsupervised_learning_addition_model_backend:    with metric mathsformer_LLM_output_1_loss: 0.17209\n",
      "DEBUG:mathsformer.selfsupervised_learning_addition_model_backend:    with metric mathsformer_LLM_output_2_loss: 0.17059\n",
      "DEBUG:mathsformer.selfsupervised_learning_addition_model_backend:    with metric mathsformer_LLM_output_masked_categorical_accuracy: 0.92173\n",
      "DEBUG:mathsformer.selfsupervised_learning_addition_model_backend:    with metric mathsformer_LLM_output_1_masked_categorical_accuracy: 0.93476\n",
      "DEBUG:mathsformer.selfsupervised_learning_addition_model_backend:    with metric mathsformer_LLM_output_2_masked_categorical_accuracy: 0.93587\n",
      "DEBUG:mathsformer.selfsupervised_learning_addition_model_backend:    with metric val_loss: 0.2981\n",
      "DEBUG:mathsformer.selfsupervised_learning_addition_model_backend:    with metric val_mathsformer_LLM_output_loss: 0.099623\n",
      "DEBUG:mathsformer.selfsupervised_learning_addition_model_backend:    with metric val_mathsformer_LLM_output_1_loss: 0.092155\n",
      "DEBUG:mathsformer.selfsupervised_learning_addition_model_backend:    with metric val_mathsformer_LLM_output_2_loss: 0.10632\n",
      "DEBUG:mathsformer.selfsupervised_learning_addition_model_backend:    with metric val_mathsformer_LLM_output_masked_categorical_accuracy: 0.96406\n",
      "DEBUG:mathsformer.selfsupervised_learning_addition_model_backend:    with metric val_mathsformer_LLM_output_1_masked_categorical_accuracy: 0.96602\n",
      "DEBUG:mathsformer.selfsupervised_learning_addition_model_backend:    with metric val_mathsformer_LLM_output_2_masked_categorical_accuracy: 0.96106\n",
      "DEBUG:mathsformer.selfsupervised_learning_addition_model_backend:Running text --> text mathsformer inference on some training data:\n",
      "DEBUG:mathsformer.selfsupervised_learning_addition_model_backend:------------------------------------------------------------------------------------\n",
      "DEBUG:mathsformer.selfsupervised_learning_addition_model_backend:              INPUT         TRUE   PRED(MASK)    PRED(GEN)      CORRECT     RESIDUAL\n",
      "DEBUG:mathsformer.selfsupervised_learning_addition_model_backend:------------------------------------------------------------------------------------\n",
      "DEBUG:mathsformer.selfsupervised_learning_addition_model_backend:            76-N292          368        368EE          368          X              0\n",
      "DEBUG:mathsformer.selfsupervised_learning_addition_model_backend:            N4+N799         N803        N803E         N803          X              0\n",
      "DEBUG:mathsformer.selfsupervised_learning_addition_model_backend:              333+7          340        340EE          340          X              0\n",
      "DEBUG:mathsformer.selfsupervised_learning_addition_model_backend: N58+N2-N615-51+678         1182        1282E         1282                       100\n",
      "DEBUG:mathsformer.selfsupervised_learning_addition_model_backend:      N1-148-N5+N30         N174        N184E         N184                       -10\n",
      "DEBUG:mathsformer.selfsupervised_learning_addition_model_backend:   8-N118+434+N1647        N1087        N1087        N1087          X              0\n",
      "DEBUG:mathsformer.selfsupervised_learning_addition_model_backend:   N510+8-N69+65-N8         N360        N360E         N360          X              0\n",
      "DEBUG:mathsformer.selfsupervised_learning_addition_model_backend:                N12          N12        N12EE          N12          X              0\n",
      "DEBUG:mathsformer.selfsupervised_learning_addition_model_backend:                  9            9        9EEEE            9          X              0\n",
      "DEBUG:mathsformer.selfsupervised_learning_addition_model_backend:               3930         3930        3930E         3930          X              0\n",
      "DEBUG:mathsformer.selfsupervised_learning_addition_model_backend:Running text --> text mathsformer inference on some validation data:\n",
      "DEBUG:mathsformer.selfsupervised_learning_addition_model_backend:--------------------------------------------------------------------------------\n",
      "DEBUG:mathsformer.selfsupervised_learning_addition_model_backend:          INPUT         TRUE   PRED(MASK)    PRED(GEN)      CORRECT     RESIDUAL\n",
      "DEBUG:mathsformer.selfsupervised_learning_addition_model_backend:--------------------------------------------------------------------------------\n",
      "DEBUG:mathsformer.selfsupervised_learning_addition_model_backend:      N5-14-516         N535        N536E         N536                        -1\n",
      "DEBUG:mathsformer.selfsupervised_learning_addition_model_backend:   566-N52-5117        N4499        N4499        N4499          X              0\n",
      "DEBUG:mathsformer.selfsupervised_learning_addition_model_backend:    N7+N3567-36        N3610        N3610        N3610          X              0\n",
      "DEBUG:mathsformer.selfsupervised_learning_addition_model_backend:       414+N2-2          410        410EE          410          X              0\n",
      "DEBUG:mathsformer.selfsupervised_learning_addition_model_backend:     N16-36+N31          N83        N93EE          N93                       -10\n",
      "DEBUG:mathsformer.selfsupervised_learning_addition_model_backend:     2988+N54-6         2928        2928E         2928          X              0\n",
      "DEBUG:mathsformer.selfsupervised_learning_addition_model_backend:    N4036+N8+93        N3951        N3951        N3951          X              0\n",
      "DEBUG:mathsformer.selfsupervised_learning_addition_model_backend: N302+N4928+N86        N5316        N5316        N5316          X              0\n",
      "DEBUG:mathsformer.selfsupervised_learning_addition_model_backend: 7339+N771+N948         5620        5620E         5620          X              0\n",
      "DEBUG:mathsformer.selfsupervised_learning_addition_model_backend:  N1012+N47+N85        N1144        N1145        N1145                        -1\n"
     ]
    },
    {
     "name": "stdout",
     "output_type": "stream",
     "text": [
      "2000/2000 [==============================] - 862s 431ms/step - loss: 0.5451 - mathsformer_LLM_output_loss: 0.2024 - mathsformer_LLM_output_1_loss: 0.1721 - mathsformer_LLM_output_2_loss: 0.1706 - mathsformer_LLM_output_masked_categorical_accuracy: 0.9217 - mathsformer_LLM_output_1_masked_categorical_accuracy: 0.9348 - mathsformer_LLM_output_2_masked_categorical_accuracy: 0.9359 - val_loss: 0.2981 - val_mathsformer_LLM_output_loss: 0.0996 - val_mathsformer_LLM_output_1_loss: 0.0922 - val_mathsformer_LLM_output_2_loss: 0.1063 - val_mathsformer_LLM_output_masked_categorical_accuracy: 0.9641 - val_mathsformer_LLM_output_1_masked_categorical_accuracy: 0.9660 - val_mathsformer_LLM_output_2_masked_categorical_accuracy: 0.9611\n",
      "Epoch 56/100000\n",
      "2000/2000 [==============================] - ETA: 0s - loss: 0.4958 - mathsformer_LLM_output_loss: 0.1838 - mathsformer_LLM_output_1_loss: 0.1569 - mathsformer_LLM_output_2_loss: 0.1551 - mathsformer_LLM_output_masked_categorical_accuracy: 0.9287 - mathsformer_LLM_output_1_masked_categorical_accuracy: 0.9400 - mathsformer_LLM_output_2_masked_categorical_accuracy: 0.9413"
     ]
    },
    {
     "name": "stderr",
     "output_type": "stream",
     "text": [
      "DEBUG:mathsformer.selfsupervised_learning_addition_model_backend:Training reached the end of epoch at index 55\n",
      "DEBUG:mathsformer.selfsupervised_learning_addition_model_backend:    with metric loss: 0.49584\n",
      "DEBUG:mathsformer.selfsupervised_learning_addition_model_backend:    with metric mathsformer_LLM_output_loss: 0.18381\n",
      "DEBUG:mathsformer.selfsupervised_learning_addition_model_backend:    with metric mathsformer_LLM_output_1_loss: 0.15692\n",
      "DEBUG:mathsformer.selfsupervised_learning_addition_model_backend:    with metric mathsformer_LLM_output_2_loss: 0.15511\n",
      "DEBUG:mathsformer.selfsupervised_learning_addition_model_backend:    with metric mathsformer_LLM_output_masked_categorical_accuracy: 0.92868\n",
      "DEBUG:mathsformer.selfsupervised_learning_addition_model_backend:    with metric mathsformer_LLM_output_1_masked_categorical_accuracy: 0.93999\n",
      "DEBUG:mathsformer.selfsupervised_learning_addition_model_backend:    with metric mathsformer_LLM_output_2_masked_categorical_accuracy: 0.94134\n",
      "DEBUG:mathsformer.selfsupervised_learning_addition_model_backend:    with metric val_loss: 0.1581\n",
      "DEBUG:mathsformer.selfsupervised_learning_addition_model_backend:    with metric val_mathsformer_LLM_output_loss: 0.059879\n",
      "DEBUG:mathsformer.selfsupervised_learning_addition_model_backend:    with metric val_mathsformer_LLM_output_1_loss: 0.048825\n",
      "DEBUG:mathsformer.selfsupervised_learning_addition_model_backend:    with metric val_mathsformer_LLM_output_2_loss: 0.049397\n",
      "DEBUG:mathsformer.selfsupervised_learning_addition_model_backend:    with metric val_mathsformer_LLM_output_masked_categorical_accuracy: 0.98041\n",
      "DEBUG:mathsformer.selfsupervised_learning_addition_model_backend:    with metric val_mathsformer_LLM_output_1_masked_categorical_accuracy: 0.98395\n",
      "DEBUG:mathsformer.selfsupervised_learning_addition_model_backend:    with metric val_mathsformer_LLM_output_2_masked_categorical_accuracy: 0.98404\n",
      "DEBUG:mathsformer.selfsupervised_learning_addition_model_backend:Running text --> text mathsformer inference on some training data:\n",
      "DEBUG:mathsformer.selfsupervised_learning_addition_model_backend:------------------------------------------------------------------------------------\n",
      "DEBUG:mathsformer.selfsupervised_learning_addition_model_backend:              INPUT         TRUE   PRED(MASK)    PRED(GEN)      CORRECT     RESIDUAL\n",
      "DEBUG:mathsformer.selfsupervised_learning_addition_model_backend:------------------------------------------------------------------------------------\n",
      "DEBUG:mathsformer.selfsupervised_learning_addition_model_backend:            76-N292          368        368EE          368          X              0\n",
      "DEBUG:mathsformer.selfsupervised_learning_addition_model_backend:            N4+N799         N803        N803E         N803          X              0\n",
      "DEBUG:mathsformer.selfsupervised_learning_addition_model_backend:              333+7          340        340EE          340          X              0\n",
      "DEBUG:mathsformer.selfsupervised_learning_addition_model_backend: N58+N2-N615-51+678         1182        1182E         1182          X              0\n",
      "DEBUG:mathsformer.selfsupervised_learning_addition_model_backend:      N1-148-N5+N30         N174        N174E         N174          X              0\n",
      "DEBUG:mathsformer.selfsupervised_learning_addition_model_backend:   8-N118+434+N1647        N1087        N1087        N1087          X              0\n",
      "DEBUG:mathsformer.selfsupervised_learning_addition_model_backend:   N510+8-N69+65-N8         N360        N369E         N369                        -9\n",
      "DEBUG:mathsformer.selfsupervised_learning_addition_model_backend:                N12          N12        N12EE          N12          X              0\n",
      "DEBUG:mathsformer.selfsupervised_learning_addition_model_backend:                  9            9        9EEEE            9          X              0\n",
      "DEBUG:mathsformer.selfsupervised_learning_addition_model_backend:               3930         3930        3930E         3930          X              0\n",
      "DEBUG:mathsformer.selfsupervised_learning_addition_model_backend:Running text --> text mathsformer inference on some validation data:\n",
      "DEBUG:mathsformer.selfsupervised_learning_addition_model_backend:--------------------------------------------------------------------------------\n",
      "DEBUG:mathsformer.selfsupervised_learning_addition_model_backend:          INPUT         TRUE   PRED(MASK)    PRED(GEN)      CORRECT     RESIDUAL\n",
      "DEBUG:mathsformer.selfsupervised_learning_addition_model_backend:--------------------------------------------------------------------------------\n",
      "DEBUG:mathsformer.selfsupervised_learning_addition_model_backend:      N5-14-516         N535        N535E         N535          X              0\n",
      "DEBUG:mathsformer.selfsupervised_learning_addition_model_backend:   566-N52-5117        N4499        N4599        N4599                      -100\n",
      "DEBUG:mathsformer.selfsupervised_learning_addition_model_backend:    N7+N3567-36        N3610        N3610        N3610          X              0\n",
      "DEBUG:mathsformer.selfsupervised_learning_addition_model_backend:       414+N2-2          410        411EE          411                         1\n",
      "DEBUG:mathsformer.selfsupervised_learning_addition_model_backend:     N16-36+N31          N83        N83EE          N83          X              0\n",
      "DEBUG:mathsformer.selfsupervised_learning_addition_model_backend:     2988+N54-6         2928        2928E         2928          X              0\n",
      "DEBUG:mathsformer.selfsupervised_learning_addition_model_backend:    N4036+N8+93        N3951        N3951        N3951          X              0\n",
      "DEBUG:mathsformer.selfsupervised_learning_addition_model_backend: N302+N4928+N86        N5316        N5316        N5316          X              0\n",
      "DEBUG:mathsformer.selfsupervised_learning_addition_model_backend: 7339+N771+N948         5620        5620E         5620          X              0\n",
      "DEBUG:mathsformer.selfsupervised_learning_addition_model_backend:  N1012+N47+N85        N1144        N1144        N1144          X              0\n"
     ]
    },
    {
     "name": "stdout",
     "output_type": "stream",
     "text": [
      "2000/2000 [==============================] - 860s 430ms/step - loss: 0.4958 - mathsformer_LLM_output_loss: 0.1838 - mathsformer_LLM_output_1_loss: 0.1569 - mathsformer_LLM_output_2_loss: 0.1551 - mathsformer_LLM_output_masked_categorical_accuracy: 0.9287 - mathsformer_LLM_output_1_masked_categorical_accuracy: 0.9400 - mathsformer_LLM_output_2_masked_categorical_accuracy: 0.9413 - val_loss: 0.1581 - val_mathsformer_LLM_output_loss: 0.0599 - val_mathsformer_LLM_output_1_loss: 0.0488 - val_mathsformer_LLM_output_2_loss: 0.0494 - val_mathsformer_LLM_output_masked_categorical_accuracy: 0.9804 - val_mathsformer_LLM_output_1_masked_categorical_accuracy: 0.9840 - val_mathsformer_LLM_output_2_masked_categorical_accuracy: 0.9840\n",
      "Epoch 57/100000\n",
      "2000/2000 [==============================] - ETA: 0s - loss: 0.5167 - mathsformer_LLM_output_loss: 0.1890 - mathsformer_LLM_output_1_loss: 0.1638 - mathsformer_LLM_output_2_loss: 0.1639 - mathsformer_LLM_output_masked_categorical_accuracy: 0.9280 - mathsformer_LLM_output_1_masked_categorical_accuracy: 0.9386 - mathsformer_LLM_output_2_masked_categorical_accuracy: 0.9394"
     ]
    },
    {
     "name": "stderr",
     "output_type": "stream",
     "text": [
      "DEBUG:mathsformer.selfsupervised_learning_addition_model_backend:Training reached the end of epoch at index 56\n",
      "DEBUG:mathsformer.selfsupervised_learning_addition_model_backend:    with metric loss: 0.51668\n",
      "DEBUG:mathsformer.selfsupervised_learning_addition_model_backend:    with metric mathsformer_LLM_output_loss: 0.189\n",
      "DEBUG:mathsformer.selfsupervised_learning_addition_model_backend:    with metric mathsformer_LLM_output_1_loss: 0.16377\n",
      "DEBUG:mathsformer.selfsupervised_learning_addition_model_backend:    with metric mathsformer_LLM_output_2_loss: 0.1639\n",
      "DEBUG:mathsformer.selfsupervised_learning_addition_model_backend:    with metric mathsformer_LLM_output_masked_categorical_accuracy: 0.92801\n",
      "DEBUG:mathsformer.selfsupervised_learning_addition_model_backend:    with metric mathsformer_LLM_output_1_masked_categorical_accuracy: 0.93863\n",
      "DEBUG:mathsformer.selfsupervised_learning_addition_model_backend:    with metric mathsformer_LLM_output_2_masked_categorical_accuracy: 0.93939\n",
      "DEBUG:mathsformer.selfsupervised_learning_addition_model_backend:    with metric val_loss: 2.7465\n",
      "DEBUG:mathsformer.selfsupervised_learning_addition_model_backend:    with metric val_mathsformer_LLM_output_loss: 0.88893\n",
      "DEBUG:mathsformer.selfsupervised_learning_addition_model_backend:    with metric val_mathsformer_LLM_output_1_loss: 0.9019\n",
      "DEBUG:mathsformer.selfsupervised_learning_addition_model_backend:    with metric val_mathsformer_LLM_output_2_loss: 0.9557\n",
      "DEBUG:mathsformer.selfsupervised_learning_addition_model_backend:    with metric val_mathsformer_LLM_output_masked_categorical_accuracy: 0.70932\n",
      "DEBUG:mathsformer.selfsupervised_learning_addition_model_backend:    with metric val_mathsformer_LLM_output_1_masked_categorical_accuracy: 0.70828\n",
      "DEBUG:mathsformer.selfsupervised_learning_addition_model_backend:    with metric val_mathsformer_LLM_output_2_masked_categorical_accuracy: 0.69485\n",
      "DEBUG:mathsformer.selfsupervised_learning_addition_model_backend:Running text --> text mathsformer inference on some training data:\n",
      "DEBUG:mathsformer.selfsupervised_learning_addition_model_backend:------------------------------------------------------------------------------------\n",
      "DEBUG:mathsformer.selfsupervised_learning_addition_model_backend:              INPUT         TRUE   PRED(MASK)    PRED(GEN)      CORRECT     RESIDUAL\n",
      "DEBUG:mathsformer.selfsupervised_learning_addition_model_backend:------------------------------------------------------------------------------------\n",
      "DEBUG:mathsformer.selfsupervised_learning_addition_model_backend:            76-N292          368        367EE          367                        -1\n",
      "DEBUG:mathsformer.selfsupervised_learning_addition_model_backend:            N4+N799         N803        N803E         N803          X              0\n",
      "DEBUG:mathsformer.selfsupervised_learning_addition_model_backend:              333+7          340        340EE          340          X              0\n",
      "DEBUG:mathsformer.selfsupervised_learning_addition_model_backend: N58+N2-N615-51+678         1182        1092E         1092                       -90\n",
      "DEBUG:mathsformer.selfsupervised_learning_addition_model_backend:      N1-148-N5+N30         N174        N155E         N155                        19\n",
      "DEBUG:mathsformer.selfsupervised_learning_addition_model_backend:   8-N118+434+N1647        N1087        N9997         N997                        90\n",
      "DEBUG:mathsformer.selfsupervised_learning_addition_model_backend:   N510+8-N69+65-N8         N360        N199E         N100                       260\n",
      "DEBUG:mathsformer.selfsupervised_learning_addition_model_backend:                N12          N12        N12EE          N12          X              0\n",
      "DEBUG:mathsformer.selfsupervised_learning_addition_model_backend:                  9            9        9EE0E            9          X              0\n",
      "DEBUG:mathsformer.selfsupervised_learning_addition_model_backend:               3930         3930        3930E         3930          X              0\n",
      "DEBUG:mathsformer.selfsupervised_learning_addition_model_backend:Running text --> text mathsformer inference on some validation data:\n",
      "DEBUG:mathsformer.selfsupervised_learning_addition_model_backend:--------------------------------------------------------------------------------\n",
      "DEBUG:mathsformer.selfsupervised_learning_addition_model_backend:          INPUT         TRUE   PRED(MASK)    PRED(GEN)      CORRECT     RESIDUAL\n",
      "DEBUG:mathsformer.selfsupervised_learning_addition_model_backend:--------------------------------------------------------------------------------\n",
      "DEBUG:mathsformer.selfsupervised_learning_addition_model_backend:      N5-14-516         N535        N535E         N535          X              0\n",
      "DEBUG:mathsformer.selfsupervised_learning_addition_model_backend:   566-N52-5117        N4499        N3409        N3409                      1090\n",
      "DEBUG:mathsformer.selfsupervised_learning_addition_model_backend:    N7+N3567-36        N3610        N3600        N3600                        10\n",
      "DEBUG:mathsformer.selfsupervised_learning_addition_model_backend:       414+N2-2          410        410EE          410          X              0\n",
      "DEBUG:mathsformer.selfsupervised_learning_addition_model_backend:     N16-36+N31          N83        N19EE         N113                       -30\n",
      "DEBUG:mathsformer.selfsupervised_learning_addition_model_backend:     2988+N54-6         2928        2918E         2918                       -10\n",
      "DEBUG:mathsformer.selfsupervised_learning_addition_model_backend:    N4036+N8+93        N3951        N3951        N3951          X              0\n",
      "DEBUG:mathsformer.selfsupervised_learning_addition_model_backend: N302+N4928+N86        N5316        N5266        N5266                        50\n",
      "DEBUG:mathsformer.selfsupervised_learning_addition_model_backend: 7339+N771+N948         5620        5819E         5819                       199\n",
      "DEBUG:mathsformer.selfsupervised_learning_addition_model_backend:  N1012+N47+N85        N1144        N1143        N1143                         1\n"
     ]
    },
    {
     "name": "stdout",
     "output_type": "stream",
     "text": [
      "2000/2000 [==============================] - 862s 431ms/step - loss: 0.5167 - mathsformer_LLM_output_loss: 0.1890 - mathsformer_LLM_output_1_loss: 0.1638 - mathsformer_LLM_output_2_loss: 0.1639 - mathsformer_LLM_output_masked_categorical_accuracy: 0.9280 - mathsformer_LLM_output_1_masked_categorical_accuracy: 0.9386 - mathsformer_LLM_output_2_masked_categorical_accuracy: 0.9394 - val_loss: 2.7465 - val_mathsformer_LLM_output_loss: 0.8889 - val_mathsformer_LLM_output_1_loss: 0.9019 - val_mathsformer_LLM_output_2_loss: 0.9557 - val_mathsformer_LLM_output_masked_categorical_accuracy: 0.7093 - val_mathsformer_LLM_output_1_masked_categorical_accuracy: 0.7083 - val_mathsformer_LLM_output_2_masked_categorical_accuracy: 0.6948\n",
      "Epoch 58/100000\n",
      "2000/2000 [==============================] - ETA: 0s - loss: 0.5059 - mathsformer_LLM_output_loss: 0.1885 - mathsformer_LLM_output_1_loss: 0.1593 - mathsformer_LLM_output_2_loss: 0.1580 - mathsformer_LLM_output_masked_categorical_accuracy: 0.9277 - mathsformer_LLM_output_1_masked_categorical_accuracy: 0.9406 - mathsformer_LLM_output_2_masked_categorical_accuracy: 0.9415"
     ]
    },
    {
     "name": "stderr",
     "output_type": "stream",
     "text": [
      "DEBUG:mathsformer.selfsupervised_learning_addition_model_backend:Training reached the end of epoch at index 57\n",
      "DEBUG:mathsformer.selfsupervised_learning_addition_model_backend:    with metric loss: 0.50593\n",
      "DEBUG:mathsformer.selfsupervised_learning_addition_model_backend:    with metric mathsformer_LLM_output_loss: 0.18854\n",
      "DEBUG:mathsformer.selfsupervised_learning_addition_model_backend:    with metric mathsformer_LLM_output_1_loss: 0.15934\n",
      "DEBUG:mathsformer.selfsupervised_learning_addition_model_backend:    with metric mathsformer_LLM_output_2_loss: 0.15804\n",
      "DEBUG:mathsformer.selfsupervised_learning_addition_model_backend:    with metric mathsformer_LLM_output_masked_categorical_accuracy: 0.9277\n",
      "DEBUG:mathsformer.selfsupervised_learning_addition_model_backend:    with metric mathsformer_LLM_output_1_masked_categorical_accuracy: 0.94056\n",
      "DEBUG:mathsformer.selfsupervised_learning_addition_model_backend:    with metric mathsformer_LLM_output_2_masked_categorical_accuracy: 0.94155\n",
      "DEBUG:mathsformer.selfsupervised_learning_addition_model_backend:    with metric val_loss: 0.23474\n",
      "DEBUG:mathsformer.selfsupervised_learning_addition_model_backend:    with metric val_mathsformer_LLM_output_loss: 0.081882\n",
      "DEBUG:mathsformer.selfsupervised_learning_addition_model_backend:    with metric val_mathsformer_LLM_output_1_loss: 0.073736\n",
      "DEBUG:mathsformer.selfsupervised_learning_addition_model_backend:    with metric val_mathsformer_LLM_output_2_loss: 0.079121\n",
      "DEBUG:mathsformer.selfsupervised_learning_addition_model_backend:    with metric val_mathsformer_LLM_output_masked_categorical_accuracy: 0.96813\n",
      "DEBUG:mathsformer.selfsupervised_learning_addition_model_backend:    with metric val_mathsformer_LLM_output_1_masked_categorical_accuracy: 0.97323\n",
      "DEBUG:mathsformer.selfsupervised_learning_addition_model_backend:    with metric val_mathsformer_LLM_output_2_masked_categorical_accuracy: 0.97056\n",
      "DEBUG:mathsformer.selfsupervised_learning_addition_model_backend:Updating variable learning_rate:0 from 9.999999747378752e-05 to 1.9999999494757503e-05\n",
      "DEBUG:mathsformer.selfsupervised_learning_addition_model_backend:Running text --> text mathsformer inference on some training data:\n",
      "DEBUG:mathsformer.selfsupervised_learning_addition_model_backend:------------------------------------------------------------------------------------\n",
      "DEBUG:mathsformer.selfsupervised_learning_addition_model_backend:              INPUT         TRUE   PRED(MASK)    PRED(GEN)      CORRECT     RESIDUAL\n",
      "DEBUG:mathsformer.selfsupervised_learning_addition_model_backend:------------------------------------------------------------------------------------\n",
      "DEBUG:mathsformer.selfsupervised_learning_addition_model_backend:            76-N292          368        368EE          368          X              0\n",
      "DEBUG:mathsformer.selfsupervised_learning_addition_model_backend:            N4+N799         N803        N803E         N803          X              0\n",
      "DEBUG:mathsformer.selfsupervised_learning_addition_model_backend:              333+7          340        340EE          340          X              0\n",
      "DEBUG:mathsformer.selfsupervised_learning_addition_model_backend: N58+N2-N615-51+678         1182        1182E         1182          X              0\n",
      "DEBUG:mathsformer.selfsupervised_learning_addition_model_backend:      N1-148-N5+N30         N174        N174E         N174          X              0\n",
      "DEBUG:mathsformer.selfsupervised_learning_addition_model_backend:   8-N118+434+N1647        N1087        N1087        N1087          X              0\n",
      "DEBUG:mathsformer.selfsupervised_learning_addition_model_backend:   N510+8-N69+65-N8         N360        N360E         N360          X              0\n",
      "DEBUG:mathsformer.selfsupervised_learning_addition_model_backend:                N12          N12        N12EE          N12          X              0\n",
      "DEBUG:mathsformer.selfsupervised_learning_addition_model_backend:                  9            9        9EEEE            9          X              0\n",
      "DEBUG:mathsformer.selfsupervised_learning_addition_model_backend:               3930         3930        3930E         3930          X              0\n",
      "DEBUG:mathsformer.selfsupervised_learning_addition_model_backend:Running text --> text mathsformer inference on some validation data:\n",
      "DEBUG:mathsformer.selfsupervised_learning_addition_model_backend:--------------------------------------------------------------------------------\n",
      "DEBUG:mathsformer.selfsupervised_learning_addition_model_backend:          INPUT         TRUE   PRED(MASK)    PRED(GEN)      CORRECT     RESIDUAL\n",
      "DEBUG:mathsformer.selfsupervised_learning_addition_model_backend:--------------------------------------------------------------------------------\n",
      "DEBUG:mathsformer.selfsupervised_learning_addition_model_backend:      N5-14-516         N535        N535E         N535          X              0\n",
      "DEBUG:mathsformer.selfsupervised_learning_addition_model_backend:   566-N52-5117        N4499        N4499        N4499          X              0\n",
      "DEBUG:mathsformer.selfsupervised_learning_addition_model_backend:    N7+N3567-36        N3610        N3610        N3610          X              0\n",
      "DEBUG:mathsformer.selfsupervised_learning_addition_model_backend:       414+N2-2          410        410EE          410          X              0\n",
      "DEBUG:mathsformer.selfsupervised_learning_addition_model_backend:     N16-36+N31          N83        N73EE          N73                        10\n",
      "DEBUG:mathsformer.selfsupervised_learning_addition_model_backend:     2988+N54-6         2928        2928E         2928          X              0\n",
      "DEBUG:mathsformer.selfsupervised_learning_addition_model_backend:    N4036+N8+93        N3951        N3951        N3951          X              0\n",
      "DEBUG:mathsformer.selfsupervised_learning_addition_model_backend: N302+N4928+N86        N5316        N5316        N5316          X              0\n",
      "DEBUG:mathsformer.selfsupervised_learning_addition_model_backend: 7339+N771+N948         5620        5610E         5610                       -10\n",
      "DEBUG:mathsformer.selfsupervised_learning_addition_model_backend:  N1012+N47+N85        N1144        N1144        N1144          X              0\n"
     ]
    },
    {
     "name": "stdout",
     "output_type": "stream",
     "text": [
      "2000/2000 [==============================] - 863s 432ms/step - loss: 0.5059 - mathsformer_LLM_output_loss: 0.1885 - mathsformer_LLM_output_1_loss: 0.1593 - mathsformer_LLM_output_2_loss: 0.1580 - mathsformer_LLM_output_masked_categorical_accuracy: 0.9277 - mathsformer_LLM_output_1_masked_categorical_accuracy: 0.9406 - mathsformer_LLM_output_2_masked_categorical_accuracy: 0.9415 - val_loss: 0.2347 - val_mathsformer_LLM_output_loss: 0.0819 - val_mathsformer_LLM_output_1_loss: 0.0737 - val_mathsformer_LLM_output_2_loss: 0.0791 - val_mathsformer_LLM_output_masked_categorical_accuracy: 0.9681 - val_mathsformer_LLM_output_1_masked_categorical_accuracy: 0.9732 - val_mathsformer_LLM_output_2_masked_categorical_accuracy: 0.9706\n",
      "Epoch 59/100000\n",
      "2000/2000 [==============================] - ETA: 0s - loss: 0.2522 - mathsformer_LLM_output_loss: 0.1050 - mathsformer_LLM_output_1_loss: 0.0769 - mathsformer_LLM_output_2_loss: 0.0703 - mathsformer_LLM_output_masked_categorical_accuracy: 0.9607 - mathsformer_LLM_output_1_masked_categorical_accuracy: 0.9721 - mathsformer_LLM_output_2_masked_categorical_accuracy: 0.9748"
     ]
    },
    {
     "name": "stderr",
     "output_type": "stream",
     "text": [
      "DEBUG:mathsformer.selfsupervised_learning_addition_model_backend:Training reached the end of epoch at index 58\n",
      "DEBUG:mathsformer.selfsupervised_learning_addition_model_backend:    with metric loss: 0.25222\n",
      "DEBUG:mathsformer.selfsupervised_learning_addition_model_backend:    with metric mathsformer_LLM_output_loss: 0.10497\n",
      "DEBUG:mathsformer.selfsupervised_learning_addition_model_backend:    with metric mathsformer_LLM_output_1_loss: 0.076911\n",
      "DEBUG:mathsformer.selfsupervised_learning_addition_model_backend:    with metric mathsformer_LLM_output_2_loss: 0.070333\n",
      "DEBUG:mathsformer.selfsupervised_learning_addition_model_backend:    with metric mathsformer_LLM_output_masked_categorical_accuracy: 0.96068\n",
      "DEBUG:mathsformer.selfsupervised_learning_addition_model_backend:    with metric mathsformer_LLM_output_1_masked_categorical_accuracy: 0.97212\n",
      "DEBUG:mathsformer.selfsupervised_learning_addition_model_backend:    with metric mathsformer_LLM_output_2_masked_categorical_accuracy: 0.97481\n",
      "DEBUG:mathsformer.selfsupervised_learning_addition_model_backend:    with metric val_loss: 0.063956\n",
      "DEBUG:mathsformer.selfsupervised_learning_addition_model_backend:    with metric val_mathsformer_LLM_output_loss: 0.025308\n",
      "DEBUG:mathsformer.selfsupervised_learning_addition_model_backend:    with metric val_mathsformer_LLM_output_1_loss: 0.019123\n",
      "DEBUG:mathsformer.selfsupervised_learning_addition_model_backend:    with metric val_mathsformer_LLM_output_2_loss: 0.019525\n",
      "DEBUG:mathsformer.selfsupervised_learning_addition_model_backend:    with metric val_mathsformer_LLM_output_masked_categorical_accuracy: 0.99269\n",
      "DEBUG:mathsformer.selfsupervised_learning_addition_model_backend:    with metric val_mathsformer_LLM_output_1_masked_categorical_accuracy: 0.99544\n",
      "DEBUG:mathsformer.selfsupervised_learning_addition_model_backend:    with metric val_mathsformer_LLM_output_2_masked_categorical_accuracy: 0.99544\n",
      "DEBUG:mathsformer.selfsupervised_learning_addition_model_backend:Running text --> text mathsformer inference on some training data:\n",
      "DEBUG:mathsformer.selfsupervised_learning_addition_model_backend:------------------------------------------------------------------------------------\n",
      "DEBUG:mathsformer.selfsupervised_learning_addition_model_backend:              INPUT         TRUE   PRED(MASK)    PRED(GEN)      CORRECT     RESIDUAL\n",
      "DEBUG:mathsformer.selfsupervised_learning_addition_model_backend:------------------------------------------------------------------------------------\n",
      "DEBUG:mathsformer.selfsupervised_learning_addition_model_backend:            76-N292          368        368EE          368          X              0\n",
      "DEBUG:mathsformer.selfsupervised_learning_addition_model_backend:            N4+N799         N803        N803E         N803          X              0\n",
      "DEBUG:mathsformer.selfsupervised_learning_addition_model_backend:              333+7          340        340EE          340          X              0\n",
      "DEBUG:mathsformer.selfsupervised_learning_addition_model_backend: N58+N2-N615-51+678         1182        1182E         1182          X              0\n",
      "DEBUG:mathsformer.selfsupervised_learning_addition_model_backend:      N1-148-N5+N30         N174        N174E         N174          X              0\n",
      "DEBUG:mathsformer.selfsupervised_learning_addition_model_backend:   8-N118+434+N1647        N1087        N1087        N1087          X              0\n",
      "DEBUG:mathsformer.selfsupervised_learning_addition_model_backend:   N510+8-N69+65-N8         N360        N360E         N360          X              0\n",
      "DEBUG:mathsformer.selfsupervised_learning_addition_model_backend:                N12          N12        N12EE          N12          X              0\n",
      "DEBUG:mathsformer.selfsupervised_learning_addition_model_backend:                  9            9        9EEEE            9          X              0\n",
      "DEBUG:mathsformer.selfsupervised_learning_addition_model_backend:               3930         3930        3930E         3930          X              0\n",
      "DEBUG:mathsformer.selfsupervised_learning_addition_model_backend:Running text --> text mathsformer inference on some validation data:\n",
      "DEBUG:mathsformer.selfsupervised_learning_addition_model_backend:--------------------------------------------------------------------------------\n",
      "DEBUG:mathsformer.selfsupervised_learning_addition_model_backend:          INPUT         TRUE   PRED(MASK)    PRED(GEN)      CORRECT     RESIDUAL\n",
      "DEBUG:mathsformer.selfsupervised_learning_addition_model_backend:--------------------------------------------------------------------------------\n",
      "DEBUG:mathsformer.selfsupervised_learning_addition_model_backend:      N5-14-516         N535        N535E         N535          X              0\n",
      "DEBUG:mathsformer.selfsupervised_learning_addition_model_backend:   566-N52-5117        N4499        N4499        N4499          X              0\n",
      "DEBUG:mathsformer.selfsupervised_learning_addition_model_backend:    N7+N3567-36        N3610        N3610        N3610          X              0\n",
      "DEBUG:mathsformer.selfsupervised_learning_addition_model_backend:       414+N2-2          410        410EE          410          X              0\n",
      "DEBUG:mathsformer.selfsupervised_learning_addition_model_backend:     N16-36+N31          N83        N83EE          N83          X              0\n",
      "DEBUG:mathsformer.selfsupervised_learning_addition_model_backend:     2988+N54-6         2928        2928E         2928          X              0\n",
      "DEBUG:mathsformer.selfsupervised_learning_addition_model_backend:    N4036+N8+93        N3951        N3951        N3951          X              0\n",
      "DEBUG:mathsformer.selfsupervised_learning_addition_model_backend: N302+N4928+N86        N5316        N5316        N5316          X              0\n",
      "DEBUG:mathsformer.selfsupervised_learning_addition_model_backend: 7339+N771+N948         5620        5620E         5620          X              0\n",
      "DEBUG:mathsformer.selfsupervised_learning_addition_model_backend:  N1012+N47+N85        N1144        N1144        N1144          X              0\n"
     ]
    },
    {
     "name": "stdout",
     "output_type": "stream",
     "text": [
      "2000/2000 [==============================] - 864s 432ms/step - loss: 0.2522 - mathsformer_LLM_output_loss: 0.1050 - mathsformer_LLM_output_1_loss: 0.0769 - mathsformer_LLM_output_2_loss: 0.0703 - mathsformer_LLM_output_masked_categorical_accuracy: 0.9607 - mathsformer_LLM_output_1_masked_categorical_accuracy: 0.9721 - mathsformer_LLM_output_2_masked_categorical_accuracy: 0.9748 - val_loss: 0.0640 - val_mathsformer_LLM_output_loss: 0.0253 - val_mathsformer_LLM_output_1_loss: 0.0191 - val_mathsformer_LLM_output_2_loss: 0.0195 - val_mathsformer_LLM_output_masked_categorical_accuracy: 0.9927 - val_mathsformer_LLM_output_1_masked_categorical_accuracy: 0.9954 - val_mathsformer_LLM_output_2_masked_categorical_accuracy: 0.9954\n",
      "Epoch 60/100000\n",
      "2000/2000 [==============================] - ETA: 0s - loss: 0.2257 - mathsformer_LLM_output_loss: 0.0949 - mathsformer_LLM_output_1_loss: 0.0681 - mathsformer_LLM_output_2_loss: 0.0627 - mathsformer_LLM_output_masked_categorical_accuracy: 0.9645 - mathsformer_LLM_output_1_masked_categorical_accuracy: 0.9755 - mathsformer_LLM_output_2_masked_categorical_accuracy: 0.9777"
     ]
    },
    {
     "name": "stderr",
     "output_type": "stream",
     "text": [
      "DEBUG:mathsformer.selfsupervised_learning_addition_model_backend:Training reached the end of epoch at index 59\n",
      "DEBUG:mathsformer.selfsupervised_learning_addition_model_backend:    with metric loss: 0.22566\n",
      "DEBUG:mathsformer.selfsupervised_learning_addition_model_backend:    with metric mathsformer_LLM_output_loss: 0.094879\n",
      "DEBUG:mathsformer.selfsupervised_learning_addition_model_backend:    with metric mathsformer_LLM_output_1_loss: 0.068106\n",
      "DEBUG:mathsformer.selfsupervised_learning_addition_model_backend:    with metric mathsformer_LLM_output_2_loss: 0.062675\n",
      "DEBUG:mathsformer.selfsupervised_learning_addition_model_backend:    with metric mathsformer_LLM_output_masked_categorical_accuracy: 0.96446\n",
      "DEBUG:mathsformer.selfsupervised_learning_addition_model_backend:    with metric mathsformer_LLM_output_1_masked_categorical_accuracy: 0.97546\n",
      "DEBUG:mathsformer.selfsupervised_learning_addition_model_backend:    with metric mathsformer_LLM_output_2_masked_categorical_accuracy: 0.97772\n",
      "DEBUG:mathsformer.selfsupervised_learning_addition_model_backend:    with metric val_loss: 0.073301\n",
      "DEBUG:mathsformer.selfsupervised_learning_addition_model_backend:    with metric val_mathsformer_LLM_output_loss: 0.029035\n",
      "DEBUG:mathsformer.selfsupervised_learning_addition_model_backend:    with metric val_mathsformer_LLM_output_1_loss: 0.022177\n",
      "DEBUG:mathsformer.selfsupervised_learning_addition_model_backend:    with metric val_mathsformer_LLM_output_2_loss: 0.022089\n",
      "DEBUG:mathsformer.selfsupervised_learning_addition_model_backend:    with metric val_mathsformer_LLM_output_masked_categorical_accuracy: 0.99128\n",
      "DEBUG:mathsformer.selfsupervised_learning_addition_model_backend:    with metric val_mathsformer_LLM_output_1_masked_categorical_accuracy: 0.99267\n",
      "DEBUG:mathsformer.selfsupervised_learning_addition_model_backend:    with metric val_mathsformer_LLM_output_2_masked_categorical_accuracy: 0.99295\n",
      "DEBUG:mathsformer.selfsupervised_learning_addition_model_backend:Running text --> text mathsformer inference on some training data:\n",
      "DEBUG:mathsformer.selfsupervised_learning_addition_model_backend:------------------------------------------------------------------------------------\n",
      "DEBUG:mathsformer.selfsupervised_learning_addition_model_backend:              INPUT         TRUE   PRED(MASK)    PRED(GEN)      CORRECT     RESIDUAL\n",
      "DEBUG:mathsformer.selfsupervised_learning_addition_model_backend:------------------------------------------------------------------------------------\n",
      "DEBUG:mathsformer.selfsupervised_learning_addition_model_backend:            76-N292          368        368EE          368          X              0\n",
      "DEBUG:mathsformer.selfsupervised_learning_addition_model_backend:            N4+N799         N803        N803E         N803          X              0\n",
      "DEBUG:mathsformer.selfsupervised_learning_addition_model_backend:              333+7          340        340EE          340          X              0\n",
      "DEBUG:mathsformer.selfsupervised_learning_addition_model_backend: N58+N2-N615-51+678         1182        1182E         1182          X              0\n",
      "DEBUG:mathsformer.selfsupervised_learning_addition_model_backend:      N1-148-N5+N30         N174        N174E         N174          X              0\n",
      "DEBUG:mathsformer.selfsupervised_learning_addition_model_backend:   8-N118+434+N1647        N1087        N1087        N1087          X              0\n",
      "DEBUG:mathsformer.selfsupervised_learning_addition_model_backend:   N510+8-N69+65-N8         N360        N350E         N350                        10\n",
      "DEBUG:mathsformer.selfsupervised_learning_addition_model_backend:                N12          N12        N12EE          N12          X              0\n",
      "DEBUG:mathsformer.selfsupervised_learning_addition_model_backend:                  9            9        9EEEE            9          X              0\n",
      "DEBUG:mathsformer.selfsupervised_learning_addition_model_backend:               3930         3930        3930E         3930          X              0\n",
      "DEBUG:mathsformer.selfsupervised_learning_addition_model_backend:Running text --> text mathsformer inference on some validation data:\n",
      "DEBUG:mathsformer.selfsupervised_learning_addition_model_backend:--------------------------------------------------------------------------------\n",
      "DEBUG:mathsformer.selfsupervised_learning_addition_model_backend:          INPUT         TRUE   PRED(MASK)    PRED(GEN)      CORRECT     RESIDUAL\n",
      "DEBUG:mathsformer.selfsupervised_learning_addition_model_backend:--------------------------------------------------------------------------------\n",
      "DEBUG:mathsformer.selfsupervised_learning_addition_model_backend:      N5-14-516         N535        N535E         N535          X              0\n",
      "DEBUG:mathsformer.selfsupervised_learning_addition_model_backend:   566-N52-5117        N4499        N4499        N4499          X              0\n",
      "DEBUG:mathsformer.selfsupervised_learning_addition_model_backend:    N7+N3567-36        N3610        N3610        N3610          X              0\n",
      "DEBUG:mathsformer.selfsupervised_learning_addition_model_backend:       414+N2-2          410        410EE          410          X              0\n",
      "DEBUG:mathsformer.selfsupervised_learning_addition_model_backend:     N16-36+N31          N83        N83EE          N83          X              0\n",
      "DEBUG:mathsformer.selfsupervised_learning_addition_model_backend:     2988+N54-6         2928        2928E         2928          X              0\n",
      "DEBUG:mathsformer.selfsupervised_learning_addition_model_backend:    N4036+N8+93        N3951        N3951        N3951          X              0\n",
      "DEBUG:mathsformer.selfsupervised_learning_addition_model_backend: N302+N4928+N86        N5316        N5316        N5316          X              0\n",
      "DEBUG:mathsformer.selfsupervised_learning_addition_model_backend: 7339+N771+N948         5620        5620E         5620          X              0\n",
      "DEBUG:mathsformer.selfsupervised_learning_addition_model_backend:  N1012+N47+N85        N1144        N1144        N1144          X              0\n"
     ]
    },
    {
     "name": "stdout",
     "output_type": "stream",
     "text": [
      "2000/2000 [==============================] - 860s 430ms/step - loss: 0.2257 - mathsformer_LLM_output_loss: 0.0949 - mathsformer_LLM_output_1_loss: 0.0681 - mathsformer_LLM_output_2_loss: 0.0627 - mathsformer_LLM_output_masked_categorical_accuracy: 0.9645 - mathsformer_LLM_output_1_masked_categorical_accuracy: 0.9755 - mathsformer_LLM_output_2_masked_categorical_accuracy: 0.9777 - val_loss: 0.0733 - val_mathsformer_LLM_output_loss: 0.0290 - val_mathsformer_LLM_output_1_loss: 0.0222 - val_mathsformer_LLM_output_2_loss: 0.0221 - val_mathsformer_LLM_output_masked_categorical_accuracy: 0.9913 - val_mathsformer_LLM_output_1_masked_categorical_accuracy: 0.9927 - val_mathsformer_LLM_output_2_masked_categorical_accuracy: 0.9930\n",
      "Epoch 61/100000\n",
      "2000/2000 [==============================] - ETA: 0s - loss: 0.2140 - mathsformer_LLM_output_loss: 0.0897 - mathsformer_LLM_output_1_loss: 0.0651 - mathsformer_LLM_output_2_loss: 0.0592 - mathsformer_LLM_output_masked_categorical_accuracy: 0.9666 - mathsformer_LLM_output_1_masked_categorical_accuracy: 0.9762 - mathsformer_LLM_output_2_masked_categorical_accuracy: 0.9787"
     ]
    },
    {
     "name": "stderr",
     "output_type": "stream",
     "text": [
      "DEBUG:mathsformer.selfsupervised_learning_addition_model_backend:Training reached the end of epoch at index 60\n",
      "DEBUG:mathsformer.selfsupervised_learning_addition_model_backend:    with metric loss: 0.21402\n",
      "DEBUG:mathsformer.selfsupervised_learning_addition_model_backend:    with metric mathsformer_LLM_output_loss: 0.089672\n",
      "DEBUG:mathsformer.selfsupervised_learning_addition_model_backend:    with metric mathsformer_LLM_output_1_loss: 0.065144\n",
      "DEBUG:mathsformer.selfsupervised_learning_addition_model_backend:    with metric mathsformer_LLM_output_2_loss: 0.059204\n",
      "DEBUG:mathsformer.selfsupervised_learning_addition_model_backend:    with metric mathsformer_LLM_output_masked_categorical_accuracy: 0.96662\n",
      "DEBUG:mathsformer.selfsupervised_learning_addition_model_backend:    with metric mathsformer_LLM_output_1_masked_categorical_accuracy: 0.9762\n",
      "DEBUG:mathsformer.selfsupervised_learning_addition_model_backend:    with metric mathsformer_LLM_output_2_masked_categorical_accuracy: 0.9787\n",
      "DEBUG:mathsformer.selfsupervised_learning_addition_model_backend:    with metric val_loss: 0.045891\n",
      "DEBUG:mathsformer.selfsupervised_learning_addition_model_backend:    with metric val_mathsformer_LLM_output_loss: 0.019104\n",
      "DEBUG:mathsformer.selfsupervised_learning_addition_model_backend:    with metric val_mathsformer_LLM_output_1_loss: 0.013338\n",
      "DEBUG:mathsformer.selfsupervised_learning_addition_model_backend:    with metric val_mathsformer_LLM_output_2_loss: 0.01345\n",
      "DEBUG:mathsformer.selfsupervised_learning_addition_model_backend:    with metric val_mathsformer_LLM_output_masked_categorical_accuracy: 0.99486\n",
      "DEBUG:mathsformer.selfsupervised_learning_addition_model_backend:    with metric val_mathsformer_LLM_output_1_masked_categorical_accuracy: 0.99662\n",
      "DEBUG:mathsformer.selfsupervised_learning_addition_model_backend:    with metric val_mathsformer_LLM_output_2_masked_categorical_accuracy: 0.997\n",
      "DEBUG:mathsformer.selfsupervised_learning_addition_model_backend:Running text --> text mathsformer inference on some training data:\n",
      "DEBUG:mathsformer.selfsupervised_learning_addition_model_backend:------------------------------------------------------------------------------------\n",
      "DEBUG:mathsformer.selfsupervised_learning_addition_model_backend:              INPUT         TRUE   PRED(MASK)    PRED(GEN)      CORRECT     RESIDUAL\n",
      "DEBUG:mathsformer.selfsupervised_learning_addition_model_backend:------------------------------------------------------------------------------------\n",
      "DEBUG:mathsformer.selfsupervised_learning_addition_model_backend:            76-N292          368        368EE          368          X              0\n",
      "DEBUG:mathsformer.selfsupervised_learning_addition_model_backend:            N4+N799         N803        N803E         N803          X              0\n",
      "DEBUG:mathsformer.selfsupervised_learning_addition_model_backend:              333+7          340        340EE          340          X              0\n",
      "DEBUG:mathsformer.selfsupervised_learning_addition_model_backend: N58+N2-N615-51+678         1182        1182E         1182          X              0\n",
      "DEBUG:mathsformer.selfsupervised_learning_addition_model_backend:      N1-148-N5+N30         N174        N174E         N174          X              0\n",
      "DEBUG:mathsformer.selfsupervised_learning_addition_model_backend:   8-N118+434+N1647        N1087        N1087        N1087          X              0\n",
      "DEBUG:mathsformer.selfsupervised_learning_addition_model_backend:   N510+8-N69+65-N8         N360        N360E         N360          X              0\n",
      "DEBUG:mathsformer.selfsupervised_learning_addition_model_backend:                N12          N12        N12EE          N12          X              0\n",
      "DEBUG:mathsformer.selfsupervised_learning_addition_model_backend:                  9            9        9EEEE            9          X              0\n",
      "DEBUG:mathsformer.selfsupervised_learning_addition_model_backend:               3930         3930        3930E         3930          X              0\n",
      "DEBUG:mathsformer.selfsupervised_learning_addition_model_backend:Running text --> text mathsformer inference on some validation data:\n",
      "DEBUG:mathsformer.selfsupervised_learning_addition_model_backend:--------------------------------------------------------------------------------\n",
      "DEBUG:mathsformer.selfsupervised_learning_addition_model_backend:          INPUT         TRUE   PRED(MASK)    PRED(GEN)      CORRECT     RESIDUAL\n",
      "DEBUG:mathsformer.selfsupervised_learning_addition_model_backend:--------------------------------------------------------------------------------\n",
      "DEBUG:mathsformer.selfsupervised_learning_addition_model_backend:      N5-14-516         N535        N535E         N535          X              0\n",
      "DEBUG:mathsformer.selfsupervised_learning_addition_model_backend:   566-N52-5117        N4499        N4499        N4499          X              0\n",
      "DEBUG:mathsformer.selfsupervised_learning_addition_model_backend:    N7+N3567-36        N3610        N3610        N3610          X              0\n",
      "DEBUG:mathsformer.selfsupervised_learning_addition_model_backend:       414+N2-2          410        410EE          410          X              0\n",
      "DEBUG:mathsformer.selfsupervised_learning_addition_model_backend:     N16-36+N31          N83        N83EE          N83          X              0\n",
      "DEBUG:mathsformer.selfsupervised_learning_addition_model_backend:     2988+N54-6         2928        2928E         2928          X              0\n",
      "DEBUG:mathsformer.selfsupervised_learning_addition_model_backend:    N4036+N8+93        N3951        N3951        N3951          X              0\n",
      "DEBUG:mathsformer.selfsupervised_learning_addition_model_backend: N302+N4928+N86        N5316        N5316        N5316          X              0\n",
      "DEBUG:mathsformer.selfsupervised_learning_addition_model_backend: 7339+N771+N948         5620        5620E         5620          X              0\n",
      "DEBUG:mathsformer.selfsupervised_learning_addition_model_backend:  N1012+N47+N85        N1144        N1144        N1144          X              0\n"
     ]
    },
    {
     "name": "stdout",
     "output_type": "stream",
     "text": [
      "2000/2000 [==============================] - 879s 440ms/step - loss: 0.2140 - mathsformer_LLM_output_loss: 0.0897 - mathsformer_LLM_output_1_loss: 0.0651 - mathsformer_LLM_output_2_loss: 0.0592 - mathsformer_LLM_output_masked_categorical_accuracy: 0.9666 - mathsformer_LLM_output_1_masked_categorical_accuracy: 0.9762 - mathsformer_LLM_output_2_masked_categorical_accuracy: 0.9787 - val_loss: 0.0459 - val_mathsformer_LLM_output_loss: 0.0191 - val_mathsformer_LLM_output_1_loss: 0.0133 - val_mathsformer_LLM_output_2_loss: 0.0134 - val_mathsformer_LLM_output_masked_categorical_accuracy: 0.9949 - val_mathsformer_LLM_output_1_masked_categorical_accuracy: 0.9966 - val_mathsformer_LLM_output_2_masked_categorical_accuracy: 0.9970\n",
      "Epoch 62/100000\n",
      "2000/2000 [==============================] - ETA: 0s - loss: 0.2061 - mathsformer_LLM_output_loss: 0.0864 - mathsformer_LLM_output_1_loss: 0.0625 - mathsformer_LLM_output_2_loss: 0.0572 - mathsformer_LLM_output_masked_categorical_accuracy: 0.9678 - mathsformer_LLM_output_1_masked_categorical_accuracy: 0.9773 - mathsformer_LLM_output_2_masked_categorical_accuracy: 0.9796"
     ]
    },
    {
     "name": "stderr",
     "output_type": "stream",
     "text": [
      "DEBUG:mathsformer.selfsupervised_learning_addition_model_backend:Training reached the end of epoch at index 61\n",
      "DEBUG:mathsformer.selfsupervised_learning_addition_model_backend:    with metric loss: 0.20609\n",
      "DEBUG:mathsformer.selfsupervised_learning_addition_model_backend:    with metric mathsformer_LLM_output_loss: 0.086391\n",
      "DEBUG:mathsformer.selfsupervised_learning_addition_model_backend:    with metric mathsformer_LLM_output_1_loss: 0.062475\n",
      "DEBUG:mathsformer.selfsupervised_learning_addition_model_backend:    with metric mathsformer_LLM_output_2_loss: 0.057224\n",
      "DEBUG:mathsformer.selfsupervised_learning_addition_model_backend:    with metric mathsformer_LLM_output_masked_categorical_accuracy: 0.96779\n",
      "DEBUG:mathsformer.selfsupervised_learning_addition_model_backend:    with metric mathsformer_LLM_output_1_masked_categorical_accuracy: 0.97732\n",
      "DEBUG:mathsformer.selfsupervised_learning_addition_model_backend:    with metric mathsformer_LLM_output_2_masked_categorical_accuracy: 0.97955\n",
      "DEBUG:mathsformer.selfsupervised_learning_addition_model_backend:    with metric val_loss: 0.06356\n",
      "DEBUG:mathsformer.selfsupervised_learning_addition_model_backend:    with metric val_mathsformer_LLM_output_loss: 0.025663\n",
      "DEBUG:mathsformer.selfsupervised_learning_addition_model_backend:    with metric val_mathsformer_LLM_output_1_loss: 0.018785\n",
      "DEBUG:mathsformer.selfsupervised_learning_addition_model_backend:    with metric val_mathsformer_LLM_output_2_loss: 0.019112\n",
      "DEBUG:mathsformer.selfsupervised_learning_addition_model_backend:    with metric val_mathsformer_LLM_output_masked_categorical_accuracy: 0.99107\n",
      "DEBUG:mathsformer.selfsupervised_learning_addition_model_backend:    with metric val_mathsformer_LLM_output_1_masked_categorical_accuracy: 0.99406\n",
      "DEBUG:mathsformer.selfsupervised_learning_addition_model_backend:    with metric val_mathsformer_LLM_output_2_masked_categorical_accuracy: 0.99358\n",
      "DEBUG:mathsformer.selfsupervised_learning_addition_model_backend:Running text --> text mathsformer inference on some training data:\n",
      "DEBUG:mathsformer.selfsupervised_learning_addition_model_backend:------------------------------------------------------------------------------------\n",
      "DEBUG:mathsformer.selfsupervised_learning_addition_model_backend:              INPUT         TRUE   PRED(MASK)    PRED(GEN)      CORRECT     RESIDUAL\n",
      "DEBUG:mathsformer.selfsupervised_learning_addition_model_backend:------------------------------------------------------------------------------------\n",
      "DEBUG:mathsformer.selfsupervised_learning_addition_model_backend:            76-N292          368        368EE          368          X              0\n",
      "DEBUG:mathsformer.selfsupervised_learning_addition_model_backend:            N4+N799         N803        N803E         N803          X              0\n",
      "DEBUG:mathsformer.selfsupervised_learning_addition_model_backend:              333+7          340        340EE          340          X              0\n",
      "DEBUG:mathsformer.selfsupervised_learning_addition_model_backend: N58+N2-N615-51+678         1182        1182E         1182          X              0\n",
      "DEBUG:mathsformer.selfsupervised_learning_addition_model_backend:      N1-148-N5+N30         N174        N174E         N174          X              0\n",
      "DEBUG:mathsformer.selfsupervised_learning_addition_model_backend:   8-N118+434+N1647        N1087        N1087        N1087          X              0\n",
      "DEBUG:mathsformer.selfsupervised_learning_addition_model_backend:   N510+8-N69+65-N8         N360        N360E         N360          X              0\n",
      "DEBUG:mathsformer.selfsupervised_learning_addition_model_backend:                N12          N12        N12EE          N12          X              0\n",
      "DEBUG:mathsformer.selfsupervised_learning_addition_model_backend:                  9            9        9EEEE            9          X              0\n",
      "DEBUG:mathsformer.selfsupervised_learning_addition_model_backend:               3930         3930        3930E         3930          X              0\n",
      "DEBUG:mathsformer.selfsupervised_learning_addition_model_backend:Running text --> text mathsformer inference on some validation data:\n",
      "DEBUG:mathsformer.selfsupervised_learning_addition_model_backend:--------------------------------------------------------------------------------\n",
      "DEBUG:mathsformer.selfsupervised_learning_addition_model_backend:          INPUT         TRUE   PRED(MASK)    PRED(GEN)      CORRECT     RESIDUAL\n",
      "DEBUG:mathsformer.selfsupervised_learning_addition_model_backend:--------------------------------------------------------------------------------\n",
      "DEBUG:mathsformer.selfsupervised_learning_addition_model_backend:      N5-14-516         N535        N535E         N535          X              0\n",
      "DEBUG:mathsformer.selfsupervised_learning_addition_model_backend:   566-N52-5117        N4499        N4499        N4499          X              0\n",
      "DEBUG:mathsformer.selfsupervised_learning_addition_model_backend:    N7+N3567-36        N3610        N3610        N3610          X              0\n",
      "DEBUG:mathsformer.selfsupervised_learning_addition_model_backend:       414+N2-2          410        410EE          410          X              0\n",
      "DEBUG:mathsformer.selfsupervised_learning_addition_model_backend:     N16-36+N31          N83        N83EE          N83          X              0\n",
      "DEBUG:mathsformer.selfsupervised_learning_addition_model_backend:     2988+N54-6         2928        2928E         2928          X              0\n",
      "DEBUG:mathsformer.selfsupervised_learning_addition_model_backend:    N4036+N8+93        N3951        N3951        N3951          X              0\n",
      "DEBUG:mathsformer.selfsupervised_learning_addition_model_backend: N302+N4928+N86        N5316        N5316        N5316          X              0\n",
      "DEBUG:mathsformer.selfsupervised_learning_addition_model_backend: 7339+N771+N948         5620        5620E         5620          X              0\n",
      "DEBUG:mathsformer.selfsupervised_learning_addition_model_backend:  N1012+N47+N85        N1144        N1144        N1144          X              0\n"
     ]
    },
    {
     "name": "stdout",
     "output_type": "stream",
     "text": [
      "2000/2000 [==============================] - 1005s 502ms/step - loss: 0.2061 - mathsformer_LLM_output_loss: 0.0864 - mathsformer_LLM_output_1_loss: 0.0625 - mathsformer_LLM_output_2_loss: 0.0572 - mathsformer_LLM_output_masked_categorical_accuracy: 0.9678 - mathsformer_LLM_output_1_masked_categorical_accuracy: 0.9773 - mathsformer_LLM_output_2_masked_categorical_accuracy: 0.9796 - val_loss: 0.0636 - val_mathsformer_LLM_output_loss: 0.0257 - val_mathsformer_LLM_output_1_loss: 0.0188 - val_mathsformer_LLM_output_2_loss: 0.0191 - val_mathsformer_LLM_output_masked_categorical_accuracy: 0.9911 - val_mathsformer_LLM_output_1_masked_categorical_accuracy: 0.9941 - val_mathsformer_LLM_output_2_masked_categorical_accuracy: 0.9936\n",
      "Epoch 63/100000\n",
      "2000/2000 [==============================] - ETA: 0s - loss: 0.1995 - mathsformer_LLM_output_loss: 0.0836 - mathsformer_LLM_output_1_loss: 0.0602 - mathsformer_LLM_output_2_loss: 0.0556 - mathsformer_LLM_output_masked_categorical_accuracy: 0.9685 - mathsformer_LLM_output_1_masked_categorical_accuracy: 0.9782 - mathsformer_LLM_output_2_masked_categorical_accuracy: 0.9800"
     ]
    },
    {
     "name": "stderr",
     "output_type": "stream",
     "text": [
      "DEBUG:mathsformer.selfsupervised_learning_addition_model_backend:Training reached the end of epoch at index 62\n",
      "DEBUG:mathsformer.selfsupervised_learning_addition_model_backend:    with metric loss: 0.1995\n",
      "DEBUG:mathsformer.selfsupervised_learning_addition_model_backend:    with metric mathsformer_LLM_output_loss: 0.083627\n",
      "DEBUG:mathsformer.selfsupervised_learning_addition_model_backend:    with metric mathsformer_LLM_output_1_loss: 0.060235\n",
      "DEBUG:mathsformer.selfsupervised_learning_addition_model_backend:    with metric mathsformer_LLM_output_2_loss: 0.055642\n",
      "DEBUG:mathsformer.selfsupervised_learning_addition_model_backend:    with metric mathsformer_LLM_output_masked_categorical_accuracy: 0.96845\n",
      "DEBUG:mathsformer.selfsupervised_learning_addition_model_backend:    with metric mathsformer_LLM_output_1_masked_categorical_accuracy: 0.97824\n",
      "DEBUG:mathsformer.selfsupervised_learning_addition_model_backend:    with metric mathsformer_LLM_output_2_masked_categorical_accuracy: 0.97996\n",
      "DEBUG:mathsformer.selfsupervised_learning_addition_model_backend:    with metric val_loss: 0.049343\n",
      "DEBUG:mathsformer.selfsupervised_learning_addition_model_backend:    with metric val_mathsformer_LLM_output_loss: 0.018851\n",
      "DEBUG:mathsformer.selfsupervised_learning_addition_model_backend:    with metric val_mathsformer_LLM_output_1_loss: 0.014947\n",
      "DEBUG:mathsformer.selfsupervised_learning_addition_model_backend:    with metric val_mathsformer_LLM_output_2_loss: 0.015545\n",
      "DEBUG:mathsformer.selfsupervised_learning_addition_model_backend:    with metric val_mathsformer_LLM_output_masked_categorical_accuracy: 0.99444\n",
      "DEBUG:mathsformer.selfsupervised_learning_addition_model_backend:    with metric val_mathsformer_LLM_output_1_masked_categorical_accuracy: 0.99533\n",
      "DEBUG:mathsformer.selfsupervised_learning_addition_model_backend:    with metric val_mathsformer_LLM_output_2_masked_categorical_accuracy: 0.99558\n",
      "DEBUG:mathsformer.selfsupervised_learning_addition_model_backend:Running text --> text mathsformer inference on some training data:\n",
      "DEBUG:mathsformer.selfsupervised_learning_addition_model_backend:------------------------------------------------------------------------------------\n",
      "DEBUG:mathsformer.selfsupervised_learning_addition_model_backend:              INPUT         TRUE   PRED(MASK)    PRED(GEN)      CORRECT     RESIDUAL\n",
      "DEBUG:mathsformer.selfsupervised_learning_addition_model_backend:------------------------------------------------------------------------------------\n",
      "DEBUG:mathsformer.selfsupervised_learning_addition_model_backend:            76-N292          368        368EE          368          X              0\n",
      "DEBUG:mathsformer.selfsupervised_learning_addition_model_backend:            N4+N799         N803        N803E         N803          X              0\n",
      "DEBUG:mathsformer.selfsupervised_learning_addition_model_backend:              333+7          340        340EE          340          X              0\n",
      "DEBUG:mathsformer.selfsupervised_learning_addition_model_backend: N58+N2-N615-51+678         1182        1182E         1182          X              0\n",
      "DEBUG:mathsformer.selfsupervised_learning_addition_model_backend:      N1-148-N5+N30         N174        N174E         N174          X              0\n",
      "DEBUG:mathsformer.selfsupervised_learning_addition_model_backend:   8-N118+434+N1647        N1087        N1087        N1087          X              0\n",
      "DEBUG:mathsformer.selfsupervised_learning_addition_model_backend:   N510+8-N69+65-N8         N360        N360E         N360          X              0\n",
      "DEBUG:mathsformer.selfsupervised_learning_addition_model_backend:                N12          N12        N12EE          N12          X              0\n",
      "DEBUG:mathsformer.selfsupervised_learning_addition_model_backend:                  9            9        9EEEE            9          X              0\n",
      "DEBUG:mathsformer.selfsupervised_learning_addition_model_backend:               3930         3930        3930E         3930          X              0\n",
      "DEBUG:mathsformer.selfsupervised_learning_addition_model_backend:Running text --> text mathsformer inference on some validation data:\n",
      "DEBUG:mathsformer.selfsupervised_learning_addition_model_backend:--------------------------------------------------------------------------------\n",
      "DEBUG:mathsformer.selfsupervised_learning_addition_model_backend:          INPUT         TRUE   PRED(MASK)    PRED(GEN)      CORRECT     RESIDUAL\n",
      "DEBUG:mathsformer.selfsupervised_learning_addition_model_backend:--------------------------------------------------------------------------------\n",
      "DEBUG:mathsformer.selfsupervised_learning_addition_model_backend:      N5-14-516         N535        N535E         N535          X              0\n",
      "DEBUG:mathsformer.selfsupervised_learning_addition_model_backend:   566-N52-5117        N4499        N4499        N4499          X              0\n",
      "DEBUG:mathsformer.selfsupervised_learning_addition_model_backend:    N7+N3567-36        N3610        N3610        N3610          X              0\n",
      "DEBUG:mathsformer.selfsupervised_learning_addition_model_backend:       414+N2-2          410        410EE          410          X              0\n",
      "DEBUG:mathsformer.selfsupervised_learning_addition_model_backend:     N16-36+N31          N83        N83EE          N83          X              0\n",
      "DEBUG:mathsformer.selfsupervised_learning_addition_model_backend:     2988+N54-6         2928        2928E         2928          X              0\n",
      "DEBUG:mathsformer.selfsupervised_learning_addition_model_backend:    N4036+N8+93        N3951        N3951        N3951          X              0\n",
      "DEBUG:mathsformer.selfsupervised_learning_addition_model_backend: N302+N4928+N86        N5316        N5316        N5316          X              0\n",
      "DEBUG:mathsformer.selfsupervised_learning_addition_model_backend: 7339+N771+N948         5620        5620E         5620          X              0\n",
      "DEBUG:mathsformer.selfsupervised_learning_addition_model_backend:  N1012+N47+N85        N1144        N1144        N1144          X              0\n"
     ]
    },
    {
     "name": "stdout",
     "output_type": "stream",
     "text": [
      "2000/2000 [==============================] - 861s 431ms/step - loss: 0.1995 - mathsformer_LLM_output_loss: 0.0836 - mathsformer_LLM_output_1_loss: 0.0602 - mathsformer_LLM_output_2_loss: 0.0556 - mathsformer_LLM_output_masked_categorical_accuracy: 0.9685 - mathsformer_LLM_output_1_masked_categorical_accuracy: 0.9782 - mathsformer_LLM_output_2_masked_categorical_accuracy: 0.9800 - val_loss: 0.0493 - val_mathsformer_LLM_output_loss: 0.0189 - val_mathsformer_LLM_output_1_loss: 0.0149 - val_mathsformer_LLM_output_2_loss: 0.0155 - val_mathsformer_LLM_output_masked_categorical_accuracy: 0.9944 - val_mathsformer_LLM_output_1_masked_categorical_accuracy: 0.9953 - val_mathsformer_LLM_output_2_masked_categorical_accuracy: 0.9956\n",
      "Epoch 64/100000\n",
      "2000/2000 [==============================] - ETA: 0s - loss: 0.1921 - mathsformer_LLM_output_loss: 0.0810 - mathsformer_LLM_output_1_loss: 0.0578 - mathsformer_LLM_output_2_loss: 0.0532 - mathsformer_LLM_output_masked_categorical_accuracy: 0.9693 - mathsformer_LLM_output_1_masked_categorical_accuracy: 0.9789 - mathsformer_LLM_output_2_masked_categorical_accuracy: 0.9806"
     ]
    },
    {
     "name": "stderr",
     "output_type": "stream",
     "text": [
      "DEBUG:mathsformer.selfsupervised_learning_addition_model_backend:Training reached the end of epoch at index 63\n",
      "DEBUG:mathsformer.selfsupervised_learning_addition_model_backend:    with metric loss: 0.19206\n",
      "DEBUG:mathsformer.selfsupervised_learning_addition_model_backend:    with metric mathsformer_LLM_output_loss: 0.081043\n",
      "DEBUG:mathsformer.selfsupervised_learning_addition_model_backend:    with metric mathsformer_LLM_output_1_loss: 0.057822\n",
      "DEBUG:mathsformer.selfsupervised_learning_addition_model_backend:    with metric mathsformer_LLM_output_2_loss: 0.053191\n",
      "DEBUG:mathsformer.selfsupervised_learning_addition_model_backend:    with metric mathsformer_LLM_output_masked_categorical_accuracy: 0.96935\n",
      "DEBUG:mathsformer.selfsupervised_learning_addition_model_backend:    with metric mathsformer_LLM_output_1_masked_categorical_accuracy: 0.97892\n",
      "DEBUG:mathsformer.selfsupervised_learning_addition_model_backend:    with metric mathsformer_LLM_output_2_masked_categorical_accuracy: 0.98064\n",
      "DEBUG:mathsformer.selfsupervised_learning_addition_model_backend:    with metric val_loss: 0.048447\n",
      "DEBUG:mathsformer.selfsupervised_learning_addition_model_backend:    with metric val_mathsformer_LLM_output_loss: 0.019635\n",
      "DEBUG:mathsformer.selfsupervised_learning_addition_model_backend:    with metric val_mathsformer_LLM_output_1_loss: 0.014723\n",
      "DEBUG:mathsformer.selfsupervised_learning_addition_model_backend:    with metric val_mathsformer_LLM_output_2_loss: 0.014089\n",
      "DEBUG:mathsformer.selfsupervised_learning_addition_model_backend:    with metric val_mathsformer_LLM_output_masked_categorical_accuracy: 0.99396\n",
      "DEBUG:mathsformer.selfsupervised_learning_addition_model_backend:    with metric val_mathsformer_LLM_output_1_masked_categorical_accuracy: 0.99535\n",
      "DEBUG:mathsformer.selfsupervised_learning_addition_model_backend:    with metric val_mathsformer_LLM_output_2_masked_categorical_accuracy: 0.99548\n",
      "DEBUG:mathsformer.selfsupervised_learning_addition_model_backend:Running text --> text mathsformer inference on some training data:\n",
      "DEBUG:mathsformer.selfsupervised_learning_addition_model_backend:------------------------------------------------------------------------------------\n",
      "DEBUG:mathsformer.selfsupervised_learning_addition_model_backend:              INPUT         TRUE   PRED(MASK)    PRED(GEN)      CORRECT     RESIDUAL\n",
      "DEBUG:mathsformer.selfsupervised_learning_addition_model_backend:------------------------------------------------------------------------------------\n",
      "DEBUG:mathsformer.selfsupervised_learning_addition_model_backend:            76-N292          368        368EE          368          X              0\n",
      "DEBUG:mathsformer.selfsupervised_learning_addition_model_backend:            N4+N799         N803        N803E         N803          X              0\n",
      "DEBUG:mathsformer.selfsupervised_learning_addition_model_backend:              333+7          340        340EE          340          X              0\n",
      "DEBUG:mathsformer.selfsupervised_learning_addition_model_backend: N58+N2-N615-51+678         1182        1182E         1182          X              0\n",
      "DEBUG:mathsformer.selfsupervised_learning_addition_model_backend:      N1-148-N5+N30         N174        N174E         N174          X              0\n",
      "DEBUG:mathsformer.selfsupervised_learning_addition_model_backend:   8-N118+434+N1647        N1087        N1087        N1087          X              0\n",
      "DEBUG:mathsformer.selfsupervised_learning_addition_model_backend:   N510+8-N69+65-N8         N360        N360E         N360          X              0\n",
      "DEBUG:mathsformer.selfsupervised_learning_addition_model_backend:                N12          N12        N12EE          N12          X              0\n",
      "DEBUG:mathsformer.selfsupervised_learning_addition_model_backend:                  9            9        9EEEE            9          X              0\n",
      "DEBUG:mathsformer.selfsupervised_learning_addition_model_backend:               3930         3930        3930E         3930          X              0\n",
      "DEBUG:mathsformer.selfsupervised_learning_addition_model_backend:Running text --> text mathsformer inference on some validation data:\n",
      "DEBUG:mathsformer.selfsupervised_learning_addition_model_backend:--------------------------------------------------------------------------------\n",
      "DEBUG:mathsformer.selfsupervised_learning_addition_model_backend:          INPUT         TRUE   PRED(MASK)    PRED(GEN)      CORRECT     RESIDUAL\n",
      "DEBUG:mathsformer.selfsupervised_learning_addition_model_backend:--------------------------------------------------------------------------------\n",
      "DEBUG:mathsformer.selfsupervised_learning_addition_model_backend:      N5-14-516         N535        N535E         N535          X              0\n",
      "DEBUG:mathsformer.selfsupervised_learning_addition_model_backend:   566-N52-5117        N4499        N4499        N4499          X              0\n",
      "DEBUG:mathsformer.selfsupervised_learning_addition_model_backend:    N7+N3567-36        N3610        N3610        N3610          X              0\n",
      "DEBUG:mathsformer.selfsupervised_learning_addition_model_backend:       414+N2-2          410        410EE          410          X              0\n",
      "DEBUG:mathsformer.selfsupervised_learning_addition_model_backend:     N16-36+N31          N83        N83EE          N83          X              0\n",
      "DEBUG:mathsformer.selfsupervised_learning_addition_model_backend:     2988+N54-6         2928        2928E         2928          X              0\n",
      "DEBUG:mathsformer.selfsupervised_learning_addition_model_backend:    N4036+N8+93        N3951        N3951        N3951          X              0\n",
      "DEBUG:mathsformer.selfsupervised_learning_addition_model_backend: N302+N4928+N86        N5316        N5316        N5316          X              0\n",
      "DEBUG:mathsformer.selfsupervised_learning_addition_model_backend: 7339+N771+N948         5620        5620E         5620          X              0\n",
      "DEBUG:mathsformer.selfsupervised_learning_addition_model_backend:  N1012+N47+N85        N1144        N1144        N1144          X              0\n"
     ]
    },
    {
     "name": "stdout",
     "output_type": "stream",
     "text": [
      "2000/2000 [==============================] - 862s 431ms/step - loss: 0.1921 - mathsformer_LLM_output_loss: 0.0810 - mathsformer_LLM_output_1_loss: 0.0578 - mathsformer_LLM_output_2_loss: 0.0532 - mathsformer_LLM_output_masked_categorical_accuracy: 0.9693 - mathsformer_LLM_output_1_masked_categorical_accuracy: 0.9789 - mathsformer_LLM_output_2_masked_categorical_accuracy: 0.9806 - val_loss: 0.0484 - val_mathsformer_LLM_output_loss: 0.0196 - val_mathsformer_LLM_output_1_loss: 0.0147 - val_mathsformer_LLM_output_2_loss: 0.0141 - val_mathsformer_LLM_output_masked_categorical_accuracy: 0.9940 - val_mathsformer_LLM_output_1_masked_categorical_accuracy: 0.9954 - val_mathsformer_LLM_output_2_masked_categorical_accuracy: 0.9955\n",
      "Epoch 65/100000\n",
      "1227/2000 [=================>............] - ETA: 5:28 - loss: 0.1865 - mathsformer_LLM_output_loss: 0.0792 - mathsformer_LLM_output_1_loss: 0.0562 - mathsformer_LLM_output_2_loss: 0.0510 - mathsformer_LLM_output_masked_categorical_accuracy: 0.9699 - mathsformer_LLM_output_1_masked_categorical_accuracy: 0.9795 - mathsformer_LLM_output_2_masked_categorical_accuracy: 0.9813"
     ]
    }
   ],
   "source": [
    "##=================##\n",
    "##   Train model   ##\n",
    "##=================##\n",
    "\n",
    "do_train = cfg_training.get(\"train\", True)\n",
    "\n",
    "if do_train :\n",
    "    max_epochs = cfg_training[\"max_epochs\"]\n",
    "    logger.info(f\"Begin model training with max_epochs={max_epochs}\")\n",
    "    model.fit(train_gen, \n",
    "              epochs          = max_epochs,\n",
    "              validation_data = val_gen,\n",
    "              callbacks       = callbacks\n",
    "             )\n",
    "else :\n",
    "    logger.warning(\"Skipping model training following global config instructions\")\n"
   ]
  },
  {
   "cell_type": "code",
   "execution_count": null,
   "id": "8fb38943",
   "metadata": {},
   "outputs": [],
   "source": [
    "##================##\n",
    "##   Save model   ##\n",
    "##================##\n",
    "\n",
    "do_save = cfg_evaluate.get(\"save_model\", True)\n",
    "\n",
    "if do_save :\n",
    "    save_fname = f\"{working_dir}/final_model.keras\"\n",
    "    model.save(save_fname)\n",
    "    logger.info(f\"Model saved to file {save_fname}\")\n",
    "else :\n",
    "    logger.warning(\"Not saving model because no training was done\")\n"
   ]
  },
  {
   "cell_type": "markdown",
   "id": "5fc69448",
   "metadata": {},
   "source": [
    "## 6.  Evaluate model"
   ]
  },
  {
   "cell_type": "code",
   "execution_count": null,
   "id": "04c425ac",
   "metadata": {
    "scrolled": true
   },
   "outputs": [],
   "source": [
    "  \n",
    "##  Find out how many datapoints to print predictions for \n",
    "num_print = cfg_evaluate.get(\"num_print\", 20)\n",
    "\n",
    "##  Print tables\n",
    "backend.test_transformer(transformer, train_gen, val_gen, test_gen, num_print=num_print, \n",
    "                         negative_char=negative_char)\n"
   ]
  },
  {
   "cell_type": "markdown",
   "id": "34dfb55b",
   "metadata": {},
   "source": [
    "##  7. Additional visualisations"
   ]
  },
  {
   "cell_type": "code",
   "execution_count": null,
   "id": "5e385e68",
   "metadata": {
    "scrolled": false
   },
   "outputs": [],
   "source": [
    "##=============================================##\n",
    "##   Visualise layer weights during training   ##\n",
    "##=============================================##\n",
    "\n",
    "if cfg_evaluate[\"plot_weights\"] :\n",
    "    \n",
    "    logger.info(\"Plotting weights\")\n",
    "    backend.plot_weights(callbacks, show=True, close=True, savefig=f\"{working_dir}/layer_weights.pdf\")\n",
    "    "
   ]
  },
  {
   "cell_type": "code",
   "execution_count": null,
   "id": "0508f971",
   "metadata": {},
   "outputs": [],
   "source": [
    "##===============================##\n",
    "##   Visualise training curves   ##\n",
    "##===============================##\n",
    "\n",
    "if cfg_evaluate[\"plot_training_curves\"] :\n",
    "    \n",
    "    if not hasattr(model, \"history\") :\n",
    "        logger.error(\"Cannot print training curves because no model history exists - perhaps you skipped training?\")\n",
    "    else :\n",
    "        logger.info(\"Plotting training curves\")\n",
    "        backend.plot_training_curves(model.history.history, show=True, close=True, savefig=f\"{working_dir}/training_curves.pdf\")\n",
    "    "
   ]
  },
  {
   "cell_type": "code",
   "execution_count": null,
   "id": "a8f188a8",
   "metadata": {},
   "outputs": [],
   "source": []
  }
 ],
 "metadata": {
  "kernelspec": {
   "display_name": "Python 3 (ipykernel)",
   "language": "python",
   "name": "python3"
  },
  "language_info": {
   "codemirror_mode": {
    "name": "ipython",
    "version": 3
   },
   "file_extension": ".py",
   "mimetype": "text/x-python",
   "name": "python",
   "nbconvert_exporter": "python",
   "pygments_lexer": "ipython3",
   "version": "3.11.3"
  }
 },
 "nbformat": 4,
 "nbformat_minor": 5
}
