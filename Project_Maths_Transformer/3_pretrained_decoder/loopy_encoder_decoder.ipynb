{
 "cells": [
  {
   "cell_type": "markdown",
   "id": "884dc59d",
   "metadata": {},
   "source": [
    "#  Unsupervised learning addition model with generator  -  using loopy encoder and decoder method\n",
    "\n",
    "Author: S. Menary [sbmenary@gmail.com]\n",
    "\n",
    "Date: 15/6/2023  (last update: 15/6/2023)\n",
    "\n",
    "Overview: Train a `sequence -> sequence` model where the input sequence is a text representation of a simple sum $\\sum_{i=1}^N A_i$ for a configurable number $N$ of integers $A_i\\in\\mathbb{Z}$, and the output is a set of logits representing the probability of each token in the output sequence. Integers may have a configurable number of digits. At inference time, chains of text are generated auto-regressively until the terminate-sequence token is reached. The loss function is a sparse categorical entropy.\n",
    "\n",
    "---\n",
    "\n",
    "## 1. Set up program\n",
    "\n",
    "###  Import\n",
    "\n",
    "All imports go here at the top of the notebook"
   ]
  },
  {
   "cell_type": "code",
   "execution_count": 1,
   "id": "d48f1e68",
   "metadata": {},
   "outputs": [],
   "source": [
    "##=========================##\n",
    "##   All imports go here   ##\n",
    "##=========================##\n",
    "\n",
    "##  Import entire python stdlib packages\n",
    "import logging, os, sys\n",
    "\n",
    "##  Import entire pypi packages\n",
    "import tensorflow as tf\n",
    "\n",
    "##  Remove tensorflow INFO messages\n",
    "tf.get_logger().setLevel('WARNING')\n",
    "\n",
    "##  Add directory above this to system path to expose mathsformer package location\n",
    "sys.path.append(\"/\".join(os.getcwd().split(\"/\")[:-1]))\n",
    "\n",
    "##  Import individual modules/objects from local packages\n",
    "from tensorflow.keras.optimizers.legacy import Adam, SGD\n",
    "from tensorflow.keras.optimizers import AdamW\n",
    "from mathsformer import config, data, transformers, utils\n",
    "from mathsformer import selfsupervised_learning_addition_model_backend as backend\n"
   ]
  },
  {
   "cell_type": "markdown",
   "id": "320886f9",
   "metadata": {},
   "source": [
    "## 1. Configure run\n",
    "\n",
    "Set configuration variables for entire program"
   ]
  },
  {
   "cell_type": "code",
   "execution_count": 2,
   "id": "701cef8b",
   "metadata": {},
   "outputs": [],
   "source": [
    "##==============================##\n",
    "##   Set custom config values   ##\n",
    "##==============================##\n",
    "\n",
    "custom_config = {\n",
    "    \"global\" : {\n",
    "        \"base_seed\"        : -1,\n",
    "        \"working_dir\"      : \"SSL_loopy_enc_dec_notebook_[global>problem_tag]_embed[model>ndim_embedding]_enc_[model>encoder>num_blocks]blocks_[model>encoder>num_loops]loops_width[model>encoder>ndim_ff_hidden]_dec_[model>decoder>num_blocks]blocks_[model>decoder>num_loops]loops_width[model>decoder>ndim_ff_hidden]_post[model>post_decoder>num_layers]_width[model>post_decoder>ndim]_idem[model>idempotent_size]_[date]\",\n",
    "        \"problem_tag\"      : \"int1234_num1245\",\n",
    "        \"log_lvl_iostream\" : logging.INFO,\n",
    "        \"log_lvl_fstream\"  : logging.DEBUG,\n",
    "    },\n",
    "    \"data\" : {\n",
    "        \"train_data\" : {\n",
    "            \"int_lengths\"      : [1, 2, 3, 4],\n",
    "            \"num_ints\"         : [1, 2, 4, 5],\n",
    "            \"batch_size\"       : 32,\n",
    "            \"num_batches\"      : 2000,\n",
    "            \"gen_base_seed\"    : 101,\n",
    "            \"gen_reproducible\" : False, \n",
    "        },\n",
    "        \"val_data\" : {\n",
    "            \"int_lengths\"      : [1, 2, 3, 4],\n",
    "            \"num_ints\"         : [3],\n",
    "            \"batch_size\"       : 32,\n",
    "            \"num_batches\"      : 50,\n",
    "            \"gen_base_seed\"    : 102,\n",
    "            \"gen_reproducible\" : True,\n",
    "        },\n",
    "        \"test_data\" : {\n",
    "            \"int_lengths\"      : [1, 2, 3, 4],\n",
    "            \"num_ints\"         : [6],\n",
    "            \"batch_size\"       : 32,\n",
    "            \"num_batches\"      : 100,\n",
    "            \"gen_base_seed\"    : 103,\n",
    "            \"gen_reproducible\" : True,\n",
    "        },\n",
    "        \"characters\"              : ['M', 'B', 'E', 'N', '0', '1', '2', '3', '4', '5', '6', '7', '8', '9', '+', '-'],\n",
    "        \"mask_char\"               : 'M',\n",
    "        \"seq_start_char\"          : 'B',\n",
    "        \"seq_end_char\"            : 'E',\n",
    "        \"negative_char\"           : 'N',\n",
    "        \"dtype\"                   : \"int32\",\n",
    "    },\n",
    "    \"model\" : {\n",
    "        \"load_pretrained_model\" : None,\n",
    "        \"name\"                  : \"mathsformer_LLM\",\n",
    "        \"dtype\"                 : \"float32\",\n",
    "        \"dropout\"               : 0.1,\n",
    "        \"jit_compile\"           : False,\n",
    "        \"use_old_loss\"          : True,\n",
    "        \"optimizer\"             : AdamW,\n",
    "        \"optimizer_args\"        : {\"learning_rate\":1e-4, \"weight_decay\":2e-2},\n",
    "        \"idempotent_size\"       : -1,\n",
    "        \"positional_encoding\" : {\n",
    "            \"num_freqs\"         : 64,\n",
    "            \"min_period\"        : 4,\n",
    "            \"max_period\"        : 1000,\n",
    "            \"learnable\"         : True,\n",
    "        },\n",
    "        \"ndim_embedding\"        : 128,\n",
    "        \"comb_type\"             : 'average',\n",
    "        \"pre_encoder\"           : {\n",
    "            \"num_layers\"        : -1,\n",
    "            \"ndim\"              : 256,\n",
    "            \"skip_connect\"      : True,\n",
    "        },\n",
    "        \"pre_decoder\" : {\n",
    "            \"num_layers\"        : -1,\n",
    "            \"ndim\"              : 256,\n",
    "            \"skip_connect\"      : True,\n",
    "        },\n",
    "        \"encoder\" : {\n",
    "            \"num_blocks\"        : 2,\n",
    "            \"num_loops\"         : 5,\n",
    "            \"num_heads\"         : 8,\n",
    "            \"ndim\"              : 128,\n",
    "            \"ndim_att_hidden\"   : 128,\n",
    "            \"ndim_ff_hidden\"    : 512,\n",
    "            \"skip_connect\"      : True,\n",
    "        },\n",
    "        \"decoder\" : {\n",
    "            \"num_blocks\"        : 2,\n",
    "            \"num_loops\"         : 1,\n",
    "            \"num_heads\"         : 8,\n",
    "            \"ndim\"              : 128,\n",
    "            \"ndim_att_hidden\"   : 128,\n",
    "            \"ndim_ff_hidden\"    : 512,\n",
    "            \"skip_connect\"      : True,\n",
    "        },\n",
    "        \"post_decoder\" : {\n",
    "            \"num_layers\"        : 3,\n",
    "            \"ndim\"              : 512,\n",
    "        },\n",
    "    },\n",
    "    \"training\" : {\n",
    "        \"train\"          : True,\n",
    "        \"max_epochs\"     : 100000,\n",
    "        \"log_after_epoch\" : {\n",
    "            \"do\"          : True,\n",
    "            \"log_lvl\"     : logging.DEBUG,\n",
    "        },\n",
    "        \"early_stopping\" : {\n",
    "            \"do\"                   : False,\n",
    "            \"patience\"             : 4,\n",
    "            \"monitor\"              : \"loss\",\n",
    "            \"mode\"                 : \"min\",\n",
    "            \"restore_best_weights\" : True,\n",
    "        },\n",
    "        \"model_checkpoint\" : {\n",
    "            \"do\"       : True,\n",
    "            \"filename\" : \"model_checkpoint_epoch{epoch}_val_loss_{val_loss:.5}.keras\",\n",
    "        },\n",
    "        \"layer_weights_record\" : {\n",
    "            \"do\"               : True,\n",
    "            \"batch_frequency\"  : 2000,\n",
    "            \"recursive\"        : True,\n",
    "        },\n",
    "        \"adaptive_learning_rate\" : {\n",
    "            \"do\"                 : True,\n",
    "            \"decay_factor\"       : 0.2,\n",
    "            \"monitor\"            : \"loss\",\n",
    "            \"mode\"               : \"min\",\n",
    "            \"patience\"           : 3,\n",
    "            \"log_lvl\"            : logging.DEBUG,\n",
    "        },\n",
    "        \"print_tables_during_training\" : {\n",
    "            \"do\"        : True,\n",
    "            \"num_print\" : 10,\n",
    "        },\n",
    "    },\n",
    "    \"evaluate\" : {\n",
    "        \"num_print\"            : 50,\n",
    "        \"save_model\"           : True,\n",
    "        \"plot_weights\"         : False,\n",
    "        \"plot_training_curves\" : True,\n",
    "    },\n",
    "}\n"
   ]
  },
  {
   "cell_type": "code",
   "execution_count": 3,
   "id": "d4e15977",
   "metadata": {},
   "outputs": [
    {
     "name": "stdout",
     "output_type": "stream",
     "text": [
      "==========================\n",
      "===   Config created   ===\n",
      "==========================\n"
     ]
    }
   ],
   "source": [
    "##===================================##\n",
    "##   Load and validate full config   ##\n",
    "##===================================##\n",
    "\n",
    "##  Create config object containing default values\n",
    "cfg = config.Config(backend.DEFAULT_CONFIG)\n",
    "\n",
    "##  Override with custom values\n",
    "cfg.load_dict(custom_config)\n",
    "\n",
    "##  Validate config\n",
    "backend.validate_config(cfg)\n",
    "\n",
    "##  Print success\n",
    "print(utils.fancy_message(f\"Config created\"))\n",
    "\n",
    "##  For convenience, split configs for different sections\n",
    "cfg_global   = cfg[\"global\"  ]\n",
    "cfg_data     = cfg[\"data\"    ]\n",
    "cfg_model    = cfg[\"model\"   ]\n",
    "cfg_training = cfg[\"training\"]\n",
    "cfg_evaluate = cfg[\"evaluate\"]\n"
   ]
  },
  {
   "cell_type": "markdown",
   "id": "8af05439",
   "metadata": {},
   "source": [
    "##  2. Set up environment\n",
    "\n",
    "- Create working directory\n",
    "- Create logger\n",
    "- Log package versions for reproducibility\n",
    "- Log config values for reproducibility\n",
    "- Set random seeds for reproducibility\n"
   ]
  },
  {
   "cell_type": "code",
   "execution_count": 4,
   "id": "2f7cc532",
   "metadata": {
    "scrolled": true
   },
   "outputs": [
    {
     "name": "stdout",
     "output_type": "stream",
     "text": [
      "========================================================================================================================================================================================\n",
      "===   Working directory created at SSL_loopy_enc_dec_notebook_int1234_num1245_embed128_enc_2blocks_5loops_width512_dec_2blocks_1loops_width512_post3_width512_idemm1_2023_06_25_v2   ===\n",
      "========================================================================================================================================================================================\n",
      "   INFO initialise_logging: Begin logging on 2023-06-25 at 21:01:19\n",
      "   INFO initialise_program: Program description: unsupervised_learning_addition_model_generator (notebook)\n",
      "   INFO initialise_program: Working directory: SSL_loopy_enc_dec_notebook_int1234_num1245_embed128_enc_2blocks_5loops_width512_dec_2blocks_1loops_width512_post3_width512_idemm1_2023_06_25_v2\n",
      "   INFO log_versions: ------------------------------------------------------+----------------------------------------------------------------------------------\n",
      "   INFO log_versions:                                              PACKAGE  |  VERSION\n",
      "   INFO log_versions: ------------------------------------------------------+----------------------------------------------------------------------------------\n",
      "   INFO log_versions:                                               Python  |  3.11.4 | packaged by conda-forge | (main, Jun 10 2023, 18:08:41) [Clang 15.0.7 ]\n",
      "   INFO log_versions:                                              IPython  |  8.14.0\n",
      "   INFO log_versions:                                 IPython.core.release  |  8.14.0\n",
      "   INFO log_versions:                                                  PIL  |  9.5.0\n",
      "   INFO log_versions:                                            PIL.Image  |  9.5.0\n",
      "   INFO log_versions:                                       PIL._deprecate  |  9.5.0\n",
      "   INFO log_versions:                                         PIL._version  |  9.5.0\n",
      "   INFO log_versions:                                                 _csv  |  1.0\n",
      "   INFO log_versions:                                              _ctypes  |  1.1.0\n",
      "   INFO log_versions:                                              _curses  |  b'2.2'\n",
      "   INFO log_versions:                                              decimal  |  1.70\n",
      "   INFO log_versions:                               _pydev_bundle.fsnotify  |  0.1.5\n",
      "   INFO log_versions:                 _pydevd_frame_eval.vendored.bytecode  |  0.13.0.dev\n",
      "   INFO log_versions:                                              appnope  |  0.1.3\n",
      "   INFO log_versions:                                             argparse  |  1.1\n",
      "   INFO log_versions:                                           astunparse  |  1.6.3\n",
      "   INFO log_versions:                                             backcall  |  0.2.0\n",
      "   INFO log_versions:                                              certifi  |  2023.05.07\n",
      "   INFO log_versions:                                                 cffi  |  1.15.1\n",
      "   INFO log_versions:                                   charset_normalizer  |  3.1.0\n",
      "   INFO log_versions:                           charset_normalizer.version  |  3.1.0\n",
      "   INFO log_versions:                                                 comm  |  0.1.3\n",
      "   INFO log_versions:                                                  csv  |  1.0\n",
      "   INFO log_versions:                                               ctypes  |  1.1.0\n",
      "   INFO log_versions:                                      ctypes.macholib  |  1.0\n",
      "   INFO log_versions:                                               cycler  |  0.10.0\n",
      "   INFO log_versions:                                             dateutil  |  2.8.2\n",
      "   INFO log_versions:                                              debugpy  |  1.6.7\n",
      "   INFO log_versions:                                   debugpy.public_api  |  1.6.7\n",
      "   INFO log_versions:                                              decimal  |  1.70\n",
      "   INFO log_versions:                                            decorator  |  5.1.1\n",
      "   INFO log_versions:                                           defusedxml  |  0.7.1\n",
      "   INFO log_versions:                                            distutils  |  3.11.4\n",
      "   INFO log_versions:                                            executing  |  1.2.0\n",
      "   INFO log_versions:                                    executing.version  |  1.2.0\n",
      "   INFO log_versions:                                          flatbuffers  |  23.5.26\n",
      "   INFO log_versions:                                 flatbuffers._version  |  23.5.26\n",
      "   INFO log_versions:                                      google.protobuf  |  4.23.3\n",
      "   INFO log_versions:                                                 h5py  |  3.9.0\n",
      "   INFO log_versions:                                          http.server  |  0.6\n",
      "   INFO log_versions:                                                 idna  |  3.4\n",
      "   INFO log_versions:                                        idna.idnadata  |  15.0.0\n",
      "   INFO log_versions:                                    idna.package_data  |  3.4\n",
      "   INFO log_versions:                                            ipaddress  |  1.0\n",
      "   INFO log_versions:                                            ipykernel  |  6.23.2\n",
      "   INFO log_versions:                                   ipykernel._version  |  6.23.2\n",
      "   INFO log_versions:                                                 jedi  |  0.18.2\n",
      "   INFO log_versions:                                                 json  |  2.0.9\n",
      "   INFO log_versions:                                       jupyter_client  |  8.2.0\n",
      "   INFO log_versions:                              jupyter_client._version  |  8.2.0\n",
      "   INFO log_versions:                                         jupyter_core  |  5.3.1\n",
      "   INFO log_versions:                                 jupyter_core.version  |  5.3.1\n",
      "   INFO log_versions:                                                keras  |  2.12.0\n",
      "   INFO log_versions:                                  keras.api._v2.keras  |  2.12.0\n",
      "   INFO log_versions:                                      keras.api.keras  |  2.12.0\n",
      "   INFO log_versions:                                           kiwisolver  |  1.4.4\n",
      "   INFO log_versions:                                     kiwisolver._cext  |  1.4.4\n",
      "   INFO log_versions:                                              logging  |  0.5.1.2\n",
      "   INFO log_versions:                                           matplotlib  |  3.7.1\n",
      "   INFO log_versions:                                  matplotlib._version  |  3.7.1\n",
      "   INFO log_versions:                                                numpy  |  1.23.5\n",
      "   INFO log_versions:                                           numpy.core  |  1.23.5\n",
      "   INFO log_versions:                         numpy.core._multiarray_umath  |  3.1\n",
      "   INFO log_versions:                                            numpy.lib  |  1.23.5\n",
      "   INFO log_versions:                           numpy.linalg._umath_linalg  |  0.1.5\n",
      "   INFO log_versions:                                        numpy.version  |  1.23.5\n",
      "   INFO log_versions:                                           opt_einsum  |  v3.3.0\n",
      "   INFO log_versions:                                            packaging  |  23.1\n",
      "   INFO log_versions:                                                parso  |  0.8.3\n",
      "   INFO log_versions:                                              pexpect  |  4.8.0\n",
      "   INFO log_versions:                                          pickleshare  |  0.7.5\n",
      "   INFO log_versions:                 pkg_resources._vendor.more_itertools  |  9.0.0\n",
      "   INFO log_versions:                      pkg_resources._vendor.packaging  |  23.0\n",
      "   INFO log_versions:                   pkg_resources._vendor.platformdirs  |  2.6.2\n",
      "   INFO log_versions:           pkg_resources._vendor.platformdirs.version  |  2.6.2\n",
      "   INFO log_versions:                 pkg_resources._vendor.more_itertools  |  9.0.0\n",
      "   INFO log_versions:                      pkg_resources._vendor.packaging  |  23.0\n",
      "   INFO log_versions:                   pkg_resources._vendor.platformdirs  |  2.6.2\n",
      "   INFO log_versions:                                             platform  |  1.0.8\n",
      "   INFO log_versions:                                         platformdirs  |  3.6.0\n"
     ]
    },
    {
     "name": "stdout",
     "output_type": "stream",
     "text": [
      "   INFO log_versions:                                 platformdirs.version  |  3.6.0\n",
      "   INFO log_versions:                                       prompt_toolkit  |  3.0.38\n",
      "   INFO log_versions:                                               psutil  |  5.9.5\n",
      "   INFO log_versions:                                           ptyprocess  |  0.7.0\n",
      "   INFO log_versions:                                            pure_eval  |  0.2.2\n",
      "   INFO log_versions:                                    pure_eval.version  |  0.2.2\n",
      "   INFO log_versions:                                               pydevd  |  2.9.5\n",
      "   INFO log_versions:                                             pygments  |  2.15.1\n",
      "   INFO log_versions:                                            pyparsing  |  3.1.0\n",
      "   INFO log_versions:                                                   re  |  2.2.1\n",
      "   INFO log_versions:                                             requests  |  2.31.0\n",
      "   INFO log_versions:                                 requests.__version__  |  2.31.0\n",
      "   INFO log_versions:                                                 idna  |  3.4\n",
      "   INFO log_versions:                                        idna.idnadata  |  15.0.0\n",
      "   INFO log_versions:                                    idna.package_data  |  3.4\n",
      "   INFO log_versions:                                              urllib3  |  1.26.16\n",
      "   INFO log_versions:                                     urllib3._version  |  1.26.16\n",
      "   INFO log_versions:                                   urllib3.connection  |  1.26.16\n",
      "   INFO log_versions:                                 urllib3.packages.six  |  1.16.0\n",
      "   INFO log_versions:                      urllib3.util.ssl_match_hostname  |  3.5.0.1\n",
      "   INFO log_versions:                                       requests.utils  |  2.31.0\n",
      "   INFO log_versions:                                                scipy  |  1.10.1\n",
      "   INFO log_versions:                                 scipy._lib.decorator  |  4.0.5\n",
      "   INFO log_versions:                                  scipy.linalg._fblas  |  1.23.2\n",
      "   INFO log_versions:                                scipy.linalg._flapack  |  1.23.2\n",
      "   INFO log_versions:                                scipy.linalg._flinalg  |  1.23.2\n",
      "   INFO log_versions:            scipy.sparse.linalg._eigen.arpack._arpack  |  1.23.2\n",
      "   INFO log_versions:               scipy.sparse.linalg._isolve._iterative  |  1.23.2\n",
      "   INFO log_versions:                               scipy.special._specfun  |  1.23.2\n",
      "   INFO log_versions:                                           setuptools  |  67.7.2\n",
      "   INFO log_versions:                                            distutils  |  3.11.4\n",
      "   INFO log_versions:                    setuptools._vendor.more_itertools  |  8.8.0\n",
      "   INFO log_versions:                       setuptools._vendor.ordered_set  |  3.1\n",
      "   INFO log_versions:                         setuptools._vendor.packaging  |  23.0\n",
      "   INFO log_versions:                    setuptools._vendor.more_itertools  |  8.8.0\n",
      "   INFO log_versions:                       setuptools._vendor.ordered_set  |  3.1\n",
      "   INFO log_versions:                         setuptools._vendor.packaging  |  23.0\n",
      "   INFO log_versions:                                   setuptools.version  |  67.7.2\n",
      "   INFO log_versions:                                                  six  |  1.16.0\n",
      "   INFO log_versions:                                         socketserver  |  0.4\n",
      "   INFO log_versions:                                           stack_data  |  0.6.2\n",
      "   INFO log_versions:                                   stack_data.version  |  0.6.2\n",
      "   INFO log_versions:                                          tensorboard  |  2.12.3\n",
      "   INFO log_versions:                   tensorboard.compat.tensorflow_stub  |  stub\n",
      "   INFO log_versions: tensorboard.compat.tensorflow_stub.pywrap_tensorflow  |  0\n",
      "   INFO log_versions:                                           tensorflow  |  2.12.0\n",
      "   INFO log_versions:                         tensorflow._api.v2.compat.v1  |  2.12.0\n",
      "   INFO log_versions:               tensorflow._api.v2.compat.v1.compat.v1  |  2.12.0\n",
      "   INFO log_versions:               tensorflow._api.v2.compat.v1.compat.v2  |  2.12.0\n",
      "   INFO log_versions:                         tensorflow._api.v2.compat.v2  |  2.12.0\n",
      "   INFO log_versions:               tensorflow._api.v2.compat.v2.compat.v1  |  2.12.0\n",
      "   INFO log_versions:               tensorflow._api.v2.compat.v2.compat.v2  |  2.12.0\n",
      "   INFO log_versions:                                 tensorflow.compat.v1  |  2.12.0\n",
      "   INFO log_versions:                       tensorflow.compat.v1.compat.v1  |  2.12.0\n",
      "   INFO log_versions:                       tensorflow.compat.v1.compat.v2  |  2.12.0\n",
      "   INFO log_versions:                                 tensorflow.compat.v2  |  2.12.0\n",
      "   INFO log_versions:                       tensorflow.compat.v2.compat.v1  |  2.12.0\n",
      "   INFO log_versions:                       tensorflow.compat.v2.compat.v2  |  2.12.0\n",
      "   INFO log_versions:                                     tensorflow.keras  |  2.12.0\n",
      "   INFO log_versions:           tensorflow.python.client.pywrap_tf_session  |  2.12.0\n",
      "   INFO log_versions:                 tensorflow.python.framework.versions  |  2.12.0\n",
      "   INFO log_versions:                              tensorflow.python.keras  |  2.6.0\n",
      "   INFO log_versions:                                            traitlets  |  5.9.0\n",
      "   INFO log_versions:                                   traitlets._version  |  5.9.0\n",
      "   INFO log_versions:                                       urllib.request  |  3.11\n",
      "   INFO log_versions:                                              urllib3  |  1.26.16\n",
      "   INFO log_versions:                                     urllib3._version  |  1.26.16\n",
      "   INFO log_versions:                                   urllib3.connection  |  1.26.16\n",
      "   INFO log_versions:                                 urllib3.packages.six  |  1.16.0\n",
      "   INFO log_versions:                      urllib3.util.ssl_match_hostname  |  3.5.0.1\n",
      "   INFO log_versions:                                              wcwidth  |  0.2.6\n",
      "   INFO log_versions:                                                wrapt  |  1.14.1\n",
      "   INFO log_versions:                                        xmlrpc.client  |  3.11\n",
      "   INFO log_versions:                                                 zlib  |  1.0\n",
      "   INFO log_versions:                                                  zmq  |  25.1.0\n",
      "   INFO log_versions:                                            zmq.sugar  |  25.1.0\n",
      "   INFO log_versions:                                    zmq.sugar.version  |  25.1.0\n",
      "   INFO log_versions: ------------------------------------------------------+----------------------------------------------------------------------------------\n",
      "   INFO initialise_program: Registered config value global > base_seed: -1\n",
      "   INFO initialise_program: Registered config value global > working_dir: SSL_loopy_enc_dec_notebook_[global>problem_tag]_embed[model>ndim_embedding]_enc_[model>encoder>num_blocks]blocks_[model>encoder>num_loops]loops_width[model>encoder>ndim_ff_hidden]_dec_[model>decoder>num_blocks]blocks_[model>decoder>num_loops]loops_width[model>decoder>ndim_ff_hidden]_post[model>post_decoder>num_layers]_width[model>post_decoder>ndim]_idem[model>idempotent_size]_[date]\n",
      "   INFO initialise_program: Registered config value global > problem_tag: int1234_num1245\n",
      "   INFO initialise_program: Registered config value global > model_tag: baseline\n",
      "   INFO initialise_program: Registered config value global > log_lvl_iostream: 20\n",
      "   INFO initialise_program: Registered config value global > log_lvl_fstream: 10\n",
      "   INFO initialise_program: Registered config value data > train_data > int_lengths: [1, 2, 3, 4]\n",
      "   INFO initialise_program: Registered config value data > train_data > num_ints: [1, 2, 4, 5]\n",
      "   INFO initialise_program: Registered config value data > train_data > batch_size: 32\n",
      "   INFO initialise_program: Registered config value data > train_data > num_batches: 2000\n",
      "   INFO initialise_program: Registered config value data > train_data > gen_base_seed: 101\n",
      "   INFO initialise_program: Registered config value data > train_data > gen_reproducible: False\n",
      "   INFO initialise_program: Registered config value data > val_data > int_lengths: [1, 2, 3, 4]\n"
     ]
    },
    {
     "name": "stdout",
     "output_type": "stream",
     "text": [
      "   INFO initialise_program: Registered config value data > val_data > num_ints: [3]\n",
      "   INFO initialise_program: Registered config value data > val_data > batch_size: 32\n",
      "   INFO initialise_program: Registered config value data > val_data > num_batches: 50\n",
      "   INFO initialise_program: Registered config value data > val_data > gen_base_seed: 102\n",
      "   INFO initialise_program: Registered config value data > val_data > gen_reproducible: True\n",
      "   INFO initialise_program: Registered config value data > test_data > int_lengths: [1, 2, 3, 4]\n",
      "   INFO initialise_program: Registered config value data > test_data > num_ints: [6]\n",
      "   INFO initialise_program: Registered config value data > test_data > batch_size: 32\n",
      "   INFO initialise_program: Registered config value data > test_data > num_batches: 100\n",
      "   INFO initialise_program: Registered config value data > test_data > gen_base_seed: 103\n",
      "   INFO initialise_program: Registered config value data > test_data > gen_reproducible: True\n",
      "   INFO initialise_program: Registered config value data > characters: ['M', 'B', 'E', 'N', '0', '1', '2', '3', '4', '5', '6', '7', '8', '9', '+', '-']\n",
      "   INFO initialise_program: Registered config value data > mask_char: M\n",
      "   INFO initialise_program: Registered config value data > seq_start_char: B\n",
      "   INFO initialise_program: Registered config value data > seq_end_char: E\n",
      "   INFO initialise_program: Registered config value data > negative_char: N\n",
      "   INFO initialise_program: Registered config value data > dtype: int32\n",
      "   INFO initialise_program: Registered config value model > load_pretrained_model: None\n",
      "   INFO initialise_program: Registered config value model > name: mathsformer_LLM\n",
      "   INFO initialise_program: Registered config value model > dtype: float32\n",
      "   INFO initialise_program: Registered config value model > dropout: 0.1\n",
      "   INFO initialise_program: Registered config value model > learning_rate: 0.001\n",
      "   INFO initialise_program: Registered config value model > jit_compile: False\n",
      "   INFO initialise_program: Registered config value model > positional_encoding > num_freqs: 64\n",
      "   INFO initialise_program: Registered config value model > positional_encoding > min_period: 4\n",
      "   INFO initialise_program: Registered config value model > positional_encoding > max_period: 1000\n",
      "   INFO initialise_program: Registered config value model > positional_encoding > learnable: True\n",
      "   INFO initialise_program: Registered config value model > ndim_embedding: 128\n",
      "   INFO initialise_program: Registered config value model > comb_type: average\n",
      "   INFO initialise_program: Registered config value model > pre_encoder > num_layers: -1\n",
      "   INFO initialise_program: Registered config value model > pre_encoder > ndim: 256\n",
      "   INFO initialise_program: Registered config value model > pre_encoder > skip_connect: True\n",
      "   INFO initialise_program: Registered config value model > pre_decoder > num_layers: -1\n",
      "   INFO initialise_program: Registered config value model > pre_decoder > ndim: 256\n",
      "   INFO initialise_program: Registered config value model > pre_decoder > skip_connect: True\n",
      "   INFO initialise_program: Registered config value model > encoder > num_blocks: 2\n",
      "   INFO initialise_program: Registered config value model > encoder > num_heads: 8\n",
      "   INFO initialise_program: Registered config value model > encoder > ndim: 128\n",
      "   INFO initialise_program: Registered config value model > encoder > ndim_att_hidden: 128\n",
      "   INFO initialise_program: Registered config value model > encoder > ndim_ff_hidden: 512\n",
      "   INFO initialise_program: Registered config value model > encoder > skip_connect: True\n",
      "   INFO initialise_program: Registered config value model > encoder > num_loops: 5\n",
      "   INFO initialise_program: Registered config value model > decoder > num_blocks: 2\n",
      "   INFO initialise_program: Registered config value model > decoder > num_heads: 8\n",
      "   INFO initialise_program: Registered config value model > decoder > ndim: 128\n",
      "   INFO initialise_program: Registered config value model > decoder > ndim_att_hidden: 128\n",
      "   INFO initialise_program: Registered config value model > decoder > ndim_ff_hidden: 512\n",
      "   INFO initialise_program: Registered config value model > decoder > skip_connect: True\n",
      "   INFO initialise_program: Registered config value model > decoder > num_loops: 1\n",
      "   INFO initialise_program: Registered config value model > post_decoder > num_layers: 3\n",
      "   INFO initialise_program: Registered config value model > post_decoder > ndim: 512\n",
      "   INFO initialise_program: Registered config value model > use_old_loss: True\n",
      "   INFO initialise_program: Registered config value model > optimizer: <class 'keras.optimizers.adamw.AdamW'>\n",
      "   INFO initialise_program: Registered config value model > optimizer_args > learning_rate: 0.0001\n",
      "   INFO initialise_program: Registered config value model > optimizer_args > weight_decay: 0.02\n",
      "   INFO initialise_program: Registered config value model > idempotent_size: -1\n",
      "   INFO initialise_program: Registered config value training > train: True\n",
      "   INFO initialise_program: Registered config value training > max_epochs: 100000\n",
      "   INFO initialise_program: Registered config value training > log_after_epoch > do: True\n",
      "   INFO initialise_program: Registered config value training > log_after_epoch > log_lvl: 10\n",
      "   INFO initialise_program: Registered config value training > early_stopping > do: False\n",
      "   INFO initialise_program: Registered config value training > early_stopping > patience: 4\n",
      "   INFO initialise_program: Registered config value training > early_stopping > monitor: loss\n",
      "   INFO initialise_program: Registered config value training > early_stopping > mode: min\n",
      "   INFO initialise_program: Registered config value training > early_stopping > restore_best_weights: True\n",
      "   INFO initialise_program: Registered config value training > model_checkpoint > do: True\n",
      "   INFO initialise_program: Registered config value training > model_checkpoint > filename: model_checkpoint_epoch{epoch}_val_loss_{val_loss:.5}.keras\n",
      "   INFO initialise_program: Registered config value training > layer_weights_record > do: True\n",
      "   INFO initialise_program: Registered config value training > layer_weights_record > batch_frequency: 2000\n",
      "   INFO initialise_program: Registered config value training > layer_weights_record > recursive: True\n",
      "   INFO initialise_program: Registered config value training > adaptive_learning_rate > do: True\n",
      "   INFO initialise_program: Registered config value training > adaptive_learning_rate > decay_factor: 0.2\n",
      "   INFO initialise_program: Registered config value training > adaptive_learning_rate > monitor: loss\n",
      "   INFO initialise_program: Registered config value training > adaptive_learning_rate > mode: min\n",
      "   INFO initialise_program: Registered config value training > adaptive_learning_rate > patience: 3\n",
      "   INFO initialise_program: Registered config value training > adaptive_learning_rate > log_lvl: 10\n",
      "   INFO initialise_program: Registered config value training > print_tables_during_training > do: True\n",
      "   INFO initialise_program: Registered config value training > print_tables_during_training > num_print: 10\n",
      "   INFO initialise_program: Registered config value evaluate > num_print: 50\n",
      "   INFO initialise_program: Registered config value evaluate > save_model: True\n",
      "   INFO initialise_program: Registered config value evaluate > plot_weights: False\n",
      "   INFO initialise_program: Registered config value evaluate > plot_training_curves: True\n",
      "   INFO initialise_program: Python random seed set: 1687723279\n",
      "   INFO initialise_program: Numpy random seed set: 1687723280\n",
      "   INFO initialise_program: TensorFlow random seed set: 1687723281\n"
     ]
    }
   ],
   "source": [
    "##==============================##\n",
    "##   Create working directory   ##\n",
    "##==============================##\n",
    "\n",
    "##  Report success\n",
    "working_dir, logger, base_seed, np_seed, tf_seed = utils.initialise_program(\n",
    "    \"unsupervised_learning_addition_model_generator (notebook)\", \n",
    "    working_dir       = cfg_global[\"working_dir\"], \n",
    "    cfg               = cfg,\n",
    "    base_seed         = cfg_global[\"base_seed\"],\n",
    "    log_lvl_iostream  = cfg_global[\"log_lvl_iostream\"],\n",
    "    log_lvl_fstream   = cfg_global[\"log_lvl_fstream\" ],\n",
    ")\n"
   ]
  },
  {
   "cell_type": "markdown",
   "id": "2960860d",
   "metadata": {},
   "source": [
    "##  3. Create training data\n",
    "\n",
    "###  Create tokeniser\n",
    "\n",
    "Tokeniser object handles the transformation from strings to tensors and back again"
   ]
  },
  {
   "cell_type": "code",
   "execution_count": 5,
   "id": "db11d6cd",
   "metadata": {},
   "outputs": [
    {
     "name": "stdout",
     "output_type": "stream",
     "text": [
      "   INFO summary: TokenTransform of dtype int32 with 16 characters: ['M', 'B', 'E', 'N', '0', '1', '2', '3', '4', '5', '6', '7', '8', '9', '+', '-']\n",
      "   INFO summary: Special characters are seq_start_char (B), seq_end_char (E), mask_char (M)\n",
      "   INFO summary: Tokeniser dictionary is {'M': 0, 'B': 1, 'E': 2, 'N': 3, '0': 4, '1': 5, '2': 6, '3': 7, '4': 8, '5': 9, '6': 10, '7': 11, '8': 12, '9': 13, '+': 14, '-': 15}\n",
      "   INFO summary: Detokeniser dictionary is {0: 'M', 1: 'B', 2: 'E', 3: 'N', 4: '0', 5: '1', 6: '2', 7: '3', 8: '4', 9: '5', 10: '6', 11: '7', 12: '8', 13: '9', 14: '+', 15: '-'}\n"
     ]
    }
   ],
   "source": [
    "##======================##\n",
    "##   Create tokeniser   ##\n",
    "##======================##\n",
    "\n",
    "token_transform = data.TokenTransform.from_dictionary(cfg_data)\n",
    "token_transform.summary(print_fn=logger.info)\n"
   ]
  },
  {
   "cell_type": "markdown",
   "id": "5367bdd7",
   "metadata": {},
   "source": [
    "###  Create data generators for train/val/test sets\n",
    "\n",
    "Data generators create tensor inputs/outputs for the model on-the-fly\n"
   ]
  },
  {
   "cell_type": "code",
   "execution_count": 6,
   "id": "d87b308d",
   "metadata": {},
   "outputs": [
    {
     "name": "stdout",
     "output_type": "stream",
     "text": [
      "   INFO get_data_generators: Training data generator created with the following config: Generator of [1, 2, 4, 5] integers of length [1, 2, 3, 4] in 2000 batches of size 32 (base_seed=101, reproducible=False)\n",
      "   INFO get_data_generators: Output shapes for a test batch are ((32, 27), (32, 6)), (32, 6)\n",
      "   INFO get_data_generators: Validation data generator created with the following config: Generator of [3] integers of length [1, 2, 3, 4] in 50 batches of size 32 (base_seed=102, reproducible=True)\n",
      "   INFO get_data_generators: Output shapes for a test batch are ((32, 18), (32, 6)), (32, 6)\n",
      "   INFO get_data_generators: Test data generator created with the following config: Generator of [6] integers of length [1, 2, 3, 4] in 100 batches of size 32 (base_seed=103, reproducible=True)\n",
      "   INFO get_data_generators: Output shapes for a test batch are ((32, 29), (32, 7)), (32, 7)\n"
     ]
    }
   ],
   "source": [
    "##============================##\n",
    "##   Create data generators   ##\n",
    "##============================##\n",
    "\n",
    "negative_char = cfg_data.get(\"negative_char\")\n",
    "train_gen, train_gen_reproducible, val_gen, test_gen = backend.get_data_generators(cfg_data, token_transform)\n"
   ]
  },
  {
   "cell_type": "code",
   "execution_count": 7,
   "id": "aa78cf7f",
   "metadata": {},
   "outputs": [
    {
     "name": "stdout",
     "output_type": "stream",
     "text": [
      "   INFO <module>: Saving distribution of token frequencies to file SSL_loopy_enc_dec_notebook_int1234_num1245_embed128_enc_2blocks_5loops_width512_dec_2blocks_1loops_width512_post3_width512_idemm1_2023_06_25_v2/token_distribution.pdf\n"
     ]
    },
    {
     "data": {
      "image/png": "[encoded data removed]",
      "text/plain": [
       "<Figure size 600x400 with 1 Axes>"
      ]
     },
     "metadata": {},
     "output_type": "display_data"
    }
   ],
   "source": [
    "##=========================================================##\n",
    "##   Quickly visualise distribution of token frequencies   ##\n",
    "##=========================================================##\n",
    "\n",
    "##  Imports\n",
    "import numpy as np\n",
    "from matplotlib import pyplot as plt\n",
    "\n",
    "##  Get sample of train data labels\n",
    "train_data_sample = np.concatenate([train_gen[i][1].numpy().flatten() for i in range(1000)])\n",
    "\n",
    "##  Ignore masked tokens\n",
    "train_data_sample = train_data_sample[train_data_sample != 0]\n",
    "\n",
    "##  Count number for each token\n",
    "chars, freqs = [], []\n",
    "for token, char in train_gen.token_transform.detokeniser_dict.items() :\n",
    "    chars.append(char)\n",
    "    freqs.append(len(train_data_sample[train_data_sample==token]))\n",
    "    \n",
    "##  Normalise counts to frequency\n",
    "freqs     = np.array(freqs).astype(np.float32)\n",
    "freqs_err = np.sqrt(freqs)\n",
    "freqs_tot = np.sum(freqs)\n",
    "freqs     /= freqs_tot\n",
    "freqs_err /= freqs_tot\n",
    "\n",
    "##  Log token frequencies\n",
    "for char, freq, freq_err in zip(chars, freqs, freqs_err) :\n",
    "    logger.debug(f\"Token '{char}' in training data with frequency {100.*freq:.1f} +- {100.*freq_err:.1f} % (masked)\")\n",
    "\n",
    "##  Plot quick bar chart of frequencies\n",
    "fig = plt.figure(figsize=(6, 4))\n",
    "ax  = fig.add_subplot(1, 1, 1)\n",
    "ax.tick_params(which=\"both\", axis=\"both\", right=True, top=True, labelsize=10, direction=\"in\")\n",
    "ax.grid()\n",
    "ax.set_xlabel(\"Character\", fontsize=14, va=\"top\"  , labelpad=15)\n",
    "ax.set_ylabel(\"Frequency in\\ntrain data\", fontsize=14, ha=\"right\", rotation=0, labelpad=20)\n",
    "\n",
    "ax.bar(chars, freqs, yerr=freqs_err)\n",
    "\n",
    "fig_fname = f\"{working_dir}/token_distribution.pdf\"\n",
    "logger.info(f\"Saving distribution of token frequencies to file {fig_fname}\")\n",
    "\n",
    "plt.savefig(fig_fname, bbox_inches=\"tight\")\n",
    "plt.show(fig)\n",
    "plt.close(fig)\n"
   ]
  },
  {
   "cell_type": "markdown",
   "id": "f39db1bb",
   "metadata": {},
   "source": [
    "##  4.  Create model\n",
    "\n",
    "Create the keras model object that handles sequence-sequence transformations from alread-tokenised data"
   ]
  },
  {
   "cell_type": "code",
   "execution_count": 8,
   "id": "fae1868e",
   "metadata": {},
   "outputs": [],
   "source": [
    "\n",
    "from tensorflow.keras.layers     import Add, Average, Concatenate, Embedding, Input, LayerNormalization\n",
    "from tensorflow.keras.models     import Model\n",
    "from tensorflow.keras.optimizers import Adam\n",
    "\n",
    "from mathsformer.tf_objects import (DecoderBlock, EncoderBlock, Enumerate, FeedForwardBlock, LearnableMixture, MaskedCategoricalAccuracy,\n",
    "                                    MaskedSparseCategoricalCrossentropy, PositionalEncoding)\n",
    "from mathsformer.tf_objects import scalar_masked_sparse_categorical_crossentropy, scalar_masked_categorical_accuracy\n"
   ]
  },
  {
   "cell_type": "code",
   "execution_count": 9,
   "id": "a00a154b",
   "metadata": {},
   "outputs": [
    {
     "data": {
      "text/plain": [
       "'\\nclass GradientFlowEncoder(EncoderBlock) :\\n    def __init__(self, *args, **kwargs) :\\n        super().__init__(*args, **kwargs)\\n        \\n    def build(self, x) :\\n        self._weight = self.add_weight(f\"{self.name}_weight\", \\n                                       shape=(1,), \\n                                       initializer=tf.constant_initializer(0.01), \\n                                       trainable=True, \\n                                       dtype=self.dtype)\\n        \\n    def call(self, x, mask=None) :\\n                        \\n        with tf.GradientTape() as tape :\\n            tape.watch(x)\\n            y = super().call(x, mask=mask)\\n            y = tf.reduce_sum(y, axis=-1)\\n            y = tf.reduce_sum(y, axis=-1)\\n            y = tf.nn.sigmoid(y)\\n            y = y[..., tf.newaxis]\\n            \\n        div = tape.batch_jacobian(y, x)\\n        div = div[:,0,:,:]       \\n        lam = tf.nn.sigmoid(self._weight)\\n        return x - lam*div\\n    '"
      ]
     },
     "execution_count": 9,
     "metadata": {},
     "output_type": "execute_result"
    }
   ],
   "source": [
    "'''\n",
    "class GradientFlowEncoder(EncoderBlock) :\n",
    "    def __init__(self, *args, **kwargs) :\n",
    "        super().__init__(*args, **kwargs)\n",
    "        \n",
    "    def build(self, x) :\n",
    "        self._weight = self.add_weight(f\"{self.name}_weight\", \n",
    "                                       shape=(1,), \n",
    "                                       initializer=tf.constant_initializer(0.01), \n",
    "                                       trainable=True, \n",
    "                                       dtype=self.dtype)\n",
    "        \n",
    "    def call(self, x, mask=None) :\n",
    "                        \n",
    "        with tf.GradientTape() as tape :\n",
    "            tape.watch(x)\n",
    "            y = super().call(x, mask=mask)\n",
    "            y = tf.reduce_sum(y, axis=-1)\n",
    "            y = tf.reduce_sum(y, axis=-1)\n",
    "            y = tf.nn.sigmoid(y)\n",
    "            y = y[..., tf.newaxis]\n",
    "            \n",
    "        div = tape.batch_jacobian(y, x)\n",
    "        div = div[:,0,:,:]       \n",
    "        lam = tf.nn.sigmoid(self._weight)\n",
    "        return x - lam*div\n",
    "    '''"
   ]
  },
  {
   "cell_type": "code",
   "execution_count": 10,
   "id": "98368f85",
   "metadata": {},
   "outputs": [],
   "source": [
    "\n",
    "def create_text_to_text_model(vocab_length:int, \n",
    "                              name:str, \n",
    "                              do_compile:bool       = True,\n",
    "                              use_old_loss:bool     = False,\n",
    "                              dtype_in              = tf.int32, \n",
    "                              dtype                 = tf.float32, \n",
    "                              dropout:float         = 0.1, \n",
    "                              jit_compile:bool      = None,\n",
    "                              optimizer             = Adam,\n",
    "                              optimizer_args:dict   = None,\n",
    "                              idempotent_size:int   = 1,\n",
    "                              pos_enc_num_freqs:int = 32, pos_enc_min_period:float = 4, pos_enc_max_period:float = 500 , pos_enc_learnable:bool = False,\n",
    "                              ndim_embedding:int          = 64, comb_type:str                = \"average\",\n",
    "                              num_encoder_blocks:int      = 5 , ndim_encoder:int             = 64 , skip_connect_encoder:bool  = True,\n",
    "                              num_decoder_blocks:int      = 5 , ndim_decoder:int             = 64 , skip_connect_decoder:bool  = True,\n",
    "                              num_heads_encoder:int       = 8 , ndim_att_hidden_encoder:int  = 128, ndim_ff_hidden_encoder:int = 128, \n",
    "                              num_heads_decoder:int       = 8 , ndim_att_hidden_decoder:int  = 128, ndim_ff_hidden_decoder:int = 128, \n",
    "                              num_encoder_loops:int       = 1 , num_decoder_loops:int        = 1  ,\n",
    "                              num_post_layers_decoder:int = 3 , ndim_post_layers_decoder:int = 512, \n",
    "                             ) :\n",
    "    \"\"\"\n",
    "    \"\"\"\n",
    "    ##  Resolve mutable default args\n",
    "    if optimizer_args is None :\n",
    "        optimizer_args = {'learning_rate': 1e-3}\n",
    "    \n",
    "    ##=============================================##\n",
    "    ##===   Input layer - Output shape [B, S]   ===##\n",
    "    ##=============================================##\n",
    "    x_in_enc = Input((None,), dtype=dtype_in, name=f\"{name}_encoder_input_layer\")\n",
    "    x_in_dec = Input((None,), dtype=dtype_in, name=f\"{name}_decoder_input_layer\")\n",
    "            \n",
    "    ##===========================================================================##\n",
    "    ##===  Token embedding, masking 0s - Output shape [B, S, ndim_embedding]  ===##\n",
    "    ##===========================================================================##\n",
    "    x_embed_enc = Embedding(vocab_length, \n",
    "                            ndim_embedding, \n",
    "                            mask_zero=True, \n",
    "                            dtype=dtype, \n",
    "                            name=f\"{name}_encoder_embedding\")(x_in_enc)\n",
    "    x_embed_dec = Embedding(vocab_length, \n",
    "                            ndim_embedding, \n",
    "                            mask_zero=True, \n",
    "                            dtype=dtype, \n",
    "                            name=f\"{name}_decoder_embedding\")(x_in_dec)\n",
    "    \n",
    "    ##=========================================================================##\n",
    "    ##===  Enumerate indices for positional encoding - Output shape [B, S]  ===##\n",
    "    ##=========================================================================##\n",
    "    x_pos_enc = Enumerate(name=f\"{name}_encoder_enumerate\", dtype=dtype)(x_in_enc, minimal_dims=False)\n",
    "    x_pos_dec = Enumerate(name=f\"{name}_decoder_enumerate\", dtype=dtype)(x_in_dec, minimal_dims=False)\n",
    "    \n",
    "    ##========================================================================##\n",
    "    ##===  Positional encoding - Output shape [B, S, 2*pos_enc_num_freqs]  ===##\n",
    "    ##========================================================================##\n",
    "    x_pos_enc = PositionalEncoding(num_freqs  = pos_enc_num_freqs, \n",
    "                                   min_period = pos_enc_min_period, \n",
    "                                   max_period = pos_enc_max_period, \n",
    "                                   learnable  = pos_enc_learnable,\n",
    "                                   dtype      = dtype, \n",
    "                                   name       = f\"{name}_encoder_position_encoding\")(x_pos_enc)\n",
    "    x_pos_dec = PositionalEncoding(num_freqs  = pos_enc_num_freqs, \n",
    "                                   min_period = pos_enc_min_period, \n",
    "                                   max_period = pos_enc_max_period, \n",
    "                                   learnable  = pos_enc_learnable,\n",
    "                                   dtype      = dtype, \n",
    "                                   name       = f\"{name}_decoder_position_encoding\")(x_pos_dec)\n",
    "\n",
    "    ##==============================================================================================##\n",
    "    ##===  Combine embeddings end pos enc - Output shape [B, S, N] where N depends on comb_type  ===##\n",
    "    ##==============================================================================================##\n",
    "    allowed_comb_types = [\"add\", \"sum\", \"average\", \"mean\", \"concat\", \"concatenate\", \"mixture\"]\n",
    "    match comb_type.lower() :\n",
    "        case \"add\" | \"sum\" :\n",
    "            x_enc = Add(name=f\"{name}_encoder_emb_and_pos\", dtype=dtype)([x_embed_enc, x_pos_enc])\n",
    "            x_dec = Add(name=f\"{name}_decoder_emb_and_pos\", dtype=dtype)([x_embed_dec, x_pos_dec])\n",
    "        case \"average\" | \"mean\" :\n",
    "            x_enc = Average(name=f\"{name}_encoder_emb_and_pos\", dtype=dtype)([x_embed_enc, x_pos_enc])\n",
    "            x_dec = Average(name=f\"{name}_decoder_emb_and_pos\", dtype=dtype)([x_embed_dec, x_pos_dec])\n",
    "        case \"concat\" | \"concatenate\" :\n",
    "            x_enc = Concatenate(name=f\"{name}_encoder_emb_and_pos\", dtype=dtype)([x_embed_enc, x_pos_enc])\n",
    "            x_dec = Concatenate(name=f\"{name}_decoder_emb_and_pos\", dtype=dtype)([x_embed_dec, x_pos_dec])\n",
    "        case \"mixture\" :\n",
    "            x_enc = LearnableMixture(name=f\"{name}_encoder_emb_and_pos\", dtype=dtype)([x_embed_enc, x_pos_enc])\n",
    "            x_dec = LearnableMixture(name=f\"{name}_decoder_emb_and_pos\", dtype=dtype)([x_embed_dec, x_pos_dec])\n",
    "        case _ :\n",
    "            raise RuntimeError(f\"comb_type '{comb_type}' not recognised, recognised keywords are {allowed_comb_types}\")\n",
    "    \n",
    "    ##============================================================##\n",
    "    ##===  Encoder blocks - Output shape [B, S, ndim_encoder]  ===##\n",
    "    ##============================================================##\n",
    "    encoder_blocks = []\n",
    "    for layer_idx in range(num_encoder_blocks) :\n",
    "        encoder_blocks.append(EncoderBlock(\n",
    "                                 ndim_encoder, \n",
    "                                 num_heads_encoder, \n",
    "                                 ndim_att_hidden_encoder, \n",
    "                                 ndim_ff_hidden_encoder, \n",
    "                                 dropout_mha     = dropout, \n",
    "                                 dtype           = dtype, \n",
    "                                 pre_layer_norm  = True, \n",
    "                                 post_layer_norm = False, \n",
    "                                 skip_connect    = skip_connect_encoder, \n",
    "                                 name            = f\"{name}_encoder_block_{layer_idx+1}\"))\n",
    "        \n",
    "    for loop_idx in range(num_encoder_loops) :\n",
    "        for encoder_block in encoder_blocks :\n",
    "            x_enc = encoder_block(x_enc)\n",
    "    x_enc = LayerNormalization(name=f\"{name}_encoder_output_norm\")(x_enc)\n",
    "           \n",
    "    x_post_enc = x_enc\n",
    "    for loop_idx in range(idempotent_size) :\n",
    "        for encoder_block in encoder_blocks :\n",
    "            x_post_enc = encoder_block(x_post_enc)\n",
    "    x_post_enc = LayerNormalization(name=f\"{name}_encoder_idem_output_norm\")(x_post_enc)\n",
    "    \n",
    "    ##============================================================##\n",
    "    ##===  Decoder blocks - Output shape [B, S, ndim_decoder]  ===##\n",
    "    ##============================================================##\n",
    "    decoder_blocks = []\n",
    "    for layer_idx in range(num_decoder_blocks) :\n",
    "        decoder_blocks.append(DecoderBlock(\n",
    "                                 ndim_decoder, \n",
    "                                 num_heads_decoder, \n",
    "                                 ndim_att_hidden_decoder, \n",
    "                                 ndim_ff_hidden_decoder, \n",
    "                                 dropout_mha     = dropout, \n",
    "                                 dtype           = dtype, \n",
    "                                 pre_layer_norm  = True, \n",
    "                                 post_layer_norm = False, \n",
    "                                 skip_connect    = skip_connect_decoder, \n",
    "                                 name            = f\"{name}_decoder_block_{layer_idx+1}\"))\n",
    "        \n",
    "    x_post_dec = x_dec\n",
    "    for loop_idx in range(num_decoder_loops) :\n",
    "        for decoder_block in decoder_blocks :\n",
    "            x_dec      = decoder_block([x_dec, x_enc])\n",
    "            x_post_dec = decoder_block([x_post_dec, x_post_enc])\n",
    "        \n",
    "    ##==================================================================================================##\n",
    "    ##===  Predict logit probabilities using feed-forward block - Output shape [B, S, vocab_length]  ===##\n",
    "    ##==================================================================================================##\n",
    "    ##  - use layer_norm instead of batch_norm because elements in sequence are not independent\n",
    "    ff_block = FeedForwardBlock(vocab_length, \n",
    "                         ndim_hidden       = ndim_post_layers_decoder, \n",
    "                         num_hidden_layers = num_post_layers_decoder, \n",
    "                         skip_connect      = False, \n",
    "                         pre_layer_norm    = True, \n",
    "                         post_layer_norm   = False, \n",
    "                         batch_norm        = False, \n",
    "                         dtype             = dtype, \n",
    "                         name              = f\"{name}_output\")\n",
    "    x, x2 = ff_block(x_dec), ff_block(x_post_dec)\n",
    "    \n",
    "    ##  Create model\n",
    "    if idempotent_size > 0 :\n",
    "        model = Model([x_in_enc, x_in_dec], [x, x2], name=name)\n",
    "    else :\n",
    "        model = Model([x_in_enc, x_in_dec], x, name=name)\n",
    "    \n",
    "    ##  Compile model with sparse categorical crossentropy loss and accuracy metric\n",
    "    if do_compile :\n",
    "        acc  = MaskedCategoricalAccuracy(scalar_output=True, equal_token_weight=True, use_keras_mask=False, mask_value=0)\n",
    "        loss = MaskedSparseCategoricalCrossentropy(scalar_output=True, equal_token_weight=True, use_keras_mask=False, mask_value=0, from_logits=True)\n",
    "        model.compile(loss        = loss, \n",
    "                      optimizer   = optimizer(**optimizer_args), \n",
    "                      metrics     = [acc],\n",
    "                      jit_compile = jit_compile)\n",
    "    \n",
    "    ##  Return model\n",
    "    return model\n"
   ]
  },
  {
   "cell_type": "code",
   "execution_count": 11,
   "id": "942355eb",
   "metadata": {},
   "outputs": [],
   "source": [
    "def create_text_to_text_model_from_config(cfg_model, token_transform) :\n",
    "    \"\"\"\n",
    "    Create a text-to-text transformer model\n",
    "    \n",
    "    Inputs:\n",
    "    \n",
    "        >  cfg_model, Config\n",
    "           Model configuration\n",
    "           \n",
    "        >  token_transform, TokenTransform\n",
    "           Tokeniser\n",
    "    \"\"\"\n",
    "    return create_text_to_text_model(\n",
    "                          vocab_length                = token_transform.vocab_length, \n",
    "                          name                        = cfg_model[\"name\"],\n",
    "                          do_compile                  = True,\n",
    "                          use_old_loss                = cfg_model[\"use_old_loss\"],\n",
    "                          dtype_in                    = token_transform.dtype,\n",
    "                          dtype                       = cfg_model[\"dtype\"],\n",
    "                          dropout                     = cfg_model[\"dropout\"],\n",
    "                          jit_compile                 = cfg_model[\"jit_compile\"],\n",
    "                          optimizer                   = cfg_model.get(\"optimizer\", Adam),\n",
    "                          optimizer_args              = cfg_model.get(\"optimizer_args\", {}),\n",
    "                          idempotent_size             = cfg_model[\"idempotent_size\"],\n",
    "                          pos_enc_num_freqs           = cfg_model[\"positional_encoding\"][\"num_freqs\"],\n",
    "                          pos_enc_min_period          = cfg_model[\"positional_encoding\"][\"min_period\"],\n",
    "                          pos_enc_max_period          = cfg_model[\"positional_encoding\"][\"max_period\"],\n",
    "                          pos_enc_learnable           = cfg_model[\"positional_encoding\"][\"learnable\"],\n",
    "                          ndim_embedding              = cfg_model[\"ndim_embedding\"],\n",
    "                          num_encoder_blocks          = cfg_model[\"encoder\"][\"num_blocks\"],\n",
    "                          num_encoder_loops           = cfg_model[\"encoder\"][\"num_loops\"],\n",
    "                          ndim_encoder                = cfg_model[\"encoder\"][\"ndim\"],\n",
    "                          num_heads_encoder           = cfg_model[\"encoder\"][\"num_heads\"],\n",
    "                          ndim_att_hidden_encoder     = cfg_model[\"encoder\"][\"ndim_att_hidden\"],\n",
    "                          ndim_ff_hidden_encoder      = cfg_model[\"encoder\"][\"ndim_ff_hidden\"],\n",
    "                          skip_connect_encoder        = cfg_model[\"encoder\"][\"skip_connect\"],\n",
    "                          num_decoder_blocks          = cfg_model[\"decoder\"][\"num_blocks\"],\n",
    "                          num_decoder_loops           = cfg_model[\"decoder\"][\"num_loops\"],\n",
    "                          ndim_decoder                = cfg_model[\"decoder\"][\"ndim\"],\n",
    "                          num_heads_decoder           = cfg_model[\"decoder\"][\"num_heads\"],\n",
    "                          ndim_att_hidden_decoder     = cfg_model[\"decoder\"][\"ndim_att_hidden\"],\n",
    "                          ndim_ff_hidden_decoder      = cfg_model[\"decoder\"][\"ndim_ff_hidden\"],\n",
    "                          skip_connect_decoder        = cfg_model[\"decoder\"][\"skip_connect\"],\n",
    "                          num_post_layers_decoder     = cfg_model[\"post_decoder\"][\"num_layers\"],\n",
    "                          ndim_post_layers_decoder    = cfg_model[\"post_decoder\"][\"ndim\"],)"
   ]
  },
  {
   "cell_type": "code",
   "execution_count": 12,
   "id": "2bb6a53e",
   "metadata": {
    "scrolled": true
   },
   "outputs": [
    {
     "name": "stdout",
     "output_type": "stream",
     "text": [
      "   INFO <module>: Creating new text-to-text model\n"
     ]
    },
    {
     "name": "stderr",
     "output_type": "stream",
     "text": [
      "WARNING:absl:At this time, the v2.11+ optimizer `tf.keras.optimizers.AdamW` runs slowly on M1/M2 Macs, please use the legacy Keras optimizer instead, located at `tf.keras.optimizers.legacy.AdamW`.\n"
     ]
    },
    {
     "name": "stdout",
     "output_type": "stream",
     "text": [
      "   INFO <module>: Model created with summary:\n"
     ]
    },
    {
     "name": "stderr",
     "output_type": "stream",
     "text": [
      "INFO:mathsformer:Model created with summary:\n"
     ]
    },
    {
     "name": "stdout",
     "output_type": "stream",
     "text": [
      "   INFO <module>: Model: \"mathsformer_LLM\"\n"
     ]
    },
    {
     "name": "stderr",
     "output_type": "stream",
     "text": [
      "INFO:mathsformer:Model: \"mathsformer_LLM\"\n"
     ]
    },
    {
     "name": "stdout",
     "output_type": "stream",
     "text": [
      "   INFO <module>: __________________________________________________________________________________________________\n"
     ]
    },
    {
     "name": "stderr",
     "output_type": "stream",
     "text": [
      "INFO:mathsformer:__________________________________________________________________________________________________\n"
     ]
    },
    {
     "name": "stdout",
     "output_type": "stream",
     "text": [
      "   INFO <module>:  Layer (type)                   Output Shape         Param #     Connected to                     \n"
     ]
    },
    {
     "name": "stderr",
     "output_type": "stream",
     "text": [
      "INFO:mathsformer: Layer (type)                   Output Shape         Param #     Connected to                     \n"
     ]
    },
    {
     "name": "stdout",
     "output_type": "stream",
     "text": [
      "   INFO <module>: ==================================================================================================\n"
     ]
    },
    {
     "name": "stderr",
     "output_type": "stream",
     "text": [
      "INFO:mathsformer:==================================================================================================\n"
     ]
    },
    {
     "name": "stdout",
     "output_type": "stream",
     "text": [
      "   INFO <module>:  mathsformer_LLM_encoder_input_  [(None, None)]      0           []                               \n"
     ]
    },
    {
     "name": "stderr",
     "output_type": "stream",
     "text": [
      "INFO:mathsformer: mathsformer_LLM_encoder_input_  [(None, None)]      0           []                               \n"
     ]
    },
    {
     "name": "stdout",
     "output_type": "stream",
     "text": [
      "   INFO <module>:  layer (InputLayer)                                                                               \n"
     ]
    },
    {
     "name": "stderr",
     "output_type": "stream",
     "text": [
      "INFO:mathsformer: layer (InputLayer)                                                                               \n"
     ]
    },
    {
     "name": "stdout",
     "output_type": "stream",
     "text": [
      "   INFO <module>:                                                                                                   \n"
     ]
    },
    {
     "name": "stderr",
     "output_type": "stream",
     "text": [
      "INFO:mathsformer:                                                                                                  \n"
     ]
    },
    {
     "name": "stdout",
     "output_type": "stream",
     "text": [
      "   INFO <module>:  mathsformer_LLM_encoder_enumer  (None, None)        0           ['mathsformer_LLM_encoder_input_l\n"
     ]
    },
    {
     "name": "stderr",
     "output_type": "stream",
     "text": [
      "INFO:mathsformer: mathsformer_LLM_encoder_enumer  (None, None)        0           ['mathsformer_LLM_encoder_input_l\n"
     ]
    },
    {
     "name": "stdout",
     "output_type": "stream",
     "text": [
      "   INFO <module>:  ate (Enumerate)                                                 ayer[0][0]']                     \n"
     ]
    },
    {
     "name": "stderr",
     "output_type": "stream",
     "text": [
      "INFO:mathsformer: ate (Enumerate)                                                 ayer[0][0]']                     \n"
     ]
    },
    {
     "name": "stdout",
     "output_type": "stream",
     "text": [
      "   INFO <module>:                                                                                                   \n"
     ]
    },
    {
     "name": "stderr",
     "output_type": "stream",
     "text": [
      "INFO:mathsformer:                                                                                                  \n"
     ]
    },
    {
     "name": "stdout",
     "output_type": "stream",
     "text": [
      "   INFO <module>:  mathsformer_LLM_encoder_embedd  (None, None, 128)   2048        ['mathsformer_LLM_encoder_input_l\n"
     ]
    },
    {
     "name": "stderr",
     "output_type": "stream",
     "text": [
      "INFO:mathsformer: mathsformer_LLM_encoder_embedd  (None, None, 128)   2048        ['mathsformer_LLM_encoder_input_l\n"
     ]
    },
    {
     "name": "stdout",
     "output_type": "stream",
     "text": [
      "   INFO <module>:  ing (Embedding)                                                 ayer[0][0]']                     \n"
     ]
    },
    {
     "name": "stderr",
     "output_type": "stream",
     "text": [
      "INFO:mathsformer: ing (Embedding)                                                 ayer[0][0]']                     \n"
     ]
    },
    {
     "name": "stdout",
     "output_type": "stream",
     "text": [
      "   INFO <module>:                                                                                                   \n"
     ]
    },
    {
     "name": "stderr",
     "output_type": "stream",
     "text": [
      "INFO:mathsformer:                                                                                                  \n"
     ]
    },
    {
     "name": "stdout",
     "output_type": "stream",
     "text": [
      "   INFO <module>:  mathsformer_LLM_encoder_positi  (None, None, 128)   64          ['mathsformer_LLM_encoder_enumera\n"
     ]
    },
    {
     "name": "stderr",
     "output_type": "stream",
     "text": [
      "INFO:mathsformer: mathsformer_LLM_encoder_positi  (None, None, 128)   64          ['mathsformer_LLM_encoder_enumera\n"
     ]
    },
    {
     "name": "stdout",
     "output_type": "stream",
     "text": [
      "   INFO <module>:  on_encoding (PositionalEncodin                                  te[0][0]']                       \n"
     ]
    },
    {
     "name": "stderr",
     "output_type": "stream",
     "text": [
      "INFO:mathsformer: on_encoding (PositionalEncodin                                  te[0][0]']                       \n"
     ]
    },
    {
     "name": "stdout",
     "output_type": "stream",
     "text": [
      "   INFO <module>:  g)                                                                                               \n"
     ]
    },
    {
     "name": "stderr",
     "output_type": "stream",
     "text": [
      "INFO:mathsformer: g)                                                                                               \n"
     ]
    },
    {
     "name": "stdout",
     "output_type": "stream",
     "text": [
      "   INFO <module>:                                                                                                   \n"
     ]
    },
    {
     "name": "stderr",
     "output_type": "stream",
     "text": [
      "INFO:mathsformer:                                                                                                  \n"
     ]
    },
    {
     "name": "stdout",
     "output_type": "stream",
     "text": [
      "   INFO <module>:  mathsformer_LLM_encoder_emb_an  (None, None, 128)   0           ['mathsformer_LLM_encoder_embeddi\n"
     ]
    },
    {
     "name": "stderr",
     "output_type": "stream",
     "text": [
      "INFO:mathsformer: mathsformer_LLM_encoder_emb_an  (None, None, 128)   0           ['mathsformer_LLM_encoder_embeddi\n"
     ]
    },
    {
     "name": "stdout",
     "output_type": "stream",
     "text": [
      "   INFO <module>:  d_pos (Average)                                                 ng[0][0]',                       \n"
     ]
    },
    {
     "name": "stderr",
     "output_type": "stream",
     "text": [
      "INFO:mathsformer: d_pos (Average)                                                 ng[0][0]',                       \n"
     ]
    },
    {
     "name": "stdout",
     "output_type": "stream",
     "text": [
      "   INFO <module>:                                                                   'mathsformer_LLM_encoder_positio\n"
     ]
    },
    {
     "name": "stderr",
     "output_type": "stream",
     "text": [
      "INFO:mathsformer:                                                                  'mathsformer_LLM_encoder_positio\n"
     ]
    },
    {
     "name": "stdout",
     "output_type": "stream",
     "text": [
      "   INFO <module>:                                                                  n_encoding[0][0]']               \n"
     ]
    },
    {
     "name": "stderr",
     "output_type": "stream",
     "text": [
      "INFO:mathsformer:                                                                 n_encoding[0][0]']               \n"
     ]
    },
    {
     "name": "stdout",
     "output_type": "stream",
     "text": [
      "   INFO <module>:                                                                                                   \n"
     ]
    },
    {
     "name": "stderr",
     "output_type": "stream",
     "text": [
      "INFO:mathsformer:                                                                                                  \n"
     ]
    },
    {
     "name": "stdout",
     "output_type": "stream",
     "text": [
      "   INFO <module>:  mathsformer_LLM_encoder_block_  (None, None, 128)   659712      ['mathsformer_LLM_encoder_emb_and\n"
     ]
    },
    {
     "name": "stderr",
     "output_type": "stream",
     "text": [
      "INFO:mathsformer: mathsformer_LLM_encoder_block_  (None, None, 128)   659712      ['mathsformer_LLM_encoder_emb_and\n"
     ]
    },
    {
     "name": "stdout",
     "output_type": "stream",
     "text": [
      "   INFO <module>:  1 (EncoderBlock)                                                _pos[0][0]',                     \n"
     ]
    },
    {
     "name": "stderr",
     "output_type": "stream",
     "text": [
      "INFO:mathsformer: 1 (EncoderBlock)                                                _pos[0][0]',                     \n"
     ]
    },
    {
     "name": "stdout",
     "output_type": "stream",
     "text": [
      "   INFO <module>:                                                                   'mathsformer_LLM_encoder_block_2\n"
     ]
    },
    {
     "name": "stderr",
     "output_type": "stream",
     "text": [
      "INFO:mathsformer:                                                                  'mathsformer_LLM_encoder_block_2\n"
     ]
    },
    {
     "name": "stdout",
     "output_type": "stream",
     "text": [
      "   INFO <module>:                                                                  [0][0]',                         \n"
     ]
    },
    {
     "name": "stderr",
     "output_type": "stream",
     "text": [
      "INFO:mathsformer:                                                                 [0][0]',                         \n"
     ]
    },
    {
     "name": "stdout",
     "output_type": "stream",
     "text": [
      "   INFO <module>:                                                                   'mathsformer_LLM_encoder_block_2\n"
     ]
    },
    {
     "name": "stderr",
     "output_type": "stream",
     "text": [
      "INFO:mathsformer:                                                                  'mathsformer_LLM_encoder_block_2\n"
     ]
    },
    {
     "name": "stdout",
     "output_type": "stream",
     "text": [
      "   INFO <module>:                                                                  [1][0]',                         \n"
     ]
    },
    {
     "name": "stderr",
     "output_type": "stream",
     "text": [
      "INFO:mathsformer:                                                                 [1][0]',                         \n"
     ]
    },
    {
     "name": "stdout",
     "output_type": "stream",
     "text": [
      "   INFO <module>:                                                                   'mathsformer_LLM_encoder_block_2\n"
     ]
    },
    {
     "name": "stderr",
     "output_type": "stream",
     "text": [
      "INFO:mathsformer:                                                                  'mathsformer_LLM_encoder_block_2\n"
     ]
    },
    {
     "name": "stdout",
     "output_type": "stream",
     "text": [
      "   INFO <module>:                                                                  [2][0]',                         \n"
     ]
    },
    {
     "name": "stderr",
     "output_type": "stream",
     "text": [
      "INFO:mathsformer:                                                                 [2][0]',                         \n"
     ]
    },
    {
     "name": "stdout",
     "output_type": "stream",
     "text": [
      "   INFO <module>:                                                                   'mathsformer_LLM_encoder_block_2\n"
     ]
    },
    {
     "name": "stderr",
     "output_type": "stream",
     "text": [
      "INFO:mathsformer:                                                                  'mathsformer_LLM_encoder_block_2\n"
     ]
    },
    {
     "name": "stdout",
     "output_type": "stream",
     "text": [
      "   INFO <module>:                                                                  [3][0]']                         \n"
     ]
    },
    {
     "name": "stderr",
     "output_type": "stream",
     "text": [
      "INFO:mathsformer:                                                                 [3][0]']                         \n"
     ]
    },
    {
     "name": "stdout",
     "output_type": "stream",
     "text": [
      "   INFO <module>:                                                                                                   \n"
     ]
    },
    {
     "name": "stderr",
     "output_type": "stream",
     "text": [
      "INFO:mathsformer:                                                                                                  \n"
     ]
    },
    {
     "name": "stdout",
     "output_type": "stream",
     "text": [
      "   INFO <module>:  mathsformer_LLM_encoder_block_  (None, None, 128)   659712      ['mathsformer_LLM_encoder_block_1\n"
     ]
    },
    {
     "name": "stderr",
     "output_type": "stream",
     "text": [
      "INFO:mathsformer: mathsformer_LLM_encoder_block_  (None, None, 128)   659712      ['mathsformer_LLM_encoder_block_1\n"
     ]
    },
    {
     "name": "stdout",
     "output_type": "stream",
     "text": [
      "   INFO <module>:  2 (EncoderBlock)                                                [0][0]',                         \n"
     ]
    },
    {
     "name": "stderr",
     "output_type": "stream",
     "text": [
      "INFO:mathsformer: 2 (EncoderBlock)                                                [0][0]',                         \n"
     ]
    },
    {
     "name": "stdout",
     "output_type": "stream",
     "text": [
      "   INFO <module>:                                                                   'mathsformer_LLM_encoder_block_1\n"
     ]
    },
    {
     "name": "stderr",
     "output_type": "stream",
     "text": [
      "INFO:mathsformer:                                                                  'mathsformer_LLM_encoder_block_1\n"
     ]
    },
    {
     "name": "stdout",
     "output_type": "stream",
     "text": [
      "   INFO <module>:                                                                  [1][0]',                         \n"
     ]
    },
    {
     "name": "stderr",
     "output_type": "stream",
     "text": [
      "INFO:mathsformer:                                                                 [1][0]',                         \n"
     ]
    },
    {
     "name": "stdout",
     "output_type": "stream",
     "text": [
      "   INFO <module>:                                                                   'mathsformer_LLM_encoder_block_1\n"
     ]
    },
    {
     "name": "stderr",
     "output_type": "stream",
     "text": [
      "INFO:mathsformer:                                                                  'mathsformer_LLM_encoder_block_1\n"
     ]
    },
    {
     "name": "stdout",
     "output_type": "stream",
     "text": [
      "   INFO <module>:                                                                  [2][0]',                         \n"
     ]
    },
    {
     "name": "stderr",
     "output_type": "stream",
     "text": [
      "INFO:mathsformer:                                                                 [2][0]',                         \n"
     ]
    },
    {
     "name": "stdout",
     "output_type": "stream",
     "text": [
      "   INFO <module>:                                                                   'mathsformer_LLM_encoder_block_1\n"
     ]
    },
    {
     "name": "stderr",
     "output_type": "stream",
     "text": [
      "INFO:mathsformer:                                                                  'mathsformer_LLM_encoder_block_1\n"
     ]
    },
    {
     "name": "stdout",
     "output_type": "stream",
     "text": [
      "   INFO <module>:                                                                  [3][0]',                         \n"
     ]
    },
    {
     "name": "stderr",
     "output_type": "stream",
     "text": [
      "INFO:mathsformer:                                                                 [3][0]',                         \n"
     ]
    },
    {
     "name": "stdout",
     "output_type": "stream",
     "text": [
      "   INFO <module>:                                                                   'mathsformer_LLM_encoder_block_1\n"
     ]
    },
    {
     "name": "stderr",
     "output_type": "stream",
     "text": [
      "INFO:mathsformer:                                                                  'mathsformer_LLM_encoder_block_1\n"
     ]
    },
    {
     "name": "stdout",
     "output_type": "stream",
     "text": [
      "   INFO <module>:                                                                  [4][0]']                         \n"
     ]
    },
    {
     "name": "stderr",
     "output_type": "stream",
     "text": [
      "INFO:mathsformer:                                                                 [4][0]']                         \n"
     ]
    },
    {
     "name": "stdout",
     "output_type": "stream",
     "text": [
      "   INFO <module>:                                                                                                   \n"
     ]
    },
    {
     "name": "stderr",
     "output_type": "stream",
     "text": [
      "INFO:mathsformer:                                                                                                  \n"
     ]
    },
    {
     "name": "stdout",
     "output_type": "stream",
     "text": [
      "   INFO <module>:  mathsformer_LLM_decoder_input_  [(None, None)]      0           []                               \n"
     ]
    },
    {
     "name": "stderr",
     "output_type": "stream",
     "text": [
      "INFO:mathsformer: mathsformer_LLM_decoder_input_  [(None, None)]      0           []                               \n"
     ]
    },
    {
     "name": "stdout",
     "output_type": "stream",
     "text": [
      "   INFO <module>:  layer (InputLayer)                                                                               \n"
     ]
    },
    {
     "name": "stderr",
     "output_type": "stream",
     "text": [
      "INFO:mathsformer: layer (InputLayer)                                                                               \n"
     ]
    },
    {
     "name": "stdout",
     "output_type": "stream",
     "text": [
      "   INFO <module>:                                                                                                   \n"
     ]
    },
    {
     "name": "stderr",
     "output_type": "stream",
     "text": [
      "INFO:mathsformer:                                                                                                  \n"
     ]
    },
    {
     "name": "stdout",
     "output_type": "stream",
     "text": [
      "   INFO <module>:  mathsformer_LLM_decoder_enumer  (None, None)        0           ['mathsformer_LLM_decoder_input_l\n"
     ]
    },
    {
     "name": "stderr",
     "output_type": "stream",
     "text": [
      "INFO:mathsformer: mathsformer_LLM_decoder_enumer  (None, None)        0           ['mathsformer_LLM_decoder_input_l\n"
     ]
    },
    {
     "name": "stdout",
     "output_type": "stream",
     "text": [
      "   INFO <module>:  ate (Enumerate)                                                 ayer[0][0]']                     \n"
     ]
    },
    {
     "name": "stderr",
     "output_type": "stream",
     "text": [
      "INFO:mathsformer: ate (Enumerate)                                                 ayer[0][0]']                     \n"
     ]
    },
    {
     "name": "stdout",
     "output_type": "stream",
     "text": [
      "   INFO <module>:                                                                                                   \n"
     ]
    },
    {
     "name": "stderr",
     "output_type": "stream",
     "text": [
      "INFO:mathsformer:                                                                                                  \n"
     ]
    },
    {
     "name": "stdout",
     "output_type": "stream",
     "text": [
      "   INFO <module>:  mathsformer_LLM_decoder_embedd  (None, None, 128)   2048        ['mathsformer_LLM_decoder_input_l\n"
     ]
    },
    {
     "name": "stderr",
     "output_type": "stream",
     "text": [
      "INFO:mathsformer: mathsformer_LLM_decoder_embedd  (None, None, 128)   2048        ['mathsformer_LLM_decoder_input_l\n"
     ]
    },
    {
     "name": "stdout",
     "output_type": "stream",
     "text": [
      "   INFO <module>:  ing (Embedding)                                                 ayer[0][0]']                     \n"
     ]
    },
    {
     "name": "stderr",
     "output_type": "stream",
     "text": [
      "INFO:mathsformer: ing (Embedding)                                                 ayer[0][0]']                     \n"
     ]
    },
    {
     "name": "stdout",
     "output_type": "stream",
     "text": [
      "   INFO <module>:                                                                                                   \n"
     ]
    },
    {
     "name": "stderr",
     "output_type": "stream",
     "text": [
      "INFO:mathsformer:                                                                                                  \n"
     ]
    },
    {
     "name": "stdout",
     "output_type": "stream",
     "text": [
      "   INFO <module>:  mathsformer_LLM_decoder_positi  (None, None, 128)   64          ['mathsformer_LLM_decoder_enumera\n"
     ]
    },
    {
     "name": "stderr",
     "output_type": "stream",
     "text": [
      "INFO:mathsformer: mathsformer_LLM_decoder_positi  (None, None, 128)   64          ['mathsformer_LLM_decoder_enumera\n"
     ]
    },
    {
     "name": "stdout",
     "output_type": "stream",
     "text": [
      "   INFO <module>:  on_encoding (PositionalEncodin                                  te[0][0]']                       \n"
     ]
    },
    {
     "name": "stderr",
     "output_type": "stream",
     "text": [
      "INFO:mathsformer: on_encoding (PositionalEncodin                                  te[0][0]']                       \n"
     ]
    },
    {
     "name": "stdout",
     "output_type": "stream",
     "text": [
      "   INFO <module>:  g)                                                                                               \n"
     ]
    },
    {
     "name": "stderr",
     "output_type": "stream",
     "text": [
      "INFO:mathsformer: g)                                                                                               \n"
     ]
    },
    {
     "name": "stdout",
     "output_type": "stream",
     "text": [
      "   INFO <module>:                                                                                                   \n"
     ]
    },
    {
     "name": "stderr",
     "output_type": "stream",
     "text": [
      "INFO:mathsformer:                                                                                                  \n"
     ]
    },
    {
     "name": "stdout",
     "output_type": "stream",
     "text": [
      "   INFO <module>:  mathsformer_LLM_decoder_emb_an  (None, None, 128)   0           ['mathsformer_LLM_decoder_embeddi\n"
     ]
    },
    {
     "name": "stderr",
     "output_type": "stream",
     "text": [
      "INFO:mathsformer: mathsformer_LLM_decoder_emb_an  (None, None, 128)   0           ['mathsformer_LLM_decoder_embeddi\n"
     ]
    },
    {
     "name": "stdout",
     "output_type": "stream",
     "text": [
      "   INFO <module>:  d_pos (Average)                                                 ng[0][0]',                       \n"
     ]
    },
    {
     "name": "stderr",
     "output_type": "stream",
     "text": [
      "INFO:mathsformer: d_pos (Average)                                                 ng[0][0]',                       \n"
     ]
    },
    {
     "name": "stdout",
     "output_type": "stream",
     "text": [
      "   INFO <module>:                                                                   'mathsformer_LLM_decoder_positio\n"
     ]
    },
    {
     "name": "stderr",
     "output_type": "stream",
     "text": [
      "INFO:mathsformer:                                                                  'mathsformer_LLM_decoder_positio\n"
     ]
    },
    {
     "name": "stdout",
     "output_type": "stream",
     "text": [
      "   INFO <module>:                                                                  n_encoding[0][0]']               \n"
     ]
    },
    {
     "name": "stderr",
     "output_type": "stream",
     "text": [
      "INFO:mathsformer:                                                                 n_encoding[0][0]']               \n"
     ]
    },
    {
     "name": "stdout",
     "output_type": "stream",
     "text": [
      "   INFO <module>:                                                                                                   \n"
     ]
    },
    {
     "name": "stderr",
     "output_type": "stream",
     "text": [
      "INFO:mathsformer:                                                                                                  \n"
     ]
    },
    {
     "name": "stdout",
     "output_type": "stream",
     "text": [
      "   INFO <module>:  mathsformer_LLM_encoder_output  (None, None, 128)   256         ['mathsformer_LLM_encoder_block_2\n"
     ]
    },
    {
     "name": "stderr",
     "output_type": "stream",
     "text": [
      "INFO:mathsformer: mathsformer_LLM_encoder_output  (None, None, 128)   256         ['mathsformer_LLM_encoder_block_2\n"
     ]
    },
    {
     "name": "stdout",
     "output_type": "stream",
     "text": [
      "   INFO <module>:  _norm (LayerNormalization)                                      [4][0]']                         \n"
     ]
    },
    {
     "name": "stderr",
     "output_type": "stream",
     "text": [
      "INFO:mathsformer: _norm (LayerNormalization)                                      [4][0]']                         \n"
     ]
    },
    {
     "name": "stdout",
     "output_type": "stream",
     "text": [
      "   INFO <module>:                                                                                                   \n"
     ]
    },
    {
     "name": "stderr",
     "output_type": "stream",
     "text": [
      "INFO:mathsformer:                                                                                                  \n"
     ]
    },
    {
     "name": "stdout",
     "output_type": "stream",
     "text": [
      "   INFO <module>:  mathsformer_LLM_decoder_block_  (None, None, 128)   1187456     ['mathsformer_LLM_decoder_emb_and\n"
     ]
    },
    {
     "name": "stderr",
     "output_type": "stream",
     "text": [
      "INFO:mathsformer: mathsformer_LLM_decoder_block_  (None, None, 128)   1187456     ['mathsformer_LLM_decoder_emb_and\n"
     ]
    },
    {
     "name": "stdout",
     "output_type": "stream",
     "text": [
      "   INFO <module>:  1 (DecoderBlock)                                                _pos[0][0]',                     \n"
     ]
    },
    {
     "name": "stderr",
     "output_type": "stream",
     "text": [
      "INFO:mathsformer: 1 (DecoderBlock)                                                _pos[0][0]',                     \n"
     ]
    },
    {
     "name": "stdout",
     "output_type": "stream",
     "text": [
      "   INFO <module>:                                                                   'mathsformer_LLM_encoder_output_\n"
     ]
    },
    {
     "name": "stderr",
     "output_type": "stream",
     "text": [
      "INFO:mathsformer:                                                                  'mathsformer_LLM_encoder_output_\n"
     ]
    },
    {
     "name": "stdout",
     "output_type": "stream",
     "text": [
      "   INFO <module>:                                                                  norm[0][0]']                     \n"
     ]
    },
    {
     "name": "stderr",
     "output_type": "stream",
     "text": [
      "INFO:mathsformer:                                                                 norm[0][0]']                     \n"
     ]
    },
    {
     "name": "stdout",
     "output_type": "stream",
     "text": [
      "   INFO <module>:                                                                                                   \n"
     ]
    },
    {
     "name": "stderr",
     "output_type": "stream",
     "text": [
      "INFO:mathsformer:                                                                                                  \n"
     ]
    },
    {
     "name": "stdout",
     "output_type": "stream",
     "text": [
      "   INFO <module>:  mathsformer_LLM_decoder_block_  (None, None, 128)   1187456     ['mathsformer_LLM_decoder_block_1\n"
     ]
    },
    {
     "name": "stderr",
     "output_type": "stream",
     "text": [
      "INFO:mathsformer: mathsformer_LLM_decoder_block_  (None, None, 128)   1187456     ['mathsformer_LLM_decoder_block_1\n"
     ]
    },
    {
     "name": "stdout",
     "output_type": "stream",
     "text": [
      "   INFO <module>:  2 (DecoderBlock)                                                [0][0]',                         \n"
     ]
    },
    {
     "name": "stderr",
     "output_type": "stream",
     "text": [
      "INFO:mathsformer: 2 (DecoderBlock)                                                [0][0]',                         \n"
     ]
    },
    {
     "name": "stdout",
     "output_type": "stream",
     "text": [
      "   INFO <module>:                                                                   'mathsformer_LLM_encoder_output_\n"
     ]
    },
    {
     "name": "stderr",
     "output_type": "stream",
     "text": [
      "INFO:mathsformer:                                                                  'mathsformer_LLM_encoder_output_\n"
     ]
    },
    {
     "name": "stdout",
     "output_type": "stream",
     "text": [
      "   INFO <module>:                                                                  norm[0][0]']                     \n"
     ]
    },
    {
     "name": "stderr",
     "output_type": "stream",
     "text": [
      "INFO:mathsformer:                                                                 norm[0][0]']                     \n"
     ]
    },
    {
     "name": "stdout",
     "output_type": "stream",
     "text": [
      "   INFO <module>:                                                                                                   \n"
     ]
    },
    {
     "name": "stderr",
     "output_type": "stream",
     "text": [
      "INFO:mathsformer:                                                                                                  \n"
     ]
    },
    {
     "name": "stdout",
     "output_type": "stream",
     "text": [
      "   INFO <module>:  mathsformer_LLM_output (FeedFo  (None, None, 16)    599824      ['mathsformer_LLM_decoder_block_2\n"
     ]
    },
    {
     "name": "stderr",
     "output_type": "stream",
     "text": [
      "INFO:mathsformer: mathsformer_LLM_output (FeedFo  (None, None, 16)    599824      ['mathsformer_LLM_decoder_block_2\n"
     ]
    },
    {
     "name": "stdout",
     "output_type": "stream",
     "text": [
      "   INFO <module>:  rwardBlock)                                                     [0][0]']                         \n"
     ]
    },
    {
     "name": "stderr",
     "output_type": "stream",
     "text": [
      "INFO:mathsformer: rwardBlock)                                                     [0][0]']                         \n"
     ]
    },
    {
     "name": "stdout",
     "output_type": "stream",
     "text": [
      "   INFO <module>:                                                                                                   \n"
     ]
    },
    {
     "name": "stderr",
     "output_type": "stream",
     "text": [
      "INFO:mathsformer:                                                                                                  \n"
     ]
    },
    {
     "name": "stdout",
     "output_type": "stream",
     "text": [
      "   INFO <module>: ==================================================================================================\n"
     ]
    },
    {
     "name": "stderr",
     "output_type": "stream",
     "text": [
      "INFO:mathsformer:==================================================================================================\n"
     ]
    },
    {
     "name": "stdout",
     "output_type": "stream",
     "text": [
      "   INFO <module>: Total params: 4,298,640\n"
     ]
    },
    {
     "name": "stderr",
     "output_type": "stream",
     "text": [
      "INFO:mathsformer:Total params: 4,298,640\n"
     ]
    },
    {
     "name": "stdout",
     "output_type": "stream",
     "text": [
      "   INFO <module>: Trainable params: 4,298,640\n"
     ]
    },
    {
     "name": "stderr",
     "output_type": "stream",
     "text": [
      "INFO:mathsformer:Trainable params: 4,298,640\n"
     ]
    },
    {
     "name": "stdout",
     "output_type": "stream",
     "text": [
      "   INFO <module>: Non-trainable params: 0\n"
     ]
    },
    {
     "name": "stderr",
     "output_type": "stream",
     "text": [
      "INFO:mathsformer:Non-trainable params: 0\n"
     ]
    },
    {
     "name": "stdout",
     "output_type": "stream",
     "text": [
      "   INFO <module>: __________________________________________________________________________________________________\n"
     ]
    },
    {
     "name": "stderr",
     "output_type": "stream",
     "text": [
      "INFO:mathsformer:__________________________________________________________________________________________________\n"
     ]
    },
    {
     "name": "stdout",
     "output_type": "stream",
     "text": [
      "   INFO <module>: Optimizer is <keras.optimizers.adamw.AdamW object at 0x17954b550>\n"
     ]
    },
    {
     "name": "stderr",
     "output_type": "stream",
     "text": [
      "INFO:mathsformer:Optimizer is <keras.optimizers.adamw.AdamW object at 0x17954b550>\n"
     ]
    },
    {
     "name": "stdout",
     "output_type": "stream",
     "text": [
      "   INFO <module>: Learning rate is <tf.Variable 'learning_rate:0' shape=() dtype=float32, numpy=1e-04>\n"
     ]
    },
    {
     "name": "stderr",
     "output_type": "stream",
     "text": [
      "INFO:mathsformer:Learning rate is <tf.Variable 'learning_rate:0' shape=() dtype=float32, numpy=1e-04>\n"
     ]
    },
    {
     "name": "stdout",
     "output_type": "stream",
     "text": [
      "   INFO <module>: Weight decay is 0.02\n"
     ]
    },
    {
     "name": "stderr",
     "output_type": "stream",
     "text": [
      "INFO:mathsformer:Weight decay is 0.02\n"
     ]
    }
   ],
   "source": [
    "##===================================================##\n",
    "##   Load or create self-supervised learning model   ##\n",
    "##===================================================##\n",
    "\n",
    "##  Get filename for load model\n",
    "fname = cfg_model.get(\"load_pretrained_model\", None)\n",
    "\n",
    "##  Load model if fname is not None, otherwise create from scratch\n",
    "if fname is not None :\n",
    "    logger.info   (f\"Loading model from: {fname}\")\n",
    "    logger.warning(\"Loading a pretrained model will disregard model config!\")\n",
    "    model = backend.load_text_to_text_model(fname)\n",
    "    model.optimizer.learning_rate.assign(cfg_model[\"optimizer_args\"][\"learning_rate\"])  ## Reset LR to config value\n",
    "else :\n",
    "    logger.info(f\"Creating new text-to-text model\")\n",
    "    model = create_text_to_text_model_from_config(cfg_model, token_transform)\n",
    "\n",
    "##  Create hack to catch model summary\n",
    "model_summary = []\n",
    "model.summary(print_fn = lambda s : model_summary.append(s))\n",
    "\n",
    "##  Print model summary\n",
    "logger.info(\"Model created with summary:\")\n",
    "for s in model_summary : logger.info(s)\n",
    "    \n",
    "##  Print optimizer summary\n",
    "logger.info(f\"Optimizer is {model.optimizer}\")\n",
    "if hasattr(model.optimizer, \"learning_rate\") : logger.info(f\"Learning rate is {model.optimizer.learning_rate}\")\n",
    "if hasattr(model.optimizer, \"weight_decay\" ) : logger.info(f\"Weight decay is {model.optimizer.weight_decay}\")\n"
   ]
  },
  {
   "cell_type": "code",
   "execution_count": 13,
   "id": "793493a0",
   "metadata": {},
   "outputs": [],
   "source": [
    "##==============================================================##\n",
    "##   Create transformer wrapper for model and token_transform   ##\n",
    "##==============================================================##\n",
    "\n",
    "transformer = transformers.Transformer_Text_to_Text(model, token_transform)\n"
   ]
  },
  {
   "cell_type": "code",
   "execution_count": 14,
   "id": "956e30a6",
   "metadata": {
    "scrolled": true
   },
   "outputs": [
    {
     "name": "stdout",
     "output_type": "stream",
     "text": [
      "   INFO test_transformer: Running text --> text mathsformer inference on some training data:\n"
     ]
    },
    {
     "name": "stderr",
     "output_type": "stream",
     "text": [
      "INFO:mathsformer.selfsupervised_learning_addition_model_backend:Running text --> text mathsformer inference on some training data:\n"
     ]
    },
    {
     "name": "stdout",
     "output_type": "stream",
     "text": [
      "   INFO print_predictions_table: ----------------------------------------------------------------------------------------\n"
     ]
    },
    {
     "name": "stderr",
     "output_type": "stream",
     "text": [
      "INFO:mathsformer.selfsupervised_learning_addition_model_backend:----------------------------------------------------------------------------------------\n"
     ]
    },
    {
     "name": "stdout",
     "output_type": "stream",
     "text": [
      "   INFO print_predictions_table:                 INPUT         TRUE   PRED(MASK)      PRED(GEN)      CORRECT     RESIDUAL\n"
     ]
    },
    {
     "name": "stderr",
     "output_type": "stream",
     "text": [
      "INFO:mathsformer.selfsupervised_learning_addition_model_backend:                INPUT         TRUE   PRED(MASK)      PRED(GEN)      CORRECT     RESIDUAL\n"
     ]
    },
    {
     "name": "stdout",
     "output_type": "stream",
     "text": [
      "   INFO print_predictions_table: ----------------------------------------------------------------------------------------\n"
     ]
    },
    {
     "name": "stderr",
     "output_type": "stream",
     "text": [
      "INFO:mathsformer.selfsupervised_learning_addition_model_backend:----------------------------------------------------------------------------------------\n"
     ]
    },
    {
     "name": "stdout",
     "output_type": "stream",
     "text": [
      "   INFO print_predictions_table:               N901+87         N814       000330 B0003300000707                      ?   \n"
     ]
    },
    {
     "name": "stderr",
     "output_type": "stream",
     "text": [
      "INFO:mathsformer.selfsupervised_learning_addition_model_backend:              N901+87         N814       000330 B0003300000707                      ?   \n"
     ]
    },
    {
     "name": "stdout",
     "output_type": "stream",
     "text": [
      "   INFO print_predictions_table:                  N490         N490       000330 B0003300000700                      ?   \n"
     ]
    },
    {
     "name": "stderr",
     "output_type": "stream",
     "text": [
      "INFO:mathsformer.selfsupervised_learning_addition_model_backend:                 N490         N490       000330 B0003300000700                      ?   \n"
     ]
    },
    {
     "name": "stdout",
     "output_type": "stream",
     "text": [
      "   INFO print_predictions_table:                N169-9         N178       000330 B0003300000707                      ?   \n"
     ]
    },
    {
     "name": "stderr",
     "output_type": "stream",
     "text": [
      "INFO:mathsformer.selfsupervised_learning_addition_model_backend:               N169-9         N178       000330 B0003300000707                      ?   \n"
     ]
    },
    {
     "name": "stdout",
     "output_type": "stream",
     "text": [
      "   INFO print_predictions_table:                  N875         N875       000330 B0003300000700                      ?   \n"
     ]
    },
    {
     "name": "stderr",
     "output_type": "stream",
     "text": [
      "INFO:mathsformer.selfsupervised_learning_addition_model_backend:                 N875         N875       000330 B0003300000700                      ?   \n"
     ]
    },
    {
     "name": "stdout",
     "output_type": "stream",
     "text": [
      "   INFO print_predictions_table:        N6-283-555+N45         N889       000330 B0003300000707                      ?   \n"
     ]
    },
    {
     "name": "stderr",
     "output_type": "stream",
     "text": [
      "INFO:mathsformer.selfsupervised_learning_addition_model_backend:       N6-283-555+N45         N889       000330 B0003300000707                      ?   \n"
     ]
    },
    {
     "name": "stdout",
     "output_type": "stream",
     "text": [
      "   INFO print_predictions_table:                N63-N7          N56       000330 B0003300000707                      ?   \n"
     ]
    },
    {
     "name": "stderr",
     "output_type": "stream",
     "text": [
      "INFO:mathsformer.selfsupervised_learning_addition_model_backend:               N63-N7          N56       000330 B0003300000707                      ?   \n"
     ]
    },
    {
     "name": "stdout",
     "output_type": "stream",
     "text": [
      "   INFO print_predictions_table:              N469-N83         N386       000330 B0003300000707                      ?   \n"
     ]
    },
    {
     "name": "stderr",
     "output_type": "stream",
     "text": [
      "INFO:mathsformer.selfsupervised_learning_addition_model_backend:             N469-N83         N386       000330 B0003300000707                      ?   \n"
     ]
    },
    {
     "name": "stdout",
     "output_type": "stream",
     "text": [
      "   INFO print_predictions_table:  9510-N36+1500+6537-3        17580       000330 B0003300000707                      ?   \n"
     ]
    },
    {
     "name": "stderr",
     "output_type": "stream",
     "text": [
      "INFO:mathsformer.selfsupervised_learning_addition_model_backend: 9510-N36+1500+6537-3        17580       000330 B0003300000707                      ?   \n"
     ]
    },
    {
     "name": "stdout",
     "output_type": "stream",
     "text": [
      "   INFO print_predictions_table:               63+2517         2580       000330 B0003300000707                      ?   \n"
     ]
    },
    {
     "name": "stderr",
     "output_type": "stream",
     "text": [
      "INFO:mathsformer.selfsupervised_learning_addition_model_backend:              63+2517         2580       000330 B0003300000707                      ?   \n"
     ]
    },
    {
     "name": "stdout",
     "output_type": "stream",
     "text": [
      "   INFO print_predictions_table:            N374-N9949         9575       000330 B0003300000707                      ?   \n"
     ]
    },
    {
     "name": "stderr",
     "output_type": "stream",
     "text": [
      "INFO:mathsformer.selfsupervised_learning_addition_model_backend:           N374-N9949         9575       000330 B0003300000707                      ?   \n"
     ]
    },
    {
     "name": "stdout",
     "output_type": "stream",
     "text": [
      "   INFO test_transformer: Running text --> text mathsformer inference on some validation data:\n"
     ]
    },
    {
     "name": "stderr",
     "output_type": "stream",
     "text": [
      "INFO:mathsformer.selfsupervised_learning_addition_model_backend:Running text --> text mathsformer inference on some validation data:\n"
     ]
    },
    {
     "name": "stdout",
     "output_type": "stream",
     "text": [
      "   INFO print_predictions_table: ---------------------------------------------------------------------------------\n"
     ]
    },
    {
     "name": "stderr",
     "output_type": "stream",
     "text": [
      "INFO:mathsformer.selfsupervised_learning_addition_model_backend:---------------------------------------------------------------------------------\n"
     ]
    },
    {
     "name": "stdout",
     "output_type": "stream",
     "text": [
      "   INFO print_predictions_table:          INPUT         TRUE   PRED(MASK)      PRED(GEN)      CORRECT     RESIDUAL\n"
     ]
    },
    {
     "name": "stderr",
     "output_type": "stream",
     "text": [
      "INFO:mathsformer.selfsupervised_learning_addition_model_backend:         INPUT         TRUE   PRED(MASK)      PRED(GEN)      CORRECT     RESIDUAL\n"
     ]
    },
    {
     "name": "stdout",
     "output_type": "stream",
     "text": [
      "   INFO print_predictions_table: ---------------------------------------------------------------------------------\n"
     ]
    },
    {
     "name": "stderr",
     "output_type": "stream",
     "text": [
      "INFO:mathsformer.selfsupervised_learning_addition_model_backend:---------------------------------------------------------------------------------\n"
     ]
    },
    {
     "name": "stdout",
     "output_type": "stream",
     "text": [
      "   INFO print_predictions_table:   3-N3988+N847         3144        00033 B0003300000707                      ?   \n"
     ]
    },
    {
     "name": "stderr",
     "output_type": "stream",
     "text": [
      "INFO:mathsformer.selfsupervised_learning_addition_model_backend:  3-N3988+N847         3144        00033 B0003300000707                      ?   \n"
     ]
    },
    {
     "name": "stdout",
     "output_type": "stream",
     "text": [
      "   INFO print_predictions_table:      7797+5-N4         7806        00033 B0003300000707                      ?   \n"
     ]
    },
    {
     "name": "stderr",
     "output_type": "stream",
     "text": [
      "INFO:mathsformer.selfsupervised_learning_addition_model_backend:     7797+5-N4         7806        00033 B0003300000707                      ?   \n"
     ]
    },
    {
     "name": "stdout",
     "output_type": "stream",
     "text": [
      "   INFO print_predictions_table:   N8357-N11+N7        N8353        00033 B0003300000707                      ?   \n"
     ]
    },
    {
     "name": "stderr",
     "output_type": "stream",
     "text": [
      "INFO:mathsformer.selfsupervised_learning_addition_model_backend:  N8357-N11+N7        N8353        00033 B0003300000707                      ?   \n"
     ]
    },
    {
     "name": "stdout",
     "output_type": "stream",
     "text": [
      "   INFO print_predictions_table:  6686-N437-236         6887        00033 B0003300000707                      ?   \n"
     ]
    },
    {
     "name": "stderr",
     "output_type": "stream",
     "text": [
      "INFO:mathsformer.selfsupervised_learning_addition_model_backend: 6686-N437-236         6887        00033 B0003300000707                      ?   \n"
     ]
    },
    {
     "name": "stdout",
     "output_type": "stream",
     "text": [
      "   INFO print_predictions_table:      N5+4442+8         4445        00033 B0003300000707                      ?   \n"
     ]
    },
    {
     "name": "stderr",
     "output_type": "stream",
     "text": [
      "INFO:mathsformer.selfsupervised_learning_addition_model_backend:     N5+4442+8         4445        00033 B0003300000707                      ?   \n"
     ]
    },
    {
     "name": "stdout",
     "output_type": "stream",
     "text": [
      "   INFO print_predictions_table:    2123-N1+N68         2056        00033 B0003300000707                      ?   \n"
     ]
    },
    {
     "name": "stderr",
     "output_type": "stream",
     "text": [
      "INFO:mathsformer.selfsupervised_learning_addition_model_backend:   2123-N1+N68         2056        00033 B0003300000707                      ?   \n"
     ]
    },
    {
     "name": "stdout",
     "output_type": "stream",
     "text": [
      "   INFO print_predictions_table:    95+4563+879         5537        00033 B0003300000707                      ?   \n"
     ]
    },
    {
     "name": "stderr",
     "output_type": "stream",
     "text": [
      "INFO:mathsformer.selfsupervised_learning_addition_model_backend:   95+4563+879         5537        00033 B0003300000707                      ?   \n"
     ]
    },
    {
     "name": "stdout",
     "output_type": "stream",
     "text": [
      "   INFO print_predictions_table:   1639+N2868+5        N1224        00033 B0003300000707                      ?   \n"
     ]
    },
    {
     "name": "stderr",
     "output_type": "stream",
     "text": [
      "INFO:mathsformer.selfsupervised_learning_addition_model_backend:  1639+N2868+5        N1224        00033 B0003300000707                      ?   \n"
     ]
    },
    {
     "name": "stdout",
     "output_type": "stream",
     "text": [
      "   INFO print_predictions_table:       8+N725-3         N720        00033 B00033000007B7                      ?   \n"
     ]
    },
    {
     "name": "stderr",
     "output_type": "stream",
     "text": [
      "INFO:mathsformer.selfsupervised_learning_addition_model_backend:      8+N725-3         N720        00033 B00033000007B7                      ?   \n"
     ]
    },
    {
     "name": "stdout",
     "output_type": "stream",
     "text": [
      "   INFO print_predictions_table:  N283+N962-N40        N1205        00033 B0003300000707                      ?   \n"
     ]
    },
    {
     "name": "stderr",
     "output_type": "stream",
     "text": [
      "INFO:mathsformer.selfsupervised_learning_addition_model_backend: N283+N962-N40        N1205        00033 B0003300000707                      ?   \n"
     ]
    },
    {
     "name": "stdout",
     "output_type": "stream",
     "text": [
      "   INFO test_transformer: Running text --> text mathsformer inference on some test data:\n"
     ]
    },
    {
     "name": "stderr",
     "output_type": "stream",
     "text": [
      "INFO:mathsformer.selfsupervised_learning_addition_model_backend:Running text --> text mathsformer inference on some test data:\n"
     ]
    },
    {
     "name": "stdout",
     "output_type": "stream",
     "text": [
      "   INFO print_predictions_table: -----------------------------------------------------------------------------------------------\n"
     ]
    },
    {
     "name": "stderr",
     "output_type": "stream",
     "text": [
      "INFO:mathsformer.selfsupervised_learning_addition_model_backend:-----------------------------------------------------------------------------------------------\n"
     ]
    },
    {
     "name": "stdout",
     "output_type": "stream",
     "text": [
      "   INFO print_predictions_table:                        INPUT         TRUE   PRED(MASK)      PRED(GEN)      CORRECT     RESIDUAL\n"
     ]
    },
    {
     "name": "stderr",
     "output_type": "stream",
     "text": [
      "INFO:mathsformer.selfsupervised_learning_addition_model_backend:                       INPUT         TRUE   PRED(MASK)      PRED(GEN)      CORRECT     RESIDUAL\n"
     ]
    },
    {
     "name": "stdout",
     "output_type": "stream",
     "text": [
      "   INFO print_predictions_table: -----------------------------------------------------------------------------------------------\n"
     ]
    },
    {
     "name": "stderr",
     "output_type": "stream",
     "text": [
      "INFO:mathsformer.selfsupervised_learning_addition_model_backend:-----------------------------------------------------------------------------------------------\n"
     ]
    },
    {
     "name": "stdout",
     "output_type": "stream",
     "text": [
      "   INFO print_predictions_table:  N6774-N71+5814-6016+45+N976        N7836       000330 B0003300000707                      ?   \n"
     ]
    },
    {
     "name": "stderr",
     "output_type": "stream",
     "text": [
      "INFO:mathsformer.selfsupervised_learning_addition_model_backend: N6774-N71+5814-6016+45+N976        N7836       000330 B0003300000707                      ?   \n"
     ]
    },
    {
     "name": "stdout",
     "output_type": "stream",
     "text": [
      "   INFO print_predictions_table:        N5489-65-65-N1+7-N734        N4877       000330 B0003300000707                      ?   \n"
     ]
    },
    {
     "name": "stderr",
     "output_type": "stream",
     "text": [
      "INFO:mathsformer.selfsupervised_learning_addition_model_backend:       N5489-65-65-N1+7-N734        N4877       000330 B0003300000707                      ?   \n"
     ]
    },
    {
     "name": "stdout",
     "output_type": "stream",
     "text": [
      "   INFO print_predictions_table:        N3-79+43-890+N3666-N6        N4589       000330 B0003300000707                      ?   \n"
     ]
    },
    {
     "name": "stderr",
     "output_type": "stream",
     "text": [
      "INFO:mathsformer.selfsupervised_learning_addition_model_backend:       N3-79+43-890+N3666-N6        N4589       000330 B0003300000707                      ?   \n"
     ]
    },
    {
     "name": "stdout",
     "output_type": "stream",
     "text": [
      "   INFO print_predictions_table:     N950+189+2766-N594+474-1         3072       000330 B0003300000707                      ?   \n"
     ]
    },
    {
     "name": "stderr",
     "output_type": "stream",
     "text": [
      "INFO:mathsformer.selfsupervised_learning_addition_model_backend:    N950+189+2766-N594+474-1         3072       000330 B0003300000707                      ?   \n"
     ]
    },
    {
     "name": "stdout",
     "output_type": "stream",
     "text": [
      "   INFO print_predictions_table:     N3994+N9+5718-N4-6+N9512        N7799       000330 B0003300000707                      ?   \n"
     ]
    },
    {
     "name": "stderr",
     "output_type": "stream",
     "text": [
      "INFO:mathsformer.selfsupervised_learning_addition_model_backend:    N3994+N9+5718-N4-6+N9512        N7799       000330 B0003300000707                      ?   \n"
     ]
    },
    {
     "name": "stdout",
     "output_type": "stream",
     "text": [
      "   INFO print_predictions_table:   N742+8580+45+N52-N1561-N84         9476       000330 B0003300000707                      ?   \n"
     ]
    },
    {
     "name": "stderr",
     "output_type": "stream",
     "text": [
      "INFO:mathsformer.selfsupervised_learning_addition_model_backend:  N742+8580+45+N52-N1561-N84         9476       000330 B0003300000707                      ?   \n"
     ]
    },
    {
     "name": "stdout",
     "output_type": "stream",
     "text": [
      "   INFO print_predictions_table:    3524-2067-3915+N252+N1-82        N2793       000330 B0003300000707                      ?   \n"
     ]
    },
    {
     "name": "stderr",
     "output_type": "stream",
     "text": [
      "INFO:mathsformer.selfsupervised_learning_addition_model_backend:   3524-2067-3915+N252+N1-82        N2793       000330 B0003300000707                      ?   \n"
     ]
    },
    {
     "name": "stdout",
     "output_type": "stream",
     "text": [
      "   INFO print_predictions_table:   220-N665-74-N42-N415+N9861        N8593       000330 B0003300000707                      ?   \n"
     ]
    },
    {
     "name": "stderr",
     "output_type": "stream",
     "text": [
      "INFO:mathsformer.selfsupervised_learning_addition_model_backend:  220-N665-74-N42-N415+N9861        N8593       000330 B0003300000707                      ?   \n"
     ]
    },
    {
     "name": "stdout",
     "output_type": "stream",
     "text": [
      "   INFO print_predictions_table:     N8355-N5-N97+317-N755+85        N7096       000330 B0003300000707                      ?   \n"
     ]
    },
    {
     "name": "stderr",
     "output_type": "stream",
     "text": [
      "INFO:mathsformer.selfsupervised_learning_addition_model_backend:    N8355-N5-N97+317-N755+85        N7096       000330 B0003300000707                      ?   \n"
     ]
    },
    {
     "name": "stdout",
     "output_type": "stream",
     "text": [
      "   INFO print_predictions_table:    5769+6-9703-N6918-738+N48         2204       000330 B0003300000707                      ?   \n"
     ]
    },
    {
     "name": "stderr",
     "output_type": "stream",
     "text": [
      "INFO:mathsformer.selfsupervised_learning_addition_model_backend:   5769+6-9703-N6918-738+N48         2204       000330 B0003300000707                      ?   \n"
     ]
    }
   ],
   "source": [
    "##=========================================##\n",
    "##   Test transformer on data generators   ##\n",
    "##=========================================##\n",
    "\n",
    "backend.test_transformer(transformer, train_gen, val_gen, test_gen, negative_char=negative_char)\n"
   ]
  },
  {
   "cell_type": "markdown",
   "id": "467f7a52",
   "metadata": {},
   "source": [
    "##  5.  Train model"
   ]
  },
  {
   "cell_type": "code",
   "execution_count": 15,
   "id": "aea411fe",
   "metadata": {},
   "outputs": [
    {
     "name": "stdout",
     "output_type": "stream",
     "text": [
      "   INFO get_callbacks: Registered training callback: LoggerCallback with loglvl=10\n"
     ]
    },
    {
     "name": "stderr",
     "output_type": "stream",
     "text": [
      "INFO:mathsformer.selfsupervised_learning_addition_model_backend:Registered training callback: LoggerCallback with loglvl=10\n"
     ]
    },
    {
     "name": "stdout",
     "output_type": "stream",
     "text": [
      "   INFO get_callbacks: Registered training callback: AdaptiveLearningRate with decay_factor=0.2, patience=3, monitor=loss, mode=min, log_lvl=10\n"
     ]
    },
    {
     "name": "stderr",
     "output_type": "stream",
     "text": [
      "INFO:mathsformer.selfsupervised_learning_addition_model_backend:Registered training callback: AdaptiveLearningRate with decay_factor=0.2, patience=3, monitor=loss, mode=min, log_lvl=10\n"
     ]
    },
    {
     "name": "stdout",
     "output_type": "stream",
     "text": [
      "   INFO get_callbacks: Registered training callback: ModelCheckpoint with filepath=SSL_loopy_enc_dec_notebook_int1234_num1245_embed128_enc_2blocks_5loops_width512_dec_2blocks_1loops_width512_post3_width512_idemm1_2023_06_25_v2/model_checkpoint_epoch{epoch}_val_loss_{val_loss:.5}.keras\n"
     ]
    },
    {
     "name": "stderr",
     "output_type": "stream",
     "text": [
      "INFO:mathsformer.selfsupervised_learning_addition_model_backend:Registered training callback: ModelCheckpoint with filepath=SSL_loopy_enc_dec_notebook_int1234_num1245_embed128_enc_2blocks_5loops_width512_dec_2blocks_1loops_width512_post3_width512_idemm1_2023_06_25_v2/model_checkpoint_epoch{epoch}_val_loss_{val_loss:.5}.keras\n"
     ]
    },
    {
     "name": "stdout",
     "output_type": "stream",
     "text": [
      "   INFO get_callbacks: Registered training callback: LayerWeightsRecord with batch_frequency=2000, recursive=True\n"
     ]
    },
    {
     "name": "stderr",
     "output_type": "stream",
     "text": [
      "INFO:mathsformer.selfsupervised_learning_addition_model_backend:Registered training callback: LayerWeightsRecord with batch_frequency=2000, recursive=True\n"
     ]
    },
    {
     "name": "stdout",
     "output_type": "stream",
     "text": [
      "   INFO get_callbacks: Registered training callback: LambdaCallback for test_transformer with num_print=10, negative_char='N'\n"
     ]
    },
    {
     "name": "stderr",
     "output_type": "stream",
     "text": [
      "INFO:mathsformer.selfsupervised_learning_addition_model_backend:Registered training callback: LambdaCallback for test_transformer with num_print=10, negative_char='N'\n"
     ]
    }
   ],
   "source": [
    "##===================================##\n",
    "##   Create callbacks for training   ##\n",
    "##===================================##\n",
    "\n",
    "callbacks = backend.get_callbacks(cfg_training, working_dir, transformer=transformer, train_gen=train_gen_reproducible, \n",
    "                                  val_gen=val_gen, negative_char=negative_char)\n"
   ]
  },
  {
   "cell_type": "code",
   "execution_count": null,
   "id": "21d1736d",
   "metadata": {
    "scrolled": true
   },
   "outputs": [
    {
     "name": "stdout",
     "output_type": "stream",
     "text": [
      "   INFO <module>: Begin model training with max_epochs=100000\n"
     ]
    },
    {
     "name": "stderr",
     "output_type": "stream",
     "text": [
      "INFO:mathsformer:Begin model training with max_epochs=100000\n",
      "DEBUG:mathsformer.selfsupervised_learning_addition_model_backend:Setting variable to learning_rate:0\n"
     ]
    },
    {
     "name": "stdout",
     "output_type": "stream",
     "text": [
      "Epoch 1/100000\n"
     ]
    },
    {
     "name": "stderr",
     "output_type": "stream",
     "text": [
      "2023-06-25 21:02:16.707762: W tensorflow/tsl/platform/profile_utils/cpu_utils.cc:128] Failed to get CPU frequency: 0 Hz\n"
     ]
    },
    {
     "name": "stdout",
     "output_type": "stream",
     "text": [
      "2000/2000 [==============================] - ETA: 0s - loss: 1.8261 - masked_categorical_accuracy: 0.3637"
     ]
    },
    {
     "name": "stderr",
     "output_type": "stream",
     "text": [
      "DEBUG:mathsformer.selfsupervised_learning_addition_model_backend:Training reached the end of epoch at index 0\n",
      "DEBUG:mathsformer.selfsupervised_learning_addition_model_backend:    with metric loss: 1.8261\n",
      "DEBUG:mathsformer.selfsupervised_learning_addition_model_backend:    with metric masked_categorical_accuracy: 0.36374\n",
      "DEBUG:mathsformer.selfsupervised_learning_addition_model_backend:    with metric val_loss: 1.9656\n",
      "DEBUG:mathsformer.selfsupervised_learning_addition_model_backend:    with metric val_masked_categorical_accuracy: 0.32839\n",
      "DEBUG:mathsformer.selfsupervised_learning_addition_model_backend:Running text --> text mathsformer inference on some training data:\n",
      "DEBUG:mathsformer.selfsupervised_learning_addition_model_backend:---------------------------------------------------------------------------------------\n",
      "DEBUG:mathsformer.selfsupervised_learning_addition_model_backend:                 INPUT         TRUE   PRED(MASK)    PRED(GEN)      CORRECT     RESIDUAL\n",
      "DEBUG:mathsformer.selfsupervised_learning_addition_model_backend:---------------------------------------------------------------------------------------\n",
      "DEBUG:mathsformer.selfsupervised_learning_addition_model_backend:    N8097-N943+N8+5-86        N7243        N7518        N7518                      -275\n",
      "DEBUG:mathsformer.selfsupervised_learning_addition_model_backend:       N9+N4-N2+N943+4         N950        N18EE         N100                       850\n",
      "DEBUG:mathsformer.selfsupervised_learning_addition_model_backend:              476+N792         N316        1880E          100                       416\n",
      "DEBUG:mathsformer.selfsupervised_learning_addition_model_backend:     2333-6-N6836+8575        17738        1188E         1101                    -16637\n",
      "DEBUG:mathsformer.selfsupervised_learning_addition_model_backend:  N6665+617+N57+61+363        N5681        N1518       N11118                     -5437\n",
      "DEBUG:mathsformer.selfsupervised_learning_addition_model_backend:     52-N6818+79-N5-N2         6956        N18EE        N1018                     -7974\n",
      "DEBUG:mathsformer.selfsupervised_learning_addition_model_backend:                 N5+77           72        NEEEE          N10                       -82\n",
      "DEBUG:mathsformer.selfsupervised_learning_addition_model_backend: N379+N752-7+N2992-328        N4458        N1888        N1118                      3340\n",
      "DEBUG:mathsformer.selfsupervised_learning_addition_model_backend:       N7+N9-1+97-7774        N7694        N188E         N100                      7594\n",
      "DEBUG:mathsformer.selfsupervised_learning_addition_model_backend:              75+N3612        N3537        N1811        N1011                      2526\n",
      "DEBUG:mathsformer.selfsupervised_learning_addition_model_backend:Running text --> text mathsformer inference on some validation data:\n",
      "DEBUG:mathsformer.selfsupervised_learning_addition_model_backend:-------------------------------------------------------------------------------\n",
      "DEBUG:mathsformer.selfsupervised_learning_addition_model_backend:         INPUT         TRUE   PRED(MASK)    PRED(GEN)      CORRECT     RESIDUAL\n",
      "DEBUG:mathsformer.selfsupervised_learning_addition_model_backend:-------------------------------------------------------------------------------\n",
      "DEBUG:mathsformer.selfsupervised_learning_addition_model_backend:  3-N3988+N847         3144        N8EEE         N100                     -3244\n",
      "DEBUG:mathsformer.selfsupervised_learning_addition_model_backend:     7797+5-N4         7806        1511E         1011                     -6795\n",
      "DEBUG:mathsformer.selfsupervised_learning_addition_model_backend:  N8357-N11+N7        N8353        N7111        N7111                      1242\n",
      "DEBUG:mathsformer.selfsupervised_learning_addition_model_backend: 6686-N437-236         6887        151EE         1010                     -5877\n",
      "DEBUG:mathsformer.selfsupervised_learning_addition_model_backend:     N5+4442+8         4445        N81EE        N1011                     -5456\n",
      "DEBUG:mathsformer.selfsupervised_learning_addition_model_backend:   2123-N1+N68         2056        111EE          101                     -1955\n",
      "DEBUG:mathsformer.selfsupervised_learning_addition_model_backend:   95+4563+879         5537        N88EE         N100                     -5637\n",
      "DEBUG:mathsformer.selfsupervised_learning_addition_model_backend:  1639+N2868+5        N1224        N100E         N100                      1124\n",
      "DEBUG:mathsformer.selfsupervised_learning_addition_model_backend:      8+N725-3         N720        N1111        N1011                      -291\n",
      "DEBUG:mathsformer.selfsupervised_learning_addition_model_backend: N283+N962-N40        N1205        N100E         N100                      1105\n"
     ]
    },
    {
     "name": "stdout",
     "output_type": "stream",
     "text": [
      "2000/2000 [==============================] - 757s 374ms/step - loss: 1.8261 - masked_categorical_accuracy: 0.3637 - val_loss: 1.9656 - val_masked_categorical_accuracy: 0.3284\n",
      "Epoch 2/100000\n",
      "2000/2000 [==============================] - ETA: 0s - loss: 1.5140 - masked_categorical_accuracy: 0.4591"
     ]
    },
    {
     "name": "stderr",
     "output_type": "stream",
     "text": [
      "DEBUG:mathsformer.selfsupervised_learning_addition_model_backend:Training reached the end of epoch at index 1\n",
      "DEBUG:mathsformer.selfsupervised_learning_addition_model_backend:    with metric loss: 1.514\n",
      "DEBUG:mathsformer.selfsupervised_learning_addition_model_backend:    with metric masked_categorical_accuracy: 0.45906\n",
      "DEBUG:mathsformer.selfsupervised_learning_addition_model_backend:    with metric val_loss: 1.7925\n",
      "DEBUG:mathsformer.selfsupervised_learning_addition_model_backend:    with metric val_masked_categorical_accuracy: 0.3725\n",
      "DEBUG:mathsformer.selfsupervised_learning_addition_model_backend:Running text --> text mathsformer inference on some training data:\n",
      "DEBUG:mathsformer.selfsupervised_learning_addition_model_backend:---------------------------------------------------------------------------------------\n",
      "DEBUG:mathsformer.selfsupervised_learning_addition_model_backend:                 INPUT         TRUE   PRED(MASK)    PRED(GEN)      CORRECT     RESIDUAL\n",
      "DEBUG:mathsformer.selfsupervised_learning_addition_model_backend:---------------------------------------------------------------------------------------\n",
      "DEBUG:mathsformer.selfsupervised_learning_addition_model_backend:    N8097-N943+N8+5-86        N7243        N1099        N1009                      6234\n",
      "DEBUG:mathsformer.selfsupervised_learning_addition_model_backend:       N9+N4-N2+N943+4         N950        N19EE          N10                       940\n",
      "DEBUG:mathsformer.selfsupervised_learning_addition_model_backend:              476+N792         N316        N109E         N100                       216\n",
      "DEBUG:mathsformer.selfsupervised_learning_addition_model_backend:     2333-6-N6836+8575        17738        N099E        N1009                    -18747\n",
      "DEBUG:mathsformer.selfsupervised_learning_addition_model_backend:  N6665+617+N57+61+363        N5681        N1099        N1001                      4680\n",
      "DEBUG:mathsformer.selfsupervised_learning_addition_model_backend:     52-N6818+79-N5-N2         6956        N89EE        N1009                     -7965\n",
      "DEBUG:mathsformer.selfsupervised_learning_addition_model_backend:                 N5+77           72        N8EEE          N10                       -82\n",
      "DEBUG:mathsformer.selfsupervised_learning_addition_model_backend: N379+N752-7+N2992-328        N4458        N109E        N1009                      3449\n",
      "DEBUG:mathsformer.selfsupervised_learning_addition_model_backend:       N7+N9-1+97-7774        N7694        N199E         N100                      7594\n",
      "DEBUG:mathsformer.selfsupervised_learning_addition_model_backend:              75+N3612        N3537        N1099        N1009                      2528\n",
      "DEBUG:mathsformer.selfsupervised_learning_addition_model_backend:Running text --> text mathsformer inference on some validation data:\n",
      "DEBUG:mathsformer.selfsupervised_learning_addition_model_backend:-------------------------------------------------------------------------------\n",
      "DEBUG:mathsformer.selfsupervised_learning_addition_model_backend:         INPUT         TRUE   PRED(MASK)    PRED(GEN)      CORRECT     RESIDUAL\n",
      "DEBUG:mathsformer.selfsupervised_learning_addition_model_backend:-------------------------------------------------------------------------------\n",
      "DEBUG:mathsformer.selfsupervised_learning_addition_model_backend:  3-N3988+N847         3144        N79EE        N1009                     -4153\n",
      "DEBUG:mathsformer.selfsupervised_learning_addition_model_backend:     7797+5-N4         7806        7799E         7709                       -97\n",
      "DEBUG:mathsformer.selfsupervised_learning_addition_model_backend:  N8357-N11+N7        N8353        N8219        N8219                       134\n",
      "DEBUG:mathsformer.selfsupervised_learning_addition_model_backend: 6686-N437-236         6887        6799E         6799                       -88\n",
      "DEBUG:mathsformer.selfsupervised_learning_addition_model_backend:     N5+4442+8         4445        N29EE        N1009                     -5454\n",
      "DEBUG:mathsformer.selfsupervised_learning_addition_model_backend:   2123-N1+N68         2056        211EE          211                     -1845\n",
      "DEBUG:mathsformer.selfsupervised_learning_addition_model_backend:   95+4563+879         5537        N79EE        N1009                     -6546\n",
      "DEBUG:mathsformer.selfsupervised_learning_addition_model_backend:  1639+N2868+5        N1224        N100E        N1009                       215\n",
      "DEBUG:mathsformer.selfsupervised_learning_addition_model_backend:      8+N725-3         N720        N119E         N110                       610\n",
      "DEBUG:mathsformer.selfsupervised_learning_addition_model_backend: N283+N962-N40        N1205        N100E         N100                      1105\n"
     ]
    },
    {
     "name": "stdout",
     "output_type": "stream",
     "text": [
      "2000/2000 [==============================] - 745s 372ms/step - loss: 1.5140 - masked_categorical_accuracy: 0.4591 - val_loss: 1.7925 - val_masked_categorical_accuracy: 0.3725\n",
      "Epoch 3/100000\n",
      "2000/2000 [==============================] - ETA: 0s - loss: 1.3671 - masked_categorical_accuracy: 0.5122"
     ]
    },
    {
     "name": "stderr",
     "output_type": "stream",
     "text": [
      "DEBUG:mathsformer.selfsupervised_learning_addition_model_backend:Training reached the end of epoch at index 2\n",
      "DEBUG:mathsformer.selfsupervised_learning_addition_model_backend:    with metric loss: 1.3671\n",
      "DEBUG:mathsformer.selfsupervised_learning_addition_model_backend:    with metric masked_categorical_accuracy: 0.51221\n",
      "DEBUG:mathsformer.selfsupervised_learning_addition_model_backend:    with metric val_loss: 1.7104\n",
      "DEBUG:mathsformer.selfsupervised_learning_addition_model_backend:    with metric val_masked_categorical_accuracy: 0.39211\n",
      "DEBUG:mathsformer.selfsupervised_learning_addition_model_backend:Running text --> text mathsformer inference on some training data:\n",
      "DEBUG:mathsformer.selfsupervised_learning_addition_model_backend:---------------------------------------------------------------------------------------\n",
      "DEBUG:mathsformer.selfsupervised_learning_addition_model_backend:                 INPUT         TRUE   PRED(MASK)    PRED(GEN)      CORRECT     RESIDUAL\n",
      "DEBUG:mathsformer.selfsupervised_learning_addition_model_backend:---------------------------------------------------------------------------------------\n",
      "DEBUG:mathsformer.selfsupervised_learning_addition_model_backend:    N8097-N943+N8+5-86        N7243        N1266       N10016                     -2773\n",
      "DEBUG:mathsformer.selfsupervised_learning_addition_model_backend:       N9+N4-N2+N943+4         N950        N12EE         N102                       848\n",
      "DEBUG:mathsformer.selfsupervised_learning_addition_model_backend:              476+N792         N316        1176E         1000                      1316\n",
      "DEBUG:mathsformer.selfsupervised_learning_addition_model_backend:     2333-6-N6836+8575        17738        N026E        N1027                    -18765\n",
      "DEBUG:mathsformer.selfsupervised_learning_addition_model_backend:  N6665+617+N57+61+363        N5681        N1266        N1002                      4679\n",
      "DEBUG:mathsformer.selfsupervised_learning_addition_model_backend:     52-N6818+79-N5-N2         6956        N26EE         N726                     -7682\n",
      "DEBUG:mathsformer.selfsupervised_learning_addition_model_backend:                 N5+77           72        N7EEE          N76                      -148\n",
      "DEBUG:mathsformer.selfsupervised_learning_addition_model_backend: N379+N752-7+N2992-328        N4458        N127E        N1027                      3431\n",
      "DEBUG:mathsformer.selfsupervised_learning_addition_model_backend:       N7+N9-1+97-7774        N7694        N166E         N100                      7594\n",
      "DEBUG:mathsformer.selfsupervised_learning_addition_model_backend:              75+N3612        N3537        33669         3661                      7198\n",
      "DEBUG:mathsformer.selfsupervised_learning_addition_model_backend:Running text --> text mathsformer inference on some validation data:\n",
      "DEBUG:mathsformer.selfsupervised_learning_addition_model_backend:-------------------------------------------------------------------------------\n",
      "DEBUG:mathsformer.selfsupervised_learning_addition_model_backend:         INPUT         TRUE   PRED(MASK)    PRED(GEN)      CORRECT     RESIDUAL\n",
      "DEBUG:mathsformer.selfsupervised_learning_addition_model_backend:-------------------------------------------------------------------------------\n",
      "DEBUG:mathsformer.selfsupervised_learning_addition_model_backend:  3-N3988+N847         3144        N26EE        N1027                     -4171\n",
      "DEBUG:mathsformer.selfsupervised_learning_addition_model_backend:     7797+5-N4         7806        7796E         7796                       -10\n",
      "DEBUG:mathsformer.selfsupervised_learning_addition_model_backend:  N8357-N11+N7        N8353        N8346        N8346                         7\n",
      "DEBUG:mathsformer.selfsupervised_learning_addition_model_backend: 6686-N437-236         6887        6266E         6266                      -621\n",
      "DEBUG:mathsformer.selfsupervised_learning_addition_model_backend:     N5+4442+8         4445        N226E        N4226                     -8671\n",
      "DEBUG:mathsformer.selfsupervised_learning_addition_model_backend:   2123-N1+N68         2056        3226E         3226                      1170\n",
      "DEBUG:mathsformer.selfsupervised_learning_addition_model_backend:   95+4563+879         5537        N26EE         N100                     -5637\n",
      "DEBUG:mathsformer.selfsupervised_learning_addition_model_backend:  1639+N2868+5        N1224        N1007        N1000                       224\n",
      "DEBUG:mathsformer.selfsupervised_learning_addition_model_backend:      8+N725-3         N720        N717E         N717                         3\n",
      "DEBUG:mathsformer.selfsupervised_learning_addition_model_backend: N283+N962-N40        N1205        N100E         N100                      1105\n"
     ]
    },
    {
     "name": "stdout",
     "output_type": "stream",
     "text": [
      "2000/2000 [==============================] - 741s 370ms/step - loss: 1.3671 - masked_categorical_accuracy: 0.5122 - val_loss: 1.7104 - val_masked_categorical_accuracy: 0.3921\n",
      "Epoch 4/100000\n",
      "2000/2000 [==============================] - ETA: 0s - loss: 1.3188 - masked_categorical_accuracy: 0.5246"
     ]
    },
    {
     "name": "stderr",
     "output_type": "stream",
     "text": [
      "DEBUG:mathsformer.selfsupervised_learning_addition_model_backend:Training reached the end of epoch at index 3\n",
      "DEBUG:mathsformer.selfsupervised_learning_addition_model_backend:    with metric loss: 1.3188\n",
      "DEBUG:mathsformer.selfsupervised_learning_addition_model_backend:    with metric masked_categorical_accuracy: 0.52456\n",
      "DEBUG:mathsformer.selfsupervised_learning_addition_model_backend:    with metric val_loss: 1.5968\n",
      "DEBUG:mathsformer.selfsupervised_learning_addition_model_backend:    with metric val_masked_categorical_accuracy: 0.42711\n",
      "DEBUG:mathsformer.selfsupervised_learning_addition_model_backend:Running text --> text mathsformer inference on some training data:\n",
      "DEBUG:mathsformer.selfsupervised_learning_addition_model_backend:---------------------------------------------------------------------------------------\n",
      "DEBUG:mathsformer.selfsupervised_learning_addition_model_backend:                 INPUT         TRUE   PRED(MASK)    PRED(GEN)      CORRECT     RESIDUAL\n",
      "DEBUG:mathsformer.selfsupervised_learning_addition_model_backend:---------------------------------------------------------------------------------------\n",
      "DEBUG:mathsformer.selfsupervised_learning_addition_model_backend:    N8097-N943+N8+5-86        N7243        N1888       N10022                     -2779\n",
      "DEBUG:mathsformer.selfsupervised_learning_addition_model_backend:       N9+N4-N2+N943+4         N950        N12EE         N102                       848\n",
      "DEBUG:mathsformer.selfsupervised_learning_addition_model_backend:              476+N792         N316        1122E         1002                      1318\n",
      "DEBUG:mathsformer.selfsupervised_learning_addition_model_backend:     2333-6-N6836+8575        17738        N022E       N12122                    -29860\n",
      "DEBUG:mathsformer.selfsupervised_learning_addition_model_backend:  N6665+617+N57+61+363        N5681        N1282       N10222                     -4541\n",
      "DEBUG:mathsformer.selfsupervised_learning_addition_model_backend:     52-N6818+79-N5-N2         6956        6888E         6888                       -68\n",
      "DEBUG:mathsformer.selfsupervised_learning_addition_model_backend:                 N5+77           72        72EEE           72          X              0\n",
      "DEBUG:mathsformer.selfsupervised_learning_addition_model_backend: N379+N752-7+N2992-328        N4458        N122E        N1022                      3436\n",
      "DEBUG:mathsformer.selfsupervised_learning_addition_model_backend:       N7+N9-1+97-7774        N7694        N122E         N102                      7592\n",
      "DEBUG:mathsformer.selfsupervised_learning_addition_model_backend:              75+N3612        N3537        N3688        N3688                      -151\n",
      "DEBUG:mathsformer.selfsupervised_learning_addition_model_backend:Running text --> text mathsformer inference on some validation data:\n",
      "DEBUG:mathsformer.selfsupervised_learning_addition_model_backend:-------------------------------------------------------------------------------\n",
      "DEBUG:mathsformer.selfsupervised_learning_addition_model_backend:         INPUT         TRUE   PRED(MASK)    PRED(GEN)      CORRECT     RESIDUAL\n",
      "DEBUG:mathsformer.selfsupervised_learning_addition_model_backend:-------------------------------------------------------------------------------\n",
      "DEBUG:mathsformer.selfsupervised_learning_addition_model_backend:  3-N3988+N847         3144        3988E         3988                       844\n",
      "DEBUG:mathsformer.selfsupervised_learning_addition_model_backend:     7797+5-N4         7806        7798E         7798                        -8\n",
      "DEBUG:mathsformer.selfsupervised_learning_addition_model_backend:  N8357-N11+N7        N8353        N8338        N8338                        15\n",
      "DEBUG:mathsformer.selfsupervised_learning_addition_model_backend: 6686-N437-236         6887        6288E         6288                      -599\n",
      "DEBUG:mathsformer.selfsupervised_learning_addition_model_backend:     N5+4442+8         4445        4488E         4488                        43\n",
      "DEBUG:mathsformer.selfsupervised_learning_addition_model_backend:   2123-N1+N68         2056        2128E         2128                        72\n",
      "DEBUG:mathsformer.selfsupervised_learning_addition_model_backend:   95+4563+879         5537        4289E         4288                     -1249\n",
      "DEBUG:mathsformer.selfsupervised_learning_addition_model_backend:  1639+N2868+5        N1224        N2022         N208                      1016\n",
      "DEBUG:mathsformer.selfsupervised_learning_addition_model_backend:      8+N725-3         N720        N628E         N628                        92\n",
      "DEBUG:mathsformer.selfsupervised_learning_addition_model_backend: N283+N962-N40        N1205        N102E         N102                      1103\n"
     ]
    },
    {
     "name": "stdout",
     "output_type": "stream",
     "text": [
      "2000/2000 [==============================] - 721s 360ms/step - loss: 1.3188 - masked_categorical_accuracy: 0.5246 - val_loss: 1.5968 - val_masked_categorical_accuracy: 0.4271\n",
      "Epoch 5/100000\n",
      "2000/2000 [==============================] - ETA: 0s - loss: 1.2453 - masked_categorical_accuracy: 0.5448"
     ]
    },
    {
     "name": "stderr",
     "output_type": "stream",
     "text": [
      "DEBUG:mathsformer.selfsupervised_learning_addition_model_backend:Training reached the end of epoch at index 4\n",
      "DEBUG:mathsformer.selfsupervised_learning_addition_model_backend:    with metric loss: 1.2453\n",
      "DEBUG:mathsformer.selfsupervised_learning_addition_model_backend:    with metric masked_categorical_accuracy: 0.54477\n",
      "DEBUG:mathsformer.selfsupervised_learning_addition_model_backend:    with metric val_loss: 1.4939\n",
      "DEBUG:mathsformer.selfsupervised_learning_addition_model_backend:    with metric val_masked_categorical_accuracy: 0.45366\n",
      "DEBUG:mathsformer.selfsupervised_learning_addition_model_backend:Running text --> text mathsformer inference on some training data:\n",
      "DEBUG:mathsformer.selfsupervised_learning_addition_model_backend:---------------------------------------------------------------------------------------\n",
      "DEBUG:mathsformer.selfsupervised_learning_addition_model_backend:                 INPUT         TRUE   PRED(MASK)    PRED(GEN)      CORRECT     RESIDUAL\n",
      "DEBUG:mathsformer.selfsupervised_learning_addition_model_backend:---------------------------------------------------------------------------------------\n",
      "DEBUG:mathsformer.selfsupervised_learning_addition_model_backend:    N8097-N943+N8+5-86        N7243        N7588        N7588                      -345\n",
      "DEBUG:mathsformer.selfsupervised_learning_addition_model_backend:       N9+N4-N2+N943+4         N950        N18EE         N101                       849\n",
      "DEBUG:mathsformer.selfsupervised_learning_addition_model_backend:              476+N792         N316        N118E        N1118                      -802\n",
      "DEBUG:mathsformer.selfsupervised_learning_addition_model_backend:     2333-6-N6836+8575        17738        11888        11188                     -6550\n",
      "DEBUG:mathsformer.selfsupervised_learning_addition_model_backend:  N6665+617+N57+61+363        N5681        N1188       N11158                     -5477\n",
      "DEBUG:mathsformer.selfsupervised_learning_addition_model_backend:     52-N6818+79-N5-N2         6956        6888E         6888                       -68\n",
      "DEBUG:mathsformer.selfsupervised_learning_addition_model_backend:                 N5+77           72        76EEE           76                         4\n",
      "DEBUG:mathsformer.selfsupervised_learning_addition_model_backend: N379+N752-7+N2992-328        N4458        N1188       N11118                     -6660\n",
      "DEBUG:mathsformer.selfsupervised_learning_addition_model_backend:       N7+N9-1+97-7774        N7694        N8188        N8188                      -494\n",
      "DEBUG:mathsformer.selfsupervised_learning_addition_model_backend:              75+N3612        N3537        N3558        N3558                       -21\n",
      "DEBUG:mathsformer.selfsupervised_learning_addition_model_backend:Running text --> text mathsformer inference on some validation data:\n",
      "DEBUG:mathsformer.selfsupervised_learning_addition_model_backend:-------------------------------------------------------------------------------\n",
      "DEBUG:mathsformer.selfsupervised_learning_addition_model_backend:         INPUT         TRUE   PRED(MASK)    PRED(GEN)      CORRECT     RESIDUAL\n",
      "DEBUG:mathsformer.selfsupervised_learning_addition_model_backend:-------------------------------------------------------------------------------\n",
      "DEBUG:mathsformer.selfsupervised_learning_addition_model_backend:  3-N3988+N847         3144        3888E         3868                       724\n",
      "DEBUG:mathsformer.selfsupervised_learning_addition_model_backend:     7797+5-N4         7806        7788E         7786                       -20\n",
      "DEBUG:mathsformer.selfsupervised_learning_addition_model_backend:  N8357-N11+N7        N8353        N7358        N7358                       995\n",
      "DEBUG:mathsformer.selfsupervised_learning_addition_model_backend: 6686-N437-236         6887        6188E         6188                      -699\n",
      "DEBUG:mathsformer.selfsupervised_learning_addition_model_backend:     N5+4442+8         4445        4418E         4418                       -27\n",
      "DEBUG:mathsformer.selfsupervised_learning_addition_model_backend:   2123-N1+N68         2056        2188E         2188                       132\n",
      "DEBUG:mathsformer.selfsupervised_learning_addition_model_backend:   95+4563+879         5537        4588E         4588                      -949\n",
      "DEBUG:mathsformer.selfsupervised_learning_addition_model_backend:  1639+N2868+5        N1224        N1158        N1158                        66\n",
      "DEBUG:mathsformer.selfsupervised_learning_addition_model_backend:      8+N725-3         N720        N728E         N728                        -8\n",
      "DEBUG:mathsformer.selfsupervised_learning_addition_model_backend: N283+N962-N40        N1205        N1011        N1011                       194\n"
     ]
    },
    {
     "name": "stdout",
     "output_type": "stream",
     "text": [
      "2000/2000 [==============================] - 724s 362ms/step - loss: 1.2453 - masked_categorical_accuracy: 0.5448 - val_loss: 1.4939 - val_masked_categorical_accuracy: 0.4537\n",
      "Epoch 6/100000\n",
      "2000/2000 [==============================] - ETA: 0s - loss: 1.1721 - masked_categorical_accuracy: 0.5647"
     ]
    },
    {
     "name": "stderr",
     "output_type": "stream",
     "text": [
      "DEBUG:mathsformer.selfsupervised_learning_addition_model_backend:Training reached the end of epoch at index 5\n",
      "DEBUG:mathsformer.selfsupervised_learning_addition_model_backend:    with metric loss: 1.1721\n",
      "DEBUG:mathsformer.selfsupervised_learning_addition_model_backend:    with metric masked_categorical_accuracy: 0.56466\n",
      "DEBUG:mathsformer.selfsupervised_learning_addition_model_backend:    with metric val_loss: 1.3806\n",
      "DEBUG:mathsformer.selfsupervised_learning_addition_model_backend:    with metric val_masked_categorical_accuracy: 0.47746\n",
      "DEBUG:mathsformer.selfsupervised_learning_addition_model_backend:Running text --> text mathsformer inference on some training data:\n",
      "DEBUG:mathsformer.selfsupervised_learning_addition_model_backend:---------------------------------------------------------------------------------------\n",
      "DEBUG:mathsformer.selfsupervised_learning_addition_model_backend:                 INPUT         TRUE   PRED(MASK)    PRED(GEN)      CORRECT     RESIDUAL\n",
      "DEBUG:mathsformer.selfsupervised_learning_addition_model_backend:---------------------------------------------------------------------------------------\n",
      "DEBUG:mathsformer.selfsupervised_learning_addition_model_backend:    N8097-N943+N8+5-86        N7243        N7555        N7555                      -312\n",
      "DEBUG:mathsformer.selfsupervised_learning_addition_model_backend:       N9+N4-N2+N943+4         N950        N952E         N952                        -2\n",
      "DEBUG:mathsformer.selfsupervised_learning_addition_model_backend:              476+N792         N316        N13EE          N12                       304\n",
      "DEBUG:mathsformer.selfsupervised_learning_addition_model_backend:     2333-6-N6836+8575        17738        12555        12055                     -5683\n",
      "DEBUG:mathsformer.selfsupervised_learning_addition_model_backend:  N6665+617+N57+61+363        N5681        N5555        N5555                       126\n",
      "DEBUG:mathsformer.selfsupervised_learning_addition_model_backend:     52-N6818+79-N5-N2         6956        6755E         6755                      -201\n",
      "DEBUG:mathsformer.selfsupervised_learning_addition_model_backend:                 N5+77           72        62EEE           62                       -10\n",
      "DEBUG:mathsformer.selfsupervised_learning_addition_model_backend: N379+N752-7+N2992-328        N4458        N3055        N3055                      1403\n",
      "DEBUG:mathsformer.selfsupervised_learning_addition_model_backend:       N7+N9-1+97-7774        N7694        N7755        N7755                       -61\n",
      "DEBUG:mathsformer.selfsupervised_learning_addition_model_backend:              75+N3612        N3537        N3555        N3555                       -18\n",
      "DEBUG:mathsformer.selfsupervised_learning_addition_model_backend:Running text --> text mathsformer inference on some validation data:\n",
      "DEBUG:mathsformer.selfsupervised_learning_addition_model_backend:-------------------------------------------------------------------------------\n",
      "DEBUG:mathsformer.selfsupervised_learning_addition_model_backend:         INPUT         TRUE   PRED(MASK)    PRED(GEN)      CORRECT     RESIDUAL\n",
      "DEBUG:mathsformer.selfsupervised_learning_addition_model_backend:-------------------------------------------------------------------------------\n",
      "DEBUG:mathsformer.selfsupervised_learning_addition_model_backend:  3-N3988+N847         3144        2553E         2553                      -591\n",
      "DEBUG:mathsformer.selfsupervised_learning_addition_model_backend:     7797+5-N4         7806        7705E         7705                      -101\n",
      "DEBUG:mathsformer.selfsupervised_learning_addition_model_backend:  N8357-N11+N7        N8353        N8355        N8355                        -2\n",
      "DEBUG:mathsformer.selfsupervised_learning_addition_model_backend: 6686-N437-236         6887        6555E         6555                      -332\n",
      "DEBUG:mathsformer.selfsupervised_learning_addition_model_backend:     N5+4442+8         4445        4435E         4435                       -10\n",
      "DEBUG:mathsformer.selfsupervised_learning_addition_model_backend:   2123-N1+N68         2056        210EE          210                     -1846\n",
      "DEBUG:mathsformer.selfsupervised_learning_addition_model_backend:   95+4563+879         5537        1555E        11155                      5618\n",
      "DEBUG:mathsformer.selfsupervised_learning_addition_model_backend:  1639+N2868+5        N1224        1113E          155                      1379\n",
      "DEBUG:mathsformer.selfsupervised_learning_addition_model_backend:      8+N725-3         N720        N615E         N615                       105\n",
      "DEBUG:mathsformer.selfsupervised_learning_addition_model_backend: N283+N962-N40        N1205        N1222        N1222                       -17\n"
     ]
    },
    {
     "name": "stdout",
     "output_type": "stream",
     "text": [
      "2000/2000 [==============================] - 725s 363ms/step - loss: 1.1721 - masked_categorical_accuracy: 0.5647 - val_loss: 1.3806 - val_masked_categorical_accuracy: 0.4775\n",
      "Epoch 7/100000\n",
      "2000/2000 [==============================] - ETA: 0s - loss: 1.1110 - masked_categorical_accuracy: 0.5802"
     ]
    },
    {
     "name": "stderr",
     "output_type": "stream",
     "text": [
      "DEBUG:mathsformer.selfsupervised_learning_addition_model_backend:Training reached the end of epoch at index 6\n",
      "DEBUG:mathsformer.selfsupervised_learning_addition_model_backend:    with metric loss: 1.111\n",
      "DEBUG:mathsformer.selfsupervised_learning_addition_model_backend:    with metric masked_categorical_accuracy: 0.5802\n",
      "DEBUG:mathsformer.selfsupervised_learning_addition_model_backend:    with metric val_loss: 1.3199\n",
      "DEBUG:mathsformer.selfsupervised_learning_addition_model_backend:    with metric val_masked_categorical_accuracy: 0.50431\n",
      "DEBUG:mathsformer.selfsupervised_learning_addition_model_backend:Running text --> text mathsformer inference on some training data:\n",
      "DEBUG:mathsformer.selfsupervised_learning_addition_model_backend:---------------------------------------------------------------------------------------\n",
      "DEBUG:mathsformer.selfsupervised_learning_addition_model_backend:                 INPUT         TRUE   PRED(MASK)    PRED(GEN)      CORRECT     RESIDUAL\n",
      "DEBUG:mathsformer.selfsupervised_learning_addition_model_backend:---------------------------------------------------------------------------------------\n",
      "DEBUG:mathsformer.selfsupervised_learning_addition_model_backend:    N8097-N943+N8+5-86        N7243        N8155        N8156                      -913\n",
      "DEBUG:mathsformer.selfsupervised_learning_addition_model_backend:       N9+N4-N2+N943+4         N950        N922E         N922                        28\n",
      "DEBUG:mathsformer.selfsupervised_learning_addition_model_backend:              476+N792         N316        N22EE          N22                       294\n",
      "DEBUG:mathsformer.selfsupervised_learning_addition_model_backend:     2333-6-N6836+8575        17738        13141        13146                     -4592\n",
      "DEBUG:mathsformer.selfsupervised_learning_addition_model_backend:  N6665+617+N57+61+363        N5681        N5250        N5250                       431\n",
      "DEBUG:mathsformer.selfsupervised_learning_addition_model_backend:     52-N6818+79-N5-N2         6956        6836E         6836                      -120\n",
      "DEBUG:mathsformer.selfsupervised_learning_addition_model_backend:                 N5+77           72        62EEE           62                       -10\n",
      "DEBUG:mathsformer.selfsupervised_learning_addition_model_backend: N379+N752-7+N2992-328        N4458        N3346        N3346                      1112\n",
      "DEBUG:mathsformer.selfsupervised_learning_addition_model_backend:       N7+N9-1+97-7774        N7694        N8856        N8856                     -1162\n",
      "DEBUG:mathsformer.selfsupervised_learning_addition_model_backend:              75+N3612        N3537        N3500        N3500                        37\n",
      "DEBUG:mathsformer.selfsupervised_learning_addition_model_backend:Running text --> text mathsformer inference on some validation data:\n",
      "DEBUG:mathsformer.selfsupervised_learning_addition_model_backend:-------------------------------------------------------------------------------\n",
      "DEBUG:mathsformer.selfsupervised_learning_addition_model_backend:         INPUT         TRUE   PRED(MASK)    PRED(GEN)      CORRECT     RESIDUAL\n",
      "DEBUG:mathsformer.selfsupervised_learning_addition_model_backend:-------------------------------------------------------------------------------\n",
      "DEBUG:mathsformer.selfsupervised_learning_addition_model_backend:  3-N3988+N847         3144        N506E        N3466                     -6610\n",
      "DEBUG:mathsformer.selfsupervised_learning_addition_model_backend:     7797+5-N4         7806        7805E         7805                        -1\n",
      "DEBUG:mathsformer.selfsupervised_learning_addition_model_backend:  N8357-N11+N7        N8353        N8355        N8355                        -2\n",
      "DEBUG:mathsformer.selfsupervised_learning_addition_model_backend: 6686-N437-236         6887        5100E         5110                     -1777\n",
      "DEBUG:mathsformer.selfsupervised_learning_addition_model_backend:     N5+4442+8         4445        4446E         4446                         1\n",
      "DEBUG:mathsformer.selfsupervised_learning_addition_model_backend:   2123-N1+N68         2056        2006E         2006                       -50\n",
      "DEBUG:mathsformer.selfsupervised_learning_addition_model_backend:   95+4563+879         5537        5116E         5146                      -391\n",
      "DEBUG:mathsformer.selfsupervised_learning_addition_model_backend:  1639+N2868+5        N1224        N1006        N1006                       218\n",
      "DEBUG:mathsformer.selfsupervised_learning_addition_model_backend:      8+N725-3         N720        N712E         N712                         8\n",
      "DEBUG:mathsformer.selfsupervised_learning_addition_model_backend: N283+N962-N40        N1205        N1336        N1336                      -131\n"
     ]
    },
    {
     "name": "stdout",
     "output_type": "stream",
     "text": [
      "2000/2000 [==============================] - 745s 372ms/step - loss: 1.1110 - masked_categorical_accuracy: 0.5802 - val_loss: 1.3199 - val_masked_categorical_accuracy: 0.5043\n",
      "Epoch 8/100000\n",
      "2000/2000 [==============================] - ETA: 0s - loss: 1.0596 - masked_categorical_accuracy: 0.5973"
     ]
    },
    {
     "name": "stderr",
     "output_type": "stream",
     "text": [
      "DEBUG:mathsformer.selfsupervised_learning_addition_model_backend:Training reached the end of epoch at index 7\n",
      "DEBUG:mathsformer.selfsupervised_learning_addition_model_backend:    with metric loss: 1.0596\n",
      "DEBUG:mathsformer.selfsupervised_learning_addition_model_backend:    with metric masked_categorical_accuracy: 0.59734\n",
      "DEBUG:mathsformer.selfsupervised_learning_addition_model_backend:    with metric val_loss: 1.2773\n",
      "DEBUG:mathsformer.selfsupervised_learning_addition_model_backend:    with metric val_masked_categorical_accuracy: 0.51465\n",
      "DEBUG:mathsformer.selfsupervised_learning_addition_model_backend:Running text --> text mathsformer inference on some training data:\n",
      "DEBUG:mathsformer.selfsupervised_learning_addition_model_backend:---------------------------------------------------------------------------------------\n",
      "DEBUG:mathsformer.selfsupervised_learning_addition_model_backend:                 INPUT         TRUE   PRED(MASK)    PRED(GEN)      CORRECT     RESIDUAL\n",
      "DEBUG:mathsformer.selfsupervised_learning_addition_model_backend:---------------------------------------------------------------------------------------\n",
      "DEBUG:mathsformer.selfsupervised_learning_addition_model_backend:    N8097-N943+N8+5-86        N7243        N7222        N7222                        21\n",
      "DEBUG:mathsformer.selfsupervised_learning_addition_model_backend:       N9+N4-N2+N943+4         N950        N951E         N951                        -1\n",
      "DEBUG:mathsformer.selfsupervised_learning_addition_model_backend:              476+N792         N316        N10EE         N120                       196\n",
      "DEBUG:mathsformer.selfsupervised_learning_addition_model_backend:     2333-6-N6836+8575        17738        13959        13959                     -3779\n",
      "DEBUG:mathsformer.selfsupervised_learning_addition_model_backend:  N6665+617+N57+61+363        N5681        N5226        N5226                       455\n",
      "DEBUG:mathsformer.selfsupervised_learning_addition_model_backend:     52-N6818+79-N5-N2         6956        6825E         6825                      -131\n",
      "DEBUG:mathsformer.selfsupervised_learning_addition_model_backend:                 N5+77           72        74EEE           74                         2\n",
      "DEBUG:mathsformer.selfsupervised_learning_addition_model_backend: N379+N752-7+N2992-328        N4458        N3211        N3211                      1247\n",
      "DEBUG:mathsformer.selfsupervised_learning_addition_model_backend:       N7+N9-1+97-7774        N7694        N7751        N7751                       -57\n",
      "DEBUG:mathsformer.selfsupervised_learning_addition_model_backend:              75+N3612        N3537        N3566        N3566                       -29\n",
      "DEBUG:mathsformer.selfsupervised_learning_addition_model_backend:Running text --> text mathsformer inference on some validation data:\n",
      "DEBUG:mathsformer.selfsupervised_learning_addition_model_backend:-------------------------------------------------------------------------------\n",
      "DEBUG:mathsformer.selfsupervised_learning_addition_model_backend:         INPUT         TRUE   PRED(MASK)    PRED(GEN)      CORRECT     RESIDUAL\n",
      "DEBUG:mathsformer.selfsupervised_learning_addition_model_backend:-------------------------------------------------------------------------------\n",
      "DEBUG:mathsformer.selfsupervised_learning_addition_model_backend:  3-N3988+N847         3144        355EE          352                     -2792\n",
      "DEBUG:mathsformer.selfsupervised_learning_addition_model_backend:     7797+5-N4         7806        7705E         7705                      -101\n",
      "DEBUG:mathsformer.selfsupervised_learning_addition_model_backend:  N8357-N11+N7        N8353        N8301        N8301                        52\n",
      "DEBUG:mathsformer.selfsupervised_learning_addition_model_backend: 6686-N437-236         6887        7551E         7551                       664\n",
      "DEBUG:mathsformer.selfsupervised_learning_addition_model_backend:     N5+4442+8         4445        4455E         4455                        10\n",
      "DEBUG:mathsformer.selfsupervised_learning_addition_model_backend:   2123-N1+N68         2056        2076E         2076                        20\n",
      "DEBUG:mathsformer.selfsupervised_learning_addition_model_backend:   95+4563+879         5537        5351E         5351                      -186\n",
      "DEBUG:mathsformer.selfsupervised_learning_addition_model_backend:  1639+N2868+5        N1224        N1024        N1024                       200\n",
      "DEBUG:mathsformer.selfsupervised_learning_addition_model_backend:      8+N725-3         N720        N711E         N711                         9\n",
      "DEBUG:mathsformer.selfsupervised_learning_addition_model_backend: N283+N962-N40        N1205        N1006        N1006                       199\n"
     ]
    },
    {
     "name": "stdout",
     "output_type": "stream",
     "text": [
      "2000/2000 [==============================] - 741s 370ms/step - loss: 1.0596 - masked_categorical_accuracy: 0.5973 - val_loss: 1.2773 - val_masked_categorical_accuracy: 0.5147\n",
      "Epoch 9/100000\n",
      "2000/2000 [==============================] - ETA: 0s - loss: 1.0209 - masked_categorical_accuracy: 0.6105"
     ]
    },
    {
     "name": "stderr",
     "output_type": "stream",
     "text": [
      "DEBUG:mathsformer.selfsupervised_learning_addition_model_backend:Training reached the end of epoch at index 8\n",
      "DEBUG:mathsformer.selfsupervised_learning_addition_model_backend:    with metric loss: 1.0209\n",
      "DEBUG:mathsformer.selfsupervised_learning_addition_model_backend:    with metric masked_categorical_accuracy: 0.61046\n",
      "DEBUG:mathsformer.selfsupervised_learning_addition_model_backend:    with metric val_loss: 1.2282\n",
      "DEBUG:mathsformer.selfsupervised_learning_addition_model_backend:    with metric val_masked_categorical_accuracy: 0.5306\n",
      "DEBUG:mathsformer.selfsupervised_learning_addition_model_backend:Running text --> text mathsformer inference on some training data:\n",
      "DEBUG:mathsformer.selfsupervised_learning_addition_model_backend:---------------------------------------------------------------------------------------\n",
      "DEBUG:mathsformer.selfsupervised_learning_addition_model_backend:                 INPUT         TRUE   PRED(MASK)    PRED(GEN)      CORRECT     RESIDUAL\n",
      "DEBUG:mathsformer.selfsupervised_learning_addition_model_backend:---------------------------------------------------------------------------------------\n",
      "DEBUG:mathsformer.selfsupervised_learning_addition_model_backend:    N8097-N943+N8+5-86        N7243        N7922        N7922                      -679\n",
      "DEBUG:mathsformer.selfsupervised_learning_addition_model_backend:       N9+N4-N2+N943+4         N950        N920E         N920                        30\n",
      "DEBUG:mathsformer.selfsupervised_learning_addition_model_backend:              476+N792         N316        N20EE         N206                       110\n",
      "DEBUG:mathsformer.selfsupervised_learning_addition_model_backend:     2333-6-N6836+8575        17738        14072        14077                     -3661\n",
      "DEBUG:mathsformer.selfsupervised_learning_addition_model_backend:  N6665+617+N57+61+363        N5681        N5929        N5929                      -248\n",
      "DEBUG:mathsformer.selfsupervised_learning_addition_model_backend:     52-N6818+79-N5-N2         6956        6835E         6835                      -121\n",
      "DEBUG:mathsformer.selfsupervised_learning_addition_model_backend:                 N5+77           72        62EEE           63                        -9\n",
      "DEBUG:mathsformer.selfsupervised_learning_addition_model_backend: N379+N752-7+N2992-328        N4458        N3000        N3000                      1458\n",
      "DEBUG:mathsformer.selfsupervised_learning_addition_model_backend:       N7+N9-1+97-7774        N7694        N7700        N7700                        -6\n",
      "DEBUG:mathsformer.selfsupervised_learning_addition_model_backend:              75+N3612        N3537        N3566        N3566                       -29\n",
      "DEBUG:mathsformer.selfsupervised_learning_addition_model_backend:Running text --> text mathsformer inference on some validation data:\n",
      "DEBUG:mathsformer.selfsupervised_learning_addition_model_backend:-------------------------------------------------------------------------------\n",
      "DEBUG:mathsformer.selfsupervised_learning_addition_model_backend:         INPUT         TRUE   PRED(MASK)    PRED(GEN)      CORRECT     RESIDUAL\n",
      "DEBUG:mathsformer.selfsupervised_learning_addition_model_backend:-------------------------------------------------------------------------------\n",
      "DEBUG:mathsformer.selfsupervised_learning_addition_model_backend:  3-N3988+N847         3144        3603E         3603                       459\n",
      "DEBUG:mathsformer.selfsupervised_learning_addition_model_backend:     7797+5-N4         7806        7705E         7705                      -101\n",
      "DEBUG:mathsformer.selfsupervised_learning_addition_model_backend:  N8357-N11+N7        N8353        N8350        N8350                         3\n",
      "DEBUG:mathsformer.selfsupervised_learning_addition_model_backend: 6686-N437-236         6887        6000E         6000                      -887\n",
      "DEBUG:mathsformer.selfsupervised_learning_addition_model_backend:     N5+4442+8         4445        4455E         4455                        10\n",
      "DEBUG:mathsformer.selfsupervised_learning_addition_model_backend:   2123-N1+N68         2056        2096E         2096                        40\n",
      "DEBUG:mathsformer.selfsupervised_learning_addition_model_backend:   95+4563+879         5537        5250E         5230                      -307\n",
      "DEBUG:mathsformer.selfsupervised_learning_addition_model_backend:  1639+N2868+5        N1224        N1036        N1036                       188\n",
      "DEBUG:mathsformer.selfsupervised_learning_addition_model_backend:      8+N725-3         N720        N717E         N717                         3\n",
      "DEBUG:mathsformer.selfsupervised_learning_addition_model_backend: N283+N962-N40        N1205        N1107        N1107                        98\n"
     ]
    },
    {
     "name": "stdout",
     "output_type": "stream",
     "text": [
      "2000/2000 [==============================] - 753s 377ms/step - loss: 1.0209 - masked_categorical_accuracy: 0.6105 - val_loss: 1.2282 - val_masked_categorical_accuracy: 0.5306\n",
      "Epoch 10/100000\n",
      "2000/2000 [==============================] - ETA: 0s - loss: 0.9846 - masked_categorical_accuracy: 0.6234"
     ]
    },
    {
     "name": "stderr",
     "output_type": "stream",
     "text": [
      "DEBUG:mathsformer.selfsupervised_learning_addition_model_backend:Training reached the end of epoch at index 9\n",
      "DEBUG:mathsformer.selfsupervised_learning_addition_model_backend:    with metric loss: 0.98457\n",
      "DEBUG:mathsformer.selfsupervised_learning_addition_model_backend:    with metric masked_categorical_accuracy: 0.6234\n",
      "DEBUG:mathsformer.selfsupervised_learning_addition_model_backend:    with metric val_loss: 1.1902\n",
      "DEBUG:mathsformer.selfsupervised_learning_addition_model_backend:    with metric val_masked_categorical_accuracy: 0.5456\n",
      "DEBUG:mathsformer.selfsupervised_learning_addition_model_backend:Running text --> text mathsformer inference on some training data:\n",
      "DEBUG:mathsformer.selfsupervised_learning_addition_model_backend:---------------------------------------------------------------------------------------\n",
      "DEBUG:mathsformer.selfsupervised_learning_addition_model_backend:                 INPUT         TRUE   PRED(MASK)    PRED(GEN)      CORRECT     RESIDUAL\n",
      "DEBUG:mathsformer.selfsupervised_learning_addition_model_backend:---------------------------------------------------------------------------------------\n",
      "DEBUG:mathsformer.selfsupervised_learning_addition_model_backend:    N8097-N943+N8+5-86        N7243        N7222        N7222                        21\n",
      "DEBUG:mathsformer.selfsupervised_learning_addition_model_backend:       N9+N4-N2+N943+4         N950        N946E         N946                         4\n",
      "DEBUG:mathsformer.selfsupervised_learning_addition_model_backend:              476+N792         N316        N222E         N222                        94\n",
      "DEBUG:mathsformer.selfsupervised_learning_addition_model_backend:     2333-6-N6836+8575        17738        16112        16112                     -1626\n",
      "DEBUG:mathsformer.selfsupervised_learning_addition_model_backend:  N6665+617+N57+61+363        N5681        N5822        N5822                      -141\n",
      "DEBUG:mathsformer.selfsupervised_learning_addition_model_backend:     52-N6818+79-N5-N2         6956        6916E         6916                       -40\n",
      "DEBUG:mathsformer.selfsupervised_learning_addition_model_backend:                 N5+77           72        72EEE           72          X              0\n",
      "DEBUG:mathsformer.selfsupervised_learning_addition_model_backend: N379+N752-7+N2992-328        N4458        N4011        N4011                       447\n",
      "DEBUG:mathsformer.selfsupervised_learning_addition_model_backend:       N7+N9-1+97-7774        N7694        N7684        N7684                        10\n",
      "DEBUG:mathsformer.selfsupervised_learning_addition_model_backend:              75+N3612        N3537        N3544        N3544                        -7\n",
      "DEBUG:mathsformer.selfsupervised_learning_addition_model_backend:Running text --> text mathsformer inference on some validation data:\n",
      "DEBUG:mathsformer.selfsupervised_learning_addition_model_backend:-------------------------------------------------------------------------------\n",
      "DEBUG:mathsformer.selfsupervised_learning_addition_model_backend:         INPUT         TRUE   PRED(MASK)    PRED(GEN)      CORRECT     RESIDUAL\n",
      "DEBUG:mathsformer.selfsupervised_learning_addition_model_backend:-------------------------------------------------------------------------------\n",
      "DEBUG:mathsformer.selfsupervised_learning_addition_model_backend:  3-N3988+N847         3144        202EE          202                     -2942\n",
      "DEBUG:mathsformer.selfsupervised_learning_addition_model_backend:     7797+5-N4         7806        7802E         7802                        -4\n",
      "DEBUG:mathsformer.selfsupervised_learning_addition_model_backend:  N8357-N11+N7        N8353        N8346        N8346                         7\n",
      "DEBUG:mathsformer.selfsupervised_learning_addition_model_backend: 6686-N437-236         6887        6066E         6066                      -821\n",
      "DEBUG:mathsformer.selfsupervised_learning_addition_model_backend:     N5+4442+8         4445        4444E         4444                        -1\n",
      "DEBUG:mathsformer.selfsupervised_learning_addition_model_backend:   2123-N1+N68         2056        2077E         2077                        21\n",
      "DEBUG:mathsformer.selfsupervised_learning_addition_model_backend:   95+4563+879         5537        5261E         5266                      -271\n",
      "DEBUG:mathsformer.selfsupervised_learning_addition_model_backend:  1639+N2868+5        N1224        N1022        N1022                       202\n",
      "DEBUG:mathsformer.selfsupervised_learning_addition_model_backend:      8+N725-3         N720        N718E         N718                         2\n",
      "DEBUG:mathsformer.selfsupervised_learning_addition_model_backend: N283+N962-N40        N1205        N1101        N1101                       104\n"
     ]
    },
    {
     "name": "stdout",
     "output_type": "stream",
     "text": [
      "2000/2000 [==============================] - 739s 370ms/step - loss: 0.9846 - masked_categorical_accuracy: 0.6234 - val_loss: 1.1902 - val_masked_categorical_accuracy: 0.5456\n",
      "Epoch 11/100000\n",
      "2000/2000 [==============================] - ETA: 0s - loss: 0.9388 - masked_categorical_accuracy: 0.6414"
     ]
    },
    {
     "name": "stderr",
     "output_type": "stream",
     "text": [
      "DEBUG:mathsformer.selfsupervised_learning_addition_model_backend:Training reached the end of epoch at index 10\n",
      "DEBUG:mathsformer.selfsupervised_learning_addition_model_backend:    with metric loss: 0.93884\n",
      "DEBUG:mathsformer.selfsupervised_learning_addition_model_backend:    with metric masked_categorical_accuracy: 0.64136\n",
      "DEBUG:mathsformer.selfsupervised_learning_addition_model_backend:    with metric val_loss: 1.1563\n",
      "DEBUG:mathsformer.selfsupervised_learning_addition_model_backend:    with metric val_masked_categorical_accuracy: 0.56755\n",
      "DEBUG:mathsformer.selfsupervised_learning_addition_model_backend:Running text --> text mathsformer inference on some training data:\n",
      "DEBUG:mathsformer.selfsupervised_learning_addition_model_backend:---------------------------------------------------------------------------------------\n",
      "DEBUG:mathsformer.selfsupervised_learning_addition_model_backend:                 INPUT         TRUE   PRED(MASK)    PRED(GEN)      CORRECT     RESIDUAL\n",
      "DEBUG:mathsformer.selfsupervised_learning_addition_model_backend:---------------------------------------------------------------------------------------\n",
      "DEBUG:mathsformer.selfsupervised_learning_addition_model_backend:    N8097-N943+N8+5-86        N7243        N6206        N6206                      1037\n",
      "DEBUG:mathsformer.selfsupervised_learning_addition_model_backend:       N9+N4-N2+N943+4         N950        N940E         N940                        10\n",
      "DEBUG:mathsformer.selfsupervised_learning_addition_model_backend:              476+N792         N316        N314E         N314                         2\n",
      "DEBUG:mathsformer.selfsupervised_learning_addition_model_backend:     2333-6-N6836+8575        17738        15002        15004                     -2734\n",
      "DEBUG:mathsformer.selfsupervised_learning_addition_model_backend:  N6665+617+N57+61+363        N5681        N5006        N5006                       675\n",
      "DEBUG:mathsformer.selfsupervised_learning_addition_model_backend:     52-N6818+79-N5-N2         6956        6016E         6016                      -940\n",
      "DEBUG:mathsformer.selfsupervised_learning_addition_model_backend:                 N5+77           72        72EEE           72          X              0\n",
      "DEBUG:mathsformer.selfsupervised_learning_addition_model_backend: N379+N752-7+N2992-328        N4458        N4201        N4201                       257\n",
      "DEBUG:mathsformer.selfsupervised_learning_addition_model_backend:       N7+N9-1+97-7774        N7694        N7762        N7762                       -68\n",
      "DEBUG:mathsformer.selfsupervised_learning_addition_model_backend:              75+N3612        N3537        N3546        N3546                        -9\n",
      "DEBUG:mathsformer.selfsupervised_learning_addition_model_backend:Running text --> text mathsformer inference on some validation data:\n",
      "DEBUG:mathsformer.selfsupervised_learning_addition_model_backend:-------------------------------------------------------------------------------\n",
      "DEBUG:mathsformer.selfsupervised_learning_addition_model_backend:         INPUT         TRUE   PRED(MASK)    PRED(GEN)      CORRECT     RESIDUAL\n",
      "DEBUG:mathsformer.selfsupervised_learning_addition_model_backend:-------------------------------------------------------------------------------\n",
      "DEBUG:mathsformer.selfsupervised_learning_addition_model_backend:  3-N3988+N847         3144        2200E         2200                      -944\n",
      "DEBUG:mathsformer.selfsupervised_learning_addition_model_backend:     7797+5-N4         7806        7822E         7822                        16\n",
      "DEBUG:mathsformer.selfsupervised_learning_addition_model_backend:  N8357-N11+N7        N8353        N8340        N8340                        13\n",
      "DEBUG:mathsformer.selfsupervised_learning_addition_model_backend: 6686-N437-236         6887        7000E         7000                       113\n",
      "DEBUG:mathsformer.selfsupervised_learning_addition_model_backend:     N5+4442+8         4445        4451E         4451                         6\n",
      "DEBUG:mathsformer.selfsupervised_learning_addition_model_backend:   2123-N1+N68         2056        2054E         2054                        -2\n",
      "DEBUG:mathsformer.selfsupervised_learning_addition_model_backend:   95+4563+879         5537        5550E         5550                        13\n",
      "DEBUG:mathsformer.selfsupervised_learning_addition_model_backend:  1639+N2868+5        N1224        N1140        N1140                        84\n",
      "DEBUG:mathsformer.selfsupervised_learning_addition_model_backend:      8+N725-3         N720        N723E         N723                        -3\n",
      "DEBUG:mathsformer.selfsupervised_learning_addition_model_backend: N283+N962-N40        N1205        N1266        N1266                       -61\n"
     ]
    },
    {
     "name": "stdout",
     "output_type": "stream",
     "text": [
      "2000/2000 [==============================] - 730s 365ms/step - loss: 0.9388 - masked_categorical_accuracy: 0.6414 - val_loss: 1.1563 - val_masked_categorical_accuracy: 0.5675\n",
      "Epoch 12/100000\n",
      "2000/2000 [==============================] - ETA: 0s - loss: 0.8797 - masked_categorical_accuracy: 0.6627"
     ]
    },
    {
     "name": "stderr",
     "output_type": "stream",
     "text": [
      "DEBUG:mathsformer.selfsupervised_learning_addition_model_backend:Training reached the end of epoch at index 11\n",
      "DEBUG:mathsformer.selfsupervised_learning_addition_model_backend:    with metric loss: 0.87974\n",
      "DEBUG:mathsformer.selfsupervised_learning_addition_model_backend:    with metric masked_categorical_accuracy: 0.66266\n",
      "DEBUG:mathsformer.selfsupervised_learning_addition_model_backend:    with metric val_loss: 1.1512\n",
      "DEBUG:mathsformer.selfsupervised_learning_addition_model_backend:    with metric val_masked_categorical_accuracy: 0.59474\n",
      "DEBUG:mathsformer.selfsupervised_learning_addition_model_backend:Running text --> text mathsformer inference on some training data:\n",
      "DEBUG:mathsformer.selfsupervised_learning_addition_model_backend:---------------------------------------------------------------------------------------\n",
      "DEBUG:mathsformer.selfsupervised_learning_addition_model_backend:                 INPUT         TRUE   PRED(MASK)    PRED(GEN)      CORRECT     RESIDUAL\n",
      "DEBUG:mathsformer.selfsupervised_learning_addition_model_backend:---------------------------------------------------------------------------------------\n",
      "DEBUG:mathsformer.selfsupervised_learning_addition_model_backend:    N8097-N943+N8+5-86        N7243        N7107        N7107                       136\n",
      "DEBUG:mathsformer.selfsupervised_learning_addition_model_backend:       N9+N4-N2+N943+4         N950        N947E         N947                         3\n",
      "DEBUG:mathsformer.selfsupervised_learning_addition_model_backend:              476+N792         N316        N225E         N225                        91\n",
      "DEBUG:mathsformer.selfsupervised_learning_addition_model_backend:     2333-6-N6836+8575        17738        15077        15077                     -2661\n",
      "DEBUG:mathsformer.selfsupervised_learning_addition_model_backend:  N6665+617+N57+61+363        N5681        N5177        N5177                       504\n",
      "DEBUG:mathsformer.selfsupervised_learning_addition_model_backend:     52-N6818+79-N5-N2         6956        6907E         6907                       -49\n",
      "DEBUG:mathsformer.selfsupervised_learning_addition_model_backend:                 N5+77           72        72EEE           72          X              0\n",
      "DEBUG:mathsformer.selfsupervised_learning_addition_model_backend: N379+N752-7+N2992-328        N4458        N4777        N4777                      -319\n",
      "DEBUG:mathsformer.selfsupervised_learning_addition_model_backend:       N7+N9-1+97-7774        N7694        N7795        N7795                      -101\n",
      "DEBUG:mathsformer.selfsupervised_learning_addition_model_backend:              75+N3612        N3537        N3547        N3547                       -10\n",
      "DEBUG:mathsformer.selfsupervised_learning_addition_model_backend:Running text --> text mathsformer inference on some validation data:\n",
      "DEBUG:mathsformer.selfsupervised_learning_addition_model_backend:-------------------------------------------------------------------------------\n",
      "DEBUG:mathsformer.selfsupervised_learning_addition_model_backend:         INPUT         TRUE   PRED(MASK)    PRED(GEN)      CORRECT     RESIDUAL\n",
      "DEBUG:mathsformer.selfsupervised_learning_addition_model_backend:-------------------------------------------------------------------------------\n",
      "DEBUG:mathsformer.selfsupervised_learning_addition_model_backend:  3-N3988+N847         3144        3141E         3141                        -3\n",
      "DEBUG:mathsformer.selfsupervised_learning_addition_model_backend:     7797+5-N4         7806        7802E         7802                        -4\n",
      "DEBUG:mathsformer.selfsupervised_learning_addition_model_backend:  N8357-N11+N7        N8353        N8357        N8357                        -4\n",
      "DEBUG:mathsformer.selfsupervised_learning_addition_model_backend: 6686-N437-236         6887        7003E         7003                       116\n",
      "DEBUG:mathsformer.selfsupervised_learning_addition_model_backend:     N5+4442+8         4445        4435E         4435                       -10\n",
      "DEBUG:mathsformer.selfsupervised_learning_addition_model_backend:   2123-N1+N68         2056        2065E         2065                         9\n",
      "DEBUG:mathsformer.selfsupervised_learning_addition_model_backend:   95+4563+879         5537        5441E         5441                       -96\n",
      "DEBUG:mathsformer.selfsupervised_learning_addition_model_backend:  1639+N2868+5        N1224        N1124        N1124                       100\n",
      "DEBUG:mathsformer.selfsupervised_learning_addition_model_backend:      8+N725-3         N720        N723E         N723                        -3\n",
      "DEBUG:mathsformer.selfsupervised_learning_addition_model_backend: N283+N962-N40        N1205        N1103        N1103                       102\n"
     ]
    },
    {
     "name": "stdout",
     "output_type": "stream",
     "text": [
      "2000/2000 [==============================] - 724s 362ms/step - loss: 0.8797 - masked_categorical_accuracy: 0.6627 - val_loss: 1.1512 - val_masked_categorical_accuracy: 0.5947\n",
      "Epoch 13/100000\n",
      "2000/2000 [==============================] - ETA: 0s - loss: 0.8233 - masked_categorical_accuracy: 0.6832"
     ]
    },
    {
     "name": "stderr",
     "output_type": "stream",
     "text": [
      "DEBUG:mathsformer.selfsupervised_learning_addition_model_backend:Training reached the end of epoch at index 12\n",
      "DEBUG:mathsformer.selfsupervised_learning_addition_model_backend:    with metric loss: 0.82331\n",
      "DEBUG:mathsformer.selfsupervised_learning_addition_model_backend:    with metric masked_categorical_accuracy: 0.6832\n",
      "DEBUG:mathsformer.selfsupervised_learning_addition_model_backend:    with metric val_loss: 1.2039\n",
      "DEBUG:mathsformer.selfsupervised_learning_addition_model_backend:    with metric val_masked_categorical_accuracy: 0.59848\n",
      "DEBUG:mathsformer.selfsupervised_learning_addition_model_backend:Running text --> text mathsformer inference on some training data:\n",
      "DEBUG:mathsformer.selfsupervised_learning_addition_model_backend:---------------------------------------------------------------------------------------\n",
      "DEBUG:mathsformer.selfsupervised_learning_addition_model_backend:                 INPUT         TRUE   PRED(MASK)    PRED(GEN)      CORRECT     RESIDUAL\n",
      "DEBUG:mathsformer.selfsupervised_learning_addition_model_backend:---------------------------------------------------------------------------------------\n",
      "DEBUG:mathsformer.selfsupervised_learning_addition_model_backend:    N8097-N943+N8+5-86        N7243        N7151        N7151                        92\n",
      "DEBUG:mathsformer.selfsupervised_learning_addition_model_backend:       N9+N4-N2+N943+4         N950        N951E         N951                        -1\n",
      "DEBUG:mathsformer.selfsupervised_learning_addition_model_backend:              476+N792         N316        N317E         N317                        -1\n",
      "DEBUG:mathsformer.selfsupervised_learning_addition_model_backend:     2333-6-N6836+8575        17738        17054        17027                      -711\n",
      "DEBUG:mathsformer.selfsupervised_learning_addition_model_backend:  N6665+617+N57+61+363        N5681        N5115        N5115                       566\n",
      "DEBUG:mathsformer.selfsupervised_learning_addition_model_backend:     52-N6818+79-N5-N2         6956        7977E         7977                      1021\n",
      "DEBUG:mathsformer.selfsupervised_learning_addition_model_backend:                 N5+77           72        72EEE           72          X              0\n",
      "DEBUG:mathsformer.selfsupervised_learning_addition_model_backend: N379+N752-7+N2992-328        N4458        N4352        N4352                       106\n",
      "DEBUG:mathsformer.selfsupervised_learning_addition_model_backend:       N7+N9-1+97-7774        N7694        N7772        N7772                       -78\n",
      "DEBUG:mathsformer.selfsupervised_learning_addition_model_backend:              75+N3612        N3537        N3537        N3537          X              0\n",
      "DEBUG:mathsformer.selfsupervised_learning_addition_model_backend:Running text --> text mathsformer inference on some validation data:\n",
      "DEBUG:mathsformer.selfsupervised_learning_addition_model_backend:-------------------------------------------------------------------------------\n",
      "DEBUG:mathsformer.selfsupervised_learning_addition_model_backend:         INPUT         TRUE   PRED(MASK)    PRED(GEN)      CORRECT     RESIDUAL\n",
      "DEBUG:mathsformer.selfsupervised_learning_addition_model_backend:-------------------------------------------------------------------------------\n",
      "DEBUG:mathsformer.selfsupervised_learning_addition_model_backend:  3-N3988+N847         3144        3143E         3143                        -1\n",
      "DEBUG:mathsformer.selfsupervised_learning_addition_model_backend:     7797+5-N4         7806        7802E         7802                        -4\n",
      "DEBUG:mathsformer.selfsupervised_learning_addition_model_backend:  N8357-N11+N7        N8353        N8351        N8351                         2\n",
      "DEBUG:mathsformer.selfsupervised_learning_addition_model_backend: 6686-N437-236         6887        7002E         7002                       115\n",
      "DEBUG:mathsformer.selfsupervised_learning_addition_model_backend:     N5+4442+8         4445        4435E         4435                       -10\n",
      "DEBUG:mathsformer.selfsupervised_learning_addition_model_backend:   2123-N1+N68         2056        2065E         2065                         9\n",
      "DEBUG:mathsformer.selfsupervised_learning_addition_model_backend:   95+4563+879         5537        5552E         5552                        15\n",
      "DEBUG:mathsformer.selfsupervised_learning_addition_model_backend:  1639+N2868+5        N1224        N1125        N1125                        99\n",
      "DEBUG:mathsformer.selfsupervised_learning_addition_model_backend:      8+N725-3         N720        N729E         N729                        -9\n",
      "DEBUG:mathsformer.selfsupervised_learning_addition_model_backend: N283+N962-N40        N1205        N1221        N1221                       -16\n"
     ]
    },
    {
     "name": "stdout",
     "output_type": "stream",
     "text": [
      "2000/2000 [==============================] - 723s 362ms/step - loss: 0.8233 - masked_categorical_accuracy: 0.6832 - val_loss: 1.2039 - val_masked_categorical_accuracy: 0.5985\n",
      "Epoch 14/100000\n",
      "2000/2000 [==============================] - ETA: 0s - loss: 0.8009 - masked_categorical_accuracy: 0.6924"
     ]
    },
    {
     "name": "stderr",
     "output_type": "stream",
     "text": [
      "DEBUG:mathsformer.selfsupervised_learning_addition_model_backend:Training reached the end of epoch at index 13\n",
      "DEBUG:mathsformer.selfsupervised_learning_addition_model_backend:    with metric loss: 0.80087\n",
      "DEBUG:mathsformer.selfsupervised_learning_addition_model_backend:    with metric masked_categorical_accuracy: 0.69235\n",
      "DEBUG:mathsformer.selfsupervised_learning_addition_model_backend:    with metric val_loss: 1.172\n",
      "DEBUG:mathsformer.selfsupervised_learning_addition_model_backend:    with metric val_masked_categorical_accuracy: 0.59029\n",
      "DEBUG:mathsformer.selfsupervised_learning_addition_model_backend:Running text --> text mathsformer inference on some training data:\n",
      "DEBUG:mathsformer.selfsupervised_learning_addition_model_backend:---------------------------------------------------------------------------------------\n",
      "DEBUG:mathsformer.selfsupervised_learning_addition_model_backend:                 INPUT         TRUE   PRED(MASK)    PRED(GEN)      CORRECT     RESIDUAL\n",
      "DEBUG:mathsformer.selfsupervised_learning_addition_model_backend:---------------------------------------------------------------------------------------\n",
      "DEBUG:mathsformer.selfsupervised_learning_addition_model_backend:    N8097-N943+N8+5-86        N7243        N7199        N7199                        44\n",
      "DEBUG:mathsformer.selfsupervised_learning_addition_model_backend:       N9+N4-N2+N943+4         N950        N941E         N941                         9\n",
      "DEBUG:mathsformer.selfsupervised_learning_addition_model_backend:              476+N792         N316        N30EE          N30                       286\n",
      "DEBUG:mathsformer.selfsupervised_learning_addition_model_backend:     2333-6-N6836+8575        17738        16399        16399                     -1339\n",
      "DEBUG:mathsformer.selfsupervised_learning_addition_model_backend:  N6665+617+N57+61+363        N5681        N5299        N5299                       382\n",
      "DEBUG:mathsformer.selfsupervised_learning_addition_model_backend:     52-N6818+79-N5-N2         6956        6999E         6999                        43\n",
      "DEBUG:mathsformer.selfsupervised_learning_addition_model_backend:                 N5+77           72        72EEE           72          X              0\n",
      "DEBUG:mathsformer.selfsupervised_learning_addition_model_backend: N379+N752-7+N2992-328        N4458        N4339        N4339                       119\n",
      "DEBUG:mathsformer.selfsupervised_learning_addition_model_backend:       N7+N9-1+97-7774        N7694        N7699        N7699                        -5\n",
      "DEBUG:mathsformer.selfsupervised_learning_addition_model_backend:              75+N3612        N3537        N3547        N3547                       -10\n",
      "DEBUG:mathsformer.selfsupervised_learning_addition_model_backend:Running text --> text mathsformer inference on some validation data:\n",
      "DEBUG:mathsformer.selfsupervised_learning_addition_model_backend:-------------------------------------------------------------------------------\n",
      "DEBUG:mathsformer.selfsupervised_learning_addition_model_backend:         INPUT         TRUE   PRED(MASK)    PRED(GEN)      CORRECT     RESIDUAL\n",
      "DEBUG:mathsformer.selfsupervised_learning_addition_model_backend:-------------------------------------------------------------------------------\n",
      "DEBUG:mathsformer.selfsupervised_learning_addition_model_backend:  3-N3988+N847         3144        2144E         2143                     -1001\n",
      "DEBUG:mathsformer.selfsupervised_learning_addition_model_backend:     7797+5-N4         7806        7802E         7802                        -4\n",
      "DEBUG:mathsformer.selfsupervised_learning_addition_model_backend:  N8357-N11+N7        N8353        N8357        N8357                        -4\n",
      "DEBUG:mathsformer.selfsupervised_learning_addition_model_backend: 6686-N437-236         6887        6999E         6999                       112\n",
      "DEBUG:mathsformer.selfsupervised_learning_addition_model_backend:     N5+4442+8         4445        4447E         4447                         2\n",
      "DEBUG:mathsformer.selfsupervised_learning_addition_model_backend:   2123-N1+N68         2056        2053E         2053                        -3\n",
      "DEBUG:mathsformer.selfsupervised_learning_addition_model_backend:   95+4563+879         5537        5453E         5453                       -84\n",
      "DEBUG:mathsformer.selfsupervised_learning_addition_model_backend:  1639+N2868+5        N1224        N1124        N1124                       100\n",
      "DEBUG:mathsformer.selfsupervised_learning_addition_model_backend:      8+N725-3         N720        N729E         N729                        -9\n",
      "DEBUG:mathsformer.selfsupervised_learning_addition_model_backend: N283+N962-N40        N1205        N1199        N1199                         6\n"
     ]
    },
    {
     "name": "stdout",
     "output_type": "stream",
     "text": [
      "2000/2000 [==============================] - 730s 365ms/step - loss: 0.8009 - masked_categorical_accuracy: 0.6924 - val_loss: 1.1720 - val_masked_categorical_accuracy: 0.5903\n",
      "Epoch 15/100000\n",
      "2000/2000 [==============================] - ETA: 0s - loss: 0.7679 - masked_categorical_accuracy: 0.7050"
     ]
    },
    {
     "name": "stderr",
     "output_type": "stream",
     "text": [
      "DEBUG:mathsformer.selfsupervised_learning_addition_model_backend:Training reached the end of epoch at index 14\n",
      "DEBUG:mathsformer.selfsupervised_learning_addition_model_backend:    with metric loss: 0.76795\n",
      "DEBUG:mathsformer.selfsupervised_learning_addition_model_backend:    with metric masked_categorical_accuracy: 0.70497\n",
      "DEBUG:mathsformer.selfsupervised_learning_addition_model_backend:    with metric val_loss: 1.0962\n",
      "DEBUG:mathsformer.selfsupervised_learning_addition_model_backend:    with metric val_masked_categorical_accuracy: 0.61396\n",
      "DEBUG:mathsformer.selfsupervised_learning_addition_model_backend:Running text --> text mathsformer inference on some training data:\n",
      "DEBUG:mathsformer.selfsupervised_learning_addition_model_backend:---------------------------------------------------------------------------------------\n",
      "DEBUG:mathsformer.selfsupervised_learning_addition_model_backend:                 INPUT         TRUE   PRED(MASK)    PRED(GEN)      CORRECT     RESIDUAL\n",
      "DEBUG:mathsformer.selfsupervised_learning_addition_model_backend:---------------------------------------------------------------------------------------\n",
      "DEBUG:mathsformer.selfsupervised_learning_addition_model_backend:    N8097-N943+N8+5-86        N7243        N7155        N7155                        88\n",
      "DEBUG:mathsformer.selfsupervised_learning_addition_model_backend:       N9+N4-N2+N943+4         N950        N945E         N945                         5\n",
      "DEBUG:mathsformer.selfsupervised_learning_addition_model_backend:              476+N792         N316        N316E         N316          X              0\n",
      "DEBUG:mathsformer.selfsupervised_learning_addition_model_backend:     2333-6-N6836+8575        17738        17000        17000                      -738\n",
      "DEBUG:mathsformer.selfsupervised_learning_addition_model_backend:  N6665+617+N57+61+363        N5681        N5195        N5195                       486\n",
      "DEBUG:mathsformer.selfsupervised_learning_addition_model_backend:     52-N6818+79-N5-N2         6956        6990E         6990                        34\n",
      "DEBUG:mathsformer.selfsupervised_learning_addition_model_backend:                 N5+77           72        72EEE           72          X              0\n",
      "DEBUG:mathsformer.selfsupervised_learning_addition_model_backend: N379+N752-7+N2992-328        N4458        N4900        N4900                      -442\n",
      "DEBUG:mathsformer.selfsupervised_learning_addition_model_backend:       N7+N9-1+97-7774        N7694        N7675        N7675                        19\n",
      "DEBUG:mathsformer.selfsupervised_learning_addition_model_backend:              75+N3612        N3537        N3537        N3537          X              0\n",
      "DEBUG:mathsformer.selfsupervised_learning_addition_model_backend:Running text --> text mathsformer inference on some validation data:\n",
      "DEBUG:mathsformer.selfsupervised_learning_addition_model_backend:-------------------------------------------------------------------------------\n",
      "DEBUG:mathsformer.selfsupervised_learning_addition_model_backend:         INPUT         TRUE   PRED(MASK)    PRED(GEN)      CORRECT     RESIDUAL\n",
      "DEBUG:mathsformer.selfsupervised_learning_addition_model_backend:-------------------------------------------------------------------------------\n",
      "DEBUG:mathsformer.selfsupervised_learning_addition_model_backend:  3-N3988+N847         3144        3144E         3144          X              0\n",
      "DEBUG:mathsformer.selfsupervised_learning_addition_model_backend:     7797+5-N4         7806        7801E         7801                        -5\n",
      "DEBUG:mathsformer.selfsupervised_learning_addition_model_backend:  N8357-N11+N7        N8353        N8350        N8350                         3\n",
      "DEBUG:mathsformer.selfsupervised_learning_addition_model_backend: 6686-N437-236         6887        6990E         6990                       103\n",
      "DEBUG:mathsformer.selfsupervised_learning_addition_model_backend:     N5+4442+8         4445        4435E         4435                       -10\n",
      "DEBUG:mathsformer.selfsupervised_learning_addition_model_backend:   2123-N1+N68         2056        2054E         2054                        -2\n",
      "DEBUG:mathsformer.selfsupervised_learning_addition_model_backend:   95+4563+879         5537        5540E         5540                         3\n",
      "DEBUG:mathsformer.selfsupervised_learning_addition_model_backend:  1639+N2868+5        N1224        N1124        N1124                       100\n",
      "DEBUG:mathsformer.selfsupervised_learning_addition_model_backend:      8+N725-3         N720        N729E         N729                        -9\n",
      "DEBUG:mathsformer.selfsupervised_learning_addition_model_backend: N283+N962-N40        N1205        N1200        N1200                         5\n"
     ]
    },
    {
     "name": "stdout",
     "output_type": "stream",
     "text": [
      "2000/2000 [==============================] - 739s 369ms/step - loss: 0.7679 - masked_categorical_accuracy: 0.7050 - val_loss: 1.0962 - val_masked_categorical_accuracy: 0.6140\n",
      "Epoch 16/100000\n",
      "2000/2000 [==============================] - ETA: 0s - loss: 0.7625 - masked_categorical_accuracy: 0.7077"
     ]
    },
    {
     "name": "stderr",
     "output_type": "stream",
     "text": [
      "DEBUG:mathsformer.selfsupervised_learning_addition_model_backend:Training reached the end of epoch at index 15\n",
      "DEBUG:mathsformer.selfsupervised_learning_addition_model_backend:    with metric loss: 0.76252\n",
      "DEBUG:mathsformer.selfsupervised_learning_addition_model_backend:    with metric masked_categorical_accuracy: 0.7077\n",
      "DEBUG:mathsformer.selfsupervised_learning_addition_model_backend:    with metric val_loss: 1.0973\n",
      "DEBUG:mathsformer.selfsupervised_learning_addition_model_backend:    with metric val_masked_categorical_accuracy: 0.61787\n",
      "DEBUG:mathsformer.selfsupervised_learning_addition_model_backend:Running text --> text mathsformer inference on some training data:\n",
      "DEBUG:mathsformer.selfsupervised_learning_addition_model_backend:---------------------------------------------------------------------------------------\n",
      "DEBUG:mathsformer.selfsupervised_learning_addition_model_backend:                 INPUT         TRUE   PRED(MASK)    PRED(GEN)      CORRECT     RESIDUAL\n",
      "DEBUG:mathsformer.selfsupervised_learning_addition_model_backend:---------------------------------------------------------------------------------------\n",
      "DEBUG:mathsformer.selfsupervised_learning_addition_model_backend:    N8097-N943+N8+5-86        N7243        N7122        N7122                       121\n",
      "DEBUG:mathsformer.selfsupervised_learning_addition_model_backend:       N9+N4-N2+N943+4         N950        N942E         N942                         8\n",
      "DEBUG:mathsformer.selfsupervised_learning_addition_model_backend:              476+N792         N316        N31EE          N31                       285\n",
      "DEBUG:mathsformer.selfsupervised_learning_addition_model_backend:     2333-6-N6836+8575        17738        17367        17367                      -371\n",
      "DEBUG:mathsformer.selfsupervised_learning_addition_model_backend:  N6665+617+N57+61+363        N5681        N5113        N5113                       568\n",
      "DEBUG:mathsformer.selfsupervised_learning_addition_model_backend:     52-N6818+79-N5-N2         6956        7983E         7982                      1026\n",
      "DEBUG:mathsformer.selfsupervised_learning_addition_model_backend:                 N5+77           72        72EEE           72          X              0\n",
      "DEBUG:mathsformer.selfsupervised_learning_addition_model_backend: N379+N752-7+N2992-328        N4458        N3332        N3334                      1124\n",
      "DEBUG:mathsformer.selfsupervised_learning_addition_model_backend:       N7+N9-1+97-7774        N7694        N7772        N7772                       -78\n",
      "DEBUG:mathsformer.selfsupervised_learning_addition_model_backend:              75+N3612        N3537        N3537        N3537          X              0\n",
      "DEBUG:mathsformer.selfsupervised_learning_addition_model_backend:Running text --> text mathsformer inference on some validation data:\n",
      "DEBUG:mathsformer.selfsupervised_learning_addition_model_backend:-------------------------------------------------------------------------------\n",
      "DEBUG:mathsformer.selfsupervised_learning_addition_model_backend:         INPUT         TRUE   PRED(MASK)    PRED(GEN)      CORRECT     RESIDUAL\n",
      "DEBUG:mathsformer.selfsupervised_learning_addition_model_backend:-------------------------------------------------------------------------------\n",
      "DEBUG:mathsformer.selfsupervised_learning_addition_model_backend:  3-N3988+N847         3144        3141E         3141                        -3\n",
      "DEBUG:mathsformer.selfsupervised_learning_addition_model_backend:     7797+5-N4         7806        7801E         7801                        -5\n",
      "DEBUG:mathsformer.selfsupervised_learning_addition_model_backend:  N8357-N11+N7        N8353        N8341        N8341                        12\n",
      "DEBUG:mathsformer.selfsupervised_learning_addition_model_backend: 6686-N437-236         6887        6867E         6867                       -20\n",
      "DEBUG:mathsformer.selfsupervised_learning_addition_model_backend:     N5+4442+8         4445        4446E         4446                         1\n",
      "DEBUG:mathsformer.selfsupervised_learning_addition_model_backend:   2123-N1+N68         2056        2053E         2053                        -3\n",
      "DEBUG:mathsformer.selfsupervised_learning_addition_model_backend:   95+4563+879         5537        5553E         5553                        16\n",
      "DEBUG:mathsformer.selfsupervised_learning_addition_model_backend:  1639+N2868+5        N1224        N1134        N1134                        90\n",
      "DEBUG:mathsformer.selfsupervised_learning_addition_model_backend:      8+N725-3         N720        N722E         N722                        -2\n",
      "DEBUG:mathsformer.selfsupervised_learning_addition_model_backend: N283+N962-N40        N1205        N1224        N1223                       -18\n"
     ]
    },
    {
     "name": "stdout",
     "output_type": "stream",
     "text": [
      "2000/2000 [==============================] - 749s 374ms/step - loss: 0.7625 - masked_categorical_accuracy: 0.7077 - val_loss: 1.0973 - val_masked_categorical_accuracy: 0.6179\n",
      "Epoch 17/100000\n",
      "2000/2000 [==============================] - ETA: 0s - loss: 0.7378 - masked_categorical_accuracy: 0.7169"
     ]
    },
    {
     "name": "stderr",
     "output_type": "stream",
     "text": [
      "DEBUG:mathsformer.selfsupervised_learning_addition_model_backend:Training reached the end of epoch at index 16\n",
      "DEBUG:mathsformer.selfsupervised_learning_addition_model_backend:    with metric loss: 0.73782\n",
      "DEBUG:mathsformer.selfsupervised_learning_addition_model_backend:    with metric masked_categorical_accuracy: 0.71689\n",
      "DEBUG:mathsformer.selfsupervised_learning_addition_model_backend:    with metric val_loss: 1.0664\n",
      "DEBUG:mathsformer.selfsupervised_learning_addition_model_backend:    with metric val_masked_categorical_accuracy: 0.6173\n",
      "DEBUG:mathsformer.selfsupervised_learning_addition_model_backend:Running text --> text mathsformer inference on some training data:\n",
      "DEBUG:mathsformer.selfsupervised_learning_addition_model_backend:---------------------------------------------------------------------------------------\n",
      "DEBUG:mathsformer.selfsupervised_learning_addition_model_backend:                 INPUT         TRUE   PRED(MASK)    PRED(GEN)      CORRECT     RESIDUAL\n",
      "DEBUG:mathsformer.selfsupervised_learning_addition_model_backend:---------------------------------------------------------------------------------------\n",
      "DEBUG:mathsformer.selfsupervised_learning_addition_model_backend:    N8097-N943+N8+5-86        N7243        N7122        N7122                       121\n",
      "DEBUG:mathsformer.selfsupervised_learning_addition_model_backend:       N9+N4-N2+N943+4         N950        N942E         N942                         8\n",
      "DEBUG:mathsformer.selfsupervised_learning_addition_model_backend:              476+N792         N316        N325E         N325                        -9\n",
      "DEBUG:mathsformer.selfsupervised_learning_addition_model_backend:     2333-6-N6836+8575        17738        16647        16647                     -1091\n",
      "DEBUG:mathsformer.selfsupervised_learning_addition_model_backend:  N6665+617+N57+61+363        N5681        N5272        N5272                       409\n",
      "DEBUG:mathsformer.selfsupervised_learning_addition_model_backend:     52-N6818+79-N5-N2         6956        6974E         6974                        18\n",
      "DEBUG:mathsformer.selfsupervised_learning_addition_model_backend:                 N5+77           72        72EEE           72          X              0\n",
      "DEBUG:mathsformer.selfsupervised_learning_addition_model_backend: N379+N752-7+N2992-328        N4458        N4044        N4044                       414\n",
      "DEBUG:mathsformer.selfsupervised_learning_addition_model_backend:       N7+N9-1+97-7774        N7694        N7792        N7792                       -98\n",
      "DEBUG:mathsformer.selfsupervised_learning_addition_model_backend:              75+N3612        N3537        N3537        N3537          X              0\n",
      "DEBUG:mathsformer.selfsupervised_learning_addition_model_backend:Running text --> text mathsformer inference on some validation data:\n",
      "DEBUG:mathsformer.selfsupervised_learning_addition_model_backend:-------------------------------------------------------------------------------\n",
      "DEBUG:mathsformer.selfsupervised_learning_addition_model_backend:         INPUT         TRUE   PRED(MASK)    PRED(GEN)      CORRECT     RESIDUAL\n",
      "DEBUG:mathsformer.selfsupervised_learning_addition_model_backend:-------------------------------------------------------------------------------\n",
      "DEBUG:mathsformer.selfsupervised_learning_addition_model_backend:  3-N3988+N847         3144        3147E         3147                         3\n",
      "DEBUG:mathsformer.selfsupervised_learning_addition_model_backend:     7797+5-N4         7806        7802E         7802                        -4\n",
      "DEBUG:mathsformer.selfsupervised_learning_addition_model_backend:  N8357-N11+N7        N8353        N8349        N8349                         4\n",
      "DEBUG:mathsformer.selfsupervised_learning_addition_model_backend: 6686-N437-236         6887        6922E         6929                        42\n",
      "DEBUG:mathsformer.selfsupervised_learning_addition_model_backend:     N5+4442+8         4445        4442E         4442                        -3\n",
      "DEBUG:mathsformer.selfsupervised_learning_addition_model_backend:   2123-N1+N68         2056        2052E         2052                        -4\n",
      "DEBUG:mathsformer.selfsupervised_learning_addition_model_backend:   95+4563+879         5537        5550E         5550                        13\n",
      "DEBUG:mathsformer.selfsupervised_learning_addition_model_backend:  1639+N2868+5        N1224        N1122        N1122                       102\n",
      "DEBUG:mathsformer.selfsupervised_learning_addition_model_backend:      8+N725-3         N720        N724E         N724                        -4\n",
      "DEBUG:mathsformer.selfsupervised_learning_addition_model_backend: N283+N962-N40        N1205        N1122        N1122                        83\n"
     ]
    },
    {
     "name": "stdout",
     "output_type": "stream",
     "text": [
      "2000/2000 [==============================] - 746s 373ms/step - loss: 0.7378 - masked_categorical_accuracy: 0.7169 - val_loss: 1.0664 - val_masked_categorical_accuracy: 0.6173\n",
      "Epoch 18/100000\n",
      "2000/2000 [==============================] - ETA: 0s - loss: 0.7314 - masked_categorical_accuracy: 0.7210"
     ]
    },
    {
     "name": "stderr",
     "output_type": "stream",
     "text": [
      "DEBUG:mathsformer.selfsupervised_learning_addition_model_backend:Training reached the end of epoch at index 17\n",
      "DEBUG:mathsformer.selfsupervised_learning_addition_model_backend:    with metric loss: 0.73138\n",
      "DEBUG:mathsformer.selfsupervised_learning_addition_model_backend:    with metric masked_categorical_accuracy: 0.72097\n",
      "DEBUG:mathsformer.selfsupervised_learning_addition_model_backend:    with metric val_loss: 1.0291\n",
      "DEBUG:mathsformer.selfsupervised_learning_addition_model_backend:    with metric val_masked_categorical_accuracy: 0.6361\n",
      "DEBUG:mathsformer.selfsupervised_learning_addition_model_backend:Running text --> text mathsformer inference on some training data:\n",
      "DEBUG:mathsformer.selfsupervised_learning_addition_model_backend:---------------------------------------------------------------------------------------\n",
      "DEBUG:mathsformer.selfsupervised_learning_addition_model_backend:                 INPUT         TRUE   PRED(MASK)    PRED(GEN)      CORRECT     RESIDUAL\n",
      "DEBUG:mathsformer.selfsupervised_learning_addition_model_backend:---------------------------------------------------------------------------------------\n",
      "DEBUG:mathsformer.selfsupervised_learning_addition_model_backend:    N8097-N943+N8+5-86        N7243        N7166        N7166                        77\n",
      "DEBUG:mathsformer.selfsupervised_learning_addition_model_backend:       N9+N4-N2+N943+4         N950        N946E         N946                         4\n",
      "DEBUG:mathsformer.selfsupervised_learning_addition_model_backend:              476+N792         N316        N316E         N316          X              0\n",
      "DEBUG:mathsformer.selfsupervised_learning_addition_model_backend:     2333-6-N6836+8575        17738        17666        17666                       -72\n",
      "DEBUG:mathsformer.selfsupervised_learning_addition_model_backend:  N6665+617+N57+61+363        N5681        N5336        N5336                       345\n",
      "DEBUG:mathsformer.selfsupervised_learning_addition_model_backend:     52-N6818+79-N5-N2         6956        6997E         6997                        41\n",
      "DEBUG:mathsformer.selfsupervised_learning_addition_model_backend:                 N5+77           72        72EEE           72          X              0\n",
      "DEBUG:mathsformer.selfsupervised_learning_addition_model_backend: N379+N752-7+N2992-328        N4458        N4666        N4666                      -208\n",
      "DEBUG:mathsformer.selfsupervised_learning_addition_model_backend:       N7+N9-1+97-7774        N7694        N7676        N7676                        18\n",
      "DEBUG:mathsformer.selfsupervised_learning_addition_model_backend:              75+N3612        N3537        N3537        N3537          X              0\n",
      "DEBUG:mathsformer.selfsupervised_learning_addition_model_backend:Running text --> text mathsformer inference on some validation data:\n",
      "DEBUG:mathsformer.selfsupervised_learning_addition_model_backend:-------------------------------------------------------------------------------\n",
      "DEBUG:mathsformer.selfsupervised_learning_addition_model_backend:         INPUT         TRUE   PRED(MASK)    PRED(GEN)      CORRECT     RESIDUAL\n",
      "DEBUG:mathsformer.selfsupervised_learning_addition_model_backend:-------------------------------------------------------------------------------\n",
      "DEBUG:mathsformer.selfsupervised_learning_addition_model_backend:  3-N3988+N847         3144        3143E         3143                        -1\n",
      "DEBUG:mathsformer.selfsupervised_learning_addition_model_backend:     7797+5-N4         7806        7801E         7801                        -5\n",
      "DEBUG:mathsformer.selfsupervised_learning_addition_model_backend:  N8357-N11+N7        N8353        N8347        N8347                         6\n",
      "DEBUG:mathsformer.selfsupervised_learning_addition_model_backend: 6686-N437-236         6887        6886E         6886                        -1\n",
      "DEBUG:mathsformer.selfsupervised_learning_addition_model_backend:     N5+4442+8         4445        4446E         4446                         1\n",
      "DEBUG:mathsformer.selfsupervised_learning_addition_model_backend:   2123-N1+N68         2056        2053E         2053                        -3\n",
      "DEBUG:mathsformer.selfsupervised_learning_addition_model_backend:   95+4563+879         5537        5576E         5576                        39\n",
      "DEBUG:mathsformer.selfsupervised_learning_addition_model_backend:  1639+N2868+5        N1224        N1126        N1126                        98\n",
      "DEBUG:mathsformer.selfsupervised_learning_addition_model_backend:      8+N725-3         N720        N722E         N722                        -2\n",
      "DEBUG:mathsformer.selfsupervised_learning_addition_model_backend: N283+N962-N40        N1205        N1164        N1164                        41\n"
     ]
    },
    {
     "name": "stdout",
     "output_type": "stream",
     "text": [
      "2000/2000 [==============================] - 742s 371ms/step - loss: 0.7314 - masked_categorical_accuracy: 0.7210 - val_loss: 1.0291 - val_masked_categorical_accuracy: 0.6361\n",
      "Epoch 19/100000\n",
      "2000/2000 [==============================] - ETA: 0s - loss: 0.7037 - masked_categorical_accuracy: 0.7298"
     ]
    },
    {
     "name": "stderr",
     "output_type": "stream",
     "text": [
      "DEBUG:mathsformer.selfsupervised_learning_addition_model_backend:Training reached the end of epoch at index 18\n",
      "DEBUG:mathsformer.selfsupervised_learning_addition_model_backend:    with metric loss: 0.70367\n",
      "DEBUG:mathsformer.selfsupervised_learning_addition_model_backend:    with metric masked_categorical_accuracy: 0.72976\n",
      "DEBUG:mathsformer.selfsupervised_learning_addition_model_backend:    with metric val_loss: 1.1056\n",
      "DEBUG:mathsformer.selfsupervised_learning_addition_model_backend:    with metric val_masked_categorical_accuracy: 0.64867\n",
      "DEBUG:mathsformer.selfsupervised_learning_addition_model_backend:Running text --> text mathsformer inference on some training data:\n",
      "DEBUG:mathsformer.selfsupervised_learning_addition_model_backend:---------------------------------------------------------------------------------------\n",
      "DEBUG:mathsformer.selfsupervised_learning_addition_model_backend:                 INPUT         TRUE   PRED(MASK)    PRED(GEN)      CORRECT     RESIDUAL\n",
      "DEBUG:mathsformer.selfsupervised_learning_addition_model_backend:---------------------------------------------------------------------------------------\n",
      "DEBUG:mathsformer.selfsupervised_learning_addition_model_backend:    N8097-N943+N8+5-86        N7243        N7133        N7133                       110\n",
      "DEBUG:mathsformer.selfsupervised_learning_addition_model_backend:       N9+N4-N2+N943+4         N950        N946E         N946                         4\n",
      "DEBUG:mathsformer.selfsupervised_learning_addition_model_backend:              476+N792         N316        N316E         N316          X              0\n",
      "DEBUG:mathsformer.selfsupervised_learning_addition_model_backend:     2333-6-N6836+8575        17738        16333        16333                     -1405\n",
      "DEBUG:mathsformer.selfsupervised_learning_addition_model_backend:  N6665+617+N57+61+363        N5681        N5233        N5233                       448\n",
      "DEBUG:mathsformer.selfsupervised_learning_addition_model_backend:     52-N6818+79-N5-N2         6956        6997E         6997                        41\n",
      "DEBUG:mathsformer.selfsupervised_learning_addition_model_backend:                 N5+77           72        72EEE           72          X              0\n",
      "DEBUG:mathsformer.selfsupervised_learning_addition_model_backend: N379+N752-7+N2992-328        N4458        N3733        N3733                       725\n",
      "DEBUG:mathsformer.selfsupervised_learning_addition_model_backend:       N7+N9-1+97-7774        N7694        N7783        N7783                       -89\n",
      "DEBUG:mathsformer.selfsupervised_learning_addition_model_backend:              75+N3612        N3537        N3537        N3537          X              0\n",
      "DEBUG:mathsformer.selfsupervised_learning_addition_model_backend:Running text --> text mathsformer inference on some validation data:\n",
      "DEBUG:mathsformer.selfsupervised_learning_addition_model_backend:-------------------------------------------------------------------------------\n",
      "DEBUG:mathsformer.selfsupervised_learning_addition_model_backend:         INPUT         TRUE   PRED(MASK)    PRED(GEN)      CORRECT     RESIDUAL\n",
      "DEBUG:mathsformer.selfsupervised_learning_addition_model_backend:-------------------------------------------------------------------------------\n",
      "DEBUG:mathsformer.selfsupervised_learning_addition_model_backend:  3-N3988+N847         3144        3143E         3143                        -1\n",
      "DEBUG:mathsformer.selfsupervised_learning_addition_model_backend:     7797+5-N4         7806        7702E         7702                      -104\n",
      "DEBUG:mathsformer.selfsupervised_learning_addition_model_backend:  N8357-N11+N7        N8353        N8340        N8340                        13\n",
      "DEBUG:mathsformer.selfsupervised_learning_addition_model_backend: 6686-N437-236         6887        6993E         6993                       106\n",
      "DEBUG:mathsformer.selfsupervised_learning_addition_model_backend:     N5+4442+8         4445        4446E         4446                         1\n",
      "DEBUG:mathsformer.selfsupervised_learning_addition_model_backend:   2123-N1+N68         2056        2054E         2054                        -2\n",
      "DEBUG:mathsformer.selfsupervised_learning_addition_model_backend:   95+4563+879         5537        5443E         5443                       -94\n",
      "DEBUG:mathsformer.selfsupervised_learning_addition_model_backend:  1639+N2868+5        N1224        N1127        N1127                        97\n",
      "DEBUG:mathsformer.selfsupervised_learning_addition_model_backend:      8+N725-3         N720        N722E         N722                        -2\n",
      "DEBUG:mathsformer.selfsupervised_learning_addition_model_backend: N283+N962-N40        N1205        N1203        N1203                         2\n"
     ]
    },
    {
     "name": "stdout",
     "output_type": "stream",
     "text": [
      "2000/2000 [==============================] - 728s 364ms/step - loss: 0.7037 - masked_categorical_accuracy: 0.7298 - val_loss: 1.1056 - val_masked_categorical_accuracy: 0.6487\n",
      "Epoch 20/100000\n",
      "2000/2000 [==============================] - ETA: 0s - loss: 0.6897 - masked_categorical_accuracy: 0.7345"
     ]
    },
    {
     "name": "stderr",
     "output_type": "stream",
     "text": [
      "DEBUG:mathsformer.selfsupervised_learning_addition_model_backend:Training reached the end of epoch at index 19\n",
      "DEBUG:mathsformer.selfsupervised_learning_addition_model_backend:    with metric loss: 0.68967\n",
      "DEBUG:mathsformer.selfsupervised_learning_addition_model_backend:    with metric masked_categorical_accuracy: 0.73449\n",
      "DEBUG:mathsformer.selfsupervised_learning_addition_model_backend:    with metric val_loss: 0.9938\n",
      "DEBUG:mathsformer.selfsupervised_learning_addition_model_backend:    with metric val_masked_categorical_accuracy: 0.65188\n",
      "DEBUG:mathsformer.selfsupervised_learning_addition_model_backend:Running text --> text mathsformer inference on some training data:\n",
      "DEBUG:mathsformer.selfsupervised_learning_addition_model_backend:---------------------------------------------------------------------------------------\n",
      "DEBUG:mathsformer.selfsupervised_learning_addition_model_backend:                 INPUT         TRUE   PRED(MASK)    PRED(GEN)      CORRECT     RESIDUAL\n",
      "DEBUG:mathsformer.selfsupervised_learning_addition_model_backend:---------------------------------------------------------------------------------------\n",
      "DEBUG:mathsformer.selfsupervised_learning_addition_model_backend:    N8097-N943+N8+5-86        N7243        N7111        N7111                       132\n",
      "DEBUG:mathsformer.selfsupervised_learning_addition_model_backend:       N9+N4-N2+N943+4         N950        N958E         N958                        -8\n",
      "DEBUG:mathsformer.selfsupervised_learning_addition_model_backend:              476+N792         N316        N216E         N216                       100\n",
      "DEBUG:mathsformer.selfsupervised_learning_addition_model_backend:     2333-6-N6836+8575        17738        18777        18777                      1039\n",
      "DEBUG:mathsformer.selfsupervised_learning_addition_model_backend:  N6665+617+N57+61+363        N5681        N5111        N5111                       570\n",
      "DEBUG:mathsformer.selfsupervised_learning_addition_model_backend:     52-N6818+79-N5-N2         6956        6988E         6988                        32\n",
      "DEBUG:mathsformer.selfsupervised_learning_addition_model_backend:                 N5+77           72        72EEE           72          X              0\n",
      "DEBUG:mathsformer.selfsupervised_learning_addition_model_backend: N379+N752-7+N2992-328        N4458        N4877        N4877                      -419\n",
      "DEBUG:mathsformer.selfsupervised_learning_addition_model_backend:       N7+N9-1+97-7774        N7694        N7788        N7788                       -94\n",
      "DEBUG:mathsformer.selfsupervised_learning_addition_model_backend:              75+N3612        N3537        N3538        N3538                        -1\n",
      "DEBUG:mathsformer.selfsupervised_learning_addition_model_backend:Running text --> text mathsformer inference on some validation data:\n",
      "DEBUG:mathsformer.selfsupervised_learning_addition_model_backend:-------------------------------------------------------------------------------\n",
      "DEBUG:mathsformer.selfsupervised_learning_addition_model_backend:         INPUT         TRUE   PRED(MASK)    PRED(GEN)      CORRECT     RESIDUAL\n",
      "DEBUG:mathsformer.selfsupervised_learning_addition_model_backend:-------------------------------------------------------------------------------\n",
      "DEBUG:mathsformer.selfsupervised_learning_addition_model_backend:  3-N3988+N847         3144        3141E         3141                        -3\n",
      "DEBUG:mathsformer.selfsupervised_learning_addition_model_backend:     7797+5-N4         7806        7802E         7802                        -4\n",
      "DEBUG:mathsformer.selfsupervised_learning_addition_model_backend:  N8357-N11+N7        N8353        N8351        N8351                         2\n",
      "DEBUG:mathsformer.selfsupervised_learning_addition_model_backend: 6686-N437-236         6887        6788E         6788                       -99\n",
      "DEBUG:mathsformer.selfsupervised_learning_addition_model_backend:     N5+4442+8         4445        4447E         4447                         2\n",
      "DEBUG:mathsformer.selfsupervised_learning_addition_model_backend:   2123-N1+N68         2056        2065E         2065                         9\n",
      "DEBUG:mathsformer.selfsupervised_learning_addition_model_backend:   95+4563+879         5537        5578E         5578                        41\n",
      "DEBUG:mathsformer.selfsupervised_learning_addition_model_backend:  1639+N2868+5        N1224        N1121        N1121                       103\n",
      "DEBUG:mathsformer.selfsupervised_learning_addition_model_backend:      8+N725-3         N720        N728E         N728                        -8\n",
      "DEBUG:mathsformer.selfsupervised_learning_addition_model_backend: N283+N962-N40        N1205        N1218        N1218                       -13\n"
     ]
    },
    {
     "name": "stdout",
     "output_type": "stream",
     "text": [
      "2000/2000 [==============================] - 724s 362ms/step - loss: 0.6897 - masked_categorical_accuracy: 0.7345 - val_loss: 0.9938 - val_masked_categorical_accuracy: 0.6519\n",
      "Epoch 21/100000\n",
      "2000/2000 [==============================] - ETA: 0s - loss: 0.6853 - masked_categorical_accuracy: 0.7374"
     ]
    },
    {
     "name": "stderr",
     "output_type": "stream",
     "text": [
      "DEBUG:mathsformer.selfsupervised_learning_addition_model_backend:Training reached the end of epoch at index 20\n",
      "DEBUG:mathsformer.selfsupervised_learning_addition_model_backend:    with metric loss: 0.68527\n",
      "DEBUG:mathsformer.selfsupervised_learning_addition_model_backend:    with metric masked_categorical_accuracy: 0.73738\n",
      "DEBUG:mathsformer.selfsupervised_learning_addition_model_backend:    with metric val_loss: 1.0185\n",
      "DEBUG:mathsformer.selfsupervised_learning_addition_model_backend:    with metric val_masked_categorical_accuracy: 0.65407\n",
      "DEBUG:mathsformer.selfsupervised_learning_addition_model_backend:Running text --> text mathsformer inference on some training data:\n",
      "DEBUG:mathsformer.selfsupervised_learning_addition_model_backend:---------------------------------------------------------------------------------------\n",
      "DEBUG:mathsformer.selfsupervised_learning_addition_model_backend:                 INPUT         TRUE   PRED(MASK)    PRED(GEN)      CORRECT     RESIDUAL\n",
      "DEBUG:mathsformer.selfsupervised_learning_addition_model_backend:---------------------------------------------------------------------------------------\n",
      "DEBUG:mathsformer.selfsupervised_learning_addition_model_backend:    N8097-N943+N8+5-86        N7243        N7235        N7235                         8\n",
      "DEBUG:mathsformer.selfsupervised_learning_addition_model_backend:       N9+N4-N2+N943+4         N950        N955E         N955                        -5\n",
      "DEBUG:mathsformer.selfsupervised_learning_addition_model_backend:              476+N792         N316        N216E         N216                       100\n",
      "DEBUG:mathsformer.selfsupervised_learning_addition_model_backend:     2333-6-N6836+8575        17738        17555        17555                      -183\n",
      "DEBUG:mathsformer.selfsupervised_learning_addition_model_backend:  N6665+617+N57+61+363        N5681        N5115        N5115                       566\n",
      "DEBUG:mathsformer.selfsupervised_learning_addition_model_backend:     52-N6818+79-N5-N2         6956        6905E         6905                       -51\n",
      "DEBUG:mathsformer.selfsupervised_learning_addition_model_backend:                 N5+77           72        72EEE           72          X              0\n",
      "DEBUG:mathsformer.selfsupervised_learning_addition_model_backend: N379+N752-7+N2992-328        N4458        N4805        N4805                      -347\n",
      "DEBUG:mathsformer.selfsupervised_learning_addition_model_backend:       N7+N9-1+97-7774        N7694        N7795        N7795                      -101\n",
      "DEBUG:mathsformer.selfsupervised_learning_addition_model_backend:              75+N3612        N3537        N3537        N3537          X              0\n",
      "DEBUG:mathsformer.selfsupervised_learning_addition_model_backend:Running text --> text mathsformer inference on some validation data:\n",
      "DEBUG:mathsformer.selfsupervised_learning_addition_model_backend:-------------------------------------------------------------------------------\n",
      "DEBUG:mathsformer.selfsupervised_learning_addition_model_backend:         INPUT         TRUE   PRED(MASK)    PRED(GEN)      CORRECT     RESIDUAL\n",
      "DEBUG:mathsformer.selfsupervised_learning_addition_model_backend:-------------------------------------------------------------------------------\n",
      "DEBUG:mathsformer.selfsupervised_learning_addition_model_backend:  3-N3988+N847         3144        3141E         3141                        -3\n",
      "DEBUG:mathsformer.selfsupervised_learning_addition_model_backend:     7797+5-N4         7806        7802E         7802                        -4\n",
      "DEBUG:mathsformer.selfsupervised_learning_addition_model_backend:  N8357-N11+N7        N8353        N8365        N8365                       -12\n",
      "DEBUG:mathsformer.selfsupervised_learning_addition_model_backend: 6686-N437-236         6887        6705E         6705                      -182\n",
      "DEBUG:mathsformer.selfsupervised_learning_addition_model_backend:     N5+4442+8         4445        4447E         4447                         2\n",
      "DEBUG:mathsformer.selfsupervised_learning_addition_model_backend:   2123-N1+N68         2056        2055E         2055                        -1\n",
      "DEBUG:mathsformer.selfsupervised_learning_addition_model_backend:   95+4563+879         5537        5555E         5555                        18\n",
      "DEBUG:mathsformer.selfsupervised_learning_addition_model_backend:  1639+N2868+5        N1224        N1125        N1125                        99\n",
      "DEBUG:mathsformer.selfsupervised_learning_addition_model_backend:      8+N725-3         N720        N717E         N717                         3\n",
      "DEBUG:mathsformer.selfsupervised_learning_addition_model_backend: N283+N962-N40        N1205        N1215        N1215                       -10\n"
     ]
    },
    {
     "name": "stdout",
     "output_type": "stream",
     "text": [
      "2000/2000 [==============================] - 722s 361ms/step - loss: 0.6853 - masked_categorical_accuracy: 0.7374 - val_loss: 1.0185 - val_masked_categorical_accuracy: 0.6541\n",
      "Epoch 22/100000\n",
      "2000/2000 [==============================] - ETA: 0s - loss: 0.6791 - masked_categorical_accuracy: 0.7408"
     ]
    },
    {
     "name": "stderr",
     "output_type": "stream",
     "text": [
      "DEBUG:mathsformer.selfsupervised_learning_addition_model_backend:Training reached the end of epoch at index 21\n",
      "DEBUG:mathsformer.selfsupervised_learning_addition_model_backend:    with metric loss: 0.67913\n",
      "DEBUG:mathsformer.selfsupervised_learning_addition_model_backend:    with metric masked_categorical_accuracy: 0.74081\n",
      "DEBUG:mathsformer.selfsupervised_learning_addition_model_backend:    with metric val_loss: 0.95937\n",
      "DEBUG:mathsformer.selfsupervised_learning_addition_model_backend:    with metric val_masked_categorical_accuracy: 0.65933\n",
      "DEBUG:mathsformer.selfsupervised_learning_addition_model_backend:Running text --> text mathsformer inference on some training data:\n",
      "DEBUG:mathsformer.selfsupervised_learning_addition_model_backend:---------------------------------------------------------------------------------------\n",
      "DEBUG:mathsformer.selfsupervised_learning_addition_model_backend:                 INPUT         TRUE   PRED(MASK)    PRED(GEN)      CORRECT     RESIDUAL\n",
      "DEBUG:mathsformer.selfsupervised_learning_addition_model_backend:---------------------------------------------------------------------------------------\n",
      "DEBUG:mathsformer.selfsupervised_learning_addition_model_backend:    N8097-N943+N8+5-86        N7243        N7144        N7144                        99\n",
      "DEBUG:mathsformer.selfsupervised_learning_addition_model_backend:       N9+N4-N2+N943+4         N950        N954E         N954                        -4\n",
      "DEBUG:mathsformer.selfsupervised_learning_addition_model_backend:              476+N792         N316        N316E         N316          X              0\n",
      "DEBUG:mathsformer.selfsupervised_learning_addition_model_backend:     2333-6-N6836+8575        17738        18444        18444                       706\n",
      "DEBUG:mathsformer.selfsupervised_learning_addition_model_backend:  N6665+617+N57+61+363        N5681        N5444        N5444                       237\n",
      "DEBUG:mathsformer.selfsupervised_learning_addition_model_backend:     52-N6818+79-N5-N2         6956        6942E         6942                       -14\n",
      "DEBUG:mathsformer.selfsupervised_learning_addition_model_backend:                 N5+77           72        72EEE           72          X              0\n",
      "DEBUG:mathsformer.selfsupervised_learning_addition_model_backend: N379+N752-7+N2992-328        N4458        N4944        N4944                      -486\n",
      "DEBUG:mathsformer.selfsupervised_learning_addition_model_backend:       N7+N9-1+97-7774        N7694        N7694        N7694          X              0\n",
      "DEBUG:mathsformer.selfsupervised_learning_addition_model_backend:              75+N3612        N3537        N3537        N3537          X              0\n",
      "DEBUG:mathsformer.selfsupervised_learning_addition_model_backend:Running text --> text mathsformer inference on some validation data:\n",
      "DEBUG:mathsformer.selfsupervised_learning_addition_model_backend:-------------------------------------------------------------------------------\n",
      "DEBUG:mathsformer.selfsupervised_learning_addition_model_backend:         INPUT         TRUE   PRED(MASK)    PRED(GEN)      CORRECT     RESIDUAL\n",
      "DEBUG:mathsformer.selfsupervised_learning_addition_model_backend:-------------------------------------------------------------------------------\n",
      "DEBUG:mathsformer.selfsupervised_learning_addition_model_backend:  3-N3988+N847         3144        3134E         3134                       -10\n",
      "DEBUG:mathsformer.selfsupervised_learning_addition_model_backend:     7797+5-N4         7806        7802E         7802                        -4\n",
      "DEBUG:mathsformer.selfsupervised_learning_addition_model_backend:  N8357-N11+N7        N8353        N8354        N8354                        -1\n",
      "DEBUG:mathsformer.selfsupervised_learning_addition_model_backend: 6686-N437-236         6887        6894E         6894                         7\n",
      "DEBUG:mathsformer.selfsupervised_learning_addition_model_backend:     N5+4442+8         4445        4455E         4455                        10\n",
      "DEBUG:mathsformer.selfsupervised_learning_addition_model_backend:   2123-N1+N68         2056        2055E         2055                        -1\n",
      "DEBUG:mathsformer.selfsupervised_learning_addition_model_backend:   95+4563+879         5537        6674E         6674                      1137\n",
      "DEBUG:mathsformer.selfsupervised_learning_addition_model_backend:  1639+N2868+5        N1224        N1124        N1124                       100\n",
      "DEBUG:mathsformer.selfsupervised_learning_addition_model_backend:      8+N725-3         N720        N718E         N718                         2\n",
      "DEBUG:mathsformer.selfsupervised_learning_addition_model_backend: N283+N962-N40        N1205        N1244        N1244                       -39\n"
     ]
    },
    {
     "name": "stdout",
     "output_type": "stream",
     "text": [
      "2000/2000 [==============================] - 727s 363ms/step - loss: 0.6791 - masked_categorical_accuracy: 0.7408 - val_loss: 0.9594 - val_masked_categorical_accuracy: 0.6593\n",
      "Epoch 23/100000\n",
      "2000/2000 [==============================] - ETA: 0s - loss: 0.6604 - masked_categorical_accuracy: 0.7455"
     ]
    },
    {
     "name": "stderr",
     "output_type": "stream",
     "text": [
      "DEBUG:mathsformer.selfsupervised_learning_addition_model_backend:Training reached the end of epoch at index 22\n",
      "DEBUG:mathsformer.selfsupervised_learning_addition_model_backend:    with metric loss: 0.66037\n",
      "DEBUG:mathsformer.selfsupervised_learning_addition_model_backend:    with metric masked_categorical_accuracy: 0.74555\n",
      "DEBUG:mathsformer.selfsupervised_learning_addition_model_backend:    with metric val_loss: 1.0533\n",
      "DEBUG:mathsformer.selfsupervised_learning_addition_model_backend:    with metric val_masked_categorical_accuracy: 0.65767\n",
      "DEBUG:mathsformer.selfsupervised_learning_addition_model_backend:Running text --> text mathsformer inference on some training data:\n",
      "DEBUG:mathsformer.selfsupervised_learning_addition_model_backend:---------------------------------------------------------------------------------------\n",
      "DEBUG:mathsformer.selfsupervised_learning_addition_model_backend:                 INPUT         TRUE   PRED(MASK)    PRED(GEN)      CORRECT     RESIDUAL\n",
      "DEBUG:mathsformer.selfsupervised_learning_addition_model_backend:---------------------------------------------------------------------------------------\n",
      "DEBUG:mathsformer.selfsupervised_learning_addition_model_backend:    N8097-N943+N8+5-86        N7243        N7266        N7266                       -23\n",
      "DEBUG:mathsformer.selfsupervised_learning_addition_model_backend:       N9+N4-N2+N943+4         N950        N946E         N946                         4\n",
      "DEBUG:mathsformer.selfsupervised_learning_addition_model_backend:              476+N792         N316        N317E         N317                        -1\n",
      "DEBUG:mathsformer.selfsupervised_learning_addition_model_backend:     2333-6-N6836+8575        17738        18666        18666                       928\n",
      "DEBUG:mathsformer.selfsupervised_learning_addition_model_backend:  N6665+617+N57+61+363        N5681        N5086        N5086                       595\n",
      "DEBUG:mathsformer.selfsupervised_learning_addition_model_backend:     52-N6818+79-N5-N2         6956        6916E         6916                       -40\n",
      "DEBUG:mathsformer.selfsupervised_learning_addition_model_backend:                 N5+77           72        72EEE           72          X              0\n",
      "DEBUG:mathsformer.selfsupervised_learning_addition_model_backend: N379+N752-7+N2992-328        N4458        N4846        N4846                      -388\n",
      "DEBUG:mathsformer.selfsupervised_learning_addition_model_backend:       N7+N9-1+97-7774        N7694        N7686        N7686                         8\n",
      "DEBUG:mathsformer.selfsupervised_learning_addition_model_backend:              75+N3612        N3537        N3538        N3538                        -1\n",
      "DEBUG:mathsformer.selfsupervised_learning_addition_model_backend:Running text --> text mathsformer inference on some validation data:\n",
      "DEBUG:mathsformer.selfsupervised_learning_addition_model_backend:-------------------------------------------------------------------------------\n",
      "DEBUG:mathsformer.selfsupervised_learning_addition_model_backend:         INPUT         TRUE   PRED(MASK)    PRED(GEN)      CORRECT     RESIDUAL\n",
      "DEBUG:mathsformer.selfsupervised_learning_addition_model_backend:-------------------------------------------------------------------------------\n",
      "DEBUG:mathsformer.selfsupervised_learning_addition_model_backend:  3-N3988+N847         3144        3136E         3136                        -8\n",
      "DEBUG:mathsformer.selfsupervised_learning_addition_model_backend:     7797+5-N4         7806        7802E         7802                        -4\n",
      "DEBUG:mathsformer.selfsupervised_learning_addition_model_backend:  N8357-N11+N7        N8353        N8340        N8340                        13\n",
      "DEBUG:mathsformer.selfsupervised_learning_addition_model_backend: 6686-N437-236         6887        6808E         6808                       -79\n",
      "DEBUG:mathsformer.selfsupervised_learning_addition_model_backend:     N5+4442+8         4445        4446E         4446                         1\n",
      "DEBUG:mathsformer.selfsupervised_learning_addition_model_backend:   2123-N1+N68         2056        2054E         2054                        -2\n",
      "DEBUG:mathsformer.selfsupervised_learning_addition_model_backend:   95+4563+879         5537        5566E         5566                        29\n",
      "DEBUG:mathsformer.selfsupervised_learning_addition_model_backend:  1639+N2868+5        N1224        N1220        N1220                         4\n",
      "DEBUG:mathsformer.selfsupervised_learning_addition_model_backend:      8+N725-3         N720        N718E         N718                         2\n",
      "DEBUG:mathsformer.selfsupervised_learning_addition_model_backend: N283+N962-N40        N1205        N1102        N1102                       103\n"
     ]
    },
    {
     "name": "stdout",
     "output_type": "stream",
     "text": [
      "2000/2000 [==============================] - 735s 367ms/step - loss: 0.6604 - masked_categorical_accuracy: 0.7455 - val_loss: 1.0533 - val_masked_categorical_accuracy: 0.6577\n",
      "Epoch 24/100000\n",
      "2000/2000 [==============================] - ETA: 0s - loss: 0.6498 - masked_categorical_accuracy: 0.7498"
     ]
    },
    {
     "name": "stderr",
     "output_type": "stream",
     "text": [
      "DEBUG:mathsformer.selfsupervised_learning_addition_model_backend:Training reached the end of epoch at index 23\n",
      "DEBUG:mathsformer.selfsupervised_learning_addition_model_backend:    with metric loss: 0.64979\n",
      "DEBUG:mathsformer.selfsupervised_learning_addition_model_backend:    with metric masked_categorical_accuracy: 0.74978\n",
      "DEBUG:mathsformer.selfsupervised_learning_addition_model_backend:    with metric val_loss: 0.94201\n",
      "DEBUG:mathsformer.selfsupervised_learning_addition_model_backend:    with metric val_masked_categorical_accuracy: 0.66479\n",
      "DEBUG:mathsformer.selfsupervised_learning_addition_model_backend:Running text --> text mathsformer inference on some training data:\n",
      "DEBUG:mathsformer.selfsupervised_learning_addition_model_backend:---------------------------------------------------------------------------------------\n",
      "DEBUG:mathsformer.selfsupervised_learning_addition_model_backend:                 INPUT         TRUE   PRED(MASK)    PRED(GEN)      CORRECT     RESIDUAL\n",
      "DEBUG:mathsformer.selfsupervised_learning_addition_model_backend:---------------------------------------------------------------------------------------\n",
      "DEBUG:mathsformer.selfsupervised_learning_addition_model_backend:    N8097-N943+N8+5-86        N7243        N7244        N7244                        -1\n",
      "DEBUG:mathsformer.selfsupervised_learning_addition_model_backend:       N9+N4-N2+N943+4         N950        N950E         N950          X              0\n",
      "DEBUG:mathsformer.selfsupervised_learning_addition_model_backend:              476+N792         N316        N316E         N316          X              0\n",
      "DEBUG:mathsformer.selfsupervised_learning_addition_model_backend:     2333-6-N6836+8575        17738        28066        20046                      2308\n",
      "DEBUG:mathsformer.selfsupervised_learning_addition_model_backend:  N6665+617+N57+61+363        N5681        N5440        N5440                       241\n",
      "DEBUG:mathsformer.selfsupervised_learning_addition_model_backend:     52-N6818+79-N5-N2         6956        6924E         6924                       -32\n",
      "DEBUG:mathsformer.selfsupervised_learning_addition_model_backend:                 N5+77           72        72EEE           72          X              0\n",
      "DEBUG:mathsformer.selfsupervised_learning_addition_model_backend: N379+N752-7+N2992-328        N4458        N4000        N4000                       458\n",
      "DEBUG:mathsformer.selfsupervised_learning_addition_model_backend:       N7+N9-1+97-7774        N7694        N7690        N7690                         4\n",
      "DEBUG:mathsformer.selfsupervised_learning_addition_model_backend:              75+N3612        N3537        N3537        N3537          X              0\n",
      "DEBUG:mathsformer.selfsupervised_learning_addition_model_backend:Running text --> text mathsformer inference on some validation data:\n",
      "DEBUG:mathsformer.selfsupervised_learning_addition_model_backend:-------------------------------------------------------------------------------\n",
      "DEBUG:mathsformer.selfsupervised_learning_addition_model_backend:         INPUT         TRUE   PRED(MASK)    PRED(GEN)      CORRECT     RESIDUAL\n",
      "DEBUG:mathsformer.selfsupervised_learning_addition_model_backend:-------------------------------------------------------------------------------\n",
      "DEBUG:mathsformer.selfsupervised_learning_addition_model_backend:  3-N3988+N847         3144        3144E         3144          X              0\n",
      "DEBUG:mathsformer.selfsupervised_learning_addition_model_backend:     7797+5-N4         7806        7801E         7801                        -5\n",
      "DEBUG:mathsformer.selfsupervised_learning_addition_model_backend:  N8357-N11+N7        N8353        N8352        N8352                         1\n",
      "DEBUG:mathsformer.selfsupervised_learning_addition_model_backend: 6686-N437-236         6887        6899E         6899                        12\n",
      "DEBUG:mathsformer.selfsupervised_learning_addition_model_backend:     N5+4442+8         4445        4446E         4446                         1\n",
      "DEBUG:mathsformer.selfsupervised_learning_addition_model_backend:   2123-N1+N68         2056        2055E         2055                        -1\n",
      "DEBUG:mathsformer.selfsupervised_learning_addition_model_backend:   95+4563+879         5537        5500E         5500                       -37\n",
      "DEBUG:mathsformer.selfsupervised_learning_addition_model_backend:  1639+N2868+5        N1224        N1224        N1224          X              0\n",
      "DEBUG:mathsformer.selfsupervised_learning_addition_model_backend:      8+N725-3         N720        N718E         N718                         2\n",
      "DEBUG:mathsformer.selfsupervised_learning_addition_model_backend: N283+N962-N40        N1205        N1142        N1142                        63\n"
     ]
    },
    {
     "name": "stdout",
     "output_type": "stream",
     "text": [
      "2000/2000 [==============================] - 736s 368ms/step - loss: 0.6498 - masked_categorical_accuracy: 0.7498 - val_loss: 0.9420 - val_masked_categorical_accuracy: 0.6648\n",
      "Epoch 25/100000\n",
      "2000/2000 [==============================] - ETA: 0s - loss: 0.6382 - masked_categorical_accuracy: 0.7540"
     ]
    },
    {
     "name": "stderr",
     "output_type": "stream",
     "text": [
      "DEBUG:mathsformer.selfsupervised_learning_addition_model_backend:Training reached the end of epoch at index 24\n",
      "DEBUG:mathsformer.selfsupervised_learning_addition_model_backend:    with metric loss: 0.63823\n",
      "DEBUG:mathsformer.selfsupervised_learning_addition_model_backend:    with metric masked_categorical_accuracy: 0.75402\n",
      "DEBUG:mathsformer.selfsupervised_learning_addition_model_backend:    with metric val_loss: 0.91876\n",
      "DEBUG:mathsformer.selfsupervised_learning_addition_model_backend:    with metric val_masked_categorical_accuracy: 0.68454\n",
      "DEBUG:mathsformer.selfsupervised_learning_addition_model_backend:Running text --> text mathsformer inference on some training data:\n",
      "DEBUG:mathsformer.selfsupervised_learning_addition_model_backend:---------------------------------------------------------------------------------------\n",
      "DEBUG:mathsformer.selfsupervised_learning_addition_model_backend:                 INPUT         TRUE   PRED(MASK)    PRED(GEN)      CORRECT     RESIDUAL\n",
      "DEBUG:mathsformer.selfsupervised_learning_addition_model_backend:---------------------------------------------------------------------------------------\n",
      "DEBUG:mathsformer.selfsupervised_learning_addition_model_backend:    N8097-N943+N8+5-86        N7243        N7262        N7262                       -19\n",
      "DEBUG:mathsformer.selfsupervised_learning_addition_model_backend:       N9+N4-N2+N943+4         N950        N956E         N956                        -6\n",
      "DEBUG:mathsformer.selfsupervised_learning_addition_model_backend:              476+N792         N316        N216E         N216                       100\n",
      "DEBUG:mathsformer.selfsupervised_learning_addition_model_backend:     2333-6-N6836+8575        17738        17656        17656                       -82\n",
      "DEBUG:mathsformer.selfsupervised_learning_addition_model_backend:  N6665+617+N57+61+363        N5681        N5644        N5644                        37\n",
      "DEBUG:mathsformer.selfsupervised_learning_addition_model_backend:     52-N6818+79-N5-N2         6956        6933E         6935                       -21\n",
      "DEBUG:mathsformer.selfsupervised_learning_addition_model_backend:                 N5+77           72        72EEE           72          X              0\n",
      "DEBUG:mathsformer.selfsupervised_learning_addition_model_backend: N379+N752-7+N2992-328        N4458        N4933        N4933                      -475\n",
      "DEBUG:mathsformer.selfsupervised_learning_addition_model_backend:       N7+N9-1+97-7774        N7694        N7682        N7682                        12\n",
      "DEBUG:mathsformer.selfsupervised_learning_addition_model_backend:              75+N3612        N3537        N3537        N3537          X              0\n",
      "DEBUG:mathsformer.selfsupervised_learning_addition_model_backend:Running text --> text mathsformer inference on some validation data:\n",
      "DEBUG:mathsformer.selfsupervised_learning_addition_model_backend:-------------------------------------------------------------------------------\n",
      "DEBUG:mathsformer.selfsupervised_learning_addition_model_backend:         INPUT         TRUE   PRED(MASK)    PRED(GEN)      CORRECT     RESIDUAL\n",
      "DEBUG:mathsformer.selfsupervised_learning_addition_model_backend:-------------------------------------------------------------------------------\n",
      "DEBUG:mathsformer.selfsupervised_learning_addition_model_backend:  3-N3988+N847         3144        3146E         3146                         2\n",
      "DEBUG:mathsformer.selfsupervised_learning_addition_model_backend:     7797+5-N4         7806        7803E         7803                        -3\n",
      "DEBUG:mathsformer.selfsupervised_learning_addition_model_backend:  N8357-N11+N7        N8353        N8360        N8360                        -7\n",
      "DEBUG:mathsformer.selfsupervised_learning_addition_model_backend: 6686-N437-236         6887        6995E         6995                       108\n",
      "DEBUG:mathsformer.selfsupervised_learning_addition_model_backend:     N5+4442+8         4445        4446E         4446                         1\n",
      "DEBUG:mathsformer.selfsupervised_learning_addition_model_backend:   2123-N1+N68         2056        2055E         2055                        -1\n",
      "DEBUG:mathsformer.selfsupervised_learning_addition_model_backend:   95+4563+879         5537        5556E         5556                        19\n",
      "DEBUG:mathsformer.selfsupervised_learning_addition_model_backend:  1639+N2868+5        N1224        N1224        N1224          X              0\n",
      "DEBUG:mathsformer.selfsupervised_learning_addition_model_backend:      8+N725-3         N720        N728E         N728                        -8\n",
      "DEBUG:mathsformer.selfsupervised_learning_addition_model_backend: N283+N962-N40        N1205        N1282        N1282                       -77\n"
     ]
    },
    {
     "name": "stdout",
     "output_type": "stream",
     "text": [
      "2000/2000 [==============================] - 742s 371ms/step - loss: 0.6382 - masked_categorical_accuracy: 0.7540 - val_loss: 0.9188 - val_masked_categorical_accuracy: 0.6845\n",
      "Epoch 26/100000\n",
      "2000/2000 [==============================] - ETA: 0s - loss: 0.6370 - masked_categorical_accuracy: 0.7557"
     ]
    },
    {
     "name": "stderr",
     "output_type": "stream",
     "text": [
      "DEBUG:mathsformer.selfsupervised_learning_addition_model_backend:Training reached the end of epoch at index 25\n",
      "DEBUG:mathsformer.selfsupervised_learning_addition_model_backend:    with metric loss: 0.63704\n",
      "DEBUG:mathsformer.selfsupervised_learning_addition_model_backend:    with metric masked_categorical_accuracy: 0.75565\n",
      "DEBUG:mathsformer.selfsupervised_learning_addition_model_backend:    with metric val_loss: 0.95741\n",
      "DEBUG:mathsformer.selfsupervised_learning_addition_model_backend:    with metric val_masked_categorical_accuracy: 0.69139\n",
      "DEBUG:mathsformer.selfsupervised_learning_addition_model_backend:Running text --> text mathsformer inference on some training data:\n",
      "DEBUG:mathsformer.selfsupervised_learning_addition_model_backend:---------------------------------------------------------------------------------------\n",
      "DEBUG:mathsformer.selfsupervised_learning_addition_model_backend:                 INPUT         TRUE   PRED(MASK)    PRED(GEN)      CORRECT     RESIDUAL\n",
      "DEBUG:mathsformer.selfsupervised_learning_addition_model_backend:---------------------------------------------------------------------------------------\n",
      "DEBUG:mathsformer.selfsupervised_learning_addition_model_backend:    N8097-N943+N8+5-86        N7243        N7250        N7250                        -7\n",
      "DEBUG:mathsformer.selfsupervised_learning_addition_model_backend:       N9+N4-N2+N943+4         N950        N950E         N950          X              0\n",
      "DEBUG:mathsformer.selfsupervised_learning_addition_model_backend:              476+N792         N316        N316E         N316          X              0\n",
      "DEBUG:mathsformer.selfsupervised_learning_addition_model_backend:     2333-6-N6836+8575        17738        19730        19730                      1992\n",
      "DEBUG:mathsformer.selfsupervised_learning_addition_model_backend:  N6665+617+N57+61+363        N5681        N5700        N5700                       -19\n",
      "DEBUG:mathsformer.selfsupervised_learning_addition_model_backend:     52-N6818+79-N5-N2         6956        6936E         6936                       -20\n",
      "DEBUG:mathsformer.selfsupervised_learning_addition_model_backend:                 N5+77           72        72EEE           72          X              0\n",
      "DEBUG:mathsformer.selfsupervised_learning_addition_model_backend: N379+N752-7+N2992-328        N4458        N4776        N4777                      -319\n",
      "DEBUG:mathsformer.selfsupervised_learning_addition_model_backend:       N7+N9-1+97-7774        N7694        N7790        N7790                       -96\n",
      "DEBUG:mathsformer.selfsupervised_learning_addition_model_backend:              75+N3612        N3537        N3537        N3537          X              0\n",
      "DEBUG:mathsformer.selfsupervised_learning_addition_model_backend:Running text --> text mathsformer inference on some validation data:\n",
      "DEBUG:mathsformer.selfsupervised_learning_addition_model_backend:-------------------------------------------------------------------------------\n",
      "DEBUG:mathsformer.selfsupervised_learning_addition_model_backend:         INPUT         TRUE   PRED(MASK)    PRED(GEN)      CORRECT     RESIDUAL\n",
      "DEBUG:mathsformer.selfsupervised_learning_addition_model_backend:-------------------------------------------------------------------------------\n",
      "DEBUG:mathsformer.selfsupervised_learning_addition_model_backend:  3-N3988+N847         3144        3143E         3143                        -1\n",
      "DEBUG:mathsformer.selfsupervised_learning_addition_model_backend:     7797+5-N4         7806        7807E         7807                         1\n",
      "DEBUG:mathsformer.selfsupervised_learning_addition_model_backend:  N8357-N11+N7        N8353        N8352        N8352                         1\n",
      "DEBUG:mathsformer.selfsupervised_learning_addition_model_backend: 6686-N437-236         6887        6980E         6990                       103\n",
      "DEBUG:mathsformer.selfsupervised_learning_addition_model_backend:     N5+4442+8         4445        4446E         4446                         1\n",
      "DEBUG:mathsformer.selfsupervised_learning_addition_model_backend:   2123-N1+N68         2056        2054E         2054                        -2\n",
      "DEBUG:mathsformer.selfsupervised_learning_addition_model_backend:   95+4563+879         5537        5536E         5536                        -1\n",
      "DEBUG:mathsformer.selfsupervised_learning_addition_model_backend:  1639+N2868+5        N1224        N1223        N1223                         1\n",
      "DEBUG:mathsformer.selfsupervised_learning_addition_model_backend:      8+N725-3         N720        N718E         N718                         2\n",
      "DEBUG:mathsformer.selfsupervised_learning_addition_model_backend: N283+N962-N40        N1205        N1103        N1103                       102\n"
     ]
    },
    {
     "name": "stdout",
     "output_type": "stream",
     "text": [
      "2000/2000 [==============================] - 738s 369ms/step - loss: 0.6370 - masked_categorical_accuracy: 0.7557 - val_loss: 0.9574 - val_masked_categorical_accuracy: 0.6914\n",
      "Epoch 27/100000\n",
      "2000/2000 [==============================] - ETA: 0s - loss: 0.6295 - masked_categorical_accuracy: 0.7592"
     ]
    },
    {
     "name": "stderr",
     "output_type": "stream",
     "text": [
      "DEBUG:mathsformer.selfsupervised_learning_addition_model_backend:Training reached the end of epoch at index 26\n",
      "DEBUG:mathsformer.selfsupervised_learning_addition_model_backend:    with metric loss: 0.62954\n",
      "DEBUG:mathsformer.selfsupervised_learning_addition_model_backend:    with metric masked_categorical_accuracy: 0.7592\n",
      "DEBUG:mathsformer.selfsupervised_learning_addition_model_backend:    with metric val_loss: 0.789\n",
      "DEBUG:mathsformer.selfsupervised_learning_addition_model_backend:    with metric val_masked_categorical_accuracy: 0.70994\n",
      "DEBUG:mathsformer.selfsupervised_learning_addition_model_backend:Running text --> text mathsformer inference on some training data:\n",
      "DEBUG:mathsformer.selfsupervised_learning_addition_model_backend:---------------------------------------------------------------------------------------\n",
      "DEBUG:mathsformer.selfsupervised_learning_addition_model_backend:                 INPUT         TRUE   PRED(MASK)    PRED(GEN)      CORRECT     RESIDUAL\n",
      "DEBUG:mathsformer.selfsupervised_learning_addition_model_backend:---------------------------------------------------------------------------------------\n",
      "DEBUG:mathsformer.selfsupervised_learning_addition_model_backend:    N8097-N943+N8+5-86        N7243        N7246        N7246                        -3\n",
      "DEBUG:mathsformer.selfsupervised_learning_addition_model_backend:       N9+N4-N2+N943+4         N950        N946E         N946                         4\n",
      "DEBUG:mathsformer.selfsupervised_learning_addition_model_backend:              476+N792         N316        N316E         N316          X              0\n",
      "DEBUG:mathsformer.selfsupervised_learning_addition_model_backend:     2333-6-N6836+8575        17738        19646        19646                      1908\n",
      "DEBUG:mathsformer.selfsupervised_learning_addition_model_backend:  N6665+617+N57+61+363        N5681        N5766        N5766                       -85\n",
      "DEBUG:mathsformer.selfsupervised_learning_addition_model_backend:     52-N6818+79-N5-N2         6956        6946E         6946                       -10\n",
      "DEBUG:mathsformer.selfsupervised_learning_addition_model_backend:                 N5+77           72        72EEE           72          X              0\n",
      "DEBUG:mathsformer.selfsupervised_learning_addition_model_backend: N379+N752-7+N2992-328        N4458        N4966        N4906                      -448\n",
      "DEBUG:mathsformer.selfsupervised_learning_addition_model_backend:       N7+N9-1+97-7774        N7694        N7696        N7696                        -2\n",
      "DEBUG:mathsformer.selfsupervised_learning_addition_model_backend:              75+N3612        N3537        N3537        N3537          X              0\n",
      "DEBUG:mathsformer.selfsupervised_learning_addition_model_backend:Running text --> text mathsformer inference on some validation data:\n",
      "DEBUG:mathsformer.selfsupervised_learning_addition_model_backend:-------------------------------------------------------------------------------\n",
      "DEBUG:mathsformer.selfsupervised_learning_addition_model_backend:         INPUT         TRUE   PRED(MASK)    PRED(GEN)      CORRECT     RESIDUAL\n",
      "DEBUG:mathsformer.selfsupervised_learning_addition_model_backend:-------------------------------------------------------------------------------\n",
      "DEBUG:mathsformer.selfsupervised_learning_addition_model_backend:  3-N3988+N847         3144        3141E         3141                        -3\n",
      "DEBUG:mathsformer.selfsupervised_learning_addition_model_backend:     7797+5-N4         7806        7804E         7804                        -2\n",
      "DEBUG:mathsformer.selfsupervised_learning_addition_model_backend:  N8357-N11+N7        N8353        N8351        N8351                         2\n",
      "DEBUG:mathsformer.selfsupervised_learning_addition_model_backend: 6686-N437-236         6887        6986E         6986                        99\n",
      "DEBUG:mathsformer.selfsupervised_learning_addition_model_backend:     N5+4442+8         4445        4446E         4446                         1\n",
      "DEBUG:mathsformer.selfsupervised_learning_addition_model_backend:   2123-N1+N68         2056        2055E         2055                        -1\n",
      "DEBUG:mathsformer.selfsupervised_learning_addition_model_backend:   95+4563+879         5537        5566E         5566                        29\n",
      "DEBUG:mathsformer.selfsupervised_learning_addition_model_backend:  1639+N2868+5        N1224        N1226        N1226                        -2\n",
      "DEBUG:mathsformer.selfsupervised_learning_addition_model_backend:      8+N725-3         N720        N729E         N729                        -9\n",
      "DEBUG:mathsformer.selfsupervised_learning_addition_model_backend: N283+N962-N40        N1205        N1202        N1202                         3\n"
     ]
    },
    {
     "name": "stdout",
     "output_type": "stream",
     "text": [
      "2000/2000 [==============================] - 731s 365ms/step - loss: 0.6295 - masked_categorical_accuracy: 0.7592 - val_loss: 0.7890 - val_masked_categorical_accuracy: 0.7099\n",
      "Epoch 28/100000\n",
      "2000/2000 [==============================] - ETA: 0s - loss: 0.6164 - masked_categorical_accuracy: 0.7627"
     ]
    },
    {
     "name": "stderr",
     "output_type": "stream",
     "text": [
      "DEBUG:mathsformer.selfsupervised_learning_addition_model_backend:Training reached the end of epoch at index 27\n",
      "DEBUG:mathsformer.selfsupervised_learning_addition_model_backend:    with metric loss: 0.6164\n",
      "DEBUG:mathsformer.selfsupervised_learning_addition_model_backend:    with metric masked_categorical_accuracy: 0.76271\n",
      "DEBUG:mathsformer.selfsupervised_learning_addition_model_backend:    with metric val_loss: 0.78096\n",
      "DEBUG:mathsformer.selfsupervised_learning_addition_model_backend:    with metric val_masked_categorical_accuracy: 0.71799\n",
      "DEBUG:mathsformer.selfsupervised_learning_addition_model_backend:Running text --> text mathsformer inference on some training data:\n",
      "DEBUG:mathsformer.selfsupervised_learning_addition_model_backend:---------------------------------------------------------------------------------------\n",
      "DEBUG:mathsformer.selfsupervised_learning_addition_model_backend:                 INPUT         TRUE   PRED(MASK)    PRED(GEN)      CORRECT     RESIDUAL\n",
      "DEBUG:mathsformer.selfsupervised_learning_addition_model_backend:---------------------------------------------------------------------------------------\n",
      "DEBUG:mathsformer.selfsupervised_learning_addition_model_backend:    N8097-N943+N8+5-86        N7243        N7257        N7257                       -14\n",
      "DEBUG:mathsformer.selfsupervised_learning_addition_model_backend:       N9+N4-N2+N943+4         N950        N957E         N957                        -7\n",
      "DEBUG:mathsformer.selfsupervised_learning_addition_model_backend:              476+N792         N316        N316E         N316          X              0\n",
      "DEBUG:mathsformer.selfsupervised_learning_addition_model_backend:     2333-6-N6836+8575        17738        18847        18847                      1109\n",
      "DEBUG:mathsformer.selfsupervised_learning_addition_model_backend:  N6665+617+N57+61+363        N5681        N5887        N5887                      -206\n",
      "DEBUG:mathsformer.selfsupervised_learning_addition_model_backend:     52-N6818+79-N5-N2         6956        6937E         6937                       -19\n",
      "DEBUG:mathsformer.selfsupervised_learning_addition_model_backend:                 N5+77           72        72EEE           72          X              0\n",
      "DEBUG:mathsformer.selfsupervised_learning_addition_model_backend: N379+N752-7+N2992-328        N4458        N4207        N4207                       251\n",
      "DEBUG:mathsformer.selfsupervised_learning_addition_model_backend:       N7+N9-1+97-7774        N7694        N7697        N7697                        -3\n",
      "DEBUG:mathsformer.selfsupervised_learning_addition_model_backend:              75+N3612        N3537        N3537        N3537          X              0\n",
      "DEBUG:mathsformer.selfsupervised_learning_addition_model_backend:Running text --> text mathsformer inference on some validation data:\n",
      "DEBUG:mathsformer.selfsupervised_learning_addition_model_backend:-------------------------------------------------------------------------------\n",
      "DEBUG:mathsformer.selfsupervised_learning_addition_model_backend:         INPUT         TRUE   PRED(MASK)    PRED(GEN)      CORRECT     RESIDUAL\n",
      "DEBUG:mathsformer.selfsupervised_learning_addition_model_backend:-------------------------------------------------------------------------------\n",
      "DEBUG:mathsformer.selfsupervised_learning_addition_model_backend:  3-N3988+N847         3144        3148E         3148                         4\n",
      "DEBUG:mathsformer.selfsupervised_learning_addition_model_backend:     7797+5-N4         7806        7709E         7709                       -97\n",
      "DEBUG:mathsformer.selfsupervised_learning_addition_model_backend:  N8357-N11+N7        N8353        N8351        N8351                         2\n",
      "DEBUG:mathsformer.selfsupervised_learning_addition_model_backend: 6686-N437-236         6887        6887E         6887          X              0\n",
      "DEBUG:mathsformer.selfsupervised_learning_addition_model_backend:     N5+4442+8         4445        4444E         4444                        -1\n",
      "DEBUG:mathsformer.selfsupervised_learning_addition_model_backend:   2123-N1+N68         2056        2055E         2055                        -1\n",
      "DEBUG:mathsformer.selfsupervised_learning_addition_model_backend:   95+4563+879         5537        5537E         5537          X              0\n",
      "DEBUG:mathsformer.selfsupervised_learning_addition_model_backend:  1639+N2868+5        N1224        N1227        N1227                        -3\n",
      "DEBUG:mathsformer.selfsupervised_learning_addition_model_backend:      8+N725-3         N720        N729E         N729                        -9\n",
      "DEBUG:mathsformer.selfsupervised_learning_addition_model_backend: N283+N962-N40        N1205        N1202        N1202                         3\n"
     ]
    },
    {
     "name": "stdout",
     "output_type": "stream",
     "text": [
      "2000/2000 [==============================] - 722s 361ms/step - loss: 0.6164 - masked_categorical_accuracy: 0.7627 - val_loss: 0.7810 - val_masked_categorical_accuracy: 0.7180\n",
      "Epoch 29/100000\n",
      "2000/2000 [==============================] - ETA: 0s - loss: 0.6062 - masked_categorical_accuracy: 0.7672"
     ]
    },
    {
     "name": "stderr",
     "output_type": "stream",
     "text": [
      "DEBUG:mathsformer.selfsupervised_learning_addition_model_backend:Training reached the end of epoch at index 28\n",
      "DEBUG:mathsformer.selfsupervised_learning_addition_model_backend:    with metric loss: 0.60622\n",
      "DEBUG:mathsformer.selfsupervised_learning_addition_model_backend:    with metric masked_categorical_accuracy: 0.76722\n",
      "DEBUG:mathsformer.selfsupervised_learning_addition_model_backend:    with metric val_loss: 0.77865\n",
      "DEBUG:mathsformer.selfsupervised_learning_addition_model_backend:    with metric val_masked_categorical_accuracy: 0.71703\n",
      "DEBUG:mathsformer.selfsupervised_learning_addition_model_backend:Running text --> text mathsformer inference on some training data:\n",
      "DEBUG:mathsformer.selfsupervised_learning_addition_model_backend:---------------------------------------------------------------------------------------\n",
      "DEBUG:mathsformer.selfsupervised_learning_addition_model_backend:                 INPUT         TRUE   PRED(MASK)    PRED(GEN)      CORRECT     RESIDUAL\n",
      "DEBUG:mathsformer.selfsupervised_learning_addition_model_backend:---------------------------------------------------------------------------------------\n",
      "DEBUG:mathsformer.selfsupervised_learning_addition_model_backend:    N8097-N943+N8+5-86        N7243        N7244        N7244                        -1\n",
      "DEBUG:mathsformer.selfsupervised_learning_addition_model_backend:       N9+N4-N2+N943+4         N950        N951E         N951                        -1\n",
      "DEBUG:mathsformer.selfsupervised_learning_addition_model_backend:              476+N792         N316        N316E         N316          X              0\n",
      "DEBUG:mathsformer.selfsupervised_learning_addition_model_backend:     2333-6-N6836+8575        17738        18643        18643                       905\n",
      "DEBUG:mathsformer.selfsupervised_learning_addition_model_backend:  N6665+617+N57+61+363        N5681        N5614        N5614                        67\n",
      "DEBUG:mathsformer.selfsupervised_learning_addition_model_backend:     52-N6818+79-N5-N2         6956        7931E         7931                       975\n",
      "DEBUG:mathsformer.selfsupervised_learning_addition_model_backend:                 N5+77           72        72EEE           72          X              0\n",
      "DEBUG:mathsformer.selfsupervised_learning_addition_model_backend: N379+N752-7+N2992-328        N4458        N4919        N4919                      -461\n",
      "DEBUG:mathsformer.selfsupervised_learning_addition_model_backend:       N7+N9-1+97-7774        N7694        N7694        N7694          X              0\n",
      "DEBUG:mathsformer.selfsupervised_learning_addition_model_backend:              75+N3612        N3537        N3537        N3537          X              0\n",
      "DEBUG:mathsformer.selfsupervised_learning_addition_model_backend:Running text --> text mathsformer inference on some validation data:\n",
      "DEBUG:mathsformer.selfsupervised_learning_addition_model_backend:-------------------------------------------------------------------------------\n",
      "DEBUG:mathsformer.selfsupervised_learning_addition_model_backend:         INPUT         TRUE   PRED(MASK)    PRED(GEN)      CORRECT     RESIDUAL\n",
      "DEBUG:mathsformer.selfsupervised_learning_addition_model_backend:-------------------------------------------------------------------------------\n",
      "DEBUG:mathsformer.selfsupervised_learning_addition_model_backend:  3-N3988+N847         3144        3144E         3144          X              0\n",
      "DEBUG:mathsformer.selfsupervised_learning_addition_model_backend:     7797+5-N4         7806        7808E         7808                         2\n",
      "DEBUG:mathsformer.selfsupervised_learning_addition_model_backend:  N8357-N11+N7        N8353        N8352        N8352                         1\n",
      "DEBUG:mathsformer.selfsupervised_learning_addition_model_backend: 6686-N437-236         6887        6885E         6885                        -2\n",
      "DEBUG:mathsformer.selfsupervised_learning_addition_model_backend:     N5+4442+8         4445        4447E         4447                         2\n",
      "DEBUG:mathsformer.selfsupervised_learning_addition_model_backend:   2123-N1+N68         2056        2055E         2055                        -1\n",
      "DEBUG:mathsformer.selfsupervised_learning_addition_model_backend:   95+4563+879         5537        5539E         5539                         2\n",
      "DEBUG:mathsformer.selfsupervised_learning_addition_model_backend:  1639+N2868+5        N1224        N1224        N1224          X              0\n",
      "DEBUG:mathsformer.selfsupervised_learning_addition_model_backend:      8+N725-3         N720        N729E         N729                        -9\n",
      "DEBUG:mathsformer.selfsupervised_learning_addition_model_backend: N283+N962-N40        N1205        N1202        N1202                         3\n"
     ]
    },
    {
     "name": "stdout",
     "output_type": "stream",
     "text": [
      "2000/2000 [==============================] - 718s 359ms/step - loss: 0.6062 - masked_categorical_accuracy: 0.7672 - val_loss: 0.7786 - val_masked_categorical_accuracy: 0.7170\n",
      "Epoch 30/100000\n",
      "2000/2000 [==============================] - ETA: 0s - loss: 0.5989 - masked_categorical_accuracy: 0.7698"
     ]
    },
    {
     "name": "stderr",
     "output_type": "stream",
     "text": [
      "DEBUG:mathsformer.selfsupervised_learning_addition_model_backend:Training reached the end of epoch at index 29\n",
      "DEBUG:mathsformer.selfsupervised_learning_addition_model_backend:    with metric loss: 0.59895\n",
      "DEBUG:mathsformer.selfsupervised_learning_addition_model_backend:    with metric masked_categorical_accuracy: 0.76979\n",
      "DEBUG:mathsformer.selfsupervised_learning_addition_model_backend:    with metric val_loss: 0.73082\n",
      "DEBUG:mathsformer.selfsupervised_learning_addition_model_backend:    with metric val_masked_categorical_accuracy: 0.72284\n",
      "DEBUG:mathsformer.selfsupervised_learning_addition_model_backend:Running text --> text mathsformer inference on some training data:\n",
      "DEBUG:mathsformer.selfsupervised_learning_addition_model_backend:---------------------------------------------------------------------------------------\n",
      "DEBUG:mathsformer.selfsupervised_learning_addition_model_backend:                 INPUT         TRUE   PRED(MASK)    PRED(GEN)      CORRECT     RESIDUAL\n",
      "DEBUG:mathsformer.selfsupervised_learning_addition_model_backend:---------------------------------------------------------------------------------------\n",
      "DEBUG:mathsformer.selfsupervised_learning_addition_model_backend:    N8097-N943+N8+5-86        N7243        N7244        N7244                        -1\n",
      "DEBUG:mathsformer.selfsupervised_learning_addition_model_backend:       N9+N4-N2+N943+4         N950        N950E         N950          X              0\n",
      "DEBUG:mathsformer.selfsupervised_learning_addition_model_backend:              476+N792         N316        N316E         N316          X              0\n",
      "DEBUG:mathsformer.selfsupervised_learning_addition_model_backend:     2333-6-N6836+8575        17738        18856        18856                      1118\n",
      "DEBUG:mathsformer.selfsupervised_learning_addition_model_backend:  N6665+617+N57+61+363        N5681        N5700        N5700                       -19\n",
      "DEBUG:mathsformer.selfsupervised_learning_addition_model_backend:     52-N6818+79-N5-N2         6956        6960E         6960                         4\n",
      "DEBUG:mathsformer.selfsupervised_learning_addition_model_backend:                 N5+77           72        72EEE           72          X              0\n",
      "DEBUG:mathsformer.selfsupervised_learning_addition_model_backend: N379+N752-7+N2992-328        N4458        N4190        N4190                       268\n",
      "DEBUG:mathsformer.selfsupervised_learning_addition_model_backend:       N7+N9-1+97-7774        N7694        N7694        N7694          X              0\n",
      "DEBUG:mathsformer.selfsupervised_learning_addition_model_backend:              75+N3612        N3537        N3538        N3538                        -1\n",
      "DEBUG:mathsformer.selfsupervised_learning_addition_model_backend:Running text --> text mathsformer inference on some validation data:\n",
      "DEBUG:mathsformer.selfsupervised_learning_addition_model_backend:-------------------------------------------------------------------------------\n",
      "DEBUG:mathsformer.selfsupervised_learning_addition_model_backend:         INPUT         TRUE   PRED(MASK)    PRED(GEN)      CORRECT     RESIDUAL\n",
      "DEBUG:mathsformer.selfsupervised_learning_addition_model_backend:-------------------------------------------------------------------------------\n",
      "DEBUG:mathsformer.selfsupervised_learning_addition_model_backend:  3-N3988+N847         3144        3143E         3143                        -1\n",
      "DEBUG:mathsformer.selfsupervised_learning_addition_model_backend:     7797+5-N4         7806        7806E         7806          X              0\n",
      "DEBUG:mathsformer.selfsupervised_learning_addition_model_backend:  N8357-N11+N7        N8353        N8343        N8343                        10\n",
      "DEBUG:mathsformer.selfsupervised_learning_addition_model_backend: 6686-N437-236         6887        7986E         7986                      1099\n",
      "DEBUG:mathsformer.selfsupervised_learning_addition_model_backend:     N5+4442+8         4445        4446E         4446                         1\n",
      "DEBUG:mathsformer.selfsupervised_learning_addition_model_backend:   2123-N1+N68         2056        2055E         2055                        -1\n",
      "DEBUG:mathsformer.selfsupervised_learning_addition_model_backend:   95+4563+879         5537        5546E         5546                         9\n",
      "DEBUG:mathsformer.selfsupervised_learning_addition_model_backend:  1639+N2868+5        N1224        N1224        N1224          X              0\n",
      "DEBUG:mathsformer.selfsupervised_learning_addition_model_backend:      8+N725-3         N720        N729E         N729                        -9\n",
      "DEBUG:mathsformer.selfsupervised_learning_addition_model_backend: N283+N962-N40        N1205        N1203        N1203                         2\n"
     ]
    },
    {
     "name": "stdout",
     "output_type": "stream",
     "text": [
      "2000/2000 [==============================] - 721s 360ms/step - loss: 0.5989 - masked_categorical_accuracy: 0.7698 - val_loss: 0.7308 - val_masked_categorical_accuracy: 0.7228\n",
      "Epoch 31/100000\n",
      "2000/2000 [==============================] - ETA: 0s - loss: 0.5890 - masked_categorical_accuracy: 0.7736"
     ]
    },
    {
     "name": "stderr",
     "output_type": "stream",
     "text": [
      "DEBUG:mathsformer.selfsupervised_learning_addition_model_backend:Training reached the end of epoch at index 30\n",
      "DEBUG:mathsformer.selfsupervised_learning_addition_model_backend:    with metric loss: 0.58903\n",
      "DEBUG:mathsformer.selfsupervised_learning_addition_model_backend:    with metric masked_categorical_accuracy: 0.77355\n",
      "DEBUG:mathsformer.selfsupervised_learning_addition_model_backend:    with metric val_loss: 0.67633\n",
      "DEBUG:mathsformer.selfsupervised_learning_addition_model_backend:    with metric val_masked_categorical_accuracy: 0.74415\n",
      "DEBUG:mathsformer.selfsupervised_learning_addition_model_backend:Running text --> text mathsformer inference on some training data:\n",
      "DEBUG:mathsformer.selfsupervised_learning_addition_model_backend:---------------------------------------------------------------------------------------\n",
      "DEBUG:mathsformer.selfsupervised_learning_addition_model_backend:                 INPUT         TRUE   PRED(MASK)    PRED(GEN)      CORRECT     RESIDUAL\n",
      "DEBUG:mathsformer.selfsupervised_learning_addition_model_backend:---------------------------------------------------------------------------------------\n",
      "DEBUG:mathsformer.selfsupervised_learning_addition_model_backend:    N8097-N943+N8+5-86        N7243        N7242        N7242                         1\n",
      "DEBUG:mathsformer.selfsupervised_learning_addition_model_backend:       N9+N4-N2+N943+4         N950        N959E         N959                        -9\n",
      "DEBUG:mathsformer.selfsupervised_learning_addition_model_backend:              476+N792         N316        N316E         N316          X              0\n",
      "DEBUG:mathsformer.selfsupervised_learning_addition_model_backend:     2333-6-N6836+8575        17738        18856        18856                      1118\n",
      "DEBUG:mathsformer.selfsupervised_learning_addition_model_backend:  N6665+617+N57+61+363        N5681        N5666        N5666                        15\n",
      "DEBUG:mathsformer.selfsupervised_learning_addition_model_backend:     52-N6818+79-N5-N2         6956        6966E         6966                        10\n",
      "DEBUG:mathsformer.selfsupervised_learning_addition_model_backend:                 N5+77           72        72EEE           72          X              0\n",
      "DEBUG:mathsformer.selfsupervised_learning_addition_model_backend: N379+N752-7+N2992-328        N4458        N3166        N3166                      1292\n",
      "DEBUG:mathsformer.selfsupervised_learning_addition_model_backend:       N7+N9-1+97-7774        N7694        N7692        N7692                         2\n",
      "DEBUG:mathsformer.selfsupervised_learning_addition_model_backend:              75+N3612        N3537        N3537        N3537          X              0\n",
      "DEBUG:mathsformer.selfsupervised_learning_addition_model_backend:Running text --> text mathsformer inference on some validation data:\n",
      "DEBUG:mathsformer.selfsupervised_learning_addition_model_backend:-------------------------------------------------------------------------------\n",
      "DEBUG:mathsformer.selfsupervised_learning_addition_model_backend:         INPUT         TRUE   PRED(MASK)    PRED(GEN)      CORRECT     RESIDUAL\n",
      "DEBUG:mathsformer.selfsupervised_learning_addition_model_backend:-------------------------------------------------------------------------------\n",
      "DEBUG:mathsformer.selfsupervised_learning_addition_model_backend:  3-N3988+N847         3144        3146E         3146                         2\n",
      "DEBUG:mathsformer.selfsupervised_learning_addition_model_backend:     7797+5-N4         7806        7809E         7809                         3\n",
      "DEBUG:mathsformer.selfsupervised_learning_addition_model_backend:  N8357-N11+N7        N8353        N8353        N8353          X              0\n",
      "DEBUG:mathsformer.selfsupervised_learning_addition_model_backend: 6686-N437-236         6887        6987E         6987                       100\n",
      "DEBUG:mathsformer.selfsupervised_learning_addition_model_backend:     N5+4442+8         4445        4444E         4444                        -1\n",
      "DEBUG:mathsformer.selfsupervised_learning_addition_model_backend:   2123-N1+N68         2056        2055E         2055                        -1\n",
      "DEBUG:mathsformer.selfsupervised_learning_addition_model_backend:   95+4563+879         5537        5536E         5536                        -1\n",
      "DEBUG:mathsformer.selfsupervised_learning_addition_model_backend:  1639+N2868+5        N1224        N1224        N1224          X              0\n",
      "DEBUG:mathsformer.selfsupervised_learning_addition_model_backend:      8+N725-3         N720        N719E         N719                         1\n",
      "DEBUG:mathsformer.selfsupervised_learning_addition_model_backend: N283+N962-N40        N1205        N1202        N1202                         3\n"
     ]
    },
    {
     "name": "stdout",
     "output_type": "stream",
     "text": [
      "2000/2000 [==============================] - 733s 366ms/step - loss: 0.5890 - masked_categorical_accuracy: 0.7736 - val_loss: 0.6763 - val_masked_categorical_accuracy: 0.7442\n",
      "Epoch 32/100000\n",
      "2000/2000 [==============================] - ETA: 0s - loss: 0.5715 - masked_categorical_accuracy: 0.7792"
     ]
    },
    {
     "name": "stderr",
     "output_type": "stream",
     "text": [
      "DEBUG:mathsformer.selfsupervised_learning_addition_model_backend:Training reached the end of epoch at index 31\n",
      "DEBUG:mathsformer.selfsupervised_learning_addition_model_backend:    with metric loss: 0.57151\n",
      "DEBUG:mathsformer.selfsupervised_learning_addition_model_backend:    with metric masked_categorical_accuracy: 0.77918\n",
      "DEBUG:mathsformer.selfsupervised_learning_addition_model_backend:    with metric val_loss: 0.67638\n",
      "DEBUG:mathsformer.selfsupervised_learning_addition_model_backend:    with metric val_masked_categorical_accuracy: 0.74122\n",
      "DEBUG:mathsformer.selfsupervised_learning_addition_model_backend:Running text --> text mathsformer inference on some training data:\n",
      "DEBUG:mathsformer.selfsupervised_learning_addition_model_backend:---------------------------------------------------------------------------------------\n",
      "DEBUG:mathsformer.selfsupervised_learning_addition_model_backend:                 INPUT         TRUE   PRED(MASK)    PRED(GEN)      CORRECT     RESIDUAL\n",
      "DEBUG:mathsformer.selfsupervised_learning_addition_model_backend:---------------------------------------------------------------------------------------\n",
      "DEBUG:mathsformer.selfsupervised_learning_addition_model_backend:    N8097-N943+N8+5-86        N7243        N7249        N7249                        -6\n",
      "DEBUG:mathsformer.selfsupervised_learning_addition_model_backend:       N9+N4-N2+N943+4         N950        N949E         N949                         1\n",
      "DEBUG:mathsformer.selfsupervised_learning_addition_model_backend:              476+N792         N316        N316E         N316          X              0\n",
      "DEBUG:mathsformer.selfsupervised_learning_addition_model_backend:     2333-6-N6836+8575        17738        18846        18846                      1108\n",
      "DEBUG:mathsformer.selfsupervised_learning_addition_model_backend:  N6665+617+N57+61+363        N5681        N5666        N5666                        15\n",
      "DEBUG:mathsformer.selfsupervised_learning_addition_model_backend:     52-N6818+79-N5-N2         6956        6956E         6956          X              0\n",
      "DEBUG:mathsformer.selfsupervised_learning_addition_model_backend:                 N5+77           72        72EEE           72          X              0\n",
      "DEBUG:mathsformer.selfsupervised_learning_addition_model_backend: N379+N752-7+N2992-328        N4458        N4259        N4259                       199\n",
      "DEBUG:mathsformer.selfsupervised_learning_addition_model_backend:       N7+N9-1+97-7774        N7694        N7699        N7699                        -5\n",
      "DEBUG:mathsformer.selfsupervised_learning_addition_model_backend:              75+N3612        N3537        N3537        N3537          X              0\n",
      "DEBUG:mathsformer.selfsupervised_learning_addition_model_backend:Running text --> text mathsformer inference on some validation data:\n",
      "DEBUG:mathsformer.selfsupervised_learning_addition_model_backend:-------------------------------------------------------------------------------\n",
      "DEBUG:mathsformer.selfsupervised_learning_addition_model_backend:         INPUT         TRUE   PRED(MASK)    PRED(GEN)      CORRECT     RESIDUAL\n",
      "DEBUG:mathsformer.selfsupervised_learning_addition_model_backend:-------------------------------------------------------------------------------\n",
      "DEBUG:mathsformer.selfsupervised_learning_addition_model_backend:  3-N3988+N847         3144        3144E         3144          X              0\n",
      "DEBUG:mathsformer.selfsupervised_learning_addition_model_backend:     7797+5-N4         7806        7808E         7808                         2\n",
      "DEBUG:mathsformer.selfsupervised_learning_addition_model_backend:  N8357-N11+N7        N8353        N8342        N8342                        11\n",
      "DEBUG:mathsformer.selfsupervised_learning_addition_model_backend: 6686-N437-236         6887        6998E         6998                       111\n",
      "DEBUG:mathsformer.selfsupervised_learning_addition_model_backend:     N5+4442+8         4445        4446E         4446                         1\n",
      "DEBUG:mathsformer.selfsupervised_learning_addition_model_backend:   2123-N1+N68         2056        2055E         2055                        -1\n",
      "DEBUG:mathsformer.selfsupervised_learning_addition_model_backend:   95+4563+879         5537        5436E         5436                      -101\n",
      "DEBUG:mathsformer.selfsupervised_learning_addition_model_backend:  1639+N2868+5        N1224        N1226        N1226                        -2\n",
      "DEBUG:mathsformer.selfsupervised_learning_addition_model_backend:      8+N725-3         N720        N719E         N719                         1\n",
      "DEBUG:mathsformer.selfsupervised_learning_addition_model_backend: N283+N962-N40        N1205        N1203        N1203                         2\n"
     ]
    },
    {
     "name": "stdout",
     "output_type": "stream",
     "text": [
      "2000/2000 [==============================] - 737s 368ms/step - loss: 0.5715 - masked_categorical_accuracy: 0.7792 - val_loss: 0.6764 - val_masked_categorical_accuracy: 0.7412\n",
      "Epoch 33/100000\n",
      "2000/2000 [==============================] - ETA: 0s - loss: 0.5622 - masked_categorical_accuracy: 0.7830"
     ]
    },
    {
     "name": "stderr",
     "output_type": "stream",
     "text": [
      "DEBUG:mathsformer.selfsupervised_learning_addition_model_backend:Training reached the end of epoch at index 32\n",
      "DEBUG:mathsformer.selfsupervised_learning_addition_model_backend:    with metric loss: 0.56221\n",
      "DEBUG:mathsformer.selfsupervised_learning_addition_model_backend:    with metric masked_categorical_accuracy: 0.78303\n",
      "DEBUG:mathsformer.selfsupervised_learning_addition_model_backend:    with metric val_loss: 0.66145\n",
      "DEBUG:mathsformer.selfsupervised_learning_addition_model_backend:    with metric val_masked_categorical_accuracy: 0.75458\n",
      "DEBUG:mathsformer.selfsupervised_learning_addition_model_backend:Running text --> text mathsformer inference on some training data:\n",
      "DEBUG:mathsformer.selfsupervised_learning_addition_model_backend:---------------------------------------------------------------------------------------\n",
      "DEBUG:mathsformer.selfsupervised_learning_addition_model_backend:                 INPUT         TRUE   PRED(MASK)    PRED(GEN)      CORRECT     RESIDUAL\n",
      "DEBUG:mathsformer.selfsupervised_learning_addition_model_backend:---------------------------------------------------------------------------------------\n",
      "DEBUG:mathsformer.selfsupervised_learning_addition_model_backend:    N8097-N943+N8+5-86        N7243        N7241        N7241                         2\n",
      "DEBUG:mathsformer.selfsupervised_learning_addition_model_backend:       N9+N4-N2+N943+4         N950        N959E         N959                        -9\n",
      "DEBUG:mathsformer.selfsupervised_learning_addition_model_backend:              476+N792         N316        N316E         N316          X              0\n",
      "DEBUG:mathsformer.selfsupervised_learning_addition_model_backend:     2333-6-N6836+8575        17738        28841        28841                     11103\n",
      "DEBUG:mathsformer.selfsupervised_learning_addition_model_backend:  N6665+617+N57+61+363        N5681        N5799        N5799                      -118\n",
      "DEBUG:mathsformer.selfsupervised_learning_addition_model_backend:     52-N6818+79-N5-N2         6956        7951E         7951                       995\n",
      "DEBUG:mathsformer.selfsupervised_learning_addition_model_backend:                 N5+77           72        72EEE           72          X              0\n",
      "DEBUG:mathsformer.selfsupervised_learning_addition_model_backend: N379+N752-7+N2992-328        N4458        N4291        N4291                       167\n",
      "DEBUG:mathsformer.selfsupervised_learning_addition_model_backend:       N7+N9-1+97-7774        N7694        N7695        N7695                        -1\n",
      "DEBUG:mathsformer.selfsupervised_learning_addition_model_backend:              75+N3612        N3537        N3537        N3537          X              0\n",
      "DEBUG:mathsformer.selfsupervised_learning_addition_model_backend:Running text --> text mathsformer inference on some validation data:\n",
      "DEBUG:mathsformer.selfsupervised_learning_addition_model_backend:-------------------------------------------------------------------------------\n",
      "DEBUG:mathsformer.selfsupervised_learning_addition_model_backend:         INPUT         TRUE   PRED(MASK)    PRED(GEN)      CORRECT     RESIDUAL\n",
      "DEBUG:mathsformer.selfsupervised_learning_addition_model_backend:-------------------------------------------------------------------------------\n",
      "DEBUG:mathsformer.selfsupervised_learning_addition_model_backend:  3-N3988+N847         3144        3145E         3145                         1\n",
      "DEBUG:mathsformer.selfsupervised_learning_addition_model_backend:     7797+5-N4         7806        7808E         7808                         2\n",
      "DEBUG:mathsformer.selfsupervised_learning_addition_model_backend:  N8357-N11+N7        N8353        N8352        N8352                         1\n",
      "DEBUG:mathsformer.selfsupervised_learning_addition_model_backend: 6686-N437-236         6887        6998E         6998                       111\n",
      "DEBUG:mathsformer.selfsupervised_learning_addition_model_backend:     N5+4442+8         4445        4446E         4446                         1\n",
      "DEBUG:mathsformer.selfsupervised_learning_addition_model_backend:   2123-N1+N68         2056        2055E         2055                        -1\n",
      "DEBUG:mathsformer.selfsupervised_learning_addition_model_backend:   95+4563+879         5537        6548E         6548                      1011\n",
      "DEBUG:mathsformer.selfsupervised_learning_addition_model_backend:  1639+N2868+5        N1224        N1225        N1225                        -1\n",
      "DEBUG:mathsformer.selfsupervised_learning_addition_model_backend:      8+N725-3         N720        N719E         N719                         1\n",
      "DEBUG:mathsformer.selfsupervised_learning_addition_model_backend: N283+N962-N40        N1205        N1204        N1204                         1\n"
     ]
    },
    {
     "name": "stdout",
     "output_type": "stream",
     "text": [
      "2000/2000 [==============================] - 737s 369ms/step - loss: 0.5622 - masked_categorical_accuracy: 0.7830 - val_loss: 0.6615 - val_masked_categorical_accuracy: 0.7546\n",
      "Epoch 34/100000\n",
      "2000/2000 [==============================] - ETA: 0s - loss: 0.5560 - masked_categorical_accuracy: 0.7857"
     ]
    },
    {
     "name": "stderr",
     "output_type": "stream",
     "text": [
      "DEBUG:mathsformer.selfsupervised_learning_addition_model_backend:Training reached the end of epoch at index 33\n",
      "DEBUG:mathsformer.selfsupervised_learning_addition_model_backend:    with metric loss: 0.55604\n",
      "DEBUG:mathsformer.selfsupervised_learning_addition_model_backend:    with metric masked_categorical_accuracy: 0.78574\n",
      "DEBUG:mathsformer.selfsupervised_learning_addition_model_backend:    with metric val_loss: 0.5771\n",
      "DEBUG:mathsformer.selfsupervised_learning_addition_model_backend:    with metric val_masked_categorical_accuracy: 0.78056\n",
      "DEBUG:mathsformer.selfsupervised_learning_addition_model_backend:Running text --> text mathsformer inference on some training data:\n",
      "DEBUG:mathsformer.selfsupervised_learning_addition_model_backend:---------------------------------------------------------------------------------------\n",
      "DEBUG:mathsformer.selfsupervised_learning_addition_model_backend:                 INPUT         TRUE   PRED(MASK)    PRED(GEN)      CORRECT     RESIDUAL\n",
      "DEBUG:mathsformer.selfsupervised_learning_addition_model_backend:---------------------------------------------------------------------------------------\n",
      "DEBUG:mathsformer.selfsupervised_learning_addition_model_backend:    N8097-N943+N8+5-86        N7243        N7242        N7242                         1\n",
      "DEBUG:mathsformer.selfsupervised_learning_addition_model_backend:       N9+N4-N2+N943+4         N950        N950E         N950          X              0\n",
      "DEBUG:mathsformer.selfsupervised_learning_addition_model_backend:              476+N792         N316        N316E         N316          X              0\n",
      "DEBUG:mathsformer.selfsupervised_learning_addition_model_backend:     2333-6-N6836+8575        17738        17830        17830                        92\n",
      "DEBUG:mathsformer.selfsupervised_learning_addition_model_backend:  N6665+617+N57+61+363        N5681        N5570        N5570                       111\n",
      "DEBUG:mathsformer.selfsupervised_learning_addition_model_backend:     52-N6818+79-N5-N2         6956        6953E         6953                        -3\n",
      "DEBUG:mathsformer.selfsupervised_learning_addition_model_backend:                 N5+77           72        72EEE           72          X              0\n",
      "DEBUG:mathsformer.selfsupervised_learning_addition_model_backend: N379+N752-7+N2992-328        N4458        N4238        N4238                       220\n",
      "DEBUG:mathsformer.selfsupervised_learning_addition_model_backend:       N7+N9-1+97-7774        N7694        N7692        N7692                         2\n",
      "DEBUG:mathsformer.selfsupervised_learning_addition_model_backend:              75+N3612        N3537        N3537        N3537          X              0\n",
      "DEBUG:mathsformer.selfsupervised_learning_addition_model_backend:Running text --> text mathsformer inference on some validation data:\n",
      "DEBUG:mathsformer.selfsupervised_learning_addition_model_backend:-------------------------------------------------------------------------------\n",
      "DEBUG:mathsformer.selfsupervised_learning_addition_model_backend:         INPUT         TRUE   PRED(MASK)    PRED(GEN)      CORRECT     RESIDUAL\n",
      "DEBUG:mathsformer.selfsupervised_learning_addition_model_backend:-------------------------------------------------------------------------------\n",
      "DEBUG:mathsformer.selfsupervised_learning_addition_model_backend:  3-N3988+N847         3144        3144E         3144          X              0\n",
      "DEBUG:mathsformer.selfsupervised_learning_addition_model_backend:     7797+5-N4         7806        7807E         7807                         1\n",
      "DEBUG:mathsformer.selfsupervised_learning_addition_model_backend:  N8357-N11+N7        N8353        N8342        N8342                        11\n",
      "DEBUG:mathsformer.selfsupervised_learning_addition_model_backend: 6686-N437-236         6887        6887E         6887          X              0\n",
      "DEBUG:mathsformer.selfsupervised_learning_addition_model_backend:     N5+4442+8         4445        4446E         4446                         1\n",
      "DEBUG:mathsformer.selfsupervised_learning_addition_model_backend:   2123-N1+N68         2056        2066E         2066                        10\n",
      "DEBUG:mathsformer.selfsupervised_learning_addition_model_backend:   95+4563+879         5537        5548E         5548                        11\n",
      "DEBUG:mathsformer.selfsupervised_learning_addition_model_backend:  1639+N2868+5        N1224        N1224        N1224          X              0\n",
      "DEBUG:mathsformer.selfsupervised_learning_addition_model_backend:      8+N725-3         N720        N729E         N729                        -9\n",
      "DEBUG:mathsformer.selfsupervised_learning_addition_model_backend: N283+N962-N40        N1205        N1114        N1114                        91\n"
     ]
    },
    {
     "name": "stdout",
     "output_type": "stream",
     "text": [
      "2000/2000 [==============================] - 732s 366ms/step - loss: 0.5560 - masked_categorical_accuracy: 0.7857 - val_loss: 0.5771 - val_masked_categorical_accuracy: 0.7806\n",
      "Epoch 35/100000\n",
      "2000/2000 [==============================] - ETA: 0s - loss: 0.5230 - masked_categorical_accuracy: 0.7975"
     ]
    },
    {
     "name": "stderr",
     "output_type": "stream",
     "text": [
      "DEBUG:mathsformer.selfsupervised_learning_addition_model_backend:Training reached the end of epoch at index 34\n",
      "DEBUG:mathsformer.selfsupervised_learning_addition_model_backend:    with metric loss: 0.52303\n",
      "DEBUG:mathsformer.selfsupervised_learning_addition_model_backend:    with metric masked_categorical_accuracy: 0.79751\n",
      "DEBUG:mathsformer.selfsupervised_learning_addition_model_backend:    with metric val_loss: 0.47922\n",
      "DEBUG:mathsformer.selfsupervised_learning_addition_model_backend:    with metric val_masked_categorical_accuracy: 0.80815\n",
      "DEBUG:mathsformer.selfsupervised_learning_addition_model_backend:Running text --> text mathsformer inference on some training data:\n",
      "DEBUG:mathsformer.selfsupervised_learning_addition_model_backend:---------------------------------------------------------------------------------------\n",
      "DEBUG:mathsformer.selfsupervised_learning_addition_model_backend:                 INPUT         TRUE   PRED(MASK)    PRED(GEN)      CORRECT     RESIDUAL\n",
      "DEBUG:mathsformer.selfsupervised_learning_addition_model_backend:---------------------------------------------------------------------------------------\n",
      "DEBUG:mathsformer.selfsupervised_learning_addition_model_backend:    N8097-N943+N8+5-86        N7243        N7231        N7231                        12\n",
      "DEBUG:mathsformer.selfsupervised_learning_addition_model_backend:       N9+N4-N2+N943+4         N950        N959E         N959                        -9\n",
      "DEBUG:mathsformer.selfsupervised_learning_addition_model_backend:              476+N792         N316        N316E         N316          X              0\n",
      "DEBUG:mathsformer.selfsupervised_learning_addition_model_backend:     2333-6-N6836+8575        17738        18841        18841                      1103\n",
      "DEBUG:mathsformer.selfsupervised_learning_addition_model_backend:  N6665+617+N57+61+363        N5681        N5671        N5671                        10\n",
      "DEBUG:mathsformer.selfsupervised_learning_addition_model_backend:     52-N6818+79-N5-N2         6956        7974E         7974                      1018\n",
      "DEBUG:mathsformer.selfsupervised_learning_addition_model_backend:                 N5+77           72        72EEE           72          X              0\n",
      "DEBUG:mathsformer.selfsupervised_learning_addition_model_backend: N379+N752-7+N2992-328        N4458        N4118        N4158                       300\n",
      "DEBUG:mathsformer.selfsupervised_learning_addition_model_backend:       N7+N9-1+97-7774        N7694        N7699        N7699                        -5\n",
      "DEBUG:mathsformer.selfsupervised_learning_addition_model_backend:              75+N3612        N3537        N3537        N3537          X              0\n",
      "DEBUG:mathsformer.selfsupervised_learning_addition_model_backend:Running text --> text mathsformer inference on some validation data:\n",
      "DEBUG:mathsformer.selfsupervised_learning_addition_model_backend:-------------------------------------------------------------------------------\n",
      "DEBUG:mathsformer.selfsupervised_learning_addition_model_backend:         INPUT         TRUE   PRED(MASK)    PRED(GEN)      CORRECT     RESIDUAL\n",
      "DEBUG:mathsformer.selfsupervised_learning_addition_model_backend:-------------------------------------------------------------------------------\n",
      "DEBUG:mathsformer.selfsupervised_learning_addition_model_backend:  3-N3988+N847         3144        3143E         3143                        -1\n",
      "DEBUG:mathsformer.selfsupervised_learning_addition_model_backend:     7797+5-N4         7806        7807E         7807                         1\n",
      "DEBUG:mathsformer.selfsupervised_learning_addition_model_backend:  N8357-N11+N7        N8353        N8353        N8353          X              0\n",
      "DEBUG:mathsformer.selfsupervised_learning_addition_model_backend: 6686-N437-236         6887        6997E         6997                       110\n",
      "DEBUG:mathsformer.selfsupervised_learning_addition_model_backend:     N5+4442+8         4445        4445E         4445          X              0\n",
      "DEBUG:mathsformer.selfsupervised_learning_addition_model_backend:   2123-N1+N68         2056        2066E         2066                        10\n",
      "DEBUG:mathsformer.selfsupervised_learning_addition_model_backend:   95+4563+879         5537        5547E         5547                        10\n",
      "DEBUG:mathsformer.selfsupervised_learning_addition_model_backend:  1639+N2868+5        N1224        N1224        N1224          X              0\n",
      "DEBUG:mathsformer.selfsupervised_learning_addition_model_backend:      8+N725-3         N720        N710E         N710                        10\n",
      "DEBUG:mathsformer.selfsupervised_learning_addition_model_backend: N283+N962-N40        N1205        N1204        N1204                         1\n"
     ]
    },
    {
     "name": "stdout",
     "output_type": "stream",
     "text": [
      "2000/2000 [==============================] - 734s 367ms/step - loss: 0.5230 - masked_categorical_accuracy: 0.7975 - val_loss: 0.4792 - val_masked_categorical_accuracy: 0.8082\n",
      "Epoch 36/100000\n",
      "2000/2000 [==============================] - ETA: 0s - loss: 0.4856 - masked_categorical_accuracy: 0.8096"
     ]
    },
    {
     "name": "stderr",
     "output_type": "stream",
     "text": [
      "DEBUG:mathsformer.selfsupervised_learning_addition_model_backend:Training reached the end of epoch at index 35\n",
      "DEBUG:mathsformer.selfsupervised_learning_addition_model_backend:    with metric loss: 0.48559\n",
      "DEBUG:mathsformer.selfsupervised_learning_addition_model_backend:    with metric masked_categorical_accuracy: 0.80958\n",
      "DEBUG:mathsformer.selfsupervised_learning_addition_model_backend:    with metric val_loss: 0.38152\n",
      "DEBUG:mathsformer.selfsupervised_learning_addition_model_backend:    with metric val_masked_categorical_accuracy: 0.85238\n",
      "DEBUG:mathsformer.selfsupervised_learning_addition_model_backend:Running text --> text mathsformer inference on some training data:\n",
      "DEBUG:mathsformer.selfsupervised_learning_addition_model_backend:---------------------------------------------------------------------------------------\n",
      "DEBUG:mathsformer.selfsupervised_learning_addition_model_backend:                 INPUT         TRUE   PRED(MASK)    PRED(GEN)      CORRECT     RESIDUAL\n",
      "DEBUG:mathsformer.selfsupervised_learning_addition_model_backend:---------------------------------------------------------------------------------------\n",
      "DEBUG:mathsformer.selfsupervised_learning_addition_model_backend:    N8097-N943+N8+5-86        N7243        N7141        N7141                       102\n",
      "DEBUG:mathsformer.selfsupervised_learning_addition_model_backend:       N9+N4-N2+N943+4         N950        N950E         N950          X              0\n",
      "DEBUG:mathsformer.selfsupervised_learning_addition_model_backend:              476+N792         N316        N316E         N316          X              0\n",
      "DEBUG:mathsformer.selfsupervised_learning_addition_model_backend:     2333-6-N6836+8575        17738        18748        18738                      1000\n",
      "DEBUG:mathsformer.selfsupervised_learning_addition_model_backend:  N6665+617+N57+61+363        N5681        N5681        N5681          X              0\n",
      "DEBUG:mathsformer.selfsupervised_learning_addition_model_backend:     52-N6818+79-N5-N2         6956        6953E         6953                        -3\n",
      "DEBUG:mathsformer.selfsupervised_learning_addition_model_backend:                 N5+77           72        72EEE           72          X              0\n",
      "DEBUG:mathsformer.selfsupervised_learning_addition_model_backend: N379+N752-7+N2992-328        N4458        N4209        N4209                       249\n",
      "DEBUG:mathsformer.selfsupervised_learning_addition_model_backend:       N7+N9-1+97-7774        N7694        N7690        N7690                         4\n",
      "DEBUG:mathsformer.selfsupervised_learning_addition_model_backend:              75+N3612        N3537        N3537        N3537          X              0\n",
      "DEBUG:mathsformer.selfsupervised_learning_addition_model_backend:Running text --> text mathsformer inference on some validation data:\n",
      "DEBUG:mathsformer.selfsupervised_learning_addition_model_backend:-------------------------------------------------------------------------------\n",
      "DEBUG:mathsformer.selfsupervised_learning_addition_model_backend:         INPUT         TRUE   PRED(MASK)    PRED(GEN)      CORRECT     RESIDUAL\n",
      "DEBUG:mathsformer.selfsupervised_learning_addition_model_backend:-------------------------------------------------------------------------------\n",
      "DEBUG:mathsformer.selfsupervised_learning_addition_model_backend:  3-N3988+N847         3144        3144E         3144          X              0\n",
      "DEBUG:mathsformer.selfsupervised_learning_addition_model_backend:     7797+5-N4         7806        7806E         7806          X              0\n",
      "DEBUG:mathsformer.selfsupervised_learning_addition_model_backend:  N8357-N11+N7        N8353        N8353        N8353          X              0\n",
      "DEBUG:mathsformer.selfsupervised_learning_addition_model_backend: 6686-N437-236         6887        6887E         6887          X              0\n",
      "DEBUG:mathsformer.selfsupervised_learning_addition_model_backend:     N5+4442+8         4445        4445E         4445          X              0\n",
      "DEBUG:mathsformer.selfsupervised_learning_addition_model_backend:   2123-N1+N68         2056        2056E         2056          X              0\n",
      "DEBUG:mathsformer.selfsupervised_learning_addition_model_backend:   95+4563+879         5537        5558E         5558                        21\n",
      "DEBUG:mathsformer.selfsupervised_learning_addition_model_backend:  1639+N2868+5        N1224        N1224        N1224          X              0\n",
      "DEBUG:mathsformer.selfsupervised_learning_addition_model_backend:      8+N725-3         N720        N710E         N710                        10\n",
      "DEBUG:mathsformer.selfsupervised_learning_addition_model_backend: N283+N962-N40        N1205        N1105        N1105                       100\n"
     ]
    },
    {
     "name": "stdout",
     "output_type": "stream",
     "text": [
      "2000/2000 [==============================] - 718s 359ms/step - loss: 0.4856 - masked_categorical_accuracy: 0.8096 - val_loss: 0.3815 - val_masked_categorical_accuracy: 0.8524\n",
      "Epoch 37/100000\n",
      "2000/2000 [==============================] - ETA: 0s - loss: 0.4410 - masked_categorical_accuracy: 0.8245"
     ]
    },
    {
     "name": "stderr",
     "output_type": "stream",
     "text": [
      "DEBUG:mathsformer.selfsupervised_learning_addition_model_backend:Training reached the end of epoch at index 36\n",
      "DEBUG:mathsformer.selfsupervised_learning_addition_model_backend:    with metric loss: 0.44095\n",
      "DEBUG:mathsformer.selfsupervised_learning_addition_model_backend:    with metric masked_categorical_accuracy: 0.82453\n",
      "DEBUG:mathsformer.selfsupervised_learning_addition_model_backend:    with metric val_loss: 0.36515\n",
      "DEBUG:mathsformer.selfsupervised_learning_addition_model_backend:    with metric val_masked_categorical_accuracy: 0.85064\n",
      "DEBUG:mathsformer.selfsupervised_learning_addition_model_backend:Running text --> text mathsformer inference on some training data:\n",
      "DEBUG:mathsformer.selfsupervised_learning_addition_model_backend:---------------------------------------------------------------------------------------\n",
      "DEBUG:mathsformer.selfsupervised_learning_addition_model_backend:                 INPUT         TRUE   PRED(MASK)    PRED(GEN)      CORRECT     RESIDUAL\n",
      "DEBUG:mathsformer.selfsupervised_learning_addition_model_backend:---------------------------------------------------------------------------------------\n",
      "DEBUG:mathsformer.selfsupervised_learning_addition_model_backend:    N8097-N943+N8+5-86        N7243        N7233        N7233                        10\n",
      "DEBUG:mathsformer.selfsupervised_learning_addition_model_backend:       N9+N4-N2+N943+4         N950        N951E         N951                        -1\n",
      "DEBUG:mathsformer.selfsupervised_learning_addition_model_backend:              476+N792         N316        N316E         N316          X              0\n",
      "DEBUG:mathsformer.selfsupervised_learning_addition_model_backend:     2333-6-N6836+8575        17738        17847        17857                       119\n",
      "DEBUG:mathsformer.selfsupervised_learning_addition_model_backend:  N6665+617+N57+61+363        N5681        N5691        N5691                       -10\n",
      "DEBUG:mathsformer.selfsupervised_learning_addition_model_backend:     52-N6818+79-N5-N2         6956        6954E         6954                        -2\n",
      "DEBUG:mathsformer.selfsupervised_learning_addition_model_backend:                 N5+77           72        72EEE           72          X              0\n",
      "DEBUG:mathsformer.selfsupervised_learning_addition_model_backend: N379+N752-7+N2992-328        N4458        N4249        N4249                       209\n",
      "DEBUG:mathsformer.selfsupervised_learning_addition_model_backend:       N7+N9-1+97-7774        N7694        N7693        N7693                         1\n",
      "DEBUG:mathsformer.selfsupervised_learning_addition_model_backend:              75+N3612        N3537        N3537        N3537          X              0\n",
      "DEBUG:mathsformer.selfsupervised_learning_addition_model_backend:Running text --> text mathsformer inference on some validation data:\n",
      "DEBUG:mathsformer.selfsupervised_learning_addition_model_backend:-------------------------------------------------------------------------------\n",
      "DEBUG:mathsformer.selfsupervised_learning_addition_model_backend:         INPUT         TRUE   PRED(MASK)    PRED(GEN)      CORRECT     RESIDUAL\n",
      "DEBUG:mathsformer.selfsupervised_learning_addition_model_backend:-------------------------------------------------------------------------------\n",
      "DEBUG:mathsformer.selfsupervised_learning_addition_model_backend:  3-N3988+N847         3144        3144E         3144          X              0\n",
      "DEBUG:mathsformer.selfsupervised_learning_addition_model_backend:     7797+5-N4         7806        7807E         7807                         1\n",
      "DEBUG:mathsformer.selfsupervised_learning_addition_model_backend:  N8357-N11+N7        N8353        N8363        N8363                       -10\n",
      "DEBUG:mathsformer.selfsupervised_learning_addition_model_backend: 6686-N437-236         6887        6897E         6897                        10\n",
      "DEBUG:mathsformer.selfsupervised_learning_addition_model_backend:     N5+4442+8         4445        4445E         4445          X              0\n",
      "DEBUG:mathsformer.selfsupervised_learning_addition_model_backend:   2123-N1+N68         2056        2056E         2056          X              0\n",
      "DEBUG:mathsformer.selfsupervised_learning_addition_model_backend:   95+4563+879         5537        5548E         5548                        11\n",
      "DEBUG:mathsformer.selfsupervised_learning_addition_model_backend:  1639+N2868+5        N1224        N1224        N1224          X              0\n",
      "DEBUG:mathsformer.selfsupervised_learning_addition_model_backend:      8+N725-3         N720        N720E         N720          X              0\n",
      "DEBUG:mathsformer.selfsupervised_learning_addition_model_backend: N283+N962-N40        N1205        N1194        N1194                        11\n"
     ]
    },
    {
     "name": "stdout",
     "output_type": "stream",
     "text": [
      "2000/2000 [==============================] - 722s 361ms/step - loss: 0.4410 - masked_categorical_accuracy: 0.8245 - val_loss: 0.3652 - val_masked_categorical_accuracy: 0.8506\n",
      "Epoch 38/100000\n",
      "2000/2000 [==============================] - ETA: 0s - loss: 0.4161 - masked_categorical_accuracy: 0.8338"
     ]
    },
    {
     "name": "stderr",
     "output_type": "stream",
     "text": [
      "DEBUG:mathsformer.selfsupervised_learning_addition_model_backend:Training reached the end of epoch at index 37\n",
      "DEBUG:mathsformer.selfsupervised_learning_addition_model_backend:    with metric loss: 0.41609\n",
      "DEBUG:mathsformer.selfsupervised_learning_addition_model_backend:    with metric masked_categorical_accuracy: 0.83384\n",
      "DEBUG:mathsformer.selfsupervised_learning_addition_model_backend:    with metric val_loss: 0.30202\n",
      "DEBUG:mathsformer.selfsupervised_learning_addition_model_backend:    with metric val_masked_categorical_accuracy: 0.88368\n",
      "DEBUG:mathsformer.selfsupervised_learning_addition_model_backend:Running text --> text mathsformer inference on some training data:\n",
      "DEBUG:mathsformer.selfsupervised_learning_addition_model_backend:---------------------------------------------------------------------------------------\n",
      "DEBUG:mathsformer.selfsupervised_learning_addition_model_backend:                 INPUT         TRUE   PRED(MASK)    PRED(GEN)      CORRECT     RESIDUAL\n",
      "DEBUG:mathsformer.selfsupervised_learning_addition_model_backend:---------------------------------------------------------------------------------------\n",
      "DEBUG:mathsformer.selfsupervised_learning_addition_model_backend:    N8097-N943+N8+5-86        N7243        N7233        N7233                        10\n",
      "DEBUG:mathsformer.selfsupervised_learning_addition_model_backend:       N9+N4-N2+N943+4         N950        N959E         N959                        -9\n",
      "DEBUG:mathsformer.selfsupervised_learning_addition_model_backend:              476+N792         N316        N316E         N316          X              0\n",
      "DEBUG:mathsformer.selfsupervised_learning_addition_model_backend:     2333-6-N6836+8575        17738        18839        18839                      1101\n",
      "DEBUG:mathsformer.selfsupervised_learning_addition_model_backend:  N6665+617+N57+61+363        N5681        N5681        N5681          X              0\n",
      "DEBUG:mathsformer.selfsupervised_learning_addition_model_backend:     52-N6818+79-N5-N2         6956        6954E         6954                        -2\n",
      "DEBUG:mathsformer.selfsupervised_learning_addition_model_backend:                 N5+77           72        72EEE           72          X              0\n",
      "DEBUG:mathsformer.selfsupervised_learning_addition_model_backend: N379+N752-7+N2992-328        N4458        N4347        N4347                       111\n",
      "DEBUG:mathsformer.selfsupervised_learning_addition_model_backend:       N7+N9-1+97-7774        N7694        N7693        N7693                         1\n",
      "DEBUG:mathsformer.selfsupervised_learning_addition_model_backend:              75+N3612        N3537        N3537        N3537          X              0\n",
      "DEBUG:mathsformer.selfsupervised_learning_addition_model_backend:Running text --> text mathsformer inference on some validation data:\n",
      "DEBUG:mathsformer.selfsupervised_learning_addition_model_backend:-------------------------------------------------------------------------------\n",
      "DEBUG:mathsformer.selfsupervised_learning_addition_model_backend:         INPUT         TRUE   PRED(MASK)    PRED(GEN)      CORRECT     RESIDUAL\n",
      "DEBUG:mathsformer.selfsupervised_learning_addition_model_backend:-------------------------------------------------------------------------------\n",
      "DEBUG:mathsformer.selfsupervised_learning_addition_model_backend:  3-N3988+N847         3144        3145E         3145                         1\n",
      "DEBUG:mathsformer.selfsupervised_learning_addition_model_backend:     7797+5-N4         7806        7807E         7807                         1\n",
      "DEBUG:mathsformer.selfsupervised_learning_addition_model_backend:  N8357-N11+N7        N8353        N8353        N8353          X              0\n",
      "DEBUG:mathsformer.selfsupervised_learning_addition_model_backend: 6686-N437-236         6887        6897E         6897                        10\n",
      "DEBUG:mathsformer.selfsupervised_learning_addition_model_backend:     N5+4442+8         4445        4445E         4445          X              0\n",
      "DEBUG:mathsformer.selfsupervised_learning_addition_model_backend:   2123-N1+N68         2056        2056E         2056          X              0\n",
      "DEBUG:mathsformer.selfsupervised_learning_addition_model_backend:   95+4563+879         5537        5547E         5547                        10\n",
      "DEBUG:mathsformer.selfsupervised_learning_addition_model_backend:  1639+N2868+5        N1224        N1224        N1224          X              0\n",
      "DEBUG:mathsformer.selfsupervised_learning_addition_model_backend:      8+N725-3         N720        N710E         N710                        10\n",
      "DEBUG:mathsformer.selfsupervised_learning_addition_model_backend: N283+N962-N40        N1205        N1205        N1205          X              0\n"
     ]
    },
    {
     "name": "stdout",
     "output_type": "stream",
     "text": [
      "2000/2000 [==============================] - 714s 357ms/step - loss: 0.4161 - masked_categorical_accuracy: 0.8338 - val_loss: 0.3020 - val_masked_categorical_accuracy: 0.8837\n",
      "Epoch 39/100000\n",
      "2000/2000 [==============================] - ETA: 0s - loss: 0.3845 - masked_categorical_accuracy: 0.8448"
     ]
    },
    {
     "name": "stderr",
     "output_type": "stream",
     "text": [
      "DEBUG:mathsformer.selfsupervised_learning_addition_model_backend:Training reached the end of epoch at index 38\n",
      "DEBUG:mathsformer.selfsupervised_learning_addition_model_backend:    with metric loss: 0.38448\n",
      "DEBUG:mathsformer.selfsupervised_learning_addition_model_backend:    with metric masked_categorical_accuracy: 0.84482\n",
      "DEBUG:mathsformer.selfsupervised_learning_addition_model_backend:    with metric val_loss: 0.34076\n",
      "DEBUG:mathsformer.selfsupervised_learning_addition_model_backend:    with metric val_masked_categorical_accuracy: 0.86771\n",
      "DEBUG:mathsformer.selfsupervised_learning_addition_model_backend:Running text --> text mathsformer inference on some training data:\n",
      "DEBUG:mathsformer.selfsupervised_learning_addition_model_backend:---------------------------------------------------------------------------------------\n",
      "DEBUG:mathsformer.selfsupervised_learning_addition_model_backend:                 INPUT         TRUE   PRED(MASK)    PRED(GEN)      CORRECT     RESIDUAL\n",
      "DEBUG:mathsformer.selfsupervised_learning_addition_model_backend:---------------------------------------------------------------------------------------\n",
      "DEBUG:mathsformer.selfsupervised_learning_addition_model_backend:    N8097-N943+N8+5-86        N7243        N7232        N7232                        11\n",
      "DEBUG:mathsformer.selfsupervised_learning_addition_model_backend:       N9+N4-N2+N943+4         N950        N950E         N950          X              0\n",
      "DEBUG:mathsformer.selfsupervised_learning_addition_model_backend:              476+N792         N316        N317E         N317                        -1\n",
      "DEBUG:mathsformer.selfsupervised_learning_addition_model_backend:     2333-6-N6836+8575        17738        17638        17638                      -100\n",
      "DEBUG:mathsformer.selfsupervised_learning_addition_model_backend:  N6665+617+N57+61+363        N5681        N5671        N5671                        10\n",
      "DEBUG:mathsformer.selfsupervised_learning_addition_model_backend:     52-N6818+79-N5-N2         6956        6954E         6954                        -2\n",
      "DEBUG:mathsformer.selfsupervised_learning_addition_model_backend:                 N5+77           72        72EEE           72          X              0\n",
      "DEBUG:mathsformer.selfsupervised_learning_addition_model_backend: N379+N752-7+N2992-328        N4458        N4247        N4247                       211\n",
      "DEBUG:mathsformer.selfsupervised_learning_addition_model_backend:       N7+N9-1+97-7774        N7694        N7693        N7693                         1\n",
      "DEBUG:mathsformer.selfsupervised_learning_addition_model_backend:              75+N3612        N3537        N3537        N3537          X              0\n",
      "DEBUG:mathsformer.selfsupervised_learning_addition_model_backend:Running text --> text mathsformer inference on some validation data:\n",
      "DEBUG:mathsformer.selfsupervised_learning_addition_model_backend:-------------------------------------------------------------------------------\n",
      "DEBUG:mathsformer.selfsupervised_learning_addition_model_backend:         INPUT         TRUE   PRED(MASK)    PRED(GEN)      CORRECT     RESIDUAL\n",
      "DEBUG:mathsformer.selfsupervised_learning_addition_model_backend:-------------------------------------------------------------------------------\n",
      "DEBUG:mathsformer.selfsupervised_learning_addition_model_backend:  3-N3988+N847         3144        3144E         3144          X              0\n",
      "DEBUG:mathsformer.selfsupervised_learning_addition_model_backend:     7797+5-N4         7806        7805E         7805                        -1\n",
      "DEBUG:mathsformer.selfsupervised_learning_addition_model_backend:  N8357-N11+N7        N8353        N8343        N8343                        10\n",
      "DEBUG:mathsformer.selfsupervised_learning_addition_model_backend: 6686-N437-236         6887        6887E         6887          X              0\n",
      "DEBUG:mathsformer.selfsupervised_learning_addition_model_backend:     N5+4442+8         4445        4445E         4445          X              0\n",
      "DEBUG:mathsformer.selfsupervised_learning_addition_model_backend:   2123-N1+N68         2056        2056E         2056          X              0\n",
      "DEBUG:mathsformer.selfsupervised_learning_addition_model_backend:   95+4563+879         5537        5537E         5537          X              0\n",
      "DEBUG:mathsformer.selfsupervised_learning_addition_model_backend:  1639+N2868+5        N1224        N1224        N1224          X              0\n",
      "DEBUG:mathsformer.selfsupervised_learning_addition_model_backend:      8+N725-3         N720        N719E         N710                        10\n",
      "DEBUG:mathsformer.selfsupervised_learning_addition_model_backend: N283+N962-N40        N1205        N1205        N1205          X              0\n"
     ]
    },
    {
     "name": "stdout",
     "output_type": "stream",
     "text": [
      "2000/2000 [==============================] - 732s 366ms/step - loss: 0.3845 - masked_categorical_accuracy: 0.8448 - val_loss: 0.3408 - val_masked_categorical_accuracy: 0.8677\n",
      "Epoch 40/100000\n",
      "2000/2000 [==============================] - ETA: 0s - loss: 0.3665 - masked_categorical_accuracy: 0.8531"
     ]
    },
    {
     "name": "stderr",
     "output_type": "stream",
     "text": [
      "DEBUG:mathsformer.selfsupervised_learning_addition_model_backend:Training reached the end of epoch at index 39\n",
      "DEBUG:mathsformer.selfsupervised_learning_addition_model_backend:    with metric loss: 0.36646\n",
      "DEBUG:mathsformer.selfsupervised_learning_addition_model_backend:    with metric masked_categorical_accuracy: 0.85312\n",
      "DEBUG:mathsformer.selfsupervised_learning_addition_model_backend:    with metric val_loss: 0.27753\n",
      "DEBUG:mathsformer.selfsupervised_learning_addition_model_backend:    with metric val_masked_categorical_accuracy: 0.8864\n",
      "DEBUG:mathsformer.selfsupervised_learning_addition_model_backend:Running text --> text mathsformer inference on some training data:\n",
      "DEBUG:mathsformer.selfsupervised_learning_addition_model_backend:---------------------------------------------------------------------------------------\n",
      "DEBUG:mathsformer.selfsupervised_learning_addition_model_backend:                 INPUT         TRUE   PRED(MASK)    PRED(GEN)      CORRECT     RESIDUAL\n",
      "DEBUG:mathsformer.selfsupervised_learning_addition_model_backend:---------------------------------------------------------------------------------------\n",
      "DEBUG:mathsformer.selfsupervised_learning_addition_model_backend:    N8097-N943+N8+5-86        N7243        N7233        N7233                        10\n",
      "DEBUG:mathsformer.selfsupervised_learning_addition_model_backend:       N9+N4-N2+N943+4         N950        N940E         N940                        10\n",
      "DEBUG:mathsformer.selfsupervised_learning_addition_model_backend:              476+N792         N316        N316E         N316          X              0\n",
      "DEBUG:mathsformer.selfsupervised_learning_addition_model_backend:     2333-6-N6836+8575        17738        18738        18738                      1000\n",
      "DEBUG:mathsformer.selfsupervised_learning_addition_model_backend:  N6665+617+N57+61+363        N5681        N5571        N5571                       110\n",
      "DEBUG:mathsformer.selfsupervised_learning_addition_model_backend:     52-N6818+79-N5-N2         6956        6956E         6956          X              0\n",
      "DEBUG:mathsformer.selfsupervised_learning_addition_model_backend:                 N5+77           72        72EEE           72          X              0\n",
      "DEBUG:mathsformer.selfsupervised_learning_addition_model_backend: N379+N752-7+N2992-328        N4458        N4368        N4368                        90\n",
      "DEBUG:mathsformer.selfsupervised_learning_addition_model_backend:       N7+N9-1+97-7774        N7694        N7694        N7694          X              0\n",
      "DEBUG:mathsformer.selfsupervised_learning_addition_model_backend:              75+N3612        N3537        N3537        N3537          X              0\n",
      "DEBUG:mathsformer.selfsupervised_learning_addition_model_backend:Running text --> text mathsformer inference on some validation data:\n",
      "DEBUG:mathsformer.selfsupervised_learning_addition_model_backend:-------------------------------------------------------------------------------\n",
      "DEBUG:mathsformer.selfsupervised_learning_addition_model_backend:         INPUT         TRUE   PRED(MASK)    PRED(GEN)      CORRECT     RESIDUAL\n",
      "DEBUG:mathsformer.selfsupervised_learning_addition_model_backend:-------------------------------------------------------------------------------\n",
      "DEBUG:mathsformer.selfsupervised_learning_addition_model_backend:  3-N3988+N847         3144        3144E         3144          X              0\n",
      "DEBUG:mathsformer.selfsupervised_learning_addition_model_backend:     7797+5-N4         7806        7808E         7808                         2\n",
      "DEBUG:mathsformer.selfsupervised_learning_addition_model_backend:  N8357-N11+N7        N8353        N8354        N8354                        -1\n",
      "DEBUG:mathsformer.selfsupervised_learning_addition_model_backend: 6686-N437-236         6887        6897E         6897                        10\n",
      "DEBUG:mathsformer.selfsupervised_learning_addition_model_backend:     N5+4442+8         4445        4445E         4445          X              0\n",
      "DEBUG:mathsformer.selfsupervised_learning_addition_model_backend:   2123-N1+N68         2056        2056E         2056          X              0\n",
      "DEBUG:mathsformer.selfsupervised_learning_addition_model_backend:   95+4563+879         5537        5547E         5547                        10\n",
      "DEBUG:mathsformer.selfsupervised_learning_addition_model_backend:  1639+N2868+5        N1224        N1225        N1225                        -1\n",
      "DEBUG:mathsformer.selfsupervised_learning_addition_model_backend:      8+N725-3         N720        N729E         N729                        -9\n",
      "DEBUG:mathsformer.selfsupervised_learning_addition_model_backend: N283+N962-N40        N1205        N1194        N1194                        11\n"
     ]
    },
    {
     "name": "stdout",
     "output_type": "stream",
     "text": [
      "2000/2000 [==============================] - 737s 368ms/step - loss: 0.3665 - masked_categorical_accuracy: 0.8531 - val_loss: 0.2775 - val_masked_categorical_accuracy: 0.8864\n",
      "Epoch 41/100000\n",
      "2000/2000 [==============================] - ETA: 0s - loss: 0.3507 - masked_categorical_accuracy: 0.8593"
     ]
    },
    {
     "name": "stderr",
     "output_type": "stream",
     "text": [
      "DEBUG:mathsformer.selfsupervised_learning_addition_model_backend:Training reached the end of epoch at index 40\n",
      "DEBUG:mathsformer.selfsupervised_learning_addition_model_backend:    with metric loss: 0.35066\n",
      "DEBUG:mathsformer.selfsupervised_learning_addition_model_backend:    with metric masked_categorical_accuracy: 0.85934\n",
      "DEBUG:mathsformer.selfsupervised_learning_addition_model_backend:    with metric val_loss: 0.24674\n",
      "DEBUG:mathsformer.selfsupervised_learning_addition_model_backend:    with metric val_masked_categorical_accuracy: 0.90413\n",
      "DEBUG:mathsformer.selfsupervised_learning_addition_model_backend:Running text --> text mathsformer inference on some training data:\n",
      "DEBUG:mathsformer.selfsupervised_learning_addition_model_backend:---------------------------------------------------------------------------------------\n",
      "DEBUG:mathsformer.selfsupervised_learning_addition_model_backend:                 INPUT         TRUE   PRED(MASK)    PRED(GEN)      CORRECT     RESIDUAL\n",
      "DEBUG:mathsformer.selfsupervised_learning_addition_model_backend:---------------------------------------------------------------------------------------\n",
      "DEBUG:mathsformer.selfsupervised_learning_addition_model_backend:    N8097-N943+N8+5-86        N7243        N7243        N7243          X              0\n",
      "DEBUG:mathsformer.selfsupervised_learning_addition_model_backend:       N9+N4-N2+N943+4         N950        N950E         N950          X              0\n",
      "DEBUG:mathsformer.selfsupervised_learning_addition_model_backend:              476+N792         N316        N316E         N316          X              0\n",
      "DEBUG:mathsformer.selfsupervised_learning_addition_model_backend:     2333-6-N6836+8575        17738        17738        17738          X              0\n",
      "DEBUG:mathsformer.selfsupervised_learning_addition_model_backend:  N6665+617+N57+61+363        N5681        N5681        N5681          X              0\n",
      "DEBUG:mathsformer.selfsupervised_learning_addition_model_backend:     52-N6818+79-N5-N2         6956        7965E         7965                      1009\n",
      "DEBUG:mathsformer.selfsupervised_learning_addition_model_backend:                 N5+77           72        72EEE           72          X              0\n",
      "DEBUG:mathsformer.selfsupervised_learning_addition_model_backend: N379+N752-7+N2992-328        N4458        N4258        N4258                       200\n",
      "DEBUG:mathsformer.selfsupervised_learning_addition_model_backend:       N7+N9-1+97-7774        N7694        N7793        N7793                       -99\n",
      "DEBUG:mathsformer.selfsupervised_learning_addition_model_backend:              75+N3612        N3537        N3537        N3537          X              0\n",
      "DEBUG:mathsformer.selfsupervised_learning_addition_model_backend:Running text --> text mathsformer inference on some validation data:\n",
      "DEBUG:mathsformer.selfsupervised_learning_addition_model_backend:-------------------------------------------------------------------------------\n",
      "DEBUG:mathsformer.selfsupervised_learning_addition_model_backend:         INPUT         TRUE   PRED(MASK)    PRED(GEN)      CORRECT     RESIDUAL\n",
      "DEBUG:mathsformer.selfsupervised_learning_addition_model_backend:-------------------------------------------------------------------------------\n",
      "DEBUG:mathsformer.selfsupervised_learning_addition_model_backend:  3-N3988+N847         3144        3144E         3144          X              0\n",
      "DEBUG:mathsformer.selfsupervised_learning_addition_model_backend:     7797+5-N4         7806        7807E         7807                         1\n",
      "DEBUG:mathsformer.selfsupervised_learning_addition_model_backend:  N8357-N11+N7        N8353        N8353        N8353          X              0\n",
      "DEBUG:mathsformer.selfsupervised_learning_addition_model_backend: 6686-N437-236         6887        6787E         6787                      -100\n",
      "DEBUG:mathsformer.selfsupervised_learning_addition_model_backend:     N5+4442+8         4445        4445E         4445          X              0\n",
      "DEBUG:mathsformer.selfsupervised_learning_addition_model_backend:   2123-N1+N68         2056        2056E         2056          X              0\n",
      "DEBUG:mathsformer.selfsupervised_learning_addition_model_backend:   95+4563+879         5537        5547E         5547                        10\n",
      "DEBUG:mathsformer.selfsupervised_learning_addition_model_backend:  1639+N2868+5        N1224        N1224        N1224          X              0\n",
      "DEBUG:mathsformer.selfsupervised_learning_addition_model_backend:      8+N725-3         N720        N720E         N720          X              0\n",
      "DEBUG:mathsformer.selfsupervised_learning_addition_model_backend: N283+N962-N40        N1205        N1205        N1205          X              0\n"
     ]
    },
    {
     "name": "stdout",
     "output_type": "stream",
     "text": [
      "2000/2000 [==============================] - 737s 369ms/step - loss: 0.3507 - masked_categorical_accuracy: 0.8593 - val_loss: 0.2467 - val_masked_categorical_accuracy: 0.9041\n",
      "Epoch 42/100000\n",
      "2000/2000 [==============================] - ETA: 0s - loss: 0.3354 - masked_categorical_accuracy: 0.8657"
     ]
    },
    {
     "name": "stderr",
     "output_type": "stream",
     "text": [
      "DEBUG:mathsformer.selfsupervised_learning_addition_model_backend:Training reached the end of epoch at index 41\n",
      "DEBUG:mathsformer.selfsupervised_learning_addition_model_backend:    with metric loss: 0.33535\n",
      "DEBUG:mathsformer.selfsupervised_learning_addition_model_backend:    with metric masked_categorical_accuracy: 0.86569\n",
      "DEBUG:mathsformer.selfsupervised_learning_addition_model_backend:    with metric val_loss: 0.2408\n",
      "DEBUG:mathsformer.selfsupervised_learning_addition_model_backend:    with metric val_masked_categorical_accuracy: 0.91009\n",
      "DEBUG:mathsformer.selfsupervised_learning_addition_model_backend:Running text --> text mathsformer inference on some training data:\n",
      "DEBUG:mathsformer.selfsupervised_learning_addition_model_backend:---------------------------------------------------------------------------------------\n",
      "DEBUG:mathsformer.selfsupervised_learning_addition_model_backend:                 INPUT         TRUE   PRED(MASK)    PRED(GEN)      CORRECT     RESIDUAL\n",
      "DEBUG:mathsformer.selfsupervised_learning_addition_model_backend:---------------------------------------------------------------------------------------\n",
      "DEBUG:mathsformer.selfsupervised_learning_addition_model_backend:    N8097-N943+N8+5-86        N7243        N7243        N7243          X              0\n",
      "DEBUG:mathsformer.selfsupervised_learning_addition_model_backend:       N9+N4-N2+N943+4         N950        N951E         N951                        -1\n",
      "DEBUG:mathsformer.selfsupervised_learning_addition_model_backend:              476+N792         N316        N316E         N316          X              0\n",
      "DEBUG:mathsformer.selfsupervised_learning_addition_model_backend:     2333-6-N6836+8575        17738        17748        17748                        10\n",
      "DEBUG:mathsformer.selfsupervised_learning_addition_model_backend:  N6665+617+N57+61+363        N5681        N5691        N5691                       -10\n",
      "DEBUG:mathsformer.selfsupervised_learning_addition_model_backend:     52-N6818+79-N5-N2         6956        6954E         6954                        -2\n",
      "DEBUG:mathsformer.selfsupervised_learning_addition_model_backend:                 N5+77           72        72EEE           72          X              0\n",
      "DEBUG:mathsformer.selfsupervised_learning_addition_model_backend: N379+N752-7+N2992-328        N4458        N4356        N4356                       102\n",
      "DEBUG:mathsformer.selfsupervised_learning_addition_model_backend:       N7+N9-1+97-7774        N7694        N7694        N7694          X              0\n",
      "DEBUG:mathsformer.selfsupervised_learning_addition_model_backend:              75+N3612        N3537        N3537        N3537          X              0\n",
      "DEBUG:mathsformer.selfsupervised_learning_addition_model_backend:Running text --> text mathsformer inference on some validation data:\n",
      "DEBUG:mathsformer.selfsupervised_learning_addition_model_backend:-------------------------------------------------------------------------------\n",
      "DEBUG:mathsformer.selfsupervised_learning_addition_model_backend:         INPUT         TRUE   PRED(MASK)    PRED(GEN)      CORRECT     RESIDUAL\n",
      "DEBUG:mathsformer.selfsupervised_learning_addition_model_backend:-------------------------------------------------------------------------------\n",
      "DEBUG:mathsformer.selfsupervised_learning_addition_model_backend:  3-N3988+N847         3144        3144E         3144          X              0\n",
      "DEBUG:mathsformer.selfsupervised_learning_addition_model_backend:     7797+5-N4         7806        7807E         7807                         1\n",
      "DEBUG:mathsformer.selfsupervised_learning_addition_model_backend:  N8357-N11+N7        N8353        N8363        N8363                       -10\n",
      "DEBUG:mathsformer.selfsupervised_learning_addition_model_backend: 6686-N437-236         6887        6887E         6887          X              0\n",
      "DEBUG:mathsformer.selfsupervised_learning_addition_model_backend:     N5+4442+8         4445        4444E         4444                        -1\n",
      "DEBUG:mathsformer.selfsupervised_learning_addition_model_backend:   2123-N1+N68         2056        2056E         2056          X              0\n",
      "DEBUG:mathsformer.selfsupervised_learning_addition_model_backend:   95+4563+879         5537        5547E         5547                        10\n",
      "DEBUG:mathsformer.selfsupervised_learning_addition_model_backend:  1639+N2868+5        N1224        N1224        N1224          X              0\n",
      "DEBUG:mathsformer.selfsupervised_learning_addition_model_backend:      8+N725-3         N720        N720E         N720          X              0\n",
      "DEBUG:mathsformer.selfsupervised_learning_addition_model_backend: N283+N962-N40        N1205        N1205        N1205          X              0\n"
     ]
    },
    {
     "name": "stdout",
     "output_type": "stream",
     "text": [
      "2000/2000 [==============================] - 735s 367ms/step - loss: 0.3354 - masked_categorical_accuracy: 0.8657 - val_loss: 0.2408 - val_masked_categorical_accuracy: 0.9101\n",
      "Epoch 43/100000\n",
      "2000/2000 [==============================] - ETA: 0s - loss: 0.3142 - masked_categorical_accuracy: 0.8742"
     ]
    },
    {
     "name": "stderr",
     "output_type": "stream",
     "text": [
      "DEBUG:mathsformer.selfsupervised_learning_addition_model_backend:Training reached the end of epoch at index 42\n",
      "DEBUG:mathsformer.selfsupervised_learning_addition_model_backend:    with metric loss: 0.3142\n",
      "DEBUG:mathsformer.selfsupervised_learning_addition_model_backend:    with metric masked_categorical_accuracy: 0.87424\n",
      "DEBUG:mathsformer.selfsupervised_learning_addition_model_backend:    with metric val_loss: 0.23261\n",
      "DEBUG:mathsformer.selfsupervised_learning_addition_model_backend:    with metric val_masked_categorical_accuracy: 0.91154\n",
      "DEBUG:mathsformer.selfsupervised_learning_addition_model_backend:Running text --> text mathsformer inference on some training data:\n",
      "DEBUG:mathsformer.selfsupervised_learning_addition_model_backend:---------------------------------------------------------------------------------------\n",
      "DEBUG:mathsformer.selfsupervised_learning_addition_model_backend:                 INPUT         TRUE   PRED(MASK)    PRED(GEN)      CORRECT     RESIDUAL\n",
      "DEBUG:mathsformer.selfsupervised_learning_addition_model_backend:---------------------------------------------------------------------------------------\n",
      "DEBUG:mathsformer.selfsupervised_learning_addition_model_backend:    N8097-N943+N8+5-86        N7243        N7243        N7243          X              0\n",
      "DEBUG:mathsformer.selfsupervised_learning_addition_model_backend:       N9+N4-N2+N943+4         N950        N951E         N951                        -1\n",
      "DEBUG:mathsformer.selfsupervised_learning_addition_model_backend:              476+N792         N316        N316E         N316          X              0\n",
      "DEBUG:mathsformer.selfsupervised_learning_addition_model_backend:     2333-6-N6836+8575        17738        17738        17738          X              0\n",
      "DEBUG:mathsformer.selfsupervised_learning_addition_model_backend:  N6665+617+N57+61+363        N5681        N5682        N5682                        -1\n",
      "DEBUG:mathsformer.selfsupervised_learning_addition_model_backend:     52-N6818+79-N5-N2         6956        6966E         6966                        10\n",
      "DEBUG:mathsformer.selfsupervised_learning_addition_model_backend:                 N5+77           72        72EEE           72          X              0\n",
      "DEBUG:mathsformer.selfsupervised_learning_addition_model_backend: N379+N752-7+N2992-328        N4458        N4368        N4368                        90\n",
      "DEBUG:mathsformer.selfsupervised_learning_addition_model_backend:       N7+N9-1+97-7774        N7694        N7694        N7694          X              0\n",
      "DEBUG:mathsformer.selfsupervised_learning_addition_model_backend:              75+N3612        N3537        N3537        N3537          X              0\n",
      "DEBUG:mathsformer.selfsupervised_learning_addition_model_backend:Running text --> text mathsformer inference on some validation data:\n",
      "DEBUG:mathsformer.selfsupervised_learning_addition_model_backend:-------------------------------------------------------------------------------\n",
      "DEBUG:mathsformer.selfsupervised_learning_addition_model_backend:         INPUT         TRUE   PRED(MASK)    PRED(GEN)      CORRECT     RESIDUAL\n",
      "DEBUG:mathsformer.selfsupervised_learning_addition_model_backend:-------------------------------------------------------------------------------\n",
      "DEBUG:mathsformer.selfsupervised_learning_addition_model_backend:  3-N3988+N847         3144        3145E         3145                         1\n",
      "DEBUG:mathsformer.selfsupervised_learning_addition_model_backend:     7797+5-N4         7806        7806E         7806          X              0\n",
      "DEBUG:mathsformer.selfsupervised_learning_addition_model_backend:  N8357-N11+N7        N8353        N8353        N8353          X              0\n",
      "DEBUG:mathsformer.selfsupervised_learning_addition_model_backend: 6686-N437-236         6887        6887E         6887          X              0\n",
      "DEBUG:mathsformer.selfsupervised_learning_addition_model_backend:     N5+4442+8         4445        4445E         4445          X              0\n",
      "DEBUG:mathsformer.selfsupervised_learning_addition_model_backend:   2123-N1+N68         2056        2056E         2056          X              0\n",
      "DEBUG:mathsformer.selfsupervised_learning_addition_model_backend:   95+4563+879         5537        5547E         5547                        10\n",
      "DEBUG:mathsformer.selfsupervised_learning_addition_model_backend:  1639+N2868+5        N1224        N1224        N1224          X              0\n",
      "DEBUG:mathsformer.selfsupervised_learning_addition_model_backend:      8+N725-3         N720        N710E         N710                        10\n",
      "DEBUG:mathsformer.selfsupervised_learning_addition_model_backend: N283+N962-N40        N1205        N1205        N1205          X              0\n"
     ]
    },
    {
     "name": "stdout",
     "output_type": "stream",
     "text": [
      "2000/2000 [==============================] - 740s 370ms/step - loss: 0.3142 - masked_categorical_accuracy: 0.8742 - val_loss: 0.2326 - val_masked_categorical_accuracy: 0.9115\n",
      "Epoch 44/100000\n",
      "2000/2000 [==============================] - ETA: 0s - loss: 0.2974 - masked_categorical_accuracy: 0.8804"
     ]
    },
    {
     "name": "stderr",
     "output_type": "stream",
     "text": [
      "DEBUG:mathsformer.selfsupervised_learning_addition_model_backend:Training reached the end of epoch at index 43\n",
      "DEBUG:mathsformer.selfsupervised_learning_addition_model_backend:    with metric loss: 0.29743\n",
      "DEBUG:mathsformer.selfsupervised_learning_addition_model_backend:    with metric masked_categorical_accuracy: 0.88041\n",
      "DEBUG:mathsformer.selfsupervised_learning_addition_model_backend:    with metric val_loss: 0.19574\n",
      "DEBUG:mathsformer.selfsupervised_learning_addition_model_backend:    with metric val_masked_categorical_accuracy: 0.93493\n",
      "DEBUG:mathsformer.selfsupervised_learning_addition_model_backend:Running text --> text mathsformer inference on some training data:\n",
      "DEBUG:mathsformer.selfsupervised_learning_addition_model_backend:---------------------------------------------------------------------------------------\n",
      "DEBUG:mathsformer.selfsupervised_learning_addition_model_backend:                 INPUT         TRUE   PRED(MASK)    PRED(GEN)      CORRECT     RESIDUAL\n",
      "DEBUG:mathsformer.selfsupervised_learning_addition_model_backend:---------------------------------------------------------------------------------------\n",
      "DEBUG:mathsformer.selfsupervised_learning_addition_model_backend:    N8097-N943+N8+5-86        N7243        N7243        N7243          X              0\n",
      "DEBUG:mathsformer.selfsupervised_learning_addition_model_backend:       N9+N4-N2+N943+4         N950        N950E         N950          X              0\n",
      "DEBUG:mathsformer.selfsupervised_learning_addition_model_backend:              476+N792         N316        N316E         N316          X              0\n",
      "DEBUG:mathsformer.selfsupervised_learning_addition_model_backend:     2333-6-N6836+8575        17738        17738        17738          X              0\n",
      "DEBUG:mathsformer.selfsupervised_learning_addition_model_backend:  N6665+617+N57+61+363        N5681        N5681        N5681          X              0\n",
      "DEBUG:mathsformer.selfsupervised_learning_addition_model_backend:     52-N6818+79-N5-N2         6956        6966E         6966                        10\n",
      "DEBUG:mathsformer.selfsupervised_learning_addition_model_backend:                 N5+77           72        72EEE           72          X              0\n",
      "DEBUG:mathsformer.selfsupervised_learning_addition_model_backend: N379+N752-7+N2992-328        N4458        N4468        N4468                       -10\n",
      "DEBUG:mathsformer.selfsupervised_learning_addition_model_backend:       N7+N9-1+97-7774        N7694        N7694        N7694          X              0\n",
      "DEBUG:mathsformer.selfsupervised_learning_addition_model_backend:              75+N3612        N3537        N3537        N3537          X              0\n",
      "DEBUG:mathsformer.selfsupervised_learning_addition_model_backend:Running text --> text mathsformer inference on some validation data:\n",
      "DEBUG:mathsformer.selfsupervised_learning_addition_model_backend:-------------------------------------------------------------------------------\n",
      "DEBUG:mathsformer.selfsupervised_learning_addition_model_backend:         INPUT         TRUE   PRED(MASK)    PRED(GEN)      CORRECT     RESIDUAL\n",
      "DEBUG:mathsformer.selfsupervised_learning_addition_model_backend:-------------------------------------------------------------------------------\n",
      "DEBUG:mathsformer.selfsupervised_learning_addition_model_backend:  3-N3988+N847         3144        3145E         3145                         1\n",
      "DEBUG:mathsformer.selfsupervised_learning_addition_model_backend:     7797+5-N4         7806        7807E         7807                         1\n",
      "DEBUG:mathsformer.selfsupervised_learning_addition_model_backend:  N8357-N11+N7        N8353        N8353        N8353          X              0\n",
      "DEBUG:mathsformer.selfsupervised_learning_addition_model_backend: 6686-N437-236         6887        6887E         6887          X              0\n",
      "DEBUG:mathsformer.selfsupervised_learning_addition_model_backend:     N5+4442+8         4445        4445E         4445          X              0\n",
      "DEBUG:mathsformer.selfsupervised_learning_addition_model_backend:   2123-N1+N68         2056        2056E         2056          X              0\n",
      "DEBUG:mathsformer.selfsupervised_learning_addition_model_backend:   95+4563+879         5537        5537E         5537          X              0\n",
      "DEBUG:mathsformer.selfsupervised_learning_addition_model_backend:  1639+N2868+5        N1224        N1224        N1224          X              0\n",
      "DEBUG:mathsformer.selfsupervised_learning_addition_model_backend:      8+N725-3         N720        N710E         N710                        10\n",
      "DEBUG:mathsformer.selfsupervised_learning_addition_model_backend: N283+N962-N40        N1205        N1205        N1205          X              0\n"
     ]
    },
    {
     "name": "stdout",
     "output_type": "stream",
     "text": [
      "2000/2000 [==============================] - 721s 361ms/step - loss: 0.2974 - masked_categorical_accuracy: 0.8804 - val_loss: 0.1957 - val_masked_categorical_accuracy: 0.9349\n",
      "Epoch 45/100000\n",
      "2000/2000 [==============================] - ETA: 0s - loss: 0.2894 - masked_categorical_accuracy: 0.8844"
     ]
    },
    {
     "name": "stderr",
     "output_type": "stream",
     "text": [
      "DEBUG:mathsformer.selfsupervised_learning_addition_model_backend:Training reached the end of epoch at index 44\n",
      "DEBUG:mathsformer.selfsupervised_learning_addition_model_backend:    with metric loss: 0.28942\n",
      "DEBUG:mathsformer.selfsupervised_learning_addition_model_backend:    with metric masked_categorical_accuracy: 0.88444\n",
      "DEBUG:mathsformer.selfsupervised_learning_addition_model_backend:    with metric val_loss: 0.16114\n",
      "DEBUG:mathsformer.selfsupervised_learning_addition_model_backend:    with metric val_masked_categorical_accuracy: 0.94459\n",
      "DEBUG:mathsformer.selfsupervised_learning_addition_model_backend:Running text --> text mathsformer inference on some training data:\n",
      "DEBUG:mathsformer.selfsupervised_learning_addition_model_backend:---------------------------------------------------------------------------------------\n",
      "DEBUG:mathsformer.selfsupervised_learning_addition_model_backend:                 INPUT         TRUE   PRED(MASK)    PRED(GEN)      CORRECT     RESIDUAL\n",
      "DEBUG:mathsformer.selfsupervised_learning_addition_model_backend:---------------------------------------------------------------------------------------\n",
      "DEBUG:mathsformer.selfsupervised_learning_addition_model_backend:    N8097-N943+N8+5-86        N7243        N7243        N7243          X              0\n",
      "DEBUG:mathsformer.selfsupervised_learning_addition_model_backend:       N9+N4-N2+N943+4         N950        N950E         N950          X              0\n",
      "DEBUG:mathsformer.selfsupervised_learning_addition_model_backend:              476+N792         N316        N316E         N316          X              0\n",
      "DEBUG:mathsformer.selfsupervised_learning_addition_model_backend:     2333-6-N6836+8575        17738        17738        17738          X              0\n",
      "DEBUG:mathsformer.selfsupervised_learning_addition_model_backend:  N6665+617+N57+61+363        N5681        N5682        N5682                        -1\n",
      "DEBUG:mathsformer.selfsupervised_learning_addition_model_backend:     52-N6818+79-N5-N2         6956        6965E         6965                         9\n",
      "DEBUG:mathsformer.selfsupervised_learning_addition_model_backend:                 N5+77           72        72EEE           72          X              0\n",
      "DEBUG:mathsformer.selfsupervised_learning_addition_model_backend: N379+N752-7+N2992-328        N4458        N4268        N4268                       190\n",
      "DEBUG:mathsformer.selfsupervised_learning_addition_model_backend:       N7+N9-1+97-7774        N7694        N7694        N7694          X              0\n",
      "DEBUG:mathsformer.selfsupervised_learning_addition_model_backend:              75+N3612        N3537        N3537        N3537          X              0\n",
      "DEBUG:mathsformer.selfsupervised_learning_addition_model_backend:Running text --> text mathsformer inference on some validation data:\n",
      "DEBUG:mathsformer.selfsupervised_learning_addition_model_backend:-------------------------------------------------------------------------------\n",
      "DEBUG:mathsformer.selfsupervised_learning_addition_model_backend:         INPUT         TRUE   PRED(MASK)    PRED(GEN)      CORRECT     RESIDUAL\n",
      "DEBUG:mathsformer.selfsupervised_learning_addition_model_backend:-------------------------------------------------------------------------------\n",
      "DEBUG:mathsformer.selfsupervised_learning_addition_model_backend:  3-N3988+N847         3144        3144E         3144          X              0\n",
      "DEBUG:mathsformer.selfsupervised_learning_addition_model_backend:     7797+5-N4         7806        7806E         7806          X              0\n",
      "DEBUG:mathsformer.selfsupervised_learning_addition_model_backend:  N8357-N11+N7        N8353        N8353        N8353          X              0\n",
      "DEBUG:mathsformer.selfsupervised_learning_addition_model_backend: 6686-N437-236         6887        6887E         6887          X              0\n",
      "DEBUG:mathsformer.selfsupervised_learning_addition_model_backend:     N5+4442+8         4445        4445E         4445          X              0\n",
      "DEBUG:mathsformer.selfsupervised_learning_addition_model_backend:   2123-N1+N68         2056        2056E         2056          X              0\n",
      "DEBUG:mathsformer.selfsupervised_learning_addition_model_backend:   95+4563+879         5537        5547E         5547                        10\n",
      "DEBUG:mathsformer.selfsupervised_learning_addition_model_backend:  1639+N2868+5        N1224        N1224        N1224          X              0\n",
      "DEBUG:mathsformer.selfsupervised_learning_addition_model_backend:      8+N725-3         N720        N710E         N710                        10\n",
      "DEBUG:mathsformer.selfsupervised_learning_addition_model_backend: N283+N962-N40        N1205        N1205        N1205          X              0\n"
     ]
    },
    {
     "name": "stdout",
     "output_type": "stream",
     "text": [
      "2000/2000 [==============================] - 719s 359ms/step - loss: 0.2894 - masked_categorical_accuracy: 0.8844 - val_loss: 0.1611 - val_masked_categorical_accuracy: 0.9446\n",
      "Epoch 46/100000\n",
      "2000/2000 [==============================] - ETA: 0s - loss: 0.2722 - masked_categorical_accuracy: 0.8916"
     ]
    },
    {
     "name": "stderr",
     "output_type": "stream",
     "text": [
      "DEBUG:mathsformer.selfsupervised_learning_addition_model_backend:Training reached the end of epoch at index 45\n",
      "DEBUG:mathsformer.selfsupervised_learning_addition_model_backend:    with metric loss: 0.27216\n",
      "DEBUG:mathsformer.selfsupervised_learning_addition_model_backend:    with metric masked_categorical_accuracy: 0.89162\n",
      "DEBUG:mathsformer.selfsupervised_learning_addition_model_backend:    with metric val_loss: 0.19183\n",
      "DEBUG:mathsformer.selfsupervised_learning_addition_model_backend:    with metric val_masked_categorical_accuracy: 0.93609\n",
      "DEBUG:mathsformer.selfsupervised_learning_addition_model_backend:Running text --> text mathsformer inference on some training data:\n",
      "DEBUG:mathsformer.selfsupervised_learning_addition_model_backend:---------------------------------------------------------------------------------------\n",
      "DEBUG:mathsformer.selfsupervised_learning_addition_model_backend:                 INPUT         TRUE   PRED(MASK)    PRED(GEN)      CORRECT     RESIDUAL\n",
      "DEBUG:mathsformer.selfsupervised_learning_addition_model_backend:---------------------------------------------------------------------------------------\n",
      "DEBUG:mathsformer.selfsupervised_learning_addition_model_backend:    N8097-N943+N8+5-86        N7243        N7343        N7343                      -100\n",
      "DEBUG:mathsformer.selfsupervised_learning_addition_model_backend:       N9+N4-N2+N943+4         N950        N950E         N950          X              0\n",
      "DEBUG:mathsformer.selfsupervised_learning_addition_model_backend:              476+N792         N316        N316E         N316          X              0\n",
      "DEBUG:mathsformer.selfsupervised_learning_addition_model_backend:     2333-6-N6836+8575        17738        17748        17748                        10\n",
      "DEBUG:mathsformer.selfsupervised_learning_addition_model_backend:  N6665+617+N57+61+363        N5681        N5681        N5681          X              0\n",
      "DEBUG:mathsformer.selfsupervised_learning_addition_model_backend:     52-N6818+79-N5-N2         6956        6956E         6956          X              0\n",
      "DEBUG:mathsformer.selfsupervised_learning_addition_model_backend:                 N5+77           72        72EEE           72          X              0\n",
      "DEBUG:mathsformer.selfsupervised_learning_addition_model_backend: N379+N752-7+N2992-328        N4458        N4368        N4368                        90\n",
      "DEBUG:mathsformer.selfsupervised_learning_addition_model_backend:       N7+N9-1+97-7774        N7694        N7694        N7694          X              0\n",
      "DEBUG:mathsformer.selfsupervised_learning_addition_model_backend:              75+N3612        N3537        N3537        N3537          X              0\n",
      "DEBUG:mathsformer.selfsupervised_learning_addition_model_backend:Running text --> text mathsformer inference on some validation data:\n",
      "DEBUG:mathsformer.selfsupervised_learning_addition_model_backend:-------------------------------------------------------------------------------\n",
      "DEBUG:mathsformer.selfsupervised_learning_addition_model_backend:         INPUT         TRUE   PRED(MASK)    PRED(GEN)      CORRECT     RESIDUAL\n",
      "DEBUG:mathsformer.selfsupervised_learning_addition_model_backend:-------------------------------------------------------------------------------\n",
      "DEBUG:mathsformer.selfsupervised_learning_addition_model_backend:  3-N3988+N847         3144        3144E         3144          X              0\n",
      "DEBUG:mathsformer.selfsupervised_learning_addition_model_backend:     7797+5-N4         7806        7807E         7807                         1\n",
      "DEBUG:mathsformer.selfsupervised_learning_addition_model_backend:  N8357-N11+N7        N8353        N8353        N8353          X              0\n",
      "DEBUG:mathsformer.selfsupervised_learning_addition_model_backend: 6686-N437-236         6887        6887E         6887          X              0\n",
      "DEBUG:mathsformer.selfsupervised_learning_addition_model_backend:     N5+4442+8         4445        4445E         4445          X              0\n",
      "DEBUG:mathsformer.selfsupervised_learning_addition_model_backend:   2123-N1+N68         2056        2056E         2056          X              0\n",
      "DEBUG:mathsformer.selfsupervised_learning_addition_model_backend:   95+4563+879         5537        5537E         5537          X              0\n",
      "DEBUG:mathsformer.selfsupervised_learning_addition_model_backend:  1639+N2868+5        N1224        N1224        N1224          X              0\n",
      "DEBUG:mathsformer.selfsupervised_learning_addition_model_backend:      8+N725-3         N720        N720E         N720          X              0\n",
      "DEBUG:mathsformer.selfsupervised_learning_addition_model_backend: N283+N962-N40        N1205        N1205        N1205          X              0\n"
     ]
    },
    {
     "name": "stdout",
     "output_type": "stream",
     "text": [
      "2000/2000 [==============================] - 718s 359ms/step - loss: 0.2722 - masked_categorical_accuracy: 0.8916 - val_loss: 0.1918 - val_masked_categorical_accuracy: 0.9361\n",
      "Epoch 47/100000\n",
      "2000/2000 [==============================] - ETA: 0s - loss: 0.2681 - masked_categorical_accuracy: 0.8954"
     ]
    },
    {
     "name": "stderr",
     "output_type": "stream",
     "text": [
      "DEBUG:mathsformer.selfsupervised_learning_addition_model_backend:Training reached the end of epoch at index 46\n",
      "DEBUG:mathsformer.selfsupervised_learning_addition_model_backend:    with metric loss: 0.26808\n",
      "DEBUG:mathsformer.selfsupervised_learning_addition_model_backend:    with metric masked_categorical_accuracy: 0.89543\n",
      "DEBUG:mathsformer.selfsupervised_learning_addition_model_backend:    with metric val_loss: 0.1516\n",
      "DEBUG:mathsformer.selfsupervised_learning_addition_model_backend:    with metric val_masked_categorical_accuracy: 0.9528\n",
      "DEBUG:mathsformer.selfsupervised_learning_addition_model_backend:Running text --> text mathsformer inference on some training data:\n",
      "DEBUG:mathsformer.selfsupervised_learning_addition_model_backend:---------------------------------------------------------------------------------------\n",
      "DEBUG:mathsformer.selfsupervised_learning_addition_model_backend:                 INPUT         TRUE   PRED(MASK)    PRED(GEN)      CORRECT     RESIDUAL\n",
      "DEBUG:mathsformer.selfsupervised_learning_addition_model_backend:---------------------------------------------------------------------------------------\n",
      "DEBUG:mathsformer.selfsupervised_learning_addition_model_backend:    N8097-N943+N8+5-86        N7243        N7343        N7343                      -100\n",
      "DEBUG:mathsformer.selfsupervised_learning_addition_model_backend:       N9+N4-N2+N943+4         N950        N949E         N949                         1\n",
      "DEBUG:mathsformer.selfsupervised_learning_addition_model_backend:              476+N792         N316        N316E         N316          X              0\n",
      "DEBUG:mathsformer.selfsupervised_learning_addition_model_backend:     2333-6-N6836+8575        17738        17738        17738          X              0\n",
      "DEBUG:mathsformer.selfsupervised_learning_addition_model_backend:  N6665+617+N57+61+363        N5681        N5681        N5681          X              0\n",
      "DEBUG:mathsformer.selfsupervised_learning_addition_model_backend:     52-N6818+79-N5-N2         6956        6956E         6956          X              0\n",
      "DEBUG:mathsformer.selfsupervised_learning_addition_model_backend:                 N5+77           72        72EEE           72          X              0\n",
      "DEBUG:mathsformer.selfsupervised_learning_addition_model_backend: N379+N752-7+N2992-328        N4458        N4347        N4347                       111\n",
      "DEBUG:mathsformer.selfsupervised_learning_addition_model_backend:       N7+N9-1+97-7774        N7694        N7694        N7694          X              0\n",
      "DEBUG:mathsformer.selfsupervised_learning_addition_model_backend:              75+N3612        N3537        N3537        N3537          X              0\n",
      "DEBUG:mathsformer.selfsupervised_learning_addition_model_backend:Running text --> text mathsformer inference on some validation data:\n",
      "DEBUG:mathsformer.selfsupervised_learning_addition_model_backend:-------------------------------------------------------------------------------\n",
      "DEBUG:mathsformer.selfsupervised_learning_addition_model_backend:         INPUT         TRUE   PRED(MASK)    PRED(GEN)      CORRECT     RESIDUAL\n",
      "DEBUG:mathsformer.selfsupervised_learning_addition_model_backend:-------------------------------------------------------------------------------\n",
      "DEBUG:mathsformer.selfsupervised_learning_addition_model_backend:  3-N3988+N847         3144        3144E         3144          X              0\n",
      "DEBUG:mathsformer.selfsupervised_learning_addition_model_backend:     7797+5-N4         7806        7806E         7806          X              0\n",
      "DEBUG:mathsformer.selfsupervised_learning_addition_model_backend:  N8357-N11+N7        N8353        N8353        N8353          X              0\n",
      "DEBUG:mathsformer.selfsupervised_learning_addition_model_backend: 6686-N437-236         6887        6887E         6887          X              0\n",
      "DEBUG:mathsformer.selfsupervised_learning_addition_model_backend:     N5+4442+8         4445        4445E         4445          X              0\n",
      "DEBUG:mathsformer.selfsupervised_learning_addition_model_backend:   2123-N1+N68         2056        2056E         2056          X              0\n",
      "DEBUG:mathsformer.selfsupervised_learning_addition_model_backend:   95+4563+879         5537        5537E         5537          X              0\n",
      "DEBUG:mathsformer.selfsupervised_learning_addition_model_backend:  1639+N2868+5        N1224        N1224        N1224          X              0\n",
      "DEBUG:mathsformer.selfsupervised_learning_addition_model_backend:      8+N725-3         N720        N720E         N720          X              0\n",
      "DEBUG:mathsformer.selfsupervised_learning_addition_model_backend: N283+N962-N40        N1205        N1215        N1215                       -10\n"
     ]
    },
    {
     "name": "stdout",
     "output_type": "stream",
     "text": [
      "2000/2000 [==============================] - 715s 357ms/step - loss: 0.2681 - masked_categorical_accuracy: 0.8954 - val_loss: 0.1516 - val_masked_categorical_accuracy: 0.9528\n",
      "Epoch 48/100000\n",
      "2000/2000 [==============================] - ETA: 0s - loss: 0.2527 - masked_categorical_accuracy: 0.9013"
     ]
    },
    {
     "name": "stderr",
     "output_type": "stream",
     "text": [
      "DEBUG:mathsformer.selfsupervised_learning_addition_model_backend:Training reached the end of epoch at index 47\n",
      "DEBUG:mathsformer.selfsupervised_learning_addition_model_backend:    with metric loss: 0.25265\n",
      "DEBUG:mathsformer.selfsupervised_learning_addition_model_backend:    with metric masked_categorical_accuracy: 0.90127\n",
      "DEBUG:mathsformer.selfsupervised_learning_addition_model_backend:    with metric val_loss: 0.25715\n",
      "DEBUG:mathsformer.selfsupervised_learning_addition_model_backend:    with metric val_masked_categorical_accuracy: 0.92375\n",
      "DEBUG:mathsformer.selfsupervised_learning_addition_model_backend:Running text --> text mathsformer inference on some training data:\n",
      "DEBUG:mathsformer.selfsupervised_learning_addition_model_backend:---------------------------------------------------------------------------------------\n",
      "DEBUG:mathsformer.selfsupervised_learning_addition_model_backend:                 INPUT         TRUE   PRED(MASK)    PRED(GEN)      CORRECT     RESIDUAL\n",
      "DEBUG:mathsformer.selfsupervised_learning_addition_model_backend:---------------------------------------------------------------------------------------\n",
      "DEBUG:mathsformer.selfsupervised_learning_addition_model_backend:    N8097-N943+N8+5-86        N7243        N7242        N7242                         1\n",
      "DEBUG:mathsformer.selfsupervised_learning_addition_model_backend:       N9+N4-N2+N943+4         N950        N950E         N950          X              0\n",
      "DEBUG:mathsformer.selfsupervised_learning_addition_model_backend:              476+N792         N316        N256E         N216                       100\n",
      "DEBUG:mathsformer.selfsupervised_learning_addition_model_backend:     2333-6-N6836+8575        17738        17638        17638                      -100\n",
      "DEBUG:mathsformer.selfsupervised_learning_addition_model_backend:  N6665+617+N57+61+363        N5681        N5680        N5680                         1\n",
      "DEBUG:mathsformer.selfsupervised_learning_addition_model_backend:     52-N6818+79-N5-N2         6956        6956E         6956          X              0\n",
      "DEBUG:mathsformer.selfsupervised_learning_addition_model_backend:                 N5+77           72        72EEE           72          X              0\n",
      "DEBUG:mathsformer.selfsupervised_learning_addition_model_backend: N379+N752-7+N2992-328        N4458        N4367        N4367                        91\n",
      "DEBUG:mathsformer.selfsupervised_learning_addition_model_backend:       N7+N9-1+97-7774        N7694        N7693        N7693                         1\n",
      "DEBUG:mathsformer.selfsupervised_learning_addition_model_backend:              75+N3612        N3537        N3537        N3537          X              0\n",
      "DEBUG:mathsformer.selfsupervised_learning_addition_model_backend:Running text --> text mathsformer inference on some validation data:\n",
      "DEBUG:mathsformer.selfsupervised_learning_addition_model_backend:-------------------------------------------------------------------------------\n",
      "DEBUG:mathsformer.selfsupervised_learning_addition_model_backend:         INPUT         TRUE   PRED(MASK)    PRED(GEN)      CORRECT     RESIDUAL\n",
      "DEBUG:mathsformer.selfsupervised_learning_addition_model_backend:-------------------------------------------------------------------------------\n",
      "DEBUG:mathsformer.selfsupervised_learning_addition_model_backend:  3-N3988+N847         3144        3144E         3144          X              0\n",
      "DEBUG:mathsformer.selfsupervised_learning_addition_model_backend:     7797+5-N4         7806        7807E         7807                         1\n",
      "DEBUG:mathsformer.selfsupervised_learning_addition_model_backend:  N8357-N11+N7        N8353        N8353        N8353          X              0\n",
      "DEBUG:mathsformer.selfsupervised_learning_addition_model_backend: 6686-N437-236         6887        6887E         6887          X              0\n",
      "DEBUG:mathsformer.selfsupervised_learning_addition_model_backend:     N5+4442+8         4445        4444E         4444                        -1\n",
      "DEBUG:mathsformer.selfsupervised_learning_addition_model_backend:   2123-N1+N68         2056        2056E         2056          X              0\n",
      "DEBUG:mathsformer.selfsupervised_learning_addition_model_backend:   95+4563+879         5537        5547E         5547                        10\n",
      "DEBUG:mathsformer.selfsupervised_learning_addition_model_backend:  1639+N2868+5        N1224        N1124        N1124                       100\n",
      "DEBUG:mathsformer.selfsupervised_learning_addition_model_backend:      8+N725-3         N720        N720E         N720          X              0\n",
      "DEBUG:mathsformer.selfsupervised_learning_addition_model_backend: N283+N962-N40        N1205        N1205        N1205          X              0\n"
     ]
    },
    {
     "name": "stdout",
     "output_type": "stream",
     "text": [
      "2000/2000 [==============================] - 727s 364ms/step - loss: 0.2527 - masked_categorical_accuracy: 0.9013 - val_loss: 0.2571 - val_masked_categorical_accuracy: 0.9238\n",
      "Epoch 49/100000\n",
      "2000/2000 [==============================] - ETA: 0s - loss: 0.2314 - masked_categorical_accuracy: 0.9088"
     ]
    },
    {
     "name": "stderr",
     "output_type": "stream",
     "text": [
      "DEBUG:mathsformer.selfsupervised_learning_addition_model_backend:Training reached the end of epoch at index 48\n",
      "DEBUG:mathsformer.selfsupervised_learning_addition_model_backend:    with metric loss: 0.23143\n",
      "DEBUG:mathsformer.selfsupervised_learning_addition_model_backend:    with metric masked_categorical_accuracy: 0.90875\n",
      "DEBUG:mathsformer.selfsupervised_learning_addition_model_backend:    with metric val_loss: 0.14201\n",
      "DEBUG:mathsformer.selfsupervised_learning_addition_model_backend:    with metric val_masked_categorical_accuracy: 0.95254\n",
      "DEBUG:mathsformer.selfsupervised_learning_addition_model_backend:Running text --> text mathsformer inference on some training data:\n",
      "DEBUG:mathsformer.selfsupervised_learning_addition_model_backend:---------------------------------------------------------------------------------------\n",
      "DEBUG:mathsformer.selfsupervised_learning_addition_model_backend:                 INPUT         TRUE   PRED(MASK)    PRED(GEN)      CORRECT     RESIDUAL\n",
      "DEBUG:mathsformer.selfsupervised_learning_addition_model_backend:---------------------------------------------------------------------------------------\n",
      "DEBUG:mathsformer.selfsupervised_learning_addition_model_backend:    N8097-N943+N8+5-86        N7243        N7233        N7233                        10\n",
      "DEBUG:mathsformer.selfsupervised_learning_addition_model_backend:       N9+N4-N2+N943+4         N950        N950E         N950          X              0\n",
      "DEBUG:mathsformer.selfsupervised_learning_addition_model_backend:              476+N792         N316        N316E         N316          X              0\n",
      "DEBUG:mathsformer.selfsupervised_learning_addition_model_backend:     2333-6-N6836+8575        17738        17729        17729                        -9\n",
      "DEBUG:mathsformer.selfsupervised_learning_addition_model_backend:  N6665+617+N57+61+363        N5681        N5681        N5681          X              0\n",
      "DEBUG:mathsformer.selfsupervised_learning_addition_model_backend:     52-N6818+79-N5-N2         6956        6955E         6955                        -1\n",
      "DEBUG:mathsformer.selfsupervised_learning_addition_model_backend:                 N5+77           72        72EEE           72          X              0\n",
      "DEBUG:mathsformer.selfsupervised_learning_addition_model_backend: N379+N752-7+N2992-328        N4458        N4468        N4468                       -10\n",
      "DEBUG:mathsformer.selfsupervised_learning_addition_model_backend:       N7+N9-1+97-7774        N7694        N7694        N7694          X              0\n",
      "DEBUG:mathsformer.selfsupervised_learning_addition_model_backend:              75+N3612        N3537        N3537        N3537          X              0\n",
      "DEBUG:mathsformer.selfsupervised_learning_addition_model_backend:Running text --> text mathsformer inference on some validation data:\n",
      "DEBUG:mathsformer.selfsupervised_learning_addition_model_backend:-------------------------------------------------------------------------------\n",
      "DEBUG:mathsformer.selfsupervised_learning_addition_model_backend:         INPUT         TRUE   PRED(MASK)    PRED(GEN)      CORRECT     RESIDUAL\n",
      "DEBUG:mathsformer.selfsupervised_learning_addition_model_backend:-------------------------------------------------------------------------------\n",
      "DEBUG:mathsformer.selfsupervised_learning_addition_model_backend:  3-N3988+N847         3144        3144E         3144          X              0\n",
      "DEBUG:mathsformer.selfsupervised_learning_addition_model_backend:     7797+5-N4         7806        7806E         7806          X              0\n",
      "DEBUG:mathsformer.selfsupervised_learning_addition_model_backend:  N8357-N11+N7        N8353        N8353        N8353          X              0\n",
      "DEBUG:mathsformer.selfsupervised_learning_addition_model_backend: 6686-N437-236         6887        6887E         6887          X              0\n",
      "DEBUG:mathsformer.selfsupervised_learning_addition_model_backend:     N5+4442+8         4445        4445E         4445          X              0\n",
      "DEBUG:mathsformer.selfsupervised_learning_addition_model_backend:   2123-N1+N68         2056        2056E         2056          X              0\n",
      "DEBUG:mathsformer.selfsupervised_learning_addition_model_backend:   95+4563+879         5537        5537E         5537          X              0\n",
      "DEBUG:mathsformer.selfsupervised_learning_addition_model_backend:  1639+N2868+5        N1224        N1224        N1224          X              0\n",
      "DEBUG:mathsformer.selfsupervised_learning_addition_model_backend:      8+N725-3         N720        N720E         N720          X              0\n",
      "DEBUG:mathsformer.selfsupervised_learning_addition_model_backend: N283+N962-N40        N1205        N1205        N1205          X              0\n"
     ]
    },
    {
     "name": "stdout",
     "output_type": "stream",
     "text": [
      "2000/2000 [==============================] - 733s 366ms/step - loss: 0.2314 - masked_categorical_accuracy: 0.9088 - val_loss: 0.1420 - val_masked_categorical_accuracy: 0.9525\n",
      "Epoch 50/100000\n",
      "2000/2000 [==============================] - ETA: 0s - loss: 0.2275 - masked_categorical_accuracy: 0.9115"
     ]
    },
    {
     "name": "stderr",
     "output_type": "stream",
     "text": [
      "DEBUG:mathsformer.selfsupervised_learning_addition_model_backend:Training reached the end of epoch at index 49\n",
      "DEBUG:mathsformer.selfsupervised_learning_addition_model_backend:    with metric loss: 0.22753\n",
      "DEBUG:mathsformer.selfsupervised_learning_addition_model_backend:    with metric masked_categorical_accuracy: 0.91146\n",
      "DEBUG:mathsformer.selfsupervised_learning_addition_model_backend:    with metric val_loss: 0.16845\n",
      "DEBUG:mathsformer.selfsupervised_learning_addition_model_backend:    with metric val_masked_categorical_accuracy: 0.93959\n",
      "DEBUG:mathsformer.selfsupervised_learning_addition_model_backend:Running text --> text mathsformer inference on some training data:\n",
      "DEBUG:mathsformer.selfsupervised_learning_addition_model_backend:---------------------------------------------------------------------------------------\n",
      "DEBUG:mathsformer.selfsupervised_learning_addition_model_backend:                 INPUT         TRUE   PRED(MASK)    PRED(GEN)      CORRECT     RESIDUAL\n",
      "DEBUG:mathsformer.selfsupervised_learning_addition_model_backend:---------------------------------------------------------------------------------------\n",
      "DEBUG:mathsformer.selfsupervised_learning_addition_model_backend:    N8097-N943+N8+5-86        N7243        N7243        N7243          X              0\n",
      "DEBUG:mathsformer.selfsupervised_learning_addition_model_backend:       N9+N4-N2+N943+4         N950        N950E         N950          X              0\n",
      "DEBUG:mathsformer.selfsupervised_learning_addition_model_backend:              476+N792         N316        N316E         N316          X              0\n",
      "DEBUG:mathsformer.selfsupervised_learning_addition_model_backend:     2333-6-N6836+8575        17738        17749        17749                        11\n",
      "DEBUG:mathsformer.selfsupervised_learning_addition_model_backend:  N6665+617+N57+61+363        N5681        N5681        N5681          X              0\n",
      "DEBUG:mathsformer.selfsupervised_learning_addition_model_backend:     52-N6818+79-N5-N2         6956        6966E         6966                        10\n",
      "DEBUG:mathsformer.selfsupervised_learning_addition_model_backend:                 N5+77           72        72EEE           72          X              0\n",
      "DEBUG:mathsformer.selfsupervised_learning_addition_model_backend: N379+N752-7+N2992-328        N4458        N4458        N4458          X              0\n",
      "DEBUG:mathsformer.selfsupervised_learning_addition_model_backend:       N7+N9-1+97-7774        N7694        N7694        N7694          X              0\n",
      "DEBUG:mathsformer.selfsupervised_learning_addition_model_backend:              75+N3612        N3537        N3537        N3537          X              0\n",
      "DEBUG:mathsformer.selfsupervised_learning_addition_model_backend:Running text --> text mathsformer inference on some validation data:\n",
      "DEBUG:mathsformer.selfsupervised_learning_addition_model_backend:-------------------------------------------------------------------------------\n",
      "DEBUG:mathsformer.selfsupervised_learning_addition_model_backend:         INPUT         TRUE   PRED(MASK)    PRED(GEN)      CORRECT     RESIDUAL\n",
      "DEBUG:mathsformer.selfsupervised_learning_addition_model_backend:-------------------------------------------------------------------------------\n",
      "DEBUG:mathsformer.selfsupervised_learning_addition_model_backend:  3-N3988+N847         3144        3144E         3144          X              0\n",
      "DEBUG:mathsformer.selfsupervised_learning_addition_model_backend:     7797+5-N4         7806        7807E         7807                         1\n",
      "DEBUG:mathsformer.selfsupervised_learning_addition_model_backend:  N8357-N11+N7        N8353        N8353        N8353          X              0\n",
      "DEBUG:mathsformer.selfsupervised_learning_addition_model_backend: 6686-N437-236         6887        6887E         6887          X              0\n",
      "DEBUG:mathsformer.selfsupervised_learning_addition_model_backend:     N5+4442+8         4445        4445E         4445          X              0\n",
      "DEBUG:mathsformer.selfsupervised_learning_addition_model_backend:   2123-N1+N68         2056        2056E         2056          X              0\n",
      "DEBUG:mathsformer.selfsupervised_learning_addition_model_backend:   95+4563+879         5537        5538E         5538                         1\n",
      "DEBUG:mathsformer.selfsupervised_learning_addition_model_backend:  1639+N2868+5        N1224        N1224        N1224          X              0\n",
      "DEBUG:mathsformer.selfsupervised_learning_addition_model_backend:      8+N725-3         N720        N721E         N721                        -1\n",
      "DEBUG:mathsformer.selfsupervised_learning_addition_model_backend: N283+N962-N40        N1205        N1205        N1205          X              0\n"
     ]
    },
    {
     "name": "stdout",
     "output_type": "stream",
     "text": [
      "2000/2000 [==============================] - 733s 366ms/step - loss: 0.2275 - masked_categorical_accuracy: 0.9115 - val_loss: 0.1685 - val_masked_categorical_accuracy: 0.9396\n",
      "Epoch 51/100000\n",
      "2000/2000 [==============================] - ETA: 0s - loss: 0.2190 - masked_categorical_accuracy: 0.9157"
     ]
    },
    {
     "name": "stderr",
     "output_type": "stream",
     "text": [
      "DEBUG:mathsformer.selfsupervised_learning_addition_model_backend:Training reached the end of epoch at index 50\n",
      "DEBUG:mathsformer.selfsupervised_learning_addition_model_backend:    with metric loss: 0.21903\n",
      "DEBUG:mathsformer.selfsupervised_learning_addition_model_backend:    with metric masked_categorical_accuracy: 0.91574\n",
      "DEBUG:mathsformer.selfsupervised_learning_addition_model_backend:    with metric val_loss: 0.50246\n",
      "DEBUG:mathsformer.selfsupervised_learning_addition_model_backend:    with metric val_masked_categorical_accuracy: 0.82406\n",
      "DEBUG:mathsformer.selfsupervised_learning_addition_model_backend:Running text --> text mathsformer inference on some training data:\n",
      "DEBUG:mathsformer.selfsupervised_learning_addition_model_backend:---------------------------------------------------------------------------------------\n",
      "DEBUG:mathsformer.selfsupervised_learning_addition_model_backend:                 INPUT         TRUE   PRED(MASK)    PRED(GEN)      CORRECT     RESIDUAL\n",
      "DEBUG:mathsformer.selfsupervised_learning_addition_model_backend:---------------------------------------------------------------------------------------\n",
      "DEBUG:mathsformer.selfsupervised_learning_addition_model_backend:    N8097-N943+N8+5-86        N7243        N7352        N7352                      -109\n",
      "DEBUG:mathsformer.selfsupervised_learning_addition_model_backend:       N9+N4-N2+N943+4         N950        N951E         N951                        -1\n",
      "DEBUG:mathsformer.selfsupervised_learning_addition_model_backend:              476+N792         N316        N415E         N415                       -99\n",
      "DEBUG:mathsformer.selfsupervised_learning_addition_model_backend:     2333-6-N6836+8575        17738        16638        16638                     -1100\n",
      "DEBUG:mathsformer.selfsupervised_learning_addition_model_backend:  N6665+617+N57+61+363        N5681        N5670        N5670                        11\n",
      "DEBUG:mathsformer.selfsupervised_learning_addition_model_backend:     52-N6818+79-N5-N2         6956        6976E         6976                        20\n",
      "DEBUG:mathsformer.selfsupervised_learning_addition_model_backend:                 N5+77           72        73EEE           73                         1\n",
      "DEBUG:mathsformer.selfsupervised_learning_addition_model_backend: N379+N752-7+N2992-328        N4458        N4578        N4578                      -120\n",
      "DEBUG:mathsformer.selfsupervised_learning_addition_model_backend:       N7+N9-1+97-7774        N7694        N7775        N7775                       -81\n",
      "DEBUG:mathsformer.selfsupervised_learning_addition_model_backend:              75+N3612        N3537        N3537        N3537          X              0\n",
      "DEBUG:mathsformer.selfsupervised_learning_addition_model_backend:Running text --> text mathsformer inference on some validation data:\n",
      "DEBUG:mathsformer.selfsupervised_learning_addition_model_backend:-------------------------------------------------------------------------------\n",
      "DEBUG:mathsformer.selfsupervised_learning_addition_model_backend:         INPUT         TRUE   PRED(MASK)    PRED(GEN)      CORRECT     RESIDUAL\n",
      "DEBUG:mathsformer.selfsupervised_learning_addition_model_backend:-------------------------------------------------------------------------------\n",
      "DEBUG:mathsformer.selfsupervised_learning_addition_model_backend:  3-N3988+N847         3144        3145E         3145                         1\n",
      "DEBUG:mathsformer.selfsupervised_learning_addition_model_backend:     7797+5-N4         7806        7807E         7807                         1\n",
      "DEBUG:mathsformer.selfsupervised_learning_addition_model_backend:  N8357-N11+N7        N8353        N8352        N8352                         1\n",
      "DEBUG:mathsformer.selfsupervised_learning_addition_model_backend: 6686-N437-236         6887        6887E         6887          X              0\n",
      "DEBUG:mathsformer.selfsupervised_learning_addition_model_backend:     N5+4442+8         4445        4445E         4445          X              0\n",
      "DEBUG:mathsformer.selfsupervised_learning_addition_model_backend:   2123-N1+N68         2056        2056E         2056          X              0\n",
      "DEBUG:mathsformer.selfsupervised_learning_addition_model_backend:   95+4563+879         5537        5558E         5558                        21\n",
      "DEBUG:mathsformer.selfsupervised_learning_addition_model_backend:  1639+N2868+5        N1224        N1224        N1224          X              0\n",
      "DEBUG:mathsformer.selfsupervised_learning_addition_model_backend:      8+N725-3         N720        N720E         N720          X              0\n",
      "DEBUG:mathsformer.selfsupervised_learning_addition_model_backend: N283+N962-N40        N1205        N1105        N1105                       100\n"
     ]
    },
    {
     "name": "stdout",
     "output_type": "stream",
     "text": [
      "2000/2000 [==============================] - 692s 346ms/step - loss: 0.2190 - masked_categorical_accuracy: 0.9157 - val_loss: 0.5025 - val_masked_categorical_accuracy: 0.8241\n",
      "Epoch 52/100000\n",
      "2000/2000 [==============================] - ETA: 0s - loss: 0.2071 - masked_categorical_accuracy: 0.9198"
     ]
    },
    {
     "name": "stderr",
     "output_type": "stream",
     "text": [
      "DEBUG:mathsformer.selfsupervised_learning_addition_model_backend:Training reached the end of epoch at index 51\n",
      "DEBUG:mathsformer.selfsupervised_learning_addition_model_backend:    with metric loss: 0.20706\n",
      "DEBUG:mathsformer.selfsupervised_learning_addition_model_backend:    with metric masked_categorical_accuracy: 0.91984\n",
      "DEBUG:mathsformer.selfsupervised_learning_addition_model_backend:    with metric val_loss: 0.090011\n",
      "DEBUG:mathsformer.selfsupervised_learning_addition_model_backend:    with metric val_masked_categorical_accuracy: 0.97063\n",
      "DEBUG:mathsformer.selfsupervised_learning_addition_model_backend:Running text --> text mathsformer inference on some training data:\n",
      "DEBUG:mathsformer.selfsupervised_learning_addition_model_backend:---------------------------------------------------------------------------------------\n",
      "DEBUG:mathsformer.selfsupervised_learning_addition_model_backend:                 INPUT         TRUE   PRED(MASK)    PRED(GEN)      CORRECT     RESIDUAL\n",
      "DEBUG:mathsformer.selfsupervised_learning_addition_model_backend:---------------------------------------------------------------------------------------\n",
      "DEBUG:mathsformer.selfsupervised_learning_addition_model_backend:    N8097-N943+N8+5-86        N7243        N7243        N7243          X              0\n",
      "DEBUG:mathsformer.selfsupervised_learning_addition_model_backend:       N9+N4-N2+N943+4         N950        N950E         N950          X              0\n",
      "DEBUG:mathsformer.selfsupervised_learning_addition_model_backend:              476+N792         N316        N316E         N316          X              0\n",
      "DEBUG:mathsformer.selfsupervised_learning_addition_model_backend:     2333-6-N6836+8575        17738        17738        17738          X              0\n",
      "DEBUG:mathsformer.selfsupervised_learning_addition_model_backend:  N6665+617+N57+61+363        N5681        N5681        N5681          X              0\n",
      "DEBUG:mathsformer.selfsupervised_learning_addition_model_backend:     52-N6818+79-N5-N2         6956        6956E         6956          X              0\n",
      "DEBUG:mathsformer.selfsupervised_learning_addition_model_backend:                 N5+77           72        72EEE           72          X              0\n",
      "DEBUG:mathsformer.selfsupervised_learning_addition_model_backend: N379+N752-7+N2992-328        N4458        N4358        N4358                       100\n",
      "DEBUG:mathsformer.selfsupervised_learning_addition_model_backend:       N7+N9-1+97-7774        N7694        N7694        N7694          X              0\n",
      "DEBUG:mathsformer.selfsupervised_learning_addition_model_backend:              75+N3612        N3537        N3537        N3537          X              0\n",
      "DEBUG:mathsformer.selfsupervised_learning_addition_model_backend:Running text --> text mathsformer inference on some validation data:\n",
      "DEBUG:mathsformer.selfsupervised_learning_addition_model_backend:-------------------------------------------------------------------------------\n",
      "DEBUG:mathsformer.selfsupervised_learning_addition_model_backend:         INPUT         TRUE   PRED(MASK)    PRED(GEN)      CORRECT     RESIDUAL\n",
      "DEBUG:mathsformer.selfsupervised_learning_addition_model_backend:-------------------------------------------------------------------------------\n",
      "DEBUG:mathsformer.selfsupervised_learning_addition_model_backend:  3-N3988+N847         3144        3144E         3144          X              0\n",
      "DEBUG:mathsformer.selfsupervised_learning_addition_model_backend:     7797+5-N4         7806        7806E         7806          X              0\n",
      "DEBUG:mathsformer.selfsupervised_learning_addition_model_backend:  N8357-N11+N7        N8353        N8353        N8353          X              0\n",
      "DEBUG:mathsformer.selfsupervised_learning_addition_model_backend: 6686-N437-236         6887        6887E         6887          X              0\n",
      "DEBUG:mathsformer.selfsupervised_learning_addition_model_backend:     N5+4442+8         4445        4445E         4445          X              0\n",
      "DEBUG:mathsformer.selfsupervised_learning_addition_model_backend:   2123-N1+N68         2056        2056E         2056          X              0\n",
      "DEBUG:mathsformer.selfsupervised_learning_addition_model_backend:   95+4563+879         5537        5537E         5537          X              0\n",
      "DEBUG:mathsformer.selfsupervised_learning_addition_model_backend:  1639+N2868+5        N1224        N1224        N1224          X              0\n",
      "DEBUG:mathsformer.selfsupervised_learning_addition_model_backend:      8+N725-3         N720        N720E         N720          X              0\n",
      "DEBUG:mathsformer.selfsupervised_learning_addition_model_backend: N283+N962-N40        N1205        N1205        N1205          X              0\n"
     ]
    },
    {
     "name": "stdout",
     "output_type": "stream",
     "text": [
      "2000/2000 [==============================] - 640s 320ms/step - loss: 0.2071 - masked_categorical_accuracy: 0.9198 - val_loss: 0.0900 - val_masked_categorical_accuracy: 0.9706\n",
      "Epoch 53/100000\n",
      "2000/2000 [==============================] - ETA: 0s - loss: 0.1967 - masked_categorical_accuracy: 0.9233"
     ]
    },
    {
     "name": "stderr",
     "output_type": "stream",
     "text": [
      "DEBUG:mathsformer.selfsupervised_learning_addition_model_backend:Training reached the end of epoch at index 52\n",
      "DEBUG:mathsformer.selfsupervised_learning_addition_model_backend:    with metric loss: 0.19673\n",
      "DEBUG:mathsformer.selfsupervised_learning_addition_model_backend:    with metric masked_categorical_accuracy: 0.92334\n",
      "DEBUG:mathsformer.selfsupervised_learning_addition_model_backend:    with metric val_loss: 0.12746\n",
      "DEBUG:mathsformer.selfsupervised_learning_addition_model_backend:    with metric val_masked_categorical_accuracy: 0.95649\n",
      "DEBUG:mathsformer.selfsupervised_learning_addition_model_backend:Running text --> text mathsformer inference on some training data:\n",
      "DEBUG:mathsformer.selfsupervised_learning_addition_model_backend:---------------------------------------------------------------------------------------\n",
      "DEBUG:mathsformer.selfsupervised_learning_addition_model_backend:                 INPUT         TRUE   PRED(MASK)    PRED(GEN)      CORRECT     RESIDUAL\n",
      "DEBUG:mathsformer.selfsupervised_learning_addition_model_backend:---------------------------------------------------------------------------------------\n",
      "DEBUG:mathsformer.selfsupervised_learning_addition_model_backend:    N8097-N943+N8+5-86        N7243        N7244        N7244                        -1\n",
      "DEBUG:mathsformer.selfsupervised_learning_addition_model_backend:       N9+N4-N2+N943+4         N950        N950E         N950          X              0\n",
      "DEBUG:mathsformer.selfsupervised_learning_addition_model_backend:              476+N792         N316        N316E         N316          X              0\n",
      "DEBUG:mathsformer.selfsupervised_learning_addition_model_backend:     2333-6-N6836+8575        17738        17738        17738          X              0\n",
      "DEBUG:mathsformer.selfsupervised_learning_addition_model_backend:  N6665+617+N57+61+363        N5681        N5782        N5782                      -101\n",
      "DEBUG:mathsformer.selfsupervised_learning_addition_model_backend:     52-N6818+79-N5-N2         6956        6955E         6955                        -1\n",
      "DEBUG:mathsformer.selfsupervised_learning_addition_model_backend:                 N5+77           72        72EEE           72          X              0\n",
      "DEBUG:mathsformer.selfsupervised_learning_addition_model_backend: N379+N752-7+N2992-328        N4458        N4357        N4357                       101\n",
      "DEBUG:mathsformer.selfsupervised_learning_addition_model_backend:       N7+N9-1+97-7774        N7694        N7694        N7694          X              0\n",
      "DEBUG:mathsformer.selfsupervised_learning_addition_model_backend:              75+N3612        N3537        N3537        N3537          X              0\n",
      "DEBUG:mathsformer.selfsupervised_learning_addition_model_backend:Running text --> text mathsformer inference on some validation data:\n",
      "DEBUG:mathsformer.selfsupervised_learning_addition_model_backend:-------------------------------------------------------------------------------\n",
      "DEBUG:mathsformer.selfsupervised_learning_addition_model_backend:         INPUT         TRUE   PRED(MASK)    PRED(GEN)      CORRECT     RESIDUAL\n",
      "DEBUG:mathsformer.selfsupervised_learning_addition_model_backend:-------------------------------------------------------------------------------\n",
      "DEBUG:mathsformer.selfsupervised_learning_addition_model_backend:  3-N3988+N847         3144        3144E         3144          X              0\n",
      "DEBUG:mathsformer.selfsupervised_learning_addition_model_backend:     7797+5-N4         7806        7806E         7806          X              0\n",
      "DEBUG:mathsformer.selfsupervised_learning_addition_model_backend:  N8357-N11+N7        N8353        N8353        N8353          X              0\n",
      "DEBUG:mathsformer.selfsupervised_learning_addition_model_backend: 6686-N437-236         6887        6887E         6887          X              0\n",
      "DEBUG:mathsformer.selfsupervised_learning_addition_model_backend:     N5+4442+8         4445        4445E         4445          X              0\n",
      "DEBUG:mathsformer.selfsupervised_learning_addition_model_backend:   2123-N1+N68         2056        2056E         2056          X              0\n",
      "DEBUG:mathsformer.selfsupervised_learning_addition_model_backend:   95+4563+879         5537        5536E         5536                        -1\n",
      "DEBUG:mathsformer.selfsupervised_learning_addition_model_backend:  1639+N2868+5        N1224        N1225        N1225                        -1\n",
      "DEBUG:mathsformer.selfsupervised_learning_addition_model_backend:      8+N725-3         N720        N720E         N720          X              0\n",
      "DEBUG:mathsformer.selfsupervised_learning_addition_model_backend: N283+N962-N40        N1205        N1205        N1205          X              0\n"
     ]
    },
    {
     "name": "stdout",
     "output_type": "stream",
     "text": [
      "2000/2000 [==============================] - 633s 316ms/step - loss: 0.1967 - masked_categorical_accuracy: 0.9233 - val_loss: 0.1275 - val_masked_categorical_accuracy: 0.9565\n",
      "Epoch 54/100000\n",
      "2000/2000 [==============================] - ETA: 0s - loss: 0.2034 - masked_categorical_accuracy: 0.9233"
     ]
    },
    {
     "name": "stderr",
     "output_type": "stream",
     "text": [
      "DEBUG:mathsformer.selfsupervised_learning_addition_model_backend:Training reached the end of epoch at index 53\n",
      "DEBUG:mathsformer.selfsupervised_learning_addition_model_backend:    with metric loss: 0.20343\n",
      "DEBUG:mathsformer.selfsupervised_learning_addition_model_backend:    with metric masked_categorical_accuracy: 0.9233\n",
      "DEBUG:mathsformer.selfsupervised_learning_addition_model_backend:    with metric val_loss: 0.086684\n",
      "DEBUG:mathsformer.selfsupervised_learning_addition_model_backend:    with metric val_masked_categorical_accuracy: 0.97334\n",
      "DEBUG:mathsformer.selfsupervised_learning_addition_model_backend:Running text --> text mathsformer inference on some training data:\n",
      "DEBUG:mathsformer.selfsupervised_learning_addition_model_backend:---------------------------------------------------------------------------------------\n",
      "DEBUG:mathsformer.selfsupervised_learning_addition_model_backend:                 INPUT         TRUE   PRED(MASK)    PRED(GEN)      CORRECT     RESIDUAL\n",
      "DEBUG:mathsformer.selfsupervised_learning_addition_model_backend:---------------------------------------------------------------------------------------\n",
      "DEBUG:mathsformer.selfsupervised_learning_addition_model_backend:    N8097-N943+N8+5-86        N7243        N7243        N7243          X              0\n",
      "DEBUG:mathsformer.selfsupervised_learning_addition_model_backend:       N9+N4-N2+N943+4         N950        N950E         N950          X              0\n",
      "DEBUG:mathsformer.selfsupervised_learning_addition_model_backend:              476+N792         N316        N316E         N316          X              0\n",
      "DEBUG:mathsformer.selfsupervised_learning_addition_model_backend:     2333-6-N6836+8575        17738        17738        17738          X              0\n",
      "DEBUG:mathsformer.selfsupervised_learning_addition_model_backend:  N6665+617+N57+61+363        N5681        N5680        N5680                         1\n",
      "DEBUG:mathsformer.selfsupervised_learning_addition_model_backend:     52-N6818+79-N5-N2         6956        6956E         6956          X              0\n",
      "DEBUG:mathsformer.selfsupervised_learning_addition_model_backend:                 N5+77           72        72EEE           72          X              0\n",
      "DEBUG:mathsformer.selfsupervised_learning_addition_model_backend: N379+N752-7+N2992-328        N4458        N4458        N4458          X              0\n",
      "DEBUG:mathsformer.selfsupervised_learning_addition_model_backend:       N7+N9-1+97-7774        N7694        N7694        N7694          X              0\n",
      "DEBUG:mathsformer.selfsupervised_learning_addition_model_backend:              75+N3612        N3537        N3537        N3537          X              0\n",
      "DEBUG:mathsformer.selfsupervised_learning_addition_model_backend:Running text --> text mathsformer inference on some validation data:\n",
      "DEBUG:mathsformer.selfsupervised_learning_addition_model_backend:-------------------------------------------------------------------------------\n",
      "DEBUG:mathsformer.selfsupervised_learning_addition_model_backend:         INPUT         TRUE   PRED(MASK)    PRED(GEN)      CORRECT     RESIDUAL\n",
      "DEBUG:mathsformer.selfsupervised_learning_addition_model_backend:-------------------------------------------------------------------------------\n",
      "DEBUG:mathsformer.selfsupervised_learning_addition_model_backend:  3-N3988+N847         3144        3144E         3144          X              0\n",
      "DEBUG:mathsformer.selfsupervised_learning_addition_model_backend:     7797+5-N4         7806        7806E         7806          X              0\n",
      "DEBUG:mathsformer.selfsupervised_learning_addition_model_backend:  N8357-N11+N7        N8353        N8353        N8353          X              0\n",
      "DEBUG:mathsformer.selfsupervised_learning_addition_model_backend: 6686-N437-236         6887        6887E         6887          X              0\n",
      "DEBUG:mathsformer.selfsupervised_learning_addition_model_backend:     N5+4442+8         4445        4445E         4445          X              0\n",
      "DEBUG:mathsformer.selfsupervised_learning_addition_model_backend:   2123-N1+N68         2056        2056E         2056          X              0\n",
      "DEBUG:mathsformer.selfsupervised_learning_addition_model_backend:   95+4563+879         5537        5537E         5537          X              0\n",
      "DEBUG:mathsformer.selfsupervised_learning_addition_model_backend:  1639+N2868+5        N1224        N1224        N1224          X              0\n",
      "DEBUG:mathsformer.selfsupervised_learning_addition_model_backend:      8+N725-3         N720        N720E         N720          X              0\n",
      "DEBUG:mathsformer.selfsupervised_learning_addition_model_backend: N283+N962-N40        N1205        N1205        N1205          X              0\n"
     ]
    },
    {
     "name": "stdout",
     "output_type": "stream",
     "text": [
      "2000/2000 [==============================] - 621s 311ms/step - loss: 0.2034 - masked_categorical_accuracy: 0.9233 - val_loss: 0.0867 - val_masked_categorical_accuracy: 0.9733\n",
      "Epoch 55/100000\n",
      "2000/2000 [==============================] - ETA: 0s - loss: 0.1783 - masked_categorical_accuracy: 0.9320"
     ]
    },
    {
     "name": "stderr",
     "output_type": "stream",
     "text": [
      "DEBUG:mathsformer.selfsupervised_learning_addition_model_backend:Training reached the end of epoch at index 54\n",
      "DEBUG:mathsformer.selfsupervised_learning_addition_model_backend:    with metric loss: 0.17834\n",
      "DEBUG:mathsformer.selfsupervised_learning_addition_model_backend:    with metric masked_categorical_accuracy: 0.93196\n",
      "DEBUG:mathsformer.selfsupervised_learning_addition_model_backend:    with metric val_loss: 0.092172\n",
      "DEBUG:mathsformer.selfsupervised_learning_addition_model_backend:    with metric val_masked_categorical_accuracy: 0.96466\n",
      "DEBUG:mathsformer.selfsupervised_learning_addition_model_backend:Running text --> text mathsformer inference on some training data:\n",
      "DEBUG:mathsformer.selfsupervised_learning_addition_model_backend:---------------------------------------------------------------------------------------\n",
      "DEBUG:mathsformer.selfsupervised_learning_addition_model_backend:                 INPUT         TRUE   PRED(MASK)    PRED(GEN)      CORRECT     RESIDUAL\n",
      "DEBUG:mathsformer.selfsupervised_learning_addition_model_backend:---------------------------------------------------------------------------------------\n",
      "DEBUG:mathsformer.selfsupervised_learning_addition_model_backend:    N8097-N943+N8+5-86        N7243        N7243        N7243          X              0\n",
      "DEBUG:mathsformer.selfsupervised_learning_addition_model_backend:       N9+N4-N2+N943+4         N950        N950E         N950          X              0\n",
      "DEBUG:mathsformer.selfsupervised_learning_addition_model_backend:              476+N792         N316        N316E         N316          X              0\n",
      "DEBUG:mathsformer.selfsupervised_learning_addition_model_backend:     2333-6-N6836+8575        17738        17738        17738          X              0\n",
      "DEBUG:mathsformer.selfsupervised_learning_addition_model_backend:  N6665+617+N57+61+363        N5681        N5680        N5680                         1\n",
      "DEBUG:mathsformer.selfsupervised_learning_addition_model_backend:     52-N6818+79-N5-N2         6956        6957E         6957                         1\n",
      "DEBUG:mathsformer.selfsupervised_learning_addition_model_backend:                 N5+77           72        72EEE           72          X              0\n",
      "DEBUG:mathsformer.selfsupervised_learning_addition_model_backend: N379+N752-7+N2992-328        N4458        N4458        N4458          X              0\n",
      "DEBUG:mathsformer.selfsupervised_learning_addition_model_backend:       N7+N9-1+97-7774        N7694        N7694        N7694          X              0\n",
      "DEBUG:mathsformer.selfsupervised_learning_addition_model_backend:              75+N3612        N3537        N3537        N3537          X              0\n",
      "DEBUG:mathsformer.selfsupervised_learning_addition_model_backend:Running text --> text mathsformer inference on some validation data:\n",
      "DEBUG:mathsformer.selfsupervised_learning_addition_model_backend:-------------------------------------------------------------------------------\n",
      "DEBUG:mathsformer.selfsupervised_learning_addition_model_backend:         INPUT         TRUE   PRED(MASK)    PRED(GEN)      CORRECT     RESIDUAL\n",
      "DEBUG:mathsformer.selfsupervised_learning_addition_model_backend:-------------------------------------------------------------------------------\n",
      "DEBUG:mathsformer.selfsupervised_learning_addition_model_backend:  3-N3988+N847         3144        3144E         3144          X              0\n",
      "DEBUG:mathsformer.selfsupervised_learning_addition_model_backend:     7797+5-N4         7806        7806E         7806          X              0\n",
      "DEBUG:mathsformer.selfsupervised_learning_addition_model_backend:  N8357-N11+N7        N8353        N8353        N8353          X              0\n",
      "DEBUG:mathsformer.selfsupervised_learning_addition_model_backend: 6686-N437-236         6887        6888E         6888                         1\n",
      "DEBUG:mathsformer.selfsupervised_learning_addition_model_backend:     N5+4442+8         4445        4445E         4445          X              0\n",
      "DEBUG:mathsformer.selfsupervised_learning_addition_model_backend:   2123-N1+N68         2056        2056E         2056          X              0\n",
      "DEBUG:mathsformer.selfsupervised_learning_addition_model_backend:   95+4563+879         5537        5537E         5537          X              0\n",
      "DEBUG:mathsformer.selfsupervised_learning_addition_model_backend:  1639+N2868+5        N1224        N1224        N1224          X              0\n",
      "DEBUG:mathsformer.selfsupervised_learning_addition_model_backend:      8+N725-3         N720        N720E         N720          X              0\n",
      "DEBUG:mathsformer.selfsupervised_learning_addition_model_backend: N283+N962-N40        N1205        N1205        N1205          X              0\n"
     ]
    },
    {
     "name": "stdout",
     "output_type": "stream",
     "text": [
      "2000/2000 [==============================] - 605s 303ms/step - loss: 0.1783 - masked_categorical_accuracy: 0.9320 - val_loss: 0.0922 - val_masked_categorical_accuracy: 0.9647\n",
      "Epoch 56/100000\n",
      "2000/2000 [==============================] - ETA: 0s - loss: 0.1966 - masked_categorical_accuracy: 0.9276"
     ]
    },
    {
     "name": "stderr",
     "output_type": "stream",
     "text": [
      "DEBUG:mathsformer.selfsupervised_learning_addition_model_backend:Training reached the end of epoch at index 55\n",
      "DEBUG:mathsformer.selfsupervised_learning_addition_model_backend:    with metric loss: 0.19662\n",
      "DEBUG:mathsformer.selfsupervised_learning_addition_model_backend:    with metric masked_categorical_accuracy: 0.92761\n",
      "DEBUG:mathsformer.selfsupervised_learning_addition_model_backend:    with metric val_loss: 0.1161\n",
      "DEBUG:mathsformer.selfsupervised_learning_addition_model_backend:    with metric val_masked_categorical_accuracy: 0.9561\n",
      "DEBUG:mathsformer.selfsupervised_learning_addition_model_backend:Running text --> text mathsformer inference on some training data:\n",
      "DEBUG:mathsformer.selfsupervised_learning_addition_model_backend:---------------------------------------------------------------------------------------\n",
      "DEBUG:mathsformer.selfsupervised_learning_addition_model_backend:                 INPUT         TRUE   PRED(MASK)    PRED(GEN)      CORRECT     RESIDUAL\n",
      "DEBUG:mathsformer.selfsupervised_learning_addition_model_backend:---------------------------------------------------------------------------------------\n",
      "DEBUG:mathsformer.selfsupervised_learning_addition_model_backend:    N8097-N943+N8+5-86        N7243        N7243        N7243          X              0\n",
      "DEBUG:mathsformer.selfsupervised_learning_addition_model_backend:       N9+N4-N2+N943+4         N950        N949E         N949                         1\n",
      "DEBUG:mathsformer.selfsupervised_learning_addition_model_backend:              476+N792         N316        N316E         N316          X              0\n",
      "DEBUG:mathsformer.selfsupervised_learning_addition_model_backend:     2333-6-N6836+8575        17738        17648        17648                       -90\n",
      "DEBUG:mathsformer.selfsupervised_learning_addition_model_backend:  N6665+617+N57+61+363        N5681        N5671        N5671                        10\n",
      "DEBUG:mathsformer.selfsupervised_learning_addition_model_backend:     52-N6818+79-N5-N2         6956        6955E         6955                        -1\n",
      "DEBUG:mathsformer.selfsupervised_learning_addition_model_backend:                 N5+77           72        72EEE           72          X              0\n",
      "DEBUG:mathsformer.selfsupervised_learning_addition_model_backend: N379+N752-7+N2992-328        N4458        N4447        N4447                        11\n",
      "DEBUG:mathsformer.selfsupervised_learning_addition_model_backend:       N7+N9-1+97-7774        N7694        N7693        N7693                         1\n",
      "DEBUG:mathsformer.selfsupervised_learning_addition_model_backend:              75+N3612        N3537        N3537        N3537          X              0\n",
      "DEBUG:mathsformer.selfsupervised_learning_addition_model_backend:Running text --> text mathsformer inference on some validation data:\n",
      "DEBUG:mathsformer.selfsupervised_learning_addition_model_backend:-------------------------------------------------------------------------------\n",
      "DEBUG:mathsformer.selfsupervised_learning_addition_model_backend:         INPUT         TRUE   PRED(MASK)    PRED(GEN)      CORRECT     RESIDUAL\n",
      "DEBUG:mathsformer.selfsupervised_learning_addition_model_backend:-------------------------------------------------------------------------------\n",
      "DEBUG:mathsformer.selfsupervised_learning_addition_model_backend:  3-N3988+N847         3144        3144E         3144          X              0\n",
      "DEBUG:mathsformer.selfsupervised_learning_addition_model_backend:     7797+5-N4         7806        7806E         7806          X              0\n",
      "DEBUG:mathsformer.selfsupervised_learning_addition_model_backend:  N8357-N11+N7        N8353        N8353        N8353          X              0\n",
      "DEBUG:mathsformer.selfsupervised_learning_addition_model_backend: 6686-N437-236         6887        6887E         6887          X              0\n",
      "DEBUG:mathsformer.selfsupervised_learning_addition_model_backend:     N5+4442+8         4445        4445E         4445          X              0\n",
      "DEBUG:mathsformer.selfsupervised_learning_addition_model_backend:   2123-N1+N68         2056        2056E         2056          X              0\n",
      "DEBUG:mathsformer.selfsupervised_learning_addition_model_backend:   95+4563+879         5537        5537E         5537          X              0\n",
      "DEBUG:mathsformer.selfsupervised_learning_addition_model_backend:  1639+N2868+5        N1224        N1224        N1224          X              0\n",
      "DEBUG:mathsformer.selfsupervised_learning_addition_model_backend:      8+N725-3         N720        N729E         N729                        -9\n",
      "DEBUG:mathsformer.selfsupervised_learning_addition_model_backend: N283+N962-N40        N1205        N1205        N1205          X              0\n"
     ]
    },
    {
     "name": "stdout",
     "output_type": "stream",
     "text": [
      "2000/2000 [==============================] - 606s 303ms/step - loss: 0.1966 - masked_categorical_accuracy: 0.9276 - val_loss: 0.1161 - val_masked_categorical_accuracy: 0.9561\n",
      "Epoch 57/100000\n",
      "2000/2000 [==============================] - ETA: 0s - loss: 0.1706 - masked_categorical_accuracy: 0.9347"
     ]
    },
    {
     "name": "stderr",
     "output_type": "stream",
     "text": [
      "DEBUG:mathsformer.selfsupervised_learning_addition_model_backend:Training reached the end of epoch at index 56\n",
      "DEBUG:mathsformer.selfsupervised_learning_addition_model_backend:    with metric loss: 0.17057\n",
      "DEBUG:mathsformer.selfsupervised_learning_addition_model_backend:    with metric masked_categorical_accuracy: 0.93474\n",
      "DEBUG:mathsformer.selfsupervised_learning_addition_model_backend:    with metric val_loss: 0.078265\n",
      "DEBUG:mathsformer.selfsupervised_learning_addition_model_backend:    with metric val_masked_categorical_accuracy: 0.9748\n",
      "DEBUG:mathsformer.selfsupervised_learning_addition_model_backend:Running text --> text mathsformer inference on some training data:\n",
      "DEBUG:mathsformer.selfsupervised_learning_addition_model_backend:---------------------------------------------------------------------------------------\n",
      "DEBUG:mathsformer.selfsupervised_learning_addition_model_backend:                 INPUT         TRUE   PRED(MASK)    PRED(GEN)      CORRECT     RESIDUAL\n",
      "DEBUG:mathsformer.selfsupervised_learning_addition_model_backend:---------------------------------------------------------------------------------------\n",
      "DEBUG:mathsformer.selfsupervised_learning_addition_model_backend:    N8097-N943+N8+5-86        N7243        N7232        N7232                        11\n",
      "DEBUG:mathsformer.selfsupervised_learning_addition_model_backend:       N9+N4-N2+N943+4         N950        N959E         N959                        -9\n",
      "DEBUG:mathsformer.selfsupervised_learning_addition_model_backend:              476+N792         N316        N316E         N316          X              0\n",
      "DEBUG:mathsformer.selfsupervised_learning_addition_model_backend:     2333-6-N6836+8575        17738        17738        17738          X              0\n",
      "DEBUG:mathsformer.selfsupervised_learning_addition_model_backend:  N6665+617+N57+61+363        N5681        N3680        N3681                      2000\n",
      "DEBUG:mathsformer.selfsupervised_learning_addition_model_backend:     52-N6818+79-N5-N2         6956        6956E         6956          X              0\n",
      "DEBUG:mathsformer.selfsupervised_learning_addition_model_backend:                 N5+77           72        72EEE           72          X              0\n",
      "DEBUG:mathsformer.selfsupervised_learning_addition_model_backend: N379+N752-7+N2992-328        N4458        N7248        N7248                     -2790\n",
      "DEBUG:mathsformer.selfsupervised_learning_addition_model_backend:       N7+N9-1+97-7774        N7694        N7693        N7693                         1\n",
      "DEBUG:mathsformer.selfsupervised_learning_addition_model_backend:              75+N3612        N3537        N3537        N3537          X              0\n",
      "DEBUG:mathsformer.selfsupervised_learning_addition_model_backend:Running text --> text mathsformer inference on some validation data:\n",
      "DEBUG:mathsformer.selfsupervised_learning_addition_model_backend:-------------------------------------------------------------------------------\n",
      "DEBUG:mathsformer.selfsupervised_learning_addition_model_backend:         INPUT         TRUE   PRED(MASK)    PRED(GEN)      CORRECT     RESIDUAL\n",
      "DEBUG:mathsformer.selfsupervised_learning_addition_model_backend:-------------------------------------------------------------------------------\n",
      "DEBUG:mathsformer.selfsupervised_learning_addition_model_backend:  3-N3988+N847         3144        3144E         3144          X              0\n",
      "DEBUG:mathsformer.selfsupervised_learning_addition_model_backend:     7797+5-N4         7806        7806E         7806          X              0\n",
      "DEBUG:mathsformer.selfsupervised_learning_addition_model_backend:  N8357-N11+N7        N8353        N8353        N8353          X              0\n",
      "DEBUG:mathsformer.selfsupervised_learning_addition_model_backend: 6686-N437-236         6887        6887E         6887          X              0\n",
      "DEBUG:mathsformer.selfsupervised_learning_addition_model_backend:     N5+4442+8         4445        4445E         4445          X              0\n",
      "DEBUG:mathsformer.selfsupervised_learning_addition_model_backend:   2123-N1+N68         2056        2056E         2056          X              0\n",
      "DEBUG:mathsformer.selfsupervised_learning_addition_model_backend:   95+4563+879         5537        5537E         5537          X              0\n",
      "DEBUG:mathsformer.selfsupervised_learning_addition_model_backend:  1639+N2868+5        N1224        N1224        N1224          X              0\n",
      "DEBUG:mathsformer.selfsupervised_learning_addition_model_backend:      8+N725-3         N720        N720E         N720          X              0\n",
      "DEBUG:mathsformer.selfsupervised_learning_addition_model_backend: N283+N962-N40        N1205        N1205        N1205          X              0\n"
     ]
    },
    {
     "name": "stdout",
     "output_type": "stream",
     "text": [
      "2000/2000 [==============================] - 582s 291ms/step - loss: 0.1706 - masked_categorical_accuracy: 0.9347 - val_loss: 0.0783 - val_masked_categorical_accuracy: 0.9748\n",
      "Epoch 58/100000\n",
      "2000/2000 [==============================] - ETA: 0s - loss: 0.1739 - masked_categorical_accuracy: 0.9353"
     ]
    },
    {
     "name": "stderr",
     "output_type": "stream",
     "text": [
      "DEBUG:mathsformer.selfsupervised_learning_addition_model_backend:Training reached the end of epoch at index 57\n",
      "DEBUG:mathsformer.selfsupervised_learning_addition_model_backend:    with metric loss: 0.17393\n",
      "DEBUG:mathsformer.selfsupervised_learning_addition_model_backend:    with metric masked_categorical_accuracy: 0.93531\n",
      "DEBUG:mathsformer.selfsupervised_learning_addition_model_backend:    with metric val_loss: 0.069935\n",
      "DEBUG:mathsformer.selfsupervised_learning_addition_model_backend:    with metric val_masked_categorical_accuracy: 0.97697\n",
      "DEBUG:mathsformer.selfsupervised_learning_addition_model_backend:Running text --> text mathsformer inference on some training data:\n",
      "DEBUG:mathsformer.selfsupervised_learning_addition_model_backend:---------------------------------------------------------------------------------------\n",
      "DEBUG:mathsformer.selfsupervised_learning_addition_model_backend:                 INPUT         TRUE   PRED(MASK)    PRED(GEN)      CORRECT     RESIDUAL\n",
      "DEBUG:mathsformer.selfsupervised_learning_addition_model_backend:---------------------------------------------------------------------------------------\n",
      "DEBUG:mathsformer.selfsupervised_learning_addition_model_backend:    N8097-N943+N8+5-86        N7243        N7253        N7253                       -10\n",
      "DEBUG:mathsformer.selfsupervised_learning_addition_model_backend:       N9+N4-N2+N943+4         N950        N950E         N950          X              0\n",
      "DEBUG:mathsformer.selfsupervised_learning_addition_model_backend:              476+N792         N316        N316E         N316          X              0\n",
      "DEBUG:mathsformer.selfsupervised_learning_addition_model_backend:     2333-6-N6836+8575        17738        17738        17738          X              0\n",
      "DEBUG:mathsformer.selfsupervised_learning_addition_model_backend:  N6665+617+N57+61+363        N5681        N5691        N5691                       -10\n",
      "DEBUG:mathsformer.selfsupervised_learning_addition_model_backend:     52-N6818+79-N5-N2         6956        6956E         6956          X              0\n",
      "DEBUG:mathsformer.selfsupervised_learning_addition_model_backend:                 N5+77           72        72EEE           72          X              0\n",
      "DEBUG:mathsformer.selfsupervised_learning_addition_model_backend: N379+N752-7+N2992-328        N4458        N4458        N4458          X              0\n",
      "DEBUG:mathsformer.selfsupervised_learning_addition_model_backend:       N7+N9-1+97-7774        N7694        N7694        N7694          X              0\n",
      "DEBUG:mathsformer.selfsupervised_learning_addition_model_backend:              75+N3612        N3537        N3537        N3537          X              0\n",
      "DEBUG:mathsformer.selfsupervised_learning_addition_model_backend:Running text --> text mathsformer inference on some validation data:\n",
      "DEBUG:mathsformer.selfsupervised_learning_addition_model_backend:-------------------------------------------------------------------------------\n",
      "DEBUG:mathsformer.selfsupervised_learning_addition_model_backend:         INPUT         TRUE   PRED(MASK)    PRED(GEN)      CORRECT     RESIDUAL\n",
      "DEBUG:mathsformer.selfsupervised_learning_addition_model_backend:-------------------------------------------------------------------------------\n",
      "DEBUG:mathsformer.selfsupervised_learning_addition_model_backend:  3-N3988+N847         3144        3144E         3144          X              0\n",
      "DEBUG:mathsformer.selfsupervised_learning_addition_model_backend:     7797+5-N4         7806        7806E         7806          X              0\n",
      "DEBUG:mathsformer.selfsupervised_learning_addition_model_backend:  N8357-N11+N7        N8353        N8353        N8353          X              0\n",
      "DEBUG:mathsformer.selfsupervised_learning_addition_model_backend: 6686-N437-236         6887        6887E         6887          X              0\n",
      "DEBUG:mathsformer.selfsupervised_learning_addition_model_backend:     N5+4442+8         4445        4445E         4445          X              0\n",
      "DEBUG:mathsformer.selfsupervised_learning_addition_model_backend:   2123-N1+N68         2056        2056E         2056          X              0\n",
      "DEBUG:mathsformer.selfsupervised_learning_addition_model_backend:   95+4563+879         5537        5537E         5537          X              0\n",
      "DEBUG:mathsformer.selfsupervised_learning_addition_model_backend:  1639+N2868+5        N1224        N1224        N1224          X              0\n",
      "DEBUG:mathsformer.selfsupervised_learning_addition_model_backend:      8+N725-3         N720        N720E         N720          X              0\n",
      "DEBUG:mathsformer.selfsupervised_learning_addition_model_backend: N283+N962-N40        N1205        N1205        N1205          X              0\n"
     ]
    },
    {
     "name": "stdout",
     "output_type": "stream",
     "text": [
      "2000/2000 [==============================] - 592s 296ms/step - loss: 0.1739 - masked_categorical_accuracy: 0.9353 - val_loss: 0.0699 - val_masked_categorical_accuracy: 0.9770\n",
      "Epoch 59/100000\n",
      "2000/2000 [==============================] - ETA: 0s - loss: 0.1645 - masked_categorical_accuracy: 0.9393"
     ]
    },
    {
     "name": "stderr",
     "output_type": "stream",
     "text": [
      "DEBUG:mathsformer.selfsupervised_learning_addition_model_backend:Training reached the end of epoch at index 58\n",
      "DEBUG:mathsformer.selfsupervised_learning_addition_model_backend:    with metric loss: 0.16452\n",
      "DEBUG:mathsformer.selfsupervised_learning_addition_model_backend:    with metric masked_categorical_accuracy: 0.93926\n",
      "DEBUG:mathsformer.selfsupervised_learning_addition_model_backend:    with metric val_loss: 0.071146\n",
      "DEBUG:mathsformer.selfsupervised_learning_addition_model_backend:    with metric val_masked_categorical_accuracy: 0.97752\n",
      "DEBUG:mathsformer.selfsupervised_learning_addition_model_backend:Running text --> text mathsformer inference on some training data:\n",
      "DEBUG:mathsformer.selfsupervised_learning_addition_model_backend:---------------------------------------------------------------------------------------\n",
      "DEBUG:mathsformer.selfsupervised_learning_addition_model_backend:                 INPUT         TRUE   PRED(MASK)    PRED(GEN)      CORRECT     RESIDUAL\n",
      "DEBUG:mathsformer.selfsupervised_learning_addition_model_backend:---------------------------------------------------------------------------------------\n",
      "DEBUG:mathsformer.selfsupervised_learning_addition_model_backend:    N8097-N943+N8+5-86        N7243        N7243        N7243          X              0\n",
      "DEBUG:mathsformer.selfsupervised_learning_addition_model_backend:       N9+N4-N2+N943+4         N950        N950E         N950          X              0\n",
      "DEBUG:mathsformer.selfsupervised_learning_addition_model_backend:              476+N792         N316        N316E         N316          X              0\n",
      "DEBUG:mathsformer.selfsupervised_learning_addition_model_backend:     2333-6-N6836+8575        17738        17748        17748                        10\n",
      "DEBUG:mathsformer.selfsupervised_learning_addition_model_backend:  N6665+617+N57+61+363        N5681        N5681        N5681          X              0\n",
      "DEBUG:mathsformer.selfsupervised_learning_addition_model_backend:     52-N6818+79-N5-N2         6956        6956E         6956          X              0\n",
      "DEBUG:mathsformer.selfsupervised_learning_addition_model_backend:                 N5+77           72        72EEE           72          X              0\n",
      "DEBUG:mathsformer.selfsupervised_learning_addition_model_backend: N379+N752-7+N2992-328        N4458        N4458        N4458          X              0\n",
      "DEBUG:mathsformer.selfsupervised_learning_addition_model_backend:       N7+N9-1+97-7774        N7694        N7694        N7694          X              0\n",
      "DEBUG:mathsformer.selfsupervised_learning_addition_model_backend:              75+N3612        N3537        N3537        N3537          X              0\n",
      "DEBUG:mathsformer.selfsupervised_learning_addition_model_backend:Running text --> text mathsformer inference on some validation data:\n",
      "DEBUG:mathsformer.selfsupervised_learning_addition_model_backend:-------------------------------------------------------------------------------\n",
      "DEBUG:mathsformer.selfsupervised_learning_addition_model_backend:         INPUT         TRUE   PRED(MASK)    PRED(GEN)      CORRECT     RESIDUAL\n",
      "DEBUG:mathsformer.selfsupervised_learning_addition_model_backend:-------------------------------------------------------------------------------\n",
      "DEBUG:mathsformer.selfsupervised_learning_addition_model_backend:  3-N3988+N847         3144        3144E         3144          X              0\n",
      "DEBUG:mathsformer.selfsupervised_learning_addition_model_backend:     7797+5-N4         7806        7806E         7806          X              0\n",
      "DEBUG:mathsformer.selfsupervised_learning_addition_model_backend:  N8357-N11+N7        N8353        N8353        N8353          X              0\n",
      "DEBUG:mathsformer.selfsupervised_learning_addition_model_backend: 6686-N437-236         6887        6887E         6887          X              0\n",
      "DEBUG:mathsformer.selfsupervised_learning_addition_model_backend:     N5+4442+8         4445        4445E         4445          X              0\n",
      "DEBUG:mathsformer.selfsupervised_learning_addition_model_backend:   2123-N1+N68         2056        2056E         2056          X              0\n",
      "DEBUG:mathsformer.selfsupervised_learning_addition_model_backend:   95+4563+879         5537        5537E         5537          X              0\n",
      "DEBUG:mathsformer.selfsupervised_learning_addition_model_backend:  1639+N2868+5        N1224        N1224        N1224          X              0\n",
      "DEBUG:mathsformer.selfsupervised_learning_addition_model_backend:      8+N725-3         N720        N720E         N720          X              0\n",
      "DEBUG:mathsformer.selfsupervised_learning_addition_model_backend: N283+N962-N40        N1205        N1205        N1205          X              0\n"
     ]
    },
    {
     "name": "stdout",
     "output_type": "stream",
     "text": [
      "2000/2000 [==============================] - 589s 294ms/step - loss: 0.1645 - masked_categorical_accuracy: 0.9393 - val_loss: 0.0711 - val_masked_categorical_accuracy: 0.9775\n",
      "Epoch 60/100000\n",
      "2000/2000 [==============================] - ETA: 0s - loss: 0.1559 - masked_categorical_accuracy: 0.9414"
     ]
    },
    {
     "name": "stderr",
     "output_type": "stream",
     "text": [
      "DEBUG:mathsformer.selfsupervised_learning_addition_model_backend:Training reached the end of epoch at index 59\n",
      "DEBUG:mathsformer.selfsupervised_learning_addition_model_backend:    with metric loss: 0.15594\n",
      "DEBUG:mathsformer.selfsupervised_learning_addition_model_backend:    with metric masked_categorical_accuracy: 0.94138\n",
      "DEBUG:mathsformer.selfsupervised_learning_addition_model_backend:    with metric val_loss: 0.073975\n",
      "DEBUG:mathsformer.selfsupervised_learning_addition_model_backend:    with metric val_masked_categorical_accuracy: 0.97824\n",
      "DEBUG:mathsformer.selfsupervised_learning_addition_model_backend:Running text --> text mathsformer inference on some training data:\n",
      "DEBUG:mathsformer.selfsupervised_learning_addition_model_backend:---------------------------------------------------------------------------------------\n",
      "DEBUG:mathsformer.selfsupervised_learning_addition_model_backend:                 INPUT         TRUE   PRED(MASK)    PRED(GEN)      CORRECT     RESIDUAL\n",
      "DEBUG:mathsformer.selfsupervised_learning_addition_model_backend:---------------------------------------------------------------------------------------\n",
      "DEBUG:mathsformer.selfsupervised_learning_addition_model_backend:    N8097-N943+N8+5-86        N7243        N7243        N7243          X              0\n",
      "DEBUG:mathsformer.selfsupervised_learning_addition_model_backend:       N9+N4-N2+N943+4         N950        N940E         N940                        10\n",
      "DEBUG:mathsformer.selfsupervised_learning_addition_model_backend:              476+N792         N316        N316E         N316          X              0\n",
      "DEBUG:mathsformer.selfsupervised_learning_addition_model_backend:     2333-6-N6836+8575        17738        18738        18738                      1000\n",
      "DEBUG:mathsformer.selfsupervised_learning_addition_model_backend:  N6665+617+N57+61+363        N5681        N5681        N5681          X              0\n",
      "DEBUG:mathsformer.selfsupervised_learning_addition_model_backend:     52-N6818+79-N5-N2         6956        6966E         6966                        10\n",
      "DEBUG:mathsformer.selfsupervised_learning_addition_model_backend:                 N5+77           72        72EEE           72          X              0\n",
      "DEBUG:mathsformer.selfsupervised_learning_addition_model_backend: N379+N752-7+N2992-328        N4458        N4468        N4468                       -10\n",
      "DEBUG:mathsformer.selfsupervised_learning_addition_model_backend:       N7+N9-1+97-7774        N7694        N7694        N7694          X              0\n",
      "DEBUG:mathsformer.selfsupervised_learning_addition_model_backend:              75+N3612        N3537        N3537        N3537          X              0\n",
      "DEBUG:mathsformer.selfsupervised_learning_addition_model_backend:Running text --> text mathsformer inference on some validation data:\n",
      "DEBUG:mathsformer.selfsupervised_learning_addition_model_backend:-------------------------------------------------------------------------------\n",
      "DEBUG:mathsformer.selfsupervised_learning_addition_model_backend:         INPUT         TRUE   PRED(MASK)    PRED(GEN)      CORRECT     RESIDUAL\n",
      "DEBUG:mathsformer.selfsupervised_learning_addition_model_backend:-------------------------------------------------------------------------------\n",
      "DEBUG:mathsformer.selfsupervised_learning_addition_model_backend:  3-N3988+N847         3144        3144E         3144          X              0\n",
      "DEBUG:mathsformer.selfsupervised_learning_addition_model_backend:     7797+5-N4         7806        7806E         7806          X              0\n",
      "DEBUG:mathsformer.selfsupervised_learning_addition_model_backend:  N8357-N11+N7        N8353        N8353        N8353          X              0\n",
      "DEBUG:mathsformer.selfsupervised_learning_addition_model_backend: 6686-N437-236         6887        6887E         6887          X              0\n",
      "DEBUG:mathsformer.selfsupervised_learning_addition_model_backend:     N5+4442+8         4445        4445E         4445          X              0\n",
      "DEBUG:mathsformer.selfsupervised_learning_addition_model_backend:   2123-N1+N68         2056        2056E         2056          X              0\n",
      "DEBUG:mathsformer.selfsupervised_learning_addition_model_backend:   95+4563+879         5537        5547E         5547                        10\n",
      "DEBUG:mathsformer.selfsupervised_learning_addition_model_backend:  1639+N2868+5        N1224        N1224        N1224          X              0\n",
      "DEBUG:mathsformer.selfsupervised_learning_addition_model_backend:      8+N725-3         N720        N720E         N720          X              0\n",
      "DEBUG:mathsformer.selfsupervised_learning_addition_model_backend: N283+N962-N40        N1205        N1205        N1205          X              0\n"
     ]
    },
    {
     "name": "stdout",
     "output_type": "stream",
     "text": [
      "2000/2000 [==============================] - 597s 298ms/step - loss: 0.1559 - masked_categorical_accuracy: 0.9414 - val_loss: 0.0740 - val_masked_categorical_accuracy: 0.9782\n",
      "Epoch 61/100000\n",
      "2000/2000 [==============================] - ETA: 0s - loss: 0.1550 - masked_categorical_accuracy: 0.9427"
     ]
    },
    {
     "name": "stderr",
     "output_type": "stream",
     "text": [
      "DEBUG:mathsformer.selfsupervised_learning_addition_model_backend:Training reached the end of epoch at index 60\n",
      "DEBUG:mathsformer.selfsupervised_learning_addition_model_backend:    with metric loss: 0.15499\n",
      "DEBUG:mathsformer.selfsupervised_learning_addition_model_backend:    with metric masked_categorical_accuracy: 0.94267\n",
      "DEBUG:mathsformer.selfsupervised_learning_addition_model_backend:    with metric val_loss: 0.060391\n",
      "DEBUG:mathsformer.selfsupervised_learning_addition_model_backend:    with metric val_masked_categorical_accuracy: 0.98091\n",
      "DEBUG:mathsformer.selfsupervised_learning_addition_model_backend:Running text --> text mathsformer inference on some training data:\n",
      "DEBUG:mathsformer.selfsupervised_learning_addition_model_backend:---------------------------------------------------------------------------------------\n",
      "DEBUG:mathsformer.selfsupervised_learning_addition_model_backend:                 INPUT         TRUE   PRED(MASK)    PRED(GEN)      CORRECT     RESIDUAL\n",
      "DEBUG:mathsformer.selfsupervised_learning_addition_model_backend:---------------------------------------------------------------------------------------\n",
      "DEBUG:mathsformer.selfsupervised_learning_addition_model_backend:    N8097-N943+N8+5-86        N7243        N7243        N7243          X              0\n",
      "DEBUG:mathsformer.selfsupervised_learning_addition_model_backend:       N9+N4-N2+N943+4         N950        N950E         N950          X              0\n",
      "DEBUG:mathsformer.selfsupervised_learning_addition_model_backend:              476+N792         N316        N316E         N316          X              0\n",
      "DEBUG:mathsformer.selfsupervised_learning_addition_model_backend:     2333-6-N6836+8575        17738        17728        17728                       -10\n",
      "DEBUG:mathsformer.selfsupervised_learning_addition_model_backend:  N6665+617+N57+61+363        N5681        N5691        N5691                       -10\n",
      "DEBUG:mathsformer.selfsupervised_learning_addition_model_backend:     52-N6818+79-N5-N2         6956        6956E         6956          X              0\n",
      "DEBUG:mathsformer.selfsupervised_learning_addition_model_backend:                 N5+77           72        72EEE           72          X              0\n",
      "DEBUG:mathsformer.selfsupervised_learning_addition_model_backend: N379+N752-7+N2992-328        N4458        N4358        N4358                       100\n",
      "DEBUG:mathsformer.selfsupervised_learning_addition_model_backend:       N7+N9-1+97-7774        N7694        N7604        N7604                        90\n",
      "DEBUG:mathsformer.selfsupervised_learning_addition_model_backend:              75+N3612        N3537        N3537        N3537          X              0\n",
      "DEBUG:mathsformer.selfsupervised_learning_addition_model_backend:Running text --> text mathsformer inference on some validation data:\n",
      "DEBUG:mathsformer.selfsupervised_learning_addition_model_backend:-------------------------------------------------------------------------------\n",
      "DEBUG:mathsformer.selfsupervised_learning_addition_model_backend:         INPUT         TRUE   PRED(MASK)    PRED(GEN)      CORRECT     RESIDUAL\n",
      "DEBUG:mathsformer.selfsupervised_learning_addition_model_backend:-------------------------------------------------------------------------------\n",
      "DEBUG:mathsformer.selfsupervised_learning_addition_model_backend:  3-N3988+N847         3144        3144E         3144          X              0\n",
      "DEBUG:mathsformer.selfsupervised_learning_addition_model_backend:     7797+5-N4         7806        7806E         7806          X              0\n",
      "DEBUG:mathsformer.selfsupervised_learning_addition_model_backend:  N8357-N11+N7        N8353        N8353        N8353          X              0\n",
      "DEBUG:mathsformer.selfsupervised_learning_addition_model_backend: 6686-N437-236         6887        6887E         6887          X              0\n",
      "DEBUG:mathsformer.selfsupervised_learning_addition_model_backend:     N5+4442+8         4445        4445E         4445          X              0\n",
      "DEBUG:mathsformer.selfsupervised_learning_addition_model_backend:   2123-N1+N68         2056        2056E         2056          X              0\n",
      "DEBUG:mathsformer.selfsupervised_learning_addition_model_backend:   95+4563+879         5537        5537E         5537          X              0\n",
      "DEBUG:mathsformer.selfsupervised_learning_addition_model_backend:  1639+N2868+5        N1224        N1224        N1224          X              0\n",
      "DEBUG:mathsformer.selfsupervised_learning_addition_model_backend:      8+N725-3         N720        N720E         N720          X              0\n",
      "DEBUG:mathsformer.selfsupervised_learning_addition_model_backend: N283+N962-N40        N1205        N1205        N1205          X              0\n"
     ]
    },
    {
     "name": "stdout",
     "output_type": "stream",
     "text": [
      "2000/2000 [==============================] - 599s 299ms/step - loss: 0.1550 - masked_categorical_accuracy: 0.9427 - val_loss: 0.0604 - val_masked_categorical_accuracy: 0.9809\n",
      "Epoch 62/100000\n",
      "2000/2000 [==============================] - ETA: 0s - loss: 0.1479 - masked_categorical_accuracy: 0.9451"
     ]
    },
    {
     "name": "stderr",
     "output_type": "stream",
     "text": [
      "DEBUG:mathsformer.selfsupervised_learning_addition_model_backend:Training reached the end of epoch at index 61\n",
      "DEBUG:mathsformer.selfsupervised_learning_addition_model_backend:    with metric loss: 0.14793\n",
      "DEBUG:mathsformer.selfsupervised_learning_addition_model_backend:    with metric masked_categorical_accuracy: 0.94506\n",
      "DEBUG:mathsformer.selfsupervised_learning_addition_model_backend:    with metric val_loss: 0.041898\n",
      "DEBUG:mathsformer.selfsupervised_learning_addition_model_backend:    with metric val_masked_categorical_accuracy: 0.98774\n",
      "DEBUG:mathsformer.selfsupervised_learning_addition_model_backend:Running text --> text mathsformer inference on some training data:\n",
      "DEBUG:mathsformer.selfsupervised_learning_addition_model_backend:---------------------------------------------------------------------------------------\n",
      "DEBUG:mathsformer.selfsupervised_learning_addition_model_backend:                 INPUT         TRUE   PRED(MASK)    PRED(GEN)      CORRECT     RESIDUAL\n",
      "DEBUG:mathsformer.selfsupervised_learning_addition_model_backend:---------------------------------------------------------------------------------------\n",
      "DEBUG:mathsformer.selfsupervised_learning_addition_model_backend:    N8097-N943+N8+5-86        N7243        N7242        N7242                         1\n",
      "DEBUG:mathsformer.selfsupervised_learning_addition_model_backend:       N9+N4-N2+N943+4         N950        N950E         N950          X              0\n",
      "DEBUG:mathsformer.selfsupervised_learning_addition_model_backend:              476+N792         N316        N316E         N316          X              0\n",
      "DEBUG:mathsformer.selfsupervised_learning_addition_model_backend:     2333-6-N6836+8575        17738        17738        17738          X              0\n",
      "DEBUG:mathsformer.selfsupervised_learning_addition_model_backend:  N6665+617+N57+61+363        N5681        N5680        N5680                         1\n",
      "DEBUG:mathsformer.selfsupervised_learning_addition_model_backend:     52-N6818+79-N5-N2         6956        6956E         6956          X              0\n",
      "DEBUG:mathsformer.selfsupervised_learning_addition_model_backend:                 N5+77           72        72EEE           72          X              0\n",
      "DEBUG:mathsformer.selfsupervised_learning_addition_model_backend: N379+N752-7+N2992-328        N4458        N4458        N4458          X              0\n",
      "DEBUG:mathsformer.selfsupervised_learning_addition_model_backend:       N7+N9-1+97-7774        N7694        N7694        N7694          X              0\n",
      "DEBUG:mathsformer.selfsupervised_learning_addition_model_backend:              75+N3612        N3537        N3537        N3537          X              0\n",
      "DEBUG:mathsformer.selfsupervised_learning_addition_model_backend:Running text --> text mathsformer inference on some validation data:\n",
      "DEBUG:mathsformer.selfsupervised_learning_addition_model_backend:-------------------------------------------------------------------------------\n",
      "DEBUG:mathsformer.selfsupervised_learning_addition_model_backend:         INPUT         TRUE   PRED(MASK)    PRED(GEN)      CORRECT     RESIDUAL\n",
      "DEBUG:mathsformer.selfsupervised_learning_addition_model_backend:-------------------------------------------------------------------------------\n",
      "DEBUG:mathsformer.selfsupervised_learning_addition_model_backend:  3-N3988+N847         3144        3144E         3144          X              0\n",
      "DEBUG:mathsformer.selfsupervised_learning_addition_model_backend:     7797+5-N4         7806        7806E         7806          X              0\n",
      "DEBUG:mathsformer.selfsupervised_learning_addition_model_backend:  N8357-N11+N7        N8353        N8353        N8353          X              0\n",
      "DEBUG:mathsformer.selfsupervised_learning_addition_model_backend: 6686-N437-236         6887        6887E         6887          X              0\n",
      "DEBUG:mathsformer.selfsupervised_learning_addition_model_backend:     N5+4442+8         4445        4445E         4445          X              0\n",
      "DEBUG:mathsformer.selfsupervised_learning_addition_model_backend:   2123-N1+N68         2056        2056E         2056          X              0\n",
      "DEBUG:mathsformer.selfsupervised_learning_addition_model_backend:   95+4563+879         5537        5537E         5537          X              0\n",
      "DEBUG:mathsformer.selfsupervised_learning_addition_model_backend:  1639+N2868+5        N1224        N1224        N1224          X              0\n",
      "DEBUG:mathsformer.selfsupervised_learning_addition_model_backend:      8+N725-3         N720        N720E         N720          X              0\n",
      "DEBUG:mathsformer.selfsupervised_learning_addition_model_backend: N283+N962-N40        N1205        N1205        N1205          X              0\n"
     ]
    },
    {
     "name": "stdout",
     "output_type": "stream",
     "text": [
      "2000/2000 [==============================] - 586s 293ms/step - loss: 0.1479 - masked_categorical_accuracy: 0.9451 - val_loss: 0.0419 - val_masked_categorical_accuracy: 0.9877\n",
      "Epoch 63/100000\n",
      "2000/2000 [==============================] - ETA: 0s - loss: 0.1386 - masked_categorical_accuracy: 0.9485"
     ]
    },
    {
     "name": "stderr",
     "output_type": "stream",
     "text": [
      "DEBUG:mathsformer.selfsupervised_learning_addition_model_backend:Training reached the end of epoch at index 62\n",
      "DEBUG:mathsformer.selfsupervised_learning_addition_model_backend:    with metric loss: 0.1386\n",
      "DEBUG:mathsformer.selfsupervised_learning_addition_model_backend:    with metric masked_categorical_accuracy: 0.94845\n",
      "DEBUG:mathsformer.selfsupervised_learning_addition_model_backend:    with metric val_loss: 0.071697\n",
      "DEBUG:mathsformer.selfsupervised_learning_addition_model_backend:    with metric val_masked_categorical_accuracy: 0.97475\n",
      "DEBUG:mathsformer.selfsupervised_learning_addition_model_backend:Running text --> text mathsformer inference on some training data:\n",
      "DEBUG:mathsformer.selfsupervised_learning_addition_model_backend:---------------------------------------------------------------------------------------\n",
      "DEBUG:mathsformer.selfsupervised_learning_addition_model_backend:                 INPUT         TRUE   PRED(MASK)    PRED(GEN)      CORRECT     RESIDUAL\n",
      "DEBUG:mathsformer.selfsupervised_learning_addition_model_backend:---------------------------------------------------------------------------------------\n",
      "DEBUG:mathsformer.selfsupervised_learning_addition_model_backend:    N8097-N943+N8+5-86        N7243        N7242        N7242                         1\n",
      "DEBUG:mathsformer.selfsupervised_learning_addition_model_backend:       N9+N4-N2+N943+4         N950        N950E         N950          X              0\n",
      "DEBUG:mathsformer.selfsupervised_learning_addition_model_backend:              476+N792         N316        N316E         N316          X              0\n",
      "DEBUG:mathsformer.selfsupervised_learning_addition_model_backend:     2333-6-N6836+8575        17738        17738        17738          X              0\n",
      "DEBUG:mathsformer.selfsupervised_learning_addition_model_backend:  N6665+617+N57+61+363        N5681        N5581        N5581                       100\n",
      "DEBUG:mathsformer.selfsupervised_learning_addition_model_backend:     52-N6818+79-N5-N2         6956        6956E         6956          X              0\n",
      "DEBUG:mathsformer.selfsupervised_learning_addition_model_backend:                 N5+77           72        72EEE           72          X              0\n",
      "DEBUG:mathsformer.selfsupervised_learning_addition_model_backend: N379+N752-7+N2992-328        N4458        N4368        N4368                        90\n",
      "DEBUG:mathsformer.selfsupervised_learning_addition_model_backend:       N7+N9-1+97-7774        N7694        N7694        N7694          X              0\n",
      "DEBUG:mathsformer.selfsupervised_learning_addition_model_backend:              75+N3612        N3537        N3537        N3537          X              0\n",
      "DEBUG:mathsformer.selfsupervised_learning_addition_model_backend:Running text --> text mathsformer inference on some validation data:\n",
      "DEBUG:mathsformer.selfsupervised_learning_addition_model_backend:-------------------------------------------------------------------------------\n",
      "DEBUG:mathsformer.selfsupervised_learning_addition_model_backend:         INPUT         TRUE   PRED(MASK)    PRED(GEN)      CORRECT     RESIDUAL\n",
      "DEBUG:mathsformer.selfsupervised_learning_addition_model_backend:-------------------------------------------------------------------------------\n",
      "DEBUG:mathsformer.selfsupervised_learning_addition_model_backend:  3-N3988+N847         3144        3145E         3145                         1\n",
      "DEBUG:mathsformer.selfsupervised_learning_addition_model_backend:     7797+5-N4         7806        7806E         7806          X              0\n",
      "DEBUG:mathsformer.selfsupervised_learning_addition_model_backend:  N8357-N11+N7        N8353        N8353        N8353          X              0\n",
      "DEBUG:mathsformer.selfsupervised_learning_addition_model_backend: 6686-N437-236         6887        6887E         6887          X              0\n",
      "DEBUG:mathsformer.selfsupervised_learning_addition_model_backend:     N5+4442+8         4445        4445E         4445          X              0\n",
      "DEBUG:mathsformer.selfsupervised_learning_addition_model_backend:   2123-N1+N68         2056        2056E         2056          X              0\n",
      "DEBUG:mathsformer.selfsupervised_learning_addition_model_backend:   95+4563+879         5537        5537E         5537          X              0\n",
      "DEBUG:mathsformer.selfsupervised_learning_addition_model_backend:  1639+N2868+5        N1224        N1224        N1224          X              0\n",
      "DEBUG:mathsformer.selfsupervised_learning_addition_model_backend:      8+N725-3         N720        N720E         N720          X              0\n",
      "DEBUG:mathsformer.selfsupervised_learning_addition_model_backend: N283+N962-N40        N1205        N1205        N1205          X              0\n"
     ]
    },
    {
     "name": "stdout",
     "output_type": "stream",
     "text": [
      "2000/2000 [==============================] - 599s 299ms/step - loss: 0.1386 - masked_categorical_accuracy: 0.9485 - val_loss: 0.0717 - val_masked_categorical_accuracy: 0.9747\n",
      "Epoch 64/100000\n",
      "2000/2000 [==============================] - ETA: 0s - loss: 0.1511 - masked_categorical_accuracy: 0.9455"
     ]
    },
    {
     "name": "stderr",
     "output_type": "stream",
     "text": [
      "DEBUG:mathsformer.selfsupervised_learning_addition_model_backend:Training reached the end of epoch at index 63\n",
      "DEBUG:mathsformer.selfsupervised_learning_addition_model_backend:    with metric loss: 0.15113\n",
      "DEBUG:mathsformer.selfsupervised_learning_addition_model_backend:    with metric masked_categorical_accuracy: 0.9455\n",
      "DEBUG:mathsformer.selfsupervised_learning_addition_model_backend:    with metric val_loss: 0.047363\n",
      "DEBUG:mathsformer.selfsupervised_learning_addition_model_backend:    with metric val_masked_categorical_accuracy: 0.98467\n",
      "DEBUG:mathsformer.selfsupervised_learning_addition_model_backend:Running text --> text mathsformer inference on some training data:\n",
      "DEBUG:mathsformer.selfsupervised_learning_addition_model_backend:---------------------------------------------------------------------------------------\n",
      "DEBUG:mathsformer.selfsupervised_learning_addition_model_backend:                 INPUT         TRUE   PRED(MASK)    PRED(GEN)      CORRECT     RESIDUAL\n",
      "DEBUG:mathsformer.selfsupervised_learning_addition_model_backend:---------------------------------------------------------------------------------------\n",
      "DEBUG:mathsformer.selfsupervised_learning_addition_model_backend:    N8097-N943+N8+5-86        N7243        N7243        N7243          X              0\n",
      "DEBUG:mathsformer.selfsupervised_learning_addition_model_backend:       N9+N4-N2+N943+4         N950        N950E         N950          X              0\n",
      "DEBUG:mathsformer.selfsupervised_learning_addition_model_backend:              476+N792         N316        N316E         N316          X              0\n",
      "DEBUG:mathsformer.selfsupervised_learning_addition_model_backend:     2333-6-N6836+8575        17738        17738        17738          X              0\n",
      "DEBUG:mathsformer.selfsupervised_learning_addition_model_backend:  N6665+617+N57+61+363        N5681        N5681        N5681          X              0\n",
      "DEBUG:mathsformer.selfsupervised_learning_addition_model_backend:     52-N6818+79-N5-N2         6956        6956E         6956          X              0\n",
      "DEBUG:mathsformer.selfsupervised_learning_addition_model_backend:                 N5+77           72        72EEE           72          X              0\n",
      "DEBUG:mathsformer.selfsupervised_learning_addition_model_backend: N379+N752-7+N2992-328        N4458        N4468        N4468                       -10\n",
      "DEBUG:mathsformer.selfsupervised_learning_addition_model_backend:       N7+N9-1+97-7774        N7694        N7694        N7694          X              0\n",
      "DEBUG:mathsformer.selfsupervised_learning_addition_model_backend:              75+N3612        N3537        N3537        N3537          X              0\n",
      "DEBUG:mathsformer.selfsupervised_learning_addition_model_backend:Running text --> text mathsformer inference on some validation data:\n",
      "DEBUG:mathsformer.selfsupervised_learning_addition_model_backend:-------------------------------------------------------------------------------\n",
      "DEBUG:mathsformer.selfsupervised_learning_addition_model_backend:         INPUT         TRUE   PRED(MASK)    PRED(GEN)      CORRECT     RESIDUAL\n",
      "DEBUG:mathsformer.selfsupervised_learning_addition_model_backend:-------------------------------------------------------------------------------\n",
      "DEBUG:mathsformer.selfsupervised_learning_addition_model_backend:  3-N3988+N847         3144        3144E         3144          X              0\n",
      "DEBUG:mathsformer.selfsupervised_learning_addition_model_backend:     7797+5-N4         7806        7806E         7806          X              0\n",
      "DEBUG:mathsformer.selfsupervised_learning_addition_model_backend:  N8357-N11+N7        N8353        N8353        N8353          X              0\n",
      "DEBUG:mathsformer.selfsupervised_learning_addition_model_backend: 6686-N437-236         6887        6887E         6887          X              0\n",
      "DEBUG:mathsformer.selfsupervised_learning_addition_model_backend:     N5+4442+8         4445        4445E         4445          X              0\n",
      "DEBUG:mathsformer.selfsupervised_learning_addition_model_backend:   2123-N1+N68         2056        2056E         2056          X              0\n",
      "DEBUG:mathsformer.selfsupervised_learning_addition_model_backend:   95+4563+879         5537        5537E         5537          X              0\n",
      "DEBUG:mathsformer.selfsupervised_learning_addition_model_backend:  1639+N2868+5        N1224        N1224        N1224          X              0\n",
      "DEBUG:mathsformer.selfsupervised_learning_addition_model_backend:      8+N725-3         N720        N720E         N720          X              0\n",
      "DEBUG:mathsformer.selfsupervised_learning_addition_model_backend: N283+N962-N40        N1205        N1205        N1205          X              0\n"
     ]
    },
    {
     "name": "stdout",
     "output_type": "stream",
     "text": [
      "2000/2000 [==============================] - 595s 297ms/step - loss: 0.1511 - masked_categorical_accuracy: 0.9455 - val_loss: 0.0474 - val_masked_categorical_accuracy: 0.9847\n",
      "Epoch 65/100000\n",
      "2000/2000 [==============================] - ETA: 0s - loss: 0.1266 - masked_categorical_accuracy: 0.9523"
     ]
    },
    {
     "name": "stderr",
     "output_type": "stream",
     "text": [
      "DEBUG:mathsformer.selfsupervised_learning_addition_model_backend:Training reached the end of epoch at index 64\n",
      "DEBUG:mathsformer.selfsupervised_learning_addition_model_backend:    with metric loss: 0.12657\n",
      "DEBUG:mathsformer.selfsupervised_learning_addition_model_backend:    with metric masked_categorical_accuracy: 0.95231\n",
      "DEBUG:mathsformer.selfsupervised_learning_addition_model_backend:    with metric val_loss: 0.053459\n",
      "DEBUG:mathsformer.selfsupervised_learning_addition_model_backend:    with metric val_masked_categorical_accuracy: 0.98403\n",
      "DEBUG:mathsformer.selfsupervised_learning_addition_model_backend:Running text --> text mathsformer inference on some training data:\n",
      "DEBUG:mathsformer.selfsupervised_learning_addition_model_backend:---------------------------------------------------------------------------------------\n",
      "DEBUG:mathsformer.selfsupervised_learning_addition_model_backend:                 INPUT         TRUE   PRED(MASK)    PRED(GEN)      CORRECT     RESIDUAL\n",
      "DEBUG:mathsformer.selfsupervised_learning_addition_model_backend:---------------------------------------------------------------------------------------\n",
      "DEBUG:mathsformer.selfsupervised_learning_addition_model_backend:    N8097-N943+N8+5-86        N7243        N7243        N7243          X              0\n",
      "DEBUG:mathsformer.selfsupervised_learning_addition_model_backend:       N9+N4-N2+N943+4         N950        N950E         N950          X              0\n",
      "DEBUG:mathsformer.selfsupervised_learning_addition_model_backend:              476+N792         N316        N316E         N316          X              0\n",
      "DEBUG:mathsformer.selfsupervised_learning_addition_model_backend:     2333-6-N6836+8575        17738        17738        17738          X              0\n",
      "DEBUG:mathsformer.selfsupervised_learning_addition_model_backend:  N6665+617+N57+61+363        N5681        N5681        N5681          X              0\n",
      "DEBUG:mathsformer.selfsupervised_learning_addition_model_backend:     52-N6818+79-N5-N2         6956        6955E         6955                        -1\n",
      "DEBUG:mathsformer.selfsupervised_learning_addition_model_backend:                 N5+77           72        72EEE           72          X              0\n",
      "DEBUG:mathsformer.selfsupervised_learning_addition_model_backend: N379+N752-7+N2992-328        N4458        N4458        N4458          X              0\n",
      "DEBUG:mathsformer.selfsupervised_learning_addition_model_backend:       N7+N9-1+97-7774        N7694        N7694        N7694          X              0\n",
      "DEBUG:mathsformer.selfsupervised_learning_addition_model_backend:              75+N3612        N3537        N3537        N3537          X              0\n",
      "DEBUG:mathsformer.selfsupervised_learning_addition_model_backend:Running text --> text mathsformer inference on some validation data:\n",
      "DEBUG:mathsformer.selfsupervised_learning_addition_model_backend:-------------------------------------------------------------------------------\n",
      "DEBUG:mathsformer.selfsupervised_learning_addition_model_backend:         INPUT         TRUE   PRED(MASK)    PRED(GEN)      CORRECT     RESIDUAL\n",
      "DEBUG:mathsformer.selfsupervised_learning_addition_model_backend:-------------------------------------------------------------------------------\n",
      "DEBUG:mathsformer.selfsupervised_learning_addition_model_backend:  3-N3988+N847         3144        3144E         3144          X              0\n",
      "DEBUG:mathsformer.selfsupervised_learning_addition_model_backend:     7797+5-N4         7806        7806E         7806          X              0\n",
      "DEBUG:mathsformer.selfsupervised_learning_addition_model_backend:  N8357-N11+N7        N8353        N8363        N8363                       -10\n",
      "DEBUG:mathsformer.selfsupervised_learning_addition_model_backend: 6686-N437-236         6887        6887E         6887          X              0\n",
      "DEBUG:mathsformer.selfsupervised_learning_addition_model_backend:     N5+4442+8         4445        4445E         4445          X              0\n",
      "DEBUG:mathsformer.selfsupervised_learning_addition_model_backend:   2123-N1+N68         2056        2056E         2056          X              0\n",
      "DEBUG:mathsformer.selfsupervised_learning_addition_model_backend:   95+4563+879         5537        5537E         5537          X              0\n",
      "DEBUG:mathsformer.selfsupervised_learning_addition_model_backend:  1639+N2868+5        N1224        N1224        N1224          X              0\n",
      "DEBUG:mathsformer.selfsupervised_learning_addition_model_backend:      8+N725-3         N720        N720E         N720          X              0\n",
      "DEBUG:mathsformer.selfsupervised_learning_addition_model_backend: N283+N962-N40        N1205        N1205        N1205          X              0\n"
     ]
    },
    {
     "name": "stdout",
     "output_type": "stream",
     "text": [
      "2000/2000 [==============================] - 596s 298ms/step - loss: 0.1266 - masked_categorical_accuracy: 0.9523 - val_loss: 0.0535 - val_masked_categorical_accuracy: 0.9840\n",
      "Epoch 66/100000\n",
      "2000/2000 [==============================] - ETA: 0s - loss: 0.1307 - masked_categorical_accuracy: 0.9517"
     ]
    },
    {
     "name": "stderr",
     "output_type": "stream",
     "text": [
      "DEBUG:mathsformer.selfsupervised_learning_addition_model_backend:Training reached the end of epoch at index 65\n",
      "DEBUG:mathsformer.selfsupervised_learning_addition_model_backend:    with metric loss: 0.1307\n",
      "DEBUG:mathsformer.selfsupervised_learning_addition_model_backend:    with metric masked_categorical_accuracy: 0.95171\n",
      "DEBUG:mathsformer.selfsupervised_learning_addition_model_backend:    with metric val_loss: 0.064055\n",
      "DEBUG:mathsformer.selfsupervised_learning_addition_model_backend:    with metric val_masked_categorical_accuracy: 0.97859\n",
      "DEBUG:mathsformer.selfsupervised_learning_addition_model_backend:Running text --> text mathsformer inference on some training data:\n",
      "DEBUG:mathsformer.selfsupervised_learning_addition_model_backend:---------------------------------------------------------------------------------------\n",
      "DEBUG:mathsformer.selfsupervised_learning_addition_model_backend:                 INPUT         TRUE   PRED(MASK)    PRED(GEN)      CORRECT     RESIDUAL\n",
      "DEBUG:mathsformer.selfsupervised_learning_addition_model_backend:---------------------------------------------------------------------------------------\n",
      "DEBUG:mathsformer.selfsupervised_learning_addition_model_backend:    N8097-N943+N8+5-86        N7243        N7243        N7243          X              0\n",
      "DEBUG:mathsformer.selfsupervised_learning_addition_model_backend:       N9+N4-N2+N943+4         N950        N950E         N950          X              0\n",
      "DEBUG:mathsformer.selfsupervised_learning_addition_model_backend:              476+N792         N316        N316E         N316          X              0\n",
      "DEBUG:mathsformer.selfsupervised_learning_addition_model_backend:     2333-6-N6836+8575        17738        17738        17738          X              0\n",
      "DEBUG:mathsformer.selfsupervised_learning_addition_model_backend:  N6665+617+N57+61+363        N5681        N5681        N5681          X              0\n",
      "DEBUG:mathsformer.selfsupervised_learning_addition_model_backend:     52-N6818+79-N5-N2         6956        6956E         6956          X              0\n",
      "DEBUG:mathsformer.selfsupervised_learning_addition_model_backend:                 N5+77           72        72EEE           72          X              0\n",
      "DEBUG:mathsformer.selfsupervised_learning_addition_model_backend: N379+N752-7+N2992-328        N4458        N4358        N4358                       100\n",
      "DEBUG:mathsformer.selfsupervised_learning_addition_model_backend:       N7+N9-1+97-7774        N7694        N7694        N7694          X              0\n",
      "DEBUG:mathsformer.selfsupervised_learning_addition_model_backend:              75+N3612        N3537        N3537        N3537          X              0\n",
      "DEBUG:mathsformer.selfsupervised_learning_addition_model_backend:Running text --> text mathsformer inference on some validation data:\n",
      "DEBUG:mathsformer.selfsupervised_learning_addition_model_backend:-------------------------------------------------------------------------------\n",
      "DEBUG:mathsformer.selfsupervised_learning_addition_model_backend:         INPUT         TRUE   PRED(MASK)    PRED(GEN)      CORRECT     RESIDUAL\n",
      "DEBUG:mathsformer.selfsupervised_learning_addition_model_backend:-------------------------------------------------------------------------------\n",
      "DEBUG:mathsformer.selfsupervised_learning_addition_model_backend:  3-N3988+N847         3144        3144E         3144          X              0\n",
      "DEBUG:mathsformer.selfsupervised_learning_addition_model_backend:     7797+5-N4         7806        7806E         7806          X              0\n",
      "DEBUG:mathsformer.selfsupervised_learning_addition_model_backend:  N8357-N11+N7        N8353        N8353        N8353          X              0\n",
      "DEBUG:mathsformer.selfsupervised_learning_addition_model_backend: 6686-N437-236         6887        6888E         6888                         1\n",
      "DEBUG:mathsformer.selfsupervised_learning_addition_model_backend:     N5+4442+8         4445        4445E         4445          X              0\n",
      "DEBUG:mathsformer.selfsupervised_learning_addition_model_backend:   2123-N1+N68         2056        2056E         2056          X              0\n",
      "DEBUG:mathsformer.selfsupervised_learning_addition_model_backend:   95+4563+879         5537        5537E         5537          X              0\n",
      "DEBUG:mathsformer.selfsupervised_learning_addition_model_backend:  1639+N2868+5        N1224        N1224        N1224          X              0\n",
      "DEBUG:mathsformer.selfsupervised_learning_addition_model_backend:      8+N725-3         N720        N720E         N720          X              0\n",
      "DEBUG:mathsformer.selfsupervised_learning_addition_model_backend: N283+N962-N40        N1205        N1205        N1205          X              0\n"
     ]
    },
    {
     "name": "stdout",
     "output_type": "stream",
     "text": [
      "2000/2000 [==============================] - 590s 295ms/step - loss: 0.1307 - masked_categorical_accuracy: 0.9517 - val_loss: 0.0641 - val_masked_categorical_accuracy: 0.9786\n",
      "Epoch 67/100000\n",
      "2000/2000 [==============================] - ETA: 0s - loss: 0.1244 - masked_categorical_accuracy: 0.9545"
     ]
    },
    {
     "name": "stderr",
     "output_type": "stream",
     "text": [
      "DEBUG:mathsformer.selfsupervised_learning_addition_model_backend:Training reached the end of epoch at index 66\n",
      "DEBUG:mathsformer.selfsupervised_learning_addition_model_backend:    with metric loss: 0.12444\n",
      "DEBUG:mathsformer.selfsupervised_learning_addition_model_backend:    with metric masked_categorical_accuracy: 0.95452\n",
      "DEBUG:mathsformer.selfsupervised_learning_addition_model_backend:    with metric val_loss: 0.052448\n",
      "DEBUG:mathsformer.selfsupervised_learning_addition_model_backend:    with metric val_masked_categorical_accuracy: 0.98565\n",
      "DEBUG:mathsformer.selfsupervised_learning_addition_model_backend:Running text --> text mathsformer inference on some training data:\n",
      "DEBUG:mathsformer.selfsupervised_learning_addition_model_backend:---------------------------------------------------------------------------------------\n",
      "DEBUG:mathsformer.selfsupervised_learning_addition_model_backend:                 INPUT         TRUE   PRED(MASK)    PRED(GEN)      CORRECT     RESIDUAL\n",
      "DEBUG:mathsformer.selfsupervised_learning_addition_model_backend:---------------------------------------------------------------------------------------\n",
      "DEBUG:mathsformer.selfsupervised_learning_addition_model_backend:    N8097-N943+N8+5-86        N7243        N7243        N7243          X              0\n",
      "DEBUG:mathsformer.selfsupervised_learning_addition_model_backend:       N9+N4-N2+N943+4         N950        N950E         N950          X              0\n",
      "DEBUG:mathsformer.selfsupervised_learning_addition_model_backend:              476+N792         N316        N316E         N316          X              0\n",
      "DEBUG:mathsformer.selfsupervised_learning_addition_model_backend:     2333-6-N6836+8575        17738        17738        17738          X              0\n",
      "DEBUG:mathsformer.selfsupervised_learning_addition_model_backend:  N6665+617+N57+61+363        N5681        N5681        N5681          X              0\n",
      "DEBUG:mathsformer.selfsupervised_learning_addition_model_backend:     52-N6818+79-N5-N2         6956        7956E         7956                      1000\n",
      "DEBUG:mathsformer.selfsupervised_learning_addition_model_backend:                 N5+77           72        72EEE           72          X              0\n",
      "DEBUG:mathsformer.selfsupervised_learning_addition_model_backend: N379+N752-7+N2992-328        N4458        N4458        N4458          X              0\n",
      "DEBUG:mathsformer.selfsupervised_learning_addition_model_backend:       N7+N9-1+97-7774        N7694        N7694        N7694          X              0\n",
      "DEBUG:mathsformer.selfsupervised_learning_addition_model_backend:              75+N3612        N3537        N3537        N3537          X              0\n",
      "DEBUG:mathsformer.selfsupervised_learning_addition_model_backend:Running text --> text mathsformer inference on some validation data:\n",
      "DEBUG:mathsformer.selfsupervised_learning_addition_model_backend:-------------------------------------------------------------------------------\n",
      "DEBUG:mathsformer.selfsupervised_learning_addition_model_backend:         INPUT         TRUE   PRED(MASK)    PRED(GEN)      CORRECT     RESIDUAL\n",
      "DEBUG:mathsformer.selfsupervised_learning_addition_model_backend:-------------------------------------------------------------------------------\n",
      "DEBUG:mathsformer.selfsupervised_learning_addition_model_backend:  3-N3988+N847         3144        3144E         3144          X              0\n",
      "DEBUG:mathsformer.selfsupervised_learning_addition_model_backend:     7797+5-N4         7806        7806E         7806          X              0\n",
      "DEBUG:mathsformer.selfsupervised_learning_addition_model_backend:  N8357-N11+N7        N8353        N8353        N8353          X              0\n",
      "DEBUG:mathsformer.selfsupervised_learning_addition_model_backend: 6686-N437-236         6887        6887E         6887          X              0\n",
      "DEBUG:mathsformer.selfsupervised_learning_addition_model_backend:     N5+4442+8         4445        4445E         4445          X              0\n",
      "DEBUG:mathsformer.selfsupervised_learning_addition_model_backend:   2123-N1+N68         2056        2056E         2056          X              0\n",
      "DEBUG:mathsformer.selfsupervised_learning_addition_model_backend:   95+4563+879         5537        5537E         5537          X              0\n",
      "DEBUG:mathsformer.selfsupervised_learning_addition_model_backend:  1639+N2868+5        N1224        N1224        N1224          X              0\n",
      "DEBUG:mathsformer.selfsupervised_learning_addition_model_backend:      8+N725-3         N720        N720E         N720          X              0\n",
      "DEBUG:mathsformer.selfsupervised_learning_addition_model_backend: N283+N962-N40        N1205        N1205        N1205          X              0\n"
     ]
    },
    {
     "name": "stdout",
     "output_type": "stream",
     "text": [
      "2000/2000 [==============================] - 594s 297ms/step - loss: 0.1244 - masked_categorical_accuracy: 0.9545 - val_loss: 0.0524 - val_masked_categorical_accuracy: 0.9856\n",
      "Epoch 68/100000\n",
      "2000/2000 [==============================] - ETA: 0s - loss: 0.1165 - masked_categorical_accuracy: 0.9571"
     ]
    },
    {
     "name": "stderr",
     "output_type": "stream",
     "text": [
      "DEBUG:mathsformer.selfsupervised_learning_addition_model_backend:Training reached the end of epoch at index 67\n",
      "DEBUG:mathsformer.selfsupervised_learning_addition_model_backend:    with metric loss: 0.11654\n",
      "DEBUG:mathsformer.selfsupervised_learning_addition_model_backend:    with metric masked_categorical_accuracy: 0.9571\n",
      "DEBUG:mathsformer.selfsupervised_learning_addition_model_backend:    with metric val_loss: 0.15092\n",
      "DEBUG:mathsformer.selfsupervised_learning_addition_model_backend:    with metric val_masked_categorical_accuracy: 0.96109\n",
      "DEBUG:mathsformer.selfsupervised_learning_addition_model_backend:Running text --> text mathsformer inference on some training data:\n",
      "DEBUG:mathsformer.selfsupervised_learning_addition_model_backend:---------------------------------------------------------------------------------------\n",
      "DEBUG:mathsformer.selfsupervised_learning_addition_model_backend:                 INPUT         TRUE   PRED(MASK)    PRED(GEN)      CORRECT     RESIDUAL\n",
      "DEBUG:mathsformer.selfsupervised_learning_addition_model_backend:---------------------------------------------------------------------------------------\n",
      "DEBUG:mathsformer.selfsupervised_learning_addition_model_backend:    N8097-N943+N8+5-86        N7243        N7243        N7243          X              0\n",
      "DEBUG:mathsformer.selfsupervised_learning_addition_model_backend:       N9+N4-N2+N943+4         N950        N950E         N950          X              0\n",
      "DEBUG:mathsformer.selfsupervised_learning_addition_model_backend:              476+N792         N316        N316E         N316          X              0\n",
      "DEBUG:mathsformer.selfsupervised_learning_addition_model_backend:     2333-6-N6836+8575        17738        17738        17738          X              0\n",
      "DEBUG:mathsformer.selfsupervised_learning_addition_model_backend:  N6665+617+N57+61+363        N5681        N5681        N5681          X              0\n",
      "DEBUG:mathsformer.selfsupervised_learning_addition_model_backend:     52-N6818+79-N5-N2         6956        6035E         6035                      -921\n",
      "DEBUG:mathsformer.selfsupervised_learning_addition_model_backend:                 N5+77           72        72EEE           72          X              0\n",
      "DEBUG:mathsformer.selfsupervised_learning_addition_model_backend: N379+N752-7+N2992-328        N4458        N4468        N4468                       -10\n",
      "DEBUG:mathsformer.selfsupervised_learning_addition_model_backend:       N7+N9-1+97-7774        N7694        N7694        N7694          X              0\n",
      "DEBUG:mathsformer.selfsupervised_learning_addition_model_backend:              75+N3612        N3537        N3537        N3537          X              0\n",
      "DEBUG:mathsformer.selfsupervised_learning_addition_model_backend:Running text --> text mathsformer inference on some validation data:\n",
      "DEBUG:mathsformer.selfsupervised_learning_addition_model_backend:-------------------------------------------------------------------------------\n",
      "DEBUG:mathsformer.selfsupervised_learning_addition_model_backend:         INPUT         TRUE   PRED(MASK)    PRED(GEN)      CORRECT     RESIDUAL\n",
      "DEBUG:mathsformer.selfsupervised_learning_addition_model_backend:-------------------------------------------------------------------------------\n",
      "DEBUG:mathsformer.selfsupervised_learning_addition_model_backend:  3-N3988+N847         3144        3144E         3144          X              0\n",
      "DEBUG:mathsformer.selfsupervised_learning_addition_model_backend:     7797+5-N4         7806        7806E         7806          X              0\n",
      "DEBUG:mathsformer.selfsupervised_learning_addition_model_backend:  N8357-N11+N7        N8353        N8363        N8363                       -10\n",
      "DEBUG:mathsformer.selfsupervised_learning_addition_model_backend: 6686-N437-236         6887        6887E         6887          X              0\n",
      "DEBUG:mathsformer.selfsupervised_learning_addition_model_backend:     N5+4442+8         4445        4445E         4445          X              0\n",
      "DEBUG:mathsformer.selfsupervised_learning_addition_model_backend:   2123-N1+N68         2056        2056E         2056          X              0\n",
      "DEBUG:mathsformer.selfsupervised_learning_addition_model_backend:   95+4563+879         5537        5537E         5537          X              0\n",
      "DEBUG:mathsformer.selfsupervised_learning_addition_model_backend:  1639+N2868+5        N1224        N1223        N1223                         1\n",
      "DEBUG:mathsformer.selfsupervised_learning_addition_model_backend:      8+N725-3         N720        N720E         N720          X              0\n",
      "DEBUG:mathsformer.selfsupervised_learning_addition_model_backend: N283+N962-N40        N1205        N1205        N1205          X              0\n"
     ]
    },
    {
     "name": "stdout",
     "output_type": "stream",
     "text": [
      "2000/2000 [==============================] - 596s 298ms/step - loss: 0.1165 - masked_categorical_accuracy: 0.9571 - val_loss: 0.1509 - val_masked_categorical_accuracy: 0.9611\n",
      "Epoch 69/100000\n",
      "2000/2000 [==============================] - ETA: 0s - loss: 0.1141 - masked_categorical_accuracy: 0.9582"
     ]
    },
    {
     "name": "stderr",
     "output_type": "stream",
     "text": [
      "DEBUG:mathsformer.selfsupervised_learning_addition_model_backend:Training reached the end of epoch at index 68\n",
      "DEBUG:mathsformer.selfsupervised_learning_addition_model_backend:    with metric loss: 0.11406\n",
      "DEBUG:mathsformer.selfsupervised_learning_addition_model_backend:    with metric masked_categorical_accuracy: 0.95819\n",
      "DEBUG:mathsformer.selfsupervised_learning_addition_model_backend:    with metric val_loss: 0.044561\n",
      "DEBUG:mathsformer.selfsupervised_learning_addition_model_backend:    with metric val_masked_categorical_accuracy: 0.98503\n",
      "DEBUG:mathsformer.selfsupervised_learning_addition_model_backend:Running text --> text mathsformer inference on some training data:\n",
      "DEBUG:mathsformer.selfsupervised_learning_addition_model_backend:---------------------------------------------------------------------------------------\n",
      "DEBUG:mathsformer.selfsupervised_learning_addition_model_backend:                 INPUT         TRUE   PRED(MASK)    PRED(GEN)      CORRECT     RESIDUAL\n",
      "DEBUG:mathsformer.selfsupervised_learning_addition_model_backend:---------------------------------------------------------------------------------------\n",
      "DEBUG:mathsformer.selfsupervised_learning_addition_model_backend:    N8097-N943+N8+5-86        N7243        N7243        N7243          X              0\n",
      "DEBUG:mathsformer.selfsupervised_learning_addition_model_backend:       N9+N4-N2+N943+4         N950        N950E         N950          X              0\n",
      "DEBUG:mathsformer.selfsupervised_learning_addition_model_backend:              476+N792         N316        N316E         N316          X              0\n",
      "DEBUG:mathsformer.selfsupervised_learning_addition_model_backend:     2333-6-N6836+8575        17738        17838        17838                       100\n",
      "DEBUG:mathsformer.selfsupervised_learning_addition_model_backend:  N6665+617+N57+61+363        N5681        N5681        N5681          X              0\n",
      "DEBUG:mathsformer.selfsupervised_learning_addition_model_backend:     52-N6818+79-N5-N2         6956        6956E         6956          X              0\n",
      "DEBUG:mathsformer.selfsupervised_learning_addition_model_backend:                 N5+77           72        72EEE           72          X              0\n",
      "DEBUG:mathsformer.selfsupervised_learning_addition_model_backend: N379+N752-7+N2992-328        N4458        N4468        N4468                       -10\n",
      "DEBUG:mathsformer.selfsupervised_learning_addition_model_backend:       N7+N9-1+97-7774        N7694        N7694        N7694          X              0\n",
      "DEBUG:mathsformer.selfsupervised_learning_addition_model_backend:              75+N3612        N3537        N3537        N3537          X              0\n",
      "DEBUG:mathsformer.selfsupervised_learning_addition_model_backend:Running text --> text mathsformer inference on some validation data:\n",
      "DEBUG:mathsformer.selfsupervised_learning_addition_model_backend:-------------------------------------------------------------------------------\n",
      "DEBUG:mathsformer.selfsupervised_learning_addition_model_backend:         INPUT         TRUE   PRED(MASK)    PRED(GEN)      CORRECT     RESIDUAL\n",
      "DEBUG:mathsformer.selfsupervised_learning_addition_model_backend:-------------------------------------------------------------------------------\n",
      "DEBUG:mathsformer.selfsupervised_learning_addition_model_backend:  3-N3988+N847         3144        3144E         3144          X              0\n",
      "DEBUG:mathsformer.selfsupervised_learning_addition_model_backend:     7797+5-N4         7806        7807E         7807                         1\n",
      "DEBUG:mathsformer.selfsupervised_learning_addition_model_backend:  N8357-N11+N7        N8353        N8353        N8353          X              0\n",
      "DEBUG:mathsformer.selfsupervised_learning_addition_model_backend: 6686-N437-236         6887        6887E         6887          X              0\n",
      "DEBUG:mathsformer.selfsupervised_learning_addition_model_backend:     N5+4442+8         4445        4445E         4445          X              0\n",
      "DEBUG:mathsformer.selfsupervised_learning_addition_model_backend:   2123-N1+N68         2056        2056E         2056          X              0\n",
      "DEBUG:mathsformer.selfsupervised_learning_addition_model_backend:   95+4563+879         5537        5538E         5538                         1\n",
      "DEBUG:mathsformer.selfsupervised_learning_addition_model_backend:  1639+N2868+5        N1224        N1224        N1224          X              0\n",
      "DEBUG:mathsformer.selfsupervised_learning_addition_model_backend:      8+N725-3         N720        N720E         N720          X              0\n",
      "DEBUG:mathsformer.selfsupervised_learning_addition_model_backend: N283+N962-N40        N1205        N1205        N1205          X              0\n"
     ]
    },
    {
     "name": "stdout",
     "output_type": "stream",
     "text": [
      "2000/2000 [==============================] - 604s 302ms/step - loss: 0.1141 - masked_categorical_accuracy: 0.9582 - val_loss: 0.0446 - val_masked_categorical_accuracy: 0.9850\n",
      "Epoch 70/100000\n",
      "2000/2000 [==============================] - ETA: 0s - loss: 0.1205 - masked_categorical_accuracy: 0.9572"
     ]
    },
    {
     "name": "stderr",
     "output_type": "stream",
     "text": [
      "DEBUG:mathsformer.selfsupervised_learning_addition_model_backend:Training reached the end of epoch at index 69\n",
      "DEBUG:mathsformer.selfsupervised_learning_addition_model_backend:    with metric loss: 0.12054\n",
      "DEBUG:mathsformer.selfsupervised_learning_addition_model_backend:    with metric masked_categorical_accuracy: 0.95723\n",
      "DEBUG:mathsformer.selfsupervised_learning_addition_model_backend:    with metric val_loss: 0.036255\n",
      "DEBUG:mathsformer.selfsupervised_learning_addition_model_backend:    with metric val_masked_categorical_accuracy: 0.98865\n",
      "DEBUG:mathsformer.selfsupervised_learning_addition_model_backend:Running text --> text mathsformer inference on some training data:\n",
      "DEBUG:mathsformer.selfsupervised_learning_addition_model_backend:---------------------------------------------------------------------------------------\n",
      "DEBUG:mathsformer.selfsupervised_learning_addition_model_backend:                 INPUT         TRUE   PRED(MASK)    PRED(GEN)      CORRECT     RESIDUAL\n",
      "DEBUG:mathsformer.selfsupervised_learning_addition_model_backend:---------------------------------------------------------------------------------------\n",
      "DEBUG:mathsformer.selfsupervised_learning_addition_model_backend:    N8097-N943+N8+5-86        N7243        N7243        N7243          X              0\n",
      "DEBUG:mathsformer.selfsupervised_learning_addition_model_backend:       N9+N4-N2+N943+4         N950        N950E         N950          X              0\n",
      "DEBUG:mathsformer.selfsupervised_learning_addition_model_backend:              476+N792         N316        N316E         N316          X              0\n",
      "DEBUG:mathsformer.selfsupervised_learning_addition_model_backend:     2333-6-N6836+8575        17738        17738        17738          X              0\n",
      "DEBUG:mathsformer.selfsupervised_learning_addition_model_backend:  N6665+617+N57+61+363        N5681        N5681        N5681          X              0\n",
      "DEBUG:mathsformer.selfsupervised_learning_addition_model_backend:     52-N6818+79-N5-N2         6956        6956E         6956          X              0\n",
      "DEBUG:mathsformer.selfsupervised_learning_addition_model_backend:                 N5+77           72        72EEE           72          X              0\n",
      "DEBUG:mathsformer.selfsupervised_learning_addition_model_backend: N379+N752-7+N2992-328        N4458        N4458        N4458          X              0\n",
      "DEBUG:mathsformer.selfsupervised_learning_addition_model_backend:       N7+N9-1+97-7774        N7694        N7694        N7694          X              0\n",
      "DEBUG:mathsformer.selfsupervised_learning_addition_model_backend:              75+N3612        N3537        N3537        N3537          X              0\n",
      "DEBUG:mathsformer.selfsupervised_learning_addition_model_backend:Running text --> text mathsformer inference on some validation data:\n",
      "DEBUG:mathsformer.selfsupervised_learning_addition_model_backend:-------------------------------------------------------------------------------\n",
      "DEBUG:mathsformer.selfsupervised_learning_addition_model_backend:         INPUT         TRUE   PRED(MASK)    PRED(GEN)      CORRECT     RESIDUAL\n",
      "DEBUG:mathsformer.selfsupervised_learning_addition_model_backend:-------------------------------------------------------------------------------\n",
      "DEBUG:mathsformer.selfsupervised_learning_addition_model_backend:  3-N3988+N847         3144        3144E         3144          X              0\n",
      "DEBUG:mathsformer.selfsupervised_learning_addition_model_backend:     7797+5-N4         7806        7806E         7806          X              0\n",
      "DEBUG:mathsformer.selfsupervised_learning_addition_model_backend:  N8357-N11+N7        N8353        N8353        N8353          X              0\n",
      "DEBUG:mathsformer.selfsupervised_learning_addition_model_backend: 6686-N437-236         6887        6887E         6887          X              0\n",
      "DEBUG:mathsformer.selfsupervised_learning_addition_model_backend:     N5+4442+8         4445        4445E         4445          X              0\n",
      "DEBUG:mathsformer.selfsupervised_learning_addition_model_backend:   2123-N1+N68         2056        2056E         2056          X              0\n",
      "DEBUG:mathsformer.selfsupervised_learning_addition_model_backend:   95+4563+879         5537        5537E         5537          X              0\n",
      "DEBUG:mathsformer.selfsupervised_learning_addition_model_backend:  1639+N2868+5        N1224        N1224        N1224          X              0\n",
      "DEBUG:mathsformer.selfsupervised_learning_addition_model_backend:      8+N725-3         N720        N720E         N720          X              0\n",
      "DEBUG:mathsformer.selfsupervised_learning_addition_model_backend: N283+N962-N40        N1205        N1205        N1205          X              0\n"
     ]
    },
    {
     "name": "stdout",
     "output_type": "stream",
     "text": [
      "2000/2000 [==============================] - 605s 303ms/step - loss: 0.1205 - masked_categorical_accuracy: 0.9572 - val_loss: 0.0363 - val_masked_categorical_accuracy: 0.9886\n",
      "Epoch 71/100000\n",
      "2000/2000 [==============================] - ETA: 0s - loss: 0.1164 - masked_categorical_accuracy: 0.9586"
     ]
    },
    {
     "name": "stderr",
     "output_type": "stream",
     "text": [
      "DEBUG:mathsformer.selfsupervised_learning_addition_model_backend:Training reached the end of epoch at index 70\n",
      "DEBUG:mathsformer.selfsupervised_learning_addition_model_backend:    with metric loss: 0.11641\n",
      "DEBUG:mathsformer.selfsupervised_learning_addition_model_backend:    with metric masked_categorical_accuracy: 0.95863\n",
      "DEBUG:mathsformer.selfsupervised_learning_addition_model_backend:    with metric val_loss: 0.050632\n",
      "DEBUG:mathsformer.selfsupervised_learning_addition_model_backend:    with metric val_masked_categorical_accuracy: 0.98212\n",
      "DEBUG:mathsformer.selfsupervised_learning_addition_model_backend:Running text --> text mathsformer inference on some training data:\n",
      "DEBUG:mathsformer.selfsupervised_learning_addition_model_backend:---------------------------------------------------------------------------------------\n",
      "DEBUG:mathsformer.selfsupervised_learning_addition_model_backend:                 INPUT         TRUE   PRED(MASK)    PRED(GEN)      CORRECT     RESIDUAL\n",
      "DEBUG:mathsformer.selfsupervised_learning_addition_model_backend:---------------------------------------------------------------------------------------\n",
      "DEBUG:mathsformer.selfsupervised_learning_addition_model_backend:    N8097-N943+N8+5-86        N7243        N7243        N7243          X              0\n",
      "DEBUG:mathsformer.selfsupervised_learning_addition_model_backend:       N9+N4-N2+N943+4         N950        N950E         N950          X              0\n",
      "DEBUG:mathsformer.selfsupervised_learning_addition_model_backend:              476+N792         N316        N316E         N316          X              0\n",
      "DEBUG:mathsformer.selfsupervised_learning_addition_model_backend:     2333-6-N6836+8575        17738        17738        17738          X              0\n",
      "DEBUG:mathsformer.selfsupervised_learning_addition_model_backend:  N6665+617+N57+61+363        N5681        N5681        N5681          X              0\n",
      "DEBUG:mathsformer.selfsupervised_learning_addition_model_backend:     52-N6818+79-N5-N2         6956        6956E         6956          X              0\n",
      "DEBUG:mathsformer.selfsupervised_learning_addition_model_backend:                 N5+77           72        72EEE           72          X              0\n",
      "DEBUG:mathsformer.selfsupervised_learning_addition_model_backend: N379+N752-7+N2992-328        N4458        N4468        N4468                       -10\n",
      "DEBUG:mathsformer.selfsupervised_learning_addition_model_backend:       N7+N9-1+97-7774        N7694        N7694        N7694          X              0\n",
      "DEBUG:mathsformer.selfsupervised_learning_addition_model_backend:              75+N3612        N3537        N3537        N3537          X              0\n",
      "DEBUG:mathsformer.selfsupervised_learning_addition_model_backend:Running text --> text mathsformer inference on some validation data:\n",
      "DEBUG:mathsformer.selfsupervised_learning_addition_model_backend:-------------------------------------------------------------------------------\n",
      "DEBUG:mathsformer.selfsupervised_learning_addition_model_backend:         INPUT         TRUE   PRED(MASK)    PRED(GEN)      CORRECT     RESIDUAL\n",
      "DEBUG:mathsformer.selfsupervised_learning_addition_model_backend:-------------------------------------------------------------------------------\n",
      "DEBUG:mathsformer.selfsupervised_learning_addition_model_backend:  3-N3988+N847         3144        3144E         3144          X              0\n",
      "DEBUG:mathsformer.selfsupervised_learning_addition_model_backend:     7797+5-N4         7806        7806E         7806          X              0\n",
      "DEBUG:mathsformer.selfsupervised_learning_addition_model_backend:  N8357-N11+N7        N8353        N8353        N8353          X              0\n",
      "DEBUG:mathsformer.selfsupervised_learning_addition_model_backend: 6686-N437-236         6887        6887E         6887          X              0\n",
      "DEBUG:mathsformer.selfsupervised_learning_addition_model_backend:     N5+4442+8         4445        4445E         4445          X              0\n",
      "DEBUG:mathsformer.selfsupervised_learning_addition_model_backend:   2123-N1+N68         2056        2056E         2056          X              0\n",
      "DEBUG:mathsformer.selfsupervised_learning_addition_model_backend:   95+4563+879         5537        5537E         5537          X              0\n",
      "DEBUG:mathsformer.selfsupervised_learning_addition_model_backend:  1639+N2868+5        N1224        N1224        N1224          X              0\n",
      "DEBUG:mathsformer.selfsupervised_learning_addition_model_backend:      8+N725-3         N720        N720E         N720          X              0\n",
      "DEBUG:mathsformer.selfsupervised_learning_addition_model_backend: N283+N962-N40        N1205        N1205        N1205          X              0\n"
     ]
    },
    {
     "name": "stdout",
     "output_type": "stream",
     "text": [
      "2000/2000 [==============================] - 596s 298ms/step - loss: 0.1164 - masked_categorical_accuracy: 0.9586 - val_loss: 0.0506 - val_masked_categorical_accuracy: 0.9821\n",
      "Epoch 72/100000\n",
      "2000/2000 [==============================] - ETA: 0s - loss: 0.1076 - masked_categorical_accuracy: 0.9617"
     ]
    },
    {
     "name": "stderr",
     "output_type": "stream",
     "text": [
      "DEBUG:mathsformer.selfsupervised_learning_addition_model_backend:Training reached the end of epoch at index 71\n",
      "DEBUG:mathsformer.selfsupervised_learning_addition_model_backend:    with metric loss: 0.10761\n",
      "DEBUG:mathsformer.selfsupervised_learning_addition_model_backend:    with metric masked_categorical_accuracy: 0.96174\n",
      "DEBUG:mathsformer.selfsupervised_learning_addition_model_backend:    with metric val_loss: 0.055771\n",
      "DEBUG:mathsformer.selfsupervised_learning_addition_model_backend:    with metric val_masked_categorical_accuracy: 0.98325\n",
      "DEBUG:mathsformer.selfsupervised_learning_addition_model_backend:Running text --> text mathsformer inference on some training data:\n",
      "DEBUG:mathsformer.selfsupervised_learning_addition_model_backend:---------------------------------------------------------------------------------------\n",
      "DEBUG:mathsformer.selfsupervised_learning_addition_model_backend:                 INPUT         TRUE   PRED(MASK)    PRED(GEN)      CORRECT     RESIDUAL\n",
      "DEBUG:mathsformer.selfsupervised_learning_addition_model_backend:---------------------------------------------------------------------------------------\n",
      "DEBUG:mathsformer.selfsupervised_learning_addition_model_backend:    N8097-N943+N8+5-86        N7243        N7243        N7243          X              0\n",
      "DEBUG:mathsformer.selfsupervised_learning_addition_model_backend:       N9+N4-N2+N943+4         N950        N950E         N950          X              0\n",
      "DEBUG:mathsformer.selfsupervised_learning_addition_model_backend:              476+N792         N316        N316E         N316          X              0\n",
      "DEBUG:mathsformer.selfsupervised_learning_addition_model_backend:     2333-6-N6836+8575        17738        17738        17738          X              0\n",
      "DEBUG:mathsformer.selfsupervised_learning_addition_model_backend:  N6665+617+N57+61+363        N5681        N5681        N5681          X              0\n",
      "DEBUG:mathsformer.selfsupervised_learning_addition_model_backend:     52-N6818+79-N5-N2         6956        6956E         6956          X              0\n",
      "DEBUG:mathsformer.selfsupervised_learning_addition_model_backend:                 N5+77           72        72EEE           72          X              0\n",
      "DEBUG:mathsformer.selfsupervised_learning_addition_model_backend: N379+N752-7+N2992-328        N4458        N4458        N4458          X              0\n",
      "DEBUG:mathsformer.selfsupervised_learning_addition_model_backend:       N7+N9-1+97-7774        N7694        N7694        N7694          X              0\n",
      "DEBUG:mathsformer.selfsupervised_learning_addition_model_backend:              75+N3612        N3537        N3537        N3537          X              0\n",
      "DEBUG:mathsformer.selfsupervised_learning_addition_model_backend:Running text --> text mathsformer inference on some validation data:\n",
      "DEBUG:mathsformer.selfsupervised_learning_addition_model_backend:-------------------------------------------------------------------------------\n",
      "DEBUG:mathsformer.selfsupervised_learning_addition_model_backend:         INPUT         TRUE   PRED(MASK)    PRED(GEN)      CORRECT     RESIDUAL\n",
      "DEBUG:mathsformer.selfsupervised_learning_addition_model_backend:-------------------------------------------------------------------------------\n",
      "DEBUG:mathsformer.selfsupervised_learning_addition_model_backend:  3-N3988+N847         3144        3144E         3144          X              0\n",
      "DEBUG:mathsformer.selfsupervised_learning_addition_model_backend:     7797+5-N4         7806        7806E         7806          X              0\n",
      "DEBUG:mathsformer.selfsupervised_learning_addition_model_backend:  N8357-N11+N7        N8353        N8353        N8353          X              0\n",
      "DEBUG:mathsformer.selfsupervised_learning_addition_model_backend: 6686-N437-236         6887        6887E         6887          X              0\n",
      "DEBUG:mathsformer.selfsupervised_learning_addition_model_backend:     N5+4442+8         4445        4445E         4445          X              0\n",
      "DEBUG:mathsformer.selfsupervised_learning_addition_model_backend:   2123-N1+N68         2056        2056E         2056          X              0\n",
      "DEBUG:mathsformer.selfsupervised_learning_addition_model_backend:   95+4563+879         5537        5537E         5537          X              0\n",
      "DEBUG:mathsformer.selfsupervised_learning_addition_model_backend:  1639+N2868+5        N1224        N1224        N1224          X              0\n",
      "DEBUG:mathsformer.selfsupervised_learning_addition_model_backend:      8+N725-3         N720        N720E         N720          X              0\n",
      "DEBUG:mathsformer.selfsupervised_learning_addition_model_backend: N283+N962-N40        N1205        N1205        N1205          X              0\n"
     ]
    },
    {
     "name": "stdout",
     "output_type": "stream",
     "text": [
      "2000/2000 [==============================] - 589s 294ms/step - loss: 0.1076 - masked_categorical_accuracy: 0.9617 - val_loss: 0.0558 - val_masked_categorical_accuracy: 0.9832\n",
      "Epoch 73/100000\n",
      "2000/2000 [==============================] - ETA: 0s - loss: 0.1018 - masked_categorical_accuracy: 0.9632"
     ]
    },
    {
     "name": "stderr",
     "output_type": "stream",
     "text": [
      "DEBUG:mathsformer.selfsupervised_learning_addition_model_backend:Training reached the end of epoch at index 72\n",
      "DEBUG:mathsformer.selfsupervised_learning_addition_model_backend:    with metric loss: 0.10181\n",
      "DEBUG:mathsformer.selfsupervised_learning_addition_model_backend:    with metric masked_categorical_accuracy: 0.96321\n",
      "DEBUG:mathsformer.selfsupervised_learning_addition_model_backend:    with metric val_loss: 0.052729\n",
      "DEBUG:mathsformer.selfsupervised_learning_addition_model_backend:    with metric val_masked_categorical_accuracy: 0.98265\n",
      "DEBUG:mathsformer.selfsupervised_learning_addition_model_backend:Running text --> text mathsformer inference on some training data:\n",
      "DEBUG:mathsformer.selfsupervised_learning_addition_model_backend:---------------------------------------------------------------------------------------\n",
      "DEBUG:mathsformer.selfsupervised_learning_addition_model_backend:                 INPUT         TRUE   PRED(MASK)    PRED(GEN)      CORRECT     RESIDUAL\n",
      "DEBUG:mathsformer.selfsupervised_learning_addition_model_backend:---------------------------------------------------------------------------------------\n",
      "DEBUG:mathsformer.selfsupervised_learning_addition_model_backend:    N8097-N943+N8+5-86        N7243        N7243        N7243          X              0\n",
      "DEBUG:mathsformer.selfsupervised_learning_addition_model_backend:       N9+N4-N2+N943+4         N950        N950E         N950          X              0\n",
      "DEBUG:mathsformer.selfsupervised_learning_addition_model_backend:              476+N792         N316        N316E         N316          X              0\n",
      "DEBUG:mathsformer.selfsupervised_learning_addition_model_backend:     2333-6-N6836+8575        17738        17738        17738          X              0\n",
      "DEBUG:mathsformer.selfsupervised_learning_addition_model_backend:  N6665+617+N57+61+363        N5681        N5681        N5681          X              0\n",
      "DEBUG:mathsformer.selfsupervised_learning_addition_model_backend:     52-N6818+79-N5-N2         6956        6956E         6956          X              0\n",
      "DEBUG:mathsformer.selfsupervised_learning_addition_model_backend:                 N5+77           72        72EEE           72          X              0\n",
      "DEBUG:mathsformer.selfsupervised_learning_addition_model_backend: N379+N752-7+N2992-328        N4458        N4458        N4458          X              0\n",
      "DEBUG:mathsformer.selfsupervised_learning_addition_model_backend:       N7+N9-1+97-7774        N7694        N7694        N7694          X              0\n",
      "DEBUG:mathsformer.selfsupervised_learning_addition_model_backend:              75+N3612        N3537        N3537        N3537          X              0\n",
      "DEBUG:mathsformer.selfsupervised_learning_addition_model_backend:Running text --> text mathsformer inference on some validation data:\n",
      "DEBUG:mathsformer.selfsupervised_learning_addition_model_backend:-------------------------------------------------------------------------------\n",
      "DEBUG:mathsformer.selfsupervised_learning_addition_model_backend:         INPUT         TRUE   PRED(MASK)    PRED(GEN)      CORRECT     RESIDUAL\n",
      "DEBUG:mathsformer.selfsupervised_learning_addition_model_backend:-------------------------------------------------------------------------------\n",
      "DEBUG:mathsformer.selfsupervised_learning_addition_model_backend:  3-N3988+N847         3144        3144E         3144          X              0\n",
      "DEBUG:mathsformer.selfsupervised_learning_addition_model_backend:     7797+5-N4         7806        7806E         7806          X              0\n",
      "DEBUG:mathsformer.selfsupervised_learning_addition_model_backend:  N8357-N11+N7        N8353        N8353        N8353          X              0\n",
      "DEBUG:mathsformer.selfsupervised_learning_addition_model_backend: 6686-N437-236         6887        6887E         6887          X              0\n",
      "DEBUG:mathsformer.selfsupervised_learning_addition_model_backend:     N5+4442+8         4445        4445E         4445          X              0\n",
      "DEBUG:mathsformer.selfsupervised_learning_addition_model_backend:   2123-N1+N68         2056        2056E         2056          X              0\n",
      "DEBUG:mathsformer.selfsupervised_learning_addition_model_backend:   95+4563+879         5537        5537E         5537          X              0\n",
      "DEBUG:mathsformer.selfsupervised_learning_addition_model_backend:  1639+N2868+5        N1224        N1224        N1224          X              0\n",
      "DEBUG:mathsformer.selfsupervised_learning_addition_model_backend:      8+N725-3         N720        N720E         N720          X              0\n",
      "DEBUG:mathsformer.selfsupervised_learning_addition_model_backend: N283+N962-N40        N1205        N1205        N1205          X              0\n"
     ]
    },
    {
     "name": "stdout",
     "output_type": "stream",
     "text": [
      "2000/2000 [==============================] - 600s 300ms/step - loss: 0.1018 - masked_categorical_accuracy: 0.9632 - val_loss: 0.0527 - val_masked_categorical_accuracy: 0.9827\n",
      "Epoch 74/100000\n",
      "2000/2000 [==============================] - ETA: 0s - loss: 0.1095 - masked_categorical_accuracy: 0.9620"
     ]
    },
    {
     "name": "stderr",
     "output_type": "stream",
     "text": [
      "DEBUG:mathsformer.selfsupervised_learning_addition_model_backend:Training reached the end of epoch at index 73\n",
      "DEBUG:mathsformer.selfsupervised_learning_addition_model_backend:    with metric loss: 0.10952\n",
      "DEBUG:mathsformer.selfsupervised_learning_addition_model_backend:    with metric masked_categorical_accuracy: 0.96201\n",
      "DEBUG:mathsformer.selfsupervised_learning_addition_model_backend:    with metric val_loss: 0.030067\n",
      "DEBUG:mathsformer.selfsupervised_learning_addition_model_backend:    with metric val_masked_categorical_accuracy: 0.99033\n",
      "DEBUG:mathsformer.selfsupervised_learning_addition_model_backend:Running text --> text mathsformer inference on some training data:\n",
      "DEBUG:mathsformer.selfsupervised_learning_addition_model_backend:---------------------------------------------------------------------------------------\n",
      "DEBUG:mathsformer.selfsupervised_learning_addition_model_backend:                 INPUT         TRUE   PRED(MASK)    PRED(GEN)      CORRECT     RESIDUAL\n",
      "DEBUG:mathsformer.selfsupervised_learning_addition_model_backend:---------------------------------------------------------------------------------------\n",
      "DEBUG:mathsformer.selfsupervised_learning_addition_model_backend:    N8097-N943+N8+5-86        N7243        N7243        N7243          X              0\n",
      "DEBUG:mathsformer.selfsupervised_learning_addition_model_backend:       N9+N4-N2+N943+4         N950        N950E         N950          X              0\n",
      "DEBUG:mathsformer.selfsupervised_learning_addition_model_backend:              476+N792         N316        N316E         N316          X              0\n",
      "DEBUG:mathsformer.selfsupervised_learning_addition_model_backend:     2333-6-N6836+8575        17738        17738        17738          X              0\n",
      "DEBUG:mathsformer.selfsupervised_learning_addition_model_backend:  N6665+617+N57+61+363        N5681        N5681        N5681          X              0\n",
      "DEBUG:mathsformer.selfsupervised_learning_addition_model_backend:     52-N6818+79-N5-N2         6956        6955E         6955                        -1\n",
      "DEBUG:mathsformer.selfsupervised_learning_addition_model_backend:                 N5+77           72        72EEE           72          X              0\n",
      "DEBUG:mathsformer.selfsupervised_learning_addition_model_backend: N379+N752-7+N2992-328        N4458        N4357        N4357                       101\n",
      "DEBUG:mathsformer.selfsupervised_learning_addition_model_backend:       N7+N9-1+97-7774        N7694        N7694        N7694          X              0\n",
      "DEBUG:mathsformer.selfsupervised_learning_addition_model_backend:              75+N3612        N3537        N3537        N3537          X              0\n",
      "DEBUG:mathsformer.selfsupervised_learning_addition_model_backend:Running text --> text mathsformer inference on some validation data:\n",
      "DEBUG:mathsformer.selfsupervised_learning_addition_model_backend:-------------------------------------------------------------------------------\n",
      "DEBUG:mathsformer.selfsupervised_learning_addition_model_backend:         INPUT         TRUE   PRED(MASK)    PRED(GEN)      CORRECT     RESIDUAL\n",
      "DEBUG:mathsformer.selfsupervised_learning_addition_model_backend:-------------------------------------------------------------------------------\n",
      "DEBUG:mathsformer.selfsupervised_learning_addition_model_backend:  3-N3988+N847         3144        3144E         3144          X              0\n",
      "DEBUG:mathsformer.selfsupervised_learning_addition_model_backend:     7797+5-N4         7806        7806E         7806          X              0\n",
      "DEBUG:mathsformer.selfsupervised_learning_addition_model_backend:  N8357-N11+N7        N8353        N8353        N8353          X              0\n",
      "DEBUG:mathsformer.selfsupervised_learning_addition_model_backend: 6686-N437-236         6887        6887E         6887          X              0\n",
      "DEBUG:mathsformer.selfsupervised_learning_addition_model_backend:     N5+4442+8         4445        4445E         4445          X              0\n",
      "DEBUG:mathsformer.selfsupervised_learning_addition_model_backend:   2123-N1+N68         2056        2056E         2056          X              0\n",
      "DEBUG:mathsformer.selfsupervised_learning_addition_model_backend:   95+4563+879         5537        5537E         5537          X              0\n",
      "DEBUG:mathsformer.selfsupervised_learning_addition_model_backend:  1639+N2868+5        N1224        N1224        N1224          X              0\n",
      "DEBUG:mathsformer.selfsupervised_learning_addition_model_backend:      8+N725-3         N720        N720E         N720          X              0\n",
      "DEBUG:mathsformer.selfsupervised_learning_addition_model_backend: N283+N962-N40        N1205        N1205        N1205          X              0\n"
     ]
    },
    {
     "name": "stdout",
     "output_type": "stream",
     "text": [
      "2000/2000 [==============================] - 604s 302ms/step - loss: 0.1095 - masked_categorical_accuracy: 0.9620 - val_loss: 0.0301 - val_masked_categorical_accuracy: 0.9903\n",
      "Epoch 75/100000\n",
      "2000/2000 [==============================] - ETA: 0s - loss: 0.0943 - masked_categorical_accuracy: 0.9652"
     ]
    },
    {
     "name": "stderr",
     "output_type": "stream",
     "text": [
      "DEBUG:mathsformer.selfsupervised_learning_addition_model_backend:Training reached the end of epoch at index 74\n",
      "DEBUG:mathsformer.selfsupervised_learning_addition_model_backend:    with metric loss: 0.094349\n",
      "DEBUG:mathsformer.selfsupervised_learning_addition_model_backend:    with metric masked_categorical_accuracy: 0.9652\n",
      "DEBUG:mathsformer.selfsupervised_learning_addition_model_backend:    with metric val_loss: 0.043719\n",
      "DEBUG:mathsformer.selfsupervised_learning_addition_model_backend:    with metric val_masked_categorical_accuracy: 0.98434\n",
      "DEBUG:mathsformer.selfsupervised_learning_addition_model_backend:Running text --> text mathsformer inference on some training data:\n",
      "DEBUG:mathsformer.selfsupervised_learning_addition_model_backend:---------------------------------------------------------------------------------------\n",
      "DEBUG:mathsformer.selfsupervised_learning_addition_model_backend:                 INPUT         TRUE   PRED(MASK)    PRED(GEN)      CORRECT     RESIDUAL\n",
      "DEBUG:mathsformer.selfsupervised_learning_addition_model_backend:---------------------------------------------------------------------------------------\n",
      "DEBUG:mathsformer.selfsupervised_learning_addition_model_backend:    N8097-N943+N8+5-86        N7243        N7243        N7243          X              0\n",
      "DEBUG:mathsformer.selfsupervised_learning_addition_model_backend:       N9+N4-N2+N943+4         N950        N950E         N950          X              0\n",
      "DEBUG:mathsformer.selfsupervised_learning_addition_model_backend:              476+N792         N316        N316E         N316          X              0\n",
      "DEBUG:mathsformer.selfsupervised_learning_addition_model_backend:     2333-6-N6836+8575        17738        17738        17738          X              0\n",
      "DEBUG:mathsformer.selfsupervised_learning_addition_model_backend:  N6665+617+N57+61+363        N5681        N5681        N5681          X              0\n",
      "DEBUG:mathsformer.selfsupervised_learning_addition_model_backend:     52-N6818+79-N5-N2         6956        6956E         6956          X              0\n",
      "DEBUG:mathsformer.selfsupervised_learning_addition_model_backend:                 N5+77           72        72EEE           72          X              0\n",
      "DEBUG:mathsformer.selfsupervised_learning_addition_model_backend: N379+N752-7+N2992-328        N4458        N4457        N4457                         1\n",
      "DEBUG:mathsformer.selfsupervised_learning_addition_model_backend:       N7+N9-1+97-7774        N7694        N7694        N7694          X              0\n",
      "DEBUG:mathsformer.selfsupervised_learning_addition_model_backend:              75+N3612        N3537        N3537        N3537          X              0\n",
      "DEBUG:mathsformer.selfsupervised_learning_addition_model_backend:Running text --> text mathsformer inference on some validation data:\n",
      "DEBUG:mathsformer.selfsupervised_learning_addition_model_backend:-------------------------------------------------------------------------------\n",
      "DEBUG:mathsformer.selfsupervised_learning_addition_model_backend:         INPUT         TRUE   PRED(MASK)    PRED(GEN)      CORRECT     RESIDUAL\n",
      "DEBUG:mathsformer.selfsupervised_learning_addition_model_backend:-------------------------------------------------------------------------------\n",
      "DEBUG:mathsformer.selfsupervised_learning_addition_model_backend:  3-N3988+N847         3144        3144E         3144          X              0\n",
      "DEBUG:mathsformer.selfsupervised_learning_addition_model_backend:     7797+5-N4         7806        7806E         7806          X              0\n",
      "DEBUG:mathsformer.selfsupervised_learning_addition_model_backend:  N8357-N11+N7        N8353        N8353        N8353          X              0\n",
      "DEBUG:mathsformer.selfsupervised_learning_addition_model_backend: 6686-N437-236         6887        6887E         6887          X              0\n",
      "DEBUG:mathsformer.selfsupervised_learning_addition_model_backend:     N5+4442+8         4445        4445E         4445          X              0\n",
      "DEBUG:mathsformer.selfsupervised_learning_addition_model_backend:   2123-N1+N68         2056        2056E         2056          X              0\n",
      "DEBUG:mathsformer.selfsupervised_learning_addition_model_backend:   95+4563+879         5537        5537E         5537          X              0\n",
      "DEBUG:mathsformer.selfsupervised_learning_addition_model_backend:  1639+N2868+5        N1224        N1224        N1224          X              0\n",
      "DEBUG:mathsformer.selfsupervised_learning_addition_model_backend:      8+N725-3         N720        N720E         N720          X              0\n",
      "DEBUG:mathsformer.selfsupervised_learning_addition_model_backend: N283+N962-N40        N1205        N1205        N1205          X              0\n"
     ]
    },
    {
     "name": "stdout",
     "output_type": "stream",
     "text": [
      "2000/2000 [==============================] - 605s 302ms/step - loss: 0.0943 - masked_categorical_accuracy: 0.9652 - val_loss: 0.0437 - val_masked_categorical_accuracy: 0.9843\n",
      "Epoch 76/100000\n",
      "2000/2000 [==============================] - ETA: 0s - loss: 0.0999 - masked_categorical_accuracy: 0.9644"
     ]
    },
    {
     "name": "stderr",
     "output_type": "stream",
     "text": [
      "DEBUG:mathsformer.selfsupervised_learning_addition_model_backend:Training reached the end of epoch at index 75\n",
      "DEBUG:mathsformer.selfsupervised_learning_addition_model_backend:    with metric loss: 0.099879\n",
      "DEBUG:mathsformer.selfsupervised_learning_addition_model_backend:    with metric masked_categorical_accuracy: 0.96445\n",
      "DEBUG:mathsformer.selfsupervised_learning_addition_model_backend:    with metric val_loss: 0.023201\n",
      "DEBUG:mathsformer.selfsupervised_learning_addition_model_backend:    with metric val_masked_categorical_accuracy: 0.99233\n",
      "DEBUG:mathsformer.selfsupervised_learning_addition_model_backend:Running text --> text mathsformer inference on some training data:\n",
      "DEBUG:mathsformer.selfsupervised_learning_addition_model_backend:---------------------------------------------------------------------------------------\n",
      "DEBUG:mathsformer.selfsupervised_learning_addition_model_backend:                 INPUT         TRUE   PRED(MASK)    PRED(GEN)      CORRECT     RESIDUAL\n",
      "DEBUG:mathsformer.selfsupervised_learning_addition_model_backend:---------------------------------------------------------------------------------------\n",
      "DEBUG:mathsformer.selfsupervised_learning_addition_model_backend:    N8097-N943+N8+5-86        N7243        N7243        N7243          X              0\n",
      "DEBUG:mathsformer.selfsupervised_learning_addition_model_backend:       N9+N4-N2+N943+4         N950        N950E         N950          X              0\n",
      "DEBUG:mathsformer.selfsupervised_learning_addition_model_backend:              476+N792         N316        N316E         N316          X              0\n",
      "DEBUG:mathsformer.selfsupervised_learning_addition_model_backend:     2333-6-N6836+8575        17738        17738        17738          X              0\n",
      "DEBUG:mathsformer.selfsupervised_learning_addition_model_backend:  N6665+617+N57+61+363        N5681        N5681        N5681          X              0\n",
      "DEBUG:mathsformer.selfsupervised_learning_addition_model_backend:     52-N6818+79-N5-N2         6956        6956E         6956          X              0\n",
      "DEBUG:mathsformer.selfsupervised_learning_addition_model_backend:                 N5+77           72        72EEE           72          X              0\n",
      "DEBUG:mathsformer.selfsupervised_learning_addition_model_backend: N379+N752-7+N2992-328        N4458        N4457        N4457                         1\n",
      "DEBUG:mathsformer.selfsupervised_learning_addition_model_backend:       N7+N9-1+97-7774        N7694        N7694        N7694          X              0\n",
      "DEBUG:mathsformer.selfsupervised_learning_addition_model_backend:              75+N3612        N3537        N3537        N3537          X              0\n",
      "DEBUG:mathsformer.selfsupervised_learning_addition_model_backend:Running text --> text mathsformer inference on some validation data:\n",
      "DEBUG:mathsformer.selfsupervised_learning_addition_model_backend:-------------------------------------------------------------------------------\n",
      "DEBUG:mathsformer.selfsupervised_learning_addition_model_backend:         INPUT         TRUE   PRED(MASK)    PRED(GEN)      CORRECT     RESIDUAL\n",
      "DEBUG:mathsformer.selfsupervised_learning_addition_model_backend:-------------------------------------------------------------------------------\n",
      "DEBUG:mathsformer.selfsupervised_learning_addition_model_backend:  3-N3988+N847         3144        3144E         3144          X              0\n",
      "DEBUG:mathsformer.selfsupervised_learning_addition_model_backend:     7797+5-N4         7806        7806E         7806          X              0\n",
      "DEBUG:mathsformer.selfsupervised_learning_addition_model_backend:  N8357-N11+N7        N8353        N8353        N8353          X              0\n",
      "DEBUG:mathsformer.selfsupervised_learning_addition_model_backend: 6686-N437-236         6887        6887E         6887          X              0\n",
      "DEBUG:mathsformer.selfsupervised_learning_addition_model_backend:     N5+4442+8         4445        4445E         4445          X              0\n",
      "DEBUG:mathsformer.selfsupervised_learning_addition_model_backend:   2123-N1+N68         2056        2056E         2056          X              0\n",
      "DEBUG:mathsformer.selfsupervised_learning_addition_model_backend:   95+4563+879         5537        5537E         5537          X              0\n",
      "DEBUG:mathsformer.selfsupervised_learning_addition_model_backend:  1639+N2868+5        N1224        N1224        N1224          X              0\n",
      "DEBUG:mathsformer.selfsupervised_learning_addition_model_backend:      8+N725-3         N720        N720E         N720          X              0\n",
      "DEBUG:mathsformer.selfsupervised_learning_addition_model_backend: N283+N962-N40        N1205        N1205        N1205          X              0\n"
     ]
    },
    {
     "name": "stdout",
     "output_type": "stream",
     "text": [
      "2000/2000 [==============================] - 593s 297ms/step - loss: 0.0999 - masked_categorical_accuracy: 0.9644 - val_loss: 0.0232 - val_masked_categorical_accuracy: 0.9923\n",
      "Epoch 77/100000\n",
      "2000/2000 [==============================] - ETA: 0s - loss: 0.0997 - masked_categorical_accuracy: 0.9651"
     ]
    },
    {
     "name": "stderr",
     "output_type": "stream",
     "text": [
      "DEBUG:mathsformer.selfsupervised_learning_addition_model_backend:Training reached the end of epoch at index 76\n",
      "DEBUG:mathsformer.selfsupervised_learning_addition_model_backend:    with metric loss: 0.09966\n",
      "DEBUG:mathsformer.selfsupervised_learning_addition_model_backend:    with metric masked_categorical_accuracy: 0.96511\n",
      "DEBUG:mathsformer.selfsupervised_learning_addition_model_backend:    with metric val_loss: 0.045645\n",
      "DEBUG:mathsformer.selfsupervised_learning_addition_model_backend:    with metric val_masked_categorical_accuracy: 0.98332\n",
      "DEBUG:mathsformer.selfsupervised_learning_addition_model_backend:Running text --> text mathsformer inference on some training data:\n",
      "DEBUG:mathsformer.selfsupervised_learning_addition_model_backend:---------------------------------------------------------------------------------------\n",
      "DEBUG:mathsformer.selfsupervised_learning_addition_model_backend:                 INPUT         TRUE   PRED(MASK)    PRED(GEN)      CORRECT     RESIDUAL\n",
      "DEBUG:mathsformer.selfsupervised_learning_addition_model_backend:---------------------------------------------------------------------------------------\n",
      "DEBUG:mathsformer.selfsupervised_learning_addition_model_backend:    N8097-N943+N8+5-86        N7243        N7243        N7243          X              0\n",
      "DEBUG:mathsformer.selfsupervised_learning_addition_model_backend:       N9+N4-N2+N943+4         N950        N950E         N950          X              0\n",
      "DEBUG:mathsformer.selfsupervised_learning_addition_model_backend:              476+N792         N316        N316E         N316          X              0\n",
      "DEBUG:mathsformer.selfsupervised_learning_addition_model_backend:     2333-6-N6836+8575        17738        17738        17738          X              0\n",
      "DEBUG:mathsformer.selfsupervised_learning_addition_model_backend:  N6665+617+N57+61+363        N5681        N5681        N5681          X              0\n",
      "DEBUG:mathsformer.selfsupervised_learning_addition_model_backend:     52-N6818+79-N5-N2         6956        6956E         6956          X              0\n",
      "DEBUG:mathsformer.selfsupervised_learning_addition_model_backend:                 N5+77           72        72EEE           72          X              0\n",
      "DEBUG:mathsformer.selfsupervised_learning_addition_model_backend: N379+N752-7+N2992-328        N4458        N4458        N4458          X              0\n",
      "DEBUG:mathsformer.selfsupervised_learning_addition_model_backend:       N7+N9-1+97-7774        N7694        N7694        N7694          X              0\n",
      "DEBUG:mathsformer.selfsupervised_learning_addition_model_backend:              75+N3612        N3537        N3537        N3537          X              0\n",
      "DEBUG:mathsformer.selfsupervised_learning_addition_model_backend:Running text --> text mathsformer inference on some validation data:\n",
      "DEBUG:mathsformer.selfsupervised_learning_addition_model_backend:-------------------------------------------------------------------------------\n",
      "DEBUG:mathsformer.selfsupervised_learning_addition_model_backend:         INPUT         TRUE   PRED(MASK)    PRED(GEN)      CORRECT     RESIDUAL\n",
      "DEBUG:mathsformer.selfsupervised_learning_addition_model_backend:-------------------------------------------------------------------------------\n",
      "DEBUG:mathsformer.selfsupervised_learning_addition_model_backend:  3-N3988+N847         3144        3144E         3144          X              0\n",
      "DEBUG:mathsformer.selfsupervised_learning_addition_model_backend:     7797+5-N4         7806        7806E         7806          X              0\n",
      "DEBUG:mathsformer.selfsupervised_learning_addition_model_backend:  N8357-N11+N7        N8353        N8353        N8353          X              0\n",
      "DEBUG:mathsformer.selfsupervised_learning_addition_model_backend: 6686-N437-236         6887        6887E         6887          X              0\n",
      "DEBUG:mathsformer.selfsupervised_learning_addition_model_backend:     N5+4442+8         4445        4445E         4445          X              0\n",
      "DEBUG:mathsformer.selfsupervised_learning_addition_model_backend:   2123-N1+N68         2056        2056E         2056          X              0\n",
      "DEBUG:mathsformer.selfsupervised_learning_addition_model_backend:   95+4563+879         5537        5537E         5537          X              0\n",
      "DEBUG:mathsformer.selfsupervised_learning_addition_model_backend:  1639+N2868+5        N1224        N1224        N1224          X              0\n",
      "DEBUG:mathsformer.selfsupervised_learning_addition_model_backend:      8+N725-3         N720        N720E         N720          X              0\n",
      "DEBUG:mathsformer.selfsupervised_learning_addition_model_backend: N283+N962-N40        N1205        N1205        N1205          X              0\n"
     ]
    },
    {
     "name": "stdout",
     "output_type": "stream",
     "text": [
      "2000/2000 [==============================] - 595s 298ms/step - loss: 0.0997 - masked_categorical_accuracy: 0.9651 - val_loss: 0.0456 - val_masked_categorical_accuracy: 0.9833\n",
      "Epoch 78/100000\n",
      "2000/2000 [==============================] - ETA: 0s - loss: 0.0849 - masked_categorical_accuracy: 0.9696"
     ]
    },
    {
     "name": "stderr",
     "output_type": "stream",
     "text": [
      "DEBUG:mathsformer.selfsupervised_learning_addition_model_backend:Training reached the end of epoch at index 77\n",
      "DEBUG:mathsformer.selfsupervised_learning_addition_model_backend:    with metric loss: 0.084886\n",
      "DEBUG:mathsformer.selfsupervised_learning_addition_model_backend:    with metric masked_categorical_accuracy: 0.96961\n",
      "DEBUG:mathsformer.selfsupervised_learning_addition_model_backend:    with metric val_loss: 0.025104\n",
      "DEBUG:mathsformer.selfsupervised_learning_addition_model_backend:    with metric val_masked_categorical_accuracy: 0.99265\n",
      "DEBUG:mathsformer.selfsupervised_learning_addition_model_backend:Running text --> text mathsformer inference on some training data:\n",
      "DEBUG:mathsformer.selfsupervised_learning_addition_model_backend:---------------------------------------------------------------------------------------\n",
      "DEBUG:mathsformer.selfsupervised_learning_addition_model_backend:                 INPUT         TRUE   PRED(MASK)    PRED(GEN)      CORRECT     RESIDUAL\n",
      "DEBUG:mathsformer.selfsupervised_learning_addition_model_backend:---------------------------------------------------------------------------------------\n",
      "DEBUG:mathsformer.selfsupervised_learning_addition_model_backend:    N8097-N943+N8+5-86        N7243        N7243        N7243          X              0\n",
      "DEBUG:mathsformer.selfsupervised_learning_addition_model_backend:       N9+N4-N2+N943+4         N950        N950E         N950          X              0\n",
      "DEBUG:mathsformer.selfsupervised_learning_addition_model_backend:              476+N792         N316        N316E         N316          X              0\n",
      "DEBUG:mathsformer.selfsupervised_learning_addition_model_backend:     2333-6-N6836+8575        17738        17738        17738          X              0\n",
      "DEBUG:mathsformer.selfsupervised_learning_addition_model_backend:  N6665+617+N57+61+363        N5681        N5681        N5681          X              0\n",
      "DEBUG:mathsformer.selfsupervised_learning_addition_model_backend:     52-N6818+79-N5-N2         6956        6956E         6956          X              0\n",
      "DEBUG:mathsformer.selfsupervised_learning_addition_model_backend:                 N5+77           72        72EEE           72          X              0\n",
      "DEBUG:mathsformer.selfsupervised_learning_addition_model_backend: N379+N752-7+N2992-328        N4458        N4458        N4458          X              0\n",
      "DEBUG:mathsformer.selfsupervised_learning_addition_model_backend:       N7+N9-1+97-7774        N7694        N7694        N7694          X              0\n",
      "DEBUG:mathsformer.selfsupervised_learning_addition_model_backend:              75+N3612        N3537        N3537        N3537          X              0\n",
      "DEBUG:mathsformer.selfsupervised_learning_addition_model_backend:Running text --> text mathsformer inference on some validation data:\n",
      "DEBUG:mathsformer.selfsupervised_learning_addition_model_backend:-------------------------------------------------------------------------------\n",
      "DEBUG:mathsformer.selfsupervised_learning_addition_model_backend:         INPUT         TRUE   PRED(MASK)    PRED(GEN)      CORRECT     RESIDUAL\n",
      "DEBUG:mathsformer.selfsupervised_learning_addition_model_backend:-------------------------------------------------------------------------------\n",
      "DEBUG:mathsformer.selfsupervised_learning_addition_model_backend:  3-N3988+N847         3144        3144E         3144          X              0\n",
      "DEBUG:mathsformer.selfsupervised_learning_addition_model_backend:     7797+5-N4         7806        7806E         7806          X              0\n",
      "DEBUG:mathsformer.selfsupervised_learning_addition_model_backend:  N8357-N11+N7        N8353        N8353        N8353          X              0\n",
      "DEBUG:mathsformer.selfsupervised_learning_addition_model_backend: 6686-N437-236         6887        6887E         6887          X              0\n",
      "DEBUG:mathsformer.selfsupervised_learning_addition_model_backend:     N5+4442+8         4445        4445E         4445          X              0\n",
      "DEBUG:mathsformer.selfsupervised_learning_addition_model_backend:   2123-N1+N68         2056        2056E         2056          X              0\n",
      "DEBUG:mathsformer.selfsupervised_learning_addition_model_backend:   95+4563+879         5537        5537E         5537          X              0\n",
      "DEBUG:mathsformer.selfsupervised_learning_addition_model_backend:  1639+N2868+5        N1224        N1224        N1224          X              0\n",
      "DEBUG:mathsformer.selfsupervised_learning_addition_model_backend:      8+N725-3         N720        N720E         N720          X              0\n",
      "DEBUG:mathsformer.selfsupervised_learning_addition_model_backend: N283+N962-N40        N1205        N1205        N1205          X              0\n"
     ]
    },
    {
     "name": "stdout",
     "output_type": "stream",
     "text": [
      "2000/2000 [==============================] - 607s 303ms/step - loss: 0.0849 - masked_categorical_accuracy: 0.9696 - val_loss: 0.0251 - val_masked_categorical_accuracy: 0.9927\n",
      "Epoch 79/100000\n",
      "2000/2000 [==============================] - ETA: 0s - loss: 0.1039 - masked_categorical_accuracy: 0.9643"
     ]
    },
    {
     "name": "stderr",
     "output_type": "stream",
     "text": [
      "DEBUG:mathsformer.selfsupervised_learning_addition_model_backend:Training reached the end of epoch at index 78\n",
      "DEBUG:mathsformer.selfsupervised_learning_addition_model_backend:    with metric loss: 0.10392\n",
      "DEBUG:mathsformer.selfsupervised_learning_addition_model_backend:    with metric masked_categorical_accuracy: 0.96428\n",
      "DEBUG:mathsformer.selfsupervised_learning_addition_model_backend:    with metric val_loss: 0.047589\n",
      "DEBUG:mathsformer.selfsupervised_learning_addition_model_backend:    with metric val_masked_categorical_accuracy: 0.98333\n",
      "DEBUG:mathsformer.selfsupervised_learning_addition_model_backend:Running text --> text mathsformer inference on some training data:\n",
      "DEBUG:mathsformer.selfsupervised_learning_addition_model_backend:---------------------------------------------------------------------------------------\n",
      "DEBUG:mathsformer.selfsupervised_learning_addition_model_backend:                 INPUT         TRUE   PRED(MASK)    PRED(GEN)      CORRECT     RESIDUAL\n",
      "DEBUG:mathsformer.selfsupervised_learning_addition_model_backend:---------------------------------------------------------------------------------------\n",
      "DEBUG:mathsformer.selfsupervised_learning_addition_model_backend:    N8097-N943+N8+5-86        N7243        N7243        N7243          X              0\n",
      "DEBUG:mathsformer.selfsupervised_learning_addition_model_backend:       N9+N4-N2+N943+4         N950        N950E         N950          X              0\n",
      "DEBUG:mathsformer.selfsupervised_learning_addition_model_backend:              476+N792         N316        N316E         N316          X              0\n",
      "DEBUG:mathsformer.selfsupervised_learning_addition_model_backend:     2333-6-N6836+8575        17738        17738        17738          X              0\n",
      "DEBUG:mathsformer.selfsupervised_learning_addition_model_backend:  N6665+617+N57+61+363        N5681        N5681        N5681          X              0\n",
      "DEBUG:mathsformer.selfsupervised_learning_addition_model_backend:     52-N6818+79-N5-N2         6956        6956E         6956          X              0\n",
      "DEBUG:mathsformer.selfsupervised_learning_addition_model_backend:                 N5+77           72        72EEE           72          X              0\n",
      "DEBUG:mathsformer.selfsupervised_learning_addition_model_backend: N379+N752-7+N2992-328        N4458        N4457        N4457                         1\n",
      "DEBUG:mathsformer.selfsupervised_learning_addition_model_backend:       N7+N9-1+97-7774        N7694        N7694        N7694          X              0\n",
      "DEBUG:mathsformer.selfsupervised_learning_addition_model_backend:              75+N3612        N3537        N3537        N3537          X              0\n",
      "DEBUG:mathsformer.selfsupervised_learning_addition_model_backend:Running text --> text mathsformer inference on some validation data:\n",
      "DEBUG:mathsformer.selfsupervised_learning_addition_model_backend:-------------------------------------------------------------------------------\n",
      "DEBUG:mathsformer.selfsupervised_learning_addition_model_backend:         INPUT         TRUE   PRED(MASK)    PRED(GEN)      CORRECT     RESIDUAL\n",
      "DEBUG:mathsformer.selfsupervised_learning_addition_model_backend:-------------------------------------------------------------------------------\n",
      "DEBUG:mathsformer.selfsupervised_learning_addition_model_backend:  3-N3988+N847         3144        3144E         3144          X              0\n",
      "DEBUG:mathsformer.selfsupervised_learning_addition_model_backend:     7797+5-N4         7806        7806E         7806          X              0\n",
      "DEBUG:mathsformer.selfsupervised_learning_addition_model_backend:  N8357-N11+N7        N8353        N8353        N8353          X              0\n",
      "DEBUG:mathsformer.selfsupervised_learning_addition_model_backend: 6686-N437-236         6887        6887E         6887          X              0\n",
      "DEBUG:mathsformer.selfsupervised_learning_addition_model_backend:     N5+4442+8         4445        4445E         4445          X              0\n",
      "DEBUG:mathsformer.selfsupervised_learning_addition_model_backend:   2123-N1+N68         2056        2056E         2056          X              0\n",
      "DEBUG:mathsformer.selfsupervised_learning_addition_model_backend:   95+4563+879         5537        5537E         5537          X              0\n",
      "DEBUG:mathsformer.selfsupervised_learning_addition_model_backend:  1639+N2868+5        N1224        N1224        N1224          X              0\n",
      "DEBUG:mathsformer.selfsupervised_learning_addition_model_backend:      8+N725-3         N720        N720E         N720          X              0\n",
      "DEBUG:mathsformer.selfsupervised_learning_addition_model_backend: N283+N962-N40        N1205        N1205        N1205          X              0\n"
     ]
    },
    {
     "name": "stdout",
     "output_type": "stream",
     "text": [
      "2000/2000 [==============================] - 604s 302ms/step - loss: 0.1039 - masked_categorical_accuracy: 0.9643 - val_loss: 0.0476 - val_masked_categorical_accuracy: 0.9833\n",
      "Epoch 80/100000\n",
      "2000/2000 [==============================] - ETA: 0s - loss: 0.0864 - masked_categorical_accuracy: 0.9691"
     ]
    },
    {
     "name": "stderr",
     "output_type": "stream",
     "text": [
      "DEBUG:mathsformer.selfsupervised_learning_addition_model_backend:Training reached the end of epoch at index 79\n",
      "DEBUG:mathsformer.selfsupervised_learning_addition_model_backend:    with metric loss: 0.086385\n",
      "DEBUG:mathsformer.selfsupervised_learning_addition_model_backend:    with metric masked_categorical_accuracy: 0.96906\n",
      "DEBUG:mathsformer.selfsupervised_learning_addition_model_backend:    with metric val_loss: 0.038479\n",
      "DEBUG:mathsformer.selfsupervised_learning_addition_model_backend:    with metric val_masked_categorical_accuracy: 0.98858\n",
      "DEBUG:mathsformer.selfsupervised_learning_addition_model_backend:Running text --> text mathsformer inference on some training data:\n",
      "DEBUG:mathsformer.selfsupervised_learning_addition_model_backend:---------------------------------------------------------------------------------------\n",
      "DEBUG:mathsformer.selfsupervised_learning_addition_model_backend:                 INPUT         TRUE   PRED(MASK)    PRED(GEN)      CORRECT     RESIDUAL\n",
      "DEBUG:mathsformer.selfsupervised_learning_addition_model_backend:---------------------------------------------------------------------------------------\n",
      "DEBUG:mathsformer.selfsupervised_learning_addition_model_backend:    N8097-N943+N8+5-86        N7243        N7243        N7243          X              0\n",
      "DEBUG:mathsformer.selfsupervised_learning_addition_model_backend:       N9+N4-N2+N943+4         N950        N950E         N950          X              0\n",
      "DEBUG:mathsformer.selfsupervised_learning_addition_model_backend:              476+N792         N316        N316E         N316          X              0\n",
      "DEBUG:mathsformer.selfsupervised_learning_addition_model_backend:     2333-6-N6836+8575        17738        17748        17748                        10\n",
      "DEBUG:mathsformer.selfsupervised_learning_addition_model_backend:  N6665+617+N57+61+363        N5681        N5681        N5681          X              0\n",
      "DEBUG:mathsformer.selfsupervised_learning_addition_model_backend:     52-N6818+79-N5-N2         6956        6956E         6956          X              0\n",
      "DEBUG:mathsformer.selfsupervised_learning_addition_model_backend:                 N5+77           72        72EEE           72          X              0\n",
      "DEBUG:mathsformer.selfsupervised_learning_addition_model_backend: N379+N752-7+N2992-328        N4458        N4367        N4367                        91\n",
      "DEBUG:mathsformer.selfsupervised_learning_addition_model_backend:       N7+N9-1+97-7774        N7694        N7694        N7694          X              0\n",
      "DEBUG:mathsformer.selfsupervised_learning_addition_model_backend:              75+N3612        N3537        N3537        N3537          X              0\n",
      "DEBUG:mathsformer.selfsupervised_learning_addition_model_backend:Running text --> text mathsformer inference on some validation data:\n",
      "DEBUG:mathsformer.selfsupervised_learning_addition_model_backend:-------------------------------------------------------------------------------\n",
      "DEBUG:mathsformer.selfsupervised_learning_addition_model_backend:         INPUT         TRUE   PRED(MASK)    PRED(GEN)      CORRECT     RESIDUAL\n",
      "DEBUG:mathsformer.selfsupervised_learning_addition_model_backend:-------------------------------------------------------------------------------\n",
      "DEBUG:mathsformer.selfsupervised_learning_addition_model_backend:  3-N3988+N847         3144        3144E         3144          X              0\n",
      "DEBUG:mathsformer.selfsupervised_learning_addition_model_backend:     7797+5-N4         7806        7807E         7807                         1\n",
      "DEBUG:mathsformer.selfsupervised_learning_addition_model_backend:  N8357-N11+N7        N8353        N8353        N8353          X              0\n",
      "DEBUG:mathsformer.selfsupervised_learning_addition_model_backend: 6686-N437-236         6887        6887E         6887          X              0\n",
      "DEBUG:mathsformer.selfsupervised_learning_addition_model_backend:     N5+4442+8         4445        4445E         4445          X              0\n",
      "DEBUG:mathsformer.selfsupervised_learning_addition_model_backend:   2123-N1+N68         2056        2056E         2056          X              0\n",
      "DEBUG:mathsformer.selfsupervised_learning_addition_model_backend:   95+4563+879         5537        5537E         5537          X              0\n",
      "DEBUG:mathsformer.selfsupervised_learning_addition_model_backend:  1639+N2868+5        N1224        N1224        N1224          X              0\n",
      "DEBUG:mathsformer.selfsupervised_learning_addition_model_backend:      8+N725-3         N720        N720E         N720          X              0\n",
      "DEBUG:mathsformer.selfsupervised_learning_addition_model_backend: N283+N962-N40        N1205        N1205        N1205          X              0\n"
     ]
    },
    {
     "name": "stdout",
     "output_type": "stream",
     "text": [
      "2000/2000 [==============================] - 602s 301ms/step - loss: 0.0864 - masked_categorical_accuracy: 0.9691 - val_loss: 0.0385 - val_masked_categorical_accuracy: 0.9886\n",
      "Epoch 81/100000\n",
      "2000/2000 [==============================] - ETA: 0s - loss: 0.0838 - masked_categorical_accuracy: 0.9706"
     ]
    },
    {
     "name": "stderr",
     "output_type": "stream",
     "text": [
      "DEBUG:mathsformer.selfsupervised_learning_addition_model_backend:Training reached the end of epoch at index 80\n",
      "DEBUG:mathsformer.selfsupervised_learning_addition_model_backend:    with metric loss: 0.083771\n",
      "DEBUG:mathsformer.selfsupervised_learning_addition_model_backend:    with metric masked_categorical_accuracy: 0.9706\n",
      "DEBUG:mathsformer.selfsupervised_learning_addition_model_backend:    with metric val_loss: 0.025809\n",
      "DEBUG:mathsformer.selfsupervised_learning_addition_model_backend:    with metric val_masked_categorical_accuracy: 0.99109\n",
      "DEBUG:mathsformer.selfsupervised_learning_addition_model_backend:Running text --> text mathsformer inference on some training data:\n",
      "DEBUG:mathsformer.selfsupervised_learning_addition_model_backend:---------------------------------------------------------------------------------------\n",
      "DEBUG:mathsformer.selfsupervised_learning_addition_model_backend:                 INPUT         TRUE   PRED(MASK)    PRED(GEN)      CORRECT     RESIDUAL\n",
      "DEBUG:mathsformer.selfsupervised_learning_addition_model_backend:---------------------------------------------------------------------------------------\n",
      "DEBUG:mathsformer.selfsupervised_learning_addition_model_backend:    N8097-N943+N8+5-86        N7243        N7243        N7243          X              0\n",
      "DEBUG:mathsformer.selfsupervised_learning_addition_model_backend:       N9+N4-N2+N943+4         N950        N950E         N950          X              0\n",
      "DEBUG:mathsformer.selfsupervised_learning_addition_model_backend:              476+N792         N316        N316E         N316          X              0\n",
      "DEBUG:mathsformer.selfsupervised_learning_addition_model_backend:     2333-6-N6836+8575        17738        17738        17738          X              0\n",
      "DEBUG:mathsformer.selfsupervised_learning_addition_model_backend:  N6665+617+N57+61+363        N5681        N5681        N5681          X              0\n",
      "DEBUG:mathsformer.selfsupervised_learning_addition_model_backend:     52-N6818+79-N5-N2         6956        6956E         6956          X              0\n",
      "DEBUG:mathsformer.selfsupervised_learning_addition_model_backend:                 N5+77           72        72EEE           72          X              0\n",
      "DEBUG:mathsformer.selfsupervised_learning_addition_model_backend: N379+N752-7+N2992-328        N4458        N4458        N4458          X              0\n",
      "DEBUG:mathsformer.selfsupervised_learning_addition_model_backend:       N7+N9-1+97-7774        N7694        N7684        N7684                        10\n",
      "DEBUG:mathsformer.selfsupervised_learning_addition_model_backend:              75+N3612        N3537        N3537        N3537          X              0\n",
      "DEBUG:mathsformer.selfsupervised_learning_addition_model_backend:Running text --> text mathsformer inference on some validation data:\n",
      "DEBUG:mathsformer.selfsupervised_learning_addition_model_backend:-------------------------------------------------------------------------------\n",
      "DEBUG:mathsformer.selfsupervised_learning_addition_model_backend:         INPUT         TRUE   PRED(MASK)    PRED(GEN)      CORRECT     RESIDUAL\n",
      "DEBUG:mathsformer.selfsupervised_learning_addition_model_backend:-------------------------------------------------------------------------------\n",
      "DEBUG:mathsformer.selfsupervised_learning_addition_model_backend:  3-N3988+N847         3144        3144E         3144          X              0\n",
      "DEBUG:mathsformer.selfsupervised_learning_addition_model_backend:     7797+5-N4         7806        7806E         7806          X              0\n",
      "DEBUG:mathsformer.selfsupervised_learning_addition_model_backend:  N8357-N11+N7        N8353        N8353        N8353          X              0\n",
      "DEBUG:mathsformer.selfsupervised_learning_addition_model_backend: 6686-N437-236         6887        6887E         6887          X              0\n",
      "DEBUG:mathsformer.selfsupervised_learning_addition_model_backend:     N5+4442+8         4445        4445E         4445          X              0\n",
      "DEBUG:mathsformer.selfsupervised_learning_addition_model_backend:   2123-N1+N68         2056        2056E         2056          X              0\n",
      "DEBUG:mathsformer.selfsupervised_learning_addition_model_backend:   95+4563+879         5537        5537E         5537          X              0\n",
      "DEBUG:mathsformer.selfsupervised_learning_addition_model_backend:  1639+N2868+5        N1224        N1224        N1224          X              0\n",
      "DEBUG:mathsformer.selfsupervised_learning_addition_model_backend:      8+N725-3         N720        N720E         N720          X              0\n",
      "DEBUG:mathsformer.selfsupervised_learning_addition_model_backend: N283+N962-N40        N1205        N1205        N1205          X              0\n"
     ]
    },
    {
     "name": "stdout",
     "output_type": "stream",
     "text": [
      "2000/2000 [==============================] - 603s 301ms/step - loss: 0.0838 - masked_categorical_accuracy: 0.9706 - val_loss: 0.0258 - val_masked_categorical_accuracy: 0.9911\n",
      "Epoch 82/100000\n",
      "2000/2000 [==============================] - ETA: 0s - loss: 0.0878 - masked_categorical_accuracy: 0.9697"
     ]
    },
    {
     "name": "stderr",
     "output_type": "stream",
     "text": [
      "DEBUG:mathsformer.selfsupervised_learning_addition_model_backend:Training reached the end of epoch at index 81\n",
      "DEBUG:mathsformer.selfsupervised_learning_addition_model_backend:    with metric loss: 0.087796\n",
      "DEBUG:mathsformer.selfsupervised_learning_addition_model_backend:    with metric masked_categorical_accuracy: 0.96966\n",
      "DEBUG:mathsformer.selfsupervised_learning_addition_model_backend:    with metric val_loss: 0.029909\n",
      "DEBUG:mathsformer.selfsupervised_learning_addition_model_backend:    with metric val_masked_categorical_accuracy: 0.99108\n",
      "DEBUG:mathsformer.selfsupervised_learning_addition_model_backend:Running text --> text mathsformer inference on some training data:\n",
      "DEBUG:mathsformer.selfsupervised_learning_addition_model_backend:---------------------------------------------------------------------------------------\n",
      "DEBUG:mathsformer.selfsupervised_learning_addition_model_backend:                 INPUT         TRUE   PRED(MASK)    PRED(GEN)      CORRECT     RESIDUAL\n",
      "DEBUG:mathsformer.selfsupervised_learning_addition_model_backend:---------------------------------------------------------------------------------------\n",
      "DEBUG:mathsformer.selfsupervised_learning_addition_model_backend:    N8097-N943+N8+5-86        N7243        N7243        N7243          X              0\n",
      "DEBUG:mathsformer.selfsupervised_learning_addition_model_backend:       N9+N4-N2+N943+4         N950        N950E         N950          X              0\n",
      "DEBUG:mathsformer.selfsupervised_learning_addition_model_backend:              476+N792         N316        N316E         N316          X              0\n",
      "DEBUG:mathsformer.selfsupervised_learning_addition_model_backend:     2333-6-N6836+8575        17738        17738        17738          X              0\n",
      "DEBUG:mathsformer.selfsupervised_learning_addition_model_backend:  N6665+617+N57+61+363        N5681        N5681        N5681          X              0\n",
      "DEBUG:mathsformer.selfsupervised_learning_addition_model_backend:     52-N6818+79-N5-N2         6956        6956E         6956          X              0\n",
      "DEBUG:mathsformer.selfsupervised_learning_addition_model_backend:                 N5+77           72        72EEE           72          X              0\n",
      "DEBUG:mathsformer.selfsupervised_learning_addition_model_backend: N379+N752-7+N2992-328        N4458        N4458        N4458          X              0\n",
      "DEBUG:mathsformer.selfsupervised_learning_addition_model_backend:       N7+N9-1+97-7774        N7694        N7694        N7694          X              0\n",
      "DEBUG:mathsformer.selfsupervised_learning_addition_model_backend:              75+N3612        N3537        N3537        N3537          X              0\n",
      "DEBUG:mathsformer.selfsupervised_learning_addition_model_backend:Running text --> text mathsformer inference on some validation data:\n",
      "DEBUG:mathsformer.selfsupervised_learning_addition_model_backend:-------------------------------------------------------------------------------\n",
      "DEBUG:mathsformer.selfsupervised_learning_addition_model_backend:         INPUT         TRUE   PRED(MASK)    PRED(GEN)      CORRECT     RESIDUAL\n",
      "DEBUG:mathsformer.selfsupervised_learning_addition_model_backend:-------------------------------------------------------------------------------\n",
      "DEBUG:mathsformer.selfsupervised_learning_addition_model_backend:  3-N3988+N847         3144        3144E         3144          X              0\n",
      "DEBUG:mathsformer.selfsupervised_learning_addition_model_backend:     7797+5-N4         7806        7806E         7806          X              0\n",
      "DEBUG:mathsformer.selfsupervised_learning_addition_model_backend:  N8357-N11+N7        N8353        N8353        N8353          X              0\n",
      "DEBUG:mathsformer.selfsupervised_learning_addition_model_backend: 6686-N437-236         6887        6887E         6887          X              0\n",
      "DEBUG:mathsformer.selfsupervised_learning_addition_model_backend:     N5+4442+8         4445        4445E         4445          X              0\n",
      "DEBUG:mathsformer.selfsupervised_learning_addition_model_backend:   2123-N1+N68         2056        2056E         2056          X              0\n",
      "DEBUG:mathsformer.selfsupervised_learning_addition_model_backend:   95+4563+879         5537        5537E         5537          X              0\n",
      "DEBUG:mathsformer.selfsupervised_learning_addition_model_backend:  1639+N2868+5        N1224        N1224        N1224          X              0\n",
      "DEBUG:mathsformer.selfsupervised_learning_addition_model_backend:      8+N725-3         N720        N720E         N720          X              0\n",
      "DEBUG:mathsformer.selfsupervised_learning_addition_model_backend: N283+N962-N40        N1205        N1205        N1205          X              0\n"
     ]
    },
    {
     "name": "stdout",
     "output_type": "stream",
     "text": [
      "2000/2000 [==============================] - 591s 296ms/step - loss: 0.0878 - masked_categorical_accuracy: 0.9697 - val_loss: 0.0299 - val_masked_categorical_accuracy: 0.9911\n",
      "Epoch 83/100000\n",
      "2000/2000 [==============================] - ETA: 0s - loss: 0.0825 - masked_categorical_accuracy: 0.9710"
     ]
    },
    {
     "name": "stderr",
     "output_type": "stream",
     "text": [
      "DEBUG:mathsformer.selfsupervised_learning_addition_model_backend:Training reached the end of epoch at index 82\n",
      "DEBUG:mathsformer.selfsupervised_learning_addition_model_backend:    with metric loss: 0.08247\n",
      "DEBUG:mathsformer.selfsupervised_learning_addition_model_backend:    with metric masked_categorical_accuracy: 0.97098\n",
      "DEBUG:mathsformer.selfsupervised_learning_addition_model_backend:    with metric val_loss: 0.032186\n",
      "DEBUG:mathsformer.selfsupervised_learning_addition_model_backend:    with metric val_masked_categorical_accuracy: 0.98893\n",
      "DEBUG:mathsformer.selfsupervised_learning_addition_model_backend:Running text --> text mathsformer inference on some training data:\n",
      "DEBUG:mathsformer.selfsupervised_learning_addition_model_backend:---------------------------------------------------------------------------------------\n",
      "DEBUG:mathsformer.selfsupervised_learning_addition_model_backend:                 INPUT         TRUE   PRED(MASK)    PRED(GEN)      CORRECT     RESIDUAL\n",
      "DEBUG:mathsformer.selfsupervised_learning_addition_model_backend:---------------------------------------------------------------------------------------\n",
      "DEBUG:mathsformer.selfsupervised_learning_addition_model_backend:    N8097-N943+N8+5-86        N7243        N7243        N7243          X              0\n",
      "DEBUG:mathsformer.selfsupervised_learning_addition_model_backend:       N9+N4-N2+N943+4         N950        N950E         N950          X              0\n",
      "DEBUG:mathsformer.selfsupervised_learning_addition_model_backend:              476+N792         N316        N316E         N316          X              0\n",
      "DEBUG:mathsformer.selfsupervised_learning_addition_model_backend:     2333-6-N6836+8575        17738        17738        17738          X              0\n",
      "DEBUG:mathsformer.selfsupervised_learning_addition_model_backend:  N6665+617+N57+61+363        N5681        N5681        N5681          X              0\n",
      "DEBUG:mathsformer.selfsupervised_learning_addition_model_backend:     52-N6818+79-N5-N2         6956        6956E         6956          X              0\n",
      "DEBUG:mathsformer.selfsupervised_learning_addition_model_backend:                 N5+77           72        72EEE           72          X              0\n",
      "DEBUG:mathsformer.selfsupervised_learning_addition_model_backend: N379+N752-7+N2992-328        N4458        N4468        N4468                       -10\n",
      "DEBUG:mathsformer.selfsupervised_learning_addition_model_backend:       N7+N9-1+97-7774        N7694        N7694        N7694          X              0\n",
      "DEBUG:mathsformer.selfsupervised_learning_addition_model_backend:              75+N3612        N3537        N3537        N3537          X              0\n",
      "DEBUG:mathsformer.selfsupervised_learning_addition_model_backend:Running text --> text mathsformer inference on some validation data:\n",
      "DEBUG:mathsformer.selfsupervised_learning_addition_model_backend:-------------------------------------------------------------------------------\n",
      "DEBUG:mathsformer.selfsupervised_learning_addition_model_backend:         INPUT         TRUE   PRED(MASK)    PRED(GEN)      CORRECT     RESIDUAL\n",
      "DEBUG:mathsformer.selfsupervised_learning_addition_model_backend:-------------------------------------------------------------------------------\n",
      "DEBUG:mathsformer.selfsupervised_learning_addition_model_backend:  3-N3988+N847         3144        3144E         3144          X              0\n",
      "DEBUG:mathsformer.selfsupervised_learning_addition_model_backend:     7797+5-N4         7806        7806E         7806          X              0\n",
      "DEBUG:mathsformer.selfsupervised_learning_addition_model_backend:  N8357-N11+N7        N8353        N8353        N8353          X              0\n",
      "DEBUG:mathsformer.selfsupervised_learning_addition_model_backend: 6686-N437-236         6887        6887E         6887          X              0\n",
      "DEBUG:mathsformer.selfsupervised_learning_addition_model_backend:     N5+4442+8         4445        4445E         4445          X              0\n",
      "DEBUG:mathsformer.selfsupervised_learning_addition_model_backend:   2123-N1+N68         2056        2056E         2056          X              0\n",
      "DEBUG:mathsformer.selfsupervised_learning_addition_model_backend:   95+4563+879         5537        5537E         5537          X              0\n",
      "DEBUG:mathsformer.selfsupervised_learning_addition_model_backend:  1639+N2868+5        N1224        N1224        N1224          X              0\n",
      "DEBUG:mathsformer.selfsupervised_learning_addition_model_backend:      8+N725-3         N720        N720E         N720          X              0\n",
      "DEBUG:mathsformer.selfsupervised_learning_addition_model_backend: N283+N962-N40        N1205        N1205        N1205          X              0\n"
     ]
    },
    {
     "name": "stdout",
     "output_type": "stream",
     "text": [
      "2000/2000 [==============================] - 611s 306ms/step - loss: 0.0825 - masked_categorical_accuracy: 0.9710 - val_loss: 0.0322 - val_masked_categorical_accuracy: 0.9889\n",
      "Epoch 84/100000\n",
      "2000/2000 [==============================] - ETA: 0s - loss: 0.0803 - masked_categorical_accuracy: 0.9718"
     ]
    },
    {
     "name": "stderr",
     "output_type": "stream",
     "text": [
      "DEBUG:mathsformer.selfsupervised_learning_addition_model_backend:Training reached the end of epoch at index 83\n",
      "DEBUG:mathsformer.selfsupervised_learning_addition_model_backend:    with metric loss: 0.080336\n",
      "DEBUG:mathsformer.selfsupervised_learning_addition_model_backend:    with metric masked_categorical_accuracy: 0.97184\n",
      "DEBUG:mathsformer.selfsupervised_learning_addition_model_backend:    with metric val_loss: 0.02278\n",
      "DEBUG:mathsformer.selfsupervised_learning_addition_model_backend:    with metric val_masked_categorical_accuracy: 0.99312\n",
      "DEBUG:mathsformer.selfsupervised_learning_addition_model_backend:Running text --> text mathsformer inference on some training data:\n",
      "DEBUG:mathsformer.selfsupervised_learning_addition_model_backend:---------------------------------------------------------------------------------------\n",
      "DEBUG:mathsformer.selfsupervised_learning_addition_model_backend:                 INPUT         TRUE   PRED(MASK)    PRED(GEN)      CORRECT     RESIDUAL\n",
      "DEBUG:mathsformer.selfsupervised_learning_addition_model_backend:---------------------------------------------------------------------------------------\n",
      "DEBUG:mathsformer.selfsupervised_learning_addition_model_backend:    N8097-N943+N8+5-86        N7243        N7243        N7243          X              0\n",
      "DEBUG:mathsformer.selfsupervised_learning_addition_model_backend:       N9+N4-N2+N943+4         N950        N950E         N950          X              0\n",
      "DEBUG:mathsformer.selfsupervised_learning_addition_model_backend:              476+N792         N316        N316E         N316          X              0\n",
      "DEBUG:mathsformer.selfsupervised_learning_addition_model_backend:     2333-6-N6836+8575        17738        17738        17738          X              0\n",
      "DEBUG:mathsformer.selfsupervised_learning_addition_model_backend:  N6665+617+N57+61+363        N5681        N5671        N5671                        10\n",
      "DEBUG:mathsformer.selfsupervised_learning_addition_model_backend:     52-N6818+79-N5-N2         6956        6956E         6956          X              0\n",
      "DEBUG:mathsformer.selfsupervised_learning_addition_model_backend:                 N5+77           72        72EEE           72          X              0\n",
      "DEBUG:mathsformer.selfsupervised_learning_addition_model_backend: N379+N752-7+N2992-328        N4458        N4458        N4458          X              0\n",
      "DEBUG:mathsformer.selfsupervised_learning_addition_model_backend:       N7+N9-1+97-7774        N7694        N7694        N7694          X              0\n",
      "DEBUG:mathsformer.selfsupervised_learning_addition_model_backend:              75+N3612        N3537        N3537        N3537          X              0\n",
      "DEBUG:mathsformer.selfsupervised_learning_addition_model_backend:Running text --> text mathsformer inference on some validation data:\n",
      "DEBUG:mathsformer.selfsupervised_learning_addition_model_backend:-------------------------------------------------------------------------------\n",
      "DEBUG:mathsformer.selfsupervised_learning_addition_model_backend:         INPUT         TRUE   PRED(MASK)    PRED(GEN)      CORRECT     RESIDUAL\n",
      "DEBUG:mathsformer.selfsupervised_learning_addition_model_backend:-------------------------------------------------------------------------------\n",
      "DEBUG:mathsformer.selfsupervised_learning_addition_model_backend:  3-N3988+N847         3144        3144E         3144          X              0\n",
      "DEBUG:mathsformer.selfsupervised_learning_addition_model_backend:     7797+5-N4         7806        7806E         7806          X              0\n",
      "DEBUG:mathsformer.selfsupervised_learning_addition_model_backend:  N8357-N11+N7        N8353        N8353        N8353          X              0\n",
      "DEBUG:mathsformer.selfsupervised_learning_addition_model_backend: 6686-N437-236         6887        6887E         6887          X              0\n",
      "DEBUG:mathsformer.selfsupervised_learning_addition_model_backend:     N5+4442+8         4445        4445E         4445          X              0\n",
      "DEBUG:mathsformer.selfsupervised_learning_addition_model_backend:   2123-N1+N68         2056        2056E         2056          X              0\n",
      "DEBUG:mathsformer.selfsupervised_learning_addition_model_backend:   95+4563+879         5537        5537E         5537          X              0\n",
      "DEBUG:mathsformer.selfsupervised_learning_addition_model_backend:  1639+N2868+5        N1224        N1224        N1224          X              0\n",
      "DEBUG:mathsformer.selfsupervised_learning_addition_model_backend:      8+N725-3         N720        N720E         N720          X              0\n",
      "DEBUG:mathsformer.selfsupervised_learning_addition_model_backend: N283+N962-N40        N1205        N1205        N1205          X              0\n"
     ]
    },
    {
     "name": "stdout",
     "output_type": "stream",
     "text": [
      "2000/2000 [==============================] - 614s 307ms/step - loss: 0.0803 - masked_categorical_accuracy: 0.9718 - val_loss: 0.0228 - val_masked_categorical_accuracy: 0.9931\n",
      "Epoch 85/100000\n",
      "2000/2000 [==============================] - ETA: 0s - loss: 0.0786 - masked_categorical_accuracy: 0.9728"
     ]
    },
    {
     "name": "stderr",
     "output_type": "stream",
     "text": [
      "DEBUG:mathsformer.selfsupervised_learning_addition_model_backend:Training reached the end of epoch at index 84\n",
      "DEBUG:mathsformer.selfsupervised_learning_addition_model_backend:    with metric loss: 0.078576\n",
      "DEBUG:mathsformer.selfsupervised_learning_addition_model_backend:    with metric masked_categorical_accuracy: 0.97277\n",
      "DEBUG:mathsformer.selfsupervised_learning_addition_model_backend:    with metric val_loss: 0.044343\n",
      "DEBUG:mathsformer.selfsupervised_learning_addition_model_backend:    with metric val_masked_categorical_accuracy: 0.98606\n",
      "DEBUG:mathsformer.selfsupervised_learning_addition_model_backend:Running text --> text mathsformer inference on some training data:\n",
      "DEBUG:mathsformer.selfsupervised_learning_addition_model_backend:---------------------------------------------------------------------------------------\n",
      "DEBUG:mathsformer.selfsupervised_learning_addition_model_backend:                 INPUT         TRUE   PRED(MASK)    PRED(GEN)      CORRECT     RESIDUAL\n",
      "DEBUG:mathsformer.selfsupervised_learning_addition_model_backend:---------------------------------------------------------------------------------------\n",
      "DEBUG:mathsformer.selfsupervised_learning_addition_model_backend:    N8097-N943+N8+5-86        N7243        N7243        N7243          X              0\n",
      "DEBUG:mathsformer.selfsupervised_learning_addition_model_backend:       N9+N4-N2+N943+4         N950        N950E         N950          X              0\n",
      "DEBUG:mathsformer.selfsupervised_learning_addition_model_backend:              476+N792         N316        N316E         N316          X              0\n",
      "DEBUG:mathsformer.selfsupervised_learning_addition_model_backend:     2333-6-N6836+8575        17738        17738        17738          X              0\n",
      "DEBUG:mathsformer.selfsupervised_learning_addition_model_backend:  N6665+617+N57+61+363        N5681        N5681        N5681          X              0\n",
      "DEBUG:mathsformer.selfsupervised_learning_addition_model_backend:     52-N6818+79-N5-N2         6956        6956E         6956          X              0\n",
      "DEBUG:mathsformer.selfsupervised_learning_addition_model_backend:                 N5+77           72        72EE2           72          X              0\n",
      "DEBUG:mathsformer.selfsupervised_learning_addition_model_backend: N379+N752-7+N2992-328        N4458        N4468        N4468                       -10\n",
      "DEBUG:mathsformer.selfsupervised_learning_addition_model_backend:       N7+N9-1+97-7774        N7694        N7694        N7694          X              0\n",
      "DEBUG:mathsformer.selfsupervised_learning_addition_model_backend:              75+N3612        N3537        N3537        N3537          X              0\n",
      "DEBUG:mathsformer.selfsupervised_learning_addition_model_backend:Running text --> text mathsformer inference on some validation data:\n",
      "DEBUG:mathsformer.selfsupervised_learning_addition_model_backend:-------------------------------------------------------------------------------\n",
      "DEBUG:mathsformer.selfsupervised_learning_addition_model_backend:         INPUT         TRUE   PRED(MASK)    PRED(GEN)      CORRECT     RESIDUAL\n",
      "DEBUG:mathsformer.selfsupervised_learning_addition_model_backend:-------------------------------------------------------------------------------\n",
      "DEBUG:mathsformer.selfsupervised_learning_addition_model_backend:  3-N3988+N847         3144        3144E         3144          X              0\n",
      "DEBUG:mathsformer.selfsupervised_learning_addition_model_backend:     7797+5-N4         7806        7806E         7806          X              0\n",
      "DEBUG:mathsformer.selfsupervised_learning_addition_model_backend:  N8357-N11+N7        N8353        N8353        N8353          X              0\n",
      "DEBUG:mathsformer.selfsupervised_learning_addition_model_backend: 6686-N437-236         6887        6887E         6887          X              0\n",
      "DEBUG:mathsformer.selfsupervised_learning_addition_model_backend:     N5+4442+8         4445        4445E         4445          X              0\n",
      "DEBUG:mathsformer.selfsupervised_learning_addition_model_backend:   2123-N1+N68         2056        2056E         2056          X              0\n",
      "DEBUG:mathsformer.selfsupervised_learning_addition_model_backend:   95+4563+879         5537        5547E         5547                        10\n",
      "DEBUG:mathsformer.selfsupervised_learning_addition_model_backend:  1639+N2868+5        N1224        N1224        N1224          X              0\n",
      "DEBUG:mathsformer.selfsupervised_learning_addition_model_backend:      8+N725-3         N720        N720E         N720          X              0\n",
      "DEBUG:mathsformer.selfsupervised_learning_addition_model_backend: N283+N962-N40        N1205        N1205        N1205          X              0\n"
     ]
    },
    {
     "name": "stdout",
     "output_type": "stream",
     "text": [
      "2000/2000 [==============================] - 616s 308ms/step - loss: 0.0786 - masked_categorical_accuracy: 0.9728 - val_loss: 0.0443 - val_masked_categorical_accuracy: 0.9861\n",
      "Epoch 86/100000\n",
      "2000/2000 [==============================] - ETA: 0s - loss: 0.0864 - masked_categorical_accuracy: 0.9709"
     ]
    },
    {
     "name": "stderr",
     "output_type": "stream",
     "text": [
      "DEBUG:mathsformer.selfsupervised_learning_addition_model_backend:Training reached the end of epoch at index 85\n",
      "DEBUG:mathsformer.selfsupervised_learning_addition_model_backend:    with metric loss: 0.086371\n",
      "DEBUG:mathsformer.selfsupervised_learning_addition_model_backend:    with metric masked_categorical_accuracy: 0.97088\n",
      "DEBUG:mathsformer.selfsupervised_learning_addition_model_backend:    with metric val_loss: 0.043711\n",
      "DEBUG:mathsformer.selfsupervised_learning_addition_model_backend:    with metric val_masked_categorical_accuracy: 0.98531\n",
      "DEBUG:mathsformer.selfsupervised_learning_addition_model_backend:Running text --> text mathsformer inference on some training data:\n",
      "DEBUG:mathsformer.selfsupervised_learning_addition_model_backend:---------------------------------------------------------------------------------------\n",
      "DEBUG:mathsformer.selfsupervised_learning_addition_model_backend:                 INPUT         TRUE   PRED(MASK)    PRED(GEN)      CORRECT     RESIDUAL\n",
      "DEBUG:mathsformer.selfsupervised_learning_addition_model_backend:---------------------------------------------------------------------------------------\n",
      "DEBUG:mathsformer.selfsupervised_learning_addition_model_backend:    N8097-N943+N8+5-86        N7243        N7243        N7243          X              0\n",
      "DEBUG:mathsformer.selfsupervised_learning_addition_model_backend:       N9+N4-N2+N943+4         N950        N950E         N950          X              0\n",
      "DEBUG:mathsformer.selfsupervised_learning_addition_model_backend:              476+N792         N316        N316E         N316          X              0\n",
      "DEBUG:mathsformer.selfsupervised_learning_addition_model_backend:     2333-6-N6836+8575        17738        17738        17738          X              0\n",
      "DEBUG:mathsformer.selfsupervised_learning_addition_model_backend:  N6665+617+N57+61+363        N5681        N5681        N5681          X              0\n",
      "DEBUG:mathsformer.selfsupervised_learning_addition_model_backend:     52-N6818+79-N5-N2         6956        7956E         7956                      1000\n",
      "DEBUG:mathsformer.selfsupervised_learning_addition_model_backend:                 N5+77           72        72EE3           72          X              0\n",
      "DEBUG:mathsformer.selfsupervised_learning_addition_model_backend: N379+N752-7+N2992-328        N4458        N4457        N4457                         1\n",
      "DEBUG:mathsformer.selfsupervised_learning_addition_model_backend:       N7+N9-1+97-7774        N7694        N7694        N7694          X              0\n",
      "DEBUG:mathsformer.selfsupervised_learning_addition_model_backend:              75+N3612        N3537        N3537        N3537          X              0\n",
      "DEBUG:mathsformer.selfsupervised_learning_addition_model_backend:Running text --> text mathsformer inference on some validation data:\n",
      "DEBUG:mathsformer.selfsupervised_learning_addition_model_backend:-------------------------------------------------------------------------------\n",
      "DEBUG:mathsformer.selfsupervised_learning_addition_model_backend:         INPUT         TRUE   PRED(MASK)    PRED(GEN)      CORRECT     RESIDUAL\n",
      "DEBUG:mathsformer.selfsupervised_learning_addition_model_backend:-------------------------------------------------------------------------------\n",
      "DEBUG:mathsformer.selfsupervised_learning_addition_model_backend:  3-N3988+N847         3144        3144E         3144          X              0\n",
      "DEBUG:mathsformer.selfsupervised_learning_addition_model_backend:     7797+5-N4         7806        7806E         7806          X              0\n",
      "DEBUG:mathsformer.selfsupervised_learning_addition_model_backend:  N8357-N11+N7        N8353        N8353        N8353          X              0\n",
      "DEBUG:mathsformer.selfsupervised_learning_addition_model_backend: 6686-N437-236         6887        6887E         6887          X              0\n",
      "DEBUG:mathsformer.selfsupervised_learning_addition_model_backend:     N5+4442+8         4445        4445E         4445          X              0\n",
      "DEBUG:mathsformer.selfsupervised_learning_addition_model_backend:   2123-N1+N68         2056        2056E         2056          X              0\n",
      "DEBUG:mathsformer.selfsupervised_learning_addition_model_backend:   95+4563+879         5537        5537E         5537          X              0\n",
      "DEBUG:mathsformer.selfsupervised_learning_addition_model_backend:  1639+N2868+5        N1224        N1224        N1224          X              0\n",
      "DEBUG:mathsformer.selfsupervised_learning_addition_model_backend:      8+N725-3         N720        N720E         N720          X              0\n",
      "DEBUG:mathsformer.selfsupervised_learning_addition_model_backend: N283+N962-N40        N1205        N1205        N1205          X              0\n"
     ]
    },
    {
     "name": "stdout",
     "output_type": "stream",
     "text": [
      "2000/2000 [==============================] - 622s 311ms/step - loss: 0.0864 - masked_categorical_accuracy: 0.9709 - val_loss: 0.0437 - val_masked_categorical_accuracy: 0.9853\n",
      "Epoch 87/100000\n",
      "2000/2000 [==============================] - ETA: 0s - loss: 0.0698 - masked_categorical_accuracy: 0.9751"
     ]
    },
    {
     "name": "stderr",
     "output_type": "stream",
     "text": [
      "DEBUG:mathsformer.selfsupervised_learning_addition_model_backend:Training reached the end of epoch at index 86\n",
      "DEBUG:mathsformer.selfsupervised_learning_addition_model_backend:    with metric loss: 0.069785\n",
      "DEBUG:mathsformer.selfsupervised_learning_addition_model_backend:    with metric masked_categorical_accuracy: 0.97513\n",
      "DEBUG:mathsformer.selfsupervised_learning_addition_model_backend:    with metric val_loss: 0.021757\n",
      "DEBUG:mathsformer.selfsupervised_learning_addition_model_backend:    with metric val_masked_categorical_accuracy: 0.9937\n",
      "DEBUG:mathsformer.selfsupervised_learning_addition_model_backend:Running text --> text mathsformer inference on some training data:\n",
      "DEBUG:mathsformer.selfsupervised_learning_addition_model_backend:---------------------------------------------------------------------------------------\n",
      "DEBUG:mathsformer.selfsupervised_learning_addition_model_backend:                 INPUT         TRUE   PRED(MASK)    PRED(GEN)      CORRECT     RESIDUAL\n",
      "DEBUG:mathsformer.selfsupervised_learning_addition_model_backend:---------------------------------------------------------------------------------------\n",
      "DEBUG:mathsformer.selfsupervised_learning_addition_model_backend:    N8097-N943+N8+5-86        N7243        N7243        N7243          X              0\n",
      "DEBUG:mathsformer.selfsupervised_learning_addition_model_backend:       N9+N4-N2+N943+4         N950        N950E         N950          X              0\n",
      "DEBUG:mathsformer.selfsupervised_learning_addition_model_backend:              476+N792         N316        N316E         N316          X              0\n",
      "DEBUG:mathsformer.selfsupervised_learning_addition_model_backend:     2333-6-N6836+8575        17738        17738        17738          X              0\n",
      "DEBUG:mathsformer.selfsupervised_learning_addition_model_backend:  N6665+617+N57+61+363        N5681        N5681        N5681          X              0\n",
      "DEBUG:mathsformer.selfsupervised_learning_addition_model_backend:     52-N6818+79-N5-N2         6956        6956E         6956          X              0\n",
      "DEBUG:mathsformer.selfsupervised_learning_addition_model_backend:                 N5+77           72        72EEE           72          X              0\n",
      "DEBUG:mathsformer.selfsupervised_learning_addition_model_backend: N379+N752-7+N2992-328        N4458        N4458        N4458          X              0\n",
      "DEBUG:mathsformer.selfsupervised_learning_addition_model_backend:       N7+N9-1+97-7774        N7694        N7694        N7694          X              0\n",
      "DEBUG:mathsformer.selfsupervised_learning_addition_model_backend:              75+N3612        N3537        N3537        N3537          X              0\n",
      "DEBUG:mathsformer.selfsupervised_learning_addition_model_backend:Running text --> text mathsformer inference on some validation data:\n",
      "DEBUG:mathsformer.selfsupervised_learning_addition_model_backend:-------------------------------------------------------------------------------\n",
      "DEBUG:mathsformer.selfsupervised_learning_addition_model_backend:         INPUT         TRUE   PRED(MASK)    PRED(GEN)      CORRECT     RESIDUAL\n",
      "DEBUG:mathsformer.selfsupervised_learning_addition_model_backend:-------------------------------------------------------------------------------\n",
      "DEBUG:mathsformer.selfsupervised_learning_addition_model_backend:  3-N3988+N847         3144        3144E         3144          X              0\n",
      "DEBUG:mathsformer.selfsupervised_learning_addition_model_backend:     7797+5-N4         7806        7806E         7806          X              0\n",
      "DEBUG:mathsformer.selfsupervised_learning_addition_model_backend:  N8357-N11+N7        N8353        N8353        N8353          X              0\n",
      "DEBUG:mathsformer.selfsupervised_learning_addition_model_backend: 6686-N437-236         6887        6887E         6887          X              0\n",
      "DEBUG:mathsformer.selfsupervised_learning_addition_model_backend:     N5+4442+8         4445        4445E         4445          X              0\n",
      "DEBUG:mathsformer.selfsupervised_learning_addition_model_backend:   2123-N1+N68         2056        2056E         2056          X              0\n",
      "DEBUG:mathsformer.selfsupervised_learning_addition_model_backend:   95+4563+879         5537        5537E         5537          X              0\n",
      "DEBUG:mathsformer.selfsupervised_learning_addition_model_backend:  1639+N2868+5        N1224        N1224        N1224          X              0\n",
      "DEBUG:mathsformer.selfsupervised_learning_addition_model_backend:      8+N725-3         N720        N720E         N720          X              0\n",
      "DEBUG:mathsformer.selfsupervised_learning_addition_model_backend: N283+N962-N40        N1205        N1205        N1205          X              0\n"
     ]
    },
    {
     "name": "stdout",
     "output_type": "stream",
     "text": [
      "2000/2000 [==============================] - 612s 306ms/step - loss: 0.0698 - masked_categorical_accuracy: 0.9751 - val_loss: 0.0218 - val_masked_categorical_accuracy: 0.9937\n",
      "Epoch 88/100000\n",
      " 575/2000 [=======>......................] - ETA: 7:07 - loss: 0.0688 - masked_categorical_accuracy: 0.9757"
     ]
    }
   ],
   "source": [
    "##=================##\n",
    "##   Train model   ##\n",
    "##=================##\n",
    "\n",
    "do_train = cfg_training.get(\"train\", True)\n",
    "\n",
    "if do_train :\n",
    "    max_epochs = cfg_training[\"max_epochs\"]\n",
    "    logger.info(f\"Begin model training with max_epochs={max_epochs}\")\n",
    "    model.fit(train_gen, \n",
    "              epochs          = max_epochs,\n",
    "              validation_data = val_gen,\n",
    "              callbacks       = callbacks\n",
    "             )\n",
    "else :\n",
    "    logger.warning(\"Skipping model training following global config instructions\")\n"
   ]
  },
  {
   "cell_type": "code",
   "execution_count": null,
   "id": "8fb38943",
   "metadata": {},
   "outputs": [],
   "source": [
    "##================##\n",
    "##   Save model   ##\n",
    "##================##\n",
    "\n",
    "do_save = cfg_evaluate.get(\"save_model\", True)\n",
    "\n",
    "if do_save :\n",
    "    save_fname = f\"{working_dir}/final_model.keras\"\n",
    "    model.save(save_fname)\n",
    "    logger.info(f\"Model saved to file {save_fname}\")\n",
    "else :\n",
    "    logger.warning(\"Not saving model because no training was done\")\n"
   ]
  },
  {
   "cell_type": "markdown",
   "id": "5fc69448",
   "metadata": {},
   "source": [
    "## 6.  Evaluate model"
   ]
  },
  {
   "cell_type": "code",
   "execution_count": null,
   "id": "04c425ac",
   "metadata": {
    "scrolled": true
   },
   "outputs": [],
   "source": [
    "  \n",
    "##  Find out how many datapoints to print predictions for \n",
    "num_print = cfg_evaluate.get(\"num_print\", 20)\n",
    "\n",
    "##  Print tables\n",
    "backend.test_transformer(transformer, train_gen, val_gen, test_gen, num_print=num_print, \n",
    "                         negative_char=negative_char)\n"
   ]
  },
  {
   "cell_type": "markdown",
   "id": "34dfb55b",
   "metadata": {},
   "source": [
    "##  7. Additional visualisations"
   ]
  },
  {
   "cell_type": "code",
   "execution_count": null,
   "id": "5e385e68",
   "metadata": {
    "scrolled": false
   },
   "outputs": [],
   "source": [
    "##=============================================##\n",
    "##   Visualise layer weights during training   ##\n",
    "##=============================================##\n",
    "\n",
    "if cfg_evaluate[\"plot_weights\"] :\n",
    "    \n",
    "    logger.info(\"Plotting weights\")\n",
    "    backend.plot_weights(callbacks, show=True, close=True, savefig=f\"{working_dir}/layer_weights.pdf\")\n",
    "    "
   ]
  },
  {
   "cell_type": "code",
   "execution_count": null,
   "id": "0508f971",
   "metadata": {},
   "outputs": [],
   "source": [
    "##===============================##\n",
    "##   Visualise training curves   ##\n",
    "##===============================##\n",
    "\n",
    "if cfg_evaluate[\"plot_training_curves\"] :\n",
    "    \n",
    "    if not hasattr(model, \"history\") :\n",
    "        logger.error(\"Cannot print training curves because no model history exists - perhaps you skipped training?\")\n",
    "    else :\n",
    "        logger.info(\"Plotting training curves\")\n",
    "        backend.plot_training_curves(model.history.history, show=True, close=True, savefig=f\"{working_dir}/training_curves.pdf\")\n",
    "    "
   ]
  },
  {
   "cell_type": "code",
   "execution_count": null,
   "id": "a8f188a8",
   "metadata": {},
   "outputs": [],
   "source": []
  }
 ],
 "metadata": {
  "kernelspec": {
   "display_name": "Python 3 (ipykernel)",
   "language": "python",
   "name": "python3"
  },
  "language_info": {
   "codemirror_mode": {
    "name": "ipython",
    "version": 3
   },
   "file_extension": ".py",
   "mimetype": "text/x-python",
   "name": "python",
   "nbconvert_exporter": "python",
   "pygments_lexer": "ipython3",
   "version": "3.11.4"
  }
 },
 "nbformat": 4,
 "nbformat_minor": 5
}
