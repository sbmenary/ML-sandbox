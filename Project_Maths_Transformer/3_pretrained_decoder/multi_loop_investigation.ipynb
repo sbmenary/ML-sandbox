{
 "cells": [
  {
   "cell_type": "code",
   "execution_count": 1,
   "id": "ac6e1f27",
   "metadata": {},
   "outputs": [],
   "source": [
    "##=========================##\n",
    "##   All imports go here   ##\n",
    "##=========================##\n",
    "\n",
    "##  Import entire python stdlib packages\n",
    "import logging, os, sys\n",
    "\n",
    "##  Import entire pypi packages\n",
    "import tensorflow as tf\n",
    "import numpy      as np\n",
    "\n",
    "##  Remove tensorflow INFO messages\n",
    "tf.get_logger().setLevel('WARNING')\n",
    "\n",
    "##  Add directory above this to system path to expose mathsformer package location\n",
    "sys.path.append(\"/\".join(os.getcwd().split(\"/\")[:-1]))\n",
    "\n",
    "##  Import individual modules/objects from packages\n",
    "from matplotlib  import pyplot as plt\n",
    "from mathsformer import config, data, transformers, utils, tf_objects as tfo\n",
    "from mathsformer import selfsupervised_learning_addition_model_backend as backend\n"
   ]
  },
  {
   "cell_type": "code",
   "execution_count": 2,
   "id": "141d19c8",
   "metadata": {},
   "outputs": [],
   "source": [
    "##==============================##\n",
    "##   Set custom config values   ##\n",
    "##==============================##\n",
    "\n",
    "custom_config = {\n",
    "    \"global\" : {\n",
    "        \"model_tag\"        : \"loop_idem2\",\n",
    "        \"base_seed\"        : -1,\n",
    "        \"working_dir\"      : \"multi_loop_investigation_[date]\",\n",
    "        \"log_lvl_iostream\" : logging.INFO,\n",
    "        \"log_lvl_fstream\"  : logging.DEBUG,\n",
    "    },\n",
    "    \"data\" : {\n",
    "        \"train_data\" : {\n",
    "            \"int_lengths\"      : [1, 2, 3, 4],\n",
    "            \"num_ints\"         : [1, 2, 4, 5],\n",
    "        },\n",
    "        \"test_data\" : {\n",
    "            \"int_lengths\"      : [2],\n",
    "            \"num_ints\"         : [4],\n",
    "            \"batch_size\"       : 32,\n",
    "            \"num_batches\"      : 10,\n",
    "            \"gen_base_seed\"    : 200,\n",
    "            \"gen_reproducible\" : True,\n",
    "        },\n",
    "        \"characters\"              : ['M', 'B', 'E', 'N', '0', '1', '2', '3', '4', '5', '6', '7', '8', '9', '+', '-'],\n",
    "        \"mask_char\"               : 'M',\n",
    "        \"seq_start_char\"          : 'B',\n",
    "        \"seq_end_char\"            : 'E',\n",
    "        \"negative_char\"           : 'N',\n",
    "        \"dtype\"                   : \"int32\",\n",
    "    },\n",
    "    \"models\" : {\n",
    "        \"num_loops\"  : 13,\n",
    "        \"loop_idem0\" : \"save/SSL_loopy_enc_dec_notebook_int1234_num1245_embed128_enc_2blocks_5loops_width512_dec_2blocks_1loops_width512_post3_width512_idemm1_2023_06_25_v2/final_model.keras\",\n",
    "        \"loop_idem2\" : \"SSL_loopy_enc_dec_notebook_int1234_num1245_embed128_enc_2blocks_5loops_width512_dec_2blocks_1loops_width512_post3_width512_idem2_2023_06_27/model_checkpoint_epoch101_val_loss_0.012904.keras\"\n",
    "    },\n",
    "}\n"
   ]
  },
  {
   "cell_type": "code",
   "execution_count": 3,
   "id": "50379850",
   "metadata": {},
   "outputs": [
    {
     "name": "stdout",
     "output_type": "stream",
     "text": [
      "==========================\n",
      "===   Config created   ===\n",
      "==========================\n"
     ]
    }
   ],
   "source": [
    "##===================================##\n",
    "##   Load and validate full config   ##\n",
    "##===================================##\n",
    "\n",
    "##  Create config object containing default values\n",
    "cfg = config.Config(backend.DEFAULT_CONFIG)\n",
    "\n",
    "##  Override with custom values\n",
    "cfg.load_dict(custom_config)\n",
    "\n",
    "##  Validate config\n",
    "backend.validate_config(cfg)\n",
    "\n",
    "##  Print success\n",
    "print(utils.fancy_message(f\"Config created\"))\n",
    "\n",
    "##  For convenience, split configs for different sections\n",
    "cfg_global   = cfg[\"global\"  ]\n",
    "cfg_data     = cfg[\"data\"    ]\n",
    "cfg_model    = cfg[\"models\"  ]\n",
    "cfg_training = cfg[\"training\"]\n"
   ]
  },
  {
   "cell_type": "code",
   "execution_count": 4,
   "id": "5400f9de",
   "metadata": {},
   "outputs": [
    {
     "name": "stdout",
     "output_type": "stream",
     "text": [
      "===============================================================================\n",
      "===   Working directory created at multi_loop_investigation_2023_06_28_v7   ===\n",
      "===============================================================================\n",
      "   INFO initialise_logging: Begin logging on 2023-06-28 at 18:53:47\n",
      "   INFO initialise_program: Program description: multi_loop_investigation (notebook)\n",
      "   INFO initialise_program: Working directory: multi_loop_investigation_2023_06_28_v7\n",
      "   INFO log_versions: ------------------------------------------------------+------------------------------------------------------\n",
      "   INFO log_versions:                                              PACKAGE  |  VERSION\n",
      "   INFO log_versions: ------------------------------------------------------+------------------------------------------------------\n",
      "   INFO log_versions:                                               Python  |  3.11.3 (main, May 15 2023, 18:01:31) [Clang 14.0.6 ]\n",
      "   INFO log_versions:                                              IPython  |  8.14.0\n",
      "   INFO log_versions:                                 IPython.core.release  |  8.14.0\n",
      "   INFO log_versions:                                                  PIL  |  9.5.0\n",
      "   INFO log_versions:                                            PIL.Image  |  9.5.0\n",
      "   INFO log_versions:                                       PIL._deprecate  |  9.5.0\n",
      "   INFO log_versions:                                         PIL._version  |  9.5.0\n",
      "   INFO log_versions:                                                 _csv  |  1.0\n",
      "   INFO log_versions:                                              _ctypes  |  1.1.0\n",
      "   INFO log_versions:                                              _curses  |  b'2.2'\n",
      "   INFO log_versions:                                              decimal  |  1.70\n",
      "   INFO log_versions:                               _pydev_bundle.fsnotify  |  0.1.5\n",
      "   INFO log_versions:                 _pydevd_frame_eval.vendored.bytecode  |  0.13.0.dev\n",
      "   INFO log_versions:                                              appnope  |  0.1.3\n",
      "   INFO log_versions:                                             argparse  |  1.1\n",
      "   INFO log_versions:                                           astunparse  |  1.6.3\n",
      "   INFO log_versions:                                             backcall  |  0.2.0\n",
      "   INFO log_versions:                                              certifi  |  2023.05.07\n",
      "   INFO log_versions:                                                 cffi  |  1.15.1\n",
      "   INFO log_versions:                                   charset_normalizer  |  3.1.0\n",
      "   INFO log_versions:                           charset_normalizer.version  |  3.1.0\n",
      "   INFO log_versions:                                                 comm  |  0.1.3\n",
      "   INFO log_versions:                                                  csv  |  1.0\n",
      "   INFO log_versions:                                               ctypes  |  1.1.0\n",
      "   INFO log_versions:                                      ctypes.macholib  |  1.0\n",
      "   INFO log_versions:                                               cycler  |  0.10.0\n",
      "   INFO log_versions:                                             dateutil  |  2.8.2\n",
      "   INFO log_versions:                                              debugpy  |  1.6.7\n",
      "   INFO log_versions:                                   debugpy.public_api  |  1.6.7\n",
      "   INFO log_versions:                                              decimal  |  1.70\n",
      "   INFO log_versions:                                            decorator  |  5.1.1\n",
      "   INFO log_versions:                                           defusedxml  |  0.7.1\n",
      "   INFO log_versions:                                            distutils  |  3.11.3\n",
      "   INFO log_versions:                                            executing  |  1.2.0\n",
      "   INFO log_versions:                                    executing.version  |  1.2.0\n",
      "   INFO log_versions:                                          flatbuffers  |  23.5.26\n",
      "   INFO log_versions:                                 flatbuffers._version  |  23.5.26\n",
      "   INFO log_versions:                                      google.protobuf  |  4.23.3\n",
      "   INFO log_versions:                                                 h5py  |  3.9.0\n",
      "   INFO log_versions:                                          http.server  |  0.6\n",
      "   INFO log_versions:                                                 idna  |  3.4\n",
      "   INFO log_versions:                                        idna.idnadata  |  15.0.0\n",
      "   INFO log_versions:                                    idna.package_data  |  3.4\n",
      "   INFO log_versions:                                            ipaddress  |  1.0\n",
      "   INFO log_versions:                                            ipykernel  |  6.23.3\n",
      "   INFO log_versions:                                   ipykernel._version  |  6.23.3\n",
      "   INFO log_versions:                                                 jedi  |  0.18.2\n",
      "   INFO log_versions:                                                 json  |  2.0.9\n",
      "   INFO log_versions:                                       jupyter_client  |  8.3.0\n",
      "   INFO log_versions:                              jupyter_client._version  |  8.3.0\n",
      "   INFO log_versions:                                         jupyter_core  |  5.3.1\n",
      "   INFO log_versions:                                 jupyter_core.version  |  5.3.1\n",
      "   INFO log_versions:                                                keras  |  2.12.0\n",
      "   INFO log_versions:                                  keras.api._v2.keras  |  2.12.0\n",
      "   INFO log_versions:                                      keras.api.keras  |  2.12.0\n",
      "   INFO log_versions:                                           kiwisolver  |  1.4.4\n",
      "   INFO log_versions:                                     kiwisolver._cext  |  1.4.4\n",
      "   INFO log_versions:                                              logging  |  0.5.1.2\n",
      "   INFO log_versions:                                           matplotlib  |  3.7.1\n",
      "   INFO log_versions:                                  matplotlib._version  |  3.7.1\n",
      "   INFO log_versions:                                                numpy  |  1.23.5\n",
      "   INFO log_versions:                                           numpy.core  |  1.23.5\n",
      "   INFO log_versions:                         numpy.core._multiarray_umath  |  3.1\n",
      "   INFO log_versions:                                            numpy.lib  |  1.23.5\n",
      "   INFO log_versions:                           numpy.linalg._umath_linalg  |  0.1.5\n",
      "   INFO log_versions:                                        numpy.version  |  1.23.5\n",
      "   INFO log_versions:                                           opt_einsum  |  v3.3.0\n",
      "   INFO log_versions:                                            packaging  |  23.1\n",
      "   INFO log_versions:                                                parso  |  0.8.3\n",
      "   INFO log_versions:                                              pexpect  |  4.8.0\n",
      "   INFO log_versions:                                          pickleshare  |  0.7.5\n",
      "   INFO log_versions:                 pkg_resources._vendor.more_itertools  |  9.0.0\n",
      "   INFO log_versions:                      pkg_resources._vendor.packaging  |  23.0\n",
      "   INFO log_versions:                   pkg_resources._vendor.platformdirs  |  2.6.2\n",
      "   INFO log_versions:           pkg_resources._vendor.platformdirs.version  |  2.6.2\n",
      "   INFO log_versions:                 pkg_resources._vendor.more_itertools  |  9.0.0\n",
      "   INFO log_versions:                      pkg_resources._vendor.packaging  |  23.0\n",
      "   INFO log_versions:                   pkg_resources._vendor.platformdirs  |  2.6.2\n",
      "   INFO log_versions:                                             platform  |  1.0.8\n",
      "   INFO log_versions:                                         platformdirs  |  3.8.0\n",
      "   INFO log_versions:                                 platformdirs.version  |  3.8.0\n",
      "   INFO log_versions:                                       prompt_toolkit  |  3.0.38\n",
      "   INFO log_versions:                                               psutil  |  5.9.5\n",
      "   INFO log_versions:                                           ptyprocess  |  0.7.0\n",
      "   INFO log_versions:                                            pure_eval  |  0.2.2\n",
      "   INFO log_versions:                                    pure_eval.version  |  0.2.2\n"
     ]
    },
    {
     "name": "stdout",
     "output_type": "stream",
     "text": [
      "   INFO log_versions:                                               pydevd  |  2.9.5\n",
      "   INFO log_versions:                                             pygments  |  2.15.1\n",
      "   INFO log_versions:                                            pyparsing  |  3.1.0\n",
      "   INFO log_versions:                                                   re  |  2.2.1\n",
      "   INFO log_versions:                                             requests  |  2.31.0\n",
      "   INFO log_versions:                                 requests.__version__  |  2.31.0\n",
      "   INFO log_versions:                                                 idna  |  3.4\n",
      "   INFO log_versions:                                        idna.idnadata  |  15.0.0\n",
      "   INFO log_versions:                                    idna.package_data  |  3.4\n",
      "   INFO log_versions:                                              urllib3  |  1.26.16\n",
      "   INFO log_versions:                                     urllib3._version  |  1.26.16\n",
      "   INFO log_versions:                                   urllib3.connection  |  1.26.16\n",
      "   INFO log_versions:                                 urllib3.packages.six  |  1.16.0\n",
      "   INFO log_versions:                      urllib3.util.ssl_match_hostname  |  3.5.0.1\n",
      "   INFO log_versions:                                       requests.utils  |  2.31.0\n",
      "   INFO log_versions:                                                scipy  |  1.11.0\n",
      "   INFO log_versions:                                 scipy._lib.decorator  |  4.0.5\n",
      "   INFO log_versions:                                  scipy.linalg._fblas  |  1.23.2\n",
      "   INFO log_versions:                                scipy.linalg._flapack  |  1.23.2\n",
      "   INFO log_versions:                                scipy.linalg._flinalg  |  1.23.2\n",
      "   INFO log_versions:            scipy.sparse.linalg._eigen.arpack._arpack  |  1.23.2\n",
      "   INFO log_versions:               scipy.sparse.linalg._isolve._iterative  |  1.23.2\n",
      "   INFO log_versions:                               scipy.special._specfun  |  1.23.2\n",
      "   INFO log_versions:                                           setuptools  |  67.8.0\n",
      "   INFO log_versions:                                            distutils  |  3.11.3\n",
      "   INFO log_versions:                    setuptools._vendor.more_itertools  |  8.8.0\n",
      "   INFO log_versions:                       setuptools._vendor.ordered_set  |  3.1\n",
      "   INFO log_versions:                         setuptools._vendor.packaging  |  23.0\n",
      "   INFO log_versions:                    setuptools._vendor.more_itertools  |  8.8.0\n",
      "   INFO log_versions:                       setuptools._vendor.ordered_set  |  3.1\n",
      "   INFO log_versions:                         setuptools._vendor.packaging  |  23.0\n",
      "   INFO log_versions:                                   setuptools.version  |  67.8.0\n",
      "   INFO log_versions:                                                  six  |  1.16.0\n",
      "   INFO log_versions:                                         socketserver  |  0.4\n",
      "   INFO log_versions:                                           stack_data  |  0.6.2\n",
      "   INFO log_versions:                                   stack_data.version  |  0.6.2\n",
      "   INFO log_versions:                                          tensorboard  |  2.12.3\n",
      "   INFO log_versions:                   tensorboard.compat.tensorflow_stub  |  stub\n",
      "   INFO log_versions: tensorboard.compat.tensorflow_stub.pywrap_tensorflow  |  0\n",
      "   INFO log_versions:                                           tensorflow  |  2.12.0\n",
      "   INFO log_versions:                         tensorflow._api.v2.compat.v1  |  2.12.0\n",
      "   INFO log_versions:               tensorflow._api.v2.compat.v1.compat.v1  |  2.12.0\n",
      "   INFO log_versions:               tensorflow._api.v2.compat.v1.compat.v2  |  2.12.0\n",
      "   INFO log_versions:                         tensorflow._api.v2.compat.v2  |  2.12.0\n",
      "   INFO log_versions:               tensorflow._api.v2.compat.v2.compat.v1  |  2.12.0\n",
      "   INFO log_versions:               tensorflow._api.v2.compat.v2.compat.v2  |  2.12.0\n",
      "   INFO log_versions:                                 tensorflow.compat.v1  |  2.12.0\n",
      "   INFO log_versions:                       tensorflow.compat.v1.compat.v1  |  2.12.0\n",
      "   INFO log_versions:                       tensorflow.compat.v1.compat.v2  |  2.12.0\n",
      "   INFO log_versions:                                 tensorflow.compat.v2  |  2.12.0\n",
      "   INFO log_versions:                       tensorflow.compat.v2.compat.v1  |  2.12.0\n",
      "   INFO log_versions:                       tensorflow.compat.v2.compat.v2  |  2.12.0\n",
      "   INFO log_versions:                                     tensorflow.keras  |  2.12.0\n",
      "   INFO log_versions:           tensorflow.python.client.pywrap_tf_session  |  2.12.0\n",
      "   INFO log_versions:                 tensorflow.python.framework.versions  |  2.12.0\n",
      "   INFO log_versions:                              tensorflow.python.keras  |  2.6.0\n",
      "   INFO log_versions:                                            traitlets  |  5.9.0\n",
      "   INFO log_versions:                                   traitlets._version  |  5.9.0\n",
      "   INFO log_versions:                                       urllib.request  |  3.11\n",
      "   INFO log_versions:                                              urllib3  |  1.26.16\n",
      "   INFO log_versions:                                     urllib3._version  |  1.26.16\n",
      "   INFO log_versions:                                   urllib3.connection  |  1.26.16\n",
      "   INFO log_versions:                                 urllib3.packages.six  |  1.16.0\n",
      "   INFO log_versions:                      urllib3.util.ssl_match_hostname  |  3.5.0.1\n",
      "   INFO log_versions:                                              wcwidth  |  0.2.6\n",
      "   INFO log_versions:                                                wrapt  |  1.14.1\n",
      "   INFO log_versions:                                        xmlrpc.client  |  3.11\n",
      "   INFO log_versions:                                                 zlib  |  1.0\n",
      "   INFO log_versions:                                                  zmq  |  25.1.0\n",
      "   INFO log_versions:                                            zmq.sugar  |  25.1.0\n",
      "   INFO log_versions:                                    zmq.sugar.version  |  25.1.0\n",
      "   INFO log_versions: ------------------------------------------------------+------------------------------------------------------\n",
      "   INFO initialise_program: Registered config value global > base_seed: -1\n",
      "   INFO initialise_program: Registered config value global > working_dir: multi_loop_investigation_[date]\n",
      "   INFO initialise_program: Registered config value global > problem_tag: int1234_num1245\n",
      "   INFO initialise_program: Registered config value global > log_lvl_iostream: 20\n",
      "   INFO initialise_program: Registered config value global > log_lvl_fstream: 10\n",
      "   INFO initialise_program: Registered config value global > model_tag: loop_idem2\n",
      "   INFO initialise_program: Registered config value data > train_data > int_lengths: [1, 2, 3, 4]\n",
      "   INFO initialise_program: Registered config value data > train_data > num_ints: [1, 2, 4, 5]\n",
      "   INFO initialise_program: Registered config value data > train_data > batch_size: 32\n",
      "   INFO initialise_program: Registered config value data > train_data > num_batches: 2000\n",
      "   INFO initialise_program: Registered config value data > train_data > gen_base_seed: 104\n",
      "   INFO initialise_program: Registered config value data > train_data > gen_reproducible: False\n",
      "   INFO initialise_program: Registered config value data > val_data > int_lengths: [1, 2, 3, 4]\n",
      "   INFO initialise_program: Registered config value data > val_data > num_ints: [3]\n",
      "   INFO initialise_program: Registered config value data > val_data > batch_size: 32\n",
      "   INFO initialise_program: Registered config value data > val_data > num_batches: 50\n",
      "   INFO initialise_program: Registered config value data > val_data > gen_base_seed: 105\n",
      "   INFO initialise_program: Registered config value data > val_data > gen_reproducible: True\n",
      "   INFO initialise_program: Registered config value data > test_data > int_lengths: [2]\n",
      "   INFO initialise_program: Registered config value data > test_data > num_ints: [4]\n",
      "   INFO initialise_program: Registered config value data > test_data > batch_size: 32\n",
      "   INFO initialise_program: Registered config value data > test_data > num_batches: 10\n",
      "   INFO initialise_program: Registered config value data > test_data > gen_base_seed: 200\n"
     ]
    },
    {
     "name": "stdout",
     "output_type": "stream",
     "text": [
      "   INFO initialise_program: Registered config value data > test_data > gen_reproducible: True\n",
      "   INFO initialise_program: Registered config value data > characters: ['M', 'B', 'E', 'N', '0', '1', '2', '3', '4', '5', '6', '7', '8', '9', '+', '-']\n",
      "   INFO initialise_program: Registered config value data > mask_char: M\n",
      "   INFO initialise_program: Registered config value data > seq_start_char: B\n",
      "   INFO initialise_program: Registered config value data > seq_end_char: E\n",
      "   INFO initialise_program: Registered config value data > negative_char: N\n",
      "   INFO initialise_program: Registered config value data > dtype: int32\n",
      "   INFO initialise_program: Registered config value model > load_pretrained_model: None\n",
      "   INFO initialise_program: Registered config value model > name: mathsformer_LLM\n",
      "   INFO initialise_program: Registered config value model > dtype: float32\n",
      "   INFO initialise_program: Registered config value model > dropout: 0.1\n",
      "   INFO initialise_program: Registered config value model > jit_compile: False\n",
      "   INFO initialise_program: Registered config value model > use_old_loss: True\n",
      "   INFO initialise_program: Registered config value model > optimizer: <class 'keras.optimizers.adamw.AdamW'>\n",
      "   INFO initialise_program: Registered config value model > optimizer_args > learning_rate: 0.0001\n",
      "   INFO initialise_program: Registered config value model > optimizer_args > weight_decay: 0.02\n",
      "   INFO initialise_program: Registered config value model > idempotent_size: 2\n",
      "   INFO initialise_program: Registered config value model > positional_encoding > num_freqs: 64\n",
      "   INFO initialise_program: Registered config value model > positional_encoding > min_period: 4\n",
      "   INFO initialise_program: Registered config value model > positional_encoding > max_period: 1000\n",
      "   INFO initialise_program: Registered config value model > positional_encoding > learnable: True\n",
      "   INFO initialise_program: Registered config value model > ndim_embedding: 128\n",
      "   INFO initialise_program: Registered config value model > comb_type: mixture\n",
      "   INFO initialise_program: Registered config value model > pre_encoder > num_blocks: -1\n",
      "   INFO initialise_program: Registered config value model > pre_encoder > num_loops: 1\n",
      "   INFO initialise_program: Registered config value model > pre_encoder > num_heads: 8\n",
      "   INFO initialise_program: Registered config value model > pre_encoder > ndim: 128\n",
      "   INFO initialise_program: Registered config value model > pre_encoder > ndim_att_hidden: 128\n",
      "   INFO initialise_program: Registered config value model > pre_encoder > ndim_ff_hidden: 512\n",
      "   INFO initialise_program: Registered config value model > pre_encoder > skip_connect: True\n",
      "   INFO initialise_program: Registered config value model > pre_encoder > mixture_skip_connect: True\n",
      "   INFO initialise_program: Registered config value model > encoder > num_blocks: 2\n",
      "   INFO initialise_program: Registered config value model > encoder > num_loops: 4\n",
      "   INFO initialise_program: Registered config value model > encoder > num_heads: 8\n",
      "   INFO initialise_program: Registered config value model > encoder > ndim: 128\n",
      "   INFO initialise_program: Registered config value model > encoder > ndim_att_hidden: 128\n",
      "   INFO initialise_program: Registered config value model > encoder > ndim_ff_hidden: 512\n",
      "   INFO initialise_program: Registered config value model > encoder > skip_connect: True\n",
      "   INFO initialise_program: Registered config value model > encoder > mixture_skip_connect: True\n",
      "   INFO initialise_program: Registered config value model > decoder > num_blocks: 3\n",
      "   INFO initialise_program: Registered config value model > decoder > num_loops: 1\n",
      "   INFO initialise_program: Registered config value model > decoder > num_heads: 8\n",
      "   INFO initialise_program: Registered config value model > decoder > ndim: 128\n",
      "   INFO initialise_program: Registered config value model > decoder > ndim_att_hidden: 128\n",
      "   INFO initialise_program: Registered config value model > decoder > ndim_ff_hidden: 512\n",
      "   INFO initialise_program: Registered config value model > decoder > skip_connect: True\n",
      "   INFO initialise_program: Registered config value model > decoder > mixture_skip_connect: True\n",
      "   INFO initialise_program: Registered config value model > post_decoder > num_layers: 3\n",
      "   INFO initialise_program: Registered config value model > post_decoder > ndim: 512\n",
      "   INFO initialise_program: Registered config value training > train: True\n",
      "   INFO initialise_program: Registered config value training > max_epochs: 100000\n",
      "   INFO initialise_program: Registered config value training > log_after_epoch > do: True\n",
      "   INFO initialise_program: Registered config value training > log_after_epoch > log_lvl: 10\n",
      "   INFO initialise_program: Registered config value training > early_stopping > do: True\n",
      "   INFO initialise_program: Registered config value training > early_stopping > patience: 6\n",
      "   INFO initialise_program: Registered config value training > early_stopping > monitor: loss\n",
      "   INFO initialise_program: Registered config value training > early_stopping > mode: min\n",
      "   INFO initialise_program: Registered config value training > early_stopping > restore_best_weights: True\n",
      "   INFO initialise_program: Registered config value training > model_checkpoint > do: True\n",
      "   INFO initialise_program: Registered config value training > model_checkpoint > filename: model_checkpoint_epoch{epoch}_val_loss_{val_loss:.5}.keras\n",
      "   INFO initialise_program: Registered config value training > layer_weights_record > do: False\n",
      "   INFO initialise_program: Registered config value training > layer_weights_record > batch_frequency: 2000\n",
      "   INFO initialise_program: Registered config value training > layer_weights_record > recursive: True\n",
      "   INFO initialise_program: Registered config value training > adaptive_learning_rate > do: True\n",
      "   INFO initialise_program: Registered config value training > adaptive_learning_rate > decay_factor: 0.2\n",
      "   INFO initialise_program: Registered config value training > adaptive_learning_rate > monitor: loss\n",
      "   INFO initialise_program: Registered config value training > adaptive_learning_rate > mode: min\n",
      "   INFO initialise_program: Registered config value training > adaptive_learning_rate > patience: 2\n",
      "   INFO initialise_program: Registered config value training > adaptive_learning_rate > log_lvl: 10\n",
      "   INFO initialise_program: Registered config value training > print_tables_during_training > do: True\n",
      "   INFO initialise_program: Registered config value training > print_tables_during_training > num_print: 10\n",
      "   INFO initialise_program: Registered config value evaluate > num_print: 50\n",
      "   INFO initialise_program: Registered config value evaluate > save_model: True\n",
      "   INFO initialise_program: Registered config value evaluate > plot_weights: False\n",
      "   INFO initialise_program: Registered config value evaluate > plot_training_curves: True\n",
      "   INFO initialise_program: Registered config value models > num_loops: 13\n",
      "   INFO initialise_program: Registered config value models > loop_idem0: save/SSL_loopy_enc_dec_notebook_int1234_num1245_embed128_enc_2blocks_5loops_width512_dec_2blocks_1loops_width512_post3_width512_idemm1_2023_06_25_v2/final_model.keras\n",
      "   INFO initialise_program: Registered config value models > loop_idem2: SSL_loopy_enc_dec_notebook_int1234_num1245_embed128_enc_2blocks_5loops_width512_dec_2blocks_1loops_width512_post3_width512_idem2_2023_06_27/model_checkpoint_epoch101_val_loss_0.012904.keras\n",
      "   INFO initialise_program: Python random seed set: 1687974827\n",
      "   INFO initialise_program: Numpy random seed set: 1687974828\n",
      "   INFO initialise_program: TensorFlow random seed set: 1687974829\n"
     ]
    }
   ],
   "source": [
    "##==============================##\n",
    "##   Create working directory   ##\n",
    "##==============================##\n",
    "\n",
    "##  Report success\n",
    "working_dir, logger, base_seed, np_seed, tf_seed = utils.initialise_program(\n",
    "    \"multi_loop_investigation (notebook)\", \n",
    "    working_dir       = cfg_global[\"working_dir\"], \n",
    "    cfg               = cfg,\n",
    "    base_seed         = cfg_global[\"base_seed\"],\n",
    "    log_lvl_iostream  = cfg_global[\"log_lvl_iostream\"],\n",
    "    log_lvl_fstream   = cfg_global[\"log_lvl_fstream\" ],\n",
    ")\n"
   ]
  },
  {
   "cell_type": "code",
   "execution_count": 5,
   "id": "4fb1ead6",
   "metadata": {},
   "outputs": [
    {
     "name": "stderr",
     "output_type": "stream",
     "text": [
      "WARNING:absl:At this time, the v2.11+ optimizer `tf.keras.optimizers.AdamW` runs slowly on M1/M2 Macs, please use the legacy Keras optimizer instead, located at `tf.keras.optimizers.legacy.AdamW`.\n"
     ]
    }
   ],
   "source": [
    "##======================##\n",
    "##   Create model   ##\n",
    "##======================##\n",
    "\n",
    "model_tag   = cfg_global[\"model_tag\"]\n",
    "model_fname = cfg_model[model_tag]\n",
    "\n",
    "base_model = backend.load_text_to_text_model(model_fname)\n"
   ]
  },
  {
   "cell_type": "code",
   "execution_count": 6,
   "id": "fac538c8",
   "metadata": {},
   "outputs": [
    {
     "name": "stdout",
     "output_type": "stream",
     "text": [
      "mathsformer_LLM_encoder_input_layer\n",
      "mathsformer_LLM_encoder_enumerate\n",
      "mathsformer_LLM_encoder_embedding\n",
      "mathsformer_LLM_encoder_position_encoding\n",
      "mathsformer_LLM_encoder_emb_and_pos\n",
      "mathsformer_LLM_encoder_block_1\n",
      "mathsformer_LLM_encoder_block_2\n",
      "mathsformer_LLM_decoder_input_layer\n",
      "mathsformer_LLM_decoder_enumerate\n",
      "mathsformer_LLM_decoder_embedding\n",
      "mathsformer_LLM_decoder_position_encoding\n",
      "mathsformer_LLM_decoder_emb_and_pos\n",
      "mathsformer_LLM_encoder_output_norm\n",
      "mathsformer_LLM_encoder_output_norm_idem0\n",
      "mathsformer_LLM_encoder_output_norm_idem1\n",
      "mathsformer_LLM_decoder_block_1\n",
      "mathsformer_LLM_decoder_block_2\n",
      "mathsformer_LLM_output\n"
     ]
    }
   ],
   "source": [
    "for layer in base_model.layers :\n",
    "    print(layer.name)\n",
    "    \n",
    "layers = {layer.name:layer for layer in base_model.layers}"
   ]
  },
  {
   "cell_type": "code",
   "execution_count": 7,
   "id": "5db88ff0",
   "metadata": {},
   "outputs": [],
   "source": [
    "from tensorflow.keras.layers import Input\n",
    "from tensorflow.keras.models import Model\n",
    "    \n",
    "x_in_enc = Input((None,), dtype=tf.int32, name=f\"multi_loop_encoder_input_layer\")\n",
    "x_in_dec = Input((None,), dtype=tf.int32, name=f\"multi_loop_decoder_input_layer\")\n",
    "\n",
    "x_enc1 = layers[\"mathsformer_LLM_encoder_embedding\"        ](x_in_enc)\n",
    "x_enc2 = layers[\"mathsformer_LLM_encoder_enumerate\"        ](x_in_enc)\n",
    "x_enc2 = layers[\"mathsformer_LLM_encoder_position_encoding\"](x_enc2)\n",
    "x_enc  = layers[\"mathsformer_LLM_encoder_emb_and_pos\"      ]([x_enc1, x_enc2])\n",
    "\n",
    "x_dec  = x_in_dec\n",
    "x_dec1 = layers[\"mathsformer_LLM_decoder_embedding\"        ](x_in_dec)\n",
    "x_dec2 = layers[\"mathsformer_LLM_decoder_enumerate\"        ](x_in_dec)\n",
    "x_dec2 = layers[\"mathsformer_LLM_decoder_position_encoding\"](x_dec2)\n",
    "x_dec  = layers[\"mathsformer_LLM_decoder_emb_and_pos\"      ]([x_dec1, x_dec2])\n",
    "\n",
    "loop_models = {-1:base_model}\n",
    "for num_loops in range(1, cfg_model[\"num_loops\"]) :\n",
    "    x_enc_this, x_dec_this = x_enc, x_dec\n",
    "    for loop_idx in range(num_loops) :\n",
    "        x_enc_this = layers[\"mathsformer_LLM_encoder_block_1\"](x_enc_this)\n",
    "        x_enc_this = layers[\"mathsformer_LLM_encoder_block_2\"](x_enc_this)\n",
    "    x_enc_this = layers[\"mathsformer_LLM_encoder_output_norm\"](x_enc_this)\n",
    "    x_dec_this = layers[\"mathsformer_LLM_decoder_block_1\"]([x_dec_this, x_enc_this])\n",
    "    x_dec_this = layers[\"mathsformer_LLM_decoder_block_2\"]([x_dec_this, x_enc_this])\n",
    "    x_out = layers[\"mathsformer_LLM_output\"](x_dec_this)\n",
    "    model = Model([x_in_enc, x_in_dec], x_out, name=f\"multi_loop_model_{num_loops}loops\")\n",
    "    acc   = tfo.MaskedCategoricalAccuracy(scalar_output=True, equal_token_weight=True, use_keras_mask=False, mask_value=0)\n",
    "    loss  = tfo.MaskedSparseCategoricalCrossentropy(scalar_output=True, equal_token_weight=True, use_keras_mask=False, mask_value=0, from_logits=True)\n",
    "    model.compile(loss=loss, metrics=[acc])\n",
    "    loop_models[num_loops] = model\n",
    "    "
   ]
  },
  {
   "cell_type": "code",
   "execution_count": 8,
   "id": "80ff73db",
   "metadata": {},
   "outputs": [
    {
     "name": "stdout",
     "output_type": "stream",
     "text": [
      "   INFO summary: TokenTransform of dtype int32 with 16 characters: ['M', 'B', 'E', 'N', '0', '1', '2', '3', '4', '5', '6', '7', '8', '9', '+', '-']\n"
     ]
    },
    {
     "name": "stderr",
     "output_type": "stream",
     "text": [
      "INFO:mathsformer:TokenTransform of dtype int32 with 16 characters: ['M', 'B', 'E', 'N', '0', '1', '2', '3', '4', '5', '6', '7', '8', '9', '+', '-']\n"
     ]
    },
    {
     "name": "stdout",
     "output_type": "stream",
     "text": [
      "   INFO summary: Special characters are seq_start_char (B), seq_end_char (E), mask_char (M)\n"
     ]
    },
    {
     "name": "stderr",
     "output_type": "stream",
     "text": [
      "INFO:mathsformer:Special characters are seq_start_char (B), seq_end_char (E), mask_char (M)\n"
     ]
    },
    {
     "name": "stdout",
     "output_type": "stream",
     "text": [
      "   INFO summary: Tokeniser dictionary is {'M': 0, 'B': 1, 'E': 2, 'N': 3, '0': 4, '1': 5, '2': 6, '3': 7, '4': 8, '5': 9, '6': 10, '7': 11, '8': 12, '9': 13, '+': 14, '-': 15}\n"
     ]
    },
    {
     "name": "stderr",
     "output_type": "stream",
     "text": [
      "INFO:mathsformer:Tokeniser dictionary is {'M': 0, 'B': 1, 'E': 2, 'N': 3, '0': 4, '1': 5, '2': 6, '3': 7, '4': 8, '5': 9, '6': 10, '7': 11, '8': 12, '9': 13, '+': 14, '-': 15}\n"
     ]
    },
    {
     "name": "stdout",
     "output_type": "stream",
     "text": [
      "   INFO summary: Detokeniser dictionary is {0: 'M', 1: 'B', 2: 'E', 3: 'N', 4: '0', 5: '1', 6: '2', 7: '3', 8: '4', 9: '5', 10: '6', 11: '7', 12: '8', 13: '9', 14: '+', 15: '-'}\n"
     ]
    },
    {
     "name": "stderr",
     "output_type": "stream",
     "text": [
      "INFO:mathsformer:Detokeniser dictionary is {0: 'M', 1: 'B', 2: 'E', 3: 'N', 4: '0', 5: '1', 6: '2', 7: '3', 8: '4', 9: '5', 10: '6', 11: '7', 12: '8', 13: '9', 14: '+', 15: '-'}\n"
     ]
    }
   ],
   "source": [
    "##======================##\n",
    "##   Create tokeniser   ##\n",
    "##======================##\n",
    "\n",
    "token_transform = data.TokenTransform.from_dictionary(cfg_data)\n",
    "token_transform.summary(print_fn=logger.info)\n"
   ]
  },
  {
   "cell_type": "code",
   "execution_count": 9,
   "id": "8f6e9efa",
   "metadata": {
    "scrolled": false
   },
   "outputs": [
    {
     "name": "stdout",
     "output_type": "stream",
     "text": [
      "Running (-1 , 4 , 2)"
     ]
    },
    {
     "name": "stderr",
     "output_type": "stream",
     "text": [
      "2023-06-28 18:54:02.193106: W tensorflow/tsl/platform/profile_utils/cpu_utils.cc:128] Failed to get CPU frequency: 0 Hz\n"
     ]
    },
    {
     "name": "stdout",
     "output_type": "stream",
     "text": [
      "  ---->  0.9625\n",
      "Running (1 , 4 , 2)  ---->  0.003125\n",
      "Running (2 , 4 , 2)  ---->  0.00625\n",
      "Running (3 , 4 , 2)  ---->  0.215625\n",
      "Running (4 , 4 , 2)  ---->  0.840625\n",
      "Running (5 , 4 , 2)  ---->  0.9625\n",
      "Running (6 , 4 , 2)  ---->  0.990625\n",
      "Running (7 , 4 , 2)  ---->  0.99375\n",
      "Running (8 , 4 , 2)  ---->  0.99375\n",
      "Running (9 , 4 , 2)  ---->  0.965625\n",
      "Running (10 , 4 , 2)  ---->  0.89375\n",
      "Running (11 , 4 , 2)  ---->  0.790625\n",
      "Running (12 , 4 , 2)  ---->  0.603125\n"
     ]
    }
   ],
   "source": [
    "\n",
    "num_ints    = cfg_data[\"test_data\"][\"num_ints\"]\n",
    "int_lengths = cfg_data[\"test_data\"][\"int_lengths\"]\n",
    "\n",
    "model_token_accs, model_result_accs = {}, {}\n",
    "\n",
    "for num_loops, model in loop_models.items() :\n",
    "    \n",
    "    token_accs, result_accs = [], []\n",
    "\n",
    "    for N in num_ints :\n",
    "\n",
    "        token_accs .append([])\n",
    "        result_accs.append([])\n",
    "\n",
    "        for L in int_lengths :\n",
    "\n",
    "            sys.stdout.write(f\"Running ({num_loops} , {N} , {L})\")\n",
    "\n",
    "            data_gen = data.RandomDataGenerator_Addition(\n",
    "                                            token_transform = token_transform, \n",
    "                                            int_lengths     = [L],\n",
    "                                            num_ints        = [N],\n",
    "                                            batch_size      = cfg_data[\"test_data\"][\"batch_size\"],\n",
    "                                            num_batches     = cfg_data[\"test_data\"][\"num_batches\"],\n",
    "                                            base_seed       = cfg_data[\"test_data\"][\"gen_base_seed\"],\n",
    "                                            reproducible    = cfg_data[\"test_data\"][\"gen_reproducible\"],\n",
    "                                            negative_char   = cfg_data[\"negative_char\"],)\n",
    "\n",
    "            '''evals = model.evaluate(data_gen, verbose=0)\n",
    "            if \"masked_categorical_accuracy\" in model.metrics_names :\n",
    "                metric_idx = model.metrics_names.index(\"masked_categorical_accuracy\")\n",
    "            else : \n",
    "                metric_idx = model.metrics_names.index(\"mathsformer_LLM_output_masked_categorical_accuracy\")\n",
    "            token_accs[-1].append(evals[metric_idx])'''\n",
    "\n",
    "            Nt, Nf = 0, 0\n",
    "            for X, Y_true in data_gen :\n",
    "                Y_true = Y_true.numpy()\n",
    "                Y_pred = model.predict(X, verbose=0)\n",
    "                if type(Y_pred) is list :\n",
    "                    Y_pred = Y_pred[0]\n",
    "                Y_pred = np.argmax(Y_pred, axis=-1)\n",
    "                for y_true, y_pred in zip(Y_true, Y_pred) :\n",
    "                    y_true, y_pred = y_true[y_true != 0], y_pred[y_true != 0]\n",
    "                    if (y_true == y_pred).all() : Nt += 1\n",
    "                    else : Nf += 1\n",
    "\n",
    "            acc = Nt / (Nt + Nf)\n",
    "            result_accs[-1].append(acc)\n",
    "            sys.stdout.write(f\"  ---->  {acc}\\n\")\n",
    "            \n",
    "        model_token_accs [num_loops] = token_accs\n",
    "        model_result_accs[num_loops] = result_accs\n"
   ]
  },
  {
   "cell_type": "code",
   "execution_count": 10,
   "id": "d0249f80",
   "metadata": {},
   "outputs": [
    {
     "data": {
      "text/plain": [
       "{-1: [[0.9625]],\n",
       " 1: [[0.003125]],\n",
       " 2: [[0.00625]],\n",
       " 3: [[0.215625]],\n",
       " 4: [[0.840625]],\n",
       " 5: [[0.9625]],\n",
       " 6: [[0.990625]],\n",
       " 7: [[0.99375]],\n",
       " 8: [[0.99375]],\n",
       " 9: [[0.965625]],\n",
       " 10: [[0.89375]],\n",
       " 11: [[0.790625]],\n",
       " 12: [[0.603125]]}"
      ]
     },
     "execution_count": 10,
     "metadata": {},
     "output_type": "execute_result"
    }
   ],
   "source": [
    "model_result_accs"
   ]
  },
  {
   "cell_type": "code",
   "execution_count": 11,
   "id": "e95fed8d",
   "metadata": {},
   "outputs": [
    {
     "name": "stdout",
     "output_type": "stream",
     "text": [
      "   INFO print_predictions_table: ---------------------------------------------------------------------------------\n"
     ]
    },
    {
     "name": "stderr",
     "output_type": "stream",
     "text": [
      "INFO:mathsformer:---------------------------------------------------------------------------------\n"
     ]
    },
    {
     "name": "stdout",
     "output_type": "stream",
     "text": [
      "   INFO print_predictions_table:            INPUT         TRUE   PRED(MASK)    PRED(GEN)      CORRECT     RESIDUAL\n"
     ]
    },
    {
     "name": "stderr",
     "output_type": "stream",
     "text": [
      "INFO:mathsformer:           INPUT         TRUE   PRED(MASK)    PRED(GEN)      CORRECT     RESIDUAL\n"
     ]
    },
    {
     "name": "stdout",
     "output_type": "stream",
     "text": [
      "   INFO print_predictions_table: ---------------------------------------------------------------------------------\n"
     ]
    },
    {
     "name": "stderr",
     "output_type": "stream",
     "text": [
      "INFO:mathsformer:---------------------------------------------------------------------------------\n"
     ]
    },
    {
     "name": "stdout",
     "output_type": "stream",
     "text": [
      "   INFO print_predictions_table:     14-89-78-N83          N70         N70E          N70          X              0\n"
     ]
    },
    {
     "name": "stderr",
     "output_type": "stream",
     "text": [
      "INFO:mathsformer:    14-89-78-N83          N70         N70E          N70          X              0\n"
     ]
    },
    {
     "name": "stdout",
     "output_type": "stream",
     "text": [
      "   INFO print_predictions_table:    N97-70-N73-50         N144         N144         N144          X              0\n"
     ]
    },
    {
     "name": "stderr",
     "output_type": "stream",
     "text": [
      "INFO:mathsformer:   N97-70-N73-50         N144         N144         N144          X              0\n"
     ]
    },
    {
     "name": "stdout",
     "output_type": "stream",
     "text": [
      "   INFO print_predictions_table:   N34+47-N98-N28          139         139E          139          X              0\n"
     ]
    },
    {
     "name": "stderr",
     "output_type": "stream",
     "text": [
      "INFO:mathsformer:  N34+47-N98-N28          139         139E          139          X              0\n"
     ]
    },
    {
     "name": "stdout",
     "output_type": "stream",
     "text": [
      "   INFO print_predictions_table:    N54-72+N14+52          N88         N88E          N88          X              0\n"
     ]
    },
    {
     "name": "stderr",
     "output_type": "stream",
     "text": [
      "INFO:mathsformer:   N54-72+N14+52          N88         N88E          N88          X              0\n"
     ]
    },
    {
     "name": "stdout",
     "output_type": "stream",
     "text": [
      "   INFO print_predictions_table:   N29+N85+21-N80          N13         N13E          N13          X              0\n"
     ]
    },
    {
     "name": "stderr",
     "output_type": "stream",
     "text": [
      "INFO:mathsformer:  N29+N85+21-N80          N13         N13E          N13          X              0\n"
     ]
    },
    {
     "name": "stdout",
     "output_type": "stream",
     "text": [
      "   INFO print_predictions_table:    21-N28-N17+53          119         119E          119          X              0\n"
     ]
    },
    {
     "name": "stderr",
     "output_type": "stream",
     "text": [
      "INFO:mathsformer:   21-N28-N17+53          119         119E          119          X              0\n"
     ]
    },
    {
     "name": "stdout",
     "output_type": "stream",
     "text": [
      "   INFO print_predictions_table:    N25-N51-67-19          N60         N60E          N60          X              0\n"
     ]
    },
    {
     "name": "stderr",
     "output_type": "stream",
     "text": [
      "INFO:mathsformer:   N25-N51-67-19          N60         N60E          N60          X              0\n"
     ]
    },
    {
     "name": "stdout",
     "output_type": "stream",
     "text": [
      "   INFO print_predictions_table:   N76+N77-32-N18         N167         N167         N167          X              0\n"
     ]
    },
    {
     "name": "stderr",
     "output_type": "stream",
     "text": [
      "INFO:mathsformer:  N76+N77-32-N18         N167         N167         N167          X              0\n"
     ]
    },
    {
     "name": "stdout",
     "output_type": "stream",
     "text": [
      "   INFO print_predictions_table:     28-33+88-N24          107         107E          107          X              0\n"
     ]
    },
    {
     "name": "stderr",
     "output_type": "stream",
     "text": [
      "INFO:mathsformer:    28-33+88-N24          107         107E          107          X              0\n"
     ]
    },
    {
     "name": "stdout",
     "output_type": "stream",
     "text": [
      "   INFO print_predictions_table:   N14+N35+N65-94         N208         N208         N208          X              0\n"
     ]
    },
    {
     "name": "stderr",
     "output_type": "stream",
     "text": [
      "INFO:mathsformer:  N14+N35+N65-94         N208         N208         N208          X              0\n"
     ]
    },
    {
     "name": "stdout",
     "output_type": "stream",
     "text": [
      "   INFO print_predictions_table:   N68+N64-N74+17          N41         N41E          N41          X              0\n"
     ]
    },
    {
     "name": "stderr",
     "output_type": "stream",
     "text": [
      "INFO:mathsformer:  N68+N64-N74+17          N41         N41E          N41          X              0\n"
     ]
    },
    {
     "name": "stdout",
     "output_type": "stream",
     "text": [
      "   INFO print_predictions_table:     N17+58-52-45          N56         N56E          N56          X              0\n"
     ]
    },
    {
     "name": "stderr",
     "output_type": "stream",
     "text": [
      "INFO:mathsformer:    N17+58-52-45          N56         N56E          N56          X              0\n"
     ]
    },
    {
     "name": "stdout",
     "output_type": "stream",
     "text": [
      "   INFO print_predictions_table:      47-89+93-92          N41         N41E          N41          X              0\n"
     ]
    },
    {
     "name": "stderr",
     "output_type": "stream",
     "text": [
      "INFO:mathsformer:     47-89+93-92          N41         N41E          N41          X              0\n"
     ]
    },
    {
     "name": "stdout",
     "output_type": "stream",
     "text": [
      "   INFO print_predictions_table:     25-34-N90-95          N14         N14E          N14          X              0\n"
     ]
    },
    {
     "name": "stderr",
     "output_type": "stream",
     "text": [
      "INFO:mathsformer:    25-34-N90-95          N14         N14E          N14          X              0\n"
     ]
    },
    {
     "name": "stdout",
     "output_type": "stream",
     "text": [
      "   INFO print_predictions_table:     14-94+72-N31           23         23EE           23          X              0\n"
     ]
    },
    {
     "name": "stderr",
     "output_type": "stream",
     "text": [
      "INFO:mathsformer:    14-94+72-N31           23         23EE           23          X              0\n"
     ]
    },
    {
     "name": "stdout",
     "output_type": "stream",
     "text": [
      "   INFO print_predictions_table:  N92-N60-N76+N98          N54         N54E          N54          X              0\n"
     ]
    },
    {
     "name": "stderr",
     "output_type": "stream",
     "text": [
      "INFO:mathsformer: N92-N60-N76+N98          N54         N54E          N54          X              0\n"
     ]
    },
    {
     "name": "stdout",
     "output_type": "stream",
     "text": [
      "   INFO print_predictions_table:    N85-30+46-N20          N49         N49E          N49          X              0\n"
     ]
    },
    {
     "name": "stderr",
     "output_type": "stream",
     "text": [
      "INFO:mathsformer:   N85-30+46-N20          N49         N49E          N49          X              0\n"
     ]
    },
    {
     "name": "stdout",
     "output_type": "stream",
     "text": [
      "   INFO print_predictions_table:    99-72-N12+N73          N34         N34E          N34          X              0\n"
     ]
    },
    {
     "name": "stderr",
     "output_type": "stream",
     "text": [
      "INFO:mathsformer:   99-72-N12+N73          N34         N34E          N34          X              0\n"
     ]
    },
    {
     "name": "stdout",
     "output_type": "stream",
     "text": [
      "   INFO print_predictions_table:     N37+99+57-84           35         35EE           35          X              0\n"
     ]
    },
    {
     "name": "stderr",
     "output_type": "stream",
     "text": [
      "INFO:mathsformer:    N37+99+57-84           35         35EE           35          X              0\n"
     ]
    },
    {
     "name": "stdout",
     "output_type": "stream",
     "text": [
      "   INFO print_predictions_table:      34-27-42-94         N129         N129         N129          X              0\n"
     ]
    },
    {
     "name": "stderr",
     "output_type": "stream",
     "text": [
      "INFO:mathsformer:     34-27-42-94         N129         N129         N129          X              0\n"
     ]
    }
   ],
   "source": [
    "\n",
    "transformer = transformers.Transformer_Text_to_Text(loop_models[5], token_transform)\n",
    "\n",
    "transformer.print_predictions_table(\n",
    "    data_gen, \n",
    "    num_print      = 20, \n",
    "    max_tokens     = 20, \n",
    "    max_col_length = 30, \n",
    "    negative_char  = 'N', \n",
    "    print_fn       = logger.info)\n"
   ]
  },
  {
   "cell_type": "code",
   "execution_count": null,
   "id": "e0f9adda",
   "metadata": {},
   "outputs": [],
   "source": []
  }
 ],
 "metadata": {
  "kernelspec": {
   "display_name": "Python 3 (ipykernel)",
   "language": "python",
   "name": "python3"
  },
  "language_info": {
   "codemirror_mode": {
    "name": "ipython",
    "version": 3
   },
   "file_extension": ".py",
   "mimetype": "text/x-python",
   "name": "python",
   "nbconvert_exporter": "python",
   "pygments_lexer": "ipython3",
   "version": "3.11.3"
  }
 },
 "nbformat": 4,
 "nbformat_minor": 5
}
