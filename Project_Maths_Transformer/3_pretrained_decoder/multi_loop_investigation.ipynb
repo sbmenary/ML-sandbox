{
 "cells": [
  {
   "cell_type": "code",
   "execution_count": 1,
   "id": "fe1a3a31",
   "metadata": {},
   "outputs": [],
   "source": [
    "##=========================##\n",
    "##   All imports go here   ##\n",
    "##=========================##\n",
    "\n",
    "##  Import entire python stdlib packages\n",
    "import logging, os, sys\n",
    "\n",
    "##  Import entire pypi packages\n",
    "import tensorflow as tf\n",
    "import numpy      as np\n",
    "\n",
    "##  Remove tensorflow INFO messages\n",
    "tf.get_logger().setLevel('WARNING')\n",
    "\n",
    "##  Add directory above this to system path to expose mathsformer package location\n",
    "sys.path.append(\"/\".join(os.getcwd().split(\"/\")[:-1]))\n",
    "\n",
    "##  Import individual modules/objects from packages\n",
    "from matplotlib  import pyplot as plt\n",
    "from mathsformer import config, data, transformers, utils, tf_objects as tfo\n",
    "from mathsformer import selfsupervised_learning_addition_model_backend as backend\n"
   ]
  },
  {
   "cell_type": "code",
   "execution_count": 2,
   "id": "03083418",
   "metadata": {},
   "outputs": [],
   "source": [
    "##==============================##\n",
    "##   Set custom config values   ##\n",
    "##==============================##\n",
    "\n",
    "custom_config = {\n",
    "    \"global\" : {\n",
    "        \"model_tag\"        : \"loop_idem2\",\n",
    "        \"base_seed\"        : -1,\n",
    "        \"working_dir\"      : \"multi_loop_investigation_[date]\",\n",
    "        \"log_lvl_iostream\" : logging.INFO,\n",
    "        \"log_lvl_fstream\"  : logging.DEBUG,\n",
    "    },\n",
    "    \"data\" : {\n",
    "        \"train_data\" : {\n",
    "            \"int_lengths\"      : [1, 2, 3, 4],\n",
    "            \"num_ints\"         : [1, 2, 4, 5],\n",
    "        },\n",
    "        \"test_data\" : {\n",
    "            \"int_lengths\"      : [3],\n",
    "            \"num_ints\"         : [7],\n",
    "            \"batch_size\"       : 32,\n",
    "            \"num_batches\"      : 10,\n",
    "            \"gen_base_seed\"    : 200,\n",
    "            \"gen_reproducible\" : True,\n",
    "        },\n",
    "        \"characters\"              : ['M', 'B', 'E', 'N', '0', '1', '2', '3', '4', '5', '6', '7', '8', '9', '+', '-'],\n",
    "        \"mask_char\"               : 'M',\n",
    "        \"seq_start_char\"          : 'B',\n",
    "        \"seq_end_char\"            : 'E',\n",
    "        \"negative_char\"           : 'N',\n",
    "        \"dtype\"                   : \"int32\",\n",
    "    },\n",
    "    \"models\" : {\n",
    "        \"num_loops\"  : 13,\n",
    "        \"loop_idem0\" : \"save/SSL_loopy_enc_dec_notebook_int1234_num1245_embed128_enc_2blocks_5loops_width512_dec_2blocks_1loops_width512_post3_width512_idemm1_2023_06_25_v2/final_model.keras\",\n",
    "        \"loop_idem2\" : \"SSL_loopy_enc_dec_notebook_int1234_num1245_embed128_enc_2blocks_5loops_width512_dec_2blocks_1loops_width512_post3_width512_idem2_2023_06_27/model_checkpoint_epoch69_val_loss_0.030081.keras\"\n",
    "    },\n",
    "    \"evaluate\" : {\n",
    "        \"num_print\" : 50,\n",
    "    },\n",
    "}\n"
   ]
  },
  {
   "cell_type": "code",
   "execution_count": 3,
   "id": "a78905bd",
   "metadata": {},
   "outputs": [
    {
     "name": "stdout",
     "output_type": "stream",
     "text": [
      "==========================\n",
      "===   Config created   ===\n",
      "==========================\n"
     ]
    }
   ],
   "source": [
    "##===================================##\n",
    "##   Load and validate full config   ##\n",
    "##===================================##\n",
    "\n",
    "##  Create config object containing default values\n",
    "cfg = config.Config(backend.DEFAULT_CONFIG)\n",
    "\n",
    "##  Override with custom values\n",
    "cfg.load_dict(custom_config)\n",
    "\n",
    "##  Validate config\n",
    "backend.validate_config(cfg)\n",
    "\n",
    "##  Print success\n",
    "print(utils.fancy_message(f\"Config created\"))\n",
    "\n",
    "##  For convenience, split configs for different sections\n",
    "cfg_global   = cfg[\"global\"  ]\n",
    "cfg_data     = cfg[\"data\"    ]\n",
    "cfg_model    = cfg[\"models\"  ]\n",
    "cfg_training = cfg[\"training\"]\n",
    "cfg_evaluate = cfg[\"evaluate\"]\n"
   ]
  },
  {
   "cell_type": "code",
   "execution_count": 4,
   "id": "2982e713",
   "metadata": {},
   "outputs": [
    {
     "name": "stdout",
     "output_type": "stream",
     "text": [
      "===============================================================================\n",
      "===   Working directory created at multi_loop_investigation_2023_06_28_v3   ===\n",
      "===============================================================================\n",
      "   INFO initialise_logging: Begin logging on 2023-06-28 at 11:02:00\n",
      "   INFO initialise_program: Program description: multi_loop_investigation (notebook)\n",
      "   INFO initialise_program: Working directory: multi_loop_investigation_2023_06_28_v3\n",
      "   INFO log_versions: ------------------------------------------------------+------------------------------------------------------\n",
      "   INFO log_versions:                                              PACKAGE  |  VERSION\n",
      "   INFO log_versions: ------------------------------------------------------+------------------------------------------------------\n",
      "   INFO log_versions:                                               Python  |  3.11.3 (main, May 15 2023, 18:01:31) [Clang 14.0.6 ]\n",
      "   INFO log_versions:                                              IPython  |  8.14.0\n",
      "   INFO log_versions:                                 IPython.core.release  |  8.14.0\n",
      "   INFO log_versions:                                                  PIL  |  9.5.0\n",
      "   INFO log_versions:                                            PIL.Image  |  9.5.0\n",
      "   INFO log_versions:                                       PIL._deprecate  |  9.5.0\n",
      "   INFO log_versions:                                         PIL._version  |  9.5.0\n",
      "   INFO log_versions:                                                 _csv  |  1.0\n",
      "   INFO log_versions:                                              _ctypes  |  1.1.0\n",
      "   INFO log_versions:                                              _curses  |  b'2.2'\n",
      "   INFO log_versions:                                              decimal  |  1.70\n",
      "   INFO log_versions:                               _pydev_bundle.fsnotify  |  0.1.5\n",
      "   INFO log_versions:                 _pydevd_frame_eval.vendored.bytecode  |  0.13.0.dev\n",
      "   INFO log_versions:                                              appnope  |  0.1.3\n",
      "   INFO log_versions:                                             argparse  |  1.1\n",
      "   INFO log_versions:                                           astunparse  |  1.6.3\n",
      "   INFO log_versions:                                             backcall  |  0.2.0\n",
      "   INFO log_versions:                                              certifi  |  2023.05.07\n",
      "   INFO log_versions:                                                 cffi  |  1.15.1\n",
      "   INFO log_versions:                                   charset_normalizer  |  3.1.0\n",
      "   INFO log_versions:                           charset_normalizer.version  |  3.1.0\n",
      "   INFO log_versions:                                                 comm  |  0.1.3\n",
      "   INFO log_versions:                                                  csv  |  1.0\n",
      "   INFO log_versions:                                               ctypes  |  1.1.0\n",
      "   INFO log_versions:                                      ctypes.macholib  |  1.0\n",
      "   INFO log_versions:                                               cycler  |  0.10.0\n",
      "   INFO log_versions:                                             dateutil  |  2.8.2\n",
      "   INFO log_versions:                                              debugpy  |  1.6.7\n",
      "   INFO log_versions:                                   debugpy.public_api  |  1.6.7\n",
      "   INFO log_versions:                                              decimal  |  1.70\n",
      "   INFO log_versions:                                            decorator  |  5.1.1\n",
      "   INFO log_versions:                                           defusedxml  |  0.7.1\n",
      "   INFO log_versions:                                            distutils  |  3.11.3\n",
      "   INFO log_versions:                                            executing  |  1.2.0\n",
      "   INFO log_versions:                                    executing.version  |  1.2.0\n",
      "   INFO log_versions:                                          flatbuffers  |  23.5.26\n",
      "   INFO log_versions:                                 flatbuffers._version  |  23.5.26\n",
      "   INFO log_versions:                                      google.protobuf  |  4.23.3\n",
      "   INFO log_versions:                                                 h5py  |  3.9.0\n",
      "   INFO log_versions:                                          http.server  |  0.6\n",
      "   INFO log_versions:                                                 idna  |  3.4\n",
      "   INFO log_versions:                                        idna.idnadata  |  15.0.0\n",
      "   INFO log_versions:                                    idna.package_data  |  3.4\n",
      "   INFO log_versions:                                            ipaddress  |  1.0\n",
      "   INFO log_versions:                                            ipykernel  |  6.23.3\n",
      "   INFO log_versions:                                   ipykernel._version  |  6.23.3\n",
      "   INFO log_versions:                                                 jedi  |  0.18.2\n",
      "   INFO log_versions:                                                 json  |  2.0.9\n",
      "   INFO log_versions:                                       jupyter_client  |  8.3.0\n",
      "   INFO log_versions:                              jupyter_client._version  |  8.3.0\n",
      "   INFO log_versions:                                         jupyter_core  |  5.3.1\n",
      "   INFO log_versions:                                 jupyter_core.version  |  5.3.1\n",
      "   INFO log_versions:                                                keras  |  2.12.0\n",
      "   INFO log_versions:                                  keras.api._v2.keras  |  2.12.0\n",
      "   INFO log_versions:                                      keras.api.keras  |  2.12.0\n",
      "   INFO log_versions:                                           kiwisolver  |  1.4.4\n",
      "   INFO log_versions:                                     kiwisolver._cext  |  1.4.4\n",
      "   INFO log_versions:                                              logging  |  0.5.1.2\n",
      "   INFO log_versions:                                           matplotlib  |  3.7.1\n",
      "   INFO log_versions:                                  matplotlib._version  |  3.7.1\n",
      "   INFO log_versions:                                                numpy  |  1.23.5\n",
      "   INFO log_versions:                                           numpy.core  |  1.23.5\n",
      "   INFO log_versions:                         numpy.core._multiarray_umath  |  3.1\n",
      "   INFO log_versions:                                            numpy.lib  |  1.23.5\n",
      "   INFO log_versions:                           numpy.linalg._umath_linalg  |  0.1.5\n",
      "   INFO log_versions:                                        numpy.version  |  1.23.5\n",
      "   INFO log_versions:                                           opt_einsum  |  v3.3.0\n",
      "   INFO log_versions:                                            packaging  |  23.1\n",
      "   INFO log_versions:                                                parso  |  0.8.3\n",
      "   INFO log_versions:                                              pexpect  |  4.8.0\n",
      "   INFO log_versions:                                          pickleshare  |  0.7.5\n",
      "   INFO log_versions:                 pkg_resources._vendor.more_itertools  |  9.0.0\n",
      "   INFO log_versions:                      pkg_resources._vendor.packaging  |  23.0\n",
      "   INFO log_versions:                   pkg_resources._vendor.platformdirs  |  2.6.2\n",
      "   INFO log_versions:           pkg_resources._vendor.platformdirs.version  |  2.6.2\n",
      "   INFO log_versions:                 pkg_resources._vendor.more_itertools  |  9.0.0\n",
      "   INFO log_versions:                      pkg_resources._vendor.packaging  |  23.0\n",
      "   INFO log_versions:                   pkg_resources._vendor.platformdirs  |  2.6.2\n",
      "   INFO log_versions:                                             platform  |  1.0.8\n",
      "   INFO log_versions:                                         platformdirs  |  3.8.0\n",
      "   INFO log_versions:                                 platformdirs.version  |  3.8.0\n",
      "   INFO log_versions:                                       prompt_toolkit  |  3.0.38\n",
      "   INFO log_versions:                                               psutil  |  5.9.5\n",
      "   INFO log_versions:                                           ptyprocess  |  0.7.0\n",
      "   INFO log_versions:                                            pure_eval  |  0.2.2\n",
      "   INFO log_versions:                                    pure_eval.version  |  0.2.2\n"
     ]
    },
    {
     "name": "stdout",
     "output_type": "stream",
     "text": [
      "   INFO log_versions:                                               pydevd  |  2.9.5\n",
      "   INFO log_versions:                                             pygments  |  2.15.1\n",
      "   INFO log_versions:                                            pyparsing  |  3.1.0\n",
      "   INFO log_versions:                                                   re  |  2.2.1\n",
      "   INFO log_versions:                                             requests  |  2.31.0\n",
      "   INFO log_versions:                                 requests.__version__  |  2.31.0\n",
      "   INFO log_versions:                                                 idna  |  3.4\n",
      "   INFO log_versions:                                        idna.idnadata  |  15.0.0\n",
      "   INFO log_versions:                                    idna.package_data  |  3.4\n",
      "   INFO log_versions:                                              urllib3  |  1.26.16\n",
      "   INFO log_versions:                                     urllib3._version  |  1.26.16\n",
      "   INFO log_versions:                                   urllib3.connection  |  1.26.16\n",
      "   INFO log_versions:                                 urllib3.packages.six  |  1.16.0\n",
      "   INFO log_versions:                      urllib3.util.ssl_match_hostname  |  3.5.0.1\n",
      "   INFO log_versions:                                       requests.utils  |  2.31.0\n",
      "   INFO log_versions:                                                scipy  |  1.11.0\n",
      "   INFO log_versions:                                 scipy._lib.decorator  |  4.0.5\n",
      "   INFO log_versions:                                  scipy.linalg._fblas  |  1.23.2\n",
      "   INFO log_versions:                                scipy.linalg._flapack  |  1.23.2\n",
      "   INFO log_versions:                                scipy.linalg._flinalg  |  1.23.2\n",
      "   INFO log_versions:            scipy.sparse.linalg._eigen.arpack._arpack  |  1.23.2\n",
      "   INFO log_versions:               scipy.sparse.linalg._isolve._iterative  |  1.23.2\n",
      "   INFO log_versions:                               scipy.special._specfun  |  1.23.2\n",
      "   INFO log_versions:                                           setuptools  |  67.8.0\n",
      "   INFO log_versions:                                            distutils  |  3.11.3\n",
      "   INFO log_versions:                    setuptools._vendor.more_itertools  |  8.8.0\n",
      "   INFO log_versions:                       setuptools._vendor.ordered_set  |  3.1\n",
      "   INFO log_versions:                         setuptools._vendor.packaging  |  23.0\n",
      "   INFO log_versions:                    setuptools._vendor.more_itertools  |  8.8.0\n",
      "   INFO log_versions:                       setuptools._vendor.ordered_set  |  3.1\n",
      "   INFO log_versions:                         setuptools._vendor.packaging  |  23.0\n",
      "   INFO log_versions:                                   setuptools.version  |  67.8.0\n",
      "   INFO log_versions:                                                  six  |  1.16.0\n",
      "   INFO log_versions:                                         socketserver  |  0.4\n",
      "   INFO log_versions:                                           stack_data  |  0.6.2\n",
      "   INFO log_versions:                                   stack_data.version  |  0.6.2\n",
      "   INFO log_versions:                                          tensorboard  |  2.12.3\n",
      "   INFO log_versions:                   tensorboard.compat.tensorflow_stub  |  stub\n",
      "   INFO log_versions: tensorboard.compat.tensorflow_stub.pywrap_tensorflow  |  0\n",
      "   INFO log_versions:                                           tensorflow  |  2.12.0\n",
      "   INFO log_versions:                         tensorflow._api.v2.compat.v1  |  2.12.0\n",
      "   INFO log_versions:               tensorflow._api.v2.compat.v1.compat.v1  |  2.12.0\n",
      "   INFO log_versions:               tensorflow._api.v2.compat.v1.compat.v2  |  2.12.0\n",
      "   INFO log_versions:                         tensorflow._api.v2.compat.v2  |  2.12.0\n",
      "   INFO log_versions:               tensorflow._api.v2.compat.v2.compat.v1  |  2.12.0\n",
      "   INFO log_versions:               tensorflow._api.v2.compat.v2.compat.v2  |  2.12.0\n",
      "   INFO log_versions:                                 tensorflow.compat.v1  |  2.12.0\n",
      "   INFO log_versions:                       tensorflow.compat.v1.compat.v1  |  2.12.0\n",
      "   INFO log_versions:                       tensorflow.compat.v1.compat.v2  |  2.12.0\n",
      "   INFO log_versions:                                 tensorflow.compat.v2  |  2.12.0\n",
      "   INFO log_versions:                       tensorflow.compat.v2.compat.v1  |  2.12.0\n",
      "   INFO log_versions:                       tensorflow.compat.v2.compat.v2  |  2.12.0\n",
      "   INFO log_versions:                                     tensorflow.keras  |  2.12.0\n",
      "   INFO log_versions:           tensorflow.python.client.pywrap_tf_session  |  2.12.0\n",
      "   INFO log_versions:                 tensorflow.python.framework.versions  |  2.12.0\n",
      "   INFO log_versions:                              tensorflow.python.keras  |  2.6.0\n",
      "   INFO log_versions:                                            traitlets  |  5.9.0\n",
      "   INFO log_versions:                                   traitlets._version  |  5.9.0\n",
      "   INFO log_versions:                                       urllib.request  |  3.11\n",
      "   INFO log_versions:                                              urllib3  |  1.26.16\n",
      "   INFO log_versions:                                     urllib3._version  |  1.26.16\n",
      "   INFO log_versions:                                   urllib3.connection  |  1.26.16\n",
      "   INFO log_versions:                                 urllib3.packages.six  |  1.16.0\n",
      "   INFO log_versions:                      urllib3.util.ssl_match_hostname  |  3.5.0.1\n",
      "   INFO log_versions:                                              wcwidth  |  0.2.6\n",
      "   INFO log_versions:                                                wrapt  |  1.14.1\n",
      "   INFO log_versions:                                        xmlrpc.client  |  3.11\n",
      "   INFO log_versions:                                                 zlib  |  1.0\n",
      "   INFO log_versions:                                                  zmq  |  25.1.0\n",
      "   INFO log_versions:                                            zmq.sugar  |  25.1.0\n",
      "   INFO log_versions:                                    zmq.sugar.version  |  25.1.0\n",
      "   INFO log_versions: ------------------------------------------------------+------------------------------------------------------\n",
      "   INFO initialise_program: Registered config value global > base_seed: -1\n",
      "   INFO initialise_program: Registered config value global > working_dir: multi_loop_investigation_[date]\n",
      "   INFO initialise_program: Registered config value global > problem_tag: baseline\n",
      "   INFO initialise_program: Registered config value global > model_tag: loop_idem2\n",
      "   INFO initialise_program: Registered config value global > log_lvl_iostream: 20\n",
      "   INFO initialise_program: Registered config value global > log_lvl_fstream: 10\n",
      "   INFO initialise_program: Registered config value data > train_data > int_lengths: [1, 2, 3, 4]\n",
      "   INFO initialise_program: Registered config value data > train_data > num_ints: [1, 2, 4, 5]\n",
      "   INFO initialise_program: Registered config value data > train_data > batch_size: 32\n",
      "   INFO initialise_program: Registered config value data > train_data > num_batches: 4000\n",
      "   INFO initialise_program: Registered config value data > train_data > gen_base_seed: 100\n",
      "   INFO initialise_program: Registered config value data > train_data > gen_reproducible: False\n",
      "   INFO initialise_program: Registered config value data > val_data > int_lengths: [1, 2, 3]\n",
      "   INFO initialise_program: Registered config value data > val_data > num_ints: [3]\n",
      "   INFO initialise_program: Registered config value data > val_data > batch_size: 32\n",
      "   INFO initialise_program: Registered config value data > val_data > num_batches: 500\n",
      "   INFO initialise_program: Registered config value data > val_data > gen_base_seed: 101\n",
      "   INFO initialise_program: Registered config value data > val_data > gen_reproducible: True\n",
      "   INFO initialise_program: Registered config value data > test_data > int_lengths: [3]\n",
      "   INFO initialise_program: Registered config value data > test_data > num_ints: [7]\n",
      "   INFO initialise_program: Registered config value data > test_data > batch_size: 32\n",
      "   INFO initialise_program: Registered config value data > test_data > num_batches: 10\n",
      "   INFO initialise_program: Registered config value data > test_data > gen_base_seed: 200\n"
     ]
    },
    {
     "name": "stdout",
     "output_type": "stream",
     "text": [
      "   INFO initialise_program: Registered config value data > test_data > gen_reproducible: True\n",
      "   INFO initialise_program: Registered config value data > characters: ['M', 'B', 'E', 'N', '0', '1', '2', '3', '4', '5', '6', '7', '8', '9', '+', '-']\n",
      "   INFO initialise_program: Registered config value data > mask_char: M\n",
      "   INFO initialise_program: Registered config value data > seq_start_char: B\n",
      "   INFO initialise_program: Registered config value data > seq_end_char: E\n",
      "   INFO initialise_program: Registered config value data > negative_char: N\n",
      "   INFO initialise_program: Registered config value data > dtype: int32\n",
      "   INFO initialise_program: Registered config value model > load_pretrained_model: None\n",
      "   INFO initialise_program: Registered config value model > name: mathsformer_LLM\n",
      "   INFO initialise_program: Registered config value model > dtype: float32\n",
      "   INFO initialise_program: Registered config value model > dropout: 0.1\n",
      "   INFO initialise_program: Registered config value model > learning_rate: 0.001\n",
      "   INFO initialise_program: Registered config value model > jit_compile: False\n",
      "   INFO initialise_program: Registered config value model > positional_encoding > num_freqs: 16\n",
      "   INFO initialise_program: Registered config value model > positional_encoding > min_period: 4\n",
      "   INFO initialise_program: Registered config value model > positional_encoding > max_period: 250\n",
      "   INFO initialise_program: Registered config value model > ndim_embedding: 32\n",
      "   INFO initialise_program: Registered config value model > comb_type: average\n",
      "   INFO initialise_program: Registered config value model > pre_encoder > num_layers: -1\n",
      "   INFO initialise_program: Registered config value model > pre_encoder > ndim: 128\n",
      "   INFO initialise_program: Registered config value model > pre_encoder > skip_connect: True\n",
      "   INFO initialise_program: Registered config value model > pre_decoder > num_layers: -1\n",
      "   INFO initialise_program: Registered config value model > pre_decoder > ndim: 128\n",
      "   INFO initialise_program: Registered config value model > pre_decoder > skip_connect: True\n",
      "   INFO initialise_program: Registered config value model > encoder > num_blocks: 5\n",
      "   INFO initialise_program: Registered config value model > encoder > num_heads: 8\n",
      "   INFO initialise_program: Registered config value model > encoder > ndim: 32\n",
      "   INFO initialise_program: Registered config value model > encoder > ndim_att_hidden: 32\n",
      "   INFO initialise_program: Registered config value model > encoder > ndim_ff_hidden: 128\n",
      "   INFO initialise_program: Registered config value model > encoder > skip_connect: True\n",
      "   INFO initialise_program: Registered config value model > decoder > num_blocks: 5\n",
      "   INFO initialise_program: Registered config value model > decoder > num_heads: 8\n",
      "   INFO initialise_program: Registered config value model > decoder > ndim: 32\n",
      "   INFO initialise_program: Registered config value model > decoder > ndim_att_hidden: 32\n",
      "   INFO initialise_program: Registered config value model > decoder > ndim_ff_hidden: 128\n",
      "   INFO initialise_program: Registered config value model > decoder > skip_connect: True\n",
      "   INFO initialise_program: Registered config value model > post_decoder > num_layers: 3\n",
      "   INFO initialise_program: Registered config value model > post_decoder > ndim: 128\n",
      "   INFO initialise_program: Registered config value training > train: True\n",
      "   INFO initialise_program: Registered config value training > max_epochs: 100000\n",
      "   INFO initialise_program: Registered config value training > log_after_epoch > do: True\n",
      "   INFO initialise_program: Registered config value training > log_after_epoch > log_lvl: 10\n",
      "   INFO initialise_program: Registered config value training > early_stopping > do: True\n",
      "   INFO initialise_program: Registered config value training > early_stopping > patience: 6\n",
      "   INFO initialise_program: Registered config value training > early_stopping > monitor: val_masked_accuracy\n",
      "   INFO initialise_program: Registered config value training > early_stopping > mode: max\n",
      "   INFO initialise_program: Registered config value training > early_stopping > restore_best_weights: True\n",
      "   INFO initialise_program: Registered config value training > model_checkpoint > do: True\n",
      "   INFO initialise_program: Registered config value training > model_checkpoint > filename: model_checkpoint_epoch{epoch}_val_loss_{val_loss:.5}.keras\n",
      "   INFO initialise_program: Registered config value training > layer_weights_record > do: True\n",
      "   INFO initialise_program: Registered config value training > layer_weights_record > batch_frequency: 4000\n",
      "   INFO initialise_program: Registered config value training > layer_weights_record > recursive: True\n",
      "   INFO initialise_program: Registered config value training > adaptive_learning_rate > do: True\n",
      "   INFO initialise_program: Registered config value training > adaptive_learning_rate > decay_factor: 0.3\n",
      "   INFO initialise_program: Registered config value training > adaptive_learning_rate > monitor: loss\n",
      "   INFO initialise_program: Registered config value training > adaptive_learning_rate > mode: min\n",
      "   INFO initialise_program: Registered config value training > adaptive_learning_rate > patience: 2\n",
      "   INFO initialise_program: Registered config value training > adaptive_learning_rate > log_lvl: 10\n",
      "   INFO initialise_program: Registered config value evaluate > num_print: 50\n",
      "   INFO initialise_program: Registered config value evaluate > save_model: True\n",
      "   INFO initialise_program: Registered config value evaluate > plot_weights: False\n",
      "   INFO initialise_program: Registered config value evaluate > plot_training_curves: True\n",
      "   INFO initialise_program: Registered config value models > num_loops: 13\n",
      "   INFO initialise_program: Registered config value models > loop_idem0: save/SSL_loopy_enc_dec_notebook_int1234_num1245_embed128_enc_2blocks_5loops_width512_dec_2blocks_1loops_width512_post3_width512_idemm1_2023_06_25_v2/final_model.keras\n",
      "   INFO initialise_program: Registered config value models > loop_idem2: SSL_loopy_enc_dec_notebook_int1234_num1245_embed128_enc_2blocks_5loops_width512_dec_2blocks_1loops_width512_post3_width512_idem2_2023_06_27/model_checkpoint_epoch69_val_loss_0.030081.keras\n",
      "   INFO initialise_program: Python random seed set: 1687946520\n",
      "   INFO initialise_program: Numpy random seed set: 1687946521\n",
      "   INFO initialise_program: TensorFlow random seed set: 1687946522\n"
     ]
    }
   ],
   "source": [
    "##==============================##\n",
    "##   Create working directory   ##\n",
    "##==============================##\n",
    "\n",
    "##  Report success\n",
    "working_dir, logger, base_seed, np_seed, tf_seed = utils.initialise_program(\n",
    "    \"multi_loop_investigation (notebook)\", \n",
    "    working_dir       = cfg_global[\"working_dir\"], \n",
    "    cfg               = cfg,\n",
    "    base_seed         = cfg_global[\"base_seed\"],\n",
    "    log_lvl_iostream  = cfg_global[\"log_lvl_iostream\"],\n",
    "    log_lvl_fstream   = cfg_global[\"log_lvl_fstream\" ],\n",
    ")\n"
   ]
  },
  {
   "cell_type": "code",
   "execution_count": 5,
   "id": "2e996ebe",
   "metadata": {},
   "outputs": [
    {
     "name": "stderr",
     "output_type": "stream",
     "text": [
      "WARNING:absl:At this time, the v2.11+ optimizer `tf.keras.optimizers.AdamW` runs slowly on M1/M2 Macs, please use the legacy Keras optimizer instead, located at `tf.keras.optimizers.legacy.AdamW`.\n"
     ]
    }
   ],
   "source": [
    "##======================##\n",
    "##   Create model   ##\n",
    "##======================##\n",
    "\n",
    "model_tag   = cfg_global[\"model_tag\"]\n",
    "model_fname = cfg_model[model_tag]\n",
    "\n",
    "base_model = backend.load_text_to_text_model(model_fname)\n"
   ]
  },
  {
   "cell_type": "code",
   "execution_count": 6,
   "id": "2e52d399",
   "metadata": {},
   "outputs": [
    {
     "name": "stdout",
     "output_type": "stream",
     "text": [
      "mathsformer_LLM_encoder_input_layer\n",
      "mathsformer_LLM_encoder_enumerate\n",
      "mathsformer_LLM_encoder_embedding\n",
      "mathsformer_LLM_encoder_position_encoding\n",
      "mathsformer_LLM_encoder_emb_and_pos\n",
      "mathsformer_LLM_encoder_block_1\n",
      "mathsformer_LLM_encoder_block_2\n",
      "mathsformer_LLM_decoder_input_layer\n",
      "mathsformer_LLM_decoder_enumerate\n",
      "mathsformer_LLM_decoder_embedding\n",
      "mathsformer_LLM_decoder_position_encoding\n",
      "mathsformer_LLM_decoder_emb_and_pos\n",
      "mathsformer_LLM_encoder_output_norm\n",
      "mathsformer_LLM_encoder_output_norm_idem0\n",
      "mathsformer_LLM_encoder_output_norm_idem1\n",
      "mathsformer_LLM_decoder_block_1\n",
      "mathsformer_LLM_decoder_block_2\n",
      "mathsformer_LLM_output\n"
     ]
    }
   ],
   "source": [
    "for layer in base_model.layers :\n",
    "    print(layer.name)\n",
    "    \n",
    "layers = {layer.name:layer for layer in base_model.layers}"
   ]
  },
  {
   "cell_type": "code",
   "execution_count": 7,
   "id": "d2bc26dd",
   "metadata": {},
   "outputs": [],
   "source": [
    "from tensorflow.keras.layers import Input\n",
    "from tensorflow.keras.models import Model\n",
    "    \n",
    "x_in_enc = Input((None,), dtype=tf.int32, name=f\"multi_loop_encoder_input_layer\")\n",
    "x_in_dec = Input((None,), dtype=tf.int32, name=f\"multi_loop_decoder_input_layer\")\n",
    "\n",
    "x_enc1 = layers[\"mathsformer_LLM_encoder_embedding\"        ](x_in_enc)\n",
    "x_enc2 = layers[\"mathsformer_LLM_encoder_enumerate\"        ](x_in_enc)\n",
    "x_enc2 = layers[\"mathsformer_LLM_encoder_position_encoding\"](x_enc2)\n",
    "x_enc  = layers[\"mathsformer_LLM_encoder_emb_and_pos\"      ]([x_enc1, x_enc2])\n",
    "\n",
    "x_dec  = x_in_dec\n",
    "x_dec1 = layers[\"mathsformer_LLM_decoder_embedding\"        ](x_in_dec)\n",
    "x_dec2 = layers[\"mathsformer_LLM_decoder_enumerate\"        ](x_in_dec)\n",
    "x_dec2 = layers[\"mathsformer_LLM_decoder_position_encoding\"](x_dec2)\n",
    "x_dec  = layers[\"mathsformer_LLM_decoder_emb_and_pos\"      ]([x_dec1, x_dec2])\n",
    "\n",
    "loop_models = {-1:base_model}\n",
    "for num_loops in range(1, cfg_model[\"num_loops\"]) :\n",
    "    x_enc_this, x_dec_this = x_enc, x_dec\n",
    "    for loop_idx in range(num_loops) :\n",
    "        x_enc_this = layers[\"mathsformer_LLM_encoder_block_1\"](x_enc_this)\n",
    "        x_enc_this = layers[\"mathsformer_LLM_encoder_block_2\"](x_enc_this)\n",
    "    x_enc_this = layers[\"mathsformer_LLM_encoder_output_norm\"](x_enc_this)\n",
    "    x_dec_this = layers[\"mathsformer_LLM_decoder_block_1\"]([x_dec_this, x_enc_this])\n",
    "    x_dec_this = layers[\"mathsformer_LLM_decoder_block_2\"]([x_dec_this, x_enc_this])\n",
    "    x_out = layers[\"mathsformer_LLM_output\"](x_dec_this)\n",
    "    model = Model([x_in_enc, x_in_dec], x_out, name=f\"multi_loop_model_{num_loops}loops\")\n",
    "    acc   = tfo.MaskedCategoricalAccuracy(scalar_output=True, equal_token_weight=True, use_keras_mask=False, mask_value=0)\n",
    "    loss  = tfo.MaskedSparseCategoricalCrossentropy(scalar_output=True, equal_token_weight=True, use_keras_mask=False, mask_value=0, from_logits=True)\n",
    "    model.compile(loss=loss, metrics=[acc])\n",
    "    loop_models[num_loops] = model\n",
    "    "
   ]
  },
  {
   "cell_type": "code",
   "execution_count": 8,
   "id": "31faf09e",
   "metadata": {},
   "outputs": [
    {
     "name": "stdout",
     "output_type": "stream",
     "text": [
      "   INFO summary: TokenTransform of dtype int32 with 16 characters: ['M', 'B', 'E', 'N', '0', '1', '2', '3', '4', '5', '6', '7', '8', '9', '+', '-']\n"
     ]
    },
    {
     "name": "stderr",
     "output_type": "stream",
     "text": [
      "INFO:mathsformer:TokenTransform of dtype int32 with 16 characters: ['M', 'B', 'E', 'N', '0', '1', '2', '3', '4', '5', '6', '7', '8', '9', '+', '-']\n"
     ]
    },
    {
     "name": "stdout",
     "output_type": "stream",
     "text": [
      "   INFO summary: Special characters are seq_start_char (B), seq_end_char (E), mask_char (M)\n"
     ]
    },
    {
     "name": "stderr",
     "output_type": "stream",
     "text": [
      "INFO:mathsformer:Special characters are seq_start_char (B), seq_end_char (E), mask_char (M)\n"
     ]
    },
    {
     "name": "stdout",
     "output_type": "stream",
     "text": [
      "   INFO summary: Tokeniser dictionary is {'M': 0, 'B': 1, 'E': 2, 'N': 3, '0': 4, '1': 5, '2': 6, '3': 7, '4': 8, '5': 9, '6': 10, '7': 11, '8': 12, '9': 13, '+': 14, '-': 15}\n"
     ]
    },
    {
     "name": "stderr",
     "output_type": "stream",
     "text": [
      "INFO:mathsformer:Tokeniser dictionary is {'M': 0, 'B': 1, 'E': 2, 'N': 3, '0': 4, '1': 5, '2': 6, '3': 7, '4': 8, '5': 9, '6': 10, '7': 11, '8': 12, '9': 13, '+': 14, '-': 15}\n"
     ]
    },
    {
     "name": "stdout",
     "output_type": "stream",
     "text": [
      "   INFO summary: Detokeniser dictionary is {0: 'M', 1: 'B', 2: 'E', 3: 'N', 4: '0', 5: '1', 6: '2', 7: '3', 8: '4', 9: '5', 10: '6', 11: '7', 12: '8', 13: '9', 14: '+', 15: '-'}\n"
     ]
    },
    {
     "name": "stderr",
     "output_type": "stream",
     "text": [
      "INFO:mathsformer:Detokeniser dictionary is {0: 'M', 1: 'B', 2: 'E', 3: 'N', 4: '0', 5: '1', 6: '2', 7: '3', 8: '4', 9: '5', 10: '6', 11: '7', 12: '8', 13: '9', 14: '+', 15: '-'}\n"
     ]
    }
   ],
   "source": [
    "##======================##\n",
    "##   Create tokeniser   ##\n",
    "##======================##\n",
    "\n",
    "token_transform = data.TokenTransform.from_dictionary(cfg_data)\n",
    "token_transform.summary(print_fn=logger.info)\n"
   ]
  },
  {
   "cell_type": "code",
   "execution_count": 9,
   "id": "947edb2f",
   "metadata": {
    "scrolled": false
   },
   "outputs": [
    {
     "name": "stdout",
     "output_type": "stream",
     "text": [
      "Running (-1 , 7 , 3)\n"
     ]
    },
    {
     "name": "stderr",
     "output_type": "stream",
     "text": [
      "2023-06-28 11:02:10.275898: W tensorflow/tsl/platform/profile_utils/cpu_utils.cc:128] Failed to get CPU frequency: 0 Hz\n"
     ]
    },
    {
     "name": "stdout",
     "output_type": "stream",
     "text": [
      "10/10 [==============================] - 6s 327ms/step - loss: 15.6648 - mathsformer_LLM_output_loss: 4.1370 - mathsformer_LLM_output_1_loss: 5.2502 - mathsformer_LLM_output_2_loss: 6.2776 - mathsformer_LLM_output_masked_categorical_accuracy: 0.2646 - mathsformer_LLM_output_1_masked_categorical_accuracy: 0.2512 - mathsformer_LLM_output_2_masked_categorical_accuracy: 0.2455\n",
      "1/1 [==============================] - 2s 2s/step\n",
      "1/1 [==============================] - 0s 322ms/step\n",
      "1/1 [==============================] - 2s 2s/step\n",
      "1/1 [==============================] - 0s 293ms/step\n",
      "1/1 [==============================] - 0s 311ms/step\n",
      "1/1 [==============================] - 0s 335ms/step\n",
      "1/1 [==============================] - 0s 373ms/step\n",
      "1/1 [==============================] - 0s 363ms/step\n",
      "1/1 [==============================] - 0s 380ms/step\n",
      "1/1 [==============================] - 0s 296ms/step\n",
      "---->  0.0\n",
      "Running (1 , 7 , 3)\n",
      "10/10 [==============================] - 2s 70ms/step - loss: 3.1195 - masked_categorical_accuracy: 0.3437\n",
      "1/1 [==============================] - 0s 474ms/step\n",
      "1/1 [==============================] - 0s 67ms/step\n",
      "1/1 [==============================] - 0s 495ms/step\n",
      "1/1 [==============================] - 0s 72ms/step\n",
      "1/1 [==============================] - 0s 87ms/step\n",
      "1/1 [==============================] - 0s 77ms/step\n",
      "1/1 [==============================] - 0s 82ms/step\n",
      "1/1 [==============================] - 0s 69ms/step\n",
      "1/1 [==============================] - 0s 66ms/step\n",
      "1/1 [==============================] - 0s 86ms/step\n",
      "---->  0.0\n",
      "Running (2 , 7 , 3)\n",
      "10/10 [==============================] - 3s 124ms/step - loss: 2.2715 - masked_categorical_accuracy: 0.3766\n",
      "1/1 [==============================] - 1s 735ms/step\n",
      "1/1 [==============================] - 0s 126ms/step\n",
      "1/1 [==============================] - 1s 749ms/step\n",
      "1/1 [==============================] - 0s 165ms/step\n",
      "1/1 [==============================] - 0s 146ms/step\n",
      "1/1 [==============================] - 0s 131ms/step\n",
      "1/1 [==============================] - 0s 176ms/step\n",
      "1/1 [==============================] - 0s 143ms/step\n",
      "1/1 [==============================] - 0s 152ms/step\n",
      "1/1 [==============================] - 0s 132ms/step\n",
      "---->  0.0\n",
      "Running (3 , 7 , 3)\n",
      "10/10 [==============================] - 3s 154ms/step - loss: 2.2179 - masked_categorical_accuracy: 0.3601\n",
      "1/1 [==============================] - 1s 915ms/step\n",
      "1/1 [==============================] - 0s 145ms/step\n",
      "1/1 [==============================] - 1s 905ms/step\n",
      "1/1 [==============================] - 0s 162ms/step\n",
      "1/1 [==============================] - 0s 132ms/step\n",
      "1/1 [==============================] - 0s 172ms/step\n",
      "1/1 [==============================] - 0s 144ms/step\n",
      "1/1 [==============================] - 0s 132ms/step\n",
      "1/1 [==============================] - 0s 215ms/step\n",
      "1/1 [==============================] - 0s 178ms/step\n",
      "---->  0.0\n",
      "Running (4 , 7 , 3)\n",
      "10/10 [==============================] - 4s 179ms/step - loss: 3.0292 - masked_categorical_accuracy: 0.2917\n",
      "1/1 [==============================] - 1s 1s/step\n",
      "1/1 [==============================] - 0s 172ms/step\n",
      "1/1 [==============================] - 1s 1s/step\n",
      "1/1 [==============================] - 0s 194ms/step\n",
      "1/1 [==============================] - 0s 165ms/step\n",
      "1/1 [==============================] - 0s 195ms/step\n",
      "1/1 [==============================] - 0s 179ms/step\n",
      "1/1 [==============================] - 0s 191ms/step\n",
      "1/1 [==============================] - 0s 174ms/step\n",
      "1/1 [==============================] - 0s 177ms/step\n",
      "---->  0.0\n",
      "Running (5 , 7 , 3)\n",
      "10/10 [==============================] - 4s 213ms/step - loss: 4.1370 - masked_categorical_accuracy: 0.2646\n",
      "1/1 [==============================] - 1s 1s/step\n",
      "1/1 [==============================] - 0s 217ms/step\n",
      "1/1 [==============================] - 1s 1s/step\n",
      "1/1 [==============================] - 0s 212ms/step\n",
      "1/1 [==============================] - 0s 193ms/step\n",
      "1/1 [==============================] - 0s 216ms/step\n",
      "1/1 [==============================] - 0s 208ms/step\n",
      "1/1 [==============================] - 0s 215ms/step\n",
      "1/1 [==============================] - 0s 199ms/step\n",
      "1/1 [==============================] - 0s 232ms/step\n",
      "---->  0.0\n",
      "Running (6 , 7 , 3)\n",
      "10/10 [==============================] - 5s 248ms/step - loss: 5.5749 - masked_categorical_accuracy: 0.2468\n",
      "1/1 [==============================] - 1s 1s/step\n",
      "1/1 [==============================] - 0s 264ms/step\n",
      "1/1 [==============================] - 2s 2s/step\n",
      "1/1 [==============================] - 0s 248ms/step\n",
      "1/1 [==============================] - 0s 254ms/step\n",
      "1/1 [==============================] - 0s 232ms/step\n",
      "1/1 [==============================] - 0s 274ms/step\n",
      "1/1 [==============================] - 0s 242ms/step\n",
      "1/1 [==============================] - 0s 277ms/step\n",
      "1/1 [==============================] - 0s 269ms/step\n",
      "---->  0.0\n",
      "Running (7 , 7 , 3)\n",
      "10/10 [==============================] - 6s 286ms/step - loss: 7.2461 - masked_categorical_accuracy: 0.2474\n",
      "1/1 [==============================] - 2s 2s/step\n",
      "1/1 [==============================] - 0s 276ms/step\n",
      "1/1 [==============================] - 2s 2s/step\n",
      "1/1 [==============================] - 0s 347ms/step\n",
      "1/1 [==============================] - 0s 292ms/step\n",
      "1/1 [==============================] - 0s 322ms/step\n",
      "1/1 [==============================] - 0s 293ms/step\n",
      "1/1 [==============================] - 0s 274ms/step\n",
      "1/1 [==============================] - 0s 315ms/step\n",
      "1/1 [==============================] - 0s 297ms/step\n",
      "---->  0.0\n",
      "Running (8 , 7 , 3)\n",
      "10/10 [==============================] - 6s 339ms/step - loss: 8.7563 - masked_categorical_accuracy: 0.2525\n",
      "1/1 [==============================] - 2s 2s/step\n",
      "1/1 [==============================] - 0s 334ms/step\n",
      "1/1 [==============================] - 2s 2s/step\n",
      "1/1 [==============================] - 0s 328ms/step\n",
      "1/1 [==============================] - 0s 320ms/step\n",
      "1/1 [==============================] - 0s 347ms/step\n",
      "1/1 [==============================] - 0s 353ms/step\n",
      "1/1 [==============================] - 0s 348ms/step\n",
      "1/1 [==============================] - 0s 322ms/step\n",
      "1/1 [==============================] - 0s 343ms/step\n",
      "---->  0.003125\n",
      "Running (9 , 7 , 3)\n",
      "10/10 [==============================] - 7s 383ms/step - loss: 9.9528 - masked_categorical_accuracy: 0.2550\n",
      "1/1 [==============================] - 2s 2s/step\n",
      "1/1 [==============================] - 0s 464ms/step\n",
      "1/1 [==============================] - 2s 2s/step\n",
      "1/1 [==============================] - 0s 393ms/step\n",
      "1/1 [==============================] - 0s 329ms/step\n",
      "1/1 [==============================] - 0s 369ms/step\n",
      "1/1 [==============================] - 0s 375ms/step\n",
      "1/1 [==============================] - 0s 352ms/step\n",
      "1/1 [==============================] - 0s 358ms/step\n",
      "1/1 [==============================] - 0s 386ms/step\n",
      "---->  0.003125\n",
      "Running (10 , 7 , 3)\n",
      "10/10 [==============================] - 8s 440ms/step - loss: 10.8269 - masked_categorical_accuracy: 0.2631\n",
      "1/1 [==============================] - 2s 2s/step\n",
      "1/1 [==============================] - 0s 397ms/step\n",
      "1/1 [==============================] - 2s 2s/step\n",
      "1/1 [==============================] - 0s 411ms/step\n",
      "1/1 [==============================] - 0s 395ms/step\n",
      "1/1 [==============================] - 0s 405ms/step\n",
      "1/1 [==============================] - 0s 437ms/step\n",
      "1/1 [==============================] - 0s 426ms/step\n",
      "1/1 [==============================] - 0s 401ms/step\n",
      "1/1 [==============================] - 0s 440ms/step\n",
      "---->  0.003125\n",
      "Running (11 , 7 , 3)\n",
      "10/10 [==============================] - 8s 432ms/step - loss: 11.3618 - masked_categorical_accuracy: 0.2822\n",
      "1/1 [==============================] - 2s 2s/step\n",
      "1/1 [==============================] - 0s 432ms/step\n",
      "1/1 [==============================] - 3s 3s/step\n",
      "1/1 [==============================] - 0s 433ms/step\n",
      "1/1 [==============================] - 0s 414ms/step\n",
      "1/1 [==============================] - 0s 393ms/step\n",
      "1/1 [==============================] - 0s 409ms/step\n",
      "1/1 [==============================] - 0s 447ms/step\n",
      "1/1 [==============================] - 0s 404ms/step\n"
     ]
    },
    {
     "name": "stdout",
     "output_type": "stream",
     "text": [
      "1/1 [==============================] - 0s 421ms/step\n",
      "---->  0.003125\n",
      "Running (12 , 7 , 3)\n",
      "10/10 [==============================] - 9s 464ms/step - loss: 11.7594 - masked_categorical_accuracy: 0.2917\n",
      "1/1 [==============================] - 2s 2s/step\n",
      "1/1 [==============================] - 0s 458ms/step\n",
      "1/1 [==============================] - 3s 3s/step\n",
      "1/1 [==============================] - 0s 453ms/step\n",
      "1/1 [==============================] - 0s 440ms/step\n",
      "1/1 [==============================] - 0s 452ms/step\n",
      "1/1 [==============================] - 0s 484ms/step\n",
      "1/1 [==============================] - 0s 461ms/step\n",
      "1/1 [==============================] - 1s 508ms/step\n",
      "1/1 [==============================] - 0s 449ms/step\n",
      "---->  0.003125\n"
     ]
    }
   ],
   "source": [
    "\n",
    "num_ints    = cfg_data[\"test_data\"][\"num_ints\"]\n",
    "int_lengths = cfg_data[\"test_data\"][\"int_lengths\"]\n",
    "\n",
    "model_token_accs, model_result_accs = {}, {}\n",
    "\n",
    "for num_loops, model in loop_models.items() :\n",
    "    \n",
    "    token_accs, result_accs = [], []\n",
    "\n",
    "    for N in num_ints :\n",
    "\n",
    "        token_accs .append([])\n",
    "        result_accs.append([])\n",
    "\n",
    "        for L in int_lengths :\n",
    "\n",
    "            print(f\"Running ({num_loops} , {N} , {L})\")\n",
    "\n",
    "            data_gen = data.RandomDataGenerator_Addition(\n",
    "                                            token_transform = token_transform, \n",
    "                                            int_lengths     = [L],\n",
    "                                            num_ints        = [N],\n",
    "                                            batch_size      = cfg_data[\"test_data\"][\"batch_size\"],\n",
    "                                            num_batches     = cfg_data[\"test_data\"][\"num_batches\"],\n",
    "                                            base_seed       = cfg_data[\"test_data\"][\"gen_base_seed\"],\n",
    "                                            reproducible    = cfg_data[\"test_data\"][\"gen_reproducible\"],\n",
    "                                            negative_char   = cfg_data[\"negative_char\"],)\n",
    "\n",
    "            evals = model.evaluate(data_gen)\n",
    "            if \"masked_categorical_accuracy\" in model.metrics_names :\n",
    "                metric_idx = model.metrics_names.index(\"masked_categorical_accuracy\")\n",
    "            else : \n",
    "                metric_idx = model.metrics_names.index(\"mathsformer_LLM_output_masked_categorical_accuracy\")\n",
    "            token_accs[-1].append(evals[metric_idx])\n",
    "\n",
    "            Nt, Nf = 0, 0\n",
    "            for X, Y_true in data_gen :\n",
    "                Y_true = Y_true.numpy()\n",
    "                Y_pred = model.predict(X)\n",
    "                if type(Y_pred) is list :\n",
    "                    Y_pred = Y_pred[0]\n",
    "                Y_pred = np.argmax(Y_pred, axis=-1)\n",
    "                for y_true, y_pred in zip(Y_true, Y_pred) :\n",
    "                    y_true, y_pred = y_true[y_true != 0], y_pred[y_true != 0]\n",
    "                    if (y_true == y_pred).all() : Nt += 1\n",
    "                    else : Nf += 1\n",
    "\n",
    "            acc = Nt / (Nt + Nf)\n",
    "            result_accs[-1].append(acc)\n",
    "            print(f\"---->  {acc}\")\n",
    "            \n",
    "        model_token_accs [num_loops] = token_accs\n",
    "        model_result_accs[num_loops] = result_accs\n"
   ]
  },
  {
   "cell_type": "code",
   "execution_count": 10,
   "id": "ab1ee24b",
   "metadata": {},
   "outputs": [
    {
     "data": {
      "text/plain": [
       "{-1: [[0.0]],\n",
       " 1: [[0.0]],\n",
       " 2: [[0.0]],\n",
       " 3: [[0.0]],\n",
       " 4: [[0.0]],\n",
       " 5: [[0.0]],\n",
       " 6: [[0.0]],\n",
       " 7: [[0.0]],\n",
       " 8: [[0.003125]],\n",
       " 9: [[0.003125]],\n",
       " 10: [[0.003125]],\n",
       " 11: [[0.003125]],\n",
       " 12: [[0.003125]]}"
      ]
     },
     "execution_count": 10,
     "metadata": {},
     "output_type": "execute_result"
    }
   ],
   "source": [
    "model_result_accs"
   ]
  },
  {
   "cell_type": "code",
   "execution_count": 11,
   "id": "4a9f1c42",
   "metadata": {},
   "outputs": [
    {
     "name": "stdout",
     "output_type": "stream",
     "text": [
      "   INFO print_predictions_table: ------------------------------------------------------------------------------------------------\n"
     ]
    },
    {
     "name": "stderr",
     "output_type": "stream",
     "text": [
      "INFO:mathsformer:------------------------------------------------------------------------------------------------\n"
     ]
    },
    {
     "name": "stdout",
     "output_type": "stream",
     "text": [
      "   INFO print_predictions_table:                           INPUT         TRUE   PRED(MASK)    PRED(GEN)      CORRECT     RESIDUAL\n"
     ]
    },
    {
     "name": "stderr",
     "output_type": "stream",
     "text": [
      "INFO:mathsformer:                          INPUT         TRUE   PRED(MASK)    PRED(GEN)      CORRECT     RESIDUAL\n"
     ]
    },
    {
     "name": "stdout",
     "output_type": "stream",
     "text": [
      "   INFO print_predictions_table: ------------------------------------------------------------------------------------------------\n"
     ]
    },
    {
     "name": "stderr",
     "output_type": "stream",
     "text": [
      "INFO:mathsformer:------------------------------------------------------------------------------------------------\n"
     ]
    },
    {
     "name": "stdout",
     "output_type": "stream",
     "text": [
      "   INFO print_predictions_table:  147+781-N491+858-N760-N738-142         3633        1527E        15927                     12294\n"
     ]
    },
    {
     "name": "stderr",
     "output_type": "stream",
     "text": [
      "INFO:mathsformer: 147+781-N491+858-N760-N738-142         3633        1527E        15927                     12294\n"
     ]
    },
    {
     "name": "stdout",
     "output_type": "stream",
     "text": [
      "   INFO print_predictions_table:  563+546+140+N527+N967+N275+211         N309        N1254        N1254                      -945\n"
     ]
    },
    {
     "name": "stderr",
     "output_type": "stream",
     "text": [
      "INFO:mathsformer: 563+546+140+N527+N967+N275+211         N309        N1254        N1254                      -945\n"
     ]
    },
    {
     "name": "stdout",
     "output_type": "stream",
     "text": [
      "   INFO print_predictions_table:   211-407-536-179-N641+672-N197          599        1887E         1518                       919\n"
     ]
    },
    {
     "name": "stderr",
     "output_type": "stream",
     "text": [
      "INFO:mathsformer:  211-407-536-179-N641+672-N197          599        1887E         1518                       919\n"
     ]
    },
    {
     "name": "stdout",
     "output_type": "stream",
     "text": [
      "   INFO print_predictions_table:    N802+183-911+123-881-584-430        N3302        N7722        N7722                     -4420\n"
     ]
    },
    {
     "name": "stderr",
     "output_type": "stream",
     "text": [
      "INFO:mathsformer:   N802+183-911+123-881-584-430        N3302        N7722        N7722                     -4420\n"
     ]
    },
    {
     "name": "stdout",
     "output_type": "stream",
     "text": [
      "   INFO print_predictions_table:  512+N958-N646-N560+N944-172...        N1350        N1896        N1897                      -547\n"
     ]
    },
    {
     "name": "stderr",
     "output_type": "stream",
     "text": [
      "INFO:mathsformer: 512+N958-N646-N560+N944-172...        N1350        N1896        N1897                      -547\n"
     ]
    },
    {
     "name": "stdout",
     "output_type": "stream",
     "text": [
      "   INFO print_predictions_table:  N472-N938-354-N815-349-185+...         N260        N1277        N1277                     -1017\n"
     ]
    },
    {
     "name": "stderr",
     "output_type": "stream",
     "text": [
      "INFO:mathsformer: N472-N938-354-N815-349-185+...         N260        N1277        N1277                     -1017\n"
     ]
    },
    {
     "name": "stdout",
     "output_type": "stream",
     "text": [
      "   INFO print_predictions_table:  N310+998+N350-N765-987+677-...         1415        1102E         1112                      -303\n"
     ]
    },
    {
     "name": "stderr",
     "output_type": "stream",
     "text": [
      "INFO:mathsformer: N310+998+N350-N765-987+677-...         1415        1102E         1112                      -303\n"
     ]
    },
    {
     "name": "stdout",
     "output_type": "stream",
     "text": [
      "   INFO print_predictions_table:  992+N727+356-N438+N799-868-...         N461        N8253        N8233                     -7772\n"
     ]
    },
    {
     "name": "stderr",
     "output_type": "stream",
     "text": [
      "INFO:mathsformer: 992+N727+356-N438+N799-868-...         N461        N8253        N8233                     -7772\n"
     ]
    },
    {
     "name": "stdout",
     "output_type": "stream",
     "text": [
      "   INFO print_predictions_table:  274-424+593+250-N748+N766-N969         1644        N023E        N5077                     -6721\n"
     ]
    },
    {
     "name": "stderr",
     "output_type": "stream",
     "text": [
      "INFO:mathsformer: 274-424+593+250-N748+N766-N969         1644        N023E        N5077                     -6721\n"
     ]
    },
    {
     "name": "stdout",
     "output_type": "stream",
     "text": [
      "   INFO print_predictions_table:  N435-N896-774+N639-169+N446...         N690        N5595        N5595                     -4905\n"
     ]
    },
    {
     "name": "stderr",
     "output_type": "stream",
     "text": [
      "INFO:mathsformer: N435-N896-774+N639-169+N446...         N690        N5595        N5595                     -4905\n"
     ]
    },
    {
     "name": "stdout",
     "output_type": "stream",
     "text": [
      "   INFO print_predictions_table:  N425+182+285-985-799+N427+N609        N2778        N1420       N10520                     -7742\n"
     ]
    },
    {
     "name": "stderr",
     "output_type": "stream",
     "text": [
      "INFO:mathsformer: N425+182+285-985-799+N427+N609        N2778        N1420       N10520                     -7742\n"
     ]
    },
    {
     "name": "stdout",
     "output_type": "stream",
     "text": [
      "   INFO print_predictions_table:  251+334+N131+390-N269-N312-425         1000        4167E         4195                      3195\n"
     ]
    },
    {
     "name": "stderr",
     "output_type": "stream",
     "text": [
      "INFO:mathsformer: 251+334+N131+390-N269-N312-425         1000        4167E         4195                      3195\n"
     ]
    },
    {
     "name": "stdout",
     "output_type": "stream",
     "text": [
      "   INFO print_predictions_table:  N359+115-984-848-734+N211-N937        N2084        N5805        N5805                     -3721\n"
     ]
    },
    {
     "name": "stderr",
     "output_type": "stream",
     "text": [
      "INFO:mathsformer: N359+115-984-848-734+N211-N937        N2084        N5805        N5805                     -3721\n"
     ]
    },
    {
     "name": "stdout",
     "output_type": "stream",
     "text": [
      "   INFO print_predictions_table:  793+N944+164-N985-978+N533+...         N793        N4102        N4102                     -3309\n"
     ]
    },
    {
     "name": "stderr",
     "output_type": "stream",
     "text": [
      "INFO:mathsformer: 793+N944+164-N985-978+N533+...         N793        N4102        N4102                     -3309\n"
     ]
    },
    {
     "name": "stdout",
     "output_type": "stream",
     "text": [
      "   INFO print_predictions_table:  N184+607+495+N717-N493+N548...         1074        NN71E        N4839                     -5913\n"
     ]
    },
    {
     "name": "stderr",
     "output_type": "stream",
     "text": [
      "INFO:mathsformer: N184+607+495+N717-N493+N548...         1074        NN71E        N4839                     -5913\n"
     ]
    },
    {
     "name": "stdout",
     "output_type": "stream",
     "text": [
      "   INFO print_predictions_table:  N517-N782+N797+N381+251-669...         N539        N7178        N7178                     -6639\n"
     ]
    },
    {
     "name": "stderr",
     "output_type": "stream",
     "text": [
      "INFO:mathsformer: N517-N782+N797+N381+251-669...         N539        N7178        N7178                     -6639\n"
     ]
    },
    {
     "name": "stdout",
     "output_type": "stream",
     "text": [
      "   INFO print_predictions_table:  N853-N527-N707-N740+937+476...         2428        6399E         6309                      3881\n"
     ]
    },
    {
     "name": "stderr",
     "output_type": "stream",
     "text": [
      "INFO:mathsformer: N853-N527-N707-N740+937+476...         2428        6399E         6309                      3881\n"
     ]
    },
    {
     "name": "stdout",
     "output_type": "stream",
     "text": [
      "   INFO print_predictions_table:  829-189-N595-967+N872-N302+...        N1250        21433         2527                      3777\n"
     ]
    },
    {
     "name": "stderr",
     "output_type": "stream",
     "text": [
      "INFO:mathsformer: 829-189-N595-967+N872-N302+...        N1250        21433         2527                      3777\n"
     ]
    },
    {
     "name": "stdout",
     "output_type": "stream",
     "text": [
      "   INFO print_predictions_table:  410+N295+N243-N721-458+146-310          N29        1645E         1385                      1414\n"
     ]
    },
    {
     "name": "stderr",
     "output_type": "stream",
     "text": [
      "INFO:mathsformer: 410+N295+N243-N721-458+146-310          N29        1645E         1385                      1414\n"
     ]
    },
    {
     "name": "stdout",
     "output_type": "stream",
     "text": [
      "   INFO print_predictions_table:  456-719+N674-976-N537-116-N277        N1215        N1473        N1473                      -258\n"
     ]
    },
    {
     "name": "stderr",
     "output_type": "stream",
     "text": [
      "INFO:mathsformer: 456-719+N674-976-N537-116-N277        N1215        N1473        N1473                      -258\n"
     ]
    }
   ],
   "source": [
    "\n",
    "transformer = transformers.Transformer_Text_to_Text(loop_models[5], token_transform)\n",
    "\n",
    "transformer.print_predictions_table(\n",
    "    data_gen, \n",
    "    num_print      = 20, \n",
    "    max_tokens     = 20, \n",
    "    max_col_length = 30, \n",
    "    negative_char  = 'N', \n",
    "    print_fn       = logger.info)\n"
   ]
  },
  {
   "cell_type": "code",
   "execution_count": null,
   "id": "dc8dfad2",
   "metadata": {},
   "outputs": [],
   "source": []
  }
 ],
 "metadata": {
  "kernelspec": {
   "display_name": "Python 3 (ipykernel)",
   "language": "python",
   "name": "python3"
  },
  "language_info": {
   "codemirror_mode": {
    "name": "ipython",
    "version": 3
   },
   "file_extension": ".py",
   "mimetype": "text/x-python",
   "name": "python",
   "nbconvert_exporter": "python",
   "pygments_lexer": "ipython3",
   "version": "3.11.3"
  }
 },
 "nbformat": 4,
 "nbformat_minor": 5
}
