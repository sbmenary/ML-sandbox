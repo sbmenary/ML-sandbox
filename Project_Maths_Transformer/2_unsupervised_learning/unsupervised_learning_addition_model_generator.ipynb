{
 "cells": [
  {
   "cell_type": "markdown",
   "id": "bae8ce14",
   "metadata": {},
   "source": [
    "#  Unsupervised learning addition model with generator\n",
    "\n",
    "Author: S. Menary [sbmenary@gmail.com]\n",
    "\n",
    "Date: 11/4/2023  (last update: 28/6/2023)\n",
    "\n",
    "Overview: Train a `sequence -> sequence` model where the input sequence is a text representation of a simple sum $\\sum_{i=1}^N A_i$ for a configurable number $N$ of integers $A_i\\in\\mathbb{Z}$, and the output is a set of logits representing the probability of each token in the output sequence. Integers may have a configurable number of digits. At inference time, chains of text are generated auto-regressively until the terminate-sequence token is reached. The loss function is a sparse categorical entropy.\n",
    "\n",
    "The transformer is configurable. We support\n",
    "- learnable skip connections\n",
    "- learnable positional encodings\n",
    "- multiple encoded outputs given equal weight in the loss function (to encourage convergence)\n",
    "- repetition of encoder/decoder blocks in loops\n",
    "- pre-loop layers allowing the transformer to process the input into an initial representation\n",
    "\n",
    "---\n",
    "\n",
    "## 1. Set up program\n",
    "\n",
    "###  Import\n",
    "\n",
    "All imports go here at the top of the notebook"
   ]
  },
  {
   "cell_type": "code",
   "execution_count": 1,
   "id": "d48f1e68",
   "metadata": {},
   "outputs": [],
   "source": [
    "##=========================##\n",
    "##   All imports go here   ##\n",
    "##=========================##\n",
    "\n",
    "##  Import entire python stdlib packages\n",
    "import logging, os, sys\n",
    "\n",
    "##  Import entire pypi packages\n",
    "import tensorflow as tf\n",
    "\n",
    "##  Remove tensorflow INFO messages\n",
    "tf.get_logger().setLevel('WARNING')\n",
    "\n",
    "##  Add directory above this to system path to expose mathsformer package location\n",
    "sys.path.append(\"/\".join(os.getcwd().split(\"/\")[:-1]))\n",
    "\n",
    "##  Import individual modules/objects from local packages\n",
    "from tensorflow.keras.optimizers.legacy import Adam, SGD\n",
    "from tensorflow.keras.optimizers import AdamW\n",
    "from mathsformer import config, data, transformers, utils\n",
    "from mathsformer import selfsupervised_learning_addition_model_backend as backend\n"
   ]
  },
  {
   "cell_type": "markdown",
   "id": "320886f9",
   "metadata": {},
   "source": [
    "## 1. Configure run\n",
    "\n",
    "Set configuration variables for entire program"
   ]
  },
  {
   "cell_type": "code",
   "execution_count": 2,
   "id": "701cef8b",
   "metadata": {},
   "outputs": [],
   "source": [
    "##==============================##\n",
    "##   Set custom config values   ##\n",
    "##==============================##\n",
    "\n",
    "custom_config = {\n",
    "    \"global\" : {\n",
    "        \"base_seed\"        : -1,\n",
    "        \"working_dir\"      : \"SSL_loopy_enc_dec_notebook_[global>problem_tag]_embed[model>ndim_embedding]_enc_[model>encoder>num_blocks]blocks_[model>encoder>num_loops]loops_width[model>encoder>ndim_ff_hidden]_dec_[model>decoder>num_blocks]blocks_[model>decoder>num_loops]loops_width[model>decoder>ndim_ff_hidden]_post[model>post_decoder>num_layers]_width[model>post_decoder>ndim]_idem[model>idempotent_size]_[date]\",\n",
    "        \"problem_tag\"      : \"int1235_num124578\",\n",
    "        \"log_lvl_iostream\" : logging.INFO,\n",
    "        \"log_lvl_fstream\"  : logging.DEBUG,\n",
    "    },\n",
    "    \"data\" : {\n",
    "        \"train_data\" : {\n",
    "            \"int_lengths\"      : [1, 2],\n",
    "            \"num_ints\"         : [1, 2, 4, 5],\n",
    "            \"batch_size\"       : 32,\n",
    "            \"num_batches\"      : 2000,\n",
    "            \"gen_base_seed\"    : 101,\n",
    "            \"gen_reproducible\" : False, \n",
    "        },\n",
    "        \"val_data\" : {\n",
    "            \"int_lengths\"      : [1, 2],\n",
    "            \"num_ints\"         : [3, 6],\n",
    "            \"batch_size\"       : 32,\n",
    "            \"num_batches\"      : 40,\n",
    "            \"gen_base_seed\"    : 102,\n",
    "            \"gen_reproducible\" : True,\n",
    "        },\n",
    "        \"test_data\" : {\n",
    "            \"int_lengths\"      : [1, 2],\n",
    "            \"num_ints\"         : [7, 8, 9],\n",
    "            \"batch_size\"       : 32,\n",
    "            \"num_batches\"      : 100,\n",
    "            \"gen_base_seed\"    : 103,\n",
    "            \"gen_reproducible\" : True,\n",
    "        },\n",
    "        \"characters\"              : ['M', 'B', 'E', 'N', '0', '1', '2', '3', '4', '5', '6', '7', '8', '9', '+', '-'],\n",
    "        \"mask_char\"               : 'M',\n",
    "        \"seq_start_char\"          : 'B',\n",
    "        \"seq_end_char\"            : 'E',\n",
    "        \"negative_char\"           : 'N',\n",
    "        \"dtype\"                   : \"int32\",\n",
    "    },\n",
    "    \"model\" : {\n",
    "        \"load_pretrained_model\" : None,\n",
    "        \"name\"                  : \"mathsformer_LLM\",\n",
    "        \"dtype\"                 : \"float32\",\n",
    "        \"dropout\"               : 0.1,\n",
    "        \"jit_compile\"           : False,\n",
    "        \"use_old_loss\"          : True,\n",
    "        \"optimizer\"             : AdamW,\n",
    "        \"optimizer_args\"        : {\"learning_rate\":1e-4, \"weight_decay\":2e-2},\n",
    "        \"idempotent_size\"       : 3,\n",
    "        \"positional_encoding\" : {\n",
    "            \"num_freqs\"         : 32,\n",
    "            \"min_period\"        : 4,\n",
    "            \"max_period\"        : 200,\n",
    "            \"learnable\"         : True,\n",
    "        },\n",
    "        \"ndim_embedding\"        : 64,\n",
    "        \"comb_type\"             : 'mixture',\n",
    "        \"pre_encoder\" : {\n",
    "            \"num_blocks\"           : 2,\n",
    "            \"num_loops\"            : 1,\n",
    "            \"num_heads\"            : 8,\n",
    "            \"ndim\"                 : 64,\n",
    "            \"ndim_att_hidden\"      : 64,\n",
    "            \"ndim_ff_hidden\"       : 128,\n",
    "            \"skip_connect\"         : True,\n",
    "            \"mixture_skip_connect\" : True,\n",
    "        },\n",
    "        \"encoder\" : {\n",
    "            \"num_blocks\"           : 2,\n",
    "            \"num_loops\"            : 6,\n",
    "            \"num_heads\"            : 8,\n",
    "            \"ndim\"                 : 64,\n",
    "            \"ndim_att_hidden\"      : 64,\n",
    "            \"ndim_ff_hidden\"       : 128,\n",
    "            \"skip_connect\"         : True,\n",
    "            \"mixture_skip_connect\" : True,\n",
    "        },\n",
    "        \"decoder\" : {\n",
    "            \"num_blocks\"           : 2,\n",
    "            \"num_loops\"            : 1,\n",
    "            \"num_heads\"            : 8,\n",
    "            \"ndim\"                 : 64,\n",
    "            \"ndim_att_hidden\"      : 64,\n",
    "            \"ndim_ff_hidden\"       : 128,\n",
    "            \"skip_connect\"         : True,\n",
    "            \"mixture_skip_connect\" : True,\n",
    "        },\n",
    "        \"post_decoder\" : {\n",
    "            \"num_layers\"        : 2,\n",
    "            \"ndim\"              : 128,\n",
    "        },\n",
    "    },\n",
    "    \"training\" : {\n",
    "        \"train\"          : True,\n",
    "        \"max_epochs\"     : 100000,\n",
    "        \"log_after_epoch\" : {\n",
    "            \"do\"          : True,\n",
    "            \"log_lvl\"     : logging.DEBUG,\n",
    "        },\n",
    "        \"early_stopping\" : {\n",
    "            \"do\"                   : False,\n",
    "            \"patience\"             : 6,\n",
    "            \"monitor\"              : \"loss\",\n",
    "            \"mode\"                 : \"min\",\n",
    "            \"restore_best_weights\" : True,\n",
    "        },\n",
    "        \"model_checkpoint\" : {\n",
    "            \"do\"       : True,\n",
    "            \"filename\" : \"model_checkpoint_epoch{epoch}_val_loss_{val_loss:.5}.keras\",\n",
    "        },\n",
    "        \"layer_weights_record\" : {\n",
    "            \"do\"               : False,\n",
    "            \"batch_frequency\"  : 2000,\n",
    "            \"recursive\"        : True,\n",
    "        },\n",
    "        \"adaptive_learning_rate\" : {\n",
    "            \"do\"                 : True,\n",
    "            \"decay_factor\"       : 0.2,\n",
    "            \"monitor\"            : \"loss\",\n",
    "            \"mode\"               : \"min\",\n",
    "            \"patience\"           : 2,\n",
    "            \"log_lvl\"            : logging.DEBUG,\n",
    "        },\n",
    "        \"print_tables_during_training\" : {\n",
    "            \"do\"        : True,\n",
    "            \"num_print\" : 10,\n",
    "        },\n",
    "    },\n",
    "    \"evaluate\" : {\n",
    "        \"num_print\"            : 50,\n",
    "        \"save_model\"           : True,\n",
    "        \"plot_weights\"         : False,\n",
    "        \"plot_training_curves\" : True,\n",
    "    },\n",
    "}\n"
   ]
  },
  {
   "cell_type": "code",
   "execution_count": 3,
   "id": "d4e15977",
   "metadata": {},
   "outputs": [
    {
     "name": "stdout",
     "output_type": "stream",
     "text": [
      "==========================\n",
      "===   Config created   ===\n",
      "==========================\n"
     ]
    }
   ],
   "source": [
    "##===================================##\n",
    "##   Load and validate full config   ##\n",
    "##===================================##\n",
    "\n",
    "##  Create config object containing default values\n",
    "cfg = config.Config(backend.DEFAULT_CONFIG)\n",
    "\n",
    "##  Override with custom values\n",
    "cfg.load_dict(custom_config)\n",
    "\n",
    "##  Validate config\n",
    "backend.validate_config(cfg)\n",
    "\n",
    "##  Print success\n",
    "print(utils.fancy_message(f\"Config created\"))\n",
    "\n",
    "##  For convenience, split configs for different sections\n",
    "cfg_global   = cfg[\"global\"  ]\n",
    "cfg_data     = cfg[\"data\"    ]\n",
    "cfg_model    = cfg[\"model\"   ]\n",
    "cfg_training = cfg[\"training\"]\n",
    "cfg_evaluate = cfg[\"evaluate\"]\n"
   ]
  },
  {
   "cell_type": "markdown",
   "id": "8af05439",
   "metadata": {},
   "source": [
    "##  2. Set up environment\n",
    "\n",
    "- Create working directory\n",
    "- Create logger\n",
    "- Log package versions for reproducibility\n",
    "- Log config values for reproducibility\n",
    "- Set random seeds for reproducibility\n"
   ]
  },
  {
   "cell_type": "code",
   "execution_count": 4,
   "id": "2f7cc532",
   "metadata": {
    "scrolled": true
   },
   "outputs": [
    {
     "name": "stdout",
     "output_type": "stream",
     "text": [
      "========================================================================================================================================================================================\n",
      "===   Working directory created at SSL_loopy_enc_dec_notebook_int1235_num124578_embed64_enc_2blocks_6loops_width128_dec_2blocks_1loops_width128_post2_width128_idem3_2023_06_28_v2   ===\n",
      "========================================================================================================================================================================================\n",
      "   INFO initialise_logging: Begin logging on 2023-06-28 at 17:08:58\n",
      "   INFO initialise_program: Program description: unsupervised_learning_addition_model_generator (notebook)\n",
      "   INFO initialise_program: Working directory: SSL_loopy_enc_dec_notebook_int1235_num124578_embed64_enc_2blocks_6loops_width128_dec_2blocks_1loops_width128_post2_width128_idem3_2023_06_28_v2\n",
      "   INFO log_versions: ------------------------------------------------------+----------------------------------------------------------------------------------\n",
      "   INFO log_versions:                                              PACKAGE  |  VERSION\n",
      "   INFO log_versions: ------------------------------------------------------+----------------------------------------------------------------------------------\n",
      "   INFO log_versions:                                               Python  |  3.11.4 | packaged by conda-forge | (main, Jun 10 2023, 18:08:41) [Clang 15.0.7 ]\n",
      "   INFO log_versions:                                              IPython  |  8.14.0\n",
      "   INFO log_versions:                                 IPython.core.release  |  8.14.0\n",
      "   INFO log_versions:                                                  PIL  |  9.5.0\n",
      "   INFO log_versions:                                            PIL.Image  |  9.5.0\n",
      "   INFO log_versions:                                       PIL._deprecate  |  9.5.0\n",
      "   INFO log_versions:                                         PIL._version  |  9.5.0\n",
      "   INFO log_versions:                                                 _csv  |  1.0\n",
      "   INFO log_versions:                                              _ctypes  |  1.1.0\n",
      "   INFO log_versions:                                              _curses  |  b'2.2'\n",
      "   INFO log_versions:                                              decimal  |  1.70\n",
      "   INFO log_versions:                               _pydev_bundle.fsnotify  |  0.1.5\n",
      "   INFO log_versions:                 _pydevd_frame_eval.vendored.bytecode  |  0.13.0.dev\n",
      "   INFO log_versions:                                              appnope  |  0.1.3\n",
      "   INFO log_versions:                                             argparse  |  1.1\n",
      "   INFO log_versions:                                           astunparse  |  1.6.3\n",
      "   INFO log_versions:                                             backcall  |  0.2.0\n",
      "   INFO log_versions:                                              certifi  |  2023.05.07\n",
      "   INFO log_versions:                                                 cffi  |  1.15.1\n",
      "   INFO log_versions:                                   charset_normalizer  |  3.1.0\n",
      "   INFO log_versions:                           charset_normalizer.version  |  3.1.0\n",
      "   INFO log_versions:                                                 comm  |  0.1.3\n",
      "   INFO log_versions:                                                  csv  |  1.0\n",
      "   INFO log_versions:                                               ctypes  |  1.1.0\n",
      "   INFO log_versions:                                      ctypes.macholib  |  1.0\n",
      "   INFO log_versions:                                               cycler  |  0.10.0\n",
      "   INFO log_versions:                                             dateutil  |  2.8.2\n",
      "   INFO log_versions:                                              debugpy  |  1.6.7\n",
      "   INFO log_versions:                                   debugpy.public_api  |  1.6.7\n",
      "   INFO log_versions:                                              decimal  |  1.70\n",
      "   INFO log_versions:                                            decorator  |  5.1.1\n",
      "   INFO log_versions:                                           defusedxml  |  0.7.1\n",
      "   INFO log_versions:                                            distutils  |  3.11.4\n",
      "   INFO log_versions:                                            executing  |  1.2.0\n",
      "   INFO log_versions:                                    executing.version  |  1.2.0\n",
      "   INFO log_versions:                                          flatbuffers  |  23.5.26\n",
      "   INFO log_versions:                                 flatbuffers._version  |  23.5.26\n",
      "   INFO log_versions:                                      google.protobuf  |  4.23.3\n",
      "   INFO log_versions:                                                 h5py  |  3.9.0\n",
      "   INFO log_versions:                                          http.server  |  0.6\n",
      "   INFO log_versions:                                                 idna  |  3.4\n",
      "   INFO log_versions:                                        idna.idnadata  |  15.0.0\n",
      "   INFO log_versions:                                    idna.package_data  |  3.4\n",
      "   INFO log_versions:                                            ipaddress  |  1.0\n",
      "   INFO log_versions:                                            ipykernel  |  6.23.2\n",
      "   INFO log_versions:                                   ipykernel._version  |  6.23.2\n",
      "   INFO log_versions:                                                 jedi  |  0.18.2\n",
      "   INFO log_versions:                                                 json  |  2.0.9\n",
      "   INFO log_versions:                                       jupyter_client  |  8.2.0\n",
      "   INFO log_versions:                              jupyter_client._version  |  8.2.0\n",
      "   INFO log_versions:                                         jupyter_core  |  5.3.1\n",
      "   INFO log_versions:                                 jupyter_core.version  |  5.3.1\n",
      "   INFO log_versions:                                                keras  |  2.12.0\n",
      "   INFO log_versions:                                  keras.api._v2.keras  |  2.12.0\n",
      "   INFO log_versions:                                      keras.api.keras  |  2.12.0\n",
      "   INFO log_versions:                                           kiwisolver  |  1.4.4\n",
      "   INFO log_versions:                                     kiwisolver._cext  |  1.4.4\n",
      "   INFO log_versions:                                              logging  |  0.5.1.2\n",
      "   INFO log_versions:                                           matplotlib  |  3.7.1\n",
      "   INFO log_versions:                                  matplotlib._version  |  3.7.1\n",
      "   INFO log_versions:                                                numpy  |  1.23.5\n",
      "   INFO log_versions:                                           numpy.core  |  1.23.5\n",
      "   INFO log_versions:                         numpy.core._multiarray_umath  |  3.1\n",
      "   INFO log_versions:                                            numpy.lib  |  1.23.5\n",
      "   INFO log_versions:                           numpy.linalg._umath_linalg  |  0.1.5\n",
      "   INFO log_versions:                                        numpy.version  |  1.23.5\n",
      "   INFO log_versions:                                           opt_einsum  |  v3.3.0\n",
      "   INFO log_versions:                                            packaging  |  23.1\n",
      "   INFO log_versions:                                                parso  |  0.8.3\n",
      "   INFO log_versions:                                              pexpect  |  4.8.0\n",
      "   INFO log_versions:                                          pickleshare  |  0.7.5\n",
      "   INFO log_versions:                 pkg_resources._vendor.more_itertools  |  9.0.0\n",
      "   INFO log_versions:                      pkg_resources._vendor.packaging  |  23.0\n",
      "   INFO log_versions:                   pkg_resources._vendor.platformdirs  |  2.6.2\n",
      "   INFO log_versions:           pkg_resources._vendor.platformdirs.version  |  2.6.2\n",
      "   INFO log_versions:                 pkg_resources._vendor.more_itertools  |  9.0.0\n",
      "   INFO log_versions:                      pkg_resources._vendor.packaging  |  23.0\n",
      "   INFO log_versions:                   pkg_resources._vendor.platformdirs  |  2.6.2\n",
      "   INFO log_versions:                                             platform  |  1.0.8\n",
      "   INFO log_versions:                                         platformdirs  |  3.6.0\n"
     ]
    },
    {
     "name": "stdout",
     "output_type": "stream",
     "text": [
      "   INFO log_versions:                                 platformdirs.version  |  3.6.0\n",
      "   INFO log_versions:                                       prompt_toolkit  |  3.0.38\n",
      "   INFO log_versions:                                               psutil  |  5.9.5\n",
      "   INFO log_versions:                                           ptyprocess  |  0.7.0\n",
      "   INFO log_versions:                                            pure_eval  |  0.2.2\n",
      "   INFO log_versions:                                    pure_eval.version  |  0.2.2\n",
      "   INFO log_versions:                                               pydevd  |  2.9.5\n",
      "   INFO log_versions:                                             pygments  |  2.15.1\n",
      "   INFO log_versions:                                            pyparsing  |  3.1.0\n",
      "   INFO log_versions:                                                   re  |  2.2.1\n",
      "   INFO log_versions:                                             requests  |  2.31.0\n",
      "   INFO log_versions:                                 requests.__version__  |  2.31.0\n",
      "   INFO log_versions:                                                 idna  |  3.4\n",
      "   INFO log_versions:                                        idna.idnadata  |  15.0.0\n",
      "   INFO log_versions:                                    idna.package_data  |  3.4\n",
      "   INFO log_versions:                                              urllib3  |  1.26.16\n",
      "   INFO log_versions:                                     urllib3._version  |  1.26.16\n",
      "   INFO log_versions:                                   urllib3.connection  |  1.26.16\n",
      "   INFO log_versions:                                 urllib3.packages.six  |  1.16.0\n",
      "   INFO log_versions:                      urllib3.util.ssl_match_hostname  |  3.5.0.1\n",
      "   INFO log_versions:                                       requests.utils  |  2.31.0\n",
      "   INFO log_versions:                                                scipy  |  1.10.1\n",
      "   INFO log_versions:                                 scipy._lib.decorator  |  4.0.5\n",
      "   INFO log_versions:                                  scipy.linalg._fblas  |  1.23.2\n",
      "   INFO log_versions:                                scipy.linalg._flapack  |  1.23.2\n",
      "   INFO log_versions:                                scipy.linalg._flinalg  |  1.23.2\n",
      "   INFO log_versions:            scipy.sparse.linalg._eigen.arpack._arpack  |  1.23.2\n",
      "   INFO log_versions:               scipy.sparse.linalg._isolve._iterative  |  1.23.2\n",
      "   INFO log_versions:                               scipy.special._specfun  |  1.23.2\n",
      "   INFO log_versions:                                           setuptools  |  67.7.2\n",
      "   INFO log_versions:                                            distutils  |  3.11.4\n",
      "   INFO log_versions:                    setuptools._vendor.more_itertools  |  8.8.0\n",
      "   INFO log_versions:                       setuptools._vendor.ordered_set  |  3.1\n",
      "   INFO log_versions:                         setuptools._vendor.packaging  |  23.0\n",
      "   INFO log_versions:                    setuptools._vendor.more_itertools  |  8.8.0\n",
      "   INFO log_versions:                       setuptools._vendor.ordered_set  |  3.1\n",
      "   INFO log_versions:                         setuptools._vendor.packaging  |  23.0\n",
      "   INFO log_versions:                                   setuptools.version  |  67.7.2\n",
      "   INFO log_versions:                                                  six  |  1.16.0\n",
      "   INFO log_versions:                                         socketserver  |  0.4\n",
      "   INFO log_versions:                                           stack_data  |  0.6.2\n",
      "   INFO log_versions:                                   stack_data.version  |  0.6.2\n",
      "   INFO log_versions:                                          tensorboard  |  2.12.3\n",
      "   INFO log_versions:                   tensorboard.compat.tensorflow_stub  |  stub\n",
      "   INFO log_versions: tensorboard.compat.tensorflow_stub.pywrap_tensorflow  |  0\n",
      "   INFO log_versions:                                           tensorflow  |  2.12.0\n",
      "   INFO log_versions:                         tensorflow._api.v2.compat.v1  |  2.12.0\n",
      "   INFO log_versions:               tensorflow._api.v2.compat.v1.compat.v1  |  2.12.0\n",
      "   INFO log_versions:               tensorflow._api.v2.compat.v1.compat.v2  |  2.12.0\n",
      "   INFO log_versions:                         tensorflow._api.v2.compat.v2  |  2.12.0\n",
      "   INFO log_versions:               tensorflow._api.v2.compat.v2.compat.v1  |  2.12.0\n",
      "   INFO log_versions:               tensorflow._api.v2.compat.v2.compat.v2  |  2.12.0\n",
      "   INFO log_versions:                                 tensorflow.compat.v1  |  2.12.0\n",
      "   INFO log_versions:                       tensorflow.compat.v1.compat.v1  |  2.12.0\n",
      "   INFO log_versions:                       tensorflow.compat.v1.compat.v2  |  2.12.0\n",
      "   INFO log_versions:                                 tensorflow.compat.v2  |  2.12.0\n",
      "   INFO log_versions:                       tensorflow.compat.v2.compat.v1  |  2.12.0\n",
      "   INFO log_versions:                       tensorflow.compat.v2.compat.v2  |  2.12.0\n",
      "   INFO log_versions:                                     tensorflow.keras  |  2.12.0\n",
      "   INFO log_versions:           tensorflow.python.client.pywrap_tf_session  |  2.12.0\n",
      "   INFO log_versions:                 tensorflow.python.framework.versions  |  2.12.0\n",
      "   INFO log_versions:                              tensorflow.python.keras  |  2.6.0\n",
      "   INFO log_versions:                                            traitlets  |  5.9.0\n",
      "   INFO log_versions:                                   traitlets._version  |  5.9.0\n",
      "   INFO log_versions:                                       urllib.request  |  3.11\n",
      "   INFO log_versions:                                              urllib3  |  1.26.16\n",
      "   INFO log_versions:                                     urllib3._version  |  1.26.16\n",
      "   INFO log_versions:                                   urllib3.connection  |  1.26.16\n",
      "   INFO log_versions:                                 urllib3.packages.six  |  1.16.0\n",
      "   INFO log_versions:                      urllib3.util.ssl_match_hostname  |  3.5.0.1\n",
      "   INFO log_versions:                                              wcwidth  |  0.2.6\n",
      "   INFO log_versions:                                                wrapt  |  1.14.1\n",
      "   INFO log_versions:                                        xmlrpc.client  |  3.11\n",
      "   INFO log_versions:                                                 zlib  |  1.0\n",
      "   INFO log_versions:                                                  zmq  |  25.1.0\n",
      "   INFO log_versions:                                            zmq.sugar  |  25.1.0\n",
      "   INFO log_versions:                                    zmq.sugar.version  |  25.1.0\n",
      "   INFO log_versions: ------------------------------------------------------+----------------------------------------------------------------------------------\n",
      "   INFO initialise_program: Registered config value global > base_seed: -1\n",
      "   INFO initialise_program: Registered config value global > working_dir: SSL_loopy_enc_dec_notebook_[global>problem_tag]_embed[model>ndim_embedding]_enc_[model>encoder>num_blocks]blocks_[model>encoder>num_loops]loops_width[model>encoder>ndim_ff_hidden]_dec_[model>decoder>num_blocks]blocks_[model>decoder>num_loops]loops_width[model>decoder>ndim_ff_hidden]_post[model>post_decoder>num_layers]_width[model>post_decoder>ndim]_idem[model>idempotent_size]_[date]\n",
      "   INFO initialise_program: Registered config value global > problem_tag: int1235_num124578\n",
      "   INFO initialise_program: Registered config value global > log_lvl_iostream: 20\n",
      "   INFO initialise_program: Registered config value global > log_lvl_fstream: 10\n",
      "   INFO initialise_program: Registered config value data > train_data > int_lengths: [1, 2]\n",
      "   INFO initialise_program: Registered config value data > train_data > num_ints: [1, 2, 4, 5]\n",
      "   INFO initialise_program: Registered config value data > train_data > batch_size: 32\n",
      "   INFO initialise_program: Registered config value data > train_data > num_batches: 2000\n",
      "   INFO initialise_program: Registered config value data > train_data > gen_base_seed: 101\n",
      "   INFO initialise_program: Registered config value data > train_data > gen_reproducible: False\n",
      "   INFO initialise_program: Registered config value data > val_data > int_lengths: [1, 2]\n",
      "   INFO initialise_program: Registered config value data > val_data > num_ints: [3, 6]\n"
     ]
    },
    {
     "name": "stdout",
     "output_type": "stream",
     "text": [
      "   INFO initialise_program: Registered config value data > val_data > batch_size: 32\n",
      "   INFO initialise_program: Registered config value data > val_data > num_batches: 40\n",
      "   INFO initialise_program: Registered config value data > val_data > gen_base_seed: 102\n",
      "   INFO initialise_program: Registered config value data > val_data > gen_reproducible: True\n",
      "   INFO initialise_program: Registered config value data > test_data > int_lengths: [1, 2]\n",
      "   INFO initialise_program: Registered config value data > test_data > num_ints: [7, 8, 9]\n",
      "   INFO initialise_program: Registered config value data > test_data > batch_size: 32\n",
      "   INFO initialise_program: Registered config value data > test_data > num_batches: 100\n",
      "   INFO initialise_program: Registered config value data > test_data > gen_base_seed: 103\n",
      "   INFO initialise_program: Registered config value data > test_data > gen_reproducible: True\n",
      "   INFO initialise_program: Registered config value data > characters: ['M', 'B', 'E', 'N', '0', '1', '2', '3', '4', '5', '6', '7', '8', '9', '+', '-']\n",
      "   INFO initialise_program: Registered config value data > mask_char: M\n",
      "   INFO initialise_program: Registered config value data > seq_start_char: B\n",
      "   INFO initialise_program: Registered config value data > seq_end_char: E\n",
      "   INFO initialise_program: Registered config value data > negative_char: N\n",
      "   INFO initialise_program: Registered config value data > dtype: int32\n",
      "   INFO initialise_program: Registered config value model > load_pretrained_model: None\n",
      "   INFO initialise_program: Registered config value model > name: mathsformer_LLM\n",
      "   INFO initialise_program: Registered config value model > dtype: float32\n",
      "   INFO initialise_program: Registered config value model > dropout: 0.1\n",
      "   INFO initialise_program: Registered config value model > jit_compile: False\n",
      "   INFO initialise_program: Registered config value model > use_old_loss: True\n",
      "   INFO initialise_program: Registered config value model > optimizer: <class 'keras.optimizers.adamw.AdamW'>\n",
      "   INFO initialise_program: Registered config value model > optimizer_args > learning_rate: 0.0001\n",
      "   INFO initialise_program: Registered config value model > optimizer_args > weight_decay: 0.02\n",
      "   INFO initialise_program: Registered config value model > idempotent_size: 3\n",
      "   INFO initialise_program: Registered config value model > positional_encoding > num_freqs: 32\n",
      "   INFO initialise_program: Registered config value model > positional_encoding > min_period: 4\n",
      "   INFO initialise_program: Registered config value model > positional_encoding > max_period: 200\n",
      "   INFO initialise_program: Registered config value model > positional_encoding > learnable: True\n",
      "   INFO initialise_program: Registered config value model > ndim_embedding: 64\n",
      "   INFO initialise_program: Registered config value model > comb_type: mixture\n",
      "   INFO initialise_program: Registered config value model > pre_encoder > num_blocks: 2\n",
      "   INFO initialise_program: Registered config value model > pre_encoder > num_loops: 1\n",
      "   INFO initialise_program: Registered config value model > pre_encoder > num_heads: 8\n",
      "   INFO initialise_program: Registered config value model > pre_encoder > ndim: 64\n",
      "   INFO initialise_program: Registered config value model > pre_encoder > ndim_att_hidden: 64\n",
      "   INFO initialise_program: Registered config value model > pre_encoder > ndim_ff_hidden: 128\n",
      "   INFO initialise_program: Registered config value model > pre_encoder > skip_connect: True\n",
      "   INFO initialise_program: Registered config value model > pre_encoder > mixture_skip_connect: True\n",
      "   INFO initialise_program: Registered config value model > encoder > num_blocks: 2\n",
      "   INFO initialise_program: Registered config value model > encoder > num_loops: 6\n",
      "   INFO initialise_program: Registered config value model > encoder > num_heads: 8\n",
      "   INFO initialise_program: Registered config value model > encoder > ndim: 64\n",
      "   INFO initialise_program: Registered config value model > encoder > ndim_att_hidden: 64\n",
      "   INFO initialise_program: Registered config value model > encoder > ndim_ff_hidden: 128\n",
      "   INFO initialise_program: Registered config value model > encoder > skip_connect: True\n",
      "   INFO initialise_program: Registered config value model > encoder > mixture_skip_connect: True\n",
      "   INFO initialise_program: Registered config value model > decoder > num_blocks: 2\n",
      "   INFO initialise_program: Registered config value model > decoder > num_loops: 1\n",
      "   INFO initialise_program: Registered config value model > decoder > num_heads: 8\n",
      "   INFO initialise_program: Registered config value model > decoder > ndim: 64\n",
      "   INFO initialise_program: Registered config value model > decoder > ndim_att_hidden: 64\n",
      "   INFO initialise_program: Registered config value model > decoder > ndim_ff_hidden: 128\n",
      "   INFO initialise_program: Registered config value model > decoder > skip_connect: True\n",
      "   INFO initialise_program: Registered config value model > decoder > mixture_skip_connect: True\n",
      "   INFO initialise_program: Registered config value model > post_decoder > num_layers: 2\n",
      "   INFO initialise_program: Registered config value model > post_decoder > ndim: 128\n",
      "   INFO initialise_program: Registered config value training > train: True\n",
      "   INFO initialise_program: Registered config value training > max_epochs: 100000\n",
      "   INFO initialise_program: Registered config value training > log_after_epoch > do: True\n",
      "   INFO initialise_program: Registered config value training > log_after_epoch > log_lvl: 10\n",
      "   INFO initialise_program: Registered config value training > early_stopping > do: False\n",
      "   INFO initialise_program: Registered config value training > early_stopping > patience: 6\n",
      "   INFO initialise_program: Registered config value training > early_stopping > monitor: loss\n",
      "   INFO initialise_program: Registered config value training > early_stopping > mode: min\n",
      "   INFO initialise_program: Registered config value training > early_stopping > restore_best_weights: True\n",
      "   INFO initialise_program: Registered config value training > model_checkpoint > do: True\n",
      "   INFO initialise_program: Registered config value training > model_checkpoint > filename: model_checkpoint_epoch{epoch}_val_loss_{val_loss:.5}.keras\n",
      "   INFO initialise_program: Registered config value training > layer_weights_record > do: False\n",
      "   INFO initialise_program: Registered config value training > layer_weights_record > batch_frequency: 2000\n",
      "   INFO initialise_program: Registered config value training > layer_weights_record > recursive: True\n",
      "   INFO initialise_program: Registered config value training > adaptive_learning_rate > do: True\n",
      "   INFO initialise_program: Registered config value training > adaptive_learning_rate > decay_factor: 0.2\n",
      "   INFO initialise_program: Registered config value training > adaptive_learning_rate > monitor: loss\n",
      "   INFO initialise_program: Registered config value training > adaptive_learning_rate > mode: min\n",
      "   INFO initialise_program: Registered config value training > adaptive_learning_rate > patience: 2\n",
      "   INFO initialise_program: Registered config value training > adaptive_learning_rate > log_lvl: 10\n",
      "   INFO initialise_program: Registered config value training > print_tables_during_training > do: True\n",
      "   INFO initialise_program: Registered config value training > print_tables_during_training > num_print: 10\n",
      "   INFO initialise_program: Registered config value evaluate > num_print: 50\n",
      "   INFO initialise_program: Registered config value evaluate > save_model: True\n",
      "   INFO initialise_program: Registered config value evaluate > plot_weights: False\n",
      "   INFO initialise_program: Registered config value evaluate > plot_training_curves: True\n",
      "   INFO initialise_program: Python random seed set: 1687968538\n",
      "   INFO initialise_program: Numpy random seed set: 1687968539\n",
      "   INFO initialise_program: TensorFlow random seed set: 1687968540\n"
     ]
    }
   ],
   "source": [
    "##==============================##\n",
    "##   Create working directory   ##\n",
    "##==============================##\n",
    "\n",
    "##  Report success\n",
    "working_dir, logger, base_seed, np_seed, tf_seed = utils.initialise_program(\n",
    "    \"unsupervised_learning_addition_model_generator (notebook)\", \n",
    "    working_dir       = cfg_global[\"working_dir\"], \n",
    "    cfg               = cfg,\n",
    "    base_seed         = cfg_global[\"base_seed\"],\n",
    "    log_lvl_iostream  = cfg_global[\"log_lvl_iostream\"],\n",
    "    log_lvl_fstream   = cfg_global[\"log_lvl_fstream\" ],\n",
    ")\n"
   ]
  },
  {
   "cell_type": "markdown",
   "id": "ee21a5f2",
   "metadata": {},
   "source": [
    "###  Report tensorflow devices\n"
   ]
  },
  {
   "cell_type": "code",
   "execution_count": 5,
   "id": "b8443de1",
   "metadata": {},
   "outputs": [
    {
     "name": "stdout",
     "output_type": "stream",
     "text": [
      "   INFO <module>: Tensorflow with the following physical devices: [PhysicalDevice(name='/physical_device:CPU:0', device_type='CPU')]\n"
     ]
    }
   ],
   "source": [
    "logger.info(f\"Tensorflow with the following physical devices: {tf.config.list_physical_devices()}\")"
   ]
  },
  {
   "cell_type": "markdown",
   "id": "2960860d",
   "metadata": {},
   "source": [
    "##  3. Create training data\n",
    "\n",
    "###  Create tokeniser\n",
    "\n",
    "Tokeniser object handles the transformation from strings to tensors and back again"
   ]
  },
  {
   "cell_type": "code",
   "execution_count": 6,
   "id": "db11d6cd",
   "metadata": {},
   "outputs": [
    {
     "name": "stdout",
     "output_type": "stream",
     "text": [
      "   INFO summary: TokenTransform of dtype int32 with 16 characters: ['M', 'B', 'E', 'N', '0', '1', '2', '3', '4', '5', '6', '7', '8', '9', '+', '-']\n",
      "   INFO summary: Special characters are seq_start_char (B), seq_end_char (E), mask_char (M)\n",
      "   INFO summary: Tokeniser dictionary is {'M': 0, 'B': 1, 'E': 2, 'N': 3, '0': 4, '1': 5, '2': 6, '3': 7, '4': 8, '5': 9, '6': 10, '7': 11, '8': 12, '9': 13, '+': 14, '-': 15}\n",
      "   INFO summary: Detokeniser dictionary is {0: 'M', 1: 'B', 2: 'E', 3: 'N', 4: '0', 5: '1', 6: '2', 7: '3', 8: '4', 9: '5', 10: '6', 11: '7', 12: '8', 13: '9', 14: '+', 15: '-'}\n"
     ]
    }
   ],
   "source": [
    "##======================##\n",
    "##   Create tokeniser   ##\n",
    "##======================##\n",
    "\n",
    "token_transform = data.TokenTransform.from_dictionary(cfg_data)\n",
    "token_transform.summary(print_fn=logger.info)\n"
   ]
  },
  {
   "cell_type": "markdown",
   "id": "5367bdd7",
   "metadata": {},
   "source": [
    "###  Create data generators for train/val/test sets\n",
    "\n",
    "Data generators create tensor inputs/outputs for the model on-the-fly\n"
   ]
  },
  {
   "cell_type": "code",
   "execution_count": 7,
   "id": "d87b308d",
   "metadata": {},
   "outputs": [
    {
     "name": "stdout",
     "output_type": "stream",
     "text": [
      "   INFO get_data_generators: Training data generator created with the following config: Generator of [1, 2, 4, 5] integers of length [1, 2] in 2000 batches of size 32 (base_seed=101, reproducible=False)\n",
      "   INFO get_data_generators: Output shapes for a test batch are ((32, 19), (32, 5)), (32, 5)\n",
      "   INFO get_data_generators: Validation data generator created with the following config: Generator of [3, 6] integers of length [1, 2] in 40 batches of size 32 (base_seed=102, reproducible=True)\n",
      "   INFO get_data_generators: Output shapes for a test batch are ((32, 23), (32, 5)), (32, 5)\n",
      "   INFO get_data_generators: Test data generator created with the following config: Generator of [7, 8, 9] integers of length [1, 2] in 100 batches of size 32 (base_seed=103, reproducible=True)\n",
      "   INFO get_data_generators: Output shapes for a test batch are ((32, 31), (32, 5)), (32, 5)\n"
     ]
    }
   ],
   "source": [
    "##============================##\n",
    "##   Create data generators   ##\n",
    "##============================##\n",
    "\n",
    "negative_char = cfg_data.get(\"negative_char\")\n",
    "train_gen, train_gen_reproducible, val_gen, test_gen = backend.get_data_generators(cfg_data, token_transform)\n"
   ]
  },
  {
   "cell_type": "markdown",
   "id": "cf10c37c",
   "metadata": {},
   "source": [
    "###  Visualise training data\n",
    "\n",
    "Plot the distribution of tokens in the training data, which helps us interpret the per-token accuracy in early training"
   ]
  },
  {
   "cell_type": "code",
   "execution_count": 8,
   "id": "aeb056b7",
   "metadata": {},
   "outputs": [
    {
     "name": "stdout",
     "output_type": "stream",
     "text": [
      "   INFO plot_token_distribution: Saving distribution of token frequencies to file SSL_loopy_enc_dec_notebook_int1235_num124578_embed64_enc_2blocks_6loops_width128_dec_2blocks_1loops_width128_post2_width128_idem3_2023_06_28_v2/token_distribution.pdf\n"
     ]
    },
    {
     "data": {
      "image/png": "[encoded data removed]",
      "text/plain": [
       "<Figure size 600x400 with 1 Axes>"
      ]
     },
     "metadata": {},
     "output_type": "display_data"
    }
   ],
   "source": [
    "##=========================================================##\n",
    "##   Quickly visualise distribution of token frequencies   ##\n",
    "##=========================================================##\n",
    "\n",
    "backend.plot_token_distribution(train_gen, savefig=f\"{working_dir}/token_distribution.pdf\")\n"
   ]
  },
  {
   "cell_type": "markdown",
   "id": "f39db1bb",
   "metadata": {},
   "source": [
    "##  4.  Create model\n",
    "\n",
    "Create the keras model object that handles sequence-sequence transformations from alread-tokenised data"
   ]
  },
  {
   "cell_type": "code",
   "execution_count": 9,
   "id": "2bb6a53e",
   "metadata": {
    "scrolled": true
   },
   "outputs": [
    {
     "name": "stdout",
     "output_type": "stream",
     "text": [
      "   INFO <module>: Creating new text-to-text model\n"
     ]
    },
    {
     "name": "stderr",
     "output_type": "stream",
     "text": [
      "WARNING:absl:At this time, the v2.11+ optimizer `tf.keras.optimizers.AdamW` runs slowly on M1/M2 Macs, please use the legacy Keras optimizer instead, located at `tf.keras.optimizers.legacy.AdamW`.\n"
     ]
    },
    {
     "name": "stdout",
     "output_type": "stream",
     "text": [
      "   INFO <module>: Model created with summary:\n"
     ]
    },
    {
     "name": "stderr",
     "output_type": "stream",
     "text": [
      "INFO:mathsformer:Model created with summary:\n"
     ]
    },
    {
     "name": "stdout",
     "output_type": "stream",
     "text": [
      "   INFO <module>: Model: \"mathsformer_LLM\"\n"
     ]
    },
    {
     "name": "stderr",
     "output_type": "stream",
     "text": [
      "INFO:mathsformer:Model: \"mathsformer_LLM\"\n"
     ]
    },
    {
     "name": "stdout",
     "output_type": "stream",
     "text": [
      "   INFO <module>: __________________________________________________________________________________________________\n"
     ]
    },
    {
     "name": "stderr",
     "output_type": "stream",
     "text": [
      "INFO:mathsformer:__________________________________________________________________________________________________\n"
     ]
    },
    {
     "name": "stdout",
     "output_type": "stream",
     "text": [
      "   INFO <module>:  Layer (type)                   Output Shape         Param #     Connected to                     \n"
     ]
    },
    {
     "name": "stderr",
     "output_type": "stream",
     "text": [
      "INFO:mathsformer: Layer (type)                   Output Shape         Param #     Connected to                     \n"
     ]
    },
    {
     "name": "stdout",
     "output_type": "stream",
     "text": [
      "   INFO <module>: ==================================================================================================\n"
     ]
    },
    {
     "name": "stderr",
     "output_type": "stream",
     "text": [
      "INFO:mathsformer:==================================================================================================\n"
     ]
    },
    {
     "name": "stdout",
     "output_type": "stream",
     "text": [
      "   INFO <module>:  mathsformer_LLM_encoder_input_  [(None, None)]      0           []                               \n"
     ]
    },
    {
     "name": "stderr",
     "output_type": "stream",
     "text": [
      "INFO:mathsformer: mathsformer_LLM_encoder_input_  [(None, None)]      0           []                               \n"
     ]
    },
    {
     "name": "stdout",
     "output_type": "stream",
     "text": [
      "   INFO <module>:  layer (InputLayer)                                                                               \n"
     ]
    },
    {
     "name": "stderr",
     "output_type": "stream",
     "text": [
      "INFO:mathsformer: layer (InputLayer)                                                                               \n"
     ]
    },
    {
     "name": "stdout",
     "output_type": "stream",
     "text": [
      "   INFO <module>:                                                                                                   \n"
     ]
    },
    {
     "name": "stderr",
     "output_type": "stream",
     "text": [
      "INFO:mathsformer:                                                                                                  \n"
     ]
    },
    {
     "name": "stdout",
     "output_type": "stream",
     "text": [
      "   INFO <module>:  mathsformer_LLM_encoder_enumer  (None, None)        0           ['mathsformer_LLM_encoder_input_l\n"
     ]
    },
    {
     "name": "stderr",
     "output_type": "stream",
     "text": [
      "INFO:mathsformer: mathsformer_LLM_encoder_enumer  (None, None)        0           ['mathsformer_LLM_encoder_input_l\n"
     ]
    },
    {
     "name": "stdout",
     "output_type": "stream",
     "text": [
      "   INFO <module>:  ate (Enumerate)                                                 ayer[0][0]']                     \n"
     ]
    },
    {
     "name": "stderr",
     "output_type": "stream",
     "text": [
      "INFO:mathsformer: ate (Enumerate)                                                 ayer[0][0]']                     \n"
     ]
    },
    {
     "name": "stdout",
     "output_type": "stream",
     "text": [
      "   INFO <module>:                                                                                                   \n"
     ]
    },
    {
     "name": "stderr",
     "output_type": "stream",
     "text": [
      "INFO:mathsformer:                                                                                                  \n"
     ]
    },
    {
     "name": "stdout",
     "output_type": "stream",
     "text": [
      "   INFO <module>:  mathsformer_LLM_encoder_embedd  (None, None, 64)    1024        ['mathsformer_LLM_encoder_input_l\n"
     ]
    },
    {
     "name": "stderr",
     "output_type": "stream",
     "text": [
      "INFO:mathsformer: mathsformer_LLM_encoder_embedd  (None, None, 64)    1024        ['mathsformer_LLM_encoder_input_l\n"
     ]
    },
    {
     "name": "stdout",
     "output_type": "stream",
     "text": [
      "   INFO <module>:  ing (Embedding)                                                 ayer[0][0]']                     \n"
     ]
    },
    {
     "name": "stderr",
     "output_type": "stream",
     "text": [
      "INFO:mathsformer: ing (Embedding)                                                 ayer[0][0]']                     \n"
     ]
    },
    {
     "name": "stdout",
     "output_type": "stream",
     "text": [
      "   INFO <module>:                                                                                                   \n"
     ]
    },
    {
     "name": "stderr",
     "output_type": "stream",
     "text": [
      "INFO:mathsformer:                                                                                                  \n"
     ]
    },
    {
     "name": "stdout",
     "output_type": "stream",
     "text": [
      "   INFO <module>:  mathsformer_LLM_encoder_positi  (None, None, 64)    32          ['mathsformer_LLM_encoder_enumera\n"
     ]
    },
    {
     "name": "stderr",
     "output_type": "stream",
     "text": [
      "INFO:mathsformer: mathsformer_LLM_encoder_positi  (None, None, 64)    32          ['mathsformer_LLM_encoder_enumera\n"
     ]
    },
    {
     "name": "stdout",
     "output_type": "stream",
     "text": [
      "   INFO <module>:  on_encoding (PositionalEncodin                                  te[0][0]']                       \n"
     ]
    },
    {
     "name": "stderr",
     "output_type": "stream",
     "text": [
      "INFO:mathsformer: on_encoding (PositionalEncodin                                  te[0][0]']                       \n"
     ]
    },
    {
     "name": "stdout",
     "output_type": "stream",
     "text": [
      "   INFO <module>:  g)                                                                                               \n"
     ]
    },
    {
     "name": "stderr",
     "output_type": "stream",
     "text": [
      "INFO:mathsformer: g)                                                                                               \n"
     ]
    },
    {
     "name": "stdout",
     "output_type": "stream",
     "text": [
      "   INFO <module>:                                                                                                   \n"
     ]
    },
    {
     "name": "stderr",
     "output_type": "stream",
     "text": [
      "INFO:mathsformer:                                                                                                  \n"
     ]
    },
    {
     "name": "stdout",
     "output_type": "stream",
     "text": [
      "   INFO <module>:  mathsformer_LLM_encoder_emb_an  (None, None, 64)    0           ['mathsformer_LLM_encoder_embeddi\n"
     ]
    },
    {
     "name": "stderr",
     "output_type": "stream",
     "text": [
      "INFO:mathsformer: mathsformer_LLM_encoder_emb_an  (None, None, 64)    0           ['mathsformer_LLM_encoder_embeddi\n"
     ]
    },
    {
     "name": "stdout",
     "output_type": "stream",
     "text": [
      "   INFO <module>:  d_pos (Average)                                                 ng[0][0]',                       \n"
     ]
    },
    {
     "name": "stderr",
     "output_type": "stream",
     "text": [
      "INFO:mathsformer: d_pos (Average)                                                 ng[0][0]',                       \n"
     ]
    },
    {
     "name": "stdout",
     "output_type": "stream",
     "text": [
      "   INFO <module>:                                                                   'mathsformer_LLM_encoder_positio\n"
     ]
    },
    {
     "name": "stderr",
     "output_type": "stream",
     "text": [
      "INFO:mathsformer:                                                                  'mathsformer_LLM_encoder_positio\n"
     ]
    },
    {
     "name": "stdout",
     "output_type": "stream",
     "text": [
      "   INFO <module>:                                                                  n_encoding[0][0]']               \n"
     ]
    },
    {
     "name": "stderr",
     "output_type": "stream",
     "text": [
      "INFO:mathsformer:                                                                 n_encoding[0][0]']               \n"
     ]
    },
    {
     "name": "stdout",
     "output_type": "stream",
     "text": [
      "   INFO <module>:                                                                                                   \n"
     ]
    },
    {
     "name": "stderr",
     "output_type": "stream",
     "text": [
      "INFO:mathsformer:                                                                                                  \n"
     ]
    },
    {
     "name": "stdout",
     "output_type": "stream",
     "text": [
      "   INFO <module>:  mathsformer_LLM_encoder_block_  (None, None, 64)    149508      ['mathsformer_LLM_encoder_emb_and\n"
     ]
    },
    {
     "name": "stderr",
     "output_type": "stream",
     "text": [
      "INFO:mathsformer: mathsformer_LLM_encoder_block_  (None, None, 64)    149508      ['mathsformer_LLM_encoder_emb_and\n"
     ]
    },
    {
     "name": "stdout",
     "output_type": "stream",
     "text": [
      "   INFO <module>:  1 (EncoderBlock)                                                _pos[0][0]',                     \n"
     ]
    },
    {
     "name": "stderr",
     "output_type": "stream",
     "text": [
      "INFO:mathsformer: 1 (EncoderBlock)                                                _pos[0][0]',                     \n"
     ]
    },
    {
     "name": "stdout",
     "output_type": "stream",
     "text": [
      "   INFO <module>:                                                                   'mathsformer_LLM_encoder_block_2\n"
     ]
    },
    {
     "name": "stderr",
     "output_type": "stream",
     "text": [
      "INFO:mathsformer:                                                                  'mathsformer_LLM_encoder_block_2\n"
     ]
    },
    {
     "name": "stdout",
     "output_type": "stream",
     "text": [
      "   INFO <module>:                                                                  [0][0]',                         \n"
     ]
    },
    {
     "name": "stderr",
     "output_type": "stream",
     "text": [
      "INFO:mathsformer:                                                                 [0][0]',                         \n"
     ]
    },
    {
     "name": "stdout",
     "output_type": "stream",
     "text": [
      "   INFO <module>:                                                                   'mathsformer_LLM_encoder_block_2\n"
     ]
    },
    {
     "name": "stderr",
     "output_type": "stream",
     "text": [
      "INFO:mathsformer:                                                                  'mathsformer_LLM_encoder_block_2\n"
     ]
    },
    {
     "name": "stdout",
     "output_type": "stream",
     "text": [
      "   INFO <module>:                                                                  [1][0]',                         \n"
     ]
    },
    {
     "name": "stderr",
     "output_type": "stream",
     "text": [
      "INFO:mathsformer:                                                                 [1][0]',                         \n"
     ]
    },
    {
     "name": "stdout",
     "output_type": "stream",
     "text": [
      "   INFO <module>:                                                                   'mathsformer_LLM_encoder_block_2\n"
     ]
    },
    {
     "name": "stderr",
     "output_type": "stream",
     "text": [
      "INFO:mathsformer:                                                                  'mathsformer_LLM_encoder_block_2\n"
     ]
    },
    {
     "name": "stdout",
     "output_type": "stream",
     "text": [
      "   INFO <module>:                                                                  [2][0]',                         \n"
     ]
    },
    {
     "name": "stderr",
     "output_type": "stream",
     "text": [
      "INFO:mathsformer:                                                                 [2][0]',                         \n"
     ]
    },
    {
     "name": "stdout",
     "output_type": "stream",
     "text": [
      "   INFO <module>:                                                                   'mathsformer_LLM_encoder_block_2\n"
     ]
    },
    {
     "name": "stderr",
     "output_type": "stream",
     "text": [
      "INFO:mathsformer:                                                                  'mathsformer_LLM_encoder_block_2\n"
     ]
    },
    {
     "name": "stdout",
     "output_type": "stream",
     "text": [
      "   INFO <module>:                                                                  [3][0]',                         \n"
     ]
    },
    {
     "name": "stderr",
     "output_type": "stream",
     "text": [
      "INFO:mathsformer:                                                                 [3][0]',                         \n"
     ]
    },
    {
     "name": "stdout",
     "output_type": "stream",
     "text": [
      "   INFO <module>:                                                                   'mathsformer_LLM_encoder_block_2\n"
     ]
    },
    {
     "name": "stderr",
     "output_type": "stream",
     "text": [
      "INFO:mathsformer:                                                                  'mathsformer_LLM_encoder_block_2\n"
     ]
    },
    {
     "name": "stdout",
     "output_type": "stream",
     "text": [
      "   INFO <module>:                                                                  [4][0]',                         \n"
     ]
    },
    {
     "name": "stderr",
     "output_type": "stream",
     "text": [
      "INFO:mathsformer:                                                                 [4][0]',                         \n"
     ]
    },
    {
     "name": "stdout",
     "output_type": "stream",
     "text": [
      "   INFO <module>:                                                                   'mathsformer_LLM_encoder_block_2\n"
     ]
    },
    {
     "name": "stderr",
     "output_type": "stream",
     "text": [
      "INFO:mathsformer:                                                                  'mathsformer_LLM_encoder_block_2\n"
     ]
    },
    {
     "name": "stdout",
     "output_type": "stream",
     "text": [
      "   INFO <module>:                                                                  [5][0]',                         \n"
     ]
    },
    {
     "name": "stderr",
     "output_type": "stream",
     "text": [
      "INFO:mathsformer:                                                                 [5][0]',                         \n"
     ]
    },
    {
     "name": "stdout",
     "output_type": "stream",
     "text": [
      "   INFO <module>:                                                                   'mathsformer_LLM_encoder_block_2\n"
     ]
    },
    {
     "name": "stderr",
     "output_type": "stream",
     "text": [
      "INFO:mathsformer:                                                                  'mathsformer_LLM_encoder_block_2\n"
     ]
    },
    {
     "name": "stdout",
     "output_type": "stream",
     "text": [
      "   INFO <module>:                                                                  [6][0]',                         \n"
     ]
    },
    {
     "name": "stderr",
     "output_type": "stream",
     "text": [
      "INFO:mathsformer:                                                                 [6][0]',                         \n"
     ]
    },
    {
     "name": "stdout",
     "output_type": "stream",
     "text": [
      "   INFO <module>:                                                                   'mathsformer_LLM_encoder_block_2\n"
     ]
    },
    {
     "name": "stderr",
     "output_type": "stream",
     "text": [
      "INFO:mathsformer:                                                                  'mathsformer_LLM_encoder_block_2\n"
     ]
    },
    {
     "name": "stdout",
     "output_type": "stream",
     "text": [
      "   INFO <module>:                                                                  [7][0]']                         \n"
     ]
    },
    {
     "name": "stderr",
     "output_type": "stream",
     "text": [
      "INFO:mathsformer:                                                                 [7][0]']                         \n"
     ]
    },
    {
     "name": "stdout",
     "output_type": "stream",
     "text": [
      "   INFO <module>:                                                                                                   \n"
     ]
    },
    {
     "name": "stderr",
     "output_type": "stream",
     "text": [
      "INFO:mathsformer:                                                                                                  \n"
     ]
    },
    {
     "name": "stdout",
     "output_type": "stream",
     "text": [
      "   INFO <module>:  mathsformer_LLM_encoder_block_  (None, None, 64)    149508      ['mathsformer_LLM_encoder_block_1\n"
     ]
    },
    {
     "name": "stderr",
     "output_type": "stream",
     "text": [
      "INFO:mathsformer: mathsformer_LLM_encoder_block_  (None, None, 64)    149508      ['mathsformer_LLM_encoder_block_1\n"
     ]
    },
    {
     "name": "stdout",
     "output_type": "stream",
     "text": [
      "   INFO <module>:  2 (EncoderBlock)                                                [0][0]',                         \n"
     ]
    },
    {
     "name": "stderr",
     "output_type": "stream",
     "text": [
      "INFO:mathsformer: 2 (EncoderBlock)                                                [0][0]',                         \n"
     ]
    },
    {
     "name": "stdout",
     "output_type": "stream",
     "text": [
      "   INFO <module>:                                                                   'mathsformer_LLM_encoder_block_1\n"
     ]
    },
    {
     "name": "stderr",
     "output_type": "stream",
     "text": [
      "INFO:mathsformer:                                                                  'mathsformer_LLM_encoder_block_1\n"
     ]
    },
    {
     "name": "stdout",
     "output_type": "stream",
     "text": [
      "   INFO <module>:                                                                  [1][0]',                         \n"
     ]
    },
    {
     "name": "stderr",
     "output_type": "stream",
     "text": [
      "INFO:mathsformer:                                                                 [1][0]',                         \n"
     ]
    },
    {
     "name": "stdout",
     "output_type": "stream",
     "text": [
      "   INFO <module>:                                                                   'mathsformer_LLM_encoder_block_1\n"
     ]
    },
    {
     "name": "stderr",
     "output_type": "stream",
     "text": [
      "INFO:mathsformer:                                                                  'mathsformer_LLM_encoder_block_1\n"
     ]
    },
    {
     "name": "stdout",
     "output_type": "stream",
     "text": [
      "   INFO <module>:                                                                  [2][0]',                         \n"
     ]
    },
    {
     "name": "stderr",
     "output_type": "stream",
     "text": [
      "INFO:mathsformer:                                                                 [2][0]',                         \n"
     ]
    },
    {
     "name": "stdout",
     "output_type": "stream",
     "text": [
      "   INFO <module>:                                                                   'mathsformer_LLM_encoder_block_1\n"
     ]
    },
    {
     "name": "stderr",
     "output_type": "stream",
     "text": [
      "INFO:mathsformer:                                                                  'mathsformer_LLM_encoder_block_1\n"
     ]
    },
    {
     "name": "stdout",
     "output_type": "stream",
     "text": [
      "   INFO <module>:                                                                  [3][0]',                         \n"
     ]
    },
    {
     "name": "stderr",
     "output_type": "stream",
     "text": [
      "INFO:mathsformer:                                                                 [3][0]',                         \n"
     ]
    },
    {
     "name": "stdout",
     "output_type": "stream",
     "text": [
      "   INFO <module>:                                                                   'mathsformer_LLM_encoder_block_1\n"
     ]
    },
    {
     "name": "stderr",
     "output_type": "stream",
     "text": [
      "INFO:mathsformer:                                                                  'mathsformer_LLM_encoder_block_1\n"
     ]
    },
    {
     "name": "stdout",
     "output_type": "stream",
     "text": [
      "   INFO <module>:                                                                  [4][0]',                         \n"
     ]
    },
    {
     "name": "stderr",
     "output_type": "stream",
     "text": [
      "INFO:mathsformer:                                                                 [4][0]',                         \n"
     ]
    },
    {
     "name": "stdout",
     "output_type": "stream",
     "text": [
      "   INFO <module>:                                                                   'mathsformer_LLM_encoder_block_1\n"
     ]
    },
    {
     "name": "stderr",
     "output_type": "stream",
     "text": [
      "INFO:mathsformer:                                                                  'mathsformer_LLM_encoder_block_1\n"
     ]
    },
    {
     "name": "stdout",
     "output_type": "stream",
     "text": [
      "   INFO <module>:                                                                  [5][0]',                         \n"
     ]
    },
    {
     "name": "stderr",
     "output_type": "stream",
     "text": [
      "INFO:mathsformer:                                                                 [5][0]',                         \n"
     ]
    },
    {
     "name": "stdout",
     "output_type": "stream",
     "text": [
      "   INFO <module>:                                                                   'mathsformer_LLM_encoder_block_1\n"
     ]
    },
    {
     "name": "stderr",
     "output_type": "stream",
     "text": [
      "INFO:mathsformer:                                                                  'mathsformer_LLM_encoder_block_1\n"
     ]
    },
    {
     "name": "stdout",
     "output_type": "stream",
     "text": [
      "   INFO <module>:                                                                  [6][0]',                         \n"
     ]
    },
    {
     "name": "stderr",
     "output_type": "stream",
     "text": [
      "INFO:mathsformer:                                                                 [6][0]',                         \n"
     ]
    },
    {
     "name": "stdout",
     "output_type": "stream",
     "text": [
      "   INFO <module>:                                                                   'mathsformer_LLM_encoder_block_1\n"
     ]
    },
    {
     "name": "stderr",
     "output_type": "stream",
     "text": [
      "INFO:mathsformer:                                                                  'mathsformer_LLM_encoder_block_1\n"
     ]
    },
    {
     "name": "stdout",
     "output_type": "stream",
     "text": [
      "   INFO <module>:                                                                  [7][0]',                         \n"
     ]
    },
    {
     "name": "stderr",
     "output_type": "stream",
     "text": [
      "INFO:mathsformer:                                                                 [7][0]',                         \n"
     ]
    },
    {
     "name": "stdout",
     "output_type": "stream",
     "text": [
      "   INFO <module>:                                                                   'mathsformer_LLM_encoder_block_1\n"
     ]
    },
    {
     "name": "stderr",
     "output_type": "stream",
     "text": [
      "INFO:mathsformer:                                                                  'mathsformer_LLM_encoder_block_1\n"
     ]
    },
    {
     "name": "stdout",
     "output_type": "stream",
     "text": [
      "   INFO <module>:                                                                  [8][0]']                         \n"
     ]
    },
    {
     "name": "stderr",
     "output_type": "stream",
     "text": [
      "INFO:mathsformer:                                                                 [8][0]']                         \n"
     ]
    },
    {
     "name": "stdout",
     "output_type": "stream",
     "text": [
      "   INFO <module>:                                                                                                   \n"
     ]
    },
    {
     "name": "stderr",
     "output_type": "stream",
     "text": [
      "INFO:mathsformer:                                                                                                  \n"
     ]
    },
    {
     "name": "stdout",
     "output_type": "stream",
     "text": [
      "   INFO <module>:  mathsformer_LLM_decoder_input_  [(None, None)]      0           []                               \n"
     ]
    },
    {
     "name": "stderr",
     "output_type": "stream",
     "text": [
      "INFO:mathsformer: mathsformer_LLM_decoder_input_  [(None, None)]      0           []                               \n"
     ]
    },
    {
     "name": "stdout",
     "output_type": "stream",
     "text": [
      "   INFO <module>:  layer (InputLayer)                                                                               \n"
     ]
    },
    {
     "name": "stderr",
     "output_type": "stream",
     "text": [
      "INFO:mathsformer: layer (InputLayer)                                                                               \n"
     ]
    },
    {
     "name": "stdout",
     "output_type": "stream",
     "text": [
      "   INFO <module>:                                                                                                   \n"
     ]
    },
    {
     "name": "stderr",
     "output_type": "stream",
     "text": [
      "INFO:mathsformer:                                                                                                  \n"
     ]
    },
    {
     "name": "stdout",
     "output_type": "stream",
     "text": [
      "   INFO <module>:  mathsformer_LLM_decoder_enumer  (None, None)        0           ['mathsformer_LLM_decoder_input_l\n"
     ]
    },
    {
     "name": "stderr",
     "output_type": "stream",
     "text": [
      "INFO:mathsformer: mathsformer_LLM_decoder_enumer  (None, None)        0           ['mathsformer_LLM_decoder_input_l\n"
     ]
    },
    {
     "name": "stdout",
     "output_type": "stream",
     "text": [
      "   INFO <module>:  ate (Enumerate)                                                 ayer[0][0]']                     \n"
     ]
    },
    {
     "name": "stderr",
     "output_type": "stream",
     "text": [
      "INFO:mathsformer: ate (Enumerate)                                                 ayer[0][0]']                     \n"
     ]
    },
    {
     "name": "stdout",
     "output_type": "stream",
     "text": [
      "   INFO <module>:                                                                                                   \n"
     ]
    },
    {
     "name": "stderr",
     "output_type": "stream",
     "text": [
      "INFO:mathsformer:                                                                                                  \n"
     ]
    },
    {
     "name": "stdout",
     "output_type": "stream",
     "text": [
      "   INFO <module>:  mathsformer_LLM_decoder_embedd  (None, None, 64)    1024        ['mathsformer_LLM_decoder_input_l\n"
     ]
    },
    {
     "name": "stderr",
     "output_type": "stream",
     "text": [
      "INFO:mathsformer: mathsformer_LLM_decoder_embedd  (None, None, 64)    1024        ['mathsformer_LLM_decoder_input_l\n"
     ]
    },
    {
     "name": "stdout",
     "output_type": "stream",
     "text": [
      "   INFO <module>:  ing (Embedding)                                                 ayer[0][0]']                     \n"
     ]
    },
    {
     "name": "stderr",
     "output_type": "stream",
     "text": [
      "INFO:mathsformer: ing (Embedding)                                                 ayer[0][0]']                     \n"
     ]
    },
    {
     "name": "stdout",
     "output_type": "stream",
     "text": [
      "   INFO <module>:                                                                                                   \n"
     ]
    },
    {
     "name": "stderr",
     "output_type": "stream",
     "text": [
      "INFO:mathsformer:                                                                                                  \n"
     ]
    },
    {
     "name": "stdout",
     "output_type": "stream",
     "text": [
      "   INFO <module>:  mathsformer_LLM_decoder_positi  (None, None, 64)    32          ['mathsformer_LLM_decoder_enumera\n"
     ]
    },
    {
     "name": "stderr",
     "output_type": "stream",
     "text": [
      "INFO:mathsformer: mathsformer_LLM_decoder_positi  (None, None, 64)    32          ['mathsformer_LLM_decoder_enumera\n"
     ]
    },
    {
     "name": "stdout",
     "output_type": "stream",
     "text": [
      "   INFO <module>:  on_encoding (PositionalEncodin                                  te[0][0]']                       \n"
     ]
    },
    {
     "name": "stderr",
     "output_type": "stream",
     "text": [
      "INFO:mathsformer: on_encoding (PositionalEncodin                                  te[0][0]']                       \n"
     ]
    },
    {
     "name": "stdout",
     "output_type": "stream",
     "text": [
      "   INFO <module>:  g)                                                                                               \n"
     ]
    },
    {
     "name": "stderr",
     "output_type": "stream",
     "text": [
      "INFO:mathsformer: g)                                                                                               \n"
     ]
    },
    {
     "name": "stdout",
     "output_type": "stream",
     "text": [
      "   INFO <module>:                                                                                                   \n"
     ]
    },
    {
     "name": "stderr",
     "output_type": "stream",
     "text": [
      "INFO:mathsformer:                                                                                                  \n"
     ]
    },
    {
     "name": "stdout",
     "output_type": "stream",
     "text": [
      "   INFO <module>:  mathsformer_LLM_decoder_emb_an  (None, None, 64)    0           ['mathsformer_LLM_decoder_embeddi\n"
     ]
    },
    {
     "name": "stderr",
     "output_type": "stream",
     "text": [
      "INFO:mathsformer: mathsformer_LLM_decoder_emb_an  (None, None, 64)    0           ['mathsformer_LLM_decoder_embeddi\n"
     ]
    },
    {
     "name": "stdout",
     "output_type": "stream",
     "text": [
      "   INFO <module>:  d_pos (Average)                                                 ng[0][0]',                       \n"
     ]
    },
    {
     "name": "stderr",
     "output_type": "stream",
     "text": [
      "INFO:mathsformer: d_pos (Average)                                                 ng[0][0]',                       \n"
     ]
    },
    {
     "name": "stdout",
     "output_type": "stream",
     "text": [
      "   INFO <module>:                                                                   'mathsformer_LLM_decoder_positio\n"
     ]
    },
    {
     "name": "stderr",
     "output_type": "stream",
     "text": [
      "INFO:mathsformer:                                                                  'mathsformer_LLM_decoder_positio\n"
     ]
    },
    {
     "name": "stdout",
     "output_type": "stream",
     "text": [
      "   INFO <module>:                                                                  n_encoding[0][0]']               \n"
     ]
    },
    {
     "name": "stderr",
     "output_type": "stream",
     "text": [
      "INFO:mathsformer:                                                                 n_encoding[0][0]']               \n"
     ]
    },
    {
     "name": "stdout",
     "output_type": "stream",
     "text": [
      "   INFO <module>:                                                                                                   \n"
     ]
    },
    {
     "name": "stderr",
     "output_type": "stream",
     "text": [
      "INFO:mathsformer:                                                                                                  \n"
     ]
    },
    {
     "name": "stdout",
     "output_type": "stream",
     "text": [
      "   INFO <module>:  mathsformer_LLM_decoder_block_  (None, None, 64)    282310      ['mathsformer_LLM_decoder_emb_and\n"
     ]
    },
    {
     "name": "stderr",
     "output_type": "stream",
     "text": [
      "INFO:mathsformer: mathsformer_LLM_decoder_block_  (None, None, 64)    282310      ['mathsformer_LLM_decoder_emb_and\n"
     ]
    },
    {
     "name": "stdout",
     "output_type": "stream",
     "text": [
      "   INFO <module>:  1 (DecoderBlock)                                                _pos[0][0]',                     \n"
     ]
    },
    {
     "name": "stderr",
     "output_type": "stream",
     "text": [
      "INFO:mathsformer: 1 (DecoderBlock)                                                _pos[0][0]',                     \n"
     ]
    },
    {
     "name": "stdout",
     "output_type": "stream",
     "text": [
      "   INFO <module>:                                                                   'mathsformer_LLM_encoder_block_2\n"
     ]
    },
    {
     "name": "stderr",
     "output_type": "stream",
     "text": [
      "INFO:mathsformer:                                                                  'mathsformer_LLM_encoder_block_2\n"
     ]
    },
    {
     "name": "stdout",
     "output_type": "stream",
     "text": [
      "   INFO <module>:                                                                  [5][0]',                         \n"
     ]
    },
    {
     "name": "stderr",
     "output_type": "stream",
     "text": [
      "INFO:mathsformer:                                                                 [5][0]',                         \n"
     ]
    },
    {
     "name": "stdout",
     "output_type": "stream",
     "text": [
      "   INFO <module>:                                                                   'mathsformer_LLM_decoder_emb_and\n"
     ]
    },
    {
     "name": "stderr",
     "output_type": "stream",
     "text": [
      "INFO:mathsformer:                                                                  'mathsformer_LLM_decoder_emb_and\n"
     ]
    },
    {
     "name": "stdout",
     "output_type": "stream",
     "text": [
      "   INFO <module>:                                                                  _pos[0][0]',                     \n"
     ]
    },
    {
     "name": "stderr",
     "output_type": "stream",
     "text": [
      "INFO:mathsformer:                                                                 _pos[0][0]',                     \n"
     ]
    },
    {
     "name": "stdout",
     "output_type": "stream",
     "text": [
      "   INFO <module>:                                                                   'mathsformer_LLM_encoder_block_2\n"
     ]
    },
    {
     "name": "stderr",
     "output_type": "stream",
     "text": [
      "INFO:mathsformer:                                                                  'mathsformer_LLM_encoder_block_2\n"
     ]
    },
    {
     "name": "stdout",
     "output_type": "stream",
     "text": [
      "   INFO <module>:                                                                  [6][0]',                         \n"
     ]
    },
    {
     "name": "stderr",
     "output_type": "stream",
     "text": [
      "INFO:mathsformer:                                                                 [6][0]',                         \n"
     ]
    },
    {
     "name": "stdout",
     "output_type": "stream",
     "text": [
      "   INFO <module>:                                                                   'mathsformer_LLM_decoder_emb_and\n"
     ]
    },
    {
     "name": "stderr",
     "output_type": "stream",
     "text": [
      "INFO:mathsformer:                                                                  'mathsformer_LLM_decoder_emb_and\n"
     ]
    },
    {
     "name": "stdout",
     "output_type": "stream",
     "text": [
      "   INFO <module>:                                                                  _pos[0][0]',                     \n"
     ]
    },
    {
     "name": "stderr",
     "output_type": "stream",
     "text": [
      "INFO:mathsformer:                                                                 _pos[0][0]',                     \n"
     ]
    },
    {
     "name": "stdout",
     "output_type": "stream",
     "text": [
      "   INFO <module>:                                                                   'mathsformer_LLM_encoder_block_2\n"
     ]
    },
    {
     "name": "stderr",
     "output_type": "stream",
     "text": [
      "INFO:mathsformer:                                                                  'mathsformer_LLM_encoder_block_2\n"
     ]
    },
    {
     "name": "stdout",
     "output_type": "stream",
     "text": [
      "   INFO <module>:                                                                  [7][0]',                         \n"
     ]
    },
    {
     "name": "stderr",
     "output_type": "stream",
     "text": [
      "INFO:mathsformer:                                                                 [7][0]',                         \n"
     ]
    },
    {
     "name": "stdout",
     "output_type": "stream",
     "text": [
      "   INFO <module>:                                                                   'mathsformer_LLM_decoder_emb_and\n"
     ]
    },
    {
     "name": "stderr",
     "output_type": "stream",
     "text": [
      "INFO:mathsformer:                                                                  'mathsformer_LLM_decoder_emb_and\n"
     ]
    },
    {
     "name": "stdout",
     "output_type": "stream",
     "text": [
      "   INFO <module>:                                                                  _pos[0][0]',                     \n"
     ]
    },
    {
     "name": "stderr",
     "output_type": "stream",
     "text": [
      "INFO:mathsformer:                                                                 _pos[0][0]',                     \n"
     ]
    },
    {
     "name": "stdout",
     "output_type": "stream",
     "text": [
      "   INFO <module>:                                                                   'mathsformer_LLM_encoder_block_2\n"
     ]
    },
    {
     "name": "stderr",
     "output_type": "stream",
     "text": [
      "INFO:mathsformer:                                                                  'mathsformer_LLM_encoder_block_2\n"
     ]
    },
    {
     "name": "stdout",
     "output_type": "stream",
     "text": [
      "   INFO <module>:                                                                  [8][0]']                         \n"
     ]
    },
    {
     "name": "stderr",
     "output_type": "stream",
     "text": [
      "INFO:mathsformer:                                                                 [8][0]']                         \n"
     ]
    },
    {
     "name": "stdout",
     "output_type": "stream",
     "text": [
      "   INFO <module>:                                                                                                   \n"
     ]
    },
    {
     "name": "stderr",
     "output_type": "stream",
     "text": [
      "INFO:mathsformer:                                                                                                  \n"
     ]
    },
    {
     "name": "stdout",
     "output_type": "stream",
     "text": [
      "   INFO <module>:  mathsformer_LLM_decoder_block_  (None, None, 64)    282310      ['mathsformer_LLM_decoder_block_1\n"
     ]
    },
    {
     "name": "stderr",
     "output_type": "stream",
     "text": [
      "INFO:mathsformer: mathsformer_LLM_decoder_block_  (None, None, 64)    282310      ['mathsformer_LLM_decoder_block_1\n"
     ]
    },
    {
     "name": "stdout",
     "output_type": "stream",
     "text": [
      "   INFO <module>:  2 (DecoderBlock)                                                [0][0]',                         \n"
     ]
    },
    {
     "name": "stderr",
     "output_type": "stream",
     "text": [
      "INFO:mathsformer: 2 (DecoderBlock)                                                [0][0]',                         \n"
     ]
    },
    {
     "name": "stdout",
     "output_type": "stream",
     "text": [
      "   INFO <module>:                                                                   'mathsformer_LLM_encoder_block_2\n"
     ]
    },
    {
     "name": "stderr",
     "output_type": "stream",
     "text": [
      "INFO:mathsformer:                                                                  'mathsformer_LLM_encoder_block_2\n"
     ]
    },
    {
     "name": "stdout",
     "output_type": "stream",
     "text": [
      "   INFO <module>:                                                                  [5][0]',                         \n"
     ]
    },
    {
     "name": "stderr",
     "output_type": "stream",
     "text": [
      "INFO:mathsformer:                                                                 [5][0]',                         \n"
     ]
    },
    {
     "name": "stdout",
     "output_type": "stream",
     "text": [
      "   INFO <module>:                                                                   'mathsformer_LLM_decoder_block_1\n"
     ]
    },
    {
     "name": "stderr",
     "output_type": "stream",
     "text": [
      "INFO:mathsformer:                                                                  'mathsformer_LLM_decoder_block_1\n"
     ]
    },
    {
     "name": "stdout",
     "output_type": "stream",
     "text": [
      "   INFO <module>:                                                                  [1][0]',                         \n"
     ]
    },
    {
     "name": "stderr",
     "output_type": "stream",
     "text": [
      "INFO:mathsformer:                                                                 [1][0]',                         \n"
     ]
    },
    {
     "name": "stdout",
     "output_type": "stream",
     "text": [
      "   INFO <module>:                                                                   'mathsformer_LLM_encoder_block_2\n"
     ]
    },
    {
     "name": "stderr",
     "output_type": "stream",
     "text": [
      "INFO:mathsformer:                                                                  'mathsformer_LLM_encoder_block_2\n"
     ]
    },
    {
     "name": "stdout",
     "output_type": "stream",
     "text": [
      "   INFO <module>:                                                                  [6][0]',                         \n"
     ]
    },
    {
     "name": "stderr",
     "output_type": "stream",
     "text": [
      "INFO:mathsformer:                                                                 [6][0]',                         \n"
     ]
    },
    {
     "name": "stdout",
     "output_type": "stream",
     "text": [
      "   INFO <module>:                                                                   'mathsformer_LLM_decoder_block_1\n"
     ]
    },
    {
     "name": "stderr",
     "output_type": "stream",
     "text": [
      "INFO:mathsformer:                                                                  'mathsformer_LLM_decoder_block_1\n"
     ]
    },
    {
     "name": "stdout",
     "output_type": "stream",
     "text": [
      "   INFO <module>:                                                                  [2][0]',                         \n"
     ]
    },
    {
     "name": "stderr",
     "output_type": "stream",
     "text": [
      "INFO:mathsformer:                                                                 [2][0]',                         \n"
     ]
    },
    {
     "name": "stdout",
     "output_type": "stream",
     "text": [
      "   INFO <module>:                                                                   'mathsformer_LLM_encoder_block_2\n"
     ]
    },
    {
     "name": "stderr",
     "output_type": "stream",
     "text": [
      "INFO:mathsformer:                                                                  'mathsformer_LLM_encoder_block_2\n"
     ]
    },
    {
     "name": "stdout",
     "output_type": "stream",
     "text": [
      "   INFO <module>:                                                                  [7][0]',                         \n"
     ]
    },
    {
     "name": "stderr",
     "output_type": "stream",
     "text": [
      "INFO:mathsformer:                                                                 [7][0]',                         \n"
     ]
    },
    {
     "name": "stdout",
     "output_type": "stream",
     "text": [
      "   INFO <module>:                                                                   'mathsformer_LLM_decoder_block_1\n"
     ]
    },
    {
     "name": "stderr",
     "output_type": "stream",
     "text": [
      "INFO:mathsformer:                                                                  'mathsformer_LLM_decoder_block_1\n"
     ]
    },
    {
     "name": "stdout",
     "output_type": "stream",
     "text": [
      "   INFO <module>:                                                                  [3][0]',                         \n"
     ]
    },
    {
     "name": "stderr",
     "output_type": "stream",
     "text": [
      "INFO:mathsformer:                                                                 [3][0]',                         \n"
     ]
    },
    {
     "name": "stdout",
     "output_type": "stream",
     "text": [
      "   INFO <module>:                                                                   'mathsformer_LLM_encoder_block_2\n"
     ]
    },
    {
     "name": "stderr",
     "output_type": "stream",
     "text": [
      "INFO:mathsformer:                                                                  'mathsformer_LLM_encoder_block_2\n"
     ]
    },
    {
     "name": "stdout",
     "output_type": "stream",
     "text": [
      "   INFO <module>:                                                                  [8][0]']                         \n"
     ]
    },
    {
     "name": "stderr",
     "output_type": "stream",
     "text": [
      "INFO:mathsformer:                                                                 [8][0]']                         \n"
     ]
    },
    {
     "name": "stdout",
     "output_type": "stream",
     "text": [
      "   INFO <module>:                                                                                                   \n"
     ]
    },
    {
     "name": "stderr",
     "output_type": "stream",
     "text": [
      "INFO:mathsformer:                                                                                                  \n"
     ]
    },
    {
     "name": "stdout",
     "output_type": "stream",
     "text": [
      "   INFO <module>:  mathsformer_LLM_output (FeedFo  (None, None, 16)    27024       ['mathsformer_LLM_decoder_block_2\n"
     ]
    },
    {
     "name": "stderr",
     "output_type": "stream",
     "text": [
      "INFO:mathsformer: mathsformer_LLM_output (FeedFo  (None, None, 16)    27024       ['mathsformer_LLM_decoder_block_2\n"
     ]
    },
    {
     "name": "stdout",
     "output_type": "stream",
     "text": [
      "   INFO <module>:  rwardBlock)                                                     [0][0]',                         \n"
     ]
    },
    {
     "name": "stderr",
     "output_type": "stream",
     "text": [
      "INFO:mathsformer: rwardBlock)                                                     [0][0]',                         \n"
     ]
    },
    {
     "name": "stdout",
     "output_type": "stream",
     "text": [
      "   INFO <module>:                                                                   'mathsformer_LLM_decoder_block_2\n"
     ]
    },
    {
     "name": "stderr",
     "output_type": "stream",
     "text": [
      "INFO:mathsformer:                                                                  'mathsformer_LLM_decoder_block_2\n"
     ]
    },
    {
     "name": "stdout",
     "output_type": "stream",
     "text": [
      "   INFO <module>:                                                                  [1][0]',                         \n"
     ]
    },
    {
     "name": "stderr",
     "output_type": "stream",
     "text": [
      "INFO:mathsformer:                                                                 [1][0]',                         \n"
     ]
    },
    {
     "name": "stdout",
     "output_type": "stream",
     "text": [
      "   INFO <module>:                                                                   'mathsformer_LLM_decoder_block_2\n"
     ]
    },
    {
     "name": "stderr",
     "output_type": "stream",
     "text": [
      "INFO:mathsformer:                                                                  'mathsformer_LLM_decoder_block_2\n"
     ]
    },
    {
     "name": "stdout",
     "output_type": "stream",
     "text": [
      "   INFO <module>:                                                                  [2][0]',                         \n"
     ]
    },
    {
     "name": "stderr",
     "output_type": "stream",
     "text": [
      "INFO:mathsformer:                                                                 [2][0]',                         \n"
     ]
    },
    {
     "name": "stdout",
     "output_type": "stream",
     "text": [
      "   INFO <module>:                                                                   'mathsformer_LLM_decoder_block_2\n"
     ]
    },
    {
     "name": "stderr",
     "output_type": "stream",
     "text": [
      "INFO:mathsformer:                                                                  'mathsformer_LLM_decoder_block_2\n"
     ]
    },
    {
     "name": "stdout",
     "output_type": "stream",
     "text": [
      "   INFO <module>:                                                                  [3][0]']                         \n"
     ]
    },
    {
     "name": "stderr",
     "output_type": "stream",
     "text": [
      "INFO:mathsformer:                                                                 [3][0]']                         \n"
     ]
    },
    {
     "name": "stdout",
     "output_type": "stream",
     "text": [
      "   INFO <module>:                                                                                                   \n"
     ]
    },
    {
     "name": "stderr",
     "output_type": "stream",
     "text": [
      "INFO:mathsformer:                                                                                                  \n"
     ]
    },
    {
     "name": "stdout",
     "output_type": "stream",
     "text": [
      "   INFO <module>: ==================================================================================================\n"
     ]
    },
    {
     "name": "stderr",
     "output_type": "stream",
     "text": [
      "INFO:mathsformer:==================================================================================================\n"
     ]
    },
    {
     "name": "stdout",
     "output_type": "stream",
     "text": [
      "   INFO <module>: Total params: 892,772\n"
     ]
    },
    {
     "name": "stderr",
     "output_type": "stream",
     "text": [
      "INFO:mathsformer:Total params: 892,772\n"
     ]
    },
    {
     "name": "stdout",
     "output_type": "stream",
     "text": [
      "   INFO <module>: Trainable params: 892,772\n"
     ]
    },
    {
     "name": "stderr",
     "output_type": "stream",
     "text": [
      "INFO:mathsformer:Trainable params: 892,772\n"
     ]
    },
    {
     "name": "stdout",
     "output_type": "stream",
     "text": [
      "   INFO <module>: Non-trainable params: 0\n"
     ]
    },
    {
     "name": "stderr",
     "output_type": "stream",
     "text": [
      "INFO:mathsformer:Non-trainable params: 0\n"
     ]
    },
    {
     "name": "stdout",
     "output_type": "stream",
     "text": [
      "   INFO <module>: __________________________________________________________________________________________________\n"
     ]
    },
    {
     "name": "stderr",
     "output_type": "stream",
     "text": [
      "INFO:mathsformer:__________________________________________________________________________________________________\n"
     ]
    }
   ],
   "source": [
    "##===================================================##\n",
    "##   Load or create self-supervised learning model   ##\n",
    "##===================================================##\n",
    "\n",
    "##  Get filename for load model\n",
    "fname = cfg_model.get(\"load_pretrained_model\", None)\n",
    "\n",
    "##  Load model if fname is not None, otherwise create from scratch\n",
    "if fname is not None :\n",
    "    logger.info   (f\"Loading model from: {fname}\")\n",
    "    logger.warning(\"Loading a pretrained model will disregard model config!\")\n",
    "    model = backend.load_text_to_text_model(fname)\n",
    "    model.optimizer.learning_rate.assign(cfg_model[\"learning_rate\"])  ## Reset LR to config value\n",
    "else :\n",
    "    logger.info(f\"Creating new text-to-text model\")\n",
    "    model = backend.create_text_to_text_model_from_config(cfg_model, token_transform)\n",
    "\n",
    "##  Create hack to catch model summary\n",
    "model_summary = []\n",
    "model.summary(print_fn = lambda s : model_summary.append(s))\n",
    "\n",
    "##  Print model summary\n",
    "logger.info(\"Model created with summary:\")\n",
    "for s in model_summary : logger.info(s)\n"
   ]
  },
  {
   "cell_type": "code",
   "execution_count": 10,
   "id": "793493a0",
   "metadata": {},
   "outputs": [],
   "source": [
    "##==============================================================##\n",
    "##   Create transformer wrapper for model and token_transform   ##\n",
    "##==============================================================##\n",
    "\n",
    "transformer = transformers.Transformer_Text_to_Text(model, token_transform)\n"
   ]
  },
  {
   "cell_type": "code",
   "execution_count": 11,
   "id": "956e30a6",
   "metadata": {
    "scrolled": true
   },
   "outputs": [
    {
     "name": "stdout",
     "output_type": "stream",
     "text": [
      "   INFO test_transformer: Running text --> text mathsformer inference on some training data:\n"
     ]
    },
    {
     "name": "stderr",
     "output_type": "stream",
     "text": [
      "INFO:mathsformer.selfsupervised_learning_addition_model_backend:Running text --> text mathsformer inference on some training data:\n"
     ]
    },
    {
     "name": "stdout",
     "output_type": "stream",
     "text": [
      "   INFO print_predictions_table: -----------------------------------------------------------------------------------\n"
     ]
    },
    {
     "name": "stderr",
     "output_type": "stream",
     "text": [
      "INFO:mathsformer.selfsupervised_learning_addition_model_backend:-----------------------------------------------------------------------------------\n"
     ]
    },
    {
     "name": "stdout",
     "output_type": "stream",
     "text": [
      "   INFO print_predictions_table:            INPUT         TRUE   PRED(MASK)      PRED(GEN)      CORRECT     RESIDUAL\n"
     ]
    },
    {
     "name": "stderr",
     "output_type": "stream",
     "text": [
      "INFO:mathsformer.selfsupervised_learning_addition_model_backend:           INPUT         TRUE   PRED(MASK)      PRED(GEN)      CORRECT     RESIDUAL\n"
     ]
    },
    {
     "name": "stdout",
     "output_type": "stream",
     "text": [
      "   INFO print_predictions_table: -----------------------------------------------------------------------------------\n"
     ]
    },
    {
     "name": "stderr",
     "output_type": "stream",
     "text": [
      "INFO:mathsformer.selfsupervised_learning_addition_model_backend:-----------------------------------------------------------------------------------\n"
     ]
    },
    {
     "name": "stdout",
     "output_type": "stream",
     "text": [
      "   INFO print_predictions_table:    28+N3+6-N54-6           79        99552 9955999999944B                      ?   \n"
     ]
    },
    {
     "name": "stderr",
     "output_type": "stream",
     "text": [
      "INFO:mathsformer.selfsupervised_learning_addition_model_backend:   28+N3+6-N54-6           79        99552 9955999999944B                      ?   \n"
     ]
    },
    {
     "name": "stdout",
     "output_type": "stream",
     "text": [
      "   INFO print_predictions_table:         1-1-25+1          N24        99552 9955999999944B                      ?   \n"
     ]
    },
    {
     "name": "stderr",
     "output_type": "stream",
     "text": [
      "INFO:mathsformer.selfsupervised_learning_addition_model_backend:        1-1-25+1          N24        99552 9955999999944B                      ?   \n"
     ]
    },
    {
     "name": "stdout",
     "output_type": "stream",
     "text": [
      "   INFO print_predictions_table:    N88-N74-N8-N2           N4        99552 9955999999944B                      ?   \n"
     ]
    },
    {
     "name": "stderr",
     "output_type": "stream",
     "text": [
      "INFO:mathsformer.selfsupervised_learning_addition_model_backend:   N88-N74-N8-N2           N4        99552 9955999999944B                      ?   \n"
     ]
    },
    {
     "name": "stdout",
     "output_type": "stream",
     "text": [
      "   INFO print_predictions_table:      N48+4+62-20           N2        99552 9955999999944B                      ?   \n"
     ]
    },
    {
     "name": "stderr",
     "output_type": "stream",
     "text": [
      "INFO:mathsformer.selfsupervised_learning_addition_model_backend:     N48+4+62-20           N2        99552 9955999999944B                      ?   \n"
     ]
    },
    {
     "name": "stdout",
     "output_type": "stream",
     "text": [
      "   INFO print_predictions_table:        17-1-6+58           68        99552 9955999999944B                      ?   \n"
     ]
    },
    {
     "name": "stderr",
     "output_type": "stream",
     "text": [
      "INFO:mathsformer.selfsupervised_learning_addition_model_backend:       17-1-6+58           68        99552 9955999999944B                      ?   \n"
     ]
    },
    {
     "name": "stdout",
     "output_type": "stream",
     "text": [
      "   INFO print_predictions_table:  2+N35+N82+1+N58         N172        99552 9955999999944B                      ?   \n"
     ]
    },
    {
     "name": "stderr",
     "output_type": "stream",
     "text": [
      "INFO:mathsformer.selfsupervised_learning_addition_model_backend: 2+N35+N82+1+N58         N172        99552 9955999999944B                      ?   \n"
     ]
    },
    {
     "name": "stdout",
     "output_type": "stream",
     "text": [
      "   INFO print_predictions_table:           N10-78          N88        99552 9955999999944B                      ?   \n"
     ]
    },
    {
     "name": "stderr",
     "output_type": "stream",
     "text": [
      "INFO:mathsformer.selfsupervised_learning_addition_model_backend:          N10-78          N88        99552 9955999999944B                      ?   \n"
     ]
    },
    {
     "name": "stdout",
     "output_type": "stream",
     "text": [
      "   INFO print_predictions_table:       N9-90-52-9         N160        99559 9955999999944B                      ?   \n"
     ]
    },
    {
     "name": "stderr",
     "output_type": "stream",
     "text": [
      "INFO:mathsformer.selfsupervised_learning_addition_model_backend:      N9-90-52-9         N160        99559 9955999999944B                      ?   \n"
     ]
    },
    {
     "name": "stdout",
     "output_type": "stream",
     "text": [
      "   INFO print_predictions_table:           N91+94            3        99552 9955999999944B                      ?   \n"
     ]
    },
    {
     "name": "stderr",
     "output_type": "stream",
     "text": [
      "INFO:mathsformer.selfsupervised_learning_addition_model_backend:          N91+94            3        99552 9955999999944B                      ?   \n"
     ]
    },
    {
     "name": "stdout",
     "output_type": "stream",
     "text": [
      "   INFO print_predictions_table:      4+N4+75+N93          N18        99552 9955999999944B                      ?   \n"
     ]
    },
    {
     "name": "stderr",
     "output_type": "stream",
     "text": [
      "INFO:mathsformer.selfsupervised_learning_addition_model_backend:     4+N4+75+N93          N18        99552 9955999999944B                      ?   \n"
     ]
    },
    {
     "name": "stdout",
     "output_type": "stream",
     "text": [
      "   INFO test_transformer: Running text --> text mathsformer inference on some validation data:\n"
     ]
    },
    {
     "name": "stderr",
     "output_type": "stream",
     "text": [
      "INFO:mathsformer.selfsupervised_learning_addition_model_backend:Running text --> text mathsformer inference on some validation data:\n"
     ]
    },
    {
     "name": "stdout",
     "output_type": "stream",
     "text": [
      "   INFO print_predictions_table: ----------------------------------------------------------------------------------------\n"
     ]
    },
    {
     "name": "stderr",
     "output_type": "stream",
     "text": [
      "INFO:mathsformer.selfsupervised_learning_addition_model_backend:----------------------------------------------------------------------------------------\n"
     ]
    },
    {
     "name": "stdout",
     "output_type": "stream",
     "text": [
      "   INFO print_predictions_table:                 INPUT         TRUE   PRED(MASK)      PRED(GEN)      CORRECT     RESIDUAL\n"
     ]
    },
    {
     "name": "stderr",
     "output_type": "stream",
     "text": [
      "INFO:mathsformer.selfsupervised_learning_addition_model_backend:                INPUT         TRUE   PRED(MASK)      PRED(GEN)      CORRECT     RESIDUAL\n"
     ]
    },
    {
     "name": "stdout",
     "output_type": "stream",
     "text": [
      "   INFO print_predictions_table: ----------------------------------------------------------------------------------------\n"
     ]
    },
    {
     "name": "stderr",
     "output_type": "stream",
     "text": [
      "INFO:mathsformer.selfsupervised_learning_addition_model_backend:----------------------------------------------------------------------------------------\n"
     ]
    },
    {
     "name": "stdout",
     "output_type": "stream",
     "text": [
      "   INFO print_predictions_table:               N4-7-N6           N5        99552 9955999999944B                      ?   \n"
     ]
    },
    {
     "name": "stderr",
     "output_type": "stream",
     "text": [
      "INFO:mathsformer.selfsupervised_learning_addition_model_backend:              N4-7-N6           N5        99552 9955999999944B                      ?   \n"
     ]
    },
    {
     "name": "stdout",
     "output_type": "stream",
     "text": [
      "   INFO print_predictions_table:  N1+N29-N70-N35+96-N4          175        99552 9955999999944B                      ?   \n"
     ]
    },
    {
     "name": "stderr",
     "output_type": "stream",
     "text": [
      "INFO:mathsformer.selfsupervised_learning_addition_model_backend: N1+N29-N70-N35+96-N4          175        99552 9955999999944B                      ?   \n"
     ]
    },
    {
     "name": "stdout",
     "output_type": "stream",
     "text": [
      "   INFO print_predictions_table:              N5-N50-4           41        99552 9955999999944B                      ?   \n"
     ]
    },
    {
     "name": "stderr",
     "output_type": "stream",
     "text": [
      "INFO:mathsformer.selfsupervised_learning_addition_model_backend:             N5-N50-4           41        99552 9955999999944B                      ?   \n"
     ]
    },
    {
     "name": "stdout",
     "output_type": "stream",
     "text": [
      "   INFO print_predictions_table:              N9+40+N9           22        99552 9955999999944B                      ?   \n"
     ]
    },
    {
     "name": "stderr",
     "output_type": "stream",
     "text": [
      "INFO:mathsformer.selfsupervised_learning_addition_model_backend:             N9+40+N9           22        99552 9955999999944B                      ?   \n"
     ]
    },
    {
     "name": "stdout",
     "output_type": "stream",
     "text": [
      "   INFO print_predictions_table:              N68+6-N1          N61        99552 9955999999944B                      ?   \n"
     ]
    },
    {
     "name": "stderr",
     "output_type": "stream",
     "text": [
      "INFO:mathsformer.selfsupervised_learning_addition_model_backend:             N68+6-N1          N61        99552 9955999999944B                      ?   \n"
     ]
    },
    {
     "name": "stdout",
     "output_type": "stream",
     "text": [
      "   INFO print_predictions_table:   N3+N89-94+N44+16+N2         N216        99552 9955999999944B                      ?   \n"
     ]
    },
    {
     "name": "stderr",
     "output_type": "stream",
     "text": [
      "INFO:mathsformer.selfsupervised_learning_addition_model_backend:  N3+N89-94+N44+16+N2         N216        99552 9955999999944B                      ?   \n"
     ]
    },
    {
     "name": "stdout",
     "output_type": "stream",
     "text": [
      "   INFO print_predictions_table:                8-N7-6            9        99552 9955999999944B                      ?   \n"
     ]
    },
    {
     "name": "stderr",
     "output_type": "stream",
     "text": [
      "INFO:mathsformer.selfsupervised_learning_addition_model_backend:               8-N7-6            9        99552 9955999999944B                      ?   \n"
     ]
    },
    {
     "name": "stdout",
     "output_type": "stream",
     "text": [
      "   INFO print_predictions_table:     N28+N9+3+N4+1-N17          N20        99552 9955999999944B                      ?   \n"
     ]
    },
    {
     "name": "stderr",
     "output_type": "stream",
     "text": [
      "INFO:mathsformer.selfsupervised_learning_addition_model_backend:    N28+N9+3+N4+1-N17          N20        99552 9955999999944B                      ?   \n"
     ]
    },
    {
     "name": "stdout",
     "output_type": "stream",
     "text": [
      "   INFO print_predictions_table:     44+7-N50-N5-71+N6           29        99552 9955999999944B                      ?   \n"
     ]
    },
    {
     "name": "stderr",
     "output_type": "stream",
     "text": [
      "INFO:mathsformer.selfsupervised_learning_addition_model_backend:    44+7-N50-N5-71+N6           29        99552 9955999999944B                      ?   \n"
     ]
    },
    {
     "name": "stdout",
     "output_type": "stream",
     "text": [
      "   INFO print_predictions_table:             24+N5-N99          118        99552 9955999999944B                      ?   \n"
     ]
    },
    {
     "name": "stderr",
     "output_type": "stream",
     "text": [
      "INFO:mathsformer.selfsupervised_learning_addition_model_backend:            24+N5-N99          118        99552 9955999999944B                      ?   \n"
     ]
    },
    {
     "name": "stdout",
     "output_type": "stream",
     "text": [
      "   INFO test_transformer: Running text --> text mathsformer inference on some test data:\n"
     ]
    },
    {
     "name": "stderr",
     "output_type": "stream",
     "text": [
      "INFO:mathsformer.selfsupervised_learning_addition_model_backend:Running text --> text mathsformer inference on some test data:\n"
     ]
    },
    {
     "name": "stdout",
     "output_type": "stream",
     "text": [
      "   INFO print_predictions_table: ---------------------------------------------------------------------------------------------\n"
     ]
    },
    {
     "name": "stderr",
     "output_type": "stream",
     "text": [
      "INFO:mathsformer.selfsupervised_learning_addition_model_backend:---------------------------------------------------------------------------------------------\n"
     ]
    },
    {
     "name": "stdout",
     "output_type": "stream",
     "text": [
      "   INFO print_predictions_table:                      INPUT         TRUE   PRED(MASK)      PRED(GEN)      CORRECT     RESIDUAL\n"
     ]
    },
    {
     "name": "stderr",
     "output_type": "stream",
     "text": [
      "INFO:mathsformer.selfsupervised_learning_addition_model_backend:                     INPUT         TRUE   PRED(MASK)      PRED(GEN)      CORRECT     RESIDUAL\n"
     ]
    },
    {
     "name": "stdout",
     "output_type": "stream",
     "text": [
      "   INFO print_predictions_table: ---------------------------------------------------------------------------------------------\n"
     ]
    },
    {
     "name": "stderr",
     "output_type": "stream",
     "text": [
      "INFO:mathsformer.selfsupervised_learning_addition_model_backend:---------------------------------------------------------------------------------------------\n"
     ]
    },
    {
     "name": "stdout",
     "output_type": "stream",
     "text": [
      "   INFO print_predictions_table:   N45-N9+24-99-65-6-N16+N7         N173        99552 9955999999944B                      ?   \n"
     ]
    },
    {
     "name": "stderr",
     "output_type": "stream",
     "text": [
      "INFO:mathsformer.selfsupervised_learning_addition_model_backend:  N45-N9+24-99-65-6-N16+N7         N173        99552 9955999999944B                      ?   \n"
     ]
    },
    {
     "name": "stdout",
     "output_type": "stream",
     "text": [
      "   INFO print_predictions_table:     N79+43-8-N12-7+N75-9+4         N119        99552 9955999999944B                      ?   \n"
     ]
    },
    {
     "name": "stderr",
     "output_type": "stream",
     "text": [
      "INFO:mathsformer.selfsupervised_learning_addition_model_backend:    N79+43-8-N12-7+N75-9+4         N119        99552 9955999999944B                      ?   \n"
     ]
    },
    {
     "name": "stdout",
     "output_type": "stream",
     "text": [
      "   INFO print_predictions_table:     86-5-5+4-8+N5+17+N9-56           19        99552 9955999999944B                      ?   \n"
     ]
    },
    {
     "name": "stderr",
     "output_type": "stream",
     "text": [
      "INFO:mathsformer.selfsupervised_learning_addition_model_backend:    86-5-5+4-8+N5+17+N9-56           19        99552 9955999999944B                      ?   \n"
     ]
    },
    {
     "name": "stdout",
     "output_type": "stream",
     "text": [
      "   INFO print_predictions_table:   N9+N45-N9-N2+6+7-N42-N94          106        99552 9955999999944B                      ?   \n"
     ]
    },
    {
     "name": "stderr",
     "output_type": "stream",
     "text": [
      "INFO:mathsformer.selfsupervised_learning_addition_model_backend:  N9+N45-N9-N2+6+7-N42-N94          106        99552 9955999999944B                      ?   \n"
     ]
    },
    {
     "name": "stdout",
     "output_type": "stream",
     "text": [
      "   INFO print_predictions_table:      N67-37-N15+27-6+N8+N8          N84        99552 9955999999944B                      ?   \n"
     ]
    },
    {
     "name": "stderr",
     "output_type": "stream",
     "text": [
      "INFO:mathsformer.selfsupervised_learning_addition_model_backend:     N67-37-N15+27-6+N8+N8          N84        99552 9955999999944B                      ?   \n"
     ]
    },
    {
     "name": "stdout",
     "output_type": "stream",
     "text": [
      "   INFO print_predictions_table:   3-N2+N4+N62-N17-1+N7+N78         N130        99559 9955999999944B                      ?   \n"
     ]
    },
    {
     "name": "stderr",
     "output_type": "stream",
     "text": [
      "INFO:mathsformer.selfsupervised_learning_addition_model_backend:  3-N2+N4+N62-N17-1+N7+N78         N130        99559 9955999999944B                      ?   \n"
     ]
    },
    {
     "name": "stdout",
     "output_type": "stream",
     "text": [
      "   INFO print_predictions_table:        N4-43-N2+N9-7-N2-N5          N54        99552 9955999999944B                      ?   \n"
     ]
    },
    {
     "name": "stderr",
     "output_type": "stream",
     "text": [
      "INFO:mathsformer.selfsupervised_learning_addition_model_backend:       N4-43-N2+N9-7-N2-N5          N54        99552 9955999999944B                      ?   \n"
     ]
    },
    {
     "name": "stdout",
     "output_type": "stream",
     "text": [
      "   INFO print_predictions_table:    N97-31+N75+62+N61+92-N1         N109        99552 9955999999944B                      ?   \n"
     ]
    },
    {
     "name": "stderr",
     "output_type": "stream",
     "text": [
      "INFO:mathsformer.selfsupervised_learning_addition_model_backend:   N97-31+N75+62+N61+92-N1         N109        99552 9955999999944B                      ?   \n"
     ]
    },
    {
     "name": "stdout",
     "output_type": "stream",
     "text": [
      "   INFO print_predictions_table:       97+1+N65-N2+94+4-N93          226        99552 9955999999944B                      ?   \n"
     ]
    },
    {
     "name": "stderr",
     "output_type": "stream",
     "text": [
      "INFO:mathsformer.selfsupervised_learning_addition_model_backend:      97+1+N65-N2+94+4-N93          226        99552 9955999999944B                      ?   \n"
     ]
    },
    {
     "name": "stdout",
     "output_type": "stream",
     "text": [
      "   INFO print_predictions_table:  N53+N18-N8+9+N1-N70+83-N4          102        99552 9955999999944B                      ?   \n"
     ]
    },
    {
     "name": "stderr",
     "output_type": "stream",
     "text": [
      "INFO:mathsformer.selfsupervised_learning_addition_model_backend: N53+N18-N8+9+N1-N70+83-N4          102        99552 9955999999944B                      ?   \n"
     ]
    }
   ],
   "source": [
    "##=========================================##\n",
    "##   Test transformer on data generators   ##\n",
    "##=========================================##\n",
    "\n",
    "backend.test_transformer(transformer, train_gen, val_gen, test_gen, negative_char=negative_char)\n"
   ]
  },
  {
   "cell_type": "markdown",
   "id": "467f7a52",
   "metadata": {},
   "source": [
    "##  5.  Train model"
   ]
  },
  {
   "cell_type": "code",
   "execution_count": 12,
   "id": "aea411fe",
   "metadata": {},
   "outputs": [
    {
     "name": "stdout",
     "output_type": "stream",
     "text": [
      "   INFO get_callbacks: Registered training callback: LoggerCallback with loglvl=10\n"
     ]
    },
    {
     "name": "stderr",
     "output_type": "stream",
     "text": [
      "INFO:mathsformer.selfsupervised_learning_addition_model_backend:Registered training callback: LoggerCallback with loglvl=10\n"
     ]
    },
    {
     "name": "stdout",
     "output_type": "stream",
     "text": [
      "   INFO get_callbacks: Registered training callback: AdaptiveLearningRate with decay_factor=0.2, patience=2, monitor=loss, mode=min, log_lvl=10\n"
     ]
    },
    {
     "name": "stderr",
     "output_type": "stream",
     "text": [
      "INFO:mathsformer.selfsupervised_learning_addition_model_backend:Registered training callback: AdaptiveLearningRate with decay_factor=0.2, patience=2, monitor=loss, mode=min, log_lvl=10\n"
     ]
    },
    {
     "name": "stdout",
     "output_type": "stream",
     "text": [
      "   INFO get_callbacks: Registered training callback: ModelCheckpoint with filepath=SSL_loopy_enc_dec_notebook_int1235_num124578_embed64_enc_2blocks_6loops_width128_dec_2blocks_1loops_width128_post2_width128_idem3_2023_06_28_v2/model_checkpoint_epoch{epoch}_val_loss_{val_loss:.5}.keras\n"
     ]
    },
    {
     "name": "stderr",
     "output_type": "stream",
     "text": [
      "INFO:mathsformer.selfsupervised_learning_addition_model_backend:Registered training callback: ModelCheckpoint with filepath=SSL_loopy_enc_dec_notebook_int1235_num124578_embed64_enc_2blocks_6loops_width128_dec_2blocks_1loops_width128_post2_width128_idem3_2023_06_28_v2/model_checkpoint_epoch{epoch}_val_loss_{val_loss:.5}.keras\n"
     ]
    },
    {
     "name": "stdout",
     "output_type": "stream",
     "text": [
      "   INFO get_callbacks: Registered training callback: LambdaCallback for test_transformer with num_print=10, negative_char='N'\n"
     ]
    },
    {
     "name": "stderr",
     "output_type": "stream",
     "text": [
      "INFO:mathsformer.selfsupervised_learning_addition_model_backend:Registered training callback: LambdaCallback for test_transformer with num_print=10, negative_char='N'\n"
     ]
    }
   ],
   "source": [
    "##===================================##\n",
    "##   Create callbacks for training   ##\n",
    "##===================================##\n",
    "\n",
    "callbacks = backend.get_callbacks(cfg_training, working_dir, transformer=transformer, train_gen=train_gen_reproducible, \n",
    "                                  val_gen=val_gen, negative_char=negative_char)\n"
   ]
  },
  {
   "cell_type": "code",
   "execution_count": null,
   "id": "21d1736d",
   "metadata": {
    "scrolled": true
   },
   "outputs": [
    {
     "name": "stdout",
     "output_type": "stream",
     "text": [
      "   INFO <module>: Begin model training with max_epochs=100000\n"
     ]
    },
    {
     "name": "stderr",
     "output_type": "stream",
     "text": [
      "INFO:mathsformer:Begin model training with max_epochs=100000\n",
      "DEBUG:mathsformer.selfsupervised_learning_addition_model_backend:Setting variable to learning_rate:0\n"
     ]
    },
    {
     "name": "stdout",
     "output_type": "stream",
     "text": [
      "Epoch 1/100000\n"
     ]
    },
    {
     "name": "stderr",
     "output_type": "stream",
     "text": [
      "2023-06-28 17:10:15.610582: W tensorflow/tsl/platform/profile_utils/cpu_utils.cc:128] Failed to get CPU frequency: 0 Hz\n"
     ]
    },
    {
     "name": "stdout",
     "output_type": "stream",
     "text": [
      "2000/2000 [==============================] - ETA: 0s - loss: 6.2925 - mathsformer_LLM_output_loss: 1.5736 - mathsformer_LLM_output_1_loss: 1.5721 - mathsformer_LLM_output_2_loss: 1.5723 - mathsformer_LLM_output_3_loss: 1.5745 - mathsformer_LLM_output_masked_categorical_accuracy: 0.4822 - mathsformer_LLM_output_1_masked_categorical_accuracy: 0.4825 - mathsformer_LLM_output_2_masked_categorical_accuracy: 0.4824 - mathsformer_LLM_output_3_masked_categorical_accuracy: 0.4820"
     ]
    },
    {
     "name": "stderr",
     "output_type": "stream",
     "text": [
      "DEBUG:mathsformer.selfsupervised_learning_addition_model_backend:Training reached the end of epoch at index 0\n",
      "DEBUG:mathsformer.selfsupervised_learning_addition_model_backend:    with metric loss: 6.2925\n",
      "DEBUG:mathsformer.selfsupervised_learning_addition_model_backend:    with metric mathsformer_LLM_output_loss: 1.5736\n",
      "DEBUG:mathsformer.selfsupervised_learning_addition_model_backend:    with metric mathsformer_LLM_output_1_loss: 1.5721\n",
      "DEBUG:mathsformer.selfsupervised_learning_addition_model_backend:    with metric mathsformer_LLM_output_2_loss: 1.5723\n",
      "DEBUG:mathsformer.selfsupervised_learning_addition_model_backend:    with metric mathsformer_LLM_output_3_loss: 1.5745\n",
      "DEBUG:mathsformer.selfsupervised_learning_addition_model_backend:    with metric mathsformer_LLM_output_masked_categorical_accuracy: 0.48216\n",
      "DEBUG:mathsformer.selfsupervised_learning_addition_model_backend:    with metric mathsformer_LLM_output_1_masked_categorical_accuracy: 0.48246\n",
      "DEBUG:mathsformer.selfsupervised_learning_addition_model_backend:    with metric mathsformer_LLM_output_2_masked_categorical_accuracy: 0.48243\n",
      "DEBUG:mathsformer.selfsupervised_learning_addition_model_backend:    with metric mathsformer_LLM_output_3_masked_categorical_accuracy: 0.48202\n",
      "DEBUG:mathsformer.selfsupervised_learning_addition_model_backend:    with metric val_loss: 6.4517\n",
      "DEBUG:mathsformer.selfsupervised_learning_addition_model_backend:    with metric val_mathsformer_LLM_output_loss: 1.6085\n",
      "DEBUG:mathsformer.selfsupervised_learning_addition_model_backend:    with metric val_mathsformer_LLM_output_1_loss: 1.6113\n",
      "DEBUG:mathsformer.selfsupervised_learning_addition_model_backend:    with metric val_mathsformer_LLM_output_2_loss: 1.6147\n",
      "DEBUG:mathsformer.selfsupervised_learning_addition_model_backend:    with metric val_mathsformer_LLM_output_3_loss: 1.6172\n",
      "DEBUG:mathsformer.selfsupervised_learning_addition_model_backend:    with metric val_mathsformer_LLM_output_masked_categorical_accuracy: 0.47224\n",
      "DEBUG:mathsformer.selfsupervised_learning_addition_model_backend:    with metric val_mathsformer_LLM_output_1_masked_categorical_accuracy: 0.46837\n",
      "DEBUG:mathsformer.selfsupervised_learning_addition_model_backend:    with metric val_mathsformer_LLM_output_2_masked_categorical_accuracy: 0.469\n",
      "DEBUG:mathsformer.selfsupervised_learning_addition_model_backend:    with metric val_mathsformer_LLM_output_3_masked_categorical_accuracy: 0.4677\n",
      "DEBUG:mathsformer.selfsupervised_learning_addition_model_backend:Running text --> text mathsformer inference on some training data:\n",
      "DEBUG:mathsformer.selfsupervised_learning_addition_model_backend:----------------------------------------------------------------------------------\n",
      "DEBUG:mathsformer.selfsupervised_learning_addition_model_backend:            INPUT         TRUE   PRED(MASK)    PRED(GEN)      CORRECT     RESIDUAL\n",
      "DEBUG:mathsformer.selfsupervised_learning_addition_model_backend:----------------------------------------------------------------------------------\n",
      "DEBUG:mathsformer.selfsupervised_learning_addition_model_backend:  N80+N8-N9-5+N47         N131         N10E          N10                       121\n",
      "DEBUG:mathsformer.selfsupervised_learning_addition_model_backend:  1+28+N41-N94+42          124         N0EE          N10                      -134\n",
      "DEBUG:mathsformer.selfsupervised_learning_addition_model_backend:             4-N7           11         NEEE           N1                       -12\n",
      "DEBUG:mathsformer.selfsupervised_learning_addition_model_backend:       23+43+69+6          141         N0EE          N10                      -151\n",
      "DEBUG:mathsformer.selfsupervised_learning_addition_model_backend:  83-N3-N39-N45+7          177         N0EE          N10                      -187\n",
      "DEBUG:mathsformer.selfsupervised_learning_addition_model_backend: N6+N7-N36-N9+N27            5         NEEE          N10                       -15\n",
      "DEBUG:mathsformer.selfsupervised_learning_addition_model_backend:            N3+N6           N9         N1EE           N1                         8\n",
      "DEBUG:mathsformer.selfsupervised_learning_addition_model_backend:  79-N53-N24-5+N3          148         N0EE          N10                      -158\n",
      "DEBUG:mathsformer.selfsupervised_learning_addition_model_backend:     1+N37-N8+6+3          N19         N10E          N10                         9\n",
      "DEBUG:mathsformer.selfsupervised_learning_addition_model_backend:              7+7           14         10EE           10                        -4\n",
      "DEBUG:mathsformer.selfsupervised_learning_addition_model_backend:Running text --> text mathsformer inference on some validation data:\n",
      "DEBUG:mathsformer.selfsupervised_learning_addition_model_backend:--------------------------------------------------------------------------------------\n",
      "DEBUG:mathsformer.selfsupervised_learning_addition_model_backend:                INPUT         TRUE   PRED(MASK)    PRED(GEN)      CORRECT     RESIDUAL\n",
      "DEBUG:mathsformer.selfsupervised_learning_addition_model_backend:--------------------------------------------------------------------------------------\n",
      "DEBUG:mathsformer.selfsupervised_learning_addition_model_backend:              N4-7-N6           N5         N1EE          N10                        -5\n",
      "DEBUG:mathsformer.selfsupervised_learning_addition_model_backend: N1+N29-N70-N35+96-N4          175         N0EE          N10                      -185\n",
      "DEBUG:mathsformer.selfsupervised_learning_addition_model_backend:             N5-N50-4           41         NEEE          N10                       -51\n",
      "DEBUG:mathsformer.selfsupervised_learning_addition_model_backend:             N9+40+N9           22         N0EE          N10                       -32\n",
      "DEBUG:mathsformer.selfsupervised_learning_addition_model_backend:             N68+6-N1          N61         N1EE          N10                        51\n",
      "DEBUG:mathsformer.selfsupervised_learning_addition_model_backend:  N3+N89-94+N44+16+N2         N216         N10E          N10                       206\n",
      "DEBUG:mathsformer.selfsupervised_learning_addition_model_backend:               8-N7-6            9         NEEE          N10                       -19\n",
      "DEBUG:mathsformer.selfsupervised_learning_addition_model_backend:    N28+N9+3+N4+1-N17          N20         N10E          N10                        10\n",
      "DEBUG:mathsformer.selfsupervised_learning_addition_model_backend:    44+7-N50-N5-71+N6           29         N0EE          N10                       -39\n",
      "DEBUG:mathsformer.selfsupervised_learning_addition_model_backend:            24+N5-N99          118         N0EE          N10                      -128\n"
     ]
    },
    {
     "name": "stdout",
     "output_type": "stream",
     "text": [
      "2000/2000 [==============================] - 449s 219ms/step - loss: 6.2925 - mathsformer_LLM_output_loss: 1.5736 - mathsformer_LLM_output_1_loss: 1.5721 - mathsformer_LLM_output_2_loss: 1.5723 - mathsformer_LLM_output_3_loss: 1.5745 - mathsformer_LLM_output_masked_categorical_accuracy: 0.4822 - mathsformer_LLM_output_1_masked_categorical_accuracy: 0.4825 - mathsformer_LLM_output_2_masked_categorical_accuracy: 0.4824 - mathsformer_LLM_output_3_masked_categorical_accuracy: 0.4820 - val_loss: 6.4517 - val_mathsformer_LLM_output_loss: 1.6085 - val_mathsformer_LLM_output_1_loss: 1.6113 - val_mathsformer_LLM_output_2_loss: 1.6147 - val_mathsformer_LLM_output_3_loss: 1.6172 - val_mathsformer_LLM_output_masked_categorical_accuracy: 0.4722 - val_mathsformer_LLM_output_1_masked_categorical_accuracy: 0.4684 - val_mathsformer_LLM_output_2_masked_categorical_accuracy: 0.4690 - val_mathsformer_LLM_output_3_masked_categorical_accuracy: 0.4677\n",
      "Epoch 2/100000\n",
      "2000/2000 [==============================] - ETA: 0s - loss: 5.6755 - mathsformer_LLM_output_loss: 1.4200 - mathsformer_LLM_output_1_loss: 1.4163 - mathsformer_LLM_output_2_loss: 1.4174 - mathsformer_LLM_output_3_loss: 1.4218 - mathsformer_LLM_output_masked_categorical_accuracy: 0.5116 - mathsformer_LLM_output_1_masked_categorical_accuracy: 0.5126 - mathsformer_LLM_output_2_masked_categorical_accuracy: 0.5119 - mathsformer_LLM_output_3_masked_categorical_accuracy: 0.5101"
     ]
    },
    {
     "name": "stderr",
     "output_type": "stream",
     "text": [
      "DEBUG:mathsformer.selfsupervised_learning_addition_model_backend:Training reached the end of epoch at index 1\n",
      "DEBUG:mathsformer.selfsupervised_learning_addition_model_backend:    with metric loss: 5.6755\n",
      "DEBUG:mathsformer.selfsupervised_learning_addition_model_backend:    with metric mathsformer_LLM_output_loss: 1.42\n",
      "DEBUG:mathsformer.selfsupervised_learning_addition_model_backend:    with metric mathsformer_LLM_output_1_loss: 1.4163\n",
      "DEBUG:mathsformer.selfsupervised_learning_addition_model_backend:    with metric mathsformer_LLM_output_2_loss: 1.4174\n",
      "DEBUG:mathsformer.selfsupervised_learning_addition_model_backend:    with metric mathsformer_LLM_output_3_loss: 1.4218\n",
      "DEBUG:mathsformer.selfsupervised_learning_addition_model_backend:    with metric mathsformer_LLM_output_masked_categorical_accuracy: 0.51159\n",
      "DEBUG:mathsformer.selfsupervised_learning_addition_model_backend:    with metric mathsformer_LLM_output_1_masked_categorical_accuracy: 0.5126\n",
      "DEBUG:mathsformer.selfsupervised_learning_addition_model_backend:    with metric mathsformer_LLM_output_2_masked_categorical_accuracy: 0.51185\n",
      "DEBUG:mathsformer.selfsupervised_learning_addition_model_backend:    with metric mathsformer_LLM_output_3_masked_categorical_accuracy: 0.5101\n",
      "DEBUG:mathsformer.selfsupervised_learning_addition_model_backend:    with metric val_loss: 6.4764\n",
      "DEBUG:mathsformer.selfsupervised_learning_addition_model_backend:    with metric val_mathsformer_LLM_output_loss: 1.6197\n",
      "DEBUG:mathsformer.selfsupervised_learning_addition_model_backend:    with metric val_mathsformer_LLM_output_1_loss: 1.6188\n",
      "DEBUG:mathsformer.selfsupervised_learning_addition_model_backend:    with metric val_mathsformer_LLM_output_2_loss: 1.6182\n",
      "DEBUG:mathsformer.selfsupervised_learning_addition_model_backend:    with metric val_mathsformer_LLM_output_3_loss: 1.6197\n",
      "DEBUG:mathsformer.selfsupervised_learning_addition_model_backend:    with metric val_mathsformer_LLM_output_masked_categorical_accuracy: 0.4671\n",
      "DEBUG:mathsformer.selfsupervised_learning_addition_model_backend:    with metric val_mathsformer_LLM_output_1_masked_categorical_accuracy: 0.46707\n",
      "DEBUG:mathsformer.selfsupervised_learning_addition_model_backend:    with metric val_mathsformer_LLM_output_2_masked_categorical_accuracy: 0.46714\n",
      "DEBUG:mathsformer.selfsupervised_learning_addition_model_backend:    with metric val_mathsformer_LLM_output_3_masked_categorical_accuracy: 0.46717\n",
      "DEBUG:mathsformer.selfsupervised_learning_addition_model_backend:Running text --> text mathsformer inference on some training data:\n",
      "DEBUG:mathsformer.selfsupervised_learning_addition_model_backend:----------------------------------------------------------------------------------\n",
      "DEBUG:mathsformer.selfsupervised_learning_addition_model_backend:            INPUT         TRUE   PRED(MASK)    PRED(GEN)      CORRECT     RESIDUAL\n",
      "DEBUG:mathsformer.selfsupervised_learning_addition_model_backend:----------------------------------------------------------------------------------\n",
      "DEBUG:mathsformer.selfsupervised_learning_addition_model_backend:  N80+N8-N9-5+N47         N131         N103         N103                        28\n",
      "DEBUG:mathsformer.selfsupervised_learning_addition_model_backend:  1+28+N41-N94+42          124         N0EE          N10                      -134\n",
      "DEBUG:mathsformer.selfsupervised_learning_addition_model_backend:             4-N7           11         10EE           10                        -1\n",
      "DEBUG:mathsformer.selfsupervised_learning_addition_model_backend:       23+43+69+6          141         10EE           10                      -131\n",
      "DEBUG:mathsformer.selfsupervised_learning_addition_model_backend:  83-N3-N39-N45+7          177         10EE          100                       -77\n",
      "DEBUG:mathsformer.selfsupervised_learning_addition_model_backend: N6+N7-N36-N9+N27            5         NEEE         N107                      -112\n",
      "DEBUG:mathsformer.selfsupervised_learning_addition_model_backend:            N3+N6           N9         N1EE          N11                        -2\n",
      "DEBUG:mathsformer.selfsupervised_learning_addition_model_backend:  79-N53-N24-5+N3          148         10EE          100                       -48\n",
      "DEBUG:mathsformer.selfsupervised_learning_addition_model_backend:     1+N37-N8+6+3          N19         N10E          N10                         9\n",
      "DEBUG:mathsformer.selfsupervised_learning_addition_model_backend:              7+7           14         10EE           10                        -4\n",
      "DEBUG:mathsformer.selfsupervised_learning_addition_model_backend:Running text --> text mathsformer inference on some validation data:\n",
      "DEBUG:mathsformer.selfsupervised_learning_addition_model_backend:--------------------------------------------------------------------------------------\n",
      "DEBUG:mathsformer.selfsupervised_learning_addition_model_backend:                INPUT         TRUE   PRED(MASK)    PRED(GEN)      CORRECT     RESIDUAL\n",
      "DEBUG:mathsformer.selfsupervised_learning_addition_model_backend:--------------------------------------------------------------------------------------\n",
      "DEBUG:mathsformer.selfsupervised_learning_addition_model_backend:              N4-7-N6           N5         N11E          N10                        -5\n",
      "DEBUG:mathsformer.selfsupervised_learning_addition_model_backend: N1+N29-N70-N35+96-N4          175         N0EE          N10                      -185\n",
      "DEBUG:mathsformer.selfsupervised_learning_addition_model_backend:             N5-N50-4           41         NEEE          N11                       -52\n",
      "DEBUG:mathsformer.selfsupervised_learning_addition_model_backend:             N9+40+N9           22         N1EE          N10                       -32\n",
      "DEBUG:mathsformer.selfsupervised_learning_addition_model_backend:             N68+6-N1          N61         N11E          N10                        51\n",
      "DEBUG:mathsformer.selfsupervised_learning_addition_model_backend:  N3+N89-94+N44+16+N2         N216         N10E          N10                       206\n",
      "DEBUG:mathsformer.selfsupervised_learning_addition_model_backend:               8-N7-6            9         11EE          100                        91\n",
      "DEBUG:mathsformer.selfsupervised_learning_addition_model_backend:    N28+N9+3+N4+1-N17          N20         N10E         N103                       -83\n",
      "DEBUG:mathsformer.selfsupervised_learning_addition_model_backend:    44+7-N50-N5-71+N6           29         11EE          100                        71\n",
      "DEBUG:mathsformer.selfsupervised_learning_addition_model_backend:            24+N5-N99          118         10EE           10                      -108\n"
     ]
    },
    {
     "name": "stdout",
     "output_type": "stream",
     "text": [
      "2000/2000 [==============================] - 445s 223ms/step - loss: 5.6755 - mathsformer_LLM_output_loss: 1.4200 - mathsformer_LLM_output_1_loss: 1.4163 - mathsformer_LLM_output_2_loss: 1.4174 - mathsformer_LLM_output_3_loss: 1.4218 - mathsformer_LLM_output_masked_categorical_accuracy: 0.5116 - mathsformer_LLM_output_1_masked_categorical_accuracy: 0.5126 - mathsformer_LLM_output_2_masked_categorical_accuracy: 0.5119 - mathsformer_LLM_output_3_masked_categorical_accuracy: 0.5101 - val_loss: 6.4764 - val_mathsformer_LLM_output_loss: 1.6197 - val_mathsformer_LLM_output_1_loss: 1.6188 - val_mathsformer_LLM_output_2_loss: 1.6182 - val_mathsformer_LLM_output_3_loss: 1.6197 - val_mathsformer_LLM_output_masked_categorical_accuracy: 0.4671 - val_mathsformer_LLM_output_1_masked_categorical_accuracy: 0.4671 - val_mathsformer_LLM_output_2_masked_categorical_accuracy: 0.4671 - val_mathsformer_LLM_output_3_masked_categorical_accuracy: 0.4672\n",
      "Epoch 3/100000\n",
      "2000/2000 [==============================] - ETA: 0s - loss: 5.1133 - mathsformer_LLM_output_loss: 1.2794 - mathsformer_LLM_output_1_loss: 1.2744 - mathsformer_LLM_output_2_loss: 1.2762 - mathsformer_LLM_output_3_loss: 1.2834 - mathsformer_LLM_output_masked_categorical_accuracy: 0.5629 - mathsformer_LLM_output_1_masked_categorical_accuracy: 0.5633 - mathsformer_LLM_output_2_masked_categorical_accuracy: 0.5619 - mathsformer_LLM_output_3_masked_categorical_accuracy: 0.5594"
     ]
    },
    {
     "name": "stderr",
     "output_type": "stream",
     "text": [
      "DEBUG:mathsformer.selfsupervised_learning_addition_model_backend:Training reached the end of epoch at index 2\n",
      "DEBUG:mathsformer.selfsupervised_learning_addition_model_backend:    with metric loss: 5.1133\n",
      "DEBUG:mathsformer.selfsupervised_learning_addition_model_backend:    with metric mathsformer_LLM_output_loss: 1.2794\n",
      "DEBUG:mathsformer.selfsupervised_learning_addition_model_backend:    with metric mathsformer_LLM_output_1_loss: 1.2744\n",
      "DEBUG:mathsformer.selfsupervised_learning_addition_model_backend:    with metric mathsformer_LLM_output_2_loss: 1.2762\n",
      "DEBUG:mathsformer.selfsupervised_learning_addition_model_backend:    with metric mathsformer_LLM_output_3_loss: 1.2834\n",
      "DEBUG:mathsformer.selfsupervised_learning_addition_model_backend:    with metric mathsformer_LLM_output_masked_categorical_accuracy: 0.56294\n",
      "DEBUG:mathsformer.selfsupervised_learning_addition_model_backend:    with metric mathsformer_LLM_output_1_masked_categorical_accuracy: 0.56334\n",
      "DEBUG:mathsformer.selfsupervised_learning_addition_model_backend:    with metric mathsformer_LLM_output_2_masked_categorical_accuracy: 0.5619\n",
      "DEBUG:mathsformer.selfsupervised_learning_addition_model_backend:    with metric mathsformer_LLM_output_3_masked_categorical_accuracy: 0.55937\n",
      "DEBUG:mathsformer.selfsupervised_learning_addition_model_backend:    with metric val_loss: 6.4862\n",
      "DEBUG:mathsformer.selfsupervised_learning_addition_model_backend:    with metric val_mathsformer_LLM_output_loss: 1.6221\n",
      "DEBUG:mathsformer.selfsupervised_learning_addition_model_backend:    with metric val_mathsformer_LLM_output_1_loss: 1.6178\n",
      "DEBUG:mathsformer.selfsupervised_learning_addition_model_backend:    with metric val_mathsformer_LLM_output_2_loss: 1.6205\n",
      "DEBUG:mathsformer.selfsupervised_learning_addition_model_backend:    with metric val_mathsformer_LLM_output_3_loss: 1.6258\n",
      "DEBUG:mathsformer.selfsupervised_learning_addition_model_backend:    with metric val_mathsformer_LLM_output_masked_categorical_accuracy: 0.47154\n",
      "DEBUG:mathsformer.selfsupervised_learning_addition_model_backend:    with metric val_mathsformer_LLM_output_1_masked_categorical_accuracy: 0.47263\n",
      "DEBUG:mathsformer.selfsupervised_learning_addition_model_backend:    with metric val_mathsformer_LLM_output_2_masked_categorical_accuracy: 0.47178\n",
      "DEBUG:mathsformer.selfsupervised_learning_addition_model_backend:    with metric val_mathsformer_LLM_output_3_masked_categorical_accuracy: 0.47136\n",
      "DEBUG:mathsformer.selfsupervised_learning_addition_model_backend:Running text --> text mathsformer inference on some training data:\n",
      "DEBUG:mathsformer.selfsupervised_learning_addition_model_backend:----------------------------------------------------------------------------------\n",
      "DEBUG:mathsformer.selfsupervised_learning_addition_model_backend:            INPUT         TRUE   PRED(MASK)    PRED(GEN)      CORRECT     RESIDUAL\n",
      "DEBUG:mathsformer.selfsupervised_learning_addition_model_backend:----------------------------------------------------------------------------------\n",
      "DEBUG:mathsformer.selfsupervised_learning_addition_model_backend:  N80+N8-N9-5+N47         N131         N104         N100                        31\n",
      "DEBUG:mathsformer.selfsupervised_learning_addition_model_backend:  1+28+N41-N94+42          124         N0EE         N104                      -228\n",
      "DEBUG:mathsformer.selfsupervised_learning_addition_model_backend:             4-N7           11         NEEE           N1                       -12\n",
      "DEBUG:mathsformer.selfsupervised_learning_addition_model_backend:       23+43+69+6          141         10EE           10                      -131\n",
      "DEBUG:mathsformer.selfsupervised_learning_addition_model_backend:  83-N3-N39-N45+7          177         10EE          100                       -77\n",
      "DEBUG:mathsformer.selfsupervised_learning_addition_model_backend: N6+N7-N36-N9+N27            5         NEEE         N100                      -105\n",
      "DEBUG:mathsformer.selfsupervised_learning_addition_model_backend:            N3+N6           N9         N1EE          N12                        -3\n",
      "DEBUG:mathsformer.selfsupervised_learning_addition_model_backend:  79-N53-N24-5+N3          148         10EE          100                       -48\n",
      "DEBUG:mathsformer.selfsupervised_learning_addition_model_backend:     1+N37-N8+6+3          N19         N10E          N10                         9\n",
      "DEBUG:mathsformer.selfsupervised_learning_addition_model_backend:              7+7           14         10EE           10                        -4\n",
      "DEBUG:mathsformer.selfsupervised_learning_addition_model_backend:Running text --> text mathsformer inference on some validation data:\n",
      "DEBUG:mathsformer.selfsupervised_learning_addition_model_backend:--------------------------------------------------------------------------------------\n",
      "DEBUG:mathsformer.selfsupervised_learning_addition_model_backend:                INPUT         TRUE   PRED(MASK)    PRED(GEN)      CORRECT     RESIDUAL\n",
      "DEBUG:mathsformer.selfsupervised_learning_addition_model_backend:--------------------------------------------------------------------------------------\n",
      "DEBUG:mathsformer.selfsupervised_learning_addition_model_backend:              N4-7-N6           N5         N1EE          N10                        -5\n",
      "DEBUG:mathsformer.selfsupervised_learning_addition_model_backend: N1+N29-N70-N35+96-N4          175         N0EE         N104                      -279\n",
      "DEBUG:mathsformer.selfsupervised_learning_addition_model_backend:             N5-N50-4           41         NEEE          N14                       -55\n",
      "DEBUG:mathsformer.selfsupervised_learning_addition_model_backend:             N9+40+N9           22         NEEE          N10                       -32\n",
      "DEBUG:mathsformer.selfsupervised_learning_addition_model_backend:             N68+6-N1          N61         N10E          N10                        51\n",
      "DEBUG:mathsformer.selfsupervised_learning_addition_model_backend:  N3+N89-94+N44+16+N2         N216         N14E         N100                       116\n",
      "DEBUG:mathsformer.selfsupervised_learning_addition_model_backend:               8-N7-6            9         NEEE          N10                       -19\n",
      "DEBUG:mathsformer.selfsupervised_learning_addition_model_backend:    N28+N9+3+N4+1-N17          N20         N14E         N104                       -84\n",
      "DEBUG:mathsformer.selfsupervised_learning_addition_model_backend:    44+7-N50-N5-71+N6           29         N0EE          N10                       -39\n",
      "DEBUG:mathsformer.selfsupervised_learning_addition_model_backend:            24+N5-N99          118         N0EE          N10                      -128\n"
     ]
    },
    {
     "name": "stdout",
     "output_type": "stream",
     "text": [
      "2000/2000 [==============================] - 447s 223ms/step - loss: 5.1133 - mathsformer_LLM_output_loss: 1.2794 - mathsformer_LLM_output_1_loss: 1.2744 - mathsformer_LLM_output_2_loss: 1.2762 - mathsformer_LLM_output_3_loss: 1.2834 - mathsformer_LLM_output_masked_categorical_accuracy: 0.5629 - mathsformer_LLM_output_1_masked_categorical_accuracy: 0.5633 - mathsformer_LLM_output_2_masked_categorical_accuracy: 0.5619 - mathsformer_LLM_output_3_masked_categorical_accuracy: 0.5594 - val_loss: 6.4862 - val_mathsformer_LLM_output_loss: 1.6221 - val_mathsformer_LLM_output_1_loss: 1.6178 - val_mathsformer_LLM_output_2_loss: 1.6205 - val_mathsformer_LLM_output_3_loss: 1.6258 - val_mathsformer_LLM_output_masked_categorical_accuracy: 0.4715 - val_mathsformer_LLM_output_1_masked_categorical_accuracy: 0.4726 - val_mathsformer_LLM_output_2_masked_categorical_accuracy: 0.4718 - val_mathsformer_LLM_output_3_masked_categorical_accuracy: 0.4714\n",
      "Epoch 4/100000\n",
      "2000/2000 [==============================] - ETA: 0s - loss: 4.8041 - mathsformer_LLM_output_loss: 1.2019 - mathsformer_LLM_output_1_loss: 1.1959 - mathsformer_LLM_output_2_loss: 1.1990 - mathsformer_LLM_output_3_loss: 1.2074 - mathsformer_LLM_output_masked_categorical_accuracy: 0.5920 - mathsformer_LLM_output_1_masked_categorical_accuracy: 0.5927 - mathsformer_LLM_output_2_masked_categorical_accuracy: 0.5915 - mathsformer_LLM_output_3_masked_categorical_accuracy: 0.5883"
     ]
    },
    {
     "name": "stderr",
     "output_type": "stream",
     "text": [
      "DEBUG:mathsformer.selfsupervised_learning_addition_model_backend:Training reached the end of epoch at index 3\n",
      "DEBUG:mathsformer.selfsupervised_learning_addition_model_backend:    with metric loss: 4.8041\n",
      "DEBUG:mathsformer.selfsupervised_learning_addition_model_backend:    with metric mathsformer_LLM_output_loss: 1.2019\n",
      "DEBUG:mathsformer.selfsupervised_learning_addition_model_backend:    with metric mathsformer_LLM_output_1_loss: 1.1959\n",
      "DEBUG:mathsformer.selfsupervised_learning_addition_model_backend:    with metric mathsformer_LLM_output_2_loss: 1.199\n",
      "DEBUG:mathsformer.selfsupervised_learning_addition_model_backend:    with metric mathsformer_LLM_output_3_loss: 1.2074\n",
      "DEBUG:mathsformer.selfsupervised_learning_addition_model_backend:    with metric mathsformer_LLM_output_masked_categorical_accuracy: 0.592\n",
      "DEBUG:mathsformer.selfsupervised_learning_addition_model_backend:    with metric mathsformer_LLM_output_1_masked_categorical_accuracy: 0.59274\n",
      "DEBUG:mathsformer.selfsupervised_learning_addition_model_backend:    with metric mathsformer_LLM_output_2_masked_categorical_accuracy: 0.59153\n",
      "DEBUG:mathsformer.selfsupervised_learning_addition_model_backend:    with metric mathsformer_LLM_output_3_masked_categorical_accuracy: 0.58826\n",
      "DEBUG:mathsformer.selfsupervised_learning_addition_model_backend:    with metric val_loss: 6.4315\n",
      "DEBUG:mathsformer.selfsupervised_learning_addition_model_backend:    with metric val_mathsformer_LLM_output_loss: 1.6209\n",
      "DEBUG:mathsformer.selfsupervised_learning_addition_model_backend:    with metric val_mathsformer_LLM_output_1_loss: 1.6069\n",
      "DEBUG:mathsformer.selfsupervised_learning_addition_model_backend:    with metric val_mathsformer_LLM_output_2_loss: 1.6007\n",
      "DEBUG:mathsformer.selfsupervised_learning_addition_model_backend:    with metric val_mathsformer_LLM_output_3_loss: 1.603\n",
      "DEBUG:mathsformer.selfsupervised_learning_addition_model_backend:    with metric val_mathsformer_LLM_output_masked_categorical_accuracy: 0.47274\n",
      "DEBUG:mathsformer.selfsupervised_learning_addition_model_backend:    with metric val_mathsformer_LLM_output_1_masked_categorical_accuracy: 0.4727\n",
      "DEBUG:mathsformer.selfsupervised_learning_addition_model_backend:    with metric val_mathsformer_LLM_output_2_masked_categorical_accuracy: 0.47205\n",
      "DEBUG:mathsformer.selfsupervised_learning_addition_model_backend:    with metric val_mathsformer_LLM_output_3_masked_categorical_accuracy: 0.47331\n",
      "DEBUG:mathsformer.selfsupervised_learning_addition_model_backend:Running text --> text mathsformer inference on some training data:\n",
      "DEBUG:mathsformer.selfsupervised_learning_addition_model_backend:----------------------------------------------------------------------------------\n",
      "DEBUG:mathsformer.selfsupervised_learning_addition_model_backend:            INPUT         TRUE   PRED(MASK)    PRED(GEN)      CORRECT     RESIDUAL\n",
      "DEBUG:mathsformer.selfsupervised_learning_addition_model_backend:----------------------------------------------------------------------------------\n",
      "DEBUG:mathsformer.selfsupervised_learning_addition_model_backend:  N80+N8-N9-5+N47         N131         N10E         N106                        25\n",
      "DEBUG:mathsformer.selfsupervised_learning_addition_model_backend:  1+28+N41-N94+42          124         N1EE          N10                      -134\n",
      "DEBUG:mathsformer.selfsupervised_learning_addition_model_backend:             4-N7           11         NEEE           N1                       -12\n",
      "DEBUG:mathsformer.selfsupervised_learning_addition_model_backend:       23+43+69+6          141         N0EE          N10                      -151\n",
      "DEBUG:mathsformer.selfsupervised_learning_addition_model_backend:  83-N3-N39-N45+7          177         11EE          110                       -67\n",
      "DEBUG:mathsformer.selfsupervised_learning_addition_model_backend: N6+N7-N36-N9+N27            5         NEEE          N10                       -15\n",
      "DEBUG:mathsformer.selfsupervised_learning_addition_model_backend:            N3+N6           N9         N1EE          N10                        -1\n",
      "DEBUG:mathsformer.selfsupervised_learning_addition_model_backend:  79-N53-N24-5+N3          148         10EE          100                       -48\n",
      "DEBUG:mathsformer.selfsupervised_learning_addition_model_backend:     1+N37-N8+6+3          N19         N10E          N10                         9\n",
      "DEBUG:mathsformer.selfsupervised_learning_addition_model_backend:              7+7           14         10EE           10                        -4\n",
      "DEBUG:mathsformer.selfsupervised_learning_addition_model_backend:Running text --> text mathsformer inference on some validation data:\n",
      "DEBUG:mathsformer.selfsupervised_learning_addition_model_backend:--------------------------------------------------------------------------------------\n",
      "DEBUG:mathsformer.selfsupervised_learning_addition_model_backend:                INPUT         TRUE   PRED(MASK)    PRED(GEN)      CORRECT     RESIDUAL\n",
      "DEBUG:mathsformer.selfsupervised_learning_addition_model_backend:--------------------------------------------------------------------------------------\n",
      "DEBUG:mathsformer.selfsupervised_learning_addition_model_backend:              N4-7-N6           N5         N1EE          N10                        -5\n",
      "DEBUG:mathsformer.selfsupervised_learning_addition_model_backend: N1+N29-N70-N35+96-N4          175         N1EE          N10                      -185\n",
      "DEBUG:mathsformer.selfsupervised_learning_addition_model_backend:             N5-N50-4           41         NEEE           N1                       -42\n",
      "DEBUG:mathsformer.selfsupervised_learning_addition_model_backend:             N9+40+N9           22         NEEE          N10                       -32\n",
      "DEBUG:mathsformer.selfsupervised_learning_addition_model_backend:             N68+6-N1          N61         N66E          N66                        -5\n",
      "DEBUG:mathsformer.selfsupervised_learning_addition_model_backend:  N3+N89-94+N44+16+N2         N216         N14E          N10                       206\n",
      "DEBUG:mathsformer.selfsupervised_learning_addition_model_backend:               8-N7-6            9         NEEE          N10                       -19\n",
      "DEBUG:mathsformer.selfsupervised_learning_addition_model_backend:    N28+N9+3+N4+1-N17          N20         N14E          N10                        10\n",
      "DEBUG:mathsformer.selfsupervised_learning_addition_model_backend:    44+7-N50-N5-71+N6           29         N1EE          N10                       -39\n",
      "DEBUG:mathsformer.selfsupervised_learning_addition_model_backend:            24+N5-N99          118         N0EE          N10                      -128\n"
     ]
    },
    {
     "name": "stdout",
     "output_type": "stream",
     "text": [
      "2000/2000 [==============================] - 440s 220ms/step - loss: 4.8041 - mathsformer_LLM_output_loss: 1.2019 - mathsformer_LLM_output_1_loss: 1.1959 - mathsformer_LLM_output_2_loss: 1.1990 - mathsformer_LLM_output_3_loss: 1.2074 - mathsformer_LLM_output_masked_categorical_accuracy: 0.5920 - mathsformer_LLM_output_1_masked_categorical_accuracy: 0.5927 - mathsformer_LLM_output_2_masked_categorical_accuracy: 0.5915 - mathsformer_LLM_output_3_masked_categorical_accuracy: 0.5883 - val_loss: 6.4315 - val_mathsformer_LLM_output_loss: 1.6209 - val_mathsformer_LLM_output_1_loss: 1.6069 - val_mathsformer_LLM_output_2_loss: 1.6007 - val_mathsformer_LLM_output_3_loss: 1.6030 - val_mathsformer_LLM_output_masked_categorical_accuracy: 0.4727 - val_mathsformer_LLM_output_1_masked_categorical_accuracy: 0.4727 - val_mathsformer_LLM_output_2_masked_categorical_accuracy: 0.4721 - val_mathsformer_LLM_output_3_masked_categorical_accuracy: 0.4733\n",
      "Epoch 5/100000\n",
      "2000/2000 [==============================] - ETA: 0s - loss: 4.6277 - mathsformer_LLM_output_loss: 1.1583 - mathsformer_LLM_output_1_loss: 1.1522 - mathsformer_LLM_output_2_loss: 1.1547 - mathsformer_LLM_output_3_loss: 1.1626 - mathsformer_LLM_output_masked_categorical_accuracy: 0.6037 - mathsformer_LLM_output_1_masked_categorical_accuracy: 0.6045 - mathsformer_LLM_output_2_masked_categorical_accuracy: 0.6030 - mathsformer_LLM_output_3_masked_categorical_accuracy: 0.6005"
     ]
    },
    {
     "name": "stderr",
     "output_type": "stream",
     "text": [
      "DEBUG:mathsformer.selfsupervised_learning_addition_model_backend:Training reached the end of epoch at index 4\n",
      "DEBUG:mathsformer.selfsupervised_learning_addition_model_backend:    with metric loss: 4.6277\n",
      "DEBUG:mathsformer.selfsupervised_learning_addition_model_backend:    with metric mathsformer_LLM_output_loss: 1.1583\n",
      "DEBUG:mathsformer.selfsupervised_learning_addition_model_backend:    with metric mathsformer_LLM_output_1_loss: 1.1522\n",
      "DEBUG:mathsformer.selfsupervised_learning_addition_model_backend:    with metric mathsformer_LLM_output_2_loss: 1.1547\n",
      "DEBUG:mathsformer.selfsupervised_learning_addition_model_backend:    with metric mathsformer_LLM_output_3_loss: 1.1626\n",
      "DEBUG:mathsformer.selfsupervised_learning_addition_model_backend:    with metric mathsformer_LLM_output_masked_categorical_accuracy: 0.60368\n",
      "DEBUG:mathsformer.selfsupervised_learning_addition_model_backend:    with metric mathsformer_LLM_output_1_masked_categorical_accuracy: 0.60454\n",
      "DEBUG:mathsformer.selfsupervised_learning_addition_model_backend:    with metric mathsformer_LLM_output_2_masked_categorical_accuracy: 0.60301\n",
      "DEBUG:mathsformer.selfsupervised_learning_addition_model_backend:    with metric mathsformer_LLM_output_3_masked_categorical_accuracy: 0.60055\n",
      "DEBUG:mathsformer.selfsupervised_learning_addition_model_backend:    with metric val_loss: 6.9023\n",
      "DEBUG:mathsformer.selfsupervised_learning_addition_model_backend:    with metric val_mathsformer_LLM_output_loss: 1.7357\n",
      "DEBUG:mathsformer.selfsupervised_learning_addition_model_backend:    with metric val_mathsformer_LLM_output_1_loss: 1.7241\n",
      "DEBUG:mathsformer.selfsupervised_learning_addition_model_backend:    with metric val_mathsformer_LLM_output_2_loss: 1.7204\n",
      "DEBUG:mathsformer.selfsupervised_learning_addition_model_backend:    with metric val_mathsformer_LLM_output_3_loss: 1.7221\n",
      "DEBUG:mathsformer.selfsupervised_learning_addition_model_backend:    with metric val_mathsformer_LLM_output_masked_categorical_accuracy: 0.45808\n",
      "DEBUG:mathsformer.selfsupervised_learning_addition_model_backend:    with metric val_mathsformer_LLM_output_1_masked_categorical_accuracy: 0.45568\n",
      "DEBUG:mathsformer.selfsupervised_learning_addition_model_backend:    with metric val_mathsformer_LLM_output_2_masked_categorical_accuracy: 0.45438\n",
      "DEBUG:mathsformer.selfsupervised_learning_addition_model_backend:    with metric val_mathsformer_LLM_output_3_masked_categorical_accuracy: 0.45198\n",
      "DEBUG:mathsformer.selfsupervised_learning_addition_model_backend:Running text --> text mathsformer inference on some training data:\n",
      "DEBUG:mathsformer.selfsupervised_learning_addition_model_backend:----------------------------------------------------------------------------------\n",
      "DEBUG:mathsformer.selfsupervised_learning_addition_model_backend:            INPUT         TRUE   PRED(MASK)    PRED(GEN)      CORRECT     RESIDUAL\n",
      "DEBUG:mathsformer.selfsupervised_learning_addition_model_backend:----------------------------------------------------------------------------------\n",
      "DEBUG:mathsformer.selfsupervised_learning_addition_model_backend:  N80+N8-N9-5+N47         N131         N112         N112                        19\n",
      "DEBUG:mathsformer.selfsupervised_learning_addition_model_backend:  1+28+N41-N94+42          124         N14E          N11                      -135\n",
      "DEBUG:mathsformer.selfsupervised_learning_addition_model_backend:             4-N7           11         10EE           10                        -1\n",
      "DEBUG:mathsformer.selfsupervised_learning_addition_model_backend:       23+43+69+6          141         112E          110                       -31\n",
      "DEBUG:mathsformer.selfsupervised_learning_addition_model_backend:  83-N3-N39-N45+7          177         112E          110                       -67\n",
      "DEBUG:mathsformer.selfsupervised_learning_addition_model_backend: N6+N7-N36-N9+N27            5         N7EE          N11                       -16\n",
      "DEBUG:mathsformer.selfsupervised_learning_addition_model_backend:            N3+N6           N9         N1EE          N10                        -1\n",
      "DEBUG:mathsformer.selfsupervised_learning_addition_model_backend:  79-N53-N24-5+N3          148         112E          110                       -38\n",
      "DEBUG:mathsformer.selfsupervised_learning_addition_model_backend:     1+N37-N8+6+3          N19         N10E          N10                         9\n",
      "DEBUG:mathsformer.selfsupervised_learning_addition_model_backend:              7+7           14         10EE           10                        -4\n",
      "DEBUG:mathsformer.selfsupervised_learning_addition_model_backend:Running text --> text mathsformer inference on some validation data:\n",
      "DEBUG:mathsformer.selfsupervised_learning_addition_model_backend:--------------------------------------------------------------------------------------\n",
      "DEBUG:mathsformer.selfsupervised_learning_addition_model_backend:                INPUT         TRUE   PRED(MASK)    PRED(GEN)      CORRECT     RESIDUAL\n",
      "DEBUG:mathsformer.selfsupervised_learning_addition_model_backend:--------------------------------------------------------------------------------------\n",
      "DEBUG:mathsformer.selfsupervised_learning_addition_model_backend:              N4-7-N6           N5         N1EE          N10                        -5\n",
      "DEBUG:mathsformer.selfsupervised_learning_addition_model_backend: N1+N29-N70-N35+96-N4          175         N1EE          N11                      -186\n",
      "DEBUG:mathsformer.selfsupervised_learning_addition_model_backend:             N5-N50-4           41         1EEE           12                       -29\n",
      "DEBUG:mathsformer.selfsupervised_learning_addition_model_backend:             N9+40+N9           22         N4EE          N10                       -32\n",
      "DEBUG:mathsformer.selfsupervised_learning_addition_model_backend:             N68+6-N1          N61         N54E          N54                         7\n",
      "DEBUG:mathsformer.selfsupervised_learning_addition_model_backend:  N3+N89-94+N44+16+N2         N216         N14E          N11                       205\n",
      "DEBUG:mathsformer.selfsupervised_learning_addition_model_backend:               8-N7-6            9         N7EE          N10                       -19\n",
      "DEBUG:mathsformer.selfsupervised_learning_addition_model_backend:    N28+N9+3+N4+1-N17          N20         N14E          N11                         9\n",
      "DEBUG:mathsformer.selfsupervised_learning_addition_model_backend:    44+7-N50-N5-71+N6           29         11EE          114                        85\n",
      "DEBUG:mathsformer.selfsupervised_learning_addition_model_backend:            24+N5-N99          118         10EE           10                      -108\n"
     ]
    },
    {
     "name": "stdout",
     "output_type": "stream",
     "text": [
      "2000/2000 [==============================] - 437s 218ms/step - loss: 4.6277 - mathsformer_LLM_output_loss: 1.1583 - mathsformer_LLM_output_1_loss: 1.1522 - mathsformer_LLM_output_2_loss: 1.1547 - mathsformer_LLM_output_3_loss: 1.1626 - mathsformer_LLM_output_masked_categorical_accuracy: 0.6037 - mathsformer_LLM_output_1_masked_categorical_accuracy: 0.6045 - mathsformer_LLM_output_2_masked_categorical_accuracy: 0.6030 - mathsformer_LLM_output_3_masked_categorical_accuracy: 0.6005 - val_loss: 6.9023 - val_mathsformer_LLM_output_loss: 1.7357 - val_mathsformer_LLM_output_1_loss: 1.7241 - val_mathsformer_LLM_output_2_loss: 1.7204 - val_mathsformer_LLM_output_3_loss: 1.7221 - val_mathsformer_LLM_output_masked_categorical_accuracy: 0.4581 - val_mathsformer_LLM_output_1_masked_categorical_accuracy: 0.4557 - val_mathsformer_LLM_output_2_masked_categorical_accuracy: 0.4544 - val_mathsformer_LLM_output_3_masked_categorical_accuracy: 0.4520\n",
      "Epoch 6/100000\n",
      "2000/2000 [==============================] - ETA: 0s - loss: 4.5189 - mathsformer_LLM_output_loss: 1.1321 - mathsformer_LLM_output_1_loss: 1.1246 - mathsformer_LLM_output_2_loss: 1.1268 - mathsformer_LLM_output_3_loss: 1.1355 - mathsformer_LLM_output_masked_categorical_accuracy: 0.6097 - mathsformer_LLM_output_1_masked_categorical_accuracy: 0.6113 - mathsformer_LLM_output_2_masked_categorical_accuracy: 0.6103 - mathsformer_LLM_output_3_masked_categorical_accuracy: 0.6077"
     ]
    },
    {
     "name": "stderr",
     "output_type": "stream",
     "text": [
      "DEBUG:mathsformer.selfsupervised_learning_addition_model_backend:Training reached the end of epoch at index 5\n",
      "DEBUG:mathsformer.selfsupervised_learning_addition_model_backend:    with metric loss: 4.5189\n",
      "DEBUG:mathsformer.selfsupervised_learning_addition_model_backend:    with metric mathsformer_LLM_output_loss: 1.1321\n",
      "DEBUG:mathsformer.selfsupervised_learning_addition_model_backend:    with metric mathsformer_LLM_output_1_loss: 1.1246\n",
      "DEBUG:mathsformer.selfsupervised_learning_addition_model_backend:    with metric mathsformer_LLM_output_2_loss: 1.1268\n",
      "DEBUG:mathsformer.selfsupervised_learning_addition_model_backend:    with metric mathsformer_LLM_output_3_loss: 1.1355\n",
      "DEBUG:mathsformer.selfsupervised_learning_addition_model_backend:    with metric mathsformer_LLM_output_masked_categorical_accuracy: 0.60969\n",
      "DEBUG:mathsformer.selfsupervised_learning_addition_model_backend:    with metric mathsformer_LLM_output_1_masked_categorical_accuracy: 0.61134\n",
      "DEBUG:mathsformer.selfsupervised_learning_addition_model_backend:    with metric mathsformer_LLM_output_2_masked_categorical_accuracy: 0.61025\n",
      "DEBUG:mathsformer.selfsupervised_learning_addition_model_backend:    with metric mathsformer_LLM_output_3_masked_categorical_accuracy: 0.60769\n",
      "DEBUG:mathsformer.selfsupervised_learning_addition_model_backend:    with metric val_loss: 7.2092\n",
      "DEBUG:mathsformer.selfsupervised_learning_addition_model_backend:    with metric val_mathsformer_LLM_output_loss: 1.774\n",
      "DEBUG:mathsformer.selfsupervised_learning_addition_model_backend:    with metric val_mathsformer_LLM_output_1_loss: 1.8045\n",
      "DEBUG:mathsformer.selfsupervised_learning_addition_model_backend:    with metric val_mathsformer_LLM_output_2_loss: 1.8154\n",
      "DEBUG:mathsformer.selfsupervised_learning_addition_model_backend:    with metric val_mathsformer_LLM_output_3_loss: 1.8153\n",
      "DEBUG:mathsformer.selfsupervised_learning_addition_model_backend:    with metric val_mathsformer_LLM_output_masked_categorical_accuracy: 0.45526\n",
      "DEBUG:mathsformer.selfsupervised_learning_addition_model_backend:    with metric val_mathsformer_LLM_output_1_masked_categorical_accuracy: 0.4499\n",
      "DEBUG:mathsformer.selfsupervised_learning_addition_model_backend:    with metric val_mathsformer_LLM_output_2_masked_categorical_accuracy: 0.44707\n",
      "DEBUG:mathsformer.selfsupervised_learning_addition_model_backend:    with metric val_mathsformer_LLM_output_3_masked_categorical_accuracy: 0.44668\n",
      "DEBUG:mathsformer.selfsupervised_learning_addition_model_backend:Running text --> text mathsformer inference on some training data:\n",
      "DEBUG:mathsformer.selfsupervised_learning_addition_model_backend:----------------------------------------------------------------------------------\n",
      "DEBUG:mathsformer.selfsupervised_learning_addition_model_backend:            INPUT         TRUE   PRED(MASK)    PRED(GEN)      CORRECT     RESIDUAL\n",
      "DEBUG:mathsformer.selfsupervised_learning_addition_model_backend:----------------------------------------------------------------------------------\n",
      "DEBUG:mathsformer.selfsupervised_learning_addition_model_backend:  N80+N8-N9-5+N47         N131         N114         N114                        17\n",
      "DEBUG:mathsformer.selfsupervised_learning_addition_model_backend:  1+28+N41-N94+42          124         N1EE          N11                      -135\n",
      "DEBUG:mathsformer.selfsupervised_learning_addition_model_backend:             4-N7           11         1EEE            1                       -10\n",
      "DEBUG:mathsformer.selfsupervised_learning_addition_model_backend:       23+43+69+6          141         104E          104                       -37\n",
      "DEBUG:mathsformer.selfsupervised_learning_addition_model_backend:  83-N3-N39-N45+7          177         114E          114                       -63\n",
      "DEBUG:mathsformer.selfsupervised_learning_addition_model_backend: N6+N7-N36-N9+N27            5         N3EE          N11                       -16\n",
      "DEBUG:mathsformer.selfsupervised_learning_addition_model_backend:            N3+N6           N9         N1EE          N10                        -1\n",
      "DEBUG:mathsformer.selfsupervised_learning_addition_model_backend:  79-N53-N24-5+N3          148         114E          114                       -34\n",
      "DEBUG:mathsformer.selfsupervised_learning_addition_model_backend:     1+N37-N8+6+3          N19         N10E          N10                         9\n",
      "DEBUG:mathsformer.selfsupervised_learning_addition_model_backend:              7+7           14         13EE           13                        -1\n",
      "DEBUG:mathsformer.selfsupervised_learning_addition_model_backend:Running text --> text mathsformer inference on some validation data:\n",
      "DEBUG:mathsformer.selfsupervised_learning_addition_model_backend:--------------------------------------------------------------------------------------\n",
      "DEBUG:mathsformer.selfsupervised_learning_addition_model_backend:                INPUT         TRUE   PRED(MASK)    PRED(GEN)      CORRECT     RESIDUAL\n",
      "DEBUG:mathsformer.selfsupervised_learning_addition_model_backend:--------------------------------------------------------------------------------------\n",
      "DEBUG:mathsformer.selfsupervised_learning_addition_model_backend:              N4-7-N6           N5         N1EE          N10                        -5\n",
      "DEBUG:mathsformer.selfsupervised_learning_addition_model_backend: N1+N29-N70-N35+96-N4          175         N1EE          N11                      -186\n",
      "DEBUG:mathsformer.selfsupervised_learning_addition_model_backend:             N5-N50-4           41         1EEE            1                       -40\n",
      "DEBUG:mathsformer.selfsupervised_learning_addition_model_backend:             N9+40+N9           22         1EEE           13                        -9\n",
      "DEBUG:mathsformer.selfsupervised_learning_addition_model_backend:             N68+6-N1          N61         N54E          N54                         7\n",
      "DEBUG:mathsformer.selfsupervised_learning_addition_model_backend:  N3+N89-94+N44+16+N2         N216         N14E          N11                       205\n",
      "DEBUG:mathsformer.selfsupervised_learning_addition_model_backend:               8-N7-6            9         NEEE          N10                       -19\n",
      "DEBUG:mathsformer.selfsupervised_learning_addition_model_backend:    N28+N9+3+N4+1-N17          N20         N14E          N11                         9\n",
      "DEBUG:mathsformer.selfsupervised_learning_addition_model_backend:    44+7-N50-N5-71+N6           29         11EE          114                        85\n",
      "DEBUG:mathsformer.selfsupervised_learning_addition_model_backend:            24+N5-N99          118         N0EE          N14                      -132\n"
     ]
    },
    {
     "name": "stdout",
     "output_type": "stream",
     "text": [
      "2000/2000 [==============================] - 442s 221ms/step - loss: 4.5189 - mathsformer_LLM_output_loss: 1.1321 - mathsformer_LLM_output_1_loss: 1.1246 - mathsformer_LLM_output_2_loss: 1.1268 - mathsformer_LLM_output_3_loss: 1.1355 - mathsformer_LLM_output_masked_categorical_accuracy: 0.6097 - mathsformer_LLM_output_1_masked_categorical_accuracy: 0.6113 - mathsformer_LLM_output_2_masked_categorical_accuracy: 0.6103 - mathsformer_LLM_output_3_masked_categorical_accuracy: 0.6077 - val_loss: 7.2092 - val_mathsformer_LLM_output_loss: 1.7740 - val_mathsformer_LLM_output_1_loss: 1.8045 - val_mathsformer_LLM_output_2_loss: 1.8154 - val_mathsformer_LLM_output_3_loss: 1.8153 - val_mathsformer_LLM_output_masked_categorical_accuracy: 0.4553 - val_mathsformer_LLM_output_1_masked_categorical_accuracy: 0.4499 - val_mathsformer_LLM_output_2_masked_categorical_accuracy: 0.4471 - val_mathsformer_LLM_output_3_masked_categorical_accuracy: 0.4467\n",
      "Epoch 7/100000\n",
      "2000/2000 [==============================] - ETA: 0s - loss: 4.3868 - mathsformer_LLM_output_loss: 1.0995 - mathsformer_LLM_output_1_loss: 1.0910 - mathsformer_LLM_output_2_loss: 1.0934 - mathsformer_LLM_output_3_loss: 1.1029 - mathsformer_LLM_output_masked_categorical_accuracy: 0.6195 - mathsformer_LLM_output_1_masked_categorical_accuracy: 0.6210 - mathsformer_LLM_output_2_masked_categorical_accuracy: 0.6204 - mathsformer_LLM_output_3_masked_categorical_accuracy: 0.6170"
     ]
    },
    {
     "name": "stderr",
     "output_type": "stream",
     "text": [
      "DEBUG:mathsformer.selfsupervised_learning_addition_model_backend:Training reached the end of epoch at index 6\n",
      "DEBUG:mathsformer.selfsupervised_learning_addition_model_backend:    with metric loss: 4.3868\n",
      "DEBUG:mathsformer.selfsupervised_learning_addition_model_backend:    with metric mathsformer_LLM_output_loss: 1.0995\n",
      "DEBUG:mathsformer.selfsupervised_learning_addition_model_backend:    with metric mathsformer_LLM_output_1_loss: 1.091\n",
      "DEBUG:mathsformer.selfsupervised_learning_addition_model_backend:    with metric mathsformer_LLM_output_2_loss: 1.0934\n",
      "DEBUG:mathsformer.selfsupervised_learning_addition_model_backend:    with metric mathsformer_LLM_output_3_loss: 1.1029\n",
      "DEBUG:mathsformer.selfsupervised_learning_addition_model_backend:    with metric mathsformer_LLM_output_masked_categorical_accuracy: 0.61952\n",
      "DEBUG:mathsformer.selfsupervised_learning_addition_model_backend:    with metric mathsformer_LLM_output_1_masked_categorical_accuracy: 0.62097\n",
      "DEBUG:mathsformer.selfsupervised_learning_addition_model_backend:    with metric mathsformer_LLM_output_2_masked_categorical_accuracy: 0.6204\n",
      "DEBUG:mathsformer.selfsupervised_learning_addition_model_backend:    with metric mathsformer_LLM_output_3_masked_categorical_accuracy: 0.61704\n",
      "DEBUG:mathsformer.selfsupervised_learning_addition_model_backend:    with metric val_loss: 7.6611\n",
      "DEBUG:mathsformer.selfsupervised_learning_addition_model_backend:    with metric val_mathsformer_LLM_output_loss: 1.9227\n",
      "DEBUG:mathsformer.selfsupervised_learning_addition_model_backend:    with metric val_mathsformer_LLM_output_1_loss: 1.9259\n",
      "DEBUG:mathsformer.selfsupervised_learning_addition_model_backend:    with metric val_mathsformer_LLM_output_2_loss: 1.9118\n",
      "DEBUG:mathsformer.selfsupervised_learning_addition_model_backend:    with metric val_mathsformer_LLM_output_3_loss: 1.9007\n",
      "DEBUG:mathsformer.selfsupervised_learning_addition_model_backend:    with metric val_mathsformer_LLM_output_masked_categorical_accuracy: 0.4605\n",
      "DEBUG:mathsformer.selfsupervised_learning_addition_model_backend:    with metric val_mathsformer_LLM_output_1_masked_categorical_accuracy: 0.45985\n",
      "DEBUG:mathsformer.selfsupervised_learning_addition_model_backend:    with metric val_mathsformer_LLM_output_2_masked_categorical_accuracy: 0.46095\n",
      "DEBUG:mathsformer.selfsupervised_learning_addition_model_backend:    with metric val_mathsformer_LLM_output_3_masked_categorical_accuracy: 0.46349\n",
      "DEBUG:mathsformer.selfsupervised_learning_addition_model_backend:Running text --> text mathsformer inference on some training data:\n",
      "DEBUG:mathsformer.selfsupervised_learning_addition_model_backend:----------------------------------------------------------------------------------\n",
      "DEBUG:mathsformer.selfsupervised_learning_addition_model_backend:            INPUT         TRUE   PRED(MASK)    PRED(GEN)      CORRECT     RESIDUAL\n",
      "DEBUG:mathsformer.selfsupervised_learning_addition_model_backend:----------------------------------------------------------------------------------\n",
      "DEBUG:mathsformer.selfsupervised_learning_addition_model_backend:  N80+N8-N9-5+N47         N131         N100         N100                        31\n",
      "DEBUG:mathsformer.selfsupervised_learning_addition_model_backend:  1+28+N41-N94+42          124         N0EE          N10                      -134\n",
      "DEBUG:mathsformer.selfsupervised_learning_addition_model_backend:             4-N7           11         10EE           10                        -1\n",
      "DEBUG:mathsformer.selfsupervised_learning_addition_model_backend:       23+43+69+6          141         10EE          100                       -41\n",
      "DEBUG:mathsformer.selfsupervised_learning_addition_model_backend:  83-N3-N39-N45+7          177         100E          100                       -77\n",
      "DEBUG:mathsformer.selfsupervised_learning_addition_model_backend: N6+N7-N36-N9+N27            5         NEEE         N100                      -105\n",
      "DEBUG:mathsformer.selfsupervised_learning_addition_model_backend:            N3+N6           N9         N1EE          N10                        -1\n",
      "DEBUG:mathsformer.selfsupervised_learning_addition_model_backend:  79-N53-N24-5+N3          148         100E          100                       -48\n",
      "DEBUG:mathsformer.selfsupervised_learning_addition_model_backend:     1+N37-N8+6+3          N19         N10E          N10                         9\n",
      "DEBUG:mathsformer.selfsupervised_learning_addition_model_backend:              7+7           14         10EE           10                        -4\n",
      "DEBUG:mathsformer.selfsupervised_learning_addition_model_backend:Running text --> text mathsformer inference on some validation data:\n",
      "DEBUG:mathsformer.selfsupervised_learning_addition_model_backend:--------------------------------------------------------------------------------------\n",
      "DEBUG:mathsformer.selfsupervised_learning_addition_model_backend:                INPUT         TRUE   PRED(MASK)    PRED(GEN)      CORRECT     RESIDUAL\n",
      "DEBUG:mathsformer.selfsupervised_learning_addition_model_backend:--------------------------------------------------------------------------------------\n",
      "DEBUG:mathsformer.selfsupervised_learning_addition_model_backend:              N4-7-N6           N5         N1EE           N1                         4\n",
      "DEBUG:mathsformer.selfsupervised_learning_addition_model_backend: N1+N29-N70-N35+96-N4          175         N0EE          N10                      -185\n",
      "DEBUG:mathsformer.selfsupervised_learning_addition_model_backend:             N5-N50-4           41         NEEE           N1                       -42\n",
      "DEBUG:mathsformer.selfsupervised_learning_addition_model_backend:             N9+40+N9           22         NEEE           N1                       -23\n",
      "DEBUG:mathsformer.selfsupervised_learning_addition_model_backend:             N68+6-N1          N61         N54E          N54                         7\n",
      "DEBUG:mathsformer.selfsupervised_learning_addition_model_backend:  N3+N89-94+N44+16+N2         N216         N10E         N100                       116\n",
      "DEBUG:mathsformer.selfsupervised_learning_addition_model_backend:               8-N7-6            9         NEEE          N10                       -19\n",
      "DEBUG:mathsformer.selfsupervised_learning_addition_model_backend:    N28+N9+3+N4+1-N17          N20         N10E         N100                       -80\n",
      "DEBUG:mathsformer.selfsupervised_learning_addition_model_backend:    44+7-N50-N5-71+N6           29         N0EE          N10                       -39\n",
      "DEBUG:mathsformer.selfsupervised_learning_addition_model_backend:            24+N5-N99          118         N0EE          N10                      -128\n"
     ]
    },
    {
     "name": "stdout",
     "output_type": "stream",
     "text": [
      "2000/2000 [==============================] - 441s 220ms/step - loss: 4.3868 - mathsformer_LLM_output_loss: 1.0995 - mathsformer_LLM_output_1_loss: 1.0910 - mathsformer_LLM_output_2_loss: 1.0934 - mathsformer_LLM_output_3_loss: 1.1029 - mathsformer_LLM_output_masked_categorical_accuracy: 0.6195 - mathsformer_LLM_output_1_masked_categorical_accuracy: 0.6210 - mathsformer_LLM_output_2_masked_categorical_accuracy: 0.6204 - mathsformer_LLM_output_3_masked_categorical_accuracy: 0.6170 - val_loss: 7.6611 - val_mathsformer_LLM_output_loss: 1.9227 - val_mathsformer_LLM_output_1_loss: 1.9259 - val_mathsformer_LLM_output_2_loss: 1.9118 - val_mathsformer_LLM_output_3_loss: 1.9007 - val_mathsformer_LLM_output_masked_categorical_accuracy: 0.4605 - val_mathsformer_LLM_output_1_masked_categorical_accuracy: 0.4599 - val_mathsformer_LLM_output_2_masked_categorical_accuracy: 0.4610 - val_mathsformer_LLM_output_3_masked_categorical_accuracy: 0.4635\n",
      "Epoch 8/100000\n",
      "2000/2000 [==============================] - ETA: 0s - loss: 4.2832 - mathsformer_LLM_output_loss: 1.0744 - mathsformer_LLM_output_1_loss: 1.0655 - mathsformer_LLM_output_2_loss: 1.0674 - mathsformer_LLM_output_3_loss: 1.0760 - mathsformer_LLM_output_masked_categorical_accuracy: 0.6253 - mathsformer_LLM_output_1_masked_categorical_accuracy: 0.6273 - mathsformer_LLM_output_2_masked_categorical_accuracy: 0.6263 - mathsformer_LLM_output_3_masked_categorical_accuracy: 0.6236"
     ]
    },
    {
     "name": "stderr",
     "output_type": "stream",
     "text": [
      "DEBUG:mathsformer.selfsupervised_learning_addition_model_backend:Training reached the end of epoch at index 7\n",
      "DEBUG:mathsformer.selfsupervised_learning_addition_model_backend:    with metric loss: 4.2832\n",
      "DEBUG:mathsformer.selfsupervised_learning_addition_model_backend:    with metric mathsformer_LLM_output_loss: 1.0744\n",
      "DEBUG:mathsformer.selfsupervised_learning_addition_model_backend:    with metric mathsformer_LLM_output_1_loss: 1.0655\n",
      "DEBUG:mathsformer.selfsupervised_learning_addition_model_backend:    with metric mathsformer_LLM_output_2_loss: 1.0674\n",
      "DEBUG:mathsformer.selfsupervised_learning_addition_model_backend:    with metric mathsformer_LLM_output_3_loss: 1.076\n",
      "DEBUG:mathsformer.selfsupervised_learning_addition_model_backend:    with metric mathsformer_LLM_output_masked_categorical_accuracy: 0.62527\n",
      "DEBUG:mathsformer.selfsupervised_learning_addition_model_backend:    with metric mathsformer_LLM_output_1_masked_categorical_accuracy: 0.6273\n",
      "DEBUG:mathsformer.selfsupervised_learning_addition_model_backend:    with metric mathsformer_LLM_output_2_masked_categorical_accuracy: 0.62634\n",
      "DEBUG:mathsformer.selfsupervised_learning_addition_model_backend:    with metric mathsformer_LLM_output_3_masked_categorical_accuracy: 0.6236\n",
      "DEBUG:mathsformer.selfsupervised_learning_addition_model_backend:    with metric val_loss: 7.8356\n",
      "DEBUG:mathsformer.selfsupervised_learning_addition_model_backend:    with metric val_mathsformer_LLM_output_loss: 1.9666\n",
      "DEBUG:mathsformer.selfsupervised_learning_addition_model_backend:    with metric val_mathsformer_LLM_output_1_loss: 1.9713\n",
      "DEBUG:mathsformer.selfsupervised_learning_addition_model_backend:    with metric val_mathsformer_LLM_output_2_loss: 1.9534\n",
      "DEBUG:mathsformer.selfsupervised_learning_addition_model_backend:    with metric val_mathsformer_LLM_output_3_loss: 1.9443\n",
      "DEBUG:mathsformer.selfsupervised_learning_addition_model_backend:    with metric val_mathsformer_LLM_output_masked_categorical_accuracy: 0.45857\n",
      "DEBUG:mathsformer.selfsupervised_learning_addition_model_backend:    with metric val_mathsformer_LLM_output_1_masked_categorical_accuracy: 0.45793\n",
      "DEBUG:mathsformer.selfsupervised_learning_addition_model_backend:    with metric val_mathsformer_LLM_output_2_masked_categorical_accuracy: 0.45942\n",
      "DEBUG:mathsformer.selfsupervised_learning_addition_model_backend:    with metric val_mathsformer_LLM_output_3_masked_categorical_accuracy: 0.46115\n",
      "DEBUG:mathsformer.selfsupervised_learning_addition_model_backend:Running text --> text mathsformer inference on some training data:\n",
      "DEBUG:mathsformer.selfsupervised_learning_addition_model_backend:----------------------------------------------------------------------------------\n",
      "DEBUG:mathsformer.selfsupervised_learning_addition_model_backend:            INPUT         TRUE   PRED(MASK)    PRED(GEN)      CORRECT     RESIDUAL\n",
      "DEBUG:mathsformer.selfsupervised_learning_addition_model_backend:----------------------------------------------------------------------------------\n",
      "DEBUG:mathsformer.selfsupervised_learning_addition_model_backend:  N80+N8-N9-5+N47         N131         N135         N135                        -4\n",
      "DEBUG:mathsformer.selfsupervised_learning_addition_model_backend:  1+28+N41-N94+42          124         N3EE          N10                      -134\n",
      "DEBUG:mathsformer.selfsupervised_learning_addition_model_backend:             4-N7           11         10EE           10                        -1\n",
      "DEBUG:mathsformer.selfsupervised_learning_addition_model_backend:       23+43+69+6          141         10EE          100                       -41\n",
      "DEBUG:mathsformer.selfsupervised_learning_addition_model_backend:  83-N3-N39-N45+7          177         132E          132                       -45\n",
      "DEBUG:mathsformer.selfsupervised_learning_addition_model_backend: N6+N7-N36-N9+N27            5         NEEE         N100                      -105\n",
      "DEBUG:mathsformer.selfsupervised_learning_addition_model_backend:            N3+N6           N9         N1EE          N10                        -1\n",
      "DEBUG:mathsformer.selfsupervised_learning_addition_model_backend:  79-N53-N24-5+N3          148         132E          132                       -16\n",
      "DEBUG:mathsformer.selfsupervised_learning_addition_model_backend:     1+N37-N8+6+3          N19         N10E         N100                       -81\n",
      "DEBUG:mathsformer.selfsupervised_learning_addition_model_backend:              7+7           14         10EE           10                        -4\n",
      "DEBUG:mathsformer.selfsupervised_learning_addition_model_backend:Running text --> text mathsformer inference on some validation data:\n",
      "DEBUG:mathsformer.selfsupervised_learning_addition_model_backend:--------------------------------------------------------------------------------------\n",
      "DEBUG:mathsformer.selfsupervised_learning_addition_model_backend:                INPUT         TRUE   PRED(MASK)    PRED(GEN)      CORRECT     RESIDUAL\n",
      "DEBUG:mathsformer.selfsupervised_learning_addition_model_backend:--------------------------------------------------------------------------------------\n",
      "DEBUG:mathsformer.selfsupervised_learning_addition_model_backend:              N4-7-N6           N5         N1EE          N10                        -5\n",
      "DEBUG:mathsformer.selfsupervised_learning_addition_model_backend: N1+N29-N70-N35+96-N4          175         N0EE         N100                      -275\n",
      "DEBUG:mathsformer.selfsupervised_learning_addition_model_backend:             N5-N50-4           41         1EEE            1                       -40\n",
      "DEBUG:mathsformer.selfsupervised_learning_addition_model_backend:             N9+40+N9           22         NEEE           N1                       -23\n",
      "DEBUG:mathsformer.selfsupervised_learning_addition_model_backend:             N68+6-N1          N61         N52E          N52                         9\n",
      "DEBUG:mathsformer.selfsupervised_learning_addition_model_backend:  N3+N89-94+N44+16+N2         N216         N10E         N100                       116\n",
      "DEBUG:mathsformer.selfsupervised_learning_addition_model_backend:               8-N7-6            9         11EE          102                        93\n",
      "DEBUG:mathsformer.selfsupervised_learning_addition_model_backend:    N28+N9+3+N4+1-N17          N20         N10E         N100                       -80\n",
      "DEBUG:mathsformer.selfsupervised_learning_addition_model_backend:    44+7-N50-N5-71+N6           29         N0EE          N10                       -39\n",
      "DEBUG:mathsformer.selfsupervised_learning_addition_model_backend:            24+N5-N99          118         N0EE          N10                      -128\n"
     ]
    },
    {
     "name": "stdout",
     "output_type": "stream",
     "text": [
      "2000/2000 [==============================] - 443s 222ms/step - loss: 4.2832 - mathsformer_LLM_output_loss: 1.0744 - mathsformer_LLM_output_1_loss: 1.0655 - mathsformer_LLM_output_2_loss: 1.0674 - mathsformer_LLM_output_3_loss: 1.0760 - mathsformer_LLM_output_masked_categorical_accuracy: 0.6253 - mathsformer_LLM_output_1_masked_categorical_accuracy: 0.6273 - mathsformer_LLM_output_2_masked_categorical_accuracy: 0.6263 - mathsformer_LLM_output_3_masked_categorical_accuracy: 0.6236 - val_loss: 7.8356 - val_mathsformer_LLM_output_loss: 1.9666 - val_mathsformer_LLM_output_1_loss: 1.9713 - val_mathsformer_LLM_output_2_loss: 1.9534 - val_mathsformer_LLM_output_3_loss: 1.9443 - val_mathsformer_LLM_output_masked_categorical_accuracy: 0.4586 - val_mathsformer_LLM_output_1_masked_categorical_accuracy: 0.4579 - val_mathsformer_LLM_output_2_masked_categorical_accuracy: 0.4594 - val_mathsformer_LLM_output_3_masked_categorical_accuracy: 0.4611\n",
      "Epoch 9/100000\n",
      "2000/2000 [==============================] - ETA: 0s - loss: 4.2115 - mathsformer_LLM_output_loss: 1.0561 - mathsformer_LLM_output_1_loss: 1.0479 - mathsformer_LLM_output_2_loss: 1.0496 - mathsformer_LLM_output_3_loss: 1.0579 - mathsformer_LLM_output_masked_categorical_accuracy: 0.6304 - mathsformer_LLM_output_1_masked_categorical_accuracy: 0.6326 - mathsformer_LLM_output_2_masked_categorical_accuracy: 0.6322 - mathsformer_LLM_output_3_masked_categorical_accuracy: 0.6297"
     ]
    },
    {
     "name": "stderr",
     "output_type": "stream",
     "text": [
      "DEBUG:mathsformer.selfsupervised_learning_addition_model_backend:Training reached the end of epoch at index 8\n",
      "DEBUG:mathsformer.selfsupervised_learning_addition_model_backend:    with metric loss: 4.2115\n",
      "DEBUG:mathsformer.selfsupervised_learning_addition_model_backend:    with metric mathsformer_LLM_output_loss: 1.0561\n",
      "DEBUG:mathsformer.selfsupervised_learning_addition_model_backend:    with metric mathsformer_LLM_output_1_loss: 1.0479\n",
      "DEBUG:mathsformer.selfsupervised_learning_addition_model_backend:    with metric mathsformer_LLM_output_2_loss: 1.0496\n",
      "DEBUG:mathsformer.selfsupervised_learning_addition_model_backend:    with metric mathsformer_LLM_output_3_loss: 1.0579\n",
      "DEBUG:mathsformer.selfsupervised_learning_addition_model_backend:    with metric mathsformer_LLM_output_masked_categorical_accuracy: 0.63036\n",
      "DEBUG:mathsformer.selfsupervised_learning_addition_model_backend:    with metric mathsformer_LLM_output_1_masked_categorical_accuracy: 0.63259\n",
      "DEBUG:mathsformer.selfsupervised_learning_addition_model_backend:    with metric mathsformer_LLM_output_2_masked_categorical_accuracy: 0.63224\n",
      "DEBUG:mathsformer.selfsupervised_learning_addition_model_backend:    with metric mathsformer_LLM_output_3_masked_categorical_accuracy: 0.62968\n",
      "DEBUG:mathsformer.selfsupervised_learning_addition_model_backend:    with metric val_loss: 6.8386\n",
      "DEBUG:mathsformer.selfsupervised_learning_addition_model_backend:    with metric val_mathsformer_LLM_output_loss: 1.7316\n",
      "DEBUG:mathsformer.selfsupervised_learning_addition_model_backend:    with metric val_mathsformer_LLM_output_1_loss: 1.7231\n",
      "DEBUG:mathsformer.selfsupervised_learning_addition_model_backend:    with metric val_mathsformer_LLM_output_2_loss: 1.7012\n",
      "DEBUG:mathsformer.selfsupervised_learning_addition_model_backend:    with metric val_mathsformer_LLM_output_3_loss: 1.6826\n",
      "DEBUG:mathsformer.selfsupervised_learning_addition_model_backend:    with metric val_mathsformer_LLM_output_masked_categorical_accuracy: 0.46865\n",
      "DEBUG:mathsformer.selfsupervised_learning_addition_model_backend:    with metric val_mathsformer_LLM_output_1_masked_categorical_accuracy: 0.4674\n",
      "DEBUG:mathsformer.selfsupervised_learning_addition_model_backend:    with metric val_mathsformer_LLM_output_2_masked_categorical_accuracy: 0.46591\n",
      "DEBUG:mathsformer.selfsupervised_learning_addition_model_backend:    with metric val_mathsformer_LLM_output_3_masked_categorical_accuracy: 0.4637\n",
      "DEBUG:mathsformer.selfsupervised_learning_addition_model_backend:Running text --> text mathsformer inference on some training data:\n",
      "DEBUG:mathsformer.selfsupervised_learning_addition_model_backend:----------------------------------------------------------------------------------\n",
      "DEBUG:mathsformer.selfsupervised_learning_addition_model_backend:            INPUT         TRUE   PRED(MASK)    PRED(GEN)      CORRECT     RESIDUAL\n",
      "DEBUG:mathsformer.selfsupervised_learning_addition_model_backend:----------------------------------------------------------------------------------\n",
      "DEBUG:mathsformer.selfsupervised_learning_addition_model_backend:  N80+N8-N9-5+N47         N131         N149         N147                       -16\n",
      "DEBUG:mathsformer.selfsupervised_learning_addition_model_backend:  1+28+N41-N94+42          124         N0EE          N10                      -134\n",
      "DEBUG:mathsformer.selfsupervised_learning_addition_model_backend:             4-N7           11         12EE           12                         1\n",
      "DEBUG:mathsformer.selfsupervised_learning_addition_model_backend:       23+43+69+6          141         107E          109                       -32\n",
      "DEBUG:mathsformer.selfsupervised_learning_addition_model_backend:  83-N3-N39-N45+7          177         147E          147                       -30\n",
      "DEBUG:mathsformer.selfsupervised_learning_addition_model_backend: N6+N7-N36-N9+N27            5         N6EE         N100                      -105\n",
      "DEBUG:mathsformer.selfsupervised_learning_addition_model_backend:            N3+N6           N9         N1EE          N10                        -1\n",
      "DEBUG:mathsformer.selfsupervised_learning_addition_model_backend:  79-N53-N24-5+N3          148         147E          147                        -1\n",
      "DEBUG:mathsformer.selfsupervised_learning_addition_model_backend:     1+N37-N8+6+3          N19         N10E         N100                       -81\n",
      "DEBUG:mathsformer.selfsupervised_learning_addition_model_backend:              7+7           14         12EE           12                        -2\n",
      "DEBUG:mathsformer.selfsupervised_learning_addition_model_backend:Running text --> text mathsformer inference on some validation data:\n",
      "DEBUG:mathsformer.selfsupervised_learning_addition_model_backend:--------------------------------------------------------------------------------------\n",
      "DEBUG:mathsformer.selfsupervised_learning_addition_model_backend:                INPUT         TRUE   PRED(MASK)    PRED(GEN)      CORRECT     RESIDUAL\n",
      "DEBUG:mathsformer.selfsupervised_learning_addition_model_backend:--------------------------------------------------------------------------------------\n",
      "DEBUG:mathsformer.selfsupervised_learning_addition_model_backend:              N4-7-N6           N5         N1EE          N11                        -6\n",
      "DEBUG:mathsformer.selfsupervised_learning_addition_model_backend: N1+N29-N70-N35+96-N4          175         N0EE         N100                      -275\n",
      "DEBUG:mathsformer.selfsupervised_learning_addition_model_backend:             N5-N50-4           41         1EEE            1                       -40\n",
      "DEBUG:mathsformer.selfsupervised_learning_addition_model_backend:             N9+40+N9           22         NEEE           N1                       -23\n",
      "DEBUG:mathsformer.selfsupervised_learning_addition_model_backend:             N68+6-N1          N61         N54E          N54                         7\n",
      "DEBUG:mathsformer.selfsupervised_learning_addition_model_backend:  N3+N89-94+N44+16+N2         N216         N10E         N106                       110\n",
      "DEBUG:mathsformer.selfsupervised_learning_addition_model_backend:               8-N7-6            9         11EE          102                        93\n",
      "DEBUG:mathsformer.selfsupervised_learning_addition_model_backend:    N28+N9+3+N4+1-N17          N20         N10E         N100                       -80\n",
      "DEBUG:mathsformer.selfsupervised_learning_addition_model_backend:    44+7-N50-N5-71+N6           29         10EE          127                        98\n",
      "DEBUG:mathsformer.selfsupervised_learning_addition_model_backend:            24+N5-N99          118         10EE           10                      -108\n"
     ]
    },
    {
     "name": "stdout",
     "output_type": "stream",
     "text": [
      "2000/2000 [==============================] - 452s 226ms/step - loss: 4.2115 - mathsformer_LLM_output_loss: 1.0561 - mathsformer_LLM_output_1_loss: 1.0479 - mathsformer_LLM_output_2_loss: 1.0496 - mathsformer_LLM_output_3_loss: 1.0579 - mathsformer_LLM_output_masked_categorical_accuracy: 0.6304 - mathsformer_LLM_output_1_masked_categorical_accuracy: 0.6326 - mathsformer_LLM_output_2_masked_categorical_accuracy: 0.6322 - mathsformer_LLM_output_3_masked_categorical_accuracy: 0.6297 - val_loss: 6.8386 - val_mathsformer_LLM_output_loss: 1.7316 - val_mathsformer_LLM_output_1_loss: 1.7231 - val_mathsformer_LLM_output_2_loss: 1.7012 - val_mathsformer_LLM_output_3_loss: 1.6826 - val_mathsformer_LLM_output_masked_categorical_accuracy: 0.4686 - val_mathsformer_LLM_output_1_masked_categorical_accuracy: 0.4674 - val_mathsformer_LLM_output_2_masked_categorical_accuracy: 0.4659 - val_mathsformer_LLM_output_3_masked_categorical_accuracy: 0.4637\n",
      "Epoch 10/100000\n",
      " 138/2000 [=>............................] - ETA: 6:17 - loss: 4.1609 - mathsformer_LLM_output_loss: 1.0441 - mathsformer_LLM_output_1_loss: 1.0354 - mathsformer_LLM_output_2_loss: 1.0363 - mathsformer_LLM_output_3_loss: 1.0451 - mathsformer_LLM_output_masked_categorical_accuracy: 0.6340 - mathsformer_LLM_output_1_masked_categorical_accuracy: 0.6383 - mathsformer_LLM_output_2_masked_categorical_accuracy: 0.6343 - mathsformer_LLM_output_3_masked_categorical_accuracy: 0.6326"
     ]
    }
   ],
   "source": [
    "##=================##\n",
    "##   Train model   ##\n",
    "##=================##\n",
    "\n",
    "do_train = cfg_training.get(\"train\", True)\n",
    "\n",
    "if do_train :\n",
    "    max_epochs = cfg_training[\"max_epochs\"]\n",
    "    logger.info(f\"Begin model training with max_epochs={max_epochs}\")\n",
    "    model.fit(train_gen, \n",
    "              epochs          = max_epochs,\n",
    "              validation_data = val_gen,\n",
    "              callbacks       = callbacks\n",
    "             )\n",
    "else :\n",
    "    logger.warning(\"Skipping model training following global config instructions\")\n"
   ]
  },
  {
   "cell_type": "code",
   "execution_count": null,
   "id": "8fb38943",
   "metadata": {},
   "outputs": [],
   "source": [
    "##================##\n",
    "##   Save model   ##\n",
    "##================##\n",
    "\n",
    "do_save = cfg_evaluate.get(\"save_model\", True)\n",
    "\n",
    "if do_save :\n",
    "    save_fname = f\"{working_dir}/final_model.h5\"\n",
    "    model.save(save_fname)\n",
    "    logger.info(f\"Model saved to file {save_fname}\")\n",
    "else :\n",
    "    logger.warning(\"Not saving model because no training was done\")\n"
   ]
  },
  {
   "cell_type": "markdown",
   "id": "5fc69448",
   "metadata": {},
   "source": [
    "## 6.  Evaluate model"
   ]
  },
  {
   "cell_type": "code",
   "execution_count": null,
   "id": "04c425ac",
   "metadata": {
    "scrolled": false
   },
   "outputs": [],
   "source": [
    "  \n",
    "##  Find out how many datapoints to print predictions for \n",
    "num_print = cfg_evaluate.get(\"num_print\", 20)\n",
    "\n",
    "##  Print tables\n",
    "backend.test_transformer(transformer, train_gen, val_gen, test_gen, num_print=num_print, \n",
    "                         negative_char=negative_char)\n"
   ]
  },
  {
   "cell_type": "markdown",
   "id": "34dfb55b",
   "metadata": {},
   "source": [
    "##  7. Additional visualisations"
   ]
  },
  {
   "cell_type": "code",
   "execution_count": null,
   "id": "5e385e68",
   "metadata": {
    "scrolled": false
   },
   "outputs": [],
   "source": [
    "##=============================================##\n",
    "##   Visualise layer weights during training   ##\n",
    "##=============================================##\n",
    "\n",
    "if cfg_evaluate[\"plot_weights\"] :\n",
    "    \n",
    "    logger.info(\"Plotting weights\")\n",
    "    backend.plot_weights(callbacks, show=True, close=True, savefig=f\"{working_dir}/layer_weights.pdf\")\n",
    "    "
   ]
  },
  {
   "cell_type": "code",
   "execution_count": null,
   "id": "0508f971",
   "metadata": {},
   "outputs": [],
   "source": [
    "\n",
    "if cfg_evaluate[\"plot_training_curves\"] :\n",
    "    \n",
    "    if not hasattr(model, \"history\") :\n",
    "        logger.error(\"Cannot print training curves because no model history exists - perhaps you skipped training?\")\n",
    "    else :\n",
    "        logger.info(\"Plotting training curves\")\n",
    "        backend.plot_training_curves(model.history.history, show=True, close=True, savefig=f\"{working_dir}/training_curves.pdf\")\n",
    "    "
   ]
  },
  {
   "cell_type": "code",
   "execution_count": null,
   "id": "8fd92c89",
   "metadata": {},
   "outputs": [],
   "source": []
  }
 ],
 "metadata": {
  "kernelspec": {
   "display_name": "Python 3 (ipykernel)",
   "language": "python",
   "name": "python3"
  },
  "language_info": {
   "codemirror_mode": {
    "name": "ipython",
    "version": 3
   },
   "file_extension": ".py",
   "mimetype": "text/x-python",
   "name": "python",
   "nbconvert_exporter": "python",
   "pygments_lexer": "ipython3",
   "version": "3.11.4"
  }
 },
 "nbformat": 4,
 "nbformat_minor": 5
}
