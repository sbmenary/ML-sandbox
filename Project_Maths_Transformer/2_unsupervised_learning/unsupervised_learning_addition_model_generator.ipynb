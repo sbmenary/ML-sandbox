{
 "cells": [
  {
   "cell_type": "markdown",
   "id": "bae8ce14",
   "metadata": {},
   "source": [
    "#  Unsupervised learning addition model with generator\n",
    "\n",
    "Author: S. Menary [sbmenary@gmail.com]\n",
    "\n",
    "Date: 11/4/2023  (last update: 28/6/2023)\n",
    "\n",
    "Overview: Train a `sequence -> sequence` model where the input sequence is a text representation of a simple sum $\\sum_{i=1}^N A_i$ for a configurable number $N$ of integers $A_i\\in\\mathbb{Z}$, and the output is a set of logits representing the probability of each token in the output sequence. Integers may have a configurable number of digits. At inference time, chains of text are generated auto-regressively until the terminate-sequence token is reached. The loss function is a sparse categorical entropy.\n",
    "\n",
    "The transformer is configurable. We support\n",
    "- learnable skip connections\n",
    "- learnable positional encodings\n",
    "- multiple encoded outputs given equal weight in the loss function (to encourage convergence)\n",
    "- repetition of encoder/decoder blocks in loops\n",
    "- pre-loop layers allowing the transformer to process the input into an initial representation\n",
    "\n",
    "---\n",
    "\n",
    "## 1. Set up program\n",
    "\n",
    "###  Import\n",
    "\n",
    "All imports go here at the top of the notebook"
   ]
  },
  {
   "cell_type": "code",
   "execution_count": 1,
   "id": "d48f1e68",
   "metadata": {},
   "outputs": [],
   "source": [
    "##=========================##\n",
    "##   All imports go here   ##\n",
    "##=========================##\n",
    "\n",
    "##  Import entire python stdlib packages\n",
    "import logging, os, sys\n",
    "\n",
    "##  Import entire pypi packages\n",
    "import tensorflow as tf\n",
    "\n",
    "##  Remove tensorflow INFO messages\n",
    "tf.get_logger().setLevel('WARNING')\n",
    "\n",
    "##  Add directory above this to system path to expose mathsformer package location\n",
    "sys.path.append(\"/\".join(os.getcwd().split(\"/\")[:-1]))\n",
    "\n",
    "##  Import individual modules/objects from local packages\n",
    "from tensorflow.keras.optimizers.legacy import Adam, SGD\n",
    "from tensorflow.keras.optimizers import AdamW\n",
    "from mathsformer import config, data, transformers, utils\n",
    "from mathsformer import selfsupervised_learning_addition_model_backend as backend\n"
   ]
  },
  {
   "cell_type": "markdown",
   "id": "320886f9",
   "metadata": {},
   "source": [
    "## 1. Configure run\n",
    "\n",
    "Set configuration variables for entire program"
   ]
  },
  {
   "cell_type": "code",
   "execution_count": 2,
   "id": "701cef8b",
   "metadata": {},
   "outputs": [],
   "source": [
    "##==============================##\n",
    "##   Set custom config values   ##\n",
    "##==============================##\n",
    "\n",
    "custom_config = {\n",
    "    \"global\" : {\n",
    "        \"base_seed\"        : 100,\n",
    "        \"working_dir\"      : \"SSL_loopy_enc_dec_notebook_int[data>train_data>int_lengths]_num[data>train_data>num_ints]_embed[model>ndim_embedding]_enc_[model>encoder>num_blocks]blocks_[model>encoder>num_loops]loops_width[model>encoder>ndim_ff_hidden]_dec_[model>decoder>num_blocks]blocks_[model>decoder>num_loops]loops_width[model>decoder>ndim_ff_hidden]_post[model>post_decoder>num_layers]_width[model>post_decoder>ndim]_idem[model>idempotent_size]_[date]\",\n",
    "        \"log_lvl_iostream\" : logging.INFO,\n",
    "        \"log_lvl_fstream\"  : logging.DEBUG,\n",
    "    },\n",
    "    \"data\" : {\n",
    "        \"train_data\" : {\n",
    "            \"int_lengths\"      : [1, 2, 3, 4],\n",
    "            \"num_ints\"         : [1, 2, 4, 5],\n",
    "            \"batch_size\"       : 32,\n",
    "            \"num_batches\"      : 2000,\n",
    "            \"gen_base_seed\"    : 101,\n",
    "            \"gen_reproducible\" : False, \n",
    "        },\n",
    "        \"val_data\" : {\n",
    "            \"int_lengths\"      : [1, 2, 3, 4],\n",
    "            \"num_ints\"         : [3],\n",
    "            \"batch_size\"       : 32,\n",
    "            \"num_batches\"      : 50,\n",
    "            \"gen_base_seed\"    : 102,\n",
    "            \"gen_reproducible\" : True,\n",
    "        },\n",
    "        \"test_data\" : {\n",
    "            \"int_lengths\"      : [1, 2, 3, 4],\n",
    "            \"num_ints\"         : [6, 7],\n",
    "            \"batch_size\"       : 32,\n",
    "            \"num_batches\"      : 100,\n",
    "            \"gen_base_seed\"    : 103,\n",
    "            \"gen_reproducible\" : True,\n",
    "        },\n",
    "        \"characters\"              : ['M', 'B', 'E', 'N', '0', '1', '2', '3', '4', '5', '6', '7', '8', '9', '+', '-'],\n",
    "        \"mask_char\"               : 'M',\n",
    "        \"seq_start_char\"          : 'B',\n",
    "        \"seq_end_char\"            : 'E',\n",
    "        \"negative_char\"           : 'N',\n",
    "        \"dtype\"                   : \"int32\",\n",
    "    },\n",
    "    \"model\" : {\n",
    "        \"load_model\" : {\n",
    "            \"do\"    : False,\n",
    "            \"fname\" : None,\n",
    "        },\n",
    "        \"update_model\" : {\n",
    "            \"do\"     : False,\n",
    "            \"kwargs\" : {}, #{\"num_encoder_loops\": 18},\n",
    "        },\n",
    "        \"create_model\" : {\n",
    "            \"name\"                  : \"mathsformer_LLM\",\n",
    "            \"dtype\"                 : \"float32\",\n",
    "            \"dropout\"               : 0.1,\n",
    "            \"jit_compile\"           : False,\n",
    "            \"use_old_loss\"          : True,\n",
    "            \"optimizer\"             : AdamW,\n",
    "            \"optimizer_args\"        : {\"learning_rate\":1e-4, \"weight_decay\":1e-2},\n",
    "            \"idempotent_size\"       : 2,\n",
    "            \"positional_encoding\" : {\n",
    "                \"num_freqs\"         : 64,\n",
    "                \"min_period\"        : 4,\n",
    "                \"max_period\"        : 1600,\n",
    "                \"learnable\"         : False,\n",
    "                \"do_decoder\"        : True,\n",
    "            },\n",
    "            \"ndim_embedding\"        : 128,\n",
    "            \"comb_type\"             : 'mixture',\n",
    "            \"pre_encoder\" : {\n",
    "                \"num_blocks\"           : 2,\n",
    "                \"num_loops\"            : 1,\n",
    "                \"num_heads\"            : 8,\n",
    "                \"ndim\"                 : 128,\n",
    "                \"ndim_att_hidden\"      : 128,\n",
    "                \"ndim_ff_hidden\"       : 512,\n",
    "                \"skip_connect\"         : True,\n",
    "                \"mixture_skip_connect\" : True,\n",
    "            },\n",
    "            \"encoder\" : {\n",
    "                \"num_blocks\"           : 2,\n",
    "                \"num_loops\"            : 4,\n",
    "                \"num_heads\"            : 8,\n",
    "                \"ndim\"                 : 128,\n",
    "                \"ndim_att_hidden\"      : 128,\n",
    "                \"ndim_ff_hidden\"       : 512,\n",
    "                \"skip_connect\"         : True,\n",
    "                \"mixture_skip_connect\" : False,\n",
    "            },\n",
    "            \"decoder\" : {\n",
    "                \"num_blocks\"           : 2,\n",
    "                \"num_loops\"            : 1,\n",
    "                \"num_heads\"            : 8,\n",
    "                \"ndim\"                 : 128,\n",
    "                \"ndim_att_hidden\"      : 128,\n",
    "                \"ndim_ff_hidden\"       : 512,\n",
    "                \"skip_connect\"         : True,\n",
    "                \"mixture_skip_connect\" : False,\n",
    "            },\n",
    "            \"post_decoder\" : {\n",
    "                \"num_layers\"        : 3,\n",
    "                \"ndim\"              : 512,\n",
    "            },\n",
    "        },\n",
    "    },\n",
    "    \"training\" : {\n",
    "        \"train\"          : True,\n",
    "        \"max_epochs\"     : 100000,\n",
    "        \"early_stopping\" : {\n",
    "            \"do\"                   : False,\n",
    "            \"patience\"             : 6,\n",
    "            \"monitor\"              : \"loss\",\n",
    "            \"mode\"                 : \"min\",\n",
    "            \"restore_best_weights\" : True,\n",
    "        },\n",
    "        \"adaptive_learning_rate\" : {\n",
    "            \"do\"           : True,\n",
    "            \"decay_factor\" : 0.25,\n",
    "            \"monitor\"      : \"loss\",\n",
    "            \"mode\"         : \"min\",\n",
    "            \"patience\"     : 1,\n",
    "            \"log_lvl\"      : logging.DEBUG,\n",
    "        },\n",
    "        \"stop_by_metric\" : {\n",
    "            \"do\"         : True,\n",
    "            \"metric\"     : \"mathsformer_LLM_output_masked_categorical_accuracy\",\n",
    "            \"stop_value\" : 0.999,\n",
    "            \"mode\"       : \"max\",\n",
    "        },\n",
    "        \"model_checkpoint\" : {\n",
    "            \"do\"       : True,\n",
    "            \"filename\" : \"model_checkpoint_epoch{epoch}_val_loss_{val_loss:.5}.keras\",\n",
    "        },\n",
    "        \"log_after_epoch\" : {\n",
    "            \"do\"          : True,\n",
    "            \"log_lvl\"     : logging.DEBUG,\n",
    "        },\n",
    "        \"layer_weights_record\" : {\n",
    "            \"do\"               : False,\n",
    "            \"batch_frequency\"  : 2000,\n",
    "            \"recursive\"        : True,\n",
    "        },\n",
    "        \"print_tables_during_training\" : {\n",
    "            \"do\"        : True,\n",
    "            \"num_print\" : 15,\n",
    "        },\n",
    "    },\n",
    "    \"evaluate\" : {\n",
    "        \"num_print\"            : 50,\n",
    "        \"save_model\"           : True,\n",
    "        \"plot_weights\"         : False,\n",
    "        \"plot_training_curves\" : True,\n",
    "    },\n",
    "}\n"
   ]
  },
  {
   "cell_type": "code",
   "execution_count": 3,
   "id": "d4e15977",
   "metadata": {},
   "outputs": [
    {
     "name": "stdout",
     "output_type": "stream",
     "text": [
      "==========================\n",
      "===   Config created   ===\n",
      "==========================\n"
     ]
    }
   ],
   "source": [
    "##===================================##\n",
    "##   Load and validate full config   ##\n",
    "##===================================##\n",
    "\n",
    "##  Create config object containing default values\n",
    "cfg = config.Config(backend.DEFAULT_CONFIG)\n",
    "\n",
    "##  Override with custom values\n",
    "cfg.load_dict(custom_config)\n",
    "\n",
    "##  Validate config\n",
    "backend.validate_config(cfg)\n",
    "\n",
    "##  Print success\n",
    "print(utils.fancy_message(f\"Config created\"))\n",
    "\n",
    "##  For convenience, split configs for different sections\n",
    "cfg_global     = cfg[\"global\"  ]\n",
    "cfg_data       = cfg[\"data\"    ]\n",
    "cfg_model      = cfg[\"model\"   ]\n",
    "cfg_training   = cfg[\"training\"]\n",
    "cfg_evaluate   = cfg[\"evaluate\"]\n"
   ]
  },
  {
   "cell_type": "markdown",
   "id": "8af05439",
   "metadata": {},
   "source": [
    "##  2. Set up environment\n",
    "\n",
    "- Create working directory\n",
    "- Create logger\n",
    "- Log package versions for reproducibility\n",
    "- Log config values for reproducibility\n",
    "- Set random seeds for reproducibility\n"
   ]
  },
  {
   "cell_type": "code",
   "execution_count": 4,
   "id": "2f7cc532",
   "metadata": {
    "scrolled": true
   },
   "outputs": [
    {
     "name": "stdout",
     "output_type": "stream",
     "text": [
      "=======================================================================================================================================================================================\n",
      "===   Working directory created at SSL_loopy_enc_dec_notebook_int1234_num1245_embed128_enc_2blocks_4loops_width512_dec_3blocks_1loops_width512_post3_width512_idem2_2023_07_02_v4   ===\n",
      "=======================================================================================================================================================================================\n",
      "   INFO initialise_logging: Begin logging on 2023-07-02 at 22:37:51\n",
      "   INFO initialise_program: Program description: unsupervised_learning_addition_model_generator (notebook)\n",
      "   INFO initialise_program: Working directory: SSL_loopy_enc_dec_notebook_int1234_num1245_embed128_enc_2blocks_4loops_width512_dec_3blocks_1loops_width512_post3_width512_idem2_2023_07_02_v4\n",
      "   INFO log_versions: ------------------------------------------------------+------------------------------------------------------\n",
      "   INFO log_versions:                                              PACKAGE  |  VERSION\n",
      "   INFO log_versions: ------------------------------------------------------+------------------------------------------------------\n",
      "   INFO log_versions:                                               Python  |  3.11.3 (main, May 15 2023, 18:01:31) [Clang 14.0.6 ]\n",
      "   INFO log_versions:                                              IPython  |  8.14.0\n",
      "   INFO log_versions:                                 IPython.core.release  |  8.14.0\n",
      "   INFO log_versions:                                                  PIL  |  9.5.0\n",
      "   INFO log_versions:                                            PIL.Image  |  9.5.0\n",
      "   INFO log_versions:                                       PIL._deprecate  |  9.5.0\n",
      "   INFO log_versions:                                         PIL._version  |  9.5.0\n",
      "   INFO log_versions:                                                 _csv  |  1.0\n",
      "   INFO log_versions:                                              _ctypes  |  1.1.0\n",
      "   INFO log_versions:                                              _curses  |  b'2.2'\n",
      "   INFO log_versions:                                              decimal  |  1.70\n",
      "   INFO log_versions:                               _pydev_bundle.fsnotify  |  0.1.5\n",
      "   INFO log_versions:                 _pydevd_frame_eval.vendored.bytecode  |  0.13.0.dev\n",
      "   INFO log_versions:                                              appnope  |  0.1.3\n",
      "   INFO log_versions:                                             argparse  |  1.1\n",
      "   INFO log_versions:                                           astunparse  |  1.6.3\n",
      "   INFO log_versions:                                             backcall  |  0.2.0\n",
      "   INFO log_versions:                                              certifi  |  2023.05.07\n",
      "   INFO log_versions:                                                 cffi  |  1.15.1\n",
      "   INFO log_versions:                                   charset_normalizer  |  3.1.0\n",
      "   INFO log_versions:                           charset_normalizer.version  |  3.1.0\n",
      "   INFO log_versions:                                                 comm  |  0.1.3\n",
      "   INFO log_versions:                                                  csv  |  1.0\n",
      "   INFO log_versions:                                               ctypes  |  1.1.0\n",
      "   INFO log_versions:                                      ctypes.macholib  |  1.0\n",
      "   INFO log_versions:                                               cycler  |  0.10.0\n",
      "   INFO log_versions:                                             dateutil  |  2.8.2\n",
      "   INFO log_versions:                                              debugpy  |  1.6.7\n",
      "   INFO log_versions:                                   debugpy.public_api  |  1.6.7\n",
      "   INFO log_versions:                                              decimal  |  1.70\n",
      "   INFO log_versions:                                            decorator  |  5.1.1\n",
      "   INFO log_versions:                                           defusedxml  |  0.7.1\n",
      "   INFO log_versions:                                            distutils  |  3.11.3\n",
      "   INFO log_versions:                                            executing  |  1.2.0\n",
      "   INFO log_versions:                                    executing.version  |  1.2.0\n",
      "   INFO log_versions:                                          flatbuffers  |  23.5.26\n",
      "   INFO log_versions:                                 flatbuffers._version  |  23.5.26\n",
      "   INFO log_versions:                                      google.protobuf  |  4.23.3\n",
      "   INFO log_versions:                                                 h5py  |  3.9.0\n",
      "   INFO log_versions:                                          http.server  |  0.6\n",
      "   INFO log_versions:                                                 idna  |  3.4\n",
      "   INFO log_versions:                                        idna.idnadata  |  15.0.0\n",
      "   INFO log_versions:                                    idna.package_data  |  3.4\n",
      "   INFO log_versions:                                            ipaddress  |  1.0\n",
      "   INFO log_versions:                                            ipykernel  |  6.23.3\n",
      "   INFO log_versions:                                   ipykernel._version  |  6.23.3\n",
      "   INFO log_versions:                                                 jedi  |  0.18.2\n",
      "   INFO log_versions:                                                 json  |  2.0.9\n",
      "   INFO log_versions:                                       jupyter_client  |  8.3.0\n",
      "   INFO log_versions:                              jupyter_client._version  |  8.3.0\n",
      "   INFO log_versions:                                         jupyter_core  |  5.3.1\n",
      "   INFO log_versions:                                 jupyter_core.version  |  5.3.1\n",
      "   INFO log_versions:                                                keras  |  2.12.0\n",
      "   INFO log_versions:                                  keras.api._v2.keras  |  2.12.0\n",
      "   INFO log_versions:                                      keras.api.keras  |  2.12.0\n",
      "   INFO log_versions:                                           kiwisolver  |  1.4.4\n",
      "   INFO log_versions:                                     kiwisolver._cext  |  1.4.4\n",
      "   INFO log_versions:                                              logging  |  0.5.1.2\n",
      "   INFO log_versions:                                           matplotlib  |  3.7.1\n",
      "   INFO log_versions:                                  matplotlib._version  |  3.7.1\n",
      "   INFO log_versions:                                                numpy  |  1.23.5\n",
      "   INFO log_versions:                                           numpy.core  |  1.23.5\n",
      "   INFO log_versions:                         numpy.core._multiarray_umath  |  3.1\n",
      "   INFO log_versions:                                            numpy.lib  |  1.23.5\n",
      "   INFO log_versions:                           numpy.linalg._umath_linalg  |  0.1.5\n",
      "   INFO log_versions:                                        numpy.version  |  1.23.5\n",
      "   INFO log_versions:                                           opt_einsum  |  v3.3.0\n",
      "   INFO log_versions:                                            packaging  |  23.1\n",
      "   INFO log_versions:                                                parso  |  0.8.3\n",
      "   INFO log_versions:                                              pexpect  |  4.8.0\n",
      "   INFO log_versions:                                          pickleshare  |  0.7.5\n",
      "   INFO log_versions:                 pkg_resources._vendor.more_itertools  |  9.0.0\n",
      "   INFO log_versions:                      pkg_resources._vendor.packaging  |  23.0\n",
      "   INFO log_versions:                   pkg_resources._vendor.platformdirs  |  2.6.2\n",
      "   INFO log_versions:           pkg_resources._vendor.platformdirs.version  |  2.6.2\n",
      "   INFO log_versions:                 pkg_resources._vendor.more_itertools  |  9.0.0\n",
      "   INFO log_versions:                      pkg_resources._vendor.packaging  |  23.0\n",
      "   INFO log_versions:                   pkg_resources._vendor.platformdirs  |  2.6.2\n",
      "   INFO log_versions:                                             platform  |  1.0.8\n",
      "   INFO log_versions:                                         platformdirs  |  3.8.0\n",
      "   INFO log_versions:                                 platformdirs.version  |  3.8.0\n"
     ]
    },
    {
     "name": "stdout",
     "output_type": "stream",
     "text": [
      "   INFO log_versions:                                       prompt_toolkit  |  3.0.38\n",
      "   INFO log_versions:                                               psutil  |  5.9.5\n",
      "   INFO log_versions:                                           ptyprocess  |  0.7.0\n",
      "   INFO log_versions:                                            pure_eval  |  0.2.2\n",
      "   INFO log_versions:                                    pure_eval.version  |  0.2.2\n",
      "   INFO log_versions:                                               pydevd  |  2.9.5\n",
      "   INFO log_versions:                                             pygments  |  2.15.1\n",
      "   INFO log_versions:                                            pyparsing  |  3.1.0\n",
      "   INFO log_versions:                                                   re  |  2.2.1\n",
      "   INFO log_versions:                                             requests  |  2.31.0\n",
      "   INFO log_versions:                                 requests.__version__  |  2.31.0\n",
      "   INFO log_versions:                                                 idna  |  3.4\n",
      "   INFO log_versions:                                        idna.idnadata  |  15.0.0\n",
      "   INFO log_versions:                                    idna.package_data  |  3.4\n",
      "   INFO log_versions:                                              urllib3  |  1.26.16\n",
      "   INFO log_versions:                                     urllib3._version  |  1.26.16\n",
      "   INFO log_versions:                                   urllib3.connection  |  1.26.16\n",
      "   INFO log_versions:                                 urllib3.packages.six  |  1.16.0\n",
      "   INFO log_versions:                      urllib3.util.ssl_match_hostname  |  3.5.0.1\n",
      "   INFO log_versions:                                       requests.utils  |  2.31.0\n",
      "   INFO log_versions:                                                scipy  |  1.11.0\n",
      "   INFO log_versions:                                 scipy._lib.decorator  |  4.0.5\n",
      "   INFO log_versions:                                  scipy.linalg._fblas  |  1.23.2\n",
      "   INFO log_versions:                                scipy.linalg._flapack  |  1.23.2\n",
      "   INFO log_versions:                                scipy.linalg._flinalg  |  1.23.2\n",
      "   INFO log_versions:            scipy.sparse.linalg._eigen.arpack._arpack  |  1.23.2\n",
      "   INFO log_versions:               scipy.sparse.linalg._isolve._iterative  |  1.23.2\n",
      "   INFO log_versions:                               scipy.special._specfun  |  1.23.2\n",
      "   INFO log_versions:                                           setuptools  |  67.8.0\n",
      "   INFO log_versions:                                            distutils  |  3.11.3\n",
      "   INFO log_versions:                    setuptools._vendor.more_itertools  |  8.8.0\n",
      "   INFO log_versions:                       setuptools._vendor.ordered_set  |  3.1\n",
      "   INFO log_versions:                         setuptools._vendor.packaging  |  23.0\n",
      "   INFO log_versions:                    setuptools._vendor.more_itertools  |  8.8.0\n",
      "   INFO log_versions:                       setuptools._vendor.ordered_set  |  3.1\n",
      "   INFO log_versions:                         setuptools._vendor.packaging  |  23.0\n",
      "   INFO log_versions:                                   setuptools.version  |  67.8.0\n",
      "   INFO log_versions:                                                  six  |  1.16.0\n",
      "   INFO log_versions:                                         socketserver  |  0.4\n",
      "   INFO log_versions:                                           stack_data  |  0.6.2\n",
      "   INFO log_versions:                                   stack_data.version  |  0.6.2\n",
      "   INFO log_versions:                                          tensorboard  |  2.12.3\n",
      "   INFO log_versions:                   tensorboard.compat.tensorflow_stub  |  stub\n",
      "   INFO log_versions: tensorboard.compat.tensorflow_stub.pywrap_tensorflow  |  0\n",
      "   INFO log_versions:                                           tensorflow  |  2.12.0\n",
      "   INFO log_versions:                         tensorflow._api.v2.compat.v1  |  2.12.0\n",
      "   INFO log_versions:               tensorflow._api.v2.compat.v1.compat.v1  |  2.12.0\n",
      "   INFO log_versions:               tensorflow._api.v2.compat.v1.compat.v2  |  2.12.0\n",
      "   INFO log_versions:                         tensorflow._api.v2.compat.v2  |  2.12.0\n",
      "   INFO log_versions:               tensorflow._api.v2.compat.v2.compat.v1  |  2.12.0\n",
      "   INFO log_versions:               tensorflow._api.v2.compat.v2.compat.v2  |  2.12.0\n",
      "   INFO log_versions:                                 tensorflow.compat.v1  |  2.12.0\n",
      "   INFO log_versions:                       tensorflow.compat.v1.compat.v1  |  2.12.0\n",
      "   INFO log_versions:                       tensorflow.compat.v1.compat.v2  |  2.12.0\n",
      "   INFO log_versions:                                 tensorflow.compat.v2  |  2.12.0\n",
      "   INFO log_versions:                       tensorflow.compat.v2.compat.v1  |  2.12.0\n",
      "   INFO log_versions:                       tensorflow.compat.v2.compat.v2  |  2.12.0\n",
      "   INFO log_versions:                                     tensorflow.keras  |  2.12.0\n",
      "   INFO log_versions:           tensorflow.python.client.pywrap_tf_session  |  2.12.0\n",
      "   INFO log_versions:                 tensorflow.python.framework.versions  |  2.12.0\n",
      "   INFO log_versions:                              tensorflow.python.keras  |  2.6.0\n",
      "   INFO log_versions:                                            traitlets  |  5.9.0\n",
      "   INFO log_versions:                                   traitlets._version  |  5.9.0\n",
      "   INFO log_versions:                                       urllib.request  |  3.11\n",
      "   INFO log_versions:                                              urllib3  |  1.26.16\n",
      "   INFO log_versions:                                     urllib3._version  |  1.26.16\n",
      "   INFO log_versions:                                   urllib3.connection  |  1.26.16\n",
      "   INFO log_versions:                                 urllib3.packages.six  |  1.16.0\n",
      "   INFO log_versions:                      urllib3.util.ssl_match_hostname  |  3.5.0.1\n",
      "   INFO log_versions:                                              wcwidth  |  0.2.6\n",
      "   INFO log_versions:                                                wrapt  |  1.14.1\n",
      "   INFO log_versions:                                        xmlrpc.client  |  3.11\n",
      "   INFO log_versions:                                                 zlib  |  1.0\n",
      "   INFO log_versions:                                                  zmq  |  25.1.0\n",
      "   INFO log_versions:                                            zmq.sugar  |  25.1.0\n",
      "   INFO log_versions:                                    zmq.sugar.version  |  25.1.0\n",
      "   INFO log_versions: ------------------------------------------------------+------------------------------------------------------\n",
      "   INFO initialise_program: Registered config value global > base_seed: 100\n",
      "   INFO initialise_program: Registered config value global > working_dir: SSL_loopy_enc_dec_notebook_int[data>train_data>int_lengths]_num[data>train_data>num_ints]_embed[model>ndim_embedding]_enc_[model>encoder>num_blocks]blocks_[model>encoder>num_loops]loops_width[model>encoder>ndim_ff_hidden]_dec_[model>decoder>num_blocks]blocks_[model>decoder>num_loops]loops_width[model>decoder>ndim_ff_hidden]_post[model>post_decoder>num_layers]_width[model>post_decoder>ndim]_idem[model>idempotent_size]_[date]\n",
      "   INFO initialise_program: Registered config value global > problem_tag: int1234_num1245\n",
      "   INFO initialise_program: Registered config value global > log_lvl_iostream: 20\n",
      "   INFO initialise_program: Registered config value global > log_lvl_fstream: 10\n",
      "   INFO initialise_program: Registered config value data > train_data > int_lengths: [1, 2, 3, 4]\n",
      "   INFO initialise_program: Registered config value data > train_data > num_ints: [1, 2, 4, 5]\n",
      "   INFO initialise_program: Registered config value data > train_data > batch_size: 32\n",
      "   INFO initialise_program: Registered config value data > train_data > num_batches: 2000\n",
      "   INFO initialise_program: Registered config value data > train_data > gen_base_seed: 101\n",
      "   INFO initialise_program: Registered config value data > train_data > gen_reproducible: False\n",
      "   INFO initialise_program: Registered config value data > val_data > int_lengths: [1, 2, 3, 4]\n",
      "   INFO initialise_program: Registered config value data > val_data > num_ints: [3]\n"
     ]
    },
    {
     "name": "stdout",
     "output_type": "stream",
     "text": [
      "   INFO initialise_program: Registered config value data > val_data > batch_size: 32\n",
      "   INFO initialise_program: Registered config value data > val_data > num_batches: 50\n",
      "   INFO initialise_program: Registered config value data > val_data > gen_base_seed: 102\n",
      "   INFO initialise_program: Registered config value data > val_data > gen_reproducible: True\n",
      "   INFO initialise_program: Registered config value data > test_data > int_lengths: [1, 2, 3, 4]\n",
      "   INFO initialise_program: Registered config value data > test_data > num_ints: [6, 7]\n",
      "   INFO initialise_program: Registered config value data > test_data > batch_size: 32\n",
      "   INFO initialise_program: Registered config value data > test_data > num_batches: 100\n",
      "   INFO initialise_program: Registered config value data > test_data > gen_base_seed: 103\n",
      "   INFO initialise_program: Registered config value data > test_data > gen_reproducible: True\n",
      "   INFO initialise_program: Registered config value data > characters: ['M', 'B', 'E', 'N', '0', '1', '2', '3', '4', '5', '6', '7', '8', '9', '+', '-']\n",
      "   INFO initialise_program: Registered config value data > mask_char: M\n",
      "   INFO initialise_program: Registered config value data > seq_start_char: B\n",
      "   INFO initialise_program: Registered config value data > seq_end_char: E\n",
      "   INFO initialise_program: Registered config value data > negative_char: N\n",
      "   INFO initialise_program: Registered config value data > dtype: int32\n",
      "   INFO initialise_program: Registered config value model > load_pretrained_model: None\n",
      "   INFO initialise_program: Registered config value model > name: mathsformer_LLM\n",
      "   INFO initialise_program: Registered config value model > dtype: float32\n",
      "   INFO initialise_program: Registered config value model > dropout: 0.1\n",
      "   INFO initialise_program: Registered config value model > jit_compile: False\n",
      "   INFO initialise_program: Registered config value model > use_old_loss: True\n",
      "   INFO initialise_program: Registered config value model > optimizer: <class 'keras.optimizers.adamw.AdamW'>\n",
      "   INFO initialise_program: Registered config value model > optimizer_args > learning_rate: 0.0001\n",
      "   INFO initialise_program: Registered config value model > optimizer_args > weight_decay: 0.02\n",
      "   INFO initialise_program: Registered config value model > idempotent_size: 2\n",
      "   INFO initialise_program: Registered config value model > positional_encoding > num_freqs: 64\n",
      "   INFO initialise_program: Registered config value model > positional_encoding > min_period: 4\n",
      "   INFO initialise_program: Registered config value model > positional_encoding > max_period: 1000\n",
      "   INFO initialise_program: Registered config value model > positional_encoding > learnable: True\n",
      "   INFO initialise_program: Registered config value model > ndim_embedding: 128\n",
      "   INFO initialise_program: Registered config value model > comb_type: mixture\n",
      "   INFO initialise_program: Registered config value model > pre_encoder > num_blocks: -1\n",
      "   INFO initialise_program: Registered config value model > pre_encoder > num_loops: 1\n",
      "   INFO initialise_program: Registered config value model > pre_encoder > num_heads: 8\n",
      "   INFO initialise_program: Registered config value model > pre_encoder > ndim: 128\n",
      "   INFO initialise_program: Registered config value model > pre_encoder > ndim_att_hidden: 128\n",
      "   INFO initialise_program: Registered config value model > pre_encoder > ndim_ff_hidden: 512\n",
      "   INFO initialise_program: Registered config value model > pre_encoder > skip_connect: True\n",
      "   INFO initialise_program: Registered config value model > pre_encoder > mixture_skip_connect: True\n",
      "   INFO initialise_program: Registered config value model > encoder > num_blocks: 2\n",
      "   INFO initialise_program: Registered config value model > encoder > num_loops: 4\n",
      "   INFO initialise_program: Registered config value model > encoder > num_heads: 8\n",
      "   INFO initialise_program: Registered config value model > encoder > ndim: 128\n",
      "   INFO initialise_program: Registered config value model > encoder > ndim_att_hidden: 128\n",
      "   INFO initialise_program: Registered config value model > encoder > ndim_ff_hidden: 512\n",
      "   INFO initialise_program: Registered config value model > encoder > skip_connect: True\n",
      "   INFO initialise_program: Registered config value model > encoder > mixture_skip_connect: True\n",
      "   INFO initialise_program: Registered config value model > decoder > num_blocks: 3\n",
      "   INFO initialise_program: Registered config value model > decoder > num_loops: 1\n",
      "   INFO initialise_program: Registered config value model > decoder > num_heads: 8\n",
      "   INFO initialise_program: Registered config value model > decoder > ndim: 128\n",
      "   INFO initialise_program: Registered config value model > decoder > ndim_att_hidden: 128\n",
      "   INFO initialise_program: Registered config value model > decoder > ndim_ff_hidden: 512\n",
      "   INFO initialise_program: Registered config value model > decoder > skip_connect: True\n",
      "   INFO initialise_program: Registered config value model > decoder > mixture_skip_connect: True\n",
      "   INFO initialise_program: Registered config value model > post_decoder > num_layers: 3\n",
      "   INFO initialise_program: Registered config value model > post_decoder > ndim: 512\n",
      "   INFO initialise_program: Registered config value model > load_model > do: False\n",
      "   INFO initialise_program: Registered config value model > load_model > fname: None\n",
      "   INFO initialise_program: Registered config value model > update_model > do: False\n",
      "   INFO initialise_program: Registered config value model > create_model > name: mathsformer_LLM\n",
      "   INFO initialise_program: Registered config value model > create_model > dtype: float32\n",
      "   INFO initialise_program: Registered config value model > create_model > dropout: 0.1\n",
      "   INFO initialise_program: Registered config value model > create_model > jit_compile: False\n",
      "   INFO initialise_program: Registered config value model > create_model > use_old_loss: True\n",
      "   INFO initialise_program: Registered config value model > create_model > optimizer: <class 'keras.optimizers.adamw.AdamW'>\n",
      "   INFO initialise_program: Registered config value model > create_model > optimizer_args > learning_rate: 0.0001\n",
      "   INFO initialise_program: Registered config value model > create_model > optimizer_args > weight_decay: 0.01\n",
      "   INFO initialise_program: Registered config value model > create_model > idempotent_size: 2\n",
      "   INFO initialise_program: Registered config value model > create_model > positional_encoding > num_freqs: 64\n",
      "   INFO initialise_program: Registered config value model > create_model > positional_encoding > min_period: 4\n",
      "   INFO initialise_program: Registered config value model > create_model > positional_encoding > max_period: 1600\n",
      "   INFO initialise_program: Registered config value model > create_model > positional_encoding > learnable: False\n",
      "   INFO initialise_program: Registered config value model > create_model > positional_encoding > do_decoder: True\n",
      "   INFO initialise_program: Registered config value model > create_model > ndim_embedding: 128\n",
      "   INFO initialise_program: Registered config value model > create_model > comb_type: mixture\n",
      "   INFO initialise_program: Registered config value model > create_model > pre_encoder > num_blocks: 2\n",
      "   INFO initialise_program: Registered config value model > create_model > pre_encoder > num_loops: 1\n",
      "   INFO initialise_program: Registered config value model > create_model > pre_encoder > num_heads: 8\n",
      "   INFO initialise_program: Registered config value model > create_model > pre_encoder > ndim: 128\n",
      "   INFO initialise_program: Registered config value model > create_model > pre_encoder > ndim_att_hidden: 128\n",
      "   INFO initialise_program: Registered config value model > create_model > pre_encoder > ndim_ff_hidden: 512\n",
      "   INFO initialise_program: Registered config value model > create_model > pre_encoder > skip_connect: True\n",
      "   INFO initialise_program: Registered config value model > create_model > pre_encoder > mixture_skip_connect: True\n",
      "   INFO initialise_program: Registered config value model > create_model > encoder > num_blocks: 2\n",
      "   INFO initialise_program: Registered config value model > create_model > encoder > num_loops: 4\n",
      "   INFO initialise_program: Registered config value model > create_model > encoder > num_heads: 8\n",
      "   INFO initialise_program: Registered config value model > create_model > encoder > ndim: 128\n"
     ]
    },
    {
     "name": "stdout",
     "output_type": "stream",
     "text": [
      "   INFO initialise_program: Registered config value model > create_model > encoder > ndim_att_hidden: 128\n",
      "   INFO initialise_program: Registered config value model > create_model > encoder > ndim_ff_hidden: 512\n",
      "   INFO initialise_program: Registered config value model > create_model > encoder > skip_connect: True\n",
      "   INFO initialise_program: Registered config value model > create_model > encoder > mixture_skip_connect: False\n",
      "   INFO initialise_program: Registered config value model > create_model > decoder > num_blocks: 2\n",
      "   INFO initialise_program: Registered config value model > create_model > decoder > num_loops: 1\n",
      "   INFO initialise_program: Registered config value model > create_model > decoder > num_heads: 8\n",
      "   INFO initialise_program: Registered config value model > create_model > decoder > ndim: 128\n",
      "   INFO initialise_program: Registered config value model > create_model > decoder > ndim_att_hidden: 128\n",
      "   INFO initialise_program: Registered config value model > create_model > decoder > ndim_ff_hidden: 512\n",
      "   INFO initialise_program: Registered config value model > create_model > decoder > skip_connect: True\n",
      "   INFO initialise_program: Registered config value model > create_model > decoder > mixture_skip_connect: False\n",
      "   INFO initialise_program: Registered config value model > create_model > post_decoder > num_layers: 3\n",
      "   INFO initialise_program: Registered config value model > create_model > post_decoder > ndim: 512\n",
      "   INFO initialise_program: Registered config value training > train: True\n",
      "   INFO initialise_program: Registered config value training > max_epochs: 100000\n",
      "   INFO initialise_program: Registered config value training > log_after_epoch > do: True\n",
      "   INFO initialise_program: Registered config value training > log_after_epoch > log_lvl: 10\n",
      "   INFO initialise_program: Registered config value training > early_stopping > do: False\n",
      "   INFO initialise_program: Registered config value training > early_stopping > patience: 6\n",
      "   INFO initialise_program: Registered config value training > early_stopping > monitor: loss\n",
      "   INFO initialise_program: Registered config value training > early_stopping > mode: min\n",
      "   INFO initialise_program: Registered config value training > early_stopping > restore_best_weights: True\n",
      "   INFO initialise_program: Registered config value training > model_checkpoint > do: True\n",
      "   INFO initialise_program: Registered config value training > model_checkpoint > filename: model_checkpoint_epoch{epoch}_val_loss_{val_loss:.5}.keras\n",
      "   INFO initialise_program: Registered config value training > layer_weights_record > do: False\n",
      "   INFO initialise_program: Registered config value training > layer_weights_record > batch_frequency: 2000\n",
      "   INFO initialise_program: Registered config value training > layer_weights_record > recursive: True\n",
      "   INFO initialise_program: Registered config value training > adaptive_learning_rate > do: True\n",
      "   INFO initialise_program: Registered config value training > adaptive_learning_rate > decay_factor: 0.25\n",
      "   INFO initialise_program: Registered config value training > adaptive_learning_rate > monitor: loss\n",
      "   INFO initialise_program: Registered config value training > adaptive_learning_rate > mode: min\n",
      "   INFO initialise_program: Registered config value training > adaptive_learning_rate > patience: 1\n",
      "   INFO initialise_program: Registered config value training > adaptive_learning_rate > log_lvl: 10\n",
      "   INFO initialise_program: Registered config value training > print_tables_during_training > do: True\n",
      "   INFO initialise_program: Registered config value training > print_tables_during_training > num_print: 15\n",
      "   INFO initialise_program: Registered config value training > stop_by_metric > do: True\n",
      "   INFO initialise_program: Registered config value training > stop_by_metric > metric: mathsformer_LLM_output_masked_categorical_accuracy\n",
      "   INFO initialise_program: Registered config value training > stop_by_metric > stop_value: 0.999\n",
      "   INFO initialise_program: Registered config value training > stop_by_metric > mode: max\n",
      "   INFO initialise_program: Registered config value evaluate > num_print: 50\n",
      "   INFO initialise_program: Registered config value evaluate > save_model: True\n",
      "   INFO initialise_program: Registered config value evaluate > plot_weights: False\n",
      "   INFO initialise_program: Registered config value evaluate > plot_training_curves: True\n",
      "   INFO initialise_program: Python random seed set: 100\n",
      "   INFO initialise_program: Numpy random seed set: 101\n",
      "   INFO initialise_program: TensorFlow random seed set: 102\n"
     ]
    }
   ],
   "source": [
    "##==============================##\n",
    "##   Create working directory   ##\n",
    "##==============================##\n",
    "\n",
    "##  Report success\n",
    "working_dir, logger, base_seed, np_seed, tf_seed = utils.initialise_program(\n",
    "    \"unsupervised_learning_addition_model_generator (notebook)\", \n",
    "    working_dir       = cfg_global[\"working_dir\"], \n",
    "    cfg               = cfg,\n",
    "    base_seed         = cfg_global[\"base_seed\"],\n",
    "    log_lvl_iostream  = cfg_global[\"log_lvl_iostream\"],\n",
    "    log_lvl_fstream   = cfg_global[\"log_lvl_fstream\" ],\n",
    ")\n"
   ]
  },
  {
   "cell_type": "markdown",
   "id": "ee21a5f2",
   "metadata": {},
   "source": [
    "###  Report tensorflow devices\n"
   ]
  },
  {
   "cell_type": "code",
   "execution_count": 5,
   "id": "b8443de1",
   "metadata": {},
   "outputs": [
    {
     "name": "stdout",
     "output_type": "stream",
     "text": [
      "   INFO <module>: Tensorflow with the following physical devices: [PhysicalDevice(name='/physical_device:CPU:0', device_type='CPU')]\n"
     ]
    }
   ],
   "source": [
    "##  Log tensorflow devices found\n",
    "logger.info(f\"Tensorflow with the following physical devices: {tf.config.list_physical_devices()}\")"
   ]
  },
  {
   "cell_type": "markdown",
   "id": "2960860d",
   "metadata": {},
   "source": [
    "##  3. Create training data\n",
    "\n",
    "###  Create tokeniser\n",
    "\n",
    "Tokeniser object handles the transformation from strings to tensors and back again"
   ]
  },
  {
   "cell_type": "code",
   "execution_count": 6,
   "id": "db11d6cd",
   "metadata": {},
   "outputs": [
    {
     "name": "stdout",
     "output_type": "stream",
     "text": [
      "   INFO summary: TokenTransform of dtype int32 with 16 characters: ['M', 'B', 'E', 'N', '0', '1', '2', '3', '4', '5', '6', '7', '8', '9', '+', '-']\n",
      "   INFO summary: Special characters are seq_start_char (B), seq_end_char (E), mask_char (M)\n",
      "   INFO summary: Tokeniser dictionary is {'M': 0, 'B': 1, 'E': 2, 'N': 3, '0': 4, '1': 5, '2': 6, '3': 7, '4': 8, '5': 9, '6': 10, '7': 11, '8': 12, '9': 13, '+': 14, '-': 15}\n",
      "   INFO summary: Detokeniser dictionary is {0: 'M', 1: 'B', 2: 'E', 3: 'N', 4: '0', 5: '1', 6: '2', 7: '3', 8: '4', 9: '5', 10: '6', 11: '7', 12: '8', 13: '9', 14: '+', 15: '-'}\n"
     ]
    }
   ],
   "source": [
    "##======================##\n",
    "##   Create tokeniser   ##\n",
    "##======================##\n",
    "\n",
    "token_transform = data.TokenTransform.from_dictionary(cfg_data)\n",
    "token_transform.summary(print_fn=logger.info)\n"
   ]
  },
  {
   "cell_type": "markdown",
   "id": "5367bdd7",
   "metadata": {},
   "source": [
    "###  Create data generators for train/val/test sets\n",
    "\n",
    "Data generators create tensor inputs/outputs for the model on-the-fly\n"
   ]
  },
  {
   "cell_type": "code",
   "execution_count": 7,
   "id": "d87b308d",
   "metadata": {},
   "outputs": [
    {
     "name": "stdout",
     "output_type": "stream",
     "text": [
      "   INFO get_data_generators: Training data generator created with the following config: Generator of [1, 2, 4, 5] integers of length [1, 2, 3, 4] in 2000 batches of size 32 (base_seed=101, reproducible=False)\n",
      "   INFO get_data_generators: Output shapes for a test batch are ((32, 27), (32, 6)), (32, 6)\n",
      "   INFO get_data_generators: Validation data generator created with the following config: Generator of [3] integers of length [1, 2, 3, 4] in 50 batches of size 32 (base_seed=102, reproducible=True)\n",
      "   INFO get_data_generators: Output shapes for a test batch are ((32, 18), (32, 6)), (32, 6)\n",
      "   INFO get_data_generators: Test data generator created with the following config: Generator of [6, 7] integers of length [1, 2, 3, 4] in 100 batches of size 32 (base_seed=103, reproducible=True)\n",
      "   INFO get_data_generators: Output shapes for a test batch are ((32, 36), (32, 7)), (32, 7)\n"
     ]
    }
   ],
   "source": [
    "##============================##\n",
    "##   Create data generators   ##\n",
    "##============================##\n",
    "\n",
    "negative_char = cfg_data.get(\"negative_char\")\n",
    "train_gen, train_gen_reproducible, val_gen, test_gen = backend.get_data_generators(cfg_data, token_transform)\n"
   ]
  },
  {
   "cell_type": "markdown",
   "id": "cf10c37c",
   "metadata": {},
   "source": [
    "###  Visualise training data\n",
    "\n",
    "Plot the distribution of tokens in the training data, which helps us interpret the per-token accuracy in early training"
   ]
  },
  {
   "cell_type": "code",
   "execution_count": 8,
   "id": "aeb056b7",
   "metadata": {},
   "outputs": [
    {
     "name": "stdout",
     "output_type": "stream",
     "text": [
      "   INFO plot_token_distribution: Saving distribution of token frequencies to file SSL_loopy_enc_dec_notebook_int1234_num1245_embed128_enc_2blocks_4loops_width512_dec_3blocks_1loops_width512_post3_width512_idem2_2023_07_02_v4/token_distribution.pdf\n"
     ]
    },
    {
     "data": {
      "image/png": "[encoded data removed]",
      "text/plain": [
       "<Figure size 600x400 with 1 Axes>"
      ]
     },
     "metadata": {},
     "output_type": "display_data"
    }
   ],
   "source": [
    "##=========================================================##\n",
    "##   Quickly visualise distribution of token frequencies   ##\n",
    "##=========================================================##\n",
    "\n",
    "backend.plot_token_distribution(train_gen, savefig=f\"{working_dir}/token_distribution.pdf\")\n"
   ]
  },
  {
   "cell_type": "markdown",
   "id": "f39db1bb",
   "metadata": {},
   "source": [
    "##  4.  Create model\n",
    "\n",
    "Create the keras model object that handles sequence-sequence transformations from alread-tokenised data"
   ]
  },
  {
   "cell_type": "code",
   "execution_count": 9,
   "id": "18ffc65e",
   "metadata": {},
   "outputs": [
    {
     "name": "stdout",
     "output_type": "stream",
     "text": [
      "   INFO <module>: Creating new text-to-text model\n"
     ]
    },
    {
     "name": "stderr",
     "output_type": "stream",
     "text": [
      "WARNING:absl:At this time, the v2.11+ optimizer `tf.keras.optimizers.AdamW` runs slowly on M1/M2 Macs, please use the legacy Keras optimizer instead, located at `tf.keras.optimizers.legacy.AdamW`.\n"
     ]
    }
   ],
   "source": [
    "##==========================##\n",
    "##   Create or load model   ##\n",
    "##==========================##\n",
    "  \n",
    "##  Load model if configured, otherwise create one\n",
    "##\n",
    "if cfg_model[\"load_model\"].get(\"do\", False) :\n",
    "            \n",
    "    ##  Load model from file         \n",
    "    fname = cfg_model[\"load_model\"][\"fname\"]\n",
    "    logger.info   (f\"Loading model from: {fname}\")\n",
    "    logger.warning(\"Loading a pretrained model will disregard model config!\")          \n",
    "    model = backend.load_text_to_text_model(fname)\n",
    "    \n",
    "    ##  Assign new learning rate to model\n",
    "    learning_rate = cfg_model[\"create_model\"][\"optimizer_args\"][\"learning_rate\"]\n",
    "    logger.info(f\"Setting learning rate to: {learning_rate}\")\n",
    "    logger.warning(\"Not updating other optimizer settings - can't confirm they are compatible!\")     \n",
    "    model.optimizer.learning_rate.assign(learning_rate)\n",
    "    \n",
    "else :\n",
    "    \n",
    "    ##  Create new model\n",
    "    logger.info(f\"Creating new text-to-text model\")\n",
    "    model = backend.create_text_to_text_model_from_config(cfg_model[\"create_model\"], token_transform)\n",
    "       "
   ]
  },
  {
   "cell_type": "code",
   "execution_count": 10,
   "id": "7b626159",
   "metadata": {},
   "outputs": [],
   "source": [
    "##==================##\n",
    "##   Modify model   ##\n",
    "##==================##\n",
    "\n",
    "##  Modify model if configured\n",
    "##\n",
    "if cfg_model[\"update_model\"].get(\"do\", False) :\n",
    "    kwargs = cfg_model[\"update_model\"][\"kwargs\"]\n",
    "    logger.info(f\"Updating model with kwargs: {kwargs}\")\n",
    "    model  = backend.create_derived_model(model, cfg_model[\"create_model\"], token_transform, **kwargs)\n",
    "    "
   ]
  },
  {
   "cell_type": "code",
   "execution_count": 11,
   "id": "2bb6a53e",
   "metadata": {
    "scrolled": true
   },
   "outputs": [
    {
     "name": "stdout",
     "output_type": "stream",
     "text": [
      "   INFO <module>: Model created with summary:\n"
     ]
    },
    {
     "name": "stderr",
     "output_type": "stream",
     "text": [
      "INFO:mathsformer:Model created with summary:\n"
     ]
    },
    {
     "name": "stdout",
     "output_type": "stream",
     "text": [
      "   INFO <module>: Model: \"mathsformer_LLM\"\n"
     ]
    },
    {
     "name": "stderr",
     "output_type": "stream",
     "text": [
      "INFO:mathsformer:Model: \"mathsformer_LLM\"\n"
     ]
    },
    {
     "name": "stdout",
     "output_type": "stream",
     "text": [
      "   INFO <module>: __________________________________________________________________________________________________\n"
     ]
    },
    {
     "name": "stderr",
     "output_type": "stream",
     "text": [
      "INFO:mathsformer:__________________________________________________________________________________________________\n"
     ]
    },
    {
     "name": "stdout",
     "output_type": "stream",
     "text": [
      "   INFO <module>:  Layer (type)                   Output Shape         Param #     Connected to                     \n"
     ]
    },
    {
     "name": "stderr",
     "output_type": "stream",
     "text": [
      "INFO:mathsformer: Layer (type)                   Output Shape         Param #     Connected to                     \n"
     ]
    },
    {
     "name": "stdout",
     "output_type": "stream",
     "text": [
      "   INFO <module>: ==================================================================================================\n"
     ]
    },
    {
     "name": "stderr",
     "output_type": "stream",
     "text": [
      "INFO:mathsformer:==================================================================================================\n"
     ]
    },
    {
     "name": "stdout",
     "output_type": "stream",
     "text": [
      "   INFO <module>:  mathsformer_LLM_encoder_input_  [(None, None)]      0           []                               \n"
     ]
    },
    {
     "name": "stderr",
     "output_type": "stream",
     "text": [
      "INFO:mathsformer: mathsformer_LLM_encoder_input_  [(None, None)]      0           []                               \n"
     ]
    },
    {
     "name": "stdout",
     "output_type": "stream",
     "text": [
      "   INFO <module>:  layer (InputLayer)                                                                               \n"
     ]
    },
    {
     "name": "stderr",
     "output_type": "stream",
     "text": [
      "INFO:mathsformer: layer (InputLayer)                                                                               \n"
     ]
    },
    {
     "name": "stdout",
     "output_type": "stream",
     "text": [
      "   INFO <module>:                                                                                                   \n"
     ]
    },
    {
     "name": "stderr",
     "output_type": "stream",
     "text": [
      "INFO:mathsformer:                                                                                                  \n"
     ]
    },
    {
     "name": "stdout",
     "output_type": "stream",
     "text": [
      "   INFO <module>:  mathsformer_LLM_encoder_enumer  (None, None)        0           ['mathsformer_LLM_encoder_input_l\n"
     ]
    },
    {
     "name": "stderr",
     "output_type": "stream",
     "text": [
      "INFO:mathsformer: mathsformer_LLM_encoder_enumer  (None, None)        0           ['mathsformer_LLM_encoder_input_l\n"
     ]
    },
    {
     "name": "stdout",
     "output_type": "stream",
     "text": [
      "   INFO <module>:  ate (Enumerate)                                                 ayer[0][0]']                     \n"
     ]
    },
    {
     "name": "stderr",
     "output_type": "stream",
     "text": [
      "INFO:mathsformer: ate (Enumerate)                                                 ayer[0][0]']                     \n"
     ]
    },
    {
     "name": "stdout",
     "output_type": "stream",
     "text": [
      "   INFO <module>:                                                                                                   \n"
     ]
    },
    {
     "name": "stderr",
     "output_type": "stream",
     "text": [
      "INFO:mathsformer:                                                                                                  \n"
     ]
    },
    {
     "name": "stdout",
     "output_type": "stream",
     "text": [
      "   INFO <module>:  mathsformer_LLM_encoder_embedd  (None, None, 128)   2048        ['mathsformer_LLM_encoder_input_l\n"
     ]
    },
    {
     "name": "stderr",
     "output_type": "stream",
     "text": [
      "INFO:mathsformer: mathsformer_LLM_encoder_embedd  (None, None, 128)   2048        ['mathsformer_LLM_encoder_input_l\n"
     ]
    },
    {
     "name": "stdout",
     "output_type": "stream",
     "text": [
      "   INFO <module>:  ing (Embedding)                                                 ayer[0][0]']                     \n"
     ]
    },
    {
     "name": "stderr",
     "output_type": "stream",
     "text": [
      "INFO:mathsformer: ing (Embedding)                                                 ayer[0][0]']                     \n"
     ]
    },
    {
     "name": "stdout",
     "output_type": "stream",
     "text": [
      "   INFO <module>:                                                                                                   \n"
     ]
    },
    {
     "name": "stderr",
     "output_type": "stream",
     "text": [
      "INFO:mathsformer:                                                                                                  \n"
     ]
    },
    {
     "name": "stdout",
     "output_type": "stream",
     "text": [
      "   INFO <module>:  mathsformer_LLM_encoder_positi  (None, None, 128)   64          ['mathsformer_LLM_encoder_enumera\n"
     ]
    },
    {
     "name": "stderr",
     "output_type": "stream",
     "text": [
      "INFO:mathsformer: mathsformer_LLM_encoder_positi  (None, None, 128)   64          ['mathsformer_LLM_encoder_enumera\n"
     ]
    },
    {
     "name": "stdout",
     "output_type": "stream",
     "text": [
      "   INFO <module>:  on_encoding (PositionalEncodin                                  te[0][0]']                       \n"
     ]
    },
    {
     "name": "stderr",
     "output_type": "stream",
     "text": [
      "INFO:mathsformer: on_encoding (PositionalEncodin                                  te[0][0]']                       \n"
     ]
    },
    {
     "name": "stdout",
     "output_type": "stream",
     "text": [
      "   INFO <module>:  g)                                                                                               \n"
     ]
    },
    {
     "name": "stderr",
     "output_type": "stream",
     "text": [
      "INFO:mathsformer: g)                                                                                               \n"
     ]
    },
    {
     "name": "stdout",
     "output_type": "stream",
     "text": [
      "   INFO <module>:                                                                                                   \n"
     ]
    },
    {
     "name": "stderr",
     "output_type": "stream",
     "text": [
      "INFO:mathsformer:                                                                                                  \n"
     ]
    },
    {
     "name": "stdout",
     "output_type": "stream",
     "text": [
      "   INFO <module>:  mathsformer_LLM_encoder_emb_an  (None, None, 128)   0           ['mathsformer_LLM_encoder_embeddi\n"
     ]
    },
    {
     "name": "stderr",
     "output_type": "stream",
     "text": [
      "INFO:mathsformer: mathsformer_LLM_encoder_emb_an  (None, None, 128)   0           ['mathsformer_LLM_encoder_embeddi\n"
     ]
    },
    {
     "name": "stdout",
     "output_type": "stream",
     "text": [
      "   INFO <module>:  d_pos (Average)                                                 ng[0][0]',                       \n"
     ]
    },
    {
     "name": "stderr",
     "output_type": "stream",
     "text": [
      "INFO:mathsformer: d_pos (Average)                                                 ng[0][0]',                       \n"
     ]
    },
    {
     "name": "stdout",
     "output_type": "stream",
     "text": [
      "   INFO <module>:                                                                   'mathsformer_LLM_encoder_positio\n"
     ]
    },
    {
     "name": "stderr",
     "output_type": "stream",
     "text": [
      "INFO:mathsformer:                                                                  'mathsformer_LLM_encoder_positio\n"
     ]
    },
    {
     "name": "stdout",
     "output_type": "stream",
     "text": [
      "   INFO <module>:                                                                  n_encoding[0][0]']               \n"
     ]
    },
    {
     "name": "stderr",
     "output_type": "stream",
     "text": [
      "INFO:mathsformer:                                                                 n_encoding[0][0]']               \n"
     ]
    },
    {
     "name": "stdout",
     "output_type": "stream",
     "text": [
      "   INFO <module>:                                                                                                   \n"
     ]
    },
    {
     "name": "stderr",
     "output_type": "stream",
     "text": [
      "INFO:mathsformer:                                                                                                  \n"
     ]
    },
    {
     "name": "stdout",
     "output_type": "stream",
     "text": [
      "   INFO <module>:  mathsformer_LLM_preencoder_blo  (None, None, 128)   659716      ['mathsformer_LLM_encoder_emb_and\n"
     ]
    },
    {
     "name": "stderr",
     "output_type": "stream",
     "text": [
      "INFO:mathsformer: mathsformer_LLM_preencoder_blo  (None, None, 128)   659716      ['mathsformer_LLM_encoder_emb_and\n"
     ]
    },
    {
     "name": "stdout",
     "output_type": "stream",
     "text": [
      "   INFO <module>:  ck_1 (EncoderBlock)                                             _pos[0][0]']                     \n"
     ]
    },
    {
     "name": "stderr",
     "output_type": "stream",
     "text": [
      "INFO:mathsformer: ck_1 (EncoderBlock)                                             _pos[0][0]']                     \n"
     ]
    },
    {
     "name": "stdout",
     "output_type": "stream",
     "text": [
      "   INFO <module>:                                                                                                   \n"
     ]
    },
    {
     "name": "stderr",
     "output_type": "stream",
     "text": [
      "INFO:mathsformer:                                                                                                  \n"
     ]
    },
    {
     "name": "stdout",
     "output_type": "stream",
     "text": [
      "   INFO <module>:  mathsformer_LLM_preencoder_blo  (None, None, 128)   659716      ['mathsformer_LLM_preencoder_bloc\n"
     ]
    },
    {
     "name": "stderr",
     "output_type": "stream",
     "text": [
      "INFO:mathsformer: mathsformer_LLM_preencoder_blo  (None, None, 128)   659716      ['mathsformer_LLM_preencoder_bloc\n"
     ]
    },
    {
     "name": "stdout",
     "output_type": "stream",
     "text": [
      "   INFO <module>:  ck_2 (EncoderBlock)                                             k_1[0][0]']                      \n"
     ]
    },
    {
     "name": "stderr",
     "output_type": "stream",
     "text": [
      "INFO:mathsformer: ck_2 (EncoderBlock)                                             k_1[0][0]']                      \n"
     ]
    },
    {
     "name": "stdout",
     "output_type": "stream",
     "text": [
      "   INFO <module>:                                                                                                   \n"
     ]
    },
    {
     "name": "stderr",
     "output_type": "stream",
     "text": [
      "INFO:mathsformer:                                                                                                  \n"
     ]
    },
    {
     "name": "stdout",
     "output_type": "stream",
     "text": [
      "   INFO <module>:  mathsformer_LLM_encoder_block_  (None, None, 128)   659712      ['mathsformer_LLM_preencoder_bloc\n"
     ]
    },
    {
     "name": "stderr",
     "output_type": "stream",
     "text": [
      "INFO:mathsformer: mathsformer_LLM_encoder_block_  (None, None, 128)   659712      ['mathsformer_LLM_preencoder_bloc\n"
     ]
    },
    {
     "name": "stdout",
     "output_type": "stream",
     "text": [
      "   INFO <module>:  1 (EncoderBlock)                                                k_2[0][0]',                      \n"
     ]
    },
    {
     "name": "stderr",
     "output_type": "stream",
     "text": [
      "INFO:mathsformer: 1 (EncoderBlock)                                                k_2[0][0]',                      \n"
     ]
    },
    {
     "name": "stdout",
     "output_type": "stream",
     "text": [
      "   INFO <module>:                                                                   'mathsformer_LLM_encoder_block_2\n"
     ]
    },
    {
     "name": "stderr",
     "output_type": "stream",
     "text": [
      "INFO:mathsformer:                                                                  'mathsformer_LLM_encoder_block_2\n"
     ]
    },
    {
     "name": "stdout",
     "output_type": "stream",
     "text": [
      "   INFO <module>:                                                                  [0][0]',                         \n"
     ]
    },
    {
     "name": "stderr",
     "output_type": "stream",
     "text": [
      "INFO:mathsformer:                                                                 [0][0]',                         \n"
     ]
    },
    {
     "name": "stdout",
     "output_type": "stream",
     "text": [
      "   INFO <module>:                                                                   'mathsformer_LLM_encoder_block_2\n"
     ]
    },
    {
     "name": "stderr",
     "output_type": "stream",
     "text": [
      "INFO:mathsformer:                                                                  'mathsformer_LLM_encoder_block_2\n"
     ]
    },
    {
     "name": "stdout",
     "output_type": "stream",
     "text": [
      "   INFO <module>:                                                                  [1][0]',                         \n"
     ]
    },
    {
     "name": "stderr",
     "output_type": "stream",
     "text": [
      "INFO:mathsformer:                                                                 [1][0]',                         \n"
     ]
    },
    {
     "name": "stdout",
     "output_type": "stream",
     "text": [
      "   INFO <module>:                                                                   'mathsformer_LLM_encoder_block_2\n"
     ]
    },
    {
     "name": "stderr",
     "output_type": "stream",
     "text": [
      "INFO:mathsformer:                                                                  'mathsformer_LLM_encoder_block_2\n"
     ]
    },
    {
     "name": "stdout",
     "output_type": "stream",
     "text": [
      "   INFO <module>:                                                                  [2][0]',                         \n"
     ]
    },
    {
     "name": "stderr",
     "output_type": "stream",
     "text": [
      "INFO:mathsformer:                                                                 [2][0]',                         \n"
     ]
    },
    {
     "name": "stdout",
     "output_type": "stream",
     "text": [
      "   INFO <module>:                                                                   'mathsformer_LLM_encoder_block_2\n"
     ]
    },
    {
     "name": "stderr",
     "output_type": "stream",
     "text": [
      "INFO:mathsformer:                                                                  'mathsformer_LLM_encoder_block_2\n"
     ]
    },
    {
     "name": "stdout",
     "output_type": "stream",
     "text": [
      "   INFO <module>:                                                                  [3][0]',                         \n"
     ]
    },
    {
     "name": "stderr",
     "output_type": "stream",
     "text": [
      "INFO:mathsformer:                                                                 [3][0]',                         \n"
     ]
    },
    {
     "name": "stdout",
     "output_type": "stream",
     "text": [
      "   INFO <module>:                                                                   'mathsformer_LLM_encoder_block_2\n"
     ]
    },
    {
     "name": "stderr",
     "output_type": "stream",
     "text": [
      "INFO:mathsformer:                                                                  'mathsformer_LLM_encoder_block_2\n"
     ]
    },
    {
     "name": "stdout",
     "output_type": "stream",
     "text": [
      "   INFO <module>:                                                                  [4][0]']                         \n"
     ]
    },
    {
     "name": "stderr",
     "output_type": "stream",
     "text": [
      "INFO:mathsformer:                                                                 [4][0]']                         \n"
     ]
    },
    {
     "name": "stdout",
     "output_type": "stream",
     "text": [
      "   INFO <module>:                                                                                                   \n"
     ]
    },
    {
     "name": "stderr",
     "output_type": "stream",
     "text": [
      "INFO:mathsformer:                                                                                                  \n"
     ]
    },
    {
     "name": "stdout",
     "output_type": "stream",
     "text": [
      "   INFO <module>:  mathsformer_LLM_encoder_block_  (None, None, 128)   659712      ['mathsformer_LLM_encoder_block_1\n"
     ]
    },
    {
     "name": "stderr",
     "output_type": "stream",
     "text": [
      "INFO:mathsformer: mathsformer_LLM_encoder_block_  (None, None, 128)   659712      ['mathsformer_LLM_encoder_block_1\n"
     ]
    },
    {
     "name": "stdout",
     "output_type": "stream",
     "text": [
      "   INFO <module>:  2 (EncoderBlock)                                                [0][0]',                         \n"
     ]
    },
    {
     "name": "stderr",
     "output_type": "stream",
     "text": [
      "INFO:mathsformer: 2 (EncoderBlock)                                                [0][0]',                         \n"
     ]
    },
    {
     "name": "stdout",
     "output_type": "stream",
     "text": [
      "   INFO <module>:                                                                   'mathsformer_LLM_encoder_block_1\n"
     ]
    },
    {
     "name": "stderr",
     "output_type": "stream",
     "text": [
      "INFO:mathsformer:                                                                  'mathsformer_LLM_encoder_block_1\n"
     ]
    },
    {
     "name": "stdout",
     "output_type": "stream",
     "text": [
      "   INFO <module>:                                                                  [1][0]',                         \n"
     ]
    },
    {
     "name": "stderr",
     "output_type": "stream",
     "text": [
      "INFO:mathsformer:                                                                 [1][0]',                         \n"
     ]
    },
    {
     "name": "stdout",
     "output_type": "stream",
     "text": [
      "   INFO <module>:                                                                   'mathsformer_LLM_encoder_block_1\n"
     ]
    },
    {
     "name": "stderr",
     "output_type": "stream",
     "text": [
      "INFO:mathsformer:                                                                  'mathsformer_LLM_encoder_block_1\n"
     ]
    },
    {
     "name": "stdout",
     "output_type": "stream",
     "text": [
      "   INFO <module>:                                                                  [2][0]',                         \n"
     ]
    },
    {
     "name": "stderr",
     "output_type": "stream",
     "text": [
      "INFO:mathsformer:                                                                 [2][0]',                         \n"
     ]
    },
    {
     "name": "stdout",
     "output_type": "stream",
     "text": [
      "   INFO <module>:                                                                   'mathsformer_LLM_encoder_block_1\n"
     ]
    },
    {
     "name": "stderr",
     "output_type": "stream",
     "text": [
      "INFO:mathsformer:                                                                  'mathsformer_LLM_encoder_block_1\n"
     ]
    },
    {
     "name": "stdout",
     "output_type": "stream",
     "text": [
      "   INFO <module>:                                                                  [3][0]',                         \n"
     ]
    },
    {
     "name": "stderr",
     "output_type": "stream",
     "text": [
      "INFO:mathsformer:                                                                 [3][0]',                         \n"
     ]
    },
    {
     "name": "stdout",
     "output_type": "stream",
     "text": [
      "   INFO <module>:                                                                   'mathsformer_LLM_encoder_block_1\n"
     ]
    },
    {
     "name": "stderr",
     "output_type": "stream",
     "text": [
      "INFO:mathsformer:                                                                  'mathsformer_LLM_encoder_block_1\n"
     ]
    },
    {
     "name": "stdout",
     "output_type": "stream",
     "text": [
      "   INFO <module>:                                                                  [4][0]',                         \n"
     ]
    },
    {
     "name": "stderr",
     "output_type": "stream",
     "text": [
      "INFO:mathsformer:                                                                 [4][0]',                         \n"
     ]
    },
    {
     "name": "stdout",
     "output_type": "stream",
     "text": [
      "   INFO <module>:                                                                   'mathsformer_LLM_encoder_block_1\n"
     ]
    },
    {
     "name": "stderr",
     "output_type": "stream",
     "text": [
      "INFO:mathsformer:                                                                  'mathsformer_LLM_encoder_block_1\n"
     ]
    },
    {
     "name": "stdout",
     "output_type": "stream",
     "text": [
      "   INFO <module>:                                                                  [5][0]']                         \n"
     ]
    },
    {
     "name": "stderr",
     "output_type": "stream",
     "text": [
      "INFO:mathsformer:                                                                 [5][0]']                         \n"
     ]
    },
    {
     "name": "stdout",
     "output_type": "stream",
     "text": [
      "   INFO <module>:                                                                                                   \n"
     ]
    },
    {
     "name": "stderr",
     "output_type": "stream",
     "text": [
      "INFO:mathsformer:                                                                                                  \n"
     ]
    },
    {
     "name": "stdout",
     "output_type": "stream",
     "text": [
      "   INFO <module>:  mathsformer_LLM_decoder_input_  [(None, None)]      0           []                               \n"
     ]
    },
    {
     "name": "stderr",
     "output_type": "stream",
     "text": [
      "INFO:mathsformer: mathsformer_LLM_decoder_input_  [(None, None)]      0           []                               \n"
     ]
    },
    {
     "name": "stdout",
     "output_type": "stream",
     "text": [
      "   INFO <module>:  layer (InputLayer)                                                                               \n"
     ]
    },
    {
     "name": "stderr",
     "output_type": "stream",
     "text": [
      "INFO:mathsformer: layer (InputLayer)                                                                               \n"
     ]
    },
    {
     "name": "stdout",
     "output_type": "stream",
     "text": [
      "   INFO <module>:                                                                                                   \n"
     ]
    },
    {
     "name": "stderr",
     "output_type": "stream",
     "text": [
      "INFO:mathsformer:                                                                                                  \n"
     ]
    },
    {
     "name": "stdout",
     "output_type": "stream",
     "text": [
      "   INFO <module>:  mathsformer_LLM_decoder_enumer  (None, None)        0           ['mathsformer_LLM_decoder_input_l\n"
     ]
    },
    {
     "name": "stderr",
     "output_type": "stream",
     "text": [
      "INFO:mathsformer: mathsformer_LLM_decoder_enumer  (None, None)        0           ['mathsformer_LLM_decoder_input_l\n"
     ]
    },
    {
     "name": "stdout",
     "output_type": "stream",
     "text": [
      "   INFO <module>:  ate (Enumerate)                                                 ayer[0][0]']                     \n"
     ]
    },
    {
     "name": "stderr",
     "output_type": "stream",
     "text": [
      "INFO:mathsformer: ate (Enumerate)                                                 ayer[0][0]']                     \n"
     ]
    },
    {
     "name": "stdout",
     "output_type": "stream",
     "text": [
      "   INFO <module>:                                                                                                   \n"
     ]
    },
    {
     "name": "stderr",
     "output_type": "stream",
     "text": [
      "INFO:mathsformer:                                                                                                  \n"
     ]
    },
    {
     "name": "stdout",
     "output_type": "stream",
     "text": [
      "   INFO <module>:  mathsformer_LLM_decoder_embedd  (None, None, 128)   2048        ['mathsformer_LLM_decoder_input_l\n"
     ]
    },
    {
     "name": "stderr",
     "output_type": "stream",
     "text": [
      "INFO:mathsformer: mathsformer_LLM_decoder_embedd  (None, None, 128)   2048        ['mathsformer_LLM_decoder_input_l\n"
     ]
    },
    {
     "name": "stdout",
     "output_type": "stream",
     "text": [
      "   INFO <module>:  ing (Embedding)                                                 ayer[0][0]']                     \n"
     ]
    },
    {
     "name": "stderr",
     "output_type": "stream",
     "text": [
      "INFO:mathsformer: ing (Embedding)                                                 ayer[0][0]']                     \n"
     ]
    },
    {
     "name": "stdout",
     "output_type": "stream",
     "text": [
      "   INFO <module>:                                                                                                   \n"
     ]
    },
    {
     "name": "stderr",
     "output_type": "stream",
     "text": [
      "INFO:mathsformer:                                                                                                  \n"
     ]
    },
    {
     "name": "stdout",
     "output_type": "stream",
     "text": [
      "   INFO <module>:  mathsformer_LLM_decoder_positi  (None, None, 128)   64          ['mathsformer_LLM_decoder_enumera\n"
     ]
    },
    {
     "name": "stderr",
     "output_type": "stream",
     "text": [
      "INFO:mathsformer: mathsformer_LLM_decoder_positi  (None, None, 128)   64          ['mathsformer_LLM_decoder_enumera\n"
     ]
    },
    {
     "name": "stdout",
     "output_type": "stream",
     "text": [
      "   INFO <module>:  on_encoding (PositionalEncodin                                  te[0][0]']                       \n"
     ]
    },
    {
     "name": "stderr",
     "output_type": "stream",
     "text": [
      "INFO:mathsformer: on_encoding (PositionalEncodin                                  te[0][0]']                       \n"
     ]
    },
    {
     "name": "stdout",
     "output_type": "stream",
     "text": [
      "   INFO <module>:  g)                                                                                               \n"
     ]
    },
    {
     "name": "stderr",
     "output_type": "stream",
     "text": [
      "INFO:mathsformer: g)                                                                                               \n"
     ]
    },
    {
     "name": "stdout",
     "output_type": "stream",
     "text": [
      "   INFO <module>:                                                                                                   \n"
     ]
    },
    {
     "name": "stderr",
     "output_type": "stream",
     "text": [
      "INFO:mathsformer:                                                                                                  \n"
     ]
    },
    {
     "name": "stdout",
     "output_type": "stream",
     "text": [
      "   INFO <module>:  mathsformer_LLM_decoder_emb_an  (None, None, 128)   0           ['mathsformer_LLM_decoder_embeddi\n"
     ]
    },
    {
     "name": "stderr",
     "output_type": "stream",
     "text": [
      "INFO:mathsformer: mathsformer_LLM_decoder_emb_an  (None, None, 128)   0           ['mathsformer_LLM_decoder_embeddi\n"
     ]
    },
    {
     "name": "stdout",
     "output_type": "stream",
     "text": [
      "   INFO <module>:  d_pos (Average)                                                 ng[0][0]',                       \n"
     ]
    },
    {
     "name": "stderr",
     "output_type": "stream",
     "text": [
      "INFO:mathsformer: d_pos (Average)                                                 ng[0][0]',                       \n"
     ]
    },
    {
     "name": "stdout",
     "output_type": "stream",
     "text": [
      "   INFO <module>:                                                                   'mathsformer_LLM_decoder_positio\n"
     ]
    },
    {
     "name": "stderr",
     "output_type": "stream",
     "text": [
      "INFO:mathsformer:                                                                  'mathsformer_LLM_decoder_positio\n"
     ]
    },
    {
     "name": "stdout",
     "output_type": "stream",
     "text": [
      "   INFO <module>:                                                                  n_encoding[0][0]']               \n"
     ]
    },
    {
     "name": "stderr",
     "output_type": "stream",
     "text": [
      "INFO:mathsformer:                                                                 n_encoding[0][0]']               \n"
     ]
    },
    {
     "name": "stdout",
     "output_type": "stream",
     "text": [
      "   INFO <module>:                                                                                                   \n"
     ]
    },
    {
     "name": "stderr",
     "output_type": "stream",
     "text": [
      "INFO:mathsformer:                                                                                                  \n"
     ]
    },
    {
     "name": "stdout",
     "output_type": "stream",
     "text": [
      "   INFO <module>:  mathsformer_LLM_decoder_block_  (None, None, 128)   1187456     ['mathsformer_LLM_decoder_emb_and\n"
     ]
    },
    {
     "name": "stderr",
     "output_type": "stream",
     "text": [
      "INFO:mathsformer: mathsformer_LLM_decoder_block_  (None, None, 128)   1187456     ['mathsformer_LLM_decoder_emb_and\n"
     ]
    },
    {
     "name": "stdout",
     "output_type": "stream",
     "text": [
      "   INFO <module>:  1 (DecoderBlock)                                                _pos[0][0]',                     \n"
     ]
    },
    {
     "name": "stderr",
     "output_type": "stream",
     "text": [
      "INFO:mathsformer: 1 (DecoderBlock)                                                _pos[0][0]',                     \n"
     ]
    },
    {
     "name": "stdout",
     "output_type": "stream",
     "text": [
      "   INFO <module>:                                                                   'mathsformer_LLM_encoder_block_2\n"
     ]
    },
    {
     "name": "stderr",
     "output_type": "stream",
     "text": [
      "INFO:mathsformer:                                                                  'mathsformer_LLM_encoder_block_2\n"
     ]
    },
    {
     "name": "stdout",
     "output_type": "stream",
     "text": [
      "   INFO <module>:                                                                  [3][0]',                         \n"
     ]
    },
    {
     "name": "stderr",
     "output_type": "stream",
     "text": [
      "INFO:mathsformer:                                                                 [3][0]',                         \n"
     ]
    },
    {
     "name": "stdout",
     "output_type": "stream",
     "text": [
      "   INFO <module>:                                                                   'mathsformer_LLM_decoder_emb_and\n"
     ]
    },
    {
     "name": "stderr",
     "output_type": "stream",
     "text": [
      "INFO:mathsformer:                                                                  'mathsformer_LLM_decoder_emb_and\n"
     ]
    },
    {
     "name": "stdout",
     "output_type": "stream",
     "text": [
      "   INFO <module>:                                                                  _pos[0][0]',                     \n"
     ]
    },
    {
     "name": "stderr",
     "output_type": "stream",
     "text": [
      "INFO:mathsformer:                                                                 _pos[0][0]',                     \n"
     ]
    },
    {
     "name": "stdout",
     "output_type": "stream",
     "text": [
      "   INFO <module>:                                                                   'mathsformer_LLM_encoder_block_2\n"
     ]
    },
    {
     "name": "stderr",
     "output_type": "stream",
     "text": [
      "INFO:mathsformer:                                                                  'mathsformer_LLM_encoder_block_2\n"
     ]
    },
    {
     "name": "stdout",
     "output_type": "stream",
     "text": [
      "   INFO <module>:                                                                  [4][0]',                         \n"
     ]
    },
    {
     "name": "stderr",
     "output_type": "stream",
     "text": [
      "INFO:mathsformer:                                                                 [4][0]',                         \n"
     ]
    },
    {
     "name": "stdout",
     "output_type": "stream",
     "text": [
      "   INFO <module>:                                                                   'mathsformer_LLM_decoder_emb_and\n"
     ]
    },
    {
     "name": "stderr",
     "output_type": "stream",
     "text": [
      "INFO:mathsformer:                                                                  'mathsformer_LLM_decoder_emb_and\n"
     ]
    },
    {
     "name": "stdout",
     "output_type": "stream",
     "text": [
      "   INFO <module>:                                                                  _pos[0][0]',                     \n"
     ]
    },
    {
     "name": "stderr",
     "output_type": "stream",
     "text": [
      "INFO:mathsformer:                                                                 _pos[0][0]',                     \n"
     ]
    },
    {
     "name": "stdout",
     "output_type": "stream",
     "text": [
      "   INFO <module>:                                                                   'mathsformer_LLM_encoder_block_2\n"
     ]
    },
    {
     "name": "stderr",
     "output_type": "stream",
     "text": [
      "INFO:mathsformer:                                                                  'mathsformer_LLM_encoder_block_2\n"
     ]
    },
    {
     "name": "stdout",
     "output_type": "stream",
     "text": [
      "   INFO <module>:                                                                  [5][0]']                         \n"
     ]
    },
    {
     "name": "stderr",
     "output_type": "stream",
     "text": [
      "INFO:mathsformer:                                                                 [5][0]']                         \n"
     ]
    },
    {
     "name": "stdout",
     "output_type": "stream",
     "text": [
      "   INFO <module>:                                                                                                   \n"
     ]
    },
    {
     "name": "stderr",
     "output_type": "stream",
     "text": [
      "INFO:mathsformer:                                                                                                  \n"
     ]
    },
    {
     "name": "stdout",
     "output_type": "stream",
     "text": [
      "   INFO <module>:  mathsformer_LLM_decoder_block_  (None, None, 128)   1187456     ['mathsformer_LLM_decoder_block_1\n"
     ]
    },
    {
     "name": "stderr",
     "output_type": "stream",
     "text": [
      "INFO:mathsformer: mathsformer_LLM_decoder_block_  (None, None, 128)   1187456     ['mathsformer_LLM_decoder_block_1\n"
     ]
    },
    {
     "name": "stdout",
     "output_type": "stream",
     "text": [
      "   INFO <module>:  2 (DecoderBlock)                                                [0][0]',                         \n"
     ]
    },
    {
     "name": "stderr",
     "output_type": "stream",
     "text": [
      "INFO:mathsformer: 2 (DecoderBlock)                                                [0][0]',                         \n"
     ]
    },
    {
     "name": "stdout",
     "output_type": "stream",
     "text": [
      "   INFO <module>:                                                                   'mathsformer_LLM_encoder_block_2\n"
     ]
    },
    {
     "name": "stderr",
     "output_type": "stream",
     "text": [
      "INFO:mathsformer:                                                                  'mathsformer_LLM_encoder_block_2\n"
     ]
    },
    {
     "name": "stdout",
     "output_type": "stream",
     "text": [
      "   INFO <module>:                                                                  [3][0]',                         \n"
     ]
    },
    {
     "name": "stderr",
     "output_type": "stream",
     "text": [
      "INFO:mathsformer:                                                                 [3][0]',                         \n"
     ]
    },
    {
     "name": "stdout",
     "output_type": "stream",
     "text": [
      "   INFO <module>:                                                                   'mathsformer_LLM_decoder_block_1\n"
     ]
    },
    {
     "name": "stderr",
     "output_type": "stream",
     "text": [
      "INFO:mathsformer:                                                                  'mathsformer_LLM_decoder_block_1\n"
     ]
    },
    {
     "name": "stdout",
     "output_type": "stream",
     "text": [
      "   INFO <module>:                                                                  [1][0]',                         \n"
     ]
    },
    {
     "name": "stderr",
     "output_type": "stream",
     "text": [
      "INFO:mathsformer:                                                                 [1][0]',                         \n"
     ]
    },
    {
     "name": "stdout",
     "output_type": "stream",
     "text": [
      "   INFO <module>:                                                                   'mathsformer_LLM_encoder_block_2\n"
     ]
    },
    {
     "name": "stderr",
     "output_type": "stream",
     "text": [
      "INFO:mathsformer:                                                                  'mathsformer_LLM_encoder_block_2\n"
     ]
    },
    {
     "name": "stdout",
     "output_type": "stream",
     "text": [
      "   INFO <module>:                                                                  [4][0]',                         \n"
     ]
    },
    {
     "name": "stderr",
     "output_type": "stream",
     "text": [
      "INFO:mathsformer:                                                                 [4][0]',                         \n"
     ]
    },
    {
     "name": "stdout",
     "output_type": "stream",
     "text": [
      "   INFO <module>:                                                                   'mathsformer_LLM_decoder_block_1\n"
     ]
    },
    {
     "name": "stderr",
     "output_type": "stream",
     "text": [
      "INFO:mathsformer:                                                                  'mathsformer_LLM_decoder_block_1\n"
     ]
    },
    {
     "name": "stdout",
     "output_type": "stream",
     "text": [
      "   INFO <module>:                                                                  [2][0]',                         \n"
     ]
    },
    {
     "name": "stderr",
     "output_type": "stream",
     "text": [
      "INFO:mathsformer:                                                                 [2][0]',                         \n"
     ]
    },
    {
     "name": "stdout",
     "output_type": "stream",
     "text": [
      "   INFO <module>:                                                                   'mathsformer_LLM_encoder_block_2\n"
     ]
    },
    {
     "name": "stderr",
     "output_type": "stream",
     "text": [
      "INFO:mathsformer:                                                                  'mathsformer_LLM_encoder_block_2\n"
     ]
    },
    {
     "name": "stdout",
     "output_type": "stream",
     "text": [
      "   INFO <module>:                                                                  [5][0]']                         \n"
     ]
    },
    {
     "name": "stderr",
     "output_type": "stream",
     "text": [
      "INFO:mathsformer:                                                                 [5][0]']                         \n"
     ]
    },
    {
     "name": "stdout",
     "output_type": "stream",
     "text": [
      "   INFO <module>:                                                                                                   \n"
     ]
    },
    {
     "name": "stderr",
     "output_type": "stream",
     "text": [
      "INFO:mathsformer:                                                                                                  \n"
     ]
    },
    {
     "name": "stdout",
     "output_type": "stream",
     "text": [
      "   INFO <module>:  mathsformer_LLM_output (FeedFo  (None, None, 16)    599824      ['mathsformer_LLM_decoder_block_2\n"
     ]
    },
    {
     "name": "stderr",
     "output_type": "stream",
     "text": [
      "INFO:mathsformer: mathsformer_LLM_output (FeedFo  (None, None, 16)    599824      ['mathsformer_LLM_decoder_block_2\n"
     ]
    },
    {
     "name": "stdout",
     "output_type": "stream",
     "text": [
      "   INFO <module>:  rwardBlock)                                                     [0][0]',                         \n"
     ]
    },
    {
     "name": "stderr",
     "output_type": "stream",
     "text": [
      "INFO:mathsformer: rwardBlock)                                                     [0][0]',                         \n"
     ]
    },
    {
     "name": "stdout",
     "output_type": "stream",
     "text": [
      "   INFO <module>:                                                                   'mathsformer_LLM_decoder_block_2\n"
     ]
    },
    {
     "name": "stderr",
     "output_type": "stream",
     "text": [
      "INFO:mathsformer:                                                                  'mathsformer_LLM_decoder_block_2\n"
     ]
    },
    {
     "name": "stdout",
     "output_type": "stream",
     "text": [
      "   INFO <module>:                                                                  [1][0]',                         \n"
     ]
    },
    {
     "name": "stderr",
     "output_type": "stream",
     "text": [
      "INFO:mathsformer:                                                                 [1][0]',                         \n"
     ]
    },
    {
     "name": "stdout",
     "output_type": "stream",
     "text": [
      "   INFO <module>:                                                                   'mathsformer_LLM_decoder_block_2\n"
     ]
    },
    {
     "name": "stderr",
     "output_type": "stream",
     "text": [
      "INFO:mathsformer:                                                                  'mathsformer_LLM_decoder_block_2\n"
     ]
    },
    {
     "name": "stdout",
     "output_type": "stream",
     "text": [
      "   INFO <module>:                                                                  [2][0]']                         \n"
     ]
    },
    {
     "name": "stderr",
     "output_type": "stream",
     "text": [
      "INFO:mathsformer:                                                                 [2][0]']                         \n"
     ]
    },
    {
     "name": "stdout",
     "output_type": "stream",
     "text": [
      "   INFO <module>:                                                                                                   \n"
     ]
    },
    {
     "name": "stderr",
     "output_type": "stream",
     "text": [
      "INFO:mathsformer:                                                                                                  \n"
     ]
    },
    {
     "name": "stdout",
     "output_type": "stream",
     "text": [
      "   INFO <module>: ==================================================================================================\n"
     ]
    },
    {
     "name": "stderr",
     "output_type": "stream",
     "text": [
      "INFO:mathsformer:==================================================================================================\n"
     ]
    },
    {
     "name": "stdout",
     "output_type": "stream",
     "text": [
      "   INFO <module>: Total params: 5,617,816\n"
     ]
    },
    {
     "name": "stderr",
     "output_type": "stream",
     "text": [
      "INFO:mathsformer:Total params: 5,617,816\n"
     ]
    },
    {
     "name": "stdout",
     "output_type": "stream",
     "text": [
      "   INFO <module>: Trainable params: 5,617,816\n"
     ]
    },
    {
     "name": "stderr",
     "output_type": "stream",
     "text": [
      "INFO:mathsformer:Trainable params: 5,617,816\n"
     ]
    },
    {
     "name": "stdout",
     "output_type": "stream",
     "text": [
      "   INFO <module>: Non-trainable params: 0\n"
     ]
    },
    {
     "name": "stderr",
     "output_type": "stream",
     "text": [
      "INFO:mathsformer:Non-trainable params: 0\n"
     ]
    },
    {
     "name": "stdout",
     "output_type": "stream",
     "text": [
      "   INFO <module>: __________________________________________________________________________________________________\n"
     ]
    },
    {
     "name": "stderr",
     "output_type": "stream",
     "text": [
      "INFO:mathsformer:__________________________________________________________________________________________________\n"
     ]
    },
    {
     "name": "stdout",
     "output_type": "stream",
     "text": [
      "   INFO <module>: Optimizer is <keras.optimizers.adamw.AdamW object at 0x289e46f50>\n"
     ]
    },
    {
     "name": "stderr",
     "output_type": "stream",
     "text": [
      "INFO:mathsformer:Optimizer is <keras.optimizers.adamw.AdamW object at 0x289e46f50>\n"
     ]
    },
    {
     "name": "stdout",
     "output_type": "stream",
     "text": [
      "   INFO <module>: Learning rate is <tf.Variable 'learning_rate:0' shape=() dtype=float32, numpy=1e-04>\n"
     ]
    },
    {
     "name": "stderr",
     "output_type": "stream",
     "text": [
      "INFO:mathsformer:Learning rate is <tf.Variable 'learning_rate:0' shape=() dtype=float32, numpy=1e-04>\n"
     ]
    },
    {
     "name": "stdout",
     "output_type": "stream",
     "text": [
      "   INFO <module>: Weight decay is 0.01\n"
     ]
    },
    {
     "name": "stderr",
     "output_type": "stream",
     "text": [
      "INFO:mathsformer:Weight decay is 0.01\n"
     ]
    }
   ],
   "source": [
    "##===============##\n",
    "##   Log model   ##\n",
    "##===============##\n",
    "\n",
    "##  Create hack to catch model summary\n",
    "model_summary = []\n",
    "model.summary(print_fn = lambda s : model_summary.append(s))\n",
    "\n",
    "##  Print model summary\n",
    "logger.info(\"Model created with summary:\")\n",
    "for s in model_summary : logger.info(s)\n",
    "    \n",
    "##  Print optimizer summary\n",
    "logger.info(f\"Optimizer is {model.optimizer}\")\n",
    "if hasattr(model.optimizer, \"learning_rate\") : logger.info(f\"Learning rate is {model.optimizer.learning_rate}\")\n",
    "if hasattr(model.optimizer, \"weight_decay\" ) : logger.info(f\"Weight decay is {model.optimizer.weight_decay}\")\n"
   ]
  },
  {
   "cell_type": "code",
   "execution_count": 12,
   "id": "793493a0",
   "metadata": {},
   "outputs": [],
   "source": [
    "##==============================================================##\n",
    "##   Create transformer wrapper for model and token_transform   ##\n",
    "##==============================================================##\n",
    "\n",
    "transformer = transformers.Transformer_Text_to_Text(model, token_transform)\n"
   ]
  },
  {
   "cell_type": "code",
   "execution_count": 13,
   "id": "176ef24d",
   "metadata": {},
   "outputs": [],
   "source": [
    "##========================##\n",
    "##   Save initial model   ##\n",
    "##========================##\n",
    "\n",
    "save_fname = f\"{working_dir}/initial_model.keras\"\n",
    "model.save(save_fname)\n"
   ]
  },
  {
   "cell_type": "code",
   "execution_count": 14,
   "id": "eca49f67",
   "metadata": {
    "scrolled": false
   },
   "outputs": [
    {
     "name": "stderr",
     "output_type": "stream",
     "text": [
      "2023-07-02 22:37:56.744959: W tensorflow/tsl/platform/profile_utils/cpu_utils.cc:128] Failed to get CPU frequency: 0 Hz\n"
     ]
    },
    {
     "name": "stdout",
     "output_type": "stream",
     "text": [
      "50/50 [==============================] - 11s 187ms/step - loss: 8.4301 - mathsformer_LLM_output_loss: 2.8046 - mathsformer_LLM_output_1_loss: 2.8114 - mathsformer_LLM_output_2_loss: 2.8141 - mathsformer_LLM_output_masked_categorical_accuracy: 0.0351 - mathsformer_LLM_output_1_masked_categorical_accuracy: 0.0338 - mathsformer_LLM_output_2_masked_categorical_accuracy: 0.0252\n",
      "   INFO log_metrics: Model with training metrics:\n"
     ]
    },
    {
     "name": "stderr",
     "output_type": "stream",
     "text": [
      "INFO:mathsformer.selfsupervised_learning_addition_model_backend:Model with training metrics:\n"
     ]
    },
    {
     "name": "stdout",
     "output_type": "stream",
     "text": [
      "   INFO log_metrics:     loss:  8.430139541625977\n"
     ]
    },
    {
     "name": "stderr",
     "output_type": "stream",
     "text": [
      "INFO:mathsformer.selfsupervised_learning_addition_model_backend:    loss:  8.430139541625977\n"
     ]
    },
    {
     "name": "stdout",
     "output_type": "stream",
     "text": [
      "   INFO log_metrics:     mathsformer_LLM_output_loss:  2.8045876026153564\n"
     ]
    },
    {
     "name": "stderr",
     "output_type": "stream",
     "text": [
      "INFO:mathsformer.selfsupervised_learning_addition_model_backend:    mathsformer_LLM_output_loss:  2.8045876026153564\n"
     ]
    },
    {
     "name": "stdout",
     "output_type": "stream",
     "text": [
      "   INFO log_metrics:     mathsformer_LLM_output_1_loss:  2.811411142349243\n"
     ]
    },
    {
     "name": "stderr",
     "output_type": "stream",
     "text": [
      "INFO:mathsformer.selfsupervised_learning_addition_model_backend:    mathsformer_LLM_output_1_loss:  2.811411142349243\n"
     ]
    },
    {
     "name": "stdout",
     "output_type": "stream",
     "text": [
      "   INFO log_metrics:     mathsformer_LLM_output_2_loss:  2.8141417503356934\n"
     ]
    },
    {
     "name": "stderr",
     "output_type": "stream",
     "text": [
      "INFO:mathsformer.selfsupervised_learning_addition_model_backend:    mathsformer_LLM_output_2_loss:  2.8141417503356934\n"
     ]
    },
    {
     "name": "stdout",
     "output_type": "stream",
     "text": [
      "   INFO log_metrics:     mathsformer_LLM_output_masked_categorical_accuracy:  0.03506392240524292\n"
     ]
    },
    {
     "name": "stderr",
     "output_type": "stream",
     "text": [
      "INFO:mathsformer.selfsupervised_learning_addition_model_backend:    mathsformer_LLM_output_masked_categorical_accuracy:  0.03506392240524292\n"
     ]
    },
    {
     "name": "stdout",
     "output_type": "stream",
     "text": [
      "   INFO log_metrics:     mathsformer_LLM_output_1_masked_categorical_accuracy:  0.03376105800271034\n"
     ]
    },
    {
     "name": "stderr",
     "output_type": "stream",
     "text": [
      "INFO:mathsformer.selfsupervised_learning_addition_model_backend:    mathsformer_LLM_output_1_masked_categorical_accuracy:  0.03376105800271034\n"
     ]
    },
    {
     "name": "stdout",
     "output_type": "stream",
     "text": [
      "   INFO log_metrics:     mathsformer_LLM_output_2_masked_categorical_accuracy:  0.025232672691345215\n"
     ]
    },
    {
     "name": "stderr",
     "output_type": "stream",
     "text": [
      "INFO:mathsformer.selfsupervised_learning_addition_model_backend:    mathsformer_LLM_output_2_masked_categorical_accuracy:  0.025232672691345215\n"
     ]
    },
    {
     "name": "stdout",
     "output_type": "stream",
     "text": [
      "50/50 [==============================] - 8s 162ms/step - loss: 8.4229 - mathsformer_LLM_output_loss: 2.8032 - mathsformer_LLM_output_1_loss: 2.8089 - mathsformer_LLM_output_2_loss: 2.8108 - mathsformer_LLM_output_masked_categorical_accuracy: 0.0312 - mathsformer_LLM_output_1_masked_categorical_accuracy: 0.0295 - mathsformer_LLM_output_2_masked_categorical_accuracy: 0.0205\n",
      "   INFO log_metrics: Model with validation metrics:\n"
     ]
    },
    {
     "name": "stderr",
     "output_type": "stream",
     "text": [
      "INFO:mathsformer.selfsupervised_learning_addition_model_backend:Model with validation metrics:\n"
     ]
    },
    {
     "name": "stdout",
     "output_type": "stream",
     "text": [
      "   INFO log_metrics:     loss:  8.422905921936035\n"
     ]
    },
    {
     "name": "stderr",
     "output_type": "stream",
     "text": [
      "INFO:mathsformer.selfsupervised_learning_addition_model_backend:    loss:  8.422905921936035\n"
     ]
    },
    {
     "name": "stdout",
     "output_type": "stream",
     "text": [
      "   INFO log_metrics:     mathsformer_LLM_output_loss:  2.8032407760620117\n"
     ]
    },
    {
     "name": "stderr",
     "output_type": "stream",
     "text": [
      "INFO:mathsformer.selfsupervised_learning_addition_model_backend:    mathsformer_LLM_output_loss:  2.8032407760620117\n"
     ]
    },
    {
     "name": "stdout",
     "output_type": "stream",
     "text": [
      "   INFO log_metrics:     mathsformer_LLM_output_1_loss:  2.8088793754577637\n"
     ]
    },
    {
     "name": "stderr",
     "output_type": "stream",
     "text": [
      "INFO:mathsformer.selfsupervised_learning_addition_model_backend:    mathsformer_LLM_output_1_loss:  2.8088793754577637\n"
     ]
    },
    {
     "name": "stdout",
     "output_type": "stream",
     "text": [
      "   INFO log_metrics:     mathsformer_LLM_output_2_loss:  2.8107874393463135\n"
     ]
    },
    {
     "name": "stderr",
     "output_type": "stream",
     "text": [
      "INFO:mathsformer.selfsupervised_learning_addition_model_backend:    mathsformer_LLM_output_2_loss:  2.8107874393463135\n"
     ]
    },
    {
     "name": "stdout",
     "output_type": "stream",
     "text": [
      "   INFO log_metrics:     mathsformer_LLM_output_masked_categorical_accuracy:  0.03123398683965206\n"
     ]
    },
    {
     "name": "stderr",
     "output_type": "stream",
     "text": [
      "INFO:mathsformer.selfsupervised_learning_addition_model_backend:    mathsformer_LLM_output_masked_categorical_accuracy:  0.03123398683965206\n"
     ]
    },
    {
     "name": "stdout",
     "output_type": "stream",
     "text": [
      "   INFO log_metrics:     mathsformer_LLM_output_1_masked_categorical_accuracy:  0.029510481283068657\n"
     ]
    },
    {
     "name": "stderr",
     "output_type": "stream",
     "text": [
      "INFO:mathsformer.selfsupervised_learning_addition_model_backend:    mathsformer_LLM_output_1_masked_categorical_accuracy:  0.029510481283068657\n"
     ]
    },
    {
     "name": "stdout",
     "output_type": "stream",
     "text": [
      "   INFO log_metrics:     mathsformer_LLM_output_2_masked_categorical_accuracy:  0.020522590726614\n"
     ]
    },
    {
     "name": "stderr",
     "output_type": "stream",
     "text": [
      "INFO:mathsformer.selfsupervised_learning_addition_model_backend:    mathsformer_LLM_output_2_masked_categorical_accuracy:  0.020522590726614\n"
     ]
    },
    {
     "name": "stdout",
     "output_type": "stream",
     "text": [
      "100/100 [==============================] - 32s 315ms/step - loss: 8.3923 - mathsformer_LLM_output_loss: 2.7926 - mathsformer_LLM_output_1_loss: 2.7987 - mathsformer_LLM_output_2_loss: 2.8010 - mathsformer_LLM_output_masked_categorical_accuracy: 0.0364 - mathsformer_LLM_output_1_masked_categorical_accuracy: 0.0343 - mathsformer_LLM_output_2_masked_categorical_accuracy: 0.0257\n",
      "   INFO log_metrics: Model with test metrics:\n"
     ]
    },
    {
     "name": "stderr",
     "output_type": "stream",
     "text": [
      "INFO:mathsformer.selfsupervised_learning_addition_model_backend:Model with test metrics:\n"
     ]
    },
    {
     "name": "stdout",
     "output_type": "stream",
     "text": [
      "   INFO log_metrics:     loss:  8.39232063293457\n"
     ]
    },
    {
     "name": "stderr",
     "output_type": "stream",
     "text": [
      "INFO:mathsformer.selfsupervised_learning_addition_model_backend:    loss:  8.39232063293457\n"
     ]
    },
    {
     "name": "stdout",
     "output_type": "stream",
     "text": [
      "   INFO log_metrics:     mathsformer_LLM_output_loss:  2.7926018238067627\n"
     ]
    },
    {
     "name": "stderr",
     "output_type": "stream",
     "text": [
      "INFO:mathsformer.selfsupervised_learning_addition_model_backend:    mathsformer_LLM_output_loss:  2.7926018238067627\n"
     ]
    },
    {
     "name": "stdout",
     "output_type": "stream",
     "text": [
      "   INFO log_metrics:     mathsformer_LLM_output_1_loss:  2.7986860275268555\n"
     ]
    },
    {
     "name": "stderr",
     "output_type": "stream",
     "text": [
      "INFO:mathsformer.selfsupervised_learning_addition_model_backend:    mathsformer_LLM_output_1_loss:  2.7986860275268555\n"
     ]
    },
    {
     "name": "stdout",
     "output_type": "stream",
     "text": [
      "   INFO log_metrics:     mathsformer_LLM_output_2_loss:  2.8010337352752686\n"
     ]
    },
    {
     "name": "stderr",
     "output_type": "stream",
     "text": [
      "INFO:mathsformer.selfsupervised_learning_addition_model_backend:    mathsformer_LLM_output_2_loss:  2.8010337352752686\n"
     ]
    },
    {
     "name": "stdout",
     "output_type": "stream",
     "text": [
      "   INFO log_metrics:     mathsformer_LLM_output_masked_categorical_accuracy:  0.036386795341968536\n"
     ]
    },
    {
     "name": "stderr",
     "output_type": "stream",
     "text": [
      "INFO:mathsformer.selfsupervised_learning_addition_model_backend:    mathsformer_LLM_output_masked_categorical_accuracy:  0.036386795341968536\n"
     ]
    },
    {
     "name": "stdout",
     "output_type": "stream",
     "text": [
      "   INFO log_metrics:     mathsformer_LLM_output_1_masked_categorical_accuracy:  0.03434767574071884\n"
     ]
    },
    {
     "name": "stderr",
     "output_type": "stream",
     "text": [
      "INFO:mathsformer.selfsupervised_learning_addition_model_backend:    mathsformer_LLM_output_1_masked_categorical_accuracy:  0.03434767574071884\n"
     ]
    },
    {
     "name": "stdout",
     "output_type": "stream",
     "text": [
      "   INFO log_metrics:     mathsformer_LLM_output_2_masked_categorical_accuracy:  0.025705033913254738\n"
     ]
    },
    {
     "name": "stderr",
     "output_type": "stream",
     "text": [
      "INFO:mathsformer.selfsupervised_learning_addition_model_backend:    mathsformer_LLM_output_2_masked_categorical_accuracy:  0.025705033913254738\n"
     ]
    }
   ],
   "source": [
    "##================================== ====##\n",
    "##   Print initial model metric values   ##\n",
    "##================================== ====##\n",
    "\n",
    "backend.log_metrics(\n",
    "               model, \n",
    "               [train_gen_reproducible, val_gen, test_gen], \n",
    "               [\"training\", \"validation\", \"test\"],\n",
    "               verbose=1,\n",
    "              )\n"
   ]
  },
  {
   "cell_type": "code",
   "execution_count": 15,
   "id": "956e30a6",
   "metadata": {
    "scrolled": true
   },
   "outputs": [
    {
     "name": "stdout",
     "output_type": "stream",
     "text": [
      "   INFO test_transformer: Running text --> text mathsformer inference on some training data:\n"
     ]
    },
    {
     "name": "stderr",
     "output_type": "stream",
     "text": [
      "INFO:mathsformer.selfsupervised_learning_addition_model_backend:Running text --> text mathsformer inference on some training data:\n"
     ]
    },
    {
     "name": "stdout",
     "output_type": "stream",
     "text": [
      "   INFO print_predictions_table: ------------------------------------------------------------------------------------------\n"
     ]
    },
    {
     "name": "stderr",
     "output_type": "stream",
     "text": [
      "INFO:mathsformer.selfsupervised_learning_addition_model_backend:------------------------------------------------------------------------------------------\n"
     ]
    },
    {
     "name": "stdout",
     "output_type": "stream",
     "text": [
      "   INFO print_predictions_table:                   INPUT         TRUE   PRED(MASK)      PRED(GEN)      CORRECT     RESIDUAL\n"
     ]
    },
    {
     "name": "stderr",
     "output_type": "stream",
     "text": [
      "INFO:mathsformer.selfsupervised_learning_addition_model_backend:                  INPUT         TRUE   PRED(MASK)      PRED(GEN)      CORRECT     RESIDUAL\n"
     ]
    },
    {
     "name": "stdout",
     "output_type": "stream",
     "text": [
      "   INFO print_predictions_table: ------------------------------------------------------------------------------------------\n"
     ]
    },
    {
     "name": "stderr",
     "output_type": "stream",
     "text": [
      "INFO:mathsformer.selfsupervised_learning_addition_model_backend:------------------------------------------------------------------------------------------\n"
     ]
    },
    {
     "name": "stdout",
     "output_type": "stream",
     "text": [
      "   INFO print_predictions_table:                     N81          N81        B55MM BB55MMMB11116B                      ?   \n"
     ]
    },
    {
     "name": "stderr",
     "output_type": "stream",
     "text": [
      "INFO:mathsformer.selfsupervised_learning_addition_model_backend:                    N81          N81        B55MM BB55MMMB11116B                      ?   \n"
     ]
    },
    {
     "name": "stdout",
     "output_type": "stream",
     "text": [
      "   INFO print_predictions_table:      37+4457-N353+N2+N7         4838        B55MM BB55MMMB11116B                      ?   \n"
     ]
    },
    {
     "name": "stderr",
     "output_type": "stream",
     "text": [
      "INFO:mathsformer.selfsupervised_learning_addition_model_backend:     37+4457-N353+N2+N7         4838        B55MM BB55MMMB11116B                      ?   \n"
     ]
    },
    {
     "name": "stdout",
     "output_type": "stream",
     "text": [
      "   INFO print_predictions_table:                     N52          N52        B55MM BB55MMMB11116B                      ?   \n"
     ]
    },
    {
     "name": "stderr",
     "output_type": "stream",
     "text": [
      "INFO:mathsformer.selfsupervised_learning_addition_model_backend:                    N52          N52        B55MM BB55MMMB11116B                      ?   \n"
     ]
    },
    {
     "name": "stdout",
     "output_type": "stream",
     "text": [
      "   INFO print_predictions_table:                621-2490        N1869        B55MM BB55MMMB11116B                      ?   \n"
     ]
    },
    {
     "name": "stderr",
     "output_type": "stream",
     "text": [
      "INFO:mathsformer.selfsupervised_learning_addition_model_backend:               621-2490        N1869        B55MM BB55MMMB11116B                      ?   \n"
     ]
    },
    {
     "name": "stdout",
     "output_type": "stream",
     "text": [
      "   INFO print_predictions_table:  4906+N262-48+483-N5139        10218        B55MM BB55MMMB11116B                      ?   \n"
     ]
    },
    {
     "name": "stderr",
     "output_type": "stream",
     "text": [
      "INFO:mathsformer.selfsupervised_learning_addition_model_backend: 4906+N262-48+483-N5139        10218        B55MM BB55MMMB11116B                      ?   \n"
     ]
    },
    {
     "name": "stdout",
     "output_type": "stream",
     "text": [
      "   INFO print_predictions_table:                  536-59          477        B55MM BB55MMMB11116B                      ?   \n"
     ]
    },
    {
     "name": "stderr",
     "output_type": "stream",
     "text": [
      "INFO:mathsformer.selfsupervised_learning_addition_model_backend:                 536-59          477        B55MM BB55MMMB11116B                      ?   \n"
     ]
    },
    {
     "name": "stdout",
     "output_type": "stream",
     "text": [
      "   INFO print_predictions_table:              3+N5-54+N4          N60        B55MM BB55MMMB11116B                      ?   \n"
     ]
    },
    {
     "name": "stderr",
     "output_type": "stream",
     "text": [
      "INFO:mathsformer.selfsupervised_learning_addition_model_backend:             3+N5-54+N4          N60        B55MM BB55MMMB11116B                      ?   \n"
     ]
    },
    {
     "name": "stdout",
     "output_type": "stream",
     "text": [
      "   INFO print_predictions_table:              N782-N4910         4128        B55MM BB55MMMB11116B                      ?   \n"
     ]
    },
    {
     "name": "stderr",
     "output_type": "stream",
     "text": [
      "INFO:mathsformer.selfsupervised_learning_addition_model_backend:             N782-N4910         4128        B55MM BB55MMMB11116B                      ?   \n"
     ]
    },
    {
     "name": "stdout",
     "output_type": "stream",
     "text": [
      "   INFO print_predictions_table:     89+N44-59-N939+N870           55        B55MM BB55MMMB11116B                      ?   \n"
     ]
    },
    {
     "name": "stderr",
     "output_type": "stream",
     "text": [
      "INFO:mathsformer.selfsupervised_learning_addition_model_backend:    89+N44-59-N939+N870           55        B55MM BB55MMMB11116B                      ?   \n"
     ]
    },
    {
     "name": "stdout",
     "output_type": "stream",
     "text": [
      "   INFO print_predictions_table:           9782+419-N4+2        10207        B55MM BB55MMMB11116B                      ?   \n"
     ]
    },
    {
     "name": "stderr",
     "output_type": "stream",
     "text": [
      "INFO:mathsformer.selfsupervised_learning_addition_model_backend:          9782+419-N4+2        10207        B55MM BB55MMMB11116B                      ?   \n"
     ]
    },
    {
     "name": "stdout",
     "output_type": "stream",
     "text": [
      "   INFO test_transformer: Running text --> text mathsformer inference on some validation data:\n"
     ]
    },
    {
     "name": "stderr",
     "output_type": "stream",
     "text": [
      "INFO:mathsformer.selfsupervised_learning_addition_model_backend:Running text --> text mathsformer inference on some validation data:\n"
     ]
    },
    {
     "name": "stdout",
     "output_type": "stream",
     "text": [
      "   INFO print_predictions_table: ---------------------------------------------------------------------------------\n"
     ]
    },
    {
     "name": "stderr",
     "output_type": "stream",
     "text": [
      "INFO:mathsformer.selfsupervised_learning_addition_model_backend:---------------------------------------------------------------------------------\n"
     ]
    },
    {
     "name": "stdout",
     "output_type": "stream",
     "text": [
      "   INFO print_predictions_table:          INPUT         TRUE   PRED(MASK)      PRED(GEN)      CORRECT     RESIDUAL\n"
     ]
    },
    {
     "name": "stderr",
     "output_type": "stream",
     "text": [
      "INFO:mathsformer.selfsupervised_learning_addition_model_backend:         INPUT         TRUE   PRED(MASK)      PRED(GEN)      CORRECT     RESIDUAL\n"
     ]
    },
    {
     "name": "stdout",
     "output_type": "stream",
     "text": [
      "   INFO print_predictions_table: ---------------------------------------------------------------------------------\n"
     ]
    },
    {
     "name": "stderr",
     "output_type": "stream",
     "text": [
      "INFO:mathsformer.selfsupervised_learning_addition_model_backend:---------------------------------------------------------------------------------\n"
     ]
    },
    {
     "name": "stdout",
     "output_type": "stream",
     "text": [
      "   INFO print_predictions_table:   3-N3988+N847         3144        B555M BB55MMMB11116B                      ?   \n"
     ]
    },
    {
     "name": "stderr",
     "output_type": "stream",
     "text": [
      "INFO:mathsformer.selfsupervised_learning_addition_model_backend:  3-N3988+N847         3144        B555M BB55MMMB11116B                      ?   \n"
     ]
    },
    {
     "name": "stdout",
     "output_type": "stream",
     "text": [
      "   INFO print_predictions_table:      7797+5-N4         7806        B55MM BB55MMMB11116B                      ?   \n"
     ]
    },
    {
     "name": "stderr",
     "output_type": "stream",
     "text": [
      "INFO:mathsformer.selfsupervised_learning_addition_model_backend:     7797+5-N4         7806        B55MM BB55MMMB11116B                      ?   \n"
     ]
    },
    {
     "name": "stdout",
     "output_type": "stream",
     "text": [
      "   INFO print_predictions_table:   N8357-N11+N7        N8353        B55MM BB55MMMB11116B                      ?   \n"
     ]
    },
    {
     "name": "stderr",
     "output_type": "stream",
     "text": [
      "INFO:mathsformer.selfsupervised_learning_addition_model_backend:  N8357-N11+N7        N8353        B55MM BB55MMMB11116B                      ?   \n"
     ]
    },
    {
     "name": "stdout",
     "output_type": "stream",
     "text": [
      "   INFO print_predictions_table:  6686-N437-236         6887        B55MM BB55MMMB11116B                      ?   \n"
     ]
    },
    {
     "name": "stderr",
     "output_type": "stream",
     "text": [
      "INFO:mathsformer.selfsupervised_learning_addition_model_backend: 6686-N437-236         6887        B55MM BB55MMMB11116B                      ?   \n"
     ]
    },
    {
     "name": "stdout",
     "output_type": "stream",
     "text": [
      "   INFO print_predictions_table:      N5+4442+8         4445        B55MM BB55MMMB11116B                      ?   \n"
     ]
    },
    {
     "name": "stderr",
     "output_type": "stream",
     "text": [
      "INFO:mathsformer.selfsupervised_learning_addition_model_backend:     N5+4442+8         4445        B55MM BB55MMMB11116B                      ?   \n"
     ]
    },
    {
     "name": "stdout",
     "output_type": "stream",
     "text": [
      "   INFO print_predictions_table:    2123-N1+N68         2056        B55MM BB55MMMB11116B                      ?   \n"
     ]
    },
    {
     "name": "stderr",
     "output_type": "stream",
     "text": [
      "INFO:mathsformer.selfsupervised_learning_addition_model_backend:   2123-N1+N68         2056        B55MM BB55MMMB11116B                      ?   \n"
     ]
    },
    {
     "name": "stdout",
     "output_type": "stream",
     "text": [
      "   INFO print_predictions_table:    95+4563+879         5537        B55MM BB55MMMB11116B                      ?   \n"
     ]
    },
    {
     "name": "stderr",
     "output_type": "stream",
     "text": [
      "INFO:mathsformer.selfsupervised_learning_addition_model_backend:   95+4563+879         5537        B55MM BB55MMMB11116B                      ?   \n"
     ]
    },
    {
     "name": "stdout",
     "output_type": "stream",
     "text": [
      "   INFO print_predictions_table:   1639+N2868+5        N1224        B55MM BB55MMMB11116B                      ?   \n"
     ]
    },
    {
     "name": "stderr",
     "output_type": "stream",
     "text": [
      "INFO:mathsformer.selfsupervised_learning_addition_model_backend:  1639+N2868+5        N1224        B55MM BB55MMMB11116B                      ?   \n"
     ]
    },
    {
     "name": "stdout",
     "output_type": "stream",
     "text": [
      "   INFO print_predictions_table:       8+N725-3         N720        B55MM BB55MMMB11116B                      ?   \n"
     ]
    },
    {
     "name": "stderr",
     "output_type": "stream",
     "text": [
      "INFO:mathsformer.selfsupervised_learning_addition_model_backend:      8+N725-3         N720        B55MM BB55MMMB11116B                      ?   \n"
     ]
    },
    {
     "name": "stdout",
     "output_type": "stream",
     "text": [
      "   INFO print_predictions_table:  N283+N962-N40        N1205        B55MM BB55MMMB11116B                      ?   \n"
     ]
    },
    {
     "name": "stderr",
     "output_type": "stream",
     "text": [
      "INFO:mathsformer.selfsupervised_learning_addition_model_backend: N283+N962-N40        N1205        B55MM BB55MMMB11116B                      ?   \n"
     ]
    },
    {
     "name": "stdout",
     "output_type": "stream",
     "text": [
      "   INFO test_transformer: Running text --> text mathsformer inference on some test data:\n"
     ]
    },
    {
     "name": "stderr",
     "output_type": "stream",
     "text": [
      "INFO:mathsformer.selfsupervised_learning_addition_model_backend:Running text --> text mathsformer inference on some test data:\n"
     ]
    },
    {
     "name": "stdout",
     "output_type": "stream",
     "text": [
      "   INFO print_predictions_table: --------------------------------------------------------------------------------------------------\n"
     ]
    },
    {
     "name": "stderr",
     "output_type": "stream",
     "text": [
      "INFO:mathsformer.selfsupervised_learning_addition_model_backend:--------------------------------------------------------------------------------------------------\n"
     ]
    },
    {
     "name": "stdout",
     "output_type": "stream",
     "text": [
      "   INFO print_predictions_table:                           INPUT         TRUE   PRED(MASK)      PRED(GEN)      CORRECT     RESIDUAL\n"
     ]
    },
    {
     "name": "stderr",
     "output_type": "stream",
     "text": [
      "INFO:mathsformer.selfsupervised_learning_addition_model_backend:                          INPUT         TRUE   PRED(MASK)      PRED(GEN)      CORRECT     RESIDUAL\n"
     ]
    },
    {
     "name": "stdout",
     "output_type": "stream",
     "text": [
      "   INFO print_predictions_table: --------------------------------------------------------------------------------------------------\n"
     ]
    },
    {
     "name": "stderr",
     "output_type": "stream",
     "text": [
      "INFO:mathsformer.selfsupervised_learning_addition_model_backend:--------------------------------------------------------------------------------------------------\n"
     ]
    },
    {
     "name": "stdout",
     "output_type": "stream",
     "text": [
      "   INFO print_predictions_table:     N97+N771-N8-451-11-N5489+65         4232       B55MMM BB55MMMB11116B                      ?   \n"
     ]
    },
    {
     "name": "stderr",
     "output_type": "stream",
     "text": [
      "INFO:mathsformer.selfsupervised_learning_addition_model_backend:    N97+N771-N8-451-11-N5489+65         4232       B55MMM BB55MMMB11116B                      ?   \n"
     ]
    },
    {
     "name": "stdout",
     "output_type": "stream",
     "text": [
      "   INFO print_predictions_table:   N30+111+8028-N7983+N8-N1+N366        15719       B55MMM BB55MMMB11116B                      ?   \n"
     ]
    },
    {
     "name": "stderr",
     "output_type": "stream",
     "text": [
      "INFO:mathsformer.selfsupervised_learning_addition_model_backend:  N30+111+8028-N7983+N8-N1+N366        15719       B55MMM BB55MMMB11116B                      ?   \n"
     ]
    },
    {
     "name": "stdout",
     "output_type": "stream",
     "text": [
      "   INFO print_predictions_table:  9500-1891+866-N594+4746+838...        15218       B55MMM BB55MMMB11116B                      ?   \n"
     ]
    },
    {
     "name": "stderr",
     "output_type": "stream",
     "text": [
      "INFO:mathsformer.selfsupervised_learning_addition_model_backend: 9500-1891+866-N594+4746+838...        15218       B55MMM BB55MMMB11116B                      ?   \n"
     ]
    },
    {
     "name": "stdout",
     "output_type": "stream",
     "text": [
      "   INFO print_predictions_table:     81+4585-N3-N5653-9-735-N417         9995       B55MMM BB55MMMB11116B                      ?   \n"
     ]
    },
    {
     "name": "stderr",
     "output_type": "stream",
     "text": [
      "INFO:mathsformer.selfsupervised_learning_addition_model_backend:    81+4585-N3-N5653-9-735-N417         9995       B55MMM BB55MMMB11116B                      ?   \n"
     ]
    },
    {
     "name": "stdout",
     "output_type": "stream",
     "text": [
      "   INFO print_predictions_table:  8-N156+N8451-N83+N9522+N3-5810       N23539       B55MMM BB55MMMB11116B                      ?   \n"
     ]
    },
    {
     "name": "stderr",
     "output_type": "stream",
     "text": [
      "INFO:mathsformer.selfsupervised_learning_addition_model_backend: 8-N156+N8451-N83+N9522+N3-5810       N23539       B55MMM BB55MMMB11116B                      ?   \n"
     ]
    },
    {
     "name": "stdout",
     "output_type": "stream",
     "text": [
      "   INFO print_predictions_table:        N7-N781+252+N2207-N758+7         N416       B55MMM BB55MMMB11116B                      ?   \n"
     ]
    },
    {
     "name": "stderr",
     "output_type": "stream",
     "text": [
      "INFO:mathsformer.selfsupervised_learning_addition_model_backend:       N7-N781+252+N2207-N758+7         N416       B55MMM BB55MMMB11116B                      ?   \n"
     ]
    },
    {
     "name": "stdout",
     "output_type": "stream",
     "text": [
      "   INFO print_predictions_table:    7114+96-N24-N79+N835+N5787-3          688       B55MMM BB55MMMB11116B                      ?   \n"
     ]
    },
    {
     "name": "stderr",
     "output_type": "stream",
     "text": [
      "INFO:mathsformer.selfsupervised_learning_addition_model_backend:   7114+96-N24-N79+N835+N5787-3          688       B55MMM BB55MMMB11116B                      ?   \n"
     ]
    },
    {
     "name": "stdout",
     "output_type": "stream",
     "text": [
      "   INFO print_predictions_table:          350-1776-N54+N79+60-N9        N1382       B55MMM BB55MMMB11116B                      ?   \n"
     ]
    },
    {
     "name": "stderr",
     "output_type": "stream",
     "text": [
      "INFO:mathsformer.selfsupervised_learning_addition_model_backend:         350-1776-N54+N79+60-N9        N1382       B55MMM BB55MMMB11116B                      ?   \n"
     ]
    },
    {
     "name": "stdout",
     "output_type": "stream",
     "text": [
      "   INFO print_predictions_table:     N9-5-313+N3407-4908+N8-9303       N17953       B555MM BB55MMMB11116B                      ?   \n"
     ]
    },
    {
     "name": "stderr",
     "output_type": "stream",
     "text": [
      "INFO:mathsformer.selfsupervised_learning_addition_model_backend:    N9-5-313+N3407-4908+N8-9303       N17953       B555MM BB55MMMB11116B                      ?   \n"
     ]
    },
    {
     "name": "stdout",
     "output_type": "stream",
     "text": [
      "   INFO print_predictions_table:           N599+304+N1+N974+87+9        N1174       B55MMM BB55MMMB11116B                      ?   \n"
     ]
    },
    {
     "name": "stderr",
     "output_type": "stream",
     "text": [
      "INFO:mathsformer.selfsupervised_learning_addition_model_backend:          N599+304+N1+N974+87+9        N1174       B55MMM BB55MMMB11116B                      ?   \n"
     ]
    }
   ],
   "source": [
    "##=========================================##\n",
    "##   Test transformer on data generators   ##\n",
    "##=========================================##\n",
    "\n",
    "backend.test_transformer(transformer, train_gen, val_gen, test_gen, negative_char=train_gen.negative_char)\n"
   ]
  },
  {
   "cell_type": "markdown",
   "id": "467f7a52",
   "metadata": {},
   "source": [
    "##  5.  Train model"
   ]
  },
  {
   "cell_type": "code",
   "execution_count": 16,
   "id": "aea411fe",
   "metadata": {},
   "outputs": [
    {
     "name": "stdout",
     "output_type": "stream",
     "text": [
      "   INFO get_callbacks: Registered training callback: LoggerCallback with loglvl=10\n"
     ]
    },
    {
     "name": "stderr",
     "output_type": "stream",
     "text": [
      "INFO:mathsformer.selfsupervised_learning_addition_model_backend:Registered training callback: LoggerCallback with loglvl=10\n"
     ]
    },
    {
     "name": "stdout",
     "output_type": "stream",
     "text": [
      "   INFO get_callbacks: Registered training callback: AdaptiveLearningRate with decay_factor=0.25, patience=1, monitor=loss, mode=min, log_lvl=10\n"
     ]
    },
    {
     "name": "stderr",
     "output_type": "stream",
     "text": [
      "INFO:mathsformer.selfsupervised_learning_addition_model_backend:Registered training callback: AdaptiveLearningRate with decay_factor=0.25, patience=1, monitor=loss, mode=min, log_lvl=10\n"
     ]
    },
    {
     "name": "stdout",
     "output_type": "stream",
     "text": [
      "   INFO get_callbacks: Registered training callback: ModelCheckpoint with filepath=SSL_loopy_enc_dec_notebook_int1234_num1245_embed128_enc_2blocks_4loops_width512_dec_3blocks_1loops_width512_post3_width512_idem2_2023_07_02_v4/model_checkpoint_epoch{epoch}_val_loss_{val_loss:.5}.keras\n"
     ]
    },
    {
     "name": "stderr",
     "output_type": "stream",
     "text": [
      "INFO:mathsformer.selfsupervised_learning_addition_model_backend:Registered training callback: ModelCheckpoint with filepath=SSL_loopy_enc_dec_notebook_int1234_num1245_embed128_enc_2blocks_4loops_width512_dec_3blocks_1loops_width512_post3_width512_idem2_2023_07_02_v4/model_checkpoint_epoch{epoch}_val_loss_{val_loss:.5}.keras\n"
     ]
    },
    {
     "name": "stdout",
     "output_type": "stream",
     "text": [
      "   INFO get_callbacks: Registered training callback: LambdaCallback for test_transformer with num_print=15, negative_char='N'\n"
     ]
    },
    {
     "name": "stderr",
     "output_type": "stream",
     "text": [
      "INFO:mathsformer.selfsupervised_learning_addition_model_backend:Registered training callback: LambdaCallback for test_transformer with num_print=15, negative_char='N'\n"
     ]
    },
    {
     "name": "stdout",
     "output_type": "stream",
     "text": [
      "   INFO get_callbacks: Registered training callback: StopByMetric with metric='mathsformer_LLM_output_masked_categorical_accuracy, stop_value='0.999, mode='max\n"
     ]
    },
    {
     "name": "stderr",
     "output_type": "stream",
     "text": [
      "INFO:mathsformer.selfsupervised_learning_addition_model_backend:Registered training callback: StopByMetric with metric='mathsformer_LLM_output_masked_categorical_accuracy, stop_value='0.999, mode='max\n"
     ]
    }
   ],
   "source": [
    "##===================================##\n",
    "##   Create callbacks for training   ##\n",
    "##===================================##\n",
    "\n",
    "callbacks = backend.get_callbacks(cfg_training, working_dir, transformer=transformer, train_gen=train_gen_reproducible, \n",
    "                                  val_gen=val_gen, negative_char=negative_char)\n"
   ]
  },
  {
   "cell_type": "code",
   "execution_count": null,
   "id": "21d1736d",
   "metadata": {
    "scrolled": false
   },
   "outputs": [
    {
     "name": "stdout",
     "output_type": "stream",
     "text": [
      "   INFO <module>: Begin model training with max_epochs=100000\n"
     ]
    },
    {
     "name": "stderr",
     "output_type": "stream",
     "text": [
      "INFO:mathsformer:Begin model training with max_epochs=100000\n",
      "DEBUG:mathsformer.selfsupervised_learning_addition_model_backend:Setting variable to learning_rate:0\n"
     ]
    },
    {
     "name": "stdout",
     "output_type": "stream",
     "text": [
      "Epoch 1/100000\n",
      "2000/2000 [==============================] - ETA: 0s - loss: 5.5756 - mathsformer_LLM_output_loss: 1.8579 - mathsformer_LLM_output_1_loss: 1.8582 - mathsformer_LLM_output_2_loss: 1.8595 - mathsformer_LLM_output_masked_categorical_accuracy: 0.3594 - mathsformer_LLM_output_1_masked_categorical_accuracy: 0.3591 - mathsformer_LLM_output_2_masked_categorical_accuracy: 0.3594"
     ]
    },
    {
     "name": "stderr",
     "output_type": "stream",
     "text": [
      "DEBUG:mathsformer.selfsupervised_learning_addition_model_backend:Training reached the end of epoch at index 0\n",
      "DEBUG:mathsformer.selfsupervised_learning_addition_model_backend:    with metric loss: 5.5756\n",
      "DEBUG:mathsformer.selfsupervised_learning_addition_model_backend:    with metric mathsformer_LLM_output_loss: 1.8579\n",
      "DEBUG:mathsformer.selfsupervised_learning_addition_model_backend:    with metric mathsformer_LLM_output_1_loss: 1.8582\n",
      "DEBUG:mathsformer.selfsupervised_learning_addition_model_backend:    with metric mathsformer_LLM_output_2_loss: 1.8595\n",
      "DEBUG:mathsformer.selfsupervised_learning_addition_model_backend:    with metric mathsformer_LLM_output_masked_categorical_accuracy: 0.35941\n",
      "DEBUG:mathsformer.selfsupervised_learning_addition_model_backend:    with metric mathsformer_LLM_output_1_masked_categorical_accuracy: 0.35908\n",
      "DEBUG:mathsformer.selfsupervised_learning_addition_model_backend:    with metric mathsformer_LLM_output_2_masked_categorical_accuracy: 0.35938\n",
      "DEBUG:mathsformer.selfsupervised_learning_addition_model_backend:    with metric val_loss: 5.6902\n",
      "DEBUG:mathsformer.selfsupervised_learning_addition_model_backend:    with metric val_mathsformer_LLM_output_loss: 1.8974\n",
      "DEBUG:mathsformer.selfsupervised_learning_addition_model_backend:    with metric val_mathsformer_LLM_output_1_loss: 1.8938\n",
      "DEBUG:mathsformer.selfsupervised_learning_addition_model_backend:    with metric val_mathsformer_LLM_output_2_loss: 1.899\n",
      "DEBUG:mathsformer.selfsupervised_learning_addition_model_backend:    with metric val_mathsformer_LLM_output_masked_categorical_accuracy: 0.35217\n",
      "DEBUG:mathsformer.selfsupervised_learning_addition_model_backend:    with metric val_mathsformer_LLM_output_1_masked_categorical_accuracy: 0.35106\n",
      "DEBUG:mathsformer.selfsupervised_learning_addition_model_backend:    with metric val_mathsformer_LLM_output_2_masked_categorical_accuracy: 0.35345\n",
      "DEBUG:mathsformer.selfsupervised_learning_addition_model_backend:Running text --> text mathsformer inference on some training data:\n",
      "DEBUG:mathsformer.selfsupervised_learning_addition_model_backend:---------------------------------------------------------------------------------------\n",
      "DEBUG:mathsformer.selfsupervised_learning_addition_model_backend:                 INPUT         TRUE   PRED(MASK)    PRED(GEN)      CORRECT     RESIDUAL\n",
      "DEBUG:mathsformer.selfsupervised_learning_addition_model_backend:---------------------------------------------------------------------------------------\n",
      "DEBUG:mathsformer.selfsupervised_learning_addition_model_backend:    N8097-N943+N8+5-86        N7243        N166E         N106                      7137\n",
      "DEBUG:mathsformer.selfsupervised_learning_addition_model_backend:       N9+N4-N2+N943+4         N950        N16EE          N10                       940\n",
      "DEBUG:mathsformer.selfsupervised_learning_addition_model_backend:              476+N792         N316        118EE          107                       423\n",
      "DEBUG:mathsformer.selfsupervised_learning_addition_model_backend:     2333-6-N6836+8575        17738        1067E         1067                    -16671\n",
      "DEBUG:mathsformer.selfsupervised_learning_addition_model_backend:  N6665+617+N57+61+363        N5681        N166E         N106                      5575\n",
      "DEBUG:mathsformer.selfsupervised_learning_addition_model_backend:     52-N6818+79-N5-N2         6956        N67EE         N106                     -7062\n",
      "DEBUG:mathsformer.selfsupervised_learning_addition_model_backend:                 N5+77           72        NEEEE           N1                       -73\n",
      "DEBUG:mathsformer.selfsupervised_learning_addition_model_backend: N379+N752-7+N2992-328        N4458        N166E         N106                      4352\n",
      "DEBUG:mathsformer.selfsupervised_learning_addition_model_backend:       N7+N9-1+97-7774        N7694        N16EE          N10                      7684\n",
      "DEBUG:mathsformer.selfsupervised_learning_addition_model_backend:              75+N3612        N3537        N167E         N107                      3430\n",
      "DEBUG:mathsformer.selfsupervised_learning_addition_model_backend:            N6215+N893        N7108        N187E         N107                      7001\n",
      "DEBUG:mathsformer.selfsupervised_learning_addition_model_backend:                     8            8        3EEEE            3                        -5\n",
      "DEBUG:mathsformer.selfsupervised_learning_addition_model_backend:                  N257         N257        N961E         N961                      -704\n",
      "DEBUG:mathsformer.selfsupervised_learning_addition_model_backend:    8-N39-N555-N3-6589        N5984        N167E         N106                      5878\n",
      "DEBUG:mathsformer.selfsupervised_learning_addition_model_backend:                   401          401        747EE          747                       346\n",
      "DEBUG:mathsformer.selfsupervised_learning_addition_model_backend:Running text --> text mathsformer inference on some validation data:\n",
      "DEBUG:mathsformer.selfsupervised_learning_addition_model_backend:----------------------------------------------------------------------------------\n",
      "DEBUG:mathsformer.selfsupervised_learning_addition_model_backend:            INPUT         TRUE   PRED(MASK)    PRED(GEN)      CORRECT     RESIDUAL\n",
      "DEBUG:mathsformer.selfsupervised_learning_addition_model_backend:----------------------------------------------------------------------------------\n",
      "DEBUG:mathsformer.selfsupervised_learning_addition_model_backend:     3-N3988+N847         3144        N0EEE         N107                     -3251\n",
      "DEBUG:mathsformer.selfsupervised_learning_addition_model_backend:        7797+5-N4         7806        7777E         7777                       -29\n",
      "DEBUG:mathsformer.selfsupervised_learning_addition_model_backend:     N8357-N11+N7        N8353        N187E         N101                      8252\n",
      "DEBUG:mathsformer.selfsupervised_learning_addition_model_backend:    6686-N437-236         6887        177EE         1077                     -5810\n",
      "DEBUG:mathsformer.selfsupervised_learning_addition_model_backend:        N5+4442+8         4445        N07EE         N107                     -4552\n",
      "DEBUG:mathsformer.selfsupervised_learning_addition_model_backend:      2123-N1+N68         2056        179EE          108                     -1948\n",
      "DEBUG:mathsformer.selfsupervised_learning_addition_model_backend:      95+4563+879         5537        N07EE         N107                     -5644\n",
      "DEBUG:mathsformer.selfsupervised_learning_addition_model_backend:     1639+N2868+5        N1224        1107E         1077                      2301\n",
      "DEBUG:mathsformer.selfsupervised_learning_addition_model_backend:         8+N725-3         N720        N16EE         N107                       613\n",
      "DEBUG:mathsformer.selfsupervised_learning_addition_model_backend:    N283+N962-N40        N1205        N10EE          N10                      1195\n",
      "DEBUG:mathsformer.selfsupervised_learning_addition_model_backend: N2571-N818+N7340        N9093        N166E         N106                      8987\n",
      "DEBUG:mathsformer.selfsupervised_learning_addition_model_backend:      5617-N8+N39         5586        177EE          108                     -5478\n",
      "DEBUG:mathsformer.selfsupervised_learning_addition_model_backend:     N554-N9942-7         9381        N7EEE          N10                     -9391\n",
      "DEBUG:mathsformer.selfsupervised_learning_addition_model_backend:       4-28+N9276        N9300        N16EE          N10                      9290\n",
      "DEBUG:mathsformer.selfsupervised_learning_addition_model_backend:      N250+2005+7         1762        N07EE          N10                     -1772\n"
     ]
    },
    {
     "name": "stdout",
     "output_type": "stream",
     "text": [
      "2000/2000 [==============================] - 845s 418ms/step - loss: 5.5756 - mathsformer_LLM_output_loss: 1.8579 - mathsformer_LLM_output_1_loss: 1.8582 - mathsformer_LLM_output_2_loss: 1.8595 - mathsformer_LLM_output_masked_categorical_accuracy: 0.3594 - mathsformer_LLM_output_1_masked_categorical_accuracy: 0.3591 - mathsformer_LLM_output_2_masked_categorical_accuracy: 0.3594 - val_loss: 5.6902 - val_mathsformer_LLM_output_loss: 1.8974 - val_mathsformer_LLM_output_1_loss: 1.8938 - val_mathsformer_LLM_output_2_loss: 1.8990 - val_mathsformer_LLM_output_masked_categorical_accuracy: 0.3522 - val_mathsformer_LLM_output_1_masked_categorical_accuracy: 0.3511 - val_mathsformer_LLM_output_2_masked_categorical_accuracy: 0.3535\n",
      "Epoch 2/100000\n",
      "2000/2000 [==============================] - ETA: 0s - loss: 5.1453 - mathsformer_LLM_output_loss: 1.7136 - mathsformer_LLM_output_1_loss: 1.7146 - mathsformer_LLM_output_2_loss: 1.7171 - mathsformer_LLM_output_masked_categorical_accuracy: 0.3818 - mathsformer_LLM_output_1_masked_categorical_accuracy: 0.3816 - mathsformer_LLM_output_2_masked_categorical_accuracy: 0.3812"
     ]
    },
    {
     "name": "stderr",
     "output_type": "stream",
     "text": [
      "DEBUG:mathsformer.selfsupervised_learning_addition_model_backend:Training reached the end of epoch at index 1\n",
      "DEBUG:mathsformer.selfsupervised_learning_addition_model_backend:    with metric loss: 5.1453\n",
      "DEBUG:mathsformer.selfsupervised_learning_addition_model_backend:    with metric mathsformer_LLM_output_loss: 1.7136\n",
      "DEBUG:mathsformer.selfsupervised_learning_addition_model_backend:    with metric mathsformer_LLM_output_1_loss: 1.7146\n",
      "DEBUG:mathsformer.selfsupervised_learning_addition_model_backend:    with metric mathsformer_LLM_output_2_loss: 1.7171\n",
      "DEBUG:mathsformer.selfsupervised_learning_addition_model_backend:    with metric mathsformer_LLM_output_masked_categorical_accuracy: 0.38177\n",
      "DEBUG:mathsformer.selfsupervised_learning_addition_model_backend:    with metric mathsformer_LLM_output_1_masked_categorical_accuracy: 0.38163\n",
      "DEBUG:mathsformer.selfsupervised_learning_addition_model_backend:    with metric mathsformer_LLM_output_2_masked_categorical_accuracy: 0.3812\n",
      "DEBUG:mathsformer.selfsupervised_learning_addition_model_backend:    with metric val_loss: 5.348\n",
      "DEBUG:mathsformer.selfsupervised_learning_addition_model_backend:    with metric val_mathsformer_LLM_output_loss: 1.7826\n",
      "DEBUG:mathsformer.selfsupervised_learning_addition_model_backend:    with metric val_mathsformer_LLM_output_1_loss: 1.7811\n",
      "DEBUG:mathsformer.selfsupervised_learning_addition_model_backend:    with metric val_mathsformer_LLM_output_2_loss: 1.7843\n",
      "DEBUG:mathsformer.selfsupervised_learning_addition_model_backend:    with metric val_mathsformer_LLM_output_masked_categorical_accuracy: 0.36961\n",
      "DEBUG:mathsformer.selfsupervised_learning_addition_model_backend:    with metric val_mathsformer_LLM_output_1_masked_categorical_accuracy: 0.36768\n",
      "DEBUG:mathsformer.selfsupervised_learning_addition_model_backend:    with metric val_mathsformer_LLM_output_2_masked_categorical_accuracy: 0.36866\n",
      "DEBUG:mathsformer.selfsupervised_learning_addition_model_backend:Running text --> text mathsformer inference on some training data:\n",
      "DEBUG:mathsformer.selfsupervised_learning_addition_model_backend:---------------------------------------------------------------------------------------\n",
      "DEBUG:mathsformer.selfsupervised_learning_addition_model_backend:                 INPUT         TRUE   PRED(MASK)    PRED(GEN)      CORRECT     RESIDUAL\n",
      "DEBUG:mathsformer.selfsupervised_learning_addition_model_backend:---------------------------------------------------------------------------------------\n",
      "DEBUG:mathsformer.selfsupervised_learning_addition_model_backend:    N8097-N943+N8+5-86        N7243        N8888        N8888                     -1645\n",
      "DEBUG:mathsformer.selfsupervised_learning_addition_model_backend:       N9+N4-N2+N943+4         N950        N11EE         N101                       849\n",
      "DEBUG:mathsformer.selfsupervised_learning_addition_model_backend:              476+N792         N316        N188E         N100                       216\n",
      "DEBUG:mathsformer.selfsupervised_learning_addition_model_backend:     2333-6-N6836+8575        17738        N088E        N1088                    -18826\n",
      "DEBUG:mathsformer.selfsupervised_learning_addition_model_backend:  N6665+617+N57+61+363        N5681        N1888        N1088                      4593\n",
      "DEBUG:mathsformer.selfsupervised_learning_addition_model_backend:     52-N6818+79-N5-N2         6956        N888E        N8888                    -15844\n",
      "DEBUG:mathsformer.selfsupervised_learning_addition_model_backend:                 N5+77           72        NEEEE          N10                       -82\n",
      "DEBUG:mathsformer.selfsupervised_learning_addition_model_backend: N379+N752-7+N2992-328        N4458        N188E        N1088                      3370\n",
      "DEBUG:mathsformer.selfsupervised_learning_addition_model_backend:       N7+N9-1+97-7774        N7694        N184E         N104                      7590\n",
      "DEBUG:mathsformer.selfsupervised_learning_addition_model_backend:              75+N3612        N3537        N8288        N8288                     -4751\n",
      "DEBUG:mathsformer.selfsupervised_learning_addition_model_backend:            N6215+N893        N7108        N7885        N7885                      -777\n",
      "DEBUG:mathsformer.selfsupervised_learning_addition_model_backend:                     8            8        9EEEE            9                         1\n",
      "DEBUG:mathsformer.selfsupervised_learning_addition_model_backend:                  N257         N257        N228E         N228                        29\n",
      "DEBUG:mathsformer.selfsupervised_learning_addition_model_backend:    8-N39-N555-N3-6589        N5984        N188E        N1015                      4969\n",
      "DEBUG:mathsformer.selfsupervised_learning_addition_model_backend:                   401          401        522EE          522                       121\n",
      "DEBUG:mathsformer.selfsupervised_learning_addition_model_backend:Running text --> text mathsformer inference on some validation data:\n",
      "DEBUG:mathsformer.selfsupervised_learning_addition_model_backend:----------------------------------------------------------------------------------\n",
      "DEBUG:mathsformer.selfsupervised_learning_addition_model_backend:            INPUT         TRUE   PRED(MASK)    PRED(GEN)      CORRECT     RESIDUAL\n",
      "DEBUG:mathsformer.selfsupervised_learning_addition_model_backend:----------------------------------------------------------------------------------\n",
      "DEBUG:mathsformer.selfsupervised_learning_addition_model_backend:     3-N3988+N847         3144        N888E        N1005                     -4149\n",
      "DEBUG:mathsformer.selfsupervised_learning_addition_model_backend:        7797+5-N4         7806        7882E         7885                        79\n",
      "DEBUG:mathsformer.selfsupervised_learning_addition_model_backend:     N8357-N11+N7        N8353        N7788        N7788                       565\n",
      "DEBUG:mathsformer.selfsupervised_learning_addition_model_backend:    6686-N437-236         6887        7888E         7888                      1001\n",
      "DEBUG:mathsformer.selfsupervised_learning_addition_model_backend:        N5+4442+8         4445        N222E        N8225                    -12670\n",
      "DEBUG:mathsformer.selfsupervised_learning_addition_model_backend:      2123-N1+N68         2056        2222E         2222                       166\n",
      "DEBUG:mathsformer.selfsupervised_learning_addition_model_backend:      95+4563+879         5537        N888E        N1005                     -6542\n",
      "DEBUG:mathsformer.selfsupervised_learning_addition_model_backend:     1639+N2868+5        N1224        N1088        N1088                       136\n",
      "DEBUG:mathsformer.selfsupervised_learning_addition_model_backend:         8+N725-3         N720        N181E         N101                       619\n",
      "DEBUG:mathsformer.selfsupervised_learning_addition_model_backend:    N283+N962-N40        N1205        N108E         N108                      1097\n",
      "DEBUG:mathsformer.selfsupervised_learning_addition_model_backend: N2571-N818+N7340        N9093        N1888        N1088                      8005\n",
      "DEBUG:mathsformer.selfsupervised_learning_addition_model_backend:      5617-N8+N39         5586        6222E         6222                       636\n",
      "DEBUG:mathsformer.selfsupervised_learning_addition_model_backend:     N554-N9942-7         9381        N88EE        N1088                    -10469\n",
      "DEBUG:mathsformer.selfsupervised_learning_addition_model_backend:       4-28+N9276        N9300        N1888        N1005                      8295\n",
      "DEBUG:mathsformer.selfsupervised_learning_addition_model_backend:      N250+2005+7         1762        N088E        N1008                     -2770\n"
     ]
    },
    {
     "name": "stdout",
     "output_type": "stream",
     "text": [
      "2000/2000 [==============================] - 828s 414ms/step - loss: 5.1453 - mathsformer_LLM_output_loss: 1.7136 - mathsformer_LLM_output_1_loss: 1.7146 - mathsformer_LLM_output_2_loss: 1.7171 - mathsformer_LLM_output_masked_categorical_accuracy: 0.3818 - mathsformer_LLM_output_1_masked_categorical_accuracy: 0.3816 - mathsformer_LLM_output_2_masked_categorical_accuracy: 0.3812 - val_loss: 5.3480 - val_mathsformer_LLM_output_loss: 1.7826 - val_mathsformer_LLM_output_1_loss: 1.7811 - val_mathsformer_LLM_output_2_loss: 1.7843 - val_mathsformer_LLM_output_masked_categorical_accuracy: 0.3696 - val_mathsformer_LLM_output_1_masked_categorical_accuracy: 0.3677 - val_mathsformer_LLM_output_2_masked_categorical_accuracy: 0.3687\n",
      "Epoch 3/100000\n",
      "2000/2000 [==============================] - ETA: 0s - loss: 4.5224 - mathsformer_LLM_output_loss: 1.5035 - mathsformer_LLM_output_1_loss: 1.5057 - mathsformer_LLM_output_2_loss: 1.5131 - mathsformer_LLM_output_masked_categorical_accuracy: 0.4576 - mathsformer_LLM_output_1_masked_categorical_accuracy: 0.4561 - mathsformer_LLM_output_2_masked_categorical_accuracy: 0.4533"
     ]
    },
    {
     "name": "stderr",
     "output_type": "stream",
     "text": [
      "DEBUG:mathsformer.selfsupervised_learning_addition_model_backend:Training reached the end of epoch at index 2\n",
      "DEBUG:mathsformer.selfsupervised_learning_addition_model_backend:    with metric loss: 4.5224\n",
      "DEBUG:mathsformer.selfsupervised_learning_addition_model_backend:    with metric mathsformer_LLM_output_loss: 1.5035\n",
      "DEBUG:mathsformer.selfsupervised_learning_addition_model_backend:    with metric mathsformer_LLM_output_1_loss: 1.5057\n",
      "DEBUG:mathsformer.selfsupervised_learning_addition_model_backend:    with metric mathsformer_LLM_output_2_loss: 1.5131\n",
      "DEBUG:mathsformer.selfsupervised_learning_addition_model_backend:    with metric mathsformer_LLM_output_masked_categorical_accuracy: 0.45756\n",
      "DEBUG:mathsformer.selfsupervised_learning_addition_model_backend:    with metric mathsformer_LLM_output_1_masked_categorical_accuracy: 0.45614\n",
      "DEBUG:mathsformer.selfsupervised_learning_addition_model_backend:    with metric mathsformer_LLM_output_2_masked_categorical_accuracy: 0.45326\n",
      "DEBUG:mathsformer.selfsupervised_learning_addition_model_backend:    with metric val_loss: 5.2289\n",
      "DEBUG:mathsformer.selfsupervised_learning_addition_model_backend:    with metric val_mathsformer_LLM_output_loss: 1.7459\n",
      "DEBUG:mathsformer.selfsupervised_learning_addition_model_backend:    with metric val_mathsformer_LLM_output_1_loss: 1.7404\n",
      "DEBUG:mathsformer.selfsupervised_learning_addition_model_backend:    with metric val_mathsformer_LLM_output_2_loss: 1.7426\n",
      "DEBUG:mathsformer.selfsupervised_learning_addition_model_backend:    with metric val_mathsformer_LLM_output_masked_categorical_accuracy: 0.38\n",
      "DEBUG:mathsformer.selfsupervised_learning_addition_model_backend:    with metric val_mathsformer_LLM_output_1_masked_categorical_accuracy: 0.38095\n",
      "DEBUG:mathsformer.selfsupervised_learning_addition_model_backend:    with metric val_mathsformer_LLM_output_2_masked_categorical_accuracy: 0.38225\n",
      "DEBUG:mathsformer.selfsupervised_learning_addition_model_backend:Running text --> text mathsformer inference on some training data:\n",
      "DEBUG:mathsformer.selfsupervised_learning_addition_model_backend:---------------------------------------------------------------------------------------\n",
      "DEBUG:mathsformer.selfsupervised_learning_addition_model_backend:                 INPUT         TRUE   PRED(MASK)    PRED(GEN)      CORRECT     RESIDUAL\n",
      "DEBUG:mathsformer.selfsupervised_learning_addition_model_backend:---------------------------------------------------------------------------------------\n",
      "DEBUG:mathsformer.selfsupervised_learning_addition_model_backend:    N8097-N943+N8+5-86        N7243        N8199        N8999                     -1756\n",
      "DEBUG:mathsformer.selfsupervised_learning_addition_model_backend:       N9+N4-N2+N943+4         N950        N11EE          N10                       940\n",
      "DEBUG:mathsformer.selfsupervised_learning_addition_model_backend:              476+N792         N316        N117E         N101                       215\n",
      "DEBUG:mathsformer.selfsupervised_learning_addition_model_backend:     2333-6-N6836+8575        17738        N119E        N1111                    -18849\n",
      "DEBUG:mathsformer.selfsupervised_learning_addition_model_backend:  N6665+617+N57+61+363        N5681        N1199       N10111                     -4430\n",
      "DEBUG:mathsformer.selfsupervised_learning_addition_model_backend:     52-N6818+79-N5-N2         6956        N191E        N1011                     -7967\n",
      "DEBUG:mathsformer.selfsupervised_learning_addition_model_backend:                 N5+77           72        N6EEE          N10                       -82\n",
      "DEBUG:mathsformer.selfsupervised_learning_addition_model_backend: N379+N752-7+N2992-328        N4458        N119E        N1011                      3447\n",
      "DEBUG:mathsformer.selfsupervised_learning_addition_model_backend:       N7+N9-1+97-7774        N7694        N119E         N101                      7593\n",
      "DEBUG:mathsformer.selfsupervised_learning_addition_model_backend:              75+N3612        N3537        N8799         N879                      2658\n",
      "DEBUG:mathsformer.selfsupervised_learning_addition_model_backend:            N6215+N893        N7108        N6111        N6119                       989\n",
      "DEBUG:mathsformer.selfsupervised_learning_addition_model_backend:                     8            8        8EEEE            8          X              0\n",
      "DEBUG:mathsformer.selfsupervised_learning_addition_model_backend:                  N257         N257        N257E         N257          X              0\n",
      "DEBUG:mathsformer.selfsupervised_learning_addition_model_backend:    8-N39-N555-N3-6589        N5984        N119E         N111                      5873\n",
      "DEBUG:mathsformer.selfsupervised_learning_addition_model_backend:                   401          401        451EE          451                        50\n",
      "DEBUG:mathsformer.selfsupervised_learning_addition_model_backend:Running text --> text mathsformer inference on some validation data:\n",
      "DEBUG:mathsformer.selfsupervised_learning_addition_model_backend:----------------------------------------------------------------------------------\n",
      "DEBUG:mathsformer.selfsupervised_learning_addition_model_backend:            INPUT         TRUE   PRED(MASK)    PRED(GEN)      CORRECT     RESIDUAL\n",
      "DEBUG:mathsformer.selfsupervised_learning_addition_model_backend:----------------------------------------------------------------------------------\n",
      "DEBUG:mathsformer.selfsupervised_learning_addition_model_backend:     3-N3988+N847         3144        N711E        N1011                     -4155\n",
      "DEBUG:mathsformer.selfsupervised_learning_addition_model_backend:        7797+5-N4         7806        7799E         7799                        -7\n",
      "DEBUG:mathsformer.selfsupervised_learning_addition_model_backend:     N8357-N11+N7        N8353        N8177        N8177                       176\n",
      "DEBUG:mathsformer.selfsupervised_learning_addition_model_backend:    6686-N437-236         6887        6199E         6119                      -768\n",
      "DEBUG:mathsformer.selfsupervised_learning_addition_model_backend:        N5+4442+8         4445        N199E        N7197                    -11642\n",
      "DEBUG:mathsformer.selfsupervised_learning_addition_model_backend:      2123-N1+N68         2056        1119E         1111                      -945\n",
      "DEBUG:mathsformer.selfsupervised_learning_addition_model_backend:      95+4563+879         5537        N791E        N1011                     -6548\n",
      "DEBUG:mathsformer.selfsupervised_learning_addition_model_backend:     1639+N2868+5        N1224        N1011        N1011                       213\n",
      "DEBUG:mathsformer.selfsupervised_learning_addition_model_backend:         8+N725-3         N720        N99EE          N99                       621\n",
      "DEBUG:mathsformer.selfsupervised_learning_addition_model_backend:    N283+N962-N40        N1205        N101E         N101                      1104\n",
      "DEBUG:mathsformer.selfsupervised_learning_addition_model_backend: N2571-N818+N7340        N9093        N119E        N1011                      8082\n",
      "DEBUG:mathsformer.selfsupervised_learning_addition_model_backend:      5617-N8+N39         5586        5719E         5719                       133\n",
      "DEBUG:mathsformer.selfsupervised_learning_addition_model_backend:     N554-N9942-7         9381        N19EE        N1011                    -10392\n",
      "DEBUG:mathsformer.selfsupervised_learning_addition_model_backend:       4-28+N9276        N9300        N1791        N1011                      8289\n",
      "DEBUG:mathsformer.selfsupervised_learning_addition_model_backend:      N250+2005+7         1762        N191E        N1011                     -2773\n"
     ]
    },
    {
     "name": "stdout",
     "output_type": "stream",
     "text": [
      "2000/2000 [==============================] - 845s 423ms/step - loss: 4.5224 - mathsformer_LLM_output_loss: 1.5035 - mathsformer_LLM_output_1_loss: 1.5057 - mathsformer_LLM_output_2_loss: 1.5131 - mathsformer_LLM_output_masked_categorical_accuracy: 0.4576 - mathsformer_LLM_output_1_masked_categorical_accuracy: 0.4561 - mathsformer_LLM_output_2_masked_categorical_accuracy: 0.4533 - val_loss: 5.2289 - val_mathsformer_LLM_output_loss: 1.7459 - val_mathsformer_LLM_output_1_loss: 1.7404 - val_mathsformer_LLM_output_2_loss: 1.7426 - val_mathsformer_LLM_output_masked_categorical_accuracy: 0.3800 - val_mathsformer_LLM_output_1_masked_categorical_accuracy: 0.3810 - val_mathsformer_LLM_output_2_masked_categorical_accuracy: 0.3823\n",
      "Epoch 4/100000\n",
      "2000/2000 [==============================] - ETA: 0s - loss: 4.1553 - mathsformer_LLM_output_loss: 1.3821 - mathsformer_LLM_output_1_loss: 1.3833 - mathsformer_LLM_output_2_loss: 1.3898 - mathsformer_LLM_output_masked_categorical_accuracy: 0.5043 - mathsformer_LLM_output_1_masked_categorical_accuracy: 0.5038 - mathsformer_LLM_output_2_masked_categorical_accuracy: 0.5008"
     ]
    },
    {
     "name": "stderr",
     "output_type": "stream",
     "text": [
      "DEBUG:mathsformer.selfsupervised_learning_addition_model_backend:Training reached the end of epoch at index 3\n",
      "DEBUG:mathsformer.selfsupervised_learning_addition_model_backend:    with metric loss: 4.1553\n",
      "DEBUG:mathsformer.selfsupervised_learning_addition_model_backend:    with metric mathsformer_LLM_output_loss: 1.3821\n",
      "DEBUG:mathsformer.selfsupervised_learning_addition_model_backend:    with metric mathsformer_LLM_output_1_loss: 1.3833\n",
      "DEBUG:mathsformer.selfsupervised_learning_addition_model_backend:    with metric mathsformer_LLM_output_2_loss: 1.3898\n",
      "DEBUG:mathsformer.selfsupervised_learning_addition_model_backend:    with metric mathsformer_LLM_output_masked_categorical_accuracy: 0.50426\n",
      "DEBUG:mathsformer.selfsupervised_learning_addition_model_backend:    with metric mathsformer_LLM_output_1_masked_categorical_accuracy: 0.50383\n",
      "DEBUG:mathsformer.selfsupervised_learning_addition_model_backend:    with metric mathsformer_LLM_output_2_masked_categorical_accuracy: 0.50075\n",
      "DEBUG:mathsformer.selfsupervised_learning_addition_model_backend:    with metric val_loss: 5.1772\n",
      "DEBUG:mathsformer.selfsupervised_learning_addition_model_backend:    with metric val_mathsformer_LLM_output_loss: 1.7225\n",
      "DEBUG:mathsformer.selfsupervised_learning_addition_model_backend:    with metric val_mathsformer_LLM_output_1_loss: 1.7218\n",
      "DEBUG:mathsformer.selfsupervised_learning_addition_model_backend:    with metric val_mathsformer_LLM_output_2_loss: 1.733\n",
      "DEBUG:mathsformer.selfsupervised_learning_addition_model_backend:    with metric val_mathsformer_LLM_output_masked_categorical_accuracy: 0.38812\n",
      "DEBUG:mathsformer.selfsupervised_learning_addition_model_backend:    with metric val_mathsformer_LLM_output_1_masked_categorical_accuracy: 0.3864\n",
      "DEBUG:mathsformer.selfsupervised_learning_addition_model_backend:    with metric val_mathsformer_LLM_output_2_masked_categorical_accuracy: 0.385\n",
      "DEBUG:mathsformer.selfsupervised_learning_addition_model_backend:Running text --> text mathsformer inference on some training data:\n",
      "DEBUG:mathsformer.selfsupervised_learning_addition_model_backend:---------------------------------------------------------------------------------------\n",
      "DEBUG:mathsformer.selfsupervised_learning_addition_model_backend:                 INPUT         TRUE   PRED(MASK)    PRED(GEN)      CORRECT     RESIDUAL\n",
      "DEBUG:mathsformer.selfsupervised_learning_addition_model_backend:---------------------------------------------------------------------------------------\n",
      "DEBUG:mathsformer.selfsupervised_learning_addition_model_backend:    N8097-N943+N8+5-86        N7243        N8595        N8595                     -1352\n",
      "DEBUG:mathsformer.selfsupervised_learning_addition_model_backend:       N9+N4-N2+N943+4         N950        N10EE          N10                       940\n",
      "DEBUG:mathsformer.selfsupervised_learning_addition_model_backend:              476+N792         N316        112EE          110                       426\n",
      "DEBUG:mathsformer.selfsupervised_learning_addition_model_backend:     2333-6-N6836+8575        17738        N122E        N1022                    -18760\n",
      "DEBUG:mathsformer.selfsupervised_learning_addition_model_backend:  N6665+617+N57+61+363        N5681        N1099       N10009                     -4328\n",
      "DEBUG:mathsformer.selfsupervised_learning_addition_model_backend:     52-N6818+79-N5-N2         6956        N535E        N6008                    -12964\n",
      "DEBUG:mathsformer.selfsupervised_learning_addition_model_backend:                 N5+77           72        N0EEE          N70                      -142\n",
      "DEBUG:mathsformer.selfsupervised_learning_addition_model_backend: N379+N752-7+N2992-328        N4458        N118E        N1002                      3456\n",
      "DEBUG:mathsformer.selfsupervised_learning_addition_model_backend:       N7+N9-1+97-7774        N7694        N102E         N100                      7594\n",
      "DEBUG:mathsformer.selfsupervised_learning_addition_model_backend:              75+N3612        N3537        N330E         N330                      3207\n",
      "DEBUG:mathsformer.selfsupervised_learning_addition_model_backend:            N6215+N893        N7108        N6200        N6205                       903\n",
      "DEBUG:mathsformer.selfsupervised_learning_addition_model_backend:                     8            8        8EE9E            8          X              0\n",
      "DEBUG:mathsformer.selfsupervised_learning_addition_model_backend:                  N257         N257        N257E         N257          X              0\n",
      "DEBUG:mathsformer.selfsupervised_learning_addition_model_backend:    8-N39-N555-N3-6589        N5984        N102E         N102                      5882\n",
      "DEBUG:mathsformer.selfsupervised_learning_addition_model_backend:                   401          401        401EE          401          X              0\n",
      "DEBUG:mathsformer.selfsupervised_learning_addition_model_backend:Running text --> text mathsformer inference on some validation data:\n",
      "DEBUG:mathsformer.selfsupervised_learning_addition_model_backend:----------------------------------------------------------------------------------\n",
      "DEBUG:mathsformer.selfsupervised_learning_addition_model_backend:            INPUT         TRUE   PRED(MASK)    PRED(GEN)      CORRECT     RESIDUAL\n",
      "DEBUG:mathsformer.selfsupervised_learning_addition_model_backend:----------------------------------------------------------------------------------\n",
      "DEBUG:mathsformer.selfsupervised_learning_addition_model_backend:     3-N3988+N847         3144        N029E        N1000                     -4144\n",
      "DEBUG:mathsformer.selfsupervised_learning_addition_model_backend:        7797+5-N4         7806        7709E         7709                       -97\n",
      "DEBUG:mathsformer.selfsupervised_learning_addition_model_backend:     N8357-N11+N7        N8353        N8355        N8355                        -2\n",
      "DEBUG:mathsformer.selfsupervised_learning_addition_model_backend:    6686-N437-236         6887        7259E         7259                       372\n",
      "DEBUG:mathsformer.selfsupervised_learning_addition_model_backend:        N5+4442+8         4445        N335E        N4008                     -8453\n",
      "DEBUG:mathsformer.selfsupervised_learning_addition_model_backend:      2123-N1+N68         2056        2100E         2100                        44\n",
      "DEBUG:mathsformer.selfsupervised_learning_addition_model_backend:      95+4563+879         5537        N559E        N1000                     -6537\n",
      "DEBUG:mathsformer.selfsupervised_learning_addition_model_backend:     1639+N2868+5        N1224        N1009        N1009                       215\n",
      "DEBUG:mathsformer.selfsupervised_learning_addition_model_backend:         8+N725-3         N720        N80EE          N80                       640\n",
      "DEBUG:mathsformer.selfsupervised_learning_addition_model_backend:    N283+N962-N40        N1205        N100E         N100                      1105\n",
      "DEBUG:mathsformer.selfsupervised_learning_addition_model_backend: N2571-N818+N7340        N9093        N1558        N1002                      8091\n",
      "DEBUG:mathsformer.selfsupervised_learning_addition_model_backend:      5617-N8+N39         5586        6509E         6509                       923\n",
      "DEBUG:mathsformer.selfsupervised_learning_addition_model_backend:     N554-N9942-7         9381        N558E        N1000                    -10381\n",
      "DEBUG:mathsformer.selfsupervised_learning_addition_model_backend:       4-28+N9276        N9300        N8308        N8308                       992\n",
      "DEBUG:mathsformer.selfsupervised_learning_addition_model_backend:      N250+2005+7         1762        N02EE        N1009                     -2771\n"
     ]
    },
    {
     "name": "stdout",
     "output_type": "stream",
     "text": [
      "2000/2000 [==============================] - 855s 427ms/step - loss: 4.1553 - mathsformer_LLM_output_loss: 1.3821 - mathsformer_LLM_output_1_loss: 1.3833 - mathsformer_LLM_output_2_loss: 1.3898 - mathsformer_LLM_output_masked_categorical_accuracy: 0.5043 - mathsformer_LLM_output_1_masked_categorical_accuracy: 0.5038 - mathsformer_LLM_output_2_masked_categorical_accuracy: 0.5008 - val_loss: 5.1772 - val_mathsformer_LLM_output_loss: 1.7225 - val_mathsformer_LLM_output_1_loss: 1.7218 - val_mathsformer_LLM_output_2_loss: 1.7330 - val_mathsformer_LLM_output_masked_categorical_accuracy: 0.3881 - val_mathsformer_LLM_output_1_masked_categorical_accuracy: 0.3864 - val_mathsformer_LLM_output_2_masked_categorical_accuracy: 0.3850\n",
      "Epoch 5/100000\n",
      "2000/2000 [==============================] - ETA: 0s - loss: 3.9811 - mathsformer_LLM_output_loss: 1.3243 - mathsformer_LLM_output_1_loss: 1.3249 - mathsformer_LLM_output_2_loss: 1.3319 - mathsformer_LLM_output_masked_categorical_accuracy: 0.5200 - mathsformer_LLM_output_1_masked_categorical_accuracy: 0.5189 - mathsformer_LLM_output_2_masked_categorical_accuracy: 0.5160"
     ]
    },
    {
     "name": "stderr",
     "output_type": "stream",
     "text": [
      "DEBUG:mathsformer.selfsupervised_learning_addition_model_backend:Training reached the end of epoch at index 4\n",
      "DEBUG:mathsformer.selfsupervised_learning_addition_model_backend:    with metric loss: 3.9811\n",
      "DEBUG:mathsformer.selfsupervised_learning_addition_model_backend:    with metric mathsformer_LLM_output_loss: 1.3243\n",
      "DEBUG:mathsformer.selfsupervised_learning_addition_model_backend:    with metric mathsformer_LLM_output_1_loss: 1.3249\n",
      "DEBUG:mathsformer.selfsupervised_learning_addition_model_backend:    with metric mathsformer_LLM_output_2_loss: 1.3319\n",
      "DEBUG:mathsformer.selfsupervised_learning_addition_model_backend:    with metric mathsformer_LLM_output_masked_categorical_accuracy: 0.51996\n",
      "DEBUG:mathsformer.selfsupervised_learning_addition_model_backend:    with metric mathsformer_LLM_output_1_masked_categorical_accuracy: 0.51892\n",
      "DEBUG:mathsformer.selfsupervised_learning_addition_model_backend:    with metric mathsformer_LLM_output_2_masked_categorical_accuracy: 0.51597\n",
      "DEBUG:mathsformer.selfsupervised_learning_addition_model_backend:    with metric val_loss: 4.9475\n",
      "DEBUG:mathsformer.selfsupervised_learning_addition_model_backend:    with metric val_mathsformer_LLM_output_loss: 1.6511\n",
      "DEBUG:mathsformer.selfsupervised_learning_addition_model_backend:    with metric val_mathsformer_LLM_output_1_loss: 1.6475\n",
      "DEBUG:mathsformer.selfsupervised_learning_addition_model_backend:    with metric val_mathsformer_LLM_output_2_loss: 1.6489\n",
      "DEBUG:mathsformer.selfsupervised_learning_addition_model_backend:    with metric val_mathsformer_LLM_output_masked_categorical_accuracy: 0.40119\n",
      "DEBUG:mathsformer.selfsupervised_learning_addition_model_backend:    with metric val_mathsformer_LLM_output_1_masked_categorical_accuracy: 0.40164\n",
      "DEBUG:mathsformer.selfsupervised_learning_addition_model_backend:    with metric val_mathsformer_LLM_output_2_masked_categorical_accuracy: 0.40086\n",
      "DEBUG:mathsformer.selfsupervised_learning_addition_model_backend:Running text --> text mathsformer inference on some training data:\n",
      "DEBUG:mathsformer.selfsupervised_learning_addition_model_backend:---------------------------------------------------------------------------------------\n",
      "DEBUG:mathsformer.selfsupervised_learning_addition_model_backend:                 INPUT         TRUE   PRED(MASK)    PRED(GEN)      CORRECT     RESIDUAL\n",
      "DEBUG:mathsformer.selfsupervised_learning_addition_model_backend:---------------------------------------------------------------------------------------\n",
      "DEBUG:mathsformer.selfsupervised_learning_addition_model_backend:    N8097-N943+N8+5-86        N7243        N8888        N8888                     -1645\n",
      "DEBUG:mathsformer.selfsupervised_learning_addition_model_backend:       N9+N4-N2+N943+4         N950        N1EEE          N10                       940\n",
      "DEBUG:mathsformer.selfsupervised_learning_addition_model_backend:              476+N792         N316        N181E         N101                       215\n",
      "DEBUG:mathsformer.selfsupervised_learning_addition_model_backend:     2333-6-N6836+8575        17738        N011E        N1001                    -18739\n",
      "DEBUG:mathsformer.selfsupervised_learning_addition_model_backend:  N6665+617+N57+61+363        N5681        N6888        N6888                     -1207\n",
      "DEBUG:mathsformer.selfsupervised_learning_addition_model_backend:     52-N6818+79-N5-N2         6956        N111E        N6981                    -13937\n",
      "DEBUG:mathsformer.selfsupervised_learning_addition_model_backend:                 N5+77           72        N1EEE          N78                      -150\n",
      "DEBUG:mathsformer.selfsupervised_learning_addition_model_backend: N379+N752-7+N2992-328        N4458        N1811        N1008                      3450\n",
      "DEBUG:mathsformer.selfsupervised_learning_addition_model_backend:       N7+N9-1+97-7774        N7694        N1811        N1000                      6694\n",
      "DEBUG:mathsformer.selfsupervised_learning_addition_model_backend:              75+N3612        N3537        N3111        N3111                       426\n",
      "DEBUG:mathsformer.selfsupervised_learning_addition_model_backend:            N6215+N893        N7108        N6118        N6118                       990\n",
      "DEBUG:mathsformer.selfsupervised_learning_addition_model_backend:                     8            8        8EE9E            8          X              0\n",
      "DEBUG:mathsformer.selfsupervised_learning_addition_model_backend:                  N257         N257        N257E         N257          X              0\n",
      "DEBUG:mathsformer.selfsupervised_learning_addition_model_backend:    8-N39-N555-N3-6589        N5984        N111E        N1011                      4973\n",
      "DEBUG:mathsformer.selfsupervised_learning_addition_model_backend:                   401          401        401EE          401          X              0\n",
      "DEBUG:mathsformer.selfsupervised_learning_addition_model_backend:Running text --> text mathsformer inference on some validation data:\n",
      "DEBUG:mathsformer.selfsupervised_learning_addition_model_backend:----------------------------------------------------------------------------------\n",
      "DEBUG:mathsformer.selfsupervised_learning_addition_model_backend:            INPUT         TRUE   PRED(MASK)    PRED(GEN)      CORRECT     RESIDUAL\n",
      "DEBUG:mathsformer.selfsupervised_learning_addition_model_backend:----------------------------------------------------------------------------------\n",
      "DEBUG:mathsformer.selfsupervised_learning_addition_model_backend:     3-N3988+N847         3144        N881E        N1008                     -4152\n",
      "DEBUG:mathsformer.selfsupervised_learning_addition_model_backend:        7797+5-N4         7806        7791E         7791                       -15\n",
      "DEBUG:mathsformer.selfsupervised_learning_addition_model_backend:     N8357-N11+N7        N8353        N8311        N8318                        35\n",
      "DEBUG:mathsformer.selfsupervised_learning_addition_model_backend:    6686-N437-236         6887        1111E        10011                      3124\n",
      "DEBUG:mathsformer.selfsupervised_learning_addition_model_backend:        N5+4442+8         4445        N111E        N4111                     -8556\n",
      "DEBUG:mathsformer.selfsupervised_learning_addition_model_backend:      2123-N1+N68         2056        1118E         1118                      -938\n",
      "DEBUG:mathsformer.selfsupervised_learning_addition_model_backend:      95+4563+879         5537        N111E        N4888                    -10425\n",
      "DEBUG:mathsformer.selfsupervised_learning_addition_model_backend:     1639+N2868+5        N1224        N1015        N1011                       213\n",
      "DEBUG:mathsformer.selfsupervised_learning_addition_model_backend:         8+N725-3         N720        N61EE          N61                       659\n",
      "DEBUG:mathsformer.selfsupervised_learning_addition_model_backend:    N283+N962-N40        N1205        N1000        N1000                       205\n",
      "DEBUG:mathsformer.selfsupervised_learning_addition_model_backend: N2571-N818+N7340        N9093        N1111        N1081                      8012\n",
      "DEBUG:mathsformer.selfsupervised_learning_addition_model_backend:      5617-N8+N39         5586        5611E         5611                        25\n",
      "DEBUG:mathsformer.selfsupervised_learning_addition_model_backend:     N554-N9942-7         9381        N811E        N9188                    -18569\n",
      "DEBUG:mathsformer.selfsupervised_learning_addition_model_backend:       4-28+N9276        N9300        99188         9811                     19111\n",
      "DEBUG:mathsformer.selfsupervised_learning_addition_model_backend:      N250+2005+7         1762        N011E        N4118                     -5880\n"
     ]
    },
    {
     "name": "stdout",
     "output_type": "stream",
     "text": [
      "2000/2000 [==============================] - 854s 427ms/step - loss: 3.9811 - mathsformer_LLM_output_loss: 1.3243 - mathsformer_LLM_output_1_loss: 1.3249 - mathsformer_LLM_output_2_loss: 1.3319 - mathsformer_LLM_output_masked_categorical_accuracy: 0.5200 - mathsformer_LLM_output_1_masked_categorical_accuracy: 0.5189 - mathsformer_LLM_output_2_masked_categorical_accuracy: 0.5160 - val_loss: 4.9475 - val_mathsformer_LLM_output_loss: 1.6511 - val_mathsformer_LLM_output_1_loss: 1.6475 - val_mathsformer_LLM_output_2_loss: 1.6489 - val_mathsformer_LLM_output_masked_categorical_accuracy: 0.4012 - val_mathsformer_LLM_output_1_masked_categorical_accuracy: 0.4016 - val_mathsformer_LLM_output_2_masked_categorical_accuracy: 0.4009\n",
      "Epoch 6/100000\n",
      "2000/2000 [==============================] - ETA: 0s - loss: 3.9005 - mathsformer_LLM_output_loss: 1.2976 - mathsformer_LLM_output_1_loss: 1.2979 - mathsformer_LLM_output_2_loss: 1.3049 - mathsformer_LLM_output_masked_categorical_accuracy: 0.5245 - mathsformer_LLM_output_1_masked_categorical_accuracy: 0.5240 - mathsformer_LLM_output_2_masked_categorical_accuracy: 0.5220"
     ]
    },
    {
     "name": "stderr",
     "output_type": "stream",
     "text": [
      "DEBUG:mathsformer.selfsupervised_learning_addition_model_backend:Training reached the end of epoch at index 5\n",
      "DEBUG:mathsformer.selfsupervised_learning_addition_model_backend:    with metric loss: 3.9005\n",
      "DEBUG:mathsformer.selfsupervised_learning_addition_model_backend:    with metric mathsformer_LLM_output_loss: 1.2976\n",
      "DEBUG:mathsformer.selfsupervised_learning_addition_model_backend:    with metric mathsformer_LLM_output_1_loss: 1.2979\n",
      "DEBUG:mathsformer.selfsupervised_learning_addition_model_backend:    with metric mathsformer_LLM_output_2_loss: 1.3049\n",
      "DEBUG:mathsformer.selfsupervised_learning_addition_model_backend:    with metric mathsformer_LLM_output_masked_categorical_accuracy: 0.52453\n",
      "DEBUG:mathsformer.selfsupervised_learning_addition_model_backend:    with metric mathsformer_LLM_output_1_masked_categorical_accuracy: 0.52401\n",
      "DEBUG:mathsformer.selfsupervised_learning_addition_model_backend:    with metric mathsformer_LLM_output_2_masked_categorical_accuracy: 0.52199\n",
      "DEBUG:mathsformer.selfsupervised_learning_addition_model_backend:    with metric val_loss: 4.8037\n",
      "DEBUG:mathsformer.selfsupervised_learning_addition_model_backend:    with metric val_mathsformer_LLM_output_loss: 1.6018\n",
      "DEBUG:mathsformer.selfsupervised_learning_addition_model_backend:    with metric val_mathsformer_LLM_output_1_loss: 1.5989\n",
      "DEBUG:mathsformer.selfsupervised_learning_addition_model_backend:    with metric val_mathsformer_LLM_output_2_loss: 1.603\n",
      "DEBUG:mathsformer.selfsupervised_learning_addition_model_backend:    with metric val_mathsformer_LLM_output_masked_categorical_accuracy: 0.4128\n",
      "DEBUG:mathsformer.selfsupervised_learning_addition_model_backend:    with metric val_mathsformer_LLM_output_1_masked_categorical_accuracy: 0.41499\n",
      "DEBUG:mathsformer.selfsupervised_learning_addition_model_backend:    with metric val_mathsformer_LLM_output_2_masked_categorical_accuracy: 0.4134\n",
      "DEBUG:mathsformer.selfsupervised_learning_addition_model_backend:Running text --> text mathsformer inference on some training data:\n",
      "DEBUG:mathsformer.selfsupervised_learning_addition_model_backend:---------------------------------------------------------------------------------------\n",
      "DEBUG:mathsformer.selfsupervised_learning_addition_model_backend:                 INPUT         TRUE   PRED(MASK)    PRED(GEN)      CORRECT     RESIDUAL\n",
      "DEBUG:mathsformer.selfsupervised_learning_addition_model_backend:---------------------------------------------------------------------------------------\n",
      "DEBUG:mathsformer.selfsupervised_learning_addition_model_backend:    N8097-N943+N8+5-86        N7243        N8768        N8168                      -925\n",
      "DEBUG:mathsformer.selfsupervised_learning_addition_model_backend:       N9+N4-N2+N943+4         N950        N10EE         N100                       850\n",
      "DEBUG:mathsformer.selfsupervised_learning_addition_model_backend:              476+N792         N316        N106E         N100                       216\n",
      "DEBUG:mathsformer.selfsupervised_learning_addition_model_backend:     2333-6-N6836+8575        17738        N016E        N1016                    -18754\n",
      "DEBUG:mathsformer.selfsupervised_learning_addition_model_backend:  N6665+617+N57+61+363        N5681        N1166       N10667                     -4986\n",
      "DEBUG:mathsformer.selfsupervised_learning_addition_model_backend:     52-N6818+79-N5-N2         6956        N777E        N6777                    -13733\n",
      "DEBUG:mathsformer.selfsupervised_learning_addition_model_backend:                 N5+77           72        N7EEE          N76                      -148\n",
      "DEBUG:mathsformer.selfsupervised_learning_addition_model_backend: N379+N752-7+N2992-328        N4458        N1166        N1006                      3452\n",
      "DEBUG:mathsformer.selfsupervised_learning_addition_model_backend:       N7+N9-1+97-7774        N7694        N7766        N7766                       -72\n",
      "DEBUG:mathsformer.selfsupervised_learning_addition_model_backend:              75+N3612        N3537        N3778        N3778                      -241\n",
      "DEBUG:mathsformer.selfsupervised_learning_addition_model_backend:            N6215+N893        N7108        N6778        N6778                       330\n",
      "DEBUG:mathsformer.selfsupervised_learning_addition_model_backend:                     8            8        8EE9E            8          X              0\n",
      "DEBUG:mathsformer.selfsupervised_learning_addition_model_backend:                  N257         N257        N257E         N257          X              0\n",
      "DEBUG:mathsformer.selfsupervised_learning_addition_model_backend:    8-N39-N555-N3-6589        N5984        N116E        N1006                      4978\n",
      "DEBUG:mathsformer.selfsupervised_learning_addition_model_backend:                   401          401        401EE          401          X              0\n",
      "DEBUG:mathsformer.selfsupervised_learning_addition_model_backend:Running text --> text mathsformer inference on some validation data:\n",
      "DEBUG:mathsformer.selfsupervised_learning_addition_model_backend:----------------------------------------------------------------------------------\n",
      "DEBUG:mathsformer.selfsupervised_learning_addition_model_backend:            INPUT         TRUE   PRED(MASK)    PRED(GEN)      CORRECT     RESIDUAL\n",
      "DEBUG:mathsformer.selfsupervised_learning_addition_model_backend:----------------------------------------------------------------------------------\n",
      "DEBUG:mathsformer.selfsupervised_learning_addition_model_backend:     3-N3988+N847         3144        N977E        N3978                     -7122\n",
      "DEBUG:mathsformer.selfsupervised_learning_addition_model_backend:        7797+5-N4         7806        7797E         7797                        -9\n",
      "DEBUG:mathsformer.selfsupervised_learning_addition_model_backend:     N8357-N11+N7        N8353        N8377        N8377                       -24\n",
      "DEBUG:mathsformer.selfsupervised_learning_addition_model_backend:    6686-N437-236         6887        7118E         7108                       221\n",
      "DEBUG:mathsformer.selfsupervised_learning_addition_model_backend:        N5+4442+8         4445        N478E        N4478                     -8923\n",
      "DEBUG:mathsformer.selfsupervised_learning_addition_model_backend:      2123-N1+N68         2056        2278E         2278                       222\n",
      "DEBUG:mathsformer.selfsupervised_learning_addition_model_backend:      95+4563+879         5537        N778E        N4778                    -10315\n",
      "DEBUG:mathsformer.selfsupervised_learning_addition_model_backend:     1639+N2868+5        N1224        N1166        N1116                       108\n",
      "DEBUG:mathsformer.selfsupervised_learning_addition_model_backend:         8+N725-3         N720        N71EE          N71                       649\n",
      "DEBUG:mathsformer.selfsupervised_learning_addition_model_backend:    N283+N962-N40        N1205        N1000        N1000                       205\n",
      "DEBUG:mathsformer.selfsupervised_learning_addition_model_backend: N2571-N818+N7340        N9093        N1166        N1066                      8027\n",
      "DEBUG:mathsformer.selfsupervised_learning_addition_model_backend:      5617-N8+N39         5586        5677E         5677                        91\n",
      "DEBUG:mathsformer.selfsupervised_learning_addition_model_backend:     N554-N9942-7         9381        N076E        N9778                    -19159\n",
      "DEBUG:mathsformer.selfsupervised_learning_addition_model_backend:       4-28+N9276        N9300        99178         9777                     19077\n",
      "DEBUG:mathsformer.selfsupervised_learning_addition_model_backend:      N250+2005+7         1762        N678E        N2778                     -4540\n"
     ]
    },
    {
     "name": "stdout",
     "output_type": "stream",
     "text": [
      "2000/2000 [==============================] - 854s 427ms/step - loss: 3.9005 - mathsformer_LLM_output_loss: 1.2976 - mathsformer_LLM_output_1_loss: 1.2979 - mathsformer_LLM_output_2_loss: 1.3049 - mathsformer_LLM_output_masked_categorical_accuracy: 0.5245 - mathsformer_LLM_output_1_masked_categorical_accuracy: 0.5240 - mathsformer_LLM_output_2_masked_categorical_accuracy: 0.5220 - val_loss: 4.8037 - val_mathsformer_LLM_output_loss: 1.6018 - val_mathsformer_LLM_output_1_loss: 1.5989 - val_mathsformer_LLM_output_2_loss: 1.6030 - val_mathsformer_LLM_output_masked_categorical_accuracy: 0.4128 - val_mathsformer_LLM_output_1_masked_categorical_accuracy: 0.4150 - val_mathsformer_LLM_output_2_masked_categorical_accuracy: 0.4134\n",
      "Epoch 7/100000\n",
      "2000/2000 [==============================] - ETA: 0s - loss: 3.7884 - mathsformer_LLM_output_loss: 1.2607 - mathsformer_LLM_output_1_loss: 1.2607 - mathsformer_LLM_output_2_loss: 1.2670 - mathsformer_LLM_output_masked_categorical_accuracy: 0.5327 - mathsformer_LLM_output_1_masked_categorical_accuracy: 0.5325 - mathsformer_LLM_output_2_masked_categorical_accuracy: 0.5310"
     ]
    },
    {
     "name": "stderr",
     "output_type": "stream",
     "text": [
      "DEBUG:mathsformer.selfsupervised_learning_addition_model_backend:Training reached the end of epoch at index 6\n",
      "DEBUG:mathsformer.selfsupervised_learning_addition_model_backend:    with metric loss: 3.7884\n",
      "DEBUG:mathsformer.selfsupervised_learning_addition_model_backend:    with metric mathsformer_LLM_output_loss: 1.2607\n",
      "DEBUG:mathsformer.selfsupervised_learning_addition_model_backend:    with metric mathsformer_LLM_output_1_loss: 1.2607\n",
      "DEBUG:mathsformer.selfsupervised_learning_addition_model_backend:    with metric mathsformer_LLM_output_2_loss: 1.267\n",
      "DEBUG:mathsformer.selfsupervised_learning_addition_model_backend:    with metric mathsformer_LLM_output_masked_categorical_accuracy: 0.5327\n",
      "DEBUG:mathsformer.selfsupervised_learning_addition_model_backend:    with metric mathsformer_LLM_output_1_masked_categorical_accuracy: 0.53246\n",
      "DEBUG:mathsformer.selfsupervised_learning_addition_model_backend:    with metric mathsformer_LLM_output_2_masked_categorical_accuracy: 0.531\n",
      "DEBUG:mathsformer.selfsupervised_learning_addition_model_backend:    with metric val_loss: 4.6466\n",
      "DEBUG:mathsformer.selfsupervised_learning_addition_model_backend:    with metric val_mathsformer_LLM_output_loss: 1.547\n",
      "DEBUG:mathsformer.selfsupervised_learning_addition_model_backend:    with metric val_mathsformer_LLM_output_1_loss: 1.5462\n",
      "DEBUG:mathsformer.selfsupervised_learning_addition_model_backend:    with metric val_mathsformer_LLM_output_2_loss: 1.5534\n",
      "DEBUG:mathsformer.selfsupervised_learning_addition_model_backend:    with metric val_mathsformer_LLM_output_masked_categorical_accuracy: 0.43047\n",
      "DEBUG:mathsformer.selfsupervised_learning_addition_model_backend:    with metric val_mathsformer_LLM_output_1_masked_categorical_accuracy: 0.43091\n",
      "DEBUG:mathsformer.selfsupervised_learning_addition_model_backend:    with metric val_mathsformer_LLM_output_2_masked_categorical_accuracy: 0.42879\n",
      "DEBUG:mathsformer.selfsupervised_learning_addition_model_backend:Running text --> text mathsformer inference on some training data:\n",
      "DEBUG:mathsformer.selfsupervised_learning_addition_model_backend:---------------------------------------------------------------------------------------\n",
      "DEBUG:mathsformer.selfsupervised_learning_addition_model_backend:                 INPUT         TRUE   PRED(MASK)    PRED(GEN)      CORRECT     RESIDUAL\n",
      "DEBUG:mathsformer.selfsupervised_learning_addition_model_backend:---------------------------------------------------------------------------------------\n",
      "DEBUG:mathsformer.selfsupervised_learning_addition_model_backend:    N8097-N943+N8+5-86        N7243        N8148        N8148                      -905\n",
      "DEBUG:mathsformer.selfsupervised_learning_addition_model_backend:       N9+N4-N2+N943+4         N950        N90EE          N90                       860\n",
      "DEBUG:mathsformer.selfsupervised_learning_addition_model_backend:              476+N792         N316        N400E         N400                       -84\n",
      "DEBUG:mathsformer.selfsupervised_learning_addition_model_backend:     2333-6-N6836+8575        17738        N111E        N1011                    -18749\n",
      "DEBUG:mathsformer.selfsupervised_learning_addition_model_backend:  N6665+617+N57+61+363        N5681        N6148        N6148                      -467\n",
      "DEBUG:mathsformer.selfsupervised_learning_addition_model_backend:     52-N6818+79-N5-N2         6956        N699E        N6698                    -13654\n",
      "DEBUG:mathsformer.selfsupervised_learning_addition_model_backend:                 N5+77           72        N0EEE          N80                      -152\n",
      "DEBUG:mathsformer.selfsupervised_learning_addition_model_backend: N379+N752-7+N2992-328        N4458        N111E        N1011                      3447\n",
      "DEBUG:mathsformer.selfsupervised_learning_addition_model_backend:       N7+N9-1+97-7774        N7694        N7698        N7698                        -4\n",
      "DEBUG:mathsformer.selfsupervised_learning_addition_model_backend:              75+N3612        N3537        33698         3698                      7235\n",
      "DEBUG:mathsformer.selfsupervised_learning_addition_model_backend:            N6215+N893        N7108        N5888        N5888                      1220\n",
      "DEBUG:mathsformer.selfsupervised_learning_addition_model_backend:                     8            8        8EE1E            8          X              0\n",
      "DEBUG:mathsformer.selfsupervised_learning_addition_model_backend:                  N257         N257        N258E         N258                        -1\n",
      "DEBUG:mathsformer.selfsupervised_learning_addition_model_backend:    8-N39-N555-N3-6589        N5984        N111E        N1111                      4873\n",
      "DEBUG:mathsformer.selfsupervised_learning_addition_model_backend:                   401          401        401EE          401          X              0\n",
      "DEBUG:mathsformer.selfsupervised_learning_addition_model_backend:Running text --> text mathsformer inference on some validation data:\n",
      "DEBUG:mathsformer.selfsupervised_learning_addition_model_backend:----------------------------------------------------------------------------------\n",
      "DEBUG:mathsformer.selfsupervised_learning_addition_model_backend:            INPUT         TRUE   PRED(MASK)    PRED(GEN)      CORRECT     RESIDUAL\n",
      "DEBUG:mathsformer.selfsupervised_learning_addition_model_backend:----------------------------------------------------------------------------------\n",
      "DEBUG:mathsformer.selfsupervised_learning_addition_model_backend:     3-N3988+N847         3144        N148E        N3808                     -6952\n",
      "DEBUG:mathsformer.selfsupervised_learning_addition_model_backend:        7797+5-N4         7806        7703E         7703                      -103\n",
      "DEBUG:mathsformer.selfsupervised_learning_addition_model_backend:     N8357-N11+N7        N8353        N8398        N8398                       -45\n",
      "DEBUG:mathsformer.selfsupervised_learning_addition_model_backend:    6686-N437-236         6887        6118E         6118                      -769\n",
      "DEBUG:mathsformer.selfsupervised_learning_addition_model_backend:        N5+4442+8         4445        4049E         4099                      -346\n",
      "DEBUG:mathsformer.selfsupervised_learning_addition_model_backend:      2123-N1+N68         2056        218EE          218                     -1838\n",
      "DEBUG:mathsformer.selfsupervised_learning_addition_model_backend:      95+4563+879         5537        N448E        N3448                     -8985\n",
      "DEBUG:mathsformer.selfsupervised_learning_addition_model_backend:     1639+N2868+5        N1224        N2018        N2018                      -794\n",
      "DEBUG:mathsformer.selfsupervised_learning_addition_model_backend:         8+N725-3         N720        N738E         N738                       -18\n",
      "DEBUG:mathsformer.selfsupervised_learning_addition_model_backend:    N283+N962-N40        N1205        N1011        N1010                       195\n",
      "DEBUG:mathsformer.selfsupervised_learning_addition_model_backend: N2571-N818+N7340        N9093        N7148        N7148                      1945\n",
      "DEBUG:mathsformer.selfsupervised_learning_addition_model_backend:      5617-N8+N39         5586        5693E         5693                       107\n",
      "DEBUG:mathsformer.selfsupervised_learning_addition_model_backend:     N554-N9942-7         9381        N488E       N10000                    -19381\n",
      "DEBUG:mathsformer.selfsupervised_learning_addition_model_backend:       4-28+N9276        N9300        N9348        N9348                       -48\n",
      "DEBUG:mathsformer.selfsupervised_learning_addition_model_backend:      N250+2005+7         1762        2098E         2588                       826\n"
     ]
    },
    {
     "name": "stdout",
     "output_type": "stream",
     "text": [
      "2000/2000 [==============================] - 865s 433ms/step - loss: 3.7884 - mathsformer_LLM_output_loss: 1.2607 - mathsformer_LLM_output_1_loss: 1.2607 - mathsformer_LLM_output_2_loss: 1.2670 - mathsformer_LLM_output_masked_categorical_accuracy: 0.5327 - mathsformer_LLM_output_1_masked_categorical_accuracy: 0.5325 - mathsformer_LLM_output_2_masked_categorical_accuracy: 0.5310 - val_loss: 4.6466 - val_mathsformer_LLM_output_loss: 1.5470 - val_mathsformer_LLM_output_1_loss: 1.5462 - val_mathsformer_LLM_output_2_loss: 1.5534 - val_mathsformer_LLM_output_masked_categorical_accuracy: 0.4305 - val_mathsformer_LLM_output_1_masked_categorical_accuracy: 0.4309 - val_mathsformer_LLM_output_2_masked_categorical_accuracy: 0.4288\n",
      "Epoch 8/100000\n",
      "2000/2000 [==============================] - ETA: 0s - loss: 3.6924 - mathsformer_LLM_output_loss: 1.2287 - mathsformer_LLM_output_1_loss: 1.2288 - mathsformer_LLM_output_2_loss: 1.2348 - mathsformer_LLM_output_masked_categorical_accuracy: 0.5403 - mathsformer_LLM_output_1_masked_categorical_accuracy: 0.5398 - mathsformer_LLM_output_2_masked_categorical_accuracy: 0.5384"
     ]
    },
    {
     "name": "stderr",
     "output_type": "stream",
     "text": [
      "DEBUG:mathsformer.selfsupervised_learning_addition_model_backend:Training reached the end of epoch at index 7\n",
      "DEBUG:mathsformer.selfsupervised_learning_addition_model_backend:    with metric loss: 3.6924\n",
      "DEBUG:mathsformer.selfsupervised_learning_addition_model_backend:    with metric mathsformer_LLM_output_loss: 1.2287\n",
      "DEBUG:mathsformer.selfsupervised_learning_addition_model_backend:    with metric mathsformer_LLM_output_1_loss: 1.2288\n",
      "DEBUG:mathsformer.selfsupervised_learning_addition_model_backend:    with metric mathsformer_LLM_output_2_loss: 1.2348\n",
      "DEBUG:mathsformer.selfsupervised_learning_addition_model_backend:    with metric mathsformer_LLM_output_masked_categorical_accuracy: 0.54031\n",
      "DEBUG:mathsformer.selfsupervised_learning_addition_model_backend:    with metric mathsformer_LLM_output_1_masked_categorical_accuracy: 0.5398\n",
      "DEBUG:mathsformer.selfsupervised_learning_addition_model_backend:    with metric mathsformer_LLM_output_2_masked_categorical_accuracy: 0.53841\n",
      "DEBUG:mathsformer.selfsupervised_learning_addition_model_backend:    with metric val_loss: 4.5819\n",
      "DEBUG:mathsformer.selfsupervised_learning_addition_model_backend:    with metric val_mathsformer_LLM_output_loss: 1.5224\n",
      "DEBUG:mathsformer.selfsupervised_learning_addition_model_backend:    with metric val_mathsformer_LLM_output_1_loss: 1.5246\n",
      "DEBUG:mathsformer.selfsupervised_learning_addition_model_backend:    with metric val_mathsformer_LLM_output_2_loss: 1.5349\n",
      "DEBUG:mathsformer.selfsupervised_learning_addition_model_backend:    with metric val_mathsformer_LLM_output_masked_categorical_accuracy: 0.42861\n",
      "DEBUG:mathsformer.selfsupervised_learning_addition_model_backend:    with metric val_mathsformer_LLM_output_1_masked_categorical_accuracy: 0.42932\n",
      "DEBUG:mathsformer.selfsupervised_learning_addition_model_backend:    with metric val_mathsformer_LLM_output_2_masked_categorical_accuracy: 0.42887\n",
      "DEBUG:mathsformer.selfsupervised_learning_addition_model_backend:Running text --> text mathsformer inference on some training data:\n",
      "DEBUG:mathsformer.selfsupervised_learning_addition_model_backend:---------------------------------------------------------------------------------------\n",
      "DEBUG:mathsformer.selfsupervised_learning_addition_model_backend:                 INPUT         TRUE   PRED(MASK)    PRED(GEN)      CORRECT     RESIDUAL\n",
      "DEBUG:mathsformer.selfsupervised_learning_addition_model_backend:---------------------------------------------------------------------------------------\n",
      "DEBUG:mathsformer.selfsupervised_learning_addition_model_backend:    N8097-N943+N8+5-86        N7243        N9119        N9119                     -1876\n",
      "DEBUG:mathsformer.selfsupervised_learning_addition_model_backend:       N9+N4-N2+N943+4         N950        N915E         N910                        40\n",
      "DEBUG:mathsformer.selfsupervised_learning_addition_model_backend:              476+N792         N316        N20EE         N200                       116\n",
      "DEBUG:mathsformer.selfsupervised_learning_addition_model_backend:     2333-6-N6836+8575        17738        N009E        N1000                    -18738\n",
      "DEBUG:mathsformer.selfsupervised_learning_addition_model_backend:  N6665+617+N57+61+363        N5681        N7111        N7111                     -1430\n",
      "DEBUG:mathsformer.selfsupervised_learning_addition_model_backend:     52-N6818+79-N5-N2         6956        N910E        N6799                    -13755\n",
      "DEBUG:mathsformer.selfsupervised_learning_addition_model_backend:                 N5+77           72        N0EEE          N85                      -157\n",
      "DEBUG:mathsformer.selfsupervised_learning_addition_model_backend: N379+N752-7+N2992-328        N4458        N3115        N3111                      1347\n",
      "DEBUG:mathsformer.selfsupervised_learning_addition_model_backend:       N7+N9-1+97-7774        N7694        N7795        N7795                      -101\n",
      "DEBUG:mathsformer.selfsupervised_learning_addition_model_backend:              75+N3612        N3537        N3611        N3611                       -74\n",
      "DEBUG:mathsformer.selfsupervised_learning_addition_model_backend:            N6215+N893        N7108        N6995        N6999                       109\n",
      "DEBUG:mathsformer.selfsupervised_learning_addition_model_backend:                     8            8        8EEEE            8          X              0\n",
      "DEBUG:mathsformer.selfsupervised_learning_addition_model_backend:                  N257         N257        N257E         N257          X              0\n",
      "DEBUG:mathsformer.selfsupervised_learning_addition_model_backend:    8-N39-N555-N3-6589        N5984        N1010        N1000                      4984\n",
      "DEBUG:mathsformer.selfsupervised_learning_addition_model_backend:                   401          401        401EE          401          X              0\n",
      "DEBUG:mathsformer.selfsupervised_learning_addition_model_backend:Running text --> text mathsformer inference on some validation data:\n",
      "DEBUG:mathsformer.selfsupervised_learning_addition_model_backend:----------------------------------------------------------------------------------\n",
      "DEBUG:mathsformer.selfsupervised_learning_addition_model_backend:            INPUT         TRUE   PRED(MASK)    PRED(GEN)      CORRECT     RESIDUAL\n",
      "DEBUG:mathsformer.selfsupervised_learning_addition_model_backend:----------------------------------------------------------------------------------\n",
      "DEBUG:mathsformer.selfsupervised_learning_addition_model_backend:     3-N3988+N847         3144        N111E        N4111                     -7255\n",
      "DEBUG:mathsformer.selfsupervised_learning_addition_model_backend:        7797+5-N4         7806        7891E         7891                        85\n",
      "DEBUG:mathsformer.selfsupervised_learning_addition_model_backend:     N8357-N11+N7        N8353        N8359        N8359                        -6\n",
      "DEBUG:mathsformer.selfsupervised_learning_addition_model_backend:    6686-N437-236         6887        7111E         7111                       224\n",
      "DEBUG:mathsformer.selfsupervised_learning_addition_model_backend:        N5+4442+8         4445        4011E         4091                      -354\n",
      "DEBUG:mathsformer.selfsupervised_learning_addition_model_backend:      2123-N1+N68         2056        2111E         2191                       135\n",
      "DEBUG:mathsformer.selfsupervised_learning_addition_model_backend:      95+4563+879         5537        N111E        N5111                    -10648\n",
      "DEBUG:mathsformer.selfsupervised_learning_addition_model_backend:     1639+N2868+5        N1224        N1015        N1011                       213\n",
      "DEBUG:mathsformer.selfsupervised_learning_addition_model_backend:         8+N725-3         N720        7715E          719                      1439\n",
      "DEBUG:mathsformer.selfsupervised_learning_addition_model_backend:    N283+N962-N40        N1205        N1000        N1000                       205\n",
      "DEBUG:mathsformer.selfsupervised_learning_addition_model_backend: N2571-N818+N7340        N9093        N1115       N10000                      -907\n",
      "DEBUG:mathsformer.selfsupervised_learning_addition_model_backend:      5617-N8+N39         5586        5611E         5611                        25\n",
      "DEBUG:mathsformer.selfsupervised_learning_addition_model_backend:     N554-N9942-7         9381        N090E        N9995                    -19376\n",
      "DEBUG:mathsformer.selfsupervised_learning_addition_model_backend:       4-28+N9276        N9300        99291         9290                     18590\n",
      "DEBUG:mathsformer.selfsupervised_learning_addition_model_backend:      N250+2005+7         1762        N999E        N2919                     -4681\n"
     ]
    },
    {
     "name": "stdout",
     "output_type": "stream",
     "text": [
      "2000/2000 [==============================] - 869s 434ms/step - loss: 3.6924 - mathsformer_LLM_output_loss: 1.2287 - mathsformer_LLM_output_1_loss: 1.2288 - mathsformer_LLM_output_2_loss: 1.2348 - mathsformer_LLM_output_masked_categorical_accuracy: 0.5403 - mathsformer_LLM_output_1_masked_categorical_accuracy: 0.5398 - mathsformer_LLM_output_2_masked_categorical_accuracy: 0.5384 - val_loss: 4.5819 - val_mathsformer_LLM_output_loss: 1.5224 - val_mathsformer_LLM_output_1_loss: 1.5246 - val_mathsformer_LLM_output_2_loss: 1.5349 - val_mathsformer_LLM_output_masked_categorical_accuracy: 0.4286 - val_mathsformer_LLM_output_1_masked_categorical_accuracy: 0.4293 - val_mathsformer_LLM_output_2_masked_categorical_accuracy: 0.4289\n",
      "Epoch 9/100000\n",
      "2000/2000 [==============================] - ETA: 0s - loss: 3.6237 - mathsformer_LLM_output_loss: 1.2054 - mathsformer_LLM_output_1_loss: 1.2058 - mathsformer_LLM_output_2_loss: 1.2125 - mathsformer_LLM_output_masked_categorical_accuracy: 0.5443 - mathsformer_LLM_output_1_masked_categorical_accuracy: 0.5444 - mathsformer_LLM_output_2_masked_categorical_accuracy: 0.5428"
     ]
    },
    {
     "name": "stderr",
     "output_type": "stream",
     "text": [
      "DEBUG:mathsformer.selfsupervised_learning_addition_model_backend:Training reached the end of epoch at index 8\n",
      "DEBUG:mathsformer.selfsupervised_learning_addition_model_backend:    with metric loss: 3.6237\n",
      "DEBUG:mathsformer.selfsupervised_learning_addition_model_backend:    with metric mathsformer_LLM_output_loss: 1.2054\n",
      "DEBUG:mathsformer.selfsupervised_learning_addition_model_backend:    with metric mathsformer_LLM_output_1_loss: 1.2058\n",
      "DEBUG:mathsformer.selfsupervised_learning_addition_model_backend:    with metric mathsformer_LLM_output_2_loss: 1.2125\n",
      "DEBUG:mathsformer.selfsupervised_learning_addition_model_backend:    with metric mathsformer_LLM_output_masked_categorical_accuracy: 0.5443\n",
      "DEBUG:mathsformer.selfsupervised_learning_addition_model_backend:    with metric mathsformer_LLM_output_1_masked_categorical_accuracy: 0.54444\n",
      "DEBUG:mathsformer.selfsupervised_learning_addition_model_backend:    with metric mathsformer_LLM_output_2_masked_categorical_accuracy: 0.54284\n",
      "DEBUG:mathsformer.selfsupervised_learning_addition_model_backend:    with metric val_loss: 4.5296\n",
      "DEBUG:mathsformer.selfsupervised_learning_addition_model_backend:    with metric val_mathsformer_LLM_output_loss: 1.5082\n",
      "DEBUG:mathsformer.selfsupervised_learning_addition_model_backend:    with metric val_mathsformer_LLM_output_1_loss: 1.5076\n",
      "DEBUG:mathsformer.selfsupervised_learning_addition_model_backend:    with metric val_mathsformer_LLM_output_2_loss: 1.5137\n",
      "DEBUG:mathsformer.selfsupervised_learning_addition_model_backend:    with metric val_mathsformer_LLM_output_masked_categorical_accuracy: 0.43324\n",
      "DEBUG:mathsformer.selfsupervised_learning_addition_model_backend:    with metric val_mathsformer_LLM_output_1_masked_categorical_accuracy: 0.43299\n",
      "DEBUG:mathsformer.selfsupervised_learning_addition_model_backend:    with metric val_mathsformer_LLM_output_2_masked_categorical_accuracy: 0.43222\n",
      "DEBUG:mathsformer.selfsupervised_learning_addition_model_backend:Running text --> text mathsformer inference on some training data:\n",
      "DEBUG:mathsformer.selfsupervised_learning_addition_model_backend:---------------------------------------------------------------------------------------\n",
      "DEBUG:mathsformer.selfsupervised_learning_addition_model_backend:                 INPUT         TRUE   PRED(MASK)    PRED(GEN)      CORRECT     RESIDUAL\n",
      "DEBUG:mathsformer.selfsupervised_learning_addition_model_backend:---------------------------------------------------------------------------------------\n",
      "DEBUG:mathsformer.selfsupervised_learning_addition_model_backend:    N8097-N943+N8+5-86        N7243        N8977        N8947                     -1704\n",
      "DEBUG:mathsformer.selfsupervised_learning_addition_model_backend:       N9+N4-N2+N943+4         N950        9937E          926                      1876\n",
      "DEBUG:mathsformer.selfsupervised_learning_addition_model_backend:              476+N792         N316        120EE          127                       443\n",
      "DEBUG:mathsformer.selfsupervised_learning_addition_model_backend:     2333-6-N6836+8575        17738        N207E        N1017                    -18755\n",
      "DEBUG:mathsformer.selfsupervised_learning_addition_model_backend:  N6665+617+N57+61+363        N5681        N6177        N6177                      -496\n",
      "DEBUG:mathsformer.selfsupervised_learning_addition_model_backend:     52-N6818+79-N5-N2         6956        N947E        N6742                    -13698\n",
      "DEBUG:mathsformer.selfsupervised_learning_addition_model_backend:                 N5+77           72        NEEEE          N90                      -162\n",
      "DEBUG:mathsformer.selfsupervised_learning_addition_model_backend: N379+N752-7+N2992-328        N4458        N3417        N3417                      1041\n",
      "DEBUG:mathsformer.selfsupervised_learning_addition_model_backend:       N7+N9-1+97-7774        N7694        77777         7747                     15441\n",
      "DEBUG:mathsformer.selfsupervised_learning_addition_model_backend:              75+N3612        N3537        N3677        N3677                      -140\n",
      "DEBUG:mathsformer.selfsupervised_learning_addition_model_backend:            N6215+N893        N7108        N7777        N7777                      -669\n",
      "DEBUG:mathsformer.selfsupervised_learning_addition_model_backend:                     8            8        8EE7E            8          X              0\n",
      "DEBUG:mathsformer.selfsupervised_learning_addition_model_backend:                  N257         N257        N257E         N257          X              0\n",
      "DEBUG:mathsformer.selfsupervised_learning_addition_model_backend:    8-N39-N555-N3-6589        N5984        N5777        N5777                       207\n",
      "DEBUG:mathsformer.selfsupervised_learning_addition_model_backend:                   401          401        401EE          401          X              0\n",
      "DEBUG:mathsformer.selfsupervised_learning_addition_model_backend:Running text --> text mathsformer inference on some validation data:\n",
      "DEBUG:mathsformer.selfsupervised_learning_addition_model_backend:----------------------------------------------------------------------------------\n",
      "DEBUG:mathsformer.selfsupervised_learning_addition_model_backend:            INPUT         TRUE   PRED(MASK)    PRED(GEN)      CORRECT     RESIDUAL\n",
      "DEBUG:mathsformer.selfsupervised_learning_addition_model_backend:----------------------------------------------------------------------------------\n",
      "DEBUG:mathsformer.selfsupervised_learning_addition_model_backend:     3-N3988+N847         3144        N443E        N3443                     -6587\n",
      "DEBUG:mathsformer.selfsupervised_learning_addition_model_backend:        7797+5-N4         7806        7793E         7792                       -14\n",
      "DEBUG:mathsformer.selfsupervised_learning_addition_model_backend:     N8357-N11+N7        N8353        N8397        N8397                       -44\n",
      "DEBUG:mathsformer.selfsupervised_learning_addition_model_backend:    6686-N437-236         6887        6117E         6117                      -770\n",
      "DEBUG:mathsformer.selfsupervised_learning_addition_model_backend:        N5+4442+8         4445        N447E        N4447                     -8892\n",
      "DEBUG:mathsformer.selfsupervised_learning_addition_model_backend:      2123-N1+N68         2056        2177E         2177                       121\n",
      "DEBUG:mathsformer.selfsupervised_learning_addition_model_backend:      95+4563+879         5537        N447E        N3441                     -8978\n",
      "DEBUG:mathsformer.selfsupervised_learning_addition_model_backend:     1639+N2868+5        N1224        N1077        N1077                       147\n",
      "DEBUG:mathsformer.selfsupervised_learning_addition_model_backend:         8+N725-3         N720        N61EE          N61                       659\n",
      "DEBUG:mathsformer.selfsupervised_learning_addition_model_backend:    N283+N962-N40        N1205        N1077        N1077                       128\n",
      "DEBUG:mathsformer.selfsupervised_learning_addition_model_backend: N2571-N818+N7340        N9093        N9977        N9977                      -884\n",
      "DEBUG:mathsformer.selfsupervised_learning_addition_model_backend:      5617-N8+N39         5586        5673E         5673                        87\n",
      "DEBUG:mathsformer.selfsupervised_learning_addition_model_backend:     N554-N9942-7         9381        N267E       N10266                    -19647\n",
      "DEBUG:mathsformer.selfsupervised_learning_addition_model_backend:       4-28+N9276        N9300        99267         9247                     18547\n",
      "DEBUG:mathsformer.selfsupervised_learning_addition_model_backend:      N250+2005+7         1762        N977E        N2977                     -4739\n"
     ]
    },
    {
     "name": "stdout",
     "output_type": "stream",
     "text": [
      "2000/2000 [==============================] - 857s 429ms/step - loss: 3.6237 - mathsformer_LLM_output_loss: 1.2054 - mathsformer_LLM_output_1_loss: 1.2058 - mathsformer_LLM_output_2_loss: 1.2125 - mathsformer_LLM_output_masked_categorical_accuracy: 0.5443 - mathsformer_LLM_output_1_masked_categorical_accuracy: 0.5444 - mathsformer_LLM_output_2_masked_categorical_accuracy: 0.5428 - val_loss: 4.5296 - val_mathsformer_LLM_output_loss: 1.5082 - val_mathsformer_LLM_output_1_loss: 1.5076 - val_mathsformer_LLM_output_2_loss: 1.5137 - val_mathsformer_LLM_output_masked_categorical_accuracy: 0.4332 - val_mathsformer_LLM_output_1_masked_categorical_accuracy: 0.4330 - val_mathsformer_LLM_output_2_masked_categorical_accuracy: 0.4322\n",
      "Epoch 10/100000\n",
      "2000/2000 [==============================] - ETA: 0s - loss: 3.5503 - mathsformer_LLM_output_loss: 1.1813 - mathsformer_LLM_output_1_loss: 1.1817 - mathsformer_LLM_output_2_loss: 1.1873 - mathsformer_LLM_output_masked_categorical_accuracy: 0.5520 - mathsformer_LLM_output_1_masked_categorical_accuracy: 0.5521 - mathsformer_LLM_output_2_masked_categorical_accuracy: 0.5507"
     ]
    },
    {
     "name": "stderr",
     "output_type": "stream",
     "text": [
      "DEBUG:mathsformer.selfsupervised_learning_addition_model_backend:Training reached the end of epoch at index 9\n",
      "DEBUG:mathsformer.selfsupervised_learning_addition_model_backend:    with metric loss: 3.5503\n",
      "DEBUG:mathsformer.selfsupervised_learning_addition_model_backend:    with metric mathsformer_LLM_output_loss: 1.1813\n",
      "DEBUG:mathsformer.selfsupervised_learning_addition_model_backend:    with metric mathsformer_LLM_output_1_loss: 1.1817\n",
      "DEBUG:mathsformer.selfsupervised_learning_addition_model_backend:    with metric mathsformer_LLM_output_2_loss: 1.1873\n",
      "DEBUG:mathsformer.selfsupervised_learning_addition_model_backend:    with metric mathsformer_LLM_output_masked_categorical_accuracy: 0.552\n",
      "DEBUG:mathsformer.selfsupervised_learning_addition_model_backend:    with metric mathsformer_LLM_output_1_masked_categorical_accuracy: 0.55206\n",
      "DEBUG:mathsformer.selfsupervised_learning_addition_model_backend:    with metric mathsformer_LLM_output_2_masked_categorical_accuracy: 0.55065\n",
      "DEBUG:mathsformer.selfsupervised_learning_addition_model_backend:    with metric val_loss: 4.3742\n",
      "DEBUG:mathsformer.selfsupervised_learning_addition_model_backend:    with metric val_mathsformer_LLM_output_loss: 1.4598\n",
      "DEBUG:mathsformer.selfsupervised_learning_addition_model_backend:    with metric val_mathsformer_LLM_output_1_loss: 1.4549\n",
      "DEBUG:mathsformer.selfsupervised_learning_addition_model_backend:    with metric val_mathsformer_LLM_output_2_loss: 1.4595\n",
      "DEBUG:mathsformer.selfsupervised_learning_addition_model_backend:    with metric val_mathsformer_LLM_output_masked_categorical_accuracy: 0.44285\n",
      "DEBUG:mathsformer.selfsupervised_learning_addition_model_backend:    with metric val_mathsformer_LLM_output_1_masked_categorical_accuracy: 0.44569\n",
      "DEBUG:mathsformer.selfsupervised_learning_addition_model_backend:    with metric val_mathsformer_LLM_output_2_masked_categorical_accuracy: 0.44107\n",
      "DEBUG:mathsformer.selfsupervised_learning_addition_model_backend:Running text --> text mathsformer inference on some training data:\n",
      "DEBUG:mathsformer.selfsupervised_learning_addition_model_backend:---------------------------------------------------------------------------------------\n",
      "DEBUG:mathsformer.selfsupervised_learning_addition_model_backend:                 INPUT         TRUE   PRED(MASK)    PRED(GEN)      CORRECT     RESIDUAL\n",
      "DEBUG:mathsformer.selfsupervised_learning_addition_model_backend:---------------------------------------------------------------------------------------\n",
      "DEBUG:mathsformer.selfsupervised_learning_addition_model_backend:    N8097-N943+N8+5-86        N7243        N8936        N8936                     -1693\n",
      "DEBUG:mathsformer.selfsupervised_learning_addition_model_backend:       N9+N4-N2+N943+4         N950        N939E         N939                        11\n",
      "DEBUG:mathsformer.selfsupervised_learning_addition_model_backend:              476+N792         N316        1228E         1239                      1555\n",
      "DEBUG:mathsformer.selfsupervised_learning_addition_model_backend:     2333-6-N6836+8575        17738        N3665        N1296                    -19034\n",
      "DEBUG:mathsformer.selfsupervised_learning_addition_model_backend:  N6665+617+N57+61+363        N5681        N6315        N6215                      -534\n",
      "DEBUG:mathsformer.selfsupervised_learning_addition_model_backend:     52-N6818+79-N5-N2         6956        6869E         6869                       -87\n",
      "DEBUG:mathsformer.selfsupervised_learning_addition_model_backend:                 N5+77           72        N2EEE          N82                      -154\n",
      "DEBUG:mathsformer.selfsupervised_learning_addition_model_backend: N379+N752-7+N2992-328        N4458        N3211        N3615                       843\n",
      "DEBUG:mathsformer.selfsupervised_learning_addition_model_backend:       N7+N9-1+97-7774        N7694        77895         7766                     15460\n",
      "DEBUG:mathsformer.selfsupervised_learning_addition_model_backend:              75+N3612        N3537        33665         3635                      7172\n",
      "DEBUG:mathsformer.selfsupervised_learning_addition_model_backend:            N6215+N893        N7108        N6696        N6665                       443\n",
      "DEBUG:mathsformer.selfsupervised_learning_addition_model_backend:                     8            8        8EE8E            8          X              0\n",
      "DEBUG:mathsformer.selfsupervised_learning_addition_model_backend:                  N257         N257        N257E         N257          X              0\n",
      "DEBUG:mathsformer.selfsupervised_learning_addition_model_backend:    8-N39-N555-N3-6589        N5984        N6915        N6918                      -934\n",
      "DEBUG:mathsformer.selfsupervised_learning_addition_model_backend:                   401          401        401EE          401          X              0\n",
      "DEBUG:mathsformer.selfsupervised_learning_addition_model_backend:Running text --> text mathsformer inference on some validation data:\n",
      "DEBUG:mathsformer.selfsupervised_learning_addition_model_backend:----------------------------------------------------------------------------------\n",
      "DEBUG:mathsformer.selfsupervised_learning_addition_model_backend:            INPUT         TRUE   PRED(MASK)    PRED(GEN)      CORRECT     RESIDUAL\n",
      "DEBUG:mathsformer.selfsupervised_learning_addition_model_backend:----------------------------------------------------------------------------------\n",
      "DEBUG:mathsformer.selfsupervised_learning_addition_model_backend:     3-N3988+N847         3144        N669E        N3633                     -6777\n",
      "DEBUG:mathsformer.selfsupervised_learning_addition_model_backend:        7797+5-N4         7806        7793E         7793                       -13\n",
      "DEBUG:mathsformer.selfsupervised_learning_addition_model_backend:     N8357-N11+N7        N8353        N8396        N8395                       -42\n",
      "DEBUG:mathsformer.selfsupervised_learning_addition_model_backend:    6686-N437-236         6887        6211E         6239                      -648\n",
      "DEBUG:mathsformer.selfsupervised_learning_addition_model_backend:        N5+4442+8         4445        4449E         4449                         4\n",
      "DEBUG:mathsformer.selfsupervised_learning_addition_model_backend:      2123-N1+N68         2056        2169E         2169                       113\n",
      "DEBUG:mathsformer.selfsupervised_learning_addition_model_backend:      95+4563+879         5537        N239E        N3921                     -9458\n",
      "DEBUG:mathsformer.selfsupervised_learning_addition_model_backend:     1639+N2868+5        N1224        N2966        N2365                     -1141\n",
      "DEBUG:mathsformer.selfsupervised_learning_addition_model_backend:         8+N725-3         N720        N619E         N619                       101\n",
      "DEBUG:mathsformer.selfsupervised_learning_addition_model_backend:    N283+N962-N40        N1205        N1111        N1111                        94\n",
      "DEBUG:mathsformer.selfsupervised_learning_addition_model_backend: N2571-N818+N7340        N9093        N1998       N10996                     -1903\n",
      "DEBUG:mathsformer.selfsupervised_learning_addition_model_backend:      5617-N8+N39         5586        5663E         5663                        77\n",
      "DEBUG:mathsformer.selfsupervised_learning_addition_model_backend:     N554-N9942-7         9381        8265E         8266                     -1115\n",
      "DEBUG:mathsformer.selfsupervised_learning_addition_model_backend:       4-28+N9276        N9300        N9235        N9235                        65\n",
      "DEBUG:mathsformer.selfsupervised_learning_addition_model_backend:      N250+2005+7         1762        2999E         2968                      1206\n"
     ]
    },
    {
     "name": "stdout",
     "output_type": "stream",
     "text": [
      "2000/2000 [==============================] - 864s 432ms/step - loss: 3.5503 - mathsformer_LLM_output_loss: 1.1813 - mathsformer_LLM_output_1_loss: 1.1817 - mathsformer_LLM_output_2_loss: 1.1873 - mathsformer_LLM_output_masked_categorical_accuracy: 0.5520 - mathsformer_LLM_output_1_masked_categorical_accuracy: 0.5521 - mathsformer_LLM_output_2_masked_categorical_accuracy: 0.5507 - val_loss: 4.3742 - val_mathsformer_LLM_output_loss: 1.4598 - val_mathsformer_LLM_output_1_loss: 1.4549 - val_mathsformer_LLM_output_2_loss: 1.4595 - val_mathsformer_LLM_output_masked_categorical_accuracy: 0.4429 - val_mathsformer_LLM_output_1_masked_categorical_accuracy: 0.4457 - val_mathsformer_LLM_output_2_masked_categorical_accuracy: 0.4411\n",
      "Epoch 11/100000\n",
      "2000/2000 [==============================] - ETA: 0s - loss: 3.4893 - mathsformer_LLM_output_loss: 1.1614 - mathsformer_LLM_output_1_loss: 1.1611 - mathsformer_LLM_output_2_loss: 1.1667 - mathsformer_LLM_output_masked_categorical_accuracy: 0.5569 - mathsformer_LLM_output_1_masked_categorical_accuracy: 0.5577 - mathsformer_LLM_output_2_masked_categorical_accuracy: 0.5561"
     ]
    },
    {
     "name": "stderr",
     "output_type": "stream",
     "text": [
      "DEBUG:mathsformer.selfsupervised_learning_addition_model_backend:Training reached the end of epoch at index 10\n",
      "DEBUG:mathsformer.selfsupervised_learning_addition_model_backend:    with metric loss: 3.4893\n",
      "DEBUG:mathsformer.selfsupervised_learning_addition_model_backend:    with metric mathsformer_LLM_output_loss: 1.1614\n",
      "DEBUG:mathsformer.selfsupervised_learning_addition_model_backend:    with metric mathsformer_LLM_output_1_loss: 1.1611\n",
      "DEBUG:mathsformer.selfsupervised_learning_addition_model_backend:    with metric mathsformer_LLM_output_2_loss: 1.1667\n",
      "DEBUG:mathsformer.selfsupervised_learning_addition_model_backend:    with metric mathsformer_LLM_output_masked_categorical_accuracy: 0.5569\n",
      "DEBUG:mathsformer.selfsupervised_learning_addition_model_backend:    with metric mathsformer_LLM_output_1_masked_categorical_accuracy: 0.55773\n",
      "DEBUG:mathsformer.selfsupervised_learning_addition_model_backend:    with metric mathsformer_LLM_output_2_masked_categorical_accuracy: 0.55607\n",
      "DEBUG:mathsformer.selfsupervised_learning_addition_model_backend:    with metric val_loss: 4.3833\n",
      "DEBUG:mathsformer.selfsupervised_learning_addition_model_backend:    with metric val_mathsformer_LLM_output_loss: 1.4619\n",
      "DEBUG:mathsformer.selfsupervised_learning_addition_model_backend:    with metric val_mathsformer_LLM_output_1_loss: 1.4592\n",
      "DEBUG:mathsformer.selfsupervised_learning_addition_model_backend:    with metric val_mathsformer_LLM_output_2_loss: 1.4622\n",
      "DEBUG:mathsformer.selfsupervised_learning_addition_model_backend:    with metric val_mathsformer_LLM_output_masked_categorical_accuracy: 0.44811\n",
      "DEBUG:mathsformer.selfsupervised_learning_addition_model_backend:    with metric val_mathsformer_LLM_output_1_masked_categorical_accuracy: 0.4462\n",
      "DEBUG:mathsformer.selfsupervised_learning_addition_model_backend:    with metric val_mathsformer_LLM_output_2_masked_categorical_accuracy: 0.44506\n",
      "DEBUG:mathsformer.selfsupervised_learning_addition_model_backend:Running text --> text mathsformer inference on some training data:\n",
      "DEBUG:mathsformer.selfsupervised_learning_addition_model_backend:---------------------------------------------------------------------------------------\n",
      "DEBUG:mathsformer.selfsupervised_learning_addition_model_backend:                 INPUT         TRUE   PRED(MASK)    PRED(GEN)      CORRECT     RESIDUAL\n",
      "DEBUG:mathsformer.selfsupervised_learning_addition_model_backend:---------------------------------------------------------------------------------------\n",
      "DEBUG:mathsformer.selfsupervised_learning_addition_model_backend:    N8097-N943+N8+5-86        N7243        N8900        N8900                     -1657\n",
      "DEBUG:mathsformer.selfsupervised_learning_addition_model_backend:       N9+N4-N2+N943+4         N950        N930E         N930                        20\n",
      "DEBUG:mathsformer.selfsupervised_learning_addition_model_backend:              476+N792         N316        N300E         N300                        16\n",
      "DEBUG:mathsformer.selfsupervised_learning_addition_model_backend:     2333-6-N6836+8575        17738        N200E        N1200                    -18938\n",
      "DEBUG:mathsformer.selfsupervised_learning_addition_model_backend:  N6665+617+N57+61+363        N5681        N5000        N5000                       681\n",
      "DEBUG:mathsformer.selfsupervised_learning_addition_model_backend:     52-N6818+79-N5-N2         6956        6800E         6800                      -156\n",
      "DEBUG:mathsformer.selfsupervised_learning_addition_model_backend:                 N5+77           72        72EEE           72          X              0\n",
      "DEBUG:mathsformer.selfsupervised_learning_addition_model_backend: N379+N752-7+N2992-328        N4458        N2000        N2900                      1558\n",
      "DEBUG:mathsformer.selfsupervised_learning_addition_model_backend:       N7+N9-1+97-7774        N7694        77795         7795                     15489\n",
      "DEBUG:mathsformer.selfsupervised_learning_addition_model_backend:              75+N3612        N3537        N3597        N3597                       -60\n",
      "DEBUG:mathsformer.selfsupervised_learning_addition_model_backend:            N6215+N893        N7108        N5900        N5900                      1208\n",
      "DEBUG:mathsformer.selfsupervised_learning_addition_model_backend:                     8            8        8EE5E            8          X              0\n",
      "DEBUG:mathsformer.selfsupervised_learning_addition_model_backend:                  N257         N257        N257E         N257          X              0\n",
      "DEBUG:mathsformer.selfsupervised_learning_addition_model_backend:    8-N39-N555-N3-6589        N5984        N6200        N6209                      -225\n",
      "DEBUG:mathsformer.selfsupervised_learning_addition_model_backend:                   401          401        401EE          401          X              0\n",
      "DEBUG:mathsformer.selfsupervised_learning_addition_model_backend:Running text --> text mathsformer inference on some validation data:\n",
      "DEBUG:mathsformer.selfsupervised_learning_addition_model_backend:----------------------------------------------------------------------------------\n",
      "DEBUG:mathsformer.selfsupervised_learning_addition_model_backend:            INPUT         TRUE   PRED(MASK)    PRED(GEN)      CORRECT     RESIDUAL\n",
      "DEBUG:mathsformer.selfsupervised_learning_addition_model_backend:----------------------------------------------------------------------------------\n",
      "DEBUG:mathsformer.selfsupervised_learning_addition_model_backend:     3-N3988+N847         3144        N000E        N4009                     -7153\n",
      "DEBUG:mathsformer.selfsupervised_learning_addition_model_backend:        7797+5-N4         7806        7794E         7792                       -14\n",
      "DEBUG:mathsformer.selfsupervised_learning_addition_model_backend:     N8357-N11+N7        N8353        N8390        N8390                       -37\n",
      "DEBUG:mathsformer.selfsupervised_learning_addition_model_backend:    6686-N437-236         6887        5000E         5000                     -1887\n",
      "DEBUG:mathsformer.selfsupervised_learning_addition_model_backend:        N5+4442+8         4445        N439E        N4447                     -8892\n",
      "DEBUG:mathsformer.selfsupervised_learning_addition_model_backend:      2123-N1+N68         2056        2194E         2190                       134\n",
      "DEBUG:mathsformer.selfsupervised_learning_addition_model_backend:      95+4563+879         5537        N000E        N3909                     -9446\n",
      "DEBUG:mathsformer.selfsupervised_learning_addition_model_backend:     1639+N2868+5        N1224        N170E         N170                      1054\n",
      "DEBUG:mathsformer.selfsupervised_learning_addition_model_backend:         8+N725-3         N720        7710E          720                      1440\n",
      "DEBUG:mathsformer.selfsupervised_learning_addition_model_backend:    N283+N962-N40        N1205        N1209        N1209                        -4\n",
      "DEBUG:mathsformer.selfsupervised_learning_addition_model_backend: N2571-N818+N7340        N9093        N8000        N8009                      1084\n",
      "DEBUG:mathsformer.selfsupervised_learning_addition_model_backend:      5617-N8+N39         5586        5694E         5694                       108\n",
      "DEBUG:mathsformer.selfsupervised_learning_addition_model_backend:     N554-N9942-7         9381        N450E        N9450                    -18831\n",
      "DEBUG:mathsformer.selfsupervised_learning_addition_model_backend:       4-28+N9276        N9300        99290         9249                     18549\n",
      "DEBUG:mathsformer.selfsupervised_learning_addition_model_backend:      N250+2005+7         1762        N980E        N2800                     -4562\n"
     ]
    },
    {
     "name": "stdout",
     "output_type": "stream",
     "text": [
      "2000/2000 [==============================] - 869s 434ms/step - loss: 3.4893 - mathsformer_LLM_output_loss: 1.1614 - mathsformer_LLM_output_1_loss: 1.1611 - mathsformer_LLM_output_2_loss: 1.1667 - mathsformer_LLM_output_masked_categorical_accuracy: 0.5569 - mathsformer_LLM_output_1_masked_categorical_accuracy: 0.5577 - mathsformer_LLM_output_2_masked_categorical_accuracy: 0.5561 - val_loss: 4.3833 - val_mathsformer_LLM_output_loss: 1.4619 - val_mathsformer_LLM_output_1_loss: 1.4592 - val_mathsformer_LLM_output_2_loss: 1.4622 - val_mathsformer_LLM_output_masked_categorical_accuracy: 0.4481 - val_mathsformer_LLM_output_1_masked_categorical_accuracy: 0.4462 - val_mathsformer_LLM_output_2_masked_categorical_accuracy: 0.4451\n",
      "Epoch 12/100000\n",
      "2000/2000 [==============================] - ETA: 0s - loss: 3.4242 - mathsformer_LLM_output_loss: 1.1397 - mathsformer_LLM_output_1_loss: 1.1393 - mathsformer_LLM_output_2_loss: 1.1452 - mathsformer_LLM_output_masked_categorical_accuracy: 0.5640 - mathsformer_LLM_output_1_masked_categorical_accuracy: 0.5639 - mathsformer_LLM_output_2_masked_categorical_accuracy: 0.5618"
     ]
    },
    {
     "name": "stderr",
     "output_type": "stream",
     "text": [
      "DEBUG:mathsformer.selfsupervised_learning_addition_model_backend:Training reached the end of epoch at index 11\n",
      "DEBUG:mathsformer.selfsupervised_learning_addition_model_backend:    with metric loss: 3.4242\n",
      "DEBUG:mathsformer.selfsupervised_learning_addition_model_backend:    with metric mathsformer_LLM_output_loss: 1.1397\n",
      "DEBUG:mathsformer.selfsupervised_learning_addition_model_backend:    with metric mathsformer_LLM_output_1_loss: 1.1393\n",
      "DEBUG:mathsformer.selfsupervised_learning_addition_model_backend:    with metric mathsformer_LLM_output_2_loss: 1.1452\n",
      "DEBUG:mathsformer.selfsupervised_learning_addition_model_backend:    with metric mathsformer_LLM_output_masked_categorical_accuracy: 0.564\n",
      "DEBUG:mathsformer.selfsupervised_learning_addition_model_backend:    with metric mathsformer_LLM_output_1_masked_categorical_accuracy: 0.56392\n",
      "DEBUG:mathsformer.selfsupervised_learning_addition_model_backend:    with metric mathsformer_LLM_output_2_masked_categorical_accuracy: 0.56182\n",
      "DEBUG:mathsformer.selfsupervised_learning_addition_model_backend:    with metric val_loss: 4.1986\n",
      "DEBUG:mathsformer.selfsupervised_learning_addition_model_backend:    with metric val_mathsformer_LLM_output_loss: 1.4022\n",
      "DEBUG:mathsformer.selfsupervised_learning_addition_model_backend:    with metric val_mathsformer_LLM_output_1_loss: 1.3958\n",
      "DEBUG:mathsformer.selfsupervised_learning_addition_model_backend:    with metric val_mathsformer_LLM_output_2_loss: 1.4005\n",
      "DEBUG:mathsformer.selfsupervised_learning_addition_model_backend:    with metric val_mathsformer_LLM_output_masked_categorical_accuracy: 0.46532\n",
      "DEBUG:mathsformer.selfsupervised_learning_addition_model_backend:    with metric val_mathsformer_LLM_output_1_masked_categorical_accuracy: 0.46347\n",
      "DEBUG:mathsformer.selfsupervised_learning_addition_model_backend:    with metric val_mathsformer_LLM_output_2_masked_categorical_accuracy: 0.46227\n",
      "DEBUG:mathsformer.selfsupervised_learning_addition_model_backend:Running text --> text mathsformer inference on some training data:\n",
      "DEBUG:mathsformer.selfsupervised_learning_addition_model_backend:---------------------------------------------------------------------------------------\n",
      "DEBUG:mathsformer.selfsupervised_learning_addition_model_backend:                 INPUT         TRUE   PRED(MASK)    PRED(GEN)      CORRECT     RESIDUAL\n",
      "DEBUG:mathsformer.selfsupervised_learning_addition_model_backend:---------------------------------------------------------------------------------------\n",
      "DEBUG:mathsformer.selfsupervised_learning_addition_model_backend:    N8097-N943+N8+5-86        N7243        N8993        N8393                     -1150\n",
      "DEBUG:mathsformer.selfsupervised_learning_addition_model_backend:       N9+N4-N2+N943+4         N950        N959E         N959                        -9\n",
      "DEBUG:mathsformer.selfsupervised_learning_addition_model_backend:              476+N792         N316        N339E         N339                       -23\n",
      "DEBUG:mathsformer.selfsupervised_learning_addition_model_backend:     2333-6-N6836+8575        17738        N509E        N1499                    -19237\n",
      "DEBUG:mathsformer.selfsupervised_learning_addition_model_backend:  N6665+617+N57+61+363        N5681        N7993        N7933                     -2252\n",
      "DEBUG:mathsformer.selfsupervised_learning_addition_model_backend:     52-N6818+79-N5-N2         6956        N933E        N6793                    -13749\n",
      "DEBUG:mathsformer.selfsupervised_learning_addition_model_backend:                 N5+77           72        72EEE           72          X              0\n",
      "DEBUG:mathsformer.selfsupervised_learning_addition_model_backend: N379+N752-7+N2992-328        N4458        N3095        N3999                       459\n",
      "DEBUG:mathsformer.selfsupervised_learning_addition_model_backend:       N7+N9-1+97-7774        N7694        N7898        N7898                      -204\n",
      "DEBUG:mathsformer.selfsupervised_learning_addition_model_backend:              75+N3612        N3537        N3599        N3599                       -62\n",
      "DEBUG:mathsformer.selfsupervised_learning_addition_model_backend:            N6215+N893        N7108        N6339        N6393                       715\n",
      "DEBUG:mathsformer.selfsupervised_learning_addition_model_backend:                     8            8        8EEEE            8          X              0\n",
      "DEBUG:mathsformer.selfsupervised_learning_addition_model_backend:                  N257         N257        N257E         N257          X              0\n",
      "DEBUG:mathsformer.selfsupervised_learning_addition_model_backend:    8-N39-N555-N3-6589        N5984        N7838        N7938                     -1954\n",
      "DEBUG:mathsformer.selfsupervised_learning_addition_model_backend:                   401          401        401EE          401          X              0\n",
      "DEBUG:mathsformer.selfsupervised_learning_addition_model_backend:Running text --> text mathsformer inference on some validation data:\n",
      "DEBUG:mathsformer.selfsupervised_learning_addition_model_backend:----------------------------------------------------------------------------------\n",
      "DEBUG:mathsformer.selfsupervised_learning_addition_model_backend:            INPUT         TRUE   PRED(MASK)    PRED(GEN)      CORRECT     RESIDUAL\n",
      "DEBUG:mathsformer.selfsupervised_learning_addition_model_backend:----------------------------------------------------------------------------------\n",
      "DEBUG:mathsformer.selfsupervised_learning_addition_model_backend:     3-N3988+N847         3144        N899E        N4873                     -8017\n",
      "DEBUG:mathsformer.selfsupervised_learning_addition_model_backend:        7797+5-N4         7806        7893E         7893                        87\n",
      "DEBUG:mathsformer.selfsupervised_learning_addition_model_backend:     N8357-N11+N7        N8353        N8378        N8378                       -25\n",
      "DEBUG:mathsformer.selfsupervised_learning_addition_model_backend:    6686-N437-236         6887        7333E         7333                       446\n",
      "DEBUG:mathsformer.selfsupervised_learning_addition_model_backend:        N5+4442+8         4445        N436E        N4456                     -8901\n",
      "DEBUG:mathsformer.selfsupervised_learning_addition_model_backend:      2123-N1+N68         2056        2159E         2159                       103\n",
      "DEBUG:mathsformer.selfsupervised_learning_addition_model_backend:      95+4563+879         5537        N699E        N3999                     -9536\n",
      "DEBUG:mathsformer.selfsupervised_learning_addition_model_backend:     1639+N2868+5        N1224        N1699        N1699                      -475\n",
      "DEBUG:mathsformer.selfsupervised_learning_addition_model_backend:         8+N725-3         N720        7713E          733                      1453\n",
      "DEBUG:mathsformer.selfsupervised_learning_addition_model_backend:    N283+N962-N40        N1205        N1199        N1139                        66\n",
      "DEBUG:mathsformer.selfsupervised_learning_addition_model_backend: N2571-N818+N7340        N9093        N1798       N10999                     -1906\n",
      "DEBUG:mathsformer.selfsupervised_learning_addition_model_backend:      5617-N8+N39         5586        5733E         5733                       147\n",
      "DEBUG:mathsformer.selfsupervised_learning_addition_model_backend:     N554-N9942-7         9381        N498E       N10245                    -19626\n",
      "DEBUG:mathsformer.selfsupervised_learning_addition_model_backend:       4-28+N9276        N9300        N9239        N9239                        61\n",
      "DEBUG:mathsformer.selfsupervised_learning_addition_model_backend:      N250+2005+7         1762        N979E        N2883                     -4645\n"
     ]
    },
    {
     "name": "stdout",
     "output_type": "stream",
     "text": [
      "2000/2000 [==============================] - 874s 437ms/step - loss: 3.4242 - mathsformer_LLM_output_loss: 1.1397 - mathsformer_LLM_output_1_loss: 1.1393 - mathsformer_LLM_output_2_loss: 1.1452 - mathsformer_LLM_output_masked_categorical_accuracy: 0.5640 - mathsformer_LLM_output_1_masked_categorical_accuracy: 0.5639 - mathsformer_LLM_output_2_masked_categorical_accuracy: 0.5618 - val_loss: 4.1986 - val_mathsformer_LLM_output_loss: 1.4022 - val_mathsformer_LLM_output_1_loss: 1.3958 - val_mathsformer_LLM_output_2_loss: 1.4005 - val_mathsformer_LLM_output_masked_categorical_accuracy: 0.4653 - val_mathsformer_LLM_output_1_masked_categorical_accuracy: 0.4635 - val_mathsformer_LLM_output_2_masked_categorical_accuracy: 0.4623\n",
      "Epoch 13/100000\n",
      "2000/2000 [==============================] - ETA: 0s - loss: 3.2674 - mathsformer_LLM_output_loss: 1.0883 - mathsformer_LLM_output_1_loss: 1.0865 - mathsformer_LLM_output_2_loss: 1.0926 - mathsformer_LLM_output_masked_categorical_accuracy: 0.5849 - mathsformer_LLM_output_1_masked_categorical_accuracy: 0.5853 - mathsformer_LLM_output_2_masked_categorical_accuracy: 0.5842"
     ]
    },
    {
     "name": "stderr",
     "output_type": "stream",
     "text": [
      "DEBUG:mathsformer.selfsupervised_learning_addition_model_backend:Training reached the end of epoch at index 12\n",
      "DEBUG:mathsformer.selfsupervised_learning_addition_model_backend:    with metric loss: 3.2674\n",
      "DEBUG:mathsformer.selfsupervised_learning_addition_model_backend:    with metric mathsformer_LLM_output_loss: 1.0883\n",
      "DEBUG:mathsformer.selfsupervised_learning_addition_model_backend:    with metric mathsformer_LLM_output_1_loss: 1.0865\n",
      "DEBUG:mathsformer.selfsupervised_learning_addition_model_backend:    with metric mathsformer_LLM_output_2_loss: 1.0926\n",
      "DEBUG:mathsformer.selfsupervised_learning_addition_model_backend:    with metric mathsformer_LLM_output_masked_categorical_accuracy: 0.58492\n",
      "DEBUG:mathsformer.selfsupervised_learning_addition_model_backend:    with metric mathsformer_LLM_output_1_masked_categorical_accuracy: 0.58529\n",
      "DEBUG:mathsformer.selfsupervised_learning_addition_model_backend:    with metric mathsformer_LLM_output_2_masked_categorical_accuracy: 0.58419\n",
      "DEBUG:mathsformer.selfsupervised_learning_addition_model_backend:    with metric val_loss: 3.8167\n",
      "DEBUG:mathsformer.selfsupervised_learning_addition_model_backend:    with metric val_mathsformer_LLM_output_loss: 1.2745\n",
      "DEBUG:mathsformer.selfsupervised_learning_addition_model_backend:    with metric val_mathsformer_LLM_output_1_loss: 1.2671\n",
      "DEBUG:mathsformer.selfsupervised_learning_addition_model_backend:    with metric val_mathsformer_LLM_output_2_loss: 1.275\n",
      "DEBUG:mathsformer.selfsupervised_learning_addition_model_backend:    with metric val_mathsformer_LLM_output_masked_categorical_accuracy: 0.51579\n",
      "DEBUG:mathsformer.selfsupervised_learning_addition_model_backend:    with metric val_mathsformer_LLM_output_1_masked_categorical_accuracy: 0.52205\n",
      "DEBUG:mathsformer.selfsupervised_learning_addition_model_backend:    with metric val_mathsformer_LLM_output_2_masked_categorical_accuracy: 0.52418\n",
      "DEBUG:mathsformer.selfsupervised_learning_addition_model_backend:Running text --> text mathsformer inference on some training data:\n",
      "DEBUG:mathsformer.selfsupervised_learning_addition_model_backend:---------------------------------------------------------------------------------------\n",
      "DEBUG:mathsformer.selfsupervised_learning_addition_model_backend:                 INPUT         TRUE   PRED(MASK)    PRED(GEN)      CORRECT     RESIDUAL\n",
      "DEBUG:mathsformer.selfsupervised_learning_addition_model_backend:---------------------------------------------------------------------------------------\n",
      "DEBUG:mathsformer.selfsupervised_learning_addition_model_backend:    N8097-N943+N8+5-86        N7243        N7100        N7100                       143\n",
      "DEBUG:mathsformer.selfsupervised_learning_addition_model_backend:       N9+N4-N2+N943+4         N950        N952E         N952                        -2\n",
      "DEBUG:mathsformer.selfsupervised_learning_addition_model_backend:              476+N792         N316        N348E         N348                       -32\n",
      "DEBUG:mathsformer.selfsupervised_learning_addition_model_backend:     2333-6-N6836+8575        17738        14003        14003                     -3735\n",
      "DEBUG:mathsformer.selfsupervised_learning_addition_model_backend:  N6665+617+N57+61+363        N5681        N6707        N6707                     -1026\n",
      "DEBUG:mathsformer.selfsupervised_learning_addition_model_backend:     52-N6818+79-N5-N2         6956        6877E         6877                       -79\n",
      "DEBUG:mathsformer.selfsupervised_learning_addition_model_backend:                 N5+77           72        72EEE           72          X              0\n",
      "DEBUG:mathsformer.selfsupervised_learning_addition_model_backend: N379+N752-7+N2992-328        N4458        N3272        N3277                      1181\n",
      "DEBUG:mathsformer.selfsupervised_learning_addition_model_backend:       N7+N9-1+97-7774        N7694        N7772        N7772                       -78\n",
      "DEBUG:mathsformer.selfsupervised_learning_addition_model_backend:              75+N3612        N3537        N3589        N3589                       -52\n",
      "DEBUG:mathsformer.selfsupervised_learning_addition_model_backend:            N6215+N893        N7108        N6307        N6307                       801\n",
      "DEBUG:mathsformer.selfsupervised_learning_addition_model_backend:                     8            8        8EE9E            8          X              0\n",
      "DEBUG:mathsformer.selfsupervised_learning_addition_model_backend:                  N257         N257        N257E         N257          X              0\n",
      "DEBUG:mathsformer.selfsupervised_learning_addition_model_backend:    8-N39-N555-N3-6589        N5984        N6077        N6077                       -93\n",
      "DEBUG:mathsformer.selfsupervised_learning_addition_model_backend:                   401          401        401EE          401          X              0\n",
      "DEBUG:mathsformer.selfsupervised_learning_addition_model_backend:Running text --> text mathsformer inference on some validation data:\n",
      "DEBUG:mathsformer.selfsupervised_learning_addition_model_backend:----------------------------------------------------------------------------------\n",
      "DEBUG:mathsformer.selfsupervised_learning_addition_model_backend:            INPUT         TRUE   PRED(MASK)    PRED(GEN)      CORRECT     RESIDUAL\n",
      "DEBUG:mathsformer.selfsupervised_learning_addition_model_backend:----------------------------------------------------------------------------------\n",
      "DEBUG:mathsformer.selfsupervised_learning_addition_model_backend:     3-N3988+N847         3144        3007E         3007                      -137\n",
      "DEBUG:mathsformer.selfsupervised_learning_addition_model_backend:        7797+5-N4         7806        7780E         7780                       -26\n",
      "DEBUG:mathsformer.selfsupervised_learning_addition_model_backend:     N8357-N11+N7        N8353        N8360        N8360                        -7\n",
      "DEBUG:mathsformer.selfsupervised_learning_addition_model_backend:    6686-N437-236         6887        6202E         6207                      -680\n",
      "DEBUG:mathsformer.selfsupervised_learning_addition_model_backend:        N5+4442+8         4445        4437E         4437                        -8\n",
      "DEBUG:mathsformer.selfsupervised_learning_addition_model_backend:      2123-N1+N68         2056        2000E         2000                       -56\n",
      "DEBUG:mathsformer.selfsupervised_learning_addition_model_backend:      95+4563+879         5537        3420E         3920                     -1617\n",
      "DEBUG:mathsformer.selfsupervised_learning_addition_model_backend:     1639+N2868+5        N1224        N1478        N1478                      -254\n",
      "DEBUG:mathsformer.selfsupervised_learning_addition_model_backend:         8+N725-3         N720        N608E         N608                       112\n",
      "DEBUG:mathsformer.selfsupervised_learning_addition_model_backend:    N283+N962-N40        N1205        N1103        N1103                       102\n",
      "DEBUG:mathsformer.selfsupervised_learning_addition_model_backend: N2571-N818+N7340        N9093        N1077       N10077                      -984\n",
      "DEBUG:mathsformer.selfsupervised_learning_addition_model_backend:      5617-N8+N39         5586        5570E         5570                       -16\n",
      "DEBUG:mathsformer.selfsupervised_learning_addition_model_backend:     N554-N9942-7         9381        9477E         9477                        96\n",
      "DEBUG:mathsformer.selfsupervised_learning_addition_model_backend:       4-28+N9276        N9300        N9307        N9307                        -7\n",
      "DEBUG:mathsformer.selfsupervised_learning_addition_model_backend:      N250+2005+7         1762        2877E         2877                      1115\n"
     ]
    },
    {
     "name": "stdout",
     "output_type": "stream",
     "text": [
      "2000/2000 [==============================] - 875s 438ms/step - loss: 3.2674 - mathsformer_LLM_output_loss: 1.0883 - mathsformer_LLM_output_1_loss: 1.0865 - mathsformer_LLM_output_2_loss: 1.0926 - mathsformer_LLM_output_masked_categorical_accuracy: 0.5849 - mathsformer_LLM_output_1_masked_categorical_accuracy: 0.5853 - mathsformer_LLM_output_2_masked_categorical_accuracy: 0.5842 - val_loss: 3.8167 - val_mathsformer_LLM_output_loss: 1.2745 - val_mathsformer_LLM_output_1_loss: 1.2671 - val_mathsformer_LLM_output_2_loss: 1.2750 - val_mathsformer_LLM_output_masked_categorical_accuracy: 0.5158 - val_mathsformer_LLM_output_1_masked_categorical_accuracy: 0.5221 - val_mathsformer_LLM_output_2_masked_categorical_accuracy: 0.5242\n",
      "Epoch 14/100000\n",
      "2000/2000 [==============================] - ETA: 0s - loss: 2.9549 - mathsformer_LLM_output_loss: 0.9855 - mathsformer_LLM_output_1_loss: 0.9808 - mathsformer_LLM_output_2_loss: 0.9887 - mathsformer_LLM_output_masked_categorical_accuracy: 0.6236 - mathsformer_LLM_output_1_masked_categorical_accuracy: 0.6250 - mathsformer_LLM_output_2_masked_categorical_accuracy: 0.6226"
     ]
    },
    {
     "name": "stderr",
     "output_type": "stream",
     "text": [
      "DEBUG:mathsformer.selfsupervised_learning_addition_model_backend:Training reached the end of epoch at index 13\n",
      "DEBUG:mathsformer.selfsupervised_learning_addition_model_backend:    with metric loss: 2.9549\n",
      "DEBUG:mathsformer.selfsupervised_learning_addition_model_backend:    with metric mathsformer_LLM_output_loss: 0.98545\n",
      "DEBUG:mathsformer.selfsupervised_learning_addition_model_backend:    with metric mathsformer_LLM_output_1_loss: 0.98078\n",
      "DEBUG:mathsformer.selfsupervised_learning_addition_model_backend:    with metric mathsformer_LLM_output_2_loss: 0.98868\n",
      "DEBUG:mathsformer.selfsupervised_learning_addition_model_backend:    with metric mathsformer_LLM_output_masked_categorical_accuracy: 0.62364\n",
      "DEBUG:mathsformer.selfsupervised_learning_addition_model_backend:    with metric mathsformer_LLM_output_1_masked_categorical_accuracy: 0.62502\n",
      "DEBUG:mathsformer.selfsupervised_learning_addition_model_backend:    with metric mathsformer_LLM_output_2_masked_categorical_accuracy: 0.62258\n",
      "DEBUG:mathsformer.selfsupervised_learning_addition_model_backend:    with metric val_loss: 3.6535\n",
      "DEBUG:mathsformer.selfsupervised_learning_addition_model_backend:    with metric val_mathsformer_LLM_output_loss: 1.2085\n",
      "DEBUG:mathsformer.selfsupervised_learning_addition_model_backend:    with metric val_mathsformer_LLM_output_1_loss: 1.2119\n",
      "DEBUG:mathsformer.selfsupervised_learning_addition_model_backend:    with metric val_mathsformer_LLM_output_2_loss: 1.2332\n",
      "DEBUG:mathsformer.selfsupervised_learning_addition_model_backend:    with metric val_mathsformer_LLM_output_masked_categorical_accuracy: 0.55774\n",
      "DEBUG:mathsformer.selfsupervised_learning_addition_model_backend:    with metric val_mathsformer_LLM_output_1_masked_categorical_accuracy: 0.56322\n",
      "DEBUG:mathsformer.selfsupervised_learning_addition_model_backend:    with metric val_mathsformer_LLM_output_2_masked_categorical_accuracy: 0.56267\n",
      "DEBUG:mathsformer.selfsupervised_learning_addition_model_backend:Running text --> text mathsformer inference on some training data:\n",
      "DEBUG:mathsformer.selfsupervised_learning_addition_model_backend:---------------------------------------------------------------------------------------\n",
      "DEBUG:mathsformer.selfsupervised_learning_addition_model_backend:                 INPUT         TRUE   PRED(MASK)    PRED(GEN)      CORRECT     RESIDUAL\n",
      "DEBUG:mathsformer.selfsupervised_learning_addition_model_backend:---------------------------------------------------------------------------------------\n",
      "DEBUG:mathsformer.selfsupervised_learning_addition_model_backend:    N8097-N943+N8+5-86        N7243        N7963        N7963                      -720\n",
      "DEBUG:mathsformer.selfsupervised_learning_addition_model_backend:       N9+N4-N2+N943+4         N950        N946E         N946                         4\n",
      "DEBUG:mathsformer.selfsupervised_learning_addition_model_backend:              476+N792         N316        N239E         N233                        83\n",
      "DEBUG:mathsformer.selfsupervised_learning_addition_model_backend:     2333-6-N6836+8575        17738        16836        16836                      -902\n",
      "DEBUG:mathsformer.selfsupervised_learning_addition_model_backend:  N6665+617+N57+61+363        N5681        N6333        N6033                      -352\n",
      "DEBUG:mathsformer.selfsupervised_learning_addition_model_backend:     52-N6818+79-N5-N2         6956        6969E         6969                        13\n",
      "DEBUG:mathsformer.selfsupervised_learning_addition_model_backend:                 N5+77           72        72EEE           72          X              0\n",
      "DEBUG:mathsformer.selfsupervised_learning_addition_model_backend: N379+N752-7+N2992-328        N4458        N4696        N4696                      -238\n",
      "DEBUG:mathsformer.selfsupervised_learning_addition_model_backend:       N7+N9-1+97-7774        N7694        N7888        N7888                      -194\n",
      "DEBUG:mathsformer.selfsupervised_learning_addition_model_backend:              75+N3612        N3537        N3545        N3545                        -8\n",
      "DEBUG:mathsformer.selfsupervised_learning_addition_model_backend:            N6215+N893        N7108        N7098        N7098                        10\n",
      "DEBUG:mathsformer.selfsupervised_learning_addition_model_backend:                     8            8        8EE9E            8          X              0\n",
      "DEBUG:mathsformer.selfsupervised_learning_addition_model_backend:                  N257         N257        N257E         N257          X              0\n",
      "DEBUG:mathsformer.selfsupervised_learning_addition_model_backend:    8-N39-N555-N3-6589        N5984        N6936        N6936                      -952\n",
      "DEBUG:mathsformer.selfsupervised_learning_addition_model_backend:                   401          401        401EE          401          X              0\n",
      "DEBUG:mathsformer.selfsupervised_learning_addition_model_backend:Running text --> text mathsformer inference on some validation data:\n",
      "DEBUG:mathsformer.selfsupervised_learning_addition_model_backend:----------------------------------------------------------------------------------\n",
      "DEBUG:mathsformer.selfsupervised_learning_addition_model_backend:            INPUT         TRUE   PRED(MASK)    PRED(GEN)      CORRECT     RESIDUAL\n",
      "DEBUG:mathsformer.selfsupervised_learning_addition_model_backend:----------------------------------------------------------------------------------\n",
      "DEBUG:mathsformer.selfsupervised_learning_addition_model_backend:     3-N3988+N847         3144        3139E         3139                        -5\n",
      "DEBUG:mathsformer.selfsupervised_learning_addition_model_backend:        7797+5-N4         7806        7804E         7804                        -2\n",
      "DEBUG:mathsformer.selfsupervised_learning_addition_model_backend:     N8357-N11+N7        N8353        N8340        N8349                         4\n",
      "DEBUG:mathsformer.selfsupervised_learning_addition_model_backend:    6686-N437-236         6887        6130E         6139                      -748\n",
      "DEBUG:mathsformer.selfsupervised_learning_addition_model_backend:        N5+4442+8         4445        4446E         4446                         1\n",
      "DEBUG:mathsformer.selfsupervised_learning_addition_model_backend:      2123-N1+N68         2056        2068E         2068                        12\n",
      "DEBUG:mathsformer.selfsupervised_learning_addition_model_backend:      95+4563+879         5537        5458E         5458                       -79\n",
      "DEBUG:mathsformer.selfsupervised_learning_addition_model_backend:     1639+N2868+5        N1224        N1233        N1233                        -9\n",
      "DEBUG:mathsformer.selfsupervised_learning_addition_model_backend:         8+N725-3         N720        N719E         N719                         1\n",
      "DEBUG:mathsformer.selfsupervised_learning_addition_model_backend:    N283+N962-N40        N1205        N1166        N1166                        39\n",
      "DEBUG:mathsformer.selfsupervised_learning_addition_model_backend: N2571-N818+N7340        N9093        N9033        N9033                        60\n",
      "DEBUG:mathsformer.selfsupervised_learning_addition_model_backend:      5617-N8+N39         5586        5689E         5689                       103\n",
      "DEBUG:mathsformer.selfsupervised_learning_addition_model_backend:     N554-N9942-7         9381        8476E         8476                      -905\n",
      "DEBUG:mathsformer.selfsupervised_learning_addition_model_backend:       4-28+N9276        N9300        N9294        N9294                         6\n",
      "DEBUG:mathsformer.selfsupervised_learning_addition_model_backend:      N250+2005+7         1762        2656E         2646                       884\n"
     ]
    },
    {
     "name": "stdout",
     "output_type": "stream",
     "text": [
      "2000/2000 [==============================] - 879s 439ms/step - loss: 2.9549 - mathsformer_LLM_output_loss: 0.9855 - mathsformer_LLM_output_1_loss: 0.9808 - mathsformer_LLM_output_2_loss: 0.9887 - mathsformer_LLM_output_masked_categorical_accuracy: 0.6236 - mathsformer_LLM_output_1_masked_categorical_accuracy: 0.6250 - mathsformer_LLM_output_2_masked_categorical_accuracy: 0.6226 - val_loss: 3.6535 - val_mathsformer_LLM_output_loss: 1.2085 - val_mathsformer_LLM_output_1_loss: 1.2119 - val_mathsformer_LLM_output_2_loss: 1.2332 - val_mathsformer_LLM_output_masked_categorical_accuracy: 0.5577 - val_mathsformer_LLM_output_1_masked_categorical_accuracy: 0.5632 - val_mathsformer_LLM_output_2_masked_categorical_accuracy: 0.5627\n",
      "Epoch 15/100000\n",
      "2000/2000 [==============================] - ETA: 0s - loss: 2.6190 - mathsformer_LLM_output_loss: 0.8739 - mathsformer_LLM_output_1_loss: 0.8679 - mathsformer_LLM_output_2_loss: 0.8772 - mathsformer_LLM_output_masked_categorical_accuracy: 0.6651 - mathsformer_LLM_output_1_masked_categorical_accuracy: 0.6665 - mathsformer_LLM_output_2_masked_categorical_accuracy: 0.6635"
     ]
    },
    {
     "name": "stderr",
     "output_type": "stream",
     "text": [
      "DEBUG:mathsformer.selfsupervised_learning_addition_model_backend:Training reached the end of epoch at index 14\n",
      "DEBUG:mathsformer.selfsupervised_learning_addition_model_backend:    with metric loss: 2.619\n",
      "DEBUG:mathsformer.selfsupervised_learning_addition_model_backend:    with metric mathsformer_LLM_output_loss: 0.87387\n",
      "DEBUG:mathsformer.selfsupervised_learning_addition_model_backend:    with metric mathsformer_LLM_output_1_loss: 0.86792\n",
      "DEBUG:mathsformer.selfsupervised_learning_addition_model_backend:    with metric mathsformer_LLM_output_2_loss: 0.87718\n",
      "DEBUG:mathsformer.selfsupervised_learning_addition_model_backend:    with metric mathsformer_LLM_output_masked_categorical_accuracy: 0.66505\n",
      "DEBUG:mathsformer.selfsupervised_learning_addition_model_backend:    with metric mathsformer_LLM_output_1_masked_categorical_accuracy: 0.66652\n",
      "DEBUG:mathsformer.selfsupervised_learning_addition_model_backend:    with metric mathsformer_LLM_output_2_masked_categorical_accuracy: 0.66353\n",
      "DEBUG:mathsformer.selfsupervised_learning_addition_model_backend:    with metric val_loss: 3.629\n",
      "DEBUG:mathsformer.selfsupervised_learning_addition_model_backend:    with metric val_mathsformer_LLM_output_loss: 1.2118\n",
      "DEBUG:mathsformer.selfsupervised_learning_addition_model_backend:    with metric val_mathsformer_LLM_output_1_loss: 1.2035\n",
      "DEBUG:mathsformer.selfsupervised_learning_addition_model_backend:    with metric val_mathsformer_LLM_output_2_loss: 1.2137\n",
      "DEBUG:mathsformer.selfsupervised_learning_addition_model_backend:    with metric val_mathsformer_LLM_output_masked_categorical_accuracy: 0.57773\n",
      "DEBUG:mathsformer.selfsupervised_learning_addition_model_backend:    with metric val_mathsformer_LLM_output_1_masked_categorical_accuracy: 0.57769\n",
      "DEBUG:mathsformer.selfsupervised_learning_addition_model_backend:    with metric val_mathsformer_LLM_output_2_masked_categorical_accuracy: 0.57588\n",
      "DEBUG:mathsformer.selfsupervised_learning_addition_model_backend:Running text --> text mathsformer inference on some training data:\n",
      "DEBUG:mathsformer.selfsupervised_learning_addition_model_backend:---------------------------------------------------------------------------------------\n",
      "DEBUG:mathsformer.selfsupervised_learning_addition_model_backend:                 INPUT         TRUE   PRED(MASK)    PRED(GEN)      CORRECT     RESIDUAL\n",
      "DEBUG:mathsformer.selfsupervised_learning_addition_model_backend:---------------------------------------------------------------------------------------\n",
      "DEBUG:mathsformer.selfsupervised_learning_addition_model_backend:    N8097-N943+N8+5-86        N7243        N7033        N7033                       210\n",
      "DEBUG:mathsformer.selfsupervised_learning_addition_model_backend:       N9+N4-N2+N943+4         N950        N939E         N939                        11\n",
      "DEBUG:mathsformer.selfsupervised_learning_addition_model_backend:              476+N792         N316        N319E         N319                        -3\n",
      "DEBUG:mathsformer.selfsupervised_learning_addition_model_backend:     2333-6-N6836+8575        17738        15111        15111                     -2627\n",
      "DEBUG:mathsformer.selfsupervised_learning_addition_model_backend:  N6665+617+N57+61+363        N5681        N6000        N6000                      -319\n",
      "DEBUG:mathsformer.selfsupervised_learning_addition_model_backend:     52-N6818+79-N5-N2         6956        6870E         6870                       -86\n",
      "DEBUG:mathsformer.selfsupervised_learning_addition_model_backend:                 N5+77           72        72EEE           72          X              0\n",
      "DEBUG:mathsformer.selfsupervised_learning_addition_model_backend: N379+N752-7+N2992-328        N4458        N4705        N4705                      -247\n",
      "DEBUG:mathsformer.selfsupervised_learning_addition_model_backend:       N7+N9-1+97-7774        N7694        N7770        N7770                       -76\n",
      "DEBUG:mathsformer.selfsupervised_learning_addition_model_backend:              75+N3612        N3537        N3547        N3547                       -10\n",
      "DEBUG:mathsformer.selfsupervised_learning_addition_model_backend:            N6215+N893        N7108        N6107        N6107                      1001\n",
      "DEBUG:mathsformer.selfsupervised_learning_addition_model_backend:                     8            8        8EE1E            8          X              0\n",
      "DEBUG:mathsformer.selfsupervised_learning_addition_model_backend:                  N257         N257        N257E         N257          X              0\n",
      "DEBUG:mathsformer.selfsupervised_learning_addition_model_backend:    8-N39-N555-N3-6589        N5984        N6903        N6903                      -919\n",
      "DEBUG:mathsformer.selfsupervised_learning_addition_model_backend:                   401          401        401EE          401          X              0\n",
      "DEBUG:mathsformer.selfsupervised_learning_addition_model_backend:Running text --> text mathsformer inference on some validation data:\n",
      "DEBUG:mathsformer.selfsupervised_learning_addition_model_backend:----------------------------------------------------------------------------------\n",
      "DEBUG:mathsformer.selfsupervised_learning_addition_model_backend:            INPUT         TRUE   PRED(MASK)    PRED(GEN)      CORRECT     RESIDUAL\n",
      "DEBUG:mathsformer.selfsupervised_learning_addition_model_backend:----------------------------------------------------------------------------------\n",
      "DEBUG:mathsformer.selfsupervised_learning_addition_model_backend:     3-N3988+N847         3144        3133E         3133                       -11\n",
      "DEBUG:mathsformer.selfsupervised_learning_addition_model_backend:        7797+5-N4         7806        7803E         7803                        -3\n",
      "DEBUG:mathsformer.selfsupervised_learning_addition_model_backend:     N8357-N11+N7        N8353        N8357        N8357                        -4\n",
      "DEBUG:mathsformer.selfsupervised_learning_addition_model_backend:    6686-N437-236         6887        6000E         6000                      -887\n",
      "DEBUG:mathsformer.selfsupervised_learning_addition_model_backend:        N5+4442+8         4445        4447E         4447                         2\n",
      "DEBUG:mathsformer.selfsupervised_learning_addition_model_backend:      2123-N1+N68         2056        2054E         2054                        -2\n",
      "DEBUG:mathsformer.selfsupervised_learning_addition_model_backend:      95+4563+879         5537        5333E         5343                      -194\n",
      "DEBUG:mathsformer.selfsupervised_learning_addition_model_backend:     1639+N2868+5        N1224        N1131        N1131                        93\n",
      "DEBUG:mathsformer.selfsupervised_learning_addition_model_backend:         8+N725-3         N720        N713E         N713                         7\n",
      "DEBUG:mathsformer.selfsupervised_learning_addition_model_backend:    N283+N962-N40        N1205        N1110        N1110                        95\n",
      "DEBUG:mathsformer.selfsupervised_learning_addition_model_backend: N2571-N818+N7340        N9093        N9900        N9900                      -807\n",
      "DEBUG:mathsformer.selfsupervised_learning_addition_model_backend:      5617-N8+N39         5586        5689E         5689                       103\n",
      "DEBUG:mathsformer.selfsupervised_learning_addition_model_backend:     N554-N9942-7         9381        9399E         9399                        18\n",
      "DEBUG:mathsformer.selfsupervised_learning_addition_model_backend:       4-28+N9276        N9300        N9394        N9394                       -94\n",
      "DEBUG:mathsformer.selfsupervised_learning_addition_model_backend:      N250+2005+7         1762        1744E         1744                       -18\n"
     ]
    },
    {
     "name": "stdout",
     "output_type": "stream",
     "text": [
      "2000/2000 [==============================] - 882s 441ms/step - loss: 2.6190 - mathsformer_LLM_output_loss: 0.8739 - mathsformer_LLM_output_1_loss: 0.8679 - mathsformer_LLM_output_2_loss: 0.8772 - mathsformer_LLM_output_masked_categorical_accuracy: 0.6651 - mathsformer_LLM_output_1_masked_categorical_accuracy: 0.6665 - mathsformer_LLM_output_2_masked_categorical_accuracy: 0.6635 - val_loss: 3.6290 - val_mathsformer_LLM_output_loss: 1.2118 - val_mathsformer_LLM_output_1_loss: 1.2035 - val_mathsformer_LLM_output_2_loss: 1.2137 - val_mathsformer_LLM_output_masked_categorical_accuracy: 0.5777 - val_mathsformer_LLM_output_1_masked_categorical_accuracy: 0.5777 - val_mathsformer_LLM_output_2_masked_categorical_accuracy: 0.5759\n",
      "Epoch 16/100000\n",
      "2000/2000 [==============================] - ETA: 0s - loss: 2.4434 - mathsformer_LLM_output_loss: 0.8152 - mathsformer_LLM_output_1_loss: 0.8098 - mathsformer_LLM_output_2_loss: 0.8184 - mathsformer_LLM_output_masked_categorical_accuracy: 0.6859 - mathsformer_LLM_output_1_masked_categorical_accuracy: 0.6878 - mathsformer_LLM_output_2_masked_categorical_accuracy: 0.6848"
     ]
    },
    {
     "name": "stderr",
     "output_type": "stream",
     "text": [
      "DEBUG:mathsformer.selfsupervised_learning_addition_model_backend:Training reached the end of epoch at index 15\n",
      "DEBUG:mathsformer.selfsupervised_learning_addition_model_backend:    with metric loss: 2.4434\n",
      "DEBUG:mathsformer.selfsupervised_learning_addition_model_backend:    with metric mathsformer_LLM_output_loss: 0.81519\n",
      "DEBUG:mathsformer.selfsupervised_learning_addition_model_backend:    with metric mathsformer_LLM_output_1_loss: 0.80982\n",
      "DEBUG:mathsformer.selfsupervised_learning_addition_model_backend:    with metric mathsformer_LLM_output_2_loss: 0.81839\n",
      "DEBUG:mathsformer.selfsupervised_learning_addition_model_backend:    with metric mathsformer_LLM_output_masked_categorical_accuracy: 0.68591\n",
      "DEBUG:mathsformer.selfsupervised_learning_addition_model_backend:    with metric mathsformer_LLM_output_1_masked_categorical_accuracy: 0.68782\n",
      "DEBUG:mathsformer.selfsupervised_learning_addition_model_backend:    with metric mathsformer_LLM_output_2_masked_categorical_accuracy: 0.68484\n",
      "DEBUG:mathsformer.selfsupervised_learning_addition_model_backend:    with metric val_loss: 3.396\n",
      "DEBUG:mathsformer.selfsupervised_learning_addition_model_backend:    with metric val_mathsformer_LLM_output_loss: 1.1473\n",
      "DEBUG:mathsformer.selfsupervised_learning_addition_model_backend:    with metric val_mathsformer_LLM_output_1_loss: 1.1238\n",
      "DEBUG:mathsformer.selfsupervised_learning_addition_model_backend:    with metric val_mathsformer_LLM_output_2_loss: 1.125\n",
      "DEBUG:mathsformer.selfsupervised_learning_addition_model_backend:    with metric val_mathsformer_LLM_output_masked_categorical_accuracy: 0.59372\n",
      "DEBUG:mathsformer.selfsupervised_learning_addition_model_backend:    with metric val_mathsformer_LLM_output_1_masked_categorical_accuracy: 0.59381\n",
      "DEBUG:mathsformer.selfsupervised_learning_addition_model_backend:    with metric val_mathsformer_LLM_output_2_masked_categorical_accuracy: 0.58799\n",
      "DEBUG:mathsformer.selfsupervised_learning_addition_model_backend:Running text --> text mathsformer inference on some training data:\n",
      "DEBUG:mathsformer.selfsupervised_learning_addition_model_backend:---------------------------------------------------------------------------------------\n",
      "DEBUG:mathsformer.selfsupervised_learning_addition_model_backend:                 INPUT         TRUE   PRED(MASK)    PRED(GEN)      CORRECT     RESIDUAL\n",
      "DEBUG:mathsformer.selfsupervised_learning_addition_model_backend:---------------------------------------------------------------------------------------\n",
      "DEBUG:mathsformer.selfsupervised_learning_addition_model_backend:    N8097-N943+N8+5-86        N7243        N7133        N7133                       110\n",
      "DEBUG:mathsformer.selfsupervised_learning_addition_model_backend:       N9+N4-N2+N943+4         N950        N956E         N956                        -6\n",
      "DEBUG:mathsformer.selfsupervised_learning_addition_model_backend:              476+N792         N316        N225E         N225                        91\n",
      "DEBUG:mathsformer.selfsupervised_learning_addition_model_backend:     2333-6-N6836+8575        17738        16111        16111                     -1627\n",
      "DEBUG:mathsformer.selfsupervised_learning_addition_model_backend:  N6665+617+N57+61+363        N5681        N6533        N6333                      -652\n",
      "DEBUG:mathsformer.selfsupervised_learning_addition_model_backend:     52-N6818+79-N5-N2         6956        7966E         7966                      1010\n",
      "DEBUG:mathsformer.selfsupervised_learning_addition_model_backend:                 N5+77           72        72EEE           72          X              0\n",
      "DEBUG:mathsformer.selfsupervised_learning_addition_model_backend: N379+N752-7+N2992-328        N4458        N4666        N4666                      -208\n",
      "DEBUG:mathsformer.selfsupervised_learning_addition_model_backend:       N7+N9-1+97-7774        N7694        N7774        N7774                       -80\n",
      "DEBUG:mathsformer.selfsupervised_learning_addition_model_backend:              75+N3612        N3537        N3537        N3537          X              0\n",
      "DEBUG:mathsformer.selfsupervised_learning_addition_model_backend:            N6215+N893        N7108        N7008        N7008                       100\n",
      "DEBUG:mathsformer.selfsupervised_learning_addition_model_backend:                     8            8        8EE2E            8          X              0\n",
      "DEBUG:mathsformer.selfsupervised_learning_addition_model_backend:                  N257         N257        N257E         N257          X              0\n",
      "DEBUG:mathsformer.selfsupervised_learning_addition_model_backend:    8-N39-N555-N3-6589        N5984        N6933        N6933                      -949\n",
      "DEBUG:mathsformer.selfsupervised_learning_addition_model_backend:                   401          401        401EE          401          X              0\n",
      "DEBUG:mathsformer.selfsupervised_learning_addition_model_backend:Running text --> text mathsformer inference on some validation data:\n",
      "DEBUG:mathsformer.selfsupervised_learning_addition_model_backend:----------------------------------------------------------------------------------\n",
      "DEBUG:mathsformer.selfsupervised_learning_addition_model_backend:            INPUT         TRUE   PRED(MASK)    PRED(GEN)      CORRECT     RESIDUAL\n",
      "DEBUG:mathsformer.selfsupervised_learning_addition_model_backend:----------------------------------------------------------------------------------\n",
      "DEBUG:mathsformer.selfsupervised_learning_addition_model_backend:     3-N3988+N847         3144        3133E         3133                       -11\n",
      "DEBUG:mathsformer.selfsupervised_learning_addition_model_backend:        7797+5-N4         7806        7803E         7803                        -3\n",
      "DEBUG:mathsformer.selfsupervised_learning_addition_model_backend:     N8357-N11+N7        N8353        N8346        N8346                         7\n",
      "DEBUG:mathsformer.selfsupervised_learning_addition_model_backend:    6686-N437-236         6887        6933E         6933                        46\n",
      "DEBUG:mathsformer.selfsupervised_learning_addition_model_backend:        N5+4442+8         4445        4447E         4447                         2\n",
      "DEBUG:mathsformer.selfsupervised_learning_addition_model_backend:      2123-N1+N68         2056        2065E         2065                         9\n",
      "DEBUG:mathsformer.selfsupervised_learning_addition_model_backend:      95+4563+879         5537        6442E         6442                       905\n",
      "DEBUG:mathsformer.selfsupervised_learning_addition_model_backend:     1639+N2868+5        N1224        N1233        N1233                        -9\n",
      "DEBUG:mathsformer.selfsupervised_learning_addition_model_backend:         8+N725-3         N720        N711E         N711                         9\n",
      "DEBUG:mathsformer.selfsupervised_learning_addition_model_backend:    N283+N962-N40        N1205        N1246        N1246                       -41\n",
      "DEBUG:mathsformer.selfsupervised_learning_addition_model_backend: N2571-N818+N7340        N9093        N9136        N9136                       -43\n",
      "DEBUG:mathsformer.selfsupervised_learning_addition_model_backend:      5617-N8+N39         5586        5568E         5568                       -18\n",
      "DEBUG:mathsformer.selfsupervised_learning_addition_model_backend:     N554-N9942-7         9381        9396E         9396                        15\n",
      "DEBUG:mathsformer.selfsupervised_learning_addition_model_backend:       4-28+N9276        N9300        N9304        N9304                        -4\n",
      "DEBUG:mathsformer.selfsupervised_learning_addition_model_backend:      N250+2005+7         1762        1755E         1755                        -7\n"
     ]
    },
    {
     "name": "stdout",
     "output_type": "stream",
     "text": [
      "2000/2000 [==============================] - 875s 438ms/step - loss: 2.4434 - mathsformer_LLM_output_loss: 0.8152 - mathsformer_LLM_output_1_loss: 0.8098 - mathsformer_LLM_output_2_loss: 0.8184 - mathsformer_LLM_output_masked_categorical_accuracy: 0.6859 - mathsformer_LLM_output_1_masked_categorical_accuracy: 0.6878 - mathsformer_LLM_output_2_masked_categorical_accuracy: 0.6848 - val_loss: 3.3960 - val_mathsformer_LLM_output_loss: 1.1473 - val_mathsformer_LLM_output_1_loss: 1.1238 - val_mathsformer_LLM_output_2_loss: 1.1250 - val_mathsformer_LLM_output_masked_categorical_accuracy: 0.5937 - val_mathsformer_LLM_output_1_masked_categorical_accuracy: 0.5938 - val_mathsformer_LLM_output_2_masked_categorical_accuracy: 0.5880\n",
      "Epoch 17/100000\n",
      "2000/2000 [==============================] - ETA: 0s - loss: 2.3390 - mathsformer_LLM_output_loss: 0.7801 - mathsformer_LLM_output_1_loss: 0.7752 - mathsformer_LLM_output_2_loss: 0.7837 - mathsformer_LLM_output_masked_categorical_accuracy: 0.6998 - mathsformer_LLM_output_1_masked_categorical_accuracy: 0.7013 - mathsformer_LLM_output_2_masked_categorical_accuracy: 0.6987"
     ]
    },
    {
     "name": "stderr",
     "output_type": "stream",
     "text": [
      "DEBUG:mathsformer.selfsupervised_learning_addition_model_backend:Training reached the end of epoch at index 16\n",
      "DEBUG:mathsformer.selfsupervised_learning_addition_model_backend:    with metric loss: 2.339\n",
      "DEBUG:mathsformer.selfsupervised_learning_addition_model_backend:    with metric mathsformer_LLM_output_loss: 0.7801\n",
      "DEBUG:mathsformer.selfsupervised_learning_addition_model_backend:    with metric mathsformer_LLM_output_1_loss: 0.77524\n",
      "DEBUG:mathsformer.selfsupervised_learning_addition_model_backend:    with metric mathsformer_LLM_output_2_loss: 0.78367\n",
      "DEBUG:mathsformer.selfsupervised_learning_addition_model_backend:    with metric mathsformer_LLM_output_masked_categorical_accuracy: 0.69985\n",
      "DEBUG:mathsformer.selfsupervised_learning_addition_model_backend:    with metric mathsformer_LLM_output_1_masked_categorical_accuracy: 0.70133\n",
      "DEBUG:mathsformer.selfsupervised_learning_addition_model_backend:    with metric mathsformer_LLM_output_2_masked_categorical_accuracy: 0.69867\n",
      "DEBUG:mathsformer.selfsupervised_learning_addition_model_backend:    with metric val_loss: 3.4919\n",
      "DEBUG:mathsformer.selfsupervised_learning_addition_model_backend:    with metric val_mathsformer_LLM_output_loss: 1.1881\n",
      "DEBUG:mathsformer.selfsupervised_learning_addition_model_backend:    with metric val_mathsformer_LLM_output_1_loss: 1.1532\n",
      "DEBUG:mathsformer.selfsupervised_learning_addition_model_backend:    with metric val_mathsformer_LLM_output_2_loss: 1.1506\n",
      "DEBUG:mathsformer.selfsupervised_learning_addition_model_backend:    with metric val_mathsformer_LLM_output_masked_categorical_accuracy: 0.6083\n",
      "DEBUG:mathsformer.selfsupervised_learning_addition_model_backend:    with metric val_mathsformer_LLM_output_1_masked_categorical_accuracy: 0.60846\n",
      "DEBUG:mathsformer.selfsupervised_learning_addition_model_backend:    with metric val_mathsformer_LLM_output_2_masked_categorical_accuracy: 0.60658\n",
      "DEBUG:mathsformer.selfsupervised_learning_addition_model_backend:Running text --> text mathsformer inference on some training data:\n",
      "DEBUG:mathsformer.selfsupervised_learning_addition_model_backend:---------------------------------------------------------------------------------------\n",
      "DEBUG:mathsformer.selfsupervised_learning_addition_model_backend:                 INPUT         TRUE   PRED(MASK)    PRED(GEN)      CORRECT     RESIDUAL\n",
      "DEBUG:mathsformer.selfsupervised_learning_addition_model_backend:---------------------------------------------------------------------------------------\n",
      "DEBUG:mathsformer.selfsupervised_learning_addition_model_backend:    N8097-N943+N8+5-86        N7243        N7144        N7144                        99\n",
      "DEBUG:mathsformer.selfsupervised_learning_addition_model_backend:       N9+N4-N2+N943+4         N950        N949E         N949                         1\n",
      "DEBUG:mathsformer.selfsupervised_learning_addition_model_backend:              476+N792         N316        N225E         N225                        91\n",
      "DEBUG:mathsformer.selfsupervised_learning_addition_model_backend:     2333-6-N6836+8575        17738        16199        16119                     -1619\n",
      "DEBUG:mathsformer.selfsupervised_learning_addition_model_backend:  N6665+617+N57+61+363        N5681        N5244        N5244                       437\n",
      "DEBUG:mathsformer.selfsupervised_learning_addition_model_backend:     52-N6818+79-N5-N2         6956        6999E         6999                        43\n",
      "DEBUG:mathsformer.selfsupervised_learning_addition_model_backend:                 N5+77           72        72EEE           72          X              0\n",
      "DEBUG:mathsformer.selfsupervised_learning_addition_model_backend: N379+N752-7+N2992-328        N4458        N4999        N4999                      -541\n",
      "DEBUG:mathsformer.selfsupervised_learning_addition_model_backend:       N7+N9-1+97-7774        N7694        N7779        N7779                       -85\n",
      "DEBUG:mathsformer.selfsupervised_learning_addition_model_backend:              75+N3612        N3537        N3537        N3537          X              0\n",
      "DEBUG:mathsformer.selfsupervised_learning_addition_model_backend:            N6215+N893        N7108        N7108        N7108          X              0\n",
      "DEBUG:mathsformer.selfsupervised_learning_addition_model_backend:                     8            8        8EE9E            8          X              0\n",
      "DEBUG:mathsformer.selfsupervised_learning_addition_model_backend:                  N257         N257        N257E         N257          X              0\n",
      "DEBUG:mathsformer.selfsupervised_learning_addition_model_backend:    8-N39-N555-N3-6589        N5984        N6034        N6034                       -50\n",
      "DEBUG:mathsformer.selfsupervised_learning_addition_model_backend:                   401          401        401EE          401          X              0\n",
      "DEBUG:mathsformer.selfsupervised_learning_addition_model_backend:Running text --> text mathsformer inference on some validation data:\n",
      "DEBUG:mathsformer.selfsupervised_learning_addition_model_backend:----------------------------------------------------------------------------------\n",
      "DEBUG:mathsformer.selfsupervised_learning_addition_model_backend:            INPUT         TRUE   PRED(MASK)    PRED(GEN)      CORRECT     RESIDUAL\n",
      "DEBUG:mathsformer.selfsupervised_learning_addition_model_backend:----------------------------------------------------------------------------------\n",
      "DEBUG:mathsformer.selfsupervised_learning_addition_model_backend:     3-N3988+N847         3144        2043E         2043                     -1101\n",
      "DEBUG:mathsformer.selfsupervised_learning_addition_model_backend:        7797+5-N4         7806        7702E         7702                      -104\n",
      "DEBUG:mathsformer.selfsupervised_learning_addition_model_backend:     N8357-N11+N7        N8353        N8346        N8346                         7\n",
      "DEBUG:mathsformer.selfsupervised_learning_addition_model_backend:    6686-N437-236         6887        7199E         7144                       257\n",
      "DEBUG:mathsformer.selfsupervised_learning_addition_model_backend:        N5+4442+8         4445        4448E         4448                         3\n",
      "DEBUG:mathsformer.selfsupervised_learning_addition_model_backend:      2123-N1+N68         2056        1055E         1055                     -1001\n",
      "DEBUG:mathsformer.selfsupervised_learning_addition_model_backend:      95+4563+879         5537        5442E         5442                       -95\n",
      "DEBUG:mathsformer.selfsupervised_learning_addition_model_backend:     1639+N2868+5        N1224        N1144        N1144                        80\n",
      "DEBUG:mathsformer.selfsupervised_learning_addition_model_backend:         8+N725-3         N720        N712E         N712                         8\n",
      "DEBUG:mathsformer.selfsupervised_learning_addition_model_backend:    N283+N962-N40        N1205        N1222        N1222                       -17\n",
      "DEBUG:mathsformer.selfsupervised_learning_addition_model_backend: N2571-N818+N7340        N9093        N9199        N9199                      -106\n",
      "DEBUG:mathsformer.selfsupervised_learning_addition_model_backend:      5617-N8+N39         5586        5584E         5584                        -2\n",
      "DEBUG:mathsformer.selfsupervised_learning_addition_model_backend:     N554-N9942-7         9381        9399E         9399                        18\n",
      "DEBUG:mathsformer.selfsupervised_learning_addition_model_backend:       4-28+N9276        N9300        N9294        N9294                         6\n",
      "DEBUG:mathsformer.selfsupervised_learning_addition_model_backend:      N250+2005+7         1762        1754E         1754                        -8\n"
     ]
    },
    {
     "name": "stdout",
     "output_type": "stream",
     "text": [
      "2000/2000 [==============================] - 873s 436ms/step - loss: 2.3390 - mathsformer_LLM_output_loss: 0.7801 - mathsformer_LLM_output_1_loss: 0.7752 - mathsformer_LLM_output_2_loss: 0.7837 - mathsformer_LLM_output_masked_categorical_accuracy: 0.6998 - mathsformer_LLM_output_1_masked_categorical_accuracy: 0.7013 - mathsformer_LLM_output_2_masked_categorical_accuracy: 0.6987 - val_loss: 3.4919 - val_mathsformer_LLM_output_loss: 1.1881 - val_mathsformer_LLM_output_1_loss: 1.1532 - val_mathsformer_LLM_output_2_loss: 1.1506 - val_mathsformer_LLM_output_masked_categorical_accuracy: 0.6083 - val_mathsformer_LLM_output_1_masked_categorical_accuracy: 0.6085 - val_mathsformer_LLM_output_2_masked_categorical_accuracy: 0.6066\n",
      "Epoch 18/100000\n",
      "2000/2000 [==============================] - ETA: 0s - loss: 2.2491 - mathsformer_LLM_output_loss: 0.7503 - mathsformer_LLM_output_1_loss: 0.7453 - mathsformer_LLM_output_2_loss: 0.7535 - mathsformer_LLM_output_masked_categorical_accuracy: 0.7101 - mathsformer_LLM_output_1_masked_categorical_accuracy: 0.7118 - mathsformer_LLM_output_2_masked_categorical_accuracy: 0.7093"
     ]
    },
    {
     "name": "stderr",
     "output_type": "stream",
     "text": [
      "DEBUG:mathsformer.selfsupervised_learning_addition_model_backend:Training reached the end of epoch at index 17\n",
      "DEBUG:mathsformer.selfsupervised_learning_addition_model_backend:    with metric loss: 2.2491\n",
      "DEBUG:mathsformer.selfsupervised_learning_addition_model_backend:    with metric mathsformer_LLM_output_loss: 0.75031\n",
      "DEBUG:mathsformer.selfsupervised_learning_addition_model_backend:    with metric mathsformer_LLM_output_1_loss: 0.74529\n",
      "DEBUG:mathsformer.selfsupervised_learning_addition_model_backend:    with metric mathsformer_LLM_output_2_loss: 0.75354\n",
      "DEBUG:mathsformer.selfsupervised_learning_addition_model_backend:    with metric mathsformer_LLM_output_masked_categorical_accuracy: 0.71009\n",
      "DEBUG:mathsformer.selfsupervised_learning_addition_model_backend:    with metric mathsformer_LLM_output_1_masked_categorical_accuracy: 0.71178\n",
      "DEBUG:mathsformer.selfsupervised_learning_addition_model_backend:    with metric mathsformer_LLM_output_2_masked_categorical_accuracy: 0.70927\n",
      "DEBUG:mathsformer.selfsupervised_learning_addition_model_backend:    with metric val_loss: 3.2232\n",
      "DEBUG:mathsformer.selfsupervised_learning_addition_model_backend:    with metric val_mathsformer_LLM_output_loss: 1.0825\n",
      "DEBUG:mathsformer.selfsupervised_learning_addition_model_backend:    with metric val_mathsformer_LLM_output_1_loss: 1.0697\n",
      "DEBUG:mathsformer.selfsupervised_learning_addition_model_backend:    with metric val_mathsformer_LLM_output_2_loss: 1.071\n",
      "DEBUG:mathsformer.selfsupervised_learning_addition_model_backend:    with metric val_mathsformer_LLM_output_masked_categorical_accuracy: 0.61805\n",
      "DEBUG:mathsformer.selfsupervised_learning_addition_model_backend:    with metric val_mathsformer_LLM_output_1_masked_categorical_accuracy: 0.61916\n",
      "DEBUG:mathsformer.selfsupervised_learning_addition_model_backend:    with metric val_mathsformer_LLM_output_2_masked_categorical_accuracy: 0.61449\n",
      "DEBUG:mathsformer.selfsupervised_learning_addition_model_backend:Running text --> text mathsformer inference on some training data:\n",
      "DEBUG:mathsformer.selfsupervised_learning_addition_model_backend:---------------------------------------------------------------------------------------\n",
      "DEBUG:mathsformer.selfsupervised_learning_addition_model_backend:                 INPUT         TRUE   PRED(MASK)    PRED(GEN)      CORRECT     RESIDUAL\n",
      "DEBUG:mathsformer.selfsupervised_learning_addition_model_backend:---------------------------------------------------------------------------------------\n",
      "DEBUG:mathsformer.selfsupervised_learning_addition_model_backend:    N8097-N943+N8+5-86        N7243        N7159        N7159                        84\n",
      "DEBUG:mathsformer.selfsupervised_learning_addition_model_backend:       N9+N4-N2+N943+4         N950        N958E         N958                        -8\n",
      "DEBUG:mathsformer.selfsupervised_learning_addition_model_backend:              476+N792         N316        N216E         N216                       100\n",
      "DEBUG:mathsformer.selfsupervised_learning_addition_model_backend:     2333-6-N6836+8575        17738        17189        17189                      -549\n",
      "DEBUG:mathsformer.selfsupervised_learning_addition_model_backend:  N6665+617+N57+61+363        N5681        N5009        N5008                       673\n",
      "DEBUG:mathsformer.selfsupervised_learning_addition_model_backend:     52-N6818+79-N5-N2         6956        7989E         7989                      1033\n",
      "DEBUG:mathsformer.selfsupervised_learning_addition_model_backend:                 N5+77           72        72EEE           72          X              0\n",
      "DEBUG:mathsformer.selfsupervised_learning_addition_model_backend: N379+N752-7+N2992-328        N4458        N4999        N4999                      -541\n",
      "DEBUG:mathsformer.selfsupervised_learning_addition_model_backend:       N7+N9-1+97-7774        N7694        N7878        N7878                      -184\n",
      "DEBUG:mathsformer.selfsupervised_learning_addition_model_backend:              75+N3612        N3537        N3537        N3537          X              0\n",
      "DEBUG:mathsformer.selfsupervised_learning_addition_model_backend:            N6215+N893        N7108        N7118        N7118                       -10\n",
      "DEBUG:mathsformer.selfsupervised_learning_addition_model_backend:                     8            8        8EE9E            8          X              0\n",
      "DEBUG:mathsformer.selfsupervised_learning_addition_model_backend:                  N257         N257        N257E         N257          X              0\n",
      "DEBUG:mathsformer.selfsupervised_learning_addition_model_backend:    8-N39-N555-N3-6589        N5984        N6098        N6058                       -74\n",
      "DEBUG:mathsformer.selfsupervised_learning_addition_model_backend:                   401          401        401EE          401          X              0\n",
      "DEBUG:mathsformer.selfsupervised_learning_addition_model_backend:Running text --> text mathsformer inference on some validation data:\n",
      "DEBUG:mathsformer.selfsupervised_learning_addition_model_backend:----------------------------------------------------------------------------------\n",
      "DEBUG:mathsformer.selfsupervised_learning_addition_model_backend:            INPUT         TRUE   PRED(MASK)    PRED(GEN)      CORRECT     RESIDUAL\n",
      "DEBUG:mathsformer.selfsupervised_learning_addition_model_backend:----------------------------------------------------------------------------------\n",
      "DEBUG:mathsformer.selfsupervised_learning_addition_model_backend:     3-N3988+N847         3144        3149E         3149                         5\n",
      "DEBUG:mathsformer.selfsupervised_learning_addition_model_backend:        7797+5-N4         7806        7802E         7802                        -4\n",
      "DEBUG:mathsformer.selfsupervised_learning_addition_model_backend:     N8357-N11+N7        N8353        N8358        N8358                        -5\n",
      "DEBUG:mathsformer.selfsupervised_learning_addition_model_backend:    6686-N437-236         6887        7199E         7199                       312\n",
      "DEBUG:mathsformer.selfsupervised_learning_addition_model_backend:        N5+4442+8         4445        4448E         4448                         3\n",
      "DEBUG:mathsformer.selfsupervised_learning_addition_model_backend:      2123-N1+N68         2056        2055E         2055                        -1\n",
      "DEBUG:mathsformer.selfsupervised_learning_addition_model_backend:      95+4563+879         5537        5451E         5451                       -86\n",
      "DEBUG:mathsformer.selfsupervised_learning_addition_model_backend:     1639+N2868+5        N1224        N1120        N1130                        94\n",
      "DEBUG:mathsformer.selfsupervised_learning_addition_model_backend:         8+N725-3         N720        N711E         N711                         9\n",
      "DEBUG:mathsformer.selfsupervised_learning_addition_model_backend:    N283+N962-N40        N1205        N1108        N1108                        97\n",
      "DEBUG:mathsformer.selfsupervised_learning_addition_model_backend: N2571-N818+N7340        N9093        N9188        N9198                      -105\n",
      "DEBUG:mathsformer.selfsupervised_learning_addition_model_backend:      5617-N8+N39         5586        5588E         5588                         2\n",
      "DEBUG:mathsformer.selfsupervised_learning_addition_model_backend:     N554-N9942-7         9381        9398E         9398                        17\n",
      "DEBUG:mathsformer.selfsupervised_learning_addition_model_backend:       4-28+N9276        N9300        N9304        N9304                        -4\n",
      "DEBUG:mathsformer.selfsupervised_learning_addition_model_backend:      N250+2005+7         1762        1755E         1755                        -7\n"
     ]
    },
    {
     "name": "stdout",
     "output_type": "stream",
     "text": [
      "2000/2000 [==============================] - 880s 440ms/step - loss: 2.2491 - mathsformer_LLM_output_loss: 0.7503 - mathsformer_LLM_output_1_loss: 0.7453 - mathsformer_LLM_output_2_loss: 0.7535 - mathsformer_LLM_output_masked_categorical_accuracy: 0.7101 - mathsformer_LLM_output_1_masked_categorical_accuracy: 0.7118 - mathsformer_LLM_output_2_masked_categorical_accuracy: 0.7093 - val_loss: 3.2232 - val_mathsformer_LLM_output_loss: 1.0825 - val_mathsformer_LLM_output_1_loss: 1.0697 - val_mathsformer_LLM_output_2_loss: 1.0710 - val_mathsformer_LLM_output_masked_categorical_accuracy: 0.6181 - val_mathsformer_LLM_output_1_masked_categorical_accuracy: 0.6192 - val_mathsformer_LLM_output_2_masked_categorical_accuracy: 0.6145\n",
      "Epoch 19/100000\n",
      "2000/2000 [==============================] - ETA: 0s - loss: 2.2002 - mathsformer_LLM_output_loss: 0.7336 - mathsformer_LLM_output_1_loss: 0.7297 - mathsformer_LLM_output_2_loss: 0.7370 - mathsformer_LLM_output_masked_categorical_accuracy: 0.7170 - mathsformer_LLM_output_1_masked_categorical_accuracy: 0.7183 - mathsformer_LLM_output_2_masked_categorical_accuracy: 0.7159"
     ]
    },
    {
     "name": "stderr",
     "output_type": "stream",
     "text": [
      "DEBUG:mathsformer.selfsupervised_learning_addition_model_backend:Training reached the end of epoch at index 18\n",
      "DEBUG:mathsformer.selfsupervised_learning_addition_model_backend:    with metric loss: 2.2002\n",
      "DEBUG:mathsformer.selfsupervised_learning_addition_model_backend:    with metric mathsformer_LLM_output_loss: 0.73356\n",
      "DEBUG:mathsformer.selfsupervised_learning_addition_model_backend:    with metric mathsformer_LLM_output_1_loss: 0.72967\n",
      "DEBUG:mathsformer.selfsupervised_learning_addition_model_backend:    with metric mathsformer_LLM_output_2_loss: 0.73696\n",
      "DEBUG:mathsformer.selfsupervised_learning_addition_model_backend:    with metric mathsformer_LLM_output_masked_categorical_accuracy: 0.71698\n",
      "DEBUG:mathsformer.selfsupervised_learning_addition_model_backend:    with metric mathsformer_LLM_output_1_masked_categorical_accuracy: 0.71834\n",
      "DEBUG:mathsformer.selfsupervised_learning_addition_model_backend:    with metric mathsformer_LLM_output_2_masked_categorical_accuracy: 0.71592\n",
      "DEBUG:mathsformer.selfsupervised_learning_addition_model_backend:    with metric val_loss: 3.2243\n",
      "DEBUG:mathsformer.selfsupervised_learning_addition_model_backend:    with metric val_mathsformer_LLM_output_loss: 1.1042\n",
      "DEBUG:mathsformer.selfsupervised_learning_addition_model_backend:    with metric val_mathsformer_LLM_output_1_loss: 1.0708\n",
      "DEBUG:mathsformer.selfsupervised_learning_addition_model_backend:    with metric val_mathsformer_LLM_output_2_loss: 1.0493\n",
      "DEBUG:mathsformer.selfsupervised_learning_addition_model_backend:    with metric val_mathsformer_LLM_output_masked_categorical_accuracy: 0.6232\n",
      "DEBUG:mathsformer.selfsupervised_learning_addition_model_backend:    with metric val_mathsformer_LLM_output_1_masked_categorical_accuracy: 0.62887\n",
      "DEBUG:mathsformer.selfsupervised_learning_addition_model_backend:    with metric val_mathsformer_LLM_output_2_masked_categorical_accuracy: 0.63003\n",
      "DEBUG:mathsformer.selfsupervised_learning_addition_model_backend:Running text --> text mathsformer inference on some training data:\n",
      "DEBUG:mathsformer.selfsupervised_learning_addition_model_backend:---------------------------------------------------------------------------------------\n",
      "DEBUG:mathsformer.selfsupervised_learning_addition_model_backend:                 INPUT         TRUE   PRED(MASK)    PRED(GEN)      CORRECT     RESIDUAL\n",
      "DEBUG:mathsformer.selfsupervised_learning_addition_model_backend:---------------------------------------------------------------------------------------\n",
      "DEBUG:mathsformer.selfsupervised_learning_addition_model_backend:    N8097-N943+N8+5-86        N7243        N7141        N7141                       102\n",
      "DEBUG:mathsformer.selfsupervised_learning_addition_model_backend:       N9+N4-N2+N943+4         N950        N958E         N958                        -8\n",
      "DEBUG:mathsformer.selfsupervised_learning_addition_model_backend:              476+N792         N316        N326E         N326                       -10\n",
      "DEBUG:mathsformer.selfsupervised_learning_addition_model_backend:     2333-6-N6836+8575        17738        16221        16221                     -1517\n",
      "DEBUG:mathsformer.selfsupervised_learning_addition_model_backend:  N6665+617+N57+61+363        N5681        N5001        N5001                       680\n",
      "DEBUG:mathsformer.selfsupervised_learning_addition_model_backend:     52-N6818+79-N5-N2         6956        7981E         7981                      1025\n",
      "DEBUG:mathsformer.selfsupervised_learning_addition_model_backend:                 N5+77           72        72EEE           72          X              0\n",
      "DEBUG:mathsformer.selfsupervised_learning_addition_model_backend: N379+N752-7+N2992-328        N4458        N3822        N3820                       638\n",
      "DEBUG:mathsformer.selfsupervised_learning_addition_model_backend:       N7+N9-1+97-7774        N7694        N7771        N7771                       -77\n",
      "DEBUG:mathsformer.selfsupervised_learning_addition_model_backend:              75+N3612        N3537        N3547        N3547                       -10\n",
      "DEBUG:mathsformer.selfsupervised_learning_addition_model_backend:            N6215+N893        N7108        N7008        N7008                       100\n",
      "DEBUG:mathsformer.selfsupervised_learning_addition_model_backend:                     8            8        8EE1E            8          X              0\n",
      "DEBUG:mathsformer.selfsupervised_learning_addition_model_backend:                  N257         N257        N257E         N257          X              0\n",
      "DEBUG:mathsformer.selfsupervised_learning_addition_model_backend:    8-N39-N555-N3-6589        N5984        N6041        N6041                       -57\n",
      "DEBUG:mathsformer.selfsupervised_learning_addition_model_backend:                   401          401        401EE          401          X              0\n",
      "DEBUG:mathsformer.selfsupervised_learning_addition_model_backend:Running text --> text mathsformer inference on some validation data:\n",
      "DEBUG:mathsformer.selfsupervised_learning_addition_model_backend:----------------------------------------------------------------------------------\n",
      "DEBUG:mathsformer.selfsupervised_learning_addition_model_backend:            INPUT         TRUE   PRED(MASK)    PRED(GEN)      CORRECT     RESIDUAL\n",
      "DEBUG:mathsformer.selfsupervised_learning_addition_model_backend:----------------------------------------------------------------------------------\n",
      "DEBUG:mathsformer.selfsupervised_learning_addition_model_backend:     3-N3988+N847         3144        2141E         2141                     -1003\n",
      "DEBUG:mathsformer.selfsupervised_learning_addition_model_backend:        7797+5-N4         7806        7802E         7802                        -4\n",
      "DEBUG:mathsformer.selfsupervised_learning_addition_model_backend:     N8357-N11+N7        N8353        N8346        N8346                         7\n",
      "DEBUG:mathsformer.selfsupervised_learning_addition_model_backend:    6686-N437-236         6887        7001E         7001                       114\n",
      "DEBUG:mathsformer.selfsupervised_learning_addition_model_backend:        N5+4442+8         4445        4448E         4448                         3\n",
      "DEBUG:mathsformer.selfsupervised_learning_addition_model_backend:      2123-N1+N68         2056        1055E         1055                     -1001\n",
      "DEBUG:mathsformer.selfsupervised_learning_addition_model_backend:      95+4563+879         5537        5442E         5442                       -95\n",
      "DEBUG:mathsformer.selfsupervised_learning_addition_model_backend:     1639+N2868+5        N1224        N1230        N1230                        -6\n",
      "DEBUG:mathsformer.selfsupervised_learning_addition_model_backend:         8+N725-3         N720        N718E         N718                         2\n",
      "DEBUG:mathsformer.selfsupervised_learning_addition_model_backend:    N283+N962-N40        N1205        N1221        N1226                       -21\n",
      "DEBUG:mathsformer.selfsupervised_learning_addition_model_backend: N2571-N818+N7340        N9093        N8111        N8111                       982\n",
      "DEBUG:mathsformer.selfsupervised_learning_addition_model_backend:      5617-N8+N39         5586        5579E         5579                        -7\n",
      "DEBUG:mathsformer.selfsupervised_learning_addition_model_backend:     N554-N9942-7         9381        9386E         9386                         5\n",
      "DEBUG:mathsformer.selfsupervised_learning_addition_model_backend:       4-28+N9276        N9300        N9294        N9294                         6\n",
      "DEBUG:mathsformer.selfsupervised_learning_addition_model_backend:      N250+2005+7         1762        1754E         1754                        -8\n"
     ]
    },
    {
     "name": "stdout",
     "output_type": "stream",
     "text": [
      "2000/2000 [==============================] - 881s 440ms/step - loss: 2.2002 - mathsformer_LLM_output_loss: 0.7336 - mathsformer_LLM_output_1_loss: 0.7297 - mathsformer_LLM_output_2_loss: 0.7370 - mathsformer_LLM_output_masked_categorical_accuracy: 0.7170 - mathsformer_LLM_output_1_masked_categorical_accuracy: 0.7183 - mathsformer_LLM_output_2_masked_categorical_accuracy: 0.7159 - val_loss: 3.2243 - val_mathsformer_LLM_output_loss: 1.1042 - val_mathsformer_LLM_output_1_loss: 1.0708 - val_mathsformer_LLM_output_2_loss: 1.0493 - val_mathsformer_LLM_output_masked_categorical_accuracy: 0.6232 - val_mathsformer_LLM_output_1_masked_categorical_accuracy: 0.6289 - val_mathsformer_LLM_output_2_masked_categorical_accuracy: 0.6300\n",
      "Epoch 20/100000\n",
      "2000/2000 [==============================] - ETA: 0s - loss: 2.1459 - mathsformer_LLM_output_loss: 0.7158 - mathsformer_LLM_output_1_loss: 0.7108 - mathsformer_LLM_output_2_loss: 0.7193 - mathsformer_LLM_output_masked_categorical_accuracy: 0.7235 - mathsformer_LLM_output_1_masked_categorical_accuracy: 0.7258 - mathsformer_LLM_output_2_masked_categorical_accuracy: 0.7228"
     ]
    },
    {
     "name": "stderr",
     "output_type": "stream",
     "text": [
      "DEBUG:mathsformer.selfsupervised_learning_addition_model_backend:Training reached the end of epoch at index 19\n",
      "DEBUG:mathsformer.selfsupervised_learning_addition_model_backend:    with metric loss: 2.1459\n",
      "DEBUG:mathsformer.selfsupervised_learning_addition_model_backend:    with metric mathsformer_LLM_output_loss: 0.71581\n",
      "DEBUG:mathsformer.selfsupervised_learning_addition_model_backend:    with metric mathsformer_LLM_output_1_loss: 0.71085\n",
      "DEBUG:mathsformer.selfsupervised_learning_addition_model_backend:    with metric mathsformer_LLM_output_2_loss: 0.71926\n",
      "DEBUG:mathsformer.selfsupervised_learning_addition_model_backend:    with metric mathsformer_LLM_output_masked_categorical_accuracy: 0.72352\n",
      "DEBUG:mathsformer.selfsupervised_learning_addition_model_backend:    with metric mathsformer_LLM_output_1_masked_categorical_accuracy: 0.72576\n",
      "DEBUG:mathsformer.selfsupervised_learning_addition_model_backend:    with metric mathsformer_LLM_output_2_masked_categorical_accuracy: 0.72276\n",
      "DEBUG:mathsformer.selfsupervised_learning_addition_model_backend:    with metric val_loss: 3.2097\n",
      "DEBUG:mathsformer.selfsupervised_learning_addition_model_backend:    with metric val_mathsformer_LLM_output_loss: 1.0809\n",
      "DEBUG:mathsformer.selfsupervised_learning_addition_model_backend:    with metric val_mathsformer_LLM_output_1_loss: 1.0639\n",
      "DEBUG:mathsformer.selfsupervised_learning_addition_model_backend:    with metric val_mathsformer_LLM_output_2_loss: 1.0649\n",
      "DEBUG:mathsformer.selfsupervised_learning_addition_model_backend:    with metric val_mathsformer_LLM_output_masked_categorical_accuracy: 0.63122\n",
      "DEBUG:mathsformer.selfsupervised_learning_addition_model_backend:    with metric val_mathsformer_LLM_output_1_masked_categorical_accuracy: 0.63286\n",
      "DEBUG:mathsformer.selfsupervised_learning_addition_model_backend:    with metric val_mathsformer_LLM_output_2_masked_categorical_accuracy: 0.62786\n",
      "DEBUG:mathsformer.selfsupervised_learning_addition_model_backend:Running text --> text mathsformer inference on some training data:\n",
      "DEBUG:mathsformer.selfsupervised_learning_addition_model_backend:---------------------------------------------------------------------------------------\n",
      "DEBUG:mathsformer.selfsupervised_learning_addition_model_backend:                 INPUT         TRUE   PRED(MASK)    PRED(GEN)      CORRECT     RESIDUAL\n",
      "DEBUG:mathsformer.selfsupervised_learning_addition_model_backend:---------------------------------------------------------------------------------------\n",
      "DEBUG:mathsformer.selfsupervised_learning_addition_model_backend:    N8097-N943+N8+5-86        N7243        N7140        N7144                        99\n",
      "DEBUG:mathsformer.selfsupervised_learning_addition_model_backend:       N9+N4-N2+N943+4         N950        N940E         N940                        10\n",
      "DEBUG:mathsformer.selfsupervised_learning_addition_model_backend:              476+N792         N316        N316E         N316          X              0\n",
      "DEBUG:mathsformer.selfsupervised_learning_addition_model_backend:     2333-6-N6836+8575        17738        17000        17000                      -738\n",
      "DEBUG:mathsformer.selfsupervised_learning_addition_model_backend:  N6665+617+N57+61+363        N5681        N6000        N6007                      -326\n",
      "DEBUG:mathsformer.selfsupervised_learning_addition_model_backend:     52-N6818+79-N5-N2         6956        7900E         7900                       944\n",
      "DEBUG:mathsformer.selfsupervised_learning_addition_model_backend:                 N5+77           72        72EEE           72          X              0\n",
      "DEBUG:mathsformer.selfsupervised_learning_addition_model_backend: N379+N752-7+N2992-328        N4458        N3000        N3000                      1458\n",
      "DEBUG:mathsformer.selfsupervised_learning_addition_model_backend:       N7+N9-1+97-7774        N7694        N7780        N7787                       -93\n",
      "DEBUG:mathsformer.selfsupervised_learning_addition_model_backend:              75+N3612        N3537        N3537        N3537          X              0\n",
      "DEBUG:mathsformer.selfsupervised_learning_addition_model_backend:            N6215+N893        N7108        N7108        N7108          X              0\n",
      "DEBUG:mathsformer.selfsupervised_learning_addition_model_backend:                     8            8        8EE1E            8          X              0\n",
      "DEBUG:mathsformer.selfsupervised_learning_addition_model_backend:                  N257         N257        N257E         N257          X              0\n",
      "DEBUG:mathsformer.selfsupervised_learning_addition_model_backend:    8-N39-N555-N3-6589        N5984        N6904        N6907                      -923\n",
      "DEBUG:mathsformer.selfsupervised_learning_addition_model_backend:                   401          401        401EE          401          X              0\n",
      "DEBUG:mathsformer.selfsupervised_learning_addition_model_backend:Running text --> text mathsformer inference on some validation data:\n",
      "DEBUG:mathsformer.selfsupervised_learning_addition_model_backend:----------------------------------------------------------------------------------\n",
      "DEBUG:mathsformer.selfsupervised_learning_addition_model_backend:            INPUT         TRUE   PRED(MASK)    PRED(GEN)      CORRECT     RESIDUAL\n",
      "DEBUG:mathsformer.selfsupervised_learning_addition_model_backend:----------------------------------------------------------------------------------\n",
      "DEBUG:mathsformer.selfsupervised_learning_addition_model_backend:     3-N3988+N847         3144        3141E         3141                        -3\n",
      "DEBUG:mathsformer.selfsupervised_learning_addition_model_backend:        7797+5-N4         7806        7801E         7801                        -5\n",
      "DEBUG:mathsformer.selfsupervised_learning_addition_model_backend:     N8357-N11+N7        N8353        N8350        N8350                         3\n",
      "DEBUG:mathsformer.selfsupervised_learning_addition_model_backend:    6686-N437-236         6887        7001E         7000                       113\n",
      "DEBUG:mathsformer.selfsupervised_learning_addition_model_backend:        N5+4442+8         4445        4448E         4448                         3\n",
      "DEBUG:mathsformer.selfsupervised_learning_addition_model_backend:      2123-N1+N68         2056        2055E         2055                        -1\n",
      "DEBUG:mathsformer.selfsupervised_learning_addition_model_backend:      95+4563+879         5537        5440E         5440                       -97\n",
      "DEBUG:mathsformer.selfsupervised_learning_addition_model_backend:     1639+N2868+5        N1224        N1120        N1120                       104\n",
      "DEBUG:mathsformer.selfsupervised_learning_addition_model_backend:         8+N725-3         N720        N712E         N712                         8\n",
      "DEBUG:mathsformer.selfsupervised_learning_addition_model_backend:    N283+N962-N40        N1205        N1100        N1100                       105\n",
      "DEBUG:mathsformer.selfsupervised_learning_addition_model_backend: N2571-N818+N7340        N9093        N9000        N9000                        93\n",
      "DEBUG:mathsformer.selfsupervised_learning_addition_model_backend:      5617-N8+N39         5586        5679E         5679                        93\n",
      "DEBUG:mathsformer.selfsupervised_learning_addition_model_backend:     N554-N9942-7         9381        9387E         9387                         6\n",
      "DEBUG:mathsformer.selfsupervised_learning_addition_model_backend:       4-28+N9276        N9300        N9393        N9393                       -93\n",
      "DEBUG:mathsformer.selfsupervised_learning_addition_model_backend:      N250+2005+7         1762        1754E         1754                        -8\n"
     ]
    },
    {
     "name": "stdout",
     "output_type": "stream",
     "text": [
      "2000/2000 [==============================] - 881s 440ms/step - loss: 2.1459 - mathsformer_LLM_output_loss: 0.7158 - mathsformer_LLM_output_1_loss: 0.7108 - mathsformer_LLM_output_2_loss: 0.7193 - mathsformer_LLM_output_masked_categorical_accuracy: 0.7235 - mathsformer_LLM_output_1_masked_categorical_accuracy: 0.7258 - mathsformer_LLM_output_2_masked_categorical_accuracy: 0.7228 - val_loss: 3.2097 - val_mathsformer_LLM_output_loss: 1.0809 - val_mathsformer_LLM_output_1_loss: 1.0639 - val_mathsformer_LLM_output_2_loss: 1.0649 - val_mathsformer_LLM_output_masked_categorical_accuracy: 0.6312 - val_mathsformer_LLM_output_1_masked_categorical_accuracy: 0.6329 - val_mathsformer_LLM_output_2_masked_categorical_accuracy: 0.6279\n",
      "Epoch 21/100000\n",
      "2000/2000 [==============================] - ETA: 0s - loss: 2.0968 - mathsformer_LLM_output_loss: 0.7001 - mathsformer_LLM_output_1_loss: 0.6947 - mathsformer_LLM_output_2_loss: 0.7019 - mathsformer_LLM_output_masked_categorical_accuracy: 0.7292 - mathsformer_LLM_output_1_masked_categorical_accuracy: 0.7308 - mathsformer_LLM_output_2_masked_categorical_accuracy: 0.7289"
     ]
    },
    {
     "name": "stderr",
     "output_type": "stream",
     "text": [
      "DEBUG:mathsformer.selfsupervised_learning_addition_model_backend:Training reached the end of epoch at index 20\n",
      "DEBUG:mathsformer.selfsupervised_learning_addition_model_backend:    with metric loss: 2.0968\n",
      "DEBUG:mathsformer.selfsupervised_learning_addition_model_backend:    with metric mathsformer_LLM_output_loss: 0.7001\n",
      "DEBUG:mathsformer.selfsupervised_learning_addition_model_backend:    with metric mathsformer_LLM_output_1_loss: 0.69473\n",
      "DEBUG:mathsformer.selfsupervised_learning_addition_model_backend:    with metric mathsformer_LLM_output_2_loss: 0.70193\n",
      "DEBUG:mathsformer.selfsupervised_learning_addition_model_backend:    with metric mathsformer_LLM_output_masked_categorical_accuracy: 0.7292\n",
      "DEBUG:mathsformer.selfsupervised_learning_addition_model_backend:    with metric mathsformer_LLM_output_1_masked_categorical_accuracy: 0.73076\n",
      "DEBUG:mathsformer.selfsupervised_learning_addition_model_backend:    with metric mathsformer_LLM_output_2_masked_categorical_accuracy: 0.72892\n",
      "DEBUG:mathsformer.selfsupervised_learning_addition_model_backend:    with metric val_loss: 3.0347\n",
      "DEBUG:mathsformer.selfsupervised_learning_addition_model_backend:    with metric val_mathsformer_LLM_output_loss: 1.0281\n",
      "DEBUG:mathsformer.selfsupervised_learning_addition_model_backend:    with metric val_mathsformer_LLM_output_1_loss: 1.0026\n",
      "DEBUG:mathsformer.selfsupervised_learning_addition_model_backend:    with metric val_mathsformer_LLM_output_2_loss: 1.004\n",
      "DEBUG:mathsformer.selfsupervised_learning_addition_model_backend:    with metric val_mathsformer_LLM_output_masked_categorical_accuracy: 0.64474\n",
      "DEBUG:mathsformer.selfsupervised_learning_addition_model_backend:    with metric val_mathsformer_LLM_output_1_masked_categorical_accuracy: 0.64974\n",
      "DEBUG:mathsformer.selfsupervised_learning_addition_model_backend:    with metric val_mathsformer_LLM_output_2_masked_categorical_accuracy: 0.64514\n",
      "DEBUG:mathsformer.selfsupervised_learning_addition_model_backend:Running text --> text mathsformer inference on some training data:\n",
      "DEBUG:mathsformer.selfsupervised_learning_addition_model_backend:---------------------------------------------------------------------------------------\n",
      "DEBUG:mathsformer.selfsupervised_learning_addition_model_backend:                 INPUT         TRUE   PRED(MASK)    PRED(GEN)      CORRECT     RESIDUAL\n",
      "DEBUG:mathsformer.selfsupervised_learning_addition_model_backend:---------------------------------------------------------------------------------------\n",
      "DEBUG:mathsformer.selfsupervised_learning_addition_model_backend:    N8097-N943+N8+5-86        N7243        N7141        N7141                       102\n",
      "DEBUG:mathsformer.selfsupervised_learning_addition_model_backend:       N9+N4-N2+N943+4         N950        N951E         N951                        -1\n",
      "DEBUG:mathsformer.selfsupervised_learning_addition_model_backend:              476+N792         N316        N326E         N326                       -10\n",
      "DEBUG:mathsformer.selfsupervised_learning_addition_model_backend:     2333-6-N6836+8575        17738        17111        17111                      -627\n",
      "DEBUG:mathsformer.selfsupervised_learning_addition_model_backend:  N6665+617+N57+61+363        N5681        N5011        N5041                       640\n",
      "DEBUG:mathsformer.selfsupervised_learning_addition_model_backend:     52-N6818+79-N5-N2         6956        6910E         6910                       -46\n",
      "DEBUG:mathsformer.selfsupervised_learning_addition_model_backend:                 N5+77           72        72EEE           72          X              0\n",
      "DEBUG:mathsformer.selfsupervised_learning_addition_model_backend: N379+N752-7+N2992-328        N4458        N4110        N4110                       348\n",
      "DEBUG:mathsformer.selfsupervised_learning_addition_model_backend:       N7+N9-1+97-7774        N7694        N7770        N7770                       -76\n",
      "DEBUG:mathsformer.selfsupervised_learning_addition_model_backend:              75+N3612        N3537        N3537        N3537          X              0\n",
      "DEBUG:mathsformer.selfsupervised_learning_addition_model_backend:            N6215+N893        N7108        N7008        N7008                       100\n",
      "DEBUG:mathsformer.selfsupervised_learning_addition_model_backend:                     8            8        8EE1E            8          X              0\n",
      "DEBUG:mathsformer.selfsupervised_learning_addition_model_backend:                  N257         N257        N257E         N257          X              0\n",
      "DEBUG:mathsformer.selfsupervised_learning_addition_model_backend:    8-N39-N555-N3-6589        N5984        N6911        N6911                      -927\n",
      "DEBUG:mathsformer.selfsupervised_learning_addition_model_backend:                   401          401        401EE          401          X              0\n",
      "DEBUG:mathsformer.selfsupervised_learning_addition_model_backend:Running text --> text mathsformer inference on some validation data:\n",
      "DEBUG:mathsformer.selfsupervised_learning_addition_model_backend:----------------------------------------------------------------------------------\n",
      "DEBUG:mathsformer.selfsupervised_learning_addition_model_backend:            INPUT         TRUE   PRED(MASK)    PRED(GEN)      CORRECT     RESIDUAL\n",
      "DEBUG:mathsformer.selfsupervised_learning_addition_model_backend:----------------------------------------------------------------------------------\n",
      "DEBUG:mathsformer.selfsupervised_learning_addition_model_backend:     3-N3988+N847         3144        3141E         3141                        -3\n",
      "DEBUG:mathsformer.selfsupervised_learning_addition_model_backend:        7797+5-N4         7806        7801E         7801                        -5\n",
      "DEBUG:mathsformer.selfsupervised_learning_addition_model_backend:     N8357-N11+N7        N8353        N8357        N8357                        -4\n",
      "DEBUG:mathsformer.selfsupervised_learning_addition_model_backend:    6686-N437-236         6887        7104E         7104                       217\n",
      "DEBUG:mathsformer.selfsupervised_learning_addition_model_backend:        N5+4442+8         4445        4448E         4448                         3\n",
      "DEBUG:mathsformer.selfsupervised_learning_addition_model_backend:      2123-N1+N68         2056        1055E         1055                     -1001\n",
      "DEBUG:mathsformer.selfsupervised_learning_addition_model_backend:      95+4563+879         5537        5561E         5561                        24\n",
      "DEBUG:mathsformer.selfsupervised_learning_addition_model_backend:     1639+N2868+5        N1224        N114E         N114                      1110\n",
      "DEBUG:mathsformer.selfsupervised_learning_addition_model_backend:         8+N725-3         N720        N728E         N728                        -8\n",
      "DEBUG:mathsformer.selfsupervised_learning_addition_model_backend:    N283+N962-N40        N1205        N1200        N1200                         5\n",
      "DEBUG:mathsformer.selfsupervised_learning_addition_model_backend: N2571-N818+N7340        N9093        N1111       N10010                      -917\n",
      "DEBUG:mathsformer.selfsupervised_learning_addition_model_backend:      5617-N8+N39         5586        5589E         5589                         3\n",
      "DEBUG:mathsformer.selfsupervised_learning_addition_model_backend:     N554-N9942-7         9381        9387E         9387                         6\n",
      "DEBUG:mathsformer.selfsupervised_learning_addition_model_backend:       4-28+N9276        N9300        N9304        N9304                        -4\n",
      "DEBUG:mathsformer.selfsupervised_learning_addition_model_backend:      N250+2005+7         1762        1766E         1766                         4\n"
     ]
    },
    {
     "name": "stdout",
     "output_type": "stream",
     "text": [
      "2000/2000 [==============================] - 879s 440ms/step - loss: 2.0968 - mathsformer_LLM_output_loss: 0.7001 - mathsformer_LLM_output_1_loss: 0.6947 - mathsformer_LLM_output_2_loss: 0.7019 - mathsformer_LLM_output_masked_categorical_accuracy: 0.7292 - mathsformer_LLM_output_1_masked_categorical_accuracy: 0.7308 - mathsformer_LLM_output_2_masked_categorical_accuracy: 0.7289 - val_loss: 3.0347 - val_mathsformer_LLM_output_loss: 1.0281 - val_mathsformer_LLM_output_1_loss: 1.0026 - val_mathsformer_LLM_output_2_loss: 1.0040 - val_mathsformer_LLM_output_masked_categorical_accuracy: 0.6447 - val_mathsformer_LLM_output_1_masked_categorical_accuracy: 0.6497 - val_mathsformer_LLM_output_2_masked_categorical_accuracy: 0.6451\n",
      "Epoch 22/100000\n",
      "2000/2000 [==============================] - ETA: 0s - loss: 2.0597 - mathsformer_LLM_output_loss: 0.6879 - mathsformer_LLM_output_1_loss: 0.6827 - mathsformer_LLM_output_2_loss: 0.6891 - mathsformer_LLM_output_masked_categorical_accuracy: 0.7341 - mathsformer_LLM_output_1_masked_categorical_accuracy: 0.7362 - mathsformer_LLM_output_2_masked_categorical_accuracy: 0.7338"
     ]
    },
    {
     "name": "stderr",
     "output_type": "stream",
     "text": [
      "DEBUG:mathsformer.selfsupervised_learning_addition_model_backend:Training reached the end of epoch at index 21\n",
      "DEBUG:mathsformer.selfsupervised_learning_addition_model_backend:    with metric loss: 2.0597\n",
      "DEBUG:mathsformer.selfsupervised_learning_addition_model_backend:    with metric mathsformer_LLM_output_loss: 0.68787\n",
      "DEBUG:mathsformer.selfsupervised_learning_addition_model_backend:    with metric mathsformer_LLM_output_1_loss: 0.68274\n",
      "DEBUG:mathsformer.selfsupervised_learning_addition_model_backend:    with metric mathsformer_LLM_output_2_loss: 0.68913\n",
      "DEBUG:mathsformer.selfsupervised_learning_addition_model_backend:    with metric mathsformer_LLM_output_masked_categorical_accuracy: 0.7341\n",
      "DEBUG:mathsformer.selfsupervised_learning_addition_model_backend:    with metric mathsformer_LLM_output_1_masked_categorical_accuracy: 0.7362\n",
      "DEBUG:mathsformer.selfsupervised_learning_addition_model_backend:    with metric mathsformer_LLM_output_2_masked_categorical_accuracy: 0.73378\n",
      "DEBUG:mathsformer.selfsupervised_learning_addition_model_backend:    with metric val_loss: 2.8807\n",
      "DEBUG:mathsformer.selfsupervised_learning_addition_model_backend:    with metric val_mathsformer_LLM_output_loss: 0.97786\n",
      "DEBUG:mathsformer.selfsupervised_learning_addition_model_backend:    with metric val_mathsformer_LLM_output_1_loss: 0.95019\n",
      "DEBUG:mathsformer.selfsupervised_learning_addition_model_backend:    with metric val_mathsformer_LLM_output_2_loss: 0.95261\n",
      "DEBUG:mathsformer.selfsupervised_learning_addition_model_backend:    with metric val_mathsformer_LLM_output_masked_categorical_accuracy: 0.65036\n",
      "DEBUG:mathsformer.selfsupervised_learning_addition_model_backend:    with metric val_mathsformer_LLM_output_1_masked_categorical_accuracy: 0.65304\n",
      "DEBUG:mathsformer.selfsupervised_learning_addition_model_backend:    with metric val_mathsformer_LLM_output_2_masked_categorical_accuracy: 0.65329\n",
      "DEBUG:mathsformer.selfsupervised_learning_addition_model_backend:Running text --> text mathsformer inference on some training data:\n",
      "DEBUG:mathsformer.selfsupervised_learning_addition_model_backend:---------------------------------------------------------------------------------------\n",
      "DEBUG:mathsformer.selfsupervised_learning_addition_model_backend:                 INPUT         TRUE   PRED(MASK)    PRED(GEN)      CORRECT     RESIDUAL\n",
      "DEBUG:mathsformer.selfsupervised_learning_addition_model_backend:---------------------------------------------------------------------------------------\n",
      "DEBUG:mathsformer.selfsupervised_learning_addition_model_backend:    N8097-N943+N8+5-86        N7243        N7288        N7288                       -45\n",
      "DEBUG:mathsformer.selfsupervised_learning_addition_model_backend:       N9+N4-N2+N943+4         N950        N958E         N958                        -8\n",
      "DEBUG:mathsformer.selfsupervised_learning_addition_model_backend:              476+N792         N316        N316E         N316          X              0\n",
      "DEBUG:mathsformer.selfsupervised_learning_addition_model_backend:     2333-6-N6836+8575        17738        16888        16888                      -850\n",
      "DEBUG:mathsformer.selfsupervised_learning_addition_model_backend:  N6665+617+N57+61+363        N5681        N5138        N5138                       543\n",
      "DEBUG:mathsformer.selfsupervised_learning_addition_model_backend:     52-N6818+79-N5-N2         6956        6988E         6988                        32\n",
      "DEBUG:mathsformer.selfsupervised_learning_addition_model_backend:                 N5+77           72        72EEE           72          X              0\n",
      "DEBUG:mathsformer.selfsupervised_learning_addition_model_backend: N379+N752-7+N2992-328        N4458        N3888        N3888                       570\n",
      "DEBUG:mathsformer.selfsupervised_learning_addition_model_backend:       N7+N9-1+97-7774        N7694        N7788        N7788                       -94\n",
      "DEBUG:mathsformer.selfsupervised_learning_addition_model_backend:              75+N3612        N3537        N3537        N3537          X              0\n",
      "DEBUG:mathsformer.selfsupervised_learning_addition_model_backend:            N6215+N893        N7108        N7108        N7108          X              0\n",
      "DEBUG:mathsformer.selfsupervised_learning_addition_model_backend:                     8            8        8EE8E            8          X              0\n",
      "DEBUG:mathsformer.selfsupervised_learning_addition_model_backend:                  N257         N257        N257E         N257          X              0\n",
      "DEBUG:mathsformer.selfsupervised_learning_addition_model_backend:    8-N39-N555-N3-6589        N5984        N6918        N6918                      -934\n",
      "DEBUG:mathsformer.selfsupervised_learning_addition_model_backend:                   401          401        401EE          401          X              0\n",
      "DEBUG:mathsformer.selfsupervised_learning_addition_model_backend:Running text --> text mathsformer inference on some validation data:\n",
      "DEBUG:mathsformer.selfsupervised_learning_addition_model_backend:----------------------------------------------------------------------------------\n",
      "DEBUG:mathsformer.selfsupervised_learning_addition_model_backend:            INPUT         TRUE   PRED(MASK)    PRED(GEN)      CORRECT     RESIDUAL\n",
      "DEBUG:mathsformer.selfsupervised_learning_addition_model_backend:----------------------------------------------------------------------------------\n",
      "DEBUG:mathsformer.selfsupervised_learning_addition_model_backend:     3-N3988+N847         3144        3133E         3133                       -11\n",
      "DEBUG:mathsformer.selfsupervised_learning_addition_model_backend:        7797+5-N4         7806        7803E         7803                        -3\n",
      "DEBUG:mathsformer.selfsupervised_learning_addition_model_backend:     N8357-N11+N7        N8353        N8348        N8348                         5\n",
      "DEBUG:mathsformer.selfsupervised_learning_addition_model_backend:    6686-N437-236         6887        6088E         6088                      -799\n",
      "DEBUG:mathsformer.selfsupervised_learning_addition_model_backend:        N5+4442+8         4445        4448E         4448                         3\n",
      "DEBUG:mathsformer.selfsupervised_learning_addition_model_backend:      2123-N1+N68         2056        2055E         2055                        -1\n",
      "DEBUG:mathsformer.selfsupervised_learning_addition_model_backend:      95+4563+879         5537        5588E         5588                        51\n",
      "DEBUG:mathsformer.selfsupervised_learning_addition_model_backend:     1639+N2868+5        N1224        N1138        N1138                        86\n",
      "DEBUG:mathsformer.selfsupervised_learning_addition_model_backend:         8+N725-3         N720        N722E         N722                        -2\n",
      "DEBUG:mathsformer.selfsupervised_learning_addition_model_backend:    N283+N962-N40        N1205        N1188        N1183                        22\n",
      "DEBUG:mathsformer.selfsupervised_learning_addition_model_backend: N2571-N818+N7340        N9093        N9138        N9138                       -45\n",
      "DEBUG:mathsformer.selfsupervised_learning_addition_model_backend:      5617-N8+N39         5586        5588E         5588                         2\n",
      "DEBUG:mathsformer.selfsupervised_learning_addition_model_backend:     N554-N9942-7         9381        9388E         9388                         7\n",
      "DEBUG:mathsformer.selfsupervised_learning_addition_model_backend:       4-28+N9276        N9300        N9304        N9304                        -4\n",
      "DEBUG:mathsformer.selfsupervised_learning_addition_model_backend:      N250+2005+7         1762        1756E         1756                        -6\n"
     ]
    },
    {
     "name": "stdout",
     "output_type": "stream",
     "text": [
      "2000/2000 [==============================] - 874s 437ms/step - loss: 2.0597 - mathsformer_LLM_output_loss: 0.6879 - mathsformer_LLM_output_1_loss: 0.6827 - mathsformer_LLM_output_2_loss: 0.6891 - mathsformer_LLM_output_masked_categorical_accuracy: 0.7341 - mathsformer_LLM_output_1_masked_categorical_accuracy: 0.7362 - mathsformer_LLM_output_2_masked_categorical_accuracy: 0.7338 - val_loss: 2.8807 - val_mathsformer_LLM_output_loss: 0.9779 - val_mathsformer_LLM_output_1_loss: 0.9502 - val_mathsformer_LLM_output_2_loss: 0.9526 - val_mathsformer_LLM_output_masked_categorical_accuracy: 0.6504 - val_mathsformer_LLM_output_1_masked_categorical_accuracy: 0.6530 - val_mathsformer_LLM_output_2_masked_categorical_accuracy: 0.6533\n",
      "Epoch 23/100000\n",
      "2000/2000 [==============================] - ETA: 0s - loss: 2.0172 - mathsformer_LLM_output_loss: 0.6738 - mathsformer_LLM_output_1_loss: 0.6677 - mathsformer_LLM_output_2_loss: 0.6757 - mathsformer_LLM_output_masked_categorical_accuracy: 0.7390 - mathsformer_LLM_output_1_masked_categorical_accuracy: 0.7413 - mathsformer_LLM_output_2_masked_categorical_accuracy: 0.7392"
     ]
    },
    {
     "name": "stderr",
     "output_type": "stream",
     "text": [
      "DEBUG:mathsformer.selfsupervised_learning_addition_model_backend:Training reached the end of epoch at index 22\n",
      "DEBUG:mathsformer.selfsupervised_learning_addition_model_backend:    with metric loss: 2.0172\n",
      "DEBUG:mathsformer.selfsupervised_learning_addition_model_backend:    with metric mathsformer_LLM_output_loss: 0.67381\n",
      "DEBUG:mathsformer.selfsupervised_learning_addition_model_backend:    with metric mathsformer_LLM_output_1_loss: 0.66769\n",
      "DEBUG:mathsformer.selfsupervised_learning_addition_model_backend:    with metric mathsformer_LLM_output_2_loss: 0.67567\n",
      "DEBUG:mathsformer.selfsupervised_learning_addition_model_backend:    with metric mathsformer_LLM_output_masked_categorical_accuracy: 0.73898\n",
      "DEBUG:mathsformer.selfsupervised_learning_addition_model_backend:    with metric mathsformer_LLM_output_1_masked_categorical_accuracy: 0.74127\n",
      "DEBUG:mathsformer.selfsupervised_learning_addition_model_backend:    with metric mathsformer_LLM_output_2_masked_categorical_accuracy: 0.73924\n",
      "DEBUG:mathsformer.selfsupervised_learning_addition_model_backend:    with metric val_loss: 3.0586\n",
      "DEBUG:mathsformer.selfsupervised_learning_addition_model_backend:    with metric val_mathsformer_LLM_output_loss: 1.0395\n",
      "DEBUG:mathsformer.selfsupervised_learning_addition_model_backend:    with metric val_mathsformer_LLM_output_1_loss: 1.0105\n",
      "DEBUG:mathsformer.selfsupervised_learning_addition_model_backend:    with metric val_mathsformer_LLM_output_2_loss: 1.0085\n",
      "DEBUG:mathsformer.selfsupervised_learning_addition_model_backend:    with metric val_mathsformer_LLM_output_masked_categorical_accuracy: 0.6534\n",
      "DEBUG:mathsformer.selfsupervised_learning_addition_model_backend:    with metric val_mathsformer_LLM_output_1_masked_categorical_accuracy: 0.65677\n",
      "DEBUG:mathsformer.selfsupervised_learning_addition_model_backend:    with metric val_mathsformer_LLM_output_2_masked_categorical_accuracy: 0.65643\n",
      "DEBUG:mathsformer.selfsupervised_learning_addition_model_backend:Running text --> text mathsformer inference on some training data:\n",
      "DEBUG:mathsformer.selfsupervised_learning_addition_model_backend:---------------------------------------------------------------------------------------\n",
      "DEBUG:mathsformer.selfsupervised_learning_addition_model_backend:                 INPUT         TRUE   PRED(MASK)    PRED(GEN)      CORRECT     RESIDUAL\n",
      "DEBUG:mathsformer.selfsupervised_learning_addition_model_backend:---------------------------------------------------------------------------------------\n",
      "DEBUG:mathsformer.selfsupervised_learning_addition_model_backend:    N8097-N943+N8+5-86        N7243        N7200        N7200                        43\n",
      "DEBUG:mathsformer.selfsupervised_learning_addition_model_backend:       N9+N4-N2+N943+4         N950        N942E         N942                         8\n",
      "DEBUG:mathsformer.selfsupervised_learning_addition_model_backend:              476+N792         N316        N316E         N316          X              0\n",
      "DEBUG:mathsformer.selfsupervised_learning_addition_model_backend:     2333-6-N6836+8575        17738        17221        17221                      -517\n",
      "DEBUG:mathsformer.selfsupervised_learning_addition_model_backend:  N6665+617+N57+61+363        N5681        N5722        N5722                       -41\n",
      "DEBUG:mathsformer.selfsupervised_learning_addition_model_backend:     52-N6818+79-N5-N2         6956        6912E         6912                       -44\n",
      "DEBUG:mathsformer.selfsupervised_learning_addition_model_backend:                 N5+77           72        72EEE           72          X              0\n",
      "DEBUG:mathsformer.selfsupervised_learning_addition_model_backend: N379+N752-7+N2992-328        N4458        N4111        N4111                       347\n",
      "DEBUG:mathsformer.selfsupervised_learning_addition_model_backend:       N7+N9-1+97-7774        N7694        N7680        N7682                        12\n",
      "DEBUG:mathsformer.selfsupervised_learning_addition_model_backend:              75+N3612        N3537        N3537        N3537          X              0\n",
      "DEBUG:mathsformer.selfsupervised_learning_addition_model_backend:            N6215+N893        N7108        N7008        N7008                       100\n",
      "DEBUG:mathsformer.selfsupervised_learning_addition_model_backend:                     8            8        8EE02            8          X              0\n",
      "DEBUG:mathsformer.selfsupervised_learning_addition_model_backend:                  N257         N257        N257E         N257          X              0\n",
      "DEBUG:mathsformer.selfsupervised_learning_addition_model_backend:    8-N39-N555-N3-6589        N5984        N5901        N5901                        83\n",
      "DEBUG:mathsformer.selfsupervised_learning_addition_model_backend:                   401          401        401EE          401          X              0\n",
      "DEBUG:mathsformer.selfsupervised_learning_addition_model_backend:Running text --> text mathsformer inference on some validation data:\n",
      "DEBUG:mathsformer.selfsupervised_learning_addition_model_backend:----------------------------------------------------------------------------------\n",
      "DEBUG:mathsformer.selfsupervised_learning_addition_model_backend:            INPUT         TRUE   PRED(MASK)    PRED(GEN)      CORRECT     RESIDUAL\n",
      "DEBUG:mathsformer.selfsupervised_learning_addition_model_backend:----------------------------------------------------------------------------------\n",
      "DEBUG:mathsformer.selfsupervised_learning_addition_model_backend:     3-N3988+N847         3144        3145E         3145                         1\n",
      "DEBUG:mathsformer.selfsupervised_learning_addition_model_backend:        7797+5-N4         7806        7801E         7801                        -5\n",
      "DEBUG:mathsformer.selfsupervised_learning_addition_model_backend:     N8357-N11+N7        N8353        N8345        N8345                         8\n",
      "DEBUG:mathsformer.selfsupervised_learning_addition_model_backend:    6686-N437-236         6887        6092E         6092                      -795\n",
      "DEBUG:mathsformer.selfsupervised_learning_addition_model_backend:        N5+4442+8         4445        4448E         4448                         3\n",
      "DEBUG:mathsformer.selfsupervised_learning_addition_model_backend:      2123-N1+N68         2056        2055E         2055                        -1\n",
      "DEBUG:mathsformer.selfsupervised_learning_addition_model_backend:      95+4563+879         5537        5551E         5551                        14\n",
      "DEBUG:mathsformer.selfsupervised_learning_addition_model_backend:     1639+N2868+5        N1224        N1227        N1227                        -3\n",
      "DEBUG:mathsformer.selfsupervised_learning_addition_model_backend:         8+N725-3         N720        N722E         N722                        -2\n",
      "DEBUG:mathsformer.selfsupervised_learning_addition_model_backend:    N283+N962-N40        N1205        N1102        N1102                       103\n",
      "DEBUG:mathsformer.selfsupervised_learning_addition_model_backend: N2571-N818+N7340        N9093        N9221        N9271                      -178\n",
      "DEBUG:mathsformer.selfsupervised_learning_addition_model_backend:      5617-N8+N39         5586        5588E         5588                         2\n",
      "DEBUG:mathsformer.selfsupervised_learning_addition_model_backend:     N554-N9942-7         9381        9375E         9375                        -6\n",
      "DEBUG:mathsformer.selfsupervised_learning_addition_model_backend:       4-28+N9276        N9300        N9304        N9304                        -4\n",
      "DEBUG:mathsformer.selfsupervised_learning_addition_model_backend:      N250+2005+7         1762        1756E         1756                        -6\n"
     ]
    },
    {
     "name": "stdout",
     "output_type": "stream",
     "text": [
      "2000/2000 [==============================] - 872s 436ms/step - loss: 2.0172 - mathsformer_LLM_output_loss: 0.6738 - mathsformer_LLM_output_1_loss: 0.6677 - mathsformer_LLM_output_2_loss: 0.6757 - mathsformer_LLM_output_masked_categorical_accuracy: 0.7390 - mathsformer_LLM_output_1_masked_categorical_accuracy: 0.7413 - mathsformer_LLM_output_2_masked_categorical_accuracy: 0.7392 - val_loss: 3.0586 - val_mathsformer_LLM_output_loss: 1.0395 - val_mathsformer_LLM_output_1_loss: 1.0105 - val_mathsformer_LLM_output_2_loss: 1.0085 - val_mathsformer_LLM_output_masked_categorical_accuracy: 0.6534 - val_mathsformer_LLM_output_1_masked_categorical_accuracy: 0.6568 - val_mathsformer_LLM_output_2_masked_categorical_accuracy: 0.6564\n",
      "Epoch 24/100000\n",
      "2000/2000 [==============================] - ETA: 0s - loss: 1.9798 - mathsformer_LLM_output_loss: 0.6617 - mathsformer_LLM_output_1_loss: 0.6553 - mathsformer_LLM_output_2_loss: 0.6628 - mathsformer_LLM_output_masked_categorical_accuracy: 0.7440 - mathsformer_LLM_output_1_masked_categorical_accuracy: 0.7463 - mathsformer_LLM_output_2_masked_categorical_accuracy: 0.7441"
     ]
    },
    {
     "name": "stderr",
     "output_type": "stream",
     "text": [
      "DEBUG:mathsformer.selfsupervised_learning_addition_model_backend:Training reached the end of epoch at index 23\n",
      "DEBUG:mathsformer.selfsupervised_learning_addition_model_backend:    with metric loss: 1.9798\n",
      "DEBUG:mathsformer.selfsupervised_learning_addition_model_backend:    with metric mathsformer_LLM_output_loss: 0.66167\n",
      "DEBUG:mathsformer.selfsupervised_learning_addition_model_backend:    with metric mathsformer_LLM_output_1_loss: 0.65528\n",
      "DEBUG:mathsformer.selfsupervised_learning_addition_model_backend:    with metric mathsformer_LLM_output_2_loss: 0.66282\n",
      "DEBUG:mathsformer.selfsupervised_learning_addition_model_backend:    with metric mathsformer_LLM_output_masked_categorical_accuracy: 0.74402\n",
      "DEBUG:mathsformer.selfsupervised_learning_addition_model_backend:    with metric mathsformer_LLM_output_1_masked_categorical_accuracy: 0.74628\n",
      "DEBUG:mathsformer.selfsupervised_learning_addition_model_backend:    with metric mathsformer_LLM_output_2_masked_categorical_accuracy: 0.74413\n",
      "DEBUG:mathsformer.selfsupervised_learning_addition_model_backend:    with metric val_loss: 3.2875\n",
      "DEBUG:mathsformer.selfsupervised_learning_addition_model_backend:    with metric val_mathsformer_LLM_output_loss: 1.1057\n",
      "DEBUG:mathsformer.selfsupervised_learning_addition_model_backend:    with metric val_mathsformer_LLM_output_1_loss: 1.077\n",
      "DEBUG:mathsformer.selfsupervised_learning_addition_model_backend:    with metric val_mathsformer_LLM_output_2_loss: 1.1048\n",
      "DEBUG:mathsformer.selfsupervised_learning_addition_model_backend:    with metric val_mathsformer_LLM_output_masked_categorical_accuracy: 0.65896\n",
      "DEBUG:mathsformer.selfsupervised_learning_addition_model_backend:    with metric val_mathsformer_LLM_output_1_masked_categorical_accuracy: 0.66454\n",
      "DEBUG:mathsformer.selfsupervised_learning_addition_model_backend:    with metric val_mathsformer_LLM_output_2_masked_categorical_accuracy: 0.66026\n",
      "DEBUG:mathsformer.selfsupervised_learning_addition_model_backend:Running text --> text mathsformer inference on some training data:\n",
      "DEBUG:mathsformer.selfsupervised_learning_addition_model_backend:---------------------------------------------------------------------------------------\n",
      "DEBUG:mathsformer.selfsupervised_learning_addition_model_backend:                 INPUT         TRUE   PRED(MASK)    PRED(GEN)      CORRECT     RESIDUAL\n",
      "DEBUG:mathsformer.selfsupervised_learning_addition_model_backend:---------------------------------------------------------------------------------------\n",
      "DEBUG:mathsformer.selfsupervised_learning_addition_model_backend:    N8097-N943+N8+5-86        N7243        N7255        N7255                       -12\n",
      "DEBUG:mathsformer.selfsupervised_learning_addition_model_backend:       N9+N4-N2+N943+4         N950        N945E         N945                         5\n",
      "DEBUG:mathsformer.selfsupervised_learning_addition_model_backend:              476+N792         N316        N316E         N316          X              0\n",
      "DEBUG:mathsformer.selfsupervised_learning_addition_model_backend:     2333-6-N6836+8575        17738        18000        18000                       262\n",
      "DEBUG:mathsformer.selfsupervised_learning_addition_model_backend:  N6665+617+N57+61+363        N5681        N5655        N5655                        26\n",
      "DEBUG:mathsformer.selfsupervised_learning_addition_model_backend:     52-N6818+79-N5-N2         6956        6915E         6915                       -41\n",
      "DEBUG:mathsformer.selfsupervised_learning_addition_model_backend:                 N5+77           72        72EEE           72          X              0\n",
      "DEBUG:mathsformer.selfsupervised_learning_addition_model_backend: N379+N752-7+N2992-328        N4458        N4000        N4005                       453\n",
      "DEBUG:mathsformer.selfsupervised_learning_addition_model_backend:       N7+N9-1+97-7774        N7694        N7690        N7690                         4\n",
      "DEBUG:mathsformer.selfsupervised_learning_addition_model_backend:              75+N3612        N3537        N3537        N3537          X              0\n",
      "DEBUG:mathsformer.selfsupervised_learning_addition_model_backend:            N6215+N893        N7108        N7108        N7108          X              0\n",
      "DEBUG:mathsformer.selfsupervised_learning_addition_model_backend:                     8            8        8EE0E            8          X              0\n",
      "DEBUG:mathsformer.selfsupervised_learning_addition_model_backend:                  N257         N257        N257E         N257          X              0\n",
      "DEBUG:mathsformer.selfsupervised_learning_addition_model_backend:    8-N39-N555-N3-6589        N5984        N6995        N6995                     -1011\n",
      "DEBUG:mathsformer.selfsupervised_learning_addition_model_backend:                   401          401        401EE          401          X              0\n",
      "DEBUG:mathsformer.selfsupervised_learning_addition_model_backend:Running text --> text mathsformer inference on some validation data:\n",
      "DEBUG:mathsformer.selfsupervised_learning_addition_model_backend:----------------------------------------------------------------------------------\n",
      "DEBUG:mathsformer.selfsupervised_learning_addition_model_backend:            INPUT         TRUE   PRED(MASK)    PRED(GEN)      CORRECT     RESIDUAL\n",
      "DEBUG:mathsformer.selfsupervised_learning_addition_model_backend:----------------------------------------------------------------------------------\n",
      "DEBUG:mathsformer.selfsupervised_learning_addition_model_backend:     3-N3988+N847         3144        3145E         3145                         1\n",
      "DEBUG:mathsformer.selfsupervised_learning_addition_model_backend:        7797+5-N4         7806        7801E         7801                        -5\n",
      "DEBUG:mathsformer.selfsupervised_learning_addition_model_backend:     N8357-N11+N7        N8353        N8351        N8351                         2\n",
      "DEBUG:mathsformer.selfsupervised_learning_addition_model_backend:    6686-N437-236         6887        7090E         7090                       203\n",
      "DEBUG:mathsformer.selfsupervised_learning_addition_model_backend:        N5+4442+8         4445        4448E         4448                         3\n",
      "DEBUG:mathsformer.selfsupervised_learning_addition_model_backend:      2123-N1+N68         2056        2056E         2056          X              0\n",
      "DEBUG:mathsformer.selfsupervised_learning_addition_model_backend:      95+4563+879         5537        5555E         5555                        18\n",
      "DEBUG:mathsformer.selfsupervised_learning_addition_model_backend:     1639+N2868+5        N1224        N1129        N1129                        95\n",
      "DEBUG:mathsformer.selfsupervised_learning_addition_model_backend:         8+N725-3         N720        N718E         N718                         2\n",
      "DEBUG:mathsformer.selfsupervised_learning_addition_model_backend:    N283+N962-N40        N1205        N1203        N1203                         2\n",
      "DEBUG:mathsformer.selfsupervised_learning_addition_model_backend: N2571-N818+N7340        N9093        N9965        N9975                      -882\n",
      "DEBUG:mathsformer.selfsupervised_learning_addition_model_backend:      5617-N8+N39         5586        5589E         5589                         3\n",
      "DEBUG:mathsformer.selfsupervised_learning_addition_model_backend:     N554-N9942-7         9381        9386E         9386                         5\n",
      "DEBUG:mathsformer.selfsupervised_learning_addition_model_backend:       4-28+N9276        N9300        N9304        N9304                        -4\n",
      "DEBUG:mathsformer.selfsupervised_learning_addition_model_backend:      N250+2005+7         1762        1756E         1756                        -6\n"
     ]
    },
    {
     "name": "stdout",
     "output_type": "stream",
     "text": [
      "2000/2000 [==============================] - 874s 437ms/step - loss: 1.9798 - mathsformer_LLM_output_loss: 0.6617 - mathsformer_LLM_output_1_loss: 0.6553 - mathsformer_LLM_output_2_loss: 0.6628 - mathsformer_LLM_output_masked_categorical_accuracy: 0.7440 - mathsformer_LLM_output_1_masked_categorical_accuracy: 0.7463 - mathsformer_LLM_output_2_masked_categorical_accuracy: 0.7441 - val_loss: 3.2875 - val_mathsformer_LLM_output_loss: 1.1057 - val_mathsformer_LLM_output_1_loss: 1.0770 - val_mathsformer_LLM_output_2_loss: 1.1048 - val_mathsformer_LLM_output_masked_categorical_accuracy: 0.6590 - val_mathsformer_LLM_output_1_masked_categorical_accuracy: 0.6645 - val_mathsformer_LLM_output_2_masked_categorical_accuracy: 0.6603\n",
      "Epoch 25/100000\n",
      "2000/2000 [==============================] - ETA: 0s - loss: 1.9581 - mathsformer_LLM_output_loss: 0.6548 - mathsformer_LLM_output_1_loss: 0.6489 - mathsformer_LLM_output_2_loss: 0.6545 - mathsformer_LLM_output_masked_categorical_accuracy: 0.7463 - mathsformer_LLM_output_1_masked_categorical_accuracy: 0.7489 - mathsformer_LLM_output_2_masked_categorical_accuracy: 0.7478"
     ]
    },
    {
     "name": "stderr",
     "output_type": "stream",
     "text": [
      "DEBUG:mathsformer.selfsupervised_learning_addition_model_backend:Training reached the end of epoch at index 24\n",
      "DEBUG:mathsformer.selfsupervised_learning_addition_model_backend:    with metric loss: 1.9581\n",
      "DEBUG:mathsformer.selfsupervised_learning_addition_model_backend:    with metric mathsformer_LLM_output_loss: 0.65475\n",
      "DEBUG:mathsformer.selfsupervised_learning_addition_model_backend:    with metric mathsformer_LLM_output_1_loss: 0.6489\n",
      "DEBUG:mathsformer.selfsupervised_learning_addition_model_backend:    with metric mathsformer_LLM_output_2_loss: 0.65447\n",
      "DEBUG:mathsformer.selfsupervised_learning_addition_model_backend:    with metric mathsformer_LLM_output_masked_categorical_accuracy: 0.74629\n",
      "DEBUG:mathsformer.selfsupervised_learning_addition_model_backend:    with metric mathsformer_LLM_output_1_masked_categorical_accuracy: 0.74891\n",
      "DEBUG:mathsformer.selfsupervised_learning_addition_model_backend:    with metric mathsformer_LLM_output_2_masked_categorical_accuracy: 0.74778\n",
      "DEBUG:mathsformer.selfsupervised_learning_addition_model_backend:    with metric val_loss: 3.042\n",
      "DEBUG:mathsformer.selfsupervised_learning_addition_model_backend:    with metric val_mathsformer_LLM_output_loss: 1.0118\n",
      "DEBUG:mathsformer.selfsupervised_learning_addition_model_backend:    with metric val_mathsformer_LLM_output_1_loss: 1.0\n",
      "DEBUG:mathsformer.selfsupervised_learning_addition_model_backend:    with metric val_mathsformer_LLM_output_2_loss: 1.0301\n",
      "DEBUG:mathsformer.selfsupervised_learning_addition_model_backend:    with metric val_mathsformer_LLM_output_masked_categorical_accuracy: 0.66356\n",
      "DEBUG:mathsformer.selfsupervised_learning_addition_model_backend:    with metric val_mathsformer_LLM_output_1_masked_categorical_accuracy: 0.66847\n",
      "DEBUG:mathsformer.selfsupervised_learning_addition_model_backend:    with metric val_mathsformer_LLM_output_2_masked_categorical_accuracy: 0.66416\n",
      "DEBUG:mathsformer.selfsupervised_learning_addition_model_backend:Running text --> text mathsformer inference on some training data:\n",
      "DEBUG:mathsformer.selfsupervised_learning_addition_model_backend:---------------------------------------------------------------------------------------\n",
      "DEBUG:mathsformer.selfsupervised_learning_addition_model_backend:                 INPUT         TRUE   PRED(MASK)    PRED(GEN)      CORRECT     RESIDUAL\n",
      "DEBUG:mathsformer.selfsupervised_learning_addition_model_backend:---------------------------------------------------------------------------------------\n",
      "DEBUG:mathsformer.selfsupervised_learning_addition_model_backend:    N8097-N943+N8+5-86        N7243        N7236        N7236                         7\n",
      "DEBUG:mathsformer.selfsupervised_learning_addition_model_backend:       N9+N4-N2+N943+4         N950        N946E         N946                         4\n",
      "DEBUG:mathsformer.selfsupervised_learning_addition_model_backend:              476+N792         N316        N326E         N326                       -10\n",
      "DEBUG:mathsformer.selfsupervised_learning_addition_model_backend:     2333-6-N6836+8575        17738        28562        20568                      2830\n",
      "DEBUG:mathsformer.selfsupervised_learning_addition_model_backend:  N6665+617+N57+61+363        N5681        N5786        N5786                      -105\n",
      "DEBUG:mathsformer.selfsupervised_learning_addition_model_backend:     52-N6818+79-N5-N2         6956        6906E         6906                       -50\n",
      "DEBUG:mathsformer.selfsupervised_learning_addition_model_backend:                 N5+77           72        72EEE           72          X              0\n",
      "DEBUG:mathsformer.selfsupervised_learning_addition_model_backend: N379+N752-7+N2992-328        N4458        N4266        N4266                       192\n",
      "DEBUG:mathsformer.selfsupervised_learning_addition_model_backend:       N7+N9-1+97-7774        N7694        N7799        N7799                      -105\n",
      "DEBUG:mathsformer.selfsupervised_learning_addition_model_backend:              75+N3612        N3537        N3537        N3537          X              0\n",
      "DEBUG:mathsformer.selfsupervised_learning_addition_model_backend:            N6215+N893        N7108        N7108        N7108          X              0\n",
      "DEBUG:mathsformer.selfsupervised_learning_addition_model_backend:                     8            8        8EE36            8          X              0\n",
      "DEBUG:mathsformer.selfsupervised_learning_addition_model_backend:                  N257         N257        N257E         N257          X              0\n",
      "DEBUG:mathsformer.selfsupervised_learning_addition_model_backend:    8-N39-N555-N3-6589        N5984        N6913        N6908                      -924\n",
      "DEBUG:mathsformer.selfsupervised_learning_addition_model_backend:                   401          401        401EE          401          X              0\n",
      "DEBUG:mathsformer.selfsupervised_learning_addition_model_backend:Running text --> text mathsformer inference on some validation data:\n",
      "DEBUG:mathsformer.selfsupervised_learning_addition_model_backend:----------------------------------------------------------------------------------\n",
      "DEBUG:mathsformer.selfsupervised_learning_addition_model_backend:            INPUT         TRUE   PRED(MASK)    PRED(GEN)      CORRECT     RESIDUAL\n",
      "DEBUG:mathsformer.selfsupervised_learning_addition_model_backend:----------------------------------------------------------------------------------\n",
      "DEBUG:mathsformer.selfsupervised_learning_addition_model_backend:     3-N3988+N847         3144        3142E         3142                        -2\n",
      "DEBUG:mathsformer.selfsupervised_learning_addition_model_backend:        7797+5-N4         7806        7803E         7803                        -3\n",
      "DEBUG:mathsformer.selfsupervised_learning_addition_model_backend:     N8357-N11+N7        N8353        N8359        N8359                        -6\n",
      "DEBUG:mathsformer.selfsupervised_learning_addition_model_backend:    6686-N437-236         6887        7990E         7990                      1103\n",
      "DEBUG:mathsformer.selfsupervised_learning_addition_model_backend:        N5+4442+8         4445        4448E         4448                         3\n",
      "DEBUG:mathsformer.selfsupervised_learning_addition_model_backend:      2123-N1+N68         2056        2055E         2055                        -1\n",
      "DEBUG:mathsformer.selfsupervised_learning_addition_model_backend:      95+4563+879         5537        5553E         5553                        16\n",
      "DEBUG:mathsformer.selfsupervised_learning_addition_model_backend:     1639+N2868+5        N1224        N1228        N1228                        -4\n",
      "DEBUG:mathsformer.selfsupervised_learning_addition_model_backend:         8+N725-3         N720        N728E         N728                        -8\n",
      "DEBUG:mathsformer.selfsupervised_learning_addition_model_backend:    N283+N962-N40        N1205        N1288        N1285                       -80\n",
      "DEBUG:mathsformer.selfsupervised_learning_addition_model_backend: N2571-N818+N7340        N9093        N9988        N9968                      -875\n",
      "DEBUG:mathsformer.selfsupervised_learning_addition_model_backend:      5617-N8+N39         5586        5589E         5589                         3\n",
      "DEBUG:mathsformer.selfsupervised_learning_addition_model_backend:     N554-N9942-7         9381        9378E         9378                        -3\n",
      "DEBUG:mathsformer.selfsupervised_learning_addition_model_backend:       4-28+N9276        N9300        N9304        N9304                        -4\n",
      "DEBUG:mathsformer.selfsupervised_learning_addition_model_backend:      N250+2005+7         1762        1756E         1756                        -6\n"
     ]
    },
    {
     "name": "stdout",
     "output_type": "stream",
     "text": [
      "2000/2000 [==============================] - 876s 438ms/step - loss: 1.9581 - mathsformer_LLM_output_loss: 0.6548 - mathsformer_LLM_output_1_loss: 0.6489 - mathsformer_LLM_output_2_loss: 0.6545 - mathsformer_LLM_output_masked_categorical_accuracy: 0.7463 - mathsformer_LLM_output_1_masked_categorical_accuracy: 0.7489 - mathsformer_LLM_output_2_masked_categorical_accuracy: 0.7478 - val_loss: 3.0420 - val_mathsformer_LLM_output_loss: 1.0118 - val_mathsformer_LLM_output_1_loss: 1.0000 - val_mathsformer_LLM_output_2_loss: 1.0301 - val_mathsformer_LLM_output_masked_categorical_accuracy: 0.6636 - val_mathsformer_LLM_output_1_masked_categorical_accuracy: 0.6685 - val_mathsformer_LLM_output_2_masked_categorical_accuracy: 0.6642\n",
      "Epoch 26/100000\n",
      "2000/2000 [==============================] - ETA: 0s - loss: 1.9188 - mathsformer_LLM_output_loss: 0.6420 - mathsformer_LLM_output_1_loss: 0.6356 - mathsformer_LLM_output_2_loss: 0.6412 - mathsformer_LLM_output_masked_categorical_accuracy: 0.7518 - mathsformer_LLM_output_1_masked_categorical_accuracy: 0.7537 - mathsformer_LLM_output_2_masked_categorical_accuracy: 0.7524"
     ]
    },
    {
     "name": "stderr",
     "output_type": "stream",
     "text": [
      "DEBUG:mathsformer.selfsupervised_learning_addition_model_backend:Training reached the end of epoch at index 25\n",
      "DEBUG:mathsformer.selfsupervised_learning_addition_model_backend:    with metric loss: 1.9188\n",
      "DEBUG:mathsformer.selfsupervised_learning_addition_model_backend:    with metric mathsformer_LLM_output_loss: 0.64202\n",
      "DEBUG:mathsformer.selfsupervised_learning_addition_model_backend:    with metric mathsformer_LLM_output_1_loss: 0.63564\n",
      "DEBUG:mathsformer.selfsupervised_learning_addition_model_backend:    with metric mathsformer_LLM_output_2_loss: 0.64117\n",
      "DEBUG:mathsformer.selfsupervised_learning_addition_model_backend:    with metric mathsformer_LLM_output_masked_categorical_accuracy: 0.75176\n",
      "DEBUG:mathsformer.selfsupervised_learning_addition_model_backend:    with metric mathsformer_LLM_output_1_masked_categorical_accuracy: 0.75374\n",
      "DEBUG:mathsformer.selfsupervised_learning_addition_model_backend:    with metric mathsformer_LLM_output_2_masked_categorical_accuracy: 0.75238\n",
      "DEBUG:mathsformer.selfsupervised_learning_addition_model_backend:    with metric val_loss: 2.7785\n",
      "DEBUG:mathsformer.selfsupervised_learning_addition_model_backend:    with metric val_mathsformer_LLM_output_loss: 0.9287\n",
      "DEBUG:mathsformer.selfsupervised_learning_addition_model_backend:    with metric val_mathsformer_LLM_output_1_loss: 0.91743\n",
      "DEBUG:mathsformer.selfsupervised_learning_addition_model_backend:    with metric val_mathsformer_LLM_output_2_loss: 0.93237\n",
      "DEBUG:mathsformer.selfsupervised_learning_addition_model_backend:    with metric val_mathsformer_LLM_output_masked_categorical_accuracy: 0.67751\n",
      "DEBUG:mathsformer.selfsupervised_learning_addition_model_backend:    with metric val_mathsformer_LLM_output_1_masked_categorical_accuracy: 0.68364\n",
      "DEBUG:mathsformer.selfsupervised_learning_addition_model_backend:    with metric val_mathsformer_LLM_output_2_masked_categorical_accuracy: 0.6791\n",
      "DEBUG:mathsformer.selfsupervised_learning_addition_model_backend:Running text --> text mathsformer inference on some training data:\n",
      "DEBUG:mathsformer.selfsupervised_learning_addition_model_backend:---------------------------------------------------------------------------------------\n",
      "DEBUG:mathsformer.selfsupervised_learning_addition_model_backend:                 INPUT         TRUE   PRED(MASK)    PRED(GEN)      CORRECT     RESIDUAL\n",
      "DEBUG:mathsformer.selfsupervised_learning_addition_model_backend:---------------------------------------------------------------------------------------\n",
      "DEBUG:mathsformer.selfsupervised_learning_addition_model_backend:    N8097-N943+N8+5-86        N7243        N7255        N7255                       -12\n",
      "DEBUG:mathsformer.selfsupervised_learning_addition_model_backend:       N9+N4-N2+N943+4         N950        N945E         N945                         5\n",
      "DEBUG:mathsformer.selfsupervised_learning_addition_model_backend:              476+N792         N316        N316E         N316          X              0\n",
      "DEBUG:mathsformer.selfsupervised_learning_addition_model_backend:     2333-6-N6836+8575        17738        17005        17005                      -733\n",
      "DEBUG:mathsformer.selfsupervised_learning_addition_model_backend:  N6665+617+N57+61+363        N5681        N5700        N5700                       -19\n",
      "DEBUG:mathsformer.selfsupervised_learning_addition_model_backend:     52-N6818+79-N5-N2         6956        6906E         6906                       -50\n",
      "DEBUG:mathsformer.selfsupervised_learning_addition_model_backend:                 N5+77           72        72EEE           72          X              0\n",
      "DEBUG:mathsformer.selfsupervised_learning_addition_model_backend: N379+N752-7+N2992-328        N4458        N4055        N4055                       403\n",
      "DEBUG:mathsformer.selfsupervised_learning_addition_model_backend:       N7+N9-1+97-7774        N7694        N7690        N7690                         4\n",
      "DEBUG:mathsformer.selfsupervised_learning_addition_model_backend:              75+N3612        N3537        N3537        N3537          X              0\n",
      "DEBUG:mathsformer.selfsupervised_learning_addition_model_backend:            N6215+N893        N7108        N7108        N7108          X              0\n",
      "DEBUG:mathsformer.selfsupervised_learning_addition_model_backend:                     8            8        8EE5E            8          X              0\n",
      "DEBUG:mathsformer.selfsupervised_learning_addition_model_backend:                  N257         N257        N257E         N257          X              0\n",
      "DEBUG:mathsformer.selfsupervised_learning_addition_model_backend:    8-N39-N555-N3-6589        N5984        N6900        N6900                      -916\n",
      "DEBUG:mathsformer.selfsupervised_learning_addition_model_backend:                   401          401        401EE          401          X              0\n",
      "DEBUG:mathsformer.selfsupervised_learning_addition_model_backend:Running text --> text mathsformer inference on some validation data:\n",
      "DEBUG:mathsformer.selfsupervised_learning_addition_model_backend:----------------------------------------------------------------------------------\n",
      "DEBUG:mathsformer.selfsupervised_learning_addition_model_backend:            INPUT         TRUE   PRED(MASK)    PRED(GEN)      CORRECT     RESIDUAL\n",
      "DEBUG:mathsformer.selfsupervised_learning_addition_model_backend:----------------------------------------------------------------------------------\n",
      "DEBUG:mathsformer.selfsupervised_learning_addition_model_backend:     3-N3988+N847         3144        3145E         3145                         1\n",
      "DEBUG:mathsformer.selfsupervised_learning_addition_model_backend:        7797+5-N4         7806        7802E         7802                        -4\n",
      "DEBUG:mathsformer.selfsupervised_learning_addition_model_backend:     N8357-N11+N7        N8353        N8342        N8342                        11\n",
      "DEBUG:mathsformer.selfsupervised_learning_addition_model_backend:    6686-N437-236         6887        6890E         6890                         3\n",
      "DEBUG:mathsformer.selfsupervised_learning_addition_model_backend:        N5+4442+8         4445        4447E         4447                         2\n",
      "DEBUG:mathsformer.selfsupervised_learning_addition_model_backend:      2123-N1+N68         2056        1056E         1056                     -1000\n",
      "DEBUG:mathsformer.selfsupervised_learning_addition_model_backend:      95+4563+879         5537        5450E         5450                       -87\n",
      "DEBUG:mathsformer.selfsupervised_learning_addition_model_backend:     1639+N2868+5        N1224        N1225        N1225                        -1\n",
      "DEBUG:mathsformer.selfsupervised_learning_addition_model_backend:         8+N725-3         N720        N728E         N728                        -8\n",
      "DEBUG:mathsformer.selfsupervised_learning_addition_model_backend:    N283+N962-N40        N1205        N1100        N1100                       105\n",
      "DEBUG:mathsformer.selfsupervised_learning_addition_model_backend: N2571-N818+N7340        N9093        N9080        N9080                        13\n",
      "DEBUG:mathsformer.selfsupervised_learning_addition_model_backend:      5617-N8+N39         5586        5580E         5580                        -6\n",
      "DEBUG:mathsformer.selfsupervised_learning_addition_model_backend:     N554-N9942-7         9381        9378E         9378                        -3\n",
      "DEBUG:mathsformer.selfsupervised_learning_addition_model_backend:       4-28+N9276        N9300        N9303        N9303                        -3\n",
      "DEBUG:mathsformer.selfsupervised_learning_addition_model_backend:      N250+2005+7         1762        1758E         1758                        -4\n"
     ]
    },
    {
     "name": "stdout",
     "output_type": "stream",
     "text": [
      "2000/2000 [==============================] - 876s 438ms/step - loss: 1.9188 - mathsformer_LLM_output_loss: 0.6420 - mathsformer_LLM_output_1_loss: 0.6356 - mathsformer_LLM_output_2_loss: 0.6412 - mathsformer_LLM_output_masked_categorical_accuracy: 0.7518 - mathsformer_LLM_output_1_masked_categorical_accuracy: 0.7537 - mathsformer_LLM_output_2_masked_categorical_accuracy: 0.7524 - val_loss: 2.7785 - val_mathsformer_LLM_output_loss: 0.9287 - val_mathsformer_LLM_output_1_loss: 0.9174 - val_mathsformer_LLM_output_2_loss: 0.9324 - val_mathsformer_LLM_output_masked_categorical_accuracy: 0.6775 - val_mathsformer_LLM_output_1_masked_categorical_accuracy: 0.6836 - val_mathsformer_LLM_output_2_masked_categorical_accuracy: 0.6791\n",
      "Epoch 27/100000\n",
      "2000/2000 [==============================] - ETA: 0s - loss: 1.8824 - mathsformer_LLM_output_loss: 0.6304 - mathsformer_LLM_output_1_loss: 0.6231 - mathsformer_LLM_output_2_loss: 0.6288 - mathsformer_LLM_output_masked_categorical_accuracy: 0.7564 - mathsformer_LLM_output_1_masked_categorical_accuracy: 0.7587 - mathsformer_LLM_output_2_masked_categorical_accuracy: 0.7569"
     ]
    },
    {
     "name": "stderr",
     "output_type": "stream",
     "text": [
      "DEBUG:mathsformer.selfsupervised_learning_addition_model_backend:Training reached the end of epoch at index 26\n",
      "DEBUG:mathsformer.selfsupervised_learning_addition_model_backend:    with metric loss: 1.8824\n",
      "DEBUG:mathsformer.selfsupervised_learning_addition_model_backend:    with metric mathsformer_LLM_output_loss: 0.63043\n",
      "DEBUG:mathsformer.selfsupervised_learning_addition_model_backend:    with metric mathsformer_LLM_output_1_loss: 0.62315\n",
      "DEBUG:mathsformer.selfsupervised_learning_addition_model_backend:    with metric mathsformer_LLM_output_2_loss: 0.62884\n",
      "DEBUG:mathsformer.selfsupervised_learning_addition_model_backend:    with metric mathsformer_LLM_output_masked_categorical_accuracy: 0.75637\n",
      "DEBUG:mathsformer.selfsupervised_learning_addition_model_backend:    with metric mathsformer_LLM_output_1_masked_categorical_accuracy: 0.7587\n",
      "DEBUG:mathsformer.selfsupervised_learning_addition_model_backend:    with metric mathsformer_LLM_output_2_masked_categorical_accuracy: 0.7569\n",
      "DEBUG:mathsformer.selfsupervised_learning_addition_model_backend:    with metric val_loss: 2.4526\n",
      "DEBUG:mathsformer.selfsupervised_learning_addition_model_backend:    with metric val_mathsformer_LLM_output_loss: 0.83196\n",
      "DEBUG:mathsformer.selfsupervised_learning_addition_model_backend:    with metric val_mathsformer_LLM_output_1_loss: 0.8086\n",
      "DEBUG:mathsformer.selfsupervised_learning_addition_model_backend:    with metric val_mathsformer_LLM_output_2_loss: 0.812\n",
      "DEBUG:mathsformer.selfsupervised_learning_addition_model_backend:    with metric val_mathsformer_LLM_output_masked_categorical_accuracy: 0.69113\n",
      "DEBUG:mathsformer.selfsupervised_learning_addition_model_backend:    with metric val_mathsformer_LLM_output_1_masked_categorical_accuracy: 0.69511\n",
      "DEBUG:mathsformer.selfsupervised_learning_addition_model_backend:    with metric val_mathsformer_LLM_output_2_masked_categorical_accuracy: 0.69388\n",
      "DEBUG:mathsformer.selfsupervised_learning_addition_model_backend:Running text --> text mathsformer inference on some training data:\n",
      "DEBUG:mathsformer.selfsupervised_learning_addition_model_backend:---------------------------------------------------------------------------------------\n",
      "DEBUG:mathsformer.selfsupervised_learning_addition_model_backend:                 INPUT         TRUE   PRED(MASK)    PRED(GEN)      CORRECT     RESIDUAL\n",
      "DEBUG:mathsformer.selfsupervised_learning_addition_model_backend:---------------------------------------------------------------------------------------\n",
      "DEBUG:mathsformer.selfsupervised_learning_addition_model_backend:    N8097-N943+N8+5-86        N7243        N7249        N7249                        -6\n",
      "DEBUG:mathsformer.selfsupervised_learning_addition_model_backend:       N9+N4-N2+N943+4         N950        N954E         N954                        -4\n",
      "DEBUG:mathsformer.selfsupervised_learning_addition_model_backend:              476+N792         N316        N316E         N316          X              0\n",
      "DEBUG:mathsformer.selfsupervised_learning_addition_model_backend:     2333-6-N6836+8575        17738        18333        18333                       595\n",
      "DEBUG:mathsformer.selfsupervised_learning_addition_model_backend:  N6665+617+N57+61+363        N5681        N5749        N5749                       -68\n",
      "DEBUG:mathsformer.selfsupervised_learning_addition_model_backend:     52-N6818+79-N5-N2         6956        6939E         6939                       -17\n",
      "DEBUG:mathsformer.selfsupervised_learning_addition_model_backend:                 N5+77           72        72EEE           72          X              0\n",
      "DEBUG:mathsformer.selfsupervised_learning_addition_model_backend: N379+N752-7+N2992-328        N4458        N4939        N4939                      -481\n",
      "DEBUG:mathsformer.selfsupervised_learning_addition_model_backend:       N7+N9-1+97-7774        N7694        N7699        N7699                        -5\n",
      "DEBUG:mathsformer.selfsupervised_learning_addition_model_backend:              75+N3612        N3537        N3537        N3537          X              0\n",
      "DEBUG:mathsformer.selfsupervised_learning_addition_model_backend:            N6215+N893        N7108        N7108        N7108          X              0\n",
      "DEBUG:mathsformer.selfsupervised_learning_addition_model_backend:                     8            8        8EE98            8          X              0\n",
      "DEBUG:mathsformer.selfsupervised_learning_addition_model_backend:                  N257         N257        N257E         N257          X              0\n",
      "DEBUG:mathsformer.selfsupervised_learning_addition_model_backend:    8-N39-N555-N3-6589        N5984        N6900        N6900                      -916\n",
      "DEBUG:mathsformer.selfsupervised_learning_addition_model_backend:                   401          401        401EE          401          X              0\n",
      "DEBUG:mathsformer.selfsupervised_learning_addition_model_backend:Running text --> text mathsformer inference on some validation data:\n",
      "DEBUG:mathsformer.selfsupervised_learning_addition_model_backend:----------------------------------------------------------------------------------\n",
      "DEBUG:mathsformer.selfsupervised_learning_addition_model_backend:            INPUT         TRUE   PRED(MASK)    PRED(GEN)      CORRECT     RESIDUAL\n",
      "DEBUG:mathsformer.selfsupervised_learning_addition_model_backend:----------------------------------------------------------------------------------\n",
      "DEBUG:mathsformer.selfsupervised_learning_addition_model_backend:     3-N3988+N847         3144        3149E         3149                         5\n",
      "DEBUG:mathsformer.selfsupervised_learning_addition_model_backend:        7797+5-N4         7806        7813E         7814                         8\n",
      "DEBUG:mathsformer.selfsupervised_learning_addition_model_backend:     N8357-N11+N7        N8353        N8341        N8341                        12\n",
      "DEBUG:mathsformer.selfsupervised_learning_addition_model_backend:    6686-N437-236         6887        7999E         7999                      1112\n",
      "DEBUG:mathsformer.selfsupervised_learning_addition_model_backend:        N5+4442+8         4445        4448E         4448                         3\n",
      "DEBUG:mathsformer.selfsupervised_learning_addition_model_backend:      2123-N1+N68         2056        2056E         2056          X              0\n",
      "DEBUG:mathsformer.selfsupervised_learning_addition_model_backend:      95+4563+879         5537        5440E         5440                       -97\n",
      "DEBUG:mathsformer.selfsupervised_learning_addition_model_backend:     1639+N2868+5        N1224        N1220        N1220                         4\n",
      "DEBUG:mathsformer.selfsupervised_learning_addition_model_backend:         8+N725-3         N720        N718E         N718                         2\n",
      "DEBUG:mathsformer.selfsupervised_learning_addition_model_backend:    N283+N962-N40        N1205        N1204        N1204                         1\n",
      "DEBUG:mathsformer.selfsupervised_learning_addition_model_backend: N2571-N818+N7340        N9093        N8980        N8980                       113\n",
      "DEBUG:mathsformer.selfsupervised_learning_addition_model_backend:      5617-N8+N39         5586        5589E         5589                         3\n",
      "DEBUG:mathsformer.selfsupervised_learning_addition_model_backend:     N554-N9942-7         9381        9388E         9388                         7\n",
      "DEBUG:mathsformer.selfsupervised_learning_addition_model_backend:       4-28+N9276        N9300        N9302        N9302                        -2\n",
      "DEBUG:mathsformer.selfsupervised_learning_addition_model_backend:      N250+2005+7         1762        1767E         1767                         5\n"
     ]
    },
    {
     "name": "stdout",
     "output_type": "stream",
     "text": [
      "2000/2000 [==============================] - 876s 438ms/step - loss: 1.8824 - mathsformer_LLM_output_loss: 0.6304 - mathsformer_LLM_output_1_loss: 0.6231 - mathsformer_LLM_output_2_loss: 0.6288 - mathsformer_LLM_output_masked_categorical_accuracy: 0.7564 - mathsformer_LLM_output_1_masked_categorical_accuracy: 0.7587 - mathsformer_LLM_output_2_masked_categorical_accuracy: 0.7569 - val_loss: 2.4526 - val_mathsformer_LLM_output_loss: 0.8320 - val_mathsformer_LLM_output_1_loss: 0.8086 - val_mathsformer_LLM_output_2_loss: 0.8120 - val_mathsformer_LLM_output_masked_categorical_accuracy: 0.6911 - val_mathsformer_LLM_output_1_masked_categorical_accuracy: 0.6951 - val_mathsformer_LLM_output_2_masked_categorical_accuracy: 0.6939\n",
      "Epoch 28/100000\n",
      "2000/2000 [==============================] - ETA: 0s - loss: 1.8364 - mathsformer_LLM_output_loss: 0.6151 - mathsformer_LLM_output_1_loss: 0.6080 - mathsformer_LLM_output_2_loss: 0.6133 - mathsformer_LLM_output_masked_categorical_accuracy: 0.7619 - mathsformer_LLM_output_1_masked_categorical_accuracy: 0.7651 - mathsformer_LLM_output_2_masked_categorical_accuracy: 0.7636"
     ]
    },
    {
     "name": "stderr",
     "output_type": "stream",
     "text": [
      "DEBUG:mathsformer.selfsupervised_learning_addition_model_backend:Training reached the end of epoch at index 27\n",
      "DEBUG:mathsformer.selfsupervised_learning_addition_model_backend:    with metric loss: 1.8364\n",
      "DEBUG:mathsformer.selfsupervised_learning_addition_model_backend:    with metric mathsformer_LLM_output_loss: 0.6151\n",
      "DEBUG:mathsformer.selfsupervised_learning_addition_model_backend:    with metric mathsformer_LLM_output_1_loss: 0.60802\n",
      "DEBUG:mathsformer.selfsupervised_learning_addition_model_backend:    with metric mathsformer_LLM_output_2_loss: 0.6133\n",
      "DEBUG:mathsformer.selfsupervised_learning_addition_model_backend:    with metric mathsformer_LLM_output_masked_categorical_accuracy: 0.76194\n",
      "DEBUG:mathsformer.selfsupervised_learning_addition_model_backend:    with metric mathsformer_LLM_output_1_masked_categorical_accuracy: 0.76508\n",
      "DEBUG:mathsformer.selfsupervised_learning_addition_model_backend:    with metric mathsformer_LLM_output_2_masked_categorical_accuracy: 0.76355\n",
      "DEBUG:mathsformer.selfsupervised_learning_addition_model_backend:    with metric val_loss: 2.56\n",
      "DEBUG:mathsformer.selfsupervised_learning_addition_model_backend:    with metric val_mathsformer_LLM_output_loss: 0.84822\n",
      "DEBUG:mathsformer.selfsupervised_learning_addition_model_backend:    with metric val_mathsformer_LLM_output_1_loss: 0.84393\n",
      "DEBUG:mathsformer.selfsupervised_learning_addition_model_backend:    with metric val_mathsformer_LLM_output_2_loss: 0.86784\n",
      "DEBUG:mathsformer.selfsupervised_learning_addition_model_backend:    with metric val_mathsformer_LLM_output_masked_categorical_accuracy: 0.6952\n",
      "DEBUG:mathsformer.selfsupervised_learning_addition_model_backend:    with metric val_mathsformer_LLM_output_1_masked_categorical_accuracy: 0.69898\n",
      "DEBUG:mathsformer.selfsupervised_learning_addition_model_backend:    with metric val_mathsformer_LLM_output_2_masked_categorical_accuracy: 0.69698\n",
      "DEBUG:mathsformer.selfsupervised_learning_addition_model_backend:Running text --> text mathsformer inference on some training data:\n",
      "DEBUG:mathsformer.selfsupervised_learning_addition_model_backend:---------------------------------------------------------------------------------------\n",
      "DEBUG:mathsformer.selfsupervised_learning_addition_model_backend:                 INPUT         TRUE   PRED(MASK)    PRED(GEN)      CORRECT     RESIDUAL\n",
      "DEBUG:mathsformer.selfsupervised_learning_addition_model_backend:---------------------------------------------------------------------------------------\n",
      "DEBUG:mathsformer.selfsupervised_learning_addition_model_backend:    N8097-N943+N8+5-86        N7243        N7269        N7269                       -26\n",
      "DEBUG:mathsformer.selfsupervised_learning_addition_model_backend:       N9+N4-N2+N943+4         N950        N943E         N943                         7\n",
      "DEBUG:mathsformer.selfsupervised_learning_addition_model_backend:              476+N792         N316        N316E         N316          X              0\n",
      "DEBUG:mathsformer.selfsupervised_learning_addition_model_backend:     2333-6-N6836+8575        17738        18920        18920                      1182\n",
      "DEBUG:mathsformer.selfsupervised_learning_addition_model_backend:  N6665+617+N57+61+363        N5681        N5660        N5660                        21\n",
      "DEBUG:mathsformer.selfsupervised_learning_addition_model_backend:     52-N6818+79-N5-N2         6956        7900E         7900                       944\n",
      "DEBUG:mathsformer.selfsupervised_learning_addition_model_backend:                 N5+77           72        72EEE           72          X              0\n",
      "DEBUG:mathsformer.selfsupervised_learning_addition_model_backend: N379+N752-7+N2992-328        N4458        N4200        N4200                       258\n",
      "DEBUG:mathsformer.selfsupervised_learning_addition_model_backend:       N7+N9-1+97-7774        N7694        N7690        N7690                         4\n",
      "DEBUG:mathsformer.selfsupervised_learning_addition_model_backend:              75+N3612        N3537        N3537        N3537          X              0\n",
      "DEBUG:mathsformer.selfsupervised_learning_addition_model_backend:            N6215+N893        N7108        N7108        N7108          X              0\n",
      "DEBUG:mathsformer.selfsupervised_learning_addition_model_backend:                     8            8        8EE66            8          X              0\n",
      "DEBUG:mathsformer.selfsupervised_learning_addition_model_backend:                  N257         N257        N257E         N257          X              0\n",
      "DEBUG:mathsformer.selfsupervised_learning_addition_model_backend:    8-N39-N555-N3-6589        N5984        N6900        N6900                      -916\n",
      "DEBUG:mathsformer.selfsupervised_learning_addition_model_backend:                   401          401        401EE          401          X              0\n",
      "DEBUG:mathsformer.selfsupervised_learning_addition_model_backend:Running text --> text mathsformer inference on some validation data:\n",
      "DEBUG:mathsformer.selfsupervised_learning_addition_model_backend:----------------------------------------------------------------------------------\n",
      "DEBUG:mathsformer.selfsupervised_learning_addition_model_backend:            INPUT         TRUE   PRED(MASK)    PRED(GEN)      CORRECT     RESIDUAL\n",
      "DEBUG:mathsformer.selfsupervised_learning_addition_model_backend:----------------------------------------------------------------------------------\n",
      "DEBUG:mathsformer.selfsupervised_learning_addition_model_backend:     3-N3988+N847         3144        3146E         3146                         2\n",
      "DEBUG:mathsformer.selfsupervised_learning_addition_model_backend:        7797+5-N4         7806        7803E         7803                        -3\n",
      "DEBUG:mathsformer.selfsupervised_learning_addition_model_backend:     N8357-N11+N7        N8353        N8350        N8350                         3\n",
      "DEBUG:mathsformer.selfsupervised_learning_addition_model_backend:    6686-N437-236         6887        6990E         6990                       103\n",
      "DEBUG:mathsformer.selfsupervised_learning_addition_model_backend:        N5+4442+8         4445        4447E         4447                         2\n",
      "DEBUG:mathsformer.selfsupervised_learning_addition_model_backend:      2123-N1+N68         2056        2066E         2066                        10\n",
      "DEBUG:mathsformer.selfsupervised_learning_addition_model_backend:      95+4563+879         5537        5459E         5459                       -78\n",
      "DEBUG:mathsformer.selfsupervised_learning_addition_model_backend:     1639+N2868+5        N1224        N1220        N1220                         4\n",
      "DEBUG:mathsformer.selfsupervised_learning_addition_model_backend:         8+N725-3         N720        N718E         N718                         2\n",
      "DEBUG:mathsformer.selfsupervised_learning_addition_model_backend:    N283+N962-N40        N1205        N1203        N1203                         2\n",
      "DEBUG:mathsformer.selfsupervised_learning_addition_model_backend: N2571-N818+N7340        N9093        N9066        N9066                        27\n",
      "DEBUG:mathsformer.selfsupervised_learning_addition_model_backend:      5617-N8+N39         5586        5580E         5580                        -6\n",
      "DEBUG:mathsformer.selfsupervised_learning_addition_model_backend:     N554-N9942-7         9381        9378E         9378                        -3\n",
      "DEBUG:mathsformer.selfsupervised_learning_addition_model_backend:       4-28+N9276        N9300        N9300        N9300          X              0\n",
      "DEBUG:mathsformer.selfsupervised_learning_addition_model_backend:      N250+2005+7         1762        1766E         1766                         4\n"
     ]
    },
    {
     "name": "stdout",
     "output_type": "stream",
     "text": [
      "2000/2000 [==============================] - 876s 438ms/step - loss: 1.8364 - mathsformer_LLM_output_loss: 0.6151 - mathsformer_LLM_output_1_loss: 0.6080 - mathsformer_LLM_output_2_loss: 0.6133 - mathsformer_LLM_output_masked_categorical_accuracy: 0.7619 - mathsformer_LLM_output_1_masked_categorical_accuracy: 0.7651 - mathsformer_LLM_output_2_masked_categorical_accuracy: 0.7636 - val_loss: 2.5600 - val_mathsformer_LLM_output_loss: 0.8482 - val_mathsformer_LLM_output_1_loss: 0.8439 - val_mathsformer_LLM_output_2_loss: 0.8678 - val_mathsformer_LLM_output_masked_categorical_accuracy: 0.6952 - val_mathsformer_LLM_output_1_masked_categorical_accuracy: 0.6990 - val_mathsformer_LLM_output_2_masked_categorical_accuracy: 0.6970\n",
      "Epoch 29/100000\n",
      "2000/2000 [==============================] - ETA: 0s - loss: 1.7790 - mathsformer_LLM_output_loss: 0.5991 - mathsformer_LLM_output_1_loss: 0.5882 - mathsformer_LLM_output_2_loss: 0.5918 - mathsformer_LLM_output_masked_categorical_accuracy: 0.7680 - mathsformer_LLM_output_1_masked_categorical_accuracy: 0.7721 - mathsformer_LLM_output_2_masked_categorical_accuracy: 0.7707"
     ]
    },
    {
     "name": "stderr",
     "output_type": "stream",
     "text": [
      "DEBUG:mathsformer.selfsupervised_learning_addition_model_backend:Training reached the end of epoch at index 28\n",
      "DEBUG:mathsformer.selfsupervised_learning_addition_model_backend:    with metric loss: 1.779\n",
      "DEBUG:mathsformer.selfsupervised_learning_addition_model_backend:    with metric mathsformer_LLM_output_loss: 0.59906\n",
      "DEBUG:mathsformer.selfsupervised_learning_addition_model_backend:    with metric mathsformer_LLM_output_1_loss: 0.5882\n",
      "DEBUG:mathsformer.selfsupervised_learning_addition_model_backend:    with metric mathsformer_LLM_output_2_loss: 0.59176\n",
      "DEBUG:mathsformer.selfsupervised_learning_addition_model_backend:    with metric mathsformer_LLM_output_masked_categorical_accuracy: 0.76801\n",
      "DEBUG:mathsformer.selfsupervised_learning_addition_model_backend:    with metric mathsformer_LLM_output_1_masked_categorical_accuracy: 0.77211\n",
      "DEBUG:mathsformer.selfsupervised_learning_addition_model_backend:    with metric mathsformer_LLM_output_2_masked_categorical_accuracy: 0.77065\n",
      "DEBUG:mathsformer.selfsupervised_learning_addition_model_backend:    with metric val_loss: 2.1187\n",
      "DEBUG:mathsformer.selfsupervised_learning_addition_model_backend:    with metric val_mathsformer_LLM_output_loss: 0.70305\n",
      "DEBUG:mathsformer.selfsupervised_learning_addition_model_backend:    with metric val_mathsformer_LLM_output_1_loss: 0.6972\n",
      "DEBUG:mathsformer.selfsupervised_learning_addition_model_backend:    with metric val_mathsformer_LLM_output_2_loss: 0.71846\n",
      "DEBUG:mathsformer.selfsupervised_learning_addition_model_backend:    with metric val_mathsformer_LLM_output_masked_categorical_accuracy: 0.73591\n",
      "DEBUG:mathsformer.selfsupervised_learning_addition_model_backend:    with metric val_mathsformer_LLM_output_1_masked_categorical_accuracy: 0.7396\n",
      "DEBUG:mathsformer.selfsupervised_learning_addition_model_backend:    with metric val_mathsformer_LLM_output_2_masked_categorical_accuracy: 0.73388\n",
      "DEBUG:mathsformer.selfsupervised_learning_addition_model_backend:Running text --> text mathsformer inference on some training data:\n",
      "DEBUG:mathsformer.selfsupervised_learning_addition_model_backend:---------------------------------------------------------------------------------------\n",
      "DEBUG:mathsformer.selfsupervised_learning_addition_model_backend:                 INPUT         TRUE   PRED(MASK)    PRED(GEN)      CORRECT     RESIDUAL\n",
      "DEBUG:mathsformer.selfsupervised_learning_addition_model_backend:---------------------------------------------------------------------------------------\n",
      "DEBUG:mathsformer.selfsupervised_learning_addition_model_backend:    N8097-N943+N8+5-86        N7243        N7248        N7248                        -5\n",
      "DEBUG:mathsformer.selfsupervised_learning_addition_model_backend:       N9+N4-N2+N943+4         N950        N955E         N955                        -5\n",
      "DEBUG:mathsformer.selfsupervised_learning_addition_model_backend:              476+N792         N316        N316E         N316          X              0\n",
      "DEBUG:mathsformer.selfsupervised_learning_addition_model_backend:     2333-6-N6836+8575        17738        17828        17828                        90\n",
      "DEBUG:mathsformer.selfsupervised_learning_addition_model_backend:  N6665+617+N57+61+363        N5681        N5588        N5588                        93\n",
      "DEBUG:mathsformer.selfsupervised_learning_addition_model_backend:     52-N6818+79-N5-N2         6956        6958E         6958                         2\n",
      "DEBUG:mathsformer.selfsupervised_learning_addition_model_backend:                 N5+77           72        72EEE           72          X              0\n",
      "DEBUG:mathsformer.selfsupervised_learning_addition_model_backend: N379+N752-7+N2992-328        N4458        N4291        N4291                       167\n",
      "DEBUG:mathsformer.selfsupervised_learning_addition_model_backend:       N7+N9-1+97-7774        N7694        N7698        N7698                        -4\n",
      "DEBUG:mathsformer.selfsupervised_learning_addition_model_backend:              75+N3612        N3537        N3537        N3537          X              0\n",
      "DEBUG:mathsformer.selfsupervised_learning_addition_model_backend:            N6215+N893        N7108        N7108        N7108          X              0\n",
      "DEBUG:mathsformer.selfsupervised_learning_addition_model_backend:                     8            8        8EE8E            8          X              0\n",
      "DEBUG:mathsformer.selfsupervised_learning_addition_model_backend:                  N257         N257        N257E         N257          X              0\n",
      "DEBUG:mathsformer.selfsupervised_learning_addition_model_backend:    8-N39-N555-N3-6589        N5984        N5988        N5988                        -4\n",
      "DEBUG:mathsformer.selfsupervised_learning_addition_model_backend:                   401          401        401EE          401          X              0\n",
      "DEBUG:mathsformer.selfsupervised_learning_addition_model_backend:Running text --> text mathsformer inference on some validation data:\n",
      "DEBUG:mathsformer.selfsupervised_learning_addition_model_backend:----------------------------------------------------------------------------------\n",
      "DEBUG:mathsformer.selfsupervised_learning_addition_model_backend:            INPUT         TRUE   PRED(MASK)    PRED(GEN)      CORRECT     RESIDUAL\n",
      "DEBUG:mathsformer.selfsupervised_learning_addition_model_backend:----------------------------------------------------------------------------------\n",
      "DEBUG:mathsformer.selfsupervised_learning_addition_model_backend:     3-N3988+N847         3144        3148E         3148                         4\n",
      "DEBUG:mathsformer.selfsupervised_learning_addition_model_backend:        7797+5-N4         7806        7806E         7806          X              0\n",
      "DEBUG:mathsformer.selfsupervised_learning_addition_model_backend:     N8357-N11+N7        N8353        N8353        N8353          X              0\n",
      "DEBUG:mathsformer.selfsupervised_learning_addition_model_backend:    6686-N437-236         6887        6898E         6898                        11\n",
      "DEBUG:mathsformer.selfsupervised_learning_addition_model_backend:        N5+4442+8         4445        4447E         4447                         2\n",
      "DEBUG:mathsformer.selfsupervised_learning_addition_model_backend:      2123-N1+N68         2056        2055E         2055                        -1\n",
      "DEBUG:mathsformer.selfsupervised_learning_addition_model_backend:      95+4563+879         5537        5438E         5438                       -99\n",
      "DEBUG:mathsformer.selfsupervised_learning_addition_model_backend:     1639+N2868+5        N1224        N1228        N1228                        -4\n",
      "DEBUG:mathsformer.selfsupervised_learning_addition_model_backend:         8+N725-3         N720        N728E         N728                        -8\n",
      "DEBUG:mathsformer.selfsupervised_learning_addition_model_backend:    N283+N962-N40        N1205        N1204        N1204                         1\n",
      "DEBUG:mathsformer.selfsupervised_learning_addition_model_backend: N2571-N818+N7340        N9093        N9095        N9095                        -2\n",
      "DEBUG:mathsformer.selfsupervised_learning_addition_model_backend:      5617-N8+N39         5586        5588E         5588                         2\n",
      "DEBUG:mathsformer.selfsupervised_learning_addition_model_backend:     N554-N9942-7         9381        9373E         9373                        -8\n",
      "DEBUG:mathsformer.selfsupervised_learning_addition_model_backend:       4-28+N9276        N9300        N9392        N9392                       -92\n",
      "DEBUG:mathsformer.selfsupervised_learning_addition_model_backend:      N250+2005+7         1762        1768E         1768                         6\n"
     ]
    },
    {
     "name": "stdout",
     "output_type": "stream",
     "text": [
      "2000/2000 [==============================] - 878s 439ms/step - loss: 1.7790 - mathsformer_LLM_output_loss: 0.5991 - mathsformer_LLM_output_1_loss: 0.5882 - mathsformer_LLM_output_2_loss: 0.5918 - mathsformer_LLM_output_masked_categorical_accuracy: 0.7680 - mathsformer_LLM_output_1_masked_categorical_accuracy: 0.7721 - mathsformer_LLM_output_2_masked_categorical_accuracy: 0.7707 - val_loss: 2.1187 - val_mathsformer_LLM_output_loss: 0.7031 - val_mathsformer_LLM_output_1_loss: 0.6972 - val_mathsformer_LLM_output_2_loss: 0.7185 - val_mathsformer_LLM_output_masked_categorical_accuracy: 0.7359 - val_mathsformer_LLM_output_1_masked_categorical_accuracy: 0.7396 - val_mathsformer_LLM_output_2_masked_categorical_accuracy: 0.7339\n",
      "Epoch 30/100000\n",
      "2000/2000 [==============================] - ETA: 0s - loss: 1.7028 - mathsformer_LLM_output_loss: 0.5744 - mathsformer_LLM_output_1_loss: 0.5623 - mathsformer_LLM_output_2_loss: 0.5662 - mathsformer_LLM_output_masked_categorical_accuracy: 0.7773 - mathsformer_LLM_output_1_masked_categorical_accuracy: 0.7819 - mathsformer_LLM_output_2_masked_categorical_accuracy: 0.7813"
     ]
    },
    {
     "name": "stderr",
     "output_type": "stream",
     "text": [
      "DEBUG:mathsformer.selfsupervised_learning_addition_model_backend:Training reached the end of epoch at index 29\n",
      "DEBUG:mathsformer.selfsupervised_learning_addition_model_backend:    with metric loss: 1.7028\n",
      "DEBUG:mathsformer.selfsupervised_learning_addition_model_backend:    with metric mathsformer_LLM_output_loss: 0.57438\n",
      "DEBUG:mathsformer.selfsupervised_learning_addition_model_backend:    with metric mathsformer_LLM_output_1_loss: 0.56231\n",
      "DEBUG:mathsformer.selfsupervised_learning_addition_model_backend:    with metric mathsformer_LLM_output_2_loss: 0.56616\n",
      "DEBUG:mathsformer.selfsupervised_learning_addition_model_backend:    with metric mathsformer_LLM_output_masked_categorical_accuracy: 0.7773\n",
      "DEBUG:mathsformer.selfsupervised_learning_addition_model_backend:    with metric mathsformer_LLM_output_1_masked_categorical_accuracy: 0.78192\n",
      "DEBUG:mathsformer.selfsupervised_learning_addition_model_backend:    with metric mathsformer_LLM_output_2_masked_categorical_accuracy: 0.78134\n",
      "DEBUG:mathsformer.selfsupervised_learning_addition_model_backend:    with metric val_loss: 2.0351\n",
      "DEBUG:mathsformer.selfsupervised_learning_addition_model_backend:    with metric val_mathsformer_LLM_output_loss: 0.64392\n",
      "DEBUG:mathsformer.selfsupervised_learning_addition_model_backend:    with metric val_mathsformer_LLM_output_1_loss: 0.66501\n",
      "DEBUG:mathsformer.selfsupervised_learning_addition_model_backend:    with metric val_mathsformer_LLM_output_2_loss: 0.72616\n",
      "DEBUG:mathsformer.selfsupervised_learning_addition_model_backend:    with metric val_mathsformer_LLM_output_masked_categorical_accuracy: 0.7634\n",
      "DEBUG:mathsformer.selfsupervised_learning_addition_model_backend:    with metric val_mathsformer_LLM_output_1_masked_categorical_accuracy: 0.75879\n",
      "DEBUG:mathsformer.selfsupervised_learning_addition_model_backend:    with metric val_mathsformer_LLM_output_2_masked_categorical_accuracy: 0.74378\n",
      "DEBUG:mathsformer.selfsupervised_learning_addition_model_backend:Running text --> text mathsformer inference on some training data:\n",
      "DEBUG:mathsformer.selfsupervised_learning_addition_model_backend:---------------------------------------------------------------------------------------\n",
      "DEBUG:mathsformer.selfsupervised_learning_addition_model_backend:                 INPUT         TRUE   PRED(MASK)    PRED(GEN)      CORRECT     RESIDUAL\n",
      "DEBUG:mathsformer.selfsupervised_learning_addition_model_backend:---------------------------------------------------------------------------------------\n",
      "DEBUG:mathsformer.selfsupervised_learning_addition_model_backend:    N8097-N943+N8+5-86        N7243        N7246        N7246                        -3\n",
      "DEBUG:mathsformer.selfsupervised_learning_addition_model_backend:       N9+N4-N2+N943+4         N950        N952E         N952                        -2\n",
      "DEBUG:mathsformer.selfsupervised_learning_addition_model_backend:              476+N792         N316        N316E         N316          X              0\n",
      "DEBUG:mathsformer.selfsupervised_learning_addition_model_backend:     2333-6-N6836+8575        17738        17436        17436                      -302\n",
      "DEBUG:mathsformer.selfsupervised_learning_addition_model_backend:  N6665+617+N57+61+363        N5681        N5669        N5669                        12\n",
      "DEBUG:mathsformer.selfsupervised_learning_addition_model_backend:     52-N6818+79-N5-N2         6956        6956E         6956          X              0\n",
      "DEBUG:mathsformer.selfsupervised_learning_addition_model_backend:                 N5+77           72        72EEE           72          X              0\n",
      "DEBUG:mathsformer.selfsupervised_learning_addition_model_backend: N379+N752-7+N2992-328        N4458        N4256        N4256                       202\n",
      "DEBUG:mathsformer.selfsupervised_learning_addition_model_backend:       N7+N9-1+97-7774        N7694        N7686        N7686                         8\n",
      "DEBUG:mathsformer.selfsupervised_learning_addition_model_backend:              75+N3612        N3537        N3537        N3537          X              0\n",
      "DEBUG:mathsformer.selfsupervised_learning_addition_model_backend:            N6215+N893        N7108        N7108        N7108          X              0\n",
      "DEBUG:mathsformer.selfsupervised_learning_addition_model_backend:                     8            8        8EE6E            8          X              0\n",
      "DEBUG:mathsformer.selfsupervised_learning_addition_model_backend:                  N257         N257        N257E         N257          X              0\n",
      "DEBUG:mathsformer.selfsupervised_learning_addition_model_backend:    8-N39-N555-N3-6589        N5984        N6986        N6986                     -1002\n",
      "DEBUG:mathsformer.selfsupervised_learning_addition_model_backend:                   401          401        401EE          401          X              0\n",
      "DEBUG:mathsformer.selfsupervised_learning_addition_model_backend:Running text --> text mathsformer inference on some validation data:\n",
      "DEBUG:mathsformer.selfsupervised_learning_addition_model_backend:----------------------------------------------------------------------------------\n",
      "DEBUG:mathsformer.selfsupervised_learning_addition_model_backend:            INPUT         TRUE   PRED(MASK)    PRED(GEN)      CORRECT     RESIDUAL\n",
      "DEBUG:mathsformer.selfsupervised_learning_addition_model_backend:----------------------------------------------------------------------------------\n",
      "DEBUG:mathsformer.selfsupervised_learning_addition_model_backend:     3-N3988+N847         3144        3145E         3145                         1\n",
      "DEBUG:mathsformer.selfsupervised_learning_addition_model_backend:        7797+5-N4         7806        7806E         7806          X              0\n",
      "DEBUG:mathsformer.selfsupervised_learning_addition_model_backend:     N8357-N11+N7        N8353        N8353        N8353          X              0\n",
      "DEBUG:mathsformer.selfsupervised_learning_addition_model_backend:    6686-N437-236         6887        6896E         6896                         9\n",
      "DEBUG:mathsformer.selfsupervised_learning_addition_model_backend:        N5+4442+8         4445        4446E         4446                         1\n",
      "DEBUG:mathsformer.selfsupervised_learning_addition_model_backend:      2123-N1+N68         2056        2066E         2066                        10\n",
      "DEBUG:mathsformer.selfsupervised_learning_addition_model_backend:      95+4563+879         5537        5547E         5547                        10\n",
      "DEBUG:mathsformer.selfsupervised_learning_addition_model_backend:     1639+N2868+5        N1224        N1223        N1223                         1\n",
      "DEBUG:mathsformer.selfsupervised_learning_addition_model_backend:         8+N725-3         N720        N719E         N719                         1\n",
      "DEBUG:mathsformer.selfsupervised_learning_addition_model_backend:    N283+N962-N40        N1205        N1115        N1115                        90\n",
      "DEBUG:mathsformer.selfsupervised_learning_addition_model_backend: N2571-N818+N7340        N9093        N9197        N9197                      -104\n",
      "DEBUG:mathsformer.selfsupervised_learning_addition_model_backend:      5617-N8+N39         5586        5586E         5586          X              0\n",
      "DEBUG:mathsformer.selfsupervised_learning_addition_model_backend:     N554-N9942-7         9381        9389E         9389                         8\n",
      "DEBUG:mathsformer.selfsupervised_learning_addition_model_backend:       4-28+N9276        N9300        N9302        N9302                        -2\n",
      "DEBUG:mathsformer.selfsupervised_learning_addition_model_backend:      N250+2005+7         1762        1769E         1769                         7\n"
     ]
    },
    {
     "name": "stdout",
     "output_type": "stream",
     "text": [
      "2000/2000 [==============================] - 873s 437ms/step - loss: 1.7028 - mathsformer_LLM_output_loss: 0.5744 - mathsformer_LLM_output_1_loss: 0.5623 - mathsformer_LLM_output_2_loss: 0.5662 - mathsformer_LLM_output_masked_categorical_accuracy: 0.7773 - mathsformer_LLM_output_1_masked_categorical_accuracy: 0.7819 - mathsformer_LLM_output_2_masked_categorical_accuracy: 0.7813 - val_loss: 2.0351 - val_mathsformer_LLM_output_loss: 0.6439 - val_mathsformer_LLM_output_1_loss: 0.6650 - val_mathsformer_LLM_output_2_loss: 0.7262 - val_mathsformer_LLM_output_masked_categorical_accuracy: 0.7634 - val_mathsformer_LLM_output_1_masked_categorical_accuracy: 0.7588 - val_mathsformer_LLM_output_2_masked_categorical_accuracy: 0.7438\n",
      "Epoch 31/100000\n",
      "2000/2000 [==============================] - ETA: 0s - loss: 1.5992 - mathsformer_LLM_output_loss: 0.5439 - mathsformer_LLM_output_1_loss: 0.5253 - mathsformer_LLM_output_2_loss: 0.5300 - mathsformer_LLM_output_masked_categorical_accuracy: 0.7887 - mathsformer_LLM_output_1_masked_categorical_accuracy: 0.7961 - mathsformer_LLM_output_2_masked_categorical_accuracy: 0.7948"
     ]
    },
    {
     "name": "stderr",
     "output_type": "stream",
     "text": [
      "DEBUG:mathsformer.selfsupervised_learning_addition_model_backend:Training reached the end of epoch at index 30\n",
      "DEBUG:mathsformer.selfsupervised_learning_addition_model_backend:    with metric loss: 1.5992\n",
      "DEBUG:mathsformer.selfsupervised_learning_addition_model_backend:    with metric mathsformer_LLM_output_loss: 0.54389\n",
      "DEBUG:mathsformer.selfsupervised_learning_addition_model_backend:    with metric mathsformer_LLM_output_1_loss: 0.52531\n",
      "DEBUG:mathsformer.selfsupervised_learning_addition_model_backend:    with metric mathsformer_LLM_output_2_loss: 0.53003\n",
      "DEBUG:mathsformer.selfsupervised_learning_addition_model_backend:    with metric mathsformer_LLM_output_masked_categorical_accuracy: 0.78872\n",
      "DEBUG:mathsformer.selfsupervised_learning_addition_model_backend:    with metric mathsformer_LLM_output_1_masked_categorical_accuracy: 0.79608\n",
      "DEBUG:mathsformer.selfsupervised_learning_addition_model_backend:    with metric mathsformer_LLM_output_2_masked_categorical_accuracy: 0.79484\n",
      "DEBUG:mathsformer.selfsupervised_learning_addition_model_backend:    with metric val_loss: 1.822\n",
      "DEBUG:mathsformer.selfsupervised_learning_addition_model_backend:    with metric val_mathsformer_LLM_output_loss: 0.56594\n",
      "DEBUG:mathsformer.selfsupervised_learning_addition_model_backend:    with metric val_mathsformer_LLM_output_1_loss: 0.59333\n",
      "DEBUG:mathsformer.selfsupervised_learning_addition_model_backend:    with metric val_mathsformer_LLM_output_2_loss: 0.66271\n",
      "DEBUG:mathsformer.selfsupervised_learning_addition_model_backend:    with metric val_mathsformer_LLM_output_masked_categorical_accuracy: 0.78546\n",
      "DEBUG:mathsformer.selfsupervised_learning_addition_model_backend:    with metric val_mathsformer_LLM_output_1_masked_categorical_accuracy: 0.77559\n",
      "DEBUG:mathsformer.selfsupervised_learning_addition_model_backend:    with metric val_mathsformer_LLM_output_2_masked_categorical_accuracy: 0.75871\n",
      "DEBUG:mathsformer.selfsupervised_learning_addition_model_backend:Running text --> text mathsformer inference on some training data:\n",
      "DEBUG:mathsformer.selfsupervised_learning_addition_model_backend:---------------------------------------------------------------------------------------\n",
      "DEBUG:mathsformer.selfsupervised_learning_addition_model_backend:                 INPUT         TRUE   PRED(MASK)    PRED(GEN)      CORRECT     RESIDUAL\n",
      "DEBUG:mathsformer.selfsupervised_learning_addition_model_backend:---------------------------------------------------------------------------------------\n",
      "DEBUG:mathsformer.selfsupervised_learning_addition_model_backend:    N8097-N943+N8+5-86        N7243        N7241        N7241                         2\n",
      "DEBUG:mathsformer.selfsupervised_learning_addition_model_backend:       N9+N4-N2+N943+4         N950        N949E         N949                         1\n",
      "DEBUG:mathsformer.selfsupervised_learning_addition_model_backend:              476+N792         N316        N316E         N316          X              0\n",
      "DEBUG:mathsformer.selfsupervised_learning_addition_model_backend:     2333-6-N6836+8575        17738        17724        17724                       -14\n",
      "DEBUG:mathsformer.selfsupervised_learning_addition_model_backend:  N6665+617+N57+61+363        N5681        N5761        N5761                       -80\n",
      "DEBUG:mathsformer.selfsupervised_learning_addition_model_backend:     52-N6818+79-N5-N2         6956        6954E         6954                        -2\n",
      "DEBUG:mathsformer.selfsupervised_learning_addition_model_backend:                 N5+77           72        72EEE           72          X              0\n",
      "DEBUG:mathsformer.selfsupervised_learning_addition_model_backend: N379+N752-7+N2992-328        N4458        N4127        N4127                       331\n",
      "DEBUG:mathsformer.selfsupervised_learning_addition_model_backend:       N7+N9-1+97-7774        N7694        N7696        N7696                        -2\n",
      "DEBUG:mathsformer.selfsupervised_learning_addition_model_backend:              75+N3612        N3537        N3537        N3537          X              0\n",
      "DEBUG:mathsformer.selfsupervised_learning_addition_model_backend:            N6215+N893        N7108        N7108        N7108          X              0\n",
      "DEBUG:mathsformer.selfsupervised_learning_addition_model_backend:                     8            8        8EE1E            8          X              0\n",
      "DEBUG:mathsformer.selfsupervised_learning_addition_model_backend:                  N257         N257        N257E         N257          X              0\n",
      "DEBUG:mathsformer.selfsupervised_learning_addition_model_backend:    8-N39-N555-N3-6589        N5984        N5982        N5982                         2\n",
      "DEBUG:mathsformer.selfsupervised_learning_addition_model_backend:                   401          401        401EE          401          X              0\n",
      "DEBUG:mathsformer.selfsupervised_learning_addition_model_backend:Running text --> text mathsformer inference on some validation data:\n",
      "DEBUG:mathsformer.selfsupervised_learning_addition_model_backend:----------------------------------------------------------------------------------\n",
      "DEBUG:mathsformer.selfsupervised_learning_addition_model_backend:            INPUT         TRUE   PRED(MASK)    PRED(GEN)      CORRECT     RESIDUAL\n",
      "DEBUG:mathsformer.selfsupervised_learning_addition_model_backend:----------------------------------------------------------------------------------\n",
      "DEBUG:mathsformer.selfsupervised_learning_addition_model_backend:     3-N3988+N847         3144        3143E         3143                        -1\n",
      "DEBUG:mathsformer.selfsupervised_learning_addition_model_backend:        7797+5-N4         7806        7806E         7806          X              0\n",
      "DEBUG:mathsformer.selfsupervised_learning_addition_model_backend:     N8357-N11+N7        N8353        N8364        N8364                       -11\n",
      "DEBUG:mathsformer.selfsupervised_learning_addition_model_backend:    6686-N437-236         6887        6786E         6786                      -101\n",
      "DEBUG:mathsformer.selfsupervised_learning_addition_model_backend:        N5+4442+8         4445        4446E         4446                         1\n",
      "DEBUG:mathsformer.selfsupervised_learning_addition_model_backend:      2123-N1+N68         2056        2056E         2056          X              0\n",
      "DEBUG:mathsformer.selfsupervised_learning_addition_model_backend:      95+4563+879         5537        5447E         5447                       -90\n",
      "DEBUG:mathsformer.selfsupervised_learning_addition_model_backend:     1639+N2868+5        N1224        N1225        N1225                        -1\n",
      "DEBUG:mathsformer.selfsupervised_learning_addition_model_backend:         8+N725-3         N720        N720E         N720          X              0\n",
      "DEBUG:mathsformer.selfsupervised_learning_addition_model_backend:    N283+N962-N40        N1205        N1104        N1104                       101\n",
      "DEBUG:mathsformer.selfsupervised_learning_addition_model_backend: N2571-N818+N7340        N9093        N8093        N8093                      1000\n",
      "DEBUG:mathsformer.selfsupervised_learning_addition_model_backend:      5617-N8+N39         5586        5596E         5596                        10\n",
      "DEBUG:mathsformer.selfsupervised_learning_addition_model_backend:     N554-N9942-7         9381        9389E         9389                         8\n",
      "DEBUG:mathsformer.selfsupervised_learning_addition_model_backend:       4-28+N9276        N9300        N9391        N9391                       -91\n",
      "DEBUG:mathsformer.selfsupervised_learning_addition_model_backend:      N250+2005+7         1762        1762E         1762          X              0\n"
     ]
    },
    {
     "name": "stdout",
     "output_type": "stream",
     "text": [
      "2000/2000 [==============================] - 879s 439ms/step - loss: 1.5992 - mathsformer_LLM_output_loss: 0.5439 - mathsformer_LLM_output_1_loss: 0.5253 - mathsformer_LLM_output_2_loss: 0.5300 - mathsformer_LLM_output_masked_categorical_accuracy: 0.7887 - mathsformer_LLM_output_1_masked_categorical_accuracy: 0.7961 - mathsformer_LLM_output_2_masked_categorical_accuracy: 0.7948 - val_loss: 1.8220 - val_mathsformer_LLM_output_loss: 0.5659 - val_mathsformer_LLM_output_1_loss: 0.5933 - val_mathsformer_LLM_output_2_loss: 0.6627 - val_mathsformer_LLM_output_masked_categorical_accuracy: 0.7855 - val_mathsformer_LLM_output_1_masked_categorical_accuracy: 0.7756 - val_mathsformer_LLM_output_2_masked_categorical_accuracy: 0.7587\n",
      "Epoch 32/100000\n",
      "2000/2000 [==============================] - ETA: 0s - loss: 1.3875 - mathsformer_LLM_output_loss: 0.4821 - mathsformer_LLM_output_1_loss: 0.4524 - mathsformer_LLM_output_2_loss: 0.4529 - mathsformer_LLM_output_masked_categorical_accuracy: 0.8101 - mathsformer_LLM_output_1_masked_categorical_accuracy: 0.8203 - mathsformer_LLM_output_2_masked_categorical_accuracy: 0.8208"
     ]
    },
    {
     "name": "stderr",
     "output_type": "stream",
     "text": [
      "DEBUG:mathsformer.selfsupervised_learning_addition_model_backend:Training reached the end of epoch at index 31\n",
      "DEBUG:mathsformer.selfsupervised_learning_addition_model_backend:    with metric loss: 1.3875\n",
      "DEBUG:mathsformer.selfsupervised_learning_addition_model_backend:    with metric mathsformer_LLM_output_loss: 0.48215\n",
      "DEBUG:mathsformer.selfsupervised_learning_addition_model_backend:    with metric mathsformer_LLM_output_1_loss: 0.45243\n",
      "DEBUG:mathsformer.selfsupervised_learning_addition_model_backend:    with metric mathsformer_LLM_output_2_loss: 0.45291\n",
      "DEBUG:mathsformer.selfsupervised_learning_addition_model_backend:    with metric mathsformer_LLM_output_masked_categorical_accuracy: 0.81006\n",
      "DEBUG:mathsformer.selfsupervised_learning_addition_model_backend:    with metric mathsformer_LLM_output_1_masked_categorical_accuracy: 0.8203\n",
      "DEBUG:mathsformer.selfsupervised_learning_addition_model_backend:    with metric mathsformer_LLM_output_2_masked_categorical_accuracy: 0.82076\n",
      "DEBUG:mathsformer.selfsupervised_learning_addition_model_backend:    with metric val_loss: 1.032\n",
      "DEBUG:mathsformer.selfsupervised_learning_addition_model_backend:    with metric val_mathsformer_LLM_output_loss: 0.34878\n",
      "DEBUG:mathsformer.selfsupervised_learning_addition_model_backend:    with metric val_mathsformer_LLM_output_1_loss: 0.33435\n",
      "DEBUG:mathsformer.selfsupervised_learning_addition_model_backend:    with metric val_mathsformer_LLM_output_2_loss: 0.34891\n",
      "DEBUG:mathsformer.selfsupervised_learning_addition_model_backend:    with metric val_mathsformer_LLM_output_masked_categorical_accuracy: 0.86359\n",
      "DEBUG:mathsformer.selfsupervised_learning_addition_model_backend:    with metric val_mathsformer_LLM_output_1_masked_categorical_accuracy: 0.86858\n",
      "DEBUG:mathsformer.selfsupervised_learning_addition_model_backend:    with metric val_mathsformer_LLM_output_2_masked_categorical_accuracy: 0.86043\n",
      "DEBUG:mathsformer.selfsupervised_learning_addition_model_backend:Running text --> text mathsformer inference on some training data:\n",
      "DEBUG:mathsformer.selfsupervised_learning_addition_model_backend:---------------------------------------------------------------------------------------\n",
      "DEBUG:mathsformer.selfsupervised_learning_addition_model_backend:                 INPUT         TRUE   PRED(MASK)    PRED(GEN)      CORRECT     RESIDUAL\n",
      "DEBUG:mathsformer.selfsupervised_learning_addition_model_backend:---------------------------------------------------------------------------------------\n",
      "DEBUG:mathsformer.selfsupervised_learning_addition_model_backend:    N8097-N943+N8+5-86        N7243        N7244        N7244                        -1\n",
      "DEBUG:mathsformer.selfsupervised_learning_addition_model_backend:       N9+N4-N2+N943+4         N950        N950E         N950          X              0\n",
      "DEBUG:mathsformer.selfsupervised_learning_addition_model_backend:              476+N792         N316        N316E         N316          X              0\n",
      "DEBUG:mathsformer.selfsupervised_learning_addition_model_backend:     2333-6-N6836+8575        17738        17848        17848                       110\n",
      "DEBUG:mathsformer.selfsupervised_learning_addition_model_backend:  N6665+617+N57+61+363        N5681        N5681        N5681          X              0\n",
      "DEBUG:mathsformer.selfsupervised_learning_addition_model_backend:     52-N6818+79-N5-N2         6956        6965E         6965                         9\n",
      "DEBUG:mathsformer.selfsupervised_learning_addition_model_backend:                 N5+77           72        72EEE           72          X              0\n",
      "DEBUG:mathsformer.selfsupervised_learning_addition_model_backend: N379+N752-7+N2992-328        N4458        N4167        N4177                       281\n",
      "DEBUG:mathsformer.selfsupervised_learning_addition_model_backend:       N7+N9-1+97-7774        N7694        N7691        N7691                         3\n",
      "DEBUG:mathsformer.selfsupervised_learning_addition_model_backend:              75+N3612        N3537        N3537        N3537          X              0\n",
      "DEBUG:mathsformer.selfsupervised_learning_addition_model_backend:            N6215+N893        N7108        N7108        N7108          X              0\n",
      "DEBUG:mathsformer.selfsupervised_learning_addition_model_backend:                     8            8        8EE8E            8          X              0\n",
      "DEBUG:mathsformer.selfsupervised_learning_addition_model_backend:                  N257         N257        N257E         N257          X              0\n",
      "DEBUG:mathsformer.selfsupervised_learning_addition_model_backend:    8-N39-N555-N3-6589        N5984        N5983        N5983                         1\n",
      "DEBUG:mathsformer.selfsupervised_learning_addition_model_backend:                   401          401        401EE          401          X              0\n",
      "DEBUG:mathsformer.selfsupervised_learning_addition_model_backend:Running text --> text mathsformer inference on some validation data:\n",
      "DEBUG:mathsformer.selfsupervised_learning_addition_model_backend:----------------------------------------------------------------------------------\n",
      "DEBUG:mathsformer.selfsupervised_learning_addition_model_backend:            INPUT         TRUE   PRED(MASK)    PRED(GEN)      CORRECT     RESIDUAL\n",
      "DEBUG:mathsformer.selfsupervised_learning_addition_model_backend:----------------------------------------------------------------------------------\n",
      "DEBUG:mathsformer.selfsupervised_learning_addition_model_backend:     3-N3988+N847         3144        3144E         3144          X              0\n",
      "DEBUG:mathsformer.selfsupervised_learning_addition_model_backend:        7797+5-N4         7806        7807E         7807                         1\n",
      "DEBUG:mathsformer.selfsupervised_learning_addition_model_backend:     N8357-N11+N7        N8353        N8353        N8353          X              0\n",
      "DEBUG:mathsformer.selfsupervised_learning_addition_model_backend:    6686-N437-236         6887        6886E         6886                        -1\n",
      "DEBUG:mathsformer.selfsupervised_learning_addition_model_backend:        N5+4442+8         4445        4444E         4444                        -1\n",
      "DEBUG:mathsformer.selfsupervised_learning_addition_model_backend:      2123-N1+N68         2056        2056E         2056          X              0\n",
      "DEBUG:mathsformer.selfsupervised_learning_addition_model_backend:      95+4563+879         5537        5537E         5537          X              0\n",
      "DEBUG:mathsformer.selfsupervised_learning_addition_model_backend:     1639+N2868+5        N1224        N1224        N1224          X              0\n",
      "DEBUG:mathsformer.selfsupervised_learning_addition_model_backend:         8+N725-3         N720        N710E         N710                        10\n",
      "DEBUG:mathsformer.selfsupervised_learning_addition_model_backend:    N283+N962-N40        N1205        N1205        N1205          X              0\n",
      "DEBUG:mathsformer.selfsupervised_learning_addition_model_backend: N2571-N818+N7340        N9093        N9193        N9193                      -100\n",
      "DEBUG:mathsformer.selfsupervised_learning_addition_model_backend:      5617-N8+N39         5586        5586E         5586          X              0\n",
      "DEBUG:mathsformer.selfsupervised_learning_addition_model_backend:     N554-N9942-7         9381        9381E         9381          X              0\n",
      "DEBUG:mathsformer.selfsupervised_learning_addition_model_backend:       4-28+N9276        N9300        N9300        N9300          X              0\n",
      "DEBUG:mathsformer.selfsupervised_learning_addition_model_backend:      N250+2005+7         1762        1762E         1762          X              0\n"
     ]
    },
    {
     "name": "stdout",
     "output_type": "stream",
     "text": [
      "2000/2000 [==============================] - 878s 439ms/step - loss: 1.3875 - mathsformer_LLM_output_loss: 0.4821 - mathsformer_LLM_output_1_loss: 0.4524 - mathsformer_LLM_output_2_loss: 0.4529 - mathsformer_LLM_output_masked_categorical_accuracy: 0.8101 - mathsformer_LLM_output_1_masked_categorical_accuracy: 0.8203 - mathsformer_LLM_output_2_masked_categorical_accuracy: 0.8208 - val_loss: 1.0320 - val_mathsformer_LLM_output_loss: 0.3488 - val_mathsformer_LLM_output_1_loss: 0.3344 - val_mathsformer_LLM_output_2_loss: 0.3489 - val_mathsformer_LLM_output_masked_categorical_accuracy: 0.8636 - val_mathsformer_LLM_output_1_masked_categorical_accuracy: 0.8686 - val_mathsformer_LLM_output_2_masked_categorical_accuracy: 0.8604\n",
      "Epoch 33/100000\n",
      "2000/2000 [==============================] - ETA: 0s - loss: 1.2320 - mathsformer_LLM_output_loss: 0.4329 - mathsformer_LLM_output_1_loss: 0.3995 - mathsformer_LLM_output_2_loss: 0.3997 - mathsformer_LLM_output_masked_categorical_accuracy: 0.8279 - mathsformer_LLM_output_1_masked_categorical_accuracy: 0.8396 - mathsformer_LLM_output_2_masked_categorical_accuracy: 0.8398"
     ]
    },
    {
     "name": "stderr",
     "output_type": "stream",
     "text": [
      "DEBUG:mathsformer.selfsupervised_learning_addition_model_backend:Training reached the end of epoch at index 32\n",
      "DEBUG:mathsformer.selfsupervised_learning_addition_model_backend:    with metric loss: 1.232\n",
      "DEBUG:mathsformer.selfsupervised_learning_addition_model_backend:    with metric mathsformer_LLM_output_loss: 0.43287\n",
      "DEBUG:mathsformer.selfsupervised_learning_addition_model_backend:    with metric mathsformer_LLM_output_1_loss: 0.39951\n",
      "DEBUG:mathsformer.selfsupervised_learning_addition_model_backend:    with metric mathsformer_LLM_output_2_loss: 0.39967\n",
      "DEBUG:mathsformer.selfsupervised_learning_addition_model_backend:    with metric mathsformer_LLM_output_masked_categorical_accuracy: 0.82785\n",
      "DEBUG:mathsformer.selfsupervised_learning_addition_model_backend:    with metric mathsformer_LLM_output_1_masked_categorical_accuracy: 0.83956\n",
      "DEBUG:mathsformer.selfsupervised_learning_addition_model_backend:    with metric mathsformer_LLM_output_2_masked_categorical_accuracy: 0.83981\n",
      "DEBUG:mathsformer.selfsupervised_learning_addition_model_backend:    with metric val_loss: 0.91245\n",
      "DEBUG:mathsformer.selfsupervised_learning_addition_model_backend:    with metric val_mathsformer_LLM_output_loss: 0.30392\n",
      "DEBUG:mathsformer.selfsupervised_learning_addition_model_backend:    with metric val_mathsformer_LLM_output_1_loss: 0.29707\n",
      "DEBUG:mathsformer.selfsupervised_learning_addition_model_backend:    with metric val_mathsformer_LLM_output_2_loss: 0.31146\n",
      "DEBUG:mathsformer.selfsupervised_learning_addition_model_backend:    with metric val_mathsformer_LLM_output_masked_categorical_accuracy: 0.87966\n",
      "DEBUG:mathsformer.selfsupervised_learning_addition_model_backend:    with metric val_mathsformer_LLM_output_1_masked_categorical_accuracy: 0.87881\n",
      "DEBUG:mathsformer.selfsupervised_learning_addition_model_backend:    with metric val_mathsformer_LLM_output_2_masked_categorical_accuracy: 0.87546\n",
      "DEBUG:mathsformer.selfsupervised_learning_addition_model_backend:Running text --> text mathsformer inference on some training data:\n",
      "DEBUG:mathsformer.selfsupervised_learning_addition_model_backend:---------------------------------------------------------------------------------------\n",
      "DEBUG:mathsformer.selfsupervised_learning_addition_model_backend:                 INPUT         TRUE   PRED(MASK)    PRED(GEN)      CORRECT     RESIDUAL\n",
      "DEBUG:mathsformer.selfsupervised_learning_addition_model_backend:---------------------------------------------------------------------------------------\n",
      "DEBUG:mathsformer.selfsupervised_learning_addition_model_backend:    N8097-N943+N8+5-86        N7243        N7245        N7245                        -2\n",
      "DEBUG:mathsformer.selfsupervised_learning_addition_model_backend:       N9+N4-N2+N943+4         N950        N950E         N950          X              0\n",
      "DEBUG:mathsformer.selfsupervised_learning_addition_model_backend:              476+N792         N316        N316E         N316          X              0\n",
      "DEBUG:mathsformer.selfsupervised_learning_addition_model_backend:     2333-6-N6836+8575        17738        17747        17747                         9\n",
      "DEBUG:mathsformer.selfsupervised_learning_addition_model_backend:  N6665+617+N57+61+363        N5681        N5672        N5672                         9\n",
      "DEBUG:mathsformer.selfsupervised_learning_addition_model_backend:     52-N6818+79-N5-N2         6956        6954E         6954                        -2\n",
      "DEBUG:mathsformer.selfsupervised_learning_addition_model_backend:                 N5+77           72        72EEE           72          X              0\n",
      "DEBUG:mathsformer.selfsupervised_learning_addition_model_backend: N379+N752-7+N2992-328        N4458        N4257        N4257                       201\n",
      "DEBUG:mathsformer.selfsupervised_learning_addition_model_backend:       N7+N9-1+97-7774        N7694        N7694        N7694          X              0\n",
      "DEBUG:mathsformer.selfsupervised_learning_addition_model_backend:              75+N3612        N3537        N3537        N3537          X              0\n",
      "DEBUG:mathsformer.selfsupervised_learning_addition_model_backend:            N6215+N893        N7108        N7108        N7108          X              0\n",
      "DEBUG:mathsformer.selfsupervised_learning_addition_model_backend:                     8            8        8EE0E            8          X              0\n",
      "DEBUG:mathsformer.selfsupervised_learning_addition_model_backend:                  N257         N257        N257E         N257          X              0\n",
      "DEBUG:mathsformer.selfsupervised_learning_addition_model_backend:    8-N39-N555-N3-6589        N5984        N6982        N6982                      -998\n",
      "DEBUG:mathsformer.selfsupervised_learning_addition_model_backend:                   401          401        401EE          401          X              0\n",
      "DEBUG:mathsformer.selfsupervised_learning_addition_model_backend:Running text --> text mathsformer inference on some validation data:\n",
      "DEBUG:mathsformer.selfsupervised_learning_addition_model_backend:----------------------------------------------------------------------------------\n",
      "DEBUG:mathsformer.selfsupervised_learning_addition_model_backend:            INPUT         TRUE   PRED(MASK)    PRED(GEN)      CORRECT     RESIDUAL\n",
      "DEBUG:mathsformer.selfsupervised_learning_addition_model_backend:----------------------------------------------------------------------------------\n",
      "DEBUG:mathsformer.selfsupervised_learning_addition_model_backend:     3-N3988+N847         3144        3144E         3144          X              0\n",
      "DEBUG:mathsformer.selfsupervised_learning_addition_model_backend:        7797+5-N4         7806        7807E         7807                         1\n",
      "DEBUG:mathsformer.selfsupervised_learning_addition_model_backend:     N8357-N11+N7        N8353        N8343        N8343                        10\n",
      "DEBUG:mathsformer.selfsupervised_learning_addition_model_backend:    6686-N437-236         6887        6987E         6987                       100\n",
      "DEBUG:mathsformer.selfsupervised_learning_addition_model_backend:        N5+4442+8         4445        4446E         4446                         1\n",
      "DEBUG:mathsformer.selfsupervised_learning_addition_model_backend:      2123-N1+N68         2056        2056E         2056          X              0\n",
      "DEBUG:mathsformer.selfsupervised_learning_addition_model_backend:      95+4563+879         5537        5437E         5437                      -100\n",
      "DEBUG:mathsformer.selfsupervised_learning_addition_model_backend:     1639+N2868+5        N1224        N1224        N1224          X              0\n",
      "DEBUG:mathsformer.selfsupervised_learning_addition_model_backend:         8+N725-3         N720        N719E         N719                         1\n",
      "DEBUG:mathsformer.selfsupervised_learning_addition_model_backend:    N283+N962-N40        N1205        N1205        N1205          X              0\n",
      "DEBUG:mathsformer.selfsupervised_learning_addition_model_backend: N2571-N818+N7340        N9093        N9093        N9093          X              0\n",
      "DEBUG:mathsformer.selfsupervised_learning_addition_model_backend:      5617-N8+N39         5586        5586E         5586          X              0\n",
      "DEBUG:mathsformer.selfsupervised_learning_addition_model_backend:     N554-N9942-7         9381        9381E         9381          X              0\n",
      "DEBUG:mathsformer.selfsupervised_learning_addition_model_backend:       4-28+N9276        N9300        N9300        N9300          X              0\n",
      "DEBUG:mathsformer.selfsupervised_learning_addition_model_backend:      N250+2005+7         1762        1762E         1762          X              0\n"
     ]
    },
    {
     "name": "stdout",
     "output_type": "stream",
     "text": [
      "2000/2000 [==============================] - 879s 440ms/step - loss: 1.2320 - mathsformer_LLM_output_loss: 0.4329 - mathsformer_LLM_output_1_loss: 0.3995 - mathsformer_LLM_output_2_loss: 0.3997 - mathsformer_LLM_output_masked_categorical_accuracy: 0.8279 - mathsformer_LLM_output_1_masked_categorical_accuracy: 0.8396 - mathsformer_LLM_output_2_masked_categorical_accuracy: 0.8398 - val_loss: 0.9125 - val_mathsformer_LLM_output_loss: 0.3039 - val_mathsformer_LLM_output_1_loss: 0.2971 - val_mathsformer_LLM_output_2_loss: 0.3115 - val_mathsformer_LLM_output_masked_categorical_accuracy: 0.8797 - val_mathsformer_LLM_output_1_masked_categorical_accuracy: 0.8788 - val_mathsformer_LLM_output_2_masked_categorical_accuracy: 0.8755\n",
      "Epoch 34/100000\n",
      "2000/2000 [==============================] - ETA: 0s - loss: 1.0895 - mathsformer_LLM_output_loss: 0.3862 - mathsformer_LLM_output_1_loss: 0.3522 - mathsformer_LLM_output_2_loss: 0.3511 - mathsformer_LLM_output_masked_categorical_accuracy: 0.8449 - mathsformer_LLM_output_1_masked_categorical_accuracy: 0.8568 - mathsformer_LLM_output_2_masked_categorical_accuracy: 0.8581"
     ]
    },
    {
     "name": "stderr",
     "output_type": "stream",
     "text": [
      "DEBUG:mathsformer.selfsupervised_learning_addition_model_backend:Training reached the end of epoch at index 33\n",
      "DEBUG:mathsformer.selfsupervised_learning_addition_model_backend:    with metric loss: 1.0895\n",
      "DEBUG:mathsformer.selfsupervised_learning_addition_model_backend:    with metric mathsformer_LLM_output_loss: 0.38619\n",
      "DEBUG:mathsformer.selfsupervised_learning_addition_model_backend:    with metric mathsformer_LLM_output_1_loss: 0.35221\n",
      "DEBUG:mathsformer.selfsupervised_learning_addition_model_backend:    with metric mathsformer_LLM_output_2_loss: 0.35111\n",
      "DEBUG:mathsformer.selfsupervised_learning_addition_model_backend:    with metric mathsformer_LLM_output_masked_categorical_accuracy: 0.84486\n",
      "DEBUG:mathsformer.selfsupervised_learning_addition_model_backend:    with metric mathsformer_LLM_output_1_masked_categorical_accuracy: 0.85681\n",
      "DEBUG:mathsformer.selfsupervised_learning_addition_model_backend:    with metric mathsformer_LLM_output_2_masked_categorical_accuracy: 0.85813\n",
      "DEBUG:mathsformer.selfsupervised_learning_addition_model_backend:    with metric val_loss: 0.95544\n",
      "DEBUG:mathsformer.selfsupervised_learning_addition_model_backend:    with metric val_mathsformer_LLM_output_loss: 0.32244\n",
      "DEBUG:mathsformer.selfsupervised_learning_addition_model_backend:    with metric val_mathsformer_LLM_output_1_loss: 0.31257\n",
      "DEBUG:mathsformer.selfsupervised_learning_addition_model_backend:    with metric val_mathsformer_LLM_output_2_loss: 0.32044\n",
      "DEBUG:mathsformer.selfsupervised_learning_addition_model_backend:    with metric val_mathsformer_LLM_output_masked_categorical_accuracy: 0.87977\n",
      "DEBUG:mathsformer.selfsupervised_learning_addition_model_backend:    with metric val_mathsformer_LLM_output_1_masked_categorical_accuracy: 0.88237\n",
      "DEBUG:mathsformer.selfsupervised_learning_addition_model_backend:    with metric val_mathsformer_LLM_output_2_masked_categorical_accuracy: 0.88305\n",
      "DEBUG:mathsformer.selfsupervised_learning_addition_model_backend:Running text --> text mathsformer inference on some training data:\n",
      "DEBUG:mathsformer.selfsupervised_learning_addition_model_backend:---------------------------------------------------------------------------------------\n",
      "DEBUG:mathsformer.selfsupervised_learning_addition_model_backend:                 INPUT         TRUE   PRED(MASK)    PRED(GEN)      CORRECT     RESIDUAL\n",
      "DEBUG:mathsformer.selfsupervised_learning_addition_model_backend:---------------------------------------------------------------------------------------\n",
      "DEBUG:mathsformer.selfsupervised_learning_addition_model_backend:    N8097-N943+N8+5-86        N7243        N7243        N7243          X              0\n",
      "DEBUG:mathsformer.selfsupervised_learning_addition_model_backend:       N9+N4-N2+N943+4         N950        N950E         N950          X              0\n",
      "DEBUG:mathsformer.selfsupervised_learning_addition_model_backend:              476+N792         N316        N316E         N316          X              0\n",
      "DEBUG:mathsformer.selfsupervised_learning_addition_model_backend:     2333-6-N6836+8575        17738        17648        17648                       -90\n",
      "DEBUG:mathsformer.selfsupervised_learning_addition_model_backend:  N6665+617+N57+61+363        N5681        N5671        N5671                        10\n",
      "DEBUG:mathsformer.selfsupervised_learning_addition_model_backend:     52-N6818+79-N5-N2         6956        6956E         6956          X              0\n",
      "DEBUG:mathsformer.selfsupervised_learning_addition_model_backend:                 N5+77           72        72EEE           72          X              0\n",
      "DEBUG:mathsformer.selfsupervised_learning_addition_model_backend: N379+N752-7+N2992-328        N4458        N4348        N4348                       110\n",
      "DEBUG:mathsformer.selfsupervised_learning_addition_model_backend:       N7+N9-1+97-7774        N7694        N7693        N7693                         1\n",
      "DEBUG:mathsformer.selfsupervised_learning_addition_model_backend:              75+N3612        N3537        N3537        N3537          X              0\n",
      "DEBUG:mathsformer.selfsupervised_learning_addition_model_backend:            N6215+N893        N7108        N7108        N7108          X              0\n",
      "DEBUG:mathsformer.selfsupervised_learning_addition_model_backend:                     8            8        8EE7E            8          X              0\n",
      "DEBUG:mathsformer.selfsupervised_learning_addition_model_backend:                  N257         N257        N257E         N257          X              0\n",
      "DEBUG:mathsformer.selfsupervised_learning_addition_model_backend:    8-N39-N555-N3-6589        N5984        N5971        N5971                        13\n",
      "DEBUG:mathsformer.selfsupervised_learning_addition_model_backend:                   401          401        401EE          401          X              0\n",
      "DEBUG:mathsformer.selfsupervised_learning_addition_model_backend:Running text --> text mathsformer inference on some validation data:\n",
      "DEBUG:mathsformer.selfsupervised_learning_addition_model_backend:----------------------------------------------------------------------------------\n",
      "DEBUG:mathsformer.selfsupervised_learning_addition_model_backend:            INPUT         TRUE   PRED(MASK)    PRED(GEN)      CORRECT     RESIDUAL\n",
      "DEBUG:mathsformer.selfsupervised_learning_addition_model_backend:----------------------------------------------------------------------------------\n",
      "DEBUG:mathsformer.selfsupervised_learning_addition_model_backend:     3-N3988+N847         3144        3144E         3144          X              0\n",
      "DEBUG:mathsformer.selfsupervised_learning_addition_model_backend:        7797+5-N4         7806        7807E         7807                         1\n",
      "DEBUG:mathsformer.selfsupervised_learning_addition_model_backend:     N8357-N11+N7        N8353        N8353        N8353          X              0\n",
      "DEBUG:mathsformer.selfsupervised_learning_addition_model_backend:    6686-N437-236         6887        6887E         6887          X              0\n",
      "DEBUG:mathsformer.selfsupervised_learning_addition_model_backend:        N5+4442+8         4445        4445E         4445          X              0\n",
      "DEBUG:mathsformer.selfsupervised_learning_addition_model_backend:      2123-N1+N68         2056        2056E         2056          X              0\n",
      "DEBUG:mathsformer.selfsupervised_learning_addition_model_backend:      95+4563+879         5537        5547E         5547                        10\n",
      "DEBUG:mathsformer.selfsupervised_learning_addition_model_backend:     1639+N2868+5        N1224        N1223        N1223                         1\n",
      "DEBUG:mathsformer.selfsupervised_learning_addition_model_backend:         8+N725-3         N720        N719E         N719                         1\n",
      "DEBUG:mathsformer.selfsupervised_learning_addition_model_backend:    N283+N962-N40        N1205        N1205        N1205          X              0\n",
      "DEBUG:mathsformer.selfsupervised_learning_addition_model_backend: N2571-N818+N7340        N9093        N9193        N9193                      -100\n",
      "DEBUG:mathsformer.selfsupervised_learning_addition_model_backend:      5617-N8+N39         5586        5587E         5587                         1\n",
      "DEBUG:mathsformer.selfsupervised_learning_addition_model_backend:     N554-N9942-7         9381        9381E         9381          X              0\n",
      "DEBUG:mathsformer.selfsupervised_learning_addition_model_backend:       4-28+N9276        N9300        N9300        N9300          X              0\n",
      "DEBUG:mathsformer.selfsupervised_learning_addition_model_backend:      N250+2005+7         1762        1762E         1762          X              0\n"
     ]
    },
    {
     "name": "stdout",
     "output_type": "stream",
     "text": [
      "2000/2000 [==============================] - 874s 437ms/step - loss: 1.0895 - mathsformer_LLM_output_loss: 0.3862 - mathsformer_LLM_output_1_loss: 0.3522 - mathsformer_LLM_output_2_loss: 0.3511 - mathsformer_LLM_output_masked_categorical_accuracy: 0.8449 - mathsformer_LLM_output_1_masked_categorical_accuracy: 0.8568 - mathsformer_LLM_output_2_masked_categorical_accuracy: 0.8581 - val_loss: 0.9554 - val_mathsformer_LLM_output_loss: 0.3224 - val_mathsformer_LLM_output_1_loss: 0.3126 - val_mathsformer_LLM_output_2_loss: 0.3204 - val_mathsformer_LLM_output_masked_categorical_accuracy: 0.8798 - val_mathsformer_LLM_output_1_masked_categorical_accuracy: 0.8824 - val_mathsformer_LLM_output_2_masked_categorical_accuracy: 0.8830\n",
      "Epoch 35/100000\n",
      "2000/2000 [==============================] - ETA: 0s - loss: 1.0210 - mathsformer_LLM_output_loss: 0.3627 - mathsformer_LLM_output_1_loss: 0.3300 - mathsformer_LLM_output_2_loss: 0.3284 - mathsformer_LLM_output_masked_categorical_accuracy: 0.8545 - mathsformer_LLM_output_1_masked_categorical_accuracy: 0.8678 - mathsformer_LLM_output_2_masked_categorical_accuracy: 0.8682"
     ]
    },
    {
     "name": "stderr",
     "output_type": "stream",
     "text": [
      "DEBUG:mathsformer.selfsupervised_learning_addition_model_backend:Training reached the end of epoch at index 34\n",
      "DEBUG:mathsformer.selfsupervised_learning_addition_model_backend:    with metric loss: 1.021\n",
      "DEBUG:mathsformer.selfsupervised_learning_addition_model_backend:    with metric mathsformer_LLM_output_loss: 0.36265\n",
      "DEBUG:mathsformer.selfsupervised_learning_addition_model_backend:    with metric mathsformer_LLM_output_1_loss: 0.32996\n",
      "DEBUG:mathsformer.selfsupervised_learning_addition_model_backend:    with metric mathsformer_LLM_output_2_loss: 0.32843\n",
      "DEBUG:mathsformer.selfsupervised_learning_addition_model_backend:    with metric mathsformer_LLM_output_masked_categorical_accuracy: 0.85446\n",
      "DEBUG:mathsformer.selfsupervised_learning_addition_model_backend:    with metric mathsformer_LLM_output_1_masked_categorical_accuracy: 0.86783\n",
      "DEBUG:mathsformer.selfsupervised_learning_addition_model_backend:    with metric mathsformer_LLM_output_2_masked_categorical_accuracy: 0.86822\n",
      "DEBUG:mathsformer.selfsupervised_learning_addition_model_backend:    with metric val_loss: 0.6549\n",
      "DEBUG:mathsformer.selfsupervised_learning_addition_model_backend:    with metric val_mathsformer_LLM_output_loss: 0.22854\n",
      "DEBUG:mathsformer.selfsupervised_learning_addition_model_backend:    with metric val_mathsformer_LLM_output_1_loss: 0.21017\n",
      "DEBUG:mathsformer.selfsupervised_learning_addition_model_backend:    with metric val_mathsformer_LLM_output_2_loss: 0.2162\n",
      "DEBUG:mathsformer.selfsupervised_learning_addition_model_backend:    with metric val_mathsformer_LLM_output_masked_categorical_accuracy: 0.91887\n",
      "DEBUG:mathsformer.selfsupervised_learning_addition_model_backend:    with metric val_mathsformer_LLM_output_1_masked_categorical_accuracy: 0.9258\n",
      "DEBUG:mathsformer.selfsupervised_learning_addition_model_backend:    with metric val_mathsformer_LLM_output_2_masked_categorical_accuracy: 0.92121\n",
      "DEBUG:mathsformer.selfsupervised_learning_addition_model_backend:Running text --> text mathsformer inference on some training data:\n",
      "DEBUG:mathsformer.selfsupervised_learning_addition_model_backend:---------------------------------------------------------------------------------------\n",
      "DEBUG:mathsformer.selfsupervised_learning_addition_model_backend:                 INPUT         TRUE   PRED(MASK)    PRED(GEN)      CORRECT     RESIDUAL\n",
      "DEBUG:mathsformer.selfsupervised_learning_addition_model_backend:---------------------------------------------------------------------------------------\n",
      "DEBUG:mathsformer.selfsupervised_learning_addition_model_backend:    N8097-N943+N8+5-86        N7243        N7244        N7244                        -1\n",
      "DEBUG:mathsformer.selfsupervised_learning_addition_model_backend:       N9+N4-N2+N943+4         N950        N950E         N950          X              0\n",
      "DEBUG:mathsformer.selfsupervised_learning_addition_model_backend:              476+N792         N316        N316E         N316          X              0\n",
      "DEBUG:mathsformer.selfsupervised_learning_addition_model_backend:     2333-6-N6836+8575        17738        17748        17748                        10\n",
      "DEBUG:mathsformer.selfsupervised_learning_addition_model_backend:  N6665+617+N57+61+363        N5681        N5671        N5671                        10\n",
      "DEBUG:mathsformer.selfsupervised_learning_addition_model_backend:     52-N6818+79-N5-N2         6956        6946E         6946                       -10\n",
      "DEBUG:mathsformer.selfsupervised_learning_addition_model_backend:                 N5+77           72        72EEE           72          X              0\n",
      "DEBUG:mathsformer.selfsupervised_learning_addition_model_backend: N379+N752-7+N2992-328        N4458        N4348        N4348                       110\n",
      "DEBUG:mathsformer.selfsupervised_learning_addition_model_backend:       N7+N9-1+97-7774        N7694        N7694        N7694          X              0\n",
      "DEBUG:mathsformer.selfsupervised_learning_addition_model_backend:              75+N3612        N3537        N3537        N3537          X              0\n",
      "DEBUG:mathsformer.selfsupervised_learning_addition_model_backend:            N6215+N893        N7108        N7108        N7108          X              0\n",
      "DEBUG:mathsformer.selfsupervised_learning_addition_model_backend:                     8            8        8EE7E            8          X              0\n",
      "DEBUG:mathsformer.selfsupervised_learning_addition_model_backend:                  N257         N257        N257E         N257          X              0\n",
      "DEBUG:mathsformer.selfsupervised_learning_addition_model_backend:    8-N39-N555-N3-6589        N5984        N6980        N6980                      -996\n",
      "DEBUG:mathsformer.selfsupervised_learning_addition_model_backend:                   401          401        401EE          401          X              0\n",
      "DEBUG:mathsformer.selfsupervised_learning_addition_model_backend:Running text --> text mathsformer inference on some validation data:\n",
      "DEBUG:mathsformer.selfsupervised_learning_addition_model_backend:----------------------------------------------------------------------------------\n",
      "DEBUG:mathsformer.selfsupervised_learning_addition_model_backend:            INPUT         TRUE   PRED(MASK)    PRED(GEN)      CORRECT     RESIDUAL\n",
      "DEBUG:mathsformer.selfsupervised_learning_addition_model_backend:----------------------------------------------------------------------------------\n",
      "DEBUG:mathsformer.selfsupervised_learning_addition_model_backend:     3-N3988+N847         3144        3144E         3144          X              0\n",
      "DEBUG:mathsformer.selfsupervised_learning_addition_model_backend:        7797+5-N4         7806        7807E         7807                         1\n",
      "DEBUG:mathsformer.selfsupervised_learning_addition_model_backend:     N8357-N11+N7        N8353        N8353        N8353          X              0\n",
      "DEBUG:mathsformer.selfsupervised_learning_addition_model_backend:    6686-N437-236         6887        6887E         6887          X              0\n",
      "DEBUG:mathsformer.selfsupervised_learning_addition_model_backend:        N5+4442+8         4445        4445E         4445          X              0\n",
      "DEBUG:mathsformer.selfsupervised_learning_addition_model_backend:      2123-N1+N68         2056        2056E         2056          X              0\n",
      "DEBUG:mathsformer.selfsupervised_learning_addition_model_backend:      95+4563+879         5537        5436E         5436                      -101\n",
      "DEBUG:mathsformer.selfsupervised_learning_addition_model_backend:     1639+N2868+5        N1224        N1224        N1224          X              0\n",
      "DEBUG:mathsformer.selfsupervised_learning_addition_model_backend:         8+N725-3         N720        N719E         N719                         1\n",
      "DEBUG:mathsformer.selfsupervised_learning_addition_model_backend:    N283+N962-N40        N1205        N1105        N1105                       100\n",
      "DEBUG:mathsformer.selfsupervised_learning_addition_model_backend: N2571-N818+N7340        N9093        N9093        N9093          X              0\n",
      "DEBUG:mathsformer.selfsupervised_learning_addition_model_backend:      5617-N8+N39         5586        5586E         5586          X              0\n",
      "DEBUG:mathsformer.selfsupervised_learning_addition_model_backend:     N554-N9942-7         9381        9381E         9381          X              0\n",
      "DEBUG:mathsformer.selfsupervised_learning_addition_model_backend:       4-28+N9276        N9300        N9300        N9300          X              0\n",
      "DEBUG:mathsformer.selfsupervised_learning_addition_model_backend:      N250+2005+7         1762        1762E         1762          X              0\n"
     ]
    },
    {
     "name": "stdout",
     "output_type": "stream",
     "text": [
      "2000/2000 [==============================] - 872s 436ms/step - loss: 1.0210 - mathsformer_LLM_output_loss: 0.3627 - mathsformer_LLM_output_1_loss: 0.3300 - mathsformer_LLM_output_2_loss: 0.3284 - mathsformer_LLM_output_masked_categorical_accuracy: 0.8545 - mathsformer_LLM_output_1_masked_categorical_accuracy: 0.8678 - mathsformer_LLM_output_2_masked_categorical_accuracy: 0.8682 - val_loss: 0.6549 - val_mathsformer_LLM_output_loss: 0.2285 - val_mathsformer_LLM_output_1_loss: 0.2102 - val_mathsformer_LLM_output_2_loss: 0.2162 - val_mathsformer_LLM_output_masked_categorical_accuracy: 0.9189 - val_mathsformer_LLM_output_1_masked_categorical_accuracy: 0.9258 - val_mathsformer_LLM_output_2_masked_categorical_accuracy: 0.9212\n",
      "Epoch 36/100000\n",
      "2000/2000 [==============================] - ETA: 0s - loss: 0.9139 - mathsformer_LLM_output_loss: 0.3268 - mathsformer_LLM_output_1_loss: 0.2943 - mathsformer_LLM_output_2_loss: 0.2928 - mathsformer_LLM_output_masked_categorical_accuracy: 0.8685 - mathsformer_LLM_output_1_masked_categorical_accuracy: 0.8812 - mathsformer_LLM_output_2_masked_categorical_accuracy: 0.8814"
     ]
    },
    {
     "name": "stderr",
     "output_type": "stream",
     "text": [
      "DEBUG:mathsformer.selfsupervised_learning_addition_model_backend:Training reached the end of epoch at index 35\n",
      "DEBUG:mathsformer.selfsupervised_learning_addition_model_backend:    with metric loss: 0.91386\n",
      "DEBUG:mathsformer.selfsupervised_learning_addition_model_backend:    with metric mathsformer_LLM_output_loss: 0.32679\n",
      "DEBUG:mathsformer.selfsupervised_learning_addition_model_backend:    with metric mathsformer_LLM_output_1_loss: 0.29428\n",
      "DEBUG:mathsformer.selfsupervised_learning_addition_model_backend:    with metric mathsformer_LLM_output_2_loss: 0.29279\n",
      "DEBUG:mathsformer.selfsupervised_learning_addition_model_backend:    with metric mathsformer_LLM_output_masked_categorical_accuracy: 0.86852\n",
      "DEBUG:mathsformer.selfsupervised_learning_addition_model_backend:    with metric mathsformer_LLM_output_1_masked_categorical_accuracy: 0.88123\n",
      "DEBUG:mathsformer.selfsupervised_learning_addition_model_backend:    with metric mathsformer_LLM_output_2_masked_categorical_accuracy: 0.88141\n",
      "DEBUG:mathsformer.selfsupervised_learning_addition_model_backend:    with metric val_loss: 0.59339\n",
      "DEBUG:mathsformer.selfsupervised_learning_addition_model_backend:    with metric val_mathsformer_LLM_output_loss: 0.20504\n",
      "DEBUG:mathsformer.selfsupervised_learning_addition_model_backend:    with metric val_mathsformer_LLM_output_1_loss: 0.19283\n",
      "DEBUG:mathsformer.selfsupervised_learning_addition_model_backend:    with metric val_mathsformer_LLM_output_2_loss: 0.19552\n",
      "DEBUG:mathsformer.selfsupervised_learning_addition_model_backend:    with metric val_mathsformer_LLM_output_masked_categorical_accuracy: 0.9221\n",
      "DEBUG:mathsformer.selfsupervised_learning_addition_model_backend:    with metric val_mathsformer_LLM_output_1_masked_categorical_accuracy: 0.92672\n",
      "DEBUG:mathsformer.selfsupervised_learning_addition_model_backend:    with metric val_mathsformer_LLM_output_2_masked_categorical_accuracy: 0.92584\n",
      "DEBUG:mathsformer.selfsupervised_learning_addition_model_backend:Running text --> text mathsformer inference on some training data:\n",
      "DEBUG:mathsformer.selfsupervised_learning_addition_model_backend:---------------------------------------------------------------------------------------\n",
      "DEBUG:mathsformer.selfsupervised_learning_addition_model_backend:                 INPUT         TRUE   PRED(MASK)    PRED(GEN)      CORRECT     RESIDUAL\n",
      "DEBUG:mathsformer.selfsupervised_learning_addition_model_backend:---------------------------------------------------------------------------------------\n",
      "DEBUG:mathsformer.selfsupervised_learning_addition_model_backend:    N8097-N943+N8+5-86        N7243        N7243        N7243          X              0\n",
      "DEBUG:mathsformer.selfsupervised_learning_addition_model_backend:       N9+N4-N2+N943+4         N950        N950E         N950          X              0\n",
      "DEBUG:mathsformer.selfsupervised_learning_addition_model_backend:              476+N792         N316        N316E         N316          X              0\n",
      "DEBUG:mathsformer.selfsupervised_learning_addition_model_backend:     2333-6-N6836+8575        17738        17848        17848                       110\n",
      "DEBUG:mathsformer.selfsupervised_learning_addition_model_backend:  N6665+617+N57+61+363        N5681        N5671        N5671                        10\n",
      "DEBUG:mathsformer.selfsupervised_learning_addition_model_backend:     52-N6818+79-N5-N2         6956        6956E         6956          X              0\n",
      "DEBUG:mathsformer.selfsupervised_learning_addition_model_backend:                 N5+77           72        72EEE           72          X              0\n",
      "DEBUG:mathsformer.selfsupervised_learning_addition_model_backend: N379+N752-7+N2992-328        N4458        N4358        N4358                       100\n",
      "DEBUG:mathsformer.selfsupervised_learning_addition_model_backend:       N7+N9-1+97-7774        N7694        N7694        N7694          X              0\n",
      "DEBUG:mathsformer.selfsupervised_learning_addition_model_backend:              75+N3612        N3537        N3537        N3537          X              0\n",
      "DEBUG:mathsformer.selfsupervised_learning_addition_model_backend:            N6215+N893        N7108        N7108        N7108          X              0\n",
      "DEBUG:mathsformer.selfsupervised_learning_addition_model_backend:                     8            8        8EE7E            8          X              0\n",
      "DEBUG:mathsformer.selfsupervised_learning_addition_model_backend:                  N257         N257        N257E         N257          X              0\n",
      "DEBUG:mathsformer.selfsupervised_learning_addition_model_backend:    8-N39-N555-N3-6589        N5984        N6983        N6983                      -999\n",
      "DEBUG:mathsformer.selfsupervised_learning_addition_model_backend:                   401          401        401EE          401          X              0\n",
      "DEBUG:mathsformer.selfsupervised_learning_addition_model_backend:Running text --> text mathsformer inference on some validation data:\n",
      "DEBUG:mathsformer.selfsupervised_learning_addition_model_backend:----------------------------------------------------------------------------------\n",
      "DEBUG:mathsformer.selfsupervised_learning_addition_model_backend:            INPUT         TRUE   PRED(MASK)    PRED(GEN)      CORRECT     RESIDUAL\n",
      "DEBUG:mathsformer.selfsupervised_learning_addition_model_backend:----------------------------------------------------------------------------------\n",
      "DEBUG:mathsformer.selfsupervised_learning_addition_model_backend:     3-N3988+N847         3144        3144E         3144          X              0\n",
      "DEBUG:mathsformer.selfsupervised_learning_addition_model_backend:        7797+5-N4         7806        7807E         7807                         1\n",
      "DEBUG:mathsformer.selfsupervised_learning_addition_model_backend:     N8357-N11+N7        N8353        N8353        N8353          X              0\n",
      "DEBUG:mathsformer.selfsupervised_learning_addition_model_backend:    6686-N437-236         6887        6887E         6887          X              0\n",
      "DEBUG:mathsformer.selfsupervised_learning_addition_model_backend:        N5+4442+8         4445        4445E         4445          X              0\n",
      "DEBUG:mathsformer.selfsupervised_learning_addition_model_backend:      2123-N1+N68         2056        2056E         2056          X              0\n",
      "DEBUG:mathsformer.selfsupervised_learning_addition_model_backend:      95+4563+879         5537        5537E         5537          X              0\n",
      "DEBUG:mathsformer.selfsupervised_learning_addition_model_backend:     1639+N2868+5        N1224        N1224        N1224          X              0\n",
      "DEBUG:mathsformer.selfsupervised_learning_addition_model_backend:         8+N725-3         N720        N720E         N720          X              0\n",
      "DEBUG:mathsformer.selfsupervised_learning_addition_model_backend:    N283+N962-N40        N1205        N1205        N1205          X              0\n",
      "DEBUG:mathsformer.selfsupervised_learning_addition_model_backend: N2571-N818+N7340        N9093        N9093        N9093          X              0\n",
      "DEBUG:mathsformer.selfsupervised_learning_addition_model_backend:      5617-N8+N39         5586        5596E         5596                        10\n",
      "DEBUG:mathsformer.selfsupervised_learning_addition_model_backend:     N554-N9942-7         9381        9381E         9381          X              0\n",
      "DEBUG:mathsformer.selfsupervised_learning_addition_model_backend:       4-28+N9276        N9300        N9300        N9300          X              0\n",
      "DEBUG:mathsformer.selfsupervised_learning_addition_model_backend:      N250+2005+7         1762        1762E         1762          X              0\n"
     ]
    },
    {
     "name": "stdout",
     "output_type": "stream",
     "text": [
      "2000/2000 [==============================] - 874s 437ms/step - loss: 0.9139 - mathsformer_LLM_output_loss: 0.3268 - mathsformer_LLM_output_1_loss: 0.2943 - mathsformer_LLM_output_2_loss: 0.2928 - mathsformer_LLM_output_masked_categorical_accuracy: 0.8685 - mathsformer_LLM_output_1_masked_categorical_accuracy: 0.8812 - mathsformer_LLM_output_2_masked_categorical_accuracy: 0.8814 - val_loss: 0.5934 - val_mathsformer_LLM_output_loss: 0.2050 - val_mathsformer_LLM_output_1_loss: 0.1928 - val_mathsformer_LLM_output_2_loss: 0.1955 - val_mathsformer_LLM_output_masked_categorical_accuracy: 0.9221 - val_mathsformer_LLM_output_1_masked_categorical_accuracy: 0.9267 - val_mathsformer_LLM_output_2_masked_categorical_accuracy: 0.9258\n",
      "Epoch 37/100000\n",
      "2000/2000 [==============================] - ETA: 0s - loss: 0.8705 - mathsformer_LLM_output_loss: 0.3121 - mathsformer_LLM_output_1_loss: 0.2800 - mathsformer_LLM_output_2_loss: 0.2784 - mathsformer_LLM_output_masked_categorical_accuracy: 0.8751 - mathsformer_LLM_output_1_masked_categorical_accuracy: 0.8873 - mathsformer_LLM_output_2_masked_categorical_accuracy: 0.8889"
     ]
    },
    {
     "name": "stderr",
     "output_type": "stream",
     "text": [
      "DEBUG:mathsformer.selfsupervised_learning_addition_model_backend:Training reached the end of epoch at index 36\n",
      "DEBUG:mathsformer.selfsupervised_learning_addition_model_backend:    with metric loss: 0.87054\n",
      "DEBUG:mathsformer.selfsupervised_learning_addition_model_backend:    with metric mathsformer_LLM_output_loss: 0.31215\n",
      "DEBUG:mathsformer.selfsupervised_learning_addition_model_backend:    with metric mathsformer_LLM_output_1_loss: 0.28\n",
      "DEBUG:mathsformer.selfsupervised_learning_addition_model_backend:    with metric mathsformer_LLM_output_2_loss: 0.27839\n",
      "DEBUG:mathsformer.selfsupervised_learning_addition_model_backend:    with metric mathsformer_LLM_output_masked_categorical_accuracy: 0.87514\n",
      "DEBUG:mathsformer.selfsupervised_learning_addition_model_backend:    with metric mathsformer_LLM_output_1_masked_categorical_accuracy: 0.88734\n",
      "DEBUG:mathsformer.selfsupervised_learning_addition_model_backend:    with metric mathsformer_LLM_output_2_masked_categorical_accuracy: 0.88888\n",
      "DEBUG:mathsformer.selfsupervised_learning_addition_model_backend:    with metric val_loss: 0.68752\n",
      "DEBUG:mathsformer.selfsupervised_learning_addition_model_backend:    with metric val_mathsformer_LLM_output_loss: 0.23546\n",
      "DEBUG:mathsformer.selfsupervised_learning_addition_model_backend:    with metric val_mathsformer_LLM_output_1_loss: 0.21727\n",
      "DEBUG:mathsformer.selfsupervised_learning_addition_model_backend:    with metric val_mathsformer_LLM_output_2_loss: 0.23479\n",
      "DEBUG:mathsformer.selfsupervised_learning_addition_model_backend:    with metric val_mathsformer_LLM_output_masked_categorical_accuracy: 0.91642\n",
      "DEBUG:mathsformer.selfsupervised_learning_addition_model_backend:    with metric val_mathsformer_LLM_output_1_masked_categorical_accuracy: 0.92197\n",
      "DEBUG:mathsformer.selfsupervised_learning_addition_model_backend:    with metric val_mathsformer_LLM_output_2_masked_categorical_accuracy: 0.91282\n",
      "DEBUG:mathsformer.selfsupervised_learning_addition_model_backend:Running text --> text mathsformer inference on some training data:\n",
      "DEBUG:mathsformer.selfsupervised_learning_addition_model_backend:---------------------------------------------------------------------------------------\n",
      "DEBUG:mathsformer.selfsupervised_learning_addition_model_backend:                 INPUT         TRUE   PRED(MASK)    PRED(GEN)      CORRECT     RESIDUAL\n",
      "DEBUG:mathsformer.selfsupervised_learning_addition_model_backend:---------------------------------------------------------------------------------------\n",
      "DEBUG:mathsformer.selfsupervised_learning_addition_model_backend:    N8097-N943+N8+5-86        N7243        N7243        N7243          X              0\n",
      "DEBUG:mathsformer.selfsupervised_learning_addition_model_backend:       N9+N4-N2+N943+4         N950        N950E         N950          X              0\n",
      "DEBUG:mathsformer.selfsupervised_learning_addition_model_backend:              476+N792         N316        N316E         N316          X              0\n",
      "DEBUG:mathsformer.selfsupervised_learning_addition_model_backend:     2333-6-N6836+8575        17738        17738        17738          X              0\n",
      "DEBUG:mathsformer.selfsupervised_learning_addition_model_backend:  N6665+617+N57+61+363        N5681        N5681        N5681          X              0\n",
      "DEBUG:mathsformer.selfsupervised_learning_addition_model_backend:     52-N6818+79-N5-N2         6956        6956E         6956          X              0\n",
      "DEBUG:mathsformer.selfsupervised_learning_addition_model_backend:                 N5+77           72        72EEE           72          X              0\n",
      "DEBUG:mathsformer.selfsupervised_learning_addition_model_backend: N379+N752-7+N2992-328        N4458        N4358        N4358                       100\n",
      "DEBUG:mathsformer.selfsupervised_learning_addition_model_backend:       N7+N9-1+97-7774        N7694        N7694        N7694          X              0\n",
      "DEBUG:mathsformer.selfsupervised_learning_addition_model_backend:              75+N3612        N3537        N3537        N3537          X              0\n",
      "DEBUG:mathsformer.selfsupervised_learning_addition_model_backend:            N6215+N893        N7108        N7108        N7108          X              0\n",
      "DEBUG:mathsformer.selfsupervised_learning_addition_model_backend:                     8            8        8EE4E            8          X              0\n",
      "DEBUG:mathsformer.selfsupervised_learning_addition_model_backend:                  N257         N257        N257E         N257          X              0\n",
      "DEBUG:mathsformer.selfsupervised_learning_addition_model_backend:    8-N39-N555-N3-6589        N5984        N5984        N5984          X              0\n",
      "DEBUG:mathsformer.selfsupervised_learning_addition_model_backend:                   401          401        401EE          401          X              0\n",
      "DEBUG:mathsformer.selfsupervised_learning_addition_model_backend:Running text --> text mathsformer inference on some validation data:\n",
      "DEBUG:mathsformer.selfsupervised_learning_addition_model_backend:----------------------------------------------------------------------------------\n",
      "DEBUG:mathsformer.selfsupervised_learning_addition_model_backend:            INPUT         TRUE   PRED(MASK)    PRED(GEN)      CORRECT     RESIDUAL\n",
      "DEBUG:mathsformer.selfsupervised_learning_addition_model_backend:----------------------------------------------------------------------------------\n",
      "DEBUG:mathsformer.selfsupervised_learning_addition_model_backend:     3-N3988+N847         3144        3144E         3144          X              0\n",
      "DEBUG:mathsformer.selfsupervised_learning_addition_model_backend:        7797+5-N4         7806        7806E         7806          X              0\n",
      "DEBUG:mathsformer.selfsupervised_learning_addition_model_backend:     N8357-N11+N7        N8353        N8353        N8353          X              0\n",
      "DEBUG:mathsformer.selfsupervised_learning_addition_model_backend:    6686-N437-236         6887        6887E         6887          X              0\n",
      "DEBUG:mathsformer.selfsupervised_learning_addition_model_backend:        N5+4442+8         4445        4445E         4445          X              0\n",
      "DEBUG:mathsformer.selfsupervised_learning_addition_model_backend:      2123-N1+N68         2056        2057E         2057                         1\n",
      "DEBUG:mathsformer.selfsupervised_learning_addition_model_backend:      95+4563+879         5537        5527E         5527                       -10\n",
      "DEBUG:mathsformer.selfsupervised_learning_addition_model_backend:     1639+N2868+5        N1224        N1224        N1224          X              0\n",
      "DEBUG:mathsformer.selfsupervised_learning_addition_model_backend:         8+N725-3         N720        N720E         N720          X              0\n",
      "DEBUG:mathsformer.selfsupervised_learning_addition_model_backend:    N283+N962-N40        N1205        N1105        N1105                       100\n",
      "DEBUG:mathsformer.selfsupervised_learning_addition_model_backend: N2571-N818+N7340        N9093        N9093        N9093          X              0\n",
      "DEBUG:mathsformer.selfsupervised_learning_addition_model_backend:      5617-N8+N39         5586        5586E         5586          X              0\n",
      "DEBUG:mathsformer.selfsupervised_learning_addition_model_backend:     N554-N9942-7         9381        9371E         9371                       -10\n",
      "DEBUG:mathsformer.selfsupervised_learning_addition_model_backend:       4-28+N9276        N9300        N9300        N9300          X              0\n",
      "DEBUG:mathsformer.selfsupervised_learning_addition_model_backend:      N250+2005+7         1762        1762E         1762          X              0\n"
     ]
    },
    {
     "name": "stdout",
     "output_type": "stream",
     "text": [
      "2000/2000 [==============================] - 877s 439ms/step - loss: 0.8705 - mathsformer_LLM_output_loss: 0.3121 - mathsformer_LLM_output_1_loss: 0.2800 - mathsformer_LLM_output_2_loss: 0.2784 - mathsformer_LLM_output_masked_categorical_accuracy: 0.8751 - mathsformer_LLM_output_1_masked_categorical_accuracy: 0.8873 - mathsformer_LLM_output_2_masked_categorical_accuracy: 0.8889 - val_loss: 0.6875 - val_mathsformer_LLM_output_loss: 0.2355 - val_mathsformer_LLM_output_1_loss: 0.2173 - val_mathsformer_LLM_output_2_loss: 0.2348 - val_mathsformer_LLM_output_masked_categorical_accuracy: 0.9164 - val_mathsformer_LLM_output_1_masked_categorical_accuracy: 0.9220 - val_mathsformer_LLM_output_2_masked_categorical_accuracy: 0.9128\n",
      "Epoch 38/100000\n",
      "2000/2000 [==============================] - ETA: 0s - loss: 0.8281 - mathsformer_LLM_output_loss: 0.2970 - mathsformer_LLM_output_1_loss: 0.2657 - mathsformer_LLM_output_2_loss: 0.2654 - mathsformer_LLM_output_masked_categorical_accuracy: 0.8820 - mathsformer_LLM_output_1_masked_categorical_accuracy: 0.8944 - mathsformer_LLM_output_2_masked_categorical_accuracy: 0.8955"
     ]
    },
    {
     "name": "stderr",
     "output_type": "stream",
     "text": [
      "DEBUG:mathsformer.selfsupervised_learning_addition_model_backend:Training reached the end of epoch at index 37\n",
      "DEBUG:mathsformer.selfsupervised_learning_addition_model_backend:    with metric loss: 0.82808\n",
      "DEBUG:mathsformer.selfsupervised_learning_addition_model_backend:    with metric mathsformer_LLM_output_loss: 0.29701\n",
      "DEBUG:mathsformer.selfsupervised_learning_addition_model_backend:    with metric mathsformer_LLM_output_1_loss: 0.26566\n",
      "DEBUG:mathsformer.selfsupervised_learning_addition_model_backend:    with metric mathsformer_LLM_output_2_loss: 0.2654\n",
      "DEBUG:mathsformer.selfsupervised_learning_addition_model_backend:    with metric mathsformer_LLM_output_masked_categorical_accuracy: 0.88196\n",
      "DEBUG:mathsformer.selfsupervised_learning_addition_model_backend:    with metric mathsformer_LLM_output_1_masked_categorical_accuracy: 0.89439\n",
      "DEBUG:mathsformer.selfsupervised_learning_addition_model_backend:    with metric mathsformer_LLM_output_2_masked_categorical_accuracy: 0.8955\n",
      "DEBUG:mathsformer.selfsupervised_learning_addition_model_backend:    with metric val_loss: 0.48812\n",
      "DEBUG:mathsformer.selfsupervised_learning_addition_model_backend:    with metric val_mathsformer_LLM_output_loss: 0.17336\n",
      "DEBUG:mathsformer.selfsupervised_learning_addition_model_backend:    with metric val_mathsformer_LLM_output_1_loss: 0.1568\n",
      "DEBUG:mathsformer.selfsupervised_learning_addition_model_backend:    with metric val_mathsformer_LLM_output_2_loss: 0.15796\n",
      "DEBUG:mathsformer.selfsupervised_learning_addition_model_backend:    with metric val_mathsformer_LLM_output_masked_categorical_accuracy: 0.9359\n",
      "DEBUG:mathsformer.selfsupervised_learning_addition_model_backend:    with metric val_mathsformer_LLM_output_1_masked_categorical_accuracy: 0.9435\n",
      "DEBUG:mathsformer.selfsupervised_learning_addition_model_backend:    with metric val_mathsformer_LLM_output_2_masked_categorical_accuracy: 0.94081\n",
      "DEBUG:mathsformer.selfsupervised_learning_addition_model_backend:Running text --> text mathsformer inference on some training data:\n",
      "DEBUG:mathsformer.selfsupervised_learning_addition_model_backend:---------------------------------------------------------------------------------------\n",
      "DEBUG:mathsformer.selfsupervised_learning_addition_model_backend:                 INPUT         TRUE   PRED(MASK)    PRED(GEN)      CORRECT     RESIDUAL\n",
      "DEBUG:mathsformer.selfsupervised_learning_addition_model_backend:---------------------------------------------------------------------------------------\n",
      "DEBUG:mathsformer.selfsupervised_learning_addition_model_backend:    N8097-N943+N8+5-86        N7243        N7233        N7233                        10\n",
      "DEBUG:mathsformer.selfsupervised_learning_addition_model_backend:       N9+N4-N2+N943+4         N950        N950E         N950          X              0\n",
      "DEBUG:mathsformer.selfsupervised_learning_addition_model_backend:              476+N792         N316        N316E         N316          X              0\n",
      "DEBUG:mathsformer.selfsupervised_learning_addition_model_backend:     2333-6-N6836+8575        17738        17438        17438                      -300\n",
      "DEBUG:mathsformer.selfsupervised_learning_addition_model_backend:  N6665+617+N57+61+363        N5681        N5671        N5671                        10\n",
      "DEBUG:mathsformer.selfsupervised_learning_addition_model_backend:     52-N6818+79-N5-N2         6956        6946E         6946                       -10\n",
      "DEBUG:mathsformer.selfsupervised_learning_addition_model_backend:                 N5+77           72        72EEE           72          X              0\n",
      "DEBUG:mathsformer.selfsupervised_learning_addition_model_backend: N379+N752-7+N2992-328        N4458        N4349        N4349                       109\n",
      "DEBUG:mathsformer.selfsupervised_learning_addition_model_backend:       N7+N9-1+97-7774        N7694        N7694        N7694          X              0\n",
      "DEBUG:mathsformer.selfsupervised_learning_addition_model_backend:              75+N3612        N3537        N3537        N3537          X              0\n",
      "DEBUG:mathsformer.selfsupervised_learning_addition_model_backend:            N6215+N893        N7108        N7108        N7108          X              0\n",
      "DEBUG:mathsformer.selfsupervised_learning_addition_model_backend:                     8            8        8EE6E            8          X              0\n",
      "DEBUG:mathsformer.selfsupervised_learning_addition_model_backend:                  N257         N257        N257E         N257          X              0\n",
      "DEBUG:mathsformer.selfsupervised_learning_addition_model_backend:    8-N39-N555-N3-6589        N5984        N5983        N5983                         1\n",
      "DEBUG:mathsformer.selfsupervised_learning_addition_model_backend:                   401          401        401EE          401          X              0\n",
      "DEBUG:mathsformer.selfsupervised_learning_addition_model_backend:Running text --> text mathsformer inference on some validation data:\n",
      "DEBUG:mathsformer.selfsupervised_learning_addition_model_backend:----------------------------------------------------------------------------------\n",
      "DEBUG:mathsformer.selfsupervised_learning_addition_model_backend:            INPUT         TRUE   PRED(MASK)    PRED(GEN)      CORRECT     RESIDUAL\n",
      "DEBUG:mathsformer.selfsupervised_learning_addition_model_backend:----------------------------------------------------------------------------------\n",
      "DEBUG:mathsformer.selfsupervised_learning_addition_model_backend:     3-N3988+N847         3144        3144E         3144          X              0\n",
      "DEBUG:mathsformer.selfsupervised_learning_addition_model_backend:        7797+5-N4         7806        7807E         7807                         1\n",
      "DEBUG:mathsformer.selfsupervised_learning_addition_model_backend:     N8357-N11+N7        N8353        N8353        N8353          X              0\n",
      "DEBUG:mathsformer.selfsupervised_learning_addition_model_backend:    6686-N437-236         6887        6887E         6887          X              0\n",
      "DEBUG:mathsformer.selfsupervised_learning_addition_model_backend:        N5+4442+8         4445        4445E         4445          X              0\n",
      "DEBUG:mathsformer.selfsupervised_learning_addition_model_backend:      2123-N1+N68         2056        2056E         2056          X              0\n",
      "DEBUG:mathsformer.selfsupervised_learning_addition_model_backend:      95+4563+879         5537        5527E         5527                       -10\n",
      "DEBUG:mathsformer.selfsupervised_learning_addition_model_backend:     1639+N2868+5        N1224        N1224        N1224          X              0\n",
      "DEBUG:mathsformer.selfsupervised_learning_addition_model_backend:         8+N725-3         N720        N720E         N720          X              0\n",
      "DEBUG:mathsformer.selfsupervised_learning_addition_model_backend:    N283+N962-N40        N1205        N1105        N1105                       100\n",
      "DEBUG:mathsformer.selfsupervised_learning_addition_model_backend: N2571-N818+N7340        N9093        N9193        N9193                      -100\n",
      "DEBUG:mathsformer.selfsupervised_learning_addition_model_backend:      5617-N8+N39         5586        5586E         5586          X              0\n",
      "DEBUG:mathsformer.selfsupervised_learning_addition_model_backend:     N554-N9942-7         9381        9381E         9381          X              0\n",
      "DEBUG:mathsformer.selfsupervised_learning_addition_model_backend:       4-28+N9276        N9300        N9290        N9290                        10\n",
      "DEBUG:mathsformer.selfsupervised_learning_addition_model_backend:      N250+2005+7         1762        1762E         1762          X              0\n"
     ]
    },
    {
     "name": "stdout",
     "output_type": "stream",
     "text": [
      "2000/2000 [==============================] - 876s 438ms/step - loss: 0.8281 - mathsformer_LLM_output_loss: 0.2970 - mathsformer_LLM_output_1_loss: 0.2657 - mathsformer_LLM_output_2_loss: 0.2654 - mathsformer_LLM_output_masked_categorical_accuracy: 0.8820 - mathsformer_LLM_output_1_masked_categorical_accuracy: 0.8944 - mathsformer_LLM_output_2_masked_categorical_accuracy: 0.8955 - val_loss: 0.4881 - val_mathsformer_LLM_output_loss: 0.1734 - val_mathsformer_LLM_output_1_loss: 0.1568 - val_mathsformer_LLM_output_2_loss: 0.1580 - val_mathsformer_LLM_output_masked_categorical_accuracy: 0.9359 - val_mathsformer_LLM_output_1_masked_categorical_accuracy: 0.9435 - val_mathsformer_LLM_output_2_masked_categorical_accuracy: 0.9408\n",
      "Epoch 39/100000\n",
      "2000/2000 [==============================] - ETA: 0s - loss: 0.7623 - mathsformer_LLM_output_loss: 0.2752 - mathsformer_LLM_output_1_loss: 0.2442 - mathsformer_LLM_output_2_loss: 0.2429 - mathsformer_LLM_output_masked_categorical_accuracy: 0.8907 - mathsformer_LLM_output_1_masked_categorical_accuracy: 0.9031 - mathsformer_LLM_output_2_masked_categorical_accuracy: 0.9044"
     ]
    },
    {
     "name": "stderr",
     "output_type": "stream",
     "text": [
      "DEBUG:mathsformer.selfsupervised_learning_addition_model_backend:Training reached the end of epoch at index 38\n",
      "DEBUG:mathsformer.selfsupervised_learning_addition_model_backend:    with metric loss: 0.76231\n",
      "DEBUG:mathsformer.selfsupervised_learning_addition_model_backend:    with metric mathsformer_LLM_output_loss: 0.27517\n",
      "DEBUG:mathsformer.selfsupervised_learning_addition_model_backend:    with metric mathsformer_LLM_output_1_loss: 0.24422\n",
      "DEBUG:mathsformer.selfsupervised_learning_addition_model_backend:    with metric mathsformer_LLM_output_2_loss: 0.24292\n",
      "DEBUG:mathsformer.selfsupervised_learning_addition_model_backend:    with metric mathsformer_LLM_output_masked_categorical_accuracy: 0.89071\n",
      "DEBUG:mathsformer.selfsupervised_learning_addition_model_backend:    with metric mathsformer_LLM_output_1_masked_categorical_accuracy: 0.9031\n",
      "DEBUG:mathsformer.selfsupervised_learning_addition_model_backend:    with metric mathsformer_LLM_output_2_masked_categorical_accuracy: 0.90443\n",
      "DEBUG:mathsformer.selfsupervised_learning_addition_model_backend:    with metric val_loss: 0.45145\n",
      "DEBUG:mathsformer.selfsupervised_learning_addition_model_backend:    with metric val_mathsformer_LLM_output_loss: 0.15917\n",
      "DEBUG:mathsformer.selfsupervised_learning_addition_model_backend:    with metric val_mathsformer_LLM_output_1_loss: 0.141\n",
      "DEBUG:mathsformer.selfsupervised_learning_addition_model_backend:    with metric val_mathsformer_LLM_output_2_loss: 0.15129\n",
      "DEBUG:mathsformer.selfsupervised_learning_addition_model_backend:    with metric val_mathsformer_LLM_output_masked_categorical_accuracy: 0.94361\n",
      "DEBUG:mathsformer.selfsupervised_learning_addition_model_backend:    with metric val_mathsformer_LLM_output_1_masked_categorical_accuracy: 0.95001\n",
      "DEBUG:mathsformer.selfsupervised_learning_addition_model_backend:    with metric val_mathsformer_LLM_output_2_masked_categorical_accuracy: 0.94462\n",
      "DEBUG:mathsformer.selfsupervised_learning_addition_model_backend:Running text --> text mathsformer inference on some training data:\n",
      "DEBUG:mathsformer.selfsupervised_learning_addition_model_backend:---------------------------------------------------------------------------------------\n",
      "DEBUG:mathsformer.selfsupervised_learning_addition_model_backend:                 INPUT         TRUE   PRED(MASK)    PRED(GEN)      CORRECT     RESIDUAL\n",
      "DEBUG:mathsformer.selfsupervised_learning_addition_model_backend:---------------------------------------------------------------------------------------\n",
      "DEBUG:mathsformer.selfsupervised_learning_addition_model_backend:    N8097-N943+N8+5-86        N7243        N7243        N7243          X              0\n",
      "DEBUG:mathsformer.selfsupervised_learning_addition_model_backend:       N9+N4-N2+N943+4         N950        N940E         N940                        10\n",
      "DEBUG:mathsformer.selfsupervised_learning_addition_model_backend:              476+N792         N316        N316E         N316          X              0\n",
      "DEBUG:mathsformer.selfsupervised_learning_addition_model_backend:     2333-6-N6836+8575        17738        17848        17848                       110\n",
      "DEBUG:mathsformer.selfsupervised_learning_addition_model_backend:  N6665+617+N57+61+363        N5681        N5681        N5681          X              0\n",
      "DEBUG:mathsformer.selfsupervised_learning_addition_model_backend:     52-N6818+79-N5-N2         6956        6956E         6956          X              0\n",
      "DEBUG:mathsformer.selfsupervised_learning_addition_model_backend:                 N5+77           72        72EEE           72          X              0\n",
      "DEBUG:mathsformer.selfsupervised_learning_addition_model_backend: N379+N752-7+N2992-328        N4458        N4458        N4458          X              0\n",
      "DEBUG:mathsformer.selfsupervised_learning_addition_model_backend:       N7+N9-1+97-7774        N7694        N7694        N7694          X              0\n",
      "DEBUG:mathsformer.selfsupervised_learning_addition_model_backend:              75+N3612        N3537        N3537        N3537          X              0\n",
      "DEBUG:mathsformer.selfsupervised_learning_addition_model_backend:            N6215+N893        N7108        N7108        N7108          X              0\n",
      "DEBUG:mathsformer.selfsupervised_learning_addition_model_backend:                     8            8        8EE6E            8          X              0\n",
      "DEBUG:mathsformer.selfsupervised_learning_addition_model_backend:                  N257         N257        N257E         N257          X              0\n",
      "DEBUG:mathsformer.selfsupervised_learning_addition_model_backend:    8-N39-N555-N3-6589        N5984        N5984        N5984          X              0\n",
      "DEBUG:mathsformer.selfsupervised_learning_addition_model_backend:                   401          401        401EE          401          X              0\n",
      "DEBUG:mathsformer.selfsupervised_learning_addition_model_backend:Running text --> text mathsformer inference on some validation data:\n",
      "DEBUG:mathsformer.selfsupervised_learning_addition_model_backend:----------------------------------------------------------------------------------\n",
      "DEBUG:mathsformer.selfsupervised_learning_addition_model_backend:            INPUT         TRUE   PRED(MASK)    PRED(GEN)      CORRECT     RESIDUAL\n",
      "DEBUG:mathsformer.selfsupervised_learning_addition_model_backend:----------------------------------------------------------------------------------\n",
      "DEBUG:mathsformer.selfsupervised_learning_addition_model_backend:     3-N3988+N847         3144        3144E         3144          X              0\n",
      "DEBUG:mathsformer.selfsupervised_learning_addition_model_backend:        7797+5-N4         7806        7806E         7806          X              0\n",
      "DEBUG:mathsformer.selfsupervised_learning_addition_model_backend:     N8357-N11+N7        N8353        N8353        N8353          X              0\n",
      "DEBUG:mathsformer.selfsupervised_learning_addition_model_backend:    6686-N437-236         6887        6987E         6987                       100\n",
      "DEBUG:mathsformer.selfsupervised_learning_addition_model_backend:        N5+4442+8         4445        4446E         4446                         1\n",
      "DEBUG:mathsformer.selfsupervised_learning_addition_model_backend:      2123-N1+N68         2056        2056E         2056          X              0\n",
      "DEBUG:mathsformer.selfsupervised_learning_addition_model_backend:      95+4563+879         5537        5537E         5537          X              0\n",
      "DEBUG:mathsformer.selfsupervised_learning_addition_model_backend:     1639+N2868+5        N1224        N1224        N1224          X              0\n",
      "DEBUG:mathsformer.selfsupervised_learning_addition_model_backend:         8+N725-3         N720        N720E         N720          X              0\n",
      "DEBUG:mathsformer.selfsupervised_learning_addition_model_backend:    N283+N962-N40        N1205        N1205        N1205          X              0\n",
      "DEBUG:mathsformer.selfsupervised_learning_addition_model_backend: N2571-N818+N7340        N9093        N9193        N9193                      -100\n",
      "DEBUG:mathsformer.selfsupervised_learning_addition_model_backend:      5617-N8+N39         5586        5586E         5586          X              0\n",
      "DEBUG:mathsformer.selfsupervised_learning_addition_model_backend:     N554-N9942-7         9381        9381E         9381          X              0\n",
      "DEBUG:mathsformer.selfsupervised_learning_addition_model_backend:       4-28+N9276        N9300        N9300        N9300          X              0\n",
      "DEBUG:mathsformer.selfsupervised_learning_addition_model_backend:      N250+2005+7         1762        1762E         1762          X              0\n"
     ]
    },
    {
     "name": "stdout",
     "output_type": "stream",
     "text": [
      "2000/2000 [==============================] - 878s 439ms/step - loss: 0.7623 - mathsformer_LLM_output_loss: 0.2752 - mathsformer_LLM_output_1_loss: 0.2442 - mathsformer_LLM_output_2_loss: 0.2429 - mathsformer_LLM_output_masked_categorical_accuracy: 0.8907 - mathsformer_LLM_output_1_masked_categorical_accuracy: 0.9031 - mathsformer_LLM_output_2_masked_categorical_accuracy: 0.9044 - val_loss: 0.4515 - val_mathsformer_LLM_output_loss: 0.1592 - val_mathsformer_LLM_output_1_loss: 0.1410 - val_mathsformer_LLM_output_2_loss: 0.1513 - val_mathsformer_LLM_output_masked_categorical_accuracy: 0.9436 - val_mathsformer_LLM_output_1_masked_categorical_accuracy: 0.9500 - val_mathsformer_LLM_output_2_masked_categorical_accuracy: 0.9446\n",
      "Epoch 40/100000\n",
      " 691/2000 [=========>....................] - ETA: 9:16 - loss: 0.7256 - mathsformer_LLM_output_loss: 0.2627 - mathsformer_LLM_output_1_loss: 0.2335 - mathsformer_LLM_output_2_loss: 0.2294 - mathsformer_LLM_output_masked_categorical_accuracy: 0.8963 - mathsformer_LLM_output_1_masked_categorical_accuracy: 0.9084 - mathsformer_LLM_output_2_masked_categorical_accuracy: 0.9106"
     ]
    }
   ],
   "source": [
    "##=================##\n",
    "##   Train model   ##\n",
    "##=================##\n",
    "\n",
    "do_train = cfg_training.get(\"train\", True)\n",
    "\n",
    "if do_train :\n",
    "    max_epochs = cfg_training[\"max_epochs\"]\n",
    "    logger.info(f\"Begin model training with max_epochs={max_epochs}\")\n",
    "    model.fit(train_gen, \n",
    "              epochs          = max_epochs,\n",
    "              validation_data = val_gen,\n",
    "              callbacks       = callbacks\n",
    "             )\n",
    "else :\n",
    "    logger.warning(\"Skipping model training following global config instructions\")\n"
   ]
  },
  {
   "cell_type": "code",
   "execution_count": null,
   "id": "8fb38943",
   "metadata": {},
   "outputs": [],
   "source": [
    "##================##\n",
    "##   Save model   ##\n",
    "##================##\n",
    "\n",
    "do_save = cfg_evaluate.get(\"save_model\", True)\n",
    "\n",
    "if do_save :\n",
    "    save_fname = f\"{working_dir}/final_model.keras\"\n",
    "    model.save(save_fname)\n",
    "    logger.info(f\"Model saved to file {save_fname}\")\n",
    "else :\n",
    "    logger.warning(\"Not saving model because no training was done\")\n"
   ]
  },
  {
   "cell_type": "markdown",
   "id": "5fc69448",
   "metadata": {},
   "source": [
    "## 6.  Evaluate model"
   ]
  },
  {
   "cell_type": "code",
   "execution_count": null,
   "id": "1db5e3aa",
   "metadata": {},
   "outputs": [],
   "source": [
    "##=====================================##\n",
    "##   Print final model metric values   ##\n",
    "##=====================================##\n",
    "\n",
    "backend.log_metrics(\n",
    "               model, \n",
    "               [train_gen_reproducible, val_gen, test_gen], \n",
    "               [\"training\", \"validation\", \"test\"],\n",
    "               verbose=1,\n",
    "              )\n"
   ]
  },
  {
   "cell_type": "code",
   "execution_count": null,
   "id": "04c425ac",
   "metadata": {
    "scrolled": true
   },
   "outputs": [],
   "source": [
    "##=========================================##\n",
    "##   Test transformer on data generators   ##\n",
    "##=========================================##\n",
    "\n",
    "num_print = cfg_evaluate.get(\"num_print\", 20)\n",
    "backend.test_transformer(transformer, train_gen, val_gen, test_gen, num_print=num_print,  \n",
    "                         negative_char=train_gen.negative_char)\n"
   ]
  },
  {
   "cell_type": "markdown",
   "id": "34dfb55b",
   "metadata": {},
   "source": [
    "##  7. Additional visualisations"
   ]
  },
  {
   "cell_type": "code",
   "execution_count": null,
   "id": "5e385e68",
   "metadata": {
    "scrolled": false
   },
   "outputs": [],
   "source": [
    "##=============================================##\n",
    "##   Visualise layer weights during training   ##\n",
    "##=============================================##\n",
    "\n",
    "if cfg_evaluate[\"plot_weights\"] :\n",
    "    \n",
    "    logger.info(\"Plotting weights\")\n",
    "    backend.plot_weights(callbacks, show=True, close=True, savefig=f\"{working_dir}/layer_weights.pdf\")\n",
    "    "
   ]
  },
  {
   "cell_type": "code",
   "execution_count": null,
   "id": "0508f971",
   "metadata": {
    "scrolled": false
   },
   "outputs": [],
   "source": [
    "##===============================##\n",
    "##   Visualise training curves   ##\n",
    "##===============================##\n",
    "\n",
    "if cfg_evaluate[\"plot_training_curves\"] :\n",
    "    \n",
    "    if not hasattr(model, \"history\") :\n",
    "        logger.error(\"Cannot print training curves because no model history exists - perhaps you skipped training?\")\n",
    "    else :\n",
    "        logger.info(\"Plotting training curves\")\n",
    "        backend.plot_training_curves(model.history.history, show=True, close=True, savefig=f\"{working_dir}/training_curves.pdf\")\n",
    "    "
   ]
  },
  {
   "cell_type": "markdown",
   "id": "8b0cd601",
   "metadata": {},
   "source": []
  }
 ],
 "metadata": {
  "kernelspec": {
   "display_name": "Python 3 (ipykernel)",
   "language": "python",
   "name": "python3"
  },
  "language_info": {
   "codemirror_mode": {
    "name": "ipython",
    "version": 3
   },
   "file_extension": ".py",
   "mimetype": "text/x-python",
   "name": "python",
   "nbconvert_exporter": "python",
   "pygments_lexer": "ipython3",
   "version": "3.11.3"
  }
 },
 "nbformat": 4,
 "nbformat_minor": 5
}
