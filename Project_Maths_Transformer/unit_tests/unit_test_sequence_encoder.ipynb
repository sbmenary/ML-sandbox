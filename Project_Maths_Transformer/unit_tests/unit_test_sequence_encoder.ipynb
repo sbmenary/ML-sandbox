{
 "cells": [
  {
   "cell_type": "markdown",
   "id": "80bbcfa0",
   "metadata": {},
   "source": [
    "- Test behaviour (shape, values)\n",
    "- Test masking\n",
    "- Test saving / loading"
   ]
  },
  {
   "cell_type": "code",
   "execution_count": 1,
   "id": "ebb2e1f9",
   "metadata": {},
   "outputs": [],
   "source": [
    "##=========================##\n",
    "##   All imports go here   ##\n",
    "##=========================##\n",
    "\n",
    "import logging, os, sys, time\n",
    "\n",
    "import numpy      as np\n",
    "import tensorflow as tf\n",
    "\n",
    "from tensorflow.keras.layers import Average, Embedding, Input, Masking\n",
    "from tensorflow.keras.models import Model\n",
    "\n",
    "from mathsformer.tf_objects import create_custom_objects_dict, AttentionBlock, EncoderBlock, PositionalEncoding\n",
    "\n",
    "from pathlib import Path\n"
   ]
  },
  {
   "cell_type": "code",
   "execution_count": 2,
   "id": "f12f32f1",
   "metadata": {},
   "outputs": [],
   "source": [
    "##=======================##\n",
    "##   Configure logging   ##\n",
    "##=======================##\n",
    "\n",
    "##  Create stream to output DEBUG level log messages to stdout\n",
    "stream = logging.StreamHandler(sys.stdout)\n",
    "stream.setFormatter(logging.Formatter(\"%(levelname)7s  %(message)s\"))\n",
    "stream.setLevel(logging.INFO)\n",
    "\n",
    "##  Get root logger and add our stream handler\n",
    "logger = logging.getLogger()\n",
    "logger.addHandler(stream)\n",
    "logger.setLevel(logging.INFO)\n"
   ]
  },
  {
   "cell_type": "code",
   "execution_count": 3,
   "id": "4a8f6a18",
   "metadata": {},
   "outputs": [
    {
     "name": "stdout",
     "output_type": "stream",
     "text": [
      "   INFO          PACKAGE  |  VERSION\n",
      "   INFO  ----------------------------------------------------------------------------------------------------\n",
      "   INFO           Python  |  3.10.8 | packaged by conda-forge | (main, Nov 22 2022, 08:25:29) [Clang 14.0.6 ]\n",
      "   INFO            Numpy  |  1.23.2\n",
      "   INFO       TensorFlow  |  2.11.0\n"
     ]
    }
   ],
   "source": [
    "##================================================##\n",
    "##   Print package versions for reproducibility   ##\n",
    "##================================================##\n",
    "\n",
    "logger.info(   \"PACKAGE\".rjust(15) +  \"  |  VERSION\")\n",
    "logger.info(\"-\"*100)\n",
    "logger.info(    \"Python\".rjust(15) + f\"  |  {sys.version}\"      )\n",
    "logger.info(     \"Numpy\".rjust(15) + f\"  |  {np.__version__}\"   )\n",
    "logger.info(\"TensorFlow\".rjust(15) + f\"  |  {tf.__version__}\"   )\n"
   ]
  },
  {
   "cell_type": "code",
   "execution_count": 8,
   "id": "237bd020",
   "metadata": {},
   "outputs": [
    {
     "name": "stdout",
     "output_type": "stream",
     "text": [
      "Test dataset with shape (1, 6, 2) is:\n",
      "[[[1 0]\n",
      "  [2 1]\n",
      "  [0 2]\n",
      "  [4 3]\n",
      "  [0 4]\n",
      "  [0 5]]]\n"
     ]
    }
   ],
   "source": [
    "##  Create test data\n",
    "##  -  test data has shape [B, S, F] for batch size B, sequence length S, feature length F\n",
    "##  -  feature vector has format [token, position index]\n",
    "##  -  token values of 0 represents a masked index\n",
    "\n",
    "test_data_X = np.array(\n",
    "    [[[1, 0],\n",
    "      [2, 1],\n",
    "      [0, 2],      #  Test masked datapoint in the middle of the sequence\n",
    "      [4, 3],\n",
    "      [0, 4],      #  Test masked datapoints to pad the sequence\n",
    "      [0, 5]]]     #  Test masked datapoints to pad the sequence\n",
    ")\n",
    "\n",
    "print(f\"Test dataset with shape {test_data_X.shape} is:\\n{test_data_X}\")"
   ]
  },
  {
   "cell_type": "code",
   "execution_count": 9,
   "id": "1021e6e2",
   "metadata": {},
   "outputs": [],
   "source": [
    "def create_model(x_in=None, name=\"dummy_model\") :\n",
    "    \n",
    "    make_model = False\n",
    "    if type(x_in) is type(None) :\n",
    "        x_in = Input((None,2))\n",
    "        make_model = True\n",
    "    \n",
    "    x_emb_slice = x_in[:,:,0]\n",
    "    print(\"\\nx_emb_slice\")\n",
    "    print(x_emb_slice)\n",
    "    \n",
    "    x_embed = Embedding(10, 6, mask_zero=True)(x_emb_slice)\n",
    "    print(\"\\nx_embed\")\n",
    "    print(x_embed.shape)\n",
    "    if hasattr(x_embed, \"_keras_mask\") : print(f\"\\nWITH MASK\\n{x_embed._keras_mask}\")\n",
    "    \n",
    "    x_pos = PositionalEncoding(slice_axis=1, num_freqs=3, min_period=3, max_period=300)(x_in)\n",
    "    print(\"\\nx_pos\")\n",
    "    print(x_pos.shape)\n",
    "    if hasattr(x_pos, \"_keras_mask\") : print(f\"\\nWITH MASK\\n{x_pos._keras_mask}\")\n",
    "    \n",
    "    x = Average()([x_embed, x_pos])\n",
    "    print(\"\\nx_average\")\n",
    "    print(x.shape)\n",
    "    if hasattr(x, \"_keras_mask\") : print(f\"\\nWITH MASK\\n{x._keras_mask}\")\n",
    "    \n",
    "    x = EncoderBlock(6, 4, 20, 40)(x)\n",
    "    print(\"\\nx_encode\")\n",
    "    print(x)\n",
    "    if hasattr(x, \"_keras_mask\") : print(f\"\\nWITH MASK\\n{x._keras_mask}\")\n",
    "    \n",
    "    x = EncoderBlock(6, 4, 20, 40)(x)\n",
    "    print(\"\\nx_encode\")\n",
    "    print(x)\n",
    "    if hasattr(x, \"_keras_mask\") : print(f\"\\nWITH MASK\\n{x._keras_mask}\")\n",
    "    \n",
    "    x = EncoderBlock(6, 4, 20, 40)(x)\n",
    "    print(\"\\nx_encode\")\n",
    "    print(x)\n",
    "    if hasattr(x, \"_keras_mask\") : print(f\"\\nWITH MASK\\n{x._keras_mask}\")\n",
    "    \n",
    "    if make_model :\n",
    "        model = Model(x_in, x, name=name)\n",
    "        return model\n",
    "    "
   ]
  },
  {
   "cell_type": "code",
   "execution_count": 10,
   "id": "c2c5736e",
   "metadata": {},
   "outputs": [
    {
     "name": "stdout",
     "output_type": "stream",
     "text": [
      "\n",
      "x_emb_slice\n",
      "[[1 2 0 4 0 0]]\n",
      "\n",
      "x_embed\n",
      "(1, 6, 6)\n",
      "\n",
      "WITH MASK\n",
      "[[ True  True False  True False False]]\n",
      "\n",
      "x_pos\n",
      "(1, 6, 6)\n",
      "\n",
      "x_average\n",
      "(1, 6, 6)\n",
      "\n",
      "WITH MASK\n",
      "[[ True  True False  True False False]]\n",
      "\n",
      "x_encode\n",
      "tf.Tensor(\n",
      "[[[ 0.06935705  1.5312977   0.89261645 -1.4944971  -0.27014264\n",
      "   -0.7286317 ]\n",
      "  [-0.4277981   1.7336278  -1.0901359  -0.84911567 -0.26275784\n",
      "    0.8961798 ]\n",
      "  [-0.03961434  1.9506594  -0.58834845 -0.64196944  0.42254782\n",
      "   -1.1032751 ]\n",
      "  [-0.17547604  0.97468007  0.7011401  -1.5829263   1.0413866\n",
      "   -0.95880425]\n",
      "  [-0.42563945  0.92012066 -1.6578195  -0.6651318   0.7141998\n",
      "    1.1142704 ]\n",
      "  [ 0.01166324  1.112745   -1.1228114  -0.36975443  1.4609529\n",
      "   -1.0927954 ]]], shape=(1, 6, 6), dtype=float32)\n",
      "\n",
      "WITH MASK\n",
      "[[ True  True False  True False False]]\n",
      "\n",
      "x_encode\n",
      "tf.Tensor(\n",
      "[[[ 0.73808557  1.3061289   0.70743567 -1.5933323  -0.4670827\n",
      "   -0.6912351 ]\n",
      "  [-0.08869857  1.7950122  -1.0435265  -0.7544372  -0.69248384\n",
      "    0.78413403]\n",
      "  [ 0.21130338  2.0257409  -0.42497116 -0.99522424 -0.00244272\n",
      "   -0.81440604]\n",
      "  [ 0.409083    1.1360521   0.799393   -1.5874413   0.35851675\n",
      "   -1.1156036 ]\n",
      "  [-0.3164332   1.2887344  -1.6576899  -0.4475368   0.00386242\n",
      "    1.1290631 ]\n",
      "  [ 0.10576365  1.8092109  -1.1747185  -0.4843723   0.5968777\n",
      "   -0.8527615 ]]], shape=(1, 6, 6), dtype=float32)\n",
      "\n",
      "WITH MASK\n",
      "[[ True  True False  True False False]]\n",
      "\n",
      "x_encode\n",
      "tf.Tensor(\n",
      "[[[ 0.58840686  1.0279019   0.88590056 -1.8729938  -0.1067268\n",
      "   -0.5224888 ]\n",
      "  [ 0.31770486  1.3616909  -1.2901071  -1.2196922  -0.09647772\n",
      "    0.92688143]\n",
      "  [ 0.5464365   1.6406616  -0.10607178 -1.6451604   0.07482024\n",
      "   -0.5106863 ]\n",
      "  [ 0.2898958   0.8959178   1.1250474  -1.6032977   0.35724917\n",
      "   -1.0648128 ]\n",
      "  [ 0.20128785  1.0750333  -1.6279579  -0.99198735  0.32313547\n",
      "    1.0204886 ]\n",
      "  [ 0.72466564  1.5611415  -0.7911964  -1.2981392   0.48497096\n",
      "   -0.6814426 ]]], shape=(1, 6, 6), dtype=float32)\n",
      "\n",
      "WITH MASK\n",
      "[[ True  True False  True False False]]\n"
     ]
    }
   ],
   "source": [
    "create_model(x_in=test_data_X)"
   ]
  },
  {
   "cell_type": "code",
   "execution_count": 11,
   "id": "76d45303",
   "metadata": {
    "scrolled": false
   },
   "outputs": [
    {
     "name": "stdout",
     "output_type": "stream",
     "text": [
      "\n",
      "x_emb_slice\n",
      "KerasTensor(type_spec=TensorSpec(shape=(None, None), dtype=tf.float32, name=None), name='tf.__operators__.getitem/strided_slice:0', description=\"created by layer 'tf.__operators__.getitem'\")\n",
      "\n",
      "x_embed\n",
      "(None, None, 6)\n",
      "\n",
      "WITH MASK\n",
      "KerasTensor(type_spec=TensorSpec(shape=(None, None), dtype=tf.bool, name=None), name='NotEqual:0')\n",
      "\n",
      "x_pos\n",
      "(None, None, 6)\n",
      "\n",
      "x_average\n",
      "(None, None, 6)\n",
      "\n",
      "WITH MASK\n",
      "KerasTensor(type_spec=TensorSpec(shape=(None, None), dtype=tf.bool, name=None), name='All:0')\n",
      "\n",
      "x_encode\n",
      "KerasTensor(type_spec=TensorSpec(shape=(None, None, 6), dtype=tf.float32, name=None), name='encoder_block_6/encoder_block_6_feedfwd_block/encoder_block_6_feedfwd_block_Layer_norm/add:0', description=\"created by layer 'encoder_block_6'\")\n",
      "\n",
      "WITH MASK\n",
      "KerasTensor(type_spec=TensorSpec(shape=(None, None), dtype=tf.bool, name=None), name='encoder_block_6/encoder_block_6_feedfwd_block/encoder_block_6_feedfwd_block_Average/All:0')\n",
      "\n",
      "x_encode\n",
      "KerasTensor(type_spec=TensorSpec(shape=(None, None, 6), dtype=tf.float32, name=None), name='encoder_block_7/encoder_block_7_feedfwd_block/encoder_block_7_feedfwd_block_Layer_norm/add:0', description=\"created by layer 'encoder_block_7'\")\n",
      "\n",
      "WITH MASK\n",
      "KerasTensor(type_spec=TensorSpec(shape=(None, None), dtype=tf.bool, name=None), name='encoder_block_7/encoder_block_7_feedfwd_block/encoder_block_7_feedfwd_block_Average/All:0')\n",
      "\n",
      "x_encode\n",
      "KerasTensor(type_spec=TensorSpec(shape=(None, None, 6), dtype=tf.float32, name=None), name='encoder_block_8/encoder_block_8_feedfwd_block/encoder_block_8_feedfwd_block_Layer_norm/add:0', description=\"created by layer 'encoder_block_8'\")\n",
      "\n",
      "WITH MASK\n",
      "KerasTensor(type_spec=TensorSpec(shape=(None, None), dtype=tf.bool, name=None), name='encoder_block_8/encoder_block_8_feedfwd_block/encoder_block_8_feedfwd_block_Average/All:0')\n"
     ]
    }
   ],
   "source": [
    "model = create_model()"
   ]
  },
  {
   "cell_type": "code",
   "execution_count": 12,
   "id": "dadbe8d5",
   "metadata": {
    "scrolled": false
   },
   "outputs": [
    {
     "data": {
      "text/plain": [
       "array([[[ 0.76991993,  1.0622401 ,  0.7635242 , -1.1723566 ,\n",
       "          0.09094052, -1.514268  ],\n",
       "        [ 1.2896976 ,  0.6301313 , -0.5515811 , -1.7395058 ,\n",
       "          0.6955039 , -0.32424602],\n",
       "        [ 0.8751843 ,  0.7943038 , -0.43831664, -1.1920847 ,\n",
       "          1.1971723 , -1.2362591 ],\n",
       "        [ 0.5839929 ,  0.9535519 ,  0.7888467 , -0.9964757 ,\n",
       "          0.39068314, -1.7205988 ],\n",
       "        [ 1.1660585 ,  0.15312089, -0.8387668 , -1.5027201 ,\n",
       "          1.256637  , -0.23432952],\n",
       "        [ 0.851951  ,  0.40467256, -0.66578436, -0.992674  ,\n",
       "          1.5376297 , -1.135795  ]]], dtype=float32)"
      ]
     },
     "execution_count": 12,
     "metadata": {},
     "output_type": "execute_result"
    }
   ],
   "source": [
    "##  Pass data through the model\n",
    "\n",
    "model(test_data_X).numpy()"
   ]
  },
  {
   "cell_type": "code",
   "execution_count": 13,
   "id": "d878ae12",
   "metadata": {},
   "outputs": [
    {
     "data": {
      "text/plain": [
       "array([[[ 0.76991993,  1.0622401 ,  0.7635242 , -1.1723566 ,\n",
       "          0.09094052, -1.514268  ],\n",
       "        [ 1.2896976 ,  0.6301313 , -0.5515811 , -1.7395058 ,\n",
       "          0.6955039 , -0.32424602],\n",
       "        [ 0.8533559 ,  0.81661874, -0.3724842 , -1.2033893 ,\n",
       "          1.1746306 , -1.2687317 ],\n",
       "        [ 0.5839929 ,  0.9535519 ,  0.7888467 , -0.9964757 ,\n",
       "          0.39068314, -1.7205988 ],\n",
       "        [ 1.1762502 ,  0.21413483, -0.7735682 , -1.5583445 ,\n",
       "          1.2053536 , -0.2638262 ]]], dtype=float32)"
      ]
     },
     "execution_count": 13,
     "metadata": {},
     "output_type": "execute_result"
    }
   ],
   "source": [
    "##  Pass data through the model with the final index removed\n",
    "##  -  All non-masked rows should remain unchanged\n",
    "##  -  The final row is masked and may change, but its values should be ignored\n",
    "\n",
    "model(test_data_X[:,:-1,:]).numpy()"
   ]
  },
  {
   "cell_type": "code",
   "execution_count": 14,
   "id": "8c858a36",
   "metadata": {},
   "outputs": [
    {
     "data": {
      "text/plain": [
       "array([[[ 0.76991993,  1.0622401 ,  0.7635242 , -1.1723566 ,\n",
       "          0.09094052, -1.514268  ],\n",
       "        [ 1.2896976 ,  0.6301313 , -0.5515811 , -1.7395058 ,\n",
       "          0.6955039 , -0.32424602],\n",
       "        [ 0.8344096 ,  0.75715685, -0.3132395 , -1.2285618 ,\n",
       "          1.2186724 , -1.2684376 ],\n",
       "        [ 0.5839929 ,  0.9535519 ,  0.7888467 , -0.9964757 ,\n",
       "          0.39068314, -1.7205988 ]]], dtype=float32)"
      ]
     },
     "execution_count": 14,
     "metadata": {},
     "output_type": "execute_result"
    }
   ],
   "source": [
    "##  Pass data through the model with the final two indices removed\n",
    "##  -  All non-masked rows should remain unchanged\n",
    "##  -  The final row is masked and may change, but its values should be ignored\n",
    "\n",
    "model(test_data_X[:,:-2,:]).numpy()"
   ]
  },
  {
   "cell_type": "code",
   "execution_count": 15,
   "id": "c6e2a3ef",
   "metadata": {},
   "outputs": [
    {
     "data": {
      "text/plain": [
       "array([[[ 0.75538796,  1.1061653 ,  0.77373016, -1.178857  ,\n",
       "          0.02578433, -1.4822106 ],\n",
       "        [ 1.2856139 ,  0.7056831 , -0.52613235, -1.7624543 ,\n",
       "          0.59682816, -0.29953855],\n",
       "        [ 0.8605141 ,  0.81086755, -0.35425633, -1.2770569 ,\n",
       "          1.1665915 , -1.2066599 ]]], dtype=float32)"
      ]
     },
     "execution_count": 15,
     "metadata": {},
     "output_type": "execute_result"
    }
   ],
   "source": [
    "##  Pass data through the model with the final three indices removed\n",
    "##  -  We now remove a non-masked index, so all values should change a bit\n",
    "\n",
    "model(test_data_X[:,:-3,:]).numpy()"
   ]
  },
  {
   "cell_type": "code",
   "execution_count": 16,
   "id": "c62ddf3e",
   "metadata": {},
   "outputs": [
    {
     "data": {
      "text/plain": [
       "array([[[ 0.75538796,  1.1061653 ,  0.77373016, -1.178857  ,\n",
       "          0.02578433, -1.4822106 ],\n",
       "        [ 1.2856139 ,  0.7056831 , -0.52613235, -1.7624543 ,\n",
       "          0.59682816, -0.29953855]]], dtype=float32)"
      ]
     },
     "execution_count": 16,
     "metadata": {},
     "output_type": "execute_result"
    }
   ],
   "source": [
    "##  Pass data through the model with the final four indices removed\n",
    "##  -  We removed another masked row, so output should be unchanged\n",
    "\n",
    "model(test_data_X[:,:-4,:]).numpy()"
   ]
  },
  {
   "cell_type": "code",
   "execution_count": 19,
   "id": "ebb407a0",
   "metadata": {},
   "outputs": [
    {
     "name": "stdout",
     "output_type": "stream",
     "text": [
      "WARNING:tensorflow:Compiled the loaded model, but the compiled metrics have yet to be built. `model.compile_metrics` will be empty until you train or evaluate the model.\n",
      "WARNING  Compiled the loaded model, but the compiled metrics have yet to be built. `model.compile_metrics` will be empty until you train or evaluate the model.\n",
      "WARNING:tensorflow:No training configuration found in the save file, so the model was *not* compiled. Compile it manually.\n",
      "WARNING  No training configuration found in the save file, so the model was *not* compiled. Compile it manually.\n"
     ]
    }
   ],
   "source": [
    "##  Save model\n",
    "\n",
    "tmp_model_fname = \"/tmp/test_model.h5\"\n",
    "model.save(tmp_model_fname)\n",
    "\n",
    "##  Load model using custom objects dict generated on-the-fly\n",
    "\n",
    "new_model = tf.keras.models.load_model(tmp_model_fname, \n",
    "            custom_objects=create_custom_objects_dict(PositionalEncoding, EncoderBlock))\n",
    "\n",
    "##  Show that loaded model reproduces the same values\n",
    "\n",
    "new_model(test_data_X[:,:-3,:]).numpy()\n",
    "\n",
    "##  Delete temporary model\n",
    "\n",
    "os.remove(tmp_model_fname)\n"
   ]
  },
  {
   "cell_type": "code",
   "execution_count": null,
   "id": "dc859e50",
   "metadata": {},
   "outputs": [],
   "source": []
  }
 ],
 "metadata": {
  "kernelspec": {
   "display_name": "Python 3 (ipykernel)",
   "language": "python",
   "name": "python3"
  },
  "language_info": {
   "codemirror_mode": {
    "name": "ipython",
    "version": 3
   },
   "file_extension": ".py",
   "mimetype": "text/x-python",
   "name": "python",
   "nbconvert_exporter": "python",
   "pygments_lexer": "ipython3",
   "version": "3.10.8"
  }
 },
 "nbformat": 4,
 "nbformat_minor": 5
}
