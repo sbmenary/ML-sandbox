{
 "cells": [
  {
   "cell_type": "code",
   "execution_count": 1,
   "id": "d851d74d",
   "metadata": {},
   "outputs": [],
   "source": [
    "##\n",
    "##  Required imports\n",
    "##\n",
    "\n",
    "import sys\n",
    "\n",
    "import numpy as np\n",
    "\n",
    "from matplotlib import pyplot as plt\n",
    "\n",
    "%matplotlib agg\n"
   ]
  },
  {
   "cell_type": "code",
   "execution_count": 2,
   "id": "54b963ef",
   "metadata": {},
   "outputs": [],
   "source": [
    "##\n",
    "##  Create simple plotting method to allocate and release memory for plot objects (figure, axis, patches etc)\n",
    "##\n",
    "\n",
    "def make_plot(np_image) :\n",
    "    '''\n",
    "    Create a matplotlib Figure with a single axis displaying the image provided. This allocates memory for\n",
    "    basic plot objects. Then we close this figure, which we expect to release the memory, before returning.\n",
    "    Inputs:\n",
    "       >  np_image, numpy array of shape (N,M)\n",
    "          image to plot\n",
    "    Returns:\n",
    "       >  None\n",
    "    '''\n",
    "    fig = plt.figure(figsize=(30,15))\n",
    "    ax  = fig.add_subplot(1, 1, 1)\n",
    "    im  = ax.imshow(np_image)\n",
    "    plt.close(fig)\n",
    "    return None\n"
   ]
  },
  {
   "cell_type": "code",
   "execution_count": 3,
   "id": "31d146be",
   "metadata": {},
   "outputs": [
    {
     "name": "stdout",
     "output_type": "stream",
     "text": [
      "Making plot number 5341"
     ]
    },
    {
     "name": "stderr",
     "output_type": "stream",
     "text": [
      "\n",
      "KeyboardInterrupt\n",
      "\n"
     ]
    }
   ],
   "source": [
    "##\n",
    "##  Create loop to indefinitely create and close new figures\n",
    "##\n",
    "\n",
    "image_pixel_width = 200\n",
    "\n",
    "fig_count = 0\n",
    "while True :\n",
    "    sys.stdout.write(f\"\\rMaking plot number {fig_count}\")\n",
    "    np_image = np.random.normal(size=(image_pixel_width, image_pixel_width))\n",
    "    make_plot(np_image)\n",
    "    fig_count += 1\n",
    "    "
   ]
  },
  {
   "cell_type": "code",
   "execution_count": null,
   "id": "c515999f",
   "metadata": {},
   "outputs": [],
   "source": []
  }
 ],
 "metadata": {
  "kernelspec": {
   "display_name": "Python 3 (ipykernel)",
   "language": "python",
   "name": "python3"
  },
  "language_info": {
   "codemirror_mode": {
    "name": "ipython",
    "version": 3
   },
   "file_extension": ".py",
   "mimetype": "text/x-python",
   "name": "python",
   "nbconvert_exporter": "python",
   "pygments_lexer": "ipython3",
   "version": "3.9.12"
  }
 },
 "nbformat": 4,
 "nbformat_minor": 5
}
