{
 "cells": [
  {
   "cell_type": "code",
   "execution_count": 29,
   "id": "1b499024",
   "metadata": {},
   "outputs": [],
   "source": [
    "import numpy as np"
   ]
  },
  {
   "cell_type": "code",
   "execution_count": 31,
   "id": "d870e36e",
   "metadata": {},
   "outputs": [
    {
     "name": "stdout",
     "output_type": "stream",
     "text": [
      "[[ 0.5252424   0.1989483   1.37664643]\n",
      " [ 0.70155201 -0.4034871  -1.0657902 ]\n",
      " [-2.03120117 -0.39198057 -0.86936468]\n",
      " [ 0.44195072 -0.04399233 -2.00131359]\n",
      " [ 0.30659661  1.00274479 -0.19205468]]\n",
      "[[ 0.5252424   0.1989483   1.37664643]\n",
      " [ 0.70155201 -0.4034871  -1.0657902 ]\n",
      " [-2.03120117 -0.39198057 -0.86936468]\n",
      " [ 0.44195072 -0.04399233 -2.00131359]\n",
      " [ 0.30659661  1.00274479 -0.19205468]]\n"
     ]
    }
   ],
   "source": [
    "\n",
    "m = 3\n",
    "n = 5\n",
    "\n",
    "A = np.random.normal(size=(n,m))\n",
    "\n",
    "print(A)\n",
    "\n",
    "set_m = np.eye(m)\n",
    "set_n = np.matmul(A, set_m)\n",
    "\n",
    "print(set_n)\n"
   ]
  },
  {
   "cell_type": "code",
   "execution_count": 35,
   "id": "0f0a1b10",
   "metadata": {},
   "outputs": [
    {
     "name": "stdout",
     "output_type": "stream",
     "text": [
      "n_0 . n_0  =  2.21\n",
      "n_1 . n_0  =  -1.18\n",
      "n_1 . n_1  =  1.79\n",
      "n_2 . n_0  =  -2.34\n",
      "n_2 . n_1  =  -0.34\n",
      "n_2 . n_2  =  5.04\n",
      "n_3 . n_0  =  -2.53\n",
      "n_3 . n_1  =  2.46\n",
      "n_3 . n_2  =  0.86\n",
      "n_3 . n_3  =  4.20\n",
      "n_4 . n_0  =  0.10\n",
      "n_4 . n_1  =  0.02\n",
      "n_4 . n_2  =  -0.85\n",
      "n_4 . n_3  =  0.48\n",
      "n_4 . n_4  =  1.14\n"
     ]
    }
   ],
   "source": [
    "for i in range(n) :\n",
    "    for j in range(i+1) :\n",
    "        print(f\"n_{i} . n_{j}  =  {np.dot(set_n[i], set_n[j]):.2f}\")"
   ]
  },
  {
   "cell_type": "code",
   "execution_count": 40,
   "id": "40f128de",
   "metadata": {},
   "outputs": [
    {
     "name": "stdout",
     "output_type": "stream",
     "text": [
      "v_0 . v_0  =  1.00\n",
      "v_1 . v_0  =  -0.00\n",
      "v_1 . v_1  =  1.00\n",
      "v_2 . v_0  =  -0.00\n",
      "v_2 . v_1  =  -0.00\n",
      "v_2 . v_2  =  1.00\n"
     ]
    }
   ],
   "source": [
    "\n",
    "M = np.matmul(A.transpose(), A)\n",
    "\n",
    "l, v = np.linalg.eig(M)\n",
    "u = np.matmul(A, v)\n",
    "\n",
    "for i in range(m) :\n",
    "    for j in range(i+1) :\n",
    "        print(f\"v_{i} . v_{j}  =  {np.dot(v[i], v[j]):.2f}\")\n",
    "        "
   ]
  },
  {
   "cell_type": "code",
   "execution_count": 41,
   "id": "178701a2",
   "metadata": {},
   "outputs": [
    {
     "name": "stdout",
     "output_type": "stream",
     "text": [
      "u_0 . u_0  =  8.25\n",
      "u_1 . u_0  =  0.00\n",
      "u_1 . u_1  =  5.05\n",
      "u_2 . u_0  =  -0.00\n",
      "u_2 . u_1  =  0.00\n",
      "u_2 . u_2  =  1.08\n"
     ]
    }
   ],
   "source": [
    "\n",
    "for i in range(m) :\n",
    "    for j in range(i+1) :\n",
    "        print(f\"u_{i} . u_{j}  =  {np.dot(u.transpose()[i], u.transpose()[j]):.2f}\")\n",
    "        "
   ]
  },
  {
   "cell_type": "code",
   "execution_count": null,
   "id": "46926c64",
   "metadata": {},
   "outputs": [],
   "source": []
  }
 ],
 "metadata": {
  "kernelspec": {
   "display_name": "Python 3 (ipykernel)",
   "language": "python",
   "name": "python3"
  },
  "language_info": {
   "codemirror_mode": {
    "name": "ipython",
    "version": 3
   },
   "file_extension": ".py",
   "mimetype": "text/x-python",
   "name": "python",
   "nbconvert_exporter": "python",
   "pygments_lexer": "ipython3",
   "version": "3.9.12"
  }
 },
 "nbformat": 4,
 "nbformat_minor": 5
}
