{
 "cells": [
  {
   "cell_type": "code",
   "execution_count": 1,
   "id": "7d098126",
   "metadata": {},
   "outputs": [
    {
     "name": "stderr",
     "output_type": "stream",
     "text": [
      "/Users/Ste/miniforge3/envs/tf-sandbox-py3p9/lib/python3.9/site-packages/jax/_src/lib/__init__.py:33: UserWarning: JAX on Mac ARM machines is experimental and minimally tested. Please see https://github.com/google/jax/issues/5501 in the event of problems.\n",
      "  warnings.warn(\"JAX on Mac ARM machines is experimental and minimally tested. \"\n"
     ]
    },
    {
     "name": "stdout",
     "output_type": "stream",
     "text": [
      "TensorFlow has found devices:\n",
      "-  PhysicalDevice(name='/physical_device:CPU:0', device_type='CPU')\n",
      "-  PhysicalDevice(name='/physical_device:GPU:0', device_type='GPU')\n"
     ]
    }
   ],
   "source": [
    "#  Required imports\n",
    "\n",
    "import math, os, sys, time\n",
    "\n",
    "import numpy as np\n",
    "\n",
    "from matplotlib import animation, pyplot as plt\n",
    "\n",
    "from scipy import stats\n",
    "\n",
    "from multiprocess import Process, Queue\n",
    "from threading import Lock, Thread\n",
    "\n",
    "import threading\n",
    "\n",
    "import tensorflow as tf\n",
    "from tensorflow import keras\n",
    "from tensorflow.keras.layers    import Conv2D, Concatenate, Dense, Dropout, Flatten, Input, MaxPooling2D, Rescaling\n",
    "from tensorflow.keras.models    import Model\n",
    "from tensorflow.keras.callbacks import EarlyStopping\n",
    "\n",
    "print(\"TensorFlow has found devices:\")\n",
    "for device in tf.config.list_physical_devices() :\n",
    "    print(f\"-  {device}\")\n",
    "    "
   ]
  },
  {
   "cell_type": "code",
   "execution_count": 11,
   "id": "d232a37a",
   "metadata": {
    "scrolled": true
   },
   "outputs": [],
   "source": [
    "\n",
    "input_layer  = Input(1)\n",
    "next_layer   = Dense(10, activation = \"relu\"  )(input_layer)\n",
    "next_layer   = Dense(20, activation = \"relu\"  )(next_layer)\n",
    "output_layer = Dense(1 , activation = \"linear\")(next_layer)\n",
    "\n",
    "model_1 = Model(input_layer, output_layer)\n",
    "model_1.compile(loss=\"mse\", optimizer=\"adam\")\n",
    "\n",
    "data_X = np.random.uniform(low=0, high=10, size=(10000,))\n",
    "data_Y = 10. + 10.*np.sin(data_X*2*np.pi/10.) + np.random.normal(size=(10000,))\n"
   ]
  },
  {
   "cell_type": "code",
   "execution_count": 13,
   "id": "81cfa05b",
   "metadata": {},
   "outputs": [
    {
     "name": "stdout",
     "output_type": "stream",
     "text": [
      "313/313 [==============================] - 1s 2ms/step - loss: 139.6276\n",
      "139.6276397705078\n",
      "313/313 [==============================] - 1s 2ms/step - loss: 139.6276\n",
      "139.6276397705078\n",
      "Epoch 1/10\n",
      "313/313 [==============================] - 1s 4ms/step - loss: 110.5249\n",
      "Epoch 2/10\n",
      "313/313 [==============================] - 1s 4ms/step - loss: 64.2464\n",
      "Epoch 3/10\n",
      "313/313 [==============================] - 1s 4ms/step - loss: 17.0681\n",
      "Epoch 4/10\n",
      "313/313 [==============================] - 1s 4ms/step - loss: 12.2474\n",
      "Epoch 5/10\n",
      "313/313 [==============================] - 1s 4ms/step - loss: 9.7887\n",
      "Epoch 6/10\n",
      "313/313 [==============================] - 1s 4ms/step - loss: 7.5023\n",
      "Epoch 7/10\n",
      "313/313 [==============================] - 1s 4ms/step - loss: 6.8146\n",
      "Epoch 8/10\n",
      "313/313 [==============================] - 1s 4ms/step - loss: 6.1253\n",
      "Epoch 9/10\n",
      "313/313 [==============================] - 1s 4ms/step - loss: 5.5389\n",
      "Epoch 10/10\n",
      "313/313 [==============================] - 1s 4ms/step - loss: 5.0035\n",
      "313/313 [==============================] - 1s 2ms/step - loss: 139.6276\n",
      "139.6276397705078\n",
      "313/313 [==============================] - 1s 2ms/step - loss: 4.7328\n",
      "4.732831954956055\n"
     ]
    }
   ],
   "source": [
    "model_2 = tf.keras.models.clone_model(model_1)\n",
    "model_2.compile(loss=\"mse\", optimizer=\"adam\")\n",
    "model_2.set_weights(model_1.get_weights()) \n",
    "\n",
    "print(model_1.evaluate(data_X, data_Y))\n",
    "print(model_2.evaluate(data_X, data_Y))\n",
    "\n",
    "model_2.fit(data_X, data_Y, epochs=10)\n",
    "\n",
    "print(model_1.evaluate(data_X, data_Y))\n",
    "print(model_2.evaluate(data_X, data_Y))"
   ]
  },
  {
   "cell_type": "code",
   "execution_count": null,
   "id": "f3ee0807",
   "metadata": {},
   "outputs": [],
   "source": []
  }
 ],
 "metadata": {
  "kernelspec": {
   "display_name": "Python 3 (ipykernel)",
   "language": "python",
   "name": "python3"
  },
  "language_info": {
   "codemirror_mode": {
    "name": "ipython",
    "version": 3
   },
   "file_extension": ".py",
   "mimetype": "text/x-python",
   "name": "python",
   "nbconvert_exporter": "python",
   "pygments_lexer": "ipython3",
   "version": "3.9.12"
  }
 },
 "nbformat": 4,
 "nbformat_minor": 5
}
