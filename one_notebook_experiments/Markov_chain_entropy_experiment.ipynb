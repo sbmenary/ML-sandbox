{
 "cells": [
  {
   "cell_type": "code",
   "execution_count": 1,
   "id": "06110d1d",
   "metadata": {},
   "outputs": [],
   "source": [
    "##  Required imports\n",
    "##\n",
    "\n",
    "import sys\n",
    "\n",
    "import numpy as np\n",
    "from matplotlib import pyplot as plt\n"
   ]
  },
  {
   "cell_type": "code",
   "execution_count": 14,
   "id": "5c8104b3",
   "metadata": {},
   "outputs": [],
   "source": [
    "##  Global config \n",
    "##\n",
    "\n",
    "num_nodes = 100\n",
    "\n",
    "node_min_weight = 1\n",
    "node_max_weight = 20\n"
   ]
  },
  {
   "cell_type": "code",
   "execution_count": 15,
   "id": "436626be",
   "metadata": {},
   "outputs": [],
   "source": [
    "##  Define worker methods\n",
    "##\n",
    "\n",
    "def create_new_prob_vector() :\n",
    "    '''\n",
    "    Create a new vector of probabilities. Generate by assigning weights between node_min_weight and\n",
    "    node_max_weight to every bin, then normalise. Note that this typically leads to balanced probabilities\n",
    "    with few very-small elements and no large elements.\n",
    "    Inputs:\n",
    "        None\n",
    "    Returns:\n",
    "        > np.ndarray of length (num_nodes,)\n",
    "          vector of probabilities\n",
    "    '''\n",
    "    random_vector = np.random.uniform(size=(num_nodes,), low=node_min_weight, high=node_max_weight)\n",
    "    random_vector = np.fabs(random_vector)\n",
    "    random_vector /= np.sum(random_vector)\n",
    "    return random_vector\n",
    "\n",
    "def get_entropy_of_prob_vector(prob_vector) :\n",
    "    '''\n",
    "    Get the entropy of the probability distribution provided\n",
    "    Inputs:\n",
    "        > np.ndarray of length (num_nodes,)\n",
    "          vector of probabilities\n",
    "    Returns:\n",
    "        > float, >=0\n",
    "          entropy associated with this probability distribution\n",
    "    '''\n",
    "    elementwise_entropy = - prob_vector * np.log(prob_vector)\n",
    "    return np.sum(elementwise_entropy)\n"
   ]
  },
  {
   "cell_type": "code",
   "execution_count": 47,
   "id": "e5e67218",
   "metadata": {},
   "outputs": [
    {
     "name": "stdout",
     "output_type": "stream",
     "text": [
      "[[7.29246837e-01 4.76190476e-04 4.76190476e-04 ... 4.76190476e-04\n",
      "  4.76190476e-04 4.76190476e-04]\n",
      " [2.24086496e-01 2.67556460e-01 4.76190476e-04 ... 4.76190476e-04\n",
      "  4.76190476e-04 4.76190476e-04]\n",
      " [4.76190476e-04 6.85776874e-01 3.71566834e-01 ... 4.76190476e-04\n",
      "  4.76190476e-04 4.76190476e-04]\n",
      " ...\n",
      " [4.76190476e-04 4.76190476e-04 4.76190476e-04 ... 6.94232496e-01\n",
      "  3.84163597e-01 4.76190476e-04]\n",
      " [4.76190476e-04 4.76190476e-04 4.76190476e-04 ... 4.76190476e-04\n",
      "  5.69169736e-01 1.91721343e-01]\n",
      " [4.76190476e-04 4.76190476e-04 4.76190476e-04 ... 4.76190476e-04\n",
      "  4.76190476e-04 7.61611990e-01]]\n"
     ]
    }
   ],
   "source": [
    "##  Set up random transition matrix\n",
    "##  - must be normalised along columns\n",
    "##\n",
    "\n",
    "transition_matrix = np.zeros(shape=(num_nodes, num_nodes))\n",
    "\n",
    "for source_node_idx in range(num_nodes) :\n",
    "    #transition_matrix[source_node_idx] = create_new_prob_vector()\n",
    "    transitions = np.zeros(shape=(num_nodes,))\n",
    "    a = np.random.uniform(low=0.2, high=0.8)\n",
    "    transitions[source_node_idx] = a\n",
    "    if   source_node_idx == 0.5*num_nodes : transitions[source_node_idx] = 1\n",
    "    elif source_node_idx > 0.5*num_nodes  : transitions[source_node_idx-1] = 1 - a\n",
    "    else : transitions[source_node_idx+1] = 1 - a\n",
    "    transitions = transitions + 0.05 / num_nodes\n",
    "    transitions = transitions / np.sum(transitions)\n",
    "    transition_matrix[source_node_idx] = transitions\n",
    "    \n",
    "transition_matrix = transition_matrix.transpose()\n",
    "    \n",
    "print(transition_matrix)\n"
   ]
  },
  {
   "cell_type": "code",
   "execution_count": 48,
   "id": "0ae57173",
   "metadata": {},
   "outputs": [
    {
     "name": "stdout",
     "output_type": "stream",
     "text": [
      "Randomly generating 10 probability vectors and transforming them 10 times. Each time print the new lengths. If transition matrix correctly instantiated then expect to see 10 copies of 1.0:\n",
      "   1.0   1.0   1.0   1.0   1.0   1.0   1.0   1.0   1.0   1.0"
     ]
    }
   ],
   "source": [
    "##  Check that matrix is set up correctly\n",
    "##\n",
    "\n",
    "sys.stdout.write(\"Randomly generating 10 probability vectors and transforming them 10 times. Each time \\\n",
    "print the new lengths. If transition matrix correctly instantiated then expect to see 10 copies of 1.0:\\n\")\n",
    "\n",
    "for check_idx in range(10) :\n",
    "    \n",
    "    transformed_vector = create_new_prob_vector()\n",
    "    for itr_idx in range(10) :\n",
    "        transformed_vector = np.matmul(transition_matrix, transformed_vector)\n",
    "\n",
    "    sys.stdout.write(f\"   {transformed_vector.sum():.8}\")\n",
    "    "
   ]
  },
  {
   "cell_type": "code",
   "execution_count": 49,
   "id": "3dd13f5b",
   "metadata": {},
   "outputs": [],
   "source": [
    "##\n",
    "##\n",
    "\n",
    "prob_distribution  = create_new_prob_vector()\n",
    "entropies          = [get_entropy_of_prob_vector(prob_distribution)]\n",
    "prob_distributions = [prob_distribution.copy()]\n",
    "\n",
    "d_entropy = np.inf\n",
    "\n",
    "while d_entropy > 1e-6 :\n",
    "    prob_distribution = np.matmul(transition_matrix, prob_distribution)\n",
    "    entropies.append(get_entropy_of_prob_vector(prob_distribution))\n",
    "    prob_distributions.append(prob_distribution.copy())\n",
    "    d_entropy = np.fabs(entropies[-1] - entropies[-2])\n",
    "    "
   ]
  },
  {
   "cell_type": "code",
   "execution_count": 50,
   "id": "6f03e0d3",
   "metadata": {},
   "outputs": [
    {
     "data": {
      "text/plain": [
       "[<matplotlib.lines.Line2D at 0x1066cbc70>]"
      ]
     },
     "execution_count": 50,
     "metadata": {},
     "output_type": "execute_result"
    },
    {
     "data": {
      "image/png": "[encoded data removed]",
      "text/plain": [
       "<Figure size 432x288 with 1 Axes>"
      ]
     },
     "metadata": {
      "needs_background": "light"
     },
     "output_type": "display_data"
    }
   ],
   "source": [
    "plt.plot(entropies)"
   ]
  },
  {
   "cell_type": "code",
   "execution_count": 51,
   "id": "4276713e",
   "metadata": {},
   "outputs": [
    {
     "data": {
      "text/plain": [
       "[<matplotlib.lines.Line2D at 0x106744490>]"
      ]
     },
     "execution_count": 51,
     "metadata": {},
     "output_type": "execute_result"
    },
    {
     "data": {
      "image/png": "[encoded data removed]",
      "text/plain": [
       "<Figure size 432x288 with 1 Axes>"
      ]
     },
     "metadata": {
      "needs_background": "light"
     },
     "output_type": "display_data"
    }
   ],
   "source": [
    "plt.plot(prob_distributions[0], color=\"blue\")\n",
    "plt.plot(prob_distributions[-1], color=\"red\")"
   ]
  },
  {
   "cell_type": "markdown",
   "id": "e9d7392d",
   "metadata": {},
   "source": [
    "**Therefore the entropy of a Markov chain does not always increase!**"
   ]
  },
  {
   "cell_type": "code",
   "execution_count": null,
   "id": "e205be57",
   "metadata": {},
   "outputs": [],
   "source": []
  }
 ],
 "metadata": {
  "kernelspec": {
   "display_name": "Python 3 (ipykernel)",
   "language": "python",
   "name": "python3"
  },
  "language_info": {
   "codemirror_mode": {
    "name": "ipython",
    "version": 3
   },
   "file_extension": ".py",
   "mimetype": "text/x-python",
   "name": "python",
   "nbconvert_exporter": "python",
   "pygments_lexer": "ipython3",
   "version": "3.9.12"
  }
 },
 "nbformat": 4,
 "nbformat_minor": 5
}
