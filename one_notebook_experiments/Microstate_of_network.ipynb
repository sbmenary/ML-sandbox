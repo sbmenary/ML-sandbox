{
 "cells": [
  {
   "cell_type": "code",
   "execution_count": 12,
   "id": "869fa592",
   "metadata": {},
   "outputs": [],
   "source": [
    "##  \n",
    "##\n",
    "\n",
    "import numpy as np\n"
   ]
  },
  {
   "cell_type": "code",
   "execution_count": 13,
   "id": "c9d75240",
   "metadata": {},
   "outputs": [],
   "source": [
    "##  \n",
    "##\n",
    "\n",
    "global_config = dict(\n",
    "    \n",
    "    num_particles       = 100,\n",
    "    num_particle_states = 10\n",
    "    \n",
    ")\n"
   ]
  },
  {
   "cell_type": "code",
   "execution_count": 14,
   "id": "d28a675b",
   "metadata": {},
   "outputs": [],
   "source": [
    "##  \n",
    "##\n",
    "\n",
    "def create_random_microstate(**kwargs) :\n",
    "    '''\n",
    "    '''\n",
    "    num_particles       = resolve_config_with_global_fallback(kwargs, \"num_particles\"      , enforce_exists=True)\n",
    "    num_particle_states = resolve_config_with_global_fallback(kwargs, \"num_particle_states\", enforce_exists=True)\n",
    "    print(num_particle_states, num_particles)\n",
    "    return np.random.choice(num_particle_states, size=(num_particles,))\n",
    "\n",
    "def \n",
    "\n",
    "def resolve_config_with_global_fallback(kwargs, keyword, dflt_val=None, enforce_exists=False) :\n",
    "    '''\n",
    "    '''\n",
    "    global global_config\n",
    "    if enforce_exists and not (keyword in kwargs or keyword in global_config) :\n",
    "        raise KeyError(f\"keyword {keyword} does not exist in named argument list or global config \\\n",
    "                         (use enforce_exists=False to disable this check)\")\n",
    "    return kwargs.get(keyword, global_config.get(keyword, dflt_val))\n"
   ]
  },
  {
   "cell_type": "code",
   "execution_count": 15,
   "id": "7d8ac735",
   "metadata": {},
   "outputs": [
    {
     "name": "stdout",
     "output_type": "stream",
     "text": [
      "10 100\n"
     ]
    },
    {
     "data": {
      "text/plain": [
       "array([5, 0, 2, 7, 4, 2, 4, 6, 2, 0, 4, 1, 1, 1, 0, 1, 6, 4, 2, 3, 8, 3,\n",
       "       7, 1, 4, 8, 7, 6, 3, 1, 9, 0, 9, 8, 8, 6, 5, 2, 1, 4, 4, 0, 7, 1,\n",
       "       2, 4, 6, 0, 2, 9, 6, 6, 2, 7, 5, 0, 0, 6, 9, 7, 9, 4, 0, 5, 0, 0,\n",
       "       6, 5, 5, 2, 0, 1, 3, 2, 1, 7, 6, 8, 7, 8, 9, 9, 7, 0, 9, 5, 8, 8,\n",
       "       5, 7, 4, 4, 7, 4, 7, 0, 2, 6, 2, 3])"
      ]
     },
     "execution_count": 15,
     "metadata": {},
     "output_type": "execute_result"
    }
   ],
   "source": []
  },
  {
   "cell_type": "code",
   "execution_count": null,
   "id": "abedba85",
   "metadata": {},
   "outputs": [],
   "source": []
  }
 ],
 "metadata": {
  "kernelspec": {
   "display_name": "Python 3 (ipykernel)",
   "language": "python",
   "name": "python3"
  },
  "language_info": {
   "codemirror_mode": {
    "name": "ipython",
    "version": 3
   },
   "file_extension": ".py",
   "mimetype": "text/x-python",
   "name": "python",
   "nbconvert_exporter": "python",
   "pygments_lexer": "ipython3",
   "version": "3.9.12"
  }
 },
 "nbformat": 4,
 "nbformat_minor": 5
}
